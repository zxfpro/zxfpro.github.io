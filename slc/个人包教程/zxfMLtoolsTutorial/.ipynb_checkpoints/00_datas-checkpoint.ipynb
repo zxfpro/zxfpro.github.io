{
 "cells": [
  {
   "cell_type": "code",
   "execution_count": null,
   "id": "3c4f5f42-c596-4fd6-a79d-8d4c4ce1abe3",
   "metadata": {},
   "outputs": [],
   "source": [
    "# 如何使用 datas"
   ]
  },
  {
   "cell_type": "code",
   "execution_count": 2,
   "id": "5bb0a0a5-c688-4287-8404-72972c115cef",
   "metadata": {
    "collapsed": true,
    "jupyter": {
     "outputs_hidden": true
    },
    "tags": []
   },
   "outputs": [
    {
     "name": "stdout",
     "output_type": "stream",
     "text": [
      "\n",
      "我要做一个Dataset 类 来解决模型训练的数据集的管理问题 帮我列一个功能文档\n",
      "\n",
      "\n",
      "\n",
      "功能文档：Dataset 类\n",
      "\n",
      "1. 初始化函数：\n",
      "   - 接受数据集的路径作为参数，加载数据集并进行预处理。\n",
      "   - 可选参数：batch_size（批量大小），shuffle（是否打乱数据集顺序）。\n",
      "\n",
      "2. 数据集管理：\n",
      "   - 获取数据集大小：返回数据集中样本的数量。\n",
      "   - 获取批量数据：返回一个批量的数据样本和对应的标签。\n",
      "   - 打乱数据集顺序：将数据集中的样本顺序打乱。\n",
      "\n",
      "3. 数据预处理：\n",
      "   - 数据标准化：对数据进行标准化处理，使其均值为0，方差为1。\n",
      "   - 数据归一化：对数据进行归一化处理，将数据缩放到0和1之间。\n",
      "   - 数据增强：对数据进行增强处理，如随机裁剪、旋转、翻转等操作。\n",
      "\n",
      "4. 数据集划分：\n",
      "   - 划分训练集和测试集：将数据集划分为训练集和测试集，可以指定划分比例。\n",
      "   - 划分验证集：将训练集划分为训练集和验证集，可以指定划分比例。\n",
      "\n",
      "5. 数据集迭代：\n",
      "   - 迭代整个数据集：按照指定的批量大小，逐批次迭代整个数据集。\n",
      "   - 迭代训练集：按照指定的批量大小，逐批次迭代训练集。\n",
      "   - 迭代测试集：按照指定的批量大小，逐批次迭代测试集。\n",
      "\n",
      "6. 数据集可视化：\n",
      "   - 可视化数据样本：随机选择一些样本进行可视化展示。\n",
      "\n",
      "7. 数据集保存和加载：\n",
      "   - 保存数据集：将数据集保存到指定路径。\n",
      "   - 加载数据集：从指定路径加载数据集。\n",
      "\n",
      "8. 数据集信息：\n",
      "   - 显示数据集信息：显示数据集的基本信息，如数据维度、标签类别等。\n",
      "\n",
      "9. 数据集扩展：\n",
      "   - 支持多种数据格式：支持加载和保存多种数据格式，如CSV、JSON、HDF5等。\n",
      "   - 支持多种数据类型：支持加载和处理多种数据类型，如图像、文本、数值等。\n",
      "\n",
      "10. 异常处理：\n",
      "    - 处理数据加载异常：处理数据加载过程中可能出现的异常情况，如文件不存在、格式错误等。\n",
      "\n",
      "以上是一个基本的功能文档，你可以根据自己的需求进行修改和扩展。\n"
     ]
    }
   ],
   "source": [
    "%%aigen -a 我要做一个Dataset 类 来解决模型训练的数据集的管理问题 帮我列一个功能文档\n",
    "pass"
   ]
  },
  {
   "cell_type": "code",
   "execution_count": 4,
   "id": "bc68ede3-339c-47de-a03a-68cfc02bf95b",
   "metadata": {
    "collapsed": true,
    "jupyter": {
     "outputs_hidden": true
    },
    "tags": []
   },
   "outputs": [
    {
     "name": "stdout",
     "output_type": "stream",
     "text": [
      "\n",
      "我打算用半天时间来完成这个类,帮我制定一个计划和合理的时间表\n",
      "\n",
      "\n",
      "\n",
      "当然可以帮你制定一个计划和时间表来完成这个类。以下是一个可能的计划和时间表：\n",
      "\n",
      "时间表：\n",
      "上午：\n",
      "9:00 - 9:30：阅读类的要求和说明，确保对任务有清晰的理解。\n",
      "9:30 - 10:00：收集所需的资料和资源，例如教材、参考书籍、在线资源等。\n",
      "10:00 - 11:00：进行初步的研究和学习，了解类的主题和相关概念。\n",
      "11:00 - 11:30：整理所收集的资料和笔记，准备开始编写代码。\n",
      "\n",
      "下午：\n",
      "1:00 - 2:00：开始编写代码，根据类的要求和说明，逐步实现所需的功能。\n",
      "2:00 - 3:00：进行代码测试和调试，确保代码的正确性和稳定性。\n",
      "3:00 - 4:00：进行代码优化和重构，提高代码的可读性和可维护性。\n",
      "4:00 - 4:30：编写文档，包括类的说明、使用方法等。\n",
      "4:30 - 5:00：进行最后的测试和调整，确保代码的完整性和正确性。\n",
      "\n",
      "计划：\n",
      "根据以上时间表，你可以制定以下计划：\n",
      "上午：\n",
      "- 9:00 - 9:30：阅读类的要求和说明\n",
      "- 9:30 - 10:00：收集资料和资源\n",
      "- 10:00 - 11:00：进行初步的研究和学习\n",
      "- 11:00 - 11:30：整理资料和笔记\n",
      "\n",
      "下午：\n",
      "- 1:00 - 2:00：编写代码\n",
      "- 2:00 - 3:00：进行代码测试和调试\n",
      "- 3:00 - 4:00：进行代码优化和重构\n",
      "- 4:00 - 4:30：编写文档\n",
      "- 4:30 - 5:00：进行最后的测试和调整\n",
      "\n",
      "请注意，以上计划和时间表仅供参考，你可以根据自己的实际情况和进度进行调整。同时，合理安排时间和注意时间管理也是完成任务的关键。祝你顺利完成这个类！\n"
     ]
    }
   ],
   "source": [
    "%%aigen -a 我打算用半天时间来完成这个类,帮我制定一个计划和合理的时间表\n",
    "\n",
    "功能文档：Dataset 类\n",
    "1. 初始化函数：\n",
    "   - 接受数据集的路径作为参数，加载数据集并进行预处理。\n",
    "   - 可选参数：batch_size（批量大小），shuffle（是否打乱数据集顺序）。\n",
    "\n",
    "2. 数据集管理：\n",
    "   - 获取数据集大小：返回数据集中样本的数量。\n",
    "   - 获取批量数据：返回一个批量的数据样本和对应的标签。\n",
    "   - 打乱数据集顺序：将数据集中的样本顺序打乱。\n",
    "\n",
    "3. 数据预处理：\n",
    "   - 数据标准化：对数据进行标准化处理，使其均值为0，方差为1。\n",
    "   - 数据归一化：对数据进行归一化处理，将数据缩放到0和1之间。\n",
    "   - 数据增强：对数据进行增强处理，如随机裁剪、旋转、翻转等操作。\n",
    "\n",
    "4. 数据集划分：\n",
    "   - 划分训练集和测试集：将数据集划分为训练集和测试集，可以指定划分比例。\n",
    "   - 划分验证集：将训练集划分为训练集和验证集，可以指定划分比例。\n",
    "\n",
    "5. 数据集迭代：\n",
    "   - 迭代整个数据集：按照指定的批量大小，逐批次迭代整个数据集。\n",
    "   - 迭代训练集：按照指定的批量大小，逐批次迭代训练集。\n",
    "   - 迭代测试集：按照指定的批量大小，逐批次迭代测试集。\n",
    "\n",
    "6. 数据集可视化：\n",
    "   - 可视化数据样本：随机选择一些样本进行可视化展示。\n",
    "\n",
    "7. 数据集保存和加载：\n",
    "   - 保存数据集：将数据集保存到指定路径。\n",
    "   - 加载数据集：从指定路径加载数据集。\n",
    "\n",
    "8. 数据集信息：\n",
    "   - 显示数据集信息：显示数据集的基本信息，如数据维度、标签类别等。\n",
    "\n",
    "9. 数据集扩展：\n",
    "   - 支持多种数据格式：支持加载和保存多种数据格式，如CSV、JSON、HDF5等。\n",
    "   - 支持多种数据类型：支持加载和处理多种数据类型，如图像、文本、数值等。\n",
    "\n",
    "10. 异常处理：\n",
    "    - 处理数据加载异常：处理数据加载过程中可能出现的异常情况，如文件不存在、格式错误等。\n",
    "\n",
    "<PROMPT_END>"
   ]
  },
  {
   "cell_type": "code",
   "execution_count": null,
   "id": "654f034a-24dd-498d-aefd-f0d51ae82251",
   "metadata": {},
   "outputs": [],
   "source": [
    "1:00 - 2:00：开始编写代码，根据类的要求和说明，逐步实现所需的功能。\n",
    "2:00 - 3:00：进行代码测试和调试，确保代码的正确性和稳定性。编写文档，包括类的说明、使用方法等。进行最后的测试和调整，确保代码的完整性和正确性。\n",
    "下午：\n",
    "- 1:00 - 2:00：编写代码\n",
    "- 2:00 - 3:00：进行代码测试和调试 进行代码优化和 重构编写文档 进行最后的测试和调整\n"
   ]
  },
  {
   "cell_type": "code",
   "execution_count": null,
   "id": "f94a72fa-7ecc-426b-b432-062c15db69c4",
   "metadata": {},
   "outputs": [],
   "source": []
  },
  {
   "cell_type": "code",
   "execution_count": 19,
   "id": "d21e9d16-7bea-4cbf-b7d8-7af3bd5c0bdf",
   "metadata": {
    "tags": []
   },
   "outputs": [],
   "source": [
    "from zxfMLtools_dev.dataset import DatasetManager"
   ]
  },
  {
   "cell_type": "code",
   "execution_count": 22,
   "id": "9943a064-359e-4318-94a1-9e204e6ab48c",
   "metadata": {
    "tags": []
   },
   "outputs": [],
   "source": [
    "from zxfMLtools_dev.dataset import DatasetType"
   ]
  },
  {
   "cell_type": "code",
   "execution_count": 20,
   "id": "fa6a9932-290e-4cdf-83da-3fcb5e0d750b",
   "metadata": {
    "tags": []
   },
   "outputs": [],
   "source": [
    "dataset = DatasetManager()"
   ]
  },
  {
   "cell_type": "code",
   "execution_count": 25,
   "id": "131975b3-838e-448e-9532-7a320bc5253a",
   "metadata": {
    "tags": []
   },
   "outputs": [],
   "source": [
    "datas1 = dataset.get_dataset(DatasetType.PolyAI_minds14,name=\"en-US\",split=\"train\")"
   ]
  },
  {
   "cell_type": "code",
   "execution_count": 32,
   "id": "fef513c7-5bae-43ce-bee8-012aa135b676",
   "metadata": {
    "tags": []
   },
   "outputs": [],
   "source": [
    "dataloader1 = dataset.get_dataloader(DatasetType.PolyAI_minds14,name=\"en-US\",split=\"train\",batch_size=1)"
   ]
  },
  {
   "cell_type": "code",
   "execution_count": 33,
   "id": "37c09f3f-ec6b-4fe9-8e5a-9e80afdca88e",
   "metadata": {
    "tags": []
   },
   "outputs": [
    {
     "name": "stdout",
     "output_type": "stream",
     "text": [
      "{'path': ['/Users/zhaoxuefeng/.cache/huggingface/datasets/downloads/extracted/ae87726951fa8f80bfd9147f822178e69e14874db36b6f858acab506791d2fb0/en-US~FREEZE/602ba7a1963e11ccd901ccfa.wav'], 'audio': {'path': ['/Users/zhaoxuefeng/.cache/huggingface/datasets/downloads/extracted/ae87726951fa8f80bfd9147f822178e69e14874db36b6f858acab506791d2fb0/en-US~FREEZE/602ba7a1963e11ccd901ccfa.wav'], 'array': tensor([[ 0.0000,  0.0000,  0.0000,  ...,  0.0000, -0.0002,  0.0000]],\n",
      "       dtype=torch.float64), 'sampling_rate': tensor([8000])}, 'transcription': [\"hi I've lost my bank card and please stop all transactions I don't want anybody using my card for anything I don't know where it is can you do this for me thank you\"], 'english_transcription': [\"hi I've lost my bank card and please stop all transactions I don't want anybody using my card for anything I don't know where it is can you do this for me thank you\"], 'intent_class': tensor([9]), 'lang_id': tensor([4])}\n"
     ]
    }
   ],
   "source": [
    "for i in dataloader1:\n",
    "    print(i)\n",
    "    break"
   ]
  },
  {
   "cell_type": "code",
   "execution_count": null,
   "id": "32ffc372-7ca6-466f-a573-15e81cd2b358",
   "metadata": {},
   "outputs": [],
   "source": []
  },
  {
   "cell_type": "code",
   "execution_count": null,
   "id": "71a2ff45-7ed9-42cd-8cf2-48ac7b1df65f",
   "metadata": {},
   "outputs": [],
   "source": []
  },
  {
   "cell_type": "code",
   "execution_count": null,
   "id": "935fc202-83d4-4f1d-95b4-f446bcb85407",
   "metadata": {},
   "outputs": [],
   "source": []
  },
  {
   "cell_type": "code",
   "execution_count": null,
   "id": "15a142af-3382-427b-8b42-751bdb81bbf7",
   "metadata": {},
   "outputs": [],
   "source": []
  },
  {
   "cell_type": "code",
   "execution_count": null,
   "id": "4ea3574b-eb7a-4445-9891-ad57222cb252",
   "metadata": {},
   "outputs": [],
   "source": []
  },
  {
   "cell_type": "code",
   "execution_count": null,
   "id": "56cab216-529c-4680-92b7-e365c6a012e4",
   "metadata": {},
   "outputs": [],
   "source": []
  },
  {
   "cell_type": "code",
   "execution_count": null,
   "id": "dfa820da-d358-4a8d-84bb-17dbfe0ad00a",
   "metadata": {},
   "outputs": [],
   "source": []
  },
  {
   "cell_type": "code",
   "execution_count": null,
   "id": "3283632b-cd32-4459-a831-ec98ba365b30",
   "metadata": {},
   "outputs": [],
   "source": []
  },
  {
   "cell_type": "code",
   "execution_count": null,
   "id": "0548ebe5-de8b-4b43-82ed-8c34eda93d59",
   "metadata": {},
   "outputs": [],
   "source": []
  },
  {
   "cell_type": "code",
   "execution_count": null,
   "id": "6d1ba575-3961-449f-8fb4-398f7ea1cd75",
   "metadata": {},
   "outputs": [],
   "source": []
  },
  {
   "cell_type": "code",
   "execution_count": null,
   "id": "fca5b60e-907a-4994-a846-db3bd39c6377",
   "metadata": {},
   "outputs": [],
   "source": []
  },
  {
   "cell_type": "code",
   "execution_count": null,
   "id": "cdc3c233-7548-431a-9dbd-60bdb42680b9",
   "metadata": {},
   "outputs": [],
   "source": []
  },
  {
   "cell_type": "code",
   "execution_count": null,
   "id": "2dd24a06-db8d-4b0b-a175-e1329b71b185",
   "metadata": {},
   "outputs": [],
   "source": []
  }
 ],
 "metadata": {
  "kernelspec": {
   "display_name": "Python 3 (ipykernel)",
   "language": "python",
   "name": "python3"
  },
  "language_info": {
   "codemirror_mode": {
    "name": "ipython",
    "version": 3
   },
   "file_extension": ".py",
   "mimetype": "text/x-python",
   "name": "python",
   "nbconvert_exporter": "python",
   "pygments_lexer": "ipython3",
   "version": "3.10.14"
  }
 },
 "nbformat": 4,
 "nbformat_minor": 5
}
