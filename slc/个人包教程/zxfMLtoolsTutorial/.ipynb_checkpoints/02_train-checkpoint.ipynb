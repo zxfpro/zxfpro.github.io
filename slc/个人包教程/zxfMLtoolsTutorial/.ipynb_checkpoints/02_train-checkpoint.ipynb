{
 "cells": [
  {
   "cell_type": "code",
   "execution_count": null,
   "id": "b5c693c5-5a52-44b0-a723-5d4d3c58c5c4",
   "metadata": {},
   "outputs": [],
   "source": [
    "# 导入环境"
   ]
  },
  {
   "cell_type": "code",
   "execution_count": 2,
   "id": "3a0111ca-5cd1-4a3c-a329-c5404c786dc9",
   "metadata": {
    "tags": []
   },
   "outputs": [],
   "source": [
    "import peft\n",
    "import transformers\n",
    "import accelerate\n",
    "\n",
    "from transformers import AutoImageProcessor\n",
    "from transformers import AutoModelForImageClassification, TrainingArguments, Trainer\n",
    "from peft import LoraConfig, get_peft_model\n",
    "from peft import get_peft_config, get_peft_model, LoraConfig, TaskType\n",
    "from peft import (\n",
    "    get_peft_model_state_dict,\n",
    "    prepare_model_for_int8_training,\n",
    "    set_peft_model_state_dict,\n",
    ")\n",
    "# 导入必要的软件包\n",
    "import torch\n",
    "from transformers import AutoModelForCausalLM, AutoTokenizer, LoRAConfig, LoRA\n",
    "from peft import LoRA\n",
    "from accelerate import Accelerator\n",
    "from datasets import load_dataset\n",
    "from tqdm import tqdm\n",
    "\n",
    "\n",
    "from peft import get_peft_config, get_peft_model, LoraConfig, TaskType\n",
    "from peft import (\n",
    "    get_peft_model_state_dict,\n",
    "    prepare_model_for_int8_training,\n",
    "    set_peft_model_state_dict,\n",
    ")"
   ]
  },
  {
   "cell_type": "code",
   "execution_count": 1,
   "id": "750b42b6-5bcf-40a6-9d3f-80860e30b9be",
   "metadata": {
    "tags": []
   },
   "outputs": [],
   "source": [
    "# 搞到模型 模型和预处理器"
   ]
  },
  {
   "cell_type": "code",
   "execution_count": null,
   "id": "8a7bc9b5-7cfa-454f-8faf-28934c1219ea",
   "metadata": {},
   "outputs": [],
   "source": [
    "model_checkpoint = \"google/vit-base-patch16-224-in21k\"\n",
    "image_processor = AutoImageProcessor.from_pretrained(model_checkpoint)\n"
   ]
  },
  {
   "cell_type": "code",
   "execution_count": 9,
   "id": "9a693ba0-6d28-438e-b8bb-6ed1f38016c9",
   "metadata": {
    "id": "lXFvkCVMAoz7"
   },
   "outputs": [],
   "source": [
    "from torchvision.transforms import (\n",
    "    CenterCrop,\n",
    "    Compose,\n",
    "    Normalize,\n",
    "    RandomHorizontalFlip,\n",
    "    RandomResizedCrop,\n",
    "    Resize,\n",
    "    ToTensor,\n",
    ")\n",
    "\n",
    "normalize = Normalize(mean=image_processor.image_mean, std=image_processor.image_std)\n",
    "train_transforms = Compose(\n",
    "    [\n",
    "        RandomResizedCrop(image_processor.size[\"height\"]),\n",
    "        RandomHorizontalFlip(),\n",
    "        ToTensor(),\n",
    "        normalize,\n",
    "    ]\n",
    ")\n",
    "\n",
    "val_transforms = Compose(\n",
    "    [\n",
    "        Resize(image_processor.size[\"height\"]),\n",
    "        CenterCrop(image_processor.size[\"height\"]),\n",
    "        ToTensor(),\n",
    "        normalize,\n",
    "    ]\n",
    ")\n",
    "\n",
    "\n",
    "def preprocess_train(example_batch):\n",
    "    \"\"\"Apply train_transforms across a batch.\"\"\"\n",
    "    example_batch[\"pixel_values\"] = [train_transforms(image.convert(\"RGB\")) for image in example_batch[\"image\"]]\n",
    "    return example_batch\n",
    "\n",
    "\n",
    "def preprocess_val(example_batch):\n",
    "    \"\"\"Apply val_transforms across a batch.\"\"\"\n",
    "    example_batch[\"pixel_values\"] = [val_transforms(image.convert(\"RGB\")) for image in example_batch[\"image\"]]\n",
    "    return example_batch\n",
    "\n",
    "\n",
    "splits = dataset.train_test_split(test_size=0.1)\n",
    "train_ds = splits[\"train\"]\n",
    "val_ds = splits[\"test\"]\n",
    "\n",
    "train_ds.set_transform(preprocess_train)\n",
    "val_ds.set_transform(preprocess_val)"
   ]
  },
  {
   "cell_type": "code",
   "execution_count": 14,
   "id": "d300b590-571a-42e8-b176-ad7e821fd32b",
   "metadata": {
    "colab": {
     "base_uri": "https://localhost:8080/",
     "height": 103,
     "referenced_widgets": [
      "86db181f15cd4ffbb2fa225003eddc0b",
      "b95056e074834268b327304df97ca348",
      "23566381910f47ffa47a4fa147474bdc",
      "4d5f74b678654599b4f28f57dc081c7f",
      "ec0a38a9224b48e1949dd6685ddfacc0",
      "c10d038736ed4b47ad2b91f0236cadd7",
      "48c3de0d3e5d49fdaa68e0523b8157d6",
      "d0dddf02d7824fc298ae0ba855d77a2b",
      "3491413b234e42b296fc0f55712cbe6b",
      "b107fdca13864c759199825b59af93eb",
      "cd085503e5494ff0adf1ff3c7c3d7214"
     ]
    },
    "id": "LfKMIbZQBBVD",
    "outputId": "1792e7e5-fd48-4005-d5ab-bbf081ff8b81"
   },
   "outputs": [
    {
     "data": {
      "application/vnd.jupyter.widget-view+json": {
       "model_id": "86db181f15cd4ffbb2fa225003eddc0b",
       "version_major": 2,
       "version_minor": 0
      },
      "text/plain": [
       "pytorch_model.bin:   0%|          | 0.00/346M [00:00<?, ?B/s]"
      ]
     },
     "metadata": {},
     "output_type": "display_data"
    },
    {
     "name": "stderr",
     "output_type": "stream",
     "text": [
      "Some weights of ViTForImageClassification were not initialized from the model checkpoint at google/vit-base-patch16-224-in21k and are newly initialized: ['classifier.weight', 'classifier.bias']\n",
      "You should probably TRAIN this model on a down-stream task to be able to use it for predictions and inference.\n"
     ]
    }
   ],
   "source": [
    "\n",
    "\n",
    "model = AutoModelForImageClassification.from_pretrained(\n",
    "    model_checkpoint,\n",
    "    label2id=label2id,\n",
    "    id2label=id2label,\n",
    "    ignore_mismatched_sizes=True,  # provide this in case you're planning to fine-tune an already fine-tuned checkpoint\n",
    ")"
   ]
  },
  {
   "cell_type": "code",
   "execution_count": null,
   "id": "6541db8b-fddf-4173-a3b5-7cd615e32dd3",
   "metadata": {},
   "outputs": [],
   "source": []
  },
  {
   "cell_type": "code",
   "execution_count": 2,
   "id": "a5e92e8a-e95a-4338-96b7-e970438029ff",
   "metadata": {
    "tags": []
   },
   "outputs": [],
   "source": [
    "## 搞到lora config"
   ]
  },
  {
   "cell_type": "code",
   "execution_count": null,
   "id": "ef9c526a-3e8d-440c-bbc0-93b74d9c891f",
   "metadata": {},
   "outputs": [],
   "source": [
    "\n",
    "config = LoraConfig(\n",
    "    r=16,\n",
    "    lora_alpha=16,\n",
    "    target_modules=[\"query\", \"value\"],\n",
    "    #target_modules=[\"conv1\"], # 目标模块，需要根据 ResNet50 的结构进行修改\n",
    "    lora_dropout=0.1,\n",
    "    bias=\"none\",\n",
    "    modules_to_save=[\"classifier\"],\n",
    ")"
   ]
  },
  {
   "cell_type": "code",
   "execution_count": null,
   "id": "157437cd-a214-4062-ba4b-86ea84365795",
   "metadata": {},
   "outputs": [],
   "source": []
  },
  {
   "cell_type": "code",
   "execution_count": null,
   "id": "9e4491fe-5520-48ff-8ac2-2e9c672194f4",
   "metadata": {},
   "outputs": [],
   "source": [
    "# 得到lora 模型"
   ]
  },
  {
   "cell_type": "code",
   "execution_count": null,
   "id": "16909569-9748-48e4-8128-ea50ab9f0b98",
   "metadata": {},
   "outputs": [],
   "source": [
    "def print_trainable_parameters(model):\n",
    "    trainable_params = 0\n",
    "    all_param = 0\n",
    "    for _, param in model.named_parameters():\n",
    "        all_param += param.numel()\n",
    "        if param.requires_grad:\n",
    "            trainable_params += param.numel()\n",
    "    print(\n",
    "        f\"trainable params: {trainable_params} || all params: {all_param} || trainable%: {100 * trainable_params / all_param:.2f}\"\n",
    "    )\n",
    "lora_model = get_peft_model(model, config)\n",
    "print_trainable_parameters(lora_model)"
   ]
  },
  {
   "cell_type": "code",
   "execution_count": null,
   "id": "8d98cad3-6344-4ee5-a995-bbbddbfbc835",
   "metadata": {},
   "outputs": [],
   "source": []
  },
  {
   "cell_type": "code",
   "execution_count": null,
   "id": "619406b5-7a7e-4af6-99a7-efcc2536df0d",
   "metadata": {},
   "outputs": [],
   "source": [
    "#到目前为止 数据有了 模型有了 预处理器有了"
   ]
  },
  {
   "cell_type": "code",
   "execution_count": null,
   "id": "1a2ca076-aaf1-459e-b7dc-c040757480ef",
   "metadata": {},
   "outputs": [],
   "source": [
    "# 开始获取训练配置"
   ]
  },
  {
   "cell_type": "code",
   "execution_count": null,
   "id": "801245e4-1e19-4043-a7b5-f0dfb47e4555",
   "metadata": {},
   "outputs": [],
   "source": [
    "from transformers import TrainingArguments, Trainer\n",
    "\n",
    "\n",
    "model_name = model_checkpoint.split(\"/\")[-1]\n",
    "batch_size = 128\n",
    "\n",
    "args = TrainingArguments(\n",
    "    f\"{model_name}-finetuned-lora-food101\",\n",
    "    remove_unused_columns=False,\n",
    "    evaluation_strategy=\"epoch\",\n",
    "    save_strategy=\"epoch\",\n",
    "    learning_rate=5e-3,\n",
    "    per_device_train_batch_size=batch_size,\n",
    "    gradient_accumulation_steps=4,\n",
    "    per_device_eval_batch_size=batch_size,\n",
    "    fp16=True,\n",
    "    num_train_epochs=5,\n",
    "    logging_steps=10,\n",
    "    load_best_model_at_end=True,\n",
    "    metric_for_best_model=\"accuracy\",\n",
    "    push_to_hub=True,\n",
    "    label_names=[\"labels\"],\n",
    ")"
   ]
  },
  {
   "cell_type": "code",
   "execution_count": 35,
   "id": "6d471786-8fd8-4117-b4a6-7ee6a62214e3",
   "metadata": {
    "colab": {
     "base_uri": "https://localhost:8080/"
    },
    "id": "G57yTdL_ENLk",
    "outputId": "b24c2cd3-d7df-4003-9af2-be2370dca051",
    "tags": []
   },
   "outputs": [
    {
     "ename": "ImportError",
     "errorDetails": {
      "actions": [
       {
        "action": "open_url",
        "actionText": "Open Examples",
        "url": "/notebooks/snippets/importing_libraries.ipynb"
       }
      ]
     },
     "evalue": "ignored",
     "output_type": "error",
     "traceback": [
      "\u001b[0;31m---------------------------------------------------------------------------\u001b[0m",
      "\u001b[0;31mImportError\u001b[0m                               Traceback (most recent call last)",
      "\u001b[0;32m<ipython-input-35-6f50efdb53fe>\u001b[0m in \u001b[0;36m<cell line: 3>\u001b[0;34m()\u001b[0m\n\u001b[1;32m      1\u001b[0m \u001b[0;31m# 导入必要的软件包\u001b[0m\u001b[0;34m\u001b[0m\u001b[0;34m\u001b[0m\u001b[0m\n\u001b[1;32m      2\u001b[0m \u001b[0;32mimport\u001b[0m \u001b[0mtorch\u001b[0m\u001b[0;34m\u001b[0m\u001b[0;34m\u001b[0m\u001b[0m\n\u001b[0;32m----> 3\u001b[0;31m \u001b[0;32mfrom\u001b[0m \u001b[0mtransformers\u001b[0m \u001b[0;32mimport\u001b[0m \u001b[0mAutoModelForCausalLM\u001b[0m\u001b[0;34m,\u001b[0m \u001b[0mAutoTokenizer\u001b[0m\u001b[0;34m,\u001b[0m \u001b[0mLoRAConfig\u001b[0m\u001b[0;34m,\u001b[0m \u001b[0mLoRA\u001b[0m\u001b[0;34m\u001b[0m\u001b[0;34m\u001b[0m\u001b[0m\n\u001b[0m\u001b[1;32m      4\u001b[0m \u001b[0;32mfrom\u001b[0m \u001b[0mpeft\u001b[0m \u001b[0;32mimport\u001b[0m \u001b[0mLoRA\u001b[0m\u001b[0;34m\u001b[0m\u001b[0;34m\u001b[0m\u001b[0m\n\u001b[1;32m      5\u001b[0m \u001b[0;32mfrom\u001b[0m \u001b[0maccelerate\u001b[0m \u001b[0;32mimport\u001b[0m \u001b[0mAccelerator\u001b[0m\u001b[0;34m\u001b[0m\u001b[0;34m\u001b[0m\u001b[0m\n",
      "\u001b[0;31mImportError\u001b[0m: cannot import name 'LoRAConfig' from 'transformers' (/usr/local/lib/python3.10/dist-packages/transformers/__init__.py)",
      "",
      "\u001b[0;31m---------------------------------------------------------------------------\u001b[0;32m\nNOTE: If your import is failing due to a missing package, you can\nmanually install dependencies using either !pip or !apt.\n\nTo view examples of installing some common dependencies, click the\n\"Open Examples\" button below.\n\u001b[0;31m---------------------------------------------------------------------------\u001b[0m\n"
     ]
    }
   ],
   "source": [
    "\n",
    "# 定义一个训练函数\n",
    "def train(lora, dataset, batch_size, num_epochs):\n",
    "    # 创建一个加速器对象\n",
    "    accelerator = Accelerator()\n",
    "    # 准备数据加载器\n",
    "    dataloader = torch.utils.data.DataLoader(dataset, batch_size=batch_size, shuffle=True)\n",
    "    # 将模型和数据加载器移动到加速器设备上\n",
    "    lora, dataloader = accelerator.prepare(lora, dataloader)\n",
    "    # 开始训练\n",
    "    for epoch in range(num_epochs):\n",
    "        # 创建一个进度条对象\n",
    "        pbar = tqdm(dataloader, desc=f\"Epoch {epoch + 1}\")\n",
    "        # 遍历每个批次\n",
    "        for batch in pbar:\n",
    "            # 获取输入和输出\n",
    "            input_ids = batch[\"dialog\"][0]\n",
    "            labels = batch[\"dialog\"][1]\n",
    "            # 调用 LoRA 的 forward 方法，得到损失\n",
    "            loss = lora(input_ids, labels=labels).loss\n",
    "            # 调用加速器的 backward 方法，进行反向传播\n",
    "            accelerator.backward(loss)\n",
    "            # 调用 LoRA 的 step 方法，进行参数更新\n",
    "            lora.step()\n",
    "            # 调用 LoRA 的 zero_grad 方法，清空梯度\n",
    "            lora.zero_grad()\n",
    "            # 在进度条上显示损失\n",
    "            pbar.set_postfix({\"loss\": loss.item()})\n",
    "        # 保存模型和分词器\n",
    "        lora.save_pretrained(f\"lora_chatglm_{epoch + 1}\")\n",
    "\n",
    "# 调用训练函数，开始微调 LoRA 大模型\n",
    "train(lora, dataset, batch_size=8, num_epochs=3)\n"
   ]
  },
  {
   "cell_type": "code",
   "execution_count": null,
   "id": "6883a19d-32e8-43ea-9cb4-79e93228c98e",
   "metadata": {},
   "outputs": [],
   "source": []
  },
  {
   "cell_type": "code",
   "execution_count": null,
   "id": "ccc8e5c9-17a2-4963-85f4-664f8f445ea2",
   "metadata": {},
   "outputs": [],
   "source": []
  },
  {
   "cell_type": "code",
   "execution_count": null,
   "id": "83ed654f-a77d-4683-afd9-ca5aea5b6369",
   "metadata": {},
   "outputs": [],
   "source": [
    "\n",
    "\n",
    "# 定义一个训练函数\n",
    "def train(lora, dataset, batch_size, num_epochs):\n",
    "    # 创建一个加速器对象\n",
    "    accelerator = Accelerator()\n",
    "    # 准备数据加载器\n",
    "    dataloader = torch.utils.data.DataLoader(dataset, batch_size=batch_size, shuffle=True)\n",
    "    # 将模型和数据加载器移动到加速器设备上\n",
    "    lora, dataloader = accelerator.prepare(lora, dataloader)\n",
    "    # 开始训练\n",
    "    for epoch in range(num_epochs):\n",
    "        # 创建一个进度条对象\n",
    "        pbar = tqdm(dataloader, desc=f\"Epoch {epoch + 1}\")\n",
    "        # 遍历每个批次\n",
    "        for batch in pbar:\n",
    "            # 获取输入和输出\n",
    "            input_ids = batch[\"dialog\"][0]\n",
    "            labels = batch[\"dialog\"][1]\n",
    "            # 调用 LoRA 的 forward 方法，得到损失\n",
    "            loss = lora(input_ids, labels=labels).loss\n",
    "            # 调用加速器的 backward 方法，进行反向传播\n",
    "            accelerator.backward(loss)\n",
    "            # 调用 LoRA 的 step 方法，进行参数更新\n",
    "            lora.step()\n",
    "            # 调用 LoRA 的 zero_grad 方法，清空梯度\n",
    "            lora.zero_grad()\n",
    "            # 在进度条上显示损失\n",
    "            pbar.set_postfix({\"loss\": loss.item()})\n",
    "        # 保存模型和分词器\n",
    "        lora.save_pretrained(f\"lora_chatglm_{epoch + 1}\")\n",
    "\n",
    "# 调用训练函数，开始微调 LoRA 大模型\n",
    "train(lora, dataset, batch_size=8, num_epochs=3)\n"
   ]
  }
 ],
 "metadata": {
  "kernelspec": {
   "display_name": "py310",
   "language": "python",
   "name": "py310"
  },
  "language_info": {
   "codemirror_mode": {
    "name": "ipython",
    "version": 3
   },
   "file_extension": ".py",
   "mimetype": "text/x-python",
   "name": "python",
   "nbconvert_exporter": "python",
   "pygments_lexer": "ipython3",
   "version": "3.10.13"
  }
 },
 "nbformat": 4,
 "nbformat_minor": 5
}
