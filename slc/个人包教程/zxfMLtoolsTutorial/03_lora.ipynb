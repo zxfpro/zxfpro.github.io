{
 "cells": [
  {
   "cell_type": "markdown",
   "id": "568043af-1269-4130-b907-730a77c03ac1",
   "metadata": {},
   "source": [
    "# 聊天语料\n"
   ]
  },
  {
   "cell_type": "code",
   "execution_count": 1,
   "id": "6b8d471f-9d93-4414-aebd-0457b455d4d2",
   "metadata": {
    "tags": []
   },
   "outputs": [],
   "source": [
    "import qet"
   ]
  },
  {
   "cell_type": "code",
   "execution_count": 5,
   "id": "6b002fc4-e837-4165-a765-37baba01ed76",
   "metadata": {
    "tags": []
   },
   "outputs": [
    {
     "name": "stdout",
     "output_type": "stream",
     "text": [
      "env: Baidu_API_Key=KXLBVbkcCJmi4Mq8X4HS6ngZ\n",
      "env: Baidu_Secret_Key=xgR17aCZTYYPEcJg6DM5xjgPw5VNjeis\n"
     ]
    }
   ],
   "source": [
    "%env Baidu_API_Key=KXLBVbkcCJmi4Mq8X4HS6ngZ\n",
    "%env Baidu_Secret_Key=xgR17aCZTYYPEcJg6DM5xjgPw5VNjeis"
   ]
  },
  {
   "cell_type": "code",
   "execution_count": 6,
   "id": "2948d8f0-0b7d-46fa-8a93-6490d3b15a13",
   "metadata": {
    "tags": []
   },
   "outputs": [
    {
     "data": {
      "text/plain": [
       "['baidu0', 'baidu1', 'mixtral_8x7b', 'spring', 'wechat']"
      ]
     },
     "execution_count": 6,
     "metadata": {},
     "output_type": "execute_result"
    }
   ],
   "source": [
    "qet.baidu_model_list()"
   ]
  },
  {
   "cell_type": "code",
   "execution_count": 8,
   "id": "61526976-04f0-433f-b99a-3ed04928b6e9",
   "metadata": {
    "tags": []
   },
   "outputs": [],
   "source": [
    "result = qet.baidu_chat(text='hello',model_name='wechat')"
   ]
  },
  {
   "cell_type": "code",
   "execution_count": 9,
   "id": "8f257f1e-ec1d-482c-a36e-de7e205aac46",
   "metadata": {
    "tags": []
   },
   "outputs": [
    {
     "data": {
      "text/plain": [
       "'你好啊 \\n 最近过得怎么样'"
      ]
     },
     "execution_count": 9,
     "metadata": {},
     "output_type": "execute_result"
    }
   ],
   "source": [
    "result"
   ]
  },
  {
   "cell_type": "code",
   "execution_count": 10,
   "id": "a3b94436-483d-4c90-9074-011ab643ca3b",
   "metadata": {
    "tags": []
   },
   "outputs": [],
   "source": [
    "result = qet.baidu_chat(text=result,model_name='wechat')"
   ]
  },
  {
   "cell_type": "code",
   "execution_count": 11,
   "id": "ceaf8511-cb97-41eb-89f1-0a4641e8d04d",
   "metadata": {
    "tags": []
   },
   "outputs": [
    {
     "data": {
      "text/plain": [
       "'我挺好的 \\n 就是有点累 \\n 你最近忙什么呢'"
      ]
     },
     "execution_count": 11,
     "metadata": {},
     "output_type": "execute_result"
    }
   ],
   "source": [
    "result"
   ]
  },
  {
   "cell_type": "code",
   "execution_count": null,
   "id": "702d3f4d-5992-4bdf-ba50-81928ceeeb75",
   "metadata": {},
   "outputs": [],
   "source": []
  },
  {
   "cell_type": "code",
   "execution_count": 31,
   "id": "8dbf611f-1de1-4ab9-b7bd-ffa9753697ad",
   "metadata": {
    "tags": []
   },
   "outputs": [],
   "source": [
    "resul = qet.baidu_chat(text=\"\"\"帮我生成200条和下面例子形似的内容 使用 | 将一条之间分割开\n",
    "我今天去故宫1了，\n",
    "你周末干啥了？\n",
    "\n",
    "日本的料理很好吃呀，下次有机会一起试一下\n",
    "\n",
    "原来你还喜欢书法呀，我也研究呢\n",
    "\n",
    "我觉得你很潇洒呀，活的很自由\n",
    "\n",
    "如果世界末日了你会怎么样\n",
    "\n",
    "我觉得鲁迅有一种法家气质呢\n",
    "\n",
    "你去过环球影城吗，那个叫什么来着 好玩不\n",
    "\n",
    "\n",
    "\"\"\",                        \n",
    "                        model_name='baidu0',)"
   ]
  },
  {
   "cell_type": "code",
   "execution_count": 40,
   "id": "19e27c88-58fe-4738-938a-186b3c0959e4",
   "metadata": {
    "tags": []
   },
   "outputs": [],
   "source": [
    "init_data = [i.split('.')[-1]for i in resul.split('\\n')][:-1]"
   ]
  },
  {
   "cell_type": "code",
   "execution_count": 51,
   "id": "309c8b5e-623a-4e89-89f9-c79b57d733e9",
   "metadata": {
    "collapsed": true,
    "jupyter": {
     "outputs_hidden": true
    },
    "tags": []
   },
   "outputs": [
    {
     "name": "stdout",
     "output_type": "stream",
     "text": [
      " 你喜欢喝咖啡还是茶？我觉得咖啡的香气真的很迷人\n",
      "save   i: 0     time: Sat Mar  2 21:49:18 2024\n",
      "save   i: 10     time: Sat Mar  2 21:49:29 2024\n",
      "save   i: 20     time: Sat Mar  2 21:49:40 2024\n",
      " 你有没有试过冥想？我觉得它对放松身心很有帮助\n",
      "save   i: 0     time: Sat Mar  2 21:49:57 2024\n",
      "save   i: 10     time: Sat Mar  2 21:50:08 2024\n",
      " 我觉得你的笑容很治愈呢，每次看到你心情都会变好\n",
      "save   i: 0     time: Sat Mar  2 21:50:28 2024\n",
      "save   i: 10     time: Sat Mar  2 21:50:40 2024\n",
      "save   i: 20     time: Sat Mar  2 21:50:50 2024\n",
      "save   i: 30     time: Sat Mar  2 21:51:01 2024\n",
      "save   i: 40     time: Sat Mar  2 21:51:12 2024\n",
      " 你有没有什么特别的旅行计划？我一直梦想去西藏看看\n",
      "save   i: 0     time: Sat Mar  2 21:51:15 2024\n",
      "save   i: 10     time: Sat Mar  2 21:51:24 2024\n",
      "save   i: 20     time: Sat Mar  2 21:51:35 2024\n",
      "save   i: 30     time: Sat Mar  2 21:51:45 2024\n",
      " 你喜欢动漫吗？我最近在看《火影忍者》，觉得很好看\n",
      "save   i: 0     time: Sat Mar  2 21:52:02 2024\n",
      "save   i: 10     time: Sat Mar  2 21:52:14 2024\n",
      "save   i: 20     time: Sat Mar  2 21:52:26 2024\n",
      "save   i: 30     time: Sat Mar  2 21:52:37 2024\n",
      "save   i: 40     time: Sat Mar  2 21:52:47 2024\n",
      " 你觉得未来科技会发展到什么程度呢？会不会出现飞行汽车？\n",
      "save   i: 0     time: Sat Mar  2 21:52:48 2024\n",
      "save   i: 10     time: Sat Mar  2 21:53:01 2024\n",
      "save   i: 20     time: Sat Mar  2 21:53:12 2024\n",
      " 你有没有听过那首《青花瓷》？我觉得歌词很有诗意\n",
      "save   i: 0     time: Sat Mar  2 21:53:30 2024\n",
      "save   i: 10     time: Sat Mar  2 21:53:42 2024\n",
      "save   i: 20     time: Sat Mar  2 21:53:53 2024\n",
      " 你觉得人生中最重要的是什么？是追求梦想还是享受生活？\n",
      "save   i: 0     time: Sat Mar  2 21:54:06 2024\n",
      "save   i: 10     time: Sat Mar  2 21:54:18 2024\n",
      "save   i: 20     time: Sat Mar  2 21:54:29 2024\n",
      "save   i: 30     time: Sat Mar  2 21:54:40 2024\n",
      "save   i: 40     time: Sat Mar  2 21:54:50 2024\n",
      " 你有没有想过如果自己是个动物会是什么？我觉得我会是一只猫\n",
      "save   i: 0     time: Sat Mar  2 21:54:53 2024\n",
      " 你喜欢哪种类型的电影？我喜欢悬疑和科幻片，你呢？\n",
      "save   i: 0     time: Sat Mar  2 21:55:04 2024\n",
      "save   i: 10     time: Sat Mar  2 21:55:15 2024\n",
      "save   i: 20     time: Sat Mar  2 21:55:27 2024\n",
      "save   i: 30     time: Sat Mar  2 21:55:39 2024\n",
      "save   i: 40     time: Sat Mar  2 21:55:51 2024\n",
      " 你有没有去过东北？那里的雪景真的很美\n",
      "save   i: 0     time: Sat Mar  2 21:55:54 2024\n",
      " 你觉得爱情是什么样子的？是不是就像电影里描述的那样？\n",
      "save   i: 0     time: Sat Mar  2 21:56:11 2024\n",
      "save   i: 10     time: Sat Mar  2 21:56:24 2024\n",
      "save   i: 20     time: Sat Mar  2 21:56:38 2024\n",
      "save   i: 30     time: Sat Mar  2 21:56:51 2024\n",
      "save   i: 40     time: Sat Mar  2 21:57:04 2024\n",
      " 你喜欢看书吗？我最近在看一本关于心理学的书，很有意思\n",
      "save   i: 0     time: Sat Mar  2 21:57:06 2024\n",
      "save   i: 10     time: Sat Mar  2 21:57:18 2024\n",
      "save   i: 20     time: Sat Mar  2 21:57:28 2024\n",
      " 你喜欢什么样的运动？我喜欢打篮球，你呢？\n",
      "save   i: 0     time: Sat Mar  2 21:57:44 2024\n",
      "save   i: 10     time: Sat Mar  2 21:57:55 2024\n",
      "save   i: 20     time: Sat Mar  2 21:58:05 2024\n",
      " 你有没有听说过那个新的音乐节？听说有很多大牌歌手呢\n",
      "save   i: 0     time: Sat Mar  2 21:58:23 2024\n",
      "save   i: 10     time: Sat Mar  2 21:58:34 2024\n",
      " 你喜欢猫还是狗？我个人更喜欢猫，觉得它们很独立\n",
      "save   i: 0     time: Sat Mar  2 21:58:54 2024\n",
      "save   i: 10     time: Sat Mar  2 21:59:06 2024\n",
      " 你觉得人生中最幸福的时刻是什么？是和家人团聚还是和朋友欢笑？\n",
      "save   i: 0     time: Sat Mar  2 21:59:24 2024\n",
      "save   i: 10     time: Sat Mar  2 21:59:37 2024\n",
      "save   i: 20     time: Sat Mar  2 21:59:47 2024\n",
      "save   i: 30     time: Sat Mar  2 21:59:58 2024\n",
      "save   i: 40     time: Sat Mar  2 22:00:10 2024\n",
      " 你有没有想过未来会从事什么职业？我一直梦想成为一名作家\n",
      "save   i: 0     time: Sat Mar  2 22:00:12 2024\n",
      " 你觉得人生中的挑战是什么？如何面对它们？\n",
      "save   i: 0     time: Sat Mar  2 22:00:28 2024\n",
      "save   i: 10     time: Sat Mar  2 22:00:40 2024\n",
      "save   i: 20     time: Sat Mar  2 22:00:50 2024\n",
      "save   i: 30     time: Sat Mar  2 22:01:01 2024\n",
      "save   i: 40     time: Sat Mar  2 22:01:11 2024\n",
      " 你喜欢什么样的季节？我喜欢春天，万物复苏的感觉\n",
      "save   i: 0     time: Sat Mar  2 22:01:14 2024\n",
      "save   i: 10     time: Sat Mar  2 22:01:26 2024\n",
      "save   i: 20     time: Sat Mar  2 22:01:36 2024\n",
      "save   i: 30     time: Sat Mar  2 22:01:46 2024\n",
      " 你有没有听过那个新的网红餐厅？听说菜品很有创意\n",
      "save   i: 0     time: Sat Mar  2 22:02:00 2024\n",
      "save   i: 10     time: Sat Mar  2 22:02:11 2024\n",
      " 你觉得人生中最难忘的经历是什么？是那次旅行还是那次考试？\n",
      "save   i: 0     time: Sat Mar  2 22:02:31 2024\n",
      "save   i: 10     time: Sat Mar  2 22:02:43 2024\n",
      " 你喜欢什么样的颜色？我觉得蓝色很治愈呢\n",
      "save   i: 0     time: Sat Mar  2 22:03:02 2024\n",
      "save   i: 10     time: Sat Mar  2 22:03:13 2024\n",
      "save   i: 20     time: Sat Mar  2 22:03:27 2024\n",
      "save   i: 30     time: Sat Mar  2 22:03:39 2024\n",
      "save   i: 40     time: Sat Mar  2 22:03:50 2024\n",
      " 你有没有什么特别的爱好？我喜欢收集邮票，觉得很有趣\n",
      "save   i: 0     time: Sat Mar  2 22:03:52 2024\n",
      "save   i: 10     time: Sat Mar  2 22:04:04 2024\n",
      "save   i: 20     time: Sat Mar  2 22:04:15 2024\n",
      " 你觉得友情是什么样子的？是不是就是那种互相支持、互相陪伴的感觉？\n",
      "save   i: 0     time: Sat Mar  2 22:04:26 2024\n",
      " 你喜欢什么样的音乐风格？我喜欢摇滚乐，那种激情四溢的感觉\n",
      "save   i: 0     time: Sat Mar  2 22:04:42 2024\n",
      "save   i: 10     time: Sat Mar  2 22:04:53 2024\n",
      "save   i: 20     time: Sat Mar  2 22:05:05 2024\n",
      "save   i: 30     time: Sat Mar  2 22:05:16 2024\n",
      "save   i: 40     time: Sat Mar  2 22:05:26 2024\n",
      " 你有没有去过海边？那里的海浪声和海风真的很治愈\n",
      "save   i: 0     time: Sat Mar  2 22:05:28 2024\n",
      "save   i: 10     time: Sat Mar  2 22:05:40 2024\n",
      "save   i: 20     time: Sat Mar  2 22:05:51 2024\n",
      "save   i: 30     time: Sat Mar  2 22:06:02 2024\n",
      " 你觉得人生中最遗憾的事情是什么？有没有想过如何弥补？\n",
      "save   i: 0     time: Sat Mar  2 22:06:20 2024\n",
      "save   i: 10     time: Sat Mar  2 22:06:33 2024\n",
      "save   i: 20     time: Sat Mar  2 22:06:44 2024\n",
      "save   i: 30     time: Sat Mar  2 22:06:54 2024\n",
      "save   i: 40     time: Sat Mar  2 22:07:04 2024\n",
      " 你喜欢什么样的城市？我喜欢上海，那里的繁华和现代感很吸引我\n",
      "save   i: 0     time: Sat Mar  2 22:07:07 2024\n",
      "save   i: 10     time: Sat Mar  2 22:07:18 2024\n",
      "save   i: 20     time: Sat Mar  2 22:07:28 2024\n",
      "save   i: 30     time: Sat Mar  2 22:07:38 2024\n",
      "save   i: 40     time: Sat Mar  2 22:07:49 2024\n",
      " 你有没有想过学习一门新的语言？我一直想学习日语呢\n",
      "save   i: 0     time: Sat Mar  2 22:07:51 2024\n",
      "save   i: 10     time: Sat Mar  2 22:08:02 2024\n",
      "save   i: 20     time: Sat Mar  2 22:08:12 2024\n",
      "save   i: 30     time: Sat Mar  2 22:08:22 2024\n",
      " 你觉得人生中的最大收获是什么？是那份成功还是那份成长？\n",
      "save   i: 0     time: Sat Mar  2 22:08:39 2024\n",
      "save   i: 10     time: Sat Mar  2 22:08:51 2024\n",
      "save   i: 20     time: Sat Mar  2 22:09:03 2024\n",
      "save   i: 30     time: Sat Mar  2 22:09:14 2024\n",
      "save   i: 40     time: Sat Mar  2 22:09:25 2024\n",
      " 你喜欢什么样的电视节目？我喜欢看纪录片，可以学到很多知识\n",
      "save   i: 0     time: Sat Mar  2 22:09:27 2024\n",
      "save   i: 10     time: Sat Mar  2 22:09:37 2024\n",
      "save   i: 20     time: Sat Mar  2 22:09:48 2024\n",
      "save   i: 30     time: Sat Mar  2 22:09:59 2024\n",
      "save   i: 40     time: Sat Mar  2 22:10:10 2024\n",
      " 你有没有想过尝试一次跳伞？那种从高空跃下的感觉一定很刺激\n",
      "save   i: 0     time: Sat Mar  2 22:10:12 2024\n",
      "save   i: 10     time: Sat Mar  2 22:10:23 2024\n",
      "save   i: 20     time: Sat Mar  2 22:10:34 2024\n",
      "save   i: 30     time: Sat Mar  2 22:10:45 2024\n",
      "save   i: 40     time: Sat Mar  2 22:10:55 2024\n",
      " 你觉得人生中最值得珍惜的是什么？是那些美好的回忆还是那些陪伴我们的人？\n",
      "save   i: 0     time: Sat Mar  2 22:10:57 2024\n",
      "save   i: 10     time: Sat Mar  2 22:11:11 2024\n",
      "save   i: 20     time: Sat Mar  2 22:11:22 2024\n",
      "save   i: 30     time: Sat Mar  2 22:11:32 2024\n",
      "save   i: 40     time: Sat Mar  2 22:11:42 2024\n",
      " 你喜欢什么样的电影类型？我喜欢喜剧片，可以让我放松心情\n",
      "save   i: 0     time: Sat Mar  2 22:11:45 2024\n",
      "save   i: 10     time: Sat Mar  2 22:11:56 2024\n",
      " 你有没有去过四川？那里的火锅和辣味真的很地道\n",
      "save   i: 0     time: Sat Mar  2 22:12:14 2024\n",
      "save   i: 10     time: Sat Mar  2 22:12:25 2024\n",
      "save   i: 20     time: Sat Mar  2 22:12:37 2024\n",
      "save   i: 30     time: Sat Mar  2 22:12:48 2024\n",
      "save   i: 40     time: Sat Mar  2 22:13:00 2024\n",
      " 你觉得人生中最美好的爱情是什么样的？是不是就是那种相互扶持、相互成长的感觉？\n",
      "save   i: 0     time: Sat Mar  2 22:13:02 2024\n",
      "save   i: 10     time: Sat Mar  2 22:13:14 2024\n",
      "save   i: 20     time: Sat Mar  2 22:13:25 2024\n",
      "save   i: 30     time: Sat Mar  2 22:13:35 2024\n",
      "save   i: 40     time: Sat Mar  2 22:13:45 2024\n",
      " 你喜欢什么样的穿着风格？我喜欢简约大方的风格，觉得很舒适\n",
      "save   i: 0     time: Sat Mar  2 22:13:47 2024\n",
      "save   i: 10     time: Sat Mar  2 22:13:59 2024\n",
      "save   i: 20     time: Sat Mar  2 22:14:11 2024\n",
      "save   i: 30     time: Sat Mar  2 22:14:22 2024\n",
      "save   i: 40     time: Sat Mar  2 22:14:32 2024\n",
      " 你有没有想过养一只宠物？我一直想养一只金毛犬呢\n",
      "save   i: 0     time: Sat Mar  2 22:14:34 2024\n",
      "save   i: 10     time: Sat Mar  2 22:14:45 2024\n",
      "save   i: 20     time: Sat Mar  2 22:14:54 2024\n",
      "save   i: 30     time: Sat Mar  2 22:15:06 2024\n",
      "save   i: 40     time: Sat Mar  2 22:15:18 2024\n",
      " 你觉得人生中的最大挑战是什么？是面对困难还是面对自己？\n",
      "save   i: 0     time: Sat Mar  2 22:15:20 2024\n",
      "save   i: 10     time: Sat Mar  2 22:15:33 2024\n",
      " 你喜欢什么样的节日？我喜欢春节，那种团圆和喜庆的氛围很温馨\n",
      "save   i: 0     time: Sat Mar  2 22:15:53 2024\n",
      "save   i: 10     time: Sat Mar  2 22:16:04 2024\n",
      "save   i: 20     time: Sat Mar  2 22:16:15 2024\n",
      " 你有没有听说过那个新的展览？听说有很多名画呢\n",
      "save   i: 0     time: Sat Mar  2 22:16:26 2024\n",
      "save   i: 10     time: Sat Mar  2 22:16:38 2024\n",
      "save   i: 20     time: Sat Mar  2 22:16:49 2024\n",
      "save   i: 30     time: Sat Mar  2 22:17:00 2024\n",
      " 你觉得人生中最需要学会的是什么？是宽容还是感恩？\n",
      "save   i: 0     time: Sat Mar  2 22:17:23 2024\n",
      "save   i: 10     time: Sat Mar  2 22:17:35 2024\n",
      "save   i: 20     time: Sat Mar  2 22:17:46 2024\n",
      "save   i: 30     time: Sat Mar  2 22:17:56 2024\n",
      "save   i: 40     time: Sat Mar  2 22:18:07 2024\n",
      " 你喜欢什么样的游戏？我喜欢玩策略类游戏，很考验智商呢\n",
      "save   i: 0     time: Sat Mar  2 22:18:12 2024\n",
      "save   i: 10     time: Sat Mar  2 22:18:23 2024\n",
      "save   i: 20     time: Sat Mar  2 22:18:33 2024\n",
      "save   i: 30     time: Sat Mar  2 22:18:44 2024\n",
      "save   i: 40     time: Sat Mar  2 22:18:54 2024\n",
      " 你有没有想过一次自驾旅行？那种沿途的风景和未知的感觉一定很刺激\n",
      "save   i: 0     time: Sat Mar  2 22:18:56 2024\n",
      " 你觉得人生中最应该珍惜的是什么？是那些陪伴我们的人还是那些美好的回忆？\n",
      "save   i: 0     time: Sat Mar  2 22:19:16 2024\n",
      "save   i: 10     time: Sat Mar  2 22:19:29 2024\n",
      "save   i: 20     time: Sat Mar  2 22:19:41 2024\n",
      " 你喜欢什么样的运动？我喜欢打羽毛球，可以锻炼身体又很有趣\n",
      "save   i: 0     time: Sat Mar  2 22:19:54 2024\n",
      "save   i: 10     time: Sat Mar  2 22:20:06 2024\n",
      "save   i: 20     time: Sat Mar  2 22:20:19 2024\n",
      " 你有没有尝试过写作？我觉得把自己的想法变成文字很有成就感\n",
      "save   i: 0     time: Sat Mar  2 22:20:34 2024\n",
      "save   i: 10     time: Sat Mar  2 22:20:45 2024\n",
      "save   i: 20     time: Sat Mar  2 22:20:55 2024\n",
      "save   i: 30     time: Sat Mar  2 22:21:06 2024\n",
      "save   i: 40     time: Sat Mar  2 22:21:18 2024\n",
      " 你觉得人生中最美好的瞬间是什么？是和心爱的人一起度过的时光吗？\n",
      "save   i: 0     time: Sat Mar  2 22:21:20 2024\n",
      " 你喜欢什么样的甜点？我喜欢吃巧克力蛋糕，那种甜蜜的感觉很幸福\n",
      "save   i: 0     time: Sat Mar  2 22:21:35 2024\n",
      "save   i: 10     time: Sat Mar  2 22:21:46 2024\n",
      "save   i: 20     time: Sat Mar  2 22:21:56 2024\n",
      "save   i: 30     time: Sat Mar  2 22:22:06 2024\n",
      "save   i: 40     time: Sat Mar  2 22:22:16 2024\n",
      " 你有没有想过一次潜水旅行？那种和海洋生物亲密接触的感觉一定很奇妙\n",
      "save   i: 0     time: Sat Mar  2 22:22:18 2024\n",
      "save   i: 10     time: Sat Mar  2 22:22:29 2024\n",
      "save   i: 20     time: Sat Mar  2 22:22:41 2024\n",
      "save   i: 30     time: Sat Mar  2 22:22:54 2024\n",
      "save   i: 40     time: Sat Mar  2 22:23:03 2024\n",
      " 你觉得人生中最重要的选择是什么？是选择职业还是选择伴侣？\n",
      "save   i: 0     time: Sat Mar  2 22:23:14 2024\n",
      "save   i: 10     time: Sat Mar  2 22:23:27 2024\n",
      "save   i: 20     time: Sat Mar  2 22:23:38 2024\n",
      "save   i: 30     time: Sat Mar  2 22:23:49 2024\n",
      " 你喜欢什么样的书籍？我喜欢读历史类书籍，可以了解更多的文化和故事\n",
      "save   i: 0     time: Sat Mar  2 22:24:08 2024\n",
      "save   i: 10     time: Sat Mar  2 22:24:20 2024\n",
      "save   i: 20     time: Sat Mar  2 22:24:33 2024\n",
      " 你有没有想过一次滑雪旅行？那种在雪地上飞驰的感觉一定很刺激\n",
      "save   i: 0     time: Sat Mar  2 22:24:44 2024\n",
      "save   i: 10     time: Sat Mar  2 22:24:55 2024\n"
     ]
    }
   ],
   "source": [
    "for i in init_data[4:]:\n",
    "    try:\n",
    "        print(i)\n",
    "        get_data(result=i)\n",
    "    except:\n",
    "        time.sleep(10)\n",
    "        continue"
   ]
  },
  {
   "cell_type": "code",
   "execution_count": 45,
   "id": "6203cd94-a6e2-4e69-a435-4b606be1078f",
   "metadata": {
    "tags": []
   },
   "outputs": [],
   "source": [
    "def get_data(result = 'hello'):\n",
    "    import time\n",
    "    sleep_time = 0.5\n",
    "    save_slave = 10\n",
    "    content = ''\n",
    "    devide = '$$VB$$'\n",
    "    save_path = 'talk.txt'\n",
    "    test_range = 40\n",
    "    for i in range(10000):\n",
    "        t = time.ctime()\n",
    "\n",
    "        result = qet.baidu_chat(text=result,model_name='wechat')\n",
    "        content += result\n",
    "        content += devide\n",
    "\n",
    "        time.sleep(sleep_time)\n",
    "        if i%save_slave ==0:\n",
    "            print('save','  i:',i,'    time:',t)\n",
    "            with open(save_path,'a') as f:\n",
    "                f.write(content)\n",
    "            content = ''\n",
    "\n",
    "        if i >test_range:\n",
    "            break"
   ]
  },
  {
   "cell_type": "code",
   "execution_count": 44,
   "id": "2c6082f6-01b7-40f3-9d46-a2e610b2db11",
   "metadata": {
    "tags": []
   },
   "outputs": [
    {
     "data": {
      "text/plain": [
       "[' 你知道最近的电影推荐吗？有没有想一起去看的？',\n",
       " ' 哇，你的外套真好看，是在哪里买的呀？',\n",
       " ' 听说附近开了家新餐厅，你有兴趣一起去尝尝吗？',\n",
       " ' 我最近开始学习瑜伽了，感觉还不错呢',\n",
       " ' 你喜欢喝咖啡还是茶？我觉得咖啡的香气真的很迷人',\n",
       " ' 你有没有试过冥想？我觉得它对放松身心很有帮助',\n",
       " ' 我觉得你的笑容很治愈呢，每次看到你心情都会变好',\n",
       " ' 你有没有什么特别的旅行计划？我一直梦想去西藏看看',\n",
       " ' 你喜欢动漫吗？我最近在看《火影忍者》，觉得很好看',\n",
       " ' 你觉得未来科技会发展到什么程度呢？会不会出现飞行汽车？',\n",
       " ' 你有没有听过那首《青花瓷》？我觉得歌词很有诗意',\n",
       " ' 你觉得人生中最重要的是什么？是追求梦想还是享受生活？',\n",
       " ' 你有没有想过如果自己是个动物会是什么？我觉得我会是一只猫',\n",
       " ' 你喜欢哪种类型的电影？我喜欢悬疑和科幻片，你呢？',\n",
       " ' 你有没有去过东北？那里的雪景真的很美',\n",
       " ' 你觉得爱情是什么样子的？是不是就像电影里描述的那样？',\n",
       " ' 你喜欢看书吗？我最近在看一本关于心理学的书，很有意思',\n",
       " ' 你喜欢什么样的运动？我喜欢打篮球，你呢？',\n",
       " ' 你有没有听说过那个新的音乐节？听说有很多大牌歌手呢',\n",
       " ' 你喜欢猫还是狗？我个人更喜欢猫，觉得它们很独立',\n",
       " ' 你觉得人生中最幸福的时刻是什么？是和家人团聚还是和朋友欢笑？',\n",
       " ' 你有没有想过未来会从事什么职业？我一直梦想成为一名作家',\n",
       " ' 你觉得人生中的挑战是什么？如何面对它们？',\n",
       " ' 你喜欢什么样的季节？我喜欢春天，万物复苏的感觉',\n",
       " ' 你有没有听过那个新的网红餐厅？听说菜品很有创意',\n",
       " ' 你觉得人生中最难忘的经历是什么？是那次旅行还是那次考试？',\n",
       " ' 你喜欢什么样的颜色？我觉得蓝色很治愈呢',\n",
       " ' 你有没有什么特别的爱好？我喜欢收集邮票，觉得很有趣',\n",
       " ' 你觉得友情是什么样子的？是不是就是那种互相支持、互相陪伴的感觉？',\n",
       " ' 你喜欢什么样的音乐风格？我喜欢摇滚乐，那种激情四溢的感觉',\n",
       " ' 你有没有去过海边？那里的海浪声和海风真的很治愈',\n",
       " ' 你觉得人生中最遗憾的事情是什么？有没有想过如何弥补？',\n",
       " ' 你喜欢什么样的城市？我喜欢上海，那里的繁华和现代感很吸引我',\n",
       " ' 你有没有想过学习一门新的语言？我一直想学习日语呢',\n",
       " ' 你觉得人生中的最大收获是什么？是那份成功还是那份成长？',\n",
       " ' 你喜欢什么样的电视节目？我喜欢看纪录片，可以学到很多知识',\n",
       " ' 你有没有想过尝试一次跳伞？那种从高空跃下的感觉一定很刺激',\n",
       " ' 你觉得人生中最值得珍惜的是什么？是那些美好的回忆还是那些陪伴我们的人？',\n",
       " ' 你喜欢什么样的电影类型？我喜欢喜剧片，可以让我放松心情',\n",
       " ' 你有没有去过四川？那里的火锅和辣味真的很地道',\n",
       " ' 你觉得人生中最美好的爱情是什么样的？是不是就是那种相互扶持、相互成长的感觉？',\n",
       " ' 你喜欢什么样的穿着风格？我喜欢简约大方的风格，觉得很舒适',\n",
       " ' 你有没有想过养一只宠物？我一直想养一只金毛犬呢',\n",
       " ' 你觉得人生中的最大挑战是什么？是面对困难还是面对自己？',\n",
       " ' 你喜欢什么样的节日？我喜欢春节，那种团圆和喜庆的氛围很温馨',\n",
       " ' 你有没有听说过那个新的展览？听说有很多名画呢',\n",
       " ' 你觉得人生中最需要学会的是什么？是宽容还是感恩？',\n",
       " ' 你喜欢什么样的游戏？我喜欢玩策略类游戏，很考验智商呢',\n",
       " ' 你有没有想过一次自驾旅行？那种沿途的风景和未知的感觉一定很刺激',\n",
       " ' 你觉得人生中最应该珍惜的是什么？是那些陪伴我们的人还是那些美好的回忆？',\n",
       " ' 你喜欢什么样的运动？我喜欢打羽毛球，可以锻炼身体又很有趣',\n",
       " ' 你有没有尝试过写作？我觉得把自己的想法变成文字很有成就感',\n",
       " ' 你觉得人生中最美好的瞬间是什么？是和心爱的人一起度过的时光吗？',\n",
       " ' 你喜欢什么样的甜点？我喜欢吃巧克力蛋糕，那种甜蜜的感觉很幸福',\n",
       " ' 你有没有想过一次潜水旅行？那种和海洋生物亲密接触的感觉一定很奇妙',\n",
       " ' 你觉得人生中最重要的选择是什么？是选择职业还是选择伴侣？',\n",
       " ' 你喜欢什么样的书籍？我喜欢读历史类书籍，可以了解更多的文化和故事',\n",
       " ' 你有没有想过一次滑雪旅行？那种在雪地上飞驰的感觉一定很刺激']"
      ]
     },
     "execution_count": 44,
     "metadata": {},
     "output_type": "execute_result"
    }
   ],
   "source": [
    "init_data"
   ]
  },
  {
   "cell_type": "code",
   "execution_count": 49,
   "id": "366f0536-627c-4157-a450-325e915f1007",
   "metadata": {
    "tags": []
   },
   "outputs": [
    {
     "data": {
      "text/plain": [
       "['当然啦 我最近看了《流浪地球2》 \\n 我觉得挺好看的 \\n 你看了吗',\n",
       " '没有 我还没时间去电影院呢 \\n 但是听说了 \\n 是原班人马出演的吗',\n",
       " '是啊 \\n 导演和演员都没换 \\n 就是故事是新的',\n",
       " '是吗 \\n 那挺好的 \\n 我喜欢第一部 \\n 你呢',\n",
       " '我也喜欢第一部 \\n 你觉得第一部和第二部哪个更好看',\n",
       " '当然第一部啦 \\n 第二部完全就是瞎拍 \\n 剧情也没有第一部好',\n",
       " '是啊 \\n 第二部感觉就是为了赚钱而拍的 \\n 完全没有第一部的那种精神内核了',\n",
       " '是啊 \\n \\n 也不知道是不是因为第一部赚大了 \\n 第二部就想快速圈钱',\n",
       " '很有可能啊 \\n \\n 我听说第二部的制作成本比第一部高多了',\n",
       " '是吗 \\n \\n 为什么呢',\n",
       " '因为我喜欢吃蛋糕啊 \\n \\n 蛋糕那么好吃 \\n \\n 我怎么能不喜欢呢',\n",
       " '哈哈 \\n 你喜欢吃蛋糕啊 \\n 那以后我们一起去买蛋糕吃吧',\n",
       " '好啊 \\n 不过你要请客哦',\n",
       " '好的 \\n 下次有机会请你吃饭',\n",
       " '哈哈 好的 \\n 下次有机会一起聚餐',\n",
       " '哈哈 好的 \\n 下次有机会叫上你',\n",
       " '哈哈 好的 \\n 下次有机会一起嗨皮',\n",
       " '好的 \\n 下次一起唱歌 \\n 你喜欢唱什么歌',\n",
       " '我喜欢唱 \\n 下次一起合唱',\n",
       " '好啊好啊 \\n 下次一起合唱',\n",
       " '好啊好啊 \\n 下次一起唱',\n",
       " '']"
      ]
     },
     "execution_count": 49,
     "metadata": {},
     "output_type": "execute_result"
    }
   ],
   "source": [
    "with open(save_path,'r') as f:\n",
    "    data = f.read()\n",
    "\n",
    "data.split(devide)"
   ]
  },
  {
   "cell_type": "code",
   "execution_count": null,
   "id": "da5eefd2-34f1-4055-8cce-22752670045b",
   "metadata": {},
   "outputs": [],
   "source": []
  }
 ],
 "metadata": {
  "kernelspec": {
   "display_name": "Python 3 (ipykernel)",
   "language": "python",
   "name": "python3"
  },
  "language_info": {
   "codemirror_mode": {
    "name": "ipython",
    "version": 3
   },
   "file_extension": ".py",
   "mimetype": "text/x-python",
   "name": "python",
   "nbconvert_exporter": "python",
   "pygments_lexer": "ipython3",
   "version": "3.10.14"
  }
 },
 "nbformat": 4,
 "nbformat_minor": 5
}
