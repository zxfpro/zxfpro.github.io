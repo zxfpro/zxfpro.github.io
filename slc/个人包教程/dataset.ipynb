{
 "cells": [
  {
   "cell_type": "code",
   "execution_count": 2,
   "id": "3d0026ab-d298-458b-ac81-b3bb3ebca1e3",
   "metadata": {
    "tags": []
   },
   "outputs": [],
   "source": [
    "from zxfMLtools_dev import dataset\n",
    "\n",
    "from zxfMLtools_dev.dataset import DatasetType,DatasetManager"
   ]
  },
  {
   "cell_type": "markdown",
   "id": "92681cff-1616-493b-be22-c24c71eab976",
   "metadata": {},
   "source": [
    "## 初始化"
   ]
  },
  {
   "cell_type": "code",
   "execution_count": 3,
   "id": "dbed9fc6-0610-4f5d-a480-327b29b044e7",
   "metadata": {
    "tags": []
   },
   "outputs": [],
   "source": [
    "data_manager = DatasetManager()"
   ]
  },
  {
   "cell_type": "markdown",
   "id": "7629235e-7489-49f6-a9ed-2ca7b08d0d82",
   "metadata": {},
   "source": [
    "## 获取指定包的切分信息"
   ]
  },
  {
   "cell_type": "code",
   "execution_count": 4,
   "id": "462dcb16-5ac6-461a-acbb-928c5638f524",
   "metadata": {
    "tags": []
   },
   "outputs": [
    {
     "data": {
      "text/plain": [
       "['train', 'test']"
      ]
     },
     "execution_count": 4,
     "metadata": {},
     "output_type": "execute_result"
    }
   ],
   "source": [
    "data_manager.get_dataset_info(DatasetType.demo)"
   ]
  },
  {
   "cell_type": "markdown",
   "id": "214b1b48-8e89-4800-b3c8-3c176d80164b",
   "metadata": {},
   "source": [
    "## 获取数据"
   ]
  },
  {
   "cell_type": "code",
   "execution_count": 5,
   "id": "dca8e785-ff92-4c1a-82bc-3130938419a6",
   "metadata": {
    "tags": []
   },
   "outputs": [],
   "source": [
    "demodataset = data_manager.get_dataset(DatasetType.demo)"
   ]
  },
  {
   "cell_type": "code",
   "execution_count": 6,
   "id": "aaa2e831-c7e9-4453-8c68-fb2b0a88d4f4",
   "metadata": {
    "tags": []
   },
   "outputs": [
    {
     "data": {
      "text/plain": [
       "Dataset({\n",
       "    features: ['id', 'package_name', 'review', 'date', 'star', 'version_id'],\n",
       "    num_rows: 5\n",
       "})"
      ]
     },
     "execution_count": 6,
     "metadata": {},
     "output_type": "execute_result"
    }
   ],
   "source": [
    "demodataset['train']"
   ]
  },
  {
   "cell_type": "markdown",
   "id": "3e079fbe-e1e9-4b15-bcda-a753da0db6ff",
   "metadata": {},
   "source": [
    "## 获取dataloader"
   ]
  },
  {
   "cell_type": "code",
   "execution_count": 7,
   "id": "9c5a5807-a83c-4263-8f15-379e3ad363e4",
   "metadata": {
    "tags": []
   },
   "outputs": [],
   "source": [
    "dataloaders = data_manager.get_dataloader_from_dataset(demodataset['train'])"
   ]
  },
  {
   "cell_type": "code",
   "execution_count": 8,
   "id": "ec54784a-5f35-4779-bc4a-0cd5932c679a",
   "metadata": {
    "tags": []
   },
   "outputs": [
    {
     "name": "stdout",
     "output_type": "stream",
     "text": [
      "{'id': ['7bd22aba-afc9-11e6-8293-c4b301cdf627'], 'package_name': ['com.mantz_it.rfanalyzer'], 'review': ['Works well with my Hackrf Hopefully new updates will arrive for extra functions'], 'date': ['July 22 2016'], 'star': tensor([5]), 'version_id': tensor([1487])}\n"
     ]
    }
   ],
   "source": [
    "for i in dataloaders:\n",
    "    print(i)\n",
    "    break"
   ]
  },
  {
   "cell_type": "code",
   "execution_count": null,
   "id": "1a25823b-8b8b-4fdf-9a62-63edcb695ade",
   "metadata": {},
   "outputs": [],
   "source": []
  }
 ],
 "metadata": {
  "kernelspec": {
   "display_name": "Python 3 (ipykernel)",
   "language": "python",
   "name": "python3"
  },
  "language_info": {
   "codemirror_mode": {
    "name": "ipython",
    "version": 3
   },
   "file_extension": ".py",
   "mimetype": "text/x-python",
   "name": "python",
   "nbconvert_exporter": "python",
   "pygments_lexer": "ipython3",
   "version": "3.10.14"
  }
 },
 "nbformat": 4,
 "nbformat_minor": 5
}
