{
 "cells": [
  {
   "cell_type": "markdown",
   "id": "91bd5878-fc12-4d11-90f1-b74da992c6d6",
   "metadata": {},
   "source": [
    "# AIGEN"
   ]
  },
  {
   "cell_type": "code",
   "execution_count": null,
   "id": "7a1b706d-08eb-4151-a2fc-431227993c37",
   "metadata": {},
   "outputs": [],
   "source": [
    "# 修改aigen_test 然后 开源发布"
   ]
  },
  {
   "cell_type": "code",
   "execution_count": null,
   "id": "ca0ab990-c0e9-417f-ba49-fd2ec4cd5709",
   "metadata": {},
   "outputs": [],
   "source": []
  },
  {
   "cell_type": "markdown",
   "id": "9d3bb638-5651-4c49-bfe7-aa9a28e167f5",
   "metadata": {
    "tags": []
   },
   "source": [
    "## 使用demo"
   ]
  },
  {
   "cell_type": "markdown",
   "id": "e40b73d8-fe5b-4f4d-8a0f-998aca8a6454",
   "metadata": {
    "jp-MarkdownHeadingCollapsed": true,
    "tags": []
   },
   "source": [
    "### 查看help\n"
   ]
  },
  {
   "cell_type": "code",
   "execution_count": 2,
   "id": "2dceda31-614c-44e8-9665-fa534e6752bf",
   "metadata": {
    "tags": []
   },
   "outputs": [
    {
     "name": "stdout",
     "output_type": "stream",
     "text": [
      "参数:\n",
      "-c 根据需求修改代码 默认\n",
      "-w 直接编写代码\n",
      "-r 检查代码是否有错误\n",
      "-a 直接提问交流\n",
      "-t 在下一个cell中生成测试代码\n",
      "-d 在下一个cell中生成API描述\n",
      "\n",
      "更细节的描述:\n",
      "如果想添加更加细节的描述,可以将细节描述加到最开始,并在结束时添加 <PROMPT END> 标识符\n",
      "\n",
      "配置:\n",
      "    type:wildcard\n",
      "    llm: gpt-3.5-turbo-0613\n",
      "    \n"
     ]
    }
   ],
   "source": [
    "%%aigen_test -h \n",
    "pass\n"
   ]
  },
  {
   "cell_type": "code",
   "execution_count": 3,
   "id": "e23c4509-627c-41ef-b7d3-d2b2a2e30b89",
   "metadata": {
    "tags": []
   },
   "outputs": [
    {
     "name": "stdout",
     "output_type": "stream",
     "text": [
      "参数:\n",
      "-c 根据需求修改代码 默认\n",
      "-w 直接编写代码\n",
      "-r 检查代码是否有错误\n",
      "-a 直接提问交流\n",
      "-t 在下一个cell中生成测试代码\n",
      "-d 在下一个cell中生成API描述\n",
      "\n",
      "更细节的描述:\n",
      "如果想添加更加细节的描述,可以将细节描述加到最开始,并在结束时添加 <PROMPT END> 标识符\n",
      "\n",
      "配置:\n",
      "    type:wildcard\n",
      "    llm: gpt-3.5-turbo-0613\n",
      "    \n"
     ]
    }
   ],
   "source": [
    "%%aigen_test -h 帮我修改这段代码 增加一个loop 可以进行连续调用\n",
    "pass"
   ]
  },
  {
   "cell_type": "code",
   "execution_count": null,
   "id": "f7d61582-eab0-4095-89a4-d0aca2b5ee44",
   "metadata": {},
   "outputs": [],
   "source": []
  },
  {
   "cell_type": "markdown",
   "id": "f78ead54-b959-4441-9ba9-385127f9e1de",
   "metadata": {
    "jp-MarkdownHeadingCollapsed": true,
    "tags": []
   },
   "source": [
    "### 编写模式\n"
   ]
  },
  {
   "cell_type": "markdown",
   "id": "364d6519-e6c6-489b-8b5d-8d7e0260fd81",
   "metadata": {
    "jp-MarkdownHeadingCollapsed": true,
    "tags": []
   },
   "source": [
    "#### 简易编写"
   ]
  },
  {
   "cell_type": "code",
   "execution_count": 1,
   "id": "720f3cdb-7f3f-41ef-ba11-0ca80fe1c4d0",
   "metadata": {
    "tags": []
   },
   "outputs": [],
   "source": [
    "%%aigen_test -w 帮我写一个hello world 程序\n",
    "pass"
   ]
  },
  {
   "cell_type": "code",
   "execution_count": 4,
   "id": "b74dc9b0-4d6b-4e23-8246-4f68bb75ee40",
   "metadata": {
    "tags": []
   },
   "outputs": [
    {
     "name": "stdout",
     "output_type": "stream",
     "text": [
      "\u001b[31m- pass\u001b[0m\n",
      "\u001b[32m+ print(\"Hello World\")\u001b[0m\n"
     ]
    }
   ],
   "source": [
    "# %%aigen_test -w 帮我写一个hello world 程序\n",
    "print(\"Hello World\")"
   ]
  },
  {
   "cell_type": "markdown",
   "id": "78bd930c-3a34-4ea0-88c8-4aa18c293a32",
   "metadata": {
    "jp-MarkdownHeadingCollapsed": true,
    "tags": []
   },
   "source": [
    "#### 细节编写"
   ]
  },
  {
   "cell_type": "code",
   "execution_count": 5,
   "id": "b90edc6e-626c-4d46-ac66-79983c22f43a",
   "metadata": {
    "tags": []
   },
   "outputs": [
    {
     "name": "stdout",
     "output_type": "stream",
     "text": [
      "参数:\n",
      "-c 根据需求修改代码 默认\n",
      "-w 直接编写代码\n",
      "-r 检查代码是否有错误\n",
      "-a 直接提问交流\n",
      "-t 在下一个cell中生成测试代码\n",
      "-d 在下一个cell中生成API描述\n",
      "\n",
      "更细节的描述:\n",
      "如果想添加更加细节的描述,可以将细节描述加到最开始,并在结束时添加 <PROMPT END> 标识符\n",
      "\n",
      "配置:\n",
      "    type:wildcard\n",
      "    llm: gpt-3.5-turbo-0613\n",
      "    \n"
     ]
    }
   ],
   "source": [
    "%%aigen_test -h 帮我写一个hello world 程序\n",
    "please note this point:\n",
    "-point 1 我希望可以以 一个字每秒的速度流式打印\n",
    "-point 2 Hello 字体显示红色 而world 字体显示绿色\n",
    "\n",
    "\n",
    "\n",
    "print(\"Hello, World!\")"
   ]
  },
  {
   "cell_type": "code",
   "execution_count": null,
   "id": "344987aa-90b2-465b-86cb-a28c518e8dd3",
   "metadata": {
    "tags": []
   },
   "outputs": [],
   "source": [
    "%%aigen_test -w 帮我写一个hello world 程序\n",
    "please note this point:\n",
    "-point 1 我希望可以以 一个字每秒的速度流式打印\n",
    "-point 2 Hello 字体显示红色 而world 字体显示绿色\n",
    "\n",
    "\n",
    "<PROMPT END>"
   ]
  },
  {
   "cell_type": "code",
   "execution_count": 1,
   "id": "c1439f8a-ecf3-4407-9657-41f891b3265f",
   "metadata": {
    "tags": []
   },
   "outputs": [
    {
     "name": "stdout",
     "output_type": "stream",
     "text": [
      "\u001b[32m+ import time\u001b[0m\n",
      "  \n",
      "\u001b[32m+ def print_with_speed(text, speed):\u001b[0m\n",
      "\u001b[32m+     for char in text:\u001b[0m\n",
      "\u001b[32m+         print(char, end='', flush=True)\u001b[0m\n",
      "\u001b[32m+         time.sleep(speed)\u001b[0m\n",
      "\u001b[32m+     print()\u001b[0m\n",
      "\u001b[32m+ \u001b[0m\n",
      "\u001b[32m+ def print_colored(text, color):\u001b[0m\n",
      "\u001b[32m+     colors = {\u001b[0m\n",
      "\u001b[32m+         'red': '\\033[91m',\u001b[0m\n",
      "\u001b[32m+         'green': '\\033[92m',\u001b[0m\n",
      "\u001b[32m+         'reset': '\\033[0m'\u001b[0m\n",
      "\u001b[32m+     }\u001b[0m\n",
      "\u001b[32m+     print(f\"{colors[color]}{text}{colors['reset']}\")\u001b[0m\n",
      "\u001b[32m+ \u001b[0m\n",
      "\u001b[32m+ def hello_world_program():\u001b[0m\n",
      "\u001b[32m+     hello = \"Hello\"\u001b[0m\n",
      "\u001b[32m+     world = \"world\"\u001b[0m\n",
      "\u001b[32m+     speed = 1  # 一个字每秒的速度\u001b[0m\n",
      "\u001b[32m+ \u001b[0m\n",
      "\u001b[32m+     print_colored(hello, 'red')\u001b[0m\n",
      "\u001b[32m+     print_with_speed(' ', speed)  # 等待一个字的时间\u001b[0m\n",
      "\u001b[32m+     print_colored(world, 'green')\u001b[0m\n",
      "\u001b[32m+ \u001b[0m\n",
      "\u001b[32m+ hello_world_program()\u001b[0m\n"
     ]
    }
   ],
   "source": [
    "# %%aigen_test -w 帮我写一个hello world 程序\n",
    "#please note this point:\n",
    "#-point 1 我希望可以以 一个字每秒的速度流式打印\n",
    "#-point 2 Hello 字体显示红色 而world 字体显示绿色\n",
    "#\n",
    "#\n",
    "#<PROMPT END>\n",
    "import time\n",
    "\n",
    "def print_with_speed(text, speed):\n",
    "    for char in text:\n",
    "        print(char, end='', flush=True)\n",
    "        time.sleep(speed)\n",
    "    print()\n",
    "\n",
    "def print_colored(text, color):\n",
    "    colors = {\n",
    "        'red': '\\033[91m',\n",
    "        'green': '\\033[92m',\n",
    "        'reset': '\\033[0m'\n",
    "    }\n",
    "    print(f\"{colors[color]}{text}{colors['reset']}\")\n",
    "\n",
    "def hello_world_program():\n",
    "    hello = \"Hello\"\n",
    "    world = \"world\"\n",
    "    speed = 1  # 一个字每秒的速度\n",
    "\n",
    "    print_colored(hello, 'red')\n",
    "    print_with_speed(' ', speed)  # 等待一个字的时间\n",
    "    print_colored(world, 'green')\n",
    "\n",
    "hello_world_program()"
   ]
  },
  {
   "cell_type": "markdown",
   "id": "505bfe48-c518-460a-9823-928edf1e93a4",
   "metadata": {
    "jp-MarkdownHeadingCollapsed": true,
    "tags": []
   },
   "source": [
    "### 修改需求模式 (默认模式)\n"
   ]
  },
  {
   "cell_type": "code",
   "execution_count": 6,
   "id": "d34edb74-5816-473a-b897-d876a39bee4d",
   "metadata": {
    "tags": []
   },
   "outputs": [],
   "source": [
    "# %%aigen_test 帮我将分析这段代码的执行时间\n",
    "import time\n",
    "\n",
    "start_time = time.time()\n",
    "\n",
    "print(\"Hello, World!\")\n",
    "\n",
    "end_time = time.time()\n",
    "execution_time = end_time - start_time\n",
    "print(\"Execution time:\", execution_time)"
   ]
  },
  {
   "cell_type": "code",
   "execution_count": 8,
   "id": "36ff20ea-4e58-4192-8e2f-41089968c165",
   "metadata": {
    "tags": []
   },
   "outputs": [],
   "source": [
    "# %%aigen_test 我希望知道更加准确的执行时间,去做一个10次执行的平均数据\n",
    "import time\n",
    "\n",
    "total_execution_time = 0\n",
    "\n",
    "for i in range(10):\n",
    "    start_time = time.time()\n",
    "\n",
    "    print(\"Hello, World!\")\n",
    "\n",
    "    end_time = time.time()\n",
    "    execution_time = end_time - start_time\n",
    "    total_execution_time += execution_time\n",
    "\n",
    "average_execution_time = total_execution_time / 10\n",
    "print(\"Average execution time:\", average_execution_time)"
   ]
  },
  {
   "cell_type": "markdown",
   "id": "43e0ce7c-c930-4569-b8ce-a3fb354aa95e",
   "metadata": {},
   "source": [
    "#### 细节编写"
   ]
  },
  {
   "cell_type": "code",
   "execution_count": null,
   "id": "e9b485e3-bbc9-4c8a-8262-48f774d0a5ba",
   "metadata": {
    "collapsed": true,
    "jupyter": {
     "outputs_hidden": true
    },
    "tags": []
   },
   "outputs": [
    {
     "name": "stdout",
     "output_type": "stream",
     "text": [
      "\u001b[32m+ import time\u001b[0m\n",
      "  \n",
      "\u001b[32m+ def analyze_execution_time():\u001b[0m\n",
      "\u001b[32m+     start_time = time.time()\u001b[0m\n",
      "\u001b[31m- print('hello world')\u001b[0m\n",
      "\u001b[32m+     print('hello world')\u001b[0m\n",
      "\u001b[33m? ++++\n",
      "\u001b[0m\n",
      "\u001b[32m+     end_time = time.time()\u001b[0m\n",
      "\u001b[32m+     execution_time = end_time - start_time\u001b[0m\n",
      "\u001b[32m+     print(\"Execution time:\", execution_time)\u001b[0m\n",
      "\u001b[32m+ \u001b[0m\n",
      "\u001b[32m+ analyze_execution_time()\u001b[0m\n",
      "\u001b[32m+  #************** \u001b[0m\n",
      "\u001b[32m+ import time\u001b[0m\n",
      "\u001b[32m+ \u001b[0m\n",
      "\u001b[32m+ def analyze_execution_time():\u001b[0m\n",
      "\u001b[32m+     start_time = time.time()\u001b[0m\n",
      "\u001b[32m+     print('hello world')\u001b[0m\n",
      "\u001b[32m+     end_time = time.time()\u001b[0m\n",
      "\u001b[32m+     execution_time = end_time - start_time\u001b[0m\n",
      "\u001b[32m+     print(\"Execution time:\", execution_time)\u001b[0m\n",
      "\u001b[32m+ \u001b[0m\n",
      "\u001b[32m+ analyze_execution_time()\u001b[0m\n"
     ]
    }
   ],
   "source": [
    "%%aigen_test 帮我将分析这段代码的执行时间\n",
    "please step by step\n",
    "-step1 将代码封装成函数\n",
    "-step2 给出代码的时间复杂度的计算\n",
    "-step3 给出代码的空间复杂度的计算\n",
    "\n",
    "<PROMPT END>\n",
    "print('hello world')"
   ]
  },
  {
   "cell_type": "code",
   "execution_count": null,
   "id": "2c80df1c-e0a9-4ca9-9a1a-a96fa6f7cae5",
   "metadata": {},
   "outputs": [],
   "source": [
    "#TODO\n",
    "\"\"\"\n",
    "1 会给出两份代码\n",
    "3 执行结果并没有达到要求\n",
    "\"\"\""
   ]
  },
  {
   "cell_type": "code",
   "execution_count": 3,
   "id": "7404df4b-16c0-4f62-b96b-32db90535c1d",
   "metadata": {
    "tags": []
   },
   "outputs": [
    {
     "name": "stdout",
     "output_type": "stream",
     "text": [
      "\u001b[32m+ import time\u001b[0m\n",
      "  \n",
      "\u001b[32m+ def analyze_execution_time():\u001b[0m\n",
      "\u001b[32m+     start_time = time.time()\u001b[0m\n",
      "\u001b[31m- print('hello world')\u001b[0m\n",
      "\u001b[32m+     print('hello world')\u001b[0m\n",
      "\u001b[33m? ++++\n",
      "\u001b[0m\n",
      "\u001b[32m+     end_time = time.time()\u001b[0m\n",
      "\u001b[32m+     execution_time = end_time - start_time\u001b[0m\n",
      "\u001b[32m+     print('Execution time:', execution_time)\u001b[0m\n",
      "\u001b[32m+ \u001b[0m\n",
      "\u001b[32m+ analyze_execution_time()\u001b[0m\n",
      "\u001b[32m+  #************** \u001b[0m\n",
      "\u001b[32m+ import time\u001b[0m\n",
      "\u001b[32m+ \u001b[0m\n",
      "\u001b[32m+ def analyze_execution_time():\u001b[0m\n",
      "\u001b[32m+     start_time = time.time()\u001b[0m\n",
      "\u001b[32m+     print('hello world')\u001b[0m\n",
      "\u001b[32m+     end_time = time.time()\u001b[0m\n",
      "\u001b[32m+     execution_time = end_time - start_time\u001b[0m\n",
      "\u001b[32m+     print('Execution time:', execution_time)\u001b[0m\n",
      "\u001b[32m+ \u001b[0m\n",
      "\u001b[32m+ analyze_execution_time()\u001b[0m\n"
     ]
    }
   ],
   "source": [
    "# %%aigen_test 帮我将分析这段代码的执行时间\n",
    "#please step by step\n",
    "#-step1 将代码封装成函数\n",
    "#-step2 给出代码的时间复杂度的计算\n",
    "#-step3 给出代码的空间复杂度的计算\n",
    "#\n",
    "#<PROMPT END>\n",
    "import time\n",
    "\n",
    "def analyze_execution_time():\n",
    "    start_time = time.time()\n",
    "    print('hello world')\n",
    "    end_time = time.time()\n",
    "    execution_time = end_time - start_time\n",
    "    print('Execution time:', execution_time)\n",
    "\n",
    "analyze_execution_time()\n",
    " #************** \n",
    "import time\n",
    "\n",
    "def analyze_execution_time():\n",
    "    start_time = time.time()\n",
    "    print('hello world')\n",
    "    end_time = time.time()\n",
    "    execution_time = end_time - start_time\n",
    "    print('Execution time:', execution_time)\n",
    "\n",
    "analyze_execution_time()"
   ]
  },
  {
   "cell_type": "markdown",
   "id": "c31ba8c4-4784-4a6f-9fb4-fb6f07d0b420",
   "metadata": {
    "jp-MarkdownHeadingCollapsed": true,
    "tags": []
   },
   "source": [
    "### 代码检查"
   ]
  },
  {
   "cell_type": "code",
   "execution_count": 1,
   "id": "f1391d5f-e119-4347-a665-b8b3c92d8240",
   "metadata": {
    "tags": []
   },
   "outputs": [
    {
     "name": "stdout",
     "output_type": "stream",
     "text": [
      "  import time\n",
      "  \n",
      "  def analyze_execution_time():\n",
      "\u001b[31m-     start_time = ctime.time()\u001b[0m\n",
      "\u001b[33m?                  -\n",
      "\u001b[0m\n",
      "\u001b[32m+     start_time = time.time()\u001b[0m\n",
      "      print('hello world')\n",
      "      end_time = time.time()\n",
      "      execution_time = end_time - start_time\n",
      "      print(f\"Execution time: {execution_time} seconds\")\n",
      "  \n",
      "  analyze_execution_time()\n"
     ]
    }
   ],
   "source": [
    "# %%aigen_test -r\n",
    "import time\n",
    "\n",
    "def analyze_execution_time():\n",
    "    start_time = time.time()\n",
    "    print('hello world')\n",
    "    end_time = time.time()\n",
    "    execution_time = end_time - start_time\n",
    "    print(f\"Execution time: {execution_time} seconds\")\n",
    "\n",
    "analyze_execution_time()"
   ]
  },
  {
   "cell_type": "code",
   "execution_count": 2,
   "id": "dd5c8b87-ba8d-476d-b56e-ba2f3ac9d90c",
   "metadata": {
    "tags": []
   },
   "outputs": [
    {
     "name": "stdout",
     "output_type": "stream",
     "text": [
      "\u001b[31m- \u001b[0m\n",
      "  import time\n",
      "  \n",
      "  def analyze_execution_time():\n",
      "\u001b[31m-     finds_time = ctime.time()\u001b[0m\n",
      "\u001b[33m?     ----         -\n",
      "\u001b[0m\n",
      "\u001b[32m+     start_time = time.time()\u001b[0m\n",
      "\u001b[33m?      ++++\n",
      "\u001b[0m\n",
      "      print('hello world')\n",
      "      end_time = time.time()\n",
      "\u001b[31m-     execution_time = end_time - finds_time\u001b[0m\n",
      "\u001b[33m?                                 ----\n",
      "\u001b[0m\n",
      "\u001b[32m+     execution_time = end_time - start_time\u001b[0m\n",
      "\u001b[33m?                                  ++++\n",
      "\u001b[0m\n",
      "      print(f\"Execution time: {execution_time} seconds\")\n",
      "  \n",
      "  analyze_execution_time()\n"
     ]
    }
   ],
   "source": [
    "# %%aigen_test -r 帮我检查代码\n",
    "#请重点检查变量命名是否合适,逻辑是否正确\n",
    "#<PROMPT END>\n",
    "import time\n",
    "\n",
    "def analyze_execution_time():\n",
    "    start_time = time.time()\n",
    "    print('hello world')\n",
    "    end_time = time.time()\n",
    "    execution_time = end_time - start_time\n",
    "    print(f\"Execution time: {execution_time} seconds\")\n",
    "\n",
    "analyze_execution_time()"
   ]
  },
  {
   "cell_type": "code",
   "execution_count": null,
   "id": "bd423836-4b85-42ff-a88d-362a3c015f51",
   "metadata": {},
   "outputs": [],
   "source": []
  },
  {
   "cell_type": "markdown",
   "id": "bf824b8e-f424-45dc-bc0a-2b4b08f03e3c",
   "metadata": {},
   "source": [
    "## talk or ask"
   ]
  },
  {
   "cell_type": "markdown",
   "id": "8083f129-6bb2-44d1-a8f7-dd1ffa3f061c",
   "metadata": {},
   "source": [
    "### 简单聊天"
   ]
  },
  {
   "cell_type": "code",
   "execution_count": 7,
   "id": "48c43797-772d-41b9-b2c6-054fe802fe6c",
   "metadata": {
    "tags": []
   },
   "outputs": [
    {
     "name": "stdout",
     "output_type": "stream",
     "text": [
      "你好！有什么我可以帮助你的吗？\n"
     ]
    }
   ],
   "source": [
    "%%aigen_test -a 你好\n",
    "pass"
   ]
  },
  {
   "cell_type": "markdown",
   "id": "80e350ac-c543-438d-a648-a752b25b1f32",
   "metadata": {},
   "source": [
    "### 细节聊天"
   ]
  },
  {
   "cell_type": "code",
   "execution_count": 10,
   "id": "772db4a6-0fdc-431a-9b64-9358b82d5e07",
   "metadata": {
    "tags": []
   },
   "outputs": [
    {
     "name": "stdout",
     "output_type": "stream",
     "text": [
      "你好，Four！很高兴认识你。听起来你们村庄的情况很有趣。那些寻找UFO的人是什么样的？他们有什么特别的设备或技术吗？你们村庄有没有过类似的奇怪事件？\n"
     ]
    }
   ],
   "source": [
    "%%aigen_test -a 你好\n",
    "我想告诉你更多:\n",
    "我叫four 我来自一个小村庄\n",
    "今天我们村子里来了一群奇怪的人,他们在寻找ufo\n",
    "\n",
    "<PROMPT END>\n"
   ]
  },
  {
   "cell_type": "code",
   "execution_count": null,
   "id": "a3c89bbd-2e85-4772-ab08-8b90a4487d54",
   "metadata": {},
   "outputs": [],
   "source": []
  },
  {
   "cell_type": "markdown",
   "id": "f63c293b-d1ad-433b-ae73-2f28d80ac2fd",
   "metadata": {
    "tags": []
   },
   "source": [
    "# TODO"
   ]
  },
  {
   "cell_type": "markdown",
   "id": "4a74f777-932e-40c3-8c5d-5f5b41fd4e65",
   "metadata": {},
   "source": [
    "### 生成测试代码"
   ]
  },
  {
   "cell_type": "code",
   "execution_count": null,
   "id": "2d0a1000-ac03-4039-b8d1-e9125c2915c9",
   "metadata": {},
   "outputs": [],
   "source": [
    "# 是否替代掉源码 当然布提地啊\n",
    "#效果要调 方式也要调"
   ]
  },
  {
   "cell_type": "code",
   "execution_count": 7,
   "id": "0393263f-e0ae-4adc-962a-09576dc27226",
   "metadata": {},
   "outputs": [],
   "source": [
    "%%aigen_test -t 生成该代码的测试用例\n",
    "please step by step\n",
    "-step1: 测试整型数据\n",
    "-step2: 测试浮点型数据\n",
    "-step3: 测试字符串等数据\n",
    "-step4: 断言assert 的完备性测试\n",
    "<PROMPT END>\n",
    "def add(a,b):\n",
    "    return a+b\n",
    "    "
   ]
  },
  {
   "cell_type": "code",
   "execution_count": null,
   "id": "24cfd9ea-5c44-438a-bc1e-bd0be82f7fea",
   "metadata": {},
   "outputs": [],
   "source": [
    "Step 1: 测试整型数据\n",
    "\n",
    "```python\n",
    "# Test Case 1: Positive integers\n",
    "result = add(5, 10)\n",
    "# Expected Output: 15\n",
    "assert result == 15\n",
    "\n",
    "# Test Case 2: Negative integers\n",
    "result = add(-5, -10)\n",
    "# Expected Output: -15\n",
    "assert result == -15\n",
    "\n",
    "# Test Case 3: Zero and positive integer\n",
    "result = add(0, 10)\n",
    "# Expected Output: 10\n",
    "assert result == 10\n",
    "\n",
    "# Test Case 4: Zero and negative integer\n",
    "result = add(0, -10)\n",
    "# Expected Output: -10\n",
    "assert result == -10\n",
    "```\n",
    "\n",
    "Step 2: 测试浮点型数据\n",
    "\n",
    "```python\n",
    "# Test Case 5: Positive floating point numbers\n",
    "result = add(3.14, 2.5)\n",
    "# Expected Output: 5.64\n",
    "assert result == 5.64\n",
    "\n",
    "# Test Case 6: Negative floating point numbers\n",
    "result = add(-3.14, -2.5)\n",
    "# Expected Output: -5.64\n",
    "assert result == -5.64\n",
    "\n",
    "# Test Case 7: Zero and positive floating point number\n",
    "result = add(0, 3.14)\n",
    "# Expected Output: 3.14\n",
    "assert result == 3.14\n",
    "\n",
    "# Test Case 8: Zero and negative floating point number\n",
    "result = add(0, -3.14)\n",
    "# Expected Output: -3.14\n",
    "assert result == -3.14\n",
    "```\n",
    "\n",
    "Step 3: 测试字符串等数据\n",
    "\n",
    "```python\n",
    "# Test Case 9: Concatenating two strings\n",
    "result = add(\"Hello\", \" World\")\n",
    "# Expected Output: \"Hello World\"\n",
    "assert result == \"Hello World\"\n",
    "\n",
    "# Test Case 10: Concatenating string and integer\n",
    "result = add(\"The answer is \", 42)\n",
    "# Expected Output: \"The answer is 42\"\n",
    "assert result == \"The answer is 42\"\n",
    "```\n",
    "\n",
    "Step 4: 断言assert 的完备性测试\n",
    "\n",
    "```python\n",
    "# Test Case 11: Testing assert completeness\n",
    "result = add(5, 10)\n",
    "# Expected Output: 15\n",
    "assert result == 15\n",
    "\n",
    "result = add(5, 10)\n",
    "# Expected Output: 16\n",
    "assert result != 16\n",
    "\n",
    "result = add(5, 10)\n",
    "# Expected Output: 15\n",
    "assert result >= 15\n",
    "\n",
    "result = add(5, 10)\n",
    "# Expected Output: 15\n",
    "assert result <= 15\n",
    "```\n",
    "\n",
    "注意事项：\n",
    "- 在每个测试用例中，使用assert语句来验证函数的输出是否与预期输出相匹配。\n",
    "- 考虑到时间复杂度，这个函数的时间复杂度是O(1)，因为它只执行一次加法操作。\n",
    "- 输入输出格式测试可以通过比较函数的返回值与预期输出来完成。\n",
    "- 错误诱导和防渗透入侵测试可以通过提供不同类型的输入来测试函数的鲁棒性。"
   ]
  },
  {
   "cell_type": "code",
   "execution_count": null,
   "id": "84652dc2-043e-4ef9-9968-80baeb35208e",
   "metadata": {},
   "outputs": [],
   "source": []
  },
  {
   "cell_type": "code",
   "execution_count": null,
   "id": "cf933024-10cb-44df-99ab-964f434c8660",
   "metadata": {},
   "outputs": [],
   "source": [
    "生成API文章"
   ]
  },
  {
   "cell_type": "code",
   "execution_count": null,
   "id": "773b341a-2bfe-453e-a033-9687f9fd4ceb",
   "metadata": {},
   "outputs": [],
   "source": []
  },
  {
   "cell_type": "code",
   "execution_count": 14,
   "id": "8c01090c-bbf8-4280-8e8c-4b6b9a0b67ab",
   "metadata": {},
   "outputs": [],
   "source": [
    "%%aigen_test -d\n",
    "\n",
    "def analyze_execution_time():\n",
    "    start_time = ctime.time()\n",
    "    print('hello world')\n",
    "    end_time = time.time()\n",
    "    execution_time = end_time - start_time\n",
    "    print(f\"Execution time: {execution_time} seconds\")\n"
   ]
  },
  {
   "cell_type": "markdown",
   "id": "5087766f-e4b5-4b40-9f03-ddd2e0fe8f6a",
   "metadata": {},
   "source": [
    "API文档：\n",
    "\n",
    "analyze_execution_time()\n",
    "\n",
    "功能：计算代码执行时间并打印结果。\n",
    "\n",
    "参数：无\n",
    "\n",
    "返回值：无\n",
    "\n",
    "示例：\n",
    "\n",
    "```\n",
    "analyze_execution_time()\n",
    "```\n",
    "\n",
    "输出：\n",
    "\n",
    "```\n",
    "hello world\n",
    "Execution time: 0.001234 seconds\n",
    "```"
   ]
  },
  {
   "cell_type": "markdown",
   "id": "4bcb6c5c-c55b-4e8b-bfba-62c74e8efb60",
   "metadata": {},
   "source": [
    "# TODO2"
   ]
  },
  {
   "cell_type": "code",
   "execution_count": null,
   "id": "43ddad7f-f894-4a77-a2f4-4e528886dd96",
   "metadata": {},
   "outputs": [],
   "source": [
    "bb"
   ]
  },
  {
   "cell_type": "code",
   "execution_count": null,
   "id": "12392884-6ee6-493f-b5d8-63987a0242ea",
   "metadata": {},
   "outputs": [],
   "source": []
  },
  {
   "cell_type": "code",
   "execution_count": null,
   "id": "ebfba8f8-9798-4840-a261-4e8d5f178b48",
   "metadata": {},
   "outputs": [],
   "source": []
  },
  {
   "cell_type": "code",
   "execution_count": null,
   "id": "31881665-202d-449b-87ab-f6a87fcfce64",
   "metadata": {},
   "outputs": [],
   "source": []
  },
  {
   "cell_type": "code",
   "execution_count": null,
   "id": "3f27b897-c181-458c-a80d-253c1e62c7a4",
   "metadata": {},
   "outputs": [],
   "source": []
  },
  {
   "cell_type": "code",
   "execution_count": null,
   "id": "81f66935-feaf-45cd-aa66-c2d7c03876af",
   "metadata": {},
   "outputs": [],
   "source": []
  }
 ],
 "metadata": {
  "kernelspec": {
   "display_name": "Python 3 (ipykernel)",
   "language": "python",
   "name": "python3"
  },
  "language_info": {
   "codemirror_mode": {
    "name": "ipython",
    "version": 3
   },
   "file_extension": ".py",
   "mimetype": "text/x-python",
   "name": "python",
   "nbconvert_exporter": "python",
   "pygments_lexer": "ipython3",
   "version": "3.10.14"
  }
 },
 "nbformat": 4,
 "nbformat_minor": 5
}
