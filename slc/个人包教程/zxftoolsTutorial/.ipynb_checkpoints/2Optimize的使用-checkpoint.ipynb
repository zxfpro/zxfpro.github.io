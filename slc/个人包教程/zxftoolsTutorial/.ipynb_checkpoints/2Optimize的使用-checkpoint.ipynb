{
 "cells": [
  {
   "cell_type": "markdown",
   "id": "7f5a7cee-b94e-4411-882c-43bc097bc7d7",
   "metadata": {},
   "source": [
    "# 使用Optimize 进行函数优化"
   ]
  },
  {
   "cell_type": "markdown",
   "id": "a2df27cf-a8ee-4894-ae24-29a25ab38615",
   "metadata": {
    "jp-MarkdownHeadingCollapsed": true,
    "tags": []
   },
   "source": [
    "## 定义"
   ]
  },
  {
   "cell_type": "code",
   "execution_count": 1,
   "id": "2162d52b-b048-4db2-ac77-40faa84b3ea3",
   "metadata": {
    "tags": []
   },
   "outputs": [],
   "source": [
    "from zxftools_dev.optimize import Optimize"
   ]
  },
  {
   "cell_type": "code",
   "execution_count": 2,
   "id": "be2331b5-bb57-4174-86b4-1decf3805db2",
   "metadata": {
    "tags": []
   },
   "outputs": [],
   "source": [
    "opt = Optimize()"
   ]
  },
  {
   "cell_type": "markdown",
   "id": "3327c010-4e4e-4360-9e5e-5e9e4b79fee2",
   "metadata": {
    "jp-MarkdownHeadingCollapsed": true,
    "tags": []
   },
   "source": [
    "## 转码"
   ]
  },
  {
   "cell_type": "markdown",
   "id": "e47a605c-2661-43ea-94ce-2fbe72802367",
   "metadata": {
    "jp-MarkdownHeadingCollapsed": true,
    "tags": []
   },
   "source": [
    "### 转化为字节码"
   ]
  },
  {
   "cell_type": "code",
   "execution_count": 8,
   "id": "97daa911-4100-4aae-9ea5-36a9bb071e20",
   "metadata": {
    "tags": []
   },
   "outputs": [
    {
     "name": "stdout",
     "output_type": "stream",
     "text": [
      "  2           0 LOAD_FAST                0 (a)\n",
      "              2 LOAD_CONST               1 (1)\n",
      "              4 INPLACE_ADD\n",
      "              6 STORE_FAST               0 (a)\n",
      "\n",
      "  3           8 LOAD_FAST                0 (a)\n",
      "             10 RETURN_VALUE\n"
     ]
    }
   ],
   "source": [
    "opt.trans_bytecode(test)"
   ]
  },
  {
   "cell_type": "markdown",
   "id": "2b0c6451-94ee-4ed3-bc7b-8727cacf927e",
   "metadata": {
    "jp-MarkdownHeadingCollapsed": true,
    "tags": []
   },
   "source": [
    "### C++ to python"
   ]
  },
  {
   "cell_type": "code",
   "execution_count": 3,
   "id": "f48b16ff-6b75-441d-aa20-e931d5d15aa9",
   "metadata": {
    "tags": []
   },
   "outputs": [],
   "source": [
    "cpp_func = \"\"\"\n",
    "int add(int n,int m){\n",
    "return n + m;\n",
    "}\n",
    "\"\"\""
   ]
  },
  {
   "cell_type": "code",
   "execution_count": 6,
   "id": "aeb630b1-ea62-4e86-8148-3e4090b6e0cd",
   "metadata": {
    "tags": []
   },
   "outputs": [],
   "source": [
    "opt.cpp2py(cpp_func=cpp_func, output_file='pylib.so')"
   ]
  },
  {
   "cell_type": "code",
   "execution_count": 9,
   "id": "7de0127c-25a4-431e-a35f-ad44cc90a3e9",
   "metadata": {
    "tags": []
   },
   "outputs": [
    {
     "data": {
      "text/plain": [
       "5"
      ]
     },
     "execution_count": 9,
     "metadata": {},
     "output_type": "execute_result"
    }
   ],
   "source": [
    "lib = opt.load_cpp()\n",
    "lib.add(1,4)"
   ]
  },
  {
   "cell_type": "markdown",
   "id": "c3ca0eeb-6b55-4136-920d-35ff64b6aaea",
   "metadata": {
    "tags": []
   },
   "source": [
    "### python to C++"
   ]
  },
  {
   "cell_type": "code",
   "execution_count": null,
   "id": "4c0f58bf-f069-4ff5-95c6-8d2ca7b300aa",
   "metadata": {},
   "outputs": [],
   "source": [
    "def test(a):\n",
    "    a +=1\n",
    "    return a\n",
    "\n",
    "py2cpp()"
   ]
  },
  {
   "cell_type": "code",
   "execution_count": null,
   "id": "24014514-d895-477b-a667-e1e35b26c8fd",
   "metadata": {},
   "outputs": [],
   "source": []
  },
  {
   "cell_type": "code",
   "execution_count": null,
   "id": "ef135314-e767-4774-9b05-583a13779809",
   "metadata": {},
   "outputs": [],
   "source": []
  },
  {
   "cell_type": "markdown",
   "id": "1ed0731a-8be0-442d-bd2f-4b5094bb2533",
   "metadata": {
    "jp-MarkdownHeadingCollapsed": true,
    "tags": []
   },
   "source": [
    "## 性能分析"
   ]
  },
  {
   "cell_type": "markdown",
   "id": "ef60885a-2cc2-40b6-9548-273fc51aefea",
   "metadata": {
    "jp-MarkdownHeadingCollapsed": true,
    "tags": []
   },
   "source": [
    "### 时间性能分析"
   ]
  },
  {
   "cell_type": "code",
   "execution_count": 20,
   "id": "88857370-da97-4d9f-8a5e-f6435ca84e6d",
   "metadata": {
    "tags": []
   },
   "outputs": [],
   "source": [
    "def test(a):\n",
    "    a +=1\n",
    "    return a"
   ]
  },
  {
   "cell_type": "code",
   "execution_count": 21,
   "id": "456d70c0-9a74-4c48-a4e6-d53e010cedee",
   "metadata": {
    "tags": []
   },
   "outputs": [
    {
     "name": "stdout",
     "output_type": "stream",
     "text": [
      "         3 function calls in 0.000 seconds\n",
      "\n",
      "   Ordered by: standard name\n",
      "\n",
      "   ncalls  tottime  percall  cumtime  percall filename:lineno(function)\n",
      "        1    0.000    0.000    0.000    0.000 <string>:1(<module>)\n",
      "        1    0.000    0.000    0.000    0.000 {built-in method builtins.exec}\n",
      "        1    0.000    0.000    0.000    0.000 {method 'disable' of '_lsprof.Profiler' objects}\n",
      "\n",
      "\n"
     ]
    }
   ],
   "source": [
    "opt.time_analyse.analyse('test')"
   ]
  },
  {
   "cell_type": "markdown",
   "id": "56acb000-55a8-499e-9e57-33fa0e96822c",
   "metadata": {
    "jp-MarkdownHeadingCollapsed": true,
    "tags": []
   },
   "source": [
    "#### 极端单个函数的时间消耗"
   ]
  },
  {
   "cell_type": "code",
   "execution_count": 22,
   "id": "32f822a1-70a0-424f-9151-e77a58be83ba",
   "metadata": {
    "tags": []
   },
   "outputs": [],
   "source": [
    "@opt.time_analyse.timecost()# 可以结合logger使用\n",
    "def test2(x):\n",
    "    return x +1"
   ]
  },
  {
   "cell_type": "code",
   "execution_count": 23,
   "id": "952f86c2-8a47-49d7-b83e-53c4fd02f6af",
   "metadata": {
    "tags": []
   },
   "outputs": [
    {
     "name": "stdout",
     "output_type": "stream",
     "text": [
      "test2 time :9.5367431640625e-07\n"
     ]
    },
    {
     "data": {
      "text/plain": [
       "13"
      ]
     },
     "execution_count": 23,
     "metadata": {},
     "output_type": "execute_result"
    }
   ],
   "source": [
    "test2(12)"
   ]
  },
  {
   "cell_type": "markdown",
   "id": "857d7ace-8517-4bdc-943c-f600565d39ba",
   "metadata": {
    "jp-MarkdownHeadingCollapsed": true,
    "tags": []
   },
   "source": [
    "#### 设置函数的timeout"
   ]
  },
  {
   "cell_type": "code",
   "execution_count": 3,
   "id": "96c2fdcb-7fe8-48ef-a402-779b752cf4e9",
   "metadata": {
    "tags": []
   },
   "outputs": [],
   "source": [
    "import time\n",
    "@opt.time_analyse.external_timeout(3)\n",
    "def test2(x):\n",
    "    time.sleep(5)\n",
    "    return x +1"
   ]
  },
  {
   "cell_type": "code",
   "execution_count": 4,
   "id": "0ec35147-5b72-4cd7-9dfb-9a631dcdc260",
   "metadata": {
    "collapsed": true,
    "jupyter": {
     "outputs_hidden": true
    },
    "tags": []
   },
   "outputs": [
    {
     "ename": "FunctionTimedOut",
     "evalue": "Function test2 (args=(12,)) (kwargs={}) timed out after 3.000000 seconds.\n",
     "output_type": "error",
     "traceback": [
      "\u001b[0;31m---------------------------------------------------------------------------\u001b[0m",
      "\u001b[0;31mFunctionTimedOut\u001b[0m                          Traceback (most recent call last)",
      "Cell \u001b[0;32mIn[4], line 1\u001b[0m\n\u001b[0;32m----> 1\u001b[0m \u001b[43mtest2\u001b[49m\u001b[43m(\u001b[49m\u001b[38;5;241;43m12\u001b[39;49m\u001b[43m)\u001b[49m\n",
      "File \u001b[0;32m~/opt/miniconda3/envs/py310_new/lib/python3.10/site-packages/func_timeout/dafunc.py:185\u001b[0m, in \u001b[0;36mfunc_set_timeout.<locals>._function_decorator.<locals>.<lambda>\u001b[0;34m(*args, **kwargs)\u001b[0m\n\u001b[1;32m    183\u001b[0m \u001b[38;5;28;01mdef\u001b[39;00m \u001b[38;5;21m_function_decorator\u001b[39m(func):\n\u001b[0;32m--> 185\u001b[0m     \u001b[38;5;28;01mreturn\u001b[39;00m wraps(func)(\u001b[38;5;28;01mlambda\u001b[39;00m \u001b[38;5;241m*\u001b[39margs, \u001b[38;5;241m*\u001b[39m\u001b[38;5;241m*\u001b[39mkwargs : \u001b[43mfunc_timeout\u001b[49m\u001b[43m(\u001b[49m\u001b[43mdefaultTimeout\u001b[49m\u001b[43m,\u001b[49m\u001b[43m \u001b[49m\u001b[43mfunc\u001b[49m\u001b[43m,\u001b[49m\u001b[43m \u001b[49m\u001b[43margs\u001b[49m\u001b[38;5;241;43m=\u001b[39;49m\u001b[43margs\u001b[49m\u001b[43m,\u001b[49m\u001b[43m \u001b[49m\u001b[43mkwargs\u001b[49m\u001b[38;5;241;43m=\u001b[39;49m\u001b[43mkwargs\u001b[49m\u001b[43m)\u001b[49m)\n",
      "File \u001b[0;32m~/opt/miniconda3/envs/py310_new/lib/python3.10/site-packages/func_timeout/dafunc.py:101\u001b[0m, in \u001b[0;36mfunc_timeout\u001b[0;34m(timeout, func, args, kwargs)\u001b[0m\n\u001b[1;32m     99\u001b[0m     thread\u001b[38;5;241m.\u001b[39m_stopThread(stopException)\n\u001b[1;32m    100\u001b[0m     thread\u001b[38;5;241m.\u001b[39mjoin(\u001b[38;5;28mmin\u001b[39m(\u001b[38;5;241m.1\u001b[39m, timeout \u001b[38;5;241m/\u001b[39m \u001b[38;5;241m50.0\u001b[39m))\n\u001b[0;32m--> 101\u001b[0m     \u001b[38;5;28;01mraise\u001b[39;00m FunctionTimedOut(\u001b[38;5;124m'\u001b[39m\u001b[38;5;124m'\u001b[39m, timeout, func, args, kwargs)\n\u001b[1;32m    102\u001b[0m \u001b[38;5;28;01melse\u001b[39;00m:\n\u001b[1;32m    103\u001b[0m     \u001b[38;5;66;03m# We can still cleanup the thread here..\u001b[39;00m\n\u001b[1;32m    104\u001b[0m     \u001b[38;5;66;03m# Still give a timeout... just... cuz..\u001b[39;00m\n\u001b[1;32m    105\u001b[0m     thread\u001b[38;5;241m.\u001b[39mjoin(\u001b[38;5;241m.5\u001b[39m)\n",
      "\u001b[0;31mFunctionTimedOut\u001b[0m: Function test2 (args=(12,)) (kwargs={}) timed out after 3.000000 seconds.\n"
     ]
    }
   ],
   "source": [
    "test2(12)"
   ]
  },
  {
   "cell_type": "markdown",
   "id": "9e4d4f6e-6203-47f0-a2c2-1417a77a81fd",
   "metadata": {
    "jp-MarkdownHeadingCollapsed": true,
    "tags": []
   },
   "source": [
    "### 空间性能分析"
   ]
  },
  {
   "cell_type": "code",
   "execution_count": 18,
   "id": "36322fbe-8f94-4dea-ae47-cc49190d07ea",
   "metadata": {
    "tags": []
   },
   "outputs": [
    {
     "name": "stdout",
     "output_type": "stream",
     "text": [
      "Filename: temp_file.py\n",
      "\n",
      "Line #    Mem usage    Increment  Occurrences   Line Contents\n",
      "=============================================================\n",
      "     1     46.9 MiB     46.9 MiB           1   def test(a):\n",
      "     2     46.9 MiB      0.0 MiB           1       a +=1\n",
      "     3     46.9 MiB      0.0 MiB           1       return a\n",
      "\n",
      "\n",
      "\n"
     ]
    }
   ],
   "source": [
    "x = opt.memory_analyse(test,10) #函数 ,与其参数"
   ]
  },
  {
   "cell_type": "code",
   "execution_count": null,
   "id": "39b13a80-54df-4040-b3c4-08e273d25e66",
   "metadata": {},
   "outputs": [],
   "source": []
  },
  {
   "cell_type": "markdown",
   "id": "6df59bdb-9958-4d49-bb03-b5e5eeda609d",
   "metadata": {
    "jp-MarkdownHeadingCollapsed": true,
    "tags": []
   },
   "source": [
    "## 收集,使用,测试用例"
   ]
  },
  {
   "cell_type": "code",
   "execution_count": 1,
   "id": "8fd27275-97b5-4d70-9243-6ed73cdbd6b2",
   "metadata": {
    "tags": []
   },
   "outputs": [],
   "source": [
    "from zxftools_dev.optimize import Optimize"
   ]
  },
  {
   "cell_type": "code",
   "execution_count": 4,
   "id": "16e363f2-cd7c-4631-ab71-36e6e129a291",
   "metadata": {
    "tags": []
   },
   "outputs": [],
   "source": [
    "# 正常使用 记录输入输出\n",
    "@Optimize.test_case(type='func')\n",
    "def test3(x):\n",
    "    return x+3"
   ]
  },
  {
   "cell_type": "code",
   "execution_count": 5,
   "id": "49f1f83f-3ccc-4686-a118-bb3bc4818b4b",
   "metadata": {
    "tags": []
   },
   "outputs": [
    {
     "data": {
      "text/plain": [
       "6"
      ]
     },
     "execution_count": 5,
     "metadata": {},
     "output_type": "execute_result"
    }
   ],
   "source": [
    "test3(3)"
   ]
  },
  {
   "cell_type": "code",
   "execution_count": 9,
   "id": "f3be3c91-cd63-4105-a0a4-0fa45f7fcd11",
   "metadata": {
    "tags": []
   },
   "outputs": [],
   "source": [
    "# 优先使用cache 记录输入输出\n",
    "@Optimize.test_case(type='cache')\n",
    "def test3(x):\n",
    "    return x+12"
   ]
  },
  {
   "cell_type": "code",
   "execution_count": 10,
   "id": "e711ee25-4de6-4130-9c4d-0f7b33e26d8e",
   "metadata": {
    "tags": []
   },
   "outputs": [
    {
     "data": {
      "text/plain": [
       "6"
      ]
     },
     "execution_count": 10,
     "metadata": {},
     "output_type": "execute_result"
    }
   ],
   "source": [
    "test3(3)"
   ]
  },
  {
   "cell_type": "code",
   "execution_count": 11,
   "id": "a3f63967-be47-4fb3-8108-d00452e16b1f",
   "metadata": {
    "tags": []
   },
   "outputs": [],
   "source": [
    "# 正常使用 不记录\n",
    "@Optimize.test_case(type='close')\n",
    "def test3(x):\n",
    "    return x+3"
   ]
  },
  {
   "cell_type": "code",
   "execution_count": 12,
   "id": "27302559-cfb0-4c72-85e4-e94b03d2081f",
   "metadata": {
    "tags": []
   },
   "outputs": [
    {
     "data": {
      "text/plain": [
       "7"
      ]
     },
     "execution_count": 12,
     "metadata": {},
     "output_type": "execute_result"
    }
   ],
   "source": [
    "test3(4)"
   ]
  },
  {
   "cell_type": "code",
   "execution_count": 18,
   "id": "84fa9b06-0512-4d0d-8361-574c4982cea3",
   "metadata": {
    "tags": []
   },
   "outputs": [],
   "source": [
    "# 验证\n",
    "@Optimize.test_case(type='verify')\n",
    "def test3(x):\n",
    "    return x+7"
   ]
  },
  {
   "cell_type": "code",
   "execution_count": 20,
   "id": "0eb74e13-b9a4-4eda-99f7-86a7eb7d344c",
   "metadata": {
    "tags": []
   },
   "outputs": [
    {
     "name": "stdout",
     "output_type": "stream",
     "text": [
      "Expected result: 6\n",
      "Actual result: 10\n"
     ]
    },
    {
     "data": {
      "text/plain": [
       "'Verify Fair'"
      ]
     },
     "execution_count": 20,
     "metadata": {},
     "output_type": "execute_result"
    }
   ],
   "source": [
    "test3()"
   ]
  },
  {
   "cell_type": "code",
   "execution_count": 16,
   "id": "b380a2a5-e8e4-4f6e-b839-e7cb7de4f93c",
   "metadata": {
    "tags": []
   },
   "outputs": [],
   "source": [
    "# 输出cache 的存储数据\n",
    "@Optimize.test_case(type='output')\n",
    "def test3(x):\n",
    "    return x+3"
   ]
  },
  {
   "cell_type": "code",
   "execution_count": 17,
   "id": "a182ccb2-50ed-4e21-b667-2ae574766bab",
   "metadata": {
    "tags": []
   },
   "outputs": [
    {
     "data": {
      "text/plain": [
       "{'keys': [[(4,), {}], [(3,), {}]], 'values': [11, 6]}"
      ]
     },
     "execution_count": 17,
     "metadata": {},
     "output_type": "execute_result"
    }
   ],
   "source": [
    "test3()"
   ]
  },
  {
   "cell_type": "code",
   "execution_count": 13,
   "id": "cf587cfc-834f-41ee-a9b9-0e5ebc91526f",
   "metadata": {
    "tags": []
   },
   "outputs": [],
   "source": [
    "# 输出为数据集\n",
    "@Optimize.test_case(type='output_dataset',dataset_path='output.json')\n",
    "def test3(x):\n",
    "    return x+3"
   ]
  },
  {
   "cell_type": "code",
   "execution_count": 15,
   "id": "dcfafb82-36e3-4750-9048-ff5c107b3e9d",
   "metadata": {
    "tags": []
   },
   "outputs": [
    {
     "data": {
      "text/plain": [
       "[(4, 11), (3, 6)]"
      ]
     },
     "execution_count": 15,
     "metadata": {},
     "output_type": "execute_result"
    }
   ],
   "source": [
    "test3(4)"
   ]
  },
  {
   "cell_type": "code",
   "execution_count": null,
   "id": "c5622ebc-189a-42ef-99fc-08bfa40eb1cd",
   "metadata": {},
   "outputs": [],
   "source": []
  },
  {
   "cell_type": "markdown",
   "id": "aaedba4a-478b-4099-b170-e7bf2b228115",
   "metadata": {
    "jp-MarkdownHeadingCollapsed": true,
    "tags": []
   },
   "source": [
    "### 使用AB测试进行代码重构测试"
   ]
  },
  {
   "cell_type": "code",
   "execution_count": 32,
   "id": "38f15fe5-0e15-4fd8-8ea5-d726fd93ddf5",
   "metadata": {
    "tags": []
   },
   "outputs": [],
   "source": [
    "from zxftools_dev.optimize import Optimize"
   ]
  },
  {
   "cell_type": "code",
   "execution_count": 33,
   "id": "e3c244aa-9d65-46cb-b9dc-b7c9aaa7e26d",
   "metadata": {
    "tags": []
   },
   "outputs": [],
   "source": [
    "def testx(x):\n",
    "    return x+3"
   ]
  },
  {
   "cell_type": "code",
   "execution_count": 34,
   "id": "bff4230d-b1e2-49b8-91bf-f4a64413c6a8",
   "metadata": {
    "tags": []
   },
   "outputs": [],
   "source": [
    "@Optimize.test_case2parallel(testx)\n",
    "def testy(x):\n",
    "    return x + 4\n"
   ]
  },
  {
   "cell_type": "code",
   "execution_count": 35,
   "id": "71cb2981-0370-466c-9a5c-0cc8dedc759d",
   "metadata": {
    "tags": []
   },
   "outputs": [
    {
     "name": "stdout",
     "output_type": "stream",
     "text": [
      "Comparison failed: The results do not match.\n",
      "Expected result: 15\n",
      "Actual result: 16\n"
     ]
    }
   ],
   "source": [
    "testy(12)"
   ]
  },
  {
   "cell_type": "code",
   "execution_count": null,
   "id": "11de1558-261e-48d9-bb69-35619025b1ea",
   "metadata": {},
   "outputs": [],
   "source": []
  },
  {
   "cell_type": "markdown",
   "id": "bee55b71-0dd1-40f8-a8f0-13965198cde6",
   "metadata": {
    "tags": []
   },
   "source": [
    "## 多线程/异步 TODO"
   ]
  },
  {
   "cell_type": "markdown",
   "id": "680c4892-f0e4-4cb4-88ab-879168a093ad",
   "metadata": {
    "jp-MarkdownHeadingCollapsed": true,
    "tags": []
   },
   "source": [
    "### 开辟分支,防止主进程阻塞"
   ]
  },
  {
   "cell_type": "code",
   "execution_count": 1,
   "id": "951e95ac-d975-4fe3-b2b4-289d38db3890",
   "metadata": {
    "tags": []
   },
   "outputs": [],
   "source": [
    "from zxftools_dev.optimize import Optimize"
   ]
  },
  {
   "cell_type": "code",
   "execution_count": 2,
   "id": "8d53a1f4-55a7-40f2-9ca5-b9bf3b1c56da",
   "metadata": {
    "tags": []
   },
   "outputs": [
    {
     "name": "stdout",
     "output_type": "stream",
     "text": [
      "end\n"
     ]
    }
   ],
   "source": [
    "import time\n",
    "@Optimize.decorator\n",
    "def inner(x):\n",
    "    time.sleep(x)\n",
    "    print('end')\n",
    "\n",
    "inner(x=2)"
   ]
  },
  {
   "cell_type": "code",
   "execution_count": null,
   "id": "8a8ea9c7-7ffc-4da9-ac55-3b8607ad0e1e",
   "metadata": {},
   "outputs": [],
   "source": []
  },
  {
   "cell_type": "markdown",
   "id": "95ff7adb-2023-4763-b8a8-5e5b0765cd32",
   "metadata": {
    "jp-MarkdownHeadingCollapsed": true,
    "tags": []
   },
   "source": [
    "### 多线程的复制程序\n",
    "可以在不同随机数下运行以查看结果"
   ]
  },
  {
   "cell_type": "code",
   "execution_count": 29,
   "id": "cdb22998-fda4-42bc-b785-420daf609a70",
   "metadata": {
    "tags": []
   },
   "outputs": [],
   "source": [
    "@Optimize.thread_multi(4)\n",
    "def test4():\n",
    "    import random\n",
    "    print(random.randint(1,100))\n",
    "    print('hello\\n')"
   ]
  },
  {
   "cell_type": "code",
   "execution_count": 30,
   "id": "f4f9127e-e3e1-464a-a4a1-aa2dff99ea53",
   "metadata": {
    "collapsed": true,
    "jupyter": {
     "outputs_hidden": true
    },
    "tags": []
   },
   "outputs": [
    {
     "name": "stdout",
     "output_type": "stream",
     "text": [
      "77\n",
      "hello\n",
      "\n",
      "99\n",
      "hello\n",
      "\n",
      "20\n",
      "hello\n",
      "\n",
      "100\n",
      "hello\n",
      "\n"
     ]
    },
    {
     "data": {
      "text/plain": [
       "[None, None, None, None]"
      ]
     },
     "execution_count": 30,
     "metadata": {},
     "output_type": "execute_result"
    }
   ],
   "source": [
    "test4()"
   ]
  },
  {
   "cell_type": "markdown",
   "id": "e028749a-e8ea-4829-957b-94b8d61661b9",
   "metadata": {
    "jp-MarkdownHeadingCollapsed": true,
    "tags": []
   },
   "source": [
    "### 使用多线程处理大数据量的方案, 必须使用py文件"
   ]
  },
  {
   "cell_type": "code",
   "execution_count": 32,
   "id": "4f89c2b1-0015-40bc-ad48-8025cc320a5a",
   "metadata": {
    "tags": []
   },
   "outputs": [
    {
     "name": "stdout",
     "output_type": "stream",
     "text": [
      "Overwriting pp.py\n"
     ]
    }
   ],
   "source": [
    "%%writefile pp.py\n",
    "# 要在if __name__ == '__main__': 中使用\n",
    "from zxftools.optimize import Optimize\n",
    "import time\n",
    "def test5(x):\n",
    "    import random\n",
    "    time.sleep(2)\n",
    "    return random.randint(1, 100) + x\n",
    "\n",
    "def gen_data():\n",
    "    yield 1\n",
    "    yield 7\n",
    "    yield 3\n",
    "    yield 4\n",
    "    yield 5\n",
    "    \n",
    "if __name__ == '__main__':\n",
    "    print(time.ctime())\n",
    "    results = Optimize.thread_list(test5,[1,2,3,4,])\n",
    "    \n",
    "    for result in results:\n",
    "        print(result)\n",
    "    print(time.ctime())\n",
    "    \n",
    "    results = Optimize.thread_list(test5,gen_data(),processes=2, chunksize= 1)\n",
    "    \n",
    "    for result in results:\n",
    "        print(result)\n",
    "    print(time.ctime())\n",
    "    "
   ]
  },
  {
   "cell_type": "code",
   "execution_count": 33,
   "id": "87d327b5-296c-430f-9fcc-a7acd3bc3cfc",
   "metadata": {
    "collapsed": true,
    "jupyter": {
     "outputs_hidden": true
    },
    "tags": []
   },
   "outputs": [
    {
     "name": "stdout",
     "output_type": "stream",
     "text": [
      "Fri Apr  5 09:25:31 2024\n",
      "28\n",
      "102\n",
      "29\n",
      "104\n",
      "Fri Apr  5 09:25:34 2024\n",
      "67\n",
      "51\n",
      "85\n",
      "8\n",
      "61\n"
     ]
    }
   ],
   "source": [
    "!python pp.py"
   ]
  },
  {
   "cell_type": "code",
   "execution_count": null,
   "id": "4d306679-3bbf-48f4-bdbe-ae4b614b5fd1",
   "metadata": {},
   "outputs": [],
   "source": []
  },
  {
   "cell_type": "markdown",
   "id": "c3c62bd2-6fc4-426f-a8e5-43e523094f61",
   "metadata": {
    "tags": []
   },
   "source": [
    "### thread_multis 不同函数的不同运行请求 一般使用在多个服务同时启动的情况"
   ]
  },
  {
   "cell_type": "code",
   "execution_count": null,
   "id": "38481cba-aa79-4519-9e70-1d2ea5094cb2",
   "metadata": {},
   "outputs": [],
   "source": [
    "#TODO"
   ]
  },
  {
   "cell_type": "code",
   "execution_count": 34,
   "id": "2faaa92f-447b-4214-9ac1-9f5bb3487157",
   "metadata": {
    "tags": []
   },
   "outputs": [],
   "source": [
    "from zxftools_dev.optimize import Optimize"
   ]
  },
  {
   "cell_type": "code",
   "execution_count": 36,
   "id": "a17ec071-6670-4052-92e7-fde2014f918e",
   "metadata": {
    "tags": []
   },
   "outputs": [],
   "source": [
    "def test5(x):\n",
    "    return x + 1"
   ]
  },
  {
   "cell_type": "code",
   "execution_count": 37,
   "id": "0b794f92-f717-45f5-a797-3837a83fc038",
   "metadata": {
    "collapsed": true,
    "jupyter": {
     "outputs_hidden": true
    },
    "tags": []
   },
   "outputs": [
    {
     "name": "stderr",
     "output_type": "stream",
     "text": [
      "Exception in thread Exception in thread Thread-15 (test5):\n",
      "Traceback (most recent call last):\n",
      "  File \"/Users/zhaoxuefeng/opt/miniconda3/envs/py310_new/lib/python3.10/threading.py\", line 1016, in _bootstrap_inner\n",
      "Thread-14 (test5):\n",
      "Traceback (most recent call last):\n",
      "  File \"/Users/zhaoxuefeng/opt/miniconda3/envs/py310_new/lib/python3.10/threading.py\", line 1016, in _bootstrap_inner\n",
      "    self.run()\n",
      "  File \"/Users/zhaoxuefeng/opt/miniconda3/envs/py310_new/lib/python3.10/site-packages/ipykernel/ipkernel.py\", line 766, in run_closure\n",
      "    self.run()\n",
      "  File \"/Users/zhaoxuefeng/opt/miniconda3/envs/py310_new/lib/python3.10/site-packages/ipykernel/ipkernel.py\", line 766, in run_closure\n",
      "    _threading_Thread_run(self)\n",
      "  File \"/Users/zhaoxuefeng/opt/miniconda3/envs/py310_new/lib/python3.10/threading.py\", line 953, in run\n",
      "    _threading_Thread_run(self)\n",
      "  File \"/Users/zhaoxuefeng/opt/miniconda3/envs/py310_new/lib/python3.10/threading.py\", line 953, in run\n",
      "    self._target(*self._args, **self._kwargs)\n",
      "TypeError: __main__.test5() argument after * must be an iterable, not int\n",
      "    self._target(*self._args, **self._kwargs)\n",
      "TypeError: __main__.test5() argument after * must be an iterable, not int\n"
     ]
    }
   ],
   "source": [
    "Optimize.thread_multis([test5,test5],args_list=[5,6],kwargs_list=[{},{}])"
   ]
  },
  {
   "cell_type": "code",
   "execution_count": null,
   "id": "7a4e3b6c-1e9b-4f97-b82d-601b55fc9362",
   "metadata": {},
   "outputs": [],
   "source": []
  },
  {
   "cell_type": "code",
   "execution_count": null,
   "id": "5fae362e-1484-42a8-925e-01460019d0ef",
   "metadata": {},
   "outputs": [],
   "source": []
  },
  {
   "cell_type": "code",
   "execution_count": null,
   "id": "68042c0f-109b-44ae-8eb2-278c2f7d4f2d",
   "metadata": {},
   "outputs": [],
   "source": []
  },
  {
   "cell_type": "code",
   "execution_count": null,
   "id": "aa535ee0-5c7d-40b2-8896-4b44d182139e",
   "metadata": {},
   "outputs": [],
   "source": []
  },
  {
   "cell_type": "code",
   "execution_count": null,
   "id": "6e3b1933-9a91-4b57-ae01-0110e668d92c",
   "metadata": {},
   "outputs": [],
   "source": [
    "\n"
   ]
  }
 ],
 "metadata": {
  "kernelspec": {
   "display_name": "Python 3 (ipykernel)",
   "language": "python",
   "name": "python3"
  },
  "language_info": {
   "codemirror_mode": {
    "name": "ipython",
    "version": 3
   },
   "file_extension": ".py",
   "mimetype": "text/x-python",
   "name": "python",
   "nbconvert_exporter": "python",
   "pygments_lexer": "ipython3",
   "version": "3.10.14"
  }
 },
 "nbformat": 4,
 "nbformat_minor": 5
}
