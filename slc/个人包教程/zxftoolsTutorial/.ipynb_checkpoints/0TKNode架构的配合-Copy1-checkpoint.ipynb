{
 "cells": [
  {
   "cell_type": "code",
   "execution_count": null,
   "id": "812c9239-4b49-4bb0-835b-e07579f21f86",
   "metadata": {},
   "outputs": [],
   "source": [
    "from zxftools_dev.tnode"
   ]
  },
  {
   "cell_type": "code",
   "execution_count": null,
   "id": "0fabcbea-de01-4ce2-97e2-aea6cbf52aa1",
   "metadata": {},
   "outputs": [],
   "source": []
  },
  {
   "cell_type": "code",
   "execution_count": null,
   "id": "3540817c-2c6e-4d22-b2c5-11859d8d7035",
   "metadata": {},
   "outputs": [],
   "source": []
  },
  {
   "cell_type": "code",
   "execution_count": 3,
   "id": "24701cbb-0d86-43f5-9f59-1b686b246cd1",
   "metadata": {
    "tags": []
   },
   "outputs": [],
   "source": [
    "def weather_info(question:str):\n",
    "    \"\"\"\n",
    "    the tool to get the weather info\n",
    "    \"\"\"\n",
    "    result = '天气不错 北风 37度'\n",
    "    return result"
   ]
  },
  {
   "cell_type": "code",
   "execution_count": null,
   "id": "7b8e8fed-e40b-42a3-aace-1b64037e260f",
   "metadata": {
    "collapsed": true,
    "jupyter": {
     "outputs_hidden": true
    },
    "tags": []
   },
   "outputs": [
    {
     "name": "stderr",
     "output_type": "stream",
     "text": [
      "INFO:     Started server process [59507]\n",
      "INFO:     Waiting for application startup.\n",
      "INFO:     Application startup complete.\n",
      "INFO:     Uvicorn running on http://localhost:8001 (Press CTRL+C to quit)\n"
     ]
    },
    {
     "name": "stdout",
     "output_type": "stream",
     "text": [
      "INFO:     ::1:52952 - \"POST /add_mission HTTP/1.1\" 200 OK\n",
      "\u001b[1;3;38;5;200mThought: The current language of the user is: zh_CN. I need to use a tool to help me answer the question.\n",
      "Action: weather_info\n",
      "Action Input: {'question': '获取今天的天气'}\n",
      "\u001b[0m\u001b[1;3;34mObservation: 天气不错 北风 37度\n",
      "\u001b[0m\u001b[1;3;38;5;200mThought: I can answer without using any more tools. I'll use the user's language to answer.\n",
      "Answer: 今天的天气是北风，温度为37度。\n",
      "\u001b[0mnotice success\n",
      "*******************************\n",
      "[] missions\n",
      "*******************************\n",
      "{} hang_missions\n",
      "*******************************\n",
      "81783 mission_id\n",
      "*******************************\n",
      "26d10187-6a16-41d8-9be7-66e4f3fb2376 task_id\n",
      "*******************************\n",
      "True is_last\n",
      "*******************************\n",
      "获取今天的天气 content\n",
      "*******************************\n",
      "1 priority\n",
      "*******************************\n",
      "[] agent.task_ids****\n"
     ]
    }
   ],
   "source": [
    "AgentAPIService(_tools=[weather_info],verbose=True,port=8001).start()"
   ]
  },
  {
   "cell_type": "code",
   "execution_count": null,
   "id": "8d3377f3-053d-4e10-8a7a-7dcc90093b28",
   "metadata": {},
   "outputs": [],
   "source": []
  },
  {
   "cell_type": "code",
   "execution_count": null,
   "id": "5b42ffdb-0e83-4015-bc98-e4ef1fff959d",
   "metadata": {},
   "outputs": [],
   "source": []
  },
  {
   "cell_type": "code",
   "execution_count": null,
   "id": "fab169cc-8dec-4716-b858-ee394eecc54f",
   "metadata": {},
   "outputs": [],
   "source": []
  },
  {
   "cell_type": "markdown",
   "id": "bfc481d1-5000-40bd-a1b3-97e396fe74b7",
   "metadata": {},
   "source": [
    "# Test"
   ]
  },
  {
   "cell_type": "code",
   "execution_count": null,
   "id": "03f20fd6-e86d-4c30-b82f-a88bf5f226f0",
   "metadata": {},
   "outputs": [],
   "source": []
  },
  {
   "cell_type": "code",
   "execution_count": null,
   "id": "70e9e0f6-e0c5-41fa-9971-449747cdf3bc",
   "metadata": {},
   "outputs": [],
   "source": []
  },
  {
   "cell_type": "code",
   "execution_count": null,
   "id": "5fdfa081-e6e8-4dd7-b795-c129de5c6ce6",
   "metadata": {},
   "outputs": [],
   "source": []
  },
  {
   "cell_type": "code",
   "execution_count": 33,
   "id": "8c71611c-623a-49e6-be2d-e8ee80ad05bb",
   "metadata": {
    "tags": []
   },
   "outputs": [],
   "source": [
    "class Hello(TNode):\n",
    "    topic = \"问好\"\n",
    "    llm_name = 'gpt-3.5-turbo-0613'\n",
    "    def __init__(self):\n",
    "        super().__init__()\n",
    "        \n",
    "    def prompts(self,**kwargs):\n",
    "        return \"\"\"\n",
    "你是一个热情的管家,如果别人向你打招呼,你会热情的回应.\n",
    "并以服务者的姿态与其交谈 \n",
    "\n",
    "客人:{inputs}\n",
    "管家:\n",
    "        \"\"\".format(**kwargs)\n",
    "        \n",
    "    def strategy(self,inputs:str)->str:\n",
    "         # 问需求或者等待需求\n",
    "        prompt = self.prompts(inputs=inputs)\n",
    "        result = self.llm.complete(prompt).text\n",
    "        self.llm\n",
    "        return result\n",
    "    "
   ]
  },
  {
   "cell_type": "code",
   "execution_count": 36,
   "id": "625d644d-1706-4bb5-97db-c387a8af9e97",
   "metadata": {
    "tags": []
   },
   "outputs": [],
   "source": [
    "class Steward(TNode):\n",
    "    topic = \"负责管理\"\n",
    "    llm_name = 'gpt-3.5-turbo-0613'\n",
    "    def __init__(self):\n",
    "        super().__init__()\n",
    "        \n",
    "    def strategy(self,inputs:str)->str:\n",
    "        \n",
    "        result = Hello().run(inputs)\n",
    "        # 寻找合适的机器人来做\n",
    "        \n",
    "        # 获得机器人的反馈\n",
    "        \n",
    "        # 主动提问和预估 或者获得预估时间\n",
    "        \n",
    "        \n",
    "        return result\n",
    "    "
   ]
  }
 ],
 "metadata": {
  "kernelspec": {
   "display_name": "Python 3 (ipykernel)",
   "language": "python",
   "name": "python3"
  },
  "language_info": {
   "codemirror_mode": {
    "name": "ipython",
    "version": 3
   },
   "file_extension": ".py",
   "mimetype": "text/x-python",
   "name": "python",
   "nbconvert_exporter": "python",
   "pygments_lexer": "ipython3",
   "version": "3.10.14"
  }
 },
 "nbformat": 4,
 "nbformat_minor": 5
}
