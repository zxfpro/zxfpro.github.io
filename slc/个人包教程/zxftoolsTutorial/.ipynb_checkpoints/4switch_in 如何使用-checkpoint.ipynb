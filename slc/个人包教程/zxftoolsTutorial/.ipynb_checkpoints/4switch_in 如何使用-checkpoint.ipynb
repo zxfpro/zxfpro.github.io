{
 "cells": [
  {
   "cell_type": "markdown",
   "id": "4ce9df67-4ff6-4c02-816b-024ea10cb466",
   "metadata": {
    "tags": []
   },
   "source": [
    "# 接入生活应用"
   ]
  },
  {
   "cell_type": "markdown",
   "id": "470733ee-c493-4dfc-88dd-c2fe222250fe",
   "metadata": {
    "tags": []
   },
   "source": [
    "## 接入手机"
   ]
  },
  {
   "cell_type": "markdown",
   "id": "01dfde62-07c5-422b-beab-2b95078af7fb",
   "metadata": {
    "tags": []
   },
   "source": [
    "### 接入钉钉"
   ]
  },
  {
   "cell_type": "code",
   "execution_count": 1,
   "id": "970dbbb9-d61f-4fff-90a0-e0fa1ef764f7",
   "metadata": {
    "tags": []
   },
   "outputs": [],
   "source": [
    "from zxftools_dev.switch_in import DDMessage"
   ]
  },
  {
   "cell_type": "code",
   "execution_count": 3,
   "id": "5649d96d-ce44-4798-9b21-50e390aee654",
   "metadata": {
    "tags": []
   },
   "outputs": [],
   "source": [
    "DDMessage().send('完成')"
   ]
  },
  {
   "cell_type": "markdown",
   "id": "9b1d186a-e6fe-4f76-9d60-aa85293ebc60",
   "metadata": {},
   "source": [
    "### 接入微信"
   ]
  },
  {
   "cell_type": "code",
   "execution_count": null,
   "id": "145c6130-ce9a-4c03-901d-41943c7509fb",
   "metadata": {},
   "outputs": [],
   "source": []
  }
 ],
 "metadata": {
  "kernelspec": {
   "display_name": "Python 3 (ipykernel)",
   "language": "python",
   "name": "python3"
  },
  "language_info": {
   "codemirror_mode": {
    "name": "ipython",
    "version": 3
   },
   "file_extension": ".py",
   "mimetype": "text/x-python",
   "name": "python",
   "nbconvert_exporter": "python",
   "pygments_lexer": "ipython3",
   "version": "3.10.14"
  }
 },
 "nbformat": 4,
 "nbformat_minor": 5
}
