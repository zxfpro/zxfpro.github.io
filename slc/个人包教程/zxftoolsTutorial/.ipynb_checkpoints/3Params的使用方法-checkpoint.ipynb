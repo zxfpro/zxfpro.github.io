{
 "cells": [
  {
   "cell_type": "markdown",
   "id": "05756b62-f600-47ac-8aec-0ac3a49dbc91",
   "metadata": {},
   "source": [
    "# Params的使用 和 Project 的管理 "
   ]
  },
  {
   "cell_type": "code",
   "execution_count": null,
   "id": "f9e049d4-8587-48e6-a458-e2d45aa5566c",
   "metadata": {},
   "outputs": [],
   "source": [
    "# 1 要增加从 csv 读取和保存至csv /DataFrame的功能 "
   ]
  },
  {
   "cell_type": "code",
   "execution_count": null,
   "id": "4a800809-ebcc-443c-a60e-f5ce6404c800",
   "metadata": {},
   "outputs": [],
   "source": [
    "# 2 可以自定义设置优先级"
   ]
  },
  {
   "cell_type": "code",
   "execution_count": null,
   "id": "48708357-ff1f-4917-991d-1f85a82f7c55",
   "metadata": {},
   "outputs": [],
   "source": []
  },
  {
   "cell_type": "code",
   "execution_count": 35,
   "id": "24bb780b-9cc4-4538-b629-a6765ee800b1",
   "metadata": {
    "tags": []
   },
   "outputs": [],
   "source": [
    "class Project():\n",
    "    def __init__(self):\n",
    "        self.ProjectControl = Params('ProjectControl',{'name','doc','version',\n",
    "                                             'history_version','history_version_state',# test stable docker\n",
    "                                             'dependency_package', # 映射工具包\n",
    "                                             'customer','customer_name','similar_project',\n",
    "                                             'resource','deployment_form','debug_log','state',# test stable docker\n",
    "                                             'envrionment','notebook_dir'},cache_home='Projects')\n",
    "        \n",
    "    def create(self,name=\"\",\n",
    "                    ):\n",
    "        kb_llama_index = self.ProjectControl( name = name,\n",
    "                doc = \"数据分拣项目 前端项目\",\n",
    "                 version = 'v1',\n",
    "                 history_version = {'v1':'修复了bug 增加了API',},\n",
    "                 history_version_state = {'v1':'test'}, # test stable docker\n",
    "                 dependency_package = '', # 映射工具包\n",
    "                 customer = '现在无 原属于亚宏的项目',\n",
    "                 customer_name = 0,\n",
    "                 similar_project = [''],\n",
    "                 resource = '需要使用GPU',\n",
    "                 deployment_form = '常规部署流程',\n",
    "                 debug_log = None,\n",
    "                 state = 'stable', # test stable docker\n",
    "                 envrionment = 'test_sorting',\n",
    "                 notebook_dir = '无')\n",
    "        kb_llama_index.output(f'Projects/{name}.yaml')\n",
    "        return kb_llama_index\n",
    "    \n",
    "    def load(self,path):\n",
    "        kb_llama_index = self.ProjectControl.build_by_path(path)\n",
    "        return kb_llama_index\n",
    "        "
   ]
  },
  {
   "cell_type": "code",
   "execution_count": 36,
   "id": "2952b7df-f897-4f27-8b64-278557b9ced5",
   "metadata": {
    "tags": []
   },
   "outputs": [],
   "source": [
    "a = Project()"
   ]
  },
  {
   "cell_type": "code",
   "execution_count": 38,
   "id": "7515c61b-5677-4148-92c5-01ba5b3b770d",
   "metadata": {
    "tags": []
   },
   "outputs": [
    {
     "name": "stdout",
     "output_type": "stream",
     "text": [
      "\u001b[34mProjectControl\u001b[m\u001b[m      kb_llama_index.yaml kb_rail.yaml\n",
      "electricity.yaml    kb_mobile.yaml      sortingSystem.yaml\n"
     ]
    }
   ],
   "source": [
    "!ls Projects"
   ]
  },
  {
   "cell_type": "code",
   "execution_count": 55,
   "id": "06420e70-7ea5-45aa-b0b2-3445b462b887",
   "metadata": {
    "tags": []
   },
   "outputs": [],
   "source": [
    "k = a.load('Projects/kb_mobile.yaml')"
   ]
  },
  {
   "cell_type": "code",
   "execution_count": 56,
   "id": "5ec65ba2-1eca-470a-87c7-ca2bff2fc844",
   "metadata": {
    "tags": []
   },
   "outputs": [],
   "source": [
    "c = a.create(name='sortingSystem')"
   ]
  },
  {
   "cell_type": "code",
   "execution_count": 57,
   "id": "d240796c-c85b-4168-af89-ff222b7ee4c6",
   "metadata": {
    "tags": []
   },
   "outputs": [
    {
     "data": {
      "text/plain": [
       "'sortingSystem'"
      ]
     },
     "execution_count": 57,
     "metadata": {},
     "output_type": "execute_result"
    }
   ],
   "source": [
    "c.name"
   ]
  },
  {
   "cell_type": "code",
   "execution_count": null,
   "id": "7ad3a7c5-d0ec-48c6-ba3d-26d2c232765f",
   "metadata": {},
   "outputs": [],
   "source": []
  },
  {
   "cell_type": "code",
   "execution_count": null,
   "id": "d50098d5-a0ac-4737-a3ca-89cd2a2ffd34",
   "metadata": {},
   "outputs": [],
   "source": []
  },
  {
   "cell_type": "code",
   "execution_count": null,
   "id": "dc4bf84f-11d7-4b31-82cf-ff2ca0428ba3",
   "metadata": {},
   "outputs": [],
   "source": []
  },
  {
   "cell_type": "code",
   "execution_count": null,
   "id": "865eb015-653d-4200-b7be-df10c83d3cca",
   "metadata": {},
   "outputs": [],
   "source": []
  },
  {
   "cell_type": "code",
   "execution_count": 1,
   "id": "1b7d0de7-bf52-4d56-9b43-da58e4e34741",
   "metadata": {},
   "outputs": [],
   "source": [
    "import zxftools\n",
    "from zxftools import Params"
   ]
  },
  {
   "cell_type": "markdown",
   "id": "e97b149a-a640-4503-80c1-d08c96f1d13d",
   "metadata": {
    "tags": []
   },
   "source": [
    "## 定义"
   ]
  },
  {
   "cell_type": "code",
   "execution_count": 3,
   "id": "cf0e589c-3663-427f-b798-f5888daefb43",
   "metadata": {},
   "outputs": [],
   "source": [
    "ProjectConcrol = Params('~/.zxf_file/cache/ProjectConcrol',{'name','doc','version',\n",
    "                                             'history_version','history_version_state',# test stable docker\n",
    "                                             'dependency_package', # 映射工具包\n",
    "                                             'customer','customer_name','similar_project',\n",
    "                                             'resource','deployment_form','debug_log','state',# test stable docker\n",
    "                                             'envrionment','notebook_dir'},)"
   ]
  },
  {
   "cell_type": "markdown",
   "id": "ed5301fe-517e-4b6a-8b89-531a69faa853",
   "metadata": {},
   "source": [
    "## 实例化"
   ]
  },
  {
   "cell_type": "markdown",
   "id": "68fee50c-1eb3-4e7a-9746-3a40a8260e1a",
   "metadata": {},
   "source": [
    "### 第一次实例化 "
   ]
  },
  {
   "cell_type": "code",
   "execution_count": 3,
   "id": "c61aa594-10d3-467b-9910-2219f83a5a08",
   "metadata": {},
   "outputs": [
    {
     "data": {
      "text/plain": [
       "'Thu Feb 29 14:43:59 2024'"
      ]
     },
     "execution_count": 3,
     "metadata": {},
     "output_type": "execute_result"
    }
   ],
   "source": [
    "kb_llama_index = ProjectConcrol( name = \"kb_llama_index\",\n",
    "                doc = \"使用llama-index 重构知识库体系 增强知识库的稳定性与拓展性\",\n",
    "                 version = 'v1',\n",
    "                 history_version = {'v0':'调研'},\n",
    "                 history_version_state = {'v0':'test'}, # test stable docker\n",
    "                 dependency_package = 'package-q_kb', # 映射工具包\n",
    "                 customer = None,\n",
    "                 customer_name = 0,\n",
    "                 similar_project = ['kb'],\n",
    "                 resource = None,\n",
    "                 deployment_form = '常规部署流程',\n",
    "                 debug_log = None,\n",
    "                 state = '', # test stable docker\n",
    "                 envrionment = 'conda_kb_llama_',\n",
    "                 notebook_dir = '/Users/zhaoxuefeng/Documents/Project/Work/llamaindex架构/llama_index.ipynb')\n",
    "kb_llama_index.createtime"
   ]
  },
  {
   "cell_type": "code",
   "execution_count": null,
   "id": "adeb6e10-7d87-457d-8388-7d4ac127047a",
   "metadata": {},
   "outputs": [],
   "source": [
    "这个params 不太好用,可以整合到管理者中"
   ]
  },
  {
   "cell_type": "code",
   "execution_count": null,
   "id": "b24e8320-4812-4481-a3ae-2d52d3e689ea",
   "metadata": {},
   "outputs": [],
   "source": [
    "密码管理?"
   ]
  },
  {
   "cell_type": "markdown",
   "id": "7af84b95-ab31-4702-808f-6b98dfa1cdaf",
   "metadata": {},
   "source": [
    "### 加载已经存在的参数进行实例化 "
   ]
  },
  {
   "cell_type": "code",
   "execution_count": 4,
   "id": "2d0f92dd-cf9e-43fe-94b2-2a42161f9f6b",
   "metadata": {
    "tags": []
   },
   "outputs": [
    {
     "data": {
      "text/plain": [
       "'Thu Feb 29 14:44:01 2024'"
      ]
     },
     "execution_count": 4,
     "metadata": {},
     "output_type": "execute_result"
    }
   ],
   "source": [
    "kb_llama_index = ProjectConcrol.build_by_path('output.yaml')\n",
    "kb_llama_index.createtime"
   ]
  },
  {
   "cell_type": "markdown",
   "id": "28b36dbd-74c7-459e-a1c2-eb4141b70616",
   "metadata": {},
   "source": [
    "### 配置默认参数 使用灵活的方式\n",
    "##### 以上两种方法的补充 适用于有大量的默认值,同时需要灵活调整个别值的情况"
   ]
  },
  {
   "cell_type": "code",
   "execution_count": 5,
   "id": "d1158b4d-1d04-4f79-bfa6-be1dcbc6b639",
   "metadata": {
    "tags": []
   },
   "outputs": [
    {
     "data": {
      "text/plain": [
       "'Thu Feb 29 14:44:30 2024'"
      ]
     },
     "execution_count": 5,
     "metadata": {},
     "output_type": "execute_result"
    }
   ],
   "source": [
    "ProjectConcrol.set_default('output.yaml')\n",
    "kb_llama_index = ProjectConcrol(customer='武商梦时代')\n",
    "kb_llama_index.createtime"
   ]
  },
  {
   "cell_type": "markdown",
   "id": "eec67537-bc9a-49a1-84ac-03d8bcae5527",
   "metadata": {},
   "source": [
    "### 使用环境变量进行全局参数配置"
   ]
  },
  {
   "cell_type": "code",
   "execution_count": 6,
   "id": "3e92661c-8ea6-42bf-b339-819635d05183",
   "metadata": {
    "tags": []
   },
   "outputs": [],
   "source": [
    "pass"
   ]
  },
  {
   "cell_type": "markdown",
   "id": "e48d3e88-9f08-4fa1-a9e1-4e830461959d",
   "metadata": {
    "tags": []
   },
   "source": [
    "## 使用"
   ]
  },
  {
   "cell_type": "markdown",
   "id": "7505a86f-cca8-4476-bbc2-161570981954",
   "metadata": {
    "tags": []
   },
   "source": [
    "### 点语法直接使用\n",
    "##### 无法通过赋值改变属性值"
   ]
  },
  {
   "cell_type": "code",
   "execution_count": 8,
   "id": "66fcbf67-ae55-44b3-bbc4-c353416fd432",
   "metadata": {
    "tags": []
   },
   "outputs": [
    {
     "data": {
      "text/plain": [
       "'123'"
      ]
     },
     "execution_count": 8,
     "metadata": {},
     "output_type": "execute_result"
    }
   ],
   "source": [
    "kb_llama_index.name"
   ]
  },
  {
   "cell_type": "code",
   "execution_count": 9,
   "id": "a10c4d3b-65b1-424e-bf3f-c815696a638c",
   "metadata": {
    "tags": []
   },
   "outputs": [
    {
     "ename": "AttributeError",
     "evalue": "can't set attribute",
     "output_type": "error",
     "traceback": [
      "\u001b[0;31m---------------------------------------------------------------------------\u001b[0m",
      "\u001b[0;31mAttributeError\u001b[0m                            Traceback (most recent call last)",
      "Cell \u001b[0;32mIn[9], line 1\u001b[0m\n\u001b[0;32m----> 1\u001b[0m \u001b[43mkb_llama_index\u001b[49m\u001b[38;5;241;43m.\u001b[39;49m\u001b[43mname\u001b[49m \u001b[38;5;241m=\u001b[39m \u001b[38;5;124m'\u001b[39m\u001b[38;5;124m324\u001b[39m\u001b[38;5;124m'\u001b[39m\n",
      "\u001b[0;31mAttributeError\u001b[0m: can't set attribute"
     ]
    }
   ],
   "source": [
    "kb_llama_index.name = '324'"
   ]
  },
  {
   "cell_type": "markdown",
   "id": "e9b23855-2a39-43ed-bbe1-4c1d8f65b943",
   "metadata": {
    "tags": []
   },
   "source": [
    "### 对单套配置模式 进行备注和打分"
   ]
  },
  {
   "cell_type": "code",
   "execution_count": 10,
   "id": "520eeef5-aefd-4a39-ab6f-e9cd2a88ef72",
   "metadata": {
    "tags": []
   },
   "outputs": [],
   "source": [
    "kb_llama_index.mark(score=0.5,remark='测试') #有打分 才有记录"
   ]
  },
  {
   "cell_type": "code",
   "execution_count": 11,
   "id": "319efa66-c5a7-4ec8-9184-6d05a48387fe",
   "metadata": {
    "tags": []
   },
   "outputs": [
    {
     "data": {
      "text/plain": [
       "0.5"
      ]
     },
     "execution_count": 11,
     "metadata": {},
     "output_type": "execute_result"
    }
   ],
   "source": [
    "kb_llama_index.score"
   ]
  },
  {
   "cell_type": "code",
   "execution_count": 12,
   "id": "a27f5a18-37b2-4b2d-9998-8978b07f9079",
   "metadata": {
    "tags": []
   },
   "outputs": [
    {
     "data": {
      "text/plain": [
       "'测试'"
      ]
     },
     "execution_count": 12,
     "metadata": {},
     "output_type": "execute_result"
    }
   ],
   "source": [
    "kb_llama_index.remark"
   ]
  },
  {
   "cell_type": "markdown",
   "id": "61f047b3-3caa-4b44-9f9a-0737846dfb82",
   "metadata": {},
   "source": [
    "### 输出配置到yaml文件"
   ]
  },
  {
   "cell_type": "code",
   "execution_count": 13,
   "id": "f60a5fb3-30cc-43ab-8af5-91b67daed87a",
   "metadata": {
    "tags": []
   },
   "outputs": [],
   "source": [
    "kb_llama_index.output('output.yaml')"
   ]
  },
  {
   "cell_type": "markdown",
   "id": "cd565adb-b1cc-4940-b957-07dbd474f06b",
   "metadata": {},
   "source": [
    "## 二维管理 "
   ]
  },
  {
   "cell_type": "code",
   "execution_count": 17,
   "id": "d6ee8113-4305-47ce-8da6-d857c3ea6c47",
   "metadata": {
    "tags": []
   },
   "outputs": [
    {
     "data": {
      "text/plain": [
       "[]"
      ]
     },
     "execution_count": 17,
     "metadata": {},
     "output_type": "execute_result"
    }
   ],
   "source": [
    "ProjectConcrol.kwargs_list"
   ]
  },
  {
   "cell_type": "markdown",
   "id": "f100e62a-c8d8-4e0a-ab91-136267c1a64a",
   "metadata": {},
   "source": [
    "### 保存操作记录并清除"
   ]
  },
  {
   "cell_type": "code",
   "execution_count": 6,
   "id": "cd251645-00cd-4e31-8537-2e9841aeb96c",
   "metadata": {},
   "outputs": [],
   "source": [
    "ProjectConcrol.save()"
   ]
  },
  {
   "cell_type": "markdown",
   "id": "30f33e25-7543-40f8-81a5-feeb23259fc0",
   "metadata": {},
   "source": [
    "### 不保存 直接清除"
   ]
  },
  {
   "cell_type": "code",
   "execution_count": 18,
   "id": "fe566c81-af4d-45cb-927d-d9fac3bab0a0",
   "metadata": {
    "tags": []
   },
   "outputs": [],
   "source": [
    "ProjectConcrol.clean()"
   ]
  },
  {
   "cell_type": "markdown",
   "id": "e0299176-18f1-4751-b7cb-d925048a968b",
   "metadata": {},
   "source": [
    "### 查看历史记录"
   ]
  },
  {
   "cell_type": "code",
   "execution_count": 9,
   "id": "ac3b15af-5ef9-4f4c-bcc3-c7b94f977a56",
   "metadata": {
    "tags": []
   },
   "outputs": [
    {
     "data": {
      "text/plain": [
       "['Thu Feb 29 2024']"
      ]
     },
     "execution_count": 9,
     "metadata": {},
     "output_type": "execute_result"
    }
   ],
   "source": [
    "ProjectConcrol.get_dates()"
   ]
  },
  {
   "cell_type": "code",
   "execution_count": 10,
   "id": "5ee2637b-0b47-420d-bde0-95c7d29d55b8",
   "metadata": {
    "tags": []
   },
   "outputs": [
    {
     "data": {
      "text/html": [
       "<div>\n",
       "<style scoped>\n",
       "    .dataframe tbody tr th:only-of-type {\n",
       "        vertical-align: middle;\n",
       "    }\n",
       "\n",
       "    .dataframe tbody tr th {\n",
       "        vertical-align: top;\n",
       "    }\n",
       "\n",
       "    .dataframe thead th {\n",
       "        text-align: right;\n",
       "    }\n",
       "</style>\n",
       "<table border=\"1\" class=\"dataframe\">\n",
       "  <thead>\n",
       "    <tr style=\"text-align: right;\">\n",
       "      <th></th>\n",
       "      <th>state</th>\n",
       "      <th>history_version_state</th>\n",
       "      <th>customer_name</th>\n",
       "      <th>name</th>\n",
       "      <th>deployment_form</th>\n",
       "      <th>notebook_dir</th>\n",
       "      <th>customer</th>\n",
       "      <th>dependency_package</th>\n",
       "      <th>envrionment</th>\n",
       "      <th>resource</th>\n",
       "      <th>debug_log</th>\n",
       "      <th>doc</th>\n",
       "      <th>similar_project</th>\n",
       "      <th>version</th>\n",
       "      <th>history_version</th>\n",
       "      <th>score</th>\n",
       "      <th>remark</th>\n",
       "      <th>time</th>\n",
       "    </tr>\n",
       "  </thead>\n",
       "  <tbody>\n",
       "    <tr>\n",
       "      <th>0</th>\n",
       "      <td></td>\n",
       "      <td>{'v0': 'test'}</td>\n",
       "      <td>0</td>\n",
       "      <td>kb_llama_index</td>\n",
       "      <td>常规部署流程</td>\n",
       "      <td>/Users/zhaoxuefeng/Documents/Project/Work/llam...</td>\n",
       "      <td>None</td>\n",
       "      <td>package-q_kb</td>\n",
       "      <td>conda_kb_llama_</td>\n",
       "      <td>None</td>\n",
       "      <td>None</td>\n",
       "      <td>使用llama-index 重构知识库体系 增强知识库的稳定性与拓展性</td>\n",
       "      <td>[kb]</td>\n",
       "      <td>v1</td>\n",
       "      <td>{'v0': '调研'}</td>\n",
       "      <td>NaN</td>\n",
       "      <td>None</td>\n",
       "      <td>Thu Feb 29 14:38:37 2024</td>\n",
       "    </tr>\n",
       "    <tr>\n",
       "      <th>1</th>\n",
       "      <td></td>\n",
       "      <td>{'v0': 'test'}</td>\n",
       "      <td>0</td>\n",
       "      <td>123</td>\n",
       "      <td>常规部署流程</td>\n",
       "      <td>/Users/zhaoxuefeng/Documents/Project/Work/llam...</td>\n",
       "      <td>None</td>\n",
       "      <td>package-q_kb</td>\n",
       "      <td>conda_kb_llama_</td>\n",
       "      <td>None</td>\n",
       "      <td>None</td>\n",
       "      <td>使用llama-index 重构知识库体系 增强知识库的稳定性与拓展性</td>\n",
       "      <td>[kb]</td>\n",
       "      <td>v1</td>\n",
       "      <td>{'v0': '调研'}</td>\n",
       "      <td>NaN</td>\n",
       "      <td>None</td>\n",
       "      <td>Thu Feb 29 14:38:47 2024</td>\n",
       "    </tr>\n",
       "    <tr>\n",
       "      <th>2</th>\n",
       "      <td></td>\n",
       "      <td>{'v0': 'test'}</td>\n",
       "      <td>0</td>\n",
       "      <td>123</td>\n",
       "      <td>常规部署流程</td>\n",
       "      <td>/Users/zhaoxuefeng/Documents/Project/Work/llam...</td>\n",
       "      <td>武商梦时代</td>\n",
       "      <td>package-q_kb</td>\n",
       "      <td>conda_kb_llama_</td>\n",
       "      <td>None</td>\n",
       "      <td>None</td>\n",
       "      <td>使用llama-index 重构知识库体系 增强知识库的稳定性与拓展性</td>\n",
       "      <td>[kb]</td>\n",
       "      <td>v1</td>\n",
       "      <td>{'v0': '调研'}</td>\n",
       "      <td>0.5</td>\n",
       "      <td>测试</td>\n",
       "      <td>Thu Feb 29 14:39:32 2024</td>\n",
       "    </tr>\n",
       "    <tr>\n",
       "      <th>3</th>\n",
       "      <td></td>\n",
       "      <td>{'v0': 'test'}</td>\n",
       "      <td>0</td>\n",
       "      <td>kb_llama_index</td>\n",
       "      <td>常规部署流程</td>\n",
       "      <td>/Users/zhaoxuefeng/Documents/Project/Work/llam...</td>\n",
       "      <td>None</td>\n",
       "      <td>package-q_kb</td>\n",
       "      <td>conda_kb_llama_</td>\n",
       "      <td>None</td>\n",
       "      <td>None</td>\n",
       "      <td>使用llama-index 重构知识库体系 增强知识库的稳定性与拓展性</td>\n",
       "      <td>[kb]</td>\n",
       "      <td>v1</td>\n",
       "      <td>{'v0': '调研'}</td>\n",
       "      <td>NaN</td>\n",
       "      <td>None</td>\n",
       "      <td>Thu Feb 29 14:43:59 2024</td>\n",
       "    </tr>\n",
       "    <tr>\n",
       "      <th>4</th>\n",
       "      <td></td>\n",
       "      <td>{'v0': 'test'}</td>\n",
       "      <td>0</td>\n",
       "      <td>123</td>\n",
       "      <td>常规部署流程</td>\n",
       "      <td>/Users/zhaoxuefeng/Documents/Project/Work/llam...</td>\n",
       "      <td>武商梦时代</td>\n",
       "      <td>package-q_kb</td>\n",
       "      <td>conda_kb_llama_</td>\n",
       "      <td>None</td>\n",
       "      <td>None</td>\n",
       "      <td>使用llama-index 重构知识库体系 增强知识库的稳定性与拓展性</td>\n",
       "      <td>[kb]</td>\n",
       "      <td>v1</td>\n",
       "      <td>{'v0': '调研'}</td>\n",
       "      <td>NaN</td>\n",
       "      <td>None</td>\n",
       "      <td>Thu Feb 29 14:44:01 2024</td>\n",
       "    </tr>\n",
       "    <tr>\n",
       "      <th>5</th>\n",
       "      <td></td>\n",
       "      <td>{'v0': 'test'}</td>\n",
       "      <td>0</td>\n",
       "      <td>123</td>\n",
       "      <td>常规部署流程</td>\n",
       "      <td>/Users/zhaoxuefeng/Documents/Project/Work/llam...</td>\n",
       "      <td>武商梦时代</td>\n",
       "      <td>package-q_kb</td>\n",
       "      <td>conda_kb_llama_</td>\n",
       "      <td>None</td>\n",
       "      <td>None</td>\n",
       "      <td>使用llama-index 重构知识库体系 增强知识库的稳定性与拓展性</td>\n",
       "      <td>[kb]</td>\n",
       "      <td>v1</td>\n",
       "      <td>{'v0': '调研'}</td>\n",
       "      <td>NaN</td>\n",
       "      <td>None</td>\n",
       "      <td>Thu Feb 29 14:44:30 2024</td>\n",
       "    </tr>\n",
       "  </tbody>\n",
       "</table>\n",
       "</div>"
      ],
      "text/plain": [
       "  state history_version_state  customer_name            name deployment_form  \\\n",
       "0              {'v0': 'test'}              0  kb_llama_index          常规部署流程   \n",
       "1              {'v0': 'test'}              0             123          常规部署流程   \n",
       "2              {'v0': 'test'}              0             123          常规部署流程   \n",
       "3              {'v0': 'test'}              0  kb_llama_index          常规部署流程   \n",
       "4              {'v0': 'test'}              0             123          常规部署流程   \n",
       "5              {'v0': 'test'}              0             123          常规部署流程   \n",
       "\n",
       "                                        notebook_dir customer  \\\n",
       "0  /Users/zhaoxuefeng/Documents/Project/Work/llam...     None   \n",
       "1  /Users/zhaoxuefeng/Documents/Project/Work/llam...     None   \n",
       "2  /Users/zhaoxuefeng/Documents/Project/Work/llam...    武商梦时代   \n",
       "3  /Users/zhaoxuefeng/Documents/Project/Work/llam...     None   \n",
       "4  /Users/zhaoxuefeng/Documents/Project/Work/llam...    武商梦时代   \n",
       "5  /Users/zhaoxuefeng/Documents/Project/Work/llam...    武商梦时代   \n",
       "\n",
       "  dependency_package      envrionment resource debug_log  \\\n",
       "0       package-q_kb  conda_kb_llama_     None      None   \n",
       "1       package-q_kb  conda_kb_llama_     None      None   \n",
       "2       package-q_kb  conda_kb_llama_     None      None   \n",
       "3       package-q_kb  conda_kb_llama_     None      None   \n",
       "4       package-q_kb  conda_kb_llama_     None      None   \n",
       "5       package-q_kb  conda_kb_llama_     None      None   \n",
       "\n",
       "                                   doc similar_project version  \\\n",
       "0  使用llama-index 重构知识库体系 增强知识库的稳定性与拓展性            [kb]      v1   \n",
       "1  使用llama-index 重构知识库体系 增强知识库的稳定性与拓展性            [kb]      v1   \n",
       "2  使用llama-index 重构知识库体系 增强知识库的稳定性与拓展性            [kb]      v1   \n",
       "3  使用llama-index 重构知识库体系 增强知识库的稳定性与拓展性            [kb]      v1   \n",
       "4  使用llama-index 重构知识库体系 增强知识库的稳定性与拓展性            [kb]      v1   \n",
       "5  使用llama-index 重构知识库体系 增强知识库的稳定性与拓展性            [kb]      v1   \n",
       "\n",
       "  history_version  score remark                      time  \n",
       "0    {'v0': '调研'}    NaN   None  Thu Feb 29 14:38:37 2024  \n",
       "1    {'v0': '调研'}    NaN   None  Thu Feb 29 14:38:47 2024  \n",
       "2    {'v0': '调研'}    0.5     测试  Thu Feb 29 14:39:32 2024  \n",
       "3    {'v0': '调研'}    NaN   None  Thu Feb 29 14:43:59 2024  \n",
       "4    {'v0': '调研'}    NaN   None  Thu Feb 29 14:44:01 2024  \n",
       "5    {'v0': '调研'}    NaN   None  Thu Feb 29 14:44:30 2024  "
      ]
     },
     "execution_count": 10,
     "metadata": {},
     "output_type": "execute_result"
    }
   ],
   "source": [
    "ProjectConcrol.show()"
   ]
  },
  {
   "cell_type": "markdown",
   "id": "00e4da01-3663-4616-816b-b0c9a86d27d4",
   "metadata": {},
   "source": [
    "# project 的管理"
   ]
  },
  {
   "cell_type": "code",
   "execution_count": null,
   "id": "a8b7c2bf-b43b-4148-906b-f2d5599ceebf",
   "metadata": {},
   "outputs": [],
   "source": []
  },
  {
   "cell_type": "code",
   "execution_count": null,
   "id": "c4332914-8e1d-43a5-9d3d-41740a337ef5",
   "metadata": {},
   "outputs": [],
   "source": []
  }
 ],
 "metadata": {
  "kernelspec": {
   "display_name": "Python 3 (ipykernel)",
   "language": "python",
   "name": "python3"
  },
  "language_info": {
   "codemirror_mode": {
    "name": "ipython",
    "version": 3
   },
   "file_extension": ".py",
   "mimetype": "text/x-python",
   "name": "python",
   "nbconvert_exporter": "python",
   "pygments_lexer": "ipython3",
   "version": "3.10.14"
  }
 },
 "nbformat": 4,
 "nbformat_minor": 5
}
