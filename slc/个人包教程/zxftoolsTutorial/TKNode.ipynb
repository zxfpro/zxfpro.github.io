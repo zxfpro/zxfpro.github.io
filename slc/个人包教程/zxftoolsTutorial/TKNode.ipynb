{
 "cells": [
  {
   "cell_type": "markdown",
   "id": "388724d5-c17a-4ad8-aba7-7f04e932a8dd",
   "metadata": {
    "tags": []
   },
   "source": [
    "# 如何使用TNode架构"
   ]
  },
  {
   "cell_type": "markdown",
   "id": "dcf9a84c-4040-4e03-a39d-23a7da44cb8f",
   "metadata": {},
   "source": [
    "TNode架构思想"
   ]
  },
  {
   "cell_type": "markdown",
   "id": "b685e8c1-ba85-4ed5-82f3-72fd2e851e98",
   "metadata": {},
   "source": [
    "23123124124"
   ]
  },
  {
   "cell_type": "code",
   "execution_count": 1,
   "id": "f80c7626-4763-4c83-b9ee-508262334c2f",
   "metadata": {
    "tags": []
   },
   "outputs": [],
   "source": [
    "import time"
   ]
  },
  {
   "cell_type": "code",
   "execution_count": 3,
   "id": "81df885f-24d8-4347-98ac-ca4015723f76",
   "metadata": {
    "tags": []
   },
   "outputs": [
    {
     "ename": "ImportError",
     "evalue": "cannot import name 'OpenAI' from 'zxftools.tknode.llms' (/Users/zhaoxuefeng/opt/miniconda3/envs/py310_new/lib/python3.10/site-packages/zxftools/tknode/llms.py)",
     "output_type": "error",
     "traceback": [
      "\u001b[0;31m---------------------------------------------------------------------------\u001b[0m",
      "\u001b[0;31mImportError\u001b[0m                               Traceback (most recent call last)",
      "Cell \u001b[0;32mIn[3], line 1\u001b[0m\n\u001b[0;32m----> 1\u001b[0m \u001b[38;5;28;01mfrom\u001b[39;00m \u001b[38;5;21;01mzxftools_dev\u001b[39;00m\u001b[38;5;21;01m.\u001b[39;00m\u001b[38;5;21;01mtknode\u001b[39;00m\u001b[38;5;21;01m.\u001b[39;00m\u001b[38;5;21;01mtknode\u001b[39;00m \u001b[38;5;28;01mimport\u001b[39;00m TNode\n",
      "File \u001b[0;32m~/GitHub/zxftools_dev/zxftools_dev/tknode/tknode.py:7\u001b[0m\n\u001b[1;32m      5\u001b[0m \u001b[38;5;28;01mfrom\u001b[39;00m \u001b[38;5;21;01mzxftools\u001b[39;00m\u001b[38;5;21;01m.\u001b[39;00m\u001b[38;5;21;01moptimize\u001b[39;00m \u001b[38;5;28;01mimport\u001b[39;00m Optimize\n\u001b[1;32m      6\u001b[0m \u001b[38;5;28;01mfrom\u001b[39;00m \u001b[38;5;21;01mzxftools\u001b[39;00m \u001b[38;5;28;01mimport\u001b[39;00m Logger\n\u001b[0;32m----> 7\u001b[0m \u001b[38;5;28;01mfrom\u001b[39;00m \u001b[38;5;21;01mzxftools\u001b[39;00m\u001b[38;5;21;01m.\u001b[39;00m\u001b[38;5;21;01mtknode\u001b[39;00m\u001b[38;5;21;01m.\u001b[39;00m\u001b[38;5;21;01mllms\u001b[39;00m \u001b[38;5;28;01mimport\u001b[39;00m BaiduLLM, OpenAI\n\u001b[1;32m      8\u001b[0m \u001b[38;5;28;01mfrom\u001b[39;00m \u001b[38;5;21;01mzxftools\u001b[39;00m\u001b[38;5;21;01m.\u001b[39;00m\u001b[38;5;21;01mtknode\u001b[39;00m\u001b[38;5;21;01m.\u001b[39;00m\u001b[38;5;21;01mconfig\u001b[39;00m \u001b[38;5;28;01mimport\u001b[39;00m model_lora_dict\n\u001b[1;32m      9\u001b[0m \u001b[38;5;28;01mfrom\u001b[39;00m \u001b[38;5;21;01mzxftools\u001b[39;00m\u001b[38;5;21;01m.\u001b[39;00m\u001b[38;5;21;01mtknode\u001b[39;00m\u001b[38;5;21;01m.\u001b[39;00m\u001b[38;5;21;01mservers\u001b[39;00m \u001b[38;5;28;01mimport\u001b[39;00m AgentAPIService\n",
      "\u001b[0;31mImportError\u001b[0m: cannot import name 'OpenAI' from 'zxftools.tknode.llms' (/Users/zhaoxuefeng/opt/miniconda3/envs/py310_new/lib/python3.10/site-packages/zxftools/tknode/llms.py)"
     ]
    }
   ],
   "source": [
    "from zxftools_dev.tknode.tknode import TNode"
   ]
  },
  {
   "cell_type": "code",
   "execution_count": null,
   "id": "329e9788-a134-4d7a-bbd1-ca553d176710",
   "metadata": {},
   "outputs": [],
   "source": []
  },
  {
   "cell_type": "code",
   "execution_count": null,
   "id": "388c3ef3-371b-48d4-8474-d9d3d86f88bf",
   "metadata": {},
   "outputs": [],
   "source": []
  },
  {
   "cell_type": "markdown",
   "id": "65886b74-37f5-43d7-82a8-5cac4ed3ebdc",
   "metadata": {
    "tags": []
   },
   "source": [
    "## 1查看如何创建TNode"
   ]
  },
  {
   "cell_type": "markdown",
   "id": "a0dc3411-8da6-4c73-84d4-546d23d2b2d6",
   "metadata": {
    "tags": []
   },
   "source": [
    "### 查看以配置模型表"
   ]
  },
  {
   "cell_type": "code",
   "execution_count": null,
   "id": "23723a24-7f78-474f-ae91-299a2940c050",
   "metadata": {
    "tags": []
   },
   "outputs": [],
   "source": [
    "\n",
    "TNode.get_model_table()"
   ]
  },
  {
   "cell_type": "markdown",
   "id": "77af488c-5b4f-4139-a78d-f8704328b344",
   "metadata": {
    "tags": []
   },
   "source": [
    "### 查看与配置系统属性"
   ]
  },
  {
   "cell_type": "code",
   "execution_count": null,
   "id": "9d8870e2-1d35-4345-a52b-a1a7c7ba8585",
   "metadata": {},
   "outputs": [],
   "source": []
  },
  {
   "cell_type": "code",
   "execution_count": null,
   "id": "e8b4e216-c957-42ce-bcbc-bb1cfccc6b44",
   "metadata": {
    "tags": []
   },
   "outputs": [],
   "source": [
    "TNode()"
   ]
  },
  {
   "cell_type": "markdown",
   "id": "a6f04e3d-3423-4bf8-a493-2f7da89b1f02",
   "metadata": {
    "tags": []
   },
   "source": [
    "## 2创建TNode"
   ]
  },
  {
   "cell_type": "markdown",
   "id": "0b23d2ac-cf34-4bf7-9122-72322be506c4",
   "metadata": {},
   "source": [
    "#### 注意!该函数必须被重写\n",
    "要求输入输出有且只有是str\n",
    "```python\n",
    "def strategy(self,input:str)->str:\n",
    "    return output\n",
    "```"
   ]
  },
  {
   "cell_type": "code",
   "execution_count": null,
   "id": "3e55f416-1a1d-41c6-9f3e-9ae4d2cb86a9",
   "metadata": {
    "tags": []
   },
   "outputs": [],
   "source": [
    "class Hello(TNode):\n",
    "    topic = '打招呼'\n",
    "    llm_name = 'gpt-3.5-turbo-0613'\n",
    "    def __init__(self):\n",
    "        super().__init__()\n",
    "    \n",
    "    def strategy(self,input):\n",
    "        result = self.llm.complete(input).text\n",
    "        return result\n",
    "    "
   ]
  },
  {
   "cell_type": "code",
   "execution_count": null,
   "id": "9cb1f7ab-21c3-4519-a006-86efc4797195",
   "metadata": {
    "tags": []
   },
   "outputs": [],
   "source": [
    "Hello()"
   ]
  },
  {
   "cell_type": "markdown",
   "id": "f2d13377-7a5d-4dbb-bd13-5beb9729b0e8",
   "metadata": {
    "tags": []
   },
   "source": [
    "#### 单体运行"
   ]
  },
  {
   "cell_type": "code",
   "execution_count": null,
   "id": "94f65a49-b8bc-487b-a1c6-9b37121a07b7",
   "metadata": {
    "tags": []
   },
   "outputs": [],
   "source": [
    "Hello().run('hello')"
   ]
  },
  {
   "cell_type": "markdown",
   "id": "0e360170-6a36-4e01-81d9-0fc3dce0cc23",
   "metadata": {
    "jp-MarkdownHeadingCollapsed": true,
    "tags": []
   },
   "source": [
    "## 3对节点的配套工具"
   ]
  },
  {
   "cell_type": "markdown",
   "id": "52398e34-3d92-47f2-93b4-1b405df60d9f",
   "metadata": {},
   "source": [
    "### 性能测试工具"
   ]
  },
  {
   "cell_type": "code",
   "execution_count": null,
   "id": "22e65384-384e-4629-93c5-37c280e921f8",
   "metadata": {
    "tags": []
   },
   "outputs": [],
   "source": [
    "Hello().test('hello')"
   ]
  },
  {
   "cell_type": "markdown",
   "id": "3543b20e-0c9f-4b75-8ae7-76a9f93163e7",
   "metadata": {
    "jp-MarkdownHeadingCollapsed": true,
    "tags": []
   },
   "source": [
    "### 数据管理工具"
   ]
  },
  {
   "cell_type": "code",
   "execution_count": null,
   "id": "bdcfbee3-151e-42ac-9e61-13c4fc012b28",
   "metadata": {
    "tags": []
   },
   "outputs": [],
   "source": [
    "class Hello2(TNode):\n",
    "    topic = '打招呼2'\n",
    "    llm_name = 'gpt-3.5-turbo-0613'\n",
    "    test_case_type = 'record'\n",
    "    cache_home: str = './cache_hello'\n",
    "    def __init__(self):\n",
    "        super().__init__()\n",
    "    \n",
    "    def strategy(self,input):\n",
    "        result = self.llm.complete(input).text\n",
    "        return result\n",
    "    "
   ]
  },
  {
   "cell_type": "code",
   "execution_count": null,
   "id": "4d55f509-ba49-4c50-aa51-f5657f68394a",
   "metadata": {
    "tags": []
   },
   "outputs": [],
   "source": [
    "Hello2().run('你好')"
   ]
  },
  {
   "cell_type": "markdown",
   "id": "7f70b579-8063-4756-8012-e92edfbc0973",
   "metadata": {
    "jp-MarkdownHeadingCollapsed": true,
    "tags": []
   },
   "source": [
    "### TNode 与IO交互 信息通信"
   ]
  },
  {
   "cell_type": "code",
   "execution_count": null,
   "id": "84fe300f-cddb-4977-a8f5-bc95653d063c",
   "metadata": {},
   "outputs": [],
   "source": [
    "class Hello3(TNode):\n",
    "    topic = '打招呼3'\n",
    "    llm_name = 'gpt-3.5-turbo-0613'\n",
    "    test_case_type = 'record'\n",
    "    cache_home: str = './cache_hello'\n",
    "    def __init__(self,name):\n",
    "        super().__init__()\n",
    "        self.name = name\n",
    "    \n",
    "    def strategy(self,inputs):\n",
    "        print(self.name,'name')\n",
    "        aa = input()\n",
    "        result = self.llm.complete(inputs).text\n",
    "        return result\n",
    "    "
   ]
  },
  {
   "cell_type": "code",
   "execution_count": null,
   "id": "84d39c52-acd8-4003-a0c9-02cdc993c317",
   "metadata": {
    "tags": []
   },
   "outputs": [],
   "source": [
    "Hello3(name='susan').run('hello')"
   ]
  },
  {
   "cell_type": "markdown",
   "id": "d12b4201-e43e-47b6-b01d-5aacd4033cdf",
   "metadata": {
    "tags": []
   },
   "source": [
    "## 4构建复杂的TNode 结构"
   ]
  },
  {
   "cell_type": "markdown",
   "id": "560e27f6-609a-4e1c-91ce-9d6e9dc77583",
   "metadata": {},
   "source": [
    "### 利用纯代码构建TNode"
   ]
  },
  {
   "cell_type": "code",
   "execution_count": null,
   "id": "ff28014e-3d50-42ca-bf49-d845c2dc475f",
   "metadata": {},
   "outputs": [],
   "source": []
  },
  {
   "cell_type": "markdown",
   "id": "e1adee10-3ae7-4928-a9b1-c7386cbced10",
   "metadata": {},
   "source": [
    "### 利用chain 构建TNode"
   ]
  },
  {
   "cell_type": "code",
   "execution_count": null,
   "id": "3cbfc07d-eb60-49aa-9512-cd832806375e",
   "metadata": {},
   "outputs": [],
   "source": []
  },
  {
   "cell_type": "markdown",
   "id": "3943e5ff-0876-4f62-adc9-45595c7144e3",
   "metadata": {},
   "source": [
    "### 利用Agent 构建TNode"
   ]
  },
  {
   "cell_type": "code",
   "execution_count": null,
   "id": "765de776-fb4f-4d6e-ad10-df2b2ed9ca63",
   "metadata": {},
   "outputs": [],
   "source": []
  },
  {
   "cell_type": "markdown",
   "id": "5b2c827d-2767-4a7e-a69d-f6ed95af1f16",
   "metadata": {},
   "source": [
    "### 利用multiAgent 构建TNode"
   ]
  },
  {
   "cell_type": "code",
   "execution_count": null,
   "id": "e4405379-65cd-41ec-beb0-aac33adc5738",
   "metadata": {},
   "outputs": [],
   "source": []
  },
  {
   "cell_type": "markdown",
   "id": "fae2f399-9a52-4abc-827b-2c885b1c0e09",
   "metadata": {},
   "source": [
    "### 利用TNode构建TNode"
   ]
  },
  {
   "cell_type": "markdown",
   "id": "5279514f-3f8e-4a25-ba0f-969a889fcf74",
   "metadata": {
    "tags": []
   },
   "source": [
    "#### runnodes 工具"
   ]
  },
  {
   "cell_type": "markdown",
   "id": "c5fe390e-828a-4b54-9b97-77047fc940a9",
   "metadata": {
    "tags": []
   },
   "source": [
    "##### runnodes 工具是一个方便的提供节点思维关系的工具包 它可以方便的实现各种逻辑处理\n",
    "1 线性逻辑   \n",
    "2 判断逻辑   \n",
    "3 与或非逻辑   \n",
    "4 树逻辑   \n",
    "5 图逻辑   \n",
    "```python\n",
    "def strategy(self,input):\n",
    "        \n",
    "        run_seq = [Hello(self.nodename)] #seq 结构\n",
    "        self.runnodes.start_seq(input,run_seq)\n",
    "        return '你最近怎么样'\n",
    "```"
   ]
  },
  {
   "cell_type": "code",
   "execution_count": null,
   "id": "565d0f92-7784-4482-a66a-5aaf0480919a",
   "metadata": {},
   "outputs": [],
   "source": []
  },
  {
   "cell_type": "markdown",
   "id": "98e6a106-2f04-47fb-a06f-bf55c0683ea1",
   "metadata": {},
   "source": [
    "# Agent"
   ]
  },
  {
   "cell_type": "code",
   "execution_count": 42,
   "id": "0af91ca6-106b-414f-a8ea-bd18b0bfb049",
   "metadata": {
    "scrolled": true
   },
   "outputs": [],
   "source": [
    "task = agent.create_task('12+4-48*34=?')"
   ]
  },
  {
   "cell_type": "code",
   "execution_count": 47,
   "id": "c9dc3410-5165-4072-9c88-d9f7b83b3fb2",
   "metadata": {},
   "outputs": [
    {
     "data": {
      "text/plain": [
       "Task(task_id='44e885ac-cc3e-436a-8937-159efc6dcb4c', input='12+4-48*34=?', memory=ChatMemoryBuffer(token_limit=3072, tokenizer_fn=functools.partial(<bound method Encoding.encode of <Encoding 'cl100k_base'>>, allowed_special='all'), chat_store=SimpleChatStore(store={'chat_history': []}), chat_store_key='chat_history'), callback_manager=<llama_index.core.callbacks.base.CallbackManager object at 0x7ff5ccaa6380>, extra_state={'sources': [], 'current_reasoning': [], 'new_memory': ChatMemoryBuffer(token_limit=3000, tokenizer_fn=functools.partial(<bound method Encoding.encode of <Encoding 'cl100k_base'>>, allowed_special='all'), chat_store=SimpleChatStore(store={}), chat_store_key='chat_history')})"
      ]
     },
     "execution_count": 47,
     "metadata": {},
     "output_type": "execute_result"
    }
   ],
   "source": [
    "task.task_id\n",
    "task.input"
   ]
  },
  {
   "cell_type": "markdown",
   "id": "56c9b19b-2372-40ad-b3d5-d4df67e8ed8a",
   "metadata": {},
   "source": [
    "## 查看任务"
   ]
  },
  {
   "cell_type": "code",
   "execution_count": 5,
   "id": "45213f7d-579b-4500-93d5-cb1f11a598b7",
   "metadata": {},
   "outputs": [
    {
     "data": {
      "text/plain": [
       "Task(task_id='714376e1-d493-4f01-9cd8-3075b55b9fd4', input='12+4-48*34=?', memory=ChatMemoryBuffer(token_limit=3072, tokenizer_fn=functools.partial(<bound method Encoding.encode of <Encoding 'cl100k_base'>>, allowed_special='all'), chat_store=SimpleChatStore(store={'chat_history': []}), chat_store_key='chat_history'), callback_manager=<llama_index.core.callbacks.base.CallbackManager object at 0x7ff5a89bec50>, extra_state={'sources': [], 'current_reasoning': [], 'new_memory': ChatMemoryBuffer(token_limit=3000, tokenizer_fn=functools.partial(<bound method Encoding.encode of <Encoding 'cl100k_base'>>, allowed_special='all'), chat_store=SimpleChatStore(store={}), chat_store_key='chat_history')})"
      ]
     },
     "execution_count": 5,
     "metadata": {},
     "output_type": "execute_result"
    }
   ],
   "source": [
    "agent.get_task(task_id=task.task_id)"
   ]
  },
  {
   "cell_type": "markdown",
   "id": "e35b7d3c-d43b-421b-b7cc-4a59bfdc393a",
   "metadata": {},
   "source": [
    "## 运行任务"
   ]
  },
  {
   "cell_type": "code",
   "execution_count": null,
   "id": "27f372c8-f7f7-4841-a700-fa523cd16522",
   "metadata": {},
   "outputs": [],
   "source": [
    "# 需要研究 异步run\n",
    "agent.arun_step??"
   ]
  },
  {
   "cell_type": "code",
   "execution_count": 23,
   "id": "be30487c-0d67-47b7-adc3-160982221f1c",
   "metadata": {
    "scrolled": true
   },
   "outputs": [
    {
     "name": "stdout",
     "output_type": "stream",
     "text": [
      "\u001b[1;3;38;5;200mThought: The sum of 12 and 24 is 36. Now I need to add 36 to the next number.\n",
      "Action: add\n",
      "Action Input: {'a': 36, 'b': 36}\n",
      "\u001b[0m\u001b[1;3;34mObservation: 72\n",
      "\u001b[0m"
     ]
    }
   ],
   "source": [
    "p = agent.run_step(task_id='ecd1032c-0b02-4565-a211-4caac4f787e5')"
   ]
  },
  {
   "cell_type": "code",
   "execution_count": 25,
   "id": "51524935-c979-4e47-9384-757bbc040e92",
   "metadata": {},
   "outputs": [
    {
     "data": {
      "text/plain": [
       "False"
      ]
     },
     "execution_count": 25,
     "metadata": {},
     "output_type": "execute_result"
    }
   ],
   "source": [
    "# 查询是否结束\n",
    "p.is_last"
   ]
  },
  {
   "cell_type": "code",
   "execution_count": 49,
   "id": "58df9c7f-bb66-44ea-93a5-27b9199c6217",
   "metadata": {},
   "outputs": [
    {
     "data": {
      "text/plain": [
       "AgentChatResponse(response='Observation: 72', sources=[ToolOutput(content='36', tool_name='add', raw_input={'args': (), 'kwargs': {'a': 12, 'b': 24}}, raw_output=36), ToolOutput(content='72', tool_name='add', raw_input={'args': (), 'kwargs': {'a': 36, 'b': 36}}, raw_output=72)], source_nodes=[])"
      ]
     },
     "execution_count": 49,
     "metadata": {},
     "output_type": "execute_result"
    }
   ],
   "source": [
    "p.output"
   ]
  },
  {
   "cell_type": "code",
   "execution_count": 4,
   "id": "fdfeb409-8e54-43a6-95cc-f1f68c3c0aa5",
   "metadata": {
    "scrolled": true
   },
   "outputs": [
    {
     "data": {
      "text/plain": [
       "AgentState(task_dict={'714376e1-d493-4f01-9cd8-3075b55b9fd4': TaskState(task=Task(task_id='714376e1-d493-4f01-9cd8-3075b55b9fd4', input='12+4-48*34=?', memory=ChatMemoryBuffer(token_limit=3072, tokenizer_fn=functools.partial(<bound method Encoding.encode of <Encoding 'cl100k_base'>>, allowed_special='all'), chat_store=SimpleChatStore(store={'chat_history': []}), chat_store_key='chat_history'), callback_manager=<llama_index.core.callbacks.base.CallbackManager object at 0x7ff5a89bec50>, extra_state={'sources': [], 'current_reasoning': [], 'new_memory': ChatMemoryBuffer(token_limit=3000, tokenizer_fn=functools.partial(<bound method Encoding.encode of <Encoding 'cl100k_base'>>, allowed_special='all'), chat_store=SimpleChatStore(store={}), chat_store_key='chat_history')}), step_queue=deque([TaskStep(task_id='714376e1-d493-4f01-9cd8-3075b55b9fd4', step_id='8233bf4e-1616-4812-a652-fa51d300557a', input='12+4-48*34=?', step_state={'is_first': True}, next_steps={}, prev_steps={}, is_ready=True)]), completed_steps=[])})"
      ]
     },
     "execution_count": 4,
     "metadata": {},
     "output_type": "execute_result"
    }
   ],
   "source": [
    "# 查看agent 的全部状态\n",
    "agent.state"
   ]
  },
  {
   "cell_type": "code",
   "execution_count": null,
   "id": "31f785af-d7d2-4f2d-858c-27b52b9c09d2",
   "metadata": {},
   "outputs": [],
   "source": [
    "# 获取当前所有的任务\n",
    "agent.state.task_dict.keys()"
   ]
  },
  {
   "cell_type": "code",
   "execution_count": null,
   "id": "3381f10e-853c-4049-ac87-5c7825e440cd",
   "metadata": {},
   "outputs": [],
   "source": [
    "# 删除任务"
   ]
  },
  {
   "cell_type": "code",
   "execution_count": 37,
   "id": "dca8a9e3-2a5c-413f-a30d-0eee89ccc3cf",
   "metadata": {},
   "outputs": [],
   "source": [
    "agent.delete_task(task_id='714376e1-d493-4f01-9cd8-3075b55b9fd4')"
   ]
  },
  {
   "cell_type": "code",
   "execution_count": null,
   "id": "65d43a25-89e5-47db-88d8-d7f0550fb682",
   "metadata": {},
   "outputs": [],
   "source": [
    "# 高级API 自动化\n",
    "agent.chat"
   ]
  },
  {
   "cell_type": "code",
   "execution_count": 63,
   "id": "99d9c2f3-9234-472d-abad-7f64eda4e519",
   "metadata": {
    "scrolled": true
   },
   "outputs": [
    {
     "data": {
      "text/plain": [
       "dict_keys(['36ebbd85-28c6-42b7-8098-cba4c085ea28'])"
      ]
     },
     "execution_count": 63,
     "metadata": {},
     "output_type": "execute_result"
    }
   ],
   "source": [
    "agent.state.task_dict.keys()"
   ]
  },
  {
   "cell_type": "code",
   "execution_count": null,
   "id": "21163ac9-fc91-4a1b-a85c-f0c0dc74ec17",
   "metadata": {},
   "outputs": [],
   "source": [
    "# history"
   ]
  },
  {
   "cell_type": "code",
   "execution_count": 64,
   "id": "7f58be8e-296b-494a-a8a4-822ee9f1cabc",
   "metadata": {
    "scrolled": true
   },
   "outputs": [
    {
     "data": {
      "text/plain": [
       "[ChatMessage(role=<MessageRole.USER: 'user'>, content='你好', additional_kwargs={}),\n",
       " ChatMessage(role=<MessageRole.ASSISTANT: 'assistant'>, content='你好！有什么我可以帮助你的吗？', additional_kwargs={})]"
      ]
     },
     "execution_count": 64,
     "metadata": {},
     "output_type": "execute_result"
    }
   ],
   "source": [
    "agent.chat_history"
   ]
  },
  {
   "cell_type": "markdown",
   "id": "50c17556-22a9-4a4e-8909-550972a53147",
   "metadata": {},
   "source": [
    "tree task_id: TaskState {task,step_queue,completed_steps}"
   ]
  },
  {
   "cell_type": "code",
   "execution_count": 31,
   "id": "c0b073fe-627a-42fb-ad5e-05cc98da0beb",
   "metadata": {
    "scrolled": true
   },
   "outputs": [
    {
     "data": {
      "text/plain": [
       "[TaskStepOutput(output=AgentChatResponse(response='Observation: 16', sources=[ToolOutput(content='16', tool_name='add', raw_input={'args': (), 'kwargs': {'a': 12, 'b': 4}}, raw_output=16), ToolOutput(content='1632', tool_name='multiply', raw_input={'args': (), 'kwargs': {'a': 48, 'b': 34}}, raw_output=1632), ToolOutput(content='-1616', tool_name='subtract', raw_input={'args': (), 'kwargs': {'a': 16, 'b': 1632}}, raw_output=-1616)], source_nodes=[]), task_step=TaskStep(task_id='714376e1-d493-4f01-9cd8-3075b55b9fd4', step_id='8233bf4e-1616-4812-a652-fa51d300557a', input='12+4-48*34=?', step_state={'is_first': False}, next_steps={}, prev_steps={}, is_ready=True), next_steps=[TaskStep(task_id='714376e1-d493-4f01-9cd8-3075b55b9fd4', step_id='e0d4c84f-d345-4f6d-977b-a6a52af5ca93', input=None, step_state={'is_first': False}, next_steps={}, prev_steps={}, is_ready=True)], is_last=False),\n",
       " TaskStepOutput(output=AgentChatResponse(response='Observation: 1632', sources=[ToolOutput(content='16', tool_name='add', raw_input={'args': (), 'kwargs': {'a': 12, 'b': 4}}, raw_output=16), ToolOutput(content='1632', tool_name='multiply', raw_input={'args': (), 'kwargs': {'a': 48, 'b': 34}}, raw_output=1632), ToolOutput(content='-1616', tool_name='subtract', raw_input={'args': (), 'kwargs': {'a': 16, 'b': 1632}}, raw_output=-1616)], source_nodes=[]), task_step=TaskStep(task_id='714376e1-d493-4f01-9cd8-3075b55b9fd4', step_id='e0d4c84f-d345-4f6d-977b-a6a52af5ca93', input=None, step_state={'is_first': False}, next_steps={}, prev_steps={}, is_ready=True), next_steps=[TaskStep(task_id='714376e1-d493-4f01-9cd8-3075b55b9fd4', step_id='165a6af2-e26a-4108-988a-7b4380207f6e', input=None, step_state={'is_first': False}, next_steps={}, prev_steps={}, is_ready=True)], is_last=False),\n",
       " TaskStepOutput(output=AgentChatResponse(response='Observation: -1616', sources=[ToolOutput(content='16', tool_name='add', raw_input={'args': (), 'kwargs': {'a': 12, 'b': 4}}, raw_output=16), ToolOutput(content='1632', tool_name='multiply', raw_input={'args': (), 'kwargs': {'a': 48, 'b': 34}}, raw_output=1632), ToolOutput(content='-1616', tool_name='subtract', raw_input={'args': (), 'kwargs': {'a': 16, 'b': 1632}}, raw_output=-1616)], source_nodes=[]), task_step=TaskStep(task_id='714376e1-d493-4f01-9cd8-3075b55b9fd4', step_id='165a6af2-e26a-4108-988a-7b4380207f6e', input=None, step_state={'is_first': False}, next_steps={}, prev_steps={}, is_ready=True), next_steps=[TaskStep(task_id='714376e1-d493-4f01-9cd8-3075b55b9fd4', step_id='994d31e0-6ab3-4b69-ac27-ae5212de2b0e', input=None, step_state={'is_first': False}, next_steps={}, prev_steps={}, is_ready=True)], is_last=False),\n",
       " TaskStepOutput(output=AgentChatResponse(response='-1616', sources=[ToolOutput(content='16', tool_name='add', raw_input={'args': (), 'kwargs': {'a': 12, 'b': 4}}, raw_output=16), ToolOutput(content='1632', tool_name='multiply', raw_input={'args': (), 'kwargs': {'a': 48, 'b': 34}}, raw_output=1632), ToolOutput(content='-1616', tool_name='subtract', raw_input={'args': (), 'kwargs': {'a': 16, 'b': 1632}}, raw_output=-1616)], source_nodes=[]), task_step=TaskStep(task_id='714376e1-d493-4f01-9cd8-3075b55b9fd4', step_id='994d31e0-6ab3-4b69-ac27-ae5212de2b0e', input=None, step_state={'is_first': False}, next_steps={}, prev_steps={}, is_ready=True), next_steps=[], is_last=True)]"
      ]
     },
     "execution_count": 31,
     "metadata": {},
     "output_type": "execute_result"
    }
   ],
   "source": [
    "# agent.state.task_dict['7d8f5eb2-4110-446f-9e0d-c516841d742a'].task\n",
    "# agent.state.task_dict['7d8f5eb2-4110-446f-9e0d-c516841d742a'].step_queue\n",
    "agent.state.task_dict['714376e1-d493-4f01-9cd8-3075b55b9fd4'].completed_steps"
   ]
  },
  {
   "cell_type": "code",
   "execution_count": null,
   "id": "c6916817-9ce6-4cf6-8c8e-d3575d412b62",
   "metadata": {},
   "outputs": [],
   "source": []
  },
  {
   "cell_type": "code",
   "execution_count": null,
   "id": "9dd1ab90-3562-4c43-9a6c-e29ca3ce867d",
   "metadata": {},
   "outputs": [],
   "source": []
  },
  {
   "cell_type": "markdown",
   "id": "f7fd371e-886e-4a09-b108-fff9404aa467",
   "metadata": {},
   "source": [
    "# 测试\n"
   ]
  },
  {
   "cell_type": "code",
   "execution_count": null,
   "id": "8e736143-2eec-4150-b478-c6ddfea281e9",
   "metadata": {},
   "outputs": [],
   "source": [
    "# 网络"
   ]
  },
  {
   "cell_type": "code",
   "execution_count": null,
   "id": "a651ad53-dd42-4fb6-99a3-c0ae7ce3c536",
   "metadata": {
    "tags": []
   },
   "outputs": [],
   "source": [
    "import requests\n",
    "import httpx\n",
    "def add_task(priority, content):\n",
    "    url = \"http://localhost:8000/add_task\"  # 替换为正确的URL\n",
    "    payload = {\n",
    "        \"priority\": priority,\n",
    "        \"content\": content\n",
    "    }\n",
    "    response = requests.post(url, json=payload)\n",
    "    if response.status_code == 200:\n",
    "        print(\"Task added successfully\")\n",
    "    else:\n",
    "        print(\"Failed to add task\")\n",
    "        print()\n",
    "\n",
    "# 调用add_task函数发送请求\n",
    "add_task(1, \"Finish homework\")"
   ]
  },
  {
   "cell_type": "code",
   "execution_count": null,
   "id": "05094e25-67ca-4863-a74a-6e702f36e935",
   "metadata": {
    "tags": []
   },
   "outputs": [],
   "source": [
    "async def arequests_post(url: str, json: dict):\n",
    "    async with httpx.AsyncClient() as client:\n",
    "        response = await client.post(url, json=json)\n",
    "        return response\n",
    "\n",
    "async def aadd_task(priority, content):\n",
    "    url = \"http://localhost:8000/add_task\"\n",
    "    payload = {\n",
    "        \"priority\": priority,\n",
    "        \"content\": content\n",
    "    }\n",
    "    \n",
    "    response = await arequests_post(url, json=payload)\n",
    "    # return response.json()\n",
    "    if response.status_code == 200:\n",
    "        print(\"Task added successfully\")\n",
    "    else:\n",
    "        print(\"Failed to add task\")\n",
    "\n"
   ]
  },
  {
   "cell_type": "code",
   "execution_count": 5,
   "id": "50f94609-6e5e-4244-a3b0-a49d4a7166c7",
   "metadata": {
    "tags": []
   },
   "outputs": [
    {
     "ename": "NameError",
     "evalue": "name 'aadd_task' is not defined",
     "output_type": "error",
     "traceback": [
      "\u001b[0;31m---------------------------------------------------------------------------\u001b[0m",
      "\u001b[0;31mNameError\u001b[0m                                 Traceback (most recent call last)",
      "Cell \u001b[0;32mIn[5], line 1\u001b[0m\n\u001b[0;32m----> 1\u001b[0m \u001b[38;5;28;01mawait\u001b[39;00m aadd_task(\u001b[38;5;241m1\u001b[39m, \u001b[38;5;124m\"\u001b[39m\u001b[38;5;124mFinish homework\u001b[39m\u001b[38;5;124m\"\u001b[39m)\n",
      "\u001b[0;31mNameError\u001b[0m: name 'aadd_task' is not defined"
     ]
    }
   ],
   "source": [
    "await aadd_task(1, \"Finish homework\")"
   ]
  },
  {
   "cell_type": "code",
   "execution_count": null,
   "id": "ece6aa25-24b6-400a-b396-8af99f2a80b3",
   "metadata": {},
   "outputs": [],
   "source": []
  },
  {
   "cell_type": "code",
   "execution_count": null,
   "id": "0bd9a24c-31be-4fa5-a5cc-6313dcf87a65",
   "metadata": {},
   "outputs": [],
   "source": []
  },
  {
   "cell_type": "code",
   "execution_count": null,
   "id": "cb3a218a-6930-4049-bfaa-2a2b6c98644c",
   "metadata": {
    "collapsed": true,
    "jupyter": {
     "outputs_hidden": true
    },
    "tags": []
   },
   "outputs": [
    {
     "name": "stderr",
     "output_type": "stream",
     "text": [
      "INFO:     Started server process [59496]\n",
      "INFO:     Waiting for application startup.\n",
      "INFO:     Application startup complete.\n",
      "INFO:     Uvicorn running on http://localhost:8000 (Press CTRL+C to quit)\n"
     ]
    },
    {
     "name": "stdout",
     "output_type": "stream",
     "text": [
      "INFO:     ::1:52943 - \"POST /add_mission HTTP/1.1\" 200 OK\n",
      "\u001b[1;3;38;5;200mThought: The current language of the user is: zh_CN. I need to use a tool to help me answer the question.\n",
      "Action: release_mission\n",
      "Action Input: {'priority': 1, 'mission_definition': '获取今天的天气', 'expert': 'weather_expert'}\n",
      "\u001b[0m\u001b[1;3;34mObservation: await\n",
      "\u001b[0m*******************************\n",
      "[] missions\n",
      "*******************************\n",
      "{81783: <__main__.Mission object at 0x7fc032ab3cd0>} hang_missions\n",
      "*******************************\n",
      "337 mission_id\n",
      "*******************************\n",
      "77a88a22-3786-496f-9683-404f553837d9 task_id\n",
      "*******************************\n",
      "False is_last\n",
      "*******************************\n",
      "今天的天气怎么样 content\n",
      "*******************************\n",
      "1 priority\n",
      "*******************************\n",
      "['77a88a22-3786-496f-9683-404f553837d9'] agent.task_ids****\n",
      "INFO:     ::1:52970 - \"POST /get_result HTTP/1.1\" 200 OK\n",
      "\u001b[1;3;38;5;200mThought: I have released a mission to the weather expert to get today's weather. I need to use another tool to check the mission result.\n",
      "Action: get_mission_result\n",
      "Action Input: {}\n",
      "\u001b[0m\u001b[1;3;34mObservation: 今天的天气是北风，温度为37度。\n",
      "\u001b[0m\u001b[1;3;38;5;200mThought: I have received the mission result from the weather expert. I can answer the user's question without using any more tools.\n",
      "Answer: 今天的天气是北风，温度为37度。\n",
      "\u001b[0m*******************************\n",
      "[] missions\n",
      "*******************************\n",
      "{} hang_missions\n",
      "*******************************\n",
      "337 mission_id\n",
      "*******************************\n",
      "77a88a22-3786-496f-9683-404f553837d9 task_id\n",
      "*******************************\n",
      "True is_last\n",
      "*******************************\n",
      "今天的天气怎么样 content\n",
      "*******************************\n",
      "1 priority\n",
      "*******************************\n",
      "[] agent.task_ids****\n"
     ]
    }
   ],
   "source": [
    "AgentAPIService(verbose=True,callback_human=True).start()"
   ]
  },
  {
   "cell_type": "code",
   "execution_count": 64,
   "id": "296b2374-d313-47b6-aef1-005c39856089",
   "metadata": {
    "tags": []
   },
   "outputs": [],
   "source": [
    "import requests\n",
    "import httpx\n",
    "def release_task(priority, content):\n",
    "    url = \"http://localhost:8000/add_mission\"  # 替换为正确的URL\n",
    "    payload = {\n",
    "        \"priority\": priority,\n",
    "        \"content\": content,\n",
    "        \"mission_id\":337\n",
    "    }\n",
    "    response = requests.post(url, json=payload)\n",
    "    if response.status_code == 200:\n",
    "        print(\"Task added successfully\")\n",
    "    else:\n",
    "        print(\"Failed to add task\")\n",
    "        print()\n"
   ]
  },
  {
   "cell_type": "code",
   "execution_count": 65,
   "id": "ac9880c5-921b-4ca5-9597-4c406358ef88",
   "metadata": {
    "scrolled": true
   },
   "outputs": [
    {
     "name": "stdout",
     "output_type": "stream",
     "text": [
      "Task added successfully\n"
     ]
    }
   ],
   "source": [
    "release_task(1,'今天的天气怎么样')"
   ]
  },
  {
   "cell_type": "code",
   "execution_count": null,
   "id": "55ff3c5e-2b28-4806-9d91-60c5343159e4",
   "metadata": {},
   "outputs": [],
   "source": []
  },
  {
   "cell_type": "code",
   "execution_count": null,
   "id": "96a7cd45-be90-43ab-adb8-a971412cf85c",
   "metadata": {},
   "outputs": [],
   "source": []
  },
  {
   "cell_type": "code",
   "execution_count": null,
   "id": "1a6caab7-4a92-4822-975b-67f3a659803d",
   "metadata": {},
   "outputs": [],
   "source": []
  },
  {
   "cell_type": "code",
   "execution_count": 65,
   "id": "57cb01e3-296e-4184-9b25-e7fe09564603",
   "metadata": {
    "tags": []
   },
   "outputs": [],
   "source": [
    "import time\n"
   ]
  },
  {
   "cell_type": "code",
   "execution_count": null,
   "id": "945cf208-06dd-488c-964f-25e0a3f0b65d",
   "metadata": {},
   "outputs": [],
   "source": []
  },
  {
   "cell_type": "code",
   "execution_count": 1,
   "id": "1184502d-2f36-4c63-bd30-ed10f4e81110",
   "metadata": {
    "tags": []
   },
   "outputs": [],
   "source": [
    "def push_a_test(task:str,role:str,task_id:str)->str:\n",
    "    \"\"\"\n",
    "    使用此工具 你可以将一个任务提交给(police worker1) 任务需要一个id\n",
    "    \"\"\"\n",
    "    result = input(f'{task} 提交给了 {role}:')\n",
    "    return result\n",
    "\n",
    "def tell_user(word:str)->str:\n",
    "    \"\"\"\n",
    "    使用此工具 你可以与用户交谈,等待新的任务或者通知任务完成\n",
    "    \"\"\"\n",
    "    result = input('tell')\n",
    "    return result\n",
    "\n",
    "def pull_test_result(task:str,task_id:str)->str:\n",
    "    \"\"\"\n",
    "    使用此工具 你可以接收以完成的任务(你提交的) \n",
    "    \"\"\"\n",
    "    result = input(f'{task} 接受了 {role}:')\n",
    "    return result"
   ]
  },
  {
   "cell_type": "code",
   "execution_count": 3,
   "id": "89992870-a081-444e-ae4c-3400dcea3c91",
   "metadata": {},
   "outputs": [],
   "source": [
    "maker = ReactAgentMaker()"
   ]
  },
  {
   "cell_type": "code",
   "execution_count": 4,
   "id": "83e8fe53-08bf-48d7-bb29-3ea560e2c9a9",
   "metadata": {},
   "outputs": [],
   "source": [
    "maker.add_tool(push_a_test)\n",
    "maker.add_tool(pull_test_result)"
   ]
  },
  {
   "cell_type": "code",
   "execution_count": 5,
   "id": "54602f99-f782-4c7d-9e49-17f514b2a592",
   "metadata": {
    "tags": []
   },
   "outputs": [],
   "source": [
    "agent = maker.create_agent()"
   ]
  },
  {
   "cell_type": "code",
   "execution_count": 6,
   "id": "ac5cd08c-bb2b-409e-9967-c60320c05e28",
   "metadata": {
    "tags": []
   },
   "outputs": [
    {
     "name": "stdout",
     "output_type": "stream",
     "text": [
      "\u001b[1;3;38;5;200mThought: (Implicit) I can answer without any more tools!\n",
      "Answer: Hello! How can I assist you today?\n",
      "\u001b[0m"
     ]
    }
   ],
   "source": [
    "resul =  agent.chat('hello')"
   ]
  },
  {
   "cell_type": "code",
   "execution_count": 43,
   "id": "c0bf8f42-97d2-4829-bbf4-e03c6065ab40",
   "metadata": {
    "tags": []
   },
   "outputs": [
    {
     "data": {
      "text/plain": [
       "'Hello! How can I assist you today?'"
      ]
     },
     "execution_count": 43,
     "metadata": {},
     "output_type": "execute_result"
    }
   ],
   "source": [
    "resul.response"
   ]
  },
  {
   "cell_type": "code",
   "execution_count": null,
   "id": "ffe5eabb-7f07-4335-8a25-36bf2dbcd94d",
   "metadata": {},
   "outputs": [],
   "source": []
  },
  {
   "cell_type": "code",
   "execution_count": null,
   "id": "ede924bd-5cdd-44cc-97ec-25381360fd3c",
   "metadata": {},
   "outputs": [],
   "source": [
    "from zxftools_dev.tnode"
   ]
  },
  {
   "cell_type": "code",
   "execution_count": null,
   "id": "9bb9fdb6-7fd9-4b47-bb70-65fc0b469b6f",
   "metadata": {},
   "outputs": [],
   "source": []
  },
  {
   "cell_type": "code",
   "execution_count": null,
   "id": "dd886bb5-2bb3-49dd-b715-5fe8b94d9f00",
   "metadata": {},
   "outputs": [],
   "source": []
  },
  {
   "cell_type": "code",
   "execution_count": 3,
   "id": "800538f8-f043-41e5-96cc-7351266d394e",
   "metadata": {
    "tags": []
   },
   "outputs": [],
   "source": [
    "def weather_info(question:str):\n",
    "    \"\"\"\n",
    "    the tool to get the weather info\n",
    "    \"\"\"\n",
    "    result = '天气不错 北风 37度'\n",
    "    return result"
   ]
  },
  {
   "cell_type": "code",
   "execution_count": null,
   "id": "7aa6c165-55b9-428e-8cb8-05f28f568bb5",
   "metadata": {
    "collapsed": true,
    "jupyter": {
     "outputs_hidden": true
    },
    "tags": []
   },
   "outputs": [
    {
     "name": "stderr",
     "output_type": "stream",
     "text": [
      "INFO:     Started server process [59507]\n",
      "INFO:     Waiting for application startup.\n",
      "INFO:     Application startup complete.\n",
      "INFO:     Uvicorn running on http://localhost:8001 (Press CTRL+C to quit)\n"
     ]
    },
    {
     "name": "stdout",
     "output_type": "stream",
     "text": [
      "INFO:     ::1:52952 - \"POST /add_mission HTTP/1.1\" 200 OK\n",
      "\u001b[1;3;38;5;200mThought: The current language of the user is: zh_CN. I need to use a tool to help me answer the question.\n",
      "Action: weather_info\n",
      "Action Input: {'question': '获取今天的天气'}\n",
      "\u001b[0m\u001b[1;3;34mObservation: 天气不错 北风 37度\n",
      "\u001b[0m\u001b[1;3;38;5;200mThought: I can answer without using any more tools. I'll use the user's language to answer.\n",
      "Answer: 今天的天气是北风，温度为37度。\n",
      "\u001b[0mnotice success\n",
      "*******************************\n",
      "[] missions\n",
      "*******************************\n",
      "{} hang_missions\n",
      "*******************************\n",
      "81783 mission_id\n",
      "*******************************\n",
      "26d10187-6a16-41d8-9be7-66e4f3fb2376 task_id\n",
      "*******************************\n",
      "True is_last\n",
      "*******************************\n",
      "获取今天的天气 content\n",
      "*******************************\n",
      "1 priority\n",
      "*******************************\n",
      "[] agent.task_ids****\n"
     ]
    }
   ],
   "source": [
    "AgentAPIService(_tools=[weather_info],verbose=True,port=8001).start()"
   ]
  },
  {
   "cell_type": "code",
   "execution_count": null,
   "id": "b5fddafc-4f6b-45c1-94e5-4730531cbe4c",
   "metadata": {},
   "outputs": [],
   "source": []
  },
  {
   "cell_type": "code",
   "execution_count": null,
   "id": "00f96027-9411-4208-a3f3-4d782fad402a",
   "metadata": {},
   "outputs": [],
   "source": []
  },
  {
   "cell_type": "code",
   "execution_count": null,
   "id": "7952e07d-d15a-4e4b-af4f-fa8b0256b70c",
   "metadata": {},
   "outputs": [],
   "source": []
  },
  {
   "cell_type": "markdown",
   "id": "f17e99cb-f9dd-41fb-8ff7-30fbf02bb2ce",
   "metadata": {},
   "source": [
    "# Test"
   ]
  },
  {
   "cell_type": "code",
   "execution_count": null,
   "id": "f1135bf1-83ff-467c-9fce-1e46955ac10c",
   "metadata": {},
   "outputs": [],
   "source": []
  },
  {
   "cell_type": "code",
   "execution_count": null,
   "id": "79efcf8a-f9c1-4aa3-981c-7362b43fd00a",
   "metadata": {},
   "outputs": [],
   "source": []
  },
  {
   "cell_type": "code",
   "execution_count": null,
   "id": "b6982f4d-5355-4707-9b94-ae70b8a7dfd4",
   "metadata": {},
   "outputs": [],
   "source": []
  },
  {
   "cell_type": "code",
   "execution_count": 33,
   "id": "7a512c71-2631-4421-a221-ba0e57f66fe0",
   "metadata": {
    "tags": []
   },
   "outputs": [],
   "source": [
    "class Hello(TNode):\n",
    "    topic = \"问好\"\n",
    "    llm_name = 'gpt-3.5-turbo-0613'\n",
    "    def __init__(self):\n",
    "        super().__init__()\n",
    "        \n",
    "    def prompts(self,**kwargs):\n",
    "        return \"\"\"\n",
    "你是一个热情的管家,如果别人向你打招呼,你会热情的回应.\n",
    "并以服务者的姿态与其交谈 \n",
    "\n",
    "客人:{inputs}\n",
    "管家:\n",
    "        \"\"\".format(**kwargs)\n",
    "        \n",
    "    def strategy(self,inputs:str)->str:\n",
    "         # 问需求或者等待需求\n",
    "        prompt = self.prompts(inputs=inputs)\n",
    "        result = self.llm.complete(prompt).text\n",
    "        self.llm\n",
    "        return result\n",
    "    "
   ]
  },
  {
   "cell_type": "code",
   "execution_count": 36,
   "id": "b222cb62-d0ad-46c6-8b5e-e1dc054cc4c9",
   "metadata": {
    "tags": []
   },
   "outputs": [],
   "source": [
    "class Steward(TNode):\n",
    "    topic = \"负责管理\"\n",
    "    llm_name = 'gpt-3.5-turbo-0613'\n",
    "    def __init__(self):\n",
    "        super().__init__()\n",
    "        \n",
    "    def strategy(self,inputs:str)->str:\n",
    "        \n",
    "        result = Hello().run(inputs)\n",
    "        # 寻找合适的机器人来做\n",
    "        \n",
    "        # 获得机器人的反馈\n",
    "        \n",
    "        # 主动提问和预估 或者获得预估时间\n",
    "        \n",
    "        \n",
    "        return result\n",
    "    "
   ]
  },
  {
   "cell_type": "code",
   "execution_count": null,
   "id": "21cf6bd2-28c7-419b-84c2-d91429070779",
   "metadata": {},
   "outputs": [],
   "source": []
  }
 ],
 "metadata": {
  "kernelspec": {
   "display_name": "Python 3 (ipykernel)",
   "language": "python",
   "name": "python3"
  },
  "language_info": {
   "codemirror_mode": {
    "name": "ipython",
    "version": 3
   },
   "file_extension": ".py",
   "mimetype": "text/x-python",
   "name": "python",
   "nbconvert_exporter": "python",
   "pygments_lexer": "ipython3",
   "version": "3.10.14"
  }
 },
 "nbformat": 4,
 "nbformat_minor": 5
}
