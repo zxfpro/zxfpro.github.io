{
 "cells": [
  {
   "cell_type": "markdown",
   "id": "5a7f0dbe-324b-4d17-a6d8-94eb9b054095",
   "metadata": {},
   "source": [
    "# Load Data"
   ]
  },
  {
   "cell_type": "markdown",
   "id": "fd20090b-baf9-47c7-a842-e9eb7f019346",
   "metadata": {},
   "source": [
    "#### Files -> Documents"
   ]
  },
  {
   "cell_type": "code",
   "execution_count": 3,
   "id": "a2d42b66-616e-4896-8ddd-bba1a518ca3e",
   "metadata": {
    "tags": []
   },
   "outputs": [],
   "source": [
    "from zxftools_dev.rag.load_data import load_data"
   ]
  },
  {
   "cell_type": "code",
   "execution_count": 6,
   "id": "3fc1ce8f-616c-456f-8867-feef1817778d",
   "metadata": {
    "tags": []
   },
   "outputs": [],
   "source": [
    "data_path = 'data/chat_stream.py'\n",
    "result = load_data(data_path,params='r')\n"
   ]
  },
  {
   "cell_type": "code",
   "execution_count": 7,
   "id": "26e63038-b7db-475a-8cb1-ea5d673fa38e",
   "metadata": {
    "tags": []
   },
   "outputs": [
    {
     "name": "stdout",
     "output_type": "stream",
     "text": [
      "[Document(id_='57528f64-0634-442b-9fcd-6bdafd263a0b', embedding=None, metadata={'file_path': 'data/chat_stream.py', 'file_name': 'chat_stream.py', 'file_type': 'text/x-python', 'file_size': 961, 'creation_date': '2024-06-10', 'last_modified_date': '2024-03-27'}, excluded_embed_metadata_keys=['file_name', 'file_type', 'file_size', 'creation_date', 'last_modified_date', 'last_accessed_date'], excluded_llm_metadata_keys=['file_name', 'file_type', 'file_size', 'creation_date', 'last_modified_date', 'last_accessed_date'], relationships={}, text='import requests\\nimport json\\n\\ndef chat_stream(message: str, history=[], id=\\'1124\\', mark: bytes = b\\'$$%$\\'):\\n    # assert\\n    assert isinstance(mark, bytes)\\n    url = \"http://192.168.8.125:8502/kb/api/chat\"\\n    params = {\"message\": message, \"history\": history, \"id\": id,\\n              \"token\": \\'57d3d17868206f5e181fd27d0cbdde89d9739b0538b27ddd\\',\\n              \"db_name\": \\'chinamobile6\\'}\\n    params = json.dumps(params)\\n    response = requests.post(url, data=params, stream=True)\\n    stream_content = b\\'\\'\\n    for i in response.iter_content():\\n        stream_content += i\\n        if len(stream_content) > len(mark) and stream_content[-len(mark):] == mark:\\n            text = stream_content.split(mark)[0]\\n            result = json.loads(text)\\n            stream_content = b\\'\\'\\n            yield result\\n\\nif __name__ == \\'__main__\\':\\n    iters = chat_stream(\\'信息化项目建设管理办法核心内容是什么?\\')\\n    for i in iters:\\n        print(i)\\n        print(2)\\n', start_char_idx=None, end_char_idx=None, text_template='{metadata_str}\\n\\n{content}', metadata_template='{key}: {value}', metadata_seperator='\\n')]\n"
     ]
    }
   ],
   "source": [
    "print(result)"
   ]
  },
  {
   "cell_type": "markdown",
   "id": "f3ae6f0f-6a92-4353-8b39-a1b3d817324d",
   "metadata": {},
   "source": [
    "当然 data_path 可以是你想到的任何东西"
   ]
  }
 ],
 "metadata": {
  "kernelspec": {
   "display_name": "Python 3 (ipykernel)",
   "language": "python",
   "name": "python3"
  },
  "language_info": {
   "codemirror_mode": {
    "name": "ipython",
    "version": 3
   },
   "file_extension": ".py",
   "mimetype": "text/x-python",
   "name": "python",
   "nbconvert_exporter": "python",
   "pygments_lexer": "ipython3",
   "version": "3.10.14"
  }
 },
 "nbformat": 4,
 "nbformat_minor": 5
}
