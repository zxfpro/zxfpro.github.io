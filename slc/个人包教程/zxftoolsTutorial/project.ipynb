{
 "cells": [
  {
   "cell_type": "markdown",
   "id": "3b959a6b-bb5d-44b5-9139-6bc562eb0c7a",
   "metadata": {},
   "source": [
    "# Project 使用教程\n",
    "IO 如何使用"
   ]
  },
  {
   "cell_type": "code",
   "execution_count": 1,
   "id": "24d04b6b-7384-4519-97ca-3b3ced3df382",
   "metadata": {},
   "outputs": [],
   "source": [
    "from zxftools import IO"
   ]
  },
  {
   "cell_type": "code",
   "execution_count": 3,
   "id": "515f12ea-0cb1-4593-a151-52ee4672761d",
   "metadata": {
    "tags": []
   },
   "outputs": [
    {
     "data": {
      "text/plain": [
       "8"
      ]
     },
     "execution_count": 3,
     "metadata": {},
     "output_type": "execute_result"
    }
   ],
   "source": [
    "IO.cpu_count()"
   ]
  },
  {
   "cell_type": "code",
   "execution_count": 7,
   "id": "6468d194-01b7-48af-989f-bb542d111581",
   "metadata": {
    "tags": []
   },
   "outputs": [
    {
     "data": {
      "text/plain": [
       "['cpu_count',\n",
       " 'decode_json',\n",
       " 'decode_str',\n",
       " 'encode_json',\n",
       " 'encode_str',\n",
       " 'load_dill',\n",
       " 'load_env',\n",
       " 'load_io',\n",
       " 'load_json',\n",
       " 'load_variable',\n",
       " 'load_yaml',\n",
       " 'open_io',\n",
       " 'platform',\n",
       " 'save_dill',\n",
       " 'save_env',\n",
       " 'save_io',\n",
       " 'save_json',\n",
       " 'save_variable',\n",
       " 'save_yaml']"
      ]
     },
     "execution_count": 7,
     "metadata": {},
     "output_type": "execute_result"
    }
   ],
   "source": [
    "[i for i in dir(IO) if not i.startswith('__')]"
   ]
  },
  {
   "cell_type": "code",
   "execution_count": 1,
   "id": "e76ab211-afd7-4a56-9c63-f60a73db57a0",
   "metadata": {},
   "outputs": [],
   "source": [
    "from zxftools_dev.io import IOdisk"
   ]
  },
  {
   "cell_type": "code",
   "execution_count": 2,
   "id": "ae394637-e13b-42a6-9d3d-979f66176603",
   "metadata": {
    "tags": []
   },
   "outputs": [],
   "source": [
    "# IOdisk #diskcache"
   ]
  },
  {
   "cell_type": "markdown",
   "id": "3cf06722-97a5-42f3-9d08-908c0e28d24a",
   "metadata": {},
   "source": [
    "# Logger 如何使用"
   ]
  },
  {
   "cell_type": "code",
   "execution_count": 3,
   "id": "f55d96d8-5b07-4562-878a-36fe5232c3d7",
   "metadata": {
    "tags": []
   },
   "outputs": [],
   "source": [
    "from zxftools import Logger"
   ]
  },
  {
   "cell_type": "markdown",
   "id": "4b7a5954-d4cf-4d35-9ed9-2530a4ad4ee8",
   "metadata": {
    "tags": []
   },
   "source": [
    "## 直接使用"
   ]
  },
  {
   "cell_type": "code",
   "execution_count": 14,
   "id": "f726b9b5-6a84-42c8-8951-31e0df79bef1",
   "metadata": {
    "tags": []
   },
   "outputs": [],
   "source": [
    "logger = Logger('aa.log')"
   ]
  },
  {
   "cell_type": "code",
   "execution_count": 15,
   "id": "a7c35b7f-d566-40d3-aec5-956b914a856c",
   "metadata": {
    "tags": []
   },
   "outputs": [
    {
     "name": "stderr",
     "output_type": "stream",
     "text": [
      "\u001b[32m2024-04-23 17:17:36.861\u001b[0m | \u001b[1mINFO    \u001b[0m | \u001b[36m__main__\u001b[0m:\u001b[36m<module>\u001b[0m:\u001b[36m1\u001b[0m - \u001b[1maa\u001b[0m\n"
     ]
    }
   ],
   "source": [
    "logger.info('aa')"
   ]
  },
  {
   "cell_type": "markdown",
   "id": "5c75cd32-9820-42fa-a30f-50d4dfda8a29",
   "metadata": {
    "tags": []
   },
   "source": [
    "## 作为装饰器使用"
   ]
  },
  {
   "cell_type": "code",
   "execution_count": 16,
   "id": "1622341f-05f4-4fa0-9367-911c10e402ed",
   "metadata": {
    "tags": []
   },
   "outputs": [],
   "source": [
    "@Logger.load(logger)\n",
    "def test():\n",
    "    a = 3\n",
    "    raise Exception('示例错误')"
   ]
  },
  {
   "cell_type": "code",
   "execution_count": 17,
   "id": "7d02c820-6fdc-4a12-8734-8e56f9779184",
   "metadata": {
    "collapsed": true,
    "jupyter": {
     "outputs_hidden": true
    },
    "tags": []
   },
   "outputs": [
    {
     "name": "stderr",
     "output_type": "stream",
     "text": [
      "\u001b[32m2024-04-23 17:17:39.797\u001b[0m | \u001b[31m\u001b[1mERROR   \u001b[0m | \u001b[36mzxftools.logger\u001b[0m:\u001b[36mwrapper\u001b[0m:\u001b[36m105\u001b[0m - \u001b[31m\u001b[1merror in test: 示例错误\n",
      "\n",
      " params:\n",
      "\n",
      "\n",
      "a = 3\n",
      "\n",
      "\u001b[0m\n"
     ]
    },
    {
     "ename": "Exception",
     "evalue": "示例错误",
     "output_type": "error",
     "traceback": [
      "\u001b[0;31m---------------------------------------------------------------------------\u001b[0m",
      "\u001b[0;31mException\u001b[0m                                 Traceback (most recent call last)",
      "Cell \u001b[0;32mIn[17], line 1\u001b[0m\n\u001b[0;32m----> 1\u001b[0m \u001b[43mtest\u001b[49m\u001b[43m(\u001b[49m\u001b[43m)\u001b[49m\n",
      "File \u001b[0;32m~/opt/miniconda3/envs/py310_new/lib/python3.10/site-packages/zxftools/logger.py:109\u001b[0m, in \u001b[0;36mLogger.load.<locals>.outer_packing.<locals>.wrapper\u001b[0;34m(*args, **kwargs)\u001b[0m\n\u001b[1;32m    107\u001b[0m         \u001b[38;5;28mprint\u001b[39m(\u001b[38;5;124mf\u001b[39m\u001b[38;5;124m'\u001b[39m\u001b[38;5;124merror in \u001b[39m\u001b[38;5;132;01m{\u001b[39;00mfunc\u001b[38;5;241m.\u001b[39m\u001b[38;5;18m__name__\u001b[39m\u001b[38;5;132;01m}\u001b[39;00m\u001b[38;5;124m: \u001b[39m\u001b[38;5;132;01m{\u001b[39;00me\u001b[38;5;132;01m}\u001b[39;00m\u001b[38;5;130;01m\\n\u001b[39;00m\u001b[38;5;130;01m\\n\u001b[39;00m\u001b[38;5;124m params:\u001b[39m\u001b[38;5;130;01m\\n\u001b[39;00m\u001b[38;5;130;01m\\n\u001b[39;00m\u001b[38;5;130;01m\\n\u001b[39;00m\u001b[38;5;132;01m{\u001b[39;00mvar_info\u001b[38;5;132;01m}\u001b[39;00m\u001b[38;5;124m'\u001b[39m)\n\u001b[1;32m    108\u001b[0m     \u001b[38;5;28;01mif\u001b[39;00m raise_error:\n\u001b[0;32m--> 109\u001b[0m         \u001b[38;5;28;01mraise\u001b[39;00m e\n\u001b[1;32m    110\u001b[0m \u001b[38;5;28;01mfinally\u001b[39;00m:\n\u001b[1;32m    111\u001b[0m     \u001b[38;5;28;01mpass\u001b[39;00m\n",
      "File \u001b[0;32m~/opt/miniconda3/envs/py310_new/lib/python3.10/site-packages/zxftools/logger.py:91\u001b[0m, in \u001b[0;36mLogger.load.<locals>.outer_packing.<locals>.wrapper\u001b[0;34m(*args, **kwargs)\u001b[0m\n\u001b[1;32m     88\u001b[0m     logger\u001b[38;5;241m.\u001b[39minfo(\u001b[38;5;124mf\u001b[39m\u001b[38;5;124m\"\u001b[39m\u001b[38;5;124mrunning function:\u001b[39m\u001b[38;5;132;01m{\u001b[39;00mfunc\u001b[38;5;241m.\u001b[39m\u001b[38;5;18m__name__\u001b[39m\u001b[38;5;132;01m}\u001b[39;00m\u001b[38;5;124m\"\u001b[39m)\n\u001b[1;32m     90\u001b[0m \u001b[38;5;28;01mtry\u001b[39;00m:\n\u001b[0;32m---> 91\u001b[0m     result \u001b[38;5;241m=\u001b[39m \u001b[43mfunc\u001b[49m\u001b[43m(\u001b[49m\u001b[38;5;241;43m*\u001b[39;49m\u001b[43margs\u001b[49m\u001b[43m,\u001b[49m\u001b[43m \u001b[49m\u001b[38;5;241;43m*\u001b[39;49m\u001b[38;5;241;43m*\u001b[39;49m\u001b[43mkwargs\u001b[49m\u001b[43m)\u001b[49m\n\u001b[1;32m     92\u001b[0m     \u001b[38;5;28;01mreturn\u001b[39;00m result\n\u001b[1;32m     93\u001b[0m \u001b[38;5;66;03m# except\u001b[39;00m\n",
      "Cell \u001b[0;32mIn[16], line 4\u001b[0m, in \u001b[0;36mtest\u001b[0;34m()\u001b[0m\n\u001b[1;32m      1\u001b[0m \u001b[38;5;129m@Logger\u001b[39m\u001b[38;5;241m.\u001b[39mload(logger)\n\u001b[1;32m      2\u001b[0m \u001b[38;5;28;01mdef\u001b[39;00m \u001b[38;5;21mtest\u001b[39m():\n\u001b[1;32m      3\u001b[0m     a \u001b[38;5;241m=\u001b[39m \u001b[38;5;241m3\u001b[39m\n\u001b[0;32m----> 4\u001b[0m     \u001b[38;5;28;01mraise\u001b[39;00m \u001b[38;5;167;01mException\u001b[39;00m(\u001b[38;5;124m'\u001b[39m\u001b[38;5;124m示例错误\u001b[39m\u001b[38;5;124m'\u001b[39m)\n",
      "\u001b[0;31mException\u001b[0m: 示例错误"
     ]
    }
   ],
   "source": [
    "test()"
   ]
  },
  {
   "cell_type": "code",
   "execution_count": null,
   "id": "6539d125-2a4a-4aa9-81f0-d72ac3b582d9",
   "metadata": {},
   "outputs": [],
   "source": []
  },
  {
   "cell_type": "markdown",
   "id": "751ba526-1eee-4f7b-9a5a-713ab751636d",
   "metadata": {},
   "source": [
    "# Traceloop"
   ]
  },
  {
   "cell_type": "markdown",
   "id": "f4aa177b-6e1d-4f26-acce-0fe9a6661661",
   "metadata": {
    "tags": []
   },
   "source": [
    "装饰器为主要使用方式"
   ]
  },
  {
   "cell_type": "code",
   "execution_count": 4,
   "id": "29ea39cc-06d5-4cc0-a684-07e13cfe6d49",
   "metadata": {
    "tags": []
   },
   "outputs": [],
   "source": [
    "from traceloop.sdk import Traceloop\n",
    "Traceloop.init(disable_batch=True, api_key=\"ab0ae62b7b82304dbbad13dccbc0387e87c5ae46e4c5d865cacc9d0dda3244f78992d4a8aed94c1f81e643638effbc8a\")\n",
    "\n",
    "\n"
   ]
  },
  {
   "cell_type": "code",
   "execution_count": 3,
   "id": "7a785f86-b165-4e1c-ae41-f8b126185960",
   "metadata": {},
   "outputs": [],
   "source": [
    "from traceloop.sdk.decorators import agent, tool,workflow, task\n"
   ]
  },
  {
   "cell_type": "markdown",
   "id": "0371116c-10ff-49db-98fc-89cec85c7d53",
   "metadata": {},
   "source": [
    "# wandb"
   ]
  },
  {
   "cell_type": "code",
   "execution_count": null,
   "id": "9a397706-9f4b-4684-bdb5-8cd2ed960512",
   "metadata": {},
   "outputs": [],
   "source": []
  },
  {
   "cell_type": "code",
   "execution_count": null,
   "id": "2243227c-0e13-41f2-a88a-1501c391f796",
   "metadata": {},
   "outputs": [],
   "source": []
  },
  {
   "cell_type": "code",
   "execution_count": null,
   "id": "5166e789-201c-4802-8743-d59353104475",
   "metadata": {},
   "outputs": [],
   "source": []
  },
  {
   "cell_type": "markdown",
   "id": "5617d24c-aaab-4562-ad23-4407d0b596bb",
   "metadata": {},
   "source": [
    "# Params的使用 和 Project 的管理 "
   ]
  },
  {
   "cell_type": "code",
   "execution_count": null,
   "id": "8c097964-6b3b-445c-ae49-dc7f6dfae708",
   "metadata": {},
   "outputs": [],
   "source": [
    "# 1 要增加从 csv 读取和保存至csv /DataFrame的功能 "
   ]
  },
  {
   "cell_type": "code",
   "execution_count": null,
   "id": "289c06ee-bc85-44dd-b573-34dcb89e4f26",
   "metadata": {},
   "outputs": [],
   "source": [
    "# 2 可以自定义设置优先级"
   ]
  },
  {
   "cell_type": "code",
   "execution_count": null,
   "id": "98dc82bf-b819-4772-95fc-df8a940a126f",
   "metadata": {},
   "outputs": [],
   "source": []
  },
  {
   "cell_type": "code",
   "execution_count": 35,
   "id": "3ffd97f5-c940-4c67-a599-99fb8732e7bb",
   "metadata": {
    "tags": []
   },
   "outputs": [],
   "source": [
    "class Project():\n",
    "    def __init__(self):\n",
    "        self.ProjectControl = Params('ProjectControl',{'name','doc','version',\n",
    "                                             'history_version','history_version_state',# test stable docker\n",
    "                                             'dependency_package', # 映射工具包\n",
    "                                             'customer','customer_name','similar_project',\n",
    "                                             'resource','deployment_form','debug_log','state',# test stable docker\n",
    "                                             'envrionment','notebook_dir'},cache_home='Projects')\n",
    "        \n",
    "    def create(self,name=\"\",\n",
    "                    ):\n",
    "        kb_llama_index = self.ProjectControl( name = name,\n",
    "                doc = \"数据分拣项目 前端项目\",\n",
    "                 version = 'v1',\n",
    "                 history_version = {'v1':'修复了bug 增加了API',},\n",
    "                 history_version_state = {'v1':'test'}, # test stable docker\n",
    "                 dependency_package = '', # 映射工具包\n",
    "                 customer = '现在无 原属于亚宏的项目',\n",
    "                 customer_name = 0,\n",
    "                 similar_project = [''],\n",
    "                 resource = '需要使用GPU',\n",
    "                 deployment_form = '常规部署流程',\n",
    "                 debug_log = None,\n",
    "                 state = 'stable', # test stable docker\n",
    "                 envrionment = 'test_sorting',\n",
    "                 notebook_dir = '无')\n",
    "        kb_llama_index.output(f'Projects/{name}.yaml')\n",
    "        return kb_llama_index\n",
    "    \n",
    "    def load(self,path):\n",
    "        kb_llama_index = self.ProjectControl.build_by_path(path)\n",
    "        return kb_llama_index\n",
    "        "
   ]
  },
  {
   "cell_type": "code",
   "execution_count": 36,
   "id": "f3b90fe5-57d2-4158-b40c-7ac067b43a2d",
   "metadata": {
    "tags": []
   },
   "outputs": [],
   "source": [
    "a = Project()"
   ]
  },
  {
   "cell_type": "code",
   "execution_count": 38,
   "id": "4559b140-13be-4bbd-b9be-28e085f05f83",
   "metadata": {
    "tags": []
   },
   "outputs": [
    {
     "name": "stdout",
     "output_type": "stream",
     "text": [
      "\u001b[34mProjectControl\u001b[m\u001b[m      kb_llama_index.yaml kb_rail.yaml\n",
      "electricity.yaml    kb_mobile.yaml      sortingSystem.yaml\n"
     ]
    }
   ],
   "source": [
    "!ls Projects"
   ]
  },
  {
   "cell_type": "code",
   "execution_count": 55,
   "id": "7492ff48-ee3b-4f9f-8f1f-de65e75322ae",
   "metadata": {
    "tags": []
   },
   "outputs": [],
   "source": [
    "k = a.load('Projects/kb_mobile.yaml')"
   ]
  },
  {
   "cell_type": "code",
   "execution_count": 56,
   "id": "93632596-0956-4df4-bcaf-195e956daf16",
   "metadata": {
    "tags": []
   },
   "outputs": [],
   "source": [
    "c = a.create(name='sortingSystem')"
   ]
  },
  {
   "cell_type": "code",
   "execution_count": 57,
   "id": "b658efae-a5c6-45fa-b535-c417d018cabc",
   "metadata": {
    "tags": []
   },
   "outputs": [
    {
     "data": {
      "text/plain": [
       "'sortingSystem'"
      ]
     },
     "execution_count": 57,
     "metadata": {},
     "output_type": "execute_result"
    }
   ],
   "source": [
    "c.name"
   ]
  },
  {
   "cell_type": "code",
   "execution_count": null,
   "id": "b13ebc5f-ced1-4cce-80dd-a0cbcbb9714c",
   "metadata": {},
   "outputs": [],
   "source": []
  },
  {
   "cell_type": "code",
   "execution_count": null,
   "id": "ba7deef3-3e59-41ae-be0d-641ee81920c3",
   "metadata": {},
   "outputs": [],
   "source": []
  },
  {
   "cell_type": "code",
   "execution_count": null,
   "id": "600fdbf4-1b62-4cd4-9499-22909c87e948",
   "metadata": {},
   "outputs": [],
   "source": []
  },
  {
   "cell_type": "code",
   "execution_count": null,
   "id": "420337ce-ffd5-45e1-844c-43587120f390",
   "metadata": {},
   "outputs": [],
   "source": []
  },
  {
   "cell_type": "code",
   "execution_count": 1,
   "id": "c5cf11c7-3afe-48f9-abe4-abace7f9180c",
   "metadata": {},
   "outputs": [],
   "source": [
    "import zxftools\n",
    "from zxftools import Params"
   ]
  },
  {
   "cell_type": "markdown",
   "id": "7b4d112d-1fa6-4bff-8cf3-d461db8f1ac8",
   "metadata": {
    "tags": []
   },
   "source": [
    "## 定义"
   ]
  },
  {
   "cell_type": "code",
   "execution_count": 3,
   "id": "0984829a-f541-4a29-9130-6624d4013866",
   "metadata": {},
   "outputs": [],
   "source": [
    "ProjectConcrol = Params('~/.zxf_file/cache/ProjectConcrol',{'name','doc','version',\n",
    "                                             'history_version','history_version_state',# test stable docker\n",
    "                                             'dependency_package', # 映射工具包\n",
    "                                             'customer','customer_name','similar_project',\n",
    "                                             'resource','deployment_form','debug_log','state',# test stable docker\n",
    "                                             'envrionment','notebook_dir'},)"
   ]
  },
  {
   "cell_type": "markdown",
   "id": "d0cf131b-30b2-411a-b990-d944a0bd6d48",
   "metadata": {},
   "source": [
    "## 实例化"
   ]
  },
  {
   "cell_type": "markdown",
   "id": "80e4693c-f3ae-4908-8718-3793df751806",
   "metadata": {},
   "source": [
    "### 第一次实例化 "
   ]
  },
  {
   "cell_type": "code",
   "execution_count": 3,
   "id": "129fb950-b527-4a07-a35a-f2442eac26e5",
   "metadata": {},
   "outputs": [
    {
     "data": {
      "text/plain": [
       "'Thu Feb 29 14:43:59 2024'"
      ]
     },
     "execution_count": 3,
     "metadata": {},
     "output_type": "execute_result"
    }
   ],
   "source": [
    "kb_llama_index = ProjectConcrol( name = \"kb_llama_index\",\n",
    "                doc = \"使用llama-index 重构知识库体系 增强知识库的稳定性与拓展性\",\n",
    "                 version = 'v1',\n",
    "                 history_version = {'v0':'调研'},\n",
    "                 history_version_state = {'v0':'test'}, # test stable docker\n",
    "                 dependency_package = 'package-q_kb', # 映射工具包\n",
    "                 customer = None,\n",
    "                 customer_name = 0,\n",
    "                 similar_project = ['kb'],\n",
    "                 resource = None,\n",
    "                 deployment_form = '常规部署流程',\n",
    "                 debug_log = None,\n",
    "                 state = '', # test stable docker\n",
    "                 envrionment = 'conda_kb_llama_',\n",
    "                 notebook_dir = '/Users/zhaoxuefeng/Documents/Project/Work/llamaindex架构/llama_index.ipynb')\n",
    "kb_llama_index.createtime"
   ]
  },
  {
   "cell_type": "code",
   "execution_count": null,
   "id": "41e13ddf-c8de-490f-8f33-05c4ad7389e9",
   "metadata": {},
   "outputs": [],
   "source": [
    "这个params 不太好用,可以整合到管理者中"
   ]
  },
  {
   "cell_type": "code",
   "execution_count": null,
   "id": "b1fb443d-7e0f-4346-a51a-bec297ce23cc",
   "metadata": {},
   "outputs": [],
   "source": [
    "密码管理?"
   ]
  },
  {
   "cell_type": "markdown",
   "id": "c8672616-8c5e-46f8-939c-1ecbd6ca08ad",
   "metadata": {},
   "source": [
    "### 加载已经存在的参数进行实例化 "
   ]
  },
  {
   "cell_type": "code",
   "execution_count": 4,
   "id": "fcc77892-9f6d-4877-ac13-216755da1dfb",
   "metadata": {
    "tags": []
   },
   "outputs": [
    {
     "data": {
      "text/plain": [
       "'Thu Feb 29 14:44:01 2024'"
      ]
     },
     "execution_count": 4,
     "metadata": {},
     "output_type": "execute_result"
    }
   ],
   "source": [
    "kb_llama_index = ProjectConcrol.build_by_path('output.yaml')\n",
    "kb_llama_index.createtime"
   ]
  },
  {
   "cell_type": "markdown",
   "id": "b13b8d63-6235-4609-8121-8e879792feff",
   "metadata": {},
   "source": [
    "### 配置默认参数 使用灵活的方式\n",
    "##### 以上两种方法的补充 适用于有大量的默认值,同时需要灵活调整个别值的情况"
   ]
  },
  {
   "cell_type": "code",
   "execution_count": 5,
   "id": "3f371e37-8cc3-4c16-9d29-1f5d86984b7a",
   "metadata": {
    "tags": []
   },
   "outputs": [
    {
     "data": {
      "text/plain": [
       "'Thu Feb 29 14:44:30 2024'"
      ]
     },
     "execution_count": 5,
     "metadata": {},
     "output_type": "execute_result"
    }
   ],
   "source": [
    "ProjectConcrol.set_default('output.yaml')\n",
    "kb_llama_index = ProjectConcrol(customer='武商梦时代')\n",
    "kb_llama_index.createtime"
   ]
  },
  {
   "cell_type": "markdown",
   "id": "aa620354-e62e-43c3-807d-771f83a3f396",
   "metadata": {},
   "source": [
    "### 使用环境变量进行全局参数配置"
   ]
  },
  {
   "cell_type": "code",
   "execution_count": 6,
   "id": "f6b69097-226b-48a8-8879-43b25a251b0b",
   "metadata": {
    "tags": []
   },
   "outputs": [],
   "source": [
    "pass"
   ]
  },
  {
   "cell_type": "markdown",
   "id": "9f459a30-8cde-49de-8dd3-0a81f4767509",
   "metadata": {
    "tags": []
   },
   "source": [
    "## 使用"
   ]
  },
  {
   "cell_type": "markdown",
   "id": "4173d2c8-9138-4073-896a-61afed3db9ee",
   "metadata": {
    "tags": []
   },
   "source": [
    "### 点语法直接使用\n",
    "##### 无法通过赋值改变属性值"
   ]
  },
  {
   "cell_type": "code",
   "execution_count": 8,
   "id": "952fdafa-2c67-4a24-8e41-6a67339a43f9",
   "metadata": {
    "tags": []
   },
   "outputs": [
    {
     "data": {
      "text/plain": [
       "'123'"
      ]
     },
     "execution_count": 8,
     "metadata": {},
     "output_type": "execute_result"
    }
   ],
   "source": [
    "kb_llama_index.name"
   ]
  },
  {
   "cell_type": "code",
   "execution_count": 9,
   "id": "1b36f3ce-2ebf-40c3-aa17-ee1500664278",
   "metadata": {
    "tags": []
   },
   "outputs": [
    {
     "ename": "AttributeError",
     "evalue": "can't set attribute",
     "output_type": "error",
     "traceback": [
      "\u001b[0;31m---------------------------------------------------------------------------\u001b[0m",
      "\u001b[0;31mAttributeError\u001b[0m                            Traceback (most recent call last)",
      "Cell \u001b[0;32mIn[9], line 1\u001b[0m\n\u001b[0;32m----> 1\u001b[0m \u001b[43mkb_llama_index\u001b[49m\u001b[38;5;241;43m.\u001b[39;49m\u001b[43mname\u001b[49m \u001b[38;5;241m=\u001b[39m \u001b[38;5;124m'\u001b[39m\u001b[38;5;124m324\u001b[39m\u001b[38;5;124m'\u001b[39m\n",
      "\u001b[0;31mAttributeError\u001b[0m: can't set attribute"
     ]
    }
   ],
   "source": [
    "kb_llama_index.name = '324'"
   ]
  },
  {
   "cell_type": "markdown",
   "id": "4d0cb5ae-9c34-4631-a0a2-a4bb6bade980",
   "metadata": {
    "tags": []
   },
   "source": [
    "### 对单套配置模式 进行备注和打分"
   ]
  },
  {
   "cell_type": "code",
   "execution_count": 10,
   "id": "c0333fe7-ee52-48b9-a216-183ee9a990c9",
   "metadata": {
    "tags": []
   },
   "outputs": [],
   "source": [
    "kb_llama_index.mark(score=0.5,remark='测试') #有打分 才有记录"
   ]
  },
  {
   "cell_type": "code",
   "execution_count": 11,
   "id": "f262ae99-6263-4123-b921-606ca13ddf1b",
   "metadata": {
    "tags": []
   },
   "outputs": [
    {
     "data": {
      "text/plain": [
       "0.5"
      ]
     },
     "execution_count": 11,
     "metadata": {},
     "output_type": "execute_result"
    }
   ],
   "source": [
    "kb_llama_index.score"
   ]
  },
  {
   "cell_type": "code",
   "execution_count": 12,
   "id": "83990b31-4ad0-455f-963e-335e0f9faeb7",
   "metadata": {
    "tags": []
   },
   "outputs": [
    {
     "data": {
      "text/plain": [
       "'测试'"
      ]
     },
     "execution_count": 12,
     "metadata": {},
     "output_type": "execute_result"
    }
   ],
   "source": [
    "kb_llama_index.remark"
   ]
  },
  {
   "cell_type": "markdown",
   "id": "7e678754-55e8-43ed-9e88-4dadd4153d81",
   "metadata": {},
   "source": [
    "### 输出配置到yaml文件"
   ]
  },
  {
   "cell_type": "code",
   "execution_count": 13,
   "id": "83a67538-876e-4ae6-b16d-bb357179e87c",
   "metadata": {
    "tags": []
   },
   "outputs": [],
   "source": [
    "kb_llama_index.output('output.yaml')"
   ]
  },
  {
   "cell_type": "markdown",
   "id": "dbefa9c0-1076-4b7a-b523-23559bde8beb",
   "metadata": {},
   "source": [
    "## 二维管理 "
   ]
  },
  {
   "cell_type": "code",
   "execution_count": 17,
   "id": "c2ee5634-7ea4-432c-a456-d3e56f766814",
   "metadata": {
    "tags": []
   },
   "outputs": [
    {
     "data": {
      "text/plain": [
       "[]"
      ]
     },
     "execution_count": 17,
     "metadata": {},
     "output_type": "execute_result"
    }
   ],
   "source": [
    "ProjectConcrol.kwargs_list"
   ]
  },
  {
   "cell_type": "markdown",
   "id": "8a121e4b-71b6-410b-88c3-b211731714e6",
   "metadata": {},
   "source": [
    "### 保存操作记录并清除"
   ]
  },
  {
   "cell_type": "code",
   "execution_count": 6,
   "id": "73a140bc-cda6-48e0-ae1c-c00d65921ff3",
   "metadata": {},
   "outputs": [],
   "source": [
    "ProjectConcrol.save()"
   ]
  },
  {
   "cell_type": "markdown",
   "id": "1820fe2c-ffc8-48c4-bfa8-cf1c72465164",
   "metadata": {},
   "source": [
    "### 不保存 直接清除"
   ]
  },
  {
   "cell_type": "code",
   "execution_count": 18,
   "id": "a763a062-3d5d-4db5-abac-22d229ef8757",
   "metadata": {
    "tags": []
   },
   "outputs": [],
   "source": [
    "ProjectConcrol.clean()"
   ]
  },
  {
   "cell_type": "markdown",
   "id": "0c7b506f-7bd8-49cf-9268-d22930a9d819",
   "metadata": {},
   "source": [
    "### 查看历史记录"
   ]
  },
  {
   "cell_type": "code",
   "execution_count": 9,
   "id": "f81798f0-39f9-46bc-953a-4c1f0bac82b0",
   "metadata": {
    "tags": []
   },
   "outputs": [
    {
     "data": {
      "text/plain": [
       "['Thu Feb 29 2024']"
      ]
     },
     "execution_count": 9,
     "metadata": {},
     "output_type": "execute_result"
    }
   ],
   "source": [
    "ProjectConcrol.get_dates()"
   ]
  },
  {
   "cell_type": "code",
   "execution_count": 10,
   "id": "169d339b-955b-4a51-929d-d549a9da25e3",
   "metadata": {
    "tags": []
   },
   "outputs": [
    {
     "data": {
      "text/html": [
       "<div>\n",
       "<style scoped>\n",
       "    .dataframe tbody tr th:only-of-type {\n",
       "        vertical-align: middle;\n",
       "    }\n",
       "\n",
       "    .dataframe tbody tr th {\n",
       "        vertical-align: top;\n",
       "    }\n",
       "\n",
       "    .dataframe thead th {\n",
       "        text-align: right;\n",
       "    }\n",
       "</style>\n",
       "<table border=\"1\" class=\"dataframe\">\n",
       "  <thead>\n",
       "    <tr style=\"text-align: right;\">\n",
       "      <th></th>\n",
       "      <th>state</th>\n",
       "      <th>history_version_state</th>\n",
       "      <th>customer_name</th>\n",
       "      <th>name</th>\n",
       "      <th>deployment_form</th>\n",
       "      <th>notebook_dir</th>\n",
       "      <th>customer</th>\n",
       "      <th>dependency_package</th>\n",
       "      <th>envrionment</th>\n",
       "      <th>resource</th>\n",
       "      <th>debug_log</th>\n",
       "      <th>doc</th>\n",
       "      <th>similar_project</th>\n",
       "      <th>version</th>\n",
       "      <th>history_version</th>\n",
       "      <th>score</th>\n",
       "      <th>remark</th>\n",
       "      <th>time</th>\n",
       "    </tr>\n",
       "  </thead>\n",
       "  <tbody>\n",
       "    <tr>\n",
       "      <th>0</th>\n",
       "      <td></td>\n",
       "      <td>{'v0': 'test'}</td>\n",
       "      <td>0</td>\n",
       "      <td>kb_llama_index</td>\n",
       "      <td>常规部署流程</td>\n",
       "      <td>/Users/zhaoxuefeng/Documents/Project/Work/llam...</td>\n",
       "      <td>None</td>\n",
       "      <td>package-q_kb</td>\n",
       "      <td>conda_kb_llama_</td>\n",
       "      <td>None</td>\n",
       "      <td>None</td>\n",
       "      <td>使用llama-index 重构知识库体系 增强知识库的稳定性与拓展性</td>\n",
       "      <td>[kb]</td>\n",
       "      <td>v1</td>\n",
       "      <td>{'v0': '调研'}</td>\n",
       "      <td>NaN</td>\n",
       "      <td>None</td>\n",
       "      <td>Thu Feb 29 14:38:37 2024</td>\n",
       "    </tr>\n",
       "    <tr>\n",
       "      <th>1</th>\n",
       "      <td></td>\n",
       "      <td>{'v0': 'test'}</td>\n",
       "      <td>0</td>\n",
       "      <td>123</td>\n",
       "      <td>常规部署流程</td>\n",
       "      <td>/Users/zhaoxuefeng/Documents/Project/Work/llam...</td>\n",
       "      <td>None</td>\n",
       "      <td>package-q_kb</td>\n",
       "      <td>conda_kb_llama_</td>\n",
       "      <td>None</td>\n",
       "      <td>None</td>\n",
       "      <td>使用llama-index 重构知识库体系 增强知识库的稳定性与拓展性</td>\n",
       "      <td>[kb]</td>\n",
       "      <td>v1</td>\n",
       "      <td>{'v0': '调研'}</td>\n",
       "      <td>NaN</td>\n",
       "      <td>None</td>\n",
       "      <td>Thu Feb 29 14:38:47 2024</td>\n",
       "    </tr>\n",
       "    <tr>\n",
       "      <th>2</th>\n",
       "      <td></td>\n",
       "      <td>{'v0': 'test'}</td>\n",
       "      <td>0</td>\n",
       "      <td>123</td>\n",
       "      <td>常规部署流程</td>\n",
       "      <td>/Users/zhaoxuefeng/Documents/Project/Work/llam...</td>\n",
       "      <td>武商梦时代</td>\n",
       "      <td>package-q_kb</td>\n",
       "      <td>conda_kb_llama_</td>\n",
       "      <td>None</td>\n",
       "      <td>None</td>\n",
       "      <td>使用llama-index 重构知识库体系 增强知识库的稳定性与拓展性</td>\n",
       "      <td>[kb]</td>\n",
       "      <td>v1</td>\n",
       "      <td>{'v0': '调研'}</td>\n",
       "      <td>0.5</td>\n",
       "      <td>测试</td>\n",
       "      <td>Thu Feb 29 14:39:32 2024</td>\n",
       "    </tr>\n",
       "    <tr>\n",
       "      <th>3</th>\n",
       "      <td></td>\n",
       "      <td>{'v0': 'test'}</td>\n",
       "      <td>0</td>\n",
       "      <td>kb_llama_index</td>\n",
       "      <td>常规部署流程</td>\n",
       "      <td>/Users/zhaoxuefeng/Documents/Project/Work/llam...</td>\n",
       "      <td>None</td>\n",
       "      <td>package-q_kb</td>\n",
       "      <td>conda_kb_llama_</td>\n",
       "      <td>None</td>\n",
       "      <td>None</td>\n",
       "      <td>使用llama-index 重构知识库体系 增强知识库的稳定性与拓展性</td>\n",
       "      <td>[kb]</td>\n",
       "      <td>v1</td>\n",
       "      <td>{'v0': '调研'}</td>\n",
       "      <td>NaN</td>\n",
       "      <td>None</td>\n",
       "      <td>Thu Feb 29 14:43:59 2024</td>\n",
       "    </tr>\n",
       "    <tr>\n",
       "      <th>4</th>\n",
       "      <td></td>\n",
       "      <td>{'v0': 'test'}</td>\n",
       "      <td>0</td>\n",
       "      <td>123</td>\n",
       "      <td>常规部署流程</td>\n",
       "      <td>/Users/zhaoxuefeng/Documents/Project/Work/llam...</td>\n",
       "      <td>武商梦时代</td>\n",
       "      <td>package-q_kb</td>\n",
       "      <td>conda_kb_llama_</td>\n",
       "      <td>None</td>\n",
       "      <td>None</td>\n",
       "      <td>使用llama-index 重构知识库体系 增强知识库的稳定性与拓展性</td>\n",
       "      <td>[kb]</td>\n",
       "      <td>v1</td>\n",
       "      <td>{'v0': '调研'}</td>\n",
       "      <td>NaN</td>\n",
       "      <td>None</td>\n",
       "      <td>Thu Feb 29 14:44:01 2024</td>\n",
       "    </tr>\n",
       "    <tr>\n",
       "      <th>5</th>\n",
       "      <td></td>\n",
       "      <td>{'v0': 'test'}</td>\n",
       "      <td>0</td>\n",
       "      <td>123</td>\n",
       "      <td>常规部署流程</td>\n",
       "      <td>/Users/zhaoxuefeng/Documents/Project/Work/llam...</td>\n",
       "      <td>武商梦时代</td>\n",
       "      <td>package-q_kb</td>\n",
       "      <td>conda_kb_llama_</td>\n",
       "      <td>None</td>\n",
       "      <td>None</td>\n",
       "      <td>使用llama-index 重构知识库体系 增强知识库的稳定性与拓展性</td>\n",
       "      <td>[kb]</td>\n",
       "      <td>v1</td>\n",
       "      <td>{'v0': '调研'}</td>\n",
       "      <td>NaN</td>\n",
       "      <td>None</td>\n",
       "      <td>Thu Feb 29 14:44:30 2024</td>\n",
       "    </tr>\n",
       "  </tbody>\n",
       "</table>\n",
       "</div>"
      ],
      "text/plain": [
       "  state history_version_state  customer_name            name deployment_form  \\\n",
       "0              {'v0': 'test'}              0  kb_llama_index          常规部署流程   \n",
       "1              {'v0': 'test'}              0             123          常规部署流程   \n",
       "2              {'v0': 'test'}              0             123          常规部署流程   \n",
       "3              {'v0': 'test'}              0  kb_llama_index          常规部署流程   \n",
       "4              {'v0': 'test'}              0             123          常规部署流程   \n",
       "5              {'v0': 'test'}              0             123          常规部署流程   \n",
       "\n",
       "                                        notebook_dir customer  \\\n",
       "0  /Users/zhaoxuefeng/Documents/Project/Work/llam...     None   \n",
       "1  /Users/zhaoxuefeng/Documents/Project/Work/llam...     None   \n",
       "2  /Users/zhaoxuefeng/Documents/Project/Work/llam...    武商梦时代   \n",
       "3  /Users/zhaoxuefeng/Documents/Project/Work/llam...     None   \n",
       "4  /Users/zhaoxuefeng/Documents/Project/Work/llam...    武商梦时代   \n",
       "5  /Users/zhaoxuefeng/Documents/Project/Work/llam...    武商梦时代   \n",
       "\n",
       "  dependency_package      envrionment resource debug_log  \\\n",
       "0       package-q_kb  conda_kb_llama_     None      None   \n",
       "1       package-q_kb  conda_kb_llama_     None      None   \n",
       "2       package-q_kb  conda_kb_llama_     None      None   \n",
       "3       package-q_kb  conda_kb_llama_     None      None   \n",
       "4       package-q_kb  conda_kb_llama_     None      None   \n",
       "5       package-q_kb  conda_kb_llama_     None      None   \n",
       "\n",
       "                                   doc similar_project version  \\\n",
       "0  使用llama-index 重构知识库体系 增强知识库的稳定性与拓展性            [kb]      v1   \n",
       "1  使用llama-index 重构知识库体系 增强知识库的稳定性与拓展性            [kb]      v1   \n",
       "2  使用llama-index 重构知识库体系 增强知识库的稳定性与拓展性            [kb]      v1   \n",
       "3  使用llama-index 重构知识库体系 增强知识库的稳定性与拓展性            [kb]      v1   \n",
       "4  使用llama-index 重构知识库体系 增强知识库的稳定性与拓展性            [kb]      v1   \n",
       "5  使用llama-index 重构知识库体系 增强知识库的稳定性与拓展性            [kb]      v1   \n",
       "\n",
       "  history_version  score remark                      time  \n",
       "0    {'v0': '调研'}    NaN   None  Thu Feb 29 14:38:37 2024  \n",
       "1    {'v0': '调研'}    NaN   None  Thu Feb 29 14:38:47 2024  \n",
       "2    {'v0': '调研'}    0.5     测试  Thu Feb 29 14:39:32 2024  \n",
       "3    {'v0': '调研'}    NaN   None  Thu Feb 29 14:43:59 2024  \n",
       "4    {'v0': '调研'}    NaN   None  Thu Feb 29 14:44:01 2024  \n",
       "5    {'v0': '调研'}    NaN   None  Thu Feb 29 14:44:30 2024  "
      ]
     },
     "execution_count": 10,
     "metadata": {},
     "output_type": "execute_result"
    }
   ],
   "source": [
    "ProjectConcrol.show()"
   ]
  },
  {
   "cell_type": "markdown",
   "id": "050a64b1-e0cb-4100-b660-7822af707c7d",
   "metadata": {},
   "source": [
    "# project 的管理"
   ]
  },
  {
   "cell_type": "code",
   "execution_count": null,
   "id": "1fd26594-8aab-4126-b062-dd8ac87e023a",
   "metadata": {},
   "outputs": [],
   "source": []
  },
  {
   "cell_type": "code",
   "execution_count": null,
   "id": "99b287f5-ac55-4d3c-9a70-81afc0426a15",
   "metadata": {},
   "outputs": [],
   "source": []
  },
  {
   "cell_type": "markdown",
   "id": "b3bdd11b-194a-4d97-b8bd-43579d074774",
   "metadata": {
    "tags": []
   },
   "source": [
    "# 接入生活应用"
   ]
  },
  {
   "cell_type": "markdown",
   "id": "027f9a14-6244-4b5f-a70e-32b00f8d629e",
   "metadata": {
    "tags": []
   },
   "source": [
    "## 接入手机"
   ]
  },
  {
   "cell_type": "markdown",
   "id": "b9aed9cc-1a00-40c6-a919-0e36b67f4daf",
   "metadata": {
    "tags": []
   },
   "source": [
    "### 接入钉钉"
   ]
  },
  {
   "cell_type": "code",
   "execution_count": 1,
   "id": "b38b5c17-9e15-4082-9da2-1a62d248f3e6",
   "metadata": {
    "tags": []
   },
   "outputs": [],
   "source": [
    "from zxftools_dev.switch_in import DDMessage"
   ]
  },
  {
   "cell_type": "code",
   "execution_count": 3,
   "id": "4fa315e8-df1b-47dd-bc80-5f3accce3178",
   "metadata": {
    "tags": []
   },
   "outputs": [],
   "source": [
    "DDMessage().send('完成')"
   ]
  },
  {
   "cell_type": "markdown",
   "id": "6d8091b9-18f8-4e56-bc30-23e4bfb0d309",
   "metadata": {},
   "source": [
    "### 接入微信"
   ]
  },
  {
   "cell_type": "code",
   "execution_count": null,
   "id": "bd03940f-54dd-48fd-9bc8-4d3c487456be",
   "metadata": {},
   "outputs": [],
   "source": []
  },
  {
   "cell_type": "code",
   "execution_count": null,
   "id": "e5f743ea-593d-4744-8807-01426d40f1ac",
   "metadata": {},
   "outputs": [],
   "source": []
  },
  {
   "cell_type": "code",
   "execution_count": null,
   "id": "844f13b9-8458-4b10-9f5d-68a895bc61b5",
   "metadata": {},
   "outputs": [],
   "source": []
  },
  {
   "cell_type": "markdown",
   "id": "a33f32c8-69f9-4211-8dac-77349bd975f5",
   "metadata": {},
   "source": [
    "# 使用Optimize 进行函数优化"
   ]
  },
  {
   "cell_type": "markdown",
   "id": "1105985d-0f0b-48df-8eb4-11f03a32b841",
   "metadata": {
    "jp-MarkdownHeadingCollapsed": true,
    "tags": []
   },
   "source": [
    "## 定义"
   ]
  },
  {
   "cell_type": "code",
   "execution_count": 1,
   "id": "d39f9d07-a00f-4a24-b50b-f38ff5ef0c2f",
   "metadata": {
    "tags": []
   },
   "outputs": [],
   "source": [
    "from zxftools_dev.optimize import Optimize"
   ]
  },
  {
   "cell_type": "code",
   "execution_count": 2,
   "id": "6a236cca-5256-4448-a584-7752816b7d68",
   "metadata": {
    "tags": []
   },
   "outputs": [],
   "source": [
    "opt = Optimize()"
   ]
  },
  {
   "cell_type": "markdown",
   "id": "ea23d06b-5040-4958-8765-55ead1707bf7",
   "metadata": {
    "jp-MarkdownHeadingCollapsed": true,
    "tags": []
   },
   "source": [
    "## 转码"
   ]
  },
  {
   "cell_type": "markdown",
   "id": "f7655ded-2fb1-4779-8a86-8b1852d00ce8",
   "metadata": {
    "jp-MarkdownHeadingCollapsed": true,
    "tags": []
   },
   "source": [
    "### 转化为字节码"
   ]
  },
  {
   "cell_type": "code",
   "execution_count": 8,
   "id": "9b4392cd-c513-4844-9f5d-57161a036d0d",
   "metadata": {
    "tags": []
   },
   "outputs": [
    {
     "name": "stdout",
     "output_type": "stream",
     "text": [
      "  2           0 LOAD_FAST                0 (a)\n",
      "              2 LOAD_CONST               1 (1)\n",
      "              4 INPLACE_ADD\n",
      "              6 STORE_FAST               0 (a)\n",
      "\n",
      "  3           8 LOAD_FAST                0 (a)\n",
      "             10 RETURN_VALUE\n"
     ]
    }
   ],
   "source": [
    "opt.trans_bytecode(test)"
   ]
  },
  {
   "cell_type": "markdown",
   "id": "78bcbef8-b5e0-4318-8cce-be16ccd68ec9",
   "metadata": {
    "jp-MarkdownHeadingCollapsed": true,
    "tags": []
   },
   "source": [
    "### C++ to python"
   ]
  },
  {
   "cell_type": "code",
   "execution_count": 3,
   "id": "4e30f927-97b0-47d9-a38b-88873ad12faf",
   "metadata": {
    "tags": []
   },
   "outputs": [],
   "source": [
    "cpp_func = \"\"\"\n",
    "int add(int n,int m){\n",
    "return n + m;\n",
    "}\n",
    "\"\"\""
   ]
  },
  {
   "cell_type": "code",
   "execution_count": 6,
   "id": "167f9ffa-4b9e-41b3-80df-90ccd7399964",
   "metadata": {
    "tags": []
   },
   "outputs": [],
   "source": [
    "opt.cpp2py(cpp_func=cpp_func, output_file='pylib.so')"
   ]
  },
  {
   "cell_type": "code",
   "execution_count": 9,
   "id": "a1c6a848-f036-4d15-84c0-eb0569f11d04",
   "metadata": {
    "tags": []
   },
   "outputs": [
    {
     "data": {
      "text/plain": [
       "5"
      ]
     },
     "execution_count": 9,
     "metadata": {},
     "output_type": "execute_result"
    }
   ],
   "source": [
    "lib = opt.load_cpp()\n",
    "lib.add(1,4)"
   ]
  },
  {
   "cell_type": "markdown",
   "id": "3f0c18c9-11e9-419c-aa1b-80978137d15b",
   "metadata": {
    "tags": []
   },
   "source": [
    "### python to C++"
   ]
  },
  {
   "cell_type": "code",
   "execution_count": null,
   "id": "b15f0b9e-86b8-4997-8078-b330d1d247b5",
   "metadata": {},
   "outputs": [],
   "source": [
    "def test(a):\n",
    "    a +=1\n",
    "    return a\n",
    "\n",
    "py2cpp()"
   ]
  },
  {
   "cell_type": "code",
   "execution_count": null,
   "id": "48a73f29-8d7b-44fa-a59d-74e0ec3621e4",
   "metadata": {},
   "outputs": [],
   "source": []
  },
  {
   "cell_type": "code",
   "execution_count": null,
   "id": "30bb0a40-e071-4b5c-beb6-9f4f85738853",
   "metadata": {},
   "outputs": [],
   "source": []
  },
  {
   "cell_type": "markdown",
   "id": "a992db1f-9d4f-41f8-afe2-409c4a322b28",
   "metadata": {
    "jp-MarkdownHeadingCollapsed": true,
    "tags": []
   },
   "source": [
    "## 性能分析"
   ]
  },
  {
   "cell_type": "markdown",
   "id": "d1398613-e468-43a0-a274-22ef44b66e22",
   "metadata": {
    "jp-MarkdownHeadingCollapsed": true,
    "tags": []
   },
   "source": [
    "### 时间性能分析"
   ]
  },
  {
   "cell_type": "code",
   "execution_count": 20,
   "id": "07b310af-aab5-407e-b38b-6bcd5a78ae40",
   "metadata": {
    "tags": []
   },
   "outputs": [],
   "source": [
    "def test(a):\n",
    "    a +=1\n",
    "    return a"
   ]
  },
  {
   "cell_type": "code",
   "execution_count": 21,
   "id": "f1721383-a5dd-4b81-99af-f6910448a71f",
   "metadata": {
    "tags": []
   },
   "outputs": [
    {
     "name": "stdout",
     "output_type": "stream",
     "text": [
      "         3 function calls in 0.000 seconds\n",
      "\n",
      "   Ordered by: standard name\n",
      "\n",
      "   ncalls  tottime  percall  cumtime  percall filename:lineno(function)\n",
      "        1    0.000    0.000    0.000    0.000 <string>:1(<module>)\n",
      "        1    0.000    0.000    0.000    0.000 {built-in method builtins.exec}\n",
      "        1    0.000    0.000    0.000    0.000 {method 'disable' of '_lsprof.Profiler' objects}\n",
      "\n",
      "\n"
     ]
    }
   ],
   "source": [
    "opt.time_analyse.analyse('test')"
   ]
  },
  {
   "cell_type": "markdown",
   "id": "9d187ba2-b142-4578-b38a-58284391f1c0",
   "metadata": {
    "jp-MarkdownHeadingCollapsed": true,
    "tags": []
   },
   "source": [
    "#### 极端单个函数的时间消耗"
   ]
  },
  {
   "cell_type": "code",
   "execution_count": 22,
   "id": "845283fe-28ae-4f49-8ebf-534995f3576f",
   "metadata": {
    "tags": []
   },
   "outputs": [],
   "source": [
    "@opt.time_analyse.timecost()# 可以结合logger使用\n",
    "def test2(x):\n",
    "    return x +1"
   ]
  },
  {
   "cell_type": "code",
   "execution_count": 23,
   "id": "c0daa172-f273-475a-ba0b-038a143bc165",
   "metadata": {
    "tags": []
   },
   "outputs": [
    {
     "name": "stdout",
     "output_type": "stream",
     "text": [
      "test2 time :9.5367431640625e-07\n"
     ]
    },
    {
     "data": {
      "text/plain": [
       "13"
      ]
     },
     "execution_count": 23,
     "metadata": {},
     "output_type": "execute_result"
    }
   ],
   "source": [
    "test2(12)"
   ]
  },
  {
   "cell_type": "markdown",
   "id": "41dcc7b8-3807-4375-9f6d-ec21f2c4803c",
   "metadata": {
    "jp-MarkdownHeadingCollapsed": true,
    "tags": []
   },
   "source": [
    "#### 设置函数的timeout"
   ]
  },
  {
   "cell_type": "code",
   "execution_count": 3,
   "id": "fcaef752-11be-4232-9fc1-fb9f40e1a831",
   "metadata": {
    "tags": []
   },
   "outputs": [],
   "source": [
    "import time\n",
    "@opt.time_analyse.external_timeout(3)\n",
    "def test2(x):\n",
    "    time.sleep(5)\n",
    "    return x +1"
   ]
  },
  {
   "cell_type": "code",
   "execution_count": 4,
   "id": "5f03362e-f530-4a6f-9f7e-79568e98aa7b",
   "metadata": {
    "collapsed": true,
    "jupyter": {
     "outputs_hidden": true
    },
    "tags": []
   },
   "outputs": [
    {
     "ename": "FunctionTimedOut",
     "evalue": "Function test2 (args=(12,)) (kwargs={}) timed out after 3.000000 seconds.\n",
     "output_type": "error",
     "traceback": [
      "\u001b[0;31m---------------------------------------------------------------------------\u001b[0m",
      "\u001b[0;31mFunctionTimedOut\u001b[0m                          Traceback (most recent call last)",
      "Cell \u001b[0;32mIn[4], line 1\u001b[0m\n\u001b[0;32m----> 1\u001b[0m \u001b[43mtest2\u001b[49m\u001b[43m(\u001b[49m\u001b[38;5;241;43m12\u001b[39;49m\u001b[43m)\u001b[49m\n",
      "File \u001b[0;32m~/opt/miniconda3/envs/py310_new/lib/python3.10/site-packages/func_timeout/dafunc.py:185\u001b[0m, in \u001b[0;36mfunc_set_timeout.<locals>._function_decorator.<locals>.<lambda>\u001b[0;34m(*args, **kwargs)\u001b[0m\n\u001b[1;32m    183\u001b[0m \u001b[38;5;28;01mdef\u001b[39;00m \u001b[38;5;21m_function_decorator\u001b[39m(func):\n\u001b[0;32m--> 185\u001b[0m     \u001b[38;5;28;01mreturn\u001b[39;00m wraps(func)(\u001b[38;5;28;01mlambda\u001b[39;00m \u001b[38;5;241m*\u001b[39margs, \u001b[38;5;241m*\u001b[39m\u001b[38;5;241m*\u001b[39mkwargs : \u001b[43mfunc_timeout\u001b[49m\u001b[43m(\u001b[49m\u001b[43mdefaultTimeout\u001b[49m\u001b[43m,\u001b[49m\u001b[43m \u001b[49m\u001b[43mfunc\u001b[49m\u001b[43m,\u001b[49m\u001b[43m \u001b[49m\u001b[43margs\u001b[49m\u001b[38;5;241;43m=\u001b[39;49m\u001b[43margs\u001b[49m\u001b[43m,\u001b[49m\u001b[43m \u001b[49m\u001b[43mkwargs\u001b[49m\u001b[38;5;241;43m=\u001b[39;49m\u001b[43mkwargs\u001b[49m\u001b[43m)\u001b[49m)\n",
      "File \u001b[0;32m~/opt/miniconda3/envs/py310_new/lib/python3.10/site-packages/func_timeout/dafunc.py:101\u001b[0m, in \u001b[0;36mfunc_timeout\u001b[0;34m(timeout, func, args, kwargs)\u001b[0m\n\u001b[1;32m     99\u001b[0m     thread\u001b[38;5;241m.\u001b[39m_stopThread(stopException)\n\u001b[1;32m    100\u001b[0m     thread\u001b[38;5;241m.\u001b[39mjoin(\u001b[38;5;28mmin\u001b[39m(\u001b[38;5;241m.1\u001b[39m, timeout \u001b[38;5;241m/\u001b[39m \u001b[38;5;241m50.0\u001b[39m))\n\u001b[0;32m--> 101\u001b[0m     \u001b[38;5;28;01mraise\u001b[39;00m FunctionTimedOut(\u001b[38;5;124m'\u001b[39m\u001b[38;5;124m'\u001b[39m, timeout, func, args, kwargs)\n\u001b[1;32m    102\u001b[0m \u001b[38;5;28;01melse\u001b[39;00m:\n\u001b[1;32m    103\u001b[0m     \u001b[38;5;66;03m# We can still cleanup the thread here..\u001b[39;00m\n\u001b[1;32m    104\u001b[0m     \u001b[38;5;66;03m# Still give a timeout... just... cuz..\u001b[39;00m\n\u001b[1;32m    105\u001b[0m     thread\u001b[38;5;241m.\u001b[39mjoin(\u001b[38;5;241m.5\u001b[39m)\n",
      "\u001b[0;31mFunctionTimedOut\u001b[0m: Function test2 (args=(12,)) (kwargs={}) timed out after 3.000000 seconds.\n"
     ]
    }
   ],
   "source": [
    "test2(12)"
   ]
  },
  {
   "cell_type": "markdown",
   "id": "9c076d51-a8ad-437a-98e0-ec6bf2363e98",
   "metadata": {
    "jp-MarkdownHeadingCollapsed": true,
    "tags": []
   },
   "source": [
    "### 空间性能分析"
   ]
  },
  {
   "cell_type": "code",
   "execution_count": 18,
   "id": "301f9748-009b-473f-9ebf-b336e3c55037",
   "metadata": {
    "tags": []
   },
   "outputs": [
    {
     "name": "stdout",
     "output_type": "stream",
     "text": [
      "Filename: temp_file.py\n",
      "\n",
      "Line #    Mem usage    Increment  Occurrences   Line Contents\n",
      "=============================================================\n",
      "     1     46.9 MiB     46.9 MiB           1   def test(a):\n",
      "     2     46.9 MiB      0.0 MiB           1       a +=1\n",
      "     3     46.9 MiB      0.0 MiB           1       return a\n",
      "\n",
      "\n",
      "\n"
     ]
    }
   ],
   "source": [
    "x = opt.memory_analyse(test,10) #函数 ,与其参数"
   ]
  },
  {
   "cell_type": "code",
   "execution_count": null,
   "id": "4e3d5c6f-460c-42d0-8f8a-fedaef25d834",
   "metadata": {},
   "outputs": [],
   "source": []
  },
  {
   "cell_type": "markdown",
   "id": "37668101-3aa0-409f-b4de-c1a2f4a88829",
   "metadata": {
    "jp-MarkdownHeadingCollapsed": true,
    "tags": []
   },
   "source": [
    "## 收集,使用,测试用例"
   ]
  },
  {
   "cell_type": "code",
   "execution_count": 1,
   "id": "76061928-2946-4312-ab77-10211623cffd",
   "metadata": {
    "tags": []
   },
   "outputs": [],
   "source": [
    "from zxftools_dev.optimize import Optimize"
   ]
  },
  {
   "cell_type": "code",
   "execution_count": 4,
   "id": "7139a3f3-d00c-47f9-85ab-188d17b628b8",
   "metadata": {
    "tags": []
   },
   "outputs": [],
   "source": [
    "# 正常使用 记录输入输出\n",
    "@Optimize.test_case(type='func')\n",
    "def test3(x):\n",
    "    return x+3"
   ]
  },
  {
   "cell_type": "code",
   "execution_count": 5,
   "id": "83c093b3-6330-478f-b1b1-33b7dd740868",
   "metadata": {
    "tags": []
   },
   "outputs": [
    {
     "data": {
      "text/plain": [
       "6"
      ]
     },
     "execution_count": 5,
     "metadata": {},
     "output_type": "execute_result"
    }
   ],
   "source": [
    "test3(3)"
   ]
  },
  {
   "cell_type": "code",
   "execution_count": 9,
   "id": "42153b25-d244-4ab8-9416-6d3828d272fd",
   "metadata": {
    "tags": []
   },
   "outputs": [],
   "source": [
    "# 优先使用cache 记录输入输出\n",
    "@Optimize.test_case(type='cache')\n",
    "def test3(x):\n",
    "    return x+12"
   ]
  },
  {
   "cell_type": "code",
   "execution_count": 10,
   "id": "c298e007-528f-4bd0-9f5f-14d677c6e386",
   "metadata": {
    "tags": []
   },
   "outputs": [
    {
     "data": {
      "text/plain": [
       "6"
      ]
     },
     "execution_count": 10,
     "metadata": {},
     "output_type": "execute_result"
    }
   ],
   "source": [
    "test3(3)"
   ]
  },
  {
   "cell_type": "code",
   "execution_count": 11,
   "id": "70248cf1-8d8a-48db-a57e-f47a70beacb3",
   "metadata": {
    "tags": []
   },
   "outputs": [],
   "source": [
    "# 正常使用 不记录\n",
    "@Optimize.test_case(type='close')\n",
    "def test3(x):\n",
    "    return x+3"
   ]
  },
  {
   "cell_type": "code",
   "execution_count": 12,
   "id": "dab6c3d4-8fae-4c04-b7f1-98ad8472c07e",
   "metadata": {
    "tags": []
   },
   "outputs": [
    {
     "data": {
      "text/plain": [
       "7"
      ]
     },
     "execution_count": 12,
     "metadata": {},
     "output_type": "execute_result"
    }
   ],
   "source": [
    "test3(4)"
   ]
  },
  {
   "cell_type": "code",
   "execution_count": 18,
   "id": "3d7add5b-fa69-4e3b-9c9b-70bfb34353fd",
   "metadata": {
    "tags": []
   },
   "outputs": [],
   "source": [
    "# 验证\n",
    "@Optimize.test_case(type='verify')\n",
    "def test3(x):\n",
    "    return x+7"
   ]
  },
  {
   "cell_type": "code",
   "execution_count": 20,
   "id": "80523b8c-c027-4a46-826e-ff2cb7841a64",
   "metadata": {
    "tags": []
   },
   "outputs": [
    {
     "name": "stdout",
     "output_type": "stream",
     "text": [
      "Expected result: 6\n",
      "Actual result: 10\n"
     ]
    },
    {
     "data": {
      "text/plain": [
       "'Verify Fair'"
      ]
     },
     "execution_count": 20,
     "metadata": {},
     "output_type": "execute_result"
    }
   ],
   "source": [
    "test3()"
   ]
  },
  {
   "cell_type": "code",
   "execution_count": 16,
   "id": "68d37af3-a80e-489a-8609-0bcbc978db12",
   "metadata": {
    "tags": []
   },
   "outputs": [],
   "source": [
    "# 输出cache 的存储数据\n",
    "@Optimize.test_case(type='output')\n",
    "def test3(x):\n",
    "    return x+3"
   ]
  },
  {
   "cell_type": "code",
   "execution_count": 17,
   "id": "fcb34700-71bb-4e71-9ae8-b4bca3220475",
   "metadata": {
    "tags": []
   },
   "outputs": [
    {
     "data": {
      "text/plain": [
       "{'keys': [[(4,), {}], [(3,), {}]], 'values': [11, 6]}"
      ]
     },
     "execution_count": 17,
     "metadata": {},
     "output_type": "execute_result"
    }
   ],
   "source": [
    "test3()"
   ]
  },
  {
   "cell_type": "code",
   "execution_count": 13,
   "id": "432d8f1e-2e58-49ec-b14d-54c313fc5150",
   "metadata": {
    "tags": []
   },
   "outputs": [],
   "source": [
    "# 输出为数据集\n",
    "@Optimize.test_case(type='output_dataset',dataset_path='output.json')\n",
    "def test3(x):\n",
    "    return x+3"
   ]
  },
  {
   "cell_type": "code",
   "execution_count": 15,
   "id": "bc0a2427-a2ac-49da-916c-48b7df857479",
   "metadata": {
    "tags": []
   },
   "outputs": [
    {
     "data": {
      "text/plain": [
       "[(4, 11), (3, 6)]"
      ]
     },
     "execution_count": 15,
     "metadata": {},
     "output_type": "execute_result"
    }
   ],
   "source": [
    "test3(4)"
   ]
  },
  {
   "cell_type": "code",
   "execution_count": null,
   "id": "e6ce4285-a4e0-4e4b-ab36-d9db103d877b",
   "metadata": {},
   "outputs": [],
   "source": []
  },
  {
   "cell_type": "markdown",
   "id": "bd6f10f8-7260-4815-b5ca-7c9db32b15b7",
   "metadata": {
    "jp-MarkdownHeadingCollapsed": true,
    "tags": []
   },
   "source": [
    "### 使用AB测试进行代码重构测试"
   ]
  },
  {
   "cell_type": "code",
   "execution_count": 32,
   "id": "49d2029f-2075-48f9-a733-5f68658377e9",
   "metadata": {
    "tags": []
   },
   "outputs": [],
   "source": [
    "from zxftools_dev.optimize import Optimize"
   ]
  },
  {
   "cell_type": "code",
   "execution_count": 33,
   "id": "21221835-dd62-4de9-bce9-75455194b8a9",
   "metadata": {
    "tags": []
   },
   "outputs": [],
   "source": [
    "def testx(x):\n",
    "    return x+3"
   ]
  },
  {
   "cell_type": "code",
   "execution_count": 34,
   "id": "41d19e6e-9c9e-4cfd-9978-0e944317a91a",
   "metadata": {
    "tags": []
   },
   "outputs": [],
   "source": [
    "@Optimize.test_case2parallel(testx)\n",
    "def testy(x):\n",
    "    return x + 4\n"
   ]
  },
  {
   "cell_type": "code",
   "execution_count": 35,
   "id": "d0bfc011-a931-445e-8cc4-0b2bb387b0d7",
   "metadata": {
    "tags": []
   },
   "outputs": [
    {
     "name": "stdout",
     "output_type": "stream",
     "text": [
      "Comparison failed: The results do not match.\n",
      "Expected result: 15\n",
      "Actual result: 16\n"
     ]
    }
   ],
   "source": [
    "testy(12)"
   ]
  },
  {
   "cell_type": "code",
   "execution_count": null,
   "id": "360ddbcc-5ecb-42a0-95fe-5c511625c2ab",
   "metadata": {},
   "outputs": [],
   "source": []
  },
  {
   "cell_type": "markdown",
   "id": "2f64adb2-6a02-4c9b-8c8c-d955b662d682",
   "metadata": {
    "tags": []
   },
   "source": [
    "## 多线程/异步 TODO"
   ]
  },
  {
   "cell_type": "markdown",
   "id": "577cec7c-142b-4683-90dc-19e5975bf3b1",
   "metadata": {
    "jp-MarkdownHeadingCollapsed": true,
    "tags": []
   },
   "source": [
    "### 开辟分支,防止主进程阻塞"
   ]
  },
  {
   "cell_type": "code",
   "execution_count": 1,
   "id": "319aa4c0-d609-424b-b2bd-9530ce95bee1",
   "metadata": {
    "tags": []
   },
   "outputs": [],
   "source": [
    "from zxftools_dev.optimize import Optimize"
   ]
  },
  {
   "cell_type": "code",
   "execution_count": 2,
   "id": "e7be724c-8b3f-4e27-9747-f922db49a9d2",
   "metadata": {
    "tags": []
   },
   "outputs": [
    {
     "name": "stdout",
     "output_type": "stream",
     "text": [
      "end\n"
     ]
    }
   ],
   "source": [
    "import time\n",
    "@Optimize.decorator\n",
    "def inner(x):\n",
    "    time.sleep(x)\n",
    "    print('end')\n",
    "\n",
    "inner(x=2)"
   ]
  },
  {
   "cell_type": "code",
   "execution_count": null,
   "id": "1e8aa88b-a4a0-46ed-bef3-293855038b53",
   "metadata": {},
   "outputs": [],
   "source": []
  },
  {
   "cell_type": "markdown",
   "id": "541c3efa-3122-4f73-acbf-e0f01a789efd",
   "metadata": {
    "jp-MarkdownHeadingCollapsed": true,
    "tags": []
   },
   "source": [
    "### 多线程的复制程序\n",
    "可以在不同随机数下运行以查看结果"
   ]
  },
  {
   "cell_type": "code",
   "execution_count": 29,
   "id": "7972faf5-8a08-4f78-9ff5-d44ec0d15cb7",
   "metadata": {
    "tags": []
   },
   "outputs": [],
   "source": [
    "@Optimize.thread_multi(4)\n",
    "def test4():\n",
    "    import random\n",
    "    print(random.randint(1,100))\n",
    "    print('hello\\n')"
   ]
  },
  {
   "cell_type": "code",
   "execution_count": 30,
   "id": "6e1b07f8-8f46-4832-93bf-671f4f2b2906",
   "metadata": {
    "collapsed": true,
    "jupyter": {
     "outputs_hidden": true
    },
    "tags": []
   },
   "outputs": [
    {
     "name": "stdout",
     "output_type": "stream",
     "text": [
      "77\n",
      "hello\n",
      "\n",
      "99\n",
      "hello\n",
      "\n",
      "20\n",
      "hello\n",
      "\n",
      "100\n",
      "hello\n",
      "\n"
     ]
    },
    {
     "data": {
      "text/plain": [
       "[None, None, None, None]"
      ]
     },
     "execution_count": 30,
     "metadata": {},
     "output_type": "execute_result"
    }
   ],
   "source": [
    "test4()"
   ]
  },
  {
   "cell_type": "markdown",
   "id": "c69f5791-ddaa-4cf2-bff3-fd4ba90bab84",
   "metadata": {
    "jp-MarkdownHeadingCollapsed": true,
    "tags": []
   },
   "source": [
    "### 使用多线程处理大数据量的方案, 必须使用py文件"
   ]
  },
  {
   "cell_type": "code",
   "execution_count": 32,
   "id": "bff1bd0f-a304-4971-a346-ed4e6520b42b",
   "metadata": {
    "tags": []
   },
   "outputs": [
    {
     "name": "stdout",
     "output_type": "stream",
     "text": [
      "Overwriting pp.py\n"
     ]
    }
   ],
   "source": [
    "%%writefile pp.py\n",
    "# 要在if __name__ == '__main__': 中使用\n",
    "from zxftools.optimize import Optimize\n",
    "import time\n",
    "def test5(x):\n",
    "    import random\n",
    "    time.sleep(2)\n",
    "    return random.randint(1, 100) + x\n",
    "\n",
    "def gen_data():\n",
    "    yield 1\n",
    "    yield 7\n",
    "    yield 3\n",
    "    yield 4\n",
    "    yield 5\n",
    "    \n",
    "if __name__ == '__main__':\n",
    "    print(time.ctime())\n",
    "    results = Optimize.thread_list(test5,[1,2,3,4,])\n",
    "    \n",
    "    for result in results:\n",
    "        print(result)\n",
    "    print(time.ctime())\n",
    "    \n",
    "    results = Optimize.thread_list(test5,gen_data(),processes=2, chunksize= 1)\n",
    "    \n",
    "    for result in results:\n",
    "        print(result)\n",
    "    print(time.ctime())\n",
    "    "
   ]
  },
  {
   "cell_type": "code",
   "execution_count": 33,
   "id": "b078cda8-2f83-43b3-babc-8904ed78030f",
   "metadata": {
    "collapsed": true,
    "jupyter": {
     "outputs_hidden": true
    },
    "tags": []
   },
   "outputs": [
    {
     "name": "stdout",
     "output_type": "stream",
     "text": [
      "Fri Apr  5 09:25:31 2024\n",
      "28\n",
      "102\n",
      "29\n",
      "104\n",
      "Fri Apr  5 09:25:34 2024\n",
      "67\n",
      "51\n",
      "85\n",
      "8\n",
      "61\n"
     ]
    }
   ],
   "source": [
    "!python pp.py"
   ]
  },
  {
   "cell_type": "code",
   "execution_count": null,
   "id": "7d5eafb8-32b8-41d7-a522-88ee92f34d8e",
   "metadata": {},
   "outputs": [],
   "source": []
  },
  {
   "cell_type": "markdown",
   "id": "40f1071f-4800-4d12-ba8c-037ac2f5054c",
   "metadata": {
    "jp-MarkdownHeadingCollapsed": true,
    "tags": []
   },
   "source": [
    "### thread_multis 不同函数的不同运行请求 一般使用在多个服务同时启动的情况"
   ]
  },
  {
   "cell_type": "code",
   "execution_count": null,
   "id": "b0f8e8c1-aff3-4c6a-b188-c8be4988c7b7",
   "metadata": {},
   "outputs": [],
   "source": [
    "#TODO"
   ]
  },
  {
   "cell_type": "code",
   "execution_count": 34,
   "id": "4d7a4e44-7020-4352-a0e5-ff4bdeea196e",
   "metadata": {
    "tags": []
   },
   "outputs": [],
   "source": [
    "from zxftools_dev.optimize import Optimize"
   ]
  },
  {
   "cell_type": "code",
   "execution_count": 36,
   "id": "a6013e12-36c3-4cf8-b8b5-7f9f9b6b1450",
   "metadata": {
    "tags": []
   },
   "outputs": [],
   "source": [
    "def test5(x):\n",
    "    return x + 1"
   ]
  },
  {
   "cell_type": "code",
   "execution_count": 37,
   "id": "db435173-04a1-4d87-bac7-dfb5fcbda32f",
   "metadata": {
    "collapsed": true,
    "jupyter": {
     "outputs_hidden": true
    },
    "tags": []
   },
   "outputs": [
    {
     "name": "stderr",
     "output_type": "stream",
     "text": [
      "Exception in thread Exception in thread Thread-15 (test5):\n",
      "Traceback (most recent call last):\n",
      "  File \"/Users/zhaoxuefeng/opt/miniconda3/envs/py310_new/lib/python3.10/threading.py\", line 1016, in _bootstrap_inner\n",
      "Thread-14 (test5):\n",
      "Traceback (most recent call last):\n",
      "  File \"/Users/zhaoxuefeng/opt/miniconda3/envs/py310_new/lib/python3.10/threading.py\", line 1016, in _bootstrap_inner\n",
      "    self.run()\n",
      "  File \"/Users/zhaoxuefeng/opt/miniconda3/envs/py310_new/lib/python3.10/site-packages/ipykernel/ipkernel.py\", line 766, in run_closure\n",
      "    self.run()\n",
      "  File \"/Users/zhaoxuefeng/opt/miniconda3/envs/py310_new/lib/python3.10/site-packages/ipykernel/ipkernel.py\", line 766, in run_closure\n",
      "    _threading_Thread_run(self)\n",
      "  File \"/Users/zhaoxuefeng/opt/miniconda3/envs/py310_new/lib/python3.10/threading.py\", line 953, in run\n",
      "    _threading_Thread_run(self)\n",
      "  File \"/Users/zhaoxuefeng/opt/miniconda3/envs/py310_new/lib/python3.10/threading.py\", line 953, in run\n",
      "    self._target(*self._args, **self._kwargs)\n",
      "TypeError: __main__.test5() argument after * must be an iterable, not int\n",
      "    self._target(*self._args, **self._kwargs)\n",
      "TypeError: __main__.test5() argument after * must be an iterable, not int\n"
     ]
    }
   ],
   "source": [
    "Optimize.thread_multis([test5,test5],args_list=[5,6],kwargs_list=[{},{}])"
   ]
  },
  {
   "cell_type": "code",
   "execution_count": null,
   "id": "7a914a6b-3280-42f4-9dd9-c9412bb1677f",
   "metadata": {},
   "outputs": [],
   "source": []
  },
  {
   "cell_type": "code",
   "execution_count": null,
   "id": "707a7cb5-549c-4abf-8b04-fd8eeda1b63c",
   "metadata": {},
   "outputs": [],
   "source": []
  },
  {
   "cell_type": "markdown",
   "id": "10d0426d-5ace-40e2-941f-faf9992347ca",
   "metadata": {},
   "source": [
    "## asyncio 的使用"
   ]
  },
  {
   "cell_type": "code",
   "execution_count": null,
   "id": "67020be3-d2f8-446b-a634-cf73db64f0c1",
   "metadata": {},
   "outputs": [],
   "source": []
  }
 ],
 "metadata": {
  "kernelspec": {
   "display_name": "Python 3 (ipykernel)",
   "language": "python",
   "name": "python3"
  },
  "language_info": {
   "codemirror_mode": {
    "name": "ipython",
    "version": 3
   },
   "file_extension": ".py",
   "mimetype": "text/x-python",
   "name": "python",
   "nbconvert_exporter": "python",
   "pygments_lexer": "ipython3",
   "version": "3.10.14"
  }
 },
 "nbformat": 4,
 "nbformat_minor": 5
}
