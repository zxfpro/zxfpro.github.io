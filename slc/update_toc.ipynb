{
 "cells": [
  {
   "cell_type": "code",
   "execution_count": 6,
   "id": "a5fee8b9-cfc7-4818-be1e-f2b8dd3e3270",
   "metadata": {
    "tags": []
   },
   "outputs": [],
   "source": [
    "from zxftools_dev.project import IO"
   ]
  },
  {
   "cell_type": "code",
   "execution_count": 7,
   "id": "c841385a-dbf7-4ea6-8db8-0f7d315d0ca9",
   "metadata": {
    "tags": []
   },
   "outputs": [],
   "source": [
    "import os"
   ]
  },
  {
   "cell_type": "code",
   "execution_count": 8,
   "id": "d44c3890-9846-4897-8f70-d75c7a15d806",
   "metadata": {
    "tags": []
   },
   "outputs": [],
   "source": [
    "show_files = [\"study\",\"专题教学库\",\"个人包教程\"]\n",
    "\n",
    "parts = [{'caption': '小函数工具库',\n",
    "   'chapters': [{'file': '工具函数库/code', 'title': '独立工具函数'},\n",
    "    {'file': '工具函数库/note', 'title': '札记'},\n",
    "    {'url': 'http://127.0.0.1:9000', 'title': '工作台'},\n",
    "    {'url': 'http://127.0.0.1:8020', 'title': '私有文档'}]}]\n",
    "\n",
    "for file in show_files:\n",
    "    file_struct = {'caption':file,\n",
    "        'chapters':[{'file':os.path.join(file,i)[:-6],'title':i[:-6]} for i in os.listdir(file) if i.endswith('ipynb')]\n",
    "        }\n",
    "    parts.append(file_struct)\n",
    "\n",
    "\n",
    "structs = {'format': 'jb-book',\n",
    " 'root': 'intro',\n",
    " 'parts': parts}"
   ]
  },
  {
   "cell_type": "code",
   "execution_count": 9,
   "id": "9c1aed7a-7428-4b55-afc5-0ba5054c93f2",
   "metadata": {
    "tags": []
   },
   "outputs": [],
   "source": [
    "IO.save_yaml(structs,'_toc.yml')"
   ]
  },
  {
   "cell_type": "code",
   "execution_count": 2,
   "id": "a1d7fa53-0c88-40a8-9de1-b281077c8360",
   "metadata": {},
   "outputs": [
    {
     "name": "stdout",
     "output_type": "stream",
     "text": [
      "06b26f2e806e8279e525b198af56f03e1db754bd slc/个人包教程/zxfMLtoolsTutorial/.ipynb_checkpoints/13_Transformers-checkpoint.ipynb\n"
     ]
    }
   ],
   "source": [
    "!git rev-list --objects --all | grep 06b26f2e806e8279e525b198af56f03e1db754bd\n"
   ]
  },
  {
   "cell_type": "code",
   "execution_count": 10,
   "id": "3a5dd901-7b96-4b98-bfe8-7c9955d1de8c",
   "metadata": {
    "tags": []
   },
   "outputs": [
    {
     "name": "stdout",
     "output_type": "stream",
     "text": [
      "dataset.ipynb train.ipynb\n"
     ]
    }
   ],
   "source": [
    "!ls 个人包教程/"
   ]
  },
  {
   "cell_type": "code",
   "execution_count": null,
   "id": "ab0cd290-34bc-4f9a-9ae0-3f9d9b41eab8",
   "metadata": {},
   "outputs": [],
   "source": []
  }
 ],
 "metadata": {
  "kernelspec": {
   "display_name": "Python 3 (ipykernel)",
   "language": "python",
   "name": "python3"
  },
  "language_info": {
   "codemirror_mode": {
    "name": "ipython",
    "version": 3
   },
   "file_extension": ".py",
   "mimetype": "text/x-python",
   "name": "python",
   "nbconvert_exporter": "python",
   "pygments_lexer": "ipython3",
   "version": "3.10.14"
  }
 },
 "nbformat": 4,
 "nbformat_minor": 5
}
