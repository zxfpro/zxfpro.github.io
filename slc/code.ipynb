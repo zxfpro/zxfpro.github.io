{
 "cells": [
  {
   "cell_type": "code",
   "execution_count": null,
   "id": "b7540841-2d9a-4b51-af54-899910fe805d",
   "metadata": {},
   "outputs": [],
   "source": [
    "import re\n",
    "import pkg_resources\n",
    "\n",
    "def check_package(hard_dependencies, check=True):\n",
    "    if check:\n",
    "        missing_dependencies = []\n",
    "        # 正则表达式匹配包名和版本号\n",
    "        pattern = r'([a-zA-Z0-9_]+)([<>=!]+)([\\d\\.]+)'\n",
    "\n",
    "        for dependency in hard_dependencies:\n",
    "            match = re.match(pattern, dependency)\n",
    "            if match:\n",
    "                module_name, version_operator, module_version = match.groups()\n",
    "                try:\n",
    "                    # 获取已安装包的版本\n",
    "                    installed_version = pkg_resources.get_distribution(module_name).version\n",
    "                    # 比较版本号\n",
    "                    if not pkg_resources.working_set.by_key[module_name].parsed_version in pkg_resources.Requirement.parse(f\"{module_name}{version_operator}{module_version}\"):\n",
    "                        missing_dependencies.append(f\"{module_name}: the package need version {version_operator}{module_version}, now version is {installed_version}\")\n",
    "                except pkg_resources.DistributionNotFound:\n",
    "                    missing_dependencies.append(f\"{module_name}: package not found\")\n",
    "                except pkg_resources.VersionConflict as e:\n",
    "                    missing_dependencies.append(f\"{module_name}: {e}\")\n",
    "\n",
    "        if missing_dependencies:\n",
    "            raise ImportError(\n",
    "                \"Unable to import required dependencies:\\n\" + \"\\n\".join(missing_dependencies)\n",
    "            )\n",
    "        del hard_dependencies, dependency, missing_dependencies\n",
    "\n",
    "def check_all(mobile):\n",
    "    for i in mobile.__all__:\n",
    "        try:\n",
    "            assert i not in __all__\n",
    "            __all__.append(i)\n",
    "        except:\n",
    "            raise Exception(f'{i}命名重复')"
   ]
  },
  {
   "cell_type": "code",
   "execution_count": null,
   "id": "4a610c7c-8c2a-42d0-b127-31bb09e1ddfa",
   "metadata": {},
   "outputs": [],
   "source": [
    "#@title 1. Keep this tab alive to prevent Colab from disconnecting you { display-mode: \"form\" }\n",
    "\n",
    "#@markdown Press play on the music player that will appear below:\n",
    "\n",
    "%%html\n",
    "\n",
    "<audio src=\"https://oobabooga.github.io/silence.m4a\" controls> 用来防止发生断裂"
   ]
  },
  {
   "cell_type": "code",
   "execution_count": null,
   "id": "b91150c1-e1d3-4a2f-8135-c41c884762ef",
   "metadata": {},
   "outputs": [],
   "source": [
    "image_url = \"https://upload.wikimedia.org/wikipedia/commons/a/a7/Camponotus_flavomarginatus_ant.jpg\"\n"
   ]
  },
  {
   "cell_type": "code",
   "execution_count": null,
   "id": "6209be22-b0af-4441-b73d-1c8065466878",
   "metadata": {},
   "outputs": [],
   "source": [
    "限制添加的属性：\n",
    "\n",
    "如果你希望类或对象只有特定属性，可以使用 __slots__ 来限制属性的添加：\n",
    "\n",
    "class Student:\n",
    "\n",
    "    __slots__ = ('name', 'age', 'score')\n",
    "\n",
    "    def __init__(self, name, age):\n",
    "\n",
    "        self.name = name\n",
    "\n",
    "        self.age = age\n",
    "\n",
    "st = Student('phyger', 16)\n",
    "\n",
    "print(st.name)  # 输出：'phyger'\n",
    "\n",
    "print(st.age)  # 输出：16\n",
    "\n",
    "st.score = 100  # 无法添加 'score' 属性\n",
    "\n",
    "  "
   ]
  }
 ],
 "metadata": {
  "kernelspec": {
   "display_name": "Python 3 (ipykernel)",
   "language": "python",
   "name": "python3"
  },
  "language_info": {
   "codemirror_mode": {
    "name": "ipython",
    "version": 3
   },
   "file_extension": ".py",
   "mimetype": "text/x-python",
   "name": "python",
   "nbconvert_exporter": "python",
   "pygments_lexer": "ipython3",
   "version": "3.10.14"
  }
 },
 "nbformat": 4,
 "nbformat_minor": 5
}
