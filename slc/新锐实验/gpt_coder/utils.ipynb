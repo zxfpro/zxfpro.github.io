{
 "cells": [
  {
   "cell_type": "code",
   "execution_count": null,
   "id": "47a1a03c-7b78-456c-ba88-ed4dac3f2b5a",
   "metadata": {},
   "outputs": [],
   "source": []
  },
  {
   "cell_type": "code",
   "execution_count": 12,
   "id": "359a515b-765a-4874-b687-721a2a6d45cc",
   "metadata": {
    "tags": []
   },
   "outputs": [],
   "source": [
    "import json\n",
    "\n",
    "def create_notebook_from_string(content, notebook_name='notebook.ipynb'):\n",
    "    # Split the content into lines\n",
    "    lines = content.split('\\n')\n",
    "\n",
    "    # Initialize the notebook structure\n",
    "    notebook = {\n",
    "        \"cells\": [],\n",
    "        \"metadata\": {\n",
    "            \"kernelspec\": {\n",
    "                \"display_name\": \"Python 3\",\n",
    "                \"language\": \"python\",\n",
    "                \"name\": \"python3\"\n",
    "            },\n",
    "            \"language_info\": {\n",
    "                \"codemirror_mode\": {\n",
    "                    \"name\": \"ipython\",\n",
    "                    \"version\": 3\n",
    "                },\n",
    "                \"file_extension\": \".py\",\n",
    "                \"mimetype\": \"text/x-python\",\n",
    "                \"name\": \"python\",\n",
    "                \"nbconvert_exporter\": \"python\",\n",
    "                \"pygments_lexer\": \"ipython3\",\n",
    "                \"version\": \"3.8.5\"\n",
    "            }\n",
    "        },\n",
    "        \"nbformat\": 4,\n",
    "        \"nbformat_minor\": 4\n",
    "    }\n",
    "\n",
    "    # Initialize variables\n",
    "    cell_type = 'markdown'\n",
    "    cell_content = []\n",
    "\n",
    "    # Iterate over lines to construct cells\n",
    "    for line in lines:\n",
    "        if line.startswith('```'):\n",
    "            if cell_type == 'markdown':\n",
    "                # Close the current markdown cell and start a new code cell\n",
    "                notebook['cells'].append({\n",
    "                    \"cell_type\": cell_type,\n",
    "                    \"metadata\": {},\n",
    "                    \"source\": cell_content\n",
    "                })\n",
    "                cell_type = 'code'\n",
    "            else:\n",
    "                # Close the current code cell and start a new markdown cell\n",
    "                notebook['cells'].append({\n",
    "                    \"cell_type\": cell_type,\n",
    "                    \"metadata\": {},\n",
    "                    \"outputs\": [],\n",
    "                    \"execution_count\": None,\n",
    "                    \"source\": cell_content\n",
    "                })\n",
    "                cell_type = 'markdown'\n",
    "            cell_content = []\n",
    "        else:\n",
    "            cell_content.append(line + '\\n')\n",
    "\n",
    "    # Add the last cell\n",
    "    if cell_content:\n",
    "        if cell_type == 'markdown':\n",
    "            notebook['cells'].append({\n",
    "                \"cell_type\": cell_type,\n",
    "                \"metadata\": {},\n",
    "                \"source\": cell_content\n",
    "            })\n",
    "        else:\n",
    "            notebook['cells'].append({\n",
    "                \"cell_type\": cell_type,\n",
    "                \"metadata\": {},\n",
    "                \"outputs\": [],\n",
    "                \"execution_count\": None,\n",
    "                \"source\": cell_content\n",
    "            })\n",
    "    # Save the notebook as a JSON file\n",
    "    for i in notebook['cells']:\n",
    "        if i['cell_type'] == 'code':\n",
    "            if 'install' in '\\n'.join(i['source']):\n",
    "                i['cell_type'] = 'markdown'\n",
    "\n",
    "    with open(notebook_name, 'w', encoding='utf-8') as f:\n",
    "        json.dump(notebook, f, ensure_ascii=False, indent=4)\n",
    "\n"
   ]
  },
  {
   "cell_type": "code",
   "execution_count": null,
   "id": "7507a4a1-2865-4f96-a288-f6078e36fefb",
   "metadata": {},
   "outputs": [],
   "source": []
  },
  {
   "cell_type": "code",
   "execution_count": 18,
   "id": "509d61fc-614c-41d6-afad-4be05546f012",
   "metadata": {
    "tags": []
   },
   "outputs": [
    {
     "name": "stderr",
     "output_type": "stream",
     "text": [
      "[IPKernelApp] WARNING | Unknown error in handling startup files:\n"
     ]
    },
    {
     "name": "stdout",
     "output_type": "stream",
     "text": [
      "Notebook executed successfully.\n"
     ]
    }
   ],
   "source": [
    "import nbformat\n",
    "from nbconvert.preprocessors import ExecutePreprocessor\n",
    "from nbconvert.preprocessors import CellExecutionError\n",
    "\n",
    "def run_notebook(notebook_path):\n",
    "    try:\n",
    "        # Load the notebook\n",
    "        with open(notebook_path, 'r', encoding='utf-8') as f:\n",
    "            notebook_content = f.read()\n",
    "\n",
    "        # Parse the notebook content\n",
    "        notebook = nbformat.reads(notebook_content, as_version=4)\n",
    "\n",
    "        # Execute the notebook\n",
    "        ep = ExecutePreprocessor(timeout=600, kernel_name='python3')\n",
    "        ep.preprocess(notebook, {'metadata': {'path': './'}})\n",
    "\n",
    "        print(\"Notebook executed successfully.\")\n",
    "\n",
    "    except CellExecutionError as e:\n",
    "        print(\"An error occurred while executing the notebook:\")\n",
    "        print('xxxxxxxxxxxxx')\n",
    "        print(e)\n",
    "        print('xxxxxxxxxxxxx')\n",
    "        return e\n",
    "    except Exception as e:\n",
    "        print(\"An unexpected error occurred:\")\n",
    "        print(e)\n",
    "\n",
    "# Example usage\n",
    "e = run_notebook(file_name)\n"
   ]
  }
 ],
 "metadata": {
  "kernelspec": {
   "display_name": "Python 3 (ipykernel)",
   "language": "python",
   "name": "python3"
  },
  "language_info": {
   "codemirror_mode": {
    "name": "ipython",
    "version": 3
   },
   "file_extension": ".py",
   "mimetype": "text/x-python",
   "name": "python",
   "nbconvert_exporter": "python",
   "pygments_lexer": "ipython3",
   "version": "3.10.14"
  }
 },
 "nbformat": 4,
 "nbformat_minor": 5
}
