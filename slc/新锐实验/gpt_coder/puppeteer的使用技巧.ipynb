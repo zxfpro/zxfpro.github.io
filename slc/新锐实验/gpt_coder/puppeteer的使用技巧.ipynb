{
 "cells": [
  {
   "cell_type": "markdown",
   "metadata": {},
   "source": [
    "当然可以！以下是基于你的学习清单，针对可以代码实现的部分编写的详细教程。我们将从基础知识开始，逐步深入到高级技巧。\n",
    "\n",
    "### 基础知识\n",
    "\n",
    "#### 1. Puppeteer 基本概念\n",
    "Puppeteer 是一个 Node 库，它提供了一个高级 API 来控制 Chrome 或 Chromium 浏览器。它可以用于自动化测试、网页抓取、生成截图和 PDF 等任务。\n",
    "\n",
    "#### 2. 环境配置\n",
    "\n",
    "**安装 Puppeteer**\n"
   ]
  },
  {
   "cell_type": "markdown",
   "metadata": {},
   "source": [
    "npm install puppeteer\n"
   ]
  },
  {
   "cell_type": "markdown",
   "metadata": {},
   "source": [
    "\n",
    "**配置 Puppeteer 项目**\n",
    "创建一个新的 Node.js 项目并安装 Puppeteer：\n"
   ]
  },
  {
   "cell_type": "markdown",
   "metadata": {},
   "source": [
    "mkdir puppeteer-tutorial\n",
    "cd puppeteer-tutorial\n",
    "npm init -y\n",
    "npm install puppeteer\n"
   ]
  },
  {
   "cell_type": "markdown",
   "metadata": {},
   "source": [
    "\n",
    "**基本的 Puppeteer 脚本结构**\n"
   ]
  },
  {
   "cell_type": "code",
   "execution_count": null,
   "metadata": {},
   "outputs": [],
   "source": [
    "const puppeteer = require('puppeteer');\n",
    "\n",
    "(async () => {\n",
    "  const browser = await puppeteer.launch();\n",
    "  const page = await browser.newPage();\n",
    "  await page.goto('https://example.com');\n",
    "  await page.screenshot({ path: 'example.png' });\n",
    "  await browser.close();\n",
    "})();\n"
   ]
  },
  {
   "cell_type": "markdown",
   "metadata": {},
   "source": [
    "\n",
    "### 核心功能\n",
    "\n",
    "#### 3. 浏览器与页面控制\n",
    "\n",
    "**启动和关闭浏览器**\n"
   ]
  },
  {
   "cell_type": "code",
   "execution_count": null,
   "metadata": {},
   "outputs": [],
   "source": [
    "const browser = await puppeteer.launch();\n",
    "await browser.close();\n"
   ]
  },
  {
   "cell_type": "markdown",
   "metadata": {},
   "source": [
    "\n",
    "**创建和管理页面**\n"
   ]
  },
  {
   "cell_type": "code",
   "execution_count": null,
   "metadata": {},
   "outputs": [],
   "source": [
    "const page = await browser.newPage();\n",
    "await page.goto('https://example.com');\n"
   ]
  },
  {
   "cell_type": "markdown",
   "metadata": {},
   "source": [
    "\n",
    "**页面导航与等待**\n"
   ]
  },
  {
   "cell_type": "code",
   "execution_count": null,
   "metadata": {},
   "outputs": [],
   "source": [
    "await page.goto('https://example.com', { waitUntil: 'networkidle2' });\n"
   ]
  },
  {
   "cell_type": "markdown",
   "metadata": {},
   "source": [
    "\n",
    "#### 4. 元素选择与操作\n",
    "\n",
    "**使用选择器**\n"
   ]
  },
  {
   "cell_type": "code",
   "execution_count": null,
   "metadata": {},
   "outputs": [],
   "source": [
    "await page.click('button#submit');\n",
    "await page.type('input#username', 'myUsername');\n"
   ]
  },
  {
   "cell_type": "markdown",
   "metadata": {},
   "source": [
    "\n",
    "**截图与 PDF 生成**\n"
   ]
  },
  {
   "cell_type": "code",
   "execution_count": null,
   "metadata": {},
   "outputs": [],
   "source": [
    "await page.screenshot({ path: 'screenshot.png' });\n",
    "await page.pdf({ path: 'page.pdf', format: 'A4' });\n"
   ]
  },
  {
   "cell_type": "markdown",
   "metadata": {},
   "source": [
    "\n",
    "#### 5. 页面内容抓取\n",
    "\n",
    "**获取页面内容**\n"
   ]
  },
  {
   "cell_type": "code",
   "execution_count": null,
   "metadata": {},
   "outputs": [],
   "source": [
    "const text = await page.$eval('h1', el => el.innerText);\n",
    "console.log(text);\n"
   ]
  },
  {
   "cell_type": "markdown",
   "metadata": {},
   "source": [
    "\n",
    "**获取属性值**\n"
   ]
  },
  {
   "cell_type": "code",
   "execution_count": null,
   "metadata": {},
   "outputs": [],
   "source": [
    "const href = await page.$eval('a', el => el.href);\n",
    "console.log(href);\n"
   ]
  },
  {
   "cell_type": "markdown",
   "metadata": {},
   "source": [
    "\n",
    "**处理动态内容**\n"
   ]
  },
  {
   "cell_type": "code",
   "execution_count": null,
   "metadata": {},
   "outputs": [],
   "source": [
    "await page.waitForSelector('#dynamic-content');\n",
    "const dynamicText = await page.$eval('#dynamic-content', el => el.innerText);\n",
    "console.log(dynamicText);\n"
   ]
  },
  {
   "cell_type": "markdown",
   "metadata": {},
   "source": [
    "\n",
    "### 高级技巧\n",
    "\n",
    "#### 6. 处理表单与文件上传\n",
    "\n",
    "**自动填写表单**\n"
   ]
  },
  {
   "cell_type": "code",
   "execution_count": null,
   "metadata": {},
   "outputs": [],
   "source": [
    "await page.type('input#name', 'John Doe');\n",
    "await page.type('input#email', 'john.doe@example.com');\n",
    "await page.click('button#submit');\n"
   ]
  },
  {
   "cell_type": "markdown",
   "metadata": {},
   "source": [
    "\n",
    "**文件上传操作**\n"
   ]
  },
  {
   "cell_type": "code",
   "execution_count": null,
   "metadata": {},
   "outputs": [],
   "source": [
    "const input = await page.$('input[type=\"file\"]');\n",
    "await input.uploadFile('/path/to/file.txt');\n"
   ]
  },
  {
   "cell_type": "markdown",
   "metadata": {},
   "source": [
    "\n",
    "#### 7. 模拟用户行为\n",
    "\n",
    "**模拟鼠标操作**\n"
   ]
  },
  {
   "cell_type": "code",
   "execution_count": null,
   "metadata": {},
   "outputs": [],
   "source": [
    "await page.mouse.move(100, 100);\n",
    "await page.mouse.click(100, 100);\n"
   ]
  },
  {
   "cell_type": "markdown",
   "metadata": {},
   "source": [
    "\n",
    "**模拟键盘输入**\n"
   ]
  },
  {
   "cell_type": "code",
   "execution_count": null,
   "metadata": {},
   "outputs": [],
   "source": [
    "await page.keyboard.type('Hello, World!');\n"
   ]
  },
  {
   "cell_type": "markdown",
   "metadata": {},
   "source": [
    "\n",
    "#### 8. 网络拦截与监控\n",
    "\n",
    "**拦截和修改网络请求**\n"
   ]
  },
  {
   "cell_type": "code",
   "execution_count": null,
   "metadata": {},
   "outputs": [],
   "source": [
    "await page.setRequestInterception(true);\n",
    "page.on('request', request => {\n",
    "  if (request.url().includes('ads')) {\n",
    "    request.abort();\n",
    "  } else {\n",
    "    request.continue();\n",
    "  }\n",
    "});\n"
   ]
  },
  {
   "cell_type": "markdown",
   "metadata": {},
   "source": [
    "\n",
    "**监控网络请求和响应**\n"
   ]
  },
  {
   "cell_type": "code",
   "execution_count": null,
   "metadata": {},
   "outputs": [],
   "source": [
    "page.on('request', request => console.log('Request:', request.url()));\n",
    "page.on('response', response => console.log('Response:', response.url()));\n"
   ]
  },
  {
   "cell_type": "markdown",
   "metadata": {},
   "source": [
    "\n",
    "**设置请求头和代理**\n"
   ]
  },
  {
   "cell_type": "code",
   "execution_count": null,
   "metadata": {},
   "outputs": [],
   "source": [
    "await page.setExtraHTTPHeaders({\n",
    "  'Authorization': 'Bearer token'\n",
    "});\n"
   ]
  },
  {
   "cell_type": "markdown",
   "metadata": {},
   "source": [
    "\n",
    "#### 9. 处理多页面与多标签\n",
    "\n",
    "**管理多个页面和标签**\n"
   ]
  },
  {
   "cell_type": "code",
   "execution_count": null,
   "metadata": {},
   "outputs": [],
   "source": [
    "const page1 = await browser.newPage();\n",
    "const page2 = await browser.newPage();\n",
    "await page1.goto('https://example.com');\n",
    "await page2.goto('https://example.org');\n"
   ]
  },
  {
   "cell_type": "markdown",
   "metadata": {},
   "source": [
    "\n",
    "**页面间的通信**\n"
   ]
  },
  {
   "cell_type": "code",
   "execution_count": null,
   "metadata": {},
   "outputs": [],
   "source": [
    "const [page1, page2] = await browser.pages();\n",
    "await page1.evaluate(() => localStorage.setItem('key', 'value'));\n",
    "const value = await page2.evaluate(() => localStorage.getItem('key'));\n",
    "console.log(value);\n"
   ]
  },
  {
   "cell_type": "markdown",
   "metadata": {},
   "source": [
    "\n",
    "#### 10. 性能优化\n",
    "\n",
    "**优化脚本性能**\n"
   ]
  },
  {
   "cell_type": "code",
   "execution_count": null,
   "metadata": {},
   "outputs": [],
   "source": [
    "await page.setViewport({ width: 1280, height: 800 });\n",
    "await page.setCacheEnabled(false);\n"
   ]
  },
  {
   "cell_type": "markdown",
   "metadata": {},
   "source": [
    "\n",
    "**使用无头模式与有头模式的区别**\n"
   ]
  },
  {
   "cell_type": "code",
   "execution_count": null,
   "metadata": {},
   "outputs": [],
   "source": [
    "const browser = await puppeteer.launch({ headless: false });\n"
   ]
  },
  {
   "cell_type": "markdown",
   "metadata": {},
   "source": [
    "\n",
    "**处理内存泄漏**\n",
    "确保在脚本结束时关闭浏览器：\n"
   ]
  },
  {
   "cell_type": "code",
   "execution_count": null,
   "metadata": {},
   "outputs": [],
   "source": [
    "await browser.close();\n"
   ]
  },
  {
   "cell_type": "markdown",
   "metadata": {},
   "source": [
    "\n",
    "### 测试与调试\n",
    "\n",
    "#### 11. 调试技巧\n",
    "\n",
    "**使用 DevTools 进行调试**\n"
   ]
  },
  {
   "cell_type": "code",
   "execution_count": null,
   "metadata": {},
   "outputs": [],
   "source": [
    "await page.goto('https://example.com');\n",
    "await page.evaluate(() => {\n",
    "  debugger;\n",
    "});\n"
   ]
  },
  {
   "cell_type": "markdown",
   "metadata": {},
   "source": [
    "\n",
    "**捕获和处理错误**\n"
   ]
  },
  {
   "cell_type": "code",
   "execution_count": null,
   "metadata": {},
   "outputs": [],
   "source": [
    "try {\n",
    "  await page.goto('https://example.com');\n",
    "} catch (error) {\n",
    "  console.error('Error:', error);\n",
    "}\n"
   ]
  },
  {
   "cell_type": "markdown",
   "metadata": {},
   "source": [
    "\n",
    "**日志记录与分析**\n"
   ]
  },
  {
   "cell_type": "code",
   "execution_count": null,
   "metadata": {},
   "outputs": [],
   "source": [
    "page.on('console', msg => console.log('PAGE LOG:', msg.text()));\n"
   ]
  },
  {
   "cell_type": "markdown",
   "metadata": {},
   "source": [
    "\n",
    "#### 12. 自动化测试\n",
    "\n",
    "**使用 Puppeteer 进行端到端测试**\n"
   ]
  },
  {
   "cell_type": "code",
   "execution_count": null,
   "metadata": {},
   "outputs": [],
   "source": [
    "const puppeteer = require('puppeteer');\n",
    "const assert = require('assert');\n",
    "\n",
    "(async () => {\n",
    "  const browser = await puppeteer.launch();\n",
    "  const page = await browser.newPage();\n",
    "  await page.goto('https://example.com');\n",
    "  const title = await page.title();\n",
    "  assert.strictEqual(title, 'Example Domain');\n",
    "  await browser.close();\n",
    "})();\n"
   ]
  },
  {
   "cell_type": "markdown",
   "metadata": {},
   "source": [
    "\n",
    "**与测试框架的集成**\n",
    "以 Jest 为例：\n"
   ]
  },
  {
   "cell_type": "code",
   "execution_count": null,
   "metadata": {},
   "outputs": [],
   "source": [
    "const puppeteer = require('puppeteer');\n",
    "\n",
    "describe('Example Domain', () => {\n",
    "  let browser;\n",
    "  let page;\n",
    "\n",
    "  beforeAll(async () => {\n",
    "    browser = await puppeteer.launch();\n",
    "    page = await browser.newPage();\n",
    "  });\n",
    "\n",
    "  afterAll(async () => {\n",
    "    await browser.close();\n",
    "  });\n",
    "\n",
    "  test('title is correct', async () => {\n",
    "    await page.goto('https://example.com');\n",
    "    const title = await page.title();\n",
    "    expect(title).toBe('Example Domain');\n",
    "  });\n",
    "});\n"
   ]
  },
  {
   "cell_type": "markdown",
   "metadata": {},
   "source": [
    "\n",
    "### 实践项目\n",
    "\n",
    "#### 13. 实战项目\n",
    "\n",
    "**编写一个简单的网页抓取工具**\n"
   ]
  },
  {
   "cell_type": "code",
   "execution_count": null,
   "metadata": {},
   "outputs": [],
   "source": [
    "const puppeteer = require('puppeteer');\n",
    "\n",
    "(async () => {\n",
    "  const browser = await puppeteer.launch();\n",
    "  const page = await browser.newPage();\n",
    "  await page.goto('https://example.com');\n",
    "  const content = await page.content();\n",
    "  console.log(content);\n",
    "  await browser.close();\n",
    "})();\n"
   ]
  },
  {
   "cell_type": "markdown",
   "metadata": {},
   "source": [
    "\n",
    "**自动化表单提交**\n"
   ]
  },
  {
   "cell_type": "code",
   "execution_count": null,
   "metadata": {},
   "outputs": [],
   "source": [
    "const puppeteer = require('puppeteer');\n",
    "\n",
    "(async () => {\n",
    "  const browser = await puppeteer.launch();\n",
    "  const page = await browser.newPage();\n",
    "  await page.goto('https://example.com/form');\n",
    "  await page.type('input#name', 'John Doe');\n",
    "  await page.type('input#email', 'john.doe@example.com');\n",
    "  await page.click('button#submit');\n",
    "  await page.waitForNavigation();\n",
    "  console.log('Form submitted');\n",
    "  await browser.close();\n",
    "})();\n"
   ]
  },
  {
   "cell_type": "markdown",
   "metadata": {},
   "source": [
    "\n",
    "**自动化截图与 PDF 生成**\n"
   ]
  },
  {
   "cell_type": "code",
   "execution_count": null,
   "metadata": {},
   "outputs": [],
   "source": [
    "const puppeteer = require('puppeteer');\n",
    "\n",
    "(async () => {\n",
    "  const browser = await puppeteer.launch();\n",
    "  const page = await browser.newPage();\n",
    "  await page.goto('https://example.com');\n",
    "  await page.screenshot({ path: 'screenshot.png' });\n",
    "  await page.pdf({ path: 'page.pdf', format: 'A4' });\n",
    "  await browser.close();\n",
    "})();\n"
   ]
  },
  {
   "cell_type": "markdown",
   "metadata": {},
   "source": [
    "\n",
    "**自动化测试一个实际的 Web 应用**\n"
   ]
  },
  {
   "cell_type": "code",
   "execution_count": null,
   "metadata": {},
   "outputs": [],
   "source": [
    "const puppeteer = require('puppeteer');\n",
    "const assert = require('assert');\n",
    "\n",
    "(async () => {\n",
    "  const browser = await puppeteer.launch();\n",
    "  const page = await browser.newPage();\n",
    "  await page.goto('https://example.com/login');\n",
    "  await page.type('input#username', 'myUsername');\n",
    "  await page.type('input#password', 'myPassword');\n",
    "  await page.click('button#login');\n",
    "  await page.waitForNavigation();\n",
    "  const title = await page.title();\n",
    "  assert.strictEqual(title, 'Dashboard');\n",
    "  await browser.close();\n",
    "})();\n"
   ]
  },
  {
   "cell_type": "markdown",
   "metadata": {},
   "source": [
    "\n",
    "### 进阶学习\n",
    "\n",
    "#### 14. 与其他工具的集成\n",
    "\n",
    "**与 CI/CD 工具的集成**\n",
    "在 GitHub Actions 中使用 Puppeteer：\n"
   ]
  },
  {
   "cell_type": "markdown",
   "metadata": {},
   "source": [
    "name: Puppeteer Tests\n",
    "\n",
    "on: [push]\n",
    "\n",
    "jobs:\n",
    "  test:\n",
    "    runs-on: ubuntu-latest\n",
    "    steps:\n",
    "      - uses: actions/checkout@v2\n",
    "      - name: Set up Node.js\n",
    "        uses: actions/setup-node@v2\n",
    "        with:\n",
    "          node-version: '14'\n",
    "      - run: npm install\n",
    "      - run: npm test\n"
   ]
  },
  {
   "cell_type": "markdown",
   "metadata": {},
   "source": [
    "\n",
    "#### 15. 社区与资源\n",
    "\n",
    "**关注 Puppeteer 的官方文档和更新**\n",
    "访问 [Puppeteer 官方文档](https://pptr.dev/) 获取最新信息。\n",
    "\n",
    "**参与 Puppeteer 的社区讨论**\n",
    "在 [GitHub Issues](https://github.com/puppeteer/puppeteer/issues) 和 [Stack Overflow](https://stackoverflow.com/questions/tagged/puppeteer) 上参与讨论。\n",
    "\n",
    "**学习和分享 Puppeteer 的最佳实践**\n",
    "阅读博客文章、观看视频教程，并在社交媒体上分享你的经验。\n",
    "\n",
    "通过以上教程，你可以系统地学习 Puppeteer 的各个方面，从基础到高级，逐步掌握其使用技巧。希望这对你的学习有所帮助！\n"
   ]
  }
 ],
 "metadata": {
  "kernelspec": {
   "display_name": "Python 3 (ipykernel)",
   "language": "python",
   "name": "python3"
  },
  "language_info": {
   "codemirror_mode": {
    "name": "ipython",
    "version": 3
   },
   "file_extension": ".py",
   "mimetype": "text/x-python",
   "name": "python",
   "nbconvert_exporter": "python",
   "pygments_lexer": "ipython3",
   "version": "3.10.14"
  }
 },
 "nbformat": 4,
 "nbformat_minor": 4
}
