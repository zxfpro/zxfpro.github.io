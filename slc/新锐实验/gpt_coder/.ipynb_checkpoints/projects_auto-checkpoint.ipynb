{
 "cells": [
  {
   "cell_type": "markdown",
   "id": "4f5757fb-c2a7-4df1-b375-6016644cc31b",
   "metadata": {},
   "source": [
    "# Projects"
   ]
  },
  {
   "cell_type": "markdown",
   "id": "3c464094-892e-46b3-a438-1944b46b1acb",
   "metadata": {},
   "source": [
    "## lv 1  半自动的工程实现\n"
   ]
  },
  {
   "cell_type": "code",
   "execution_count": null,
   "id": "12e5883f-26da-4bca-80a7-32ae9a6fd8c5",
   "metadata": {},
   "outputs": [],
   "source": [
    "1 技术预研,技术调研,demo制作,模拟等前期工作   我来做(未来交给AI来做)"
   ]
  },
  {
   "cell_type": "code",
   "execution_count": null,
   "id": "1552c6ce-9f01-41d5-8737-6c2c4d21dee1",
   "metadata": {},
   "outputs": [],
   "source": [
    "2 顶层设计,动作交互,概念图的绘制,流程图的绘制 我来做(主要是思想很难准确表达 可以和AI探讨 ) "
   ]
  },
  {
   "cell_type": "code",
   "execution_count": null,
   "id": "bf2c21d3-f604-4768-8a94-1ceddbf5a7f7",
   "metadata": {},
   "outputs": [],
   "source": [
    "3 不重不漏,设计模式,抽象设计(AI 辅助,我来做,主要是做自己的产品 )"
   ]
  },
  {
   "cell_type": "code",
   "execution_count": null,
   "id": "134ea327-4d87-4727-979d-a7493504bd47",
   "metadata": {},
   "outputs": [],
   "source": [
    "4 将成果转化为函数描述/(伪代码) -> 进行文档叙述"
   ]
  },
  {
   "cell_type": "code",
   "execution_count": null,
   "id": "c508bd50-fe02-46f4-ad99-9a49f9d6eb49",
   "metadata": {},
   "outputs": [],
   "source": [
    "5 伪代码变成测试用例 (AI)"
   ]
  },
  {
   "cell_type": "code",
   "execution_count": null,
   "id": "5d6f4d20-747e-4d59-9a31-ac721bd4a096",
   "metadata": {},
   "outputs": [],
   "source": [
    "6 通过测试用例 编写函数 (+需求描述 +调用自定义函数能力  ) (AI)"
   ]
  },
  {
   "cell_type": "code",
   "execution_count": null,
   "id": "cc246db3-525c-4495-bf51-61d9675dd30d",
   "metadata": {},
   "outputs": [],
   "source": [
    "1-1 另一条线,就是研究的线\n",
    "使用notebook 管理研究\n",
    "研究成果-> 固定函数 -> 实现特定任务(市面上无法实现) 解决能力问题\n",
    "调用固定函数->支持AI编写"
   ]
  },
  {
   "cell_type": "code",
   "execution_count": null,
   "id": "4ee87dc2-15a9-444a-99e9-655c79164331",
   "metadata": {},
   "outputs": [],
   "source": []
  },
  {
   "cell_type": "code",
   "execution_count": null,
   "id": "a8309055-00e3-4747-804c-a1afe7b37e00",
   "metadata": {},
   "outputs": [],
   "source": []
  },
  {
   "cell_type": "code",
   "execution_count": null,
   "id": "29649271-4b33-4f41-ab22-16aa3e97e8ec",
   "metadata": {},
   "outputs": [],
   "source": []
  },
  {
   "cell_type": "code",
   "execution_count": null,
   "id": "21094d84-e8cc-4f62-9229-493ae05329ef",
   "metadata": {},
   "outputs": [],
   "source": []
  },
  {
   "cell_type": "code",
   "execution_count": null,
   "id": "54684775-be33-4505-9831-9d06120ecb99",
   "metadata": {},
   "outputs": [],
   "source": [
    "2.app_description\n",
    "● 字段描述\n",
    "  ○ app描述，供AI确认场景使用\n",
    "● 检查规则\n",
    "  ○ 是否为空：不允许为空\n",
    "  ○ 字符类型：string\n",
    "  ○ 词组长度：100\n",
    "  ○ 语义描述是否准确：通过大模型对app的说明文档的学习，对当前语义描述进行分析判断其描述是否准确，【暂缓】\n",
    "3.app_category\n",
    "● 字段描述\n",
    "  ○ 是对app进行功能分类，通过大模型对app的学习进行app分类，给定的分类类别如下：Finance & Business/Health/Social/Office/AITools/Search&News/Tools/Entertainment/Living/Education/Buying/Photography\n",
    "● 检查规则\n",
    "  ○ 是否为空：不允许为空\n",
    "  ○ 字符类型：string\n",
    "  ○ 数据范围是否准确：值应该为app分类中的一个\n",
    "  ○ 数据值是否准确：通过大模型学习对app的描述学习对当前分类进行评价是否准确给【暂缓】\n"
   ]
  },
  {
   "cell_type": "code",
   "execution_count": 1,
   "id": "a21d22d7-802c-4789-8252-c7e655c8e50b",
   "metadata": {
    "tags": []
   },
   "outputs": [],
   "source": [
    "import pandas as pd"
   ]
  },
  {
   "cell_type": "code",
   "execution_count": 3,
   "id": "b54fdcc2-5c7c-4c03-a052-fb1c7ac34312",
   "metadata": {
    "collapsed": true,
    "jupyter": {
     "outputs_hidden": true
    },
    "tags": []
   },
   "outputs": [
    {
     "data": {
      "text/plain": [
       "\u001b[0;31mInit signature:\u001b[0m\n",
       "\u001b[0mpd\u001b[0m\u001b[0;34m.\u001b[0m\u001b[0mDataFrame\u001b[0m\u001b[0;34m(\u001b[0m\u001b[0;34m\u001b[0m\n",
       "\u001b[0;34m\u001b[0m    \u001b[0mdata\u001b[0m\u001b[0;34m=\u001b[0m\u001b[0;32mNone\u001b[0m\u001b[0;34m,\u001b[0m\u001b[0;34m\u001b[0m\n",
       "\u001b[0;34m\u001b[0m    \u001b[0mindex\u001b[0m\u001b[0;34m:\u001b[0m \u001b[0;34m'Axes | None'\u001b[0m \u001b[0;34m=\u001b[0m \u001b[0;32mNone\u001b[0m\u001b[0;34m,\u001b[0m\u001b[0;34m\u001b[0m\n",
       "\u001b[0;34m\u001b[0m    \u001b[0mcolumns\u001b[0m\u001b[0;34m:\u001b[0m \u001b[0;34m'Axes | None'\u001b[0m \u001b[0;34m=\u001b[0m \u001b[0;32mNone\u001b[0m\u001b[0;34m,\u001b[0m\u001b[0;34m\u001b[0m\n",
       "\u001b[0;34m\u001b[0m    \u001b[0mdtype\u001b[0m\u001b[0;34m:\u001b[0m \u001b[0;34m'Dtype | None'\u001b[0m \u001b[0;34m=\u001b[0m \u001b[0;32mNone\u001b[0m\u001b[0;34m,\u001b[0m\u001b[0;34m\u001b[0m\n",
       "\u001b[0;34m\u001b[0m    \u001b[0mcopy\u001b[0m\u001b[0;34m:\u001b[0m \u001b[0;34m'bool | None'\u001b[0m \u001b[0;34m=\u001b[0m \u001b[0;32mNone\u001b[0m\u001b[0;34m,\u001b[0m\u001b[0;34m\u001b[0m\n",
       "\u001b[0;34m\u001b[0m\u001b[0;34m)\u001b[0m \u001b[0;34m->\u001b[0m \u001b[0;34m'None'\u001b[0m\u001b[0;34m\u001b[0m\u001b[0;34m\u001b[0m\u001b[0m\n",
       "\u001b[0;31mDocstring:\u001b[0m     \n",
       "Two-dimensional, size-mutable, potentially heterogeneous tabular data.\n",
       "\n",
       "Data structure also contains labeled axes (rows and columns).\n",
       "Arithmetic operations align on both row and column labels. Can be\n",
       "thought of as a dict-like container for Series objects. The primary\n",
       "pandas data structure.\n",
       "\n",
       "Parameters\n",
       "----------\n",
       "data : ndarray (structured or homogeneous), Iterable, dict, or DataFrame\n",
       "    Dict can contain Series, arrays, constants, dataclass or list-like objects. If\n",
       "    data is a dict, column order follows insertion-order. If a dict contains Series\n",
       "    which have an index defined, it is aligned by its index. This alignment also\n",
       "    occurs if data is a Series or a DataFrame itself. Alignment is done on\n",
       "    Series/DataFrame inputs.\n",
       "\n",
       "    If data is a list of dicts, column order follows insertion-order.\n",
       "\n",
       "index : Index or array-like\n",
       "    Index to use for resulting frame. Will default to RangeIndex if\n",
       "    no indexing information part of input data and no index provided.\n",
       "columns : Index or array-like\n",
       "    Column labels to use for resulting frame when data does not have them,\n",
       "    defaulting to RangeIndex(0, 1, 2, ..., n). If data contains column labels,\n",
       "    will perform column selection instead.\n",
       "dtype : dtype, default None\n",
       "    Data type to force. Only a single dtype is allowed. If None, infer.\n",
       "copy : bool or None, default None\n",
       "    Copy data from inputs.\n",
       "    For dict data, the default of None behaves like ``copy=True``.  For DataFrame\n",
       "    or 2d ndarray input, the default of None behaves like ``copy=False``.\n",
       "    If data is a dict containing one or more Series (possibly of different dtypes),\n",
       "    ``copy=False`` will ensure that these inputs are not copied.\n",
       "\n",
       "    .. versionchanged:: 1.3.0\n",
       "\n",
       "See Also\n",
       "--------\n",
       "DataFrame.from_records : Constructor from tuples, also record arrays.\n",
       "DataFrame.from_dict : From dicts of Series, arrays, or dicts.\n",
       "read_csv : Read a comma-separated values (csv) file into DataFrame.\n",
       "read_table : Read general delimited file into DataFrame.\n",
       "read_clipboard : Read text from clipboard into DataFrame.\n",
       "\n",
       "Notes\n",
       "-----\n",
       "Please reference the :ref:`User Guide <basics.dataframe>` for more information.\n",
       "\n",
       "Examples\n",
       "--------\n",
       "Constructing DataFrame from a dictionary.\n",
       "\n",
       ">>> d = {'col1': [1, 2], 'col2': [3, 4]}\n",
       ">>> df = pd.DataFrame(data=d)\n",
       ">>> df\n",
       "   col1  col2\n",
       "0     1     3\n",
       "1     2     4\n",
       "\n",
       "Notice that the inferred dtype is int64.\n",
       "\n",
       ">>> df.dtypes\n",
       "col1    int64\n",
       "col2    int64\n",
       "dtype: object\n",
       "\n",
       "To enforce a single dtype:\n",
       "\n",
       ">>> df = pd.DataFrame(data=d, dtype=np.int8)\n",
       ">>> df.dtypes\n",
       "col1    int8\n",
       "col2    int8\n",
       "dtype: object\n",
       "\n",
       "Constructing DataFrame from a dictionary including Series:\n",
       "\n",
       ">>> d = {'col1': [0, 1, 2, 3], 'col2': pd.Series([2, 3], index=[2, 3])}\n",
       ">>> pd.DataFrame(data=d, index=[0, 1, 2, 3])\n",
       "   col1  col2\n",
       "0     0   NaN\n",
       "1     1   NaN\n",
       "2     2   2.0\n",
       "3     3   3.0\n",
       "\n",
       "Constructing DataFrame from numpy ndarray:\n",
       "\n",
       ">>> df2 = pd.DataFrame(np.array([[1, 2, 3], [4, 5, 6], [7, 8, 9]]),\n",
       "...                    columns=['a', 'b', 'c'])\n",
       ">>> df2\n",
       "   a  b  c\n",
       "0  1  2  3\n",
       "1  4  5  6\n",
       "2  7  8  9\n",
       "\n",
       "Constructing DataFrame from a numpy ndarray that has labeled columns:\n",
       "\n",
       ">>> data = np.array([(1, 2, 3), (4, 5, 6), (7, 8, 9)],\n",
       "...                 dtype=[(\"a\", \"i4\"), (\"b\", \"i4\"), (\"c\", \"i4\")])\n",
       ">>> df3 = pd.DataFrame(data, columns=['c', 'a'])\n",
       "...\n",
       ">>> df3\n",
       "   c  a\n",
       "0  3  1\n",
       "1  6  4\n",
       "2  9  7\n",
       "\n",
       "Constructing DataFrame from dataclass:\n",
       "\n",
       ">>> from dataclasses import make_dataclass\n",
       ">>> Point = make_dataclass(\"Point\", [(\"x\", int), (\"y\", int)])\n",
       ">>> pd.DataFrame([Point(0, 0), Point(0, 3), Point(2, 3)])\n",
       "   x  y\n",
       "0  0  0\n",
       "1  0  3\n",
       "2  2  3\n",
       "\n",
       "Constructing DataFrame from Series/DataFrame:\n",
       "\n",
       ">>> ser = pd.Series([1, 2, 3], index=[\"a\", \"b\", \"c\"])\n",
       ">>> df = pd.DataFrame(data=ser, index=[\"a\", \"c\"])\n",
       ">>> df\n",
       "   0\n",
       "a  1\n",
       "c  3\n",
       "\n",
       ">>> df1 = pd.DataFrame([1, 2, 3], index=[\"a\", \"b\", \"c\"], columns=[\"x\"])\n",
       ">>> df2 = pd.DataFrame(data=df1, index=[\"a\", \"c\"])\n",
       ">>> df2\n",
       "   x\n",
       "a  1\n",
       "c  3\n",
       "\u001b[0;31mFile:\u001b[0m           ~/opt/miniconda3/envs/py310_new/lib/python3.10/site-packages/pandas/core/frame.py\n",
       "\u001b[0;31mType:\u001b[0m           type\n",
       "\u001b[0;31mSubclasses:\u001b[0m     SubclassedDataFrame"
      ]
     },
     "metadata": {},
     "output_type": "display_data"
    }
   ],
   "source": [
    "pd.DataFrame?"
   ]
  },
  {
   "cell_type": "code",
   "execution_count": null,
   "id": "c182d31a-25b6-45b9-9e71-aa1a55b30415",
   "metadata": {},
   "outputs": [],
   "source": []
  },
  {
   "cell_type": "code",
   "execution_count": null,
   "id": "6f51292a-cd15-4054-b6f3-7ababf55403f",
   "metadata": {},
   "outputs": [],
   "source": []
  },
  {
   "cell_type": "code",
   "execution_count": null,
   "id": "ffea1808-11f2-44dc-a2ce-ddd5172900aa",
   "metadata": {},
   "outputs": [],
   "source": [
    "import pandas as pd\n",
    "import json\n",
    "import requests"
   ]
  },
  {
   "cell_type": "code",
   "execution_count": null,
   "id": "7378534b-3578-40d5-ae91-1a61c2280b35",
   "metadata": {},
   "outputs": [],
   "source": [
    "def get_sql_api(api_name):#暂时app的id没有暴露\n",
    "\n",
    "    url = \"http://180.184.80.35:6688/aiquant-mark/page-data/queryApi\"  \n",
    "    param={'apiName':api_name}\n",
    "    response = requests.get(url,params=param)  \n",
    "    return response.json()"
   ]
  },
  {
   "cell_type": "code",
   "execution_count": null,
   "id": "4290b05a-9718-49b6-9e18-43e23b16a247",
   "metadata": {},
   "outputs": [],
   "source": [
    "class CheckApi:\n",
    "        \"\"\"\n",
    "    检查项目:\n",
    "        1. 字符类型【value_type】，string,int\n",
    "        2. 词组长度【value_length】，对描述要求满足单词的最小长度\n",
    "        3. 是否为空【value_ exact】，有的数据不允许为空\n",
    "        4. 殊规则的制定【value_ special】，比如response返回值是一个json类文本，但是某些api会出现一个字符串\n",
    "        5. 数据的值是否准确【value_right】，比如api_name是否和id对应\n",
    "        6. url链接地址是否可用【url_require】，请求返回结果status是否是200\n",
    "        7. 描述语义是否准确【description_accurate】\n",
    "        8. 显示是否准确【desplay_accurate】，比如display_name大小写问题\n",
    "        9. 数据类型是否准确【value_format】，比如url,枚举,array:object等\n",
    "        10. 数据范围是否准确【value_range】，是否在枚举范围内，比如调用方式在GET/POST/DELETE/UPDATE之间选择\n",
    "        11. 行内的不同列数据与数据之间是否满足关联性要求【value_map】，比如type为枚举时，参数是多选1是否满足\n",
    "\n",
    "    输出规则\n",
    "          check_type  check_result\n",
    "       0 value_exact     True\n",
    "       1 value_type      True\n",
    "       2 value_right     False\n",
    "    \"\"\"\n",
    "    \n",
    "    \n",
    "    def __init__(self,data):\n",
    "        self.data=data\n",
    "        \n",
    "    def _check_app_name(self,data,app_name):\n",
    "        \"\"\"\n",
    "        ● 检查规则\n",
    "          ○ 是否为空：不允许为空\n",
    "          ○ 字符类型：string\n",
    "          ○ 数据值是否准确：查找app表进行字符对比\n",
    "        \"\"\"\n",
    "        \n",
    "        result = {\n",
    "            'value_exact':True if data else False,\n",
    "            'value_type':True if isinstance(data,str) else False,\n",
    "            'value_right':self._check_value_right_app(data,app_name,key='appName'),\n",
    "        }\n",
    "        res = pd.DataFrame([result]).T.reset_index()\n",
    "        res.columns=['check_type','check_result']\n",
    "        return res\n",
    "    "
   ]
  },
  {
   "cell_type": "code",
   "execution_count": null,
   "id": "7c5420fb-2a50-4f3d-a4b9-fc9d139f302e",
   "metadata": {},
   "outputs": [],
   "source": []
  },
  {
   "cell_type": "code",
   "execution_count": null,
   "id": "fd5c8ad2-b269-4a0b-ba68-d4b87b98cb30",
   "metadata": {},
   "outputs": [],
   "source": []
  },
  {
   "cell_type": "code",
   "execution_count": null,
   "id": "90fb9fb4-9d09-40e9-9bf5-38d0c1815204",
   "metadata": {},
   "outputs": [],
   "source": []
  },
  {
   "cell_type": "code",
   "execution_count": null,
   "id": "1a42e781-8066-4463-b5cf-4695c4a59581",
   "metadata": {},
   "outputs": [],
   "source": []
  },
  {
   "cell_type": "code",
   "execution_count": null,
   "id": "a2dc8df4-42cf-4d08-9b36-1c4b36f064e8",
   "metadata": {},
   "outputs": [],
   "source": []
  },
  {
   "cell_type": "code",
   "execution_count": null,
   "id": "80ef20fa-7d76-4602-b53b-adf21cdc28cc",
   "metadata": {},
   "outputs": [],
   "source": []
  },
  {
   "cell_type": "code",
   "execution_count": 4,
   "id": "5ee0c5fe-623f-4ac5-9e69-a408a141f575",
   "metadata": {
    "tags": []
   },
   "outputs": [],
   "source": [
    "def check_app_description(data:str,app_name)->pd.DataFrame:\n",
    "    \"\"\"\n",
    "    ● 检查规则\n",
    "      ○ 是否为空：不允许为空\n",
    "      ○ 字符类型：string\n",
    "      ○ 词组长度：100\n",
    "    \n",
    "    检查项目:\n",
    "        1. 字符类型【value_type】，string,int\n",
    "        2. 词组长度【value_length】，对描述要求满足单词的最小长度\n",
    "        3. 是否为空【value_ exact】，有的数据不允许为空\n",
    "        4. 殊规则的制定【value_ special】，比如response返回值是一个json类文本，但是某些api会出现一个字符串\n",
    "        5. 数据的值是否准确【value_right】，比如api_name是否和id对应\n",
    "        6. url链接地址是否可用【url_require】，请求返回结果status是否是200\n",
    "        7. 描述语义是否准确【description_accurate】\n",
    "        8. 显示是否准确【desplay_accurate】，比如display_name大小写问题\n",
    "        9. 数据类型是否准确【value_format】，比如url,枚举,array:object等\n",
    "        10. 数据范围是否准确【value_range】，是否在枚举范围内，比如调用方式在GET/POST/DELETE/UPDATE之间选择\n",
    "        11. 行内的不同列数据与数据之间是否满足关联性要求【value_map】，比如type为枚举时，参数是多选1是否满足\n",
    "\n",
    "    输出规则\n",
    "          check_type  check_result\n",
    "       0 value_exact     True\n",
    "       1 value_type      True\n",
    "       2 value_right     False\n",
    "    \"\"\"\n",
    "    "
   ]
  },
  {
   "cell_type": "code",
   "execution_count": null,
   "id": "1caf98b9-7b72-45a1-a69e-b8d467791e38",
   "metadata": {},
   "outputs": [],
   "source": [
    "import unittest\n",
    "import pandas as pd\n",
    "from check_module import check_app_description  # 假设你的函数保存在 check_module.py 文件中\n",
    "\n",
    "class TestCheckAppDescription(unittest.TestCase):\n",
    "    def setUp(self):\n",
    "        self.app_name = \"test_app\"\n",
    "\n",
    "    def test_value_exact(self):\n",
    "        data = \"This is a test description with enough words to pass the length check.\"\n",
    "        result_df = check_app_description(data, self.app_name)\n",
    "        self.assertTrue(result_df[result_df['check_type'] == 'value_exact']['check_result'].iloc[0])\n",
    "\n",
    "    def test_value_type(self):\n",
    "        data = \"This is a test description with enough words to pass the length check.\"\n",
    "        result_df = check_app_description(data, self.app_name)\n",
    "        self.assertTrue(result_df[result_df['check_type'] == 'value_type']['check_result'].iloc[0])\n",
    "\n",
    "    def test_value_length(self):\n",
    "        data = \"This is a test description with enough words to pass the length check. \" * 2\n",
    "        result_df = check_app_description(data, self.app_name)\n",
    "        self.assertTrue(result_df[result_df['check_type'] == 'value_length']['check_result'].iloc[0])\n",
    "\n",
    "    def test_value_exact_fail(self):\n",
    "        data = \"\"\n",
    "        result_df = check_app_description(data, self.app_name)\n",
    "        self.assertFalse(result_df[result_df['check_type'] == 'value_exact']['check_result'].iloc[0])\n",
    "\n",
    "    def test_value_type_fail(self):\n",
    "        data = 123\n",
    "        result_df = check_app_description(data, self.app_name)\n",
    "        self.assertFalse(result_df[result_df['check_type'] == 'value_type']['check_result'].iloc[0])\n",
    "\n",
    "    def test_value_length_fail(self):\n",
    "        data = \"Short description.\"\n",
    "        result_df = check_app_description(data, self.app_name)\n",
    "        self.assertFalse(result_df[result_df['check_type'] == 'value_length']['check_result'].iloc[0])\n",
    "\n",
    "if __name__ == '__main__':\n",
    "    unittest.main()\n"
   ]
  },
  {
   "cell_type": "code",
   "execution_count": 8,
   "id": "cde7a120-d709-46a3-a505-b0f4f2cb044c",
   "metadata": {
    "tags": []
   },
   "outputs": [],
   "source": [
    "import pandas as pd\n",
    "import json\n",
    "import requests\n",
    "\n",
    "def check_app_description(data: str, app_name) -> pd.DataFrame:\n",
    "    checks = [\n",
    "        ('value_exact', data is not None and data != ''),\n",
    "        ('value_type', isinstance(data, str)),\n",
    "        ('value_length', len(data.split()) >= 100 if isinstance(data, str) else False)\n",
    "    ]\n",
    "    results = [{'check_type': check_type, 'check_result': check_result} for check_type, check_result in checks]\n",
    "    return pd.DataFrame(results)\n"
   ]
  },
  {
   "cell_type": "code",
   "execution_count": 10,
   "id": "405478cf-e89a-4390-b7a6-587e81f65c67",
   "metadata": {
    "tags": []
   },
   "outputs": [],
   "source": [
    "data = \"This is a test description with enough words to pass the length check.\""
   ]
  },
  {
   "cell_type": "code",
   "execution_count": 12,
   "id": "c77fd3bb-f142-4a8d-b16d-9853d02d10ba",
   "metadata": {
    "tags": []
   },
   "outputs": [
    {
     "data": {
      "text/html": [
       "<div>\n",
       "<style scoped>\n",
       "    .dataframe tbody tr th:only-of-type {\n",
       "        vertical-align: middle;\n",
       "    }\n",
       "\n",
       "    .dataframe tbody tr th {\n",
       "        vertical-align: top;\n",
       "    }\n",
       "\n",
       "    .dataframe thead th {\n",
       "        text-align: right;\n",
       "    }\n",
       "</style>\n",
       "<table border=\"1\" class=\"dataframe\">\n",
       "  <thead>\n",
       "    <tr style=\"text-align: right;\">\n",
       "      <th></th>\n",
       "      <th>check_type</th>\n",
       "      <th>check_result</th>\n",
       "    </tr>\n",
       "  </thead>\n",
       "  <tbody>\n",
       "    <tr>\n",
       "      <th>0</th>\n",
       "      <td>value_exact</td>\n",
       "      <td>True</td>\n",
       "    </tr>\n",
       "    <tr>\n",
       "      <th>1</th>\n",
       "      <td>value_type</td>\n",
       "      <td>True</td>\n",
       "    </tr>\n",
       "    <tr>\n",
       "      <th>2</th>\n",
       "      <td>value_length</td>\n",
       "      <td>False</td>\n",
       "    </tr>\n",
       "  </tbody>\n",
       "</table>\n",
       "</div>"
      ],
      "text/plain": [
       "     check_type  check_result\n",
       "0   value_exact          True\n",
       "1    value_type          True\n",
       "2  value_length         False"
      ]
     },
     "execution_count": 12,
     "metadata": {},
     "output_type": "execute_result"
    }
   ],
   "source": [
    "check_app_description(data,'test')"
   ]
  },
  {
   "cell_type": "code",
   "execution_count": null,
   "id": "2bedfa36-66eb-4037-a796-0083fa7da21d",
   "metadata": {},
   "outputs": [],
   "source": []
  },
  {
   "cell_type": "code",
   "execution_count": null,
   "id": "d073ff25-7309-4012-8b59-d25a0a36d9de",
   "metadata": {},
   "outputs": [],
   "source": [
    "# others"
   ]
  },
  {
   "cell_type": "code",
   "execution_count": null,
   "id": "a40b65f5-664b-458d-9c7d-df08325f66bd",
   "metadata": {},
   "outputs": [],
   "source": [
    "class Labels():\n",
    "    def __init__(self):\n",
    "    \n",
    "    def spider(self,url):\n",
    "        \n",
    "        html = spider_url(url)\n",
    "        return html\n",
    "    \n",
    "    \n",
    "    def data_clean(self,html):\n",
    "        dct = {}\n",
    "        return dct\n",
    "    \n",
    "    \n",
    "    def data_deal(self,dct):\n",
    "        # 将字典整理成特定格式\n",
    "        return dct_final\n",
    "    \n",
    "    \n",
    "    def person_check(self,):\n",
    "        pass\n",
    "    \n",
    "    def output(self):\n",
    "        pass\n",
    "    \n",
    "    def run(self):\n",
    "        pass\n",
    "    \n",
    "    def thread_run(self):\n",
    "        pass"
   ]
  },
  {
   "cell_type": "code",
   "execution_count": null,
   "id": "7fac4878-7772-43fe-8d46-2f0121c59135",
   "metadata": {},
   "outputs": [],
   "source": []
  },
  {
   "cell_type": "code",
   "execution_count": 3,
   "id": "ed304f5b-efc1-4868-b870-6b5d00772c10",
   "metadata": {
    "tags": []
   },
   "outputs": [],
   "source": [
    "class Spider():\n",
    "    def __init__(self,url):\n",
    "        self.url = url\n",
    "        \n",
    "        \n",
    "    def get_html_by_selenium(self):\n",
    "        pass\n",
    "        \n",
    "    def get_html(self,by)->str:\n",
    "        \"\"\"\n",
    "        get html from url\n",
    "        \"\"\"\n",
    "        self.url\n",
    "        \n",
    "\n",
    "        html = ''\n",
    "        return html\n"
   ]
  },
  {
   "cell_type": "code",
   "execution_count": 15,
   "id": "095b577b-84ae-45ba-a7d5-d6d57443ba50",
   "metadata": {
    "tags": []
   },
   "outputs": [],
   "source": [
    "class OptionalData():\n",
    "    bb = '23'"
   ]
  },
  {
   "cell_type": "code",
   "execution_count": 25,
   "id": "fb7bac17-b263-43e9-b8fa-79d1f90a6de8",
   "metadata": {
    "tags": []
   },
   "outputs": [],
   "source": [
    "class OptionalDataForBaidu():\n",
    "    bb = '43'"
   ]
  },
  {
   "cell_type": "code",
   "execution_count": 16,
   "id": "d56da08d-200b-4c6b-95a1-fd0b2aa470f5",
   "metadata": {
    "tags": []
   },
   "outputs": [],
   "source": [
    "class RequiredData():\n",
    "    cc = '23'"
   ]
  },
  {
   "cell_type": "code",
   "execution_count": 17,
   "id": "3956ce6a-cc6e-466b-84eb-5f8c1a7ee359",
   "metadata": {
    "tags": []
   },
   "outputs": [],
   "source": [
    "class CleanedDataStructure():\n",
    "    opdata = OptionalData\n",
    "    redata = RequiredData"
   ]
  },
  {
   "cell_type": "code",
   "execution_count": 26,
   "id": "e12200f2-23d6-4b8c-afd4-da25d7eb8e77",
   "metadata": {
    "tags": []
   },
   "outputs": [],
   "source": [
    "class CleanedDataStructureForBaidu(CleanedDataStructure):\n",
    "    opdata = OptionalDataForBaidu"
   ]
  },
  {
   "cell_type": "code",
   "execution_count": 32,
   "id": "35155708-d321-44dd-b68c-83d99e91fac1",
   "metadata": {
    "tags": []
   },
   "outputs": [
    {
     "data": {
      "text/plain": [
       "234"
      ]
     },
     "execution_count": 32,
     "metadata": {},
     "output_type": "execute_result"
    }
   ],
   "source": [
    "CleanedDataStructureForBaidu.opdata.bb"
   ]
  },
  {
   "cell_type": "code",
   "execution_count": 31,
   "id": "4b842a31-28ea-4c89-97cc-8d042b5230f4",
   "metadata": {
    "tags": []
   },
   "outputs": [],
   "source": [
    "OptionalDataForBaidu.bb = 234"
   ]
  },
  {
   "cell_type": "code",
   "execution_count": null,
   "id": "ded8c317-b4bb-4df1-9440-80f251dcfd27",
   "metadata": {},
   "outputs": [],
   "source": [
    "class Cleaner():\n",
    "    def __init__(self,html):\n",
    "        self.html = html\n",
    "        \n",
    "    def clean_html(self)->dict:\n",
    "        \"\"\"\n",
    "        clean data\n",
    "        \"\"\"\n",
    "        self.html\n",
    "        \n",
    "        dics = {}\n",
    "        return dics\n",
    "\n",
    "    def data_clean(self,html):\n",
    "        dct = {}\n",
    "        return dct"
   ]
  },
  {
   "cell_type": "code",
   "execution_count": 84,
   "id": "86ce0789-4b4e-40a1-ab55-02cf00666cde",
   "metadata": {
    "tags": []
   },
   "outputs": [],
   "source": [
    "from abc import ABC,abstractmethod"
   ]
  },
  {
   "cell_type": "code",
   "execution_count": 86,
   "id": "b6c50caf-f642-4353-96a5-e23249be74cc",
   "metadata": {
    "tags": []
   },
   "outputs": [],
   "source": [
    "from pandas import DataFrame"
   ]
  },
  {
   "cell_type": "code",
   "execution_count": 85,
   "id": "8a39be9c-3be9-45f2-896e-341d9c6af1ea",
   "metadata": {
    "tags": []
   },
   "outputs": [],
   "source": [
    "class DataDeal(ABC):\n",
    "    data:DataFrame\n",
    "    \n",
    "    @abstractmethod\n",
    "    def get_info(data):\n",
    "        pass\n",
    "    \n",
    "    @abstractmethod\n",
    "    def generate_info(self,text:str)->str:\n",
    "        pass\n",
    "    \n",
    "    @abstractmethod\n",
    "    def extract_info(self,text:str)->str:\n",
    "        pass\n",
    "    \n",
    "    @abstractmethod\n",
    "    def save_info(self,text:str,path:str)->bool:\n",
    "        pass\n",
    "    \n",
    "    \n",
    "    def deal(self,inputs:str):\n",
    "        pass\n",
    "        \n",
    "    \n",
    "        \n",
    "    \n",
    "    "
   ]
  },
  {
   "cell_type": "code",
   "execution_count": 88,
   "id": "c6995696-ea46-4670-acf8-936850628477",
   "metadata": {
    "tags": []
   },
   "outputs": [],
   "source": [
    "class PersonCheck(ABC):\n",
    "    \n",
    "    @abstractmethod\n",
    "    def data_to(self,path):\n",
    "        pass\n",
    "  "
   ]
  },
  {
   "cell_type": "code",
   "execution_count": null,
   "id": "231a9c47-a600-4bb4-bfd2-ab8a87dd9c22",
   "metadata": {},
   "outputs": [],
   "source": []
  },
  {
   "cell_type": "code",
   "execution_count": null,
   "id": "91772a1c-9c70-4c3e-9dc6-5897e383ecba",
   "metadata": {},
   "outputs": [],
   "source": []
  },
  {
   "cell_type": "code",
   "execution_count": null,
   "id": "59edf25d-b85d-4064-b707-cb947eb114e8",
   "metadata": {},
   "outputs": [],
   "source": []
  },
  {
   "cell_type": "code",
   "execution_count": null,
   "id": "cc69b385-7ffe-432d-809d-f7a989032314",
   "metadata": {},
   "outputs": [],
   "source": []
  },
  {
   "cell_type": "code",
   "execution_count": null,
   "id": "f26e9b6b-892f-4c20-b3a9-c749c6782747",
   "metadata": {},
   "outputs": [],
   "source": []
  },
  {
   "cell_type": "code",
   "execution_count": null,
   "id": "a1a7cca1-3764-4f03-9bdd-e100f43eb2a6",
   "metadata": {},
   "outputs": [],
   "source": [
    "mode: The operational mode or type of operation being performed.\n",
    "id: A unique identifier for the item or entry.\n",
    "allIdeas: Likely a collection or list of ideas, possibly related to brainstorming or content generation.\n",
    "updatedAt: The date and time when the item was last updated.\n",
    "del_reason: The reason for deletion, if the item has been deleted.\n",
    "backlinks: Links that point to the current page or item from other sources.\n",
    "redirectChain: A series of redirects that have led to the current URL.\n",
    "canonical: The canonical URL of the page, used to avoid duplicate content issues in SEO.\n",
    "urlFrom: The source URL or the original URL before redirection.\n",
    "rss: An RSS feed URL or related information.\n",
    "url: The current URL of the item.\n",
    "signatureInfo: Information related to a digital signature or verification.\n",
    "traffic: Information about web traffic or visitors.\n",
    "value: A generic field that can hold a value, possibly related to the item's worth or a specific metric.\n",
    "type: The type or category of the item.\n",
    "county-fips: The FIPS code for a county in the United States.\n",
    "counties: A list of counties, possibly related to geographic data.\n",
    "features: A list of features or characteristics of the item.\n",
    "funcstat: Functional status, possibly related to the item's operational state.\n",
    "properties: Additional properties or attributes of the item.\n",
    "y: Likely a coordinate or a value on the Y-axis, possibly in geographic or graphical data.\n",
    "High: A field indicating a high value or upper limit.\n",
    "AgeRange: The age range associated with the item.\n",
    "x: Likely a coordinate or a value on the X-axis, possibly in geographic or graphical data.\n",
    "statusCode: The HTTP status code related to the URL or API response."
   ]
  },
  {
   "cell_type": "code",
   "execution_count": null,
   "id": "c1f51c44-f6ca-4db2-a285-41ace65bd5fe",
   "metadata": {},
   "outputs": [],
   "source": []
  },
  {
   "cell_type": "code",
   "execution_count": null,
   "id": "06398c5f-618f-48d0-a9b9-7f595d076873",
   "metadata": {},
   "outputs": [],
   "source": []
  },
  {
   "cell_type": "code",
   "execution_count": null,
   "id": "b9a81dc8-a2d9-49a5-8625-434fa12c839e",
   "metadata": {},
   "outputs": [],
   "source": []
  },
  {
   "cell_type": "code",
   "execution_count": null,
   "id": "91aa7e5d-ce3b-423f-bdcc-76adc168f935",
   "metadata": {},
   "outputs": [],
   "source": []
  },
  {
   "cell_type": "code",
   "execution_count": 33,
   "id": "db4e2b8a-795f-46e0-be4f-79f7957dc52f",
   "metadata": {
    "tags": []
   },
   "outputs": [
    {
     "name": "stdout",
     "output_type": "stream",
     "text": [
      "CountStack: [1]\n",
      "CountStack: [2, 3]\n",
      "2\n"
     ]
    }
   ],
   "source": [
    "class CountStack:\n",
    "    instance_count = 0  # 类变量，用于跟踪实例数量\n",
    "\n",
    "    def __init__(self):\n",
    "        self.items = []\n",
    "        CountStack.instance_count += 1  # 每创建一个实例，计数加一\n",
    "\n",
    "    def is_empty(self):\n",
    "        return len(self.items) == 0\n",
    "\n",
    "    def push(self, item):\n",
    "        self.items.append(item)\n",
    "\n",
    "    def pop(self):\n",
    "        if self.is_empty():\n",
    "            return None\n",
    "        return self.items.pop()\n",
    "\n",
    "    def peek(self):\n",
    "        if self.is_empty():\n",
    "            return None\n",
    "        return self.items[-1]\n",
    "\n",
    "    def size(self):\n",
    "        return len(self.items)\n",
    "\n",
    "    @classmethod\n",
    "    def get_instance_count(cls):\n",
    "        return cls.instance_count  # 返回当前的实例数量\n",
    "\n",
    "    def __str__(self):\n",
    "        return \"CountStack: \" + str(self.items)\n",
    "\n",
    "# 使用自定义的数据结构\n",
    "stack1 = CountStack()\n",
    "stack2 = CountStack()\n",
    "stack1.push(1)\n",
    "stack2.push(2)\n",
    "stack2.push(3)\n",
    "\n",
    "print(stack1)  # 输出: CountStack: [1]\n",
    "print(stack2)  # 输出: CountStack: [2, 3]\n",
    "\n",
    "# 获取当前实例数量\n",
    "print(CountStack.get_instance_count())  # 输出: 2\n"
   ]
  },
  {
   "cell_type": "code",
   "execution_count": 36,
   "id": "1fbf9f29-6114-4f8b-995b-58eeb3b6fbed",
   "metadata": {
    "tags": []
   },
   "outputs": [],
   "source": [
    "class CountStack:\n",
    "    instance_count = 0  # 类变量，用于跟踪实例数量\n",
    "\n",
    "    def __init__(self):\n",
    "        self.items = []\n",
    "        CountStack.instance_count += 1  # 每创建一个实例，计数加一\n",
    "\n",
    "    def is_empty(self):\n",
    "        return len(self.items) == 0\n",
    "\n",
    "    def push(self, item):\n",
    "        self.items.append(item)\n",
    "\n",
    "    def pop(self):\n",
    "        if self.is_empty():\n",
    "            return None\n",
    "        return self.items.pop()\n",
    "\n",
    "    def peek(self):\n",
    "        if self.is_empty():\n",
    "            return None\n",
    "        return self.items[-1]\n",
    "\n",
    "    def size(self):\n",
    "        return len(self.items)\n",
    "\n",
    "    @classmethod\n",
    "    def get_instance_count(cls):\n",
    "        return cls.instance_count  # 返回当前的实例数量\n",
    "\n",
    "    def __str__(self):\n",
    "        return \"CountStack: \" + str(self.items)\n"
   ]
  },
  {
   "cell_type": "code",
   "execution_count": 37,
   "id": "b8c14d5f-7dec-4e18-8f05-72cac03229aa",
   "metadata": {
    "tags": []
   },
   "outputs": [],
   "source": [
    "a = CountStack()"
   ]
  },
  {
   "cell_type": "code",
   "execution_count": 38,
   "id": "1dda12cd-858c-4134-8612-db15d6eacd3a",
   "metadata": {
    "tags": []
   },
   "outputs": [],
   "source": [
    "b = CountStack()"
   ]
  },
  {
   "cell_type": "code",
   "execution_count": 41,
   "id": "5def1712-ddc0-477c-bb69-c926f7f3d1b4",
   "metadata": {
    "tags": []
   },
   "outputs": [],
   "source": [
    "a.instance_count = 4"
   ]
  },
  {
   "cell_type": "code",
   "execution_count": 50,
   "id": "2c008f91-bd9c-4892-a436-fcb02922ad97",
   "metadata": {
    "tags": []
   },
   "outputs": [
    {
     "data": {
      "text/plain": [
       "4"
      ]
     },
     "execution_count": 50,
     "metadata": {},
     "output_type": "execute_result"
    }
   ],
   "source": [
    "a.instance_count"
   ]
  },
  {
   "cell_type": "code",
   "execution_count": 51,
   "id": "0d6836ae-ccec-489c-a8ff-deadcf0c02df",
   "metadata": {
    "tags": []
   },
   "outputs": [
    {
     "data": {
      "text/plain": [
       "10"
      ]
     },
     "execution_count": 51,
     "metadata": {},
     "output_type": "execute_result"
    }
   ],
   "source": [
    "b.instance_count"
   ]
  },
  {
   "cell_type": "code",
   "execution_count": null,
   "id": "06167396-959d-4fad-99b2-bbee134b527f",
   "metadata": {},
   "outputs": [],
   "source": []
  },
  {
   "cell_type": "code",
   "execution_count": 44,
   "id": "a394b975-74dd-4a68-b692-54efb495680c",
   "metadata": {
    "tags": []
   },
   "outputs": [],
   "source": [
    "c = CountStack()"
   ]
  },
  {
   "cell_type": "code",
   "execution_count": 47,
   "id": "a3275610-7726-4584-9f52-360717496378",
   "metadata": {
    "tags": []
   },
   "outputs": [
    {
     "data": {
      "text/plain": [
       "10"
      ]
     },
     "execution_count": 47,
     "metadata": {},
     "output_type": "execute_result"
    }
   ],
   "source": [
    "c.instance_count"
   ]
  },
  {
   "cell_type": "code",
   "execution_count": 46,
   "id": "c81ceb56-74c6-4bf3-9235-9d64ec4e9515",
   "metadata": {
    "tags": []
   },
   "outputs": [],
   "source": [
    "CountStack.instance_count =10"
   ]
  },
  {
   "cell_type": "code",
   "execution_count": null,
   "id": "049a3380-e53e-45da-81fe-9c0041a73347",
   "metadata": {},
   "outputs": [],
   "source": []
  },
  {
   "cell_type": "markdown",
   "id": "a42d8b23-8822-483f-9a40-fe32156784b2",
   "metadata": {},
   "source": [
    "# 创建型"
   ]
  },
  {
   "cell_type": "code",
   "execution_count": 52,
   "id": "5428c3a5-cc11-4f41-96ac-bd2104b2142c",
   "metadata": {
    "tags": []
   },
   "outputs": [],
   "source": [
    "# 单例模式\n",
    "class Singleton:\n",
    "    _instance = None\n",
    "\n",
    "    def __new__(cls):\n",
    "        if not cls._instance:\n",
    "            cls._instance = super().__new__(cls)\n",
    "        return cls._instance\n"
   ]
  },
  {
   "cell_type": "code",
   "execution_count": 62,
   "id": "a898e5d2-85af-409e-b6fc-32aa069cf139",
   "metadata": {
    "tags": []
   },
   "outputs": [],
   "source": [
    "# 工厂方法模式\n",
    "# 但由子类决定实例化哪一个类。这样，工厂方法模式使得一个类的实例化延迟到其子类。\n",
    "class Product:\n",
    "    @abstractmethod\n",
    "    def operation(self):\n",
    "        pass\n",
    "\n",
    "\n",
    "class ConcreteProduct(Product):\n",
    "    pass\n",
    "\n",
    "class Creator:\n",
    "    def factory_method(self):\n",
    "        return ConcreteProduct()\n"
   ]
  },
  {
   "cell_type": "code",
   "execution_count": 77,
   "id": "26847251-4392-4e18-8b06-84bb81476bb5",
   "metadata": {
    "tags": []
   },
   "outputs": [],
   "source": [
    "from abc import ABC, abstractmethod\n",
    "\n",
    "# 1. ABC (Abstract Base Class)\n",
    "\n",
    "# ABC 是一个抽象基类，用于标识类是抽象的，不能直接实例化。它主要用于创建需要被继承并且实现特定方法的基类。\n",
    "\n",
    "# 2. abstractmethod\n",
    "\n",
    "# abstractmethod 是一个装饰器，用于标识抽象方法。抽象方法是一个在基类中声明但没有具体实现的方法。任何子类都必须实现这些抽象方法，否则该子类也将是抽象的，不能实例化。"
   ]
  },
  {
   "cell_type": "code",
   "execution_count": 78,
   "id": "044fc02c-598c-467b-ace7-f2816d7ef3bb",
   "metadata": {
    "tags": []
   },
   "outputs": [],
   "source": [
    "\n",
    "# 产品接口\n",
    "class Product(ABC):\n",
    "    @abstractmethod\n",
    "    def operation(self):\n",
    "        pass"
   ]
  },
  {
   "cell_type": "code",
   "execution_count": 79,
   "id": "1b054d04-35b0-4c31-bbe1-b94a39568998",
   "metadata": {
    "tags": []
   },
   "outputs": [],
   "source": [
    "# 创建者\n",
    "class Creator(ABC):\n",
    "    @abstractmethod\n",
    "    def factory_method(self) -> Product:\n",
    "        pass\n",
    "\n",
    "    def some_operation(self) -> str:\n",
    "        # 调用工厂方法创建产品\n",
    "        product = self.factory_method()\n",
    "        result = f\"Creator: The same creator's code has just worked with {product.operation()}\"\n",
    "        return result"
   ]
  },
  {
   "cell_type": "code",
   "execution_count": null,
   "id": "a2b4830e-25b0-4209-a020-8f8f660690d6",
   "metadata": {},
   "outputs": [],
   "source": []
  },
  {
   "cell_type": "code",
   "execution_count": 76,
   "id": "74ce7324-faee-4985-97f8-3b239f8fbbf1",
   "metadata": {
    "tags": []
   },
   "outputs": [
    {
     "name": "stdout",
     "output_type": "stream",
     "text": [
      "App: Launched with ConcreteCreatorA.\n",
      "Client: I'm not aware of the creator's class, but it still works.\n",
      "Creator: The same creator's code has just worked with ConcreteProductA operation\n",
      "\n",
      "App: Launched with ConcreteCreatorB.\n",
      "Client: I'm not aware of the creator's class, but it still works.\n",
      "Creator: The same creator's code has just worked with ConcreteProductB operation\n"
     ]
    }
   ],
   "source": [
    "# 具体产品A\n",
    "class ConcreteProductA(Product):\n",
    "    def operation(self):\n",
    "        return \"ConcreteProductA operation\"\n",
    "\n",
    "# 具体产品B\n",
    "class ConcreteProductB(Product):\n",
    "    def operation(self):\n",
    "        return \"ConcreteProductB operation\"\n",
    "\n",
    "# 具体创建者A\n",
    "class ConcreteCreatorA(Creator):\n",
    "    def factory_method(self) -> Product:\n",
    "        return ConcreteProductA()\n",
    "\n",
    "# 具体创建者B\n",
    "class ConcreteCreatorB(Creator):\n",
    "    def factory_method(self) -> Product:\n",
    "        return ConcreteProductB()\n",
    "\n",
    "# 客户端代码\n",
    "def client_code(creator: Creator):\n",
    "    print(f\"Client: I'm not aware of the creator's class, but it still works.\\n\"\n",
    "          f\"{creator.some_operation()}\")\n",
    "\n",
    "if __name__ == \"__main__\":\n",
    "    print(\"App: Launched with ConcreteCreatorA.\")\n",
    "    client_code(ConcreteCreatorA())\n",
    "\n",
    "    print(\"\\nApp: Launched with ConcreteCreatorB.\")\n",
    "    client_code(ConcreteCreatorB())\n"
   ]
  },
  {
   "cell_type": "code",
   "execution_count": null,
   "id": "123a9243-5f5b-4a15-92ee-25c8c5916748",
   "metadata": {},
   "outputs": [],
   "source": []
  },
  {
   "cell_type": "code",
   "execution_count": null,
   "id": "22615a74-4185-40bd-a082-efbc16891f46",
   "metadata": {},
   "outputs": [],
   "source": [
    "# 抽象工厂模式\n",
    "class AbstractFactory:\n",
    "    def create_product_a(self):\n",
    "        pass\n",
    "\n",
    "    def create_product_b(self):\n",
    "        pass\n"
   ]
  },
  {
   "cell_type": "code",
   "execution_count": null,
   "id": "5201e22e-83fc-4147-9b3c-588131b08dc1",
   "metadata": {},
   "outputs": [],
   "source": []
  },
  {
   "cell_type": "code",
   "execution_count": null,
   "id": "1bb7e9d1-57c8-41c5-891a-22ee1de8a426",
   "metadata": {},
   "outputs": [],
   "source": [
    "# 建造者模式\n",
    "# 将一个复杂对象的构建与它的表示分离，使得同样的构建过程可以创建不同的表示\n",
    "class Builder:\n",
    "    def build_part(self):\n",
    "        pass\n",
    "\n",
    "class Director:\n",
    "    def __init__(self, builder):\n",
    "        self.builder = builder\n",
    "\n",
    "    def construct(self):\n",
    "        self.builder.build_part()\n"
   ]
  },
  {
   "cell_type": "code",
   "execution_count": null,
   "id": "3187ca9b-6113-49b0-9cd4-673d1bdf363e",
   "metadata": {},
   "outputs": [],
   "source": []
  },
  {
   "cell_type": "code",
   "execution_count": 66,
   "id": "114bd993-9e9b-4b9e-8c6e-ed88dfd75aff",
   "metadata": {
    "tags": []
   },
   "outputs": [],
   "source": [
    "# 原型模式\n",
    "import copy\n",
    "\n",
    "class Prototype:\n",
    "    def clone(self):\n",
    "        return copy.deepcopy(self)\n"
   ]
  },
  {
   "cell_type": "code",
   "execution_count": null,
   "id": "32a1bbc2-a14b-4f5d-843f-3c87f27fe339",
   "metadata": {},
   "outputs": [],
   "source": []
  },
  {
   "cell_type": "code",
   "execution_count": 67,
   "id": "d5c7c2b6-7ce4-4aaa-bfa3-41d76866c450",
   "metadata": {
    "tags": []
   },
   "outputs": [],
   "source": [
    "pea = Prototype()"
   ]
  },
  {
   "cell_type": "code",
   "execution_count": 73,
   "id": "2f64aa2a-5993-4099-9594-19c3754197e3",
   "metadata": {
    "tags": []
   },
   "outputs": [],
   "source": [
    "pea.sx = 23"
   ]
  },
  {
   "cell_type": "code",
   "execution_count": null,
   "id": "ca8f60d3-e3a0-47a1-9dc1-a7b164536fbb",
   "metadata": {},
   "outputs": [],
   "source": []
  },
  {
   "cell_type": "code",
   "execution_count": 74,
   "id": "4084d87a-2aab-493d-8d5a-1150da68866b",
   "metadata": {
    "tags": []
   },
   "outputs": [],
   "source": [
    "cc = pea.clone()"
   ]
  },
  {
   "cell_type": "code",
   "execution_count": 75,
   "id": "97bd8ec3-71bf-4f68-843d-d0f994e8448d",
   "metadata": {
    "tags": []
   },
   "outputs": [
    {
     "data": {
      "text/plain": [
       "23"
      ]
     },
     "execution_count": 75,
     "metadata": {},
     "output_type": "execute_result"
    }
   ],
   "source": [
    "cc.sx"
   ]
  },
  {
   "cell_type": "code",
   "execution_count": null,
   "id": "0235c17d-feb5-445f-b101-48993b77ec7a",
   "metadata": {},
   "outputs": [],
   "source": []
  },
  {
   "cell_type": "code",
   "execution_count": null,
   "id": "6cf0ef7d-c8c2-4d41-aab2-adff002b8641",
   "metadata": {},
   "outputs": [],
   "source": []
  },
  {
   "cell_type": "markdown",
   "id": "b536d4e2-c53d-4739-abb5-348933b6e1ea",
   "metadata": {},
   "source": [
    "# 结构型模式"
   ]
  },
  {
   "cell_type": "code",
   "execution_count": null,
   "id": "d0ffd3a3-76c1-4c54-91e4-785610fe0531",
   "metadata": {},
   "outputs": [],
   "source": [
    "## 适配器模式"
   ]
  },
  {
   "cell_type": "code",
   "execution_count": 80,
   "id": "a9f97a9e-577a-4932-bca3-d3ac1feb9f32",
   "metadata": {
    "tags": []
   },
   "outputs": [],
   "source": [
    "class Target:\n",
    "    def request(self):\n",
    "        pass\n",
    "\n",
    "class Adapter(Target):\n",
    "    def __init__(self, adaptee):\n",
    "        self.adaptee = adaptee\n",
    "\n",
    "    def request(self):\n",
    "        self.adaptee.specific_request()\n"
   ]
  },
  {
   "cell_type": "code",
   "execution_count": null,
   "id": "b561ec9c-562f-4f71-ba6f-b800de3ec45f",
   "metadata": {},
   "outputs": [],
   "source": []
  },
  {
   "cell_type": "markdown",
   "id": "0be08b55-4123-4da0-80df-097669765b61",
   "metadata": {},
   "source": [
    "## 桥接模式"
   ]
  },
  {
   "cell_type": "code",
   "execution_count": 81,
   "id": "ab83cd53-ae38-4c2d-8d0f-01265cf143c0",
   "metadata": {
    "tags": []
   },
   "outputs": [],
   "source": [
    "class Abstraction:\n",
    "    def __init__(self, implementor):\n",
    "        self.implementor = implementor\n",
    "\n",
    "    def operation(self):\n",
    "        self.implementor.operation_impl()\n"
   ]
  },
  {
   "cell_type": "code",
   "execution_count": null,
   "id": "bf1b2c60-1575-4713-8970-2425a3831d39",
   "metadata": {},
   "outputs": [],
   "source": []
  },
  {
   "cell_type": "code",
   "execution_count": null,
   "id": "179c3394-6d58-499a-b6a4-c9ebeacc1653",
   "metadata": {},
   "outputs": [],
   "source": []
  },
  {
   "cell_type": "code",
   "execution_count": null,
   "id": "23c2d9f6-6903-4794-bb28-9f1bfad28c45",
   "metadata": {},
   "outputs": [],
   "source": []
  },
  {
   "cell_type": "code",
   "execution_count": null,
   "id": "03e53feb-c77f-42d8-8a00-f56938e1ba0b",
   "metadata": {},
   "outputs": [],
   "source": []
  },
  {
   "cell_type": "code",
   "execution_count": null,
   "id": "24b8e131-7d86-41ff-b27c-bed4f5551d09",
   "metadata": {},
   "outputs": [],
   "source": []
  },
  {
   "cell_type": "code",
   "execution_count": null,
   "id": "3da02bac-c93e-4e38-8fd3-966b051c0360",
   "metadata": {},
   "outputs": [],
   "source": []
  }
 ],
 "metadata": {
  "kernelspec": {
   "display_name": "Python 3 (ipykernel)",
   "language": "python",
   "name": "python3"
  },
  "language_info": {
   "codemirror_mode": {
    "name": "ipython",
    "version": 3
   },
   "file_extension": ".py",
   "mimetype": "text/x-python",
   "name": "python",
   "nbconvert_exporter": "python",
   "pygments_lexer": "ipython3",
   "version": "3.10.14"
  }
 },
 "nbformat": 4,
 "nbformat_minor": 5
}
