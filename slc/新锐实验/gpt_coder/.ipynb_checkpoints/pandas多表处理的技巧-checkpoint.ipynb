{
 "cells": [
  {
   "cell_type": "markdown",
   "metadata": {},
   "source": [
    "当然可以！以下是基于你的学习清单，针对可以代码实现的部分编写的详细教程。每个部分都包含了示例代码和解释。\n",
    "\n",
    "### 1. 基础知识复习\n",
    "\n",
    "#### Pandas基本操作\n",
    "\n"
   ]
  },
  {
   "cell_type": "code",
   "execution_count": 1,
   "metadata": {},
   "outputs": [
    {
     "name": "stdout",
     "output_type": "stream",
     "text": [
      "   A  B\n",
      "0  1  4\n",
      "1  2  5\n",
      "2  3  6\n",
      "0    1\n",
      "1    2\n",
      "2    3\n",
      "Name: A, dtype: int64\n",
      "   A  B\n",
      "1  2  5\n",
      "2  3  6\n",
      "   A  B  C\n",
      "0  1  4  5\n",
      "1  2  5  7\n",
      "2  3  6  9\n"
     ]
    }
   ],
   "source": [
    "import pandas as pd\n",
    "\n",
    "# 创建DataFrame\n",
    "data = {'A': [1, 2, 3], 'B': [4, 5, 6]}\n",
    "df = pd.DataFrame(data)\n",
    "print(df)\n",
    "\n",
    "# 数据选择与过滤\n",
    "print(df['A'])  # 选择列\n",
    "print(df[df['A'] > 1])  # 过滤行\n",
    "\n",
    "# 数据清洗与预处理\n",
    "df['C'] = df['A'] + df['B']  # 新增列\n",
    "df.dropna(inplace=True)  # 删除缺失值\n",
    "print(df)\n"
   ]
  },
  {
   "cell_type": "markdown",
   "metadata": {},
   "source": [
    "\n",
    "### 2. 数据合并与连接\n",
    "\n",
    "#### 合并（Merge）\n",
    "\n"
   ]
  },
  {
   "cell_type": "code",
   "execution_count": 2,
   "metadata": {},
   "outputs": [
    {
     "name": "stdout",
     "output_type": "stream",
     "text": [
      "  key  value1  value2\n",
      "0   B       2       4\n",
      "1   C       3       5\n",
      "  key  value1  value2\n",
      "0   A     1.0     NaN\n",
      "1   B     2.0     4.0\n",
      "2   C     3.0     5.0\n",
      "3   D     NaN     6.0\n",
      "  key  value1  value2\n",
      "0   A       1     NaN\n",
      "1   B       2     4.0\n",
      "2   C       3     5.0\n",
      "  key  value1  value2\n",
      "0   B     2.0       4\n",
      "1   C     3.0       5\n",
      "2   D     NaN       6\n"
     ]
    }
   ],
   "source": [
    "# 创建两个DataFrame\n",
    "df1 = pd.DataFrame({'key': ['A', 'B', 'C'], 'value1': [1, 2, 3]})\n",
    "df2 = pd.DataFrame({'key': ['B', 'C', 'D'], 'value2': [4, 5, 6]})\n",
    "\n",
    "# 内连接\n",
    "merged_inner = pd.merge(df1, df2, on='key', how='inner')\n",
    "print(merged_inner)\n",
    "\n",
    "# 外连接\n",
    "merged_outer = pd.merge(df1, df2, on='key', how='outer')\n",
    "print(merged_outer)\n",
    "\n",
    "# 左连接\n",
    "merged_left = pd.merge(df1, df2, on='key', how='left')\n",
    "print(merged_left)\n",
    "\n",
    "# 右连接\n",
    "merged_right = pd.merge(df1, df2, on='key', how='right')\n",
    "print(merged_right)\n"
   ]
  },
  {
   "cell_type": "markdown",
   "metadata": {},
   "source": [
    "\n",
    "#### 连接（Join）\n",
    "\n"
   ]
  },
  {
   "cell_type": "code",
   "execution_count": 3,
   "metadata": {},
   "outputs": [
    {
     "name": "stdout",
     "output_type": "stream",
     "text": [
      "     value1  value2\n",
      "key                \n",
      "B         2       4\n",
      "C         3       5\n"
     ]
    }
   ],
   "source": [
    "# 创建两个DataFrame\n",
    "df1 = pd.DataFrame({'key': ['A', 'B', 'C'], 'value1': [1, 2, 3]}).set_index('key')\n",
    "df2 = pd.DataFrame({'key': ['B', 'C', 'D'], 'value2': [4, 5, 6]}).set_index('key')\n",
    "\n",
    "# 使用join进行连接\n",
    "joined = df1.join(df2, how='inner')\n",
    "print(joined)\n"
   ]
  },
  {
   "cell_type": "markdown",
   "metadata": {},
   "source": [
    "\n",
    "#### 连接轴（Concatenation）\n",
    "\n"
   ]
  },
  {
   "cell_type": "code",
   "execution_count": 4,
   "metadata": {},
   "outputs": [
    {
     "name": "stdout",
     "output_type": "stream",
     "text": [
      "    A   B\n",
      "0  A0  B0\n",
      "1  A1  B1\n",
      "2  A2  B2\n",
      "0  A3  B3\n",
      "1  A4  B4\n",
      "2  A5  B5\n",
      "    A   B   A   B\n",
      "0  A0  B0  A3  B3\n",
      "1  A1  B1  A4  B4\n",
      "2  A2  B2  A5  B5\n"
     ]
    }
   ],
   "source": [
    "# 创建两个DataFrame\n",
    "df1 = pd.DataFrame({'A': ['A0', 'A1', 'A2'], 'B': ['B0', 'B1', 'B2']})\n",
    "df2 = pd.DataFrame({'A': ['A3', 'A4', 'A5'], 'B': ['B3', 'B4', 'B5']})\n",
    "\n",
    "# 沿行连接\n",
    "concat_rows = pd.concat([df1, df2], axis=0)\n",
    "print(concat_rows)\n",
    "\n",
    "# 沿列连接\n",
    "concat_cols = pd.concat([df1, df2], axis=1)\n",
    "print(concat_cols)\n"
   ]
  },
  {
   "cell_type": "markdown",
   "metadata": {},
   "source": [
    "\n",
    "### 3. 数据透视表与交叉表\n",
    "\n",
    "#### 数据透视表（Pivot Table）\n",
    "\n"
   ]
  },
  {
   "cell_type": "code",
   "execution_count": 5,
   "metadata": {},
   "outputs": [
    {
     "name": "stdout",
     "output_type": "stream",
     "text": [
      "C        large  small\n",
      "A   B                \n",
      "bar one    4.0    3.0\n",
      "    two    NaN    3.0\n",
      "foo one    2.0    1.0\n",
      "    two    2.0    NaN\n"
     ]
    }
   ],
   "source": [
    "# 创建DataFrame\n",
    "data = {'A': ['foo', 'foo', 'foo', 'bar', 'bar', 'bar'],\n",
    "        'B': ['one', 'one', 'two', 'two', 'one', 'one'],\n",
    "        'C': ['small', 'large', 'large', 'small', 'small', 'large'],\n",
    "        'D': [1, 2, 2, 3, 3, 4]}\n",
    "df = pd.DataFrame(data)\n",
    "\n",
    "# 创建数据透视表\n",
    "pivot_table = pd.pivot_table(df, values='D', index=['A', 'B'], columns=['C'], aggfunc='sum')\n",
    "print(pivot_table)\n"
   ]
  },
  {
   "cell_type": "markdown",
   "metadata": {},
   "source": [
    "\n",
    "#### 交叉表（Crosstab）\n",
    "\n"
   ]
  },
  {
   "cell_type": "code",
   "execution_count": 6,
   "metadata": {},
   "outputs": [
    {
     "name": "stdout",
     "output_type": "stream",
     "text": [
      "C    large  small\n",
      "A                \n",
      "bar      1      2\n",
      "foo      2      1\n"
     ]
    }
   ],
   "source": [
    "# 创建交叉表\n",
    "crosstab = pd.crosstab(df['A'], df['C'])\n",
    "print(crosstab)\n"
   ]
  },
  {
   "cell_type": "markdown",
   "metadata": {},
   "source": [
    "\n",
    "### 4. 重塑与透视\n",
    "\n",
    "#### 重塑（Reshape）\n",
    "\n"
   ]
  },
  {
   "cell_type": "code",
   "execution_count": 7,
   "metadata": {},
   "outputs": [
    {
     "name": "stdout",
     "output_type": "stream",
     "text": [
      "     A variable  value\n",
      "0  foo        B      1\n",
      "1  bar        B      2\n",
      "2  baz        B      3\n",
      "3  foo        C      4\n",
      "4  bar        C      5\n",
      "5  baz        C      6\n"
     ]
    }
   ],
   "source": [
    "# 创建DataFrame\n",
    "data = {'A': ['foo', 'bar', 'baz'], 'B': [1, 2, 3], 'C': [4, 5, 6]}\n",
    "df = pd.DataFrame(data)\n",
    "\n",
    "# 使用melt函数\n",
    "melted = pd.melt(df, id_vars=['A'], value_vars=['B', 'C'])\n",
    "print(melted)\n"
   ]
  },
  {
   "cell_type": "markdown",
   "metadata": {},
   "source": [
    "\n",
    "#### 透视（Pivot）\n",
    "\n"
   ]
  },
  {
   "cell_type": "code",
   "execution_count": 8,
   "metadata": {},
   "outputs": [
    {
     "name": "stdout",
     "output_type": "stream",
     "text": [
      "B    one  two\n",
      "A            \n",
      "bar    3    4\n",
      "foo    1    2\n"
     ]
    }
   ],
   "source": [
    "# 创建DataFrame\n",
    "data = {'A': ['foo', 'foo', 'bar', 'bar'], 'B': ['one', 'two', 'one', 'two'], 'C': [1, 2, 3, 4]}\n",
    "df = pd.DataFrame(data)\n",
    "\n",
    "# 使用pivot方法\n",
    "pivoted = df.pivot(index='A', columns='B', values='C')\n",
    "print(pivoted)\n"
   ]
  },
  {
   "cell_type": "markdown",
   "metadata": {},
   "source": [
    "\n",
    "### 5. 分组与聚合\n",
    "\n",
    "#### 分组操作（GroupBy）\n",
    "\n"
   ]
  },
  {
   "cell_type": "code",
   "execution_count": 9,
   "metadata": {},
   "outputs": [
    {
     "name": "stdout",
     "output_type": "stream",
     "text": [
      "          B  C\n",
      "A             \n",
      "bar  onetwo  6\n",
      "foo  onetwo  4\n",
      "          C     \n",
      "        sum mean\n",
      "A   B           \n",
      "bar one   2  2.0\n",
      "    two   4  4.0\n",
      "foo one   1  1.0\n",
      "    two   3  3.0\n"
     ]
    }
   ],
   "source": [
    "# 创建DataFrame\n",
    "data = {'A': ['foo', 'bar', 'foo', 'bar'], 'B': ['one', 'one', 'two', 'two'], 'C': [1, 2, 3, 4]}\n",
    "df = pd.DataFrame(data)\n",
    "\n",
    "# 分组并聚合\n",
    "grouped = df.groupby('A').sum()\n",
    "print(grouped)\n",
    "\n",
    "# 多层分组与多重聚合\n",
    "multi_grouped = df.groupby(['A', 'B']).agg({'C': ['sum', 'mean']})\n",
    "print(multi_grouped)\n"
   ]
  },
  {
   "cell_type": "markdown",
   "metadata": {},
   "source": [
    "\n",
    "### 6. 时间序列数据处理\n",
    "\n",
    "#### 时间序列数据\n",
    "\n"
   ]
  },
  {
   "cell_type": "code",
   "execution_count": 10,
   "metadata": {},
   "outputs": [
    {
     "name": "stdout",
     "output_type": "stream",
     "text": [
      "            data\n",
      "date            \n",
      "2023-01-01     1\n",
      "2023-01-02     2\n",
      "2023-01-03     3\n",
      "2023-01-04     4\n",
      "2023-01-05     5\n",
      "2023-01-06     6\n",
      "2023-01-07     7\n",
      "2023-01-08     8\n",
      "2023-01-09     9\n",
      "2023-01-10    10\n",
      "            data\n",
      "date            \n",
      "2023-01-01     3\n",
      "2023-01-03     7\n",
      "2023-01-05    11\n",
      "2023-01-07    15\n",
      "2023-01-09    19\n"
     ]
    }
   ],
   "source": [
    "# 创建时间序列DataFrame\n",
    "date_rng = pd.date_range(start='2023-01-01', end='2023-01-10', freq='D')\n",
    "df = pd.DataFrame(date_rng, columns=['date'])\n",
    "df['data'] = pd.Series(range(1, len(df)+1))\n",
    "\n",
    "# 设置日期时间索引\n",
    "df.set_index('date', inplace=True)\n",
    "print(df)\n",
    "\n",
    "# 时间重采样\n",
    "resampled = df.resample('2D').sum()\n",
    "print(resampled)\n"
   ]
  },
  {
   "cell_type": "markdown",
   "metadata": {},
   "source": [
    "\n",
    "### 7. 高级数据处理技巧\n",
    "\n",
    "#### 条件合并\n",
    "\n"
   ]
  },
  {
   "cell_type": "code",
   "execution_count": 11,
   "metadata": {},
   "outputs": [
    {
     "name": "stdout",
     "output_type": "stream",
     "text": [
      "  key  value1  value2  value\n",
      "0   A     1.0     NaN    1.0\n",
      "1   B     2.0     4.0    2.0\n",
      "2   C     3.0     5.0    3.0\n",
      "3   D     NaN     6.0    6.0\n"
     ]
    }
   ],
   "source": [
    "import numpy as np\n",
    "\n",
    "# 创建两个DataFrame\n",
    "df1 = pd.DataFrame({'key': ['A', 'B', 'C'], 'value1': [1, 2, 3]})\n",
    "df2 = pd.DataFrame({'key': ['B', 'C', 'D'], 'value2': [4, 5, 6]})\n",
    "\n",
    "# 条件合并\n",
    "merged = pd.merge(df1, df2, on='key', how='outer')\n",
    "merged['value'] = np.where(pd.notnull(merged['value1']), merged['value1'], merged['value2'])\n",
    "print(merged)\n"
   ]
  },
  {
   "cell_type": "markdown",
   "metadata": {},
   "source": [
    "\n",
    "#### 自定义函数与应用\n",
    "\n"
   ]
  },
  {
   "cell_type": "code",
   "execution_count": 12,
   "metadata": {},
   "outputs": [
    {
     "name": "stdout",
     "output_type": "stream",
     "text": [
      "   A  B  C\n",
      "0  1  4  2\n",
      "1  2  5  4\n",
      "2  3  6  6\n",
      "   B  C\n",
      "A      \n",
      "1  0  0\n",
      "2  0  0\n",
      "3  0  0\n"
     ]
    }
   ],
   "source": [
    "# 创建DataFrame\n",
    "data = {'A': [1, 2, 3], 'B': [4, 5, 6]}\n",
    "df = pd.DataFrame(data)\n",
    "\n",
    "# 使用apply方法\n",
    "df['C'] = df['A'].apply(lambda x: x * 2)\n",
    "print(df)\n",
    "\n",
    "# 自定义聚合函数\n",
    "def custom_agg(x):\n",
    "    return x.max() - x.min()\n",
    "\n",
    "grouped = df.groupby('A').agg(custom_agg)\n",
    "print(grouped)\n"
   ]
  },
  {
   "cell_type": "markdown",
   "metadata": {},
   "source": [
    "\n",
    "### 8. 性能优化\n",
    "\n",
    "#### 性能调优\n",
    "\n"
   ]
  },
  {
   "cell_type": "code",
   "execution_count": 13,
   "metadata": {},
   "outputs": [
    {
     "name": "stderr",
     "output_type": "stream",
     "text": [
      "/Users/zhaoxuefeng/opt/miniconda3/envs/py310_new/lib/python3.10/site-packages/dask/dataframe/__init__.py:42: FutureWarning: \n",
      "Dask dataframe query planning is disabled because dask-expr is not installed.\n",
      "\n",
      "You can install it with `pip install dask[dataframe]` or `conda install dask`.\n",
      "This will raise in a future version.\n",
      "\n",
      "  warnings.warn(msg, FutureWarning)\n"
     ]
    },
    {
     "name": "stdout",
     "output_type": "stream",
     "text": [
      "             B\n",
      "A             \n",
      "0            0\n",
      "1            1\n",
      "2            2\n",
      "3            3\n",
      "4            4\n",
      "...        ...\n",
      "999995  999995\n",
      "999996  999996\n",
      "999997  999997\n",
      "999998  999998\n",
      "999999  999999\n",
      "\n",
      "[1000000 rows x 1 columns]\n"
     ]
    }
   ],
   "source": [
    "import dask.dataframe as dd\n",
    "\n",
    "# 创建大数据集\n",
    "large_df = pd.DataFrame({'A': range(1000000), 'B': range(1000000)})\n",
    "\n",
    "# 使用dask进行大数据处理\n",
    "dask_df = dd.from_pandas(large_df, npartitions=10)\n",
    "result = dask_df.groupby('A').sum().compute()\n",
    "print(result)\n"
   ]
  },
  {
   "cell_type": "markdown",
   "metadata": {},
   "source": [
    "\n",
    "### 9. 实战案例与项目\n",
    "\n",
    "#### 实战案例\n",
    "\n"
   ]
  },
  {
   "cell_type": "code",
   "execution_count": 14,
   "metadata": {},
   "outputs": [
    {
     "name": "stdout",
     "output_type": "stream",
     "text": [
      "   order_id  customer_id  amount customer_name\n",
      "0         1            1     100         Alice\n",
      "1         3            1     150         Alice\n",
      "2         2            2     200           Bob\n",
      "3         4            3     300       Charlie\n",
      "  customer_name  amount\n",
      "0         Alice     250\n",
      "1           Bob     200\n",
      "2       Charlie     300\n"
     ]
    }
   ],
   "source": [
    "# 示例：多表数据的实际业务场景应用\n",
    "# 假设有两个表：订单表和客户表\n",
    "\n",
    "# 创建订单表\n",
    "orders = pd.DataFrame({\n",
    "    'order_id': [1, 2, 3, 4],\n",
    "    'customer_id': [1, 2, 1, 3],\n",
    "    'amount': [100, 200, 150, 300]\n",
    "})\n",
    "\n",
    "# 创建客户表\n",
    "customers = pd.DataFrame({\n",
    "    'customer_id': [1, 2, 3],\n",
    "    'customer_name': ['Alice', 'Bob', 'Charlie']\n",
    "})\n",
    "\n",
    "# 合并订单表和客户表\n",
    "merged_data = pd.merge(orders, customers, on='customer_id')\n",
    "print(merged_data)\n",
    "\n",
    "# 分析每个客户的总订单金额\n",
    "customer_total = merged_data.groupby('customer_name')['amount'].sum().reset_index()\n",
    "print(customer_total)\n"
   ]
  },
  {
   "cell_type": "markdown",
   "metadata": {},
   "source": [
    "\n",
    "### 10. 参考资料与社区资源\n",
    "\n",
    "#### 官方文档\n",
    "\n",
    "- [Pandas官方文档](https://pandas.pydata.org/pandas-docs/stable/)\n",
    "\n",
    "#### 书籍与教程\n",
    "\n",
    "- 《Python for Data Analysis》 by Wes McKinney\n",
    "- [Pandas官方教程](https://pandas.pydata.org/pandas-docs/stable/getting_started/tutorials.html)\n",
    "\n",
    "#### 社区与论坛\n",
    "\n",
    "- [Stack Overflow上的Pandas标签](https://stackoverflow.com/questions/tagged/pandas)\n",
    "- [Pandas GitHub社区](https://github.com/pandas-dev/pandas)\n",
    "\n",
    "通过以上代码示例和解释，你可以更深入地理解和掌握Pandas多表处理的技巧。希望这些内容对你有所帮助，祝你学习顺利！\n"
   ]
  }
 ],
 "metadata": {
  "kernelspec": {
   "display_name": "Python 3 (ipykernel)",
   "language": "python",
   "name": "python3"
  },
  "language_info": {
   "codemirror_mode": {
    "name": "ipython",
    "version": 3
   },
   "file_extension": ".py",
   "mimetype": "text/x-python",
   "name": "python",
   "nbconvert_exporter": "python",
   "pygments_lexer": "ipython3",
   "version": "3.10.14"
  }
 },
 "nbformat": 4,
 "nbformat_minor": 4
}
