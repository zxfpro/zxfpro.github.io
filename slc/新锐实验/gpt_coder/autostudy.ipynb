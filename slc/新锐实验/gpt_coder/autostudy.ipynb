{
 "cells": [
  {
   "cell_type": "markdown",
   "id": "7168a67f-966f-4cfb-9450-2704d20351b3",
   "metadata": {
    "tags": []
   },
   "source": [
    "# autoStudy"
   ]
  },
  {
   "cell_type": "markdown",
   "id": "aee7c1e7-0808-4b64-8337-06bfc086d1e6",
   "metadata": {},
   "source": [
    "1 跑通阶段"
   ]
  },
  {
   "cell_type": "code",
   "execution_count": 24,
   "id": "2fe1e013-46e7-415c-9cdc-9afea6b7fee1",
   "metadata": {
    "tags": []
   },
   "outputs": [],
   "source": [
    "from zxftools_dev.llms import get_llm\n",
    "from IPython.display import Markdown\n",
    "llm = get_llm(model='gpt-4o')"
   ]
  },
  {
   "cell_type": "code",
   "execution_count": 5,
   "id": "1685a938-ed0f-49bd-8c1e-50fcb491f129",
   "metadata": {
    "tags": []
   },
   "outputs": [],
   "source": [
    "target = \"pandas多表处理的技巧\""
   ]
  },
  {
   "cell_type": "code",
   "execution_count": 4,
   "id": "16756fee-841e-442b-92f6-0e569c8cd093",
   "metadata": {
    "tags": []
   },
   "outputs": [],
   "source": [
    "result = llm.complete(f\"\"\"\n",
    "我希望对'{target}'进行深度研究,我已经了解了其功能和安装,可以列一个清单来帮我梳理我应该学习哪些内容吗?\n",
    "\"\"\")"
   ]
  },
  {
   "cell_type": "code",
   "execution_count": 5,
   "id": "f831d9ce-be6b-4d67-82fc-4fd131943a29",
   "metadata": {
    "collapsed": true,
    "jupyter": {
     "outputs_hidden": true
    },
    "tags": []
   },
   "outputs": [
    {
     "data": {
      "text/markdown": [
       "当然可以！以下是一个详细的清单，帮助你系统地学习和研究Pandas多表处理的技巧：\n",
       "\n",
       "### 1. 基础知识复习\n",
       "- **Pandas基本操作**\n",
       "  - DataFrame和Series的创建与操作\n",
       "  - 基本数据选择与过滤\n",
       "  - 数据清洗与预处理\n",
       "\n",
       "### 2. 数据合并与连接\n",
       "- **合并（Merge）**\n",
       "  - `pd.merge()`函数的使用\n",
       "  - 不同类型的合并（内连接、外连接、左连接、右连接）\n",
       "  - 多键合并\n",
       "  - 处理重复列名\n",
       "\n",
       "- **连接（Join）**\n",
       "  - `DataFrame.join()`方法\n",
       "  - 与`pd.merge()`的区别与联系\n",
       "\n",
       "- **连接轴（Concatenation）**\n",
       "  - `pd.concat()`函数的使用\n",
       "  - 沿不同轴（行、列）进行连接\n",
       "  - 处理索引\n",
       "\n",
       "### 3. 数据透视表与交叉表\n",
       "- **数据透视表（Pivot Table）**\n",
       "  - `pd.pivot_table()`函数的使用\n",
       "  - 聚合函数的应用\n",
       "  - 多层索引与分组\n",
       "\n",
       "- **交叉表（Crosstab）**\n",
       "  - `pd.crosstab()`函数的使用\n",
       "  - 频率表与关联分析\n",
       "\n",
       "### 4. 重塑与透视\n",
       "- **重塑（Reshape）**\n",
       "  - `pd.melt()`函数的使用\n",
       "  - 宽表与长表的转换\n",
       "\n",
       "- **透视（Pivot）**\n",
       "  - `DataFrame.pivot()`方法\n",
       "  - 与`pd.pivot_table()`的区别\n",
       "\n",
       "### 5. 分组与聚合\n",
       "- **分组操作（GroupBy）**\n",
       "  - `DataFrame.groupby()`方法\n",
       "  - 分组后的聚合、过滤、转换与应用\n",
       "  - 多层分组与多重聚合\n",
       "\n",
       "### 6. 时间序列数据处理\n",
       "- **时间序列数据**\n",
       "  - 日期时间索引\n",
       "  - 时间序列的合并与连接\n",
       "  - 滚动窗口与时间重采样\n",
       "\n",
       "### 7. 高级数据处理技巧\n",
       "- **条件合并**\n",
       "  - 基于条件的合并与连接\n",
       "  - 使用`np.where()`进行条件选择\n",
       "\n",
       "- **自定义函数与应用**\n",
       "  - 使用`apply()`、`map()`、`applymap()`等方法\n",
       "  - 自定义聚合函数\n",
       "\n",
       "### 8. 性能优化\n",
       "- **性能调优**\n",
       "  - 数据处理的性能瓶颈\n",
       "  - 使用`dask`进行大数据处理\n",
       "  - 内存优化与数据类型优化\n",
       "\n",
       "### 9. 实战案例与项目\n",
       "- **实战案例**\n",
       "  - 多表数据的实际业务场景应用\n",
       "  - 数据清洗、合并、分析与可视化的完整流程\n",
       "\n",
       "- **项目实践**\n",
       "  - 选择一个实际项目进行多表处理的综合应用\n",
       "  - 从数据获取、清洗、处理到分析与报告的完整流程\n",
       "\n",
       "### 10. 参考资料与社区资源\n",
       "- **官方文档**\n",
       "  - Pandas官方文档与API参考\n",
       "\n",
       "- **书籍与教程**\n",
       "  - 推荐阅读的书籍与在线教程\n",
       "\n",
       "- **社区与论坛**\n",
       "  - 参与Pandas社区，关注最新动态与最佳实践\n",
       "\n",
       "通过以上清单，你可以系统地学习和研究Pandas多表处理的各个方面。希望这些内容对你有所帮助，祝你学习顺利！"
      ],
      "text/plain": [
       "<IPython.core.display.Markdown object>"
      ]
     },
     "execution_count": 5,
     "metadata": {},
     "output_type": "execute_result"
    }
   ],
   "source": [
    "Markdown(result.text)"
   ]
  },
  {
   "cell_type": "code",
   "execution_count": 6,
   "id": "81fe3dfa-c1f9-4b82-b9e6-e1c734210e6b",
   "metadata": {
    "tags": []
   },
   "outputs": [],
   "source": [
    "result2 = llm.complete(f\"\"\"\n",
    "我希望对'{target}'进行深度研究,我这里有一个学习清单:\n",
    "\n",
    "{result.text}\n",
    "\n",
    "可以基于这个清单,仅针对可以代码实现的部分,编写一个教程吗?\n",
    "\n",
    "\"\"\")"
   ]
  },
  {
   "cell_type": "code",
   "execution_count": 7,
   "id": "fedfa139-ca7a-464f-951b-5ead43902eb7",
   "metadata": {
    "collapsed": true,
    "jupyter": {
     "outputs_hidden": true
    },
    "tags": []
   },
   "outputs": [
    {
     "data": {
      "text/markdown": [
       "当然可以！以下是基于你的学习清单，针对可以代码实现的部分编写的详细教程。每个部分都包含了示例代码和解释。\n",
       "\n",
       "### 1. 基础知识复习\n",
       "\n",
       "#### Pandas基本操作\n",
       "\n",
       "```python\n",
       "import pandas as pd\n",
       "\n",
       "# 创建DataFrame\n",
       "data = {'A': [1, 2, 3], 'B': [4, 5, 6]}\n",
       "df = pd.DataFrame(data)\n",
       "print(df)\n",
       "\n",
       "# 数据选择与过滤\n",
       "print(df['A'])  # 选择列\n",
       "print(df[df['A'] > 1])  # 过滤行\n",
       "\n",
       "# 数据清洗与预处理\n",
       "df['C'] = df['A'] + df['B']  # 新增列\n",
       "df.dropna(inplace=True)  # 删除缺失值\n",
       "print(df)\n",
       "```\n",
       "\n",
       "### 2. 数据合并与连接\n",
       "\n",
       "#### 合并（Merge）\n",
       "\n",
       "```python\n",
       "# 创建两个DataFrame\n",
       "df1 = pd.DataFrame({'key': ['A', 'B', 'C'], 'value1': [1, 2, 3]})\n",
       "df2 = pd.DataFrame({'key': ['B', 'C', 'D'], 'value2': [4, 5, 6]})\n",
       "\n",
       "# 内连接\n",
       "merged_inner = pd.merge(df1, df2, on='key', how='inner')\n",
       "print(merged_inner)\n",
       "\n",
       "# 外连接\n",
       "merged_outer = pd.merge(df1, df2, on='key', how='outer')\n",
       "print(merged_outer)\n",
       "\n",
       "# 左连接\n",
       "merged_left = pd.merge(df1, df2, on='key', how='left')\n",
       "print(merged_left)\n",
       "\n",
       "# 右连接\n",
       "merged_right = pd.merge(df1, df2, on='key', how='right')\n",
       "print(merged_right)\n",
       "```\n",
       "\n",
       "#### 连接（Join）\n",
       "\n",
       "```python\n",
       "# 创建两个DataFrame\n",
       "df1 = pd.DataFrame({'key': ['A', 'B', 'C'], 'value1': [1, 2, 3]}).set_index('key')\n",
       "df2 = pd.DataFrame({'key': ['B', 'C', 'D'], 'value2': [4, 5, 6]}).set_index('key')\n",
       "\n",
       "# 使用join进行连接\n",
       "joined = df1.join(df2, how='inner')\n",
       "print(joined)\n",
       "```\n",
       "\n",
       "#### 连接轴（Concatenation）\n",
       "\n",
       "```python\n",
       "# 创建两个DataFrame\n",
       "df1 = pd.DataFrame({'A': ['A0', 'A1', 'A2'], 'B': ['B0', 'B1', 'B2']})\n",
       "df2 = pd.DataFrame({'A': ['A3', 'A4', 'A5'], 'B': ['B3', 'B4', 'B5']})\n",
       "\n",
       "# 沿行连接\n",
       "concat_rows = pd.concat([df1, df2], axis=0)\n",
       "print(concat_rows)\n",
       "\n",
       "# 沿列连接\n",
       "concat_cols = pd.concat([df1, df2], axis=1)\n",
       "print(concat_cols)\n",
       "```\n",
       "\n",
       "### 3. 数据透视表与交叉表\n",
       "\n",
       "#### 数据透视表（Pivot Table）\n",
       "\n",
       "```python\n",
       "# 创建DataFrame\n",
       "data = {'A': ['foo', 'foo', 'foo', 'bar', 'bar', 'bar'],\n",
       "        'B': ['one', 'one', 'two', 'two', 'one', 'one'],\n",
       "        'C': ['small', 'large', 'large', 'small', 'small', 'large'],\n",
       "        'D': [1, 2, 2, 3, 3, 4]}\n",
       "df = pd.DataFrame(data)\n",
       "\n",
       "# 创建数据透视表\n",
       "pivot_table = pd.pivot_table(df, values='D', index=['A', 'B'], columns=['C'], aggfunc='sum')\n",
       "print(pivot_table)\n",
       "```\n",
       "\n",
       "#### 交叉表（Crosstab）\n",
       "\n",
       "```python\n",
       "# 创建交叉表\n",
       "crosstab = pd.crosstab(df['A'], df['C'])\n",
       "print(crosstab)\n",
       "```\n",
       "\n",
       "### 4. 重塑与透视\n",
       "\n",
       "#### 重塑（Reshape）\n",
       "\n",
       "```python\n",
       "# 创建DataFrame\n",
       "data = {'A': ['foo', 'bar', 'baz'], 'B': [1, 2, 3], 'C': [4, 5, 6]}\n",
       "df = pd.DataFrame(data)\n",
       "\n",
       "# 使用melt函数\n",
       "melted = pd.melt(df, id_vars=['A'], value_vars=['B', 'C'])\n",
       "print(melted)\n",
       "```\n",
       "\n",
       "#### 透视（Pivot）\n",
       "\n",
       "```python\n",
       "# 创建DataFrame\n",
       "data = {'A': ['foo', 'foo', 'bar', 'bar'], 'B': ['one', 'two', 'one', 'two'], 'C': [1, 2, 3, 4]}\n",
       "df = pd.DataFrame(data)\n",
       "\n",
       "# 使用pivot方法\n",
       "pivoted = df.pivot(index='A', columns='B', values='C')\n",
       "print(pivoted)\n",
       "```\n",
       "\n",
       "### 5. 分组与聚合\n",
       "\n",
       "#### 分组操作（GroupBy）\n",
       "\n",
       "```python\n",
       "# 创建DataFrame\n",
       "data = {'A': ['foo', 'bar', 'foo', 'bar'], 'B': ['one', 'one', 'two', 'two'], 'C': [1, 2, 3, 4]}\n",
       "df = pd.DataFrame(data)\n",
       "\n",
       "# 分组并聚合\n",
       "grouped = df.groupby('A').sum()\n",
       "print(grouped)\n",
       "\n",
       "# 多层分组与多重聚合\n",
       "multi_grouped = df.groupby(['A', 'B']).agg({'C': ['sum', 'mean']})\n",
       "print(multi_grouped)\n",
       "```\n",
       "\n",
       "### 6. 时间序列数据处理\n",
       "\n",
       "#### 时间序列数据\n",
       "\n",
       "```python\n",
       "# 创建时间序列DataFrame\n",
       "date_rng = pd.date_range(start='2023-01-01', end='2023-01-10', freq='D')\n",
       "df = pd.DataFrame(date_rng, columns=['date'])\n",
       "df['data'] = pd.Series(range(1, len(df)+1))\n",
       "\n",
       "# 设置日期时间索引\n",
       "df.set_index('date', inplace=True)\n",
       "print(df)\n",
       "\n",
       "# 时间重采样\n",
       "resampled = df.resample('2D').sum()\n",
       "print(resampled)\n",
       "```\n",
       "\n",
       "### 7. 高级数据处理技巧\n",
       "\n",
       "#### 条件合并\n",
       "\n",
       "```python\n",
       "import numpy as np\n",
       "\n",
       "# 创建两个DataFrame\n",
       "df1 = pd.DataFrame({'key': ['A', 'B', 'C'], 'value1': [1, 2, 3]})\n",
       "df2 = pd.DataFrame({'key': ['B', 'C', 'D'], 'value2': [4, 5, 6]})\n",
       "\n",
       "# 条件合并\n",
       "merged = pd.merge(df1, df2, on='key', how='outer')\n",
       "merged['value'] = np.where(pd.notnull(merged['value1']), merged['value1'], merged['value2'])\n",
       "print(merged)\n",
       "```\n",
       "\n",
       "#### 自定义函数与应用\n",
       "\n",
       "```python\n",
       "# 创建DataFrame\n",
       "data = {'A': [1, 2, 3], 'B': [4, 5, 6]}\n",
       "df = pd.DataFrame(data)\n",
       "\n",
       "# 使用apply方法\n",
       "df['C'] = df['A'].apply(lambda x: x * 2)\n",
       "print(df)\n",
       "\n",
       "# 自定义聚合函数\n",
       "def custom_agg(x):\n",
       "    return x.max() - x.min()\n",
       "\n",
       "grouped = df.groupby('A').agg(custom_agg)\n",
       "print(grouped)\n",
       "```\n",
       "\n",
       "### 8. 性能优化\n",
       "\n",
       "#### 性能调优\n",
       "\n",
       "```python\n",
       "import dask.dataframe as dd\n",
       "\n",
       "# 创建大数据集\n",
       "large_df = pd.DataFrame({'A': range(1000000), 'B': range(1000000)})\n",
       "\n",
       "# 使用dask进行大数据处理\n",
       "dask_df = dd.from_pandas(large_df, npartitions=10)\n",
       "result = dask_df.groupby('A').sum().compute()\n",
       "print(result)\n",
       "```\n",
       "\n",
       "### 9. 实战案例与项目\n",
       "\n",
       "#### 实战案例\n",
       "\n",
       "```python\n",
       "# 示例：多表数据的实际业务场景应用\n",
       "# 假设有两个表：订单表和客户表\n",
       "\n",
       "# 创建订单表\n",
       "orders = pd.DataFrame({\n",
       "    'order_id': [1, 2, 3, 4],\n",
       "    'customer_id': [1, 2, 1, 3],\n",
       "    'amount': [100, 200, 150, 300]\n",
       "})\n",
       "\n",
       "# 创建客户表\n",
       "customers = pd.DataFrame({\n",
       "    'customer_id': [1, 2, 3],\n",
       "    'customer_name': ['Alice', 'Bob', 'Charlie']\n",
       "})\n",
       "\n",
       "# 合并订单表和客户表\n",
       "merged_data = pd.merge(orders, customers, on='customer_id')\n",
       "print(merged_data)\n",
       "\n",
       "# 分析每个客户的总订单金额\n",
       "customer_total = merged_data.groupby('customer_name')['amount'].sum().reset_index()\n",
       "print(customer_total)\n",
       "```\n",
       "\n",
       "### 10. 参考资料与社区资源\n",
       "\n",
       "#### 官方文档\n",
       "\n",
       "- [Pandas官方文档](https://pandas.pydata.org/pandas-docs/stable/)\n",
       "\n",
       "#### 书籍与教程\n",
       "\n",
       "- 《Python for Data Analysis》 by Wes McKinney\n",
       "- [Pandas官方教程](https://pandas.pydata.org/pandas-docs/stable/getting_started/tutorials.html)\n",
       "\n",
       "#### 社区与论坛\n",
       "\n",
       "- [Stack Overflow上的Pandas标签](https://stackoverflow.com/questions/tagged/pandas)\n",
       "- [Pandas GitHub社区](https://github.com/pandas-dev/pandas)\n",
       "\n",
       "通过以上代码示例和解释，你可以更深入地理解和掌握Pandas多表处理的技巧。希望这些内容对你有所帮助，祝你学习顺利！"
      ],
      "text/plain": [
       "<IPython.core.display.Markdown object>"
      ]
     },
     "execution_count": 7,
     "metadata": {},
     "output_type": "execute_result"
    }
   ],
   "source": [
    "Markdown(result2.text)"
   ]
  },
  {
   "cell_type": "code",
   "execution_count": 8,
   "id": "eabf5412-aa3a-4f1b-8f5a-6dbc74f2c6b8",
   "metadata": {
    "tags": []
   },
   "outputs": [],
   "source": [
    "%run utils.ipynb"
   ]
  },
  {
   "cell_type": "code",
   "execution_count": 6,
   "id": "6f5d89ef-313e-458a-8e6a-6ba90454a4a5",
   "metadata": {
    "tags": []
   },
   "outputs": [],
   "source": [
    "file_name = f'{target}.ipynb'"
   ]
  },
  {
   "cell_type": "code",
   "execution_count": 10,
   "id": "c6c127b2-c30f-40cb-93cb-77256c9544c7",
   "metadata": {
    "tags": []
   },
   "outputs": [],
   "source": [
    "create_notebook_from_string(result2.text,file_name)"
   ]
  },
  {
   "cell_type": "code",
   "execution_count": null,
   "id": "26e208ed-ffcd-43f2-91f7-5e629e855afb",
   "metadata": {},
   "outputs": [],
   "source": []
  },
  {
   "cell_type": "code",
   "execution_count": 11,
   "id": "e48816b6-c8cf-4e3c-b1b7-4d773f5cc29d",
   "metadata": {
    "collapsed": true,
    "jupyter": {
     "outputs_hidden": true
    },
    "tags": []
   },
   "outputs": [
    {
     "name": "stdout",
     "output_type": "stream",
     "text": [
      "   A  B\n",
      "0  1  4\n",
      "1  2  5\n",
      "2  3  6\n",
      "0    1\n",
      "1    2\n",
      "2    3\n",
      "Name: A, dtype: int64\n",
      "   A  B\n",
      "1  2  5\n",
      "2  3  6\n",
      "   A  B  C\n",
      "0  1  4  5\n",
      "1  2  5  7\n",
      "2  3  6  9\n",
      "  key  value1  value2\n",
      "0   B       2       4\n",
      "1   C       3       5\n",
      "  key  value1  value2\n",
      "0   A     1.0     NaN\n",
      "1   B     2.0     4.0\n",
      "2   C     3.0     5.0\n",
      "3   D     NaN     6.0\n",
      "  key  value1  value2\n",
      "0   A       1     NaN\n",
      "1   B       2     4.0\n",
      "2   C       3     5.0\n",
      "  key  value1  value2\n",
      "0   B     2.0       4\n",
      "1   C     3.0       5\n",
      "2   D     NaN       6\n",
      "     value1  value2\n",
      "key                \n",
      "B         2       4\n",
      "C         3       5\n",
      "    A   B\n",
      "0  A0  B0\n",
      "1  A1  B1\n",
      "2  A2  B2\n",
      "0  A3  B3\n",
      "1  A4  B4\n",
      "2  A5  B5\n",
      "    A   B   A   B\n",
      "0  A0  B0  A3  B3\n",
      "1  A1  B1  A4  B4\n",
      "2  A2  B2  A5  B5\n",
      "C        large  small\n",
      "A   B                \n",
      "bar one    4.0    3.0\n",
      "    two    NaN    3.0\n",
      "foo one    2.0    1.0\n",
      "    two    2.0    NaN\n",
      "C    large  small\n",
      "A                \n",
      "bar      1      2\n",
      "foo      2      1\n",
      "     A variable  value\n",
      "0  foo        B      1\n",
      "1  bar        B      2\n",
      "2  baz        B      3\n",
      "3  foo        C      4\n",
      "4  bar        C      5\n",
      "5  baz        C      6\n",
      "B    one  two\n",
      "A            \n",
      "bar    3    4\n",
      "foo    1    2\n",
      "          B  C\n",
      "A             \n",
      "bar  onetwo  6\n",
      "foo  onetwo  4\n",
      "          C     \n",
      "        sum mean\n",
      "A   B           \n",
      "bar one   2  2.0\n",
      "    two   4  4.0\n",
      "foo one   1  1.0\n",
      "    two   3  3.0\n",
      "            data\n",
      "date            \n",
      "2023-01-01     1\n",
      "2023-01-02     2\n",
      "2023-01-03     3\n",
      "2023-01-04     4\n",
      "2023-01-05     5\n",
      "2023-01-06     6\n",
      "2023-01-07     7\n",
      "2023-01-08     8\n",
      "2023-01-09     9\n",
      "2023-01-10    10\n",
      "            data\n",
      "date            \n",
      "2023-01-01     3\n",
      "2023-01-03     7\n",
      "2023-01-05    11\n",
      "2023-01-07    15\n",
      "2023-01-09    19\n",
      "  key  value1  value2  value\n",
      "0   A     1.0     NaN    1.0\n",
      "1   B     2.0     4.0    2.0\n",
      "2   C     3.0     5.0    3.0\n",
      "3   D     NaN     6.0    6.0\n",
      "   A  B  C\n",
      "0  1  4  2\n",
      "1  2  5  4\n",
      "2  3  6  6\n",
      "   B  C\n",
      "A      \n",
      "1  0  0\n",
      "2  0  0\n",
      "3  0  0\n"
     ]
    },
    {
     "ename": "ModuleNotFoundError",
     "evalue": "No module named 'dask'",
     "output_type": "error",
     "traceback": [
      "\u001b[0;31m---------------------------------------------------------------------------\u001b[0m",
      "\u001b[0;31mModuleNotFoundError\u001b[0m                       Traceback (most recent call last)",
      "File \u001b[0;32m/var/folders/sj/9gkwxdgs4h3ck3kytmdgk4240000gn/T/ipykernel_63893/3566027664.py:1\u001b[0m\n\u001b[0;32m----> 1\u001b[0m \u001b[38;5;28;01mimport\u001b[39;00m \u001b[38;5;21;01mdask\u001b[39;00m\u001b[38;5;21;01m.\u001b[39;00m\u001b[38;5;21;01mdataframe\u001b[39;00m \u001b[38;5;28;01mas\u001b[39;00m \u001b[38;5;21;01mdd\u001b[39;00m\n\u001b[1;32m      3\u001b[0m \u001b[38;5;66;03m# 创建大数据集\u001b[39;00m\n\u001b[1;32m      4\u001b[0m large_df \u001b[38;5;241m=\u001b[39m pd\u001b[38;5;241m.\u001b[39mDataFrame({\u001b[38;5;124m'\u001b[39m\u001b[38;5;124mA\u001b[39m\u001b[38;5;124m'\u001b[39m: \u001b[38;5;28mrange\u001b[39m(\u001b[38;5;241m1000000\u001b[39m), \u001b[38;5;124m'\u001b[39m\u001b[38;5;124mB\u001b[39m\u001b[38;5;124m'\u001b[39m: \u001b[38;5;28mrange\u001b[39m(\u001b[38;5;241m1000000\u001b[39m)})\n",
      "\u001b[0;31mModuleNotFoundError\u001b[0m: No module named 'dask'"
     ]
    },
    {
     "ename": "ModuleNotFoundError",
     "evalue": "No module named 'dask'",
     "output_type": "error",
     "traceback": [
      "\u001b[0;31m---------------------------------------------------------------------------\u001b[0m",
      "\u001b[0;31mModuleNotFoundError\u001b[0m                       Traceback (most recent call last)",
      "Cell \u001b[0;32mIn[11], line 1\u001b[0m\n\u001b[0;32m----> 1\u001b[0m \u001b[43mget_ipython\u001b[49m\u001b[43m(\u001b[49m\u001b[43m)\u001b[49m\u001b[38;5;241;43m.\u001b[39;49m\u001b[43mrun_line_magic\u001b[49m\u001b[43m(\u001b[49m\u001b[38;5;124;43m'\u001b[39;49m\u001b[38;5;124;43mrun\u001b[39;49m\u001b[38;5;124;43m'\u001b[39;49m\u001b[43m,\u001b[49m\u001b[43m \u001b[49m\u001b[38;5;124;43m'\u001b[39;49m\u001b[38;5;132;43;01m{file_name}\u001b[39;49;00m\u001b[38;5;124;43m'\u001b[39;49m\u001b[43m)\u001b[49m\n",
      "File \u001b[0;32m~/opt/miniconda3/envs/py310_new/lib/python3.10/site-packages/IPython/core/interactiveshell.py:2480\u001b[0m, in \u001b[0;36mInteractiveShell.run_line_magic\u001b[0;34m(self, magic_name, line, _stack_depth)\u001b[0m\n\u001b[1;32m   2478\u001b[0m     kwargs[\u001b[38;5;124m'\u001b[39m\u001b[38;5;124mlocal_ns\u001b[39m\u001b[38;5;124m'\u001b[39m] \u001b[38;5;241m=\u001b[39m \u001b[38;5;28mself\u001b[39m\u001b[38;5;241m.\u001b[39mget_local_scope(stack_depth)\n\u001b[1;32m   2479\u001b[0m \u001b[38;5;28;01mwith\u001b[39;00m \u001b[38;5;28mself\u001b[39m\u001b[38;5;241m.\u001b[39mbuiltin_trap:\n\u001b[0;32m-> 2480\u001b[0m     result \u001b[38;5;241m=\u001b[39m \u001b[43mfn\u001b[49m\u001b[43m(\u001b[49m\u001b[38;5;241;43m*\u001b[39;49m\u001b[43margs\u001b[49m\u001b[43m,\u001b[49m\u001b[43m \u001b[49m\u001b[38;5;241;43m*\u001b[39;49m\u001b[38;5;241;43m*\u001b[39;49m\u001b[43mkwargs\u001b[49m\u001b[43m)\u001b[49m\n\u001b[1;32m   2482\u001b[0m \u001b[38;5;66;03m# The code below prevents the output from being displayed\u001b[39;00m\n\u001b[1;32m   2483\u001b[0m \u001b[38;5;66;03m# when using magics with decorator @output_can_be_silenced\u001b[39;00m\n\u001b[1;32m   2484\u001b[0m \u001b[38;5;66;03m# when the last Python token in the expression is a ';'.\u001b[39;00m\n\u001b[1;32m   2485\u001b[0m \u001b[38;5;28;01mif\u001b[39;00m \u001b[38;5;28mgetattr\u001b[39m(fn, magic\u001b[38;5;241m.\u001b[39mMAGIC_OUTPUT_CAN_BE_SILENCED, \u001b[38;5;28;01mFalse\u001b[39;00m):\n",
      "File \u001b[0;32m~/opt/miniconda3/envs/py310_new/lib/python3.10/site-packages/IPython/core/magics/execution.py:737\u001b[0m, in \u001b[0;36mExecutionMagics.run\u001b[0;34m(self, parameter_s, runner, file_finder)\u001b[0m\n\u001b[1;32m    735\u001b[0m     \u001b[38;5;28;01mwith\u001b[39;00m preserve_keys(\u001b[38;5;28mself\u001b[39m\u001b[38;5;241m.\u001b[39mshell\u001b[38;5;241m.\u001b[39muser_ns, \u001b[38;5;124m'\u001b[39m\u001b[38;5;124m__file__\u001b[39m\u001b[38;5;124m'\u001b[39m):\n\u001b[1;32m    736\u001b[0m         \u001b[38;5;28mself\u001b[39m\u001b[38;5;241m.\u001b[39mshell\u001b[38;5;241m.\u001b[39muser_ns[\u001b[38;5;124m'\u001b[39m\u001b[38;5;124m__file__\u001b[39m\u001b[38;5;124m'\u001b[39m] \u001b[38;5;241m=\u001b[39m filename\n\u001b[0;32m--> 737\u001b[0m         \u001b[38;5;28;43mself\u001b[39;49m\u001b[38;5;241;43m.\u001b[39;49m\u001b[43mshell\u001b[49m\u001b[38;5;241;43m.\u001b[39;49m\u001b[43msafe_execfile_ipy\u001b[49m\u001b[43m(\u001b[49m\u001b[43mfilename\u001b[49m\u001b[43m,\u001b[49m\u001b[43m \u001b[49m\u001b[43mraise_exceptions\u001b[49m\u001b[38;5;241;43m=\u001b[39;49m\u001b[38;5;28;43;01mTrue\u001b[39;49;00m\u001b[43m)\u001b[49m\n\u001b[1;32m    738\u001b[0m     \u001b[38;5;28;01mreturn\u001b[39;00m\n\u001b[1;32m    740\u001b[0m \u001b[38;5;66;03m# Control the response to exit() calls made by the script being run\u001b[39;00m\n",
      "File \u001b[0;32m~/opt/miniconda3/envs/py310_new/lib/python3.10/site-packages/IPython/core/interactiveshell.py:3005\u001b[0m, in \u001b[0;36mInteractiveShell.safe_execfile_ipy\u001b[0;34m(self, fname, shell_futures, raise_exceptions)\u001b[0m\n\u001b[1;32m   3003\u001b[0m result \u001b[38;5;241m=\u001b[39m \u001b[38;5;28mself\u001b[39m\u001b[38;5;241m.\u001b[39mrun_cell(cell, silent\u001b[38;5;241m=\u001b[39m\u001b[38;5;28;01mTrue\u001b[39;00m, shell_futures\u001b[38;5;241m=\u001b[39mshell_futures)\n\u001b[1;32m   3004\u001b[0m \u001b[38;5;28;01mif\u001b[39;00m raise_exceptions:\n\u001b[0;32m-> 3005\u001b[0m     \u001b[43mresult\u001b[49m\u001b[38;5;241;43m.\u001b[39;49m\u001b[43mraise_error\u001b[49m\u001b[43m(\u001b[49m\u001b[43m)\u001b[49m\n\u001b[1;32m   3006\u001b[0m \u001b[38;5;28;01melif\u001b[39;00m \u001b[38;5;129;01mnot\u001b[39;00m result\u001b[38;5;241m.\u001b[39msuccess:\n\u001b[1;32m   3007\u001b[0m     \u001b[38;5;28;01mbreak\u001b[39;00m\n",
      "File \u001b[0;32m~/opt/miniconda3/envs/py310_new/lib/python3.10/site-packages/IPython/core/interactiveshell.py:308\u001b[0m, in \u001b[0;36mExecutionResult.raise_error\u001b[0;34m(self)\u001b[0m\n\u001b[1;32m    306\u001b[0m     \u001b[38;5;28;01mraise\u001b[39;00m \u001b[38;5;28mself\u001b[39m\u001b[38;5;241m.\u001b[39merror_before_exec\n\u001b[1;32m    307\u001b[0m \u001b[38;5;28;01mif\u001b[39;00m \u001b[38;5;28mself\u001b[39m\u001b[38;5;241m.\u001b[39merror_in_exec \u001b[38;5;129;01mis\u001b[39;00m \u001b[38;5;129;01mnot\u001b[39;00m \u001b[38;5;28;01mNone\u001b[39;00m:\n\u001b[0;32m--> 308\u001b[0m     \u001b[38;5;28;01mraise\u001b[39;00m \u001b[38;5;28mself\u001b[39m\u001b[38;5;241m.\u001b[39merror_in_exec\n",
      "    \u001b[0;31m[... skipping hidden 1 frame]\u001b[0m\n",
      "File \u001b[0;32m/var/folders/sj/9gkwxdgs4h3ck3kytmdgk4240000gn/T/ipykernel_63893/3566027664.py:1\u001b[0m\n\u001b[0;32m----> 1\u001b[0m \u001b[38;5;28;01mimport\u001b[39;00m \u001b[38;5;21;01mdask\u001b[39;00m\u001b[38;5;21;01m.\u001b[39;00m\u001b[38;5;21;01mdataframe\u001b[39;00m \u001b[38;5;28;01mas\u001b[39;00m \u001b[38;5;21;01mdd\u001b[39;00m\n\u001b[1;32m      3\u001b[0m \u001b[38;5;66;03m# 创建大数据集\u001b[39;00m\n\u001b[1;32m      4\u001b[0m large_df \u001b[38;5;241m=\u001b[39m pd\u001b[38;5;241m.\u001b[39mDataFrame({\u001b[38;5;124m'\u001b[39m\u001b[38;5;124mA\u001b[39m\u001b[38;5;124m'\u001b[39m: \u001b[38;5;28mrange\u001b[39m(\u001b[38;5;241m1000000\u001b[39m), \u001b[38;5;124m'\u001b[39m\u001b[38;5;124mB\u001b[39m\u001b[38;5;124m'\u001b[39m: \u001b[38;5;28mrange\u001b[39m(\u001b[38;5;241m1000000\u001b[39m)})\n",
      "\u001b[0;31mModuleNotFoundError\u001b[0m: No module named 'dask'"
     ]
    }
   ],
   "source": [
    "%run {file_name}"
   ]
  },
  {
   "cell_type": "code",
   "execution_count": null,
   "id": "86de1ea5-c601-469c-b5ea-14cf7d9372d1",
   "metadata": {},
   "outputs": [],
   "source": []
  },
  {
   "cell_type": "code",
   "execution_count": null,
   "id": "1922336b-b9ec-4e9f-a95b-bc76f0c1b999",
   "metadata": {},
   "outputs": [],
   "source": [
    "# 执行大概率会异常,就会需要异常处理框架"
   ]
  },
  {
   "cell_type": "code",
   "execution_count": null,
   "id": "9cc5516a-402f-4585-ad20-00e8c4ee59cc",
   "metadata": {},
   "outputs": [],
   "source": []
  },
  {
   "cell_type": "code",
   "execution_count": 9,
   "id": "ddcd8a8b-d891-4704-8890-87d91dd3cf7e",
   "metadata": {
    "tags": []
   },
   "outputs": [],
   "source": [
    "ttx = \"\"\"\n",
    "当然可以！以下是基于你的学习清单，针对可以代码实现的部分编写的详细教程。每个部分都包含了示例代码和解释。\n",
    "\n",
    "1. 基础知识复习\n",
    "\n",
    "Pandas基本操作\n",
    "\n",
    "import pandas as pd\n",
    "\n",
    "# 创建DataFrame\n",
    "data = {'A': [1, 2, 3], 'B': [4, 5, 6]}\n",
    "df = pd.DataFrame(data)\n",
    "print(df)\n",
    "\n",
    "# 数据选择与过滤\n",
    "print(df['A'])  # 选择列\n",
    "print(df[df['A'] > 1])  # 过滤行\n",
    "\n",
    "# 数据清洗与预处理\n",
    "df['C'] = df['A'] + df['B']  # 新增列\n",
    "df.dropna(inplace=True)  # 删除缺失值\n",
    "print(df)\n",
    "2. 数据合并与连接\n",
    "\n",
    "合并（Merge）\n",
    "\n",
    "# 创建两个DataFrame\n",
    "df1 = pd.DataFrame({'key': ['A', 'B', 'C'], 'value1': [1, 2, 3]})\n",
    "df2 = pd.DataFrame({'key': ['B', 'C', 'D'], 'value2': [4, 5, 6]})\n",
    "\n",
    "# 内连接\n",
    "merged_inner = pd.merge(df1, df2, on='key', how='inner')\n",
    "print(merged_inner)\n",
    "\n",
    "# 外连接\n",
    "merged_outer = pd.merge(df1, df2, on='key', how='outer')\n",
    "print(merged_outer)\n",
    "\n",
    "# 左连接\n",
    "merged_left = pd.merge(df1, df2, on='key', how='left')\n",
    "print(merged_left)\n",
    "\n",
    "# 右连接\n",
    "merged_right = pd.merge(df1, df2, on='key', how='right')\n",
    "print(merged_right)\n",
    "连接（Join）\n",
    "\n",
    "# 创建两个DataFrame\n",
    "df1 = pd.DataFrame({'key': ['A', 'B', 'C'], 'value1': [1, 2, 3]}).set_index('key')\n",
    "df2 = pd.DataFrame({'key': ['B', 'C', 'D'], 'value2': [4, 5, 6]}).set_index('key')\n",
    "\n",
    "# 使用join进行连接\n",
    "joined = df1.join(df2, how='inner')\n",
    "print(joined)\n",
    "连接轴（Concatenation）\n",
    "\n",
    "# 创建两个DataFrame\n",
    "df1 = pd.DataFrame({'A': ['A0', 'A1', 'A2'], 'B': ['B0', 'B1', 'B2']})\n",
    "df2 = pd.DataFrame({'A': ['A3', 'A4', 'A5'], 'B': ['B3', 'B4', 'B5']})\n",
    "\n",
    "# 沿行连接\n",
    "concat_rows = pd.concat([df1, df2], axis=0)\n",
    "print(concat_rows)\n",
    "\n",
    "# 沿列连接\n",
    "concat_cols = pd.concat([df1, df2], axis=1)\n",
    "print(concat_cols)\n",
    "3. 数据透视表与交叉表\n",
    "\n",
    "数据透视表（Pivot Table）\n",
    "\n",
    "# 创建DataFrame\n",
    "data = {'A': ['foo', 'foo', 'foo', 'bar', 'bar', 'bar'],\n",
    "        'B': ['one', 'one', 'two', 'two', 'one', 'one'],\n",
    "        'C': ['small', 'large', 'large', 'small', 'small', 'large'],\n",
    "        'D': [1, 2, 2, 3, 3, 4]}\n",
    "df = pd.DataFrame(data)\n",
    "\n",
    "# 创建数据透视表\n",
    "pivot_table = pd.pivot_table(df, values='D', index=['A', 'B'], columns=['C'], aggfunc='sum')\n",
    "print(pivot_table)\n",
    "交叉表（Crosstab）\n",
    "\n",
    "# 创建交叉表\n",
    "crosstab = pd.crosstab(df['A'], df['C'])\n",
    "print(crosstab)\n",
    "4. 重塑与透视\n",
    "\n",
    "重塑（Reshape）\n",
    "\n",
    "# 创建DataFrame\n",
    "data = {'A': ['foo', 'bar', 'baz'], 'B': [1, 2, 3], 'C': [4, 5, 6]}\n",
    "df = pd.DataFrame(data)\n",
    "\n",
    "# 使用melt函数\n",
    "melted = pd.melt(df, id_vars=['A'], value_vars=['B', 'C'])\n",
    "print(melted)\n",
    "透视（Pivot）\n",
    "\n",
    "# 创建DataFrame\n",
    "data = {'A': ['foo', 'foo', 'bar', 'bar'], 'B': ['one', 'two', 'one', 'two'], 'C': [1, 2, 3, 4]}\n",
    "df = pd.DataFrame(data)\n",
    "\n",
    "# 使用pivot方法\n",
    "pivoted = df.pivot(index='A', columns='B', values='C')\n",
    "print(pivoted)\n",
    "5. 分组与聚合\n",
    "\n",
    "分组操作（GroupBy）\n",
    "\n",
    "# 创建DataFrame\n",
    "data = {'A': ['foo', 'bar', 'foo', 'bar'], 'B': ['one', 'one', 'two', 'two'], 'C': [1, 2, 3, 4]}\n",
    "df = pd.DataFrame(data)\n",
    "\n",
    "# 分组并聚合\n",
    "grouped = df.groupby('A').sum()\n",
    "print(grouped)\n",
    "\n",
    "# 多层分组与多重聚合\n",
    "multi_grouped = df.groupby(['A', 'B']).agg({'C': ['sum', 'mean']})\n",
    "print(multi_grouped)\n",
    "6. 时间序列数据处理\n",
    "\n",
    "时间序列数据\n",
    "\n",
    "# 创建时间序列DataFrame\n",
    "date_rng = pd.date_range(start='2023-01-01', end='2023-01-10', freq='D')\n",
    "df = pd.DataFrame(date_rng, columns=['date'])\n",
    "df['data'] = pd.Series(range(1, len(df)+1))\n",
    "\n",
    "# 设置日期时间索引\n",
    "df.set_index('date', inplace=True)\n",
    "print(df)\n",
    "\n",
    "# 时间重采样\n",
    "resampled = df.resample('2D').sum()\n",
    "print(resampled)\n",
    "7. 高级数据处理技巧\n",
    "\n",
    "条件合并\n",
    "\n",
    "import numpy as np\n",
    "\n",
    "# 创建两个DataFrame\n",
    "df1 = pd.DataFrame({'key': ['A', 'B', 'C'], 'value1': [1, 2, 3]})\n",
    "df2 = pd.DataFrame({'key': ['B', 'C', 'D'], 'value2': [4, 5, 6]})\n",
    "\n",
    "# 条件合并\n",
    "merged = pd.merge(df1, df2, on='key', how='outer')\n",
    "merged['value'] = np.where(pd.notnull(merged['value1']), merged['value1'], merged['value2'])\n",
    "print(merged)\n",
    "自定义函数与应用\n",
    "\n",
    "# 创建DataFrame\n",
    "data = {'A': [1, 2, 3], 'B': [4, 5, 6]}\n",
    "df = pd.DataFrame(data)\n",
    "\n",
    "# 使用apply方法\n",
    "df['C'] = df['A'].apply(lambda x: x * 2)\n",
    "print(df)\n",
    "\n",
    "# 自定义聚合函数\n",
    "def custom_agg(x):\n",
    "    return x.max() - x.min()\n",
    "\n",
    "grouped = df.groupby('A').agg(custom_agg)\n",
    "print(grouped)\n",
    "8. 性能优化\n",
    "\n",
    "性能调优\n",
    "\n",
    "import dask.dataframe as dd\n",
    "\n",
    "# 创建大数据集\n",
    "large_df = pd.DataFrame({'A': range(1000000), 'B': range(1000000)})\n",
    "\n",
    "# 使用dask进行大数据处理\n",
    "dask_df = dd.from_pandas(large_df, npartitions=10)\n",
    "result = dask_df.groupby('A').sum().compute()\n",
    "print(result)\n",
    "9. 实战案例与项目\n",
    "\n",
    "实战案例\n",
    "\n",
    "# 示例：多表数据的实际业务场景应用\n",
    "# 假设有两个表：订单表和客户表\n",
    "\n",
    "# 创建订单表\n",
    "orders = pd.DataFrame({\n",
    "    'order_id': [1, 2, 3, 4],\n",
    "    'customer_id': [1, 2, 1, 3],\n",
    "    'amount': [100, 200, 150, 300]\n",
    "})\n",
    "\n",
    "# 创建客户表\n",
    "customers = pd.DataFrame({\n",
    "    'customer_id': [1, 2, 3],\n",
    "    'customer_name': ['Alice', 'Bob', 'Charlie']\n",
    "})\n",
    "\n",
    "# 合并订单表和客户表\n",
    "merged_data = pd.merge(orders, customers, on='customer_id')\n",
    "print(merged_data)\n",
    "\n",
    "# 分析每个客户的总订单金额\n",
    "customer_total = merged_data.groupby('customer_name')['amount'].sum().reset_index()\n",
    "print(customer_total)\n",
    "10. 参考资料与社区资源\n",
    "\n",
    "官方文档\n",
    "\n",
    "Pandas官方文档\n",
    "书籍与教程\n",
    "\n",
    "《Python for Data Analysis》 by Wes McKinney\n",
    "Pandas官方教程\n",
    "社区与论坛\n",
    "\n",
    "Stack Overflow上的Pandas标签\n",
    "Pandas GitHub社区\n",
    "通过以上代码示例和解释，你可以更深入地理解和掌握Pandas多表处理的技巧。希望这些内容对你有所帮助，祝你学习顺利！\"\"\""
   ]
  },
  {
   "cell_type": "code",
   "execution_count": null,
   "id": "b5b3f662-30a2-476a-9c3f-89cda04f1644",
   "metadata": {},
   "outputs": [],
   "source": []
  },
  {
   "cell_type": "code",
   "execution_count": 11,
   "id": "5d939a46-a729-4579-9ee4-1d3ccacad0f6",
   "metadata": {
    "collapsed": true,
    "jupyter": {
     "outputs_hidden": true
    },
    "tags": []
   },
   "outputs": [
    {
     "name": "stdout",
     "output_type": "stream",
     "text": [
      "\n",
      "当然可以！以下是基于你的学习清单，针对可以代码实现的部分编写的详细教程。每个部分都包含了示例代码和解释。\n",
      "\n",
      "1. 基础知识复习\n",
      "\n",
      "Pandas基本操作\n",
      "\n",
      "import pandas as pd\n",
      "\n",
      "# 创建DataFrame\n",
      "data = {'A': [1, 2, 3], 'B': [4, 5, 6]}\n",
      "df = pd.DataFrame(data)\n",
      "print(df)\n",
      "\n",
      "# 数据选择与过滤\n",
      "print(df['A'])  # 选择列\n",
      "print(df[df['A'] > 1])  # 过滤行\n",
      "\n",
      "# 数据清洗与预处理\n",
      "df['C'] = df['A'] + df['B']  # 新增列\n",
      "df.dropna(inplace=True)  # 删除缺失值\n",
      "print(df)\n",
      "2. 数据合并与连接\n",
      "\n",
      "合并（Merge）\n",
      "\n",
      "# 创建两个DataFrame\n",
      "df1 = pd.DataFrame({'key': ['A', 'B', 'C'], 'value1': [1, 2, 3]})\n",
      "df2 = pd.DataFrame({'key': ['B', 'C', 'D'], 'value2': [4, 5, 6]})\n",
      "\n",
      "# 内连接\n",
      "merged_inner = pd.merge(df1, df2, on='key', how='inner')\n",
      "print(merged_inner)\n",
      "\n",
      "# 外连接\n",
      "merged_outer = pd.merge(df1, df2, on='key', how='outer')\n",
      "print(merged_outer)\n",
      "\n",
      "# 左连接\n",
      "merged_left = pd.merge(df1, df2, on='key', how='left')\n",
      "print(merged_left)\n",
      "\n",
      "# 右连接\n",
      "merged_right = pd.merge(df1, df2, on='key', how='right')\n",
      "print(merged_right)\n",
      "连接（Join）\n",
      "\n",
      "# 创建两个DataFrame\n",
      "df1 = pd.DataFrame({'key': ['A', 'B', 'C'], 'value1': [1, 2, 3]}).set_index('key')\n",
      "df2 = pd.DataFrame({'key': ['B', 'C', 'D'], 'value2': [4, 5, 6]}).set_index('key')\n",
      "\n",
      "# 使用join进行连接\n",
      "joined = df1.join(df2, how='inner')\n",
      "print(joined)\n",
      "连接轴（Concatenation）\n",
      "\n",
      "# 创建两个DataFrame\n",
      "df1 = pd.DataFrame({'A': ['A0', 'A1', 'A2'], 'B': ['B0', 'B1', 'B2']})\n",
      "df2 = pd.DataFrame({'A': ['A3', 'A4', 'A5'], 'B': ['B3', 'B4', 'B5']})\n",
      "\n",
      "# 沿行连接\n",
      "concat_rows = pd.concat([df1, df2], axis=0)\n",
      "print(concat_rows)\n",
      "\n",
      "# 沿列连接\n",
      "concat_cols = pd.concat([df1, df2], axis=1)\n",
      "print(concat_cols)\n",
      "3. 数据透视表与交叉表\n",
      "\n",
      "数据透视表（Pivot Table）\n",
      "\n",
      "# 创建DataFrame\n",
      "data = {'A': ['foo', 'foo', 'foo', 'bar', 'bar', 'bar'],\n",
      "        'B': ['one', 'one', 'two', 'two', 'one', 'one'],\n",
      "        'C': ['small', 'large', 'large', 'small', 'small', 'large'],\n",
      "        'D': [1, 2, 2, 3, 3, 4]}\n",
      "df = pd.DataFrame(data)\n",
      "\n",
      "# 创建数据透视表\n",
      "pivot_table = pd.pivot_table(df, values='D', index=['A', 'B'], columns=['C'], aggfunc='sum')\n",
      "print(pivot_table)\n",
      "交叉表（Crosstab）\n",
      "\n",
      "# 创建交叉表\n",
      "crosstab = pd.crosstab(df['A'], df['C'])\n",
      "print(crosstab)\n",
      "4. 重塑与透视\n",
      "\n",
      "重塑（Reshape）\n",
      "\n",
      "# 创建DataFrame\n",
      "data = {'A': ['foo', 'bar', 'baz'], 'B': [1, 2, 3], 'C': [4, 5, 6]}\n",
      "df = pd.DataFrame(data)\n",
      "\n",
      "# 使用melt函数\n",
      "melted = pd.melt(df, id_vars=['A'], value_vars=['B', 'C'])\n",
      "print(melted)\n",
      "透视（Pivot）\n",
      "\n",
      "# 创建DataFrame\n",
      "data = {'A': ['foo', 'foo', 'bar', 'bar'], 'B': ['one', 'two', 'one', 'two'], 'C': [1, 2, 3, 4]}\n",
      "df = pd.DataFrame(data)\n",
      "\n",
      "# 使用pivot方法\n",
      "pivoted = df.pivot(index='A', columns='B', values='C')\n",
      "print(pivoted)\n",
      "5. 分组与聚合\n",
      "\n",
      "分组操作（GroupBy）\n",
      "\n",
      "# 创建DataFrame\n",
      "data = {'A': ['foo', 'bar', 'foo', 'bar'], 'B': ['one', 'one', 'two', 'two'], 'C': [1, 2, 3, 4]}\n",
      "df = pd.DataFrame(data)\n",
      "\n",
      "# 分组并聚合\n",
      "grouped = df.groupby('A').sum()\n",
      "print(grouped)\n",
      "\n",
      "# 多层分组与多重聚合\n",
      "multi_grouped = df.groupby(['A', 'B']).agg({'C': ['sum', 'mean']})\n",
      "print(multi_grouped)\n",
      "6. 时间序列数据处理\n",
      "\n",
      "时间序列数据\n",
      "\n",
      "# 创建时间序列DataFrame\n",
      "date_rng = pd.date_range(start='2023-01-01', end='2023-01-10', freq='D')\n",
      "df = pd.DataFrame(date_rng, columns=['date'])\n",
      "df['data'] = pd.Series(range(1, len(df)+1))\n",
      "\n",
      "# 设置日期时间索引\n",
      "df.set_index('date', inplace=True)\n",
      "print(df)\n",
      "\n",
      "# 时间重采样\n",
      "resampled = df.resample('2D').sum()\n",
      "print(resampled)\n",
      "7. 高级数据处理技巧\n",
      "\n",
      "条件合并\n",
      "\n",
      "import numpy as np\n",
      "\n",
      "# 创建两个DataFrame\n",
      "df1 = pd.DataFrame({'key': ['A', 'B', 'C'], 'value1': [1, 2, 3]})\n",
      "df2 = pd.DataFrame({'key': ['B', 'C', 'D'], 'value2': [4, 5, 6]})\n",
      "\n",
      "# 条件合并\n",
      "merged = pd.merge(df1, df2, on='key', how='outer')\n",
      "merged['value'] = np.where(pd.notnull(merged['value1']), merged['value1'], merged['value2'])\n",
      "print(merged)\n",
      "自定义函数与应用\n",
      "\n",
      "# 创建DataFrame\n",
      "data = {'A': [1, 2, 3], 'B': [4, 5, 6]}\n",
      "df = pd.DataFrame(data)\n",
      "\n",
      "# 使用apply方法\n",
      "df['C'] = df['A'].apply(lambda x: x * 2)\n",
      "print(df)\n",
      "\n",
      "# 自定义聚合函数\n",
      "def custom_agg(x):\n",
      "    return x.max() - x.min()\n",
      "\n",
      "grouped = df.groupby('A').agg(custom_agg)\n",
      "print(grouped)\n",
      "8. 性能优化\n",
      "\n",
      "性能调优\n",
      "\n",
      "import dask.dataframe as dd\n",
      "\n",
      "# 创建大数据集\n",
      "large_df = pd.DataFrame({'A': range(1000000), 'B': range(1000000)})\n",
      "\n",
      "# 使用dask进行大数据处理\n",
      "dask_df = dd.from_pandas(large_df, npartitions=10)\n",
      "result = dask_df.groupby('A').sum().compute()\n",
      "print(result)\n",
      "9. 实战案例与项目\n",
      "\n",
      "实战案例\n",
      "\n",
      "# 示例：多表数据的实际业务场景应用\n",
      "# 假设有两个表：订单表和客户表\n",
      "\n",
      "# 创建订单表\n",
      "orders = pd.DataFrame({\n",
      "    'order_id': [1, 2, 3, 4],\n",
      "    'customer_id': [1, 2, 1, 3],\n",
      "    'amount': [100, 200, 150, 300]\n",
      "})\n",
      "\n",
      "# 创建客户表\n",
      "customers = pd.DataFrame({\n",
      "    'customer_id': [1, 2, 3],\n",
      "    'customer_name': ['Alice', 'Bob', 'Charlie']\n",
      "})\n",
      "\n",
      "# 合并订单表和客户表\n",
      "merged_data = pd.merge(orders, customers, on='customer_id')\n",
      "print(merged_data)\n",
      "\n",
      "# 分析每个客户的总订单金额\n",
      "customer_total = merged_data.groupby('customer_name')['amount'].sum().reset_index()\n",
      "print(customer_total)\n",
      "10. 参考资料与社区资源\n",
      "\n",
      "官方文档\n",
      "\n",
      "Pandas官方文档\n",
      "书籍与教程\n",
      "\n",
      "《Python for Data Analysis》 by Wes McKinney\n",
      "Pandas官方教程\n",
      "社区与论坛\n",
      "\n",
      "Stack Overflow上的Pandas标签\n",
      "Pandas GitHub社区\n",
      "通过以上代码示例和解释，你可以更深入地理解和掌握Pandas多表处理的技巧。希望这些内容对你有所帮助，祝你学习顺利！\n"
     ]
    }
   ],
   "source": [
    "print(ttx)"
   ]
  },
  {
   "cell_type": "code",
   "execution_count": null,
   "id": "5d4fcf19-0162-4873-9e33-9c0ab6388bdd",
   "metadata": {},
   "outputs": [],
   "source": []
  },
  {
   "cell_type": "code",
   "execution_count": 20,
   "id": "6fc4843a-aee5-4a86-9590-907d77d9ff1a",
   "metadata": {
    "tags": []
   },
   "outputs": [
    {
     "name": "stdout",
     "output_type": "stream",
     "text": [
      "None\n"
     ]
    }
   ],
   "source": [
    "print(e)"
   ]
  },
  {
   "cell_type": "code",
   "execution_count": null,
   "id": "4fc8b24a-aea0-4216-ab55-2df3ff8b55c1",
   "metadata": {},
   "outputs": [],
   "source": [
    "# 报错如何处理"
   ]
  },
  {
   "cell_type": "code",
   "execution_count": null,
   "id": "e171ec0b-d254-4fe2-9b35-9093a0cbd604",
   "metadata": {},
   "outputs": [],
   "source": []
  },
  {
   "cell_type": "code",
   "execution_count": null,
   "id": "8d2ad1be-e630-4f04-b98a-8acd262727d4",
   "metadata": {},
   "outputs": [],
   "source": [
    "# 未报错 执行下一步"
   ]
  },
  {
   "cell_type": "code",
   "execution_count": 21,
   "id": "5bdcc4d4-a447-4490-814d-72837d6241fc",
   "metadata": {
    "collapsed": true,
    "jupyter": {
     "outputs_hidden": true
    },
    "tags": []
   },
   "outputs": [
    {
     "data": {
      "text/plain": [
       "\"\\n当然可以！以下是基于你的学习清单，针对可以代码实现的部分编写的详细教程。每个部分都包含了示例代码和解释。\\n\\n1. 基础知识复习\\n\\nPandas基本操作\\n\\nimport pandas as pd\\n\\n# 创建DataFrame\\ndata = {'A': [1, 2, 3], 'B': [4, 5, 6]}\\ndf = pd.DataFrame(data)\\nprint(df)\\n\\n# 数据选择与过滤\\nprint(df['A'])  # 选择列\\nprint(df[df['A'] > 1])  # 过滤行\\n\\n# 数据清洗与预处理\\ndf['C'] = df['A'] + df['B']  # 新增列\\ndf.dropna(inplace=True)  # 删除缺失值\\nprint(df)\\n2. 数据合并与连接\\n\\n合并（Merge）\\n\\n# 创建两个DataFrame\\ndf1 = pd.DataFrame({'key': ['A', 'B', 'C'], 'value1': [1, 2, 3]})\\ndf2 = pd.DataFrame({'key': ['B', 'C', 'D'], 'value2': [4, 5, 6]})\\n\\n# 内连接\\nmerged_inner = pd.merge(df1, df2, on='key', how='inner')\\nprint(merged_inner)\\n\\n# 外连接\\nmerged_outer = pd.merge(df1, df2, on='key', how='outer')\\nprint(merged_outer)\\n\\n# 左连接\\nmerged_left = pd.merge(df1, df2, on='key', how='left')\\nprint(merged_left)\\n\\n# 右连接\\nmerged_right = pd.merge(df1, df2, on='key', how='right')\\nprint(merged_right)\\n连接（Join）\\n\\n# 创建两个DataFrame\\ndf1 = pd.DataFrame({'key': ['A', 'B', 'C'], 'value1': [1, 2, 3]}).set_index('key')\\ndf2 = pd.DataFrame({'key': ['B', 'C', 'D'], 'value2': [4, 5, 6]}).set_index('key')\\n\\n# 使用join进行连接\\njoined = df1.join(df2, how='inner')\\nprint(joined)\\n连接轴（Concatenation）\\n\\n# 创建两个DataFrame\\ndf1 = pd.DataFrame({'A': ['A0', 'A1', 'A2'], 'B': ['B0', 'B1', 'B2']})\\ndf2 = pd.DataFrame({'A': ['A3', 'A4', 'A5'], 'B': ['B3', 'B4', 'B5']})\\n\\n# 沿行连接\\nconcat_rows = pd.concat([df1, df2], axis=0)\\nprint(concat_rows)\\n\\n# 沿列连接\\nconcat_cols = pd.concat([df1, df2], axis=1)\\nprint(concat_cols)\\n3. 数据透视表与交叉表\\n\\n数据透视表（Pivot Table）\\n\\n# 创建DataFrame\\ndata = {'A': ['foo', 'foo', 'foo', 'bar', 'bar', 'bar'],\\n        'B': ['one', 'one', 'two', 'two', 'one', 'one'],\\n        'C': ['small', 'large', 'large', 'small', 'small', 'large'],\\n        'D': [1, 2, 2, 3, 3, 4]}\\ndf = pd.DataFrame(data)\\n\\n# 创建数据透视表\\npivot_table = pd.pivot_table(df, values='D', index=['A', 'B'], columns=['C'], aggfunc='sum')\\nprint(pivot_table)\\n交叉表（Crosstab）\\n\\n# 创建交叉表\\ncrosstab = pd.crosstab(df['A'], df['C'])\\nprint(crosstab)\\n4. 重塑与透视\\n\\n重塑（Reshape）\\n\\n# 创建DataFrame\\ndata = {'A': ['foo', 'bar', 'baz'], 'B': [1, 2, 3], 'C': [4, 5, 6]}\\ndf = pd.DataFrame(data)\\n\\n# 使用melt函数\\nmelted = pd.melt(df, id_vars=['A'], value_vars=['B', 'C'])\\nprint(melted)\\n透视（Pivot）\\n\\n# 创建DataFrame\\ndata = {'A': ['foo', 'foo', 'bar', 'bar'], 'B': ['one', 'two', 'one', 'two'], 'C': [1, 2, 3, 4]}\\ndf = pd.DataFrame(data)\\n\\n# 使用pivot方法\\npivoted = df.pivot(index='A', columns='B', values='C')\\nprint(pivoted)\\n5. 分组与聚合\\n\\n分组操作（GroupBy）\\n\\n# 创建DataFrame\\ndata = {'A': ['foo', 'bar', 'foo', 'bar'], 'B': ['one', 'one', 'two', 'two'], 'C': [1, 2, 3, 4]}\\ndf = pd.DataFrame(data)\\n\\n# 分组并聚合\\ngrouped = df.groupby('A').sum()\\nprint(grouped)\\n\\n# 多层分组与多重聚合\\nmulti_grouped = df.groupby(['A', 'B']).agg({'C': ['sum', 'mean']})\\nprint(multi_grouped)\\n6. 时间序列数据处理\\n\\n时间序列数据\\n\\n# 创建时间序列DataFrame\\ndate_rng = pd.date_range(start='2023-01-01', end='2023-01-10', freq='D')\\ndf = pd.DataFrame(date_rng, columns=['date'])\\ndf['data'] = pd.Series(range(1, len(df)+1))\\n\\n# 设置日期时间索引\\ndf.set_index('date', inplace=True)\\nprint(df)\\n\\n# 时间重采样\\nresampled = df.resample('2D').sum()\\nprint(resampled)\\n7. 高级数据处理技巧\\n\\n条件合并\\n\\nimport numpy as np\\n\\n# 创建两个DataFrame\\ndf1 = pd.DataFrame({'key': ['A', 'B', 'C'], 'value1': [1, 2, 3]})\\ndf2 = pd.DataFrame({'key': ['B', 'C', 'D'], 'value2': [4, 5, 6]})\\n\\n# 条件合并\\nmerged = pd.merge(df1, df2, on='key', how='outer')\\nmerged['value'] = np.where(pd.notnull(merged['value1']), merged['value1'], merged['value2'])\\nprint(merged)\\n自定义函数与应用\\n\\n# 创建DataFrame\\ndata = {'A': [1, 2, 3], 'B': [4, 5, 6]}\\ndf = pd.DataFrame(data)\\n\\n# 使用apply方法\\ndf['C'] = df['A'].apply(lambda x: x * 2)\\nprint(df)\\n\\n# 自定义聚合函数\\ndef custom_agg(x):\\n    return x.max() - x.min()\\n\\ngrouped = df.groupby('A').agg(custom_agg)\\nprint(grouped)\\n8. 性能优化\\n\\n性能调优\\n\\nimport dask.dataframe as dd\\n\\n# 创建大数据集\\nlarge_df = pd.DataFrame({'A': range(1000000), 'B': range(1000000)})\\n\\n# 使用dask进行大数据处理\\ndask_df = dd.from_pandas(large_df, npartitions=10)\\nresult = dask_df.groupby('A').sum().compute()\\nprint(result)\\n9. 实战案例与项目\\n\\n实战案例\\n\\n# 示例：多表数据的实际业务场景应用\\n# 假设有两个表：订单表和客户表\\n\\n# 创建订单表\\norders = pd.DataFrame({\\n    'order_id': [1, 2, 3, 4],\\n    'customer_id': [1, 2, 1, 3],\\n    'amount': [100, 200, 150, 300]\\n})\\n\\n# 创建客户表\\ncustomers = pd.DataFrame({\\n    'customer_id': [1, 2, 3],\\n    'customer_name': ['Alice', 'Bob', 'Charlie']\\n})\\n\\n# 合并订单表和客户表\\nmerged_data = pd.merge(orders, customers, on='customer_id')\\nprint(merged_data)\\n\\n# 分析每个客户的总订单金额\\ncustomer_total = merged_data.groupby('customer_name')['amount'].sum().reset_index()\\nprint(customer_total)\\n10. 参考资料与社区资源\\n\\n官方文档\\n\\nPandas官方文档\\n书籍与教程\\n\\n《Python for Data Analysis》 by Wes McKinney\\nPandas官方教程\\n社区与论坛\\n\\nStack Overflow上的Pandas标签\\nPandas GitHub社区\\n通过以上代码示例和解释，你可以更深入地理解和掌握Pandas多表处理的技巧。希望这些内容对你有所帮助，祝你学习顺利！\""
      ]
     },
     "execution_count": 21,
     "metadata": {},
     "output_type": "execute_result"
    }
   ],
   "source": [
    "ttx"
   ]
  },
  {
   "cell_type": "code",
   "execution_count": 25,
   "id": "7b3c2afc-45b5-4077-91b8-0e6001872a7b",
   "metadata": {
    "tags": []
   },
   "outputs": [
    {
     "data": {
      "text/plain": [
       "1"
      ]
     },
     "execution_count": 25,
     "metadata": {},
     "output_type": "execute_result"
    }
   ],
   "source": [
    "1"
   ]
  },
  {
   "cell_type": "code",
   "execution_count": 30,
   "id": "4dce3b70-8982-4e91-bc02-1f434ed3016e",
   "metadata": {
    "tags": []
   },
   "outputs": [],
   "source": [
    "result3 = llm.complete(f\"\"\"\n",
    "我这里有一些对于{target}的研究文档,我希望将其进行适当的编写,使其成为方便好用且拓展性好的工具包.\n",
    "----\n",
    "{ttx}\n",
    "----\n",
    "我希望函数更具拓展性和通用性,  其中具体的例子可以改为注释的形式.\n",
    "\"\"\")"
   ]
  },
  {
   "cell_type": "code",
   "execution_count": null,
   "id": "e77a4660-9e11-43fe-8d28-c0de13dcba69",
   "metadata": {},
   "outputs": [],
   "source": []
  },
  {
   "cell_type": "code",
   "execution_count": 31,
   "id": "57de8c72-bc44-4875-8b05-0a0b5f847826",
   "metadata": {
    "collapsed": true,
    "jupyter": {
     "outputs_hidden": true
    },
    "tags": []
   },
   "outputs": [
    {
     "data": {
      "text/markdown": [
       "好的，为了使这些函数更具拓展性和通用性，我们可以将每个操作封装成函数，并添加参数以便用户自定义操作。以下是改进后的代码：\n",
       "\n",
       "```python\n",
       "import pandas as pd\n",
       "import numpy as np\n",
       "import dask.dataframe as dd\n",
       "\n",
       "# 基础知识复习\n",
       "def create_dataframe(data):\n",
       "    \"\"\"\n",
       "    创建DataFrame\n",
       "    :param data: 字典形式的数据\n",
       "    :return: DataFrame\n",
       "    \"\"\"\n",
       "    return pd.DataFrame(data)\n",
       "\n",
       "def select_and_filter(df, column, condition=None):\n",
       "    \"\"\"\n",
       "    数据选择与过滤\n",
       "    :param df: DataFrame\n",
       "    :param column: 选择的列\n",
       "    :param condition: 过滤条件\n",
       "    :return: 过滤后的DataFrame\n",
       "    \"\"\"\n",
       "    if condition:\n",
       "        return df[df[column] > condition]\n",
       "    return df[column]\n",
       "\n",
       "def clean_and_preprocess(df, new_column, operation, dropna=True):\n",
       "    \"\"\"\n",
       "    数据清洗与预处理\n",
       "    :param df: DataFrame\n",
       "    :param new_column: 新增列名\n",
       "    :param operation: 新增列的操作\n",
       "    :param dropna: 是否删除缺失值\n",
       "    :return: 处理后的DataFrame\n",
       "    \"\"\"\n",
       "    df[new_column] = operation(df)\n",
       "    if dropna:\n",
       "        df.dropna(inplace=True)\n",
       "    return df\n",
       "\n",
       "# 数据合并与连接\n",
       "def merge_dataframes(df1, df2, key, how='inner'):\n",
       "    \"\"\"\n",
       "    合并两个DataFrame\n",
       "    :param df1: 第一个DataFrame\n",
       "    :param df2: 第二个DataFrame\n",
       "    :param key: 合并键\n",
       "    :param how: 合并方式\n",
       "    :return: 合并后的DataFrame\n",
       "    \"\"\"\n",
       "    return pd.merge(df1, df2, on=key, how=how)\n",
       "\n",
       "def join_dataframes(df1, df2, how='inner'):\n",
       "    \"\"\"\n",
       "    使用join连接两个DataFrame\n",
       "    :param df1: 第一个DataFrame\n",
       "    :param df2: 第二个DataFrame\n",
       "    :param how: 连接方式\n",
       "    :return: 连接后的DataFrame\n",
       "    \"\"\"\n",
       "    return df1.join(df2, how=how)\n",
       "\n",
       "def concatenate_dataframes(dfs, axis=0):\n",
       "    \"\"\"\n",
       "    沿指定轴连接多个DataFrame\n",
       "    :param dfs: DataFrame列表\n",
       "    :param axis: 连接轴\n",
       "    :return: 连接后的DataFrame\n",
       "    \"\"\"\n",
       "    return pd.concat(dfs, axis=axis)\n",
       "\n",
       "# 数据透视表与交叉表\n",
       "def create_pivot_table(df, values, index, columns, aggfunc='sum'):\n",
       "    \"\"\"\n",
       "    创建数据透视表\n",
       "    :param df: DataFrame\n",
       "    :param values: 透视表值\n",
       "    :param index: 行索引\n",
       "    :param columns: 列索引\n",
       "    :param aggfunc: 聚合函数\n",
       "    :return: 数据透视表\n",
       "    \"\"\"\n",
       "    return pd.pivot_table(df, values=values, index=index, columns=columns, aggfunc=aggfunc)\n",
       "\n",
       "def create_crosstab(df, row, col):\n",
       "    \"\"\"\n",
       "    创建交叉表\n",
       "    :param df: DataFrame\n",
       "    :param row: 行变量\n",
       "    :param col: 列变量\n",
       "    :return: 交叉表\n",
       "    \"\"\"\n",
       "    return pd.crosstab(df[row], df[col])\n",
       "\n",
       "# 重塑与透视\n",
       "def reshape_dataframe(df, id_vars, value_vars):\n",
       "    \"\"\"\n",
       "    使用melt函数重塑DataFrame\n",
       "    :param df: DataFrame\n",
       "    :param id_vars: 保持不变的列\n",
       "    :param value_vars: 需要重塑的列\n",
       "    :return: 重塑后的DataFrame\n",
       "    \"\"\"\n",
       "    return pd.melt(df, id_vars=id_vars, value_vars=value_vars)\n",
       "\n",
       "def pivot_dataframe(df, index, columns, values):\n",
       "    \"\"\"\n",
       "    使用pivot方法透视DataFrame\n",
       "    :param df: DataFrame\n",
       "    :param index: 行索引\n",
       "    :param columns: 列索引\n",
       "    :param values: 透视值\n",
       "    :return: 透视后的DataFrame\n",
       "    \"\"\"\n",
       "    return df.pivot(index=index, columns=columns, values=values)\n",
       "\n",
       "# 分组与聚合\n",
       "def group_and_aggregate(df, by, aggfunc='sum'):\n",
       "    \"\"\"\n",
       "    分组并聚合DataFrame\n",
       "    :param df: DataFrame\n",
       "    :param by: 分组键\n",
       "    :param aggfunc: 聚合函数\n",
       "    :return: 聚合后的DataFrame\n",
       "    \"\"\"\n",
       "    return df.groupby(by).agg(aggfunc)\n",
       "\n",
       "def multi_group_and_aggregate(df, by, agg_dict):\n",
       "    \"\"\"\n",
       "    多层分组与多重聚合\n",
       "    :param df: DataFrame\n",
       "    :param by: 分组键\n",
       "    :param agg_dict: 聚合字典\n",
       "    :return: 聚合后的DataFrame\n",
       "    \"\"\"\n",
       "    return df.groupby(by).agg(agg_dict)\n",
       "\n",
       "# 时间序列数据处理\n",
       "def create_time_series(start, end, freq='D'):\n",
       "    \"\"\"\n",
       "    创建时间序列DataFrame\n",
       "    :param start: 开始日期\n",
       "    :param end: 结束日期\n",
       "    :param freq: 频率\n",
       "    :return: 时间序列DataFrame\n",
       "    \"\"\"\n",
       "    date_rng = pd.date_range(start=start, end=end, freq=freq)\n",
       "    df = pd.DataFrame(date_rng, columns=['date'])\n",
       "    df['data'] = pd.Series(range(1, len(df)+1))\n",
       "    df.set_index('date', inplace=True)\n",
       "    return df\n",
       "\n",
       "def resample_time_series(df, rule, aggfunc='sum'):\n",
       "    \"\"\"\n",
       "    时间重采样\n",
       "    :param df: 时间序列DataFrame\n",
       "    :param rule: 重采样规则\n",
       "    :param aggfunc: 聚合函数\n",
       "    :return: 重采样后的DataFrame\n",
       "    \"\"\"\n",
       "    return df.resample(rule).agg(aggfunc)\n",
       "\n",
       "# 高级数据处理技巧\n",
       "def conditional_merge(df1, df2, key, condition_column, new_column):\n",
       "    \"\"\"\n",
       "    条件合并两个DataFrame\n",
       "    :param df1: 第一个DataFrame\n",
       "    :param df2: 第二个DataFrame\n",
       "    :param key: 合并键\n",
       "    :param condition_column: 条件列\n",
       "    :param new_column: 新列名\n",
       "    :return: 合并后的DataFrame\n",
       "    \"\"\"\n",
       "    merged = pd.merge(df1, df2, on=key, how='outer')\n",
       "    merged[new_column] = np.where(pd.notnull(merged[condition_column[0]]), merged[condition_column[0]], merged[condition_column[1]])\n",
       "    return merged\n",
       "\n",
       "def apply_custom_function(df, column, func):\n",
       "    \"\"\"\n",
       "    使用自定义函数处理DataFrame\n",
       "    :param df: DataFrame\n",
       "    :param column: 需要处理的列\n",
       "    :param func: 自定义函数\n",
       "    :return: 处理后的DataFrame\n",
       "    \"\"\"\n",
       "    df[column] = df[column].apply(func)\n",
       "    return df\n",
       "\n",
       "def custom_aggregate(df, by, func):\n",
       "    \"\"\"\n",
       "    自定义聚合函数\n",
       "    :param df: DataFrame\n",
       "    :param by: 分组键\n",
       "    :param func: 自定义聚合函数\n",
       "    :return: 聚合后的DataFrame\n",
       "    \"\"\"\n",
       "    return df.groupby(by).agg(func)\n",
       "\n",
       "# 性能优化\n",
       "def optimize_performance(df, npartitions=10):\n",
       "    \"\"\"\n",
       "    使用Dask进行大数据处理\n",
       "    :param df: 大数据集DataFrame\n",
       "    :param npartitions: 分区数\n",
       "    :return: 处理后的DataFrame\n",
       "    \"\"\"\n",
       "    dask_df = dd.from_pandas(df, npartitions=npartitions)\n",
       "    return dask_df.groupby('A').sum().compute()\n",
       "\n",
       "# 实战案例与项目\n",
       "def merge_orders_and_customers(orders, customers):\n",
       "    \"\"\"\n",
       "    合并订单表和客户表\n",
       "    :param orders: 订单表DataFrame\n",
       "    :param customers: 客户表DataFrame\n",
       "    :return: 合并后的DataFrame\n",
       "    \"\"\"\n",
       "    return pd.merge(orders, customers, on='customer_id')\n",
       "\n",
       "def analyze_customer_total(merged_data):\n",
       "    \"\"\"\n",
       "    分析每个客户的总订单金额\n",
       "    :param merged_data: 合并后的DataFrame\n",
       "    :return: 每个客户的总订单金额DataFrame\n",
       "    \"\"\"\n",
       "    return merged_data.groupby('customer_name')['amount'].sum().reset_index()\n",
       "\n",
       "# 参考资料与社区资源\n",
       "def get_official_docs():\n",
       "    \"\"\"\n",
       "    获取Pandas官方文档链接\n",
       "    :return: 官方文档链接\n",
       "    \"\"\"\n",
       "    return \"https://pandas.pydata.org/pandas-docs/stable/\"\n",
       "\n",
       "def get_books_and_tutorials():\n",
       "    \"\"\"\n",
       "    获取推荐书籍与教程\n",
       "    :return: 推荐书籍与教程列表\n",
       "    \"\"\"\n",
       "    return [\n",
       "        \"《Python for Data Analysis》 by Wes McKinney\",\n",
       "        \"Pandas官方教程\"\n",
       "    ]\n",
       "\n",
       "def get_community_resources():\n",
       "    \"\"\"\n",
       "    获取社区与论坛资源\n",
       "    :return: 社区与论坛资源列表\n",
       "    \"\"\"\n",
       "    return [\n",
       "        \"Stack Overflow上的Pandas标签\",\n",
       "        \"Pandas GitHub社区\"\n",
       "    ]\n",
       "```\n",
       "\n",
       "以上代码将每个操作封装成了函数，并添加了参数以便用户自定义操作。具体的例子被注释掉，用户可以根据需要调用这些函数并传入相应的参数。这样可以提高代码的可读性和可维护性，同时也增强了代码的通用性和拓展性。"
      ],
      "text/plain": [
       "<IPython.core.display.Markdown object>"
      ]
     },
     "execution_count": 31,
     "metadata": {},
     "output_type": "execute_result"
    }
   ],
   "source": [
    "Markdown(result3.text)"
   ]
  },
  {
   "cell_type": "code",
   "execution_count": null,
   "id": "f7f0e86f-6c7c-4ae3-b161-e63f9a8d45ab",
   "metadata": {},
   "outputs": [],
   "source": []
  },
  {
   "cell_type": "code",
   "execution_count": 33,
   "id": "a4a3dd40-ea24-4c51-af86-18c8d4475be4",
   "metadata": {
    "tags": []
   },
   "outputs": [],
   "source": [
    "import re"
   ]
  },
  {
   "cell_type": "code",
   "execution_count": 46,
   "id": "b72baf12-cf09-4c5b-bb48-0587fecfc816",
   "metadata": {
    "tags": []
   },
   "outputs": [],
   "source": [
    "a = re.search(r\"\\n\\n```python(.*?)```\",result3.text,re.DOTALL)"
   ]
  },
  {
   "cell_type": "code",
   "execution_count": 50,
   "id": "934f60a6-64ca-4bf7-aba9-698693877f9b",
   "metadata": {
    "collapsed": true,
    "jupyter": {
     "outputs_hidden": true
    },
    "tags": []
   },
   "outputs": [
    {
     "name": "stdout",
     "output_type": "stream",
     "text": [
      "\n",
      "import pandas as pd\n",
      "import numpy as np\n",
      "import dask.dataframe as dd\n",
      "\n",
      "# 基础知识复习\n",
      "def create_dataframe(data):\n",
      "    \"\"\"\n",
      "    创建DataFrame\n",
      "    :param data: 字典形式的数据\n",
      "    :return: DataFrame\n",
      "    \"\"\"\n",
      "    return pd.DataFrame(data)\n",
      "\n",
      "def select_and_filter(df, column, condition=None):\n",
      "    \"\"\"\n",
      "    数据选择与过滤\n",
      "    :param df: DataFrame\n",
      "    :param column: 选择的列\n",
      "    :param condition: 过滤条件\n",
      "    :return: 过滤后的DataFrame\n",
      "    \"\"\"\n",
      "    if condition:\n",
      "        return df[df[column] > condition]\n",
      "    return df[column]\n",
      "\n",
      "def clean_and_preprocess(df, new_column, operation, dropna=True):\n",
      "    \"\"\"\n",
      "    数据清洗与预处理\n",
      "    :param df: DataFrame\n",
      "    :param new_column: 新增列名\n",
      "    :param operation: 新增列的操作\n",
      "    :param dropna: 是否删除缺失值\n",
      "    :return: 处理后的DataFrame\n",
      "    \"\"\"\n",
      "    df[new_column] = operation(df)\n",
      "    if dropna:\n",
      "        df.dropna(inplace=True)\n",
      "    return df\n",
      "\n",
      "# 数据合并与连接\n",
      "def merge_dataframes(df1, df2, key, how='inner'):\n",
      "    \"\"\"\n",
      "    合并两个DataFrame\n",
      "    :param df1: 第一个DataFrame\n",
      "    :param df2: 第二个DataFrame\n",
      "    :param key: 合并键\n",
      "    :param how: 合并方式\n",
      "    :return: 合并后的DataFrame\n",
      "    \"\"\"\n",
      "    return pd.merge(df1, df2, on=key, how=how)\n",
      "\n",
      "def join_dataframes(df1, df2, how='inner'):\n",
      "    \"\"\"\n",
      "    使用join连接两个DataFrame\n",
      "    :param df1: 第一个DataFrame\n",
      "    :param df2: 第二个DataFrame\n",
      "    :param how: 连接方式\n",
      "    :return: 连接后的DataFrame\n",
      "    \"\"\"\n",
      "    return df1.join(df2, how=how)\n",
      "\n",
      "def concatenate_dataframes(dfs, axis=0):\n",
      "    \"\"\"\n",
      "    沿指定轴连接多个DataFrame\n",
      "    :param dfs: DataFrame列表\n",
      "    :param axis: 连接轴\n",
      "    :return: 连接后的DataFrame\n",
      "    \"\"\"\n",
      "    return pd.concat(dfs, axis=axis)\n",
      "\n",
      "# 数据透视表与交叉表\n",
      "def create_pivot_table(df, values, index, columns, aggfunc='sum'):\n",
      "    \"\"\"\n",
      "    创建数据透视表\n",
      "    :param df: DataFrame\n",
      "    :param values: 透视表值\n",
      "    :param index: 行索引\n",
      "    :param columns: 列索引\n",
      "    :param aggfunc: 聚合函数\n",
      "    :return: 数据透视表\n",
      "    \"\"\"\n",
      "    return pd.pivot_table(df, values=values, index=index, columns=columns, aggfunc=aggfunc)\n",
      "\n",
      "def create_crosstab(df, row, col):\n",
      "    \"\"\"\n",
      "    创建交叉表\n",
      "    :param df: DataFrame\n",
      "    :param row: 行变量\n",
      "    :param col: 列变量\n",
      "    :return: 交叉表\n",
      "    \"\"\"\n",
      "    return pd.crosstab(df[row], df[col])\n",
      "\n",
      "# 重塑与透视\n",
      "def reshape_dataframe(df, id_vars, value_vars):\n",
      "    \"\"\"\n",
      "    使用melt函数重塑DataFrame\n",
      "    :param df: DataFrame\n",
      "    :param id_vars: 保持不变的列\n",
      "    :param value_vars: 需要重塑的列\n",
      "    :return: 重塑后的DataFrame\n",
      "    \"\"\"\n",
      "    return pd.melt(df, id_vars=id_vars, value_vars=value_vars)\n",
      "\n",
      "def pivot_dataframe(df, index, columns, values):\n",
      "    \"\"\"\n",
      "    使用pivot方法透视DataFrame\n",
      "    :param df: DataFrame\n",
      "    :param index: 行索引\n",
      "    :param columns: 列索引\n",
      "    :param values: 透视值\n",
      "    :return: 透视后的DataFrame\n",
      "    \"\"\"\n",
      "    return df.pivot(index=index, columns=columns, values=values)\n",
      "\n",
      "# 分组与聚合\n",
      "def group_and_aggregate(df, by, aggfunc='sum'):\n",
      "    \"\"\"\n",
      "    分组并聚合DataFrame\n",
      "    :param df: DataFrame\n",
      "    :param by: 分组键\n",
      "    :param aggfunc: 聚合函数\n",
      "    :return: 聚合后的DataFrame\n",
      "    \"\"\"\n",
      "    return df.groupby(by).agg(aggfunc)\n",
      "\n",
      "def multi_group_and_aggregate(df, by, agg_dict):\n",
      "    \"\"\"\n",
      "    多层分组与多重聚合\n",
      "    :param df: DataFrame\n",
      "    :param by: 分组键\n",
      "    :param agg_dict: 聚合字典\n",
      "    :return: 聚合后的DataFrame\n",
      "    \"\"\"\n",
      "    return df.groupby(by).agg(agg_dict)\n",
      "\n",
      "# 时间序列数据处理\n",
      "def create_time_series(start, end, freq='D'):\n",
      "    \"\"\"\n",
      "    创建时间序列DataFrame\n",
      "    :param start: 开始日期\n",
      "    :param end: 结束日期\n",
      "    :param freq: 频率\n",
      "    :return: 时间序列DataFrame\n",
      "    \"\"\"\n",
      "    date_rng = pd.date_range(start=start, end=end, freq=freq)\n",
      "    df = pd.DataFrame(date_rng, columns=['date'])\n",
      "    df['data'] = pd.Series(range(1, len(df)+1))\n",
      "    df.set_index('date', inplace=True)\n",
      "    return df\n",
      "\n",
      "def resample_time_series(df, rule, aggfunc='sum'):\n",
      "    \"\"\"\n",
      "    时间重采样\n",
      "    :param df: 时间序列DataFrame\n",
      "    :param rule: 重采样规则\n",
      "    :param aggfunc: 聚合函数\n",
      "    :return: 重采样后的DataFrame\n",
      "    \"\"\"\n",
      "    return df.resample(rule).agg(aggfunc)\n",
      "\n",
      "# 高级数据处理技巧\n",
      "def conditional_merge(df1, df2, key, condition_column, new_column):\n",
      "    \"\"\"\n",
      "    条件合并两个DataFrame\n",
      "    :param df1: 第一个DataFrame\n",
      "    :param df2: 第二个DataFrame\n",
      "    :param key: 合并键\n",
      "    :param condition_column: 条件列\n",
      "    :param new_column: 新列名\n",
      "    :return: 合并后的DataFrame\n",
      "    \"\"\"\n",
      "    merged = pd.merge(df1, df2, on=key, how='outer')\n",
      "    merged[new_column] = np.where(pd.notnull(merged[condition_column[0]]), merged[condition_column[0]], merged[condition_column[1]])\n",
      "    return merged\n",
      "\n",
      "def apply_custom_function(df, column, func):\n",
      "    \"\"\"\n",
      "    使用自定义函数处理DataFrame\n",
      "    :param df: DataFrame\n",
      "    :param column: 需要处理的列\n",
      "    :param func: 自定义函数\n",
      "    :return: 处理后的DataFrame\n",
      "    \"\"\"\n",
      "    df[column] = df[column].apply(func)\n",
      "    return df\n",
      "\n",
      "def custom_aggregate(df, by, func):\n",
      "    \"\"\"\n",
      "    自定义聚合函数\n",
      "    :param df: DataFrame\n",
      "    :param by: 分组键\n",
      "    :param func: 自定义聚合函数\n",
      "    :return: 聚合后的DataFrame\n",
      "    \"\"\"\n",
      "    return df.groupby(by).agg(func)\n",
      "\n",
      "# 性能优化\n",
      "def optimize_performance(df, npartitions=10):\n",
      "    \"\"\"\n",
      "    使用Dask进行大数据处理\n",
      "    :param df: 大数据集DataFrame\n",
      "    :param npartitions: 分区数\n",
      "    :return: 处理后的DataFrame\n",
      "    \"\"\"\n",
      "    dask_df = dd.from_pandas(df, npartitions=npartitions)\n",
      "    return dask_df.groupby('A').sum().compute()\n",
      "\n",
      "# 实战案例与项目\n",
      "def merge_orders_and_customers(orders, customers):\n",
      "    \"\"\"\n",
      "    合并订单表和客户表\n",
      "    :param orders: 订单表DataFrame\n",
      "    :param customers: 客户表DataFrame\n",
      "    :return: 合并后的DataFrame\n",
      "    \"\"\"\n",
      "    return pd.merge(orders, customers, on='customer_id')\n",
      "\n",
      "def analyze_customer_total(merged_data):\n",
      "    \"\"\"\n",
      "    分析每个客户的总订单金额\n",
      "    :param merged_data: 合并后的DataFrame\n",
      "    :return: 每个客户的总订单金额DataFrame\n",
      "    \"\"\"\n",
      "    return merged_data.groupby('customer_name')['amount'].sum().reset_index()\n",
      "\n",
      "# 参考资料与社区资源\n",
      "def get_official_docs():\n",
      "    \"\"\"\n",
      "    获取Pandas官方文档链接\n",
      "    :return: 官方文档链接\n",
      "    \"\"\"\n",
      "    return \"https://pandas.pydata.org/pandas-docs/stable/\"\n",
      "\n",
      "def get_books_and_tutorials():\n",
      "    \"\"\"\n",
      "    获取推荐书籍与教程\n",
      "    :return: 推荐书籍与教程列表\n",
      "    \"\"\"\n",
      "    return [\n",
      "        \"《Python for Data Analysis》 by Wes McKinney\",\n",
      "        \"Pandas官方教程\"\n",
      "    ]\n",
      "\n",
      "def get_community_resources():\n",
      "    \"\"\"\n",
      "    获取社区与论坛资源\n",
      "    :return: 社区与论坛资源列表\n",
      "    \"\"\"\n",
      "    return [\n",
      "        \"Stack Overflow上的Pandas标签\",\n",
      "        \"Pandas GitHub社区\"\n",
      "    ]\n",
      "\n"
     ]
    }
   ],
   "source": [
    "print(a.group(1))"
   ]
  },
  {
   "cell_type": "code",
   "execution_count": 32,
   "id": "85a845bd-d9f6-458e-8363-98b935757642",
   "metadata": {
    "collapsed": true,
    "jupyter": {
     "outputs_hidden": true
    },
    "tags": []
   },
   "outputs": [
    {
     "data": {
      "text/plain": [
       "'好的，为了使这些函数更具拓展性和通用性，我们可以将每个操作封装成函数，并添加参数以便用户自定义操作。以下是改进后的代码：\\n\\n```python\\nimport pandas as pd\\nimport numpy as np\\nimport dask.dataframe as dd\\n\\n# 基础知识复习\\ndef create_dataframe(data):\\n    \"\"\"\\n    创建DataFrame\\n    :param data: 字典形式的数据\\n    :return: DataFrame\\n    \"\"\"\\n    return pd.DataFrame(data)\\n\\ndef select_and_filter(df, column, condition=None):\\n    \"\"\"\\n    数据选择与过滤\\n    :param df: DataFrame\\n    :param column: 选择的列\\n    :param condition: 过滤条件\\n    :return: 过滤后的DataFrame\\n    \"\"\"\\n    if condition:\\n        return df[df[column] > condition]\\n    return df[column]\\n\\ndef clean_and_preprocess(df, new_column, operation, dropna=True):\\n    \"\"\"\\n    数据清洗与预处理\\n    :param df: DataFrame\\n    :param new_column: 新增列名\\n    :param operation: 新增列的操作\\n    :param dropna: 是否删除缺失值\\n    :return: 处理后的DataFrame\\n    \"\"\"\\n    df[new_column] = operation(df)\\n    if dropna:\\n        df.dropna(inplace=True)\\n    return df\\n\\n# 数据合并与连接\\ndef merge_dataframes(df1, df2, key, how=\\'inner\\'):\\n    \"\"\"\\n    合并两个DataFrame\\n    :param df1: 第一个DataFrame\\n    :param df2: 第二个DataFrame\\n    :param key: 合并键\\n    :param how: 合并方式\\n    :return: 合并后的DataFrame\\n    \"\"\"\\n    return pd.merge(df1, df2, on=key, how=how)\\n\\ndef join_dataframes(df1, df2, how=\\'inner\\'):\\n    \"\"\"\\n    使用join连接两个DataFrame\\n    :param df1: 第一个DataFrame\\n    :param df2: 第二个DataFrame\\n    :param how: 连接方式\\n    :return: 连接后的DataFrame\\n    \"\"\"\\n    return df1.join(df2, how=how)\\n\\ndef concatenate_dataframes(dfs, axis=0):\\n    \"\"\"\\n    沿指定轴连接多个DataFrame\\n    :param dfs: DataFrame列表\\n    :param axis: 连接轴\\n    :return: 连接后的DataFrame\\n    \"\"\"\\n    return pd.concat(dfs, axis=axis)\\n\\n# 数据透视表与交叉表\\ndef create_pivot_table(df, values, index, columns, aggfunc=\\'sum\\'):\\n    \"\"\"\\n    创建数据透视表\\n    :param df: DataFrame\\n    :param values: 透视表值\\n    :param index: 行索引\\n    :param columns: 列索引\\n    :param aggfunc: 聚合函数\\n    :return: 数据透视表\\n    \"\"\"\\n    return pd.pivot_table(df, values=values, index=index, columns=columns, aggfunc=aggfunc)\\n\\ndef create_crosstab(df, row, col):\\n    \"\"\"\\n    创建交叉表\\n    :param df: DataFrame\\n    :param row: 行变量\\n    :param col: 列变量\\n    :return: 交叉表\\n    \"\"\"\\n    return pd.crosstab(df[row], df[col])\\n\\n# 重塑与透视\\ndef reshape_dataframe(df, id_vars, value_vars):\\n    \"\"\"\\n    使用melt函数重塑DataFrame\\n    :param df: DataFrame\\n    :param id_vars: 保持不变的列\\n    :param value_vars: 需要重塑的列\\n    :return: 重塑后的DataFrame\\n    \"\"\"\\n    return pd.melt(df, id_vars=id_vars, value_vars=value_vars)\\n\\ndef pivot_dataframe(df, index, columns, values):\\n    \"\"\"\\n    使用pivot方法透视DataFrame\\n    :param df: DataFrame\\n    :param index: 行索引\\n    :param columns: 列索引\\n    :param values: 透视值\\n    :return: 透视后的DataFrame\\n    \"\"\"\\n    return df.pivot(index=index, columns=columns, values=values)\\n\\n# 分组与聚合\\ndef group_and_aggregate(df, by, aggfunc=\\'sum\\'):\\n    \"\"\"\\n    分组并聚合DataFrame\\n    :param df: DataFrame\\n    :param by: 分组键\\n    :param aggfunc: 聚合函数\\n    :return: 聚合后的DataFrame\\n    \"\"\"\\n    return df.groupby(by).agg(aggfunc)\\n\\ndef multi_group_and_aggregate(df, by, agg_dict):\\n    \"\"\"\\n    多层分组与多重聚合\\n    :param df: DataFrame\\n    :param by: 分组键\\n    :param agg_dict: 聚合字典\\n    :return: 聚合后的DataFrame\\n    \"\"\"\\n    return df.groupby(by).agg(agg_dict)\\n\\n# 时间序列数据处理\\ndef create_time_series(start, end, freq=\\'D\\'):\\n    \"\"\"\\n    创建时间序列DataFrame\\n    :param start: 开始日期\\n    :param end: 结束日期\\n    :param freq: 频率\\n    :return: 时间序列DataFrame\\n    \"\"\"\\n    date_rng = pd.date_range(start=start, end=end, freq=freq)\\n    df = pd.DataFrame(date_rng, columns=[\\'date\\'])\\n    df[\\'data\\'] = pd.Series(range(1, len(df)+1))\\n    df.set_index(\\'date\\', inplace=True)\\n    return df\\n\\ndef resample_time_series(df, rule, aggfunc=\\'sum\\'):\\n    \"\"\"\\n    时间重采样\\n    :param df: 时间序列DataFrame\\n    :param rule: 重采样规则\\n    :param aggfunc: 聚合函数\\n    :return: 重采样后的DataFrame\\n    \"\"\"\\n    return df.resample(rule).agg(aggfunc)\\n\\n# 高级数据处理技巧\\ndef conditional_merge(df1, df2, key, condition_column, new_column):\\n    \"\"\"\\n    条件合并两个DataFrame\\n    :param df1: 第一个DataFrame\\n    :param df2: 第二个DataFrame\\n    :param key: 合并键\\n    :param condition_column: 条件列\\n    :param new_column: 新列名\\n    :return: 合并后的DataFrame\\n    \"\"\"\\n    merged = pd.merge(df1, df2, on=key, how=\\'outer\\')\\n    merged[new_column] = np.where(pd.notnull(merged[condition_column[0]]), merged[condition_column[0]], merged[condition_column[1]])\\n    return merged\\n\\ndef apply_custom_function(df, column, func):\\n    \"\"\"\\n    使用自定义函数处理DataFrame\\n    :param df: DataFrame\\n    :param column: 需要处理的列\\n    :param func: 自定义函数\\n    :return: 处理后的DataFrame\\n    \"\"\"\\n    df[column] = df[column].apply(func)\\n    return df\\n\\ndef custom_aggregate(df, by, func):\\n    \"\"\"\\n    自定义聚合函数\\n    :param df: DataFrame\\n    :param by: 分组键\\n    :param func: 自定义聚合函数\\n    :return: 聚合后的DataFrame\\n    \"\"\"\\n    return df.groupby(by).agg(func)\\n\\n# 性能优化\\ndef optimize_performance(df, npartitions=10):\\n    \"\"\"\\n    使用Dask进行大数据处理\\n    :param df: 大数据集DataFrame\\n    :param npartitions: 分区数\\n    :return: 处理后的DataFrame\\n    \"\"\"\\n    dask_df = dd.from_pandas(df, npartitions=npartitions)\\n    return dask_df.groupby(\\'A\\').sum().compute()\\n\\n# 实战案例与项目\\ndef merge_orders_and_customers(orders, customers):\\n    \"\"\"\\n    合并订单表和客户表\\n    :param orders: 订单表DataFrame\\n    :param customers: 客户表DataFrame\\n    :return: 合并后的DataFrame\\n    \"\"\"\\n    return pd.merge(orders, customers, on=\\'customer_id\\')\\n\\ndef analyze_customer_total(merged_data):\\n    \"\"\"\\n    分析每个客户的总订单金额\\n    :param merged_data: 合并后的DataFrame\\n    :return: 每个客户的总订单金额DataFrame\\n    \"\"\"\\n    return merged_data.groupby(\\'customer_name\\')[\\'amount\\'].sum().reset_index()\\n\\n# 参考资料与社区资源\\ndef get_official_docs():\\n    \"\"\"\\n    获取Pandas官方文档链接\\n    :return: 官方文档链接\\n    \"\"\"\\n    return \"https://pandas.pydata.org/pandas-docs/stable/\"\\n\\ndef get_books_and_tutorials():\\n    \"\"\"\\n    获取推荐书籍与教程\\n    :return: 推荐书籍与教程列表\\n    \"\"\"\\n    return [\\n        \"《Python for Data Analysis》 by Wes McKinney\",\\n        \"Pandas官方教程\"\\n    ]\\n\\ndef get_community_resources():\\n    \"\"\"\\n    获取社区与论坛资源\\n    :return: 社区与论坛资源列表\\n    \"\"\"\\n    return [\\n        \"Stack Overflow上的Pandas标签\",\\n        \"Pandas GitHub社区\"\\n    ]\\n```\\n\\n以上代码将每个操作封装成了函数，并添加了参数以便用户自定义操作。具体的例子被注释掉，用户可以根据需要调用这些函数并传入相应的参数。这样可以提高代码的可读性和可维护性，同时也增强了代码的通用性和拓展性。'"
      ]
     },
     "execution_count": 32,
     "metadata": {},
     "output_type": "execute_result"
    }
   ],
   "source": [
    "result3.text"
   ]
  },
  {
   "cell_type": "code",
   "execution_count": 52,
   "id": "a1c5282c-59f3-4f7c-aeaa-37f04be48a56",
   "metadata": {
    "tags": []
   },
   "outputs": [
    {
     "data": {
      "text/plain": [
       "'pandas多表处理的技巧'"
      ]
     },
     "execution_count": 52,
     "metadata": {},
     "output_type": "execute_result"
    }
   ],
   "source": [
    "target"
   ]
  },
  {
   "cell_type": "code",
   "execution_count": 53,
   "id": "5b2ed0ed-18b5-49e2-9998-ca6ce4b8dc1b",
   "metadata": {
    "tags": []
   },
   "outputs": [],
   "source": [
    "with open(f\"{target}.py\",'w') as f:\n",
    "    f.write(a.group(1))"
   ]
  },
  {
   "cell_type": "code",
   "execution_count": 54,
   "id": "2e4c9d1c-76cf-46ba-af44-3950cdc0b593",
   "metadata": {
    "tags": []
   },
   "outputs": [
    {
     "name": "stdout",
     "output_type": "stream",
     "text": [
      "auto research.ipynb               pandas多表处理的技巧.ipynb\n",
      "auto_coder-Copy1.ipynb            pandas多表处理的技巧.py\n",
      "auto_coder-Copy2.ipynb            projects_auto.ipynb\n",
      "auto_coder.ipynb                  puppeteer的使用技巧.ipynb\n",
      "autostudy.ipynb                   utils.ipynb\n",
      "\u001b[34mfunction\u001b[m\u001b[m                          xxxx.ipynb\n",
      "\u001b[34mpandas_styler\u001b[m\u001b[m\n"
     ]
    }
   ],
   "source": [
    "!ls"
   ]
  },
  {
   "cell_type": "code",
   "execution_count": 55,
   "id": "95e2cfb0-cd95-4548-bed5-f58cd1eb4c59",
   "metadata": {
    "collapsed": true,
    "jupyter": {
     "outputs_hidden": true
    },
    "tags": []
   },
   "outputs": [
    {
     "data": {
      "text/plain": [
       "'\\nimport pandas as pd\\nimport numpy as np\\nimport dask.dataframe as dd\\n\\n# 基础知识复习\\ndef create_dataframe(data):\\n    \"\"\"\\n    创建DataFrame\\n    :param data: 字典形式的数据\\n    :return: DataFrame\\n    \"\"\"\\n    return pd.DataFrame(data)\\n\\ndef select_and_filter(df, column, condition=None):\\n    \"\"\"\\n    数据选择与过滤\\n    :param df: DataFrame\\n    :param column: 选择的列\\n    :param condition: 过滤条件\\n    :return: 过滤后的DataFrame\\n    \"\"\"\\n    if condition:\\n        return df[df[column] > condition]\\n    return df[column]\\n\\ndef clean_and_preprocess(df, new_column, operation, dropna=True):\\n    \"\"\"\\n    数据清洗与预处理\\n    :param df: DataFrame\\n    :param new_column: 新增列名\\n    :param operation: 新增列的操作\\n    :param dropna: 是否删除缺失值\\n    :return: 处理后的DataFrame\\n    \"\"\"\\n    df[new_column] = operation(df)\\n    if dropna:\\n        df.dropna(inplace=True)\\n    return df\\n\\n# 数据合并与连接\\ndef merge_dataframes(df1, df2, key, how=\\'inner\\'):\\n    \"\"\"\\n    合并两个DataFrame\\n    :param df1: 第一个DataFrame\\n    :param df2: 第二个DataFrame\\n    :param key: 合并键\\n    :param how: 合并方式\\n    :return: 合并后的DataFrame\\n    \"\"\"\\n    return pd.merge(df1, df2, on=key, how=how)\\n\\ndef join_dataframes(df1, df2, how=\\'inner\\'):\\n    \"\"\"\\n    使用join连接两个DataFrame\\n    :param df1: 第一个DataFrame\\n    :param df2: 第二个DataFrame\\n    :param how: 连接方式\\n    :return: 连接后的DataFrame\\n    \"\"\"\\n    return df1.join(df2, how=how)\\n\\ndef concatenate_dataframes(dfs, axis=0):\\n    \"\"\"\\n    沿指定轴连接多个DataFrame\\n    :param dfs: DataFrame列表\\n    :param axis: 连接轴\\n    :return: 连接后的DataFrame\\n    \"\"\"\\n    return pd.concat(dfs, axis=axis)\\n\\n# 数据透视表与交叉表\\ndef create_pivot_table(df, values, index, columns, aggfunc=\\'sum\\'):\\n    \"\"\"\\n    创建数据透视表\\n    :param df: DataFrame\\n    :param values: 透视表值\\n    :param index: 行索引\\n    :param columns: 列索引\\n    :param aggfunc: 聚合函数\\n    :return: 数据透视表\\n    \"\"\"\\n    return pd.pivot_table(df, values=values, index=index, columns=columns, aggfunc=aggfunc)\\n\\ndef create_crosstab(df, row, col):\\n    \"\"\"\\n    创建交叉表\\n    :param df: DataFrame\\n    :param row: 行变量\\n    :param col: 列变量\\n    :return: 交叉表\\n    \"\"\"\\n    return pd.crosstab(df[row], df[col])\\n\\n# 重塑与透视\\ndef reshape_dataframe(df, id_vars, value_vars):\\n    \"\"\"\\n    使用melt函数重塑DataFrame\\n    :param df: DataFrame\\n    :param id_vars: 保持不变的列\\n    :param value_vars: 需要重塑的列\\n    :return: 重塑后的DataFrame\\n    \"\"\"\\n    return pd.melt(df, id_vars=id_vars, value_vars=value_vars)\\n\\ndef pivot_dataframe(df, index, columns, values):\\n    \"\"\"\\n    使用pivot方法透视DataFrame\\n    :param df: DataFrame\\n    :param index: 行索引\\n    :param columns: 列索引\\n    :param values: 透视值\\n    :return: 透视后的DataFrame\\n    \"\"\"\\n    return df.pivot(index=index, columns=columns, values=values)\\n\\n# 分组与聚合\\ndef group_and_aggregate(df, by, aggfunc=\\'sum\\'):\\n    \"\"\"\\n    分组并聚合DataFrame\\n    :param df: DataFrame\\n    :param by: 分组键\\n    :param aggfunc: 聚合函数\\n    :return: 聚合后的DataFrame\\n    \"\"\"\\n    return df.groupby(by).agg(aggfunc)\\n\\ndef multi_group_and_aggregate(df, by, agg_dict):\\n    \"\"\"\\n    多层分组与多重聚合\\n    :param df: DataFrame\\n    :param by: 分组键\\n    :param agg_dict: 聚合字典\\n    :return: 聚合后的DataFrame\\n    \"\"\"\\n    return df.groupby(by).agg(agg_dict)\\n\\n# 时间序列数据处理\\ndef create_time_series(start, end, freq=\\'D\\'):\\n    \"\"\"\\n    创建时间序列DataFrame\\n    :param start: 开始日期\\n    :param end: 结束日期\\n    :param freq: 频率\\n    :return: 时间序列DataFrame\\n    \"\"\"\\n    date_rng = pd.date_range(start=start, end=end, freq=freq)\\n    df = pd.DataFrame(date_rng, columns=[\\'date\\'])\\n    df[\\'data\\'] = pd.Series(range(1, len(df)+1))\\n    df.set_index(\\'date\\', inplace=True)\\n    return df\\n\\ndef resample_time_series(df, rule, aggfunc=\\'sum\\'):\\n    \"\"\"\\n    时间重采样\\n    :param df: 时间序列DataFrame\\n    :param rule: 重采样规则\\n    :param aggfunc: 聚合函数\\n    :return: 重采样后的DataFrame\\n    \"\"\"\\n    return df.resample(rule).agg(aggfunc)\\n\\n# 高级数据处理技巧\\ndef conditional_merge(df1, df2, key, condition_column, new_column):\\n    \"\"\"\\n    条件合并两个DataFrame\\n    :param df1: 第一个DataFrame\\n    :param df2: 第二个DataFrame\\n    :param key: 合并键\\n    :param condition_column: 条件列\\n    :param new_column: 新列名\\n    :return: 合并后的DataFrame\\n    \"\"\"\\n    merged = pd.merge(df1, df2, on=key, how=\\'outer\\')\\n    merged[new_column] = np.where(pd.notnull(merged[condition_column[0]]), merged[condition_column[0]], merged[condition_column[1]])\\n    return merged\\n\\ndef apply_custom_function(df, column, func):\\n    \"\"\"\\n    使用自定义函数处理DataFrame\\n    :param df: DataFrame\\n    :param column: 需要处理的列\\n    :param func: 自定义函数\\n    :return: 处理后的DataFrame\\n    \"\"\"\\n    df[column] = df[column].apply(func)\\n    return df\\n\\ndef custom_aggregate(df, by, func):\\n    \"\"\"\\n    自定义聚合函数\\n    :param df: DataFrame\\n    :param by: 分组键\\n    :param func: 自定义聚合函数\\n    :return: 聚合后的DataFrame\\n    \"\"\"\\n    return df.groupby(by).agg(func)\\n\\n# 性能优化\\ndef optimize_performance(df, npartitions=10):\\n    \"\"\"\\n    使用Dask进行大数据处理\\n    :param df: 大数据集DataFrame\\n    :param npartitions: 分区数\\n    :return: 处理后的DataFrame\\n    \"\"\"\\n    dask_df = dd.from_pandas(df, npartitions=npartitions)\\n    return dask_df.groupby(\\'A\\').sum().compute()\\n\\n# 实战案例与项目\\ndef merge_orders_and_customers(orders, customers):\\n    \"\"\"\\n    合并订单表和客户表\\n    :param orders: 订单表DataFrame\\n    :param customers: 客户表DataFrame\\n    :return: 合并后的DataFrame\\n    \"\"\"\\n    return pd.merge(orders, customers, on=\\'customer_id\\')\\n\\ndef analyze_customer_total(merged_data):\\n    \"\"\"\\n    分析每个客户的总订单金额\\n    :param merged_data: 合并后的DataFrame\\n    :return: 每个客户的总订单金额DataFrame\\n    \"\"\"\\n    return merged_data.groupby(\\'customer_name\\')[\\'amount\\'].sum().reset_index()\\n\\n# 参考资料与社区资源\\ndef get_official_docs():\\n    \"\"\"\\n    获取Pandas官方文档链接\\n    :return: 官方文档链接\\n    \"\"\"\\n    return \"https://pandas.pydata.org/pandas-docs/stable/\"\\n\\ndef get_books_and_tutorials():\\n    \"\"\"\\n    获取推荐书籍与教程\\n    :return: 推荐书籍与教程列表\\n    \"\"\"\\n    return [\\n        \"《Python for Data Analysis》 by Wes McKinney\",\\n        \"Pandas官方教程\"\\n    ]\\n\\ndef get_community_resources():\\n    \"\"\"\\n    获取社区与论坛资源\\n    :return: 社区与论坛资源列表\\n    \"\"\"\\n    return [\\n        \"Stack Overflow上的Pandas标签\",\\n        \"Pandas GitHub社区\"\\n    ]\\n'"
      ]
     },
     "execution_count": 55,
     "metadata": {},
     "output_type": "execute_result"
    }
   ],
   "source": [
    "a.group(1)"
   ]
  },
  {
   "cell_type": "code",
   "execution_count": null,
   "id": "b92492b8-7862-4d84-8001-010217b8d6fd",
   "metadata": {},
   "outputs": [],
   "source": []
  },
  {
   "cell_type": "code",
   "execution_count": 56,
   "id": "484e6ac7-8012-4ca1-805a-c2b193130912",
   "metadata": {
    "tags": []
   },
   "outputs": [],
   "source": [
    "result4 = llm.complete(f\"\"\"\n",
    "我这里有一些写好的函数,我希望你针对这些函数编写它们对应的api文档.\n",
    "----\n",
    "{a.group(1)}\n",
    "----\n",
    "\"\"\")"
   ]
  },
  {
   "cell_type": "code",
   "execution_count": null,
   "id": "cd5ba010-485a-414d-9266-65eeb129e7b3",
   "metadata": {},
   "outputs": [],
   "source": []
  },
  {
   "cell_type": "code",
   "execution_count": 61,
   "id": "3586362d-8a11-4245-b8f2-46b6e68fdc1e",
   "metadata": {
    "tags": []
   },
   "outputs": [],
   "source": [
    "with open('api.md','w') as f:\n",
    "    f.write(result4.text)"
   ]
  },
  {
   "cell_type": "code",
   "execution_count": 59,
   "id": "2c8d8b03-cb36-4568-965f-958b7766a6b0",
   "metadata": {
    "collapsed": true,
    "jupyter": {
     "outputs_hidden": true
    },
    "tags": []
   },
   "outputs": [
    {
     "data": {
      "text/markdown": [
       "以下是针对您提供的函数编写的API文档：\n",
       "\n",
       "### 基础知识复习\n",
       "\n",
       "#### `create_dataframe(data)`\n",
       "创建一个DataFrame。\n",
       "\n",
       "- **参数**\n",
       "  - `data` (dict): 字典形式的数据。\n",
       "- **返回**\n",
       "  - `pd.DataFrame`: 创建的DataFrame。\n",
       "\n",
       "#### `select_and_filter(df, column, condition=None)`\n",
       "选择和过滤DataFrame中的数据。\n",
       "\n",
       "- **参数**\n",
       "  - `df` (pd.DataFrame): 输入的DataFrame。\n",
       "  - `column` (str): 选择的列名。\n",
       "  - `condition` (optional, any): 过滤条件，默认为None。\n",
       "- **返回**\n",
       "  - `pd.DataFrame` 或 `pd.Series`: 过滤后的DataFrame或选择的列。\n",
       "\n",
       "#### `clean_and_preprocess(df, new_column, operation, dropna=True)`\n",
       "清洗和预处理DataFrame。\n",
       "\n",
       "- **参数**\n",
       "  - `df` (pd.DataFrame): 输入的DataFrame。\n",
       "  - `new_column` (str): 新增列名。\n",
       "  - `operation` (function): 新增列的操作函数。\n",
       "  - `dropna` (bool): 是否删除缺失值，默认为True。\n",
       "- **返回**\n",
       "  - `pd.DataFrame`: 处理后的DataFrame。\n",
       "\n",
       "### 数据合并与连接\n",
       "\n",
       "#### `merge_dataframes(df1, df2, key, how='inner')`\n",
       "合并两个DataFrame。\n",
       "\n",
       "- **参数**\n",
       "  - `df1` (pd.DataFrame): 第一个DataFrame。\n",
       "  - `df2` (pd.DataFrame): 第二个DataFrame。\n",
       "  - `key` (str): 合并键。\n",
       "  - `how` (str): 合并方式，默认为'inner'。\n",
       "- **返回**\n",
       "  - `pd.DataFrame`: 合并后的DataFrame。\n",
       "\n",
       "#### `join_dataframes(df1, df2, how='inner')`\n",
       "使用join连接两个DataFrame。\n",
       "\n",
       "- **参数**\n",
       "  - `df1` (pd.DataFrame): 第一个DataFrame。\n",
       "  - `df2` (pd.DataFrame): 第二个DataFrame。\n",
       "  - `how` (str): 连接方式，默认为'inner'。\n",
       "- **返回**\n",
       "  - `pd.DataFrame`: 连接后的DataFrame。\n",
       "\n",
       "#### `concatenate_dataframes(dfs, axis=0)`\n",
       "沿指定轴连接多个DataFrame。\n",
       "\n",
       "- **参数**\n",
       "  - `dfs` (list of pd.DataFrame): DataFrame列表。\n",
       "  - `axis` (int): 连接轴，默认为0。\n",
       "- **返回**\n",
       "  - `pd.DataFrame`: 连接后的DataFrame。\n",
       "\n",
       "### 数据透视表与交叉表\n",
       "\n",
       "#### `create_pivot_table(df, values, index, columns, aggfunc='sum')`\n",
       "创建数据透视表。\n",
       "\n",
       "- **参数**\n",
       "  - `df` (pd.DataFrame): 输入的DataFrame。\n",
       "  - `values` (str): 透视表值。\n",
       "  - `index` (str): 行索引。\n",
       "  - `columns` (str): 列索引。\n",
       "  - `aggfunc` (str): 聚合函数，默认为'sum'。\n",
       "- **返回**\n",
       "  - `pd.DataFrame`: 数据透视表。\n",
       "\n",
       "#### `create_crosstab(df, row, col)`\n",
       "创建交叉表。\n",
       "\n",
       "- **参数**\n",
       "  - `df` (pd.DataFrame): 输入的DataFrame。\n",
       "  - `row` (str): 行变量。\n",
       "  - `col` (str): 列变量。\n",
       "- **返回**\n",
       "  - `pd.DataFrame`: 交叉表。\n",
       "\n",
       "### 重塑与透视\n",
       "\n",
       "#### `reshape_dataframe(df, id_vars, value_vars)`\n",
       "使用melt函数重塑DataFrame。\n",
       "\n",
       "- **参数**\n",
       "  - `df` (pd.DataFrame): 输入的DataFrame。\n",
       "  - `id_vars` (list of str): 保持不变的列。\n",
       "  - `value_vars` (list of str): 需要重塑的列。\n",
       "- **返回**\n",
       "  - `pd.DataFrame`: 重塑后的DataFrame。\n",
       "\n",
       "#### `pivot_dataframe(df, index, columns, values)`\n",
       "使用pivot方法透视DataFrame。\n",
       "\n",
       "- **参数**\n",
       "  - `df` (pd.DataFrame): 输入的DataFrame。\n",
       "  - `index` (str): 行索引。\n",
       "  - `columns` (str): 列索引。\n",
       "  - `values` (str): 透视值。\n",
       "- **返回**\n",
       "  - `pd.DataFrame`: 透视后的DataFrame。\n",
       "\n",
       "### 分组与聚合\n",
       "\n",
       "#### `group_and_aggregate(df, by, aggfunc='sum')`\n",
       "分组并聚合DataFrame。\n",
       "\n",
       "- **参数**\n",
       "  - `df` (pd.DataFrame): 输入的DataFrame。\n",
       "  - `by` (str or list of str): 分组键。\n",
       "  - `aggfunc` (str or dict): 聚合函数，默认为'sum'。\n",
       "- **返回**\n",
       "  - `pd.DataFrame`: 聚合后的DataFrame。\n",
       "\n",
       "#### `multi_group_and_aggregate(df, by, agg_dict)`\n",
       "多层分组与多重聚合。\n",
       "\n",
       "- **参数**\n",
       "  - `df` (pd.DataFrame): 输入的DataFrame。\n",
       "  - `by` (str or list of str): 分组键。\n",
       "  - `agg_dict` (dict): 聚合字典。\n",
       "- **返回**\n",
       "  - `pd.DataFrame`: 聚合后的DataFrame。\n",
       "\n",
       "### 时间序列数据处理\n",
       "\n",
       "#### `create_time_series(start, end, freq='D')`\n",
       "创建时间序列DataFrame。\n",
       "\n",
       "- **参数**\n",
       "  - `start` (str): 开始日期。\n",
       "  - `end` (str): 结束日期。\n",
       "  - `freq` (str): 频率，默认为'D'。\n",
       "- **返回**\n",
       "  - `pd.DataFrame`: 时间序列DataFrame。\n",
       "\n",
       "#### `resample_time_series(df, rule, aggfunc='sum')`\n",
       "时间重采样。\n",
       "\n",
       "- **参数**\n",
       "  - `df` (pd.DataFrame): 时间序列DataFrame。\n",
       "  - `rule` (str): 重采样规则。\n",
       "  - `aggfunc` (str): 聚合函数，默认为'sum'。\n",
       "- **返回**\n",
       "  - `pd.DataFrame`: 重采样后的DataFrame。\n",
       "\n",
       "### 高级数据处理技巧\n",
       "\n",
       "#### `conditional_merge(df1, df2, key, condition_column, new_column)`\n",
       "条件合并两个DataFrame。\n",
       "\n",
       "- **参数**\n",
       "  - `df1` (pd.DataFrame): 第一个DataFrame。\n",
       "  - `df2` (pd.DataFrame): 第二个DataFrame。\n",
       "  - `key` (str): 合并键。\n",
       "  - `condition_column` (list of str): 条件列。\n",
       "  - `new_column` (str): 新列名。\n",
       "- **返回**\n",
       "  - `pd.DataFrame`: 合并后的DataFrame。\n",
       "\n",
       "#### `apply_custom_function(df, column, func)`\n",
       "使用自定义函数处理DataFrame。\n",
       "\n",
       "- **参数**\n",
       "  - `df` (pd.DataFrame): 输入的DataFrame。\n",
       "  - `column` (str): 需要处理的列。\n",
       "  - `func` (function): 自定义函数。\n",
       "- **返回**\n",
       "  - `pd.DataFrame`: 处理后的DataFrame。\n",
       "\n",
       "#### `custom_aggregate(df, by, func)`\n",
       "自定义聚合函数。\n",
       "\n",
       "- **参数**\n",
       "  - `df` (pd.DataFrame): 输入的DataFrame。\n",
       "  - `by` (str or list of str): 分组键。\n",
       "  - `func` (function): 自定义聚合函数。\n",
       "- **返回**\n",
       "  - `pd.DataFrame`: 聚合后的DataFrame。\n",
       "\n",
       "### 性能优化\n",
       "\n",
       "#### `optimize_performance(df, npartitions=10)`\n",
       "使用Dask进行大数据处理。\n",
       "\n",
       "- **参数**\n",
       "  - `df` (pd.DataFrame): 大数据集DataFrame。\n",
       "  - `npartitions` (int): 分区数，默认为10。\n",
       "- **返回**\n",
       "  - `pd.DataFrame`: 处理后的DataFrame。\n",
       "\n",
       "### 实战案例与项目\n",
       "\n",
       "#### `merge_orders_and_customers(orders, customers)`\n",
       "合并订单表和客户表。\n",
       "\n",
       "- **参数**\n",
       "  - `orders` (pd.DataFrame): 订单表DataFrame。\n",
       "  - `customers` (pd.DataFrame): 客户表DataFrame。\n",
       "- **返回**\n",
       "  - `pd.DataFrame`: 合并后的DataFrame。\n",
       "\n",
       "#### `analyze_customer_total(merged_data)`\n",
       "分析每个客户的总订单金额。\n",
       "\n",
       "- **参数**\n",
       "  - `merged_data` (pd.DataFrame): 合并后的DataFrame。\n",
       "- **返回**\n",
       "  - `pd.DataFrame`: 每个客户的总订单金额DataFrame。\n",
       "\n",
       "### 参考资料与社区资源\n",
       "\n",
       "#### `get_official_docs()`\n",
       "获取Pandas官方文档链接。\n",
       "\n",
       "- **返回**\n",
       "  - `str`: 官方文档链接。\n",
       "\n",
       "#### `get_books_and_tutorials()`\n",
       "获取推荐书籍与教程。\n",
       "\n",
       "- **返回**\n",
       "  - `list of str`: 推荐书籍与教程列表。\n",
       "\n",
       "#### `get_community_resources()`\n",
       "获取社区与论坛资源。\n",
       "\n",
       "- **返回**\n",
       "  - `list of str`: 社区与论坛资源列表。"
      ],
      "text/plain": [
       "<IPython.core.display.Markdown object>"
      ]
     },
     "execution_count": 59,
     "metadata": {},
     "output_type": "execute_result"
    }
   ],
   "source": [
    "Markdown(result4.text)"
   ]
  },
  {
   "cell_type": "code",
   "execution_count": null,
   "id": "12f46b64-cc6c-4830-899e-11f2ae71c724",
   "metadata": {},
   "outputs": [],
   "source": [
    "保存到obstain 中"
   ]
  },
  {
   "cell_type": "code",
   "execution_count": null,
   "id": "54b1cfb1-7828-4a91-a28d-dc23cda9dc19",
   "metadata": {},
   "outputs": [],
   "source": []
  },
  {
   "cell_type": "code",
   "execution_count": null,
   "id": "32c51bd5-7a00-4159-81c2-a9f1c5944af5",
   "metadata": {},
   "outputs": [],
   "source": [
    "然后再用知识库管理调用obstain的数据\n"
   ]
  },
  {
   "cell_type": "code",
   "execution_count": null,
   "id": "d286a1de-204e-42fb-86b5-13be719331b4",
   "metadata": {},
   "outputs": [],
   "source": []
  },
  {
   "cell_type": "code",
   "execution_count": null,
   "id": "a127a57e-1d3f-452a-bc3e-56915b21cdd1",
   "metadata": {},
   "outputs": [],
   "source": []
  },
  {
   "cell_type": "code",
   "execution_count": null,
   "id": "3879f1d7-7b53-4df2-a849-25c3bc5a8143",
   "metadata": {},
   "outputs": [],
   "source": [
    "3 拓展眼界,自动化的收集和推送新信息, 自动化聊天沟通\n",
    "4 具备对于能力的管理能力,查询能力,以及智慧问答能力(可以方便的知道我的,能力范围,能力边界,研究方向等)"
   ]
  },
  {
   "cell_type": "code",
   "execution_count": 62,
   "id": "7a555da9-d054-4f6a-9fd9-9926c67387b8",
   "metadata": {
    "tags": []
   },
   "outputs": [
    {
     "name": "stdout",
     "output_type": "stream",
     "text": [
      "api.md                            \u001b[34mpandas_styler\u001b[m\u001b[m\n",
      "auto research.ipynb               pandas多表处理的技巧.ipynb\n",
      "auto_coder-Copy1.ipynb            pandas多表处理的技巧.py\n",
      "auto_coder-Copy2.ipynb            projects_auto.ipynb\n",
      "auto_coder.ipynb                  puppeteer的使用技巧.ipynb\n",
      "autostudy.ipynb                   utils.ipynb\n",
      "\u001b[34mfunction\u001b[m\u001b[m                          xxxx.ipynb\n"
     ]
    }
   ],
   "source": [
    "!ls"
   ]
  },
  {
   "cell_type": "code",
   "execution_count": null,
   "id": "d5efed12-f1e9-4996-83ff-328fc33c3a69",
   "metadata": {},
   "outputs": [],
   "source": []
  },
  {
   "cell_type": "code",
   "execution_count": 152,
   "id": "9dafc17c-24ad-452a-9136-2eee2bdb13e4",
   "metadata": {
    "tags": []
   },
   "outputs": [
    {
     "name": "stdout",
     "output_type": "stream",
     "text": [
      "Overwriting information_cloud.js\n"
     ]
    }
   ],
   "source": [
    "%%writefile information_cloud.js\n",
    "const puppeteer = require('puppeteer-extra');\n",
    "const StealthPlugin = require('puppeteer-extra-plugin-stealth');\n",
    "const path = require('path');\n",
    "const fs = require('fs');\n",
    "\n",
    "puppeteer.use(StealthPlugin());\n",
    "\n",
    "function sleep(ms) {\n",
    "  return new Promise(resolve => setTimeout(resolve, ms));\n",
    "}\n",
    "\n",
    "(async () => {\n",
    "    // code \n",
    "    // Launch the browser and open a new blank page\n",
    "    const browser = await puppeteer.launch({\n",
    "      headless: false, // 非无头模式\n",
    "    executablePath: '/Users/zhaoxuefeng/.cache/puppeteer/chrome/mac_arm-121.0.6167.85/chrome-mac-arm64/Google Chrome for Testing.app/Contents/MacOS/Google Chrome for Testing',\n",
    "    userDataDir: './engine',\n",
    "    });\n",
    "    const page = await browser.newPage('https://www.qbitai.com/category/资讯');\n",
    "    await page.setViewport({\n",
    "        width: 1200,\n",
    "        height: 1200,\n",
    "        deviceScaleFactor: 1,\n",
    "    });\n",
    "    // Navigate the page to a URL\n",
    "    await page.goto('https://www.qbitai.com/category/资讯');\n",
    "    console.log('open')\n",
    "    const infos = await page.$$(\"xpath//html/body/div[1]/div[1]/div/div\");\n",
    "\n",
    "    console.log(\"xxx\")      \n",
    "    console.log(infos.length)\n",
    "    let myList = [];\n",
    "    for (let i = 0; i< infos.length; i++) {\n",
    "        const html = await page.evaluate(element => element.innerHTML, infos[i]);\n",
    "               \n",
    "        console.log(html)\n",
    "        console.log('xxxxxxxxxxxxxx')\n",
    "        \n",
    "        const titleMatch = html.match(/<h4><a href=\"([^\"]*)\" [^>]*>([^<]*)<\\/a><\\/h4>/);\n",
    "        const title = titleMatch ? titleMatch[2] : '';\n",
    "        const titleLink = titleMatch ? titleMatch[1] : '';\n",
    "\n",
    "        // 使用正则表达式提取作者\n",
    "        const authorMatch = html.match(/<span class=\"author\"><a [^>]*>([^<]*)<\\/a><\\/span>/);\n",
    "        const author = authorMatch ? authorMatch[1] : '';\n",
    "\n",
    "        // 使用正则表达式提取发布时间\n",
    "        const timeMatch = html.match(/<span class=\"time\">([^<]*)<\\/span>/);\n",
    "        const time = timeMatch ? timeMatch[1] : '';\n",
    "\n",
    "        // 使用正则表达式提取标签\n",
    "        const tagsMatch = html.match(/<div class=\"tags_s\">([\\s\\S]*?)<\\/div>/);\n",
    "        const tags = tagsMatch ? tagsMatch[1].match(/<a [^>]*>([^<]*)<\\/a>/g).map(tag => tag.replace(/<a [^>]*>([^<]*)<\\/a>/, '$1')) : [];\n",
    "\n",
    "        console.log({\n",
    "            title,\n",
    "            titleLink,\n",
    "            author,\n",
    "            time,\n",
    "            tags\n",
    "        });\n",
    "        myList.push({\n",
    "            title,\n",
    "            titleLink,\n",
    "            author,\n",
    "            time,\n",
    "            tags\n",
    "        })\n",
    "        const newPage = await browser.newPage();\n",
    "        await newPage.goto(titleLink);\n",
    "        await page.waitForTimeout(100); // 等待页面加载完成\n",
    "        await page.pdf({path:`${title}.pdf`,});\n",
    "\n",
    "        await newPage.close();\n",
    "        await page.bringToFront();\n",
    "\n",
    "        \n",
    "        \n",
    "    }\n",
    "    console.log(myList);\n",
    "    \n",
    "    \n",
    "    \n",
    "    \n",
    "    \n",
    "    const fs = require('fs');\n",
    "    \n",
    "    const jsonString = JSON.stringify(myList, null, 2);\n",
    "\n",
    "    fs.writeFile('articles.json', jsonString, (err) => {\n",
    "      if (err) {\n",
    "        console.error('Error writing file', err);\n",
    "      } else {\n",
    "        console.log('Successfully wrote file');\n",
    "      }\n",
    "    });\n",
    "    \n",
    "\n",
    "    \n",
    "    \n",
    "    // const htmlContent = await page.$eval('xpath//html/body/div[1]/div[1]/div', element => element.innerHTML);\n",
    "    // console.log(htmlContent)\n",
    "    \n",
    "    \n",
    "    // await browser.close();\n",
    "    \n",
    "})();"
   ]
  },
  {
   "cell_type": "code",
   "execution_count": 153,
   "id": "f22131f8-a4c8-4b23-bd25-0651d63ed9ed",
   "metadata": {
    "tags": []
   },
   "outputs": [],
   "source": [
    "# https://www.jiqizhixin.com/categories/basic"
   ]
  },
  {
   "cell_type": "code",
   "execution_count": 154,
   "id": "836b3922-aca9-4008-91d1-bc223580e0dc",
   "metadata": {
    "collapsed": true,
    "jupyter": {
     "outputs_hidden": true
    },
    "tags": []
   },
   "outputs": [
    {
     "name": "stdout",
     "output_type": "stream",
     "text": [
      "\u001b[1m\u001b[43m\u001b[30m\n",
      "  Degraded performance warning:\u001b[0m\u001b[33m\n",
      "  Launching Chrome on Mac Silicon (arm64) from an x64 Node installation results in\n",
      "  Rosetta translating the Chrome binary, even if Chrome is already arm64. This would\n",
      "  result in huge performance issues. To resolve this, you must run Puppeteer with\n",
      "  a version of Node built for arm64.\n",
      "open\n",
      "xxx\n",
      "\u001b[33m21\u001b[39m\n",
      "\n",
      "                <div class=\"picture\"><a href=\"https://www.qbitai.com/2024/08/173950.html\" target=\"_blank\"><img width=\"204\" height=\"136\" src=\"https://www.qbitai.com/wp-content/uploads/replace/2c05c1a54bd12081c0e3e3a609f8ad2a.png\" class=\"attachment-744x136 size-744x136 wp-post-image\" alt=\"\" srcset=\"https://www.qbitai.com/wp-content/uploads/replace/2c05c1a54bd12081c0e3e3a609f8ad2a.png 832w, https://www.qbitai.com/wp-content/uploads/replace/2c05c1a54bd12081c0e3e3a609f8ad2a-300x200.png 300w, https://www.qbitai.com/wp-content/uploads/replace/2c05c1a54bd12081c0e3e3a609f8ad2a-768x511.png 768w\" sizes=\"(max-width: 204px) 85vw, 204px\"></a></div>\n",
      "                <div class=\"text_box\">\n",
      "                    <h4><a href=\"https://www.qbitai.com/2024/08/173950.html\" target=\"_blank\">周鸿祎ISC发布国内首个免费安全大模型 安全能力超越GPT-4</a></h4>\n",
      "                    <p></p><p>其安全垂直能力已超过GPT-4</p>\n",
      "<p></p>\n",
      "                    <div class=\"info\">\n",
      "                        <span class=\"author\"><a href=\"/?author=19\">量子位</a></span>\n",
      "                                                <span class=\"time\">19分钟前</span>\n",
      "                        <div class=\"tags_s\">\n",
      "                                                        <i></i>\n",
      "                            <a href=\"https://www.qbitai.com/tag/360\" rel=\"tag\">360</a> <a href=\"https://www.qbitai.com/tag/isc\" rel=\"tag\">isc</a>                                                    </div>\n",
      "                    </div>\n",
      "                </div>\n",
      "            \n",
      "xxxxxxxxxxxxxx\n",
      "{\n",
      "  title: \u001b[32m'周鸿祎ISC发布国内首个免费安全大模型 安全能力超越GPT-4'\u001b[39m,\n",
      "  titleLink: \u001b[32m'https://www.qbitai.com/2024/08/173950.html'\u001b[39m,\n",
      "  author: \u001b[32m'量子位'\u001b[39m,\n",
      "  time: \u001b[32m'19分钟前'\u001b[39m,\n",
      "  tags: [ \u001b[32m'360'\u001b[39m, \u001b[32m'isc'\u001b[39m ]\n",
      "}\n",
      "\n",
      "                <div class=\"picture\"><a href=\"https://www.qbitai.com/2024/08/173952.html\" target=\"_blank\"><img width=\"215\" height=\"136\" src=\"https://www.qbitai.com/wp-content/uploads/2024/08/截屏2024-08-01-16.20.38.png\" class=\"attachment-744x136 size-744x136 wp-post-image\" alt=\"\" srcset=\"https://www.qbitai.com/wp-content/uploads/2024/08/截屏2024-08-01-16.20.38.png 770w, https://www.qbitai.com/wp-content/uploads/2024/08/截屏2024-08-01-16.20.38-300x190.png 300w, https://www.qbitai.com/wp-content/uploads/2024/08/截屏2024-08-01-16.20.38-768x487.png 768w\" sizes=\"(max-width: 215px) 85vw, 215px\"></a></div>\n",
      "                <div class=\"text_box\">\n",
      "                    <h4><a href=\"https://www.qbitai.com/2024/08/173952.html\" target=\"_blank\">想跑千亿大模型？算力厂商放大招！CPU通用服务器成为新选择</a></h4>\n",
      "                    <p></p><p>不用AI加速卡，只用4颗CPU</p>\n",
      "<p></p>\n",
      "                    <div class=\"info\">\n",
      "                        <span class=\"author\"><a href=\"/?author=47832\">克雷西</a></span>\n",
      "                                                <span class=\"time\">25分钟前</span>\n",
      "                        <div class=\"tags_s\">\n",
      "                                                        <i></i>\n",
      "                            <a href=\"https://www.qbitai.com/tag/cpu\" rel=\"tag\">CPU</a> <a href=\"https://www.qbitai.com/tag/%e6%9c%8d%e5%8a%a1%e5%99%a8\" rel=\"tag\">服务器</a>                                                    </div>\n",
      "                    </div>\n",
      "                </div>\n",
      "            \n",
      "xxxxxxxxxxxxxx\n",
      "{\n",
      "  title: \u001b[32m'想跑千亿大模型？算力厂商放大招！CPU通用服务器成为新选择'\u001b[39m,\n",
      "  titleLink: \u001b[32m'https://www.qbitai.com/2024/08/173952.html'\u001b[39m,\n",
      "  author: \u001b[32m'克雷西'\u001b[39m,\n",
      "  time: \u001b[32m'25分钟前'\u001b[39m,\n",
      "  tags: [ \u001b[32m'CPU'\u001b[39m, \u001b[32m'服务器'\u001b[39m ]\n",
      "}\n",
      "\n",
      "                <div class=\"picture\"><a href=\"https://www.qbitai.com/2024/08/173863.html\" target=\"_blank\"><img width=\"295\" height=\"136\" src=\"https://www.qbitai.com/wp-content/uploads/2024/08/11-e1722494462354.png\" class=\"attachment-744x136 size-744x136 wp-post-image\" alt=\"\" srcset=\"https://www.qbitai.com/wp-content/uploads/2024/08/11-e1722494462354.png 805w, https://www.qbitai.com/wp-content/uploads/2024/08/11-e1722494462354-300x138.png 300w, https://www.qbitai.com/wp-content/uploads/2024/08/11-e1722494462354-768x354.png 768w\" sizes=\"(max-width: 295px) 85vw, 295px\"></a></div>\n",
      "                <div class=\"text_box\">\n",
      "                    <h4><a href=\"https://www.qbitai.com/2024/08/173863.html\" target=\"_blank\">吴恩达弟子打造arXiv弹幕版，每篇论文都能自由讨论了！</a></h4>\n",
      "                    <p></p><p>网友 ：这才是学术圈该有的样子！</p>\n",
      "<p></p>\n",
      "                    <div class=\"info\">\n",
      "                        <span class=\"author\"><a href=\"/?author=34\">明敏</a></span>\n",
      "                                                <span class=\"time\">2小时前 </span>\n",
      "                        <div class=\"tags_s\">\n",
      "                                                        <i></i>\n",
      "                            <a href=\"https://www.qbitai.com/tag/arxiv\" rel=\"tag\">arXiv</a> <a href=\"https://www.qbitai.com/tag/%e5%85%ac%e5%bc%80%e8%af%84%e5%ae%a1\" rel=\"tag\">公开评审</a> <a href=\"https://www.qbitai.com/tag/%e6%96%af%e5%9d%a6%e7%a6%8f\" rel=\"tag\">斯坦福</a>                                                    </div>\n",
      "                    </div>\n",
      "                </div>\n",
      "            \n",
      "xxxxxxxxxxxxxx\n",
      "{\n",
      "  title: \u001b[32m'吴恩达弟子打造arXiv弹幕版，每篇论文都能自由讨论了！'\u001b[39m,\n",
      "  titleLink: \u001b[32m'https://www.qbitai.com/2024/08/173863.html'\u001b[39m,\n",
      "  author: \u001b[32m'明敏'\u001b[39m,\n",
      "  time: \u001b[32m'2小时前 '\u001b[39m,\n",
      "  tags: [ \u001b[32m'arXiv'\u001b[39m, \u001b[32m'公开评审'\u001b[39m, \u001b[32m'斯坦福'\u001b[39m ]\n",
      "}\n",
      "\n",
      "                <div class=\"picture\"><a href=\"https://www.qbitai.com/2024/08/173624.html\" target=\"_blank\"><img width=\"233\" height=\"136\" src=\"https://www.qbitai.com/wp-content/uploads/2024/08/-e1722488541571.png\" class=\"attachment-744x136 size-744x136 wp-post-image\" alt=\"\"></a></div>\n",
      "                <div class=\"text_box\">\n",
      "                    <h4><a href=\"https://www.qbitai.com/2024/08/173624.html\" target=\"_blank\">ChatGPT版「Her」被玩疯：哭着读诗，中文表现也很亮</a></h4>\n",
      "                    <p></p><p>还能超快数1-100</p>\n",
      "<p></p>\n",
      "                    <div class=\"info\">\n",
      "                        <span class=\"author\"><a href=\"/?author=21\">十三</a></span>\n",
      "                                                <span class=\"time\">2小时前 </span>\n",
      "                        <div class=\"tags_s\">\n",
      "                                                        <i></i>\n",
      "                            <a href=\"https://www.qbitai.com/tag/chatgpt\" rel=\"tag\">ChatGPT</a> <a href=\"https://www.qbitai.com/tag/gpt-4o\" rel=\"tag\">GPT-4o</a> <a href=\"https://www.qbitai.com/tag/openai\" rel=\"tag\">OpenAI</a>                                                    </div>\n",
      "                    </div>\n",
      "                </div>\n",
      "            \n",
      "xxxxxxxxxxxxxx\n",
      "{\n",
      "  title: \u001b[32m'ChatGPT版「Her」被玩疯：哭着读诗，中文表现也很亮'\u001b[39m,\n",
      "  titleLink: \u001b[32m'https://www.qbitai.com/2024/08/173624.html'\u001b[39m,\n",
      "  author: \u001b[32m'十三'\u001b[39m,\n",
      "  time: \u001b[32m'2小时前 '\u001b[39m,\n",
      "  tags: [ \u001b[32m'ChatGPT'\u001b[39m, \u001b[32m'GPT-4o'\u001b[39m, \u001b[32m'OpenAI'\u001b[39m ]\n",
      "}\n",
      "\n",
      "                <div class=\"picture\"><a href=\"https://www.qbitai.com/2024/08/173804.html\" target=\"_blank\"><img width=\"233\" height=\"136\" src=\"https://www.qbitai.com/wp-content/uploads/2024/08/2-e1722492612116.png\" class=\"attachment-744x136 size-744x136 wp-post-image\" alt=\"\" srcset=\"https://www.qbitai.com/wp-content/uploads/2024/08/2-e1722492612116.png 823w, https://www.qbitai.com/wp-content/uploads/2024/08/2-e1722492612116-300x175.png 300w, https://www.qbitai.com/wp-content/uploads/2024/08/2-e1722492612116-768x448.png 768w\" sizes=\"(max-width: 233px) 85vw, 233px\"></a></div>\n",
      "                <div class=\"text_box\">\n",
      "                    <h4><a href=\"https://www.qbitai.com/2024/08/173804.html\" target=\"_blank\">飞桨框架进阶3.0！一文讲透“大模型训推一体”等五大新特性</a></h4>\n",
      "                    <p></p><p>为产学研各界提供稳定支持</p>\n",
      "<p></p>\n",
      "                    <div class=\"info\">\n",
      "                        <span class=\"author\"><a href=\"/?author=21\">十三</a></span>\n",
      "                                                <span class=\"time\">2小时前 </span>\n",
      "                        <div class=\"tags_s\">\n",
      "                                                        <i></i>\n",
      "                            <a href=\"https://www.qbitai.com/tag/%e5%a4%a7%e6%a8%a1%e5%9e%8b\" rel=\"tag\">大模型</a> <a href=\"https://www.qbitai.com/tag/%e6%96%87%e5%bf%83%e4%b8%80%e8%a8%80\" rel=\"tag\">文心一言</a> <a href=\"https://www.qbitai.com/tag/%e7%99%be%e5%ba%a6\" rel=\"tag\">百度</a> <a href=\"https://www.qbitai.com/tag/%e9%a3%9e%e6%a1%a8\" rel=\"tag\">飞桨</a>                                                    </div>\n",
      "                    </div>\n",
      "                </div>\n",
      "            \n",
      "xxxxxxxxxxxxxx\n",
      "{\n",
      "  title: \u001b[32m'飞桨框架进阶3.0！一文讲透“大模型训推一体”等五大新特性'\u001b[39m,\n",
      "  titleLink: \u001b[32m'https://www.qbitai.com/2024/08/173804.html'\u001b[39m,\n",
      "  author: \u001b[32m'十三'\u001b[39m,\n",
      "  time: \u001b[32m'2小时前 '\u001b[39m,\n",
      "  tags: [ \u001b[32m'大模型'\u001b[39m, \u001b[32m'文心一言'\u001b[39m, \u001b[32m'百度'\u001b[39m, \u001b[32m'飞桨'\u001b[39m ]\n",
      "}\n",
      "\n",
      "                <div class=\"picture\"><a href=\"https://www.qbitai.com/2024/08/173647.html\" target=\"_blank\"><img width=\"233\" height=\"136\" src=\"https://www.qbitai.com/wp-content/uploads/replace/5f6f4d9534b22162574818f691f20b83-e1722489686507.png\" class=\"attachment-744x136 size-744x136 wp-post-image\" alt=\"\" srcset=\"https://www.qbitai.com/wp-content/uploads/replace/5f6f4d9534b22162574818f691f20b83-e1722489686507.png 417w, https://www.qbitai.com/wp-content/uploads/replace/5f6f4d9534b22162574818f691f20b83-e1722489686507-300x175.png 300w\" sizes=\"(max-width: 233px) 85vw, 233px\"></a></div>\n",
      "                <div class=\"text_box\">\n",
      "                    <h4><a href=\"https://www.qbitai.com/2024/08/173647.html\" target=\"_blank\">首届陈景润奖颁发！90后山大教授和84年中科院研究员研究成果获奖</a></h4>\n",
      "                    <p></p><p>数论与代数方向新生代大奖</p>\n",
      "<p></p>\n",
      "                    <div class=\"info\">\n",
      "                        <span class=\"author\"><a href=\"/?author=47833\">西风</a></span>\n",
      "                                                <span class=\"time\">3小时前 </span>\n",
      "                        <div class=\"tags_s\">\n",
      "                                                        <i></i>\n",
      "                            <a href=\"https://www.qbitai.com/tag/%e4%b8%ad%e5%9b%bd%e7%a7%91%e5%ad%a6%e9%99%a2%e6%95%b0%e5%ad%a6%e4%b8%8e%e7%b3%bb%e7%bb%9f%e7%a7%91%e5%ad%a6%e7%a0%94%e7%a9%b6%e9%99%a2\" rel=\"tag\">中国科学院数学与系统科学研究院</a> <a href=\"https://www.qbitai.com/tag/%e9%99%88%e6%99%af%e6%b6%a6%e5%a5%96\" rel=\"tag\">陈景润奖</a>                                                    </div>\n",
      "                    </div>\n",
      "                </div>\n",
      "            \n",
      "xxxxxxxxxxxxxx\n",
      "{\n",
      "  title: \u001b[32m'首届陈景润奖颁发！90后山大教授和84年中科院研究员研究成果获奖'\u001b[39m,\n",
      "  titleLink: \u001b[32m'https://www.qbitai.com/2024/08/173647.html'\u001b[39m,\n",
      "  author: \u001b[32m'西风'\u001b[39m,\n",
      "  time: \u001b[32m'3小时前 '\u001b[39m,\n",
      "  tags: [ \u001b[32m'中国科学院数学与系统科学研究院'\u001b[39m, \u001b[32m'陈景润奖'\u001b[39m ]\n",
      "}\n",
      "\n",
      "                <div class=\"picture\"><a href=\"https://www.qbitai.com/2024/08/173644.html\" target=\"_blank\"><img width=\"234\" height=\"136\" src=\"https://www.qbitai.com/wp-content/uploads/replace/b79ebd431da5c93842d200893fe5ed6c-e1722489390921.jpeg\" class=\"attachment-744x136 size-744x136 wp-post-image\" alt=\"\" srcset=\"https://www.qbitai.com/wp-content/uploads/replace/b79ebd431da5c93842d200893fe5ed6c-e1722489390921.jpeg 447w, https://www.qbitai.com/wp-content/uploads/replace/b79ebd431da5c93842d200893fe5ed6c-e1722489390921-300x174.jpeg 300w\" sizes=\"(max-width: 234px) 85vw, 234px\"></a></div>\n",
      "                <div class=\"text_box\">\n",
      "                    <h4><a href=\"https://www.qbitai.com/2024/08/173644.html\" target=\"_blank\">贾扬清：大模型尺寸正重走CNN的老路；马斯克：在特斯拉也是这样</a></h4>\n",
      "                    <p></p><p>开始反着卷了</p>\n",
      "<p></p>\n",
      "                    <div class=\"info\">\n",
      "                        <span class=\"author\"><a href=\"/?author=54\">衡宇</a></span>\n",
      "                                                <span class=\"time\">3小时前 </span>\n",
      "                        <div class=\"tags_s\">\n",
      "                                                        <i></i>\n",
      "                            <a href=\"https://www.qbitai.com/tag/cnn\" rel=\"tag\">CNN</a> <a href=\"https://www.qbitai.com/tag/%e5%a4%a7%e6%a8%a1%e5%9e%8b\" rel=\"tag\">大模型</a>                                                    </div>\n",
      "                    </div>\n",
      "                </div>\n",
      "            \n",
      "xxxxxxxxxxxxxx\n",
      "{\n",
      "  title: \u001b[32m'贾扬清：大模型尺寸正重走CNN的老路；马斯克：在特斯拉也是这样'\u001b[39m,\n",
      "  titleLink: \u001b[32m'https://www.qbitai.com/2024/08/173644.html'\u001b[39m,\n",
      "  author: \u001b[32m'衡宇'\u001b[39m,\n",
      "  time: \u001b[32m'3小时前 '\u001b[39m,\n",
      "  tags: [ \u001b[32m'CNN'\u001b[39m, \u001b[32m'大模型'\u001b[39m ]\n",
      "}\n",
      "\n",
      "                <div class=\"picture\"><a href=\"https://www.qbitai.com/2024/08/173607.html\" target=\"_blank\"><img width=\"204\" height=\"136\" src=\"https://www.qbitai.com/wp-content/uploads/replace/b773f3ec83269cfc91bfa557be446cd7.jpeg\" class=\"attachment-744x136 size-744x136 wp-post-image\" alt=\"\" srcset=\"https://www.qbitai.com/wp-content/uploads/replace/b773f3ec83269cfc91bfa557be446cd7.jpeg 640w, https://www.qbitai.com/wp-content/uploads/replace/b773f3ec83269cfc91bfa557be446cd7-300x200.jpeg 300w\" sizes=\"(max-width: 204px) 85vw, 204px\"></a></div>\n",
      "                <div class=\"text_box\">\n",
      "                    <h4><a href=\"https://www.qbitai.com/2024/08/173607.html\" target=\"_blank\">AI加持创作，「小说-剧本-视频」只需一人全搞定｜对话波形智能</a></h4>\n",
      "                    <p></p><p>8月1日19:00，欢迎围观～</p>\n",
      "<p></p>\n",
      "                    <div class=\"info\">\n",
      "                        <span class=\"author\"><a href=\"/?author=47838\">林樾</a></span>\n",
      "                                                <span class=\"time\">4小时前 </span>\n",
      "                        <div class=\"tags_s\">\n",
      "                                                        <i></i>\n",
      "                            <a href=\"https://www.qbitai.com/tag/ai%e5%88%9b%e4%bd%9c\" rel=\"tag\">AI创作</a> <a href=\"https://www.qbitai.com/tag/%e7%ba%bf%e4%b8%8a%e6%b4%bb%e5%8a%a8%e5%90%88%e8%be%91\" rel=\"tag\">线上活动合辑</a> <a href=\"https://www.qbitai.com/tag/%e9%87%8f%e5%ad%90%e4%bd%8d%c2%b7%e8%a7%86%e7%82%b9\" rel=\"tag\">量子位·视点</a> <a href=\"https://www.qbitai.com/tag/huodong\" rel=\"tag\">量子位活动合辑</a>                                                    </div>\n",
      "                    </div>\n",
      "                </div>\n",
      "            \n",
      "xxxxxxxxxxxxxx\n",
      "{\n",
      "  title: \u001b[32m'AI加持创作，「小说-剧本-视频」只需一人全搞定｜对话波形智能'\u001b[39m,\n",
      "  titleLink: \u001b[32m'https://www.qbitai.com/2024/08/173607.html'\u001b[39m,\n",
      "  author: \u001b[32m'林樾'\u001b[39m,\n",
      "  time: \u001b[32m'4小时前 '\u001b[39m,\n",
      "  tags: [ \u001b[32m'AI创作'\u001b[39m, \u001b[32m'线上活动合辑'\u001b[39m, \u001b[32m'量子位·视点'\u001b[39m, \u001b[32m'量子位活动合辑'\u001b[39m ]\n",
      "}\n",
      "\n",
      "                <div class=\"picture\"><a href=\"https://www.qbitai.com/2024/08/173604.html\" target=\"_blank\"><img width=\"204\" height=\"136\" src=\"https://www.qbitai.com/wp-content/uploads/replace/c7de0bc7b3b19e44de60a391b9fd76ef.png\" class=\"attachment-744x136 size-744x136 wp-post-image\" alt=\"\" srcset=\"https://www.qbitai.com/wp-content/uploads/replace/c7de0bc7b3b19e44de60a391b9fd76ef.png 830w, https://www.qbitai.com/wp-content/uploads/replace/c7de0bc7b3b19e44de60a391b9fd76ef-300x200.png 300w, https://www.qbitai.com/wp-content/uploads/replace/c7de0bc7b3b19e44de60a391b9fd76ef-768x513.png 768w\" sizes=\"(max-width: 204px) 85vw, 204px\"></a></div>\n",
      "                <div class=\"text_box\">\n",
      "                    <h4><a href=\"https://www.qbitai.com/2024/08/173604.html\" target=\"_blank\">ISC.AI 2024周鸿祎：落地安全大模型的关键是找准“明星场景”</a></h4>\n",
      "                    <p></p><p>打造安全大模型 引领安全行业革命</p>\n",
      "<p></p>\n",
      "                    <div class=\"info\">\n",
      "                        <span class=\"author\"><a href=\"/?author=19\">量子位</a></span>\n",
      "                                                <span class=\"time\">5小时前 </span>\n",
      "                        <div class=\"tags_s\">\n",
      "                                                        <i></i>\n",
      "                            <a href=\"https://www.qbitai.com/tag/360\" rel=\"tag\">360</a>                                                    </div>\n",
      "                    </div>\n",
      "                </div>\n",
      "            \n",
      "xxxxxxxxxxxxxx\n",
      "{\n",
      "  title: \u001b[32m'ISC.AI 2024周鸿祎：落地安全大模型的关键是找准“明星场景”'\u001b[39m,\n",
      "  titleLink: \u001b[32m'https://www.qbitai.com/2024/08/173604.html'\u001b[39m,\n",
      "  author: \u001b[32m'量子位'\u001b[39m,\n",
      "  time: \u001b[32m'5小时前 '\u001b[39m,\n",
      "  tags: [ \u001b[32m'360'\u001b[39m ]\n",
      "}\n",
      "\n",
      "                <div class=\"picture\"><a href=\"https://www.qbitai.com/2024/07/173563.html\" target=\"_blank\"><img width=\"241\" height=\"136\" src=\"https://www.qbitai.com/wp-content/uploads/replace/fe6625246bbe07eb44791f803a06f454.png\" class=\"attachment-744x136 size-744x136 wp-post-image\" alt=\"\" srcset=\"https://www.qbitai.com/wp-content/uploads/replace/fe6625246bbe07eb44791f803a06f454.png 832w, https://www.qbitai.com/wp-content/uploads/replace/fe6625246bbe07eb44791f803a06f454-300x169.png 300w, https://www.qbitai.com/wp-content/uploads/replace/fe6625246bbe07eb44791f803a06f454-768x434.png 768w\" sizes=\"(max-width: 241px) 85vw, 241px\"></a></div>\n",
      "                <div class=\"text_box\">\n",
      "                    <h4><a href=\"https://www.qbitai.com/2024/07/173563.html\" target=\"_blank\">阿里通义免费开放奥运AI大模型</a></h4>\n",
      "                    <p></p><p>只需简单提问，就能获得详尽且专业的答案</p>\n",
      "<p></p>\n",
      "                    <div class=\"info\">\n",
      "                        <span class=\"author\"><a href=\"/?author=19\">量子位</a></span>\n",
      "                                                <span class=\"time\">22小时前 </span>\n",
      "                        <div class=\"tags_s\">\n",
      "                                                        <i></i>\n",
      "                            <a href=\"https://www.qbitai.com/tag/%e9%80%9a%e4%b9%89%e5%8d%83%e9%97%ae\" rel=\"tag\">通义千问</a> <a href=\"https://www.qbitai.com/tag/%e9%98%bf%e9%87%8c%e4%ba%91\" rel=\"tag\">阿里云</a>                                                    </div>\n",
      "                    </div>\n",
      "                </div>\n",
      "            \n",
      "xxxxxxxxxxxxxx\n",
      "{\n",
      "  title: \u001b[32m'阿里通义免费开放奥运AI大模型'\u001b[39m,\n",
      "  titleLink: \u001b[32m'https://www.qbitai.com/2024/07/173563.html'\u001b[39m,\n",
      "  author: \u001b[32m'量子位'\u001b[39m,\n",
      "  time: \u001b[32m'22小时前 '\u001b[39m,\n",
      "  tags: [ \u001b[32m'通义千问'\u001b[39m, \u001b[32m'阿里云'\u001b[39m ]\n",
      "}\n",
      "\n",
      "                <div class=\"picture\"><a href=\"https://www.qbitai.com/2024/07/173552.html\" target=\"_blank\"><img width=\"233\" height=\"136\" src=\"https://www.qbitai.com/wp-content/uploads/2024/07/-1-1-e1722413245992.png\" class=\"attachment-744x136 size-744x136 wp-post-image\" alt=\"\" srcset=\"https://www.qbitai.com/wp-content/uploads/2024/07/-1-1-e1722413245992.png 818w, https://www.qbitai.com/wp-content/uploads/2024/07/-1-1-e1722413245992-300x175.png 300w, https://www.qbitai.com/wp-content/uploads/2024/07/-1-1-e1722413245992-768x449.png 768w\" sizes=\"(max-width: 233px) 85vw, 233px\"></a></div>\n",
      "                <div class=\"text_box\">\n",
      "                    <h4><a href=\"https://www.qbitai.com/2024/07/173552.html\" target=\"_blank\">人形机器人「星尘智能」获数千万美元Pre-A轮融资，经纬创投领投</a></h4>\n",
      "                    <p></p><p>星尘智能于2022年12月在深圳成立，专注研发“新一代最强AI机器人助理”</p>\n",
      "<p></p>\n",
      "                    <div class=\"info\">\n",
      "                        <span class=\"author\"><a href=\"/?author=16\">鱼羊</a></span>\n",
      "                                                <span class=\"time\">昨天 16:07</span>\n",
      "                        <div class=\"tags_s\">\n",
      "                                                        <i></i>\n",
      "                            <a href=\"https://www.qbitai.com/tag/ai%e6%9c%ba%e5%99%a8%e4%ba%ba\" rel=\"tag\">AI机器人</a> <a href=\"https://www.qbitai.com/tag/%e6%98%9f%e5%b0%98%e6%99%ba%e8%83%bd\" rel=\"tag\">星尘智能</a>                                                    </div>\n",
      "                    </div>\n",
      "                </div>\n",
      "            \n",
      "xxxxxxxxxxxxxx\n",
      "{\n",
      "  title: \u001b[32m'人形机器人「星尘智能」获数千万美元Pre-A轮融资，经纬创投领投'\u001b[39m,\n",
      "  titleLink: \u001b[32m'https://www.qbitai.com/2024/07/173552.html'\u001b[39m,\n",
      "  author: \u001b[32m'鱼羊'\u001b[39m,\n",
      "  time: \u001b[32m'昨天 16:07'\u001b[39m,\n",
      "  tags: [ \u001b[32m'AI机器人'\u001b[39m, \u001b[32m'星尘智能'\u001b[39m ]\n",
      "}\n",
      "\n",
      "                <div class=\"picture\"><a href=\"https://www.qbitai.com/2024/07/173328.html\" target=\"_blank\"><img width=\"233\" height=\"136\" src=\"https://www.qbitai.com/wp-content/uploads/2024/07/-2024-07-31-144219-e1722412976353.png\" class=\"attachment-744x136 size-744x136 wp-post-image\" alt=\"\" srcset=\"https://www.qbitai.com/wp-content/uploads/2024/07/-2024-07-31-144219-e1722412976353.png 935w, https://www.qbitai.com/wp-content/uploads/2024/07/-2024-07-31-144219-e1722412976353-300x175.png 300w, https://www.qbitai.com/wp-content/uploads/2024/07/-2024-07-31-144219-e1722412976353-768x448.png 768w\" sizes=\"(max-width: 233px) 85vw, 233px\"></a></div>\n",
      "                <div class=\"text_box\">\n",
      "                    <h4><a href=\"https://www.qbitai.com/2024/07/173328.html\" target=\"_blank\">失联大神李沐B站复更：领读Llama 3.1论文；竞技场Llama 3.1排第三</a></h4>\n",
      "                    <p></p><p>还分享了AI八卦</p>\n",
      "<p></p>\n",
      "                    <div class=\"info\">\n",
      "                        <span class=\"author\"><a href=\"/?author=47840\">一水</a></span>\n",
      "                                                <span class=\"time\">昨天 16:03</span>\n",
      "                        <div class=\"tags_s\">\n",
      "                                                        <i></i>\n",
      "                            <a href=\"https://www.qbitai.com/tag/llama-3-1\" rel=\"tag\">Llama 3.1</a> <a href=\"https://www.qbitai.com/tag/%e6%9d%8e%e6%b2%90\" rel=\"tag\">李沐</a>                                                    </div>\n",
      "                    </div>\n",
      "                </div>\n",
      "            \n",
      "xxxxxxxxxxxxxx\n",
      "{\n",
      "  title: \u001b[32m'失联大神李沐B站复更：领读Llama 3.1论文；竞技场Llama 3.1排第三'\u001b[39m,\n",
      "  titleLink: \u001b[32m'https://www.qbitai.com/2024/07/173328.html'\u001b[39m,\n",
      "  author: \u001b[32m'一水'\u001b[39m,\n",
      "  time: \u001b[32m'昨天 16:03'\u001b[39m,\n",
      "  tags: [ \u001b[32m'Llama 3.1'\u001b[39m, \u001b[32m'李沐'\u001b[39m ]\n",
      "}\n",
      "\n",
      "                <div class=\"picture\"><a href=\"https://www.qbitai.com/2024/07/173178.html\" target=\"_blank\"><img width=\"234\" height=\"136\" src=\"https://www.qbitai.com/wp-content/uploads/2024/07/GTwm3rGWIAAu3oA-e1722411016973.jpeg\" class=\"attachment-744x136 size-744x136 wp-post-image\" alt=\"\" srcset=\"https://www.qbitai.com/wp-content/uploads/2024/07/GTwm3rGWIAAu3oA-e1722411016973.jpeg 2048w, https://www.qbitai.com/wp-content/uploads/2024/07/GTwm3rGWIAAu3oA-e1722411016973-300x175.jpeg 300w, https://www.qbitai.com/wp-content/uploads/2024/07/GTwm3rGWIAAu3oA-e1722411016973-768x447.jpeg 768w, https://www.qbitai.com/wp-content/uploads/2024/07/GTwm3rGWIAAu3oA-e1722411016973-1024x596.jpeg 1024w, https://www.qbitai.com/wp-content/uploads/2024/07/GTwm3rGWIAAu3oA-e1722411016973-1200x698.jpeg 1200w\" sizes=\"(max-width: 234px) 85vw, 234px\"></a></div>\n",
      "                <div class=\"text_box\">\n",
      "                    <h4><a href=\"https://www.qbitai.com/2024/07/173178.html\" target=\"_blank\">Midjourney新版本上线即爆火！网友已玩疯：和摄影几乎没区别</a></h4>\n",
      "                    <p></p><p>八大升级来了</p>\n",
      "<p></p>\n",
      "                    <div class=\"info\">\n",
      "                        <span class=\"author\"><a href=\"/?author=34\">明敏</a></span>\n",
      "                                                <span class=\"time\">昨天 15:30</span>\n",
      "                        <div class=\"tags_s\">\n",
      "                                                        <i></i>\n",
      "                            <a href=\"https://www.qbitai.com/tag/ai%e7%bb%98%e7%94%bb\" rel=\"tag\">AI绘画</a> <a href=\"https://www.qbitai.com/tag/midjourney\" rel=\"tag\">Midjourney</a>                                                    </div>\n",
      "                    </div>\n",
      "                </div>\n",
      "            \n",
      "xxxxxxxxxxxxxx\n",
      "{\n",
      "  title: \u001b[32m'Midjourney新版本上线即爆火！网友已玩疯：和摄影几乎没区别'\u001b[39m,\n",
      "  titleLink: \u001b[32m'https://www.qbitai.com/2024/07/173178.html'\u001b[39m,\n",
      "  author: \u001b[32m'明敏'\u001b[39m,\n",
      "  time: \u001b[32m'昨天 15:30'\u001b[39m,\n",
      "  tags: [ \u001b[32m'AI绘画'\u001b[39m, \u001b[32m'Midjourney'\u001b[39m ]\n",
      "}\n",
      "\n",
      "                <div class=\"picture\"><a href=\"https://www.qbitai.com/2024/07/173904.html\" target=\"_blank\"><img width=\"242\" height=\"136\" src=\"https://www.qbitai.com/wp-content/uploads/replace/38b55bd0b619788f4dce8d7e000c9d80.png\" class=\"attachment-744x136 size-744x136 wp-post-image\" alt=\"\" srcset=\"https://www.qbitai.com/wp-content/uploads/replace/38b55bd0b619788f4dce8d7e000c9d80.png 1080w, https://www.qbitai.com/wp-content/uploads/replace/38b55bd0b619788f4dce8d7e000c9d80-300x169.png 300w, https://www.qbitai.com/wp-content/uploads/replace/38b55bd0b619788f4dce8d7e000c9d80-768x432.png 768w, https://www.qbitai.com/wp-content/uploads/replace/38b55bd0b619788f4dce8d7e000c9d80-1024x576.png 1024w\" sizes=\"(max-width: 242px) 85vw, 242px\"></a></div>\n",
      "                <div class=\"text_box\">\n",
      "                    <h4><a href=\"https://www.qbitai.com/2024/07/173904.html\" target=\"_blank\">CSDN「智研社-The Intelliger」共话大模型技术演进与 AI Infra 创新</a></h4>\n",
      "                    <p></p><p>进行 AGI 相关前沿科技的深入探讨</p>\n",
      "<p></p>\n",
      "                    <div class=\"info\">\n",
      "                        <span class=\"author\"><a href=\"/?author=19\">量子位</a></span>\n",
      "                                                <span class=\"time\">昨天 15:26</span>\n",
      "                        <div class=\"tags_s\">\n",
      "                                                        <i></i>\n",
      "                            <a href=\"https://www.qbitai.com/tag/csdn\" rel=\"tag\">csdn</a>                                                    </div>\n",
      "                    </div>\n",
      "                </div>\n",
      "            \n",
      "xxxxxxxxxxxxxx\n",
      "{\n",
      "  title: \u001b[32m'CSDN「智研社-The Intelliger」共话大模型技术演进与 AI Infra 创新'\u001b[39m,\n",
      "  titleLink: \u001b[32m'https://www.qbitai.com/2024/07/173904.html'\u001b[39m,\n",
      "  author: \u001b[32m'量子位'\u001b[39m,\n",
      "  time: \u001b[32m'昨天 15:26'\u001b[39m,\n",
      "  tags: [ \u001b[32m'csdn'\u001b[39m ]\n",
      "}\n",
      "\n",
      "                <div class=\"picture\"><a href=\"https://www.qbitai.com/2024/07/173138.html\" target=\"_blank\"><img width=\"233\" height=\"136\" src=\"https://www.qbitai.com/wp-content/uploads/2024/07/2024-07-31-15.22.24-e1722410629735.png\" class=\"attachment-744x136 size-744x136 wp-post-image\" alt=\"\"></a></div>\n",
      "                <div class=\"text_box\">\n",
      "                    <h4><a href=\"https://www.qbitai.com/2024/07/173138.html\" target=\"_blank\">Claude团队引众怒，为爬数据不择手段，给爬虫改名字无视禁止规则</a></h4>\n",
      "                    <p></p><p>群情激愤：小偷！</p>\n",
      "<p></p>\n",
      "                    <div class=\"info\">\n",
      "                        <span class=\"author\"><a href=\"/?author=54\">衡宇</a></span>\n",
      "                                                <span class=\"time\">昨天 15:24</span>\n",
      "                        <div class=\"tags_s\">\n",
      "                                                        <i></i>\n",
      "                            <a href=\"https://www.qbitai.com/tag/anthropic\" rel=\"tag\">Anthropic</a> <a href=\"https://www.qbitai.com/tag/claude\" rel=\"tag\">Claude</a> <a href=\"https://www.qbitai.com/tag/%e7%88%ac%e8%99%ab\" rel=\"tag\">爬虫</a>                                                    </div>\n",
      "                    </div>\n",
      "                </div>\n",
      "            \n",
      "xxxxxxxxxxxxxx\n",
      "{\n",
      "  title: \u001b[32m'Claude团队引众怒，为爬数据不择手段，给爬虫改名字无视禁止规则'\u001b[39m,\n",
      "  titleLink: \u001b[32m'https://www.qbitai.com/2024/07/173138.html'\u001b[39m,\n",
      "  author: \u001b[32m'衡宇'\u001b[39m,\n",
      "  time: \u001b[32m'昨天 15:24'\u001b[39m,\n",
      "  tags: [ \u001b[32m'Anthropic'\u001b[39m, \u001b[32m'Claude'\u001b[39m, \u001b[32m'爬虫'\u001b[39m ]\n",
      "}\n",
      "\n",
      "                <div class=\"picture\"><a href=\"https://www.qbitai.com/2024/07/173103.html\" target=\"_blank\"><img width=\"320\" height=\"136\" src=\"https://www.qbitai.com/wp-content/uploads/2024/07/头图原图2.png\" class=\"attachment-744x136 size-744x136 wp-post-image\" alt=\"\" srcset=\"https://www.qbitai.com/wp-content/uploads/2024/07/头图原图2.png 567w, https://www.qbitai.com/wp-content/uploads/2024/07/头图原图2-300x128.png 300w\" sizes=\"(max-width: 320px) 85vw, 320px\"></a></div>\n",
      "                <div class=\"text_box\">\n",
      "                    <h4><a href=\"https://www.qbitai.com/2024/07/173103.html\" target=\"_blank\">超精细开放世界藏进小程序，他们用游戏技术复刻北京中轴线，穿越古今的那种</a></h4>\n",
      "                    <p></p><p>你以为的游戏早已不是你以为的游戏</p>\n",
      "<p></p>\n",
      "                    <div class=\"info\">\n",
      "                        <span class=\"author\"><a href=\"/?author=16\">鱼羊</a></span>\n",
      "                                                <span class=\"time\">昨天 15:24</span>\n",
      "                        <div class=\"tags_s\">\n",
      "                                                        <i></i>\n",
      "                            <a href=\"https://www.qbitai.com/tag/%e5%8c%97%e4%ba%ac%e4%b8%ad%e8%bd%b4%e7%ba%bf\" rel=\"tag\">北京中轴线</a> <a href=\"https://www.qbitai.com/tag/%e6%b8%b8%e6%88%8f%e6%8a%80%e6%9c%af\" rel=\"tag\">游戏技术</a>                                                    </div>\n",
      "                    </div>\n",
      "                </div>\n",
      "            \n",
      "xxxxxxxxxxxxxx\n",
      "{\n",
      "  title: \u001b[32m'超精细开放世界藏进小程序，他们用游戏技术复刻北京中轴线，穿越古今的那种'\u001b[39m,\n",
      "  titleLink: \u001b[32m'https://www.qbitai.com/2024/07/173103.html'\u001b[39m,\n",
      "  author: \u001b[32m'鱼羊'\u001b[39m,\n",
      "  time: \u001b[32m'昨天 15:24'\u001b[39m,\n",
      "  tags: [ \u001b[32m'北京中轴线'\u001b[39m, \u001b[32m'游戏技术'\u001b[39m ]\n",
      "}\n",
      "\n",
      "                <div class=\"picture\"><a href=\"https://www.qbitai.com/2024/07/173013.html\" target=\"_blank\"><img width=\"234\" height=\"136\" src=\"https://www.qbitai.com/wp-content/uploads/2024/07/WX20240731-142926@2x-e1722408793388.png\" class=\"attachment-744x136 size-744x136 wp-post-image\" alt=\"\" srcset=\"https://www.qbitai.com/wp-content/uploads/2024/07/WX20240731-142926@2x-e1722408793388.png 725w, https://www.qbitai.com/wp-content/uploads/2024/07/WX20240731-142926@2x-e1722408793388-300x175.png 300w\" sizes=\"(max-width: 234px) 85vw, 234px\"></a></div>\n",
      "                <div class=\"text_box\">\n",
      "                    <h4><a href=\"https://www.qbitai.com/2024/07/173013.html\" target=\"_blank\">寡姐带货国风Polo衫，马斯克穿牛仔走红毯！虚拟试衣新框架火了</a></h4>\n",
      "                    <p></p><p>只需两张图像，不到30秒生成</p>\n",
      "<p></p>\n",
      "                    <div class=\"info\">\n",
      "                        <span class=\"author\"><a href=\"/?author=24\">白交</a></span>\n",
      "                                                <span class=\"time\">昨天 14:53</span>\n",
      "                        <div class=\"tags_s\">\n",
      "                                                        <i></i>\n",
      "                            <a href=\"https://www.qbitai.com/tag/%e4%b8%ad%e5%b1%b1%e5%a4%a7%e5%ad%a6\" rel=\"tag\">中山大学</a> <a href=\"https://www.qbitai.com/tag/%e8%99%9a%e6%8b%9f%e8%af%95%e8%a1%a3\" rel=\"tag\">虚拟试衣</a>                                                    </div>\n",
      "                    </div>\n",
      "                </div>\n",
      "            \n",
      "xxxxxxxxxxxxxx\n",
      "{\n",
      "  title: \u001b[32m'寡姐带货国风Polo衫，马斯克穿牛仔走红毯！虚拟试衣新框架火了'\u001b[39m,\n",
      "  titleLink: \u001b[32m'https://www.qbitai.com/2024/07/173013.html'\u001b[39m,\n",
      "  author: \u001b[32m'白交'\u001b[39m,\n",
      "  time: \u001b[32m'昨天 14:53'\u001b[39m,\n",
      "  tags: [ \u001b[32m'中山大学'\u001b[39m, \u001b[32m'虚拟试衣'\u001b[39m ]\n",
      "}\n",
      "\n",
      "                <div class=\"picture\"><a href=\"https://www.qbitai.com/2024/07/172953.html\" target=\"_blank\"><img width=\"204\" height=\"136\" src=\"https://www.qbitai.com/wp-content/uploads/2024/07/951B6A7B-8CC8-4861-8275-4AD8344C745E.jpg\" class=\"attachment-744x136 size-744x136 wp-post-image\" alt=\"\" srcset=\"https://www.qbitai.com/wp-content/uploads/2024/07/951B6A7B-8CC8-4861-8275-4AD8344C745E.jpg 1353w, https://www.qbitai.com/wp-content/uploads/2024/07/951B6A7B-8CC8-4861-8275-4AD8344C745E-300x200.jpg 300w, https://www.qbitai.com/wp-content/uploads/2024/07/951B6A7B-8CC8-4861-8275-4AD8344C745E-768x512.jpg 768w, https://www.qbitai.com/wp-content/uploads/2024/07/951B6A7B-8CC8-4861-8275-4AD8344C745E-1024x683.jpg 1024w, https://www.qbitai.com/wp-content/uploads/2024/07/951B6A7B-8CC8-4861-8275-4AD8344C745E-1200x800.jpg 1200w\" sizes=\"(max-width: 204px) 85vw, 204px\"></a></div>\n",
      "                <div class=\"text_box\">\n",
      "                    <h4><a href=\"https://www.qbitai.com/2024/07/172953.html\" target=\"_blank\">何小鹏：端到端今年投35亿，2天迭代一次，可实现「门到门」体验</a></h4>\n",
      "                    <p></p><p>何小鹏开喷“周销量榜”</p>\n",
      "<p></p>\n",
      "                    <div class=\"info\">\n",
      "                        <span class=\"author\"><a href=\"/?author=23\">贾浩楠</a></span>\n",
      "                                                <span class=\"time\">前天 22:40</span>\n",
      "                        <div class=\"tags_s\">\n",
      "                                                        <i></i>\n",
      "                            <a href=\"https://www.qbitai.com/tag/%e5%b0%8f%e9%b9%8f%e6%b1%bd%e8%bd%a6\" rel=\"tag\">小鹏汽车</a>                                                    </div>\n",
      "                    </div>\n",
      "                </div>\n",
      "            \n",
      "xxxxxxxxxxxxxx\n",
      "{\n",
      "  title: \u001b[32m'何小鹏：端到端今年投35亿，2天迭代一次，可实现「门到门」体验'\u001b[39m,\n",
      "  titleLink: \u001b[32m'https://www.qbitai.com/2024/07/172953.html'\u001b[39m,\n",
      "  author: \u001b[32m'贾浩楠'\u001b[39m,\n",
      "  time: \u001b[32m'前天 22:40'\u001b[39m,\n",
      "  tags: [ \u001b[32m'小鹏汽车'\u001b[39m ]\n",
      "}\n",
      "\n",
      "                <div class=\"picture\"><a href=\"https://www.qbitai.com/2024/07/172903.html\" target=\"_blank\"><img width=\"320\" height=\"136\" src=\"https://www.qbitai.com/wp-content/uploads/2024/07/2024-07-30-16.16.41-e1722327429536.png\" class=\"attachment-744x136 size-744x136 wp-post-image\" alt=\"\" srcset=\"https://www.qbitai.com/wp-content/uploads/2024/07/2024-07-30-16.16.41-e1722327429536.png 1372w, https://www.qbitai.com/wp-content/uploads/2024/07/2024-07-30-16.16.41-e1722327429536-300x127.png 300w, https://www.qbitai.com/wp-content/uploads/2024/07/2024-07-30-16.16.41-e1722327429536-768x326.png 768w, https://www.qbitai.com/wp-content/uploads/2024/07/2024-07-30-16.16.41-e1722327429536-1024x435.png 1024w, https://www.qbitai.com/wp-content/uploads/2024/07/2024-07-30-16.16.41-e1722327429536-1200x510.png 1200w\" sizes=\"(max-width: 320px) 85vw, 320px\"></a></div>\n",
      "                <div class=\"text_box\">\n",
      "                    <h4><a href=\"https://www.qbitai.com/2024/07/172903.html\" target=\"_blank\">苹果AI版iOS首日火爆：聊天秒变高情商，大模型成最强嘴替，Siri华丽变身</a></h4>\n",
      "                    <p></p><p>还有47页大模型技术报告出炉</p>\n",
      "<p></p>\n",
      "                    <div class=\"info\">\n",
      "                        <span class=\"author\"><a href=\"/?author=47832\">克雷西</a></span>\n",
      "                                                <span class=\"time\">前天 16:17</span>\n",
      "                        <div class=\"tags_s\">\n",
      "                                                        <i></i>\n",
      "                            <a href=\"https://www.qbitai.com/tag/%e8%8b%b9%e6%9e%9c\" rel=\"tag\">苹果</a>                                                    </div>\n",
      "                    </div>\n",
      "                </div>\n",
      "            \n",
      "xxxxxxxxxxxxxx\n",
      "{\n",
      "  title: \u001b[32m'苹果AI版iOS首日火爆：聊天秒变高情商，大模型成最强嘴替，Siri华丽变身'\u001b[39m,\n",
      "  titleLink: \u001b[32m'https://www.qbitai.com/2024/07/172903.html'\u001b[39m,\n",
      "  author: \u001b[32m'克雷西'\u001b[39m,\n",
      "  time: \u001b[32m'前天 16:17'\u001b[39m,\n",
      "  tags: [ \u001b[32m'苹果'\u001b[39m ]\n",
      "}\n",
      "\n",
      "                <div class=\"picture\"><a href=\"https://www.qbitai.com/2024/07/172892.html\" target=\"_blank\"><img width=\"181\" height=\"136\" src=\"https://www.qbitai.com/wp-content/uploads/replace/d5ee188ac0d76ff045d26abfe8b7b351.png\" class=\"attachment-744x136 size-744x136 wp-post-image\" alt=\"\" srcset=\"https://www.qbitai.com/wp-content/uploads/replace/d5ee188ac0d76ff045d26abfe8b7b351.png 832w, https://www.qbitai.com/wp-content/uploads/replace/d5ee188ac0d76ff045d26abfe8b7b351-300x226.png 300w, https://www.qbitai.com/wp-content/uploads/replace/d5ee188ac0d76ff045d26abfe8b7b351-768x578.png 768w\" sizes=\"(max-width: 181px) 85vw, 181px\"></a></div>\n",
      "                <div class=\"text_box\">\n",
      "                    <h4><a href=\"https://www.qbitai.com/2024/07/172892.html\" target=\"_blank\">阿里云修复100年前巴黎奥运珍贵影像，国际奥委会主席巴赫致谢！</a></h4>\n",
      "                    <p></p><p>国际奥委会首次公布了1924巴黎奥运的珍贵影像</p>\n",
      "<p></p>\n",
      "                    <div class=\"info\">\n",
      "                        <span class=\"author\"><a href=\"/?author=19\">量子位</a></span>\n",
      "                                                <span class=\"time\">前天 15:33</span>\n",
      "                        <div class=\"tags_s\">\n",
      "                                                        <i></i>\n",
      "                            <a href=\"https://www.qbitai.com/tag/%e9%98%bf%e9%87%8c%e4%ba%91\" rel=\"tag\">阿里云</a>                                                    </div>\n",
      "                    </div>\n",
      "                </div>\n",
      "            \n",
      "xxxxxxxxxxxxxx\n",
      "{\n",
      "  title: \u001b[32m'阿里云修复100年前巴黎奥运珍贵影像，国际奥委会主席巴赫致谢！'\u001b[39m,\n",
      "  titleLink: \u001b[32m'https://www.qbitai.com/2024/07/172892.html'\u001b[39m,\n",
      "  author: \u001b[32m'量子位'\u001b[39m,\n",
      "  time: \u001b[32m'前天 15:33'\u001b[39m,\n",
      "  tags: [ \u001b[32m'阿里云'\u001b[39m ]\n",
      "}\n",
      "\n",
      "                <a href=\"javascript:void(0);\" id=\"more_news\">加载更多</a>\n",
      "            \n",
      "xxxxxxxxxxxxxx\n",
      "{ title: \u001b[32m''\u001b[39m, titleLink: \u001b[32m''\u001b[39m, author: \u001b[32m''\u001b[39m, time: \u001b[32m''\u001b[39m, tags: [] }\n",
      "/Users/zhaoxuefeng/Documents/Project/docs/zxfpro.github.io/slc/研究者/gpt_coder/node_modules/puppeteer/node_modules/puppeteer-core/lib/cjs/puppeteer/common/CallbackRegistry.js:96\n",
      "    #error = new Errors_js_1.ProtocolError();\n",
      "             ^\n",
      "\n",
      "ProtocolError: Protocol error (Page.navigate): Cannot navigate to invalid URL\n",
      "    at Callback.<instance_members_initializer> (/Users/zhaoxuefeng/Documents/Project/docs/zxfpro.github.io/slc/研究者/gpt_coder/node_modules/\u001b[4mpuppeteer\u001b[24m/node_modules/\u001b[4mpuppeteer-core\u001b[24m/lib/cjs/puppeteer/common/CallbackRegistry.js:96:14)\n",
      "    at new Callback (/Users/zhaoxuefeng/Documents/Project/docs/zxfpro.github.io/slc/研究者/gpt_coder/node_modules/\u001b[4mpuppeteer\u001b[24m/node_modules/\u001b[4mpuppeteer-core\u001b[24m/lib/cjs/puppeteer/common/CallbackRegistry.js:100:16)\n",
      "    at CallbackRegistry.create (/Users/zhaoxuefeng/Documents/Project/docs/zxfpro.github.io/slc/研究者/gpt_coder/node_modules/\u001b[4mpuppeteer\u001b[24m/node_modules/\u001b[4mpuppeteer-core\u001b[24m/lib/cjs/puppeteer/common/CallbackRegistry.js:22:26)\n",
      "    at Connection._rawSend (/Users/zhaoxuefeng/Documents/Project/docs/zxfpro.github.io/slc/研究者/gpt_coder/node_modules/\u001b[4mpuppeteer\u001b[24m/node_modules/\u001b[4mpuppeteer-core\u001b[24m/lib/cjs/puppeteer/cdp/Connection.js:80:26)\n",
      "    at CdpCDPSession.send (/Users/zhaoxuefeng/Documents/Project/docs/zxfpro.github.io/slc/研究者/gpt_coder/node_modules/\u001b[4mpuppeteer\u001b[24m/node_modules/\u001b[4mpuppeteer-core\u001b[24m/lib/cjs/puppeteer/cdp/CDPSession.js:66:33)\n",
      "    at next (/Users/zhaoxuefeng/Documents/Project/docs/zxfpro.github.io/slc/研究者/gpt_coder/node_modules/\u001b[4mpuppeteer-extra-plugin-stealth\u001b[24m/evasions/sourceurl/index.js:34:41)\n",
      "    at CdpCDPSession.send (/Users/zhaoxuefeng/Documents/Project/docs/zxfpro.github.io/slc/研究者/gpt_coder/node_modules/\u001b[4mpuppeteer-extra-plugin-stealth\u001b[24m/evasions/sourceurl/index.js:67:18)\n",
      "    at navigate (/Users/zhaoxuefeng/Documents/Project/docs/zxfpro.github.io/slc/研究者/gpt_coder/node_modules/\u001b[4mpuppeteer\u001b[24m/node_modules/\u001b[4mpuppeteer-core\u001b[24m/lib/cjs/puppeteer/cdp/Frame.js:159:51)\n",
      "    at CdpFrame.goto (/Users/zhaoxuefeng/Documents/Project/docs/zxfpro.github.io/slc/研究者/gpt_coder/node_modules/\u001b[4mpuppeteer\u001b[24m/node_modules/\u001b[4mpuppeteer-core\u001b[24m/lib/cjs/puppeteer/cdp/Frame.js:137:17)\n",
      "    at CdpFrame.<anonymous> (/Users/zhaoxuefeng/Documents/Project/docs/zxfpro.github.io/slc/研究者/gpt_coder/node_modules/\u001b[4mpuppeteer\u001b[24m/node_modules/\u001b[4mpuppeteer-core\u001b[24m/lib/cjs/puppeteer/util/decorators.js:98:27)\n"
     ]
    }
   ],
   "source": [
    "!node ./information_cloud.js"
   ]
  },
  {
   "cell_type": "code",
   "execution_count": null,
   "id": "39f0d400-6cbd-49b5-aea5-597a739aa41a",
   "metadata": {},
   "outputs": [],
   "source": []
  },
  {
   "cell_type": "code",
   "execution_count": null,
   "id": "4aa5f978-0d73-4d11-a774-331dd1fab3ad",
   "metadata": {},
   "outputs": [],
   "source": []
  },
  {
   "cell_type": "code",
   "execution_count": null,
   "id": "90a8a9f5-89f5-470c-881e-704fc47ff754",
   "metadata": {},
   "outputs": [],
   "source": []
  },
  {
   "cell_type": "code",
   "execution_count": null,
   "id": "89757d40-3571-4d4c-83e1-5e949c932560",
   "metadata": {},
   "outputs": [],
   "source": [
    "1"
   ]
  },
  {
   "cell_type": "code",
   "execution_count": null,
   "id": "ccadbfbe-2cbe-41f9-ad4e-4a3475d841b6",
   "metadata": {},
   "outputs": [],
   "source": [
    "3 拓展眼界,自动化的收集和推送新信息, 自动化聊天沟通\n",
    "4 具备对于能力的管理能力,查询能力,以及智慧问答能力(可以方便的知道我的,能力范围,能力边界,研究方向等)"
   ]
  },
  {
   "cell_type": "code",
   "execution_count": null,
   "id": "80454d29-6d04-4819-9998-1e0ca7f2d9e6",
   "metadata": {},
   "outputs": [],
   "source": [
    "1 保存到知识库中 可以调用和搜索\n",
    "2 总结,归纳,每日推荐"
   ]
  },
  {
   "cell_type": "code",
   "execution_count": null,
   "id": "5d20a0a7-fbb5-4c53-8cb8-e592dce2a64d",
   "metadata": {},
   "outputs": [],
   "source": []
  },
  {
   "cell_type": "code",
   "execution_count": 158,
   "id": "91841643-d285-4880-8675-b12d6adcc70e",
   "metadata": {
    "tags": []
   },
   "outputs": [],
   "source": [
    "from zxftools_dev.rag import LoadData"
   ]
  },
  {
   "cell_type": "code",
   "execution_count": 160,
   "id": "9287fdca-51f4-43f7-9e6b-b36e41dea18d",
   "metadata": {
    "tags": []
   },
   "outputs": [],
   "source": [
    "docuemnts = LoadData('pdfs')"
   ]
  },
  {
   "cell_type": "code",
   "execution_count": 163,
   "id": "837396c7-e8ad-4f94-a70b-74a733508144",
   "metadata": {
    "tags": []
   },
   "outputs": [],
   "source": [
    "from zxftools_dev.rag import SplitterFactory,SplitterType"
   ]
  },
  {
   "cell_type": "code",
   "execution_count": 167,
   "id": "7b50f0f7-92a0-4f3f-9802-51c9ce29bb0b",
   "metadata": {
    "tags": []
   },
   "outputs": [],
   "source": [
    "splits = SplitterFactory(SplitterType.TOKEN_TEXT,chunk_size=1000,chunk_overlap=100)"
   ]
  },
  {
   "cell_type": "code",
   "execution_count": 169,
   "id": "3ccc79e1-18a0-41d3-8ad5-1c4f111a60e4",
   "metadata": {
    "tags": []
   },
   "outputs": [],
   "source": [
    "nodes = splits.get_nodes_from_documents(docuemnts)"
   ]
  },
  {
   "cell_type": "code",
   "execution_count": 171,
   "id": "16eb2b55-17a3-4ce8-bf50-0c2dc5762345",
   "metadata": {
    "tags": []
   },
   "outputs": [
    {
     "data": {
      "text/plain": [
       "45"
      ]
     },
     "execution_count": 171,
     "metadata": {},
     "output_type": "execute_result"
    }
   ],
   "source": [
    "len(nodes)"
   ]
  },
  {
   "cell_type": "code",
   "execution_count": 172,
   "id": "9e806b96-9238-4e0b-8bff-cc3e65518bc9",
   "metadata": {
    "collapsed": true,
    "jupyter": {
     "outputs_hidden": true
    },
    "tags": []
   },
   "outputs": [
    {
     "data": {
      "text/plain": [
       "[TextNode(id_='438cef6c-d95e-4439-9ac4-2880153145e0', embedding=None, metadata={'page_label': '1', 'file_name': 'AI加持创作，「小说-剧本-视频」只需一人全搞定｜对话波形智能.pdf', 'file_path': '/Users/zhaoxuefeng/Documents/Project/docs/zxfpro.github.io/slc/研究者/gpt_coder/pdfs/AI加持创作，「小说-剧本-视频」只需一人全搞定｜对话波形智能.pdf', 'file_type': 'application/pdf', 'file_size': 3212876, 'creation_date': '2024-08-01', 'last_modified_date': '2024-08-01'}, excluded_embed_metadata_keys=['file_name', 'file_type', 'file_size', 'creation_date', 'last_modified_date', 'last_accessed_date'], excluded_llm_metadata_keys=['file_name', 'file_type', 'file_size', 'creation_date', 'last_modified_date', 'last_accessed_date'], relationships={<NodeRelationship.SOURCE: '1'>: RelatedNodeInfo(node_id='/Users/zhaoxuefeng/Documents/Project/docs/zxfpro.github.io/slc/研究者/gpt_coder/pdfs/AI加持创作，「小说-剧本-视频」只需一人全搞定｜对话波形智能.pdf_part_0', node_type=<ObjectType.DOCUMENT: '4'>, metadata={'page_label': '1', 'file_name': 'AI加持创作，「小说-剧本-视频」只需一人全搞定｜对话波形智能.pdf', 'file_path': '/Users/zhaoxuefeng/Documents/Project/docs/zxfpro.github.io/slc/研究者/gpt_coder/pdfs/AI加持创作，「小说-剧本-视频」只需一人全搞定｜对话波形智能.pdf', 'file_type': 'application/pdf', 'file_size': 3212876, 'creation_date': '2024-08-01', 'last_modified_date': '2024-08-01'}, hash='91ce28079478d0bc6cf9b4bc808b2e2766b9581186466d10dbb0f68b02aa26e7'), <NodeRelationship.NEXT: '3'>: RelatedNodeInfo(node_id='b60670de-79e9-4324-97c7-6a12952ccf26', node_type=<ObjectType.TEXT: '1'>, metadata={}, hash='4a016bba67b13826afaaced1dab29e465769f729343882b337a602f2a291d118')}, text='资讯热⻔⽂章\\n 360 isc周鸿祎ISC发布国内⾸个免费安全⼤模型 安全能\\n⼒超越GPT-4\\n其安全垂直能⼒已超过G PT-4\\n量⼦位 19分钟前\\n CPU 服务器想跑千亿⼤模型？算⼒⼚商放⼤招！CPU通⽤服\\n务器成为新选择\\n不⽤A I加速卡，只⽤4 颗CPU\\n克雷⻄ 25分钟前\\n arXiv 公开评审 斯坦福吴恩达弟⼦打造arXiv弹幕版，每篇论⽂都能⾃\\n由讨论了！\\n⽹友 ：这才是学术圈该有的样⼦！\\n明敏 2⼩时前\\n ChatGPT GPT-4o OpenAIChatGPT版「Her」被玩疯：哭着读诗，中⽂表\\n现也很亮\\n还能超快数1- 100\\n⼗三 2⼩时前\\n ⼤模型 ⽂⼼⼀⾔ 百度 ⻜桨⻜桨框架进阶3.0！⼀⽂讲透“⼤模型训推⼀体”\\n等五⼤新特性\\n为产学研各界提供稳定⽀持\\n⼗三 2⼩时前\\n 中国科学院数学与系统科学研究院 陈景润奖⾸届陈景润奖颁发！90后⼭⼤教授和84年中科\\n院研究员研究成果获奖\\n数论与代数⽅向新⽣代⼤奖\\n⻄⻛ 3⼩时前\\n CNN ⼤模型贾扬清：⼤模型尺⼨正重⾛CNN的⽼路；⻢斯\\n克：在特斯拉也是这样\\n开始反着卷了\\n衡宇 3⼩时前\\nOpenAI推出新AI搜索，⽼伙\\n计微软也默默更新了Bing\\n2024-07-26\\n字节⾖包上线吴敏霞、林丹\\n等专属智能体 奥运冠军AI…\\n2024-07-26\\n联想CTO换帅！芮勇转任新\\n集团总裁，瞄准新兴技术\\n2024-07-26\\n智平⽅打通具身智能核⼼痛\\n点：将AGI拓展到物理世界\\n2024-07-26\\n商汤科技⽇⽇新⼤模型亮相\\n巴黎，中国AI共赴奥运之约\\n2024-07-26', start_char_idx=0, end_char_idx=677, text_template='{metadata_str}\\n\\n{content}', metadata_template='{key}: {value}', metadata_seperator='\\n'),\n",
       " TextNode(id_='b60670de-79e9-4324-97c7-6a12952ccf26', embedding=None, metadata={'page_label': '2', 'file_name': 'AI加持创作，「小说-剧本-视频」只需一人全搞定｜对话波形智能.pdf', 'file_path': '/Users/zhaoxuefeng/Documents/Project/docs/zxfpro.github.io/slc/研究者/gpt_coder/pdfs/AI加持创作，「小说-剧本-视频」只需一人全搞定｜对话波形智能.pdf', 'file_type': 'application/pdf', 'file_size': 3212876, 'creation_date': '2024-08-01', 'last_modified_date': '2024-08-01'}, excluded_embed_metadata_keys=['file_name', 'file_type', 'file_size', 'creation_date', 'last_modified_date', 'last_accessed_date'], excluded_llm_metadata_keys=['file_name', 'file_type', 'file_size', 'creation_date', 'last_modified_date', 'last_accessed_date'], relationships={<NodeRelationship.SOURCE: '1'>: RelatedNodeInfo(node_id='/Users/zhaoxuefeng/Documents/Project/docs/zxfpro.github.io/slc/研究者/gpt_coder/pdfs/AI加持创作，「小说-剧本-视频」只需一人全搞定｜对话波形智能.pdf_part_1', node_type=<ObjectType.DOCUMENT: '4'>, metadata={'page_label': '2', 'file_name': 'AI加持创作，「小说-剧本-视频」只需一人全搞定｜对话波形智能.pdf', 'file_path': '/Users/zhaoxuefeng/Documents/Project/docs/zxfpro.github.io/slc/研究者/gpt_coder/pdfs/AI加持创作，「小说-剧本-视频」只需一人全搞定｜对话波形智能.pdf', 'file_type': 'application/pdf', 'file_size': 3212876, 'creation_date': '2024-08-01', 'last_modified_date': '2024-08-01'}, hash='e8aed251f7c5c9d42ddb95ed17d15d09cc11be2dc6c336c9081ad60b1c451bd1'), <NodeRelationship.PREVIOUS: '2'>: RelatedNodeInfo(node_id='438cef6c-d95e-4439-9ac4-2880153145e0', node_type=<ObjectType.TEXT: '1'>, metadata={'page_label': '1', 'file_name': 'AI加持创作，「小说-剧本-视频」只需一人全搞定｜对话波形智能.pdf', 'file_path': '/Users/zhaoxuefeng/Documents/Project/docs/zxfpro.github.io/slc/研究者/gpt_coder/pdfs/AI加持创作，「小说-剧本-视频」只需一人全搞定｜对话波形智能.pdf', 'file_type': 'application/pdf', 'file_size': 3212876, 'creation_date': '2024-08-01', 'last_modified_date': '2024-08-01'}, hash='91ce28079478d0bc6cf9b4bc808b2e2766b9581186466d10dbb0f68b02aa26e7'), <NodeRelationship.NEXT: '3'>: RelatedNodeInfo(node_id='b7f96784-b901-4fba-a84b-34aebd8d68ed', node_type=<ObjectType.TEXT: '1'>, metadata={}, hash='490ab4b7f2ff2d2eea73af697383d43b9c84edc60560a6d5437dd6a355c81da4')}, text='AI创作 线上活动合辑 量⼦位·视点 量⼦位活动合辑AI加持创作，「⼩说-剧本-视频」只需⼀⼈全搞\\n定｜对话波形智能\\n8⽉1⽇19:00，欢迎围观～\\n林樾 4⼩时前\\n 360ISC.AI 2024周鸿祎：落地安全⼤模型的关键是\\n找准“明星场景”\\n打造安全⼤模型 引领安全⾏业⾰命\\n量⼦位 5⼩时前\\n 通义千问 阿⾥云阿⾥通义免费开放奥运AI⼤模型\\n只需简单提问，就能获得详尽且专业的答案\\n量⼦位 22⼩时前\\n AI机器⼈ 星尘智能⼈形机器⼈「星尘智能」获数千万美元Pre-A轮\\n融资，经纬创投领投\\n星尘智能于2 022年12⽉在深圳成⽴，专注研发“ 新⼀代最强A I机器⼈助理”\\n⻥⽺ 昨天 16:07\\n Llama 3.1 李沐失联⼤神李沐B站复更：领读Llama 3.1论⽂；竞\\n技场Llama 3.1排第三\\n还分享了A I⼋卦\\n⼀⽔ 昨天 16:03\\n AI绘画 MidjourneyMidjourney新版本上线即爆⽕！⽹友已玩疯：和\\n摄影⼏乎没区别\\n⼋⼤升级来了\\n明敏 昨天 15:30\\n csdnCSDN「智研社-The Intelliger」共话⼤模型技\\n术演进与 AI Infra 创新\\n进⾏ AGI 相关前沿科技的深⼊探讨\\n量⼦位 昨天 15:26\\n Anthropic Claude 爬⾍Claude团队引众怒，为爬数据不择⼿段，给爬⾍\\n改名字⽆视禁⽌规则\\n群情激愤：⼩偷！\\n衡宇 昨天 15:24\\n超精细开放世界藏进⼩程序，他们⽤游戏技术复\\n刻北京中轴线，穿越古今的那种', start_char_idx=1, end_char_idx=647, text_template='{metadata_str}\\n\\n{content}', metadata_template='{key}: {value}', metadata_seperator='\\n'),\n",
       " TextNode(id_='b7f96784-b901-4fba-a84b-34aebd8d68ed', embedding=None, metadata={'page_label': '3', 'file_name': 'AI加持创作，「小说-剧本-视频」只需一人全搞定｜对话波形智能.pdf', 'file_path': '/Users/zhaoxuefeng/Documents/Project/docs/zxfpro.github.io/slc/研究者/gpt_coder/pdfs/AI加持创作，「小说-剧本-视频」只需一人全搞定｜对话波形智能.pdf', 'file_type': 'application/pdf', 'file_size': 3212876, 'creation_date': '2024-08-01', 'last_modified_date': '2024-08-01'}, excluded_embed_metadata_keys=['file_name', 'file_type', 'file_size', 'creation_date', 'last_modified_date', 'last_accessed_date'], excluded_llm_metadata_keys=['file_name', 'file_type', 'file_size', 'creation_date', 'last_modified_date', 'last_accessed_date'], relationships={<NodeRelationship.SOURCE: '1'>: RelatedNodeInfo(node_id='/Users/zhaoxuefeng/Documents/Project/docs/zxfpro.github.io/slc/研究者/gpt_coder/pdfs/AI加持创作，「小说-剧本-视频」只需一人全搞定｜对话波形智能.pdf_part_2', node_type=<ObjectType.DOCUMENT: '4'>, metadata={'page_label': '3', 'file_name': 'AI加持创作，「小说-剧本-视频」只需一人全搞定｜对话波形智能.pdf', 'file_path': '/Users/zhaoxuefeng/Documents/Project/docs/zxfpro.github.io/slc/研究者/gpt_coder/pdfs/AI加持创作，「小说-剧本-视频」只需一人全搞定｜对话波形智能.pdf', 'file_type': 'application/pdf', 'file_size': 3212876, 'creation_date': '2024-08-01', 'last_modified_date': '2024-08-01'}, hash='4aebef906806803833bbcf7cf056616e5961eb5d2064abd1832c66e4ca034799'), <NodeRelationship.PREVIOUS: '2'>: RelatedNodeInfo(node_id='b60670de-79e9-4324-97c7-6a12952ccf26', node_type=<ObjectType.TEXT: '1'>, metadata={'page_label': '2', 'file_name': 'AI加持创作，「小说-剧本-视频」只需一人全搞定｜对话波形智能.pdf', 'file_path': '/Users/zhaoxuefeng/Documents/Project/docs/zxfpro.github.io/slc/研究者/gpt_coder/pdfs/AI加持创作，「小说-剧本-视频」只需一人全搞定｜对话波形智能.pdf', 'file_type': 'application/pdf', 'file_size': 3212876, 'creation_date': '2024-08-01', 'last_modified_date': '2024-08-01'}, hash='3fe999445f35524bddb330458f941ee81310b548bf3d51b35a1f404624546cb4'), <NodeRelationship.NEXT: '3'>: RelatedNodeInfo(node_id='1ce5d049-2bac-4fb5-a2de-08bccfbc1902', node_type=<ObjectType.TEXT: '1'>, metadata={}, hash='4263f5c5774f05cf3ad5af65ae72c67d9e23170ffb9c55f4f5fba064790e5d09')}, text='关于量⼦位|加⼊我们|寻求报道|商务合作\\n   追踪⼈⼯智能新趋势，报道科技⾏业新突破\\n量⼦位 QbitAI 版权所有© 北京极客伙伴科技有限公司 京ICP备17005886号-1加载更多\\n 北京中轴线 游戏技术你以为的游戏早已不是你以为的游戏\\n⻥⽺ 昨天 15:24\\n 中⼭⼤学 虚拟试⾐寡姐带货国⻛Polo衫，⻢斯克穿⽜仔⾛红毯！虚\\n拟试⾐新框架⽕了\\n只需两张图像，不到3 0秒⽣成\\n⽩交 昨天 14:53\\n ⼩鹏汽⻋何⼩鹏：端到端今年投35亿，2天迭代⼀次，可\\n实现「⻔到⻔」体验\\n何⼩鹏开喷“周销量榜”\\n贾浩楠 前天 22:40\\n 苹果苹果AI版iOS⾸⽇⽕爆：聊天秒变⾼情商，⼤模\\n型成最强嘴替，Siri华丽变身\\n还有4 7⻚⼤模型技术报告出炉\\n克雷⻄ 前天 16:17\\n 阿⾥云阿⾥云修复100年前巴黎奥运珍贵影像，国际奥\\n委会主席巴赫致谢！\\n国际奥委会⾸次公布了19 24巴黎奥运的珍贵影像\\n量⼦位 前天 15:33', start_char_idx=0, end_char_idx=415, text_template='{metadata_str}\\n\\n{content}', metadata_template='{key}: {value}', metadata_seperator='\\n'),\n",
       " TextNode(id_='1ce5d049-2bac-4fb5-a2de-08bccfbc1902', embedding=None, metadata={'page_label': '1', 'file_name': '人形机器人「星尘智能」获数千万美元Pre-A轮融资，经纬创投领投.pdf', 'file_path': '/Users/zhaoxuefeng/Documents/Project/docs/zxfpro.github.io/slc/研究者/gpt_coder/pdfs/人形机器人「星尘智能」获数千万美元Pre-A轮融资，经纬创投领投.pdf', 'file_type': 'application/pdf', 'file_size': 3212876, 'creation_date': '2024-08-01', 'last_modified_date': '2024-08-01'}, excluded_embed_metadata_keys=['file_name', 'file_type', 'file_size', 'creation_date', 'last_modified_date', 'last_accessed_date'], excluded_llm_metadata_keys=['file_name', 'file_type', 'file_size', 'creation_date', 'last_modified_date', 'last_accessed_date'], relationships={<NodeRelationship.SOURCE: '1'>: RelatedNodeInfo(node_id='/Users/zhaoxuefeng/Documents/Project/docs/zxfpro.github.io/slc/研究者/gpt_coder/pdfs/人形机器人「星尘智能」获数千万美元Pre-A轮融资，经纬创投领投.pdf_part_0', node_type=<ObjectType.DOCUMENT: '4'>, metadata={'page_label': '1', 'file_name': '人形机器人「星尘智能」获数千万美元Pre-A轮融资，经纬创投领投.pdf', 'file_path': '/Users/zhaoxuefeng/Documents/Project/docs/zxfpro.github.io/slc/研究者/gpt_coder/pdfs/人形机器人「星尘智能」获数千万美元Pre-A轮融资，经纬创投领投.pdf', 'file_type': 'application/pdf', 'file_size': 3212876, 'creation_date': '2024-08-01', 'last_modified_date': '2024-08-01'}, hash='aa46ba90596f773dca5d3e18e2c819c4dfab22ebccd505518dfb62f0b247d08c'), <NodeRelationship.PREVIOUS: '2'>: RelatedNodeInfo(node_id='b7f96784-b901-4fba-a84b-34aebd8d68ed', node_type=<ObjectType.TEXT: '1'>, metadata={'page_label': '3', 'file_name': 'AI加持创作，「小说-剧本-视频」只需一人全搞定｜对话波形智能.pdf', 'file_path': '/Users/zhaoxuefeng/Documents/Project/docs/zxfpro.github.io/slc/研究者/gpt_coder/pdfs/AI加持创作，「小说-剧本-视频」只需一人全搞定｜对话波形智能.pdf', 'file_type': 'application/pdf', 'file_size': 3212876, 'creation_date': '2024-08-01', 'last_modified_date': '2024-08-01'}, hash='4aebef906806803833bbcf7cf056616e5961eb5d2064abd1832c66e4ca034799'), <NodeRelationship.NEXT: '3'>: RelatedNodeInfo(node_id='28fbe0f6-9a9b-44ad-99df-eaccfbd2b0ea', node_type=<ObjectType.TEXT: '1'>, metadata={}, hash='4a016bba67b13826afaaced1dab29e465769f729343882b337a602f2a291d118')}, text='资讯热⻔⽂章\\n 360 isc周鸿祎ISC发布国内⾸个免费安全⼤模型 安全能\\n⼒超越GPT-4\\n其安全垂直能⼒已超过G PT-4\\n量⼦位 19分钟前\\n CPU 服务器想跑千亿⼤模型？算⼒⼚商放⼤招！CPU通⽤服\\n务器成为新选择\\n不⽤A I加速卡，只⽤4 颗CPU\\n克雷⻄ 25分钟前\\n arXiv 公开评审 斯坦福吴恩达弟⼦打造arXiv弹幕版，每篇论⽂都能⾃\\n由讨论了！\\n⽹友 ：这才是学术圈该有的样⼦！\\n明敏 2⼩时前\\n ChatGPT GPT-4o OpenAIChatGPT版「Her」被玩疯：哭着读诗，中⽂表\\n现也很亮\\n还能超快数1- 100\\n⼗三 2⼩时前\\n ⼤模型 ⽂⼼⼀⾔ 百度 ⻜桨⻜桨框架进阶3.0！⼀⽂讲透“⼤模型训推⼀体”\\n等五⼤新特性\\n为产学研各界提供稳定⽀持\\n⼗三 2⼩时前\\n 中国科学院数学与系统科学研究院 陈景润奖⾸届陈景润奖颁发！90后⼭⼤教授和84年中科\\n院研究员研究成果获奖\\n数论与代数⽅向新⽣代⼤奖\\n⻄⻛ 3⼩时前\\n CNN ⼤模型贾扬清：⼤模型尺⼨正重⾛CNN的⽼路；⻢斯\\n克：在特斯拉也是这样\\n开始反着卷了\\n衡宇 3⼩时前\\nOpenAI推出新AI搜索，⽼伙\\n计微软也默默更新了Bing\\n2024-07-26\\n字节⾖包上线吴敏霞、林丹\\n等专属智能体 奥运冠军AI…\\n2024-07-26\\n联想CTO换帅！芮勇转任新\\n集团总裁，瞄准新兴技术\\n2024-07-26\\n智平⽅打通具身智能核⼼痛\\n点：将AGI拓展到物理世界\\n2024-07-26\\n商汤科技⽇⽇新⼤模型亮相\\n巴黎，中国AI共赴奥运之约\\n2024-07-26', start_char_idx=0, end_char_idx=677, text_template='{metadata_str}\\n\\n{content}', metadata_template='{key}: {value}', metadata_seperator='\\n'),\n",
       " TextNode(id_='28fbe0f6-9a9b-44ad-99df-eaccfbd2b0ea', embedding=None, metadata={'page_label': '2', 'file_name': '人形机器人「星尘智能」获数千万美元Pre-A轮融资，经纬创投领投.pdf', 'file_path': '/Users/zhaoxuefeng/Documents/Project/docs/zxfpro.github.io/slc/研究者/gpt_coder/pdfs/人形机器人「星尘智能」获数千万美元Pre-A轮融资，经纬创投领投.pdf', 'file_type': 'application/pdf', 'file_size': 3212876, 'creation_date': '2024-08-01', 'last_modified_date': '2024-08-01'}, excluded_embed_metadata_keys=['file_name', 'file_type', 'file_size', 'creation_date', 'last_modified_date', 'last_accessed_date'], excluded_llm_metadata_keys=['file_name', 'file_type', 'file_size', 'creation_date', 'last_modified_date', 'last_accessed_date'], relationships={<NodeRelationship.SOURCE: '1'>: RelatedNodeInfo(node_id='/Users/zhaoxuefeng/Documents/Project/docs/zxfpro.github.io/slc/研究者/gpt_coder/pdfs/人形机器人「星尘智能」获数千万美元Pre-A轮融资，经纬创投领投.pdf_part_1', node_type=<ObjectType.DOCUMENT: '4'>, metadata={'page_label': '2', 'file_name': '人形机器人「星尘智能」获数千万美元Pre-A轮融资，经纬创投领投.pdf', 'file_path': '/Users/zhaoxuefeng/Documents/Project/docs/zxfpro.github.io/slc/研究者/gpt_coder/pdfs/人形机器人「星尘智能」获数千万美元Pre-A轮融资，经纬创投领投.pdf', 'file_type': 'application/pdf', 'file_size': 3212876, 'creation_date': '2024-08-01', 'last_modified_date': '2024-08-01'}, hash='724bfd362f921cb8dcecfba5b25d56af930a95d64a9e71fdf3b230d3be5db44b'), <NodeRelationship.PREVIOUS: '2'>: RelatedNodeInfo(node_id='1ce5d049-2bac-4fb5-a2de-08bccfbc1902', node_type=<ObjectType.TEXT: '1'>, metadata={'page_label': '1', 'file_name': '人形机器人「星尘智能」获数千万美元Pre-A轮融资，经纬创投领投.pdf', 'file_path': '/Users/zhaoxuefeng/Documents/Project/docs/zxfpro.github.io/slc/研究者/gpt_coder/pdfs/人形机器人「星尘智能」获数千万美元Pre-A轮融资，经纬创投领投.pdf', 'file_type': 'application/pdf', 'file_size': 3212876, 'creation_date': '2024-08-01', 'last_modified_date': '2024-08-01'}, hash='aa46ba90596f773dca5d3e18e2c819c4dfab22ebccd505518dfb62f0b247d08c'), <NodeRelationship.NEXT: '3'>: RelatedNodeInfo(node_id='868b1904-0e9b-41bf-90eb-e37f2b21a067', node_type=<ObjectType.TEXT: '1'>, metadata={}, hash='490ab4b7f2ff2d2eea73af697383d43b9c84edc60560a6d5437dd6a355c81da4')}, text='AI创作 线上活动合辑 量⼦位·视点 量⼦位活动合辑AI加持创作，「⼩说-剧本-视频」只需⼀⼈全搞\\n定｜对话波形智能\\n8⽉1⽇19:00，欢迎围观～\\n林樾 4⼩时前\\n 360ISC.AI 2024周鸿祎：落地安全⼤模型的关键是\\n找准“明星场景”\\n打造安全⼤模型 引领安全⾏业⾰命\\n量⼦位 5⼩时前\\n 通义千问 阿⾥云阿⾥通义免费开放奥运AI⼤模型\\n只需简单提问，就能获得详尽且专业的答案\\n量⼦位 22⼩时前\\n AI机器⼈ 星尘智能⼈形机器⼈「星尘智能」获数千万美元Pre-A轮\\n融资，经纬创投领投\\n星尘智能于2 022年12⽉在深圳成⽴，专注研发“ 新⼀代最强A I机器⼈助理”\\n⻥⽺ 昨天 16:07\\n Llama 3.1 李沐失联⼤神李沐B站复更：领读Llama 3.1论⽂；竞\\n技场Llama 3.1排第三\\n还分享了A I⼋卦\\n⼀⽔ 昨天 16:03\\n AI绘画 MidjourneyMidjourney新版本上线即爆⽕！⽹友已玩疯：和\\n摄影⼏乎没区别\\n⼋⼤升级来了\\n明敏 昨天 15:30\\n csdnCSDN「智研社-The Intelliger」共话⼤模型技\\n术演进与 AI Infra 创新\\n进⾏ AGI 相关前沿科技的深⼊探讨\\n量⼦位 昨天 15:26\\n Anthropic Claude 爬⾍Claude团队引众怒，为爬数据不择⼿段，给爬⾍\\n改名字⽆视禁⽌规则\\n群情激愤：⼩偷！\\n衡宇 昨天 15:24\\n超精细开放世界藏进⼩程序，他们⽤游戏技术复\\n刻北京中轴线，穿越古今的那种', start_char_idx=1, end_char_idx=647, text_template='{metadata_str}\\n\\n{content}', metadata_template='{key}: {value}', metadata_seperator='\\n'),\n",
       " TextNode(id_='868b1904-0e9b-41bf-90eb-e37f2b21a067', embedding=None, metadata={'page_label': '3', 'file_name': '人形机器人「星尘智能」获数千万美元Pre-A轮融资，经纬创投领投.pdf', 'file_path': '/Users/zhaoxuefeng/Documents/Project/docs/zxfpro.github.io/slc/研究者/gpt_coder/pdfs/人形机器人「星尘智能」获数千万美元Pre-A轮融资，经纬创投领投.pdf', 'file_type': 'application/pdf', 'file_size': 3212876, 'creation_date': '2024-08-01', 'last_modified_date': '2024-08-01'}, excluded_embed_metadata_keys=['file_name', 'file_type', 'file_size', 'creation_date', 'last_modified_date', 'last_accessed_date'], excluded_llm_metadata_keys=['file_name', 'file_type', 'file_size', 'creation_date', 'last_modified_date', 'last_accessed_date'], relationships={<NodeRelationship.SOURCE: '1'>: RelatedNodeInfo(node_id='/Users/zhaoxuefeng/Documents/Project/docs/zxfpro.github.io/slc/研究者/gpt_coder/pdfs/人形机器人「星尘智能」获数千万美元Pre-A轮融资，经纬创投领投.pdf_part_2', node_type=<ObjectType.DOCUMENT: '4'>, metadata={'page_label': '3', 'file_name': '人形机器人「星尘智能」获数千万美元Pre-A轮融资，经纬创投领投.pdf', 'file_path': '/Users/zhaoxuefeng/Documents/Project/docs/zxfpro.github.io/slc/研究者/gpt_coder/pdfs/人形机器人「星尘智能」获数千万美元Pre-A轮融资，经纬创投领投.pdf', 'file_type': 'application/pdf', 'file_size': 3212876, 'creation_date': '2024-08-01', 'last_modified_date': '2024-08-01'}, hash='cdfb9fa3b54baba1cf506939c9fe17a97a7c5f73614eaaa45229b9affb769ed1'), <NodeRelationship.PREVIOUS: '2'>: RelatedNodeInfo(node_id='28fbe0f6-9a9b-44ad-99df-eaccfbd2b0ea', node_type=<ObjectType.TEXT: '1'>, metadata={'page_label': '2', 'file_name': '人形机器人「星尘智能」获数千万美元Pre-A轮融资，经纬创投领投.pdf', 'file_path': '/Users/zhaoxuefeng/Documents/Project/docs/zxfpro.github.io/slc/研究者/gpt_coder/pdfs/人形机器人「星尘智能」获数千万美元Pre-A轮融资，经纬创投领投.pdf', 'file_type': 'application/pdf', 'file_size': 3212876, 'creation_date': '2024-08-01', 'last_modified_date': '2024-08-01'}, hash='a7267c6977f582dfbb1dea2f7a11ca0c885bf7838814f85a2effdf24990d22fc'), <NodeRelationship.NEXT: '3'>: RelatedNodeInfo(node_id='053b5d03-794b-4a01-b8c6-9d2db86bbcd8', node_type=<ObjectType.TEXT: '1'>, metadata={}, hash='4263f5c5774f05cf3ad5af65ae72c67d9e23170ffb9c55f4f5fba064790e5d09')}, text='关于量⼦位|加⼊我们|寻求报道|商务合作\\n   追踪⼈⼯智能新趋势，报道科技⾏业新突破\\n量⼦位 QbitAI 版权所有© 北京极客伙伴科技有限公司 京ICP备17005886号-1加载更多\\n 北京中轴线 游戏技术你以为的游戏早已不是你以为的游戏\\n⻥⽺ 昨天 15:24\\n 中⼭⼤学 虚拟试⾐寡姐带货国⻛Polo衫，⻢斯克穿⽜仔⾛红毯！虚\\n拟试⾐新框架⽕了\\n只需两张图像，不到3 0秒⽣成\\n⽩交 昨天 14:53\\n ⼩鹏汽⻋何⼩鹏：端到端今年投35亿，2天迭代⼀次，可\\n实现「⻔到⻔」体验\\n何⼩鹏开喷“周销量榜”\\n贾浩楠 前天 22:40\\n 苹果苹果AI版iOS⾸⽇⽕爆：聊天秒变⾼情商，⼤模\\n型成最强嘴替，Siri华丽变身\\n还有4 7⻚⼤模型技术报告出炉\\n克雷⻄ 前天 16:17\\n 阿⾥云阿⾥云修复100年前巴黎奥运珍贵影像，国际奥\\n委会主席巴赫致谢！\\n国际奥委会⾸次公布了19 24巴黎奥运的珍贵影像\\n量⼦位 前天 15:33', start_char_idx=0, end_char_idx=415, text_template='{metadata_str}\\n\\n{content}', metadata_template='{key}: {value}', metadata_seperator='\\n'),\n",
       " TextNode(id_='053b5d03-794b-4a01-b8c6-9d2db86bbcd8', embedding=None, metadata={'page_label': '1', 'file_name': '何小鹏：端到端今年投35亿，2天迭代一次，可实现「门到门」体验.pdf', 'file_path': '/Users/zhaoxuefeng/Documents/Project/docs/zxfpro.github.io/slc/研究者/gpt_coder/pdfs/何小鹏：端到端今年投35亿，2天迭代一次，可实现「门到门」体验.pdf', 'file_type': 'application/pdf', 'file_size': 3212876, 'creation_date': '2024-08-01', 'last_modified_date': '2024-08-01'}, excluded_embed_metadata_keys=['file_name', 'file_type', 'file_size', 'creation_date', 'last_modified_date', 'last_accessed_date'], excluded_llm_metadata_keys=['file_name', 'file_type', 'file_size', 'creation_date', 'last_modified_date', 'last_accessed_date'], relationships={<NodeRelationship.SOURCE: '1'>: RelatedNodeInfo(node_id='/Users/zhaoxuefeng/Documents/Project/docs/zxfpro.github.io/slc/研究者/gpt_coder/pdfs/何小鹏：端到端今年投35亿，2天迭代一次，可实现「门到门」体验.pdf_part_0', node_type=<ObjectType.DOCUMENT: '4'>, metadata={'page_label': '1', 'file_name': '何小鹏：端到端今年投35亿，2天迭代一次，可实现「门到门」体验.pdf', 'file_path': '/Users/zhaoxuefeng/Documents/Project/docs/zxfpro.github.io/slc/研究者/gpt_coder/pdfs/何小鹏：端到端今年投35亿，2天迭代一次，可实现「门到门」体验.pdf', 'file_type': 'application/pdf', 'file_size': 3212876, 'creation_date': '2024-08-01', 'last_modified_date': '2024-08-01'}, hash='54c600e15aeeb4118de887aec83a7541613b4fd6dffe53a0696f666e1b3041eb'), <NodeRelationship.PREVIOUS: '2'>: RelatedNodeInfo(node_id='868b1904-0e9b-41bf-90eb-e37f2b21a067', node_type=<ObjectType.TEXT: '1'>, metadata={'page_label': '3', 'file_name': '人形机器人「星尘智能」获数千万美元Pre-A轮融资，经纬创投领投.pdf', 'file_path': '/Users/zhaoxuefeng/Documents/Project/docs/zxfpro.github.io/slc/研究者/gpt_coder/pdfs/人形机器人「星尘智能」获数千万美元Pre-A轮融资，经纬创投领投.pdf', 'file_type': 'application/pdf', 'file_size': 3212876, 'creation_date': '2024-08-01', 'last_modified_date': '2024-08-01'}, hash='cdfb9fa3b54baba1cf506939c9fe17a97a7c5f73614eaaa45229b9affb769ed1'), <NodeRelationship.NEXT: '3'>: RelatedNodeInfo(node_id='6e1bd843-6077-4cb8-8d97-dc65b78cdeb5', node_type=<ObjectType.TEXT: '1'>, metadata={}, hash='4a016bba67b13826afaaced1dab29e465769f729343882b337a602f2a291d118')}, text='资讯热⻔⽂章\\n 360 isc周鸿祎ISC发布国内⾸个免费安全⼤模型 安全能\\n⼒超越GPT-4\\n其安全垂直能⼒已超过G PT-4\\n量⼦位 19分钟前\\n CPU 服务器想跑千亿⼤模型？算⼒⼚商放⼤招！CPU通⽤服\\n务器成为新选择\\n不⽤A I加速卡，只⽤4 颗CPU\\n克雷⻄ 25分钟前\\n arXiv 公开评审 斯坦福吴恩达弟⼦打造arXiv弹幕版，每篇论⽂都能⾃\\n由讨论了！\\n⽹友 ：这才是学术圈该有的样⼦！\\n明敏 2⼩时前\\n ChatGPT GPT-4o OpenAIChatGPT版「Her」被玩疯：哭着读诗，中⽂表\\n现也很亮\\n还能超快数1- 100\\n⼗三 2⼩时前\\n ⼤模型 ⽂⼼⼀⾔ 百度 ⻜桨⻜桨框架进阶3.0！⼀⽂讲透“⼤模型训推⼀体”\\n等五⼤新特性\\n为产学研各界提供稳定⽀持\\n⼗三 2⼩时前\\n 中国科学院数学与系统科学研究院 陈景润奖⾸届陈景润奖颁发！90后⼭⼤教授和84年中科\\n院研究员研究成果获奖\\n数论与代数⽅向新⽣代⼤奖\\n⻄⻛ 3⼩时前\\n CNN ⼤模型贾扬清：⼤模型尺⼨正重⾛CNN的⽼路；⻢斯\\n克：在特斯拉也是这样\\n开始反着卷了\\n衡宇 3⼩时前\\nOpenAI推出新AI搜索，⽼伙\\n计微软也默默更新了Bing\\n2024-07-26\\n字节⾖包上线吴敏霞、林丹\\n等专属智能体 奥运冠军AI…\\n2024-07-26\\n联想CTO换帅！芮勇转任新\\n集团总裁，瞄准新兴技术\\n2024-07-26\\n智平⽅打通具身智能核⼼痛\\n点：将AGI拓展到物理世界\\n2024-07-26\\n商汤科技⽇⽇新⼤模型亮相\\n巴黎，中国AI共赴奥运之约\\n2024-07-26', start_char_idx=0, end_char_idx=677, text_template='{metadata_str}\\n\\n{content}', metadata_template='{key}: {value}', metadata_seperator='\\n'),\n",
       " TextNode(id_='6e1bd843-6077-4cb8-8d97-dc65b78cdeb5', embedding=None, metadata={'page_label': '2', 'file_name': '何小鹏：端到端今年投35亿，2天迭代一次，可实现「门到门」体验.pdf', 'file_path': '/Users/zhaoxuefeng/Documents/Project/docs/zxfpro.github.io/slc/研究者/gpt_coder/pdfs/何小鹏：端到端今年投35亿，2天迭代一次，可实现「门到门」体验.pdf', 'file_type': 'application/pdf', 'file_size': 3212876, 'creation_date': '2024-08-01', 'last_modified_date': '2024-08-01'}, excluded_embed_metadata_keys=['file_name', 'file_type', 'file_size', 'creation_date', 'last_modified_date', 'last_accessed_date'], excluded_llm_metadata_keys=['file_name', 'file_type', 'file_size', 'creation_date', 'last_modified_date', 'last_accessed_date'], relationships={<NodeRelationship.SOURCE: '1'>: RelatedNodeInfo(node_id='/Users/zhaoxuefeng/Documents/Project/docs/zxfpro.github.io/slc/研究者/gpt_coder/pdfs/何小鹏：端到端今年投35亿，2天迭代一次，可实现「门到门」体验.pdf_part_1', node_type=<ObjectType.DOCUMENT: '4'>, metadata={'page_label': '2', 'file_name': '何小鹏：端到端今年投35亿，2天迭代一次，可实现「门到门」体验.pdf', 'file_path': '/Users/zhaoxuefeng/Documents/Project/docs/zxfpro.github.io/slc/研究者/gpt_coder/pdfs/何小鹏：端到端今年投35亿，2天迭代一次，可实现「门到门」体验.pdf', 'file_type': 'application/pdf', 'file_size': 3212876, 'creation_date': '2024-08-01', 'last_modified_date': '2024-08-01'}, hash='38e7f481b91d92cc47936df5b2ddda4a2079aae1ceb17996bbf1ca06b7d1dc18'), <NodeRelationship.PREVIOUS: '2'>: RelatedNodeInfo(node_id='053b5d03-794b-4a01-b8c6-9d2db86bbcd8', node_type=<ObjectType.TEXT: '1'>, metadata={'page_label': '1', 'file_name': '何小鹏：端到端今年投35亿，2天迭代一次，可实现「门到门」体验.pdf', 'file_path': '/Users/zhaoxuefeng/Documents/Project/docs/zxfpro.github.io/slc/研究者/gpt_coder/pdfs/何小鹏：端到端今年投35亿，2天迭代一次，可实现「门到门」体验.pdf', 'file_type': 'application/pdf', 'file_size': 3212876, 'creation_date': '2024-08-01', 'last_modified_date': '2024-08-01'}, hash='54c600e15aeeb4118de887aec83a7541613b4fd6dffe53a0696f666e1b3041eb'), <NodeRelationship.NEXT: '3'>: RelatedNodeInfo(node_id='43ad55cc-e181-438e-97b3-6d9a4824749e', node_type=<ObjectType.TEXT: '1'>, metadata={}, hash='490ab4b7f2ff2d2eea73af697383d43b9c84edc60560a6d5437dd6a355c81da4')}, text='AI创作 线上活动合辑 量⼦位·视点 量⼦位活动合辑AI加持创作，「⼩说-剧本-视频」只需⼀⼈全搞\\n定｜对话波形智能\\n8⽉1⽇19:00，欢迎围观～\\n林樾 4⼩时前\\n 360ISC.AI 2024周鸿祎：落地安全⼤模型的关键是\\n找准“明星场景”\\n打造安全⼤模型 引领安全⾏业⾰命\\n量⼦位 5⼩时前\\n 通义千问 阿⾥云阿⾥通义免费开放奥运AI⼤模型\\n只需简单提问，就能获得详尽且专业的答案\\n量⼦位 22⼩时前\\n AI机器⼈ 星尘智能⼈形机器⼈「星尘智能」获数千万美元Pre-A轮\\n融资，经纬创投领投\\n星尘智能于2 022年12⽉在深圳成⽴，专注研发“ 新⼀代最强A I机器⼈助理”\\n⻥⽺ 昨天 16:07\\n Llama 3.1 李沐失联⼤神李沐B站复更：领读Llama 3.1论⽂；竞\\n技场Llama 3.1排第三\\n还分享了A I⼋卦\\n⼀⽔ 昨天 16:03\\n AI绘画 MidjourneyMidjourney新版本上线即爆⽕！⽹友已玩疯：和\\n摄影⼏乎没区别\\n⼋⼤升级来了\\n明敏 昨天 15:30\\n csdnCSDN「智研社-The Intelliger」共话⼤模型技\\n术演进与 AI Infra 创新\\n进⾏ AGI 相关前沿科技的深⼊探讨\\n量⼦位 昨天 15:26\\n Anthropic Claude 爬⾍Claude团队引众怒，为爬数据不择⼿段，给爬⾍\\n改名字⽆视禁⽌规则\\n群情激愤：⼩偷！\\n衡宇 昨天 15:24\\n超精细开放世界藏进⼩程序，他们⽤游戏技术复\\n刻北京中轴线，穿越古今的那种', start_char_idx=1, end_char_idx=647, text_template='{metadata_str}\\n\\n{content}', metadata_template='{key}: {value}', metadata_seperator='\\n'),\n",
       " TextNode(id_='43ad55cc-e181-438e-97b3-6d9a4824749e', embedding=None, metadata={'page_label': '3', 'file_name': '何小鹏：端到端今年投35亿，2天迭代一次，可实现「门到门」体验.pdf', 'file_path': '/Users/zhaoxuefeng/Documents/Project/docs/zxfpro.github.io/slc/研究者/gpt_coder/pdfs/何小鹏：端到端今年投35亿，2天迭代一次，可实现「门到门」体验.pdf', 'file_type': 'application/pdf', 'file_size': 3212876, 'creation_date': '2024-08-01', 'last_modified_date': '2024-08-01'}, excluded_embed_metadata_keys=['file_name', 'file_type', 'file_size', 'creation_date', 'last_modified_date', 'last_accessed_date'], excluded_llm_metadata_keys=['file_name', 'file_type', 'file_size', 'creation_date', 'last_modified_date', 'last_accessed_date'], relationships={<NodeRelationship.SOURCE: '1'>: RelatedNodeInfo(node_id='/Users/zhaoxuefeng/Documents/Project/docs/zxfpro.github.io/slc/研究者/gpt_coder/pdfs/何小鹏：端到端今年投35亿，2天迭代一次，可实现「门到门」体验.pdf_part_2', node_type=<ObjectType.DOCUMENT: '4'>, metadata={'page_label': '3', 'file_name': '何小鹏：端到端今年投35亿，2天迭代一次，可实现「门到门」体验.pdf', 'file_path': '/Users/zhaoxuefeng/Documents/Project/docs/zxfpro.github.io/slc/研究者/gpt_coder/pdfs/何小鹏：端到端今年投35亿，2天迭代一次，可实现「门到门」体验.pdf', 'file_type': 'application/pdf', 'file_size': 3212876, 'creation_date': '2024-08-01', 'last_modified_date': '2024-08-01'}, hash='59272d834c648adbda9c08d85c55fc9f374b29066c6527a0559ab5c964605141'), <NodeRelationship.PREVIOUS: '2'>: RelatedNodeInfo(node_id='6e1bd843-6077-4cb8-8d97-dc65b78cdeb5', node_type=<ObjectType.TEXT: '1'>, metadata={'page_label': '2', 'file_name': '何小鹏：端到端今年投35亿，2天迭代一次，可实现「门到门」体验.pdf', 'file_path': '/Users/zhaoxuefeng/Documents/Project/docs/zxfpro.github.io/slc/研究者/gpt_coder/pdfs/何小鹏：端到端今年投35亿，2天迭代一次，可实现「门到门」体验.pdf', 'file_type': 'application/pdf', 'file_size': 3212876, 'creation_date': '2024-08-01', 'last_modified_date': '2024-08-01'}, hash='4bbf83f88461f3626285a95cc91b6c59c6e8216d77a5f9ad8f006dd1f8f59a47'), <NodeRelationship.NEXT: '3'>: RelatedNodeInfo(node_id='1cd8a820-4ec7-48db-b429-35a0610d6a79', node_type=<ObjectType.TEXT: '1'>, metadata={}, hash='4263f5c5774f05cf3ad5af65ae72c67d9e23170ffb9c55f4f5fba064790e5d09')}, text='关于量⼦位|加⼊我们|寻求报道|商务合作\\n   追踪⼈⼯智能新趋势，报道科技⾏业新突破\\n量⼦位 QbitAI 版权所有© 北京极客伙伴科技有限公司 京ICP备17005886号-1加载更多\\n 北京中轴线 游戏技术你以为的游戏早已不是你以为的游戏\\n⻥⽺ 昨天 15:24\\n 中⼭⼤学 虚拟试⾐寡姐带货国⻛Polo衫，⻢斯克穿⽜仔⾛红毯！虚\\n拟试⾐新框架⽕了\\n只需两张图像，不到3 0秒⽣成\\n⽩交 昨天 14:53\\n ⼩鹏汽⻋何⼩鹏：端到端今年投35亿，2天迭代⼀次，可\\n实现「⻔到⻔」体验\\n何⼩鹏开喷“周销量榜”\\n贾浩楠 前天 22:40\\n 苹果苹果AI版iOS⾸⽇⽕爆：聊天秒变⾼情商，⼤模\\n型成最强嘴替，Siri华丽变身\\n还有4 7⻚⼤模型技术报告出炉\\n克雷⻄ 前天 16:17\\n 阿⾥云阿⾥云修复100年前巴黎奥运珍贵影像，国际奥\\n委会主席巴赫致谢！\\n国际奥委会⾸次公布了19 24巴黎奥运的珍贵影像\\n量⼦位 前天 15:33', start_char_idx=0, end_char_idx=415, text_template='{metadata_str}\\n\\n{content}', metadata_template='{key}: {value}', metadata_seperator='\\n'),\n",
       " TextNode(id_='1cd8a820-4ec7-48db-b429-35a0610d6a79', embedding=None, metadata={'page_label': '1', 'file_name': '吴恩达弟子打造arXiv弹幕版，每篇论文都能自由讨论了！.pdf', 'file_path': '/Users/zhaoxuefeng/Documents/Project/docs/zxfpro.github.io/slc/研究者/gpt_coder/pdfs/吴恩达弟子打造arXiv弹幕版，每篇论文都能自由讨论了！.pdf', 'file_type': 'application/pdf', 'file_size': 3212876, 'creation_date': '2024-08-01', 'last_modified_date': '2024-08-01'}, excluded_embed_metadata_keys=['file_name', 'file_type', 'file_size', 'creation_date', 'last_modified_date', 'last_accessed_date'], excluded_llm_metadata_keys=['file_name', 'file_type', 'file_size', 'creation_date', 'last_modified_date', 'last_accessed_date'], relationships={<NodeRelationship.SOURCE: '1'>: RelatedNodeInfo(node_id='/Users/zhaoxuefeng/Documents/Project/docs/zxfpro.github.io/slc/研究者/gpt_coder/pdfs/吴恩达弟子打造arXiv弹幕版，每篇论文都能自由讨论了！.pdf_part_0', node_type=<ObjectType.DOCUMENT: '4'>, metadata={'page_label': '1', 'file_name': '吴恩达弟子打造arXiv弹幕版，每篇论文都能自由讨论了！.pdf', 'file_path': '/Users/zhaoxuefeng/Documents/Project/docs/zxfpro.github.io/slc/研究者/gpt_coder/pdfs/吴恩达弟子打造arXiv弹幕版，每篇论文都能自由讨论了！.pdf', 'file_type': 'application/pdf', 'file_size': 3212876, 'creation_date': '2024-08-01', 'last_modified_date': '2024-08-01'}, hash='19dd76f63ccdbe814b0902b634c02f4416652095858c9ba285845038e4752ae8'), <NodeRelationship.PREVIOUS: '2'>: RelatedNodeInfo(node_id='43ad55cc-e181-438e-97b3-6d9a4824749e', node_type=<ObjectType.TEXT: '1'>, metadata={'page_label': '3', 'file_name': '何小鹏：端到端今年投35亿，2天迭代一次，可实现「门到门」体验.pdf', 'file_path': '/Users/zhaoxuefeng/Documents/Project/docs/zxfpro.github.io/slc/研究者/gpt_coder/pdfs/何小鹏：端到端今年投35亿，2天迭代一次，可实现「门到门」体验.pdf', 'file_type': 'application/pdf', 'file_size': 3212876, 'creation_date': '2024-08-01', 'last_modified_date': '2024-08-01'}, hash='59272d834c648adbda9c08d85c55fc9f374b29066c6527a0559ab5c964605141'), <NodeRelationship.NEXT: '3'>: RelatedNodeInfo(node_id='a37ce14b-11c8-435c-b389-2a915d84400e', node_type=<ObjectType.TEXT: '1'>, metadata={}, hash='4a016bba67b13826afaaced1dab29e465769f729343882b337a602f2a291d118')}, text='资讯热⻔⽂章\\n 360 isc周鸿祎ISC发布国内⾸个免费安全⼤模型 安全能\\n⼒超越GPT-4\\n其安全垂直能⼒已超过G PT-4\\n量⼦位 19分钟前\\n CPU 服务器想跑千亿⼤模型？算⼒⼚商放⼤招！CPU通⽤服\\n务器成为新选择\\n不⽤A I加速卡，只⽤4 颗CPU\\n克雷⻄ 25分钟前\\n arXiv 公开评审 斯坦福吴恩达弟⼦打造arXiv弹幕版，每篇论⽂都能⾃\\n由讨论了！\\n⽹友 ：这才是学术圈该有的样⼦！\\n明敏 2⼩时前\\n ChatGPT GPT-4o OpenAIChatGPT版「Her」被玩疯：哭着读诗，中⽂表\\n现也很亮\\n还能超快数1- 100\\n⼗三 2⼩时前\\n ⼤模型 ⽂⼼⼀⾔ 百度 ⻜桨⻜桨框架进阶3.0！⼀⽂讲透“⼤模型训推⼀体”\\n等五⼤新特性\\n为产学研各界提供稳定⽀持\\n⼗三 2⼩时前\\n 中国科学院数学与系统科学研究院 陈景润奖⾸届陈景润奖颁发！90后⼭⼤教授和84年中科\\n院研究员研究成果获奖\\n数论与代数⽅向新⽣代⼤奖\\n⻄⻛ 3⼩时前\\n CNN ⼤模型贾扬清：⼤模型尺⼨正重⾛CNN的⽼路；⻢斯\\n克：在特斯拉也是这样\\n开始反着卷了\\n衡宇 3⼩时前\\nOpenAI推出新AI搜索，⽼伙\\n计微软也默默更新了Bing\\n2024-07-26\\n字节⾖包上线吴敏霞、林丹\\n等专属智能体 奥运冠军AI…\\n2024-07-26\\n联想CTO换帅！芮勇转任新\\n集团总裁，瞄准新兴技术\\n2024-07-26\\n智平⽅打通具身智能核⼼痛\\n点：将AGI拓展到物理世界\\n2024-07-26\\n商汤科技⽇⽇新⼤模型亮相\\n巴黎，中国AI共赴奥运之约\\n2024-07-26', start_char_idx=0, end_char_idx=677, text_template='{metadata_str}\\n\\n{content}', metadata_template='{key}: {value}', metadata_seperator='\\n'),\n",
       " TextNode(id_='a37ce14b-11c8-435c-b389-2a915d84400e', embedding=None, metadata={'page_label': '2', 'file_name': '吴恩达弟子打造arXiv弹幕版，每篇论文都能自由讨论了！.pdf', 'file_path': '/Users/zhaoxuefeng/Documents/Project/docs/zxfpro.github.io/slc/研究者/gpt_coder/pdfs/吴恩达弟子打造arXiv弹幕版，每篇论文都能自由讨论了！.pdf', 'file_type': 'application/pdf', 'file_size': 3212876, 'creation_date': '2024-08-01', 'last_modified_date': '2024-08-01'}, excluded_embed_metadata_keys=['file_name', 'file_type', 'file_size', 'creation_date', 'last_modified_date', 'last_accessed_date'], excluded_llm_metadata_keys=['file_name', 'file_type', 'file_size', 'creation_date', 'last_modified_date', 'last_accessed_date'], relationships={<NodeRelationship.SOURCE: '1'>: RelatedNodeInfo(node_id='/Users/zhaoxuefeng/Documents/Project/docs/zxfpro.github.io/slc/研究者/gpt_coder/pdfs/吴恩达弟子打造arXiv弹幕版，每篇论文都能自由讨论了！.pdf_part_1', node_type=<ObjectType.DOCUMENT: '4'>, metadata={'page_label': '2', 'file_name': '吴恩达弟子打造arXiv弹幕版，每篇论文都能自由讨论了！.pdf', 'file_path': '/Users/zhaoxuefeng/Documents/Project/docs/zxfpro.github.io/slc/研究者/gpt_coder/pdfs/吴恩达弟子打造arXiv弹幕版，每篇论文都能自由讨论了！.pdf', 'file_type': 'application/pdf', 'file_size': 3212876, 'creation_date': '2024-08-01', 'last_modified_date': '2024-08-01'}, hash='5983a3ef4394a65a5961e8712895157e7d730e0573f5d34c38a4c5458fce059e'), <NodeRelationship.PREVIOUS: '2'>: RelatedNodeInfo(node_id='1cd8a820-4ec7-48db-b429-35a0610d6a79', node_type=<ObjectType.TEXT: '1'>, metadata={'page_label': '1', 'file_name': '吴恩达弟子打造arXiv弹幕版，每篇论文都能自由讨论了！.pdf', 'file_path': '/Users/zhaoxuefeng/Documents/Project/docs/zxfpro.github.io/slc/研究者/gpt_coder/pdfs/吴恩达弟子打造arXiv弹幕版，每篇论文都能自由讨论了！.pdf', 'file_type': 'application/pdf', 'file_size': 3212876, 'creation_date': '2024-08-01', 'last_modified_date': '2024-08-01'}, hash='19dd76f63ccdbe814b0902b634c02f4416652095858c9ba285845038e4752ae8'), <NodeRelationship.NEXT: '3'>: RelatedNodeInfo(node_id='2cf12400-d4ce-4ce0-b958-38b163604766', node_type=<ObjectType.TEXT: '1'>, metadata={}, hash='490ab4b7f2ff2d2eea73af697383d43b9c84edc60560a6d5437dd6a355c81da4')}, text='AI创作 线上活动合辑 量⼦位·视点 量⼦位活动合辑AI加持创作，「⼩说-剧本-视频」只需⼀⼈全搞\\n定｜对话波形智能\\n8⽉1⽇19:00，欢迎围观～\\n林樾 4⼩时前\\n 360ISC.AI 2024周鸿祎：落地安全⼤模型的关键是\\n找准“明星场景”\\n打造安全⼤模型 引领安全⾏业⾰命\\n量⼦位 5⼩时前\\n 通义千问 阿⾥云阿⾥通义免费开放奥运AI⼤模型\\n只需简单提问，就能获得详尽且专业的答案\\n量⼦位 22⼩时前\\n AI机器⼈ 星尘智能⼈形机器⼈「星尘智能」获数千万美元Pre-A轮\\n融资，经纬创投领投\\n星尘智能于2 022年12⽉在深圳成⽴，专注研发“ 新⼀代最强A I机器⼈助理”\\n⻥⽺ 昨天 16:07\\n Llama 3.1 李沐失联⼤神李沐B站复更：领读Llama 3.1论⽂；竞\\n技场Llama 3.1排第三\\n还分享了A I⼋卦\\n⼀⽔ 昨天 16:03\\n AI绘画 MidjourneyMidjourney新版本上线即爆⽕！⽹友已玩疯：和\\n摄影⼏乎没区别\\n⼋⼤升级来了\\n明敏 昨天 15:30\\n csdnCSDN「智研社-The Intelliger」共话⼤模型技\\n术演进与 AI Infra 创新\\n进⾏ AGI 相关前沿科技的深⼊探讨\\n量⼦位 昨天 15:26\\n Anthropic Claude 爬⾍Claude团队引众怒，为爬数据不择⼿段，给爬⾍\\n改名字⽆视禁⽌规则\\n群情激愤：⼩偷！\\n衡宇 昨天 15:24\\n超精细开放世界藏进⼩程序，他们⽤游戏技术复\\n刻北京中轴线，穿越古今的那种', start_char_idx=1, end_char_idx=647, text_template='{metadata_str}\\n\\n{content}', metadata_template='{key}: {value}', metadata_seperator='\\n'),\n",
       " TextNode(id_='2cf12400-d4ce-4ce0-b958-38b163604766', embedding=None, metadata={'page_label': '3', 'file_name': '吴恩达弟子打造arXiv弹幕版，每篇论文都能自由讨论了！.pdf', 'file_path': '/Users/zhaoxuefeng/Documents/Project/docs/zxfpro.github.io/slc/研究者/gpt_coder/pdfs/吴恩达弟子打造arXiv弹幕版，每篇论文都能自由讨论了！.pdf', 'file_type': 'application/pdf', 'file_size': 3212876, 'creation_date': '2024-08-01', 'last_modified_date': '2024-08-01'}, excluded_embed_metadata_keys=['file_name', 'file_type', 'file_size', 'creation_date', 'last_modified_date', 'last_accessed_date'], excluded_llm_metadata_keys=['file_name', 'file_type', 'file_size', 'creation_date', 'last_modified_date', 'last_accessed_date'], relationships={<NodeRelationship.SOURCE: '1'>: RelatedNodeInfo(node_id='/Users/zhaoxuefeng/Documents/Project/docs/zxfpro.github.io/slc/研究者/gpt_coder/pdfs/吴恩达弟子打造arXiv弹幕版，每篇论文都能自由讨论了！.pdf_part_2', node_type=<ObjectType.DOCUMENT: '4'>, metadata={'page_label': '3', 'file_name': '吴恩达弟子打造arXiv弹幕版，每篇论文都能自由讨论了！.pdf', 'file_path': '/Users/zhaoxuefeng/Documents/Project/docs/zxfpro.github.io/slc/研究者/gpt_coder/pdfs/吴恩达弟子打造arXiv弹幕版，每篇论文都能自由讨论了！.pdf', 'file_type': 'application/pdf', 'file_size': 3212876, 'creation_date': '2024-08-01', 'last_modified_date': '2024-08-01'}, hash='5d17fee4b5e29d2917941778799805fdcad79018f66227ffb0d633b326fe139d'), <NodeRelationship.PREVIOUS: '2'>: RelatedNodeInfo(node_id='a37ce14b-11c8-435c-b389-2a915d84400e', node_type=<ObjectType.TEXT: '1'>, metadata={'page_label': '2', 'file_name': '吴恩达弟子打造arXiv弹幕版，每篇论文都能自由讨论了！.pdf', 'file_path': '/Users/zhaoxuefeng/Documents/Project/docs/zxfpro.github.io/slc/研究者/gpt_coder/pdfs/吴恩达弟子打造arXiv弹幕版，每篇论文都能自由讨论了！.pdf', 'file_type': 'application/pdf', 'file_size': 3212876, 'creation_date': '2024-08-01', 'last_modified_date': '2024-08-01'}, hash='1cc33c5e555197d127dfbd4d34701cbc2fdeb66490de55ff6abb22d05d053f08'), <NodeRelationship.NEXT: '3'>: RelatedNodeInfo(node_id='3c3d2a76-fbdf-46a8-b7c7-747f7a4fa15f', node_type=<ObjectType.TEXT: '1'>, metadata={}, hash='4263f5c5774f05cf3ad5af65ae72c67d9e23170ffb9c55f4f5fba064790e5d09')}, text='关于量⼦位|加⼊我们|寻求报道|商务合作\\n   追踪⼈⼯智能新趋势，报道科技⾏业新突破\\n量⼦位 QbitAI 版权所有© 北京极客伙伴科技有限公司 京ICP备17005886号-1加载更多\\n 北京中轴线 游戏技术你以为的游戏早已不是你以为的游戏\\n⻥⽺ 昨天 15:24\\n 中⼭⼤学 虚拟试⾐寡姐带货国⻛Polo衫，⻢斯克穿⽜仔⾛红毯！虚\\n拟试⾐新框架⽕了\\n只需两张图像，不到3 0秒⽣成\\n⽩交 昨天 14:53\\n ⼩鹏汽⻋何⼩鹏：端到端今年投35亿，2天迭代⼀次，可\\n实现「⻔到⻔」体验\\n何⼩鹏开喷“周销量榜”\\n贾浩楠 前天 22:40\\n 苹果苹果AI版iOS⾸⽇⽕爆：聊天秒变⾼情商，⼤模\\n型成最强嘴替，Siri华丽变身\\n还有4 7⻚⼤模型技术报告出炉\\n克雷⻄ 前天 16:17\\n 阿⾥云阿⾥云修复100年前巴黎奥运珍贵影像，国际奥\\n委会主席巴赫致谢！\\n国际奥委会⾸次公布了19 24巴黎奥运的珍贵影像\\n量⼦位 前天 15:33', start_char_idx=0, end_char_idx=415, text_template='{metadata_str}\\n\\n{content}', metadata_template='{key}: {value}', metadata_seperator='\\n'),\n",
       " TextNode(id_='3c3d2a76-fbdf-46a8-b7c7-747f7a4fa15f', embedding=None, metadata={'page_label': '1', 'file_name': '周鸿祎ISC发布国内首个免费安全大模型 安全能力超越GPT-4.pdf', 'file_path': '/Users/zhaoxuefeng/Documents/Project/docs/zxfpro.github.io/slc/研究者/gpt_coder/pdfs/周鸿祎ISC发布国内首个免费安全大模型 安全能力超越GPT-4.pdf', 'file_type': 'application/pdf', 'file_size': 3212876, 'creation_date': '2024-08-01', 'last_modified_date': '2024-08-01'}, excluded_embed_metadata_keys=['file_name', 'file_type', 'file_size', 'creation_date', 'last_modified_date', 'last_accessed_date'], excluded_llm_metadata_keys=['file_name', 'file_type', 'file_size', 'creation_date', 'last_modified_date', 'last_accessed_date'], relationships={<NodeRelationship.SOURCE: '1'>: RelatedNodeInfo(node_id='/Users/zhaoxuefeng/Documents/Project/docs/zxfpro.github.io/slc/研究者/gpt_coder/pdfs/周鸿祎ISC发布国内首个免费安全大模型 安全能力超越GPT-4.pdf_part_0', node_type=<ObjectType.DOCUMENT: '4'>, metadata={'page_label': '1', 'file_name': '周鸿祎ISC发布国内首个免费安全大模型 安全能力超越GPT-4.pdf', 'file_path': '/Users/zhaoxuefeng/Documents/Project/docs/zxfpro.github.io/slc/研究者/gpt_coder/pdfs/周鸿祎ISC发布国内首个免费安全大模型 安全能力超越GPT-4.pdf', 'file_type': 'application/pdf', 'file_size': 3212876, 'creation_date': '2024-08-01', 'last_modified_date': '2024-08-01'}, hash='51e678d4f45e42eba68b6e865bf103e3fa5b880f29949b8dbd445eabf8a06fc4'), <NodeRelationship.PREVIOUS: '2'>: RelatedNodeInfo(node_id='2cf12400-d4ce-4ce0-b958-38b163604766', node_type=<ObjectType.TEXT: '1'>, metadata={'page_label': '3', 'file_name': '吴恩达弟子打造arXiv弹幕版，每篇论文都能自由讨论了！.pdf', 'file_path': '/Users/zhaoxuefeng/Documents/Project/docs/zxfpro.github.io/slc/研究者/gpt_coder/pdfs/吴恩达弟子打造arXiv弹幕版，每篇论文都能自由讨论了！.pdf', 'file_type': 'application/pdf', 'file_size': 3212876, 'creation_date': '2024-08-01', 'last_modified_date': '2024-08-01'}, hash='5d17fee4b5e29d2917941778799805fdcad79018f66227ffb0d633b326fe139d'), <NodeRelationship.NEXT: '3'>: RelatedNodeInfo(node_id='12e0351c-5241-433a-966c-b592ed884b9d', node_type=<ObjectType.TEXT: '1'>, metadata={}, hash='4a016bba67b13826afaaced1dab29e465769f729343882b337a602f2a291d118')}, text='资讯热⻔⽂章\\n 360 isc周鸿祎ISC发布国内⾸个免费安全⼤模型 安全能\\n⼒超越GPT-4\\n其安全垂直能⼒已超过G PT-4\\n量⼦位 19分钟前\\n CPU 服务器想跑千亿⼤模型？算⼒⼚商放⼤招！CPU通⽤服\\n务器成为新选择\\n不⽤A I加速卡，只⽤4 颗CPU\\n克雷⻄ 25分钟前\\n arXiv 公开评审 斯坦福吴恩达弟⼦打造arXiv弹幕版，每篇论⽂都能⾃\\n由讨论了！\\n⽹友 ：这才是学术圈该有的样⼦！\\n明敏 2⼩时前\\n ChatGPT GPT-4o OpenAIChatGPT版「Her」被玩疯：哭着读诗，中⽂表\\n现也很亮\\n还能超快数1- 100\\n⼗三 2⼩时前\\n ⼤模型 ⽂⼼⼀⾔ 百度 ⻜桨⻜桨框架进阶3.0！⼀⽂讲透“⼤模型训推⼀体”\\n等五⼤新特性\\n为产学研各界提供稳定⽀持\\n⼗三 2⼩时前\\n 中国科学院数学与系统科学研究院 陈景润奖⾸届陈景润奖颁发！90后⼭⼤教授和84年中科\\n院研究员研究成果获奖\\n数论与代数⽅向新⽣代⼤奖\\n⻄⻛ 3⼩时前\\n CNN ⼤模型贾扬清：⼤模型尺⼨正重⾛CNN的⽼路；⻢斯\\n克：在特斯拉也是这样\\n开始反着卷了\\n衡宇 3⼩时前\\nOpenAI推出新AI搜索，⽼伙\\n计微软也默默更新了Bing\\n2024-07-26\\n字节⾖包上线吴敏霞、林丹\\n等专属智能体 奥运冠军AI…\\n2024-07-26\\n联想CTO换帅！芮勇转任新\\n集团总裁，瞄准新兴技术\\n2024-07-26\\n智平⽅打通具身智能核⼼痛\\n点：将AGI拓展到物理世界\\n2024-07-26\\n商汤科技⽇⽇新⼤模型亮相\\n巴黎，中国AI共赴奥运之约\\n2024-07-26', start_char_idx=0, end_char_idx=677, text_template='{metadata_str}\\n\\n{content}', metadata_template='{key}: {value}', metadata_seperator='\\n'),\n",
       " TextNode(id_='12e0351c-5241-433a-966c-b592ed884b9d', embedding=None, metadata={'page_label': '2', 'file_name': '周鸿祎ISC发布国内首个免费安全大模型 安全能力超越GPT-4.pdf', 'file_path': '/Users/zhaoxuefeng/Documents/Project/docs/zxfpro.github.io/slc/研究者/gpt_coder/pdfs/周鸿祎ISC发布国内首个免费安全大模型 安全能力超越GPT-4.pdf', 'file_type': 'application/pdf', 'file_size': 3212876, 'creation_date': '2024-08-01', 'last_modified_date': '2024-08-01'}, excluded_embed_metadata_keys=['file_name', 'file_type', 'file_size', 'creation_date', 'last_modified_date', 'last_accessed_date'], excluded_llm_metadata_keys=['file_name', 'file_type', 'file_size', 'creation_date', 'last_modified_date', 'last_accessed_date'], relationships={<NodeRelationship.SOURCE: '1'>: RelatedNodeInfo(node_id='/Users/zhaoxuefeng/Documents/Project/docs/zxfpro.github.io/slc/研究者/gpt_coder/pdfs/周鸿祎ISC发布国内首个免费安全大模型 安全能力超越GPT-4.pdf_part_1', node_type=<ObjectType.DOCUMENT: '4'>, metadata={'page_label': '2', 'file_name': '周鸿祎ISC发布国内首个免费安全大模型 安全能力超越GPT-4.pdf', 'file_path': '/Users/zhaoxuefeng/Documents/Project/docs/zxfpro.github.io/slc/研究者/gpt_coder/pdfs/周鸿祎ISC发布国内首个免费安全大模型 安全能力超越GPT-4.pdf', 'file_type': 'application/pdf', 'file_size': 3212876, 'creation_date': '2024-08-01', 'last_modified_date': '2024-08-01'}, hash='44137907f2c1201b727e6c5ad991673a279b4d835f0df875763e42558bada56b'), <NodeRelationship.PREVIOUS: '2'>: RelatedNodeInfo(node_id='3c3d2a76-fbdf-46a8-b7c7-747f7a4fa15f', node_type=<ObjectType.TEXT: '1'>, metadata={'page_label': '1', 'file_name': '周鸿祎ISC发布国内首个免费安全大模型 安全能力超越GPT-4.pdf', 'file_path': '/Users/zhaoxuefeng/Documents/Project/docs/zxfpro.github.io/slc/研究者/gpt_coder/pdfs/周鸿祎ISC发布国内首个免费安全大模型 安全能力超越GPT-4.pdf', 'file_type': 'application/pdf', 'file_size': 3212876, 'creation_date': '2024-08-01', 'last_modified_date': '2024-08-01'}, hash='51e678d4f45e42eba68b6e865bf103e3fa5b880f29949b8dbd445eabf8a06fc4'), <NodeRelationship.NEXT: '3'>: RelatedNodeInfo(node_id='2c5dfa8d-767d-4dc4-8c7d-147b0882cef7', node_type=<ObjectType.TEXT: '1'>, metadata={}, hash='490ab4b7f2ff2d2eea73af697383d43b9c84edc60560a6d5437dd6a355c81da4')}, text='AI创作 线上活动合辑 量⼦位·视点 量⼦位活动合辑AI加持创作，「⼩说-剧本-视频」只需⼀⼈全搞\\n定｜对话波形智能\\n8⽉1⽇19:00，欢迎围观～\\n林樾 4⼩时前\\n 360ISC.AI 2024周鸿祎：落地安全⼤模型的关键是\\n找准“明星场景”\\n打造安全⼤模型 引领安全⾏业⾰命\\n量⼦位 5⼩时前\\n 通义千问 阿⾥云阿⾥通义免费开放奥运AI⼤模型\\n只需简单提问，就能获得详尽且专业的答案\\n量⼦位 22⼩时前\\n AI机器⼈ 星尘智能⼈形机器⼈「星尘智能」获数千万美元Pre-A轮\\n融资，经纬创投领投\\n星尘智能于2 022年12⽉在深圳成⽴，专注研发“ 新⼀代最强A I机器⼈助理”\\n⻥⽺ 昨天 16:07\\n Llama 3.1 李沐失联⼤神李沐B站复更：领读Llama 3.1论⽂；竞\\n技场Llama 3.1排第三\\n还分享了A I⼋卦\\n⼀⽔ 昨天 16:03\\n AI绘画 MidjourneyMidjourney新版本上线即爆⽕！⽹友已玩疯：和\\n摄影⼏乎没区别\\n⼋⼤升级来了\\n明敏 昨天 15:30\\n csdnCSDN「智研社-The Intelliger」共话⼤模型技\\n术演进与 AI Infra 创新\\n进⾏ AGI 相关前沿科技的深⼊探讨\\n量⼦位 昨天 15:26\\n Anthropic Claude 爬⾍Claude团队引众怒，为爬数据不择⼿段，给爬⾍\\n改名字⽆视禁⽌规则\\n群情激愤：⼩偷！\\n衡宇 昨天 15:24\\n超精细开放世界藏进⼩程序，他们⽤游戏技术复\\n刻北京中轴线，穿越古今的那种', start_char_idx=1, end_char_idx=647, text_template='{metadata_str}\\n\\n{content}', metadata_template='{key}: {value}', metadata_seperator='\\n'),\n",
       " TextNode(id_='2c5dfa8d-767d-4dc4-8c7d-147b0882cef7', embedding=None, metadata={'page_label': '3', 'file_name': '周鸿祎ISC发布国内首个免费安全大模型 安全能力超越GPT-4.pdf', 'file_path': '/Users/zhaoxuefeng/Documents/Project/docs/zxfpro.github.io/slc/研究者/gpt_coder/pdfs/周鸿祎ISC发布国内首个免费安全大模型 安全能力超越GPT-4.pdf', 'file_type': 'application/pdf', 'file_size': 3212876, 'creation_date': '2024-08-01', 'last_modified_date': '2024-08-01'}, excluded_embed_metadata_keys=['file_name', 'file_type', 'file_size', 'creation_date', 'last_modified_date', 'last_accessed_date'], excluded_llm_metadata_keys=['file_name', 'file_type', 'file_size', 'creation_date', 'last_modified_date', 'last_accessed_date'], relationships={<NodeRelationship.SOURCE: '1'>: RelatedNodeInfo(node_id='/Users/zhaoxuefeng/Documents/Project/docs/zxfpro.github.io/slc/研究者/gpt_coder/pdfs/周鸿祎ISC发布国内首个免费安全大模型 安全能力超越GPT-4.pdf_part_2', node_type=<ObjectType.DOCUMENT: '4'>, metadata={'page_label': '3', 'file_name': '周鸿祎ISC发布国内首个免费安全大模型 安全能力超越GPT-4.pdf', 'file_path': '/Users/zhaoxuefeng/Documents/Project/docs/zxfpro.github.io/slc/研究者/gpt_coder/pdfs/周鸿祎ISC发布国内首个免费安全大模型 安全能力超越GPT-4.pdf', 'file_type': 'application/pdf', 'file_size': 3212876, 'creation_date': '2024-08-01', 'last_modified_date': '2024-08-01'}, hash='6e52e2787d9fb62aac1013a5545cfee7b0de866187fc2961bd181af469276de0'), <NodeRelationship.PREVIOUS: '2'>: RelatedNodeInfo(node_id='12e0351c-5241-433a-966c-b592ed884b9d', node_type=<ObjectType.TEXT: '1'>, metadata={'page_label': '2', 'file_name': '周鸿祎ISC发布国内首个免费安全大模型 安全能力超越GPT-4.pdf', 'file_path': '/Users/zhaoxuefeng/Documents/Project/docs/zxfpro.github.io/slc/研究者/gpt_coder/pdfs/周鸿祎ISC发布国内首个免费安全大模型 安全能力超越GPT-4.pdf', 'file_type': 'application/pdf', 'file_size': 3212876, 'creation_date': '2024-08-01', 'last_modified_date': '2024-08-01'}, hash='4abc180708955b61cfa568070af6bbeed9ae8d87fea0cbe53f8c1217fbb49af9'), <NodeRelationship.NEXT: '3'>: RelatedNodeInfo(node_id='8753487c-249e-4093-a664-5679ba371577', node_type=<ObjectType.TEXT: '1'>, metadata={}, hash='4263f5c5774f05cf3ad5af65ae72c67d9e23170ffb9c55f4f5fba064790e5d09')}, text='关于量⼦位|加⼊我们|寻求报道|商务合作\\n   追踪⼈⼯智能新趋势，报道科技⾏业新突破\\n量⼦位 QbitAI 版权所有© 北京极客伙伴科技有限公司 京ICP备17005886号-1加载更多\\n 北京中轴线 游戏技术你以为的游戏早已不是你以为的游戏\\n⻥⽺ 昨天 15:24\\n 中⼭⼤学 虚拟试⾐寡姐带货国⻛Polo衫，⻢斯克穿⽜仔⾛红毯！虚\\n拟试⾐新框架⽕了\\n只需两张图像，不到3 0秒⽣成\\n⽩交 昨天 14:53\\n ⼩鹏汽⻋何⼩鹏：端到端今年投35亿，2天迭代⼀次，可\\n实现「⻔到⻔」体验\\n何⼩鹏开喷“周销量榜”\\n贾浩楠 前天 22:40\\n 苹果苹果AI版iOS⾸⽇⽕爆：聊天秒变⾼情商，⼤模\\n型成最强嘴替，Siri华丽变身\\n还有4 7⻚⼤模型技术报告出炉\\n克雷⻄ 前天 16:17\\n 阿⾥云阿⾥云修复100年前巴黎奥运珍贵影像，国际奥\\n委会主席巴赫致谢！\\n国际奥委会⾸次公布了19 24巴黎奥运的珍贵影像\\n量⼦位 前天 15:33', start_char_idx=0, end_char_idx=415, text_template='{metadata_str}\\n\\n{content}', metadata_template='{key}: {value}', metadata_seperator='\\n'),\n",
       " TextNode(id_='8753487c-249e-4093-a664-5679ba371577', embedding=None, metadata={'page_label': '1', 'file_name': '失联大神李沐B站复更：领读Llama 3.1论文；竞技场Llama 3.1排第三.pdf', 'file_path': '/Users/zhaoxuefeng/Documents/Project/docs/zxfpro.github.io/slc/研究者/gpt_coder/pdfs/失联大神李沐B站复更：领读Llama 3.1论文；竞技场Llama 3.1排第三.pdf', 'file_type': 'application/pdf', 'file_size': 3212876, 'creation_date': '2024-08-01', 'last_modified_date': '2024-08-01'}, excluded_embed_metadata_keys=['file_name', 'file_type', 'file_size', 'creation_date', 'last_modified_date', 'last_accessed_date'], excluded_llm_metadata_keys=['file_name', 'file_type', 'file_size', 'creation_date', 'last_modified_date', 'last_accessed_date'], relationships={<NodeRelationship.SOURCE: '1'>: RelatedNodeInfo(node_id='/Users/zhaoxuefeng/Documents/Project/docs/zxfpro.github.io/slc/研究者/gpt_coder/pdfs/失联大神李沐B站复更：领读Llama 3.1论文；竞技场Llama 3.1排第三.pdf_part_0', node_type=<ObjectType.DOCUMENT: '4'>, metadata={'page_label': '1', 'file_name': '失联大神李沐B站复更：领读Llama 3.1论文；竞技场Llama 3.1排第三.pdf', 'file_path': '/Users/zhaoxuefeng/Documents/Project/docs/zxfpro.github.io/slc/研究者/gpt_coder/pdfs/失联大神李沐B站复更：领读Llama 3.1论文；竞技场Llama 3.1排第三.pdf', 'file_type': 'application/pdf', 'file_size': 3212876, 'creation_date': '2024-08-01', 'last_modified_date': '2024-08-01'}, hash='5ebd5de177fa934438967c97bc6da50f1adefd56c23b98df998d78e77665bc9a'), <NodeRelationship.PREVIOUS: '2'>: RelatedNodeInfo(node_id='2c5dfa8d-767d-4dc4-8c7d-147b0882cef7', node_type=<ObjectType.TEXT: '1'>, metadata={'page_label': '3', 'file_name': '周鸿祎ISC发布国内首个免费安全大模型 安全能力超越GPT-4.pdf', 'file_path': '/Users/zhaoxuefeng/Documents/Project/docs/zxfpro.github.io/slc/研究者/gpt_coder/pdfs/周鸿祎ISC发布国内首个免费安全大模型 安全能力超越GPT-4.pdf', 'file_type': 'application/pdf', 'file_size': 3212876, 'creation_date': '2024-08-01', 'last_modified_date': '2024-08-01'}, hash='6e52e2787d9fb62aac1013a5545cfee7b0de866187fc2961bd181af469276de0'), <NodeRelationship.NEXT: '3'>: RelatedNodeInfo(node_id='0c2ccd06-37c2-44e7-8e75-5db54350080c', node_type=<ObjectType.TEXT: '1'>, metadata={}, hash='4a016bba67b13826afaaced1dab29e465769f729343882b337a602f2a291d118')}, text='资讯热⻔⽂章\\n 360 isc周鸿祎ISC发布国内⾸个免费安全⼤模型 安全能\\n⼒超越GPT-4\\n其安全垂直能⼒已超过G PT-4\\n量⼦位 19分钟前\\n CPU 服务器想跑千亿⼤模型？算⼒⼚商放⼤招！CPU通⽤服\\n务器成为新选择\\n不⽤A I加速卡，只⽤4 颗CPU\\n克雷⻄ 25分钟前\\n arXiv 公开评审 斯坦福吴恩达弟⼦打造arXiv弹幕版，每篇论⽂都能⾃\\n由讨论了！\\n⽹友 ：这才是学术圈该有的样⼦！\\n明敏 2⼩时前\\n ChatGPT GPT-4o OpenAIChatGPT版「Her」被玩疯：哭着读诗，中⽂表\\n现也很亮\\n还能超快数1- 100\\n⼗三 2⼩时前\\n ⼤模型 ⽂⼼⼀⾔ 百度 ⻜桨⻜桨框架进阶3.0！⼀⽂讲透“⼤模型训推⼀体”\\n等五⼤新特性\\n为产学研各界提供稳定⽀持\\n⼗三 2⼩时前\\n 中国科学院数学与系统科学研究院 陈景润奖⾸届陈景润奖颁发！90后⼭⼤教授和84年中科\\n院研究员研究成果获奖\\n数论与代数⽅向新⽣代⼤奖\\n⻄⻛ 3⼩时前\\n CNN ⼤模型贾扬清：⼤模型尺⼨正重⾛CNN的⽼路；⻢斯\\n克：在特斯拉也是这样\\n开始反着卷了\\n衡宇 3⼩时前\\nOpenAI推出新AI搜索，⽼伙\\n计微软也默默更新了Bing\\n2024-07-26\\n字节⾖包上线吴敏霞、林丹\\n等专属智能体 奥运冠军AI…\\n2024-07-26\\n联想CTO换帅！芮勇转任新\\n集团总裁，瞄准新兴技术\\n2024-07-26\\n智平⽅打通具身智能核⼼痛\\n点：将AGI拓展到物理世界\\n2024-07-26\\n商汤科技⽇⽇新⼤模型亮相\\n巴黎，中国AI共赴奥运之约\\n2024-07-26', start_char_idx=0, end_char_idx=677, text_template='{metadata_str}\\n\\n{content}', metadata_template='{key}: {value}', metadata_seperator='\\n'),\n",
       " TextNode(id_='0c2ccd06-37c2-44e7-8e75-5db54350080c', embedding=None, metadata={'page_label': '2', 'file_name': '失联大神李沐B站复更：领读Llama 3.1论文；竞技场Llama 3.1排第三.pdf', 'file_path': '/Users/zhaoxuefeng/Documents/Project/docs/zxfpro.github.io/slc/研究者/gpt_coder/pdfs/失联大神李沐B站复更：领读Llama 3.1论文；竞技场Llama 3.1排第三.pdf', 'file_type': 'application/pdf', 'file_size': 3212876, 'creation_date': '2024-08-01', 'last_modified_date': '2024-08-01'}, excluded_embed_metadata_keys=['file_name', 'file_type', 'file_size', 'creation_date', 'last_modified_date', 'last_accessed_date'], excluded_llm_metadata_keys=['file_name', 'file_type', 'file_size', 'creation_date', 'last_modified_date', 'last_accessed_date'], relationships={<NodeRelationship.SOURCE: '1'>: RelatedNodeInfo(node_id='/Users/zhaoxuefeng/Documents/Project/docs/zxfpro.github.io/slc/研究者/gpt_coder/pdfs/失联大神李沐B站复更：领读Llama 3.1论文；竞技场Llama 3.1排第三.pdf_part_1', node_type=<ObjectType.DOCUMENT: '4'>, metadata={'page_label': '2', 'file_name': '失联大神李沐B站复更：领读Llama 3.1论文；竞技场Llama 3.1排第三.pdf', 'file_path': '/Users/zhaoxuefeng/Documents/Project/docs/zxfpro.github.io/slc/研究者/gpt_coder/pdfs/失联大神李沐B站复更：领读Llama 3.1论文；竞技场Llama 3.1排第三.pdf', 'file_type': 'application/pdf', 'file_size': 3212876, 'creation_date': '2024-08-01', 'last_modified_date': '2024-08-01'}, hash='8d0ab84ded1a1c47d68a7fcb6d397b61de0340f123fe68fa1cb49167349ac016'), <NodeRelationship.PREVIOUS: '2'>: RelatedNodeInfo(node_id='8753487c-249e-4093-a664-5679ba371577', node_type=<ObjectType.TEXT: '1'>, metadata={'page_label': '1', 'file_name': '失联大神李沐B站复更：领读Llama 3.1论文；竞技场Llama 3.1排第三.pdf', 'file_path': '/Users/zhaoxuefeng/Documents/Project/docs/zxfpro.github.io/slc/研究者/gpt_coder/pdfs/失联大神李沐B站复更：领读Llama 3.1论文；竞技场Llama 3.1排第三.pdf', 'file_type': 'application/pdf', 'file_size': 3212876, 'creation_date': '2024-08-01', 'last_modified_date': '2024-08-01'}, hash='5ebd5de177fa934438967c97bc6da50f1adefd56c23b98df998d78e77665bc9a'), <NodeRelationship.NEXT: '3'>: RelatedNodeInfo(node_id='423850d5-2cad-47ad-a9e6-c91b7a388216', node_type=<ObjectType.TEXT: '1'>, metadata={}, hash='490ab4b7f2ff2d2eea73af697383d43b9c84edc60560a6d5437dd6a355c81da4')}, text='AI创作 线上活动合辑 量⼦位·视点 量⼦位活动合辑AI加持创作，「⼩说-剧本-视频」只需⼀⼈全搞\\n定｜对话波形智能\\n8⽉1⽇19:00，欢迎围观～\\n林樾 4⼩时前\\n 360ISC.AI 2024周鸿祎：落地安全⼤模型的关键是\\n找准“明星场景”\\n打造安全⼤模型 引领安全⾏业⾰命\\n量⼦位 5⼩时前\\n 通义千问 阿⾥云阿⾥通义免费开放奥运AI⼤模型\\n只需简单提问，就能获得详尽且专业的答案\\n量⼦位 22⼩时前\\n AI机器⼈ 星尘智能⼈形机器⼈「星尘智能」获数千万美元Pre-A轮\\n融资，经纬创投领投\\n星尘智能于2 022年12⽉在深圳成⽴，专注研发“ 新⼀代最强A I机器⼈助理”\\n⻥⽺ 昨天 16:07\\n Llama 3.1 李沐失联⼤神李沐B站复更：领读Llama 3.1论⽂；竞\\n技场Llama 3.1排第三\\n还分享了A I⼋卦\\n⼀⽔ 昨天 16:03\\n AI绘画 MidjourneyMidjourney新版本上线即爆⽕！⽹友已玩疯：和\\n摄影⼏乎没区别\\n⼋⼤升级来了\\n明敏 昨天 15:30\\n csdnCSDN「智研社-The Intelliger」共话⼤模型技\\n术演进与 AI Infra 创新\\n进⾏ AGI 相关前沿科技的深⼊探讨\\n量⼦位 昨天 15:26\\n Anthropic Claude 爬⾍Claude团队引众怒，为爬数据不择⼿段，给爬⾍\\n改名字⽆视禁⽌规则\\n群情激愤：⼩偷！\\n衡宇 昨天 15:24\\n超精细开放世界藏进⼩程序，他们⽤游戏技术复\\n刻北京中轴线，穿越古今的那种', start_char_idx=1, end_char_idx=647, text_template='{metadata_str}\\n\\n{content}', metadata_template='{key}: {value}', metadata_seperator='\\n'),\n",
       " TextNode(id_='423850d5-2cad-47ad-a9e6-c91b7a388216', embedding=None, metadata={'page_label': '3', 'file_name': '失联大神李沐B站复更：领读Llama 3.1论文；竞技场Llama 3.1排第三.pdf', 'file_path': '/Users/zhaoxuefeng/Documents/Project/docs/zxfpro.github.io/slc/研究者/gpt_coder/pdfs/失联大神李沐B站复更：领读Llama 3.1论文；竞技场Llama 3.1排第三.pdf', 'file_type': 'application/pdf', 'file_size': 3212876, 'creation_date': '2024-08-01', 'last_modified_date': '2024-08-01'}, excluded_embed_metadata_keys=['file_name', 'file_type', 'file_size', 'creation_date', 'last_modified_date', 'last_accessed_date'], excluded_llm_metadata_keys=['file_name', 'file_type', 'file_size', 'creation_date', 'last_modified_date', 'last_accessed_date'], relationships={<NodeRelationship.SOURCE: '1'>: RelatedNodeInfo(node_id='/Users/zhaoxuefeng/Documents/Project/docs/zxfpro.github.io/slc/研究者/gpt_coder/pdfs/失联大神李沐B站复更：领读Llama 3.1论文；竞技场Llama 3.1排第三.pdf_part_2', node_type=<ObjectType.DOCUMENT: '4'>, metadata={'page_label': '3', 'file_name': '失联大神李沐B站复更：领读Llama 3.1论文；竞技场Llama 3.1排第三.pdf', 'file_path': '/Users/zhaoxuefeng/Documents/Project/docs/zxfpro.github.io/slc/研究者/gpt_coder/pdfs/失联大神李沐B站复更：领读Llama 3.1论文；竞技场Llama 3.1排第三.pdf', 'file_type': 'application/pdf', 'file_size': 3212876, 'creation_date': '2024-08-01', 'last_modified_date': '2024-08-01'}, hash='b1e68b50f4dfc1bc4803a393f64af33090f05938d30d600fca160f43ae4213e2'), <NodeRelationship.PREVIOUS: '2'>: RelatedNodeInfo(node_id='0c2ccd06-37c2-44e7-8e75-5db54350080c', node_type=<ObjectType.TEXT: '1'>, metadata={'page_label': '2', 'file_name': '失联大神李沐B站复更：领读Llama 3.1论文；竞技场Llama 3.1排第三.pdf', 'file_path': '/Users/zhaoxuefeng/Documents/Project/docs/zxfpro.github.io/slc/研究者/gpt_coder/pdfs/失联大神李沐B站复更：领读Llama 3.1论文；竞技场Llama 3.1排第三.pdf', 'file_type': 'application/pdf', 'file_size': 3212876, 'creation_date': '2024-08-01', 'last_modified_date': '2024-08-01'}, hash='75262e8e59bedcedfa37f4f9d5d8120e5c66c4011c2bbfda4ab6ecbc3058b82f'), <NodeRelationship.NEXT: '3'>: RelatedNodeInfo(node_id='2676b484-e7b5-4aa2-91cf-742bea46233d', node_type=<ObjectType.TEXT: '1'>, metadata={}, hash='4263f5c5774f05cf3ad5af65ae72c67d9e23170ffb9c55f4f5fba064790e5d09')}, text='关于量⼦位|加⼊我们|寻求报道|商务合作\\n   追踪⼈⼯智能新趋势，报道科技⾏业新突破\\n量⼦位 QbitAI 版权所有© 北京极客伙伴科技有限公司 京ICP备17005886号-1加载更多\\n 北京中轴线 游戏技术你以为的游戏早已不是你以为的游戏\\n⻥⽺ 昨天 15:24\\n 中⼭⼤学 虚拟试⾐寡姐带货国⻛Polo衫，⻢斯克穿⽜仔⾛红毯！虚\\n拟试⾐新框架⽕了\\n只需两张图像，不到3 0秒⽣成\\n⽩交 昨天 14:53\\n ⼩鹏汽⻋何⼩鹏：端到端今年投35亿，2天迭代⼀次，可\\n实现「⻔到⻔」体验\\n何⼩鹏开喷“周销量榜”\\n贾浩楠 前天 22:40\\n 苹果苹果AI版iOS⾸⽇⽕爆：聊天秒变⾼情商，⼤模\\n型成最强嘴替，Siri华丽变身\\n还有4 7⻚⼤模型技术报告出炉\\n克雷⻄ 前天 16:17\\n 阿⾥云阿⾥云修复100年前巴黎奥运珍贵影像，国际奥\\n委会主席巴赫致谢！\\n国际奥委会⾸次公布了19 24巴黎奥运的珍贵影像\\n量⼦位 前天 15:33', start_char_idx=0, end_char_idx=415, text_template='{metadata_str}\\n\\n{content}', metadata_template='{key}: {value}', metadata_seperator='\\n'),\n",
       " TextNode(id_='2676b484-e7b5-4aa2-91cf-742bea46233d', embedding=None, metadata={'page_label': '1', 'file_name': '寡姐带货国风Polo衫，马斯克穿牛仔走红毯！虚拟试衣新框架火了.pdf', 'file_path': '/Users/zhaoxuefeng/Documents/Project/docs/zxfpro.github.io/slc/研究者/gpt_coder/pdfs/寡姐带货国风Polo衫，马斯克穿牛仔走红毯！虚拟试衣新框架火了.pdf', 'file_type': 'application/pdf', 'file_size': 3212876, 'creation_date': '2024-08-01', 'last_modified_date': '2024-08-01'}, excluded_embed_metadata_keys=['file_name', 'file_type', 'file_size', 'creation_date', 'last_modified_date', 'last_accessed_date'], excluded_llm_metadata_keys=['file_name', 'file_type', 'file_size', 'creation_date', 'last_modified_date', 'last_accessed_date'], relationships={<NodeRelationship.SOURCE: '1'>: RelatedNodeInfo(node_id='/Users/zhaoxuefeng/Documents/Project/docs/zxfpro.github.io/slc/研究者/gpt_coder/pdfs/寡姐带货国风Polo衫，马斯克穿牛仔走红毯！虚拟试衣新框架火了.pdf_part_0', node_type=<ObjectType.DOCUMENT: '4'>, metadata={'page_label': '1', 'file_name': '寡姐带货国风Polo衫，马斯克穿牛仔走红毯！虚拟试衣新框架火了.pdf', 'file_path': '/Users/zhaoxuefeng/Documents/Project/docs/zxfpro.github.io/slc/研究者/gpt_coder/pdfs/寡姐带货国风Polo衫，马斯克穿牛仔走红毯！虚拟试衣新框架火了.pdf', 'file_type': 'application/pdf', 'file_size': 3212876, 'creation_date': '2024-08-01', 'last_modified_date': '2024-08-01'}, hash='7f9e6634028d615fcb24480200367822af6142e5c1b94fd5193dc5f50e719c91'), <NodeRelationship.PREVIOUS: '2'>: RelatedNodeInfo(node_id='423850d5-2cad-47ad-a9e6-c91b7a388216', node_type=<ObjectType.TEXT: '1'>, metadata={'page_label': '3', 'file_name': '失联大神李沐B站复更：领读Llama 3.1论文；竞技场Llama 3.1排第三.pdf', 'file_path': '/Users/zhaoxuefeng/Documents/Project/docs/zxfpro.github.io/slc/研究者/gpt_coder/pdfs/失联大神李沐B站复更：领读Llama 3.1论文；竞技场Llama 3.1排第三.pdf', 'file_type': 'application/pdf', 'file_size': 3212876, 'creation_date': '2024-08-01', 'last_modified_date': '2024-08-01'}, hash='b1e68b50f4dfc1bc4803a393f64af33090f05938d30d600fca160f43ae4213e2'), <NodeRelationship.NEXT: '3'>: RelatedNodeInfo(node_id='b9eb451d-d0c7-4a05-a069-3c1dbaa77898', node_type=<ObjectType.TEXT: '1'>, metadata={}, hash='4a016bba67b13826afaaced1dab29e465769f729343882b337a602f2a291d118')}, text='资讯热⻔⽂章\\n 360 isc周鸿祎ISC发布国内⾸个免费安全⼤模型 安全能\\n⼒超越GPT-4\\n其安全垂直能⼒已超过G PT-4\\n量⼦位 19分钟前\\n CPU 服务器想跑千亿⼤模型？算⼒⼚商放⼤招！CPU通⽤服\\n务器成为新选择\\n不⽤A I加速卡，只⽤4 颗CPU\\n克雷⻄ 25分钟前\\n arXiv 公开评审 斯坦福吴恩达弟⼦打造arXiv弹幕版，每篇论⽂都能⾃\\n由讨论了！\\n⽹友 ：这才是学术圈该有的样⼦！\\n明敏 2⼩时前\\n ChatGPT GPT-4o OpenAIChatGPT版「Her」被玩疯：哭着读诗，中⽂表\\n现也很亮\\n还能超快数1- 100\\n⼗三 2⼩时前\\n ⼤模型 ⽂⼼⼀⾔ 百度 ⻜桨⻜桨框架进阶3.0！⼀⽂讲透“⼤模型训推⼀体”\\n等五⼤新特性\\n为产学研各界提供稳定⽀持\\n⼗三 2⼩时前\\n 中国科学院数学与系统科学研究院 陈景润奖⾸届陈景润奖颁发！90后⼭⼤教授和84年中科\\n院研究员研究成果获奖\\n数论与代数⽅向新⽣代⼤奖\\n⻄⻛ 3⼩时前\\n CNN ⼤模型贾扬清：⼤模型尺⼨正重⾛CNN的⽼路；⻢斯\\n克：在特斯拉也是这样\\n开始反着卷了\\n衡宇 3⼩时前\\nOpenAI推出新AI搜索，⽼伙\\n计微软也默默更新了Bing\\n2024-07-26\\n字节⾖包上线吴敏霞、林丹\\n等专属智能体 奥运冠军AI…\\n2024-07-26\\n联想CTO换帅！芮勇转任新\\n集团总裁，瞄准新兴技术\\n2024-07-26\\n智平⽅打通具身智能核⼼痛\\n点：将AGI拓展到物理世界\\n2024-07-26\\n商汤科技⽇⽇新⼤模型亮相\\n巴黎，中国AI共赴奥运之约\\n2024-07-26', start_char_idx=0, end_char_idx=677, text_template='{metadata_str}\\n\\n{content}', metadata_template='{key}: {value}', metadata_seperator='\\n'),\n",
       " TextNode(id_='b9eb451d-d0c7-4a05-a069-3c1dbaa77898', embedding=None, metadata={'page_label': '2', 'file_name': '寡姐带货国风Polo衫，马斯克穿牛仔走红毯！虚拟试衣新框架火了.pdf', 'file_path': '/Users/zhaoxuefeng/Documents/Project/docs/zxfpro.github.io/slc/研究者/gpt_coder/pdfs/寡姐带货国风Polo衫，马斯克穿牛仔走红毯！虚拟试衣新框架火了.pdf', 'file_type': 'application/pdf', 'file_size': 3212876, 'creation_date': '2024-08-01', 'last_modified_date': '2024-08-01'}, excluded_embed_metadata_keys=['file_name', 'file_type', 'file_size', 'creation_date', 'last_modified_date', 'last_accessed_date'], excluded_llm_metadata_keys=['file_name', 'file_type', 'file_size', 'creation_date', 'last_modified_date', 'last_accessed_date'], relationships={<NodeRelationship.SOURCE: '1'>: RelatedNodeInfo(node_id='/Users/zhaoxuefeng/Documents/Project/docs/zxfpro.github.io/slc/研究者/gpt_coder/pdfs/寡姐带货国风Polo衫，马斯克穿牛仔走红毯！虚拟试衣新框架火了.pdf_part_1', node_type=<ObjectType.DOCUMENT: '4'>, metadata={'page_label': '2', 'file_name': '寡姐带货国风Polo衫，马斯克穿牛仔走红毯！虚拟试衣新框架火了.pdf', 'file_path': '/Users/zhaoxuefeng/Documents/Project/docs/zxfpro.github.io/slc/研究者/gpt_coder/pdfs/寡姐带货国风Polo衫，马斯克穿牛仔走红毯！虚拟试衣新框架火了.pdf', 'file_type': 'application/pdf', 'file_size': 3212876, 'creation_date': '2024-08-01', 'last_modified_date': '2024-08-01'}, hash='ec69ff89b6dcdcededa4397774ddb1d13b6edde14a4dd1de4dd458a724828e0b'), <NodeRelationship.PREVIOUS: '2'>: RelatedNodeInfo(node_id='2676b484-e7b5-4aa2-91cf-742bea46233d', node_type=<ObjectType.TEXT: '1'>, metadata={'page_label': '1', 'file_name': '寡姐带货国风Polo衫，马斯克穿牛仔走红毯！虚拟试衣新框架火了.pdf', 'file_path': '/Users/zhaoxuefeng/Documents/Project/docs/zxfpro.github.io/slc/研究者/gpt_coder/pdfs/寡姐带货国风Polo衫，马斯克穿牛仔走红毯！虚拟试衣新框架火了.pdf', 'file_type': 'application/pdf', 'file_size': 3212876, 'creation_date': '2024-08-01', 'last_modified_date': '2024-08-01'}, hash='7f9e6634028d615fcb24480200367822af6142e5c1b94fd5193dc5f50e719c91'), <NodeRelationship.NEXT: '3'>: RelatedNodeInfo(node_id='903ea2a7-eeea-4179-b693-068027720a1a', node_type=<ObjectType.TEXT: '1'>, metadata={}, hash='490ab4b7f2ff2d2eea73af697383d43b9c84edc60560a6d5437dd6a355c81da4')}, text='AI创作 线上活动合辑 量⼦位·视点 量⼦位活动合辑AI加持创作，「⼩说-剧本-视频」只需⼀⼈全搞\\n定｜对话波形智能\\n8⽉1⽇19:00，欢迎围观～\\n林樾 4⼩时前\\n 360ISC.AI 2024周鸿祎：落地安全⼤模型的关键是\\n找准“明星场景”\\n打造安全⼤模型 引领安全⾏业⾰命\\n量⼦位 5⼩时前\\n 通义千问 阿⾥云阿⾥通义免费开放奥运AI⼤模型\\n只需简单提问，就能获得详尽且专业的答案\\n量⼦位 22⼩时前\\n AI机器⼈ 星尘智能⼈形机器⼈「星尘智能」获数千万美元Pre-A轮\\n融资，经纬创投领投\\n星尘智能于2 022年12⽉在深圳成⽴，专注研发“ 新⼀代最强A I机器⼈助理”\\n⻥⽺ 昨天 16:07\\n Llama 3.1 李沐失联⼤神李沐B站复更：领读Llama 3.1论⽂；竞\\n技场Llama 3.1排第三\\n还分享了A I⼋卦\\n⼀⽔ 昨天 16:03\\n AI绘画 MidjourneyMidjourney新版本上线即爆⽕！⽹友已玩疯：和\\n摄影⼏乎没区别\\n⼋⼤升级来了\\n明敏 昨天 15:30\\n csdnCSDN「智研社-The Intelliger」共话⼤模型技\\n术演进与 AI Infra 创新\\n进⾏ AGI 相关前沿科技的深⼊探讨\\n量⼦位 昨天 15:26\\n Anthropic Claude 爬⾍Claude团队引众怒，为爬数据不择⼿段，给爬⾍\\n改名字⽆视禁⽌规则\\n群情激愤：⼩偷！\\n衡宇 昨天 15:24\\n超精细开放世界藏进⼩程序，他们⽤游戏技术复\\n刻北京中轴线，穿越古今的那种', start_char_idx=1, end_char_idx=647, text_template='{metadata_str}\\n\\n{content}', metadata_template='{key}: {value}', metadata_seperator='\\n'),\n",
       " TextNode(id_='903ea2a7-eeea-4179-b693-068027720a1a', embedding=None, metadata={'page_label': '3', 'file_name': '寡姐带货国风Polo衫，马斯克穿牛仔走红毯！虚拟试衣新框架火了.pdf', 'file_path': '/Users/zhaoxuefeng/Documents/Project/docs/zxfpro.github.io/slc/研究者/gpt_coder/pdfs/寡姐带货国风Polo衫，马斯克穿牛仔走红毯！虚拟试衣新框架火了.pdf', 'file_type': 'application/pdf', 'file_size': 3212876, 'creation_date': '2024-08-01', 'last_modified_date': '2024-08-01'}, excluded_embed_metadata_keys=['file_name', 'file_type', 'file_size', 'creation_date', 'last_modified_date', 'last_accessed_date'], excluded_llm_metadata_keys=['file_name', 'file_type', 'file_size', 'creation_date', 'last_modified_date', 'last_accessed_date'], relationships={<NodeRelationship.SOURCE: '1'>: RelatedNodeInfo(node_id='/Users/zhaoxuefeng/Documents/Project/docs/zxfpro.github.io/slc/研究者/gpt_coder/pdfs/寡姐带货国风Polo衫，马斯克穿牛仔走红毯！虚拟试衣新框架火了.pdf_part_2', node_type=<ObjectType.DOCUMENT: '4'>, metadata={'page_label': '3', 'file_name': '寡姐带货国风Polo衫，马斯克穿牛仔走红毯！虚拟试衣新框架火了.pdf', 'file_path': '/Users/zhaoxuefeng/Documents/Project/docs/zxfpro.github.io/slc/研究者/gpt_coder/pdfs/寡姐带货国风Polo衫，马斯克穿牛仔走红毯！虚拟试衣新框架火了.pdf', 'file_type': 'application/pdf', 'file_size': 3212876, 'creation_date': '2024-08-01', 'last_modified_date': '2024-08-01'}, hash='f7df4b6ee96dea4099238e79d8f1425a4f12f581015fb1d252b0682523335cfc'), <NodeRelationship.PREVIOUS: '2'>: RelatedNodeInfo(node_id='b9eb451d-d0c7-4a05-a069-3c1dbaa77898', node_type=<ObjectType.TEXT: '1'>, metadata={'page_label': '2', 'file_name': '寡姐带货国风Polo衫，马斯克穿牛仔走红毯！虚拟试衣新框架火了.pdf', 'file_path': '/Users/zhaoxuefeng/Documents/Project/docs/zxfpro.github.io/slc/研究者/gpt_coder/pdfs/寡姐带货国风Polo衫，马斯克穿牛仔走红毯！虚拟试衣新框架火了.pdf', 'file_type': 'application/pdf', 'file_size': 3212876, 'creation_date': '2024-08-01', 'last_modified_date': '2024-08-01'}, hash='4e85f7d77db04f56332c5b4dc8936a27cc9f76204235e251c26c4aca60db65a3'), <NodeRelationship.NEXT: '3'>: RelatedNodeInfo(node_id='9eeeb4de-30c3-4d1a-9e0f-6c385e765be4', node_type=<ObjectType.TEXT: '1'>, metadata={}, hash='4263f5c5774f05cf3ad5af65ae72c67d9e23170ffb9c55f4f5fba064790e5d09')}, text='关于量⼦位|加⼊我们|寻求报道|商务合作\\n   追踪⼈⼯智能新趋势，报道科技⾏业新突破\\n量⼦位 QbitAI 版权所有© 北京极客伙伴科技有限公司 京ICP备17005886号-1加载更多\\n 北京中轴线 游戏技术你以为的游戏早已不是你以为的游戏\\n⻥⽺ 昨天 15:24\\n 中⼭⼤学 虚拟试⾐寡姐带货国⻛Polo衫，⻢斯克穿⽜仔⾛红毯！虚\\n拟试⾐新框架⽕了\\n只需两张图像，不到3 0秒⽣成\\n⽩交 昨天 14:53\\n ⼩鹏汽⻋何⼩鹏：端到端今年投35亿，2天迭代⼀次，可\\n实现「⻔到⻔」体验\\n何⼩鹏开喷“周销量榜”\\n贾浩楠 前天 22:40\\n 苹果苹果AI版iOS⾸⽇⽕爆：聊天秒变⾼情商，⼤模\\n型成最强嘴替，Siri华丽变身\\n还有4 7⻚⼤模型技术报告出炉\\n克雷⻄ 前天 16:17\\n 阿⾥云阿⾥云修复100年前巴黎奥运珍贵影像，国际奥\\n委会主席巴赫致谢！\\n国际奥委会⾸次公布了19 24巴黎奥运的珍贵影像\\n量⼦位 前天 15:33', start_char_idx=0, end_char_idx=415, text_template='{metadata_str}\\n\\n{content}', metadata_template='{key}: {value}', metadata_seperator='\\n'),\n",
       " TextNode(id_='9eeeb4de-30c3-4d1a-9e0f-6c385e765be4', embedding=None, metadata={'page_label': '1', 'file_name': '想跑千亿大模型？算力厂商放大招！CPU通用服务器成为新选择.pdf', 'file_path': '/Users/zhaoxuefeng/Documents/Project/docs/zxfpro.github.io/slc/研究者/gpt_coder/pdfs/想跑千亿大模型？算力厂商放大招！CPU通用服务器成为新选择.pdf', 'file_type': 'application/pdf', 'file_size': 3212876, 'creation_date': '2024-08-01', 'last_modified_date': '2024-08-01'}, excluded_embed_metadata_keys=['file_name', 'file_type', 'file_size', 'creation_date', 'last_modified_date', 'last_accessed_date'], excluded_llm_metadata_keys=['file_name', 'file_type', 'file_size', 'creation_date', 'last_modified_date', 'last_accessed_date'], relationships={<NodeRelationship.SOURCE: '1'>: RelatedNodeInfo(node_id='/Users/zhaoxuefeng/Documents/Project/docs/zxfpro.github.io/slc/研究者/gpt_coder/pdfs/想跑千亿大模型？算力厂商放大招！CPU通用服务器成为新选择.pdf_part_0', node_type=<ObjectType.DOCUMENT: '4'>, metadata={'page_label': '1', 'file_name': '想跑千亿大模型？算力厂商放大招！CPU通用服务器成为新选择.pdf', 'file_path': '/Users/zhaoxuefeng/Documents/Project/docs/zxfpro.github.io/slc/研究者/gpt_coder/pdfs/想跑千亿大模型？算力厂商放大招！CPU通用服务器成为新选择.pdf', 'file_type': 'application/pdf', 'file_size': 3212876, 'creation_date': '2024-08-01', 'last_modified_date': '2024-08-01'}, hash='130ad6f0bc939b275786b3a55e5630eaf846d7dcd79acb3d176c5a878659e3e5'), <NodeRelationship.PREVIOUS: '2'>: RelatedNodeInfo(node_id='903ea2a7-eeea-4179-b693-068027720a1a', node_type=<ObjectType.TEXT: '1'>, metadata={'page_label': '3', 'file_name': '寡姐带货国风Polo衫，马斯克穿牛仔走红毯！虚拟试衣新框架火了.pdf', 'file_path': '/Users/zhaoxuefeng/Documents/Project/docs/zxfpro.github.io/slc/研究者/gpt_coder/pdfs/寡姐带货国风Polo衫，马斯克穿牛仔走红毯！虚拟试衣新框架火了.pdf', 'file_type': 'application/pdf', 'file_size': 3212876, 'creation_date': '2024-08-01', 'last_modified_date': '2024-08-01'}, hash='f7df4b6ee96dea4099238e79d8f1425a4f12f581015fb1d252b0682523335cfc'), <NodeRelationship.NEXT: '3'>: RelatedNodeInfo(node_id='33aa5433-2f9b-4f5f-93f2-7e76b384fcc9', node_type=<ObjectType.TEXT: '1'>, metadata={}, hash='4a016bba67b13826afaaced1dab29e465769f729343882b337a602f2a291d118')}, text='资讯热⻔⽂章\\n 360 isc周鸿祎ISC发布国内⾸个免费安全⼤模型 安全能\\n⼒超越GPT-4\\n其安全垂直能⼒已超过G PT-4\\n量⼦位 19分钟前\\n CPU 服务器想跑千亿⼤模型？算⼒⼚商放⼤招！CPU通⽤服\\n务器成为新选择\\n不⽤A I加速卡，只⽤4 颗CPU\\n克雷⻄ 25分钟前\\n arXiv 公开评审 斯坦福吴恩达弟⼦打造arXiv弹幕版，每篇论⽂都能⾃\\n由讨论了！\\n⽹友 ：这才是学术圈该有的样⼦！\\n明敏 2⼩时前\\n ChatGPT GPT-4o OpenAIChatGPT版「Her」被玩疯：哭着读诗，中⽂表\\n现也很亮\\n还能超快数1- 100\\n⼗三 2⼩时前\\n ⼤模型 ⽂⼼⼀⾔ 百度 ⻜桨⻜桨框架进阶3.0！⼀⽂讲透“⼤模型训推⼀体”\\n等五⼤新特性\\n为产学研各界提供稳定⽀持\\n⼗三 2⼩时前\\n 中国科学院数学与系统科学研究院 陈景润奖⾸届陈景润奖颁发！90后⼭⼤教授和84年中科\\n院研究员研究成果获奖\\n数论与代数⽅向新⽣代⼤奖\\n⻄⻛ 3⼩时前\\n CNN ⼤模型贾扬清：⼤模型尺⼨正重⾛CNN的⽼路；⻢斯\\n克：在特斯拉也是这样\\n开始反着卷了\\n衡宇 3⼩时前\\nOpenAI推出新AI搜索，⽼伙\\n计微软也默默更新了Bing\\n2024-07-26\\n字节⾖包上线吴敏霞、林丹\\n等专属智能体 奥运冠军AI…\\n2024-07-26\\n联想CTO换帅！芮勇转任新\\n集团总裁，瞄准新兴技术\\n2024-07-26\\n智平⽅打通具身智能核⼼痛\\n点：将AGI拓展到物理世界\\n2024-07-26\\n商汤科技⽇⽇新⼤模型亮相\\n巴黎，中国AI共赴奥运之约\\n2024-07-26', start_char_idx=0, end_char_idx=677, text_template='{metadata_str}\\n\\n{content}', metadata_template='{key}: {value}', metadata_seperator='\\n'),\n",
       " TextNode(id_='33aa5433-2f9b-4f5f-93f2-7e76b384fcc9', embedding=None, metadata={'page_label': '2', 'file_name': '想跑千亿大模型？算力厂商放大招！CPU通用服务器成为新选择.pdf', 'file_path': '/Users/zhaoxuefeng/Documents/Project/docs/zxfpro.github.io/slc/研究者/gpt_coder/pdfs/想跑千亿大模型？算力厂商放大招！CPU通用服务器成为新选择.pdf', 'file_type': 'application/pdf', 'file_size': 3212876, 'creation_date': '2024-08-01', 'last_modified_date': '2024-08-01'}, excluded_embed_metadata_keys=['file_name', 'file_type', 'file_size', 'creation_date', 'last_modified_date', 'last_accessed_date'], excluded_llm_metadata_keys=['file_name', 'file_type', 'file_size', 'creation_date', 'last_modified_date', 'last_accessed_date'], relationships={<NodeRelationship.SOURCE: '1'>: RelatedNodeInfo(node_id='/Users/zhaoxuefeng/Documents/Project/docs/zxfpro.github.io/slc/研究者/gpt_coder/pdfs/想跑千亿大模型？算力厂商放大招！CPU通用服务器成为新选择.pdf_part_1', node_type=<ObjectType.DOCUMENT: '4'>, metadata={'page_label': '2', 'file_name': '想跑千亿大模型？算力厂商放大招！CPU通用服务器成为新选择.pdf', 'file_path': '/Users/zhaoxuefeng/Documents/Project/docs/zxfpro.github.io/slc/研究者/gpt_coder/pdfs/想跑千亿大模型？算力厂商放大招！CPU通用服务器成为新选择.pdf', 'file_type': 'application/pdf', 'file_size': 3212876, 'creation_date': '2024-08-01', 'last_modified_date': '2024-08-01'}, hash='65da0d9a6ebd48fb51a82f51aa29d9836820cc5f82c627a954269cf81f6cab35'), <NodeRelationship.PREVIOUS: '2'>: RelatedNodeInfo(node_id='9eeeb4de-30c3-4d1a-9e0f-6c385e765be4', node_type=<ObjectType.TEXT: '1'>, metadata={'page_label': '1', 'file_name': '想跑千亿大模型？算力厂商放大招！CPU通用服务器成为新选择.pdf', 'file_path': '/Users/zhaoxuefeng/Documents/Project/docs/zxfpro.github.io/slc/研究者/gpt_coder/pdfs/想跑千亿大模型？算力厂商放大招！CPU通用服务器成为新选择.pdf', 'file_type': 'application/pdf', 'file_size': 3212876, 'creation_date': '2024-08-01', 'last_modified_date': '2024-08-01'}, hash='130ad6f0bc939b275786b3a55e5630eaf846d7dcd79acb3d176c5a878659e3e5'), <NodeRelationship.NEXT: '3'>: RelatedNodeInfo(node_id='fb1a3243-687e-4c81-9a59-62cc0516bab8', node_type=<ObjectType.TEXT: '1'>, metadata={}, hash='490ab4b7f2ff2d2eea73af697383d43b9c84edc60560a6d5437dd6a355c81da4')}, text='AI创作 线上活动合辑 量⼦位·视点 量⼦位活动合辑AI加持创作，「⼩说-剧本-视频」只需⼀⼈全搞\\n定｜对话波形智能\\n8⽉1⽇19:00，欢迎围观～\\n林樾 4⼩时前\\n 360ISC.AI 2024周鸿祎：落地安全⼤模型的关键是\\n找准“明星场景”\\n打造安全⼤模型 引领安全⾏业⾰命\\n量⼦位 5⼩时前\\n 通义千问 阿⾥云阿⾥通义免费开放奥运AI⼤模型\\n只需简单提问，就能获得详尽且专业的答案\\n量⼦位 22⼩时前\\n AI机器⼈ 星尘智能⼈形机器⼈「星尘智能」获数千万美元Pre-A轮\\n融资，经纬创投领投\\n星尘智能于2 022年12⽉在深圳成⽴，专注研发“ 新⼀代最强A I机器⼈助理”\\n⻥⽺ 昨天 16:07\\n Llama 3.1 李沐失联⼤神李沐B站复更：领读Llama 3.1论⽂；竞\\n技场Llama 3.1排第三\\n还分享了A I⼋卦\\n⼀⽔ 昨天 16:03\\n AI绘画 MidjourneyMidjourney新版本上线即爆⽕！⽹友已玩疯：和\\n摄影⼏乎没区别\\n⼋⼤升级来了\\n明敏 昨天 15:30\\n csdnCSDN「智研社-The Intelliger」共话⼤模型技\\n术演进与 AI Infra 创新\\n进⾏ AGI 相关前沿科技的深⼊探讨\\n量⼦位 昨天 15:26\\n Anthropic Claude 爬⾍Claude团队引众怒，为爬数据不择⼿段，给爬⾍\\n改名字⽆视禁⽌规则\\n群情激愤：⼩偷！\\n衡宇 昨天 15:24\\n超精细开放世界藏进⼩程序，他们⽤游戏技术复\\n刻北京中轴线，穿越古今的那种', start_char_idx=1, end_char_idx=647, text_template='{metadata_str}\\n\\n{content}', metadata_template='{key}: {value}', metadata_seperator='\\n'),\n",
       " TextNode(id_='fb1a3243-687e-4c81-9a59-62cc0516bab8', embedding=None, metadata={'page_label': '3', 'file_name': '想跑千亿大模型？算力厂商放大招！CPU通用服务器成为新选择.pdf', 'file_path': '/Users/zhaoxuefeng/Documents/Project/docs/zxfpro.github.io/slc/研究者/gpt_coder/pdfs/想跑千亿大模型？算力厂商放大招！CPU通用服务器成为新选择.pdf', 'file_type': 'application/pdf', 'file_size': 3212876, 'creation_date': '2024-08-01', 'last_modified_date': '2024-08-01'}, excluded_embed_metadata_keys=['file_name', 'file_type', 'file_size', 'creation_date', 'last_modified_date', 'last_accessed_date'], excluded_llm_metadata_keys=['file_name', 'file_type', 'file_size', 'creation_date', 'last_modified_date', 'last_accessed_date'], relationships={<NodeRelationship.SOURCE: '1'>: RelatedNodeInfo(node_id='/Users/zhaoxuefeng/Documents/Project/docs/zxfpro.github.io/slc/研究者/gpt_coder/pdfs/想跑千亿大模型？算力厂商放大招！CPU通用服务器成为新选择.pdf_part_2', node_type=<ObjectType.DOCUMENT: '4'>, metadata={'page_label': '3', 'file_name': '想跑千亿大模型？算力厂商放大招！CPU通用服务器成为新选择.pdf', 'file_path': '/Users/zhaoxuefeng/Documents/Project/docs/zxfpro.github.io/slc/研究者/gpt_coder/pdfs/想跑千亿大模型？算力厂商放大招！CPU通用服务器成为新选择.pdf', 'file_type': 'application/pdf', 'file_size': 3212876, 'creation_date': '2024-08-01', 'last_modified_date': '2024-08-01'}, hash='f4bbf3d75f2217d74255c2a5a9c81bf97220396aec5617ec4e968d94df22628c'), <NodeRelationship.PREVIOUS: '2'>: RelatedNodeInfo(node_id='33aa5433-2f9b-4f5f-93f2-7e76b384fcc9', node_type=<ObjectType.TEXT: '1'>, metadata={'page_label': '2', 'file_name': '想跑千亿大模型？算力厂商放大招！CPU通用服务器成为新选择.pdf', 'file_path': '/Users/zhaoxuefeng/Documents/Project/docs/zxfpro.github.io/slc/研究者/gpt_coder/pdfs/想跑千亿大模型？算力厂商放大招！CPU通用服务器成为新选择.pdf', 'file_type': 'application/pdf', 'file_size': 3212876, 'creation_date': '2024-08-01', 'last_modified_date': '2024-08-01'}, hash='a03abe5d883a5bea513c20c20c7794dba27b5eb01eaada6f4001cfbecad4ad85'), <NodeRelationship.NEXT: '3'>: RelatedNodeInfo(node_id='61f6633d-062d-4ad5-b9c5-aa5648fb905d', node_type=<ObjectType.TEXT: '1'>, metadata={}, hash='4263f5c5774f05cf3ad5af65ae72c67d9e23170ffb9c55f4f5fba064790e5d09')}, text='关于量⼦位|加⼊我们|寻求报道|商务合作\\n   追踪⼈⼯智能新趋势，报道科技⾏业新突破\\n量⼦位 QbitAI 版权所有© 北京极客伙伴科技有限公司 京ICP备17005886号-1加载更多\\n 北京中轴线 游戏技术你以为的游戏早已不是你以为的游戏\\n⻥⽺ 昨天 15:24\\n 中⼭⼤学 虚拟试⾐寡姐带货国⻛Polo衫，⻢斯克穿⽜仔⾛红毯！虚\\n拟试⾐新框架⽕了\\n只需两张图像，不到3 0秒⽣成\\n⽩交 昨天 14:53\\n ⼩鹏汽⻋何⼩鹏：端到端今年投35亿，2天迭代⼀次，可\\n实现「⻔到⻔」体验\\n何⼩鹏开喷“周销量榜”\\n贾浩楠 前天 22:40\\n 苹果苹果AI版iOS⾸⽇⽕爆：聊天秒变⾼情商，⼤模\\n型成最强嘴替，Siri华丽变身\\n还有4 7⻚⼤模型技术报告出炉\\n克雷⻄ 前天 16:17\\n 阿⾥云阿⾥云修复100年前巴黎奥运珍贵影像，国际奥\\n委会主席巴赫致谢！\\n国际奥委会⾸次公布了19 24巴黎奥运的珍贵影像\\n量⼦位 前天 15:33', start_char_idx=0, end_char_idx=415, text_template='{metadata_str}\\n\\n{content}', metadata_template='{key}: {value}', metadata_seperator='\\n'),\n",
       " TextNode(id_='61f6633d-062d-4ad5-b9c5-aa5648fb905d', embedding=None, metadata={'page_label': '1', 'file_name': '苹果AI版iOS首日火爆：聊天秒变高情商，大模型成最强嘴替，Siri华丽变身.pdf', 'file_path': '/Users/zhaoxuefeng/Documents/Project/docs/zxfpro.github.io/slc/研究者/gpt_coder/pdfs/苹果AI版iOS首日火爆：聊天秒变高情商，大模型成最强嘴替，Siri华丽变身.pdf', 'file_type': 'application/pdf', 'file_size': 3212876, 'creation_date': '2024-08-01', 'last_modified_date': '2024-08-01'}, excluded_embed_metadata_keys=['file_name', 'file_type', 'file_size', 'creation_date', 'last_modified_date', 'last_accessed_date'], excluded_llm_metadata_keys=['file_name', 'file_type', 'file_size', 'creation_date', 'last_modified_date', 'last_accessed_date'], relationships={<NodeRelationship.SOURCE: '1'>: RelatedNodeInfo(node_id='/Users/zhaoxuefeng/Documents/Project/docs/zxfpro.github.io/slc/研究者/gpt_coder/pdfs/苹果AI版iOS首日火爆：聊天秒变高情商，大模型成最强嘴替，Siri华丽变身.pdf_part_0', node_type=<ObjectType.DOCUMENT: '4'>, metadata={'page_label': '1', 'file_name': '苹果AI版iOS首日火爆：聊天秒变高情商，大模型成最强嘴替，Siri华丽变身.pdf', 'file_path': '/Users/zhaoxuefeng/Documents/Project/docs/zxfpro.github.io/slc/研究者/gpt_coder/pdfs/苹果AI版iOS首日火爆：聊天秒变高情商，大模型成最强嘴替，Siri华丽变身.pdf', 'file_type': 'application/pdf', 'file_size': 3212876, 'creation_date': '2024-08-01', 'last_modified_date': '2024-08-01'}, hash='32dc77a30ead69ceeb52b7624e9f09701f8d219cdbb40aad372e5abb0fac01d9'), <NodeRelationship.PREVIOUS: '2'>: RelatedNodeInfo(node_id='fb1a3243-687e-4c81-9a59-62cc0516bab8', node_type=<ObjectType.TEXT: '1'>, metadata={'page_label': '3', 'file_name': '想跑千亿大模型？算力厂商放大招！CPU通用服务器成为新选择.pdf', 'file_path': '/Users/zhaoxuefeng/Documents/Project/docs/zxfpro.github.io/slc/研究者/gpt_coder/pdfs/想跑千亿大模型？算力厂商放大招！CPU通用服务器成为新选择.pdf', 'file_type': 'application/pdf', 'file_size': 3212876, 'creation_date': '2024-08-01', 'last_modified_date': '2024-08-01'}, hash='f4bbf3d75f2217d74255c2a5a9c81bf97220396aec5617ec4e968d94df22628c'), <NodeRelationship.NEXT: '3'>: RelatedNodeInfo(node_id='a8bf1b9c-8afa-4840-a6a5-2228f4de4b89', node_type=<ObjectType.TEXT: '1'>, metadata={}, hash='4a016bba67b13826afaaced1dab29e465769f729343882b337a602f2a291d118')}, text='资讯热⻔⽂章\\n 360 isc周鸿祎ISC发布国内⾸个免费安全⼤模型 安全能\\n⼒超越GPT-4\\n其安全垂直能⼒已超过G PT-4\\n量⼦位 19分钟前\\n CPU 服务器想跑千亿⼤模型？算⼒⼚商放⼤招！CPU通⽤服\\n务器成为新选择\\n不⽤A I加速卡，只⽤4 颗CPU\\n克雷⻄ 25分钟前\\n arXiv 公开评审 斯坦福吴恩达弟⼦打造arXiv弹幕版，每篇论⽂都能⾃\\n由讨论了！\\n⽹友 ：这才是学术圈该有的样⼦！\\n明敏 2⼩时前\\n ChatGPT GPT-4o OpenAIChatGPT版「Her」被玩疯：哭着读诗，中⽂表\\n现也很亮\\n还能超快数1- 100\\n⼗三 2⼩时前\\n ⼤模型 ⽂⼼⼀⾔ 百度 ⻜桨⻜桨框架进阶3.0！⼀⽂讲透“⼤模型训推⼀体”\\n等五⼤新特性\\n为产学研各界提供稳定⽀持\\n⼗三 2⼩时前\\n 中国科学院数学与系统科学研究院 陈景润奖⾸届陈景润奖颁发！90后⼭⼤教授和84年中科\\n院研究员研究成果获奖\\n数论与代数⽅向新⽣代⼤奖\\n⻄⻛ 3⼩时前\\n CNN ⼤模型贾扬清：⼤模型尺⼨正重⾛CNN的⽼路；⻢斯\\n克：在特斯拉也是这样\\n开始反着卷了\\n衡宇 3⼩时前\\nOpenAI推出新AI搜索，⽼伙\\n计微软也默默更新了Bing\\n2024-07-26\\n字节⾖包上线吴敏霞、林丹\\n等专属智能体 奥运冠军AI…\\n2024-07-26\\n联想CTO换帅！芮勇转任新\\n集团总裁，瞄准新兴技术\\n2024-07-26\\n智平⽅打通具身智能核⼼痛\\n点：将AGI拓展到物理世界\\n2024-07-26\\n商汤科技⽇⽇新⼤模型亮相\\n巴黎，中国AI共赴奥运之约\\n2024-07-26', start_char_idx=0, end_char_idx=677, text_template='{metadata_str}\\n\\n{content}', metadata_template='{key}: {value}', metadata_seperator='\\n'),\n",
       " TextNode(id_='a8bf1b9c-8afa-4840-a6a5-2228f4de4b89', embedding=None, metadata={'page_label': '2', 'file_name': '苹果AI版iOS首日火爆：聊天秒变高情商，大模型成最强嘴替，Siri华丽变身.pdf', 'file_path': '/Users/zhaoxuefeng/Documents/Project/docs/zxfpro.github.io/slc/研究者/gpt_coder/pdfs/苹果AI版iOS首日火爆：聊天秒变高情商，大模型成最强嘴替，Siri华丽变身.pdf', 'file_type': 'application/pdf', 'file_size': 3212876, 'creation_date': '2024-08-01', 'last_modified_date': '2024-08-01'}, excluded_embed_metadata_keys=['file_name', 'file_type', 'file_size', 'creation_date', 'last_modified_date', 'last_accessed_date'], excluded_llm_metadata_keys=['file_name', 'file_type', 'file_size', 'creation_date', 'last_modified_date', 'last_accessed_date'], relationships={<NodeRelationship.SOURCE: '1'>: RelatedNodeInfo(node_id='/Users/zhaoxuefeng/Documents/Project/docs/zxfpro.github.io/slc/研究者/gpt_coder/pdfs/苹果AI版iOS首日火爆：聊天秒变高情商，大模型成最强嘴替，Siri华丽变身.pdf_part_1', node_type=<ObjectType.DOCUMENT: '4'>, metadata={'page_label': '2', 'file_name': '苹果AI版iOS首日火爆：聊天秒变高情商，大模型成最强嘴替，Siri华丽变身.pdf', 'file_path': '/Users/zhaoxuefeng/Documents/Project/docs/zxfpro.github.io/slc/研究者/gpt_coder/pdfs/苹果AI版iOS首日火爆：聊天秒变高情商，大模型成最强嘴替，Siri华丽变身.pdf', 'file_type': 'application/pdf', 'file_size': 3212876, 'creation_date': '2024-08-01', 'last_modified_date': '2024-08-01'}, hash='26f9fb0fc8edc09c2833b637ed31750e76ef9ac34d7b192f837c8cda41fca41a'), <NodeRelationship.PREVIOUS: '2'>: RelatedNodeInfo(node_id='61f6633d-062d-4ad5-b9c5-aa5648fb905d', node_type=<ObjectType.TEXT: '1'>, metadata={'page_label': '1', 'file_name': '苹果AI版iOS首日火爆：聊天秒变高情商，大模型成最强嘴替，Siri华丽变身.pdf', 'file_path': '/Users/zhaoxuefeng/Documents/Project/docs/zxfpro.github.io/slc/研究者/gpt_coder/pdfs/苹果AI版iOS首日火爆：聊天秒变高情商，大模型成最强嘴替，Siri华丽变身.pdf', 'file_type': 'application/pdf', 'file_size': 3212876, 'creation_date': '2024-08-01', 'last_modified_date': '2024-08-01'}, hash='32dc77a30ead69ceeb52b7624e9f09701f8d219cdbb40aad372e5abb0fac01d9'), <NodeRelationship.NEXT: '3'>: RelatedNodeInfo(node_id='6f8aa3c1-a5fb-4476-820d-bd12e87fa92c', node_type=<ObjectType.TEXT: '1'>, metadata={}, hash='490ab4b7f2ff2d2eea73af697383d43b9c84edc60560a6d5437dd6a355c81da4')}, text='AI创作 线上活动合辑 量⼦位·视点 量⼦位活动合辑AI加持创作，「⼩说-剧本-视频」只需⼀⼈全搞\\n定｜对话波形智能\\n8⽉1⽇19:00，欢迎围观～\\n林樾 4⼩时前\\n 360ISC.AI 2024周鸿祎：落地安全⼤模型的关键是\\n找准“明星场景”\\n打造安全⼤模型 引领安全⾏业⾰命\\n量⼦位 5⼩时前\\n 通义千问 阿⾥云阿⾥通义免费开放奥运AI⼤模型\\n只需简单提问，就能获得详尽且专业的答案\\n量⼦位 22⼩时前\\n AI机器⼈ 星尘智能⼈形机器⼈「星尘智能」获数千万美元Pre-A轮\\n融资，经纬创投领投\\n星尘智能于2 022年12⽉在深圳成⽴，专注研发“ 新⼀代最强A I机器⼈助理”\\n⻥⽺ 昨天 16:07\\n Llama 3.1 李沐失联⼤神李沐B站复更：领读Llama 3.1论⽂；竞\\n技场Llama 3.1排第三\\n还分享了A I⼋卦\\n⼀⽔ 昨天 16:03\\n AI绘画 MidjourneyMidjourney新版本上线即爆⽕！⽹友已玩疯：和\\n摄影⼏乎没区别\\n⼋⼤升级来了\\n明敏 昨天 15:30\\n csdnCSDN「智研社-The Intelliger」共话⼤模型技\\n术演进与 AI Infra 创新\\n进⾏ AGI 相关前沿科技的深⼊探讨\\n量⼦位 昨天 15:26\\n Anthropic Claude 爬⾍Claude团队引众怒，为爬数据不择⼿段，给爬⾍\\n改名字⽆视禁⽌规则\\n群情激愤：⼩偷！\\n衡宇 昨天 15:24\\n超精细开放世界藏进⼩程序，他们⽤游戏技术复\\n刻北京中轴线，穿越古今的那种', start_char_idx=1, end_char_idx=647, text_template='{metadata_str}\\n\\n{content}', metadata_template='{key}: {value}', metadata_seperator='\\n'),\n",
       " TextNode(id_='6f8aa3c1-a5fb-4476-820d-bd12e87fa92c', embedding=None, metadata={'page_label': '3', 'file_name': '苹果AI版iOS首日火爆：聊天秒变高情商，大模型成最强嘴替，Siri华丽变身.pdf', 'file_path': '/Users/zhaoxuefeng/Documents/Project/docs/zxfpro.github.io/slc/研究者/gpt_coder/pdfs/苹果AI版iOS首日火爆：聊天秒变高情商，大模型成最强嘴替，Siri华丽变身.pdf', 'file_type': 'application/pdf', 'file_size': 3212876, 'creation_date': '2024-08-01', 'last_modified_date': '2024-08-01'}, excluded_embed_metadata_keys=['file_name', 'file_type', 'file_size', 'creation_date', 'last_modified_date', 'last_accessed_date'], excluded_llm_metadata_keys=['file_name', 'file_type', 'file_size', 'creation_date', 'last_modified_date', 'last_accessed_date'], relationships={<NodeRelationship.SOURCE: '1'>: RelatedNodeInfo(node_id='/Users/zhaoxuefeng/Documents/Project/docs/zxfpro.github.io/slc/研究者/gpt_coder/pdfs/苹果AI版iOS首日火爆：聊天秒变高情商，大模型成最强嘴替，Siri华丽变身.pdf_part_2', node_type=<ObjectType.DOCUMENT: '4'>, metadata={'page_label': '3', 'file_name': '苹果AI版iOS首日火爆：聊天秒变高情商，大模型成最强嘴替，Siri华丽变身.pdf', 'file_path': '/Users/zhaoxuefeng/Documents/Project/docs/zxfpro.github.io/slc/研究者/gpt_coder/pdfs/苹果AI版iOS首日火爆：聊天秒变高情商，大模型成最强嘴替，Siri华丽变身.pdf', 'file_type': 'application/pdf', 'file_size': 3212876, 'creation_date': '2024-08-01', 'last_modified_date': '2024-08-01'}, hash='9fc96411f29b3564b925fbb2b9d8e8491ba2776bd520cff017d76c45cb4ca333'), <NodeRelationship.PREVIOUS: '2'>: RelatedNodeInfo(node_id='a8bf1b9c-8afa-4840-a6a5-2228f4de4b89', node_type=<ObjectType.TEXT: '1'>, metadata={'page_label': '2', 'file_name': '苹果AI版iOS首日火爆：聊天秒变高情商，大模型成最强嘴替，Siri华丽变身.pdf', 'file_path': '/Users/zhaoxuefeng/Documents/Project/docs/zxfpro.github.io/slc/研究者/gpt_coder/pdfs/苹果AI版iOS首日火爆：聊天秒变高情商，大模型成最强嘴替，Siri华丽变身.pdf', 'file_type': 'application/pdf', 'file_size': 3212876, 'creation_date': '2024-08-01', 'last_modified_date': '2024-08-01'}, hash='348720dc5a2b00a37ce61790be96b1133dd94c36dc41c84f472e4822f08774b7'), <NodeRelationship.NEXT: '3'>: RelatedNodeInfo(node_id='1ac8ce21-de54-472b-bfbc-4fe75b687b9d', node_type=<ObjectType.TEXT: '1'>, metadata={}, hash='4263f5c5774f05cf3ad5af65ae72c67d9e23170ffb9c55f4f5fba064790e5d09')}, text='关于量⼦位|加⼊我们|寻求报道|商务合作\\n   追踪⼈⼯智能新趋势，报道科技⾏业新突破\\n量⼦位 QbitAI 版权所有© 北京极客伙伴科技有限公司 京ICP备17005886号-1加载更多\\n 北京中轴线 游戏技术你以为的游戏早已不是你以为的游戏\\n⻥⽺ 昨天 15:24\\n 中⼭⼤学 虚拟试⾐寡姐带货国⻛Polo衫，⻢斯克穿⽜仔⾛红毯！虚\\n拟试⾐新框架⽕了\\n只需两张图像，不到3 0秒⽣成\\n⽩交 昨天 14:53\\n ⼩鹏汽⻋何⼩鹏：端到端今年投35亿，2天迭代⼀次，可\\n实现「⻔到⻔」体验\\n何⼩鹏开喷“周销量榜”\\n贾浩楠 前天 22:40\\n 苹果苹果AI版iOS⾸⽇⽕爆：聊天秒变⾼情商，⼤模\\n型成最强嘴替，Siri华丽变身\\n还有4 7⻚⼤模型技术报告出炉\\n克雷⻄ 前天 16:17\\n 阿⾥云阿⾥云修复100年前巴黎奥运珍贵影像，国际奥\\n委会主席巴赫致谢！\\n国际奥委会⾸次公布了19 24巴黎奥运的珍贵影像\\n量⼦位 前天 15:33', start_char_idx=0, end_char_idx=415, text_template='{metadata_str}\\n\\n{content}', metadata_template='{key}: {value}', metadata_seperator='\\n'),\n",
       " TextNode(id_='1ac8ce21-de54-472b-bfbc-4fe75b687b9d', embedding=None, metadata={'page_label': '1', 'file_name': '贾扬清：大模型尺寸正重走CNN的老路；马斯克：在特斯拉也是这样.pdf', 'file_path': '/Users/zhaoxuefeng/Documents/Project/docs/zxfpro.github.io/slc/研究者/gpt_coder/pdfs/贾扬清：大模型尺寸正重走CNN的老路；马斯克：在特斯拉也是这样.pdf', 'file_type': 'application/pdf', 'file_size': 3212876, 'creation_date': '2024-08-01', 'last_modified_date': '2024-08-01'}, excluded_embed_metadata_keys=['file_name', 'file_type', 'file_size', 'creation_date', 'last_modified_date', 'last_accessed_date'], excluded_llm_metadata_keys=['file_name', 'file_type', 'file_size', 'creation_date', 'last_modified_date', 'last_accessed_date'], relationships={<NodeRelationship.SOURCE: '1'>: RelatedNodeInfo(node_id='/Users/zhaoxuefeng/Documents/Project/docs/zxfpro.github.io/slc/研究者/gpt_coder/pdfs/贾扬清：大模型尺寸正重走CNN的老路；马斯克：在特斯拉也是这样.pdf_part_0', node_type=<ObjectType.DOCUMENT: '4'>, metadata={'page_label': '1', 'file_name': '贾扬清：大模型尺寸正重走CNN的老路；马斯克：在特斯拉也是这样.pdf', 'file_path': '/Users/zhaoxuefeng/Documents/Project/docs/zxfpro.github.io/slc/研究者/gpt_coder/pdfs/贾扬清：大模型尺寸正重走CNN的老路；马斯克：在特斯拉也是这样.pdf', 'file_type': 'application/pdf', 'file_size': 3212876, 'creation_date': '2024-08-01', 'last_modified_date': '2024-08-01'}, hash='acd8c93dde7514ab269a9eef047f9118abbbe5269633ccef8a16e14bd79d98b1'), <NodeRelationship.PREVIOUS: '2'>: RelatedNodeInfo(node_id='6f8aa3c1-a5fb-4476-820d-bd12e87fa92c', node_type=<ObjectType.TEXT: '1'>, metadata={'page_label': '3', 'file_name': '苹果AI版iOS首日火爆：聊天秒变高情商，大模型成最强嘴替，Siri华丽变身.pdf', 'file_path': '/Users/zhaoxuefeng/Documents/Project/docs/zxfpro.github.io/slc/研究者/gpt_coder/pdfs/苹果AI版iOS首日火爆：聊天秒变高情商，大模型成最强嘴替，Siri华丽变身.pdf', 'file_type': 'application/pdf', 'file_size': 3212876, 'creation_date': '2024-08-01', 'last_modified_date': '2024-08-01'}, hash='9fc96411f29b3564b925fbb2b9d8e8491ba2776bd520cff017d76c45cb4ca333'), <NodeRelationship.NEXT: '3'>: RelatedNodeInfo(node_id='3df27318-87b3-446e-b098-22676123f965', node_type=<ObjectType.TEXT: '1'>, metadata={}, hash='4a016bba67b13826afaaced1dab29e465769f729343882b337a602f2a291d118')}, text='资讯热⻔⽂章\\n 360 isc周鸿祎ISC发布国内⾸个免费安全⼤模型 安全能\\n⼒超越GPT-4\\n其安全垂直能⼒已超过G PT-4\\n量⼦位 19分钟前\\n CPU 服务器想跑千亿⼤模型？算⼒⼚商放⼤招！CPU通⽤服\\n务器成为新选择\\n不⽤A I加速卡，只⽤4 颗CPU\\n克雷⻄ 25分钟前\\n arXiv 公开评审 斯坦福吴恩达弟⼦打造arXiv弹幕版，每篇论⽂都能⾃\\n由讨论了！\\n⽹友 ：这才是学术圈该有的样⼦！\\n明敏 2⼩时前\\n ChatGPT GPT-4o OpenAIChatGPT版「Her」被玩疯：哭着读诗，中⽂表\\n现也很亮\\n还能超快数1- 100\\n⼗三 2⼩时前\\n ⼤模型 ⽂⼼⼀⾔ 百度 ⻜桨⻜桨框架进阶3.0！⼀⽂讲透“⼤模型训推⼀体”\\n等五⼤新特性\\n为产学研各界提供稳定⽀持\\n⼗三 2⼩时前\\n 中国科学院数学与系统科学研究院 陈景润奖⾸届陈景润奖颁发！90后⼭⼤教授和84年中科\\n院研究员研究成果获奖\\n数论与代数⽅向新⽣代⼤奖\\n⻄⻛ 3⼩时前\\n CNN ⼤模型贾扬清：⼤模型尺⼨正重⾛CNN的⽼路；⻢斯\\n克：在特斯拉也是这样\\n开始反着卷了\\n衡宇 3⼩时前\\nOpenAI推出新AI搜索，⽼伙\\n计微软也默默更新了Bing\\n2024-07-26\\n字节⾖包上线吴敏霞、林丹\\n等专属智能体 奥运冠军AI…\\n2024-07-26\\n联想CTO换帅！芮勇转任新\\n集团总裁，瞄准新兴技术\\n2024-07-26\\n智平⽅打通具身智能核⼼痛\\n点：将AGI拓展到物理世界\\n2024-07-26\\n商汤科技⽇⽇新⼤模型亮相\\n巴黎，中国AI共赴奥运之约\\n2024-07-26', start_char_idx=0, end_char_idx=677, text_template='{metadata_str}\\n\\n{content}', metadata_template='{key}: {value}', metadata_seperator='\\n'),\n",
       " TextNode(id_='3df27318-87b3-446e-b098-22676123f965', embedding=None, metadata={'page_label': '2', 'file_name': '贾扬清：大模型尺寸正重走CNN的老路；马斯克：在特斯拉也是这样.pdf', 'file_path': '/Users/zhaoxuefeng/Documents/Project/docs/zxfpro.github.io/slc/研究者/gpt_coder/pdfs/贾扬清：大模型尺寸正重走CNN的老路；马斯克：在特斯拉也是这样.pdf', 'file_type': 'application/pdf', 'file_size': 3212876, 'creation_date': '2024-08-01', 'last_modified_date': '2024-08-01'}, excluded_embed_metadata_keys=['file_name', 'file_type', 'file_size', 'creation_date', 'last_modified_date', 'last_accessed_date'], excluded_llm_metadata_keys=['file_name', 'file_type', 'file_size', 'creation_date', 'last_modified_date', 'last_accessed_date'], relationships={<NodeRelationship.SOURCE: '1'>: RelatedNodeInfo(node_id='/Users/zhaoxuefeng/Documents/Project/docs/zxfpro.github.io/slc/研究者/gpt_coder/pdfs/贾扬清：大模型尺寸正重走CNN的老路；马斯克：在特斯拉也是这样.pdf_part_1', node_type=<ObjectType.DOCUMENT: '4'>, metadata={'page_label': '2', 'file_name': '贾扬清：大模型尺寸正重走CNN的老路；马斯克：在特斯拉也是这样.pdf', 'file_path': '/Users/zhaoxuefeng/Documents/Project/docs/zxfpro.github.io/slc/研究者/gpt_coder/pdfs/贾扬清：大模型尺寸正重走CNN的老路；马斯克：在特斯拉也是这样.pdf', 'file_type': 'application/pdf', 'file_size': 3212876, 'creation_date': '2024-08-01', 'last_modified_date': '2024-08-01'}, hash='71d7e962a32217232138b5f41e899e404d9b9931d3887e3fe0c5887f93022585'), <NodeRelationship.PREVIOUS: '2'>: RelatedNodeInfo(node_id='1ac8ce21-de54-472b-bfbc-4fe75b687b9d', node_type=<ObjectType.TEXT: '1'>, metadata={'page_label': '1', 'file_name': '贾扬清：大模型尺寸正重走CNN的老路；马斯克：在特斯拉也是这样.pdf', 'file_path': '/Users/zhaoxuefeng/Documents/Project/docs/zxfpro.github.io/slc/研究者/gpt_coder/pdfs/贾扬清：大模型尺寸正重走CNN的老路；马斯克：在特斯拉也是这样.pdf', 'file_type': 'application/pdf', 'file_size': 3212876, 'creation_date': '2024-08-01', 'last_modified_date': '2024-08-01'}, hash='acd8c93dde7514ab269a9eef047f9118abbbe5269633ccef8a16e14bd79d98b1'), <NodeRelationship.NEXT: '3'>: RelatedNodeInfo(node_id='4374318a-eb29-4c5b-940f-01a1207c39bc', node_type=<ObjectType.TEXT: '1'>, metadata={}, hash='490ab4b7f2ff2d2eea73af697383d43b9c84edc60560a6d5437dd6a355c81da4')}, text='AI创作 线上活动合辑 量⼦位·视点 量⼦位活动合辑AI加持创作，「⼩说-剧本-视频」只需⼀⼈全搞\\n定｜对话波形智能\\n8⽉1⽇19:00，欢迎围观～\\n林樾 4⼩时前\\n 360ISC.AI 2024周鸿祎：落地安全⼤模型的关键是\\n找准“明星场景”\\n打造安全⼤模型 引领安全⾏业⾰命\\n量⼦位 5⼩时前\\n 通义千问 阿⾥云阿⾥通义免费开放奥运AI⼤模型\\n只需简单提问，就能获得详尽且专业的答案\\n量⼦位 22⼩时前\\n AI机器⼈ 星尘智能⼈形机器⼈「星尘智能」获数千万美元Pre-A轮\\n融资，经纬创投领投\\n星尘智能于2 022年12⽉在深圳成⽴，专注研发“ 新⼀代最强A I机器⼈助理”\\n⻥⽺ 昨天 16:07\\n Llama 3.1 李沐失联⼤神李沐B站复更：领读Llama 3.1论⽂；竞\\n技场Llama 3.1排第三\\n还分享了A I⼋卦\\n⼀⽔ 昨天 16:03\\n AI绘画 MidjourneyMidjourney新版本上线即爆⽕！⽹友已玩疯：和\\n摄影⼏乎没区别\\n⼋⼤升级来了\\n明敏 昨天 15:30\\n csdnCSDN「智研社-The Intelliger」共话⼤模型技\\n术演进与 AI Infra 创新\\n进⾏ AGI 相关前沿科技的深⼊探讨\\n量⼦位 昨天 15:26\\n Anthropic Claude 爬⾍Claude团队引众怒，为爬数据不择⼿段，给爬⾍\\n改名字⽆视禁⽌规则\\n群情激愤：⼩偷！\\n衡宇 昨天 15:24\\n超精细开放世界藏进⼩程序，他们⽤游戏技术复\\n刻北京中轴线，穿越古今的那种', start_char_idx=1, end_char_idx=647, text_template='{metadata_str}\\n\\n{content}', metadata_template='{key}: {value}', metadata_seperator='\\n'),\n",
       " TextNode(id_='4374318a-eb29-4c5b-940f-01a1207c39bc', embedding=None, metadata={'page_label': '3', 'file_name': '贾扬清：大模型尺寸正重走CNN的老路；马斯克：在特斯拉也是这样.pdf', 'file_path': '/Users/zhaoxuefeng/Documents/Project/docs/zxfpro.github.io/slc/研究者/gpt_coder/pdfs/贾扬清：大模型尺寸正重走CNN的老路；马斯克：在特斯拉也是这样.pdf', 'file_type': 'application/pdf', 'file_size': 3212876, 'creation_date': '2024-08-01', 'last_modified_date': '2024-08-01'}, excluded_embed_metadata_keys=['file_name', 'file_type', 'file_size', 'creation_date', 'last_modified_date', 'last_accessed_date'], excluded_llm_metadata_keys=['file_name', 'file_type', 'file_size', 'creation_date', 'last_modified_date', 'last_accessed_date'], relationships={<NodeRelationship.SOURCE: '1'>: RelatedNodeInfo(node_id='/Users/zhaoxuefeng/Documents/Project/docs/zxfpro.github.io/slc/研究者/gpt_coder/pdfs/贾扬清：大模型尺寸正重走CNN的老路；马斯克：在特斯拉也是这样.pdf_part_2', node_type=<ObjectType.DOCUMENT: '4'>, metadata={'page_label': '3', 'file_name': '贾扬清：大模型尺寸正重走CNN的老路；马斯克：在特斯拉也是这样.pdf', 'file_path': '/Users/zhaoxuefeng/Documents/Project/docs/zxfpro.github.io/slc/研究者/gpt_coder/pdfs/贾扬清：大模型尺寸正重走CNN的老路；马斯克：在特斯拉也是这样.pdf', 'file_type': 'application/pdf', 'file_size': 3212876, 'creation_date': '2024-08-01', 'last_modified_date': '2024-08-01'}, hash='e3de945b39a8b9ca9d4dabcc996b6fc0b33018eaae5d82566d7c0cf9768ed2e6'), <NodeRelationship.PREVIOUS: '2'>: RelatedNodeInfo(node_id='3df27318-87b3-446e-b098-22676123f965', node_type=<ObjectType.TEXT: '1'>, metadata={'page_label': '2', 'file_name': '贾扬清：大模型尺寸正重走CNN的老路；马斯克：在特斯拉也是这样.pdf', 'file_path': '/Users/zhaoxuefeng/Documents/Project/docs/zxfpro.github.io/slc/研究者/gpt_coder/pdfs/贾扬清：大模型尺寸正重走CNN的老路；马斯克：在特斯拉也是这样.pdf', 'file_type': 'application/pdf', 'file_size': 3212876, 'creation_date': '2024-08-01', 'last_modified_date': '2024-08-01'}, hash='d9acefaee3d04f80f343403ec57452d09ffca1f1f792a905707ab801b2f3e90c'), <NodeRelationship.NEXT: '3'>: RelatedNodeInfo(node_id='4a768313-b339-4c8a-a631-8f2e5b3d108e', node_type=<ObjectType.TEXT: '1'>, metadata={}, hash='4263f5c5774f05cf3ad5af65ae72c67d9e23170ffb9c55f4f5fba064790e5d09')}, text='关于量⼦位|加⼊我们|寻求报道|商务合作\\n   追踪⼈⼯智能新趋势，报道科技⾏业新突破\\n量⼦位 QbitAI 版权所有© 北京极客伙伴科技有限公司 京ICP备17005886号-1加载更多\\n 北京中轴线 游戏技术你以为的游戏早已不是你以为的游戏\\n⻥⽺ 昨天 15:24\\n 中⼭⼤学 虚拟试⾐寡姐带货国⻛Polo衫，⻢斯克穿⽜仔⾛红毯！虚\\n拟试⾐新框架⽕了\\n只需两张图像，不到3 0秒⽣成\\n⽩交 昨天 14:53\\n ⼩鹏汽⻋何⼩鹏：端到端今年投35亿，2天迭代⼀次，可\\n实现「⻔到⻔」体验\\n何⼩鹏开喷“周销量榜”\\n贾浩楠 前天 22:40\\n 苹果苹果AI版iOS⾸⽇⽕爆：聊天秒变⾼情商，⼤模\\n型成最强嘴替，Siri华丽变身\\n还有4 7⻚⼤模型技术报告出炉\\n克雷⻄ 前天 16:17\\n 阿⾥云阿⾥云修复100年前巴黎奥运珍贵影像，国际奥\\n委会主席巴赫致谢！\\n国际奥委会⾸次公布了19 24巴黎奥运的珍贵影像\\n量⼦位 前天 15:33', start_char_idx=0, end_char_idx=415, text_template='{metadata_str}\\n\\n{content}', metadata_template='{key}: {value}', metadata_seperator='\\n'),\n",
       " TextNode(id_='4a768313-b339-4c8a-a631-8f2e5b3d108e', embedding=None, metadata={'page_label': '1', 'file_name': '超精细开放世界藏进小程序，他们用游戏技术复刻北京中轴线，穿越古今的那种.pdf', 'file_path': '/Users/zhaoxuefeng/Documents/Project/docs/zxfpro.github.io/slc/研究者/gpt_coder/pdfs/超精细开放世界藏进小程序，他们用游戏技术复刻北京中轴线，穿越古今的那种.pdf', 'file_type': 'application/pdf', 'file_size': 3212876, 'creation_date': '2024-08-01', 'last_modified_date': '2024-08-01'}, excluded_embed_metadata_keys=['file_name', 'file_type', 'file_size', 'creation_date', 'last_modified_date', 'last_accessed_date'], excluded_llm_metadata_keys=['file_name', 'file_type', 'file_size', 'creation_date', 'last_modified_date', 'last_accessed_date'], relationships={<NodeRelationship.SOURCE: '1'>: RelatedNodeInfo(node_id='/Users/zhaoxuefeng/Documents/Project/docs/zxfpro.github.io/slc/研究者/gpt_coder/pdfs/超精细开放世界藏进小程序，他们用游戏技术复刻北京中轴线，穿越古今的那种.pdf_part_0', node_type=<ObjectType.DOCUMENT: '4'>, metadata={'page_label': '1', 'file_name': '超精细开放世界藏进小程序，他们用游戏技术复刻北京中轴线，穿越古今的那种.pdf', 'file_path': '/Users/zhaoxuefeng/Documents/Project/docs/zxfpro.github.io/slc/研究者/gpt_coder/pdfs/超精细开放世界藏进小程序，他们用游戏技术复刻北京中轴线，穿越古今的那种.pdf', 'file_type': 'application/pdf', 'file_size': 3212876, 'creation_date': '2024-08-01', 'last_modified_date': '2024-08-01'}, hash='71b72e147ab58f624c7b89f6f40093ffaba3e589bf25d7dff1b0b394ca0ed801'), <NodeRelationship.PREVIOUS: '2'>: RelatedNodeInfo(node_id='4374318a-eb29-4c5b-940f-01a1207c39bc', node_type=<ObjectType.TEXT: '1'>, metadata={'page_label': '3', 'file_name': '贾扬清：大模型尺寸正重走CNN的老路；马斯克：在特斯拉也是这样.pdf', 'file_path': '/Users/zhaoxuefeng/Documents/Project/docs/zxfpro.github.io/slc/研究者/gpt_coder/pdfs/贾扬清：大模型尺寸正重走CNN的老路；马斯克：在特斯拉也是这样.pdf', 'file_type': 'application/pdf', 'file_size': 3212876, 'creation_date': '2024-08-01', 'last_modified_date': '2024-08-01'}, hash='e3de945b39a8b9ca9d4dabcc996b6fc0b33018eaae5d82566d7c0cf9768ed2e6'), <NodeRelationship.NEXT: '3'>: RelatedNodeInfo(node_id='b64bb870-5572-491f-8915-b5ab9501ebd0', node_type=<ObjectType.TEXT: '1'>, metadata={}, hash='4a016bba67b13826afaaced1dab29e465769f729343882b337a602f2a291d118')}, text='资讯热⻔⽂章\\n 360 isc周鸿祎ISC发布国内⾸个免费安全⼤模型 安全能\\n⼒超越GPT-4\\n其安全垂直能⼒已超过G PT-4\\n量⼦位 19分钟前\\n CPU 服务器想跑千亿⼤模型？算⼒⼚商放⼤招！CPU通⽤服\\n务器成为新选择\\n不⽤A I加速卡，只⽤4 颗CPU\\n克雷⻄ 25分钟前\\n arXiv 公开评审 斯坦福吴恩达弟⼦打造arXiv弹幕版，每篇论⽂都能⾃\\n由讨论了！\\n⽹友 ：这才是学术圈该有的样⼦！\\n明敏 2⼩时前\\n ChatGPT GPT-4o OpenAIChatGPT版「Her」被玩疯：哭着读诗，中⽂表\\n现也很亮\\n还能超快数1- 100\\n⼗三 2⼩时前\\n ⼤模型 ⽂⼼⼀⾔ 百度 ⻜桨⻜桨框架进阶3.0！⼀⽂讲透“⼤模型训推⼀体”\\n等五⼤新特性\\n为产学研各界提供稳定⽀持\\n⼗三 2⼩时前\\n 中国科学院数学与系统科学研究院 陈景润奖⾸届陈景润奖颁发！90后⼭⼤教授和84年中科\\n院研究员研究成果获奖\\n数论与代数⽅向新⽣代⼤奖\\n⻄⻛ 3⼩时前\\n CNN ⼤模型贾扬清：⼤模型尺⼨正重⾛CNN的⽼路；⻢斯\\n克：在特斯拉也是这样\\n开始反着卷了\\n衡宇 3⼩时前\\nOpenAI推出新AI搜索，⽼伙\\n计微软也默默更新了Bing\\n2024-07-26\\n字节⾖包上线吴敏霞、林丹\\n等专属智能体 奥运冠军AI…\\n2024-07-26\\n联想CTO换帅！芮勇转任新\\n集团总裁，瞄准新兴技术\\n2024-07-26\\n智平⽅打通具身智能核⼼痛\\n点：将AGI拓展到物理世界\\n2024-07-26\\n商汤科技⽇⽇新⼤模型亮相\\n巴黎，中国AI共赴奥运之约\\n2024-07-26', start_char_idx=0, end_char_idx=677, text_template='{metadata_str}\\n\\n{content}', metadata_template='{key}: {value}', metadata_seperator='\\n'),\n",
       " TextNode(id_='b64bb870-5572-491f-8915-b5ab9501ebd0', embedding=None, metadata={'page_label': '2', 'file_name': '超精细开放世界藏进小程序，他们用游戏技术复刻北京中轴线，穿越古今的那种.pdf', 'file_path': '/Users/zhaoxuefeng/Documents/Project/docs/zxfpro.github.io/slc/研究者/gpt_coder/pdfs/超精细开放世界藏进小程序，他们用游戏技术复刻北京中轴线，穿越古今的那种.pdf', 'file_type': 'application/pdf', 'file_size': 3212876, 'creation_date': '2024-08-01', 'last_modified_date': '2024-08-01'}, excluded_embed_metadata_keys=['file_name', 'file_type', 'file_size', 'creation_date', 'last_modified_date', 'last_accessed_date'], excluded_llm_metadata_keys=['file_name', 'file_type', 'file_size', 'creation_date', 'last_modified_date', 'last_accessed_date'], relationships={<NodeRelationship.SOURCE: '1'>: RelatedNodeInfo(node_id='/Users/zhaoxuefeng/Documents/Project/docs/zxfpro.github.io/slc/研究者/gpt_coder/pdfs/超精细开放世界藏进小程序，他们用游戏技术复刻北京中轴线，穿越古今的那种.pdf_part_1', node_type=<ObjectType.DOCUMENT: '4'>, metadata={'page_label': '2', 'file_name': '超精细开放世界藏进小程序，他们用游戏技术复刻北京中轴线，穿越古今的那种.pdf', 'file_path': '/Users/zhaoxuefeng/Documents/Project/docs/zxfpro.github.io/slc/研究者/gpt_coder/pdfs/超精细开放世界藏进小程序，他们用游戏技术复刻北京中轴线，穿越古今的那种.pdf', 'file_type': 'application/pdf', 'file_size': 3212876, 'creation_date': '2024-08-01', 'last_modified_date': '2024-08-01'}, hash='afe08fd3eb990e3e8249f068529a826f803a358816c0f48c0a9355ad846c006a'), <NodeRelationship.PREVIOUS: '2'>: RelatedNodeInfo(node_id='4a768313-b339-4c8a-a631-8f2e5b3d108e', node_type=<ObjectType.TEXT: '1'>, metadata={'page_label': '1', 'file_name': '超精细开放世界藏进小程序，他们用游戏技术复刻北京中轴线，穿越古今的那种.pdf', 'file_path': '/Users/zhaoxuefeng/Documents/Project/docs/zxfpro.github.io/slc/研究者/gpt_coder/pdfs/超精细开放世界藏进小程序，他们用游戏技术复刻北京中轴线，穿越古今的那种.pdf', 'file_type': 'application/pdf', 'file_size': 3212876, 'creation_date': '2024-08-01', 'last_modified_date': '2024-08-01'}, hash='71b72e147ab58f624c7b89f6f40093ffaba3e589bf25d7dff1b0b394ca0ed801'), <NodeRelationship.NEXT: '3'>: RelatedNodeInfo(node_id='8660c442-faa1-4711-ba14-49bb70e753a4', node_type=<ObjectType.TEXT: '1'>, metadata={}, hash='490ab4b7f2ff2d2eea73af697383d43b9c84edc60560a6d5437dd6a355c81da4')}, text='AI创作 线上活动合辑 量⼦位·视点 量⼦位活动合辑AI加持创作，「⼩说-剧本-视频」只需⼀⼈全搞\\n定｜对话波形智能\\n8⽉1⽇19:00，欢迎围观～\\n林樾 4⼩时前\\n 360ISC.AI 2024周鸿祎：落地安全⼤模型的关键是\\n找准“明星场景”\\n打造安全⼤模型 引领安全⾏业⾰命\\n量⼦位 5⼩时前\\n 通义千问 阿⾥云阿⾥通义免费开放奥运AI⼤模型\\n只需简单提问，就能获得详尽且专业的答案\\n量⼦位 22⼩时前\\n AI机器⼈ 星尘智能⼈形机器⼈「星尘智能」获数千万美元Pre-A轮\\n融资，经纬创投领投\\n星尘智能于2 022年12⽉在深圳成⽴，专注研发“ 新⼀代最强A I机器⼈助理”\\n⻥⽺ 昨天 16:07\\n Llama 3.1 李沐失联⼤神李沐B站复更：领读Llama 3.1论⽂；竞\\n技场Llama 3.1排第三\\n还分享了A I⼋卦\\n⼀⽔ 昨天 16:03\\n AI绘画 MidjourneyMidjourney新版本上线即爆⽕！⽹友已玩疯：和\\n摄影⼏乎没区别\\n⼋⼤升级来了\\n明敏 昨天 15:30\\n csdnCSDN「智研社-The Intelliger」共话⼤模型技\\n术演进与 AI Infra 创新\\n进⾏ AGI 相关前沿科技的深⼊探讨\\n量⼦位 昨天 15:26\\n Anthropic Claude 爬⾍Claude团队引众怒，为爬数据不择⼿段，给爬⾍\\n改名字⽆视禁⽌规则\\n群情激愤：⼩偷！\\n衡宇 昨天 15:24\\n超精细开放世界藏进⼩程序，他们⽤游戏技术复\\n刻北京中轴线，穿越古今的那种', start_char_idx=1, end_char_idx=647, text_template='{metadata_str}\\n\\n{content}', metadata_template='{key}: {value}', metadata_seperator='\\n'),\n",
       " TextNode(id_='8660c442-faa1-4711-ba14-49bb70e753a4', embedding=None, metadata={'page_label': '3', 'file_name': '超精细开放世界藏进小程序，他们用游戏技术复刻北京中轴线，穿越古今的那种.pdf', 'file_path': '/Users/zhaoxuefeng/Documents/Project/docs/zxfpro.github.io/slc/研究者/gpt_coder/pdfs/超精细开放世界藏进小程序，他们用游戏技术复刻北京中轴线，穿越古今的那种.pdf', 'file_type': 'application/pdf', 'file_size': 3212876, 'creation_date': '2024-08-01', 'last_modified_date': '2024-08-01'}, excluded_embed_metadata_keys=['file_name', 'file_type', 'file_size', 'creation_date', 'last_modified_date', 'last_accessed_date'], excluded_llm_metadata_keys=['file_name', 'file_type', 'file_size', 'creation_date', 'last_modified_date', 'last_accessed_date'], relationships={<NodeRelationship.SOURCE: '1'>: RelatedNodeInfo(node_id='/Users/zhaoxuefeng/Documents/Project/docs/zxfpro.github.io/slc/研究者/gpt_coder/pdfs/超精细开放世界藏进小程序，他们用游戏技术复刻北京中轴线，穿越古今的那种.pdf_part_2', node_type=<ObjectType.DOCUMENT: '4'>, metadata={'page_label': '3', 'file_name': '超精细开放世界藏进小程序，他们用游戏技术复刻北京中轴线，穿越古今的那种.pdf', 'file_path': '/Users/zhaoxuefeng/Documents/Project/docs/zxfpro.github.io/slc/研究者/gpt_coder/pdfs/超精细开放世界藏进小程序，他们用游戏技术复刻北京中轴线，穿越古今的那种.pdf', 'file_type': 'application/pdf', 'file_size': 3212876, 'creation_date': '2024-08-01', 'last_modified_date': '2024-08-01'}, hash='5516724350f0fa2f97a3ecfe61a1d1a7003a281dfa5183a595f6e3d041451d9f'), <NodeRelationship.PREVIOUS: '2'>: RelatedNodeInfo(node_id='b64bb870-5572-491f-8915-b5ab9501ebd0', node_type=<ObjectType.TEXT: '1'>, metadata={'page_label': '2', 'file_name': '超精细开放世界藏进小程序，他们用游戏技术复刻北京中轴线，穿越古今的那种.pdf', 'file_path': '/Users/zhaoxuefeng/Documents/Project/docs/zxfpro.github.io/slc/研究者/gpt_coder/pdfs/超精细开放世界藏进小程序，他们用游戏技术复刻北京中轴线，穿越古今的那种.pdf', 'file_type': 'application/pdf', 'file_size': 3212876, 'creation_date': '2024-08-01', 'last_modified_date': '2024-08-01'}, hash='934eb02a646249ee232fbcdab77bb1e41857f70b2ec3853ec4f2adb933ccbdea'), <NodeRelationship.NEXT: '3'>: RelatedNodeInfo(node_id='83b6f6a0-2aac-46ae-9099-788302a507d8', node_type=<ObjectType.TEXT: '1'>, metadata={}, hash='4263f5c5774f05cf3ad5af65ae72c67d9e23170ffb9c55f4f5fba064790e5d09')}, text='关于量⼦位|加⼊我们|寻求报道|商务合作\\n   追踪⼈⼯智能新趋势，报道科技⾏业新突破\\n量⼦位 QbitAI 版权所有© 北京极客伙伴科技有限公司 京ICP备17005886号-1加载更多\\n 北京中轴线 游戏技术你以为的游戏早已不是你以为的游戏\\n⻥⽺ 昨天 15:24\\n 中⼭⼤学 虚拟试⾐寡姐带货国⻛Polo衫，⻢斯克穿⽜仔⾛红毯！虚\\n拟试⾐新框架⽕了\\n只需两张图像，不到3 0秒⽣成\\n⽩交 昨天 14:53\\n ⼩鹏汽⻋何⼩鹏：端到端今年投35亿，2天迭代⼀次，可\\n实现「⻔到⻔」体验\\n何⼩鹏开喷“周销量榜”\\n贾浩楠 前天 22:40\\n 苹果苹果AI版iOS⾸⽇⽕爆：聊天秒变⾼情商，⼤模\\n型成最强嘴替，Siri华丽变身\\n还有4 7⻚⼤模型技术报告出炉\\n克雷⻄ 前天 16:17\\n 阿⾥云阿⾥云修复100年前巴黎奥运珍贵影像，国际奥\\n委会主席巴赫致谢！\\n国际奥委会⾸次公布了19 24巴黎奥运的珍贵影像\\n量⼦位 前天 15:33', start_char_idx=0, end_char_idx=415, text_template='{metadata_str}\\n\\n{content}', metadata_template='{key}: {value}', metadata_seperator='\\n'),\n",
       " TextNode(id_='83b6f6a0-2aac-46ae-9099-788302a507d8', embedding=None, metadata={'page_label': '1', 'file_name': '阿里云修复100年前巴黎奥运珍贵影像，国际奥委会主席巴赫致谢！.pdf', 'file_path': '/Users/zhaoxuefeng/Documents/Project/docs/zxfpro.github.io/slc/研究者/gpt_coder/pdfs/阿里云修复100年前巴黎奥运珍贵影像，国际奥委会主席巴赫致谢！.pdf', 'file_type': 'application/pdf', 'file_size': 3212876, 'creation_date': '2024-08-01', 'last_modified_date': '2024-08-01'}, excluded_embed_metadata_keys=['file_name', 'file_type', 'file_size', 'creation_date', 'last_modified_date', 'last_accessed_date'], excluded_llm_metadata_keys=['file_name', 'file_type', 'file_size', 'creation_date', 'last_modified_date', 'last_accessed_date'], relationships={<NodeRelationship.SOURCE: '1'>: RelatedNodeInfo(node_id='/Users/zhaoxuefeng/Documents/Project/docs/zxfpro.github.io/slc/研究者/gpt_coder/pdfs/阿里云修复100年前巴黎奥运珍贵影像，国际奥委会主席巴赫致谢！.pdf_part_0', node_type=<ObjectType.DOCUMENT: '4'>, metadata={'page_label': '1', 'file_name': '阿里云修复100年前巴黎奥运珍贵影像，国际奥委会主席巴赫致谢！.pdf', 'file_path': '/Users/zhaoxuefeng/Documents/Project/docs/zxfpro.github.io/slc/研究者/gpt_coder/pdfs/阿里云修复100年前巴黎奥运珍贵影像，国际奥委会主席巴赫致谢！.pdf', 'file_type': 'application/pdf', 'file_size': 3212876, 'creation_date': '2024-08-01', 'last_modified_date': '2024-08-01'}, hash='c69fb26b5f07a721e18079a7aa5bbc54d2e99a19bd491c73142ddc60f24e4800'), <NodeRelationship.PREVIOUS: '2'>: RelatedNodeInfo(node_id='8660c442-faa1-4711-ba14-49bb70e753a4', node_type=<ObjectType.TEXT: '1'>, metadata={'page_label': '3', 'file_name': '超精细开放世界藏进小程序，他们用游戏技术复刻北京中轴线，穿越古今的那种.pdf', 'file_path': '/Users/zhaoxuefeng/Documents/Project/docs/zxfpro.github.io/slc/研究者/gpt_coder/pdfs/超精细开放世界藏进小程序，他们用游戏技术复刻北京中轴线，穿越古今的那种.pdf', 'file_type': 'application/pdf', 'file_size': 3212876, 'creation_date': '2024-08-01', 'last_modified_date': '2024-08-01'}, hash='5516724350f0fa2f97a3ecfe61a1d1a7003a281dfa5183a595f6e3d041451d9f'), <NodeRelationship.NEXT: '3'>: RelatedNodeInfo(node_id='1f3052a8-1f9e-430b-bcf2-c09ca04cea61', node_type=<ObjectType.TEXT: '1'>, metadata={}, hash='4a016bba67b13826afaaced1dab29e465769f729343882b337a602f2a291d118')}, text='资讯热⻔⽂章\\n 360 isc周鸿祎ISC发布国内⾸个免费安全⼤模型 安全能\\n⼒超越GPT-4\\n其安全垂直能⼒已超过G PT-4\\n量⼦位 19分钟前\\n CPU 服务器想跑千亿⼤模型？算⼒⼚商放⼤招！CPU通⽤服\\n务器成为新选择\\n不⽤A I加速卡，只⽤4 颗CPU\\n克雷⻄ 25分钟前\\n arXiv 公开评审 斯坦福吴恩达弟⼦打造arXiv弹幕版，每篇论⽂都能⾃\\n由讨论了！\\n⽹友 ：这才是学术圈该有的样⼦！\\n明敏 2⼩时前\\n ChatGPT GPT-4o OpenAIChatGPT版「Her」被玩疯：哭着读诗，中⽂表\\n现也很亮\\n还能超快数1- 100\\n⼗三 2⼩时前\\n ⼤模型 ⽂⼼⼀⾔ 百度 ⻜桨⻜桨框架进阶3.0！⼀⽂讲透“⼤模型训推⼀体”\\n等五⼤新特性\\n为产学研各界提供稳定⽀持\\n⼗三 2⼩时前\\n 中国科学院数学与系统科学研究院 陈景润奖⾸届陈景润奖颁发！90后⼭⼤教授和84年中科\\n院研究员研究成果获奖\\n数论与代数⽅向新⽣代⼤奖\\n⻄⻛ 3⼩时前\\n CNN ⼤模型贾扬清：⼤模型尺⼨正重⾛CNN的⽼路；⻢斯\\n克：在特斯拉也是这样\\n开始反着卷了\\n衡宇 3⼩时前\\nOpenAI推出新AI搜索，⽼伙\\n计微软也默默更新了Bing\\n2024-07-26\\n字节⾖包上线吴敏霞、林丹\\n等专属智能体 奥运冠军AI…\\n2024-07-26\\n联想CTO换帅！芮勇转任新\\n集团总裁，瞄准新兴技术\\n2024-07-26\\n智平⽅打通具身智能核⼼痛\\n点：将AGI拓展到物理世界\\n2024-07-26\\n商汤科技⽇⽇新⼤模型亮相\\n巴黎，中国AI共赴奥运之约\\n2024-07-26', start_char_idx=0, end_char_idx=677, text_template='{metadata_str}\\n\\n{content}', metadata_template='{key}: {value}', metadata_seperator='\\n'),\n",
       " TextNode(id_='1f3052a8-1f9e-430b-bcf2-c09ca04cea61', embedding=None, metadata={'page_label': '2', 'file_name': '阿里云修复100年前巴黎奥运珍贵影像，国际奥委会主席巴赫致谢！.pdf', 'file_path': '/Users/zhaoxuefeng/Documents/Project/docs/zxfpro.github.io/slc/研究者/gpt_coder/pdfs/阿里云修复100年前巴黎奥运珍贵影像，国际奥委会主席巴赫致谢！.pdf', 'file_type': 'application/pdf', 'file_size': 3212876, 'creation_date': '2024-08-01', 'last_modified_date': '2024-08-01'}, excluded_embed_metadata_keys=['file_name', 'file_type', 'file_size', 'creation_date', 'last_modified_date', 'last_accessed_date'], excluded_llm_metadata_keys=['file_name', 'file_type', 'file_size', 'creation_date', 'last_modified_date', 'last_accessed_date'], relationships={<NodeRelationship.SOURCE: '1'>: RelatedNodeInfo(node_id='/Users/zhaoxuefeng/Documents/Project/docs/zxfpro.github.io/slc/研究者/gpt_coder/pdfs/阿里云修复100年前巴黎奥运珍贵影像，国际奥委会主席巴赫致谢！.pdf_part_1', node_type=<ObjectType.DOCUMENT: '4'>, metadata={'page_label': '2', 'file_name': '阿里云修复100年前巴黎奥运珍贵影像，国际奥委会主席巴赫致谢！.pdf', 'file_path': '/Users/zhaoxuefeng/Documents/Project/docs/zxfpro.github.io/slc/研究者/gpt_coder/pdfs/阿里云修复100年前巴黎奥运珍贵影像，国际奥委会主席巴赫致谢！.pdf', 'file_type': 'application/pdf', 'file_size': 3212876, 'creation_date': '2024-08-01', 'last_modified_date': '2024-08-01'}, hash='bea199e8f060bd5dc05bad166b043baa30d3eb0f1345479ffecc81ccdba021f6'), <NodeRelationship.PREVIOUS: '2'>: RelatedNodeInfo(node_id='83b6f6a0-2aac-46ae-9099-788302a507d8', node_type=<ObjectType.TEXT: '1'>, metadata={'page_label': '1', 'file_name': '阿里云修复100年前巴黎奥运珍贵影像，国际奥委会主席巴赫致谢！.pdf', 'file_path': '/Users/zhaoxuefeng/Documents/Project/docs/zxfpro.github.io/slc/研究者/gpt_coder/pdfs/阿里云修复100年前巴黎奥运珍贵影像，国际奥委会主席巴赫致谢！.pdf', 'file_type': 'application/pdf', 'file_size': 3212876, 'creation_date': '2024-08-01', 'last_modified_date': '2024-08-01'}, hash='c69fb26b5f07a721e18079a7aa5bbc54d2e99a19bd491c73142ddc60f24e4800'), <NodeRelationship.NEXT: '3'>: RelatedNodeInfo(node_id='4545c1b7-ee1a-4e81-8ce3-0764ffcc808e', node_type=<ObjectType.TEXT: '1'>, metadata={}, hash='490ab4b7f2ff2d2eea73af697383d43b9c84edc60560a6d5437dd6a355c81da4')}, text='AI创作 线上活动合辑 量⼦位·视点 量⼦位活动合辑AI加持创作，「⼩说-剧本-视频」只需⼀⼈全搞\\n定｜对话波形智能\\n8⽉1⽇19:00，欢迎围观～\\n林樾 4⼩时前\\n 360ISC.AI 2024周鸿祎：落地安全⼤模型的关键是\\n找准“明星场景”\\n打造安全⼤模型 引领安全⾏业⾰命\\n量⼦位 5⼩时前\\n 通义千问 阿⾥云阿⾥通义免费开放奥运AI⼤模型\\n只需简单提问，就能获得详尽且专业的答案\\n量⼦位 22⼩时前\\n AI机器⼈ 星尘智能⼈形机器⼈「星尘智能」获数千万美元Pre-A轮\\n融资，经纬创投领投\\n星尘智能于2 022年12⽉在深圳成⽴，专注研发“ 新⼀代最强A I机器⼈助理”\\n⻥⽺ 昨天 16:07\\n Llama 3.1 李沐失联⼤神李沐B站复更：领读Llama 3.1论⽂；竞\\n技场Llama 3.1排第三\\n还分享了A I⼋卦\\n⼀⽔ 昨天 16:03\\n AI绘画 MidjourneyMidjourney新版本上线即爆⽕！⽹友已玩疯：和\\n摄影⼏乎没区别\\n⼋⼤升级来了\\n明敏 昨天 15:30\\n csdnCSDN「智研社-The Intelliger」共话⼤模型技\\n术演进与 AI Infra 创新\\n进⾏ AGI 相关前沿科技的深⼊探讨\\n量⼦位 昨天 15:26\\n Anthropic Claude 爬⾍Claude团队引众怒，为爬数据不择⼿段，给爬⾍\\n改名字⽆视禁⽌规则\\n群情激愤：⼩偷！\\n衡宇 昨天 15:24\\n超精细开放世界藏进⼩程序，他们⽤游戏技术复\\n刻北京中轴线，穿越古今的那种', start_char_idx=1, end_char_idx=647, text_template='{metadata_str}\\n\\n{content}', metadata_template='{key}: {value}', metadata_seperator='\\n'),\n",
       " TextNode(id_='4545c1b7-ee1a-4e81-8ce3-0764ffcc808e', embedding=None, metadata={'page_label': '3', 'file_name': '阿里云修复100年前巴黎奥运珍贵影像，国际奥委会主席巴赫致谢！.pdf', 'file_path': '/Users/zhaoxuefeng/Documents/Project/docs/zxfpro.github.io/slc/研究者/gpt_coder/pdfs/阿里云修复100年前巴黎奥运珍贵影像，国际奥委会主席巴赫致谢！.pdf', 'file_type': 'application/pdf', 'file_size': 3212876, 'creation_date': '2024-08-01', 'last_modified_date': '2024-08-01'}, excluded_embed_metadata_keys=['file_name', 'file_type', 'file_size', 'creation_date', 'last_modified_date', 'last_accessed_date'], excluded_llm_metadata_keys=['file_name', 'file_type', 'file_size', 'creation_date', 'last_modified_date', 'last_accessed_date'], relationships={<NodeRelationship.SOURCE: '1'>: RelatedNodeInfo(node_id='/Users/zhaoxuefeng/Documents/Project/docs/zxfpro.github.io/slc/研究者/gpt_coder/pdfs/阿里云修复100年前巴黎奥运珍贵影像，国际奥委会主席巴赫致谢！.pdf_part_2', node_type=<ObjectType.DOCUMENT: '4'>, metadata={'page_label': '3', 'file_name': '阿里云修复100年前巴黎奥运珍贵影像，国际奥委会主席巴赫致谢！.pdf', 'file_path': '/Users/zhaoxuefeng/Documents/Project/docs/zxfpro.github.io/slc/研究者/gpt_coder/pdfs/阿里云修复100年前巴黎奥运珍贵影像，国际奥委会主席巴赫致谢！.pdf', 'file_type': 'application/pdf', 'file_size': 3212876, 'creation_date': '2024-08-01', 'last_modified_date': '2024-08-01'}, hash='b7b9567b68365176d237d579e33a380afd0523c5ef0916e0695ee5d5f6f5940a'), <NodeRelationship.PREVIOUS: '2'>: RelatedNodeInfo(node_id='1f3052a8-1f9e-430b-bcf2-c09ca04cea61', node_type=<ObjectType.TEXT: '1'>, metadata={'page_label': '2', 'file_name': '阿里云修复100年前巴黎奥运珍贵影像，国际奥委会主席巴赫致谢！.pdf', 'file_path': '/Users/zhaoxuefeng/Documents/Project/docs/zxfpro.github.io/slc/研究者/gpt_coder/pdfs/阿里云修复100年前巴黎奥运珍贵影像，国际奥委会主席巴赫致谢！.pdf', 'file_type': 'application/pdf', 'file_size': 3212876, 'creation_date': '2024-08-01', 'last_modified_date': '2024-08-01'}, hash='82326ca2498eefefbeea73046be8517759b1c5c7ab0eee4cb9a56a8d6fd9b07c'), <NodeRelationship.NEXT: '3'>: RelatedNodeInfo(node_id='6da25148-80c3-4430-89f5-8a84f0aec92d', node_type=<ObjectType.TEXT: '1'>, metadata={}, hash='4263f5c5774f05cf3ad5af65ae72c67d9e23170ffb9c55f4f5fba064790e5d09')}, text='关于量⼦位|加⼊我们|寻求报道|商务合作\\n   追踪⼈⼯智能新趋势，报道科技⾏业新突破\\n量⼦位 QbitAI 版权所有© 北京极客伙伴科技有限公司 京ICP备17005886号-1加载更多\\n 北京中轴线 游戏技术你以为的游戏早已不是你以为的游戏\\n⻥⽺ 昨天 15:24\\n 中⼭⼤学 虚拟试⾐寡姐带货国⻛Polo衫，⻢斯克穿⽜仔⾛红毯！虚\\n拟试⾐新框架⽕了\\n只需两张图像，不到3 0秒⽣成\\n⽩交 昨天 14:53\\n ⼩鹏汽⻋何⼩鹏：端到端今年投35亿，2天迭代⼀次，可\\n实现「⻔到⻔」体验\\n何⼩鹏开喷“周销量榜”\\n贾浩楠 前天 22:40\\n 苹果苹果AI版iOS⾸⽇⽕爆：聊天秒变⾼情商，⼤模\\n型成最强嘴替，Siri华丽变身\\n还有4 7⻚⼤模型技术报告出炉\\n克雷⻄ 前天 16:17\\n 阿⾥云阿⾥云修复100年前巴黎奥运珍贵影像，国际奥\\n委会主席巴赫致谢！\\n国际奥委会⾸次公布了19 24巴黎奥运的珍贵影像\\n量⼦位 前天 15:33', start_char_idx=0, end_char_idx=415, text_template='{metadata_str}\\n\\n{content}', metadata_template='{key}: {value}', metadata_seperator='\\n'),\n",
       " TextNode(id_='6da25148-80c3-4430-89f5-8a84f0aec92d', embedding=None, metadata={'page_label': '1', 'file_name': '阿里通义免费开放奥运AI大模型.pdf', 'file_path': '/Users/zhaoxuefeng/Documents/Project/docs/zxfpro.github.io/slc/研究者/gpt_coder/pdfs/阿里通义免费开放奥运AI大模型.pdf', 'file_type': 'application/pdf', 'file_size': 3212876, 'creation_date': '2024-08-01', 'last_modified_date': '2024-08-01'}, excluded_embed_metadata_keys=['file_name', 'file_type', 'file_size', 'creation_date', 'last_modified_date', 'last_accessed_date'], excluded_llm_metadata_keys=['file_name', 'file_type', 'file_size', 'creation_date', 'last_modified_date', 'last_accessed_date'], relationships={<NodeRelationship.SOURCE: '1'>: RelatedNodeInfo(node_id='/Users/zhaoxuefeng/Documents/Project/docs/zxfpro.github.io/slc/研究者/gpt_coder/pdfs/阿里通义免费开放奥运AI大模型.pdf_part_0', node_type=<ObjectType.DOCUMENT: '4'>, metadata={'page_label': '1', 'file_name': '阿里通义免费开放奥运AI大模型.pdf', 'file_path': '/Users/zhaoxuefeng/Documents/Project/docs/zxfpro.github.io/slc/研究者/gpt_coder/pdfs/阿里通义免费开放奥运AI大模型.pdf', 'file_type': 'application/pdf', 'file_size': 3212876, 'creation_date': '2024-08-01', 'last_modified_date': '2024-08-01'}, hash='ef1940c24c95942f22a8b8bffeb56f27ec69b1688e8ae4815eb3bbc2402450df'), <NodeRelationship.PREVIOUS: '2'>: RelatedNodeInfo(node_id='4545c1b7-ee1a-4e81-8ce3-0764ffcc808e', node_type=<ObjectType.TEXT: '1'>, metadata={'page_label': '3', 'file_name': '阿里云修复100年前巴黎奥运珍贵影像，国际奥委会主席巴赫致谢！.pdf', 'file_path': '/Users/zhaoxuefeng/Documents/Project/docs/zxfpro.github.io/slc/研究者/gpt_coder/pdfs/阿里云修复100年前巴黎奥运珍贵影像，国际奥委会主席巴赫致谢！.pdf', 'file_type': 'application/pdf', 'file_size': 3212876, 'creation_date': '2024-08-01', 'last_modified_date': '2024-08-01'}, hash='b7b9567b68365176d237d579e33a380afd0523c5ef0916e0695ee5d5f6f5940a'), <NodeRelationship.NEXT: '3'>: RelatedNodeInfo(node_id='57f82d2e-7c71-485b-a5f3-1642e0e2f1d8', node_type=<ObjectType.TEXT: '1'>, metadata={}, hash='4a016bba67b13826afaaced1dab29e465769f729343882b337a602f2a291d118')}, text='资讯热⻔⽂章\\n 360 isc周鸿祎ISC发布国内⾸个免费安全⼤模型 安全能\\n⼒超越GPT-4\\n其安全垂直能⼒已超过G PT-4\\n量⼦位 19分钟前\\n CPU 服务器想跑千亿⼤模型？算⼒⼚商放⼤招！CPU通⽤服\\n务器成为新选择\\n不⽤A I加速卡，只⽤4 颗CPU\\n克雷⻄ 25分钟前\\n arXiv 公开评审 斯坦福吴恩达弟⼦打造arXiv弹幕版，每篇论⽂都能⾃\\n由讨论了！\\n⽹友 ：这才是学术圈该有的样⼦！\\n明敏 2⼩时前\\n ChatGPT GPT-4o OpenAIChatGPT版「Her」被玩疯：哭着读诗，中⽂表\\n现也很亮\\n还能超快数1- 100\\n⼗三 2⼩时前\\n ⼤模型 ⽂⼼⼀⾔ 百度 ⻜桨⻜桨框架进阶3.0！⼀⽂讲透“⼤模型训推⼀体”\\n等五⼤新特性\\n为产学研各界提供稳定⽀持\\n⼗三 2⼩时前\\n 中国科学院数学与系统科学研究院 陈景润奖⾸届陈景润奖颁发！90后⼭⼤教授和84年中科\\n院研究员研究成果获奖\\n数论与代数⽅向新⽣代⼤奖\\n⻄⻛ 3⼩时前\\n CNN ⼤模型贾扬清：⼤模型尺⼨正重⾛CNN的⽼路；⻢斯\\n克：在特斯拉也是这样\\n开始反着卷了\\n衡宇 3⼩时前\\nOpenAI推出新AI搜索，⽼伙\\n计微软也默默更新了Bing\\n2024-07-26\\n字节⾖包上线吴敏霞、林丹\\n等专属智能体 奥运冠军AI…\\n2024-07-26\\n联想CTO换帅！芮勇转任新\\n集团总裁，瞄准新兴技术\\n2024-07-26\\n智平⽅打通具身智能核⼼痛\\n点：将AGI拓展到物理世界\\n2024-07-26\\n商汤科技⽇⽇新⼤模型亮相\\n巴黎，中国AI共赴奥运之约\\n2024-07-26', start_char_idx=0, end_char_idx=677, text_template='{metadata_str}\\n\\n{content}', metadata_template='{key}: {value}', metadata_seperator='\\n'),\n",
       " TextNode(id_='57f82d2e-7c71-485b-a5f3-1642e0e2f1d8', embedding=None, metadata={'page_label': '2', 'file_name': '阿里通义免费开放奥运AI大模型.pdf', 'file_path': '/Users/zhaoxuefeng/Documents/Project/docs/zxfpro.github.io/slc/研究者/gpt_coder/pdfs/阿里通义免费开放奥运AI大模型.pdf', 'file_type': 'application/pdf', 'file_size': 3212876, 'creation_date': '2024-08-01', 'last_modified_date': '2024-08-01'}, excluded_embed_metadata_keys=['file_name', 'file_type', 'file_size', 'creation_date', 'last_modified_date', 'last_accessed_date'], excluded_llm_metadata_keys=['file_name', 'file_type', 'file_size', 'creation_date', 'last_modified_date', 'last_accessed_date'], relationships={<NodeRelationship.SOURCE: '1'>: RelatedNodeInfo(node_id='/Users/zhaoxuefeng/Documents/Project/docs/zxfpro.github.io/slc/研究者/gpt_coder/pdfs/阿里通义免费开放奥运AI大模型.pdf_part_1', node_type=<ObjectType.DOCUMENT: '4'>, metadata={'page_label': '2', 'file_name': '阿里通义免费开放奥运AI大模型.pdf', 'file_path': '/Users/zhaoxuefeng/Documents/Project/docs/zxfpro.github.io/slc/研究者/gpt_coder/pdfs/阿里通义免费开放奥运AI大模型.pdf', 'file_type': 'application/pdf', 'file_size': 3212876, 'creation_date': '2024-08-01', 'last_modified_date': '2024-08-01'}, hash='e55bbda7822bbabe4c673b25cabc7c9e0363741145b09d37d8ffb1a0ae21f2b8'), <NodeRelationship.PREVIOUS: '2'>: RelatedNodeInfo(node_id='6da25148-80c3-4430-89f5-8a84f0aec92d', node_type=<ObjectType.TEXT: '1'>, metadata={'page_label': '1', 'file_name': '阿里通义免费开放奥运AI大模型.pdf', 'file_path': '/Users/zhaoxuefeng/Documents/Project/docs/zxfpro.github.io/slc/研究者/gpt_coder/pdfs/阿里通义免费开放奥运AI大模型.pdf', 'file_type': 'application/pdf', 'file_size': 3212876, 'creation_date': '2024-08-01', 'last_modified_date': '2024-08-01'}, hash='ef1940c24c95942f22a8b8bffeb56f27ec69b1688e8ae4815eb3bbc2402450df'), <NodeRelationship.NEXT: '3'>: RelatedNodeInfo(node_id='7e581003-d072-4670-a1a0-66cc6485d6b2', node_type=<ObjectType.TEXT: '1'>, metadata={}, hash='490ab4b7f2ff2d2eea73af697383d43b9c84edc60560a6d5437dd6a355c81da4')}, text='AI创作 线上活动合辑 量⼦位·视点 量⼦位活动合辑AI加持创作，「⼩说-剧本-视频」只需⼀⼈全搞\\n定｜对话波形智能\\n8⽉1⽇19:00，欢迎围观～\\n林樾 4⼩时前\\n 360ISC.AI 2024周鸿祎：落地安全⼤模型的关键是\\n找准“明星场景”\\n打造安全⼤模型 引领安全⾏业⾰命\\n量⼦位 5⼩时前\\n 通义千问 阿⾥云阿⾥通义免费开放奥运AI⼤模型\\n只需简单提问，就能获得详尽且专业的答案\\n量⼦位 22⼩时前\\n AI机器⼈ 星尘智能⼈形机器⼈「星尘智能」获数千万美元Pre-A轮\\n融资，经纬创投领投\\n星尘智能于2 022年12⽉在深圳成⽴，专注研发“ 新⼀代最强A I机器⼈助理”\\n⻥⽺ 昨天 16:07\\n Llama 3.1 李沐失联⼤神李沐B站复更：领读Llama 3.1论⽂；竞\\n技场Llama 3.1排第三\\n还分享了A I⼋卦\\n⼀⽔ 昨天 16:03\\n AI绘画 MidjourneyMidjourney新版本上线即爆⽕！⽹友已玩疯：和\\n摄影⼏乎没区别\\n⼋⼤升级来了\\n明敏 昨天 15:30\\n csdnCSDN「智研社-The Intelliger」共话⼤模型技\\n术演进与 AI Infra 创新\\n进⾏ AGI 相关前沿科技的深⼊探讨\\n量⼦位 昨天 15:26\\n Anthropic Claude 爬⾍Claude团队引众怒，为爬数据不择⼿段，给爬⾍\\n改名字⽆视禁⽌规则\\n群情激愤：⼩偷！\\n衡宇 昨天 15:24\\n超精细开放世界藏进⼩程序，他们⽤游戏技术复\\n刻北京中轴线，穿越古今的那种', start_char_idx=1, end_char_idx=647, text_template='{metadata_str}\\n\\n{content}', metadata_template='{key}: {value}', metadata_seperator='\\n'),\n",
       " TextNode(id_='7e581003-d072-4670-a1a0-66cc6485d6b2', embedding=None, metadata={'page_label': '3', 'file_name': '阿里通义免费开放奥运AI大模型.pdf', 'file_path': '/Users/zhaoxuefeng/Documents/Project/docs/zxfpro.github.io/slc/研究者/gpt_coder/pdfs/阿里通义免费开放奥运AI大模型.pdf', 'file_type': 'application/pdf', 'file_size': 3212876, 'creation_date': '2024-08-01', 'last_modified_date': '2024-08-01'}, excluded_embed_metadata_keys=['file_name', 'file_type', 'file_size', 'creation_date', 'last_modified_date', 'last_accessed_date'], excluded_llm_metadata_keys=['file_name', 'file_type', 'file_size', 'creation_date', 'last_modified_date', 'last_accessed_date'], relationships={<NodeRelationship.SOURCE: '1'>: RelatedNodeInfo(node_id='/Users/zhaoxuefeng/Documents/Project/docs/zxfpro.github.io/slc/研究者/gpt_coder/pdfs/阿里通义免费开放奥运AI大模型.pdf_part_2', node_type=<ObjectType.DOCUMENT: '4'>, metadata={'page_label': '3', 'file_name': '阿里通义免费开放奥运AI大模型.pdf', 'file_path': '/Users/zhaoxuefeng/Documents/Project/docs/zxfpro.github.io/slc/研究者/gpt_coder/pdfs/阿里通义免费开放奥运AI大模型.pdf', 'file_type': 'application/pdf', 'file_size': 3212876, 'creation_date': '2024-08-01', 'last_modified_date': '2024-08-01'}, hash='e488d3ac4150f93d26d4245e930ef87472e9ff2311c6288457c8197c8183e5f3'), <NodeRelationship.PREVIOUS: '2'>: RelatedNodeInfo(node_id='57f82d2e-7c71-485b-a5f3-1642e0e2f1d8', node_type=<ObjectType.TEXT: '1'>, metadata={'page_label': '2', 'file_name': '阿里通义免费开放奥运AI大模型.pdf', 'file_path': '/Users/zhaoxuefeng/Documents/Project/docs/zxfpro.github.io/slc/研究者/gpt_coder/pdfs/阿里通义免费开放奥运AI大模型.pdf', 'file_type': 'application/pdf', 'file_size': 3212876, 'creation_date': '2024-08-01', 'last_modified_date': '2024-08-01'}, hash='70b8aca9c69336ace54ebd088fe12fbf9635e87adc4f1c3a89447aa851fbc678'), <NodeRelationship.NEXT: '3'>: RelatedNodeInfo(node_id='904e7669-c944-46fc-88ed-6449e597a302', node_type=<ObjectType.TEXT: '1'>, metadata={}, hash='4263f5c5774f05cf3ad5af65ae72c67d9e23170ffb9c55f4f5fba064790e5d09')}, text='关于量⼦位|加⼊我们|寻求报道|商务合作\\n   追踪⼈⼯智能新趋势，报道科技⾏业新突破\\n量⼦位 QbitAI 版权所有© 北京极客伙伴科技有限公司 京ICP备17005886号-1加载更多\\n 北京中轴线 游戏技术你以为的游戏早已不是你以为的游戏\\n⻥⽺ 昨天 15:24\\n 中⼭⼤学 虚拟试⾐寡姐带货国⻛Polo衫，⻢斯克穿⽜仔⾛红毯！虚\\n拟试⾐新框架⽕了\\n只需两张图像，不到3 0秒⽣成\\n⽩交 昨天 14:53\\n ⼩鹏汽⻋何⼩鹏：端到端今年投35亿，2天迭代⼀次，可\\n实现「⻔到⻔」体验\\n何⼩鹏开喷“周销量榜”\\n贾浩楠 前天 22:40\\n 苹果苹果AI版iOS⾸⽇⽕爆：聊天秒变⾼情商，⼤模\\n型成最强嘴替，Siri华丽变身\\n还有4 7⻚⼤模型技术报告出炉\\n克雷⻄ 前天 16:17\\n 阿⾥云阿⾥云修复100年前巴黎奥运珍贵影像，国际奥\\n委会主席巴赫致谢！\\n国际奥委会⾸次公布了19 24巴黎奥运的珍贵影像\\n量⼦位 前天 15:33', start_char_idx=0, end_char_idx=415, text_template='{metadata_str}\\n\\n{content}', metadata_template='{key}: {value}', metadata_seperator='\\n'),\n",
       " TextNode(id_='904e7669-c944-46fc-88ed-6449e597a302', embedding=None, metadata={'page_label': '1', 'file_name': '飞桨框架进阶3.0！一文讲透“大模型训推一体”等五大新特性.pdf', 'file_path': '/Users/zhaoxuefeng/Documents/Project/docs/zxfpro.github.io/slc/研究者/gpt_coder/pdfs/飞桨框架进阶3.0！一文讲透“大模型训推一体”等五大新特性.pdf', 'file_type': 'application/pdf', 'file_size': 3212876, 'creation_date': '2024-08-01', 'last_modified_date': '2024-08-01'}, excluded_embed_metadata_keys=['file_name', 'file_type', 'file_size', 'creation_date', 'last_modified_date', 'last_accessed_date'], excluded_llm_metadata_keys=['file_name', 'file_type', 'file_size', 'creation_date', 'last_modified_date', 'last_accessed_date'], relationships={<NodeRelationship.SOURCE: '1'>: RelatedNodeInfo(node_id='/Users/zhaoxuefeng/Documents/Project/docs/zxfpro.github.io/slc/研究者/gpt_coder/pdfs/飞桨框架进阶3.0！一文讲透“大模型训推一体”等五大新特性.pdf_part_0', node_type=<ObjectType.DOCUMENT: '4'>, metadata={'page_label': '1', 'file_name': '飞桨框架进阶3.0！一文讲透“大模型训推一体”等五大新特性.pdf', 'file_path': '/Users/zhaoxuefeng/Documents/Project/docs/zxfpro.github.io/slc/研究者/gpt_coder/pdfs/飞桨框架进阶3.0！一文讲透“大模型训推一体”等五大新特性.pdf', 'file_type': 'application/pdf', 'file_size': 3212876, 'creation_date': '2024-08-01', 'last_modified_date': '2024-08-01'}, hash='7d7e537d2e4009fc1a17949bc3a4b9eb6dd02601ff66fd166a2b6bc2d153a12e'), <NodeRelationship.PREVIOUS: '2'>: RelatedNodeInfo(node_id='7e581003-d072-4670-a1a0-66cc6485d6b2', node_type=<ObjectType.TEXT: '1'>, metadata={'page_label': '3', 'file_name': '阿里通义免费开放奥运AI大模型.pdf', 'file_path': '/Users/zhaoxuefeng/Documents/Project/docs/zxfpro.github.io/slc/研究者/gpt_coder/pdfs/阿里通义免费开放奥运AI大模型.pdf', 'file_type': 'application/pdf', 'file_size': 3212876, 'creation_date': '2024-08-01', 'last_modified_date': '2024-08-01'}, hash='e488d3ac4150f93d26d4245e930ef87472e9ff2311c6288457c8197c8183e5f3'), <NodeRelationship.NEXT: '3'>: RelatedNodeInfo(node_id='00184af5-8567-4c0d-ad7d-818810486dae', node_type=<ObjectType.TEXT: '1'>, metadata={}, hash='4a016bba67b13826afaaced1dab29e465769f729343882b337a602f2a291d118')}, text='资讯热⻔⽂章\\n 360 isc周鸿祎ISC发布国内⾸个免费安全⼤模型 安全能\\n⼒超越GPT-4\\n其安全垂直能⼒已超过G PT-4\\n量⼦位 19分钟前\\n CPU 服务器想跑千亿⼤模型？算⼒⼚商放⼤招！CPU通⽤服\\n务器成为新选择\\n不⽤A I加速卡，只⽤4 颗CPU\\n克雷⻄ 25分钟前\\n arXiv 公开评审 斯坦福吴恩达弟⼦打造arXiv弹幕版，每篇论⽂都能⾃\\n由讨论了！\\n⽹友 ：这才是学术圈该有的样⼦！\\n明敏 2⼩时前\\n ChatGPT GPT-4o OpenAIChatGPT版「Her」被玩疯：哭着读诗，中⽂表\\n现也很亮\\n还能超快数1- 100\\n⼗三 2⼩时前\\n ⼤模型 ⽂⼼⼀⾔ 百度 ⻜桨⻜桨框架进阶3.0！⼀⽂讲透“⼤模型训推⼀体”\\n等五⼤新特性\\n为产学研各界提供稳定⽀持\\n⼗三 2⼩时前\\n 中国科学院数学与系统科学研究院 陈景润奖⾸届陈景润奖颁发！90后⼭⼤教授和84年中科\\n院研究员研究成果获奖\\n数论与代数⽅向新⽣代⼤奖\\n⻄⻛ 3⼩时前\\n CNN ⼤模型贾扬清：⼤模型尺⼨正重⾛CNN的⽼路；⻢斯\\n克：在特斯拉也是这样\\n开始反着卷了\\n衡宇 3⼩时前\\nOpenAI推出新AI搜索，⽼伙\\n计微软也默默更新了Bing\\n2024-07-26\\n字节⾖包上线吴敏霞、林丹\\n等专属智能体 奥运冠军AI…\\n2024-07-26\\n联想CTO换帅！芮勇转任新\\n集团总裁，瞄准新兴技术\\n2024-07-26\\n智平⽅打通具身智能核⼼痛\\n点：将AGI拓展到物理世界\\n2024-07-26\\n商汤科技⽇⽇新⼤模型亮相\\n巴黎，中国AI共赴奥运之约\\n2024-07-26', start_char_idx=0, end_char_idx=677, text_template='{metadata_str}\\n\\n{content}', metadata_template='{key}: {value}', metadata_seperator='\\n'),\n",
       " TextNode(id_='00184af5-8567-4c0d-ad7d-818810486dae', embedding=None, metadata={'page_label': '2', 'file_name': '飞桨框架进阶3.0！一文讲透“大模型训推一体”等五大新特性.pdf', 'file_path': '/Users/zhaoxuefeng/Documents/Project/docs/zxfpro.github.io/slc/研究者/gpt_coder/pdfs/飞桨框架进阶3.0！一文讲透“大模型训推一体”等五大新特性.pdf', 'file_type': 'application/pdf', 'file_size': 3212876, 'creation_date': '2024-08-01', 'last_modified_date': '2024-08-01'}, excluded_embed_metadata_keys=['file_name', 'file_type', 'file_size', 'creation_date', 'last_modified_date', 'last_accessed_date'], excluded_llm_metadata_keys=['file_name', 'file_type', 'file_size', 'creation_date', 'last_modified_date', 'last_accessed_date'], relationships={<NodeRelationship.SOURCE: '1'>: RelatedNodeInfo(node_id='/Users/zhaoxuefeng/Documents/Project/docs/zxfpro.github.io/slc/研究者/gpt_coder/pdfs/飞桨框架进阶3.0！一文讲透“大模型训推一体”等五大新特性.pdf_part_1', node_type=<ObjectType.DOCUMENT: '4'>, metadata={'page_label': '2', 'file_name': '飞桨框架进阶3.0！一文讲透“大模型训推一体”等五大新特性.pdf', 'file_path': '/Users/zhaoxuefeng/Documents/Project/docs/zxfpro.github.io/slc/研究者/gpt_coder/pdfs/飞桨框架进阶3.0！一文讲透“大模型训推一体”等五大新特性.pdf', 'file_type': 'application/pdf', 'file_size': 3212876, 'creation_date': '2024-08-01', 'last_modified_date': '2024-08-01'}, hash='33daa8f2f55d6c50397a50fd8b28b7221612158e5e2159381d1d4c53ee59fc88'), <NodeRelationship.PREVIOUS: '2'>: RelatedNodeInfo(node_id='904e7669-c944-46fc-88ed-6449e597a302', node_type=<ObjectType.TEXT: '1'>, metadata={'page_label': '1', 'file_name': '飞桨框架进阶3.0！一文讲透“大模型训推一体”等五大新特性.pdf', 'file_path': '/Users/zhaoxuefeng/Documents/Project/docs/zxfpro.github.io/slc/研究者/gpt_coder/pdfs/飞桨框架进阶3.0！一文讲透“大模型训推一体”等五大新特性.pdf', 'file_type': 'application/pdf', 'file_size': 3212876, 'creation_date': '2024-08-01', 'last_modified_date': '2024-08-01'}, hash='7d7e537d2e4009fc1a17949bc3a4b9eb6dd02601ff66fd166a2b6bc2d153a12e'), <NodeRelationship.NEXT: '3'>: RelatedNodeInfo(node_id='a251ac8b-903a-4c35-ab30-b5f5bdc1b37c', node_type=<ObjectType.TEXT: '1'>, metadata={}, hash='490ab4b7f2ff2d2eea73af697383d43b9c84edc60560a6d5437dd6a355c81da4')}, text='AI创作 线上活动合辑 量⼦位·视点 量⼦位活动合辑AI加持创作，「⼩说-剧本-视频」只需⼀⼈全搞\\n定｜对话波形智能\\n8⽉1⽇19:00，欢迎围观～\\n林樾 4⼩时前\\n 360ISC.AI 2024周鸿祎：落地安全⼤模型的关键是\\n找准“明星场景”\\n打造安全⼤模型 引领安全⾏业⾰命\\n量⼦位 5⼩时前\\n 通义千问 阿⾥云阿⾥通义免费开放奥运AI⼤模型\\n只需简单提问，就能获得详尽且专业的答案\\n量⼦位 22⼩时前\\n AI机器⼈ 星尘智能⼈形机器⼈「星尘智能」获数千万美元Pre-A轮\\n融资，经纬创投领投\\n星尘智能于2 022年12⽉在深圳成⽴，专注研发“ 新⼀代最强A I机器⼈助理”\\n⻥⽺ 昨天 16:07\\n Llama 3.1 李沐失联⼤神李沐B站复更：领读Llama 3.1论⽂；竞\\n技场Llama 3.1排第三\\n还分享了A I⼋卦\\n⼀⽔ 昨天 16:03\\n AI绘画 MidjourneyMidjourney新版本上线即爆⽕！⽹友已玩疯：和\\n摄影⼏乎没区别\\n⼋⼤升级来了\\n明敏 昨天 15:30\\n csdnCSDN「智研社-The Intelliger」共话⼤模型技\\n术演进与 AI Infra 创新\\n进⾏ AGI 相关前沿科技的深⼊探讨\\n量⼦位 昨天 15:26\\n Anthropic Claude 爬⾍Claude团队引众怒，为爬数据不择⼿段，给爬⾍\\n改名字⽆视禁⽌规则\\n群情激愤：⼩偷！\\n衡宇 昨天 15:24\\n超精细开放世界藏进⼩程序，他们⽤游戏技术复\\n刻北京中轴线，穿越古今的那种', start_char_idx=1, end_char_idx=647, text_template='{metadata_str}\\n\\n{content}', metadata_template='{key}: {value}', metadata_seperator='\\n'),\n",
       " TextNode(id_='a251ac8b-903a-4c35-ab30-b5f5bdc1b37c', embedding=None, metadata={'page_label': '3', 'file_name': '飞桨框架进阶3.0！一文讲透“大模型训推一体”等五大新特性.pdf', 'file_path': '/Users/zhaoxuefeng/Documents/Project/docs/zxfpro.github.io/slc/研究者/gpt_coder/pdfs/飞桨框架进阶3.0！一文讲透“大模型训推一体”等五大新特性.pdf', 'file_type': 'application/pdf', 'file_size': 3212876, 'creation_date': '2024-08-01', 'last_modified_date': '2024-08-01'}, excluded_embed_metadata_keys=['file_name', 'file_type', 'file_size', 'creation_date', 'last_modified_date', 'last_accessed_date'], excluded_llm_metadata_keys=['file_name', 'file_type', 'file_size', 'creation_date', 'last_modified_date', 'last_accessed_date'], relationships={<NodeRelationship.SOURCE: '1'>: RelatedNodeInfo(node_id='/Users/zhaoxuefeng/Documents/Project/docs/zxfpro.github.io/slc/研究者/gpt_coder/pdfs/飞桨框架进阶3.0！一文讲透“大模型训推一体”等五大新特性.pdf_part_2', node_type=<ObjectType.DOCUMENT: '4'>, metadata={'page_label': '3', 'file_name': '飞桨框架进阶3.0！一文讲透“大模型训推一体”等五大新特性.pdf', 'file_path': '/Users/zhaoxuefeng/Documents/Project/docs/zxfpro.github.io/slc/研究者/gpt_coder/pdfs/飞桨框架进阶3.0！一文讲透“大模型训推一体”等五大新特性.pdf', 'file_type': 'application/pdf', 'file_size': 3212876, 'creation_date': '2024-08-01', 'last_modified_date': '2024-08-01'}, hash='665a18cb973a2f70e9532f4049d5fd91ccfdaf4e830b001f7fd79325b1ac4486'), <NodeRelationship.PREVIOUS: '2'>: RelatedNodeInfo(node_id='00184af5-8567-4c0d-ad7d-818810486dae', node_type=<ObjectType.TEXT: '1'>, metadata={'page_label': '2', 'file_name': '飞桨框架进阶3.0！一文讲透“大模型训推一体”等五大新特性.pdf', 'file_path': '/Users/zhaoxuefeng/Documents/Project/docs/zxfpro.github.io/slc/研究者/gpt_coder/pdfs/飞桨框架进阶3.0！一文讲透“大模型训推一体”等五大新特性.pdf', 'file_type': 'application/pdf', 'file_size': 3212876, 'creation_date': '2024-08-01', 'last_modified_date': '2024-08-01'}, hash='eab87c1e4fa7618245504f45371e13150d8844f597a2e9eed646469c5c795840'), <NodeRelationship.NEXT: '3'>: RelatedNodeInfo(node_id='6a3a8358-2088-4023-8066-32ff7694165d', node_type=<ObjectType.TEXT: '1'>, metadata={}, hash='4263f5c5774f05cf3ad5af65ae72c67d9e23170ffb9c55f4f5fba064790e5d09')}, text='关于量⼦位|加⼊我们|寻求报道|商务合作\\n   追踪⼈⼯智能新趋势，报道科技⾏业新突破\\n量⼦位 QbitAI 版权所有© 北京极客伙伴科技有限公司 京ICP备17005886号-1加载更多\\n 北京中轴线 游戏技术你以为的游戏早已不是你以为的游戏\\n⻥⽺ 昨天 15:24\\n 中⼭⼤学 虚拟试⾐寡姐带货国⻛Polo衫，⻢斯克穿⽜仔⾛红毯！虚\\n拟试⾐新框架⽕了\\n只需两张图像，不到3 0秒⽣成\\n⽩交 昨天 14:53\\n ⼩鹏汽⻋何⼩鹏：端到端今年投35亿，2天迭代⼀次，可\\n实现「⻔到⻔」体验\\n何⼩鹏开喷“周销量榜”\\n贾浩楠 前天 22:40\\n 苹果苹果AI版iOS⾸⽇⽕爆：聊天秒变⾼情商，⼤模\\n型成最强嘴替，Siri华丽变身\\n还有4 7⻚⼤模型技术报告出炉\\n克雷⻄ 前天 16:17\\n 阿⾥云阿⾥云修复100年前巴黎奥运珍贵影像，国际奥\\n委会主席巴赫致谢！\\n国际奥委会⾸次公布了19 24巴黎奥运的珍贵影像\\n量⼦位 前天 15:33', start_char_idx=0, end_char_idx=415, text_template='{metadata_str}\\n\\n{content}', metadata_template='{key}: {value}', metadata_seperator='\\n'),\n",
       " TextNode(id_='6a3a8358-2088-4023-8066-32ff7694165d', embedding=None, metadata={'page_label': '1', 'file_name': '首届陈景润奖颁发！90后山大教授和84年中科院研究员研究成果获奖.pdf', 'file_path': '/Users/zhaoxuefeng/Documents/Project/docs/zxfpro.github.io/slc/研究者/gpt_coder/pdfs/首届陈景润奖颁发！90后山大教授和84年中科院研究员研究成果获奖.pdf', 'file_type': 'application/pdf', 'file_size': 3212876, 'creation_date': '2024-08-01', 'last_modified_date': '2024-08-01'}, excluded_embed_metadata_keys=['file_name', 'file_type', 'file_size', 'creation_date', 'last_modified_date', 'last_accessed_date'], excluded_llm_metadata_keys=['file_name', 'file_type', 'file_size', 'creation_date', 'last_modified_date', 'last_accessed_date'], relationships={<NodeRelationship.SOURCE: '1'>: RelatedNodeInfo(node_id='/Users/zhaoxuefeng/Documents/Project/docs/zxfpro.github.io/slc/研究者/gpt_coder/pdfs/首届陈景润奖颁发！90后山大教授和84年中科院研究员研究成果获奖.pdf_part_0', node_type=<ObjectType.DOCUMENT: '4'>, metadata={'page_label': '1', 'file_name': '首届陈景润奖颁发！90后山大教授和84年中科院研究员研究成果获奖.pdf', 'file_path': '/Users/zhaoxuefeng/Documents/Project/docs/zxfpro.github.io/slc/研究者/gpt_coder/pdfs/首届陈景润奖颁发！90后山大教授和84年中科院研究员研究成果获奖.pdf', 'file_type': 'application/pdf', 'file_size': 3212876, 'creation_date': '2024-08-01', 'last_modified_date': '2024-08-01'}, hash='fdc02d0034af85b4c6f4a590a5f7d4f3f6e8376457ddd7619f8e01e6a51c233a'), <NodeRelationship.PREVIOUS: '2'>: RelatedNodeInfo(node_id='a251ac8b-903a-4c35-ab30-b5f5bdc1b37c', node_type=<ObjectType.TEXT: '1'>, metadata={'page_label': '3', 'file_name': '飞桨框架进阶3.0！一文讲透“大模型训推一体”等五大新特性.pdf', 'file_path': '/Users/zhaoxuefeng/Documents/Project/docs/zxfpro.github.io/slc/研究者/gpt_coder/pdfs/飞桨框架进阶3.0！一文讲透“大模型训推一体”等五大新特性.pdf', 'file_type': 'application/pdf', 'file_size': 3212876, 'creation_date': '2024-08-01', 'last_modified_date': '2024-08-01'}, hash='665a18cb973a2f70e9532f4049d5fd91ccfdaf4e830b001f7fd79325b1ac4486'), <NodeRelationship.NEXT: '3'>: RelatedNodeInfo(node_id='82416e40-34a9-4d51-ac4d-6c495171003d', node_type=<ObjectType.TEXT: '1'>, metadata={}, hash='4a016bba67b13826afaaced1dab29e465769f729343882b337a602f2a291d118')}, text='资讯热⻔⽂章\\n 360 isc周鸿祎ISC发布国内⾸个免费安全⼤模型 安全能\\n⼒超越GPT-4\\n其安全垂直能⼒已超过G PT-4\\n量⼦位 19分钟前\\n CPU 服务器想跑千亿⼤模型？算⼒⼚商放⼤招！CPU通⽤服\\n务器成为新选择\\n不⽤A I加速卡，只⽤4 颗CPU\\n克雷⻄ 25分钟前\\n arXiv 公开评审 斯坦福吴恩达弟⼦打造arXiv弹幕版，每篇论⽂都能⾃\\n由讨论了！\\n⽹友 ：这才是学术圈该有的样⼦！\\n明敏 2⼩时前\\n ChatGPT GPT-4o OpenAIChatGPT版「Her」被玩疯：哭着读诗，中⽂表\\n现也很亮\\n还能超快数1- 100\\n⼗三 2⼩时前\\n ⼤模型 ⽂⼼⼀⾔ 百度 ⻜桨⻜桨框架进阶3.0！⼀⽂讲透“⼤模型训推⼀体”\\n等五⼤新特性\\n为产学研各界提供稳定⽀持\\n⼗三 2⼩时前\\n 中国科学院数学与系统科学研究院 陈景润奖⾸届陈景润奖颁发！90后⼭⼤教授和84年中科\\n院研究员研究成果获奖\\n数论与代数⽅向新⽣代⼤奖\\n⻄⻛ 3⼩时前\\n CNN ⼤模型贾扬清：⼤模型尺⼨正重⾛CNN的⽼路；⻢斯\\n克：在特斯拉也是这样\\n开始反着卷了\\n衡宇 3⼩时前\\nOpenAI推出新AI搜索，⽼伙\\n计微软也默默更新了Bing\\n2024-07-26\\n字节⾖包上线吴敏霞、林丹\\n等专属智能体 奥运冠军AI…\\n2024-07-26\\n联想CTO换帅！芮勇转任新\\n集团总裁，瞄准新兴技术\\n2024-07-26\\n智平⽅打通具身智能核⼼痛\\n点：将AGI拓展到物理世界\\n2024-07-26\\n商汤科技⽇⽇新⼤模型亮相\\n巴黎，中国AI共赴奥运之约\\n2024-07-26', start_char_idx=0, end_char_idx=677, text_template='{metadata_str}\\n\\n{content}', metadata_template='{key}: {value}', metadata_seperator='\\n'),\n",
       " TextNode(id_='82416e40-34a9-4d51-ac4d-6c495171003d', embedding=None, metadata={'page_label': '2', 'file_name': '首届陈景润奖颁发！90后山大教授和84年中科院研究员研究成果获奖.pdf', 'file_path': '/Users/zhaoxuefeng/Documents/Project/docs/zxfpro.github.io/slc/研究者/gpt_coder/pdfs/首届陈景润奖颁发！90后山大教授和84年中科院研究员研究成果获奖.pdf', 'file_type': 'application/pdf', 'file_size': 3212876, 'creation_date': '2024-08-01', 'last_modified_date': '2024-08-01'}, excluded_embed_metadata_keys=['file_name', 'file_type', 'file_size', 'creation_date', 'last_modified_date', 'last_accessed_date'], excluded_llm_metadata_keys=['file_name', 'file_type', 'file_size', 'creation_date', 'last_modified_date', 'last_accessed_date'], relationships={<NodeRelationship.SOURCE: '1'>: RelatedNodeInfo(node_id='/Users/zhaoxuefeng/Documents/Project/docs/zxfpro.github.io/slc/研究者/gpt_coder/pdfs/首届陈景润奖颁发！90后山大教授和84年中科院研究员研究成果获奖.pdf_part_1', node_type=<ObjectType.DOCUMENT: '4'>, metadata={'page_label': '2', 'file_name': '首届陈景润奖颁发！90后山大教授和84年中科院研究员研究成果获奖.pdf', 'file_path': '/Users/zhaoxuefeng/Documents/Project/docs/zxfpro.github.io/slc/研究者/gpt_coder/pdfs/首届陈景润奖颁发！90后山大教授和84年中科院研究员研究成果获奖.pdf', 'file_type': 'application/pdf', 'file_size': 3212876, 'creation_date': '2024-08-01', 'last_modified_date': '2024-08-01'}, hash='1018849b87882da334c0edba993558a7b266d0f0a3ea1f3577ae3d0084fef7b4'), <NodeRelationship.PREVIOUS: '2'>: RelatedNodeInfo(node_id='6a3a8358-2088-4023-8066-32ff7694165d', node_type=<ObjectType.TEXT: '1'>, metadata={'page_label': '1', 'file_name': '首届陈景润奖颁发！90后山大教授和84年中科院研究员研究成果获奖.pdf', 'file_path': '/Users/zhaoxuefeng/Documents/Project/docs/zxfpro.github.io/slc/研究者/gpt_coder/pdfs/首届陈景润奖颁发！90后山大教授和84年中科院研究员研究成果获奖.pdf', 'file_type': 'application/pdf', 'file_size': 3212876, 'creation_date': '2024-08-01', 'last_modified_date': '2024-08-01'}, hash='fdc02d0034af85b4c6f4a590a5f7d4f3f6e8376457ddd7619f8e01e6a51c233a'), <NodeRelationship.NEXT: '3'>: RelatedNodeInfo(node_id='8891e246-2bc8-4786-a7b1-88bbf2b2c3c5', node_type=<ObjectType.TEXT: '1'>, metadata={}, hash='490ab4b7f2ff2d2eea73af697383d43b9c84edc60560a6d5437dd6a355c81da4')}, text='AI创作 线上活动合辑 量⼦位·视点 量⼦位活动合辑AI加持创作，「⼩说-剧本-视频」只需⼀⼈全搞\\n定｜对话波形智能\\n8⽉1⽇19:00，欢迎围观～\\n林樾 4⼩时前\\n 360ISC.AI 2024周鸿祎：落地安全⼤模型的关键是\\n找准“明星场景”\\n打造安全⼤模型 引领安全⾏业⾰命\\n量⼦位 5⼩时前\\n 通义千问 阿⾥云阿⾥通义免费开放奥运AI⼤模型\\n只需简单提问，就能获得详尽且专业的答案\\n量⼦位 22⼩时前\\n AI机器⼈ 星尘智能⼈形机器⼈「星尘智能」获数千万美元Pre-A轮\\n融资，经纬创投领投\\n星尘智能于2 022年12⽉在深圳成⽴，专注研发“ 新⼀代最强A I机器⼈助理”\\n⻥⽺ 昨天 16:07\\n Llama 3.1 李沐失联⼤神李沐B站复更：领读Llama 3.1论⽂；竞\\n技场Llama 3.1排第三\\n还分享了A I⼋卦\\n⼀⽔ 昨天 16:03\\n AI绘画 MidjourneyMidjourney新版本上线即爆⽕！⽹友已玩疯：和\\n摄影⼏乎没区别\\n⼋⼤升级来了\\n明敏 昨天 15:30\\n csdnCSDN「智研社-The Intelliger」共话⼤模型技\\n术演进与 AI Infra 创新\\n进⾏ AGI 相关前沿科技的深⼊探讨\\n量⼦位 昨天 15:26\\n Anthropic Claude 爬⾍Claude团队引众怒，为爬数据不择⼿段，给爬⾍\\n改名字⽆视禁⽌规则\\n群情激愤：⼩偷！\\n衡宇 昨天 15:24\\n超精细开放世界藏进⼩程序，他们⽤游戏技术复\\n刻北京中轴线，穿越古今的那种', start_char_idx=1, end_char_idx=647, text_template='{metadata_str}\\n\\n{content}', metadata_template='{key}: {value}', metadata_seperator='\\n'),\n",
       " TextNode(id_='8891e246-2bc8-4786-a7b1-88bbf2b2c3c5', embedding=None, metadata={'page_label': '3', 'file_name': '首届陈景润奖颁发！90后山大教授和84年中科院研究员研究成果获奖.pdf', 'file_path': '/Users/zhaoxuefeng/Documents/Project/docs/zxfpro.github.io/slc/研究者/gpt_coder/pdfs/首届陈景润奖颁发！90后山大教授和84年中科院研究员研究成果获奖.pdf', 'file_type': 'application/pdf', 'file_size': 3212876, 'creation_date': '2024-08-01', 'last_modified_date': '2024-08-01'}, excluded_embed_metadata_keys=['file_name', 'file_type', 'file_size', 'creation_date', 'last_modified_date', 'last_accessed_date'], excluded_llm_metadata_keys=['file_name', 'file_type', 'file_size', 'creation_date', 'last_modified_date', 'last_accessed_date'], relationships={<NodeRelationship.SOURCE: '1'>: RelatedNodeInfo(node_id='/Users/zhaoxuefeng/Documents/Project/docs/zxfpro.github.io/slc/研究者/gpt_coder/pdfs/首届陈景润奖颁发！90后山大教授和84年中科院研究员研究成果获奖.pdf_part_2', node_type=<ObjectType.DOCUMENT: '4'>, metadata={'page_label': '3', 'file_name': '首届陈景润奖颁发！90后山大教授和84年中科院研究员研究成果获奖.pdf', 'file_path': '/Users/zhaoxuefeng/Documents/Project/docs/zxfpro.github.io/slc/研究者/gpt_coder/pdfs/首届陈景润奖颁发！90后山大教授和84年中科院研究员研究成果获奖.pdf', 'file_type': 'application/pdf', 'file_size': 3212876, 'creation_date': '2024-08-01', 'last_modified_date': '2024-08-01'}, hash='e2cb94553034bda82ea15ce76c3f38e74676bbb18526ab58c6a2dd9d5fd2f490'), <NodeRelationship.PREVIOUS: '2'>: RelatedNodeInfo(node_id='82416e40-34a9-4d51-ac4d-6c495171003d', node_type=<ObjectType.TEXT: '1'>, metadata={'page_label': '2', 'file_name': '首届陈景润奖颁发！90后山大教授和84年中科院研究员研究成果获奖.pdf', 'file_path': '/Users/zhaoxuefeng/Documents/Project/docs/zxfpro.github.io/slc/研究者/gpt_coder/pdfs/首届陈景润奖颁发！90后山大教授和84年中科院研究员研究成果获奖.pdf', 'file_type': 'application/pdf', 'file_size': 3212876, 'creation_date': '2024-08-01', 'last_modified_date': '2024-08-01'}, hash='1cdae94c4ac7957289db38a09afb91bc2ce1c8142b45449c548eba1542e01b9d')}, text='关于量⼦位|加⼊我们|寻求报道|商务合作\\n   追踪⼈⼯智能新趋势，报道科技⾏业新突破\\n量⼦位 QbitAI 版权所有© 北京极客伙伴科技有限公司 京ICP备17005886号-1加载更多\\n 北京中轴线 游戏技术你以为的游戏早已不是你以为的游戏\\n⻥⽺ 昨天 15:24\\n 中⼭⼤学 虚拟试⾐寡姐带货国⻛Polo衫，⻢斯克穿⽜仔⾛红毯！虚\\n拟试⾐新框架⽕了\\n只需两张图像，不到3 0秒⽣成\\n⽩交 昨天 14:53\\n ⼩鹏汽⻋何⼩鹏：端到端今年投35亿，2天迭代⼀次，可\\n实现「⻔到⻔」体验\\n何⼩鹏开喷“周销量榜”\\n贾浩楠 前天 22:40\\n 苹果苹果AI版iOS⾸⽇⽕爆：聊天秒变⾼情商，⼤模\\n型成最强嘴替，Siri华丽变身\\n还有4 7⻚⼤模型技术报告出炉\\n克雷⻄ 前天 16:17\\n 阿⾥云阿⾥云修复100年前巴黎奥运珍贵影像，国际奥\\n委会主席巴赫致谢！\\n国际奥委会⾸次公布了19 24巴黎奥运的珍贵影像\\n量⼦位 前天 15:33', start_char_idx=0, end_char_idx=415, text_template='{metadata_str}\\n\\n{content}', metadata_template='{key}: {value}', metadata_seperator='\\n')]"
      ]
     },
     "execution_count": 172,
     "metadata": {},
     "output_type": "execute_result"
    }
   ],
   "source": [
    "nodes"
   ]
  },
  {
   "cell_type": "code",
   "execution_count": 173,
   "id": "8f4ee9ed-e92d-49bc-b5b8-51e2952dc52b",
   "metadata": {
    "tags": []
   },
   "outputs": [],
   "source": [
    "from zxftools_dev.rag import IndexMaker"
   ]
  },
  {
   "cell_type": "code",
   "execution_count": 176,
   "id": "cce6c35b-a898-45e5-a91a-4c64f1e9143e",
   "metadata": {
    "tags": []
   },
   "outputs": [],
   "source": [
    "index = IndexMaker(nodes)"
   ]
  },
  {
   "cell_type": "code",
   "execution_count": 177,
   "id": "a8e9e349-5f8f-4da8-93f4-19b4a10f9ac2",
   "metadata": {
    "tags": []
   },
   "outputs": [],
   "source": [
    "from zxftools_dev.rag.utils import set_global"
   ]
  },
  {
   "cell_type": "code",
   "execution_count": 179,
   "id": "a15755a3-e91b-46e7-8191-02f7352b2461",
   "metadata": {
    "tags": []
   },
   "outputs": [],
   "source": [
    "set_global(llm=llm)"
   ]
  },
  {
   "cell_type": "code",
   "execution_count": 185,
   "id": "46184bb3-eca1-4ca7-8ebe-ffc01393613e",
   "metadata": {
    "tags": []
   },
   "outputs": [],
   "source": [
    "qengine = index.as_query_engine()"
   ]
  },
  {
   "cell_type": "code",
   "execution_count": 187,
   "id": "671a85ee-8cc3-4d5c-b8ff-35652d1b5372",
   "metadata": {
    "tags": []
   },
   "outputs": [],
   "source": [
    "resu1 = qengine.query('我想知道关于gpt的最新消息')"
   ]
  },
  {
   "cell_type": "code",
   "execution_count": 191,
   "id": "04f55904-af26-43bd-ba7f-dd05c13b2544",
   "metadata": {
    "tags": []
   },
   "outputs": [
    {
     "data": {
      "text/plain": [
       "'最新消息显示，360 ISC发布了国内首个免费安全大模型，其安全能力已经超过了GPT-4。此外，OpenAI推出了新AI搜索功能，并且微软也更新了Bing。'"
      ]
     },
     "execution_count": 191,
     "metadata": {},
     "output_type": "execute_result"
    }
   ],
   "source": [
    "resu1.response"
   ]
  },
  {
   "cell_type": "code",
   "execution_count": 192,
   "id": "d181a6aa-6d43-468c-936c-da30c76e5cf9",
   "metadata": {
    "collapsed": true,
    "jupyter": {
     "outputs_hidden": true
    },
    "tags": []
   },
   "outputs": [
    {
     "data": {
      "text/plain": [
       "[NodeWithScore(node=TextNode(id_='node-30', embedding=None, metadata={'page_label': '1', 'file_name': '超精细开放世界藏进小程序，他们用游戏技术复刻北京中轴线，穿越古今的那种.pdf', 'file_path': '/Users/zhaoxuefeng/Documents/Project/docs/zxfpro.github.io/slc/研究者/gpt_coder/pdfs/超精细开放世界藏进小程序，他们用游戏技术复刻北京中轴线，穿越古今的那种.pdf', 'file_type': 'application/pdf', 'file_size': 3212876, 'creation_date': '2024-08-01', 'last_modified_date': '2024-08-01'}, excluded_embed_metadata_keys=['file_name', 'file_type', 'file_size', 'creation_date', 'last_modified_date', 'last_accessed_date'], excluded_llm_metadata_keys=['file_name', 'file_type', 'file_size', 'creation_date', 'last_modified_date', 'last_accessed_date'], relationships={<NodeRelationship.SOURCE: '1'>: RelatedNodeInfo(node_id='/Users/zhaoxuefeng/Documents/Project/docs/zxfpro.github.io/slc/研究者/gpt_coder/pdfs/超精细开放世界藏进小程序，他们用游戏技术复刻北京中轴线，穿越古今的那种.pdf_part_0', node_type=<ObjectType.DOCUMENT: '4'>, metadata={'page_label': '1', 'file_name': '超精细开放世界藏进小程序，他们用游戏技术复刻北京中轴线，穿越古今的那种.pdf', 'file_path': '/Users/zhaoxuefeng/Documents/Project/docs/zxfpro.github.io/slc/研究者/gpt_coder/pdfs/超精细开放世界藏进小程序，他们用游戏技术复刻北京中轴线，穿越古今的那种.pdf', 'file_type': 'application/pdf', 'file_size': 3212876, 'creation_date': '2024-08-01', 'last_modified_date': '2024-08-01'}, hash='71b72e147ab58f624c7b89f6f40093ffaba3e589bf25d7dff1b0b394ca0ed801'), <NodeRelationship.PREVIOUS: '2'>: RelatedNodeInfo(node_id='4374318a-eb29-4c5b-940f-01a1207c39bc', node_type=<ObjectType.TEXT: '1'>, metadata={'page_label': '3', 'file_name': '贾扬清：大模型尺寸正重走CNN的老路；马斯克：在特斯拉也是这样.pdf', 'file_path': '/Users/zhaoxuefeng/Documents/Project/docs/zxfpro.github.io/slc/研究者/gpt_coder/pdfs/贾扬清：大模型尺寸正重走CNN的老路；马斯克：在特斯拉也是这样.pdf', 'file_type': 'application/pdf', 'file_size': 3212876, 'creation_date': '2024-08-01', 'last_modified_date': '2024-08-01'}, hash='e3de945b39a8b9ca9d4dabcc996b6fc0b33018eaae5d82566d7c0cf9768ed2e6'), <NodeRelationship.NEXT: '3'>: RelatedNodeInfo(node_id='b64bb870-5572-491f-8915-b5ab9501ebd0', node_type=<ObjectType.TEXT: '1'>, metadata={}, hash='4a016bba67b13826afaaced1dab29e465769f729343882b337a602f2a291d118')}, text='资讯热⻔⽂章\\n 360 isc周鸿祎ISC发布国内⾸个免费安全⼤模型 安全能\\n⼒超越GPT-4\\n其安全垂直能⼒已超过G PT-4\\n量⼦位 19分钟前\\n CPU 服务器想跑千亿⼤模型？算⼒⼚商放⼤招！CPU通⽤服\\n务器成为新选择\\n不⽤A I加速卡，只⽤4 颗CPU\\n克雷⻄ 25分钟前\\n arXiv 公开评审 斯坦福吴恩达弟⼦打造arXiv弹幕版，每篇论⽂都能⾃\\n由讨论了！\\n⽹友 ：这才是学术圈该有的样⼦！\\n明敏 2⼩时前\\n ChatGPT GPT-4o OpenAIChatGPT版「Her」被玩疯：哭着读诗，中⽂表\\n现也很亮\\n还能超快数1- 100\\n⼗三 2⼩时前\\n ⼤模型 ⽂⼼⼀⾔ 百度 ⻜桨⻜桨框架进阶3.0！⼀⽂讲透“⼤模型训推⼀体”\\n等五⼤新特性\\n为产学研各界提供稳定⽀持\\n⼗三 2⼩时前\\n 中国科学院数学与系统科学研究院 陈景润奖⾸届陈景润奖颁发！90后⼭⼤教授和84年中科\\n院研究员研究成果获奖\\n数论与代数⽅向新⽣代⼤奖\\n⻄⻛ 3⼩时前\\n CNN ⼤模型贾扬清：⼤模型尺⼨正重⾛CNN的⽼路；⻢斯\\n克：在特斯拉也是这样\\n开始反着卷了\\n衡宇 3⼩时前\\nOpenAI推出新AI搜索，⽼伙\\n计微软也默默更新了Bing\\n2024-07-26\\n字节⾖包上线吴敏霞、林丹\\n等专属智能体 奥运冠军AI…\\n2024-07-26\\n联想CTO换帅！芮勇转任新\\n集团总裁，瞄准新兴技术\\n2024-07-26\\n智平⽅打通具身智能核⼼痛\\n点：将AGI拓展到物理世界\\n2024-07-26\\n商汤科技⽇⽇新⼤模型亮相\\n巴黎，中国AI共赴奥运之约\\n2024-07-26', start_char_idx=0, end_char_idx=677, text_template='{metadata_str}\\n\\n{content}', metadata_template='{key}: {value}', metadata_seperator='\\n'), score=0.8363133324196412),\n",
       " NodeWithScore(node=TextNode(id_='node-33', embedding=None, metadata={'page_label': '1', 'file_name': '阿里云修复100年前巴黎奥运珍贵影像，国际奥委会主席巴赫致谢！.pdf', 'file_path': '/Users/zhaoxuefeng/Documents/Project/docs/zxfpro.github.io/slc/研究者/gpt_coder/pdfs/阿里云修复100年前巴黎奥运珍贵影像，国际奥委会主席巴赫致谢！.pdf', 'file_type': 'application/pdf', 'file_size': 3212876, 'creation_date': '2024-08-01', 'last_modified_date': '2024-08-01'}, excluded_embed_metadata_keys=['file_name', 'file_type', 'file_size', 'creation_date', 'last_modified_date', 'last_accessed_date'], excluded_llm_metadata_keys=['file_name', 'file_type', 'file_size', 'creation_date', 'last_modified_date', 'last_accessed_date'], relationships={<NodeRelationship.SOURCE: '1'>: RelatedNodeInfo(node_id='/Users/zhaoxuefeng/Documents/Project/docs/zxfpro.github.io/slc/研究者/gpt_coder/pdfs/阿里云修复100年前巴黎奥运珍贵影像，国际奥委会主席巴赫致谢！.pdf_part_0', node_type=<ObjectType.DOCUMENT: '4'>, metadata={'page_label': '1', 'file_name': '阿里云修复100年前巴黎奥运珍贵影像，国际奥委会主席巴赫致谢！.pdf', 'file_path': '/Users/zhaoxuefeng/Documents/Project/docs/zxfpro.github.io/slc/研究者/gpt_coder/pdfs/阿里云修复100年前巴黎奥运珍贵影像，国际奥委会主席巴赫致谢！.pdf', 'file_type': 'application/pdf', 'file_size': 3212876, 'creation_date': '2024-08-01', 'last_modified_date': '2024-08-01'}, hash='c69fb26b5f07a721e18079a7aa5bbc54d2e99a19bd491c73142ddc60f24e4800'), <NodeRelationship.PREVIOUS: '2'>: RelatedNodeInfo(node_id='8660c442-faa1-4711-ba14-49bb70e753a4', node_type=<ObjectType.TEXT: '1'>, metadata={'page_label': '3', 'file_name': '超精细开放世界藏进小程序，他们用游戏技术复刻北京中轴线，穿越古今的那种.pdf', 'file_path': '/Users/zhaoxuefeng/Documents/Project/docs/zxfpro.github.io/slc/研究者/gpt_coder/pdfs/超精细开放世界藏进小程序，他们用游戏技术复刻北京中轴线，穿越古今的那种.pdf', 'file_type': 'application/pdf', 'file_size': 3212876, 'creation_date': '2024-08-01', 'last_modified_date': '2024-08-01'}, hash='5516724350f0fa2f97a3ecfe61a1d1a7003a281dfa5183a595f6e3d041451d9f'), <NodeRelationship.NEXT: '3'>: RelatedNodeInfo(node_id='1f3052a8-1f9e-430b-bcf2-c09ca04cea61', node_type=<ObjectType.TEXT: '1'>, metadata={}, hash='4a016bba67b13826afaaced1dab29e465769f729343882b337a602f2a291d118')}, text='资讯热⻔⽂章\\n 360 isc周鸿祎ISC发布国内⾸个免费安全⼤模型 安全能\\n⼒超越GPT-4\\n其安全垂直能⼒已超过G PT-4\\n量⼦位 19分钟前\\n CPU 服务器想跑千亿⼤模型？算⼒⼚商放⼤招！CPU通⽤服\\n务器成为新选择\\n不⽤A I加速卡，只⽤4 颗CPU\\n克雷⻄ 25分钟前\\n arXiv 公开评审 斯坦福吴恩达弟⼦打造arXiv弹幕版，每篇论⽂都能⾃\\n由讨论了！\\n⽹友 ：这才是学术圈该有的样⼦！\\n明敏 2⼩时前\\n ChatGPT GPT-4o OpenAIChatGPT版「Her」被玩疯：哭着读诗，中⽂表\\n现也很亮\\n还能超快数1- 100\\n⼗三 2⼩时前\\n ⼤模型 ⽂⼼⼀⾔ 百度 ⻜桨⻜桨框架进阶3.0！⼀⽂讲透“⼤模型训推⼀体”\\n等五⼤新特性\\n为产学研各界提供稳定⽀持\\n⼗三 2⼩时前\\n 中国科学院数学与系统科学研究院 陈景润奖⾸届陈景润奖颁发！90后⼭⼤教授和84年中科\\n院研究员研究成果获奖\\n数论与代数⽅向新⽣代⼤奖\\n⻄⻛ 3⼩时前\\n CNN ⼤模型贾扬清：⼤模型尺⼨正重⾛CNN的⽼路；⻢斯\\n克：在特斯拉也是这样\\n开始反着卷了\\n衡宇 3⼩时前\\nOpenAI推出新AI搜索，⽼伙\\n计微软也默默更新了Bing\\n2024-07-26\\n字节⾖包上线吴敏霞、林丹\\n等专属智能体 奥运冠军AI…\\n2024-07-26\\n联想CTO换帅！芮勇转任新\\n集团总裁，瞄准新兴技术\\n2024-07-26\\n智平⽅打通具身智能核⼼痛\\n点：将AGI拓展到物理世界\\n2024-07-26\\n商汤科技⽇⽇新⼤模型亮相\\n巴黎，中国AI共赴奥运之约\\n2024-07-26', start_char_idx=0, end_char_idx=677, text_template='{metadata_str}\\n\\n{content}', metadata_template='{key}: {value}', metadata_seperator='\\n'), score=0.8360594848254341)]"
      ]
     },
     "execution_count": 192,
     "metadata": {},
     "output_type": "execute_result"
    }
   ],
   "source": [
    "resu1.source_nodes"
   ]
  },
  {
   "cell_type": "code",
   "execution_count": 195,
   "id": "c5e01b66-6f32-416b-913f-6ebff05b9c46",
   "metadata": {
    "collapsed": true,
    "jupyter": {
     "outputs_hidden": true
    },
    "tags": []
   },
   "outputs": [
    {
     "data": {
      "text/plain": [
       "{'node-30': {'page_label': '1',\n",
       "  'file_name': '超精细开放世界藏进小程序，他们用游戏技术复刻北京中轴线，穿越古今的那种.pdf',\n",
       "  'file_path': '/Users/zhaoxuefeng/Documents/Project/docs/zxfpro.github.io/slc/研究者/gpt_coder/pdfs/超精细开放世界藏进小程序，他们用游戏技术复刻北京中轴线，穿越古今的那种.pdf',\n",
       "  'file_type': 'application/pdf',\n",
       "  'file_size': 3212876,\n",
       "  'creation_date': '2024-08-01',\n",
       "  'last_modified_date': '2024-08-01'},\n",
       " 'node-33': {'page_label': '1',\n",
       "  'file_name': '阿里云修复100年前巴黎奥运珍贵影像，国际奥委会主席巴赫致谢！.pdf',\n",
       "  'file_path': '/Users/zhaoxuefeng/Documents/Project/docs/zxfpro.github.io/slc/研究者/gpt_coder/pdfs/阿里云修复100年前巴黎奥运珍贵影像，国际奥委会主席巴赫致谢！.pdf',\n",
       "  'file_type': 'application/pdf',\n",
       "  'file_size': 3212876,\n",
       "  'creation_date': '2024-08-01',\n",
       "  'last_modified_date': '2024-08-01'}}"
      ]
     },
     "execution_count": 195,
     "metadata": {},
     "output_type": "execute_result"
    }
   ],
   "source": [
    "resu1.metadata"
   ]
  },
  {
   "cell_type": "code",
   "execution_count": null,
   "id": "7087395b-6154-4069-ac21-24d42f82fbef",
   "metadata": {},
   "outputs": [],
   "source": [
    "# 搜索引擎 假如说,这个搜索引擎很准,"
   ]
  },
  {
   "cell_type": "code",
   "execution_count": 196,
   "id": "d13b04b7-aad2-4614-9b82-ab3d426c47b7",
   "metadata": {
    "tags": []
   },
   "outputs": [
    {
     "data": {
      "text/markdown": [
       "最新消息显示，360 ISC发布了国内首个免费安全大模型，其安全能力已经超过了GPT-4。此外，OpenAI推出了新AI搜索功能，并且微软也更新了Bing。"
      ],
      "text/plain": [
       "<IPython.core.display.Markdown object>"
      ]
     },
     "execution_count": 196,
     "metadata": {},
     "output_type": "execute_result"
    }
   ],
   "source": [
    "Markdown(resu1.response)"
   ]
  },
  {
   "cell_type": "code",
   "execution_count": null,
   "id": "79ac8690-c40b-483b-ab35-0fbd16eebf5c",
   "metadata": {},
   "outputs": [],
   "source": []
  },
  {
   "cell_type": "code",
   "execution_count": null,
   "id": "25758863-c5a5-4960-92a9-5f1a720a545c",
   "metadata": {},
   "outputs": [],
   "source": [
    "## 询问"
   ]
  },
  {
   "cell_type": "code",
   "execution_count": 198,
   "id": "49986fee-6cee-4500-856d-b0a313d5edb8",
   "metadata": {
    "tags": []
   },
   "outputs": [],
   "source": [
    "from IPython.display import JSON"
   ]
  },
  {
   "cell_type": "code",
   "execution_count": 199,
   "id": "d03d30f3-cbb8-4665-b30d-5ac6bcd83846",
   "metadata": {
    "tags": []
   },
   "outputs": [
    {
     "data": {
      "application/json": [
       [
        [
         "node",
         [
          [
           "id_",
           "node-30"
          ],
          [
           "embedding",
           null
          ],
          [
           "metadata",
           {
            "creation_date": "2024-08-01",
            "file_name": "超精细开放世界藏进小程序，他们用游戏技术复刻北京中轴线，穿越古今的那种.pdf",
            "file_path": "/Users/zhaoxuefeng/Documents/Project/docs/zxfpro.github.io/slc/研究者/gpt_coder/pdfs/超精细开放世界藏进小程序，他们用游戏技术复刻北京中轴线，穿越古今的那种.pdf",
            "file_size": 3212876,
            "file_type": "application/pdf",
            "last_modified_date": "2024-08-01",
            "page_label": "1"
           }
          ],
          [
           "excluded_embed_metadata_keys",
           [
            "file_name",
            "file_type",
            "file_size",
            "creation_date",
            "last_modified_date",
            "last_accessed_date"
           ]
          ],
          [
           "excluded_llm_metadata_keys",
           [
            "file_name",
            "file_type",
            "file_size",
            "creation_date",
            "last_modified_date",
            "last_accessed_date"
           ]
          ],
          [
           "relationships",
           {
            "1": [
             [
              "node_id",
              "/Users/zhaoxuefeng/Documents/Project/docs/zxfpro.github.io/slc/研究者/gpt_coder/pdfs/超精细开放世界藏进小程序，他们用游戏技术复刻北京中轴线，穿越古今的那种.pdf_part_0"
             ],
             [
              "node_type",
              "4"
             ],
             [
              "metadata",
              {
               "creation_date": "2024-08-01",
               "file_name": "超精细开放世界藏进小程序，他们用游戏技术复刻北京中轴线，穿越古今的那种.pdf",
               "file_path": "/Users/zhaoxuefeng/Documents/Project/docs/zxfpro.github.io/slc/研究者/gpt_coder/pdfs/超精细开放世界藏进小程序，他们用游戏技术复刻北京中轴线，穿越古今的那种.pdf",
               "file_size": 3212876,
               "file_type": "application/pdf",
               "last_modified_date": "2024-08-01",
               "page_label": "1"
              }
             ],
             [
              "hash",
              "71b72e147ab58f624c7b89f6f40093ffaba3e589bf25d7dff1b0b394ca0ed801"
             ]
            ],
            "2": [
             [
              "node_id",
              "4374318a-eb29-4c5b-940f-01a1207c39bc"
             ],
             [
              "node_type",
              "1"
             ],
             [
              "metadata",
              {
               "creation_date": "2024-08-01",
               "file_name": "贾扬清：大模型尺寸正重走CNN的老路；马斯克：在特斯拉也是这样.pdf",
               "file_path": "/Users/zhaoxuefeng/Documents/Project/docs/zxfpro.github.io/slc/研究者/gpt_coder/pdfs/贾扬清：大模型尺寸正重走CNN的老路；马斯克：在特斯拉也是这样.pdf",
               "file_size": 3212876,
               "file_type": "application/pdf",
               "last_modified_date": "2024-08-01",
               "page_label": "3"
              }
             ],
             [
              "hash",
              "e3de945b39a8b9ca9d4dabcc996b6fc0b33018eaae5d82566d7c0cf9768ed2e6"
             ]
            ],
            "3": [
             [
              "node_id",
              "b64bb870-5572-491f-8915-b5ab9501ebd0"
             ],
             [
              "node_type",
              "1"
             ],
             [
              "metadata",
              {}
             ],
             [
              "hash",
              "4a016bba67b13826afaaced1dab29e465769f729343882b337a602f2a291d118"
             ]
            ]
           }
          ],
          [
           "text",
           "资讯热⻔⽂章\n 360 isc周鸿祎ISC发布国内⾸个免费安全⼤模型 安全能\n⼒超越GPT-4\n其安全垂直能⼒已超过G PT-4\n量⼦位 19分钟前\n CPU 服务器想跑千亿⼤模型？算⼒⼚商放⼤招！CPU通⽤服\n务器成为新选择\n不⽤A I加速卡，只⽤4 颗CPU\n克雷⻄ 25分钟前\n arXiv 公开评审 斯坦福吴恩达弟⼦打造arXiv弹幕版，每篇论⽂都能⾃\n由讨论了！\n⽹友 ：这才是学术圈该有的样⼦！\n明敏 2⼩时前\n ChatGPT GPT-4o OpenAIChatGPT版「Her」被玩疯：哭着读诗，中⽂表\n现也很亮\n还能超快数1- 100\n⼗三 2⼩时前\n ⼤模型 ⽂⼼⼀⾔ 百度 ⻜桨⻜桨框架进阶3.0！⼀⽂讲透“⼤模型训推⼀体”\n等五⼤新特性\n为产学研各界提供稳定⽀持\n⼗三 2⼩时前\n 中国科学院数学与系统科学研究院 陈景润奖⾸届陈景润奖颁发！90后⼭⼤教授和84年中科\n院研究员研究成果获奖\n数论与代数⽅向新⽣代⼤奖\n⻄⻛ 3⼩时前\n CNN ⼤模型贾扬清：⼤模型尺⼨正重⾛CNN的⽼路；⻢斯\n克：在特斯拉也是这样\n开始反着卷了\n衡宇 3⼩时前\nOpenAI推出新AI搜索，⽼伙\n计微软也默默更新了Bing\n2024-07-26\n字节⾖包上线吴敏霞、林丹\n等专属智能体 奥运冠军AI…\n2024-07-26\n联想CTO换帅！芮勇转任新\n集团总裁，瞄准新兴技术\n2024-07-26\n智平⽅打通具身智能核⼼痛\n点：将AGI拓展到物理世界\n2024-07-26\n商汤科技⽇⽇新⼤模型亮相\n巴黎，中国AI共赴奥运之约\n2024-07-26"
          ],
          [
           "start_char_idx",
           0
          ],
          [
           "end_char_idx",
           677
          ],
          [
           "text_template",
           "{metadata_str}\n\n{content}"
          ],
          [
           "metadata_template",
           "{key}: {value}"
          ],
          [
           "metadata_seperator",
           "\n"
          ]
         ]
        ],
        [
         "score",
         0.8363133324196412
        ]
       ],
       [
        [
         "node",
         [
          [
           "id_",
           "node-33"
          ],
          [
           "embedding",
           null
          ],
          [
           "metadata",
           {
            "creation_date": "2024-08-01",
            "file_name": "阿里云修复100年前巴黎奥运珍贵影像，国际奥委会主席巴赫致谢！.pdf",
            "file_path": "/Users/zhaoxuefeng/Documents/Project/docs/zxfpro.github.io/slc/研究者/gpt_coder/pdfs/阿里云修复100年前巴黎奥运珍贵影像，国际奥委会主席巴赫致谢！.pdf",
            "file_size": 3212876,
            "file_type": "application/pdf",
            "last_modified_date": "2024-08-01",
            "page_label": "1"
           }
          ],
          [
           "excluded_embed_metadata_keys",
           [
            "file_name",
            "file_type",
            "file_size",
            "creation_date",
            "last_modified_date",
            "last_accessed_date"
           ]
          ],
          [
           "excluded_llm_metadata_keys",
           [
            "file_name",
            "file_type",
            "file_size",
            "creation_date",
            "last_modified_date",
            "last_accessed_date"
           ]
          ],
          [
           "relationships",
           {
            "1": [
             [
              "node_id",
              "/Users/zhaoxuefeng/Documents/Project/docs/zxfpro.github.io/slc/研究者/gpt_coder/pdfs/阿里云修复100年前巴黎奥运珍贵影像，国际奥委会主席巴赫致谢！.pdf_part_0"
             ],
             [
              "node_type",
              "4"
             ],
             [
              "metadata",
              {
               "creation_date": "2024-08-01",
               "file_name": "阿里云修复100年前巴黎奥运珍贵影像，国际奥委会主席巴赫致谢！.pdf",
               "file_path": "/Users/zhaoxuefeng/Documents/Project/docs/zxfpro.github.io/slc/研究者/gpt_coder/pdfs/阿里云修复100年前巴黎奥运珍贵影像，国际奥委会主席巴赫致谢！.pdf",
               "file_size": 3212876,
               "file_type": "application/pdf",
               "last_modified_date": "2024-08-01",
               "page_label": "1"
              }
             ],
             [
              "hash",
              "c69fb26b5f07a721e18079a7aa5bbc54d2e99a19bd491c73142ddc60f24e4800"
             ]
            ],
            "2": [
             [
              "node_id",
              "8660c442-faa1-4711-ba14-49bb70e753a4"
             ],
             [
              "node_type",
              "1"
             ],
             [
              "metadata",
              {
               "creation_date": "2024-08-01",
               "file_name": "超精细开放世界藏进小程序，他们用游戏技术复刻北京中轴线，穿越古今的那种.pdf",
               "file_path": "/Users/zhaoxuefeng/Documents/Project/docs/zxfpro.github.io/slc/研究者/gpt_coder/pdfs/超精细开放世界藏进小程序，他们用游戏技术复刻北京中轴线，穿越古今的那种.pdf",
               "file_size": 3212876,
               "file_type": "application/pdf",
               "last_modified_date": "2024-08-01",
               "page_label": "3"
              }
             ],
             [
              "hash",
              "5516724350f0fa2f97a3ecfe61a1d1a7003a281dfa5183a595f6e3d041451d9f"
             ]
            ],
            "3": [
             [
              "node_id",
              "1f3052a8-1f9e-430b-bcf2-c09ca04cea61"
             ],
             [
              "node_type",
              "1"
             ],
             [
              "metadata",
              {}
             ],
             [
              "hash",
              "4a016bba67b13826afaaced1dab29e465769f729343882b337a602f2a291d118"
             ]
            ]
           }
          ],
          [
           "text",
           "资讯热⻔⽂章\n 360 isc周鸿祎ISC发布国内⾸个免费安全⼤模型 安全能\n⼒超越GPT-4\n其安全垂直能⼒已超过G PT-4\n量⼦位 19分钟前\n CPU 服务器想跑千亿⼤模型？算⼒⼚商放⼤招！CPU通⽤服\n务器成为新选择\n不⽤A I加速卡，只⽤4 颗CPU\n克雷⻄ 25分钟前\n arXiv 公开评审 斯坦福吴恩达弟⼦打造arXiv弹幕版，每篇论⽂都能⾃\n由讨论了！\n⽹友 ：这才是学术圈该有的样⼦！\n明敏 2⼩时前\n ChatGPT GPT-4o OpenAIChatGPT版「Her」被玩疯：哭着读诗，中⽂表\n现也很亮\n还能超快数1- 100\n⼗三 2⼩时前\n ⼤模型 ⽂⼼⼀⾔ 百度 ⻜桨⻜桨框架进阶3.0！⼀⽂讲透“⼤模型训推⼀体”\n等五⼤新特性\n为产学研各界提供稳定⽀持\n⼗三 2⼩时前\n 中国科学院数学与系统科学研究院 陈景润奖⾸届陈景润奖颁发！90后⼭⼤教授和84年中科\n院研究员研究成果获奖\n数论与代数⽅向新⽣代⼤奖\n⻄⻛ 3⼩时前\n CNN ⼤模型贾扬清：⼤模型尺⼨正重⾛CNN的⽼路；⻢斯\n克：在特斯拉也是这样\n开始反着卷了\n衡宇 3⼩时前\nOpenAI推出新AI搜索，⽼伙\n计微软也默默更新了Bing\n2024-07-26\n字节⾖包上线吴敏霞、林丹\n等专属智能体 奥运冠军AI…\n2024-07-26\n联想CTO换帅！芮勇转任新\n集团总裁，瞄准新兴技术\n2024-07-26\n智平⽅打通具身智能核⼼痛\n点：将AGI拓展到物理世界\n2024-07-26\n商汤科技⽇⽇新⼤模型亮相\n巴黎，中国AI共赴奥运之约\n2024-07-26"
          ],
          [
           "start_char_idx",
           0
          ],
          [
           "end_char_idx",
           677
          ],
          [
           "text_template",
           "{metadata_str}\n\n{content}"
          ],
          [
           "metadata_template",
           "{key}: {value}"
          ],
          [
           "metadata_seperator",
           "\n"
          ]
         ]
        ],
        [
         "score",
         0.8360594848254341
        ]
       ]
      ],
      "text/plain": [
       "<IPython.core.display.JSON object>"
      ]
     },
     "execution_count": 199,
     "metadata": {
      "application/json": {
       "expanded": false,
       "root": "root"
      }
     },
     "output_type": "execute_result"
    }
   ],
   "source": [
    "JSON(resu1.source_nodes)"
   ]
  },
  {
   "cell_type": "code",
   "execution_count": 201,
   "id": "4ed9a4e1-a1a8-4b97-9140-2e4545af3951",
   "metadata": {
    "tags": []
   },
   "outputs": [
    {
     "data": {
      "application/json": {
       "node-30": {
        "creation_date": "2024-08-01",
        "file_name": "超精细开放世界藏进小程序，他们用游戏技术复刻北京中轴线，穿越古今的那种.pdf",
        "file_path": "/Users/zhaoxuefeng/Documents/Project/docs/zxfpro.github.io/slc/研究者/gpt_coder/pdfs/超精细开放世界藏进小程序，他们用游戏技术复刻北京中轴线，穿越古今的那种.pdf",
        "file_size": 3212876,
        "file_type": "application/pdf",
        "last_modified_date": "2024-08-01",
        "page_label": "1"
       },
       "node-33": {
        "creation_date": "2024-08-01",
        "file_name": "阿里云修复100年前巴黎奥运珍贵影像，国际奥委会主席巴赫致谢！.pdf",
        "file_path": "/Users/zhaoxuefeng/Documents/Project/docs/zxfpro.github.io/slc/研究者/gpt_coder/pdfs/阿里云修复100年前巴黎奥运珍贵影像，国际奥委会主席巴赫致谢！.pdf",
        "file_size": 3212876,
        "file_type": "application/pdf",
        "last_modified_date": "2024-08-01",
        "page_label": "1"
       }
      },
      "text/plain": [
       "<IPython.core.display.JSON object>"
      ]
     },
     "execution_count": 201,
     "metadata": {
      "application/json": {
       "expanded": false,
       "root": "root"
      }
     },
     "output_type": "execute_result"
    }
   ],
   "source": [
    "JSON(resu1.metadata)"
   ]
  },
  {
   "cell_type": "code",
   "execution_count": null,
   "id": "8f117e61-c8d4-48d9-aebc-1ab7a0f686be",
   "metadata": {},
   "outputs": [],
   "source": []
  },
  {
   "cell_type": "code",
   "execution_count": null,
   "id": "7de93038-b826-4e34-a002-57071fce0fe6",
   "metadata": {},
   "outputs": [],
   "source": []
  },
  {
   "cell_type": "code",
   "execution_count": 203,
   "id": "70805e35-8768-4fb4-9892-be103de1ffb2",
   "metadata": {
    "tags": []
   },
   "outputs": [],
   "source": [
    "docus = LoadData('api.md')"
   ]
  },
  {
   "cell_type": "code",
   "execution_count": 205,
   "id": "35c98de2-ea32-441e-a806-2c5227c547ea",
   "metadata": {
    "tags": []
   },
   "outputs": [],
   "source": [
    "spl = splits.get_nodes_from_documents( docus)"
   ]
  },
  {
   "cell_type": "code",
   "execution_count": 208,
   "id": "76ef7594-4ce8-4482-9e58-89c4abc3978c",
   "metadata": {
    "tags": []
   },
   "outputs": [],
   "source": [
    "index2 = IndexMaker(spl)"
   ]
  },
  {
   "cell_type": "code",
   "execution_count": 210,
   "id": "a3f72a79-f10b-43f8-a987-991f33721a3a",
   "metadata": {
    "tags": []
   },
   "outputs": [],
   "source": [
    "qes  =index2.as_query_engine()"
   ]
  },
  {
   "cell_type": "code",
   "execution_count": 212,
   "id": "0aa93114-54a7-4373-9d7e-cc195b3d801d",
   "metadata": {
    "tags": []
   },
   "outputs": [],
   "source": [
    "resp1 = qes.query('合并')"
   ]
  },
  {
   "cell_type": "code",
   "execution_count": 217,
   "id": "54e354d8-f5ba-4a94-8a61-549068cfcc7a",
   "metadata": {
    "tags": []
   },
   "outputs": [
    {
     "data": {
      "text/plain": [
       "'数据合并与连接'"
      ]
     },
     "execution_count": 217,
     "metadata": {},
     "output_type": "execute_result"
    }
   ],
   "source": [
    "resp1.source_nodes[0].text"
   ]
  },
  {
   "cell_type": "code",
   "execution_count": null,
   "id": "d21f3859-6896-4438-b509-cbd403eb1846",
   "metadata": {},
   "outputs": [],
   "source": [
    "获得对应功能的API"
   ]
  },
  {
   "cell_type": "code",
   "execution_count": null,
   "id": "196ef108-2b87-4956-aa22-d8b6aefd0995",
   "metadata": {},
   "outputs": [],
   "source": []
  },
  {
   "cell_type": "code",
   "execution_count": null,
   "id": "2e523574-cf9c-46d2-b75e-20598d41479c",
   "metadata": {},
   "outputs": [],
   "source": [
    "信息推送"
   ]
  },
  {
   "cell_type": "code",
   "execution_count": null,
   "id": "a624f0be-819e-4abe-8256-7b2dfefab246",
   "metadata": {},
   "outputs": [],
   "source": []
  },
  {
   "cell_type": "code",
   "execution_count": 218,
   "id": "be3f012d-dcbf-4789-ad52-928afe012b08",
   "metadata": {
    "tags": []
   },
   "outputs": [],
   "source": [
    "from zxftools_dev.project import IO"
   ]
  },
  {
   "cell_type": "code",
   "execution_count": 220,
   "id": "6d536ecf-d6e7-40f1-aa7c-a589e8fc6865",
   "metadata": {
    "tags": []
   },
   "outputs": [],
   "source": [
    "aa = IO.load_json('articles.json')"
   ]
  },
  {
   "cell_type": "code",
   "execution_count": 221,
   "id": "a4a29883-90ce-437c-83e8-524000505b2e",
   "metadata": {
    "collapsed": true,
    "jupyter": {
     "outputs_hidden": true
    },
    "tags": []
   },
   "outputs": [
    {
     "data": {
      "text/plain": [
       "[{'title': '周鸿祎ISC发布国内首个免费安全大模型 安全能力超越GPT-4',\n",
       "  'titleLink': 'https://www.qbitai.com/2024/08/173950.html',\n",
       "  'author': '量子位',\n",
       "  'time': '3分钟前',\n",
       "  'tags': ['360', 'isc']},\n",
       " {'title': '想跑千亿大模型？算力厂商放大招！CPU通用服务器成为新选择',\n",
       "  'titleLink': 'https://www.qbitai.com/2024/08/173952.html',\n",
       "  'author': '克雷西',\n",
       "  'time': '9分钟前',\n",
       "  'tags': ['CPU', '服务器']},\n",
       " {'title': '吴恩达弟子打造arXiv弹幕版，每篇论文都能自由讨论了！',\n",
       "  'titleLink': 'https://www.qbitai.com/2024/08/173863.html',\n",
       "  'author': '明敏',\n",
       "  'time': '1小时前 ',\n",
       "  'tags': ['arXiv', '公开评审', '斯坦福']},\n",
       " {'title': 'ChatGPT版「Her」被玩疯：哭着读诗，中文表现也很亮',\n",
       "  'titleLink': 'https://www.qbitai.com/2024/08/173624.html',\n",
       "  'author': '十三',\n",
       "  'time': '1小时前 ',\n",
       "  'tags': ['ChatGPT', 'GPT-4o', 'OpenAI']},\n",
       " {'title': '飞桨框架进阶3.0！一文讲透“大模型训推一体”等五大新特性',\n",
       "  'titleLink': 'https://www.qbitai.com/2024/08/173804.html',\n",
       "  'author': '十三',\n",
       "  'time': '2小时前 ',\n",
       "  'tags': ['大模型', '文心一言', '百度', '飞桨']},\n",
       " {'title': '首届陈景润奖颁发！90后山大教授和84年中科院研究员研究成果获奖',\n",
       "  'titleLink': 'https://www.qbitai.com/2024/08/173647.html',\n",
       "  'author': '西风',\n",
       "  'time': '3小时前 ',\n",
       "  'tags': ['中国科学院数学与系统科学研究院', '陈景润奖']},\n",
       " {'title': '贾扬清：大模型尺寸正重走CNN的老路；马斯克：在特斯拉也是这样',\n",
       "  'titleLink': 'https://www.qbitai.com/2024/08/173644.html',\n",
       "  'author': '衡宇',\n",
       "  'time': '3小时前 ',\n",
       "  'tags': ['CNN', '大模型']},\n",
       " {'title': 'AI加持创作，「小说-剧本-视频」只需一人全搞定｜对话波形智能',\n",
       "  'titleLink': 'https://www.qbitai.com/2024/08/173607.html',\n",
       "  'author': '林樾',\n",
       "  'time': '4小时前 ',\n",
       "  'tags': ['AI创作', '线上活动合辑', '量子位·视点', '量子位活动合辑']},\n",
       " {'title': 'ISC.AI 2024周鸿祎：落地安全大模型的关键是找准“明星场景”',\n",
       "  'titleLink': 'https://www.qbitai.com/2024/08/173604.html',\n",
       "  'author': '量子位',\n",
       "  'time': '5小时前 ',\n",
       "  'tags': ['360']},\n",
       " {'title': '阿里通义免费开放奥运AI大模型',\n",
       "  'titleLink': 'https://www.qbitai.com/2024/07/173563.html',\n",
       "  'author': '量子位',\n",
       "  'time': '22小时前 ',\n",
       "  'tags': ['通义千问', '阿里云']},\n",
       " {'title': '人形机器人「星尘智能」获数千万美元Pre-A轮融资，经纬创投领投',\n",
       "  'titleLink': 'https://www.qbitai.com/2024/07/173552.html',\n",
       "  'author': '鱼羊',\n",
       "  'time': '昨天 16:07',\n",
       "  'tags': ['AI机器人', '星尘智能']},\n",
       " {'title': '失联大神李沐B站复更：领读Llama 3.1论文；竞技场Llama 3.1排第三',\n",
       "  'titleLink': 'https://www.qbitai.com/2024/07/173328.html',\n",
       "  'author': '一水',\n",
       "  'time': '昨天 16:03',\n",
       "  'tags': ['Llama 3.1', '李沐']},\n",
       " {'title': 'Midjourney新版本上线即爆火！网友已玩疯：和摄影几乎没区别',\n",
       "  'titleLink': 'https://www.qbitai.com/2024/07/173178.html',\n",
       "  'author': '明敏',\n",
       "  'time': '昨天 15:30',\n",
       "  'tags': ['AI绘画', 'Midjourney']},\n",
       " {'title': 'CSDN「智研社-The Intelliger」共话大模型技术演进与 AI Infra 创新',\n",
       "  'titleLink': 'https://www.qbitai.com/2024/07/173904.html',\n",
       "  'author': '量子位',\n",
       "  'time': '昨天 15:26',\n",
       "  'tags': ['csdn']},\n",
       " {'title': 'Claude团队引众怒，为爬数据不择手段，给爬虫改名字无视禁止规则',\n",
       "  'titleLink': 'https://www.qbitai.com/2024/07/173138.html',\n",
       "  'author': '衡宇',\n",
       "  'time': '昨天 15:24',\n",
       "  'tags': ['Anthropic', 'Claude', '爬虫']},\n",
       " {'title': '超精细开放世界藏进小程序，他们用游戏技术复刻北京中轴线，穿越古今的那种',\n",
       "  'titleLink': 'https://www.qbitai.com/2024/07/173103.html',\n",
       "  'author': '鱼羊',\n",
       "  'time': '昨天 15:24',\n",
       "  'tags': ['北京中轴线', '游戏技术']},\n",
       " {'title': '寡姐带货国风Polo衫，马斯克穿牛仔走红毯！虚拟试衣新框架火了',\n",
       "  'titleLink': 'https://www.qbitai.com/2024/07/173013.html',\n",
       "  'author': '白交',\n",
       "  'time': '昨天 14:53',\n",
       "  'tags': ['中山大学', '虚拟试衣']},\n",
       " {'title': '何小鹏：端到端今年投35亿，2天迭代一次，可实现「门到门」体验',\n",
       "  'titleLink': 'https://www.qbitai.com/2024/07/172953.html',\n",
       "  'author': '贾浩楠',\n",
       "  'time': '前天 22:40',\n",
       "  'tags': ['小鹏汽车']},\n",
       " {'title': '苹果AI版iOS首日火爆：聊天秒变高情商，大模型成最强嘴替，Siri华丽变身',\n",
       "  'titleLink': 'https://www.qbitai.com/2024/07/172903.html',\n",
       "  'author': '克雷西',\n",
       "  'time': '前天 16:17',\n",
       "  'tags': ['苹果']},\n",
       " {'title': '阿里云修复100年前巴黎奥运珍贵影像，国际奥委会主席巴赫致谢！',\n",
       "  'titleLink': 'https://www.qbitai.com/2024/07/172892.html',\n",
       "  'author': '量子位',\n",
       "  'time': '前天 15:33',\n",
       "  'tags': ['阿里云']},\n",
       " {'title': '', 'titleLink': '', 'author': '', 'time': '', 'tags': []}]"
      ]
     },
     "execution_count": 221,
     "metadata": {},
     "output_type": "execute_result"
    }
   ],
   "source": [
    "aa # 可以先把这个框架推荐给我就行 增量的推"
   ]
  },
  {
   "cell_type": "code",
   "execution_count": null,
   "id": "ec0e22e3-a305-4454-ad13-9f23db6de19c",
   "metadata": {},
   "outputs": [],
   "source": []
  },
  {
   "cell_type": "code",
   "execution_count": null,
   "id": "75e077a6-f787-468c-99f2-7656d81b9dd2",
   "metadata": {},
   "outputs": [],
   "source": []
  },
  {
   "cell_type": "code",
   "execution_count": null,
   "id": "c9562973-bfca-4b42-b6ca-b3f4b2be2d0a",
   "metadata": {},
   "outputs": [],
   "source": []
  },
  {
   "cell_type": "code",
   "execution_count": null,
   "id": "82086a84-9b25-41aa-b1c1-8f04387d0c93",
   "metadata": {},
   "outputs": [],
   "source": []
  },
  {
   "cell_type": "code",
   "execution_count": null,
   "id": "1b800d2e-ba0b-4ca3-967a-88fd381d9e0a",
   "metadata": {},
   "outputs": [],
   "source": []
  },
  {
   "cell_type": "code",
   "execution_count": null,
   "id": "0bc08278-fb87-424b-bd45-1b4903eec1de",
   "metadata": {},
   "outputs": [],
   "source": []
  },
  {
   "cell_type": "code",
   "execution_count": null,
   "id": "e68b27e9-a48d-4555-9500-96ccbf3201e6",
   "metadata": {},
   "outputs": [],
   "source": []
  },
  {
   "cell_type": "code",
   "execution_count": null,
   "id": "804c7637-1323-4d2e-a5e2-e9a923230211",
   "metadata": {},
   "outputs": [],
   "source": []
  },
  {
   "attachments": {
    "2ad6cde1-23cd-4d8b-b1ef-b5497d75b1ef.png": {
     "image/png": "[encoded data removed]"
    }
   },
   "cell_type": "markdown",
   "id": "10545bf4-8ab5-4b53-9a0b-084c6000a26c",
   "metadata": {},
   "source": [
    "![image.png](attachment:2ad6cde1-23cd-4d8b-b1ef-b5497d75b1ef.png)"
   ]
  },
  {
   "cell_type": "code",
   "execution_count": null,
   "id": "aa7ac6b6-93ed-45d8-8baa-d59cb0c231fa",
   "metadata": {},
   "outputs": [],
   "source": []
  },
  {
   "cell_type": "code",
   "execution_count": null,
   "id": "afa1f022-ac34-43d4-b606-c92861c3afd4",
   "metadata": {},
   "outputs": [],
   "source": []
  },
  {
   "cell_type": "code",
   "execution_count": null,
   "id": "cd0348ff-69eb-4619-935f-22af32fbc405",
   "metadata": {},
   "outputs": [],
   "source": []
  },
  {
   "cell_type": "code",
   "execution_count": null,
   "id": "544ba201-f1fb-499c-b4d7-7241a50a71f9",
   "metadata": {},
   "outputs": [],
   "source": []
  },
  {
   "cell_type": "code",
   "execution_count": null,
   "id": "a08d1d36-0834-4cfa-a646-8aa413f78ed3",
   "metadata": {},
   "outputs": [],
   "source": []
  },
  {
   "cell_type": "code",
   "execution_count": null,
   "id": "4fe53e8f-dd4f-468c-8776-cf13c9faa999",
   "metadata": {},
   "outputs": [],
   "source": []
  },
  {
   "cell_type": "code",
   "execution_count": 26,
   "id": "7e43acff-d761-415d-be81-f4a2b2ed156b",
   "metadata": {},
   "outputs": [],
   "source": [
    "import nbformat as nbf\n",
    "\n",
    "# 创建一个新的Notebook对象\n",
    "nb = nbf.v4.new_notebook()\n",
    "\n",
    "# 添加Markdown单元格\n",
    "markdown_cell = nbf.v4.new_markdown_cell(\"# 这是一个Markdown单元格\\n\\n以下是一些关于如何写一个好的Prompt的指南。\")\n",
    "nb.cells.append(markdown_cell)\n",
    "\n",
    "# 添加代码单元格\n",
    "code_cell = nbf.v4.new_code_cell(\"\"\"# 示例Prompt\n",
    "prompt = \\\"\\\"\\\"\n",
    "请撰写一份关于人工智能未来发展的详细报告。报告应包括以下几个方面：\n",
    "1. 人工智能的历史背景。\n",
    "2. 当前的主要应用领域。\n",
    "3. 未来五年的发展趋势预测。\n",
    "4. 人工智能可能带来的社会和经济影响。\n",
    "5. 相关的伦理和法律问题。\n",
    "\n",
    "报告应使用学术写作风格，长度为3000字左右，并引用最新的研究和数据。\n",
    "\\\"\\\"\\\"\n",
    "print(prompt)\n",
    "\"\"\")\n",
    "nb.cells.append(code_cell)\n",
    "\n",
    "# 保存为一个新的ipynb文件\n",
    "with open('example_notebook.ipynb', 'w', encoding='utf-8') as f:\n",
    "    nbf.write(nb, f)\n"
   ]
  },
  {
   "cell_type": "code",
   "execution_count": null,
   "id": "b6ffcfd5-6747-4316-9672-d21317512276",
   "metadata": {},
   "outputs": [],
   "source": []
  },
  {
   "cell_type": "code",
   "execution_count": null,
   "id": "e0711550-3755-4a1f-9aec-4ddf9651c03b",
   "metadata": {},
   "outputs": [],
   "source": []
  },
  {
   "cell_type": "code",
   "execution_count": null,
   "id": "ad158f81-04f1-4f22-85f0-e731b95cdcac",
   "metadata": {},
   "outputs": [],
   "source": []
  },
  {
   "cell_type": "code",
   "execution_count": 36,
   "id": "10e6906c-72a7-41a0-b096-1cc1efc833dc",
   "metadata": {
    "tags": []
   },
   "outputs": [
    {
     "name": "stderr",
     "output_type": "stream",
     "text": [
      "[IPKernelApp] WARNING | Unknown error in handling startup files:\n"
     ]
    },
    {
     "name": "stdout",
     "output_type": "stream",
     "text": [
      "Error during execution: An error occurred while executing the following cell:\n",
      "------------------\n",
      "sdfsdf\n",
      "------------------\n",
      "\n",
      "\n",
      "\u001b[0;31m---------------------------------------------------------------------------\u001b[0m\n",
      "\u001b[0;31mNameError\u001b[0m                                 Traceback (most recent call last)\n",
      "Cell \u001b[0;32mIn[2], line 1\u001b[0m\n",
      "\u001b[0;32m----> 1\u001b[0m \u001b[43msdfsdf\u001b[49m\n",
      "\n",
      "\u001b[0;31mNameError\u001b[0m: name 'sdfsdf' is not defined\n",
      "\n",
      "\n",
      "请撰写一份关于人工智能未来发展的详细报告。报告应包括以下几个方面：\n",
      "1. 人工智能的历史背景。\n",
      "2. 当前的主要应用领域。\n",
      "3. 未来五年的发展趋势预测。\n",
      "4. 人工智能可能带来的社会和经济影响。\n",
      "5. 相关的伦理和法律问题。\n",
      "\n",
      "报告应使用学术写作风格，长度为3000字左右，并引用最新的研究和数据。\n",
      "\n",
      "\u001b[0;31m---------------------------------------------------------------------------\u001b[0m\n",
      "\u001b[0;31mNameError\u001b[0m                                 Traceback (most recent call last)\n",
      "Cell \u001b[0;32mIn[2], line 1\u001b[0m\n",
      "\u001b[0;32m----> 1\u001b[0m \u001b[43msdfsdf\u001b[49m\n",
      "\n",
      "\u001b[0;31mNameError\u001b[0m: name 'sdfsdf' is not defined\n"
     ]
    }
   ],
   "source": [
    "import nbformat as nbf\n",
    "from nbconvert.preprocessors import ExecutePreprocessor\n",
    "import io\n",
    "\n",
    "# 创建一个新的Notebook对象\n",
    "nb = nbf.v4.new_notebook()\n",
    "\n",
    "# 添加Markdown单元格\n",
    "markdown_cell = nbf.v4.new_markdown_cell(\"# 这是一个Markdown单元格\\n\\n以下是一些关于如何写一个好的Prompt的指南。\")\n",
    "nb.cells.append(markdown_cell)\n",
    "\n",
    "# 添加代码单元格\n",
    "code_cell = nbf.v4.new_code_cell(\"\"\"# 示例Prompt\n",
    "prompt = \\\"\\\"\\\"\n",
    "请撰写一份关于人工智能未来发展的详细报告。报告应包括以下几个方面：\n",
    "1. 人工智能的历史背景。\n",
    "2. 当前的主要应用领域。\n",
    "3. 未来五年的发展趋势预测。\n",
    "4. 人工智能可能带来的社会和经济影响。\n",
    "5. 相关的伦理和法律问题。\n",
    "\n",
    "报告应使用学术写作风格，长度为3000字左右，并引用最新的研究和数据。\n",
    "\\\"\\\"\\\"\n",
    "print(prompt)\n",
    "\"\"\")\n",
    "nb.cells.append(code_cell)\n",
    "nb.cells.append(nbf.v4.new_code_cell('sdfsdf'))\n",
    "\n",
    "# 保存为一个新的ipynb文件\n",
    "notebook_filename = 'example_notebook.ipynb'\n",
    "with open(notebook_filename, 'w', encoding='utf-8') as f:\n",
    "    nbf.write(nb, f)\n",
    "\n",
    "# 运行Notebook并捕获输出和错误信息\n",
    "def run_notebook(notebook_filename):\n",
    "    global xx\n",
    "    with open(notebook_filename) as f:\n",
    "        nb = nbf.read(f, as_version=4)\n",
    "        \n",
    "    ep = ExecutePreprocessor(timeout=600, kernel_name='python3')\n",
    "    \n",
    "    try:\n",
    "        ep.preprocess(nb, {'metadata': {'path': './'}})\n",
    "    except Exception as e:\n",
    "        xx = e\n",
    "        print(\"Error during execution:\", e)\n",
    "        \n",
    "    # 捕获输出和错误信息\n",
    "    output_stream = io.StringIO()\n",
    "    for cell in nb.cells:\n",
    "        if 'outputs' in cell:\n",
    "            for output in cell['outputs']:\n",
    "                if output.output_type == 'stream':\n",
    "                    output_stream.write(output.text)\n",
    "                elif output.output_type == 'error':\n",
    "                    output_stream.write('\\n'.join(output.traceback))\n",
    "    \n",
    "    return output_stream.getvalue()\n",
    "\n",
    "output = run_notebook(notebook_filename)\n",
    "print(output)\n"
   ]
  },
  {
   "cell_type": "code",
   "execution_count": 37,
   "id": "0e5bc6d5-336a-4eaf-9767-c36ccebccb33",
   "metadata": {
    "tags": []
   },
   "outputs": [
    {
     "name": "stdout",
     "output_type": "stream",
     "text": [
      "An error occurred while executing the following cell:\n",
      "------------------\n",
      "sdfsdf\n",
      "------------------\n",
      "\n",
      "\n",
      "\u001b[0;31m---------------------------------------------------------------------------\u001b[0m\n",
      "\u001b[0;31mNameError\u001b[0m                                 Traceback (most recent call last)\n",
      "Cell \u001b[0;32mIn[2], line 1\u001b[0m\n",
      "\u001b[0;32m----> 1\u001b[0m \u001b[43msdfsdf\u001b[49m\n",
      "\n",
      "\u001b[0;31mNameError\u001b[0m: name 'sdfsdf' is not defined\n",
      "\n"
     ]
    }
   ],
   "source": [
    "print(xx)"
   ]
  },
  {
   "cell_type": "code",
   "execution_count": null,
   "id": "aef131bd-26dc-490c-86ab-0dc6e78da60c",
   "metadata": {},
   "outputs": [],
   "source": []
  },
  {
   "cell_type": "code",
   "execution_count": null,
   "id": "3fbaf66e-f36a-4e90-842d-3fbcd4e39e25",
   "metadata": {},
   "outputs": [],
   "source": []
  },
  {
   "cell_type": "code",
   "execution_count": 44,
   "id": "fefe3cb5-6d4c-45d6-880a-b6715a60bec8",
   "metadata": {
    "tags": []
   },
   "outputs": [
    {
     "name": "stdout",
     "output_type": "stream",
     "text": [
      "Found in ./auto_coder-Copy2.ipynb:\n",
      "%env DD_TOKEN=https://oapi.dingtalk.com/robot/send?access_token=1003a3d8a6e724e255d9b28b5d4a540cd8dbdd2d2fa2163ed09cc77f7c46841d\n",
      "--------------------------------------------------------------------------------\n",
      "\n",
      "Found in ./auto_coder.ipynb:\n",
      "%env DD_TOKEN=https://oapi.dingtalk.com/robot/send?access_token=1003a3d8a6e724e255d9b28b5d4a540cd8dbdd2d2fa2163ed09cc77f7c46841d\n",
      "--------------------------------------------------------------------------------\n",
      "\n",
      "Found in ./auto_coder-Copy1.ipynb:\n",
      "%env DD_TOKEN=https://oapi.dingtalk.com/robot/send?access_token=1003a3d8a6e724e255d9b28b5d4a540cd8dbdd2d2fa2163ed09cc77f7c46841d\n",
      "--------------------------------------------------------------------------------\n",
      "\n",
      "Found in ./.ipynb_checkpoints/auto_coder-Copy1-checkpoint.ipynb:\n",
      "%env DD_TOKEN=https://oapi.dingtalk.com/robot/send?access_token=1003a3d8a6e724e255d9b28b5d4a540cd8dbdd2d2fa2163ed09cc77f7c46841d\n",
      "--------------------------------------------------------------------------------\n",
      "\n",
      "Found in ./.ipynb_checkpoints/auto_coder-Copy2-checkpoint.ipynb:\n",
      "%env DD_TOKEN=https://oapi.dingtalk.com/robot/send?access_token=1003a3d8a6e724e255d9b28b5d4a540cd8dbdd2d2fa2163ed09cc77f7c46841d\n",
      "--------------------------------------------------------------------------------\n",
      "\n",
      "Found in ./.ipynb_checkpoints/auto_coder-checkpoint.ipynb:\n",
      "%env DD_TOKEN=https://oapi.dingtalk.com/robot/send?access_token=1003a3d8a6e724e255d9b28b5d4a540cd8dbdd2d2fa2163ed09cc77f7c46841d\n",
      "--------------------------------------------------------------------------------\n",
      "\n"
     ]
    }
   ],
   "source": [
    "import os\n",
    "import nbformat\n",
    "\n",
    "def search_notebooks(directory, keyword):\n",
    "    result = []\n",
    "    for root, _, files in os.walk(directory):\n",
    "        for file in files:\n",
    "            if file.endswith(\".ipynb\"):\n",
    "                notebook_path = os.path.join(root, file)\n",
    "                with open(notebook_path, 'r', encoding='utf-8') as f:\n",
    "                    notebook = nbformat.read(f, as_version=4)\n",
    "                    for cell in notebook.cells:\n",
    "                        if cell.cell_type == 'markdown' or cell.cell_type == 'code':\n",
    "                            if keyword.lower() in cell.source.lower():\n",
    "                                result.append((notebook_path, cell.source))\n",
    "    return result\n",
    "\n",
    "directory_to_search = './'  # 修改为你想搜索的目录\n",
    "keyword_to_search = 'DD_TOKEN'  # 修改为你要搜索的关键词\n",
    "\n",
    "results = search_notebooks(directory_to_search, keyword_to_search)\n",
    "\n",
    "for notebook_path, cell_content in results:\n",
    "    print(f\"Found in {notebook_path}:\\n{cell_content}\\n{'-'*80}\\n\")\n"
   ]
  },
  {
   "cell_type": "code",
   "execution_count": null,
   "id": "61ea73ae-aa2a-4c29-809f-25f05d34842e",
   "metadata": {},
   "outputs": [],
   "source": []
  },
  {
   "cell_type": "code",
   "execution_count": null,
   "id": "7ccc7612-9275-439b-80b7-8a90251a6dce",
   "metadata": {},
   "outputs": [],
   "source": []
  },
  {
   "cell_type": "code",
   "execution_count": 16,
   "id": "98711ab4-74ce-4a65-91c1-d3aa16d33a70",
   "metadata": {
    "tags": []
   },
   "outputs": [
    {
     "data": {
      "text/markdown": [
       "当然可以！在这个教程中，我将详细介绍如何控制DataFrame（简称df）的颜色和特效。我们将使用Python的pandas库和Styler对象来实现这些效果。以下是你需要掌握的知识和步骤：\n",
       "\n",
       "### 1. 基础知识\n",
       "在开始之前，你需要具备以下基础知识：\n",
       "- **Python编程基础**：了解基本的Python语法和数据结构。\n",
       "- **pandas库**：熟悉pandas库的基本操作，如创建DataFrame、数据选择和操作等。\n",
       "- **Jupyter Notebook**（可选）：虽然不是必须，但在Jupyter Notebook中操作pandas会更加直观和方便。\n",
       "\n",
       "### 2. 安装和导入必要的库\n",
       "首先，确保你已经安装了pandas库。如果没有安装，可以使用以下命令进行安装：\n",
       "```bash\n",
       "pip install pandas\n",
       "```\n",
       "\n",
       "然后，在你的Python脚本或Jupyter Notebook中导入pandas：\n",
       "```python\n",
       "import pandas as pd\n",
       "```\n",
       "\n",
       "### 3. 创建一个示例DataFrame\n",
       "我们先创建一个简单的DataFrame作为示例：\n",
       "```python\n",
       "data = {\n",
       "    'Name': ['Alice', 'Bob', 'Charlie', 'David'],\n",
       "    'Age': [24, 27, 22, 32],\n",
       "    'Score': [85, 92, 78, 88]\n",
       "}\n",
       "df = pd.DataFrame(data)\n",
       "```\n",
       "\n",
       "### 4. 使用Styler对象\n",
       "pandas的Styler对象允许我们对DataFrame进行样式设置。我们可以通过`df.style`来访问Styler对象。\n",
       "\n",
       "### 5. 基本样式设置\n",
       "#### 5.1 设置背景颜色\n",
       "我们可以使用`background_gradient`方法为DataFrame设置背景颜色渐变：\n",
       "```python\n",
       "styled_df = df.style.background_gradient(cmap='viridis')\n",
       "styled_df\n",
       "```\n",
       "`cmap`参数指定颜色映射，可以选择其他颜色映射，如`'coolwarm'`、`'plasma'`等。\n",
       "\n",
       "#### 5.2 设置字体颜色\n",
       "使用`applymap`方法可以为DataFrame中的每个元素设置字体颜色：\n",
       "```python\n",
       "def color_negative_red(val):\n",
       "    color = 'red' if val < 0 else 'black'\n",
       "    return f'color: {color}'\n",
       "\n",
       "styled_df = df.style.applymap(color_negative_red)\n",
       "styled_df\n",
       "```\n",
       "在这个例子中，我们定义了一个函数`color_negative_red`，它根据值的大小设置颜色。\n",
       "\n",
       "### 6. 条件格式化\n",
       "#### 6.1 根据值设置背景颜色\n",
       "我们可以使用`apply`方法根据条件设置背景颜色：\n",
       "```python\n",
       "def highlight_max(s):\n",
       "    is_max = s == s.max()\n",
       "    return ['background-color: yellow' if v else '' for v in is_max]\n",
       "\n",
       "styled_df = df.style.apply(highlight_max, subset=['Score'])\n",
       "styled_df\n",
       "```\n",
       "在这个例子中，我们定义了一个函数`highlight_max`，它为最大值设置背景颜色。\n",
       "\n",
       "#### 6.2 根据值设置字体颜色\n",
       "类似地，我们可以根据条件设置字体颜色：\n",
       "```python\n",
       "def highlight_min(s):\n",
       "    is_min = s == s.min()\n",
       "    return ['color: red' if v else '' for v in is_min]\n",
       "\n",
       "styled_df = df.style.apply(highlight_min, subset=['Score'])\n",
       "styled_df\n",
       "```\n",
       "\n",
       "### 7. 综合示例\n",
       "我们可以将多种样式结合起来使用：\n",
       "```python\n",
       "def highlight_max(s):\n",
       "    is_max = s == s.max()\n",
       "    return ['background-color: yellow' if v else '' for v in is_max]\n",
       "\n",
       "def color_negative_red(val):\n",
       "    color = 'red' if val < 0 else 'black'\n",
       "    return f'color: {color}'\n",
       "\n",
       "styled_df = df.style.apply(highlight_max, subset=['Score']).applymap(color_negative_red)\n",
       "styled_df\n",
       "```\n",
       "\n",
       "### 8. 保存样式\n",
       "如果你希望将样式保存为HTML文件，可以使用`to_html`方法：\n",
       "```python\n",
       "html = styled_df.render()\n",
       "with open('styled_df.html', 'w') as f:\n",
       "    f.write(html)\n",
       "```\n",
       "\n",
       "### 9. 其他高级特性\n",
       "pandas的Styler对象还支持许多其他高级特性，如：\n",
       "- **隐藏索引**：`hide_index()`\n",
       "- **设置表头样式**：`set_table_styles()`\n",
       "- **添加工具提示**：`set_tooltips()`\n",
       "\n",
       "你可以参考[pandas官方文档](https://pandas.pydata.org/pandas-docs/stable/user_guide/style.html)获取更多信息和示例。\n",
       "\n",
       "### 总结\n",
       "通过掌握上述知识和技巧，你可以灵活地控制DataFrame的颜色和特效，使数据展示更加直观和美观。希望这个教程对你有所帮助！"
      ],
      "text/plain": [
       "<IPython.core.display.Markdown object>"
      ]
     },
     "execution_count": 16,
     "metadata": {},
     "output_type": "execute_result"
    }
   ],
   "source": [
    "Markdown(result.text)"
   ]
  },
  {
   "cell_type": "code",
   "execution_count": null,
   "id": "05b81b1c-59c9-4f47-af12-eb13176558a4",
   "metadata": {},
   "outputs": [],
   "source": []
  },
  {
   "cell_type": "code",
   "execution_count": null,
   "id": "99053aa4-1e24-4211-a5ac-f07f48fdd10c",
   "metadata": {},
   "outputs": [],
   "source": []
  },
  {
   "cell_type": "code",
   "execution_count": null,
   "id": "8cda4460-76fa-4785-9b40-b87e62978898",
   "metadata": {},
   "outputs": [],
   "source": []
  },
  {
   "cell_type": "code",
   "execution_count": null,
   "id": "dab78385-6f91-464a-8ebd-88c18da5e7ba",
   "metadata": {},
   "outputs": [],
   "source": []
  },
  {
   "cell_type": "code",
   "execution_count": null,
   "id": "5eef5fff-a216-429e-b72d-386aeca7bd66",
   "metadata": {},
   "outputs": [],
   "source": []
  },
  {
   "cell_type": "code",
   "execution_count": 9,
   "id": "9b46e855-0367-4f62-9cdf-2db97c2222b7",
   "metadata": {
    "tags": []
   },
   "outputs": [
    {
     "data": {
      "text/markdown": [
       "当然可以！在这个教程中，我将向你展示如何使用Python中的Pandas库和Styler对象来控制DataFrame的颜色和特效。我们将使用一些示例数据，并通过不同的方法来改变DataFrame的外观。\n",
       "\n",
       "### 1. 安装必要的库\n",
       "\n",
       "首先，确保你已经安装了Pandas库。如果没有安装，可以使用以下命令进行安装：\n",
       "\n",
       "```bash\n",
       "pip install pandas\n",
       "```\n",
       "\n",
       "### 2. 导入库并创建示例DataFrame\n",
       "\n",
       "```python\n",
       "import pandas as pd\n",
       "import numpy as np\n",
       "\n",
       "# 创建一个示例DataFrame\n",
       "data = {\n",
       "    'A': [1, 2, 3, 4],\n",
       "    'B': [5, 6, 7, 8],\n",
       "    'C': [9, 10, 11, 12]\n",
       "}\n",
       "\n",
       "df = pd.DataFrame(data)\n",
       "print(df)\n",
       "```\n",
       "\n",
       "### 3. 使用Styler对象进行基本样式设置\n",
       "\n",
       "Pandas的Styler对象允许我们对DataFrame进行样式设置。我们可以使用`df.style`来访问Styler对象。\n",
       "\n",
       "#### 3.1 设置背景颜色\n",
       "\n",
       "```python\n",
       "# 设置背景颜色\n",
       "styled_df = df.style.applymap(lambda x: 'background-color: yellow')\n",
       "styled_df\n",
       "```\n",
       "\n",
       "#### 3.2 设置字体颜色\n",
       "\n",
       "```python\n",
       "# 设置字体颜色\n",
       "styled_df = df.style.applymap(lambda x: 'color: red')\n",
       "styled_df\n",
       "```\n",
       "\n",
       "#### 3.3 条件格式化\n",
       "\n",
       "我们可以根据条件来设置样式。例如，将值大于5的单元格背景设置为绿色。\n",
       "\n",
       "```python\n",
       "def highlight_greater_than_5(val):\n",
       "    color = 'green' if val > 5 else ''\n",
       "    return f'background-color: {color}'\n",
       "\n",
       "styled_df = df.style.applymap(highlight_greater_than_5)\n",
       "styled_df\n",
       "```\n",
       "\n",
       "### 4. 使用内置样式函数\n",
       "\n",
       "Pandas提供了一些内置的样式函数，例如`highlight_max`和`highlight_min`。\n",
       "\n",
       "#### 4.1 高亮最大值\n",
       "\n",
       "```python\n",
       "styled_df = df.style.highlight_max(axis=0, color='lightgreen')\n",
       "styled_df\n",
       "```\n",
       "\n",
       "#### 4.2 高亮最小值\n",
       "\n",
       "```python\n",
       "styled_df = df.style.highlight_min(axis=0, color='lightcoral')\n",
       "styled_df\n",
       "```\n",
       "\n",
       "### 5. 添加条形图\n",
       "\n",
       "我们还可以在DataFrame中添加条形图来直观地展示数据。\n",
       "\n",
       "```python\n",
       "styled_df = df.style.bar(subset=['A', 'B'], color='lightblue')\n",
       "styled_df\n",
       "```\n",
       "\n",
       "### 6. 多重样式设置\n",
       "\n",
       "我们可以将多种样式组合在一起。\n",
       "\n",
       "```python\n",
       "styled_df = df.style \\\n",
       "    .applymap(lambda x: 'color: red' if x > 5 else 'color: black') \\\n",
       "    .highlight_max(axis=0, color='lightgreen') \\\n",
       "    .highlight_min(axis=0, color='lightcoral') \\\n",
       "    .bar(subset=['A', 'B'], color='lightblue')\n",
       "styled_df\n",
       "```\n",
       "\n",
       "### 7. 保存样式化的DataFrame\n",
       "\n",
       "最后，我们可以将样式化的DataFrame保存为HTML文件，以便在网页中查看。\n",
       "\n",
       "```python\n",
       "styled_df.to_html('styled_dataframe.html')\n",
       "```\n",
       "\n",
       "### 总结\n",
       "\n",
       "通过使用Pandas的Styler对象，我们可以轻松地对DataFrame进行样式设置，包括背景颜色、字体颜色、条件格式化、高亮最大值和最小值、添加条形图等。希望这个教程对你有所帮助！\n",
       "\n",
       "如果你有任何问题或需要进一步的帮助，请随时告诉我。"
      ],
      "text/plain": [
       "<IPython.core.display.Markdown object>"
      ]
     },
     "execution_count": 9,
     "metadata": {},
     "output_type": "execute_result"
    }
   ],
   "source": [
    "Markdown(result.text)"
   ]
  },
  {
   "cell_type": "code",
   "execution_count": null,
   "id": "c60900e1-6bb7-4fc7-9849-880db4477c61",
   "metadata": {},
   "outputs": [],
   "source": []
  }
 ],
 "metadata": {
  "kernelspec": {
   "display_name": "Python 3 (ipykernel)",
   "language": "python",
   "name": "python3"
  },
  "language_info": {
   "codemirror_mode": {
    "name": "ipython",
    "version": 3
   },
   "file_extension": ".py",
   "mimetype": "text/x-python",
   "name": "python",
   "nbconvert_exporter": "python",
   "pygments_lexer": "ipython3",
   "version": "3.10.14"
  }
 },
 "nbformat": 4,
 "nbformat_minor": 5
}
