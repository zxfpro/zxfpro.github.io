{
 "cells": [
  {
   "cell_type": "markdown",
   "id": "baf67556-4186-49c3-bdf9-484debd81441",
   "metadata": {},
   "source": [
    "## 利用大模型的能力,来构建pupeteer 自动爬虫系统"
   ]
  },
  {
   "cell_type": "code",
   "execution_count": null,
   "id": "da5bd522-f65b-466d-80ac-691bb53ffd4a",
   "metadata": {},
   "outputs": [],
   "source": []
  },
  {
   "cell_type": "markdown",
   "id": "821a6dcb-ed59-4ae2-a9db-92323e26cb4f",
   "metadata": {},
   "source": [
    "1 通过大模型获得要点击(要输入) 位置的 xpath\n"
   ]
  },
  {
   "cell_type": "code",
   "execution_count": 53,
   "id": "aaa6303e-74ed-4342-a675-7bd349018750",
   "metadata": {
    "tags": []
   },
   "outputs": [
    {
     "name": "stdout",
     "output_type": "stream",
     "text": [
      "Overwriting screenshot.js\n"
     ]
    }
   ],
   "source": [
    "%%writefile screenshot.js\n",
    "const puppeteer = require('puppeteer-extra');\n",
    "const StealthPlugin = require('puppeteer-extra-plugin-stealth');\n",
    "puppeteer.use(StealthPlugin());\n",
    "\n",
    "const url = process.argv[2];\n",
    "const timeout = 4000;\n",
    "\n",
    "(async () => {\n",
    "    const browser = await puppeteer.launch({\n",
    "        headless: false, // 非无头模式\n",
    "        // executablePath: '/Applications/Google Chrome.app/Contents/MacOS',\n",
    "        executablePath: '/Users/zhaoxuefeng/.cache/puppeteer/chrome/mac_arm-121.0.6167.85/chrome-mac-arm64/Google Chrome for Testing.app/Contents/MacOS/Google Chrome for Testing',\n",
    "        // userDataDir: '/Users/zhaoxuefeng/Library/Application Support/Google/Chrome',\n",
    "        // devtools: true, //开发者模式打开\n",
    "    });\n",
    "    \n",
    "    const page = await browser.newPage();\n",
    "\n",
    "    await page.setViewport({\n",
    "        width: 1200,\n",
    "        height: 1200,\n",
    "        deviceScaleFactor: 1,\n",
    "    });\n",
    "\n",
    "    await page.goto(url, {\n",
    "        waitUntil: \"domcontentloaded\",\n",
    "        timeout: timeout,\n",
    "    });\n",
    "\n",
    "    await page.waitForTimeout(timeout);\n",
    "\n",
    "    \n",
    "    await page.screenshot({\n",
    "        path: \"screenshot.jpg\",\n",
    "        fullPage: true,\n",
    "    });\n",
    "    \n",
    "    await page.mouse.move(662, 210);\n",
    "    // await page.mouse.click();\n",
    "    await page.waitForTimeout(timeout);\n",
    "    \n",
    "    \n",
    "    const x = 650;  // x 坐标\n",
    "    const y = 320;  // y 坐标\n",
    "    // 获取元素的 HTML 内容和 XPath\n",
    "  const result = await page.evaluate(async (x, y) => {\n",
    "    // 创建一个元素位于指定坐标的快照\n",
    "    const element = document.elementFromPoint(x, y);\n",
    "    if (element) {\n",
    "      // 获取元素的 HTML 内容\n",
    "      const html = element.outerHTML;\n",
    "\n",
    "      // 生成 XPath\n",
    "      function getElementXPath(element) {\n",
    "        let path = '';\n",
    "        for (; element && element.nodeType === Node.ELEMENT_NODE; element = element.parentNode) {\n",
    "          const siblings = Array.from(element.parentNode.children).filter(el => el.nodeType === Node.ELEMENT_NODE);\n",
    "          const index = siblings.indexOf(element) + 1;\n",
    "          path = `${element.tagName.toLowerCase()}[${index}]${path}`;\n",
    "          if (element.parentNode.nodeType === Node.DOCUMENT_NODE) {\n",
    "            break;\n",
    "          } else {\n",
    "            path = `/${path}`;\n",
    "          }\n",
    "        }\n",
    "        return path;\n",
    "      }\n",
    "\n",
    "      const xpath = getElementXPath(element);\n",
    "      return { html, xpath };\n",
    "    } else {\n",
    "      return { html: null, xpath: null };\n",
    "    }\n",
    "   }, x, y);\n",
    "\n",
    "    \n",
    "      // 打印结果\n",
    "    console.log('Element HTML:', result.html);\n",
    "    console.log('Element XPath:', result.xpath);\n",
    "    \n",
    "\n",
    "    // await page.mouse.click(650,320);\n",
    "    // await page.keyboard.type('Hello World!');\n",
    "    \n",
    "    await page.locator('xpath///*[@id=\"kw\"]').fill('sdcsdgsdfsdg')\n",
    "    \n",
    "    // await page.locator('xpath//html/body/main/div[1]/div[2]/div/input').fill('https://www.bilibili.com/video/BV1pH4y1w7Ew/?spm_id_from=333.1007.tianma.2-1-3.click&vd_source=d4ebd745c981f5c9835bd985e88ae31d');\n",
    "    \n",
    "    \n",
    "    console.log('start')\n",
    "    await page.waitForTimeout(timeout);\n",
    "    console.log('end')\n",
    "\n",
    "    // await browser.close();\n",
    "})();\n"
   ]
  },
  {
   "cell_type": "code",
   "execution_count": null,
   "id": "43d0413f-c9cc-49ef-8146-6dc054087a3b",
   "metadata": {},
   "outputs": [],
   "source": []
  },
  {
   "cell_type": "code",
   "execution_count": 54,
   "id": "a9784197-f2a5-4e51-b28f-9a2108efe7ea",
   "metadata": {
    "tags": []
   },
   "outputs": [
    {
     "name": "stdout",
     "output_type": "stream",
     "text": [
      "\u001b[1m\u001b[43m\u001b[30m\n",
      "  Degraded performance warning:\u001b[0m\u001b[33m\n",
      "  Launching Chrome on Mac Silicon (arm64) from an x64 Node installation results in\n",
      "  Rosetta translating the Chrome binary, even if Chrome is already arm64. This would\n",
      "  result in huge performance issues. To resolve this, you must run Puppeteer with\n",
      "  a version of Node built for arm64.\n",
      "Element HTML: <input id=\"kw\" name=\"wd\" class=\"s_ipt\" value=\"\" maxlength=\"255\" autocomplete=\"off\">\n",
      "Element XPath: html[1]/body[2]/div[5]/div[2]/div[5]/div[1]/div[1]/form[4]/span[8]/input[3]\n",
      "start\n",
      "end\n",
      "^C\n"
     ]
    }
   ],
   "source": [
    "!node screenshot.js http://www.baidu.com"
   ]
  },
  {
   "cell_type": "code",
   "execution_count": 57,
   "id": "8da56f98-7939-4371-8741-b8dbcb66b6fb",
   "metadata": {
    "tags": []
   },
   "outputs": [],
   "source": [
    "from zxftools_dev.llms import get_llm"
   ]
  },
  {
   "cell_type": "code",
   "execution_count": 58,
   "id": "c5ce2d39-edfa-4ff3-8763-726165d96375",
   "metadata": {
    "tags": []
   },
   "outputs": [],
   "source": [
    "llm = get_llm()"
   ]
  },
  {
   "cell_type": "code",
   "execution_count": null,
   "id": "515007d1-c034-46e9-826c-1f109dec61c8",
   "metadata": {},
   "outputs": [],
   "source": [
    "<input id=\"kw\" name=\"wd\" class=\"s_ipt\" value=\"\" maxlength=\"255\" autocomplete=\"off\">"
   ]
  },
  {
   "cell_type": "code",
   "execution_count": 59,
   "id": "6b032d87-bef4-4790-bf61-8f30103046eb",
   "metadata": {
    "tags": []
   },
   "outputs": [
    {
     "data": {
      "text/plain": [
       "CompletionResponse(text='该输入框的XPath为：//*[@id=\"kw\"]', additional_kwargs={}, raw={'id': 'chatcmpl-9lutWSWtbeLXHdYGpc9B5kB69kuh0', 'choices': [Choice(finish_reason='stop', index=0, logprobs=None, message=ChatCompletionMessage(content='该输入框的XPath为：//*[@id=\"kw\"]', role='assistant', function_call=None, tool_calls=None), content_filter_results={'hate': {'filtered': False, 'severity': 'safe'}, 'self_harm': {'filtered': False, 'severity': 'safe'}, 'sexual': {'filtered': False, 'severity': 'safe'}, 'violence': {'filtered': False, 'severity': 'safe'}})], 'created': 1721207146, 'model': 'gpt-35-turbo', 'object': 'chat.completion', 'service_tier': None, 'system_fingerprint': None, 'usage': CompletionUsage(completion_tokens=13, prompt_tokens=43, total_tokens=56), 'prompt_filter_results': [{'prompt_index': 0, 'content_filter_results': {'hate': {'filtered': False, 'severity': 'safe'}, 'self_harm': {'filtered': False, 'severity': 'safe'}, 'sexual': {'filtered': False, 'severity': 'safe'}, 'violence': {'filtered': False, 'severity': 'safe'}}}]}, logprobs=None, delta=None)"
      ]
     },
     "execution_count": 59,
     "metadata": {},
     "output_type": "execute_result"
    }
   ],
   "source": [
    "llm.complete('<input id=\"kw\" name=\"wd\" class=\"s_ipt\" value=\"\" maxlength=\"255\" autocomplete=\"off\">  告诉我它的xpath')"
   ]
  },
  {
   "cell_type": "code",
   "execution_count": null,
   "id": "81d2b949-0520-46e2-bf8c-9af2122f5c5e",
   "metadata": {},
   "outputs": [],
   "source": [
    "//*[@id=\"kw\"]"
   ]
  },
  {
   "cell_type": "code",
   "execution_count": null,
   "id": "f2dd4744-d8dc-4497-a02b-001f105fec83",
   "metadata": {},
   "outputs": [],
   "source": []
  },
  {
   "cell_type": "code",
   "execution_count": null,
   "id": "dc1ee222-1fe5-48a3-b0ee-b6aecaa5f913",
   "metadata": {},
   "outputs": [],
   "source": []
  },
  {
   "cell_type": "code",
   "execution_count": null,
   "id": "0d760c97-7044-4b0c-a93e-ff03166ab79c",
   "metadata": {},
   "outputs": [],
   "source": []
  },
  {
   "cell_type": "code",
   "execution_count": null,
   "id": "b37b8eb9-8851-4291-b5aa-a9050081ae39",
   "metadata": {},
   "outputs": [],
   "source": []
  },
  {
   "cell_type": "code",
   "execution_count": null,
   "id": "11f87ae0-0062-4b7e-94ad-9757e3fa415c",
   "metadata": {},
   "outputs": [],
   "source": []
  },
  {
   "cell_type": "code",
   "execution_count": null,
   "id": "d5611c94-12a6-4d2a-96cf-90ee738381f1",
   "metadata": {},
   "outputs": [],
   "source": []
  },
  {
   "cell_type": "code",
   "execution_count": null,
   "id": "85df66b4-e64e-4dd5-9ca0-5a8ac2bdf96d",
   "metadata": {},
   "outputs": [],
   "source": []
  },
  {
   "cell_type": "code",
   "execution_count": 78,
   "id": "62dd6dc1-4614-455b-a7f7-e8f7ee61e726",
   "metadata": {
    "tags": []
   },
   "outputs": [
    {
     "data": {
      "image/png": "[encoded data removed]",
      "text/plain": [
       "<Figure size 640x480 with 1 Axes>"
      ]
     },
     "metadata": {},
     "output_type": "display_data"
    }
   ],
   "source": [
    "import matplotlib.pyplot as plt\n",
    "import matplotlib.image as mpimg\n",
    "细粒度 = 50\n",
    "# 加载图像\n",
    "img = mpimg.imread('./img/screenshot.jpg')\n",
    "\n",
    "# 创建图形和坐标轴\n",
    "fig, ax = plt.subplots()\n",
    "\n",
    "# 显示图像\n",
    "ax.imshow(img)\n",
    "ax.tick_params(axis='both', which='major', labelsize=8)  # 主刻度标签字体大小设置为8\n",
    "ax.tick_params(axis='both', which='minor', labelsize=6)  # 副刻度标签字体大小设置为6（如果有副刻度的话）\n",
    "\n",
    "# 显示坐标轴\n",
    "ax.axis('on')  # 显示坐标轴，设置为 'off' 可以隐藏坐标轴\n",
    "\n",
    "# 细粒度设置 X 轴刻度位置\n",
    "x_ticks = np.arange(0, img.shape[1], step=细粒度)  # 设置每10像素一个刻度\n",
    "ax.set_xticks(x_ticks)\n",
    "\n",
    "# 细粒度设置 Y 轴刻度位置\n",
    "y_ticks = np.arange(0, img.shape[0], step=细粒度)  # 设置每10像素一个刻度\n",
    "ax.set_yticks(y_ticks)\n",
    "plt.xticks(rotation=45)  # Y 轴标签旋转45度\n",
    "# 保存图像到文件\n",
    "plt.savefig('saved_image_with_axes.png', dpi=300)  # 可以选择保存为不同的格式，例如 .png, .jpg, .pdf 等\n",
    "\n",
    "# 显示图像\n",
    "plt.show()\n"
   ]
  },
  {
   "cell_type": "code",
   "execution_count": null,
   "id": "614684b9-e4d4-4cce-8ca4-8f37adff141b",
   "metadata": {},
   "outputs": [],
   "source": []
  },
  {
   "cell_type": "code",
   "execution_count": null,
   "id": "f67299ab-f13e-4899-a155-f78c72e991a5",
   "metadata": {},
   "outputs": [],
   "source": []
  },
  {
   "cell_type": "code",
   "execution_count": null,
   "id": "8ef7c04b-a8d6-4cc5-83ad-e7da2c859532",
   "metadata": {},
   "outputs": [],
   "source": []
  },
  {
   "cell_type": "code",
   "execution_count": null,
   "id": "8a057a7f-a9fa-4b07-90cc-76a0537c028a",
   "metadata": {},
   "outputs": [],
   "source": []
  },
  {
   "cell_type": "code",
   "execution_count": null,
   "id": "2c2faf13-e6c8-457e-bac3-ea65bf6f53a4",
   "metadata": {},
   "outputs": [],
   "source": []
  },
  {
   "cell_type": "code",
   "execution_count": null,
   "id": "f3bf3503-7711-4166-8cc2-ab944ecd0bf1",
   "metadata": {},
   "outputs": [],
   "source": []
  },
  {
   "cell_type": "code",
   "execution_count": null,
   "id": "5da0939f-d5f6-47f7-893d-1c9fe700673b",
   "metadata": {},
   "outputs": [],
   "source": []
  },
  {
   "cell_type": "code",
   "execution_count": null,
   "id": "80ae1912-3b38-45e7-a4e5-847964ccb18e",
   "metadata": {},
   "outputs": [],
   "source": []
  },
  {
   "cell_type": "code",
   "execution_count": null,
   "id": "569707c1-8b5b-475f-9e1f-26db8e4bc0ec",
   "metadata": {},
   "outputs": [],
   "source": []
  },
  {
   "cell_type": "code",
   "execution_count": null,
   "id": "23e5c5ba-7403-4dd5-a062-b799f2e11e70",
   "metadata": {},
   "outputs": [],
   "source": []
  },
  {
   "cell_type": "code",
   "execution_count": null,
   "id": "c7af315b-08cd-4aed-8f1c-4d0782d141b7",
   "metadata": {},
   "outputs": [],
   "source": []
  },
  {
   "cell_type": "code",
   "execution_count": 79,
   "id": "a8a42aa0-38bc-4d27-a97c-9eab23748895",
   "metadata": {
    "tags": []
   },
   "outputs": [],
   "source": [
    "from llama_index.multi_modal_llms.openai import OpenAIMultiModal\n",
    "from llama_index.core.multi_modal_llms.generic_utils import load_image_urls\n"
   ]
  },
  {
   "cell_type": "code",
   "execution_count": 80,
   "id": "3e53d95c-4abc-45af-aaa1-567a39580e2a",
   "metadata": {
    "tags": []
   },
   "outputs": [],
   "source": [
    "from llama_index.core import SimpleDirectoryReader\n"
   ]
  },
  {
   "cell_type": "code",
   "execution_count": 81,
   "id": "eafc0830-47a1-42dc-b6a2-d3f6a03e8647",
   "metadata": {
    "tags": []
   },
   "outputs": [],
   "source": [
    "openai_mm_llm = OpenAIMultiModal(\n",
    "    model=\"gpt-4-vision-preview\", api_base=\"https://api.gptsapi.net/v1\",\n",
    "                                api_key=os.environ.get('WildCard_API_KEY'), max_new_tokens=300\n",
    ")"
   ]
  },
  {
   "cell_type": "code",
   "execution_count": 82,
   "id": "be9883cb-0dd6-4aed-aa6f-e9951b03d58d",
   "metadata": {
    "tags": []
   },
   "outputs": [],
   "source": [
    "image_documents = SimpleDirectoryReader('./img2').load_data()\n"
   ]
  },
  {
   "cell_type": "code",
   "execution_count": 83,
   "id": "902a674e-9c62-45b0-b112-a85e30ed1a4d",
   "metadata": {
    "tags": []
   },
   "outputs": [],
   "source": [
    "response = openai_mm_llm.complete(\n",
    "    prompt=\"告诉我输入框和搜索按钮的位置\",\n",
    "    image_documents=image_documents,\n",
    ")"
   ]
  },
  {
   "cell_type": "code",
   "execution_count": 84,
   "id": "76fabea8-8aa3-4940-9e53-679533622241",
   "metadata": {
    "tags": []
   },
   "outputs": [
    {
     "name": "stdout",
     "output_type": "stream",
     "text": [
      "在这张图片中，输入框和搜索按钮的位置如下：\n",
      "\n",
      "- 输入框的位置：大约在 (450, 300) 到 (850, 350) 之间。\n",
      "- 搜索按钮的位置：大约在 (860, 300) 到 (950, 350) 之间。\n",
      "\n",
      "这些坐标是基于图片中的像素位置估算的。\n"
     ]
    }
   ],
   "source": [
    "print(response.text)"
   ]
  },
  {
   "cell_type": "code",
   "execution_count": null,
   "id": "920f5fa1-16be-44ab-a158-fef2791e96f1",
   "metadata": {},
   "outputs": [],
   "source": []
  },
  {
   "cell_type": "code",
   "execution_count": null,
   "id": "6819fbd5-a731-40a9-86ef-1787bce3311d",
   "metadata": {},
   "outputs": [],
   "source": []
  },
  {
   "cell_type": "code",
   "execution_count": null,
   "id": "da69af10-57ad-4048-a9b4-10ec24696669",
   "metadata": {},
   "outputs": [],
   "source": []
  },
  {
   "cell_type": "code",
   "execution_count": null,
   "id": "eda45808-7b0d-47e7-8c2b-d45a020df8ea",
   "metadata": {},
   "outputs": [],
   "source": []
  },
  {
   "cell_type": "code",
   "execution_count": null,
   "id": "acc4d7db-bce8-41b7-94f8-c3ba56ccce6e",
   "metadata": {},
   "outputs": [],
   "source": []
  },
  {
   "cell_type": "code",
   "execution_count": null,
   "id": "3570ca92-1b9e-493a-a6f3-34f81f71802b",
   "metadata": {},
   "outputs": [],
   "source": []
  }
 ],
 "metadata": {
  "kernelspec": {
   "display_name": "Python 3 (ipykernel)",
   "language": "python",
   "name": "python3"
  },
  "language_info": {
   "codemirror_mode": {
    "name": "ipython",
    "version": 3
   },
   "file_extension": ".py",
   "mimetype": "text/x-python",
   "name": "python",
   "nbconvert_exporter": "python",
   "pygments_lexer": "ipython3",
   "version": "3.10.14"
  }
 },
 "nbformat": 4,
 "nbformat_minor": 5
}
