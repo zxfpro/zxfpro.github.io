{
 "cells": [
  {
   "cell_type": "markdown",
   "id": "a38e5d2d-7587-4192-90f2-b58e6c62f08c",
   "metadata": {},
   "source": [
    "# Self Discover\n",
    "\n",
    "An implementation of the [Self-Discover paper](https://arxiv.org/pdf/2402.03620.pdf).\n",
    "\n",
    "Based on [this implementation from @catid](https://github.com/catid/self-discover/tree/main?tab=readme-ov-file)"
   ]
  },
  {
   "cell_type": "code",
   "execution_count": 1,
   "id": "a18d8f24-5d9a-45c5-9739-6f3c4ed6c9c9",
   "metadata": {
    "tags": []
   },
   "outputs": [],
   "source": [
    "from langchain_openai import ChatOpenAI"
   ]
  },
  {
   "cell_type": "code",
   "execution_count": null,
   "id": "ca84b556-a628-4842-a440-4eeebd4c78b4",
   "metadata": {},
   "outputs": [],
   "source": []
  },
  {
   "cell_type": "code",
   "execution_count": 2,
   "id": "9f554045-6e79-42d3-be4b-835bbbd0b78c",
   "metadata": {
    "tags": []
   },
   "outputs": [],
   "source": [
    "model = ChatOpenAI(temperature=0, model=\"gpt-4-turbo-preview\")"
   ]
  },
  {
   "cell_type": "code",
   "execution_count": 3,
   "id": "9e9925aa-638a-4862-823e-9803402b8f82",
   "metadata": {
    "tags": []
   },
   "outputs": [],
   "source": [
    "from langchain import hub\n",
    "from langchain_core.prompts import PromptTemplate"
   ]
  },
  {
   "cell_type": "code",
   "execution_count": 4,
   "id": "c4cc5c8c-f6a5-42c7-9ed5-780d79b3b29a",
   "metadata": {
    "tags": []
   },
   "outputs": [],
   "source": [
    "select_prompt = hub.pull(\"hwchase17/self-discovery-select\")"
   ]
  },
  {
   "cell_type": "code",
   "execution_count": 5,
   "id": "a5b53d29-f5b6-4f39-af97-bb6b133e1d18",
   "metadata": {
    "tags": []
   },
   "outputs": [
    {
     "name": "stdout",
     "output_type": "stream",
     "text": [
      "Select several reasoning modules that are crucial to utilize in order to solve the given task:\n",
      "\n",
      "All reasoning module descriptions:\n",
      "\u001b[33;1m\u001b[1;3m{reasoning_modules}\u001b[0m\n",
      "\n",
      "Task: \u001b[33;1m\u001b[1;3m{task_description}\u001b[0m\n",
      "\n",
      "Select several modules are crucial for solving the task above:\n",
      "\n"
     ]
    }
   ],
   "source": [
    "select_prompt.pretty_print()"
   ]
  },
  {
   "cell_type": "code",
   "execution_count": 6,
   "id": "26eaa6bc-5202-4b22-9522-33f227c8eb55",
   "metadata": {
    "tags": []
   },
   "outputs": [],
   "source": [
    "adapt_prompt = hub.pull(\"hwchase17/self-discovery-adapt\")"
   ]
  },
  {
   "cell_type": "code",
   "execution_count": 7,
   "id": "dc30afb9-180d-417b-9935-f7ef166710b8",
   "metadata": {
    "tags": []
   },
   "outputs": [
    {
     "name": "stdout",
     "output_type": "stream",
     "text": [
      "Rephrase and specify each reasoning module so that it better helps solving the task:\n",
      "\n",
      "SELECTED module descriptions:\n",
      "\u001b[33;1m\u001b[1;3m{selected_modules}\u001b[0m\n",
      "\n",
      "Task: \u001b[33;1m\u001b[1;3m{task_description}\u001b[0m\n",
      "\n",
      "Adapt each reasoning module description to better solve the task:\n",
      "\n"
     ]
    }
   ],
   "source": [
    "adapt_prompt.pretty_print()"
   ]
  },
  {
   "cell_type": "code",
   "execution_count": 8,
   "id": "a93253a9-8f50-49dd-8815-c3927bae1905",
   "metadata": {
    "tags": []
   },
   "outputs": [],
   "source": [
    "structured_prompt = hub.pull(\"hwchase17/self-discovery-structure\")"
   ]
  },
  {
   "cell_type": "code",
   "execution_count": 9,
   "id": "8ea8dd78-4285-400b-83d2-c4a241903a79",
   "metadata": {
    "tags": []
   },
   "outputs": [
    {
     "name": "stdout",
     "output_type": "stream",
     "text": [
      "Operationalize the reasoning modules into a step-by-step reasoning plan in JSON format:\n",
      "\n",
      "Here's an example:\n",
      "\n",
      "Example task:\n",
      "\n",
      "If you follow these instructions, do you return to the starting point? Always face forward. Take 1 step backward. Take 9 steps left. Take 2 steps backward. Take 6 steps forward. Take 4 steps forward. Take 4 steps backward. Take 3 steps right.\n",
      "\n",
      "Example reasoning structure:\n",
      "\n",
      "{\n",
      "    \"Position after instruction 1\":\n",
      "    \"Position after instruction 2\":\n",
      "    \"Position after instruction n\":\n",
      "    \"Is final position the same as starting position\":\n",
      "}\n",
      "\n",
      "Adapted module description:\n",
      "\u001b[33;1m\u001b[1;3m{adapted_modules}\u001b[0m\n",
      "\n",
      "Task: \u001b[33;1m\u001b[1;3m{task_description}\u001b[0m\n",
      "\n",
      "Implement a reasoning structure for solvers to follow step-by-step and arrive at correct answer.\n",
      "\n",
      "Note: do NOT actually arrive at a conclusion in this pass. Your job is to generate a PLAN so that in the future you can fill it out and arrive at the correct conclusion for tasks like this\n"
     ]
    }
   ],
   "source": [
    "structured_prompt.pretty_print()"
   ]
  },
  {
   "cell_type": "code",
   "execution_count": 10,
   "id": "f3d4d79d-f414-4588-b476-4a35b3ba6fbf",
   "metadata": {
    "tags": []
   },
   "outputs": [],
   "source": [
    "reasoning_prompt = hub.pull(\"hwchase17/self-discovery-reasoning\")"
   ]
  },
  {
   "cell_type": "code",
   "execution_count": 11,
   "id": "23d1e32e-d12e-454a-8484-c08e250e3262",
   "metadata": {
    "tags": []
   },
   "outputs": [
    {
     "name": "stdout",
     "output_type": "stream",
     "text": [
      "Follow the step-by-step reasoning plan in JSON to correctly solve the task. Fill in the values following the keys by reasoning specifically about the task given. Do not simply rephrase the keys.\n",
      "    \n",
      "Reasoning Structure:\n",
      "\u001b[33;1m\u001b[1;3m{reasoning_structure}\u001b[0m\n",
      "\n",
      "Task: \u001b[33;1m\u001b[1;3m{task_description}\u001b[0m\n"
     ]
    }
   ],
   "source": [
    "reasoning_prompt.pretty_print()"
   ]
  },
  {
   "cell_type": "code",
   "execution_count": 12,
   "id": "7b9af01d-da28-4785-b069-efea61905cfa",
   "metadata": {
    "tags": []
   },
   "outputs": [
    {
     "data": {
      "text/plain": [
       "PromptTemplate(input_variables=['reasoning_structure', 'task_description'], metadata={'lc_hub_owner': 'hwchase17', 'lc_hub_repo': 'self-discovery-reasoning', 'lc_hub_commit_hash': '483407076245bb2849eda5b87ca0cf15e32e5e4d7a37e80ee7ee4ef465245de3'}, template='Follow the step-by-step reasoning plan in JSON to correctly solve the task. Fill in the values following the keys by reasoning specifically about the task given. Do not simply rephrase the keys.\\n    \\nReasoning Structure:\\n{reasoning_structure}\\n\\nTask: {task_description}')"
      ]
     },
     "execution_count": 12,
     "metadata": {},
     "output_type": "execute_result"
    }
   ],
   "source": [
    "reasoning_prompt"
   ]
  },
  {
   "cell_type": "code",
   "execution_count": 14,
   "id": "399bf160-e257-429f-b27e-66d4063f195f",
   "metadata": {
    "tags": []
   },
   "outputs": [],
   "source": [
    "from langchain_core.output_parsers import StrOutputParser\n",
    "from langchain_core.runnables import RunnablePassthrough"
   ]
  },
  {
   "cell_type": "code",
   "execution_count": 15,
   "id": "5c3bd203-7dc1-457e-813f-283aaf059ec0",
   "metadata": {
    "tags": []
   },
   "outputs": [],
   "source": [
    "select_chain = select_prompt | model | StrOutputParser()"
   ]
  },
  {
   "cell_type": "code",
   "execution_count": 16,
   "id": "86420da0-7cc2-4659-853e-9c3ef808e47c",
   "metadata": {
    "tags": []
   },
   "outputs": [],
   "source": [
    "adapt_chain = adapt_prompt | model | StrOutputParser()"
   ]
  },
  {
   "cell_type": "code",
   "execution_count": 17,
   "id": "270a3905-58a3-4650-96ca-e8254040285f",
   "metadata": {
    "tags": []
   },
   "outputs": [],
   "source": [
    "structure_chain = structured_prompt | model | StrOutputParser()"
   ]
  },
  {
   "cell_type": "code",
   "execution_count": 18,
   "id": "55b486cc-36be-497e-9eba-9c8dc228f2d1",
   "metadata": {
    "tags": []
   },
   "outputs": [],
   "source": [
    "reasoning_chain = reasoning_prompt | model | StrOutputParser()"
   ]
  },
  {
   "cell_type": "code",
   "execution_count": 19,
   "id": "92d8d484-055b-48a8-98bc-e7d40c12db2e",
   "metadata": {
    "tags": []
   },
   "outputs": [],
   "source": [
    "overall_chain = (\n",
    "    RunnablePassthrough.assign(selected_modules=select_chain)\n",
    "    .assign(adapted_modules=adapt_chain)\n",
    "    .assign(reasoning_structure=structure_chain)\n",
    "    .assign(answer=reasoning_chain)\n",
    ")"
   ]
  },
  {
   "cell_type": "code",
   "execution_count": 23,
   "id": "29fe385b-cf5d-4581-80e7-55462f5628bb",
   "metadata": {
    "tags": []
   },
   "outputs": [],
   "source": [
    "reasoning_modules = [\n",
    "    \"1. How could I devise an experiment to help solve that problem?\",\n",
    "    \"2. Make a list of ideas for solving this problem, and apply them one by one to the problem to see if any progress can be made.\",\n",
    "    # \"3. How could I measure progress on this problem?\",\n",
    "    \"4. How can I simplify the problem so that it is easier to solve?\",\n",
    "    \"5. What are the key assumptions underlying this problem?\",\n",
    "    \"6. What are the potential risks and drawbacks of each solution?\",\n",
    "    \"7. What are the alternative perspectives or viewpoints on this problem?\",\n",
    "    \"8. What are the long-term implications of this problem and its solutions?\",\n",
    "    \"9. How can I break down this problem into smaller, more manageable parts?\",\n",
    "    \"10. Critical Thinking: This style involves analyzing the problem from different perspectives, questioning assumptions, and evaluating the evidence or information available. It focuses on logical reasoning, evidence-based decision-making, and identifying potential biases or flaws in thinking.\",\n",
    "    \"11. Try creative thinking, generate innovative and out-of-the-box ideas to solve the problem. Explore unconventional solutions, thinking beyond traditional boundaries, and encouraging imagination and originality.\",\n",
    "    # \"12. Seek input and collaboration from others to solve the problem. Emphasize teamwork, open communication, and leveraging the diverse perspectives and expertise of a group to come up with effective solutions.\",\n",
    "    \"13. Use systems thinking: Consider the problem as part of a larger system and understanding the interconnectedness of various elements. Focuses on identifying the underlying causes, feedback loops, and interdependencies that influence the problem, and developing holistic solutions that address the system as a whole.\",\n",
    "    \"14. Use Risk Analysis: Evaluate potential risks, uncertainties, and tradeoffs associated with different solutions or approaches to a problem. Emphasize assessing the potential consequences and likelihood of success or failure, and making informed decisions based on a balanced analysis of risks and benefits.\",\n",
    "    # \"15. Use Reflective Thinking: Step back from the problem, take the time for introspection and self-reflection. Examine personal biases, assumptions, and mental models that may influence problem-solving, and being open to learning from past experiences to improve future approaches.\",\n",
    "    \"16. What is the core issue or problem that needs to be addressed?\",\n",
    "    \"17. What are the underlying causes or factors contributing to the problem?\",\n",
    "    \"18. Are there any potential solutions or strategies that have been tried before? If yes, what were the outcomes and lessons learned?\",\n",
    "    \"19. What are the potential obstacles or challenges that might arise in solving this problem?\",\n",
    "    \"20. Are there any relevant data or information that can provide insights into the problem? If yes, what data sources are available, and how can they be analyzed?\",\n",
    "    \"21. Are there any stakeholders or individuals who are directly affected by the problem? What are their perspectives and needs?\",\n",
    "    \"22. What resources (financial, human, technological, etc.) are needed to tackle the problem effectively?\",\n",
    "    \"23. How can progress or success in solving the problem be measured or evaluated?\",\n",
    "    \"24. What indicators or metrics can be used?\",\n",
    "    \"25. Is the problem a technical or practical one that requires a specific expertise or skill set? Or is it more of a conceptual or theoretical problem?\",\n",
    "    \"26. Does the problem involve a physical constraint, such as limited resources, infrastructure, or space?\",\n",
    "    \"27. Is the problem related to human behavior, such as a social, cultural, or psychological issue?\",\n",
    "    \"28. Does the problem involve decision-making or planning, where choices need to be made under uncertainty or with competing objectives?\",\n",
    "    \"29. Is the problem an analytical one that requires data analysis, modeling, or optimization techniques?\",\n",
    "    \"30. Is the problem a design challenge that requires creative solutions and innovation?\",\n",
    "    \"31. Does the problem require addressing systemic or structural issues rather than just individual instances?\",\n",
    "    \"32. Is the problem time-sensitive or urgent, requiring immediate attention and action?\",\n",
    "    \"33. What kinds of solution typically are produced for this kind of problem specification?\",\n",
    "    \"34. Given the problem specification and the current best solution, have a guess about other possible solutions.\"\n",
    "    \"35. Let’s imagine the current best solution is totally wrong, what other ways are there to think about the problem specification?\"\n",
    "    \"36. What is the best way to modify this current best solution, given what you know about these kinds of problem specification?\"\n",
    "    \"37. Ignoring the current best solution, create an entirely new solution to the problem.\"\n",
    "    # \"38. Let’s think step by step.\"\n",
    "    \"39. Let’s make a step by step plan and implement it with good notation and explanation.\",\n",
    "]\n",
    "\n",
    "\n",
    "\n",
    "task_example = \"\"\"This SVG path element <path d=\"M 55.57,80.69 L 57.38,65.80 M 57.38,65.80 L 48.90,57.46 M 48.90,57.46 L\n",
    "45.58,47.78 M 45.58,47.78 L 53.25,36.07 L 66.29,48.90 L 78.69,61.09 L 55.57,80.69\"/> draws a:\n",
    "(A) circle (B) heptagon (C) hexagon (D) kite (E) line (F) octagon (G) pentagon(H) rectangle (I) sector (J) triangle\"\"\"\n",
    "\n",
    "task_example = \"Lisa has 10 apples. She gives 3 apples to her friend and then buys 5 more apples from the store. How many apples does Lisa have now?\"\n"
   ]
  },
  {
   "cell_type": "code",
   "execution_count": null,
   "id": "033b6740-edc2-41c3-aad4-60a50237f2cf",
   "metadata": {},
   "outputs": [],
   "source": [
    "“1。我怎样才能设计一个实验来解决这个问题呢?”\n",
    "“2。把解决这个问题的想法列一个清单，然后一个接一个地应用到这个问题上，看看是否能取得进展。\n",
    "# 3。我怎样才能衡量这个问题的进展呢?”\n",
    "”4。我怎样才能简化这个问题，使它更容易解决?\n",
    "“5。这个问题背后的关键假设是什么?”\n",
    "”6。每种解决方案的潜在风险和缺点是什么?\n",
    "”7。对这个问题有什么不同的观点或观点?\n",
    "“8。这个问题及其解决方案的长期影响是什么?\n",
    "”9。我怎样才能把这个问题分解成更小、更容易处理的部分呢?\n",
    "“10。批判性思维:这种风格包括从不同的角度分析问题，质疑假设，评估现有的证据或信息。它侧重于逻辑推理、基于证据的决策，以及识别思维中的潜在偏见或缺陷。”\n",
    "”11。尝试创造性思维，产生创新的和打破常规的想法来解决问题。探索非传统的解决方案，超越传统的界限思考，鼓励想象力和独创性。”\n",
    "#”12。寻求他人的意见和合作来解决问题。强调团队合作，开放沟通，利用团队的不同观点和专业知识来提出有效的解决方案。”\n",
    "“13。使用系统思维:将问题视为更大系统的一部分，并理解各种元素的相互联系。重点是确定影响问题的潜在原因、反馈回路和相互依赖关系，并制定整体解决方案，以解决整个系统。”\n",
    "“14。使用风险分析:评估与问题的不同解决方案或方法相关的潜在风险、不确定性和权衡。强调评估潜在的后果和成功或失败的可能性，并在平衡分析风险和收益的基础上做出明智的决定。”\n",
    "15 #”。运用反思性思维:从问题中退后一步，花时间反省和自我反省。检查可能影响解决问题的个人偏见、假设和心理模型，并从过去的经验中学习，以改进未来的方法。”\n",
    "“16。需要解决的核心问题是什么?”\n",
    "“17岁。造成这个问题的根本原因或因素是什么?\n",
    "“18岁。有没有什么潜在的解决方案或策略是以前尝试过的?如果是，结果和教训是什么?”\n",
    "”19。在解决这个问题的过程中可能会遇到哪些潜在的障碍或挑战?\n",
    "“20。是否有任何相关的数据或信息，可以提供洞察问题?如果是，有哪些可用的数据来源，如何分析这些数据?”\n",
    "“21。是否有任何利益相关者或个人直接受到这个问题的影响?他们的观点和需求是什么?”\n",
    "“22。需要什么资源(财政、人力、技术等)才能有效地解决这个问题?\n",
    "“23。如何衡量或评估解决问题的进展或成功?\n",
    "“24。可以使用哪些指标或度量标准?”\n",
    "“25岁。问题是技术性的还是实践性的，需要特定的专业知识或技能?或者它更像是一个概念或理论问题?”\n",
    "”26日。问题是否涉及物理限制，例如有限的资源、基础设施或空间?\n",
    "”27日。这个问题是否与人类行为有关，比如社会、文化或心理问题?\n",
    "“28。问题是否涉及决策或计划，需要在不确定或目标相互竞争的情况下做出选择?”\n",
    "”29日。这个问题是需要数据分析、建模或优化技术的分析性问题吗?”\n",
    "“30岁。这个问题是一个需要创造性解决方案和创新的设计挑战吗?\n",
    "“31。这个问题是否需要解决系统或结构性问题，而不仅仅是个别问题?”\n",
    "“32。这个问题是时间敏感还是紧急，需要立即注意和采取行动?”\n",
    "”33。对于这类问题说明，通常会产生什么样的解决方案?\n",
    "”34。根据问题说明和当前的最佳解决方案，猜测其他可能的解决方案。”\n",
    "“35。让我们假设当前的最佳解决方案是完全错误的，还有什么其他方式来思考问题规范?”\n",
    "“36。根据您对这类问题说明的了解，修改当前最佳解决方案的最佳方法是什么?”\n",
    "“37。忽略当前的最佳解决方案，创造一个全新的解决方案。”\n",
    "#“38。让我们一步一步来思考。”\n",
    "“39。让我们制定一个循序渐进的计划，并用好的符号和解释来实施它。”"
   ]
  },
  {
   "cell_type": "code",
   "execution_count": 24,
   "id": "6cbfbe81-f751-42da-843a-f9003ace663d",
   "metadata": {
    "tags": []
   },
   "outputs": [],
   "source": [
    "reasoning_modules_str = \"\\n\".join(reasoning_modules)"
   ]
  },
  {
   "cell_type": "code",
   "execution_count": null,
   "id": "2b5f5502-c056-4171-9095-26f4ac79fe21",
   "metadata": {},
   "outputs": [],
   "source": []
  },
  {
   "cell_type": "code",
   "execution_count": 25,
   "id": "dda1fd28-30aa-47cd-a7f0-ffd544ae3a76",
   "metadata": {
    "tags": []
   },
   "outputs": [
    {
     "data": {
      "text/plain": [
       "{'task_description': 'Lisa has 10 apples. She gives 3 apples to her friend and then buys 5 more apples from the store. How many apples does Lisa have now?',\n",
       " 'reasoning_modules': '1. How could I devise an experiment to help solve that problem?\\n2. Make a list of ideas for solving this problem, and apply them one by one to the problem to see if any progress can be made.\\n4. How can I simplify the problem so that it is easier to solve?\\n5. What are the key assumptions underlying this problem?\\n6. What are the potential risks and drawbacks of each solution?\\n7. What are the alternative perspectives or viewpoints on this problem?\\n8. What are the long-term implications of this problem and its solutions?\\n9. How can I break down this problem into smaller, more manageable parts?\\n10. Critical Thinking: This style involves analyzing the problem from different perspectives, questioning assumptions, and evaluating the evidence or information available. It focuses on logical reasoning, evidence-based decision-making, and identifying potential biases or flaws in thinking.\\n11. Try creative thinking, generate innovative and out-of-the-box ideas to solve the problem. Explore unconventional solutions, thinking beyond traditional boundaries, and encouraging imagination and originality.\\n13. Use systems thinking: Consider the problem as part of a larger system and understanding the interconnectedness of various elements. Focuses on identifying the underlying causes, feedback loops, and interdependencies that influence the problem, and developing holistic solutions that address the system as a whole.\\n14. Use Risk Analysis: Evaluate potential risks, uncertainties, and tradeoffs associated with different solutions or approaches to a problem. Emphasize assessing the potential consequences and likelihood of success or failure, and making informed decisions based on a balanced analysis of risks and benefits.\\n16. What is the core issue or problem that needs to be addressed?\\n17. What are the underlying causes or factors contributing to the problem?\\n18. Are there any potential solutions or strategies that have been tried before? If yes, what were the outcomes and lessons learned?\\n19. What are the potential obstacles or challenges that might arise in solving this problem?\\n20. Are there any relevant data or information that can provide insights into the problem? If yes, what data sources are available, and how can they be analyzed?\\n21. Are there any stakeholders or individuals who are directly affected by the problem? What are their perspectives and needs?\\n22. What resources (financial, human, technological, etc.) are needed to tackle the problem effectively?\\n23. How can progress or success in solving the problem be measured or evaluated?\\n24. What indicators or metrics can be used?\\n25. Is the problem a technical or practical one that requires a specific expertise or skill set? Or is it more of a conceptual or theoretical problem?\\n26. Does the problem involve a physical constraint, such as limited resources, infrastructure, or space?\\n27. Is the problem related to human behavior, such as a social, cultural, or psychological issue?\\n28. Does the problem involve decision-making or planning, where choices need to be made under uncertainty or with competing objectives?\\n29. Is the problem an analytical one that requires data analysis, modeling, or optimization techniques?\\n30. Is the problem a design challenge that requires creative solutions and innovation?\\n31. Does the problem require addressing systemic or structural issues rather than just individual instances?\\n32. Is the problem time-sensitive or urgent, requiring immediate attention and action?\\n33. What kinds of solution typically are produced for this kind of problem specification?\\n34. Given the problem specification and the current best solution, have a guess about other possible solutions.35. Let’s imagine the current best solution is totally wrong, what other ways are there to think about the problem specification?36. What is the best way to modify this current best solution, given what you know about these kinds of problem specification?37. Ignoring the current best solution, create an entirely new solution to the problem.39. Let’s make a step by step plan and implement it with good notation and explanation.',\n",
       " 'selected_modules': 'For the given task, which is a straightforward arithmetic problem, the most relevant reasoning modules would be:\\n\\n1. **Critical Thinking (10):** This involves analyzing the problem logically. Even though the problem is simple, applying critical thinking ensures that we understand the sequence of events and the arithmetic operations required to solve the problem.\\n\\n2. **Simplify the Problem (4):** This module helps in breaking down the problem into simpler steps. First, subtract the apples given away, and then add the apples bought.\\n\\n3. **Core Issue or Problem (16):** Identifying the core issue, which in this case is to calculate the total number of apples Lisa has after giving some away and then purchasing more.\\n\\nThe task does not require complex reasoning modules such as devising experiments, risk analysis, systems thinking, or considering long-term implications, as it is a simple arithmetic problem. The solution involves basic math operations: starting with 10 apples, subtracting 3, and then adding 5.',\n",
       " 'adapted_modules': \"1. **Logical Analysis (10):** This module focuses on applying logical reasoning to understand the arithmetic operations involved in the task. It ensures a clear comprehension of the steps needed to calculate the final number of apples Lisa has. By logically analyzing the problem, we identify that the task requires a sequential application of subtraction (to account for the apples given away) followed by addition (to account for the apples purchased).\\n\\n2. **Step-by-Step Breakdown (4):** This module aids in deconstructing the problem into more manageable parts to facilitate easier resolution. The first step involves subtracting the number of apples given away (3) from the initial quantity (10). The second step involves adding the number of apples bought (5) to the result of the first step. This step-by-step approach simplifies the calculation process.\\n\\n3. **Identification of the Arithmetic Goal (16):** This module is centered on pinpointing the exact arithmetic goal of the problem, which is to determine the total count of apples in Lisa's possession after she engages in two transactions: giving away and purchasing apples. Recognizing this as the core issue directs the focus towards performing the correct mathematical operations (subtraction followed by addition) to arrive at the solution.\",\n",
       " 'reasoning_structure': '```json\\n{\\n  \"Task Description\": \"Lisa has 10 apples. She gives 3 apples to her friend and then buys 5 more apples from the store. How many apples does Lisa have now?\",\\n  \"Reasoning Modules\": [\\n    {\\n      \"Module\": \"Logical Analysis\",\\n      \"Description\": \"Apply logical reasoning to understand the arithmetic operations involved in the task.\",\\n      \"Operations\": [\\n        {\\n          \"Operation 1\": \"Subtraction to account for the apples given away.\",\\n          \"Operation 2\": \"Addition to account for the apples purchased.\"\\n        }\\n      ]\\n    },\\n    {\\n      \"Module\": \"Step-by-Step Breakdown\",\\n      \"Description\": \"Deconstruct the problem into more manageable parts.\",\\n      \"Steps\": [\\n        {\\n          \"Step 1\": \"Subtract the number of apples given away from the initial quantity.\",\\n          \"Initial Quantity\": \"10 apples\",\\n          \"Apples Given Away\": \"3 apples\",\\n          \"Calculation\": \"10 - 3\"\\n        },\\n        {\\n          \"Step 2\": \"Add the number of apples bought to the result of the first step.\",\\n          \"Apples Bought\": \"5 apples\",\\n          \"Calculation\": \"Result of Step 1 + 5\"\\n        }\\n      ]\\n    },\\n    {\\n      \"Module\": \"Identification of the Arithmetic Goal\",\\n      \"Description\": \"Identify the arithmetic goal of the problem.\",\\n      \"Goal\": \"Determine the total count of apples in Lisa\\'s possession after the transactions.\",\\n      \"Arithmetic Operations\": [\\n        {\\n          \"Operation 1\": \"Subtraction (giving away apples)\",\\n          \"Operation 2\": \"Addition (purchasing apples)\"\\n        }\\n      ]\\n    }\\n  ],\\n  \"Conclusion Plan\": {\\n    \"Final Calculation\": \"Apply the identified arithmetic operations in sequence to find the total number of apples Lisa has after the transactions.\",\\n    \"Operations\": [\\n      {\\n        \"Operation 1\": \"Subtract the number of apples given away from the initial quantity.\",\\n        \"Operation 2\": \"Add the number of apples bought to the result of the first operation.\"\\n      }\\n    ],\\n    \"Final Position\": \"Calculate the final number of apples to determine if the arithmetic goal is achieved.\"\\n  }\\n}\\n```',\n",
       " 'answer': '```json\\n{\\n  \"Task Description\": \"Lisa has 10 apples. She gives 3 apples to her friend and then buys 5 more apples from the store. How many apples does Lisa have now?\",\\n  \"Reasoning Modules\": [\\n    {\\n      \"Module\": \"Logical Analysis\",\\n      \"Description\": \"The task involves two main arithmetic operations based on the actions described: giving away apples (which reduces the total count) and purchasing apples (which increases the total count).\",\\n      \"Operations\": [\\n        {\\n          \"Operation 1\": \"Subtract 3 from 10 to account for the apples given away.\",\\n          \"Operation 2\": \"Add 5 to the result of Operation 1 to account for the apples purchased.\"\\n        }\\n      ]\\n    },\\n    {\\n      \"Module\": \"Step-by-Step Breakdown\",\\n      \"Description\": \"The problem is broken down into sequential actions that affect the total count of apples.\",\\n      \"Steps\": [\\n        {\\n          \"Step 1\": \"Determine the number of apples left after giving some away.\",\\n          \"Initial Quantity\": \"10 apples\",\\n          \"Apples Given Away\": \"3 apples\",\\n          \"Calculation\": \"10 - 3 = 7 apples\"\\n        },\\n        {\\n          \"Step 2\": \"Calculate the new total after purchasing more apples.\",\\n          \"Apples Bought\": \"5 apples\",\\n          \"Calculation\": \"7 (Result of Step 1) + 5 = 12 apples\"\\n        }\\n      ]\\n    },\\n    {\\n      \"Module\": \"Identification of the Arithmetic Goal\",\\n      \"Description\": \"The goal is to find out how many apples Lisa has after both giving some away and then buying more.\",\\n      \"Goal\": \"Calculate the final count of apples Lisa has.\",\\n      \"Arithmetic Operations\": [\\n        {\\n          \"Operation 1\": \"Subtraction to reflect the apples given away.\",\\n          \"Operation 2\": \"Addition to reflect the apples bought.\"\\n        }\\n      ]\\n    }\\n  ],\\n  \"Conclusion Plan\": {\\n    \"Final Calculation\": \"Perform the subtraction followed by the addition to find the total number of apples Lisa ends up with.\",\\n    \"Operations\": [\\n      {\\n        \"Operation 1\": \"Subtract 3 apples from the initial 10 apples to account for the apples given away.\",\\n        \"Operation 2\": \"Add 5 apples to the 7 apples left after Operation 1.\"\\n      }\\n    ],\\n    \"Final Position\": \"After performing the operations, Lisa has 12 apples.\"\\n  }\\n}\\n```'}"
      ]
     },
     "execution_count": 25,
     "metadata": {},
     "output_type": "execute_result"
    }
   ],
   "source": [
    "overall_chain.invoke(\n",
    "    {\"task_description\": task_example, \"reasoning_modules\": reasoning_modules_str}\n",
    ")"
   ]
  },
  {
   "cell_type": "code",
   "execution_count": null,
   "id": "0213186f-8765-484d-999e-3892ed19e0dd",
   "metadata": {},
   "outputs": [],
   "source": []
  },
  {
   "cell_type": "code",
   "execution_count": null,
   "id": "f5985f7a-3c25-49be-bb8a-4e3ad78b351f",
   "metadata": {},
   "outputs": [],
   "source": []
  },
  {
   "cell_type": "code",
   "execution_count": null,
   "id": "d067ad32-73b5-4751-9977-1de017d7fdec",
   "metadata": {},
   "outputs": [],
   "source": []
  },
  {
   "cell_type": "code",
   "execution_count": null,
   "id": "2653eaa0-5479-48f9-a55c-8829315416fd",
   "metadata": {},
   "outputs": [],
   "source": []
  },
  {
   "cell_type": "code",
   "execution_count": null,
   "id": "2ca01479-83ef-4a3c-b775-e66b2cf37f9b",
   "metadata": {},
   "outputs": [],
   "source": []
  },
  {
   "cell_type": "code",
   "execution_count": 22,
   "id": "d411c7aa-7017-4d67-88b5-43b5d161c34c",
   "metadata": {
    "tags": []
   },
   "outputs": [
    {
     "data": {
      "text/plain": [
       "{'task_description': 'This SVG path element <path d=\"M 55.57,80.69 L 57.38,65.80 M 57.38,65.80 L 48.90,57.46 M 48.90,57.46 L\\n45.58,47.78 M 45.58,47.78 L 53.25,36.07 L 66.29,48.90 L 78.69,61.09 L 55.57,80.69\"/> draws a:\\n(A) circle (B) heptagon (C) hexagon (D) kite (E) line (F) octagon (G) pentagon(H) rectangle (I) sector (J) triangle',\n",
       " 'reasoning_modules': '1. How could I devise an experiment to help solve that problem?\\n2. Make a list of ideas for solving this problem, and apply them one by one to the problem to see if any progress can be made.\\n4. How can I simplify the problem so that it is easier to solve?\\n5. What are the key assumptions underlying this problem?\\n6. What are the potential risks and drawbacks of each solution?\\n7. What are the alternative perspectives or viewpoints on this problem?\\n8. What are the long-term implications of this problem and its solutions?\\n9. How can I break down this problem into smaller, more manageable parts?\\n10. Critical Thinking: This style involves analyzing the problem from different perspectives, questioning assumptions, and evaluating the evidence or information available. It focuses on logical reasoning, evidence-based decision-making, and identifying potential biases or flaws in thinking.\\n11. Try creative thinking, generate innovative and out-of-the-box ideas to solve the problem. Explore unconventional solutions, thinking beyond traditional boundaries, and encouraging imagination and originality.\\n13. Use systems thinking: Consider the problem as part of a larger system and understanding the interconnectedness of various elements. Focuses on identifying the underlying causes, feedback loops, and interdependencies that influence the problem, and developing holistic solutions that address the system as a whole.\\n14. Use Risk Analysis: Evaluate potential risks, uncertainties, and tradeoffs associated with different solutions or approaches to a problem. Emphasize assessing the potential consequences and likelihood of success or failure, and making informed decisions based on a balanced analysis of risks and benefits.\\n16. What is the core issue or problem that needs to be addressed?\\n17. What are the underlying causes or factors contributing to the problem?\\n18. Are there any potential solutions or strategies that have been tried before? If yes, what were the outcomes and lessons learned?\\n19. What are the potential obstacles or challenges that might arise in solving this problem?\\n20. Are there any relevant data or information that can provide insights into the problem? If yes, what data sources are available, and how can they be analyzed?\\n21. Are there any stakeholders or individuals who are directly affected by the problem? What are their perspectives and needs?\\n22. What resources (financial, human, technological, etc.) are needed to tackle the problem effectively?\\n23. How can progress or success in solving the problem be measured or evaluated?\\n24. What indicators or metrics can be used?\\n25. Is the problem a technical or practical one that requires a specific expertise or skill set? Or is it more of a conceptual or theoretical problem?\\n26. Does the problem involve a physical constraint, such as limited resources, infrastructure, or space?\\n27. Is the problem related to human behavior, such as a social, cultural, or psychological issue?\\n28. Does the problem involve decision-making or planning, where choices need to be made under uncertainty or with competing objectives?\\n29. Is the problem an analytical one that requires data analysis, modeling, or optimization techniques?\\n30. Is the problem a design challenge that requires creative solutions and innovation?\\n31. Does the problem require addressing systemic or structural issues rather than just individual instances?\\n32. Is the problem time-sensitive or urgent, requiring immediate attention and action?\\n33. What kinds of solution typically are produced for this kind of problem specification?\\n34. Given the problem specification and the current best solution, have a guess about other possible solutions.35. Let’s imagine the current best solution is totally wrong, what other ways are there to think about the problem specification?36. What is the best way to modify this current best solution, given what you know about these kinds of problem specification?37. Ignoring the current best solution, create an entirely new solution to the problem.39. Let’s make a step by step plan and implement it with good notation and explanation.',\n",
       " 'selected_modules': \"To solve the task of identifying the shape drawn by the given SVG path element, the following reasoning modules are crucial:\\n\\n1. **Critical Thinking (10):** This involves analyzing the SVG path commands and coordinates to understand the shape they form. Critical thinking will help in questioning assumptions about the shape based on the path's direction and connections between points.\\n\\n2. **Simplification (4):** By simplifying the problem, one can focus on the sequence of commands and coordinates to deduce the shape. Simplifying might involve sketching the path based on the commands to visualize the shape.\\n\\n3. **Breaking Down the Problem (9):** The SVG path can be broken down into smaller segments based on the commands (M for moveto, L for lineto). Analyzing each segment individually can help in understanding the overall shape.\\n\\n4. **Creative Thinking (11):** While the task seems straightforward, creative thinking might be necessary to visualize the shape without actually drawing it, especially if one is not familiar with SVG syntax.\\n\\n5. **Systems Thinking (13):** Understanding how each part of the SVG path contributes to the whole shape and how altering one part of the path (e.g., a coordinate or command) could change the shape.\\n\\n6. **Analytical Problem Solving (29):** This task requires data analysis skills to interpret the SVG path commands and coordinates, and to model the shape they represent.\\n\\nGiven the task and the reasoning modules, the process involves critically analyzing the SVG path commands, simplifying the problem by breaking down the path into manageable segments, creatively visualizing the shape, understanding the system of SVG path creation, and analytically solving for the shape. The correct answer would be determined by plotting the points and following the path commands to see which shape they form.\",\n",
       " 'adapted_modules': '1. **Enhanced Critical Analysis of SVG Path Syntax (10):** This module focuses on a detailed examination of the SVG path\\'s commands and coordinates, challenging initial perceptions of the shape. It involves a step-by-step analysis to discern the nature of the shape formed by the path, considering the implications of each command (e.g., \"M\" for moveto, \"L\" for lineto) and the connections between specified points.\\n\\n2. **Problem Simplification through Visualization (4):** This approach simplifies the task by translating the SVG path commands into a visual sketch. By drawing the path as described by the commands, one can more easily identify the shape, making the problem more approachable by reducing it to a visual identification task.\\n\\n3. **Segmentation Analysis (9):** This module proposes dissecting the SVG path into its constituent commands and analyzing each segment independently. By understanding the role of each command and its contribution to the overall path, one can piece together the shape in a methodical manner, facilitating a clearer understanding of the whole.\\n\\n4. **Innovative Visualization Strategies (11):** Given the abstract nature of SVG paths, this module encourages the development of unique strategies to mentally visualize the shape formed by the path without the need for physical drawing. This could involve imagining the movement from one point to the next based on the commands or using analogies to familiar shapes.\\n\\n5. **Comprehensive Systems Analysis (13):** This module emphasizes the importance of understanding the SVG path as a system, where each command and coordinate plays a critical role in defining the shape. It involves assessing how modifications to individual elements of the path (e.g., changing a coordinate or command type) could influence the overall shape, promoting a holistic view of the path\\'s structure.\\n\\n6. **Deductive Analytical Reasoning (29):** This module requires applying data analysis techniques to systematically interpret the SVG path\\'s commands and coordinates. By logically deducing the relationship between the path\\'s instructions and the resulting shape, one can model and identify the shape accurately. This involves a step-by-step deduction process, where each command\\'s contribution to the shape is evaluated to arrive at the correct identification.\\n\\nBy adapting these reasoning modules with a focus on detailed analysis, visualization, segmentation, innovative thinking, systems understanding, and deductive reasoning, one can more effectively solve the task of identifying the shape drawn by the given SVG path element.',\n",
       " 'reasoning_structure': '```json\\n{\\n  \"task\": \"Identify the shape drawn by the SVG path element\",\\n  \"svg_path\": \"<path d=\\\\\"M 55.57,80.69 L 57.38,65.80 M 57.38,65.80 L 48.90,57.46 M 48.90,57.46 L 45.58,47.78 M 45.58,47.78 L 53.25,36.07 L 66.29,48.90 L 78.69,61.09 L 55.57,80.69\\\\\"/>\",\\n  \"reasoning_steps\": [\\n    {\\n      \"step\": 1,\\n      \"description\": \"Enhanced Critical Analysis of SVG Path Syntax\",\\n      \"action\": \"Examine each SVG path command and its coordinates to understand the initial direction and movement.\",\\n      \"expected_outcome\": \"List of commands and their implications on the path\\'s direction and shape.\"\\n    },\\n    {\\n      \"step\": 2,\\n      \"description\": \"Problem Simplification through Visualization\",\\n      \"action\": \"Translate the SVG path commands into a rough sketch to visualize the path.\",\\n      \"expected_outcome\": \"A sketch that represents the path described by the SVG commands.\"\\n    },\\n    {\\n      \"step\": 3,\\n      \"description\": \"Segmentation Analysis\",\\n      \"action\": \"Break down the SVG path into individual commands and analyze each segment\\'s contribution to the overall shape.\",\\n      \"expected_outcome\": \"Understanding of how each segment forms part of the shape.\"\\n    },\\n    {\\n      \"step\": 4,\\n      \"description\": \"Innovative Visualization Strategies\",\\n      \"action\": \"Develop unique strategies to visualize the shape formed by the path, without relying on physical drawing.\",\\n      \"expected_outcome\": \"A mental image of the shape based on the path\\'s movement from one point to the next.\"\\n    },\\n    {\\n      \"step\": 5,\\n      \"description\": \"Comprehensive Systems Analysis\",\\n      \"action\": \"Assess how each command and coordinate contributes to the shape as a whole, considering the impact of modifications.\",\\n      \"expected_outcome\": \"Insight into the systemic relationship between path commands and the resulting shape.\"\\n    },\\n    {\\n      \"step\": 6,\\n      \"description\": \"Deductive Analytical Reasoning\",\\n      \"action\": \"Systematically deduce the relationship between the path\\'s instructions and the resulting shape to identify it.\",\\n      \"expected_outcome\": \"Identification of the shape based on logical deduction from the analyzed path commands.\"\\n    },\\n    {\\n      \"final_step\": 7,\\n      \"description\": \"Conclusion\",\\n      \"action\": \"Combine insights from all previous steps to conclude the shape drawn by the SVG path.\",\\n      \"expected_outcome\": \"The shape is identified as one of the given options (A-J).\"\\n    }\\n  ]\\n}\\n```',\n",
       " 'answer': '```json\\n{\\n  \"task\": \"Identify the shape drawn by the SVG path element\",\\n  \"svg_path\": \"<path d=\\\\\"M 55.57,80.69 L 57.38,65.80 M 57.38,65.80 L 48.90,57.46 M 48.90,57.46 L 45.58,47.78 M 45.58,47.78 L 53.25,36.07 L 66.29,48.90 L 78.69,61.09 L 55.57,80.69\\\\\"/>\",\\n  \"reasoning_steps\": [\\n    {\\n      \"step\": 1,\\n      \"description\": \"Enhanced Critical Analysis of SVG Path Syntax\",\\n      \"action\": \"Examine each SVG path command and its coordinates to understand the initial direction and movement.\",\\n      \"expected_outcome\": \"The path starts at a point, moves to another point, then continues moving to different points, forming lines between these points.\"\\n    },\\n    {\\n      \"step\": 2,\\n      \"description\": \"Problem Simplification through Visualization\",\\n      \"action\": \"Translate the SVG path commands into a rough sketch to visualize the path.\",\\n      \"expected_outcome\": \"A sketch that shows a series of connected lines starting and ending at the same point, forming a closed shape.\"\\n    },\\n    {\\n      \"step\": 3,\\n      \"description\": \"Segmentation Analysis\",\\n      \"action\": \"Break down the SVG path into individual commands and analyze each segment\\'s contribution to the overall shape.\",\\n      \"expected_outcome\": \"Each segment contributes to forming the sides of a closed shape, with each line representing a side of the shape.\"\\n    },\\n    {\\n      \"step\": 4,\\n      \"description\": \"Innovative Visualization Strategies\",\\n      \"action\": \"Develop unique strategies to visualize the shape formed by the path, without relying on physical drawing.\",\\n      \"expected_outcome\": \"A mental image of a closed shape formed by connecting the dots in the order described by the path commands.\"\\n    },\\n    {\\n      \"step\": 5,\\n      \"description\": \"Comprehensive Systems Analysis\",\\n      \"action\": \"Assess how each command and coordinate contributes to the shape as a whole, considering the impact of modifications.\",\\n      \"expected_outcome\": \"The realization that the path describes a shape with equal or varying lengths of sides, forming a polygon.\"\\n    },\\n    {\\n      \"step\": 6,\\n      \"description\": \"Deductive Analytical Reasoning\",\\n      \"action\": \"Systematically deduce the relationship between the path\\'s instructions and the resulting shape to identify it.\",\\n      \"expected_outcome\": \"The path describes a closed shape with a specific number of sides, which can be counted based on the number of line segments.\"\\n    },\\n    {\\n      \"final_step\": 7,\\n      \"description\": \"Conclusion\",\\n      \"action\": \"Combine insights from all previous steps to conclude the shape drawn by the SVG path.\",\\n      \"expected_outcome\": \"The shape is identified as a pentagon (G).\"\\n    }\\n  ]\\n}\\n```'}"
      ]
     },
     "execution_count": 22,
     "metadata": {},
     "output_type": "execute_result"
    }
   ],
   "source": [
    "overall_chain.invoke(\n",
    "    {\"task_description\": task_example, \"reasoning_modules\": reasoning_modules_str}\n",
    ")"
   ]
  },
  {
   "cell_type": "markdown",
   "id": "676e8f4e-ce0c-4a03-aab8-8931f48b8dcd",
   "metadata": {},
   "source": [
    "“reasoning_modules”:“1。我怎样设计一个实验来帮助解决这个问题?把解决这个问题的想法列一个清单，然后一个接一个地应用到这个问题上，看看是否能取得进展。我怎样才能简化这个问题，使它更容易解决?这个问题背后的关键假设是什么?每种解决方案的潜在风险和缺点是什么?在这个问题上有什么不同的观点或观点?这个问题及其解决方案的长期影响是什么?我怎样才能把这个问题分解成更小的、更容易处理的部分呢?批判性思维:这种风格包括从不同的角度分析问题，质疑假设，评估现有的证据或信息。它侧重于逻辑推理、基于证据的决策，以及识别思维中潜在的偏见或缺陷。尝试创造性思维，产生创新的和打破常规的想法来解决问题。探索非传统的解决方案，超越传统的界限思考，鼓励想象力和独创性。使用系统思维:将问题视为更大系统的一部分，并理解各种元素的相互联系。重点是确定影响问题的潜在原因、反馈回路和相互依赖关系，并制定整体解决方案，以解决整个系统。使用风险分析:评估与问题的不同解决方案或方法相关的潜在风险、不确定性和权衡。强调评估潜在的后果和成功或失败的可能性，并在平衡分析风险和收益的基础上做出明智的决定。需要解决的核心问题或问题是什么?什么是导致这个问题的根本原因或因素?有没有什么潜在的解决方案或策略是以前尝试过的?如果是，结果和教训是什么?在解决这个问题的过程中可能出现的潜在障碍或挑战是什么?是否有任何相关的数据或信息，可以提供洞察问题?如果是，有哪些可用的数据来源，以及如何分析这些数据?是否有任何利益相关者或个人直接受到这个问题的影响?他们的观点和需求是什么?需要什么资源(财政、人力、技术等)来有效地解决这个问题?如何衡量或评价解决问题的进展或成功?可以使用哪些指标或度量标准?问题是技术性的还是实践性的，需要特定的专业知识或技能?或者它更多的是一个概念或理论问题?问题是否涉及物理限制，例如有限的资源、基础设施或空间?问题是否与人类行为有关，如社会、文化或心理问题?这个问题是否涉及决策或计划，其中需要在不确定的情况下或在相互竞争的目标下做出选择?这个问题是需要数据分析、建模或优化技术的分析性问题吗?这个问题是一个需要创造性解决方案和创新的设计挑战吗?这个问题是否需要解决系统或结构问题，而不仅仅是单个实例?这个问题是时间敏感的还是紧急的，需要立即注意和采取行动?对于这类问题规范，通常会产生什么样的解决方案?根据问题说明和目前的最佳解决方案，猜测其他可能的解决方案。让我们想象一下，目前的最佳解决方案是完全错误的，还有什么其他的方式来思考问题说明?根据你对这类问题说明的了解，修改当前最佳解决方案的最佳方法是什么?忽略当前的最佳解决方案，为问题创造一个全新的解决方案。让我们制定一个循序渐进的计划，并用良好的符号和解释来实现它。"
   ]
  },
  {
   "cell_type": "markdown",
   "id": "bb86ff9b-f4cb-418e-8507-43ce486954e5",
   "metadata": {},
   "source": [
    "'selected_modules': \"要解决识别给定SVG路径元素绘制的形状的任务，以下推理模块至关重要:\\n\\n1。**批判性思维(10):**这涉及分析SVG路径命令和坐标，以了解它们形成的形状。批判性思维将有助于质疑基于路径方向和点之间连接的形状假设。**简化(4):**通过简化问题，可以专注于命令和坐标的顺序来推断形状。简化可能包括根据命令绘制路径草图，以使形状可视化。**分解问题(9):** SVG路径可以根据命令分解成更小的部分(M代表移动，L代表直线)。单独分析每个片段可以帮助理解整体形状。**创造性思维(11):**虽然任务看起来很简单，创造性思维可能是必要的可视化形状，而不实际绘制它，特别是如果一个人不熟悉SVG语法。**系统思维(13):**理解SVG路径的每个部分如何对整个形状做出贡献，以及如何改变路径的一部分(例如，坐标或命令)可以改变形状。**分析问题解决(29):**这项任务需要数据分析技能来解释SVG路径命令和坐标，并对它们所代表的形状建模。给定任务和推理模块，该过程包括批判性地分析SVG路径命令，通过将路径分解为可管理的部分来简化问题，创造性地可视化形状，理解SVG路径创建系统，以及分析地解决形状。正确的答案将是通过绘制点并遵循路径命令来确定它们的形状。”"
   ]
  },
  {
   "cell_type": "markdown",
   "id": "c16eade8-2582-4e47-8b1b-5be261288f8f",
   "metadata": {},
   "source": [
    "“adapted_modules”:“1。**增强SVG路径语法的关键分析(10):**该模块侧重于SVG路径的命令和坐标的详细检查，挑战形状的初始感知。它涉及一步一步的分析，以辨别由路径形成的形状的性质，考虑到每个命令的含义(例如，“M”表示移动，“L”表示直线)和指定点之间的连接。**通过可视化简化问题(4):**这种方法通过将SVG路径命令转换为可视化草图来简化任务。通过绘制命令所描述的路径，可以更容易地识别形状，通过将问题简化为视觉识别任务，使问题更易于接近。**分割分析(9):**该模块建议将SVG路径分解为其组成命令，并独立分析每个片段。通过了解每个命令的作用及其对整体路径的贡献，可以有条不紊地将形状拼凑在一起，从而更清楚地理解整体。**创新的可视化策略(11):**考虑到SVG路径的抽象性质，该模块鼓励开发独特的策略，在不需要物理绘图的情况下，在心理上可视化路径形成的形状。这可能包括根据命令想象从一个点到下一个点的运动，或者使用熟悉的形状的类比。**综合系统分析(13):**该模块强调理解SVG路径作为一个系统的重要性，其中每个命令和坐标在定义形状方面起着关键作用。它涉及评估对路径的单个元素的修改(例如，改变坐标或命令类型)如何影响整体形状，促进对路径结构的整体看法。**演绎分析推理(29):**该模块要求应用数据分析技术系统地解释SVG路径的命令和坐标。通过逻辑推导路径指令与最终形状之间的关系，可以准确地建模和识别形状。这涉及一步一步的推导过程，其中评估每个命令对形状的贡献，以得出正确的识别。通过适应这些推理模块，重点是详细分析，可视化，分割，创新思维，系统理解和演绎推理，可以更有效地解决识别给定SVG路径元素绘制的形状的任务。"
   ]
  },
  {
   "cell_type": "markdown",
   "id": "769acb8a-3412-42f1-b2ac-2703ee4269ea",
   "metadata": {},
   "source": [
    "'reasoning_structure': ' ' ' ' ' json\\n{\\n \"task\": \"识别SVG路径元素绘制的形状\"，\\n \"svg_path\": \"<path d=\\\\\"M 55.57,80.69 L 57.38,65.80 M 57.38,65.80 L 48.90,57.46 M 48.90,57.46 L 45.58,47.78 M 45.58,47.78 L 53.25,36.07 L 66.29,48.90 L 78.69,61.09 L 55.57,80.69 \" \\\\\"/>\"，\\n \"reasoning_steps\": [\\n {\\n \"step\": 1，\\n \"description\": \" SVG路径语法的增强关键分析\"，\\n \"action\":“检查每个SVG路径命令及其坐标，以了解初始方向和移动。”，\\n“expected_outcome”:“命令列表及其对路径方向和形状的影响。”\\n}，\\n {\\n“step”:2，\\n“description”:“通过可视化简化问题”，\\n“action”:“将SVG路径命令转换为粗略的草图以可视化路径”，\\n“expected_outcome”:“表示SVG命令所描述的路径的草图”。\\n}，\\n {\\n \"step\": 3，\\n \"description\": \"Segmentation Analysis\"，\\n \"action\": \"将SVG路径分解为单个命令并分析每个片段对整体形状的贡献\"，\\n \"expected_outcome\": \"理解每个片段如何构成形状的一部分\"。\\n}，\\n {\\n“step”:4，\\n“description”:“创新的可视化策略”，\\n“action”:“制定独特的策略来可视化路径形成的形状，而不依赖于物理绘图”，\\n“expected_outcome”:“基于路径从一点到另一点的运动的形状的心理图像。”\\n}，\\n {\\n“步骤”:5，\\n“描述”:“综合系统分析”，\\n“行动”:“评估每个命令和坐标对整体形状的贡献，考虑修改的影响”，\\n“expected_outcome”:“洞察路径命令与最终形状之间的系统关系”。\\n}，\\n {\\n“step”:6，\\n“description”:“演绎分析推理”，\\n“action”:“系统地演绎路径指令与生成的形状之间的关系以识别它”，\\n“expected_outcome”:“基于分析路径命令的逻辑演绎来识别形状”。\\n}，\\n {\\n \"final_step\": 7，\\n \"description\": \"Conclusion\"，\\n \"action\": \"结合前面所有步骤的见解，得出SVG路径绘制的形状\"，\\n \"expected_outcome\": \"形状被识别为给定选项之一(A-J)。\"\\n}\\n]\\n}\\n ' ' \"，"
   ]
  },
  {
   "cell_type": "markdown",
   "id": "90af04d0-7733-4a14-8784-1feae1f7bcd2",
   "metadata": {},
   "source": [
    "'answer': ' ' ' ' json\\n{\\n \"task\": \"识别SVG路径元素绘制的形状\"，\\n \"svg_path\": \"<path d=\\\\\"M 55.57,80.69 L 57.38,65.80 M 57.38,65.80 L 48.90,57.46 M 48.90,57.46 L 45.58,47.78 M 45.58,47.78 L 53.25,36.07 L 66.29,48.90 L 78.69,61.09 L 55.57,80.69\\\\\"/>\"，\\n \"reasoning_steps\": [\\n {\\n \"step\": 1，\\n \"description\": \" SVG路径语法的增强关键分析\"，\\n \"action\":“检查每个SVG路径命令及其坐标，以了解初始方向和移动”，\\n“expected_outcome”:“路径从一个点开始，移动到另一个点，然后继续移动到不同的点，在这些点之间形成线。”\\n}，\\n {\\n“step”:2，\\n“description”:“通过可视化简化问题”，\\n“action”:“将SVG路径命令转换为粗略的草图以可视化路径”，\\n“expected_outcome”:“显示一系列在同一点开始和结束的连接线，形成封闭形状的草图。”\\n}，\\n {\\n \"step\": 3，\\n \"description\": \"Segmentation Analysis\"，\\n \"action\": \"将SVG路径分解为单个命令，并分析每个片段对整体形状的贡献\"，\\n \"expected_outcome\": \"每个片段有助于形成封闭形状的边，每条线代表形状的一面。\"\\n}，\\n {\\n“step”:4，\\n“description”:“创新的可视化策略”，\\n“action”:“开发独特的策略来可视化路径形成的形状，而不依赖于物理绘图”，\\n“expected_outcome”:“按照路径命令所描述的顺序将点连接起来形成封闭形状的心理图像。”\\n}，\\n {\\n“step”:5，\\n“description”:“综合系统分析”，\\n“action”:“评估每个命令和坐标对整体形状的贡献，考虑修改的影响”，\\n“expected_outcome”:“实现路径描述的形状具有相等或不同的边长，形成一个多边形。”\\n}，\\n {\\n“step”:6，\\n“description”:“演绎分析推理”，\\n“action”:“系统地推导出路径指令与生成的形状之间的关系，以识别它”，\\n“expected_outcome”:“路径描述了一个具有特定边数的封闭形状，可以根据线段的数量进行计数。”\\n}，\\n {\\n \"final_step\": 7，\\n \"description\": \"Conclusion\"，\\n \"action\": \"结合前面所有步骤的见解，得出SVG路径绘制的形状\"，\\n \"expected_outcome\": \"形状被识别为五边形(G)。\"\\n}\\n]\\n}\\n ' ' \"}"
   ]
  },
  {
   "cell_type": "code",
   "execution_count": null,
   "id": "44f66d97-c9b2-4eb4-be98-9ca8df5ca393",
   "metadata": {},
   "outputs": [],
   "source": []
  },
  {
   "cell_type": "code",
   "execution_count": 65,
   "id": "b150679a-687f-4100-8949-bb93ee48e466",
   "metadata": {},
   "outputs": [
    {
     "data": {
      "text/plain": [
       "{'task_description': 'This SVG path element <path d=\"M 55.57,80.69 L 57.38,65.80 M 57.38,65.80 L 48.90,57.46 M 48.90,57.46 L\\n45.58,47.78 M 45.58,47.78 L 53.25,36.07 L 66.29,48.90 L 78.69,61.09 L 55.57,80.69\"/> draws a:\\n(A) circle (B) heptagon (C) hexagon (D) kite (E) line (F) octagon (G) pentagon(H) rectangle (I) sector (J) triangle',\n",
       " 'reasoning_modules': '1. How could I devise an experiment to help solve that problem?\\n2. Make a list of ideas for solving this problem, and apply them one by one to the problem to see if any progress can be made.\\n4. How can I simplify the problem so that it is easier to solve?\\n5. What are the key assumptions underlying this problem?\\n6. What are the potential risks and drawbacks of each solution?\\n7. What are the alternative perspectives or viewpoints on this problem?\\n8. What are the long-term implications of this problem and its solutions?\\n9. How can I break down this problem into smaller, more manageable parts?\\n10. Critical Thinking: This style involves analyzing the problem from different perspectives, questioning assumptions, and evaluating the evidence or information available. It focuses on logical reasoning, evidence-based decision-making, and identifying potential biases or flaws in thinking.\\n11. Try creative thinking, generate innovative and out-of-the-box ideas to solve the problem. Explore unconventional solutions, thinking beyond traditional boundaries, and encouraging imagination and originality.\\n13. Use systems thinking: Consider the problem as part of a larger system and understanding the interconnectedness of various elements. Focuses on identifying the underlying causes, feedback loops, and interdependencies that influence the problem, and developing holistic solutions that address the system as a whole.\\n14. Use Risk Analysis: Evaluate potential risks, uncertainties, and tradeoffs associated with different solutions or approaches to a problem. Emphasize assessing the potential consequences and likelihood of success or failure, and making informed decisions based on a balanced analysis of risks and benefits.\\n16. What is the core issue or problem that needs to be addressed?\\n17. What are the underlying causes or factors contributing to the problem?\\n18. Are there any potential solutions or strategies that have been tried before? If yes, what were the outcomes and lessons learned?\\n19. What are the potential obstacles or challenges that might arise in solving this problem?\\n20. Are there any relevant data or information that can provide insights into the problem? If yes, what data sources are available, and how can they be analyzed?\\n21. Are there any stakeholders or individuals who are directly affected by the problem? What are their perspectives and needs?\\n22. What resources (financial, human, technological, etc.) are needed to tackle the problem effectively?\\n23. How can progress or success in solving the problem be measured or evaluated?\\n24. What indicators or metrics can be used?\\n25. Is the problem a technical or practical one that requires a specific expertise or skill set? Or is it more of a conceptual or theoretical problem?\\n26. Does the problem involve a physical constraint, such as limited resources, infrastructure, or space?\\n27. Is the problem related to human behavior, such as a social, cultural, or psychological issue?\\n28. Does the problem involve decision-making or planning, where choices need to be made under uncertainty or with competing objectives?\\n29. Is the problem an analytical one that requires data analysis, modeling, or optimization techniques?\\n30. Is the problem a design challenge that requires creative solutions and innovation?\\n31. Does the problem require addressing systemic or structural issues rather than just individual instances?\\n32. Is the problem time-sensitive or urgent, requiring immediate attention and action?\\n33. What kinds of solution typically are produced for this kind of problem specification?\\n34. Given the problem specification and the current best solution, have a guess about other possible solutions.35. Let’s imagine the current best solution is totally wrong, what other ways are there to think about the problem specification?36. What is the best way to modify this current best solution, given what you know about these kinds of problem specification?37. Ignoring the current best solution, create an entirely new solution to the problem.39. Let’s make a step by step plan and implement it with good notation and explanation.',\n",
       " 'selected_modules': 'To solve the task of identifying the shape drawn by the given SVG path element, the following reasoning modules are crucial:\\n\\n1. **Critical Thinking (10)**: This involves analyzing the SVG path commands and coordinates logically to understand the shape they form. It requires questioning assumptions (e.g., not assuming the shape based on a quick glance at the coordinates but rather analyzing the path commands and their implications) and evaluating the information provided by the SVG path data.\\n\\n2. **Analytical Problem Solving (29)**: The task requires data analysis skills to interpret the SVG path commands and coordinates. Understanding how the \"M\" (moveto) and \"L\" (lineto) commands work to draw lines between specified points is essential for determining the shape.\\n\\n3. **Creative Thinking (11)**: While the task primarily involves analytical skills, creative thinking can help in visualizing the shape that the path commands are likely to form, especially when the path data doesn\\'t immediately suggest a common shape.\\n\\n4. **Systems Thinking (13)**: Recognizing the SVG path as part of a larger system (in this case, the SVG graphics system) and understanding how individual path commands contribute to the overall shape can be helpful. This involves understanding the interconnectedness of the start and end points of each line segment and how they come together to form a complete shape.\\n\\n5. **Break Down the Problem (9)**: Breaking down the SVG path into its individual commands and analyzing each segment between \"M\" and \"L\" commands can simplify the task. This makes it easier to visualize and understand the shape being drawn step by step.\\n\\n6. **Visualization (not explicitly listed but implied in creative and analytical thinking)**: Visualizing the path that the \"M\" and \"L\" commands create is essential. This isn\\'t a listed module but is a skill that underpins both creative and analytical approaches to solving this problem.\\n\\nGiven the SVG path commands, one would analyze each segment drawn by \"M\" (moveto) and \"L\" (lineto) commands to determine the shape\\'s vertices and sides. This process involves critical thinking to assess the information, analytical skills to interpret the path data, and a degree of creative thinking for visualization. The task does not directly involve assessing risks, long-term implications, or stakeholder perspectives, so modules focused on those aspects (e.g., Risk Analysis (14), Long-term Implications (8)) are less relevant here.',\n",
       " 'adapted_modules': 'To enhance the process of identifying the shape drawn by the given SVG path element, the reasoning modules can be adapted and specified as follows:\\n\\n1. **Detailed Path Analysis (Critical Thinking)**: This module focuses on a meticulous examination of the SVG path commands and coordinates. It involves a deep dive into the syntax and semantics of path commands such as \"M\" (moveto) and \"L\" (lineto), challenging initial perceptions and rigorously interpreting the sequence of commands to deduce the shape accurately. This analysis goes beyond surface-level inspection, requiring a systematic questioning of each command\\'s role in constructing the overall shape.\\n\\n2. **Path Command Interpretation (Analytical Problem Solving)**: Essential for this task is the ability to decode the SVG path\\'s \"M\" and \"L\" commands, translating these instructions into a mental or visual representation of the shape\\'s geometry. This module emphasizes the analytical dissection of the path data, focusing on how each command contributes to the formation of vertices and edges, thereby facilitating the identification of the shape.\\n\\n3. **Shape Visualization (Creative Thinking)**: Leveraging imagination to mentally construct the shape from the path commands is the core of this module. It involves creatively synthesizing the segments drawn by the \"M\" and \"L\" commands into a coherent visual image, even when the path data does not immediately suggest a recognizable shape. This creative process aids in bridging gaps in the analytical interpretation, offering alternative perspectives on the possible shape outcomes.\\n\\n4. **Path-to-Shape Synthesis (Systems Thinking)**: This module entails understanding the SVG path as a component within the broader context of vector graphics, focusing on how individual path commands interlink to form a cohesive shape. It requires an appreciation of the cumulative effect of each command in relation to the others, recognizing the systemic relationship between the starting and ending points of segments and their collective role in shaping the final figure.\\n\\n5. **Sequential Command Analysis (Break Down the Problem)**: By segmenting the SVG path into discrete commands, this approach simplifies the complexity of the task. It advocates for a step-by-step examination of the path, where each \"M\" to \"L\" sequence is analyzed in isolation before synthesizing the findings to understand the overall shape. This methodical breakdown facilitates a clearer visualization and comprehension of the shape being drawn.\\n\\n6. **Command-to-Geometry Mapping (Visualization)**: Central to solving this task is the ability to map the abstract \"M\" and \"L\" commands onto a concrete geometric representation. This implicit module underlies both the analytical and creative thinking processes, focusing on converting the path data into a visual form that can be easily understood and manipulated mentally. It is about constructing a mental image of the shape as each command is processed, enabling a dynamic visualization that evolves with each new piece of path data.\\n\\nBy adapting and specifying these reasoning modules, the task of identifying the shape drawn by the SVG path element becomes a structured process that leverages critical analysis, analytical problem-solving, creative visualization, systemic thinking, and methodical breakdown to accurately determine the shape as a (D) kite.',\n",
       " 'reasoning_structure': '```json\\n{\\n  \"Step 1: Detailed Path Analysis\": {\\n    \"Description\": \"Examine each SVG path command and its coordinates closely. Understand the syntax and semantics of \\'M\\' (moveto) and \\'L\\' (lineto) commands.\",\\n    \"Action\": \"List all path commands and their coordinates.\",\\n    \"Expected Outcome\": \"A clear understanding of the sequence and direction of each path command.\"\\n  },\\n  \"Step 2: Path Command Interpretation\": {\\n    \"Description\": \"Decode the \\'M\\' and \\'L\\' commands to translate these instructions into a mental or visual representation of the shape\\'s geometry.\",\\n    \"Action\": \"Map each \\'M\\' and \\'L\\' command to its corresponding action (move or draw line) in the context of the shape.\",\\n    \"Expected Outcome\": \"A segmented representation of the shape, highlighting vertices and edges.\"\\n  },\\n  \"Step 3: Shape Visualization\": {\\n    \"Description\": \"Use imagination to mentally construct the shape from the path commands, synthesizing the segments into a coherent visual image.\",\\n    \"Action\": \"Visualize the shape based on the segmented representation from Step 2.\",\\n    \"Expected Outcome\": \"A mental image of the potential shape, considering the sequence and direction of path commands.\"\\n  },\\n  \"Step 4: Path-to-Shape Synthesis\": {\\n    \"Description\": \"Understand the SVG path as a component within the broader context of vector graphics, focusing on how individual path commands interlink to form a cohesive shape.\",\\n    \"Action\": \"Analyze the systemic relationship between the starting and ending points of segments and their collective role in shaping the final figure.\",\\n    \"Expected Outcome\": \"Identification of the overall shape by recognizing the cumulative effect of each command.\"\\n  },\\n  \"Step 5: Sequential Command Analysis\": {\\n    \"Description\": \"Segment the SVG path into discrete commands for a step-by-step examination, analyzing each \\'M\\' to \\'L\\' sequence in isolation.\",\\n    \"Action\": \"Break down the path into individual commands and analyze each separately before synthesizing the findings.\",\\n    \"Expected Outcome\": \"A clearer visualization and comprehension of the shape being drawn, segment by segment.\"\\n  },\\n  \"Step 6: Command-to-Geometry Mapping\": {\\n    \"Description\": \"Map the abstract \\'M\\' and \\'L\\' commands onto a concrete geometric representation, constructing a mental image of the shape as each command is processed.\",\\n    \"Action\": \"Convert the path data into a visual form that can be easily understood and manipulated mentally.\",\\n    \"Expected Outcome\": \"A dynamic visualization of the shape that evolves with each new piece of path data, leading to the identification of the shape as a kite.\"\\n  },\\n  \"Conclusion\": {\\n    \"Description\": \"Based on the analysis and visualization steps, determine the shape drawn by the SVG path element.\",\\n    \"Action\": \"Review the outcomes of each step and synthesize the information to identify the shape.\",\\n    \"Expected Outcome\": \"The correct identification of the shape, supported by the structured analysis and reasoning process.\"\\n  }\\n}\\n```',\n",
       " 'answer': 'Based on the provided reasoning structure and the SVG path element given, let\\'s analyze the path commands to identify the shape.\\n\\n**Step 1: Detailed Path Analysis**\\n- Description: The SVG path provided contains multiple \\'M\\' (moveto) and \\'L\\' (lineto) commands. Each command specifies a point in a 2D coordinate system.\\n- Action: The path commands are as follows:\\n  1. M 55.57,80.69 (Move to point)\\n  2. L 57.38,65.80 (Line to point)\\n  3. M 57.38,65.80 (Move to point)\\n  4. L 48.90,57.46 (Line to point)\\n  5. M 48.90,57.46 (Move to point)\\n  6. L 45.58,47.78 (Line to point)\\n  7. M 45.58,47.78 (Move to point)\\n  8. L 53.25,36.07 (Line to point)\\n  9. L 66.29,48.90 (Line to point)\\n  10. L 78.69,61.09 (Line to point)\\n  11. L 55.57,80.69 (Line to point)\\n- Expected Outcome: Understanding that the path commands describe a series of movements and lines that form a closed shape.\\n\\n**Step 2: Path Command Interpretation**\\n- Description: The \\'M\\' and \\'L\\' commands are used to move the \"pen\" to a starting point and draw lines to subsequent points, respectively.\\n- Action: The commands describe a shape starting at (55.57,80.69), drawing lines through several points, and finally closing the shape by returning to the starting point.\\n- Expected Outcome: A segmented representation showing a shape with distinct vertices at the specified coordinates.\\n\\n**Step 3: Shape Visualization**\\n- Description: Mentally constructing the shape from the provided path commands.\\n- Action: Visualizing the lines connecting in sequence from the starting point, through each point described by the \\'L\\' commands, and back to the starting point.\\n- Expected Outcome: A mental image of a shape that appears to have four distinct sides, suggesting it could be a quadrilateral.\\n\\n**Step 4: Path-to-Shape Synthesis**\\n- Description: Understanding how the path commands collectively form a specific shape.\\n- Action: Recognizing that the shape starts and ends at the same point, with lines drawn between intermediate points without overlapping, except at the starting/ending point.\\n- Expected Outcome: Identification of a closed, four-sided figure, which suggests it could be a kite based on the symmetry and structure of the lines.\\n\\n**Step 5: Sequential Command Analysis**\\n- Description: Analyzing each \\'M\\' to \\'L\\' sequence in isolation.\\n- Action: Observing that the path does not describe a regular polygon (like a hexagon or octagon) or a circle, but rather a shape with distinct angles and sides.\\n- Expected Outcome: A clearer understanding that the shape has four sides, with two pairs of adjacent sides being potentially unequal, which is characteristic of a kite.\\n\\n**Step 6: Command-to-Geometry Mapping**\\n- Description: Converting the abstract path commands into a geometric shape.\\n- Action: Mapping the path data to visualize a shape with two pairs of adjacent sides that are distinct yet symmetrical, indicative of a kite.\\n- Expected Outcome: A dynamic visualization that evolves to clearly represent a kite shape.\\n\\n**Conclusion**\\n- Description: Determining the shape drawn by the SVG path element.\\n- Action: Reviewing the outcomes of each analysis step, which consistently point towards a four-sided figure with distinct properties of a kite.\\n- Expected Outcome: The correct identification of the shape as a kite (D).'}"
      ]
     },
     "execution_count": 65,
     "metadata": {},
     "output_type": "execute_result"
    }
   ],
   "source": [
    "overall_chain.invoke(\n",
    "    {\"task_description\": task_example, \"reasoning_modules\": reasoning_modules_str}\n",
    ")"
   ]
  },
  {
   "cell_type": "code",
   "execution_count": null,
   "id": "ea8568d5-bdb6-45cd-8d04-1ab305786caa",
   "metadata": {},
   "outputs": [],
   "source": []
  },
  {
   "cell_type": "code",
   "execution_count": null,
   "id": "c14a291c-7c1b-43bc-807e-11180290985e",
   "metadata": {},
   "outputs": [],
   "source": []
  }
 ],
 "metadata": {
  "kernelspec": {
   "display_name": "Python 3 (ipykernel)",
   "language": "python",
   "name": "python3"
  },
  "language_info": {
   "codemirror_mode": {
    "name": "ipython",
    "version": 3
   },
   "file_extension": ".py",
   "mimetype": "text/x-python",
   "name": "python",
   "nbconvert_exporter": "python",
   "pygments_lexer": "ipython3",
   "version": "3.10.14"
  }
 },
 "nbformat": 4,
 "nbformat_minor": 5
}
