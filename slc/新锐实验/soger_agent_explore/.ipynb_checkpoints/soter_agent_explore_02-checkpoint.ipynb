{
 "cells": [
  {
   "cell_type": "markdown",
   "id": "ce556704-7942-454b-ae30-a0e80715009e",
   "metadata": {},
   "source": [
    "# explore agent"
   ]
  },
  {
   "cell_type": "markdown",
   "id": "24d35e52-692e-4d0b-adf5-da37fc870f9e",
   "metadata": {},
   "source": [
    "this cookbook point to change agent chat way to make it work correct"
   ]
  },
  {
   "cell_type": "code",
   "execution_count": null,
   "id": "a10920c9-f7c2-4b1c-ade9-70f75d7bc866",
   "metadata": {},
   "outputs": [],
   "source": []
  },
  {
   "cell_type": "code",
   "execution_count": 1,
   "id": "c9e70ae8-604a-445f-96e9-ea11b6f4df2b",
   "metadata": {
    "tags": []
   },
   "outputs": [],
   "source": [
    "from llama_index.core import PromptTemplate\n",
    "from zxftools_dev.rag import ReactAgentMaker\n",
    "from llama_index.core.agent import AgentRunner, ReActAgentWorker, ReActAgent\n",
    "from zxftools.llms import get_llm\n"
   ]
  },
  {
   "cell_type": "code",
   "execution_count": null,
   "id": "9586cd7e-f894-46ca-9391-d5631a7f0a74",
   "metadata": {},
   "outputs": [],
   "source": []
  },
  {
   "cell_type": "markdown",
   "id": "31a5232b-17d6-4967-953e-475460eb232f",
   "metadata": {},
   "source": [
    "## 定义工具"
   ]
  },
  {
   "cell_type": "code",
   "execution_count": 2,
   "id": "0691b80a-571f-48fe-8f45-b7068f45fa4d",
   "metadata": {
    "tags": []
   },
   "outputs": [],
   "source": [
    "def required_url(url:str)->str:\n",
    "    '''\n",
    "    the tools be used to require url content\n",
    "    '''\n",
    "    return '200  OK  hello'"
   ]
  },
  {
   "cell_type": "code",
   "execution_count": null,
   "id": "617f982a-d1f1-4739-b7c6-d17a38acf8d4",
   "metadata": {},
   "outputs": [],
   "source": []
  },
  {
   "cell_type": "markdown",
   "id": "01202dbb-42c3-4feb-b3f2-af7b98baecd6",
   "metadata": {},
   "source": [
    "## 构建react 框架"
   ]
  },
  {
   "cell_type": "code",
   "execution_count": 3,
   "id": "8db7d719-3102-4ceb-b16c-002dbc4b0d44",
   "metadata": {
    "tags": []
   },
   "outputs": [],
   "source": [
    "maker = ReactAgentMaker()\n",
    "\n",
    "maker.add_tool(required_url)\n",
    "agent = maker.create_agent()"
   ]
  },
  {
   "cell_type": "code",
   "execution_count": null,
   "id": "25fcddcb-43eb-45de-8200-203807787cbe",
   "metadata": {},
   "outputs": [],
   "source": []
  },
  {
   "cell_type": "code",
   "execution_count": 4,
   "id": "5d9d233e-52ca-48ad-909b-33f7d411aa0c",
   "metadata": {
    "tags": []
   },
   "outputs": [
    {
     "name": "stdout",
     "output_type": "stream",
     "text": [
      "\u001b[1;3;38;5;200mThought: The current language of the user is: Chinese. I need to use a tool to help me answer the question.\n",
      "Action: required_url\n",
      "Action Input: {'url': 'www.baidu.com'}\n",
      "\u001b[0m\u001b[1;3;34mObservation: 200  OK  hello\n",
      "\u001b[0m\u001b[1;3;38;5;200mThought: It seems like there is some issue with the response. I'll try using the required_url tool again to see if I get a proper response.\n",
      "Action: required_url\n",
      "Action Input: {'url': 'http://www.baidu.com'}\n",
      "\u001b[0m\u001b[1;3;34mObservation: 200  OK  hello\n",
      "\u001b[0m\u001b[1;3;38;5;200mThought: It seems like there is some issue with the tool. I cannot answer the question with the provided tools.\n",
      "Answer: 我很抱歉，我无法使用提供的工具回答您的问题。\n",
      "\u001b[0m"
     ]
    },
    {
     "data": {
      "text/plain": [
       "AgentChatResponse(response='我很抱歉，我无法使用提供的工具回答您的问题。', sources=[ToolOutput(content='200  OK  hello', tool_name='required_url', raw_input={'args': (), 'kwargs': {'url': 'www.baidu.com'}}, raw_output='200  OK  hello'), ToolOutput(content='200  OK  hello', tool_name='required_url', raw_input={'args': (), 'kwargs': {'url': 'http://www.baidu.com'}}, raw_output='200  OK  hello')], source_nodes=[])"
      ]
     },
     "execution_count": 4,
     "metadata": {},
     "output_type": "execute_result"
    }
   ],
   "source": [
    "agent.chat('帮我请求一下 www.baidu.com')"
   ]
  },
  {
   "cell_type": "code",
   "execution_count": null,
   "id": "bcdfac7c-84b6-41b2-a9cc-c3bc5bf991ee",
   "metadata": {},
   "outputs": [],
   "source": []
  },
  {
   "cell_type": "code",
   "execution_count": null,
   "id": "d144bd48-2d8b-4c1a-8eb6-2415cf8507b5",
   "metadata": {},
   "outputs": [],
   "source": []
  },
  {
   "cell_type": "markdown",
   "id": "9dd9ddce-d16f-4089-aa2b-59b64635e446",
   "metadata": {},
   "source": [
    "## 自定义prompt "
   ]
  },
  {
   "cell_type": "code",
   "execution_count": 5,
   "id": "c8119f1a-48c0-42e3-9090-5f5dd2c940db",
   "metadata": {
    "tags": []
   },
   "outputs": [],
   "source": [
    "salesperson_name='jarvis'\n",
    "salesperson_role='assistant'\n",
    "conversation_history='hello'\n",
    "agent_scratchpad=''\n",
    "conversation_stage = ''"
   ]
  },
  {
   "cell_type": "code",
   "execution_count": 6,
   "id": "a4d08bce-868c-4c80-8177-53906164ace3",
   "metadata": {
    "tags": []
   },
   "outputs": [],
   "source": [
    "SALES_AGENT_TOOLS_PROMPT = \"\"\"\n",
    "Never forget your name is {salesperson_name}. You work as a {salesperson_role}.\n",
    "\n",
    "If you're asked about where you got the user's contact information, say that you got it from public records.\n",
    "Keep your responses in short length to retain the user's attention. Never produce lists, just answers.\n",
    "Start the conversation by just a greeting and how is the prospect doing without pitching in your first turn.\n",
    "When the conversation is over, output <END_OF_CALL>\n",
    "\"\"\".format(salesperson_name=salesperson_name,\n",
    "           salesperson_role=salesperson_role) + \"\"\"\n",
    "\n",
    "## Tools\n",
    "\n",
    "You have access to a wide variety of tools. You are responsible for using the tools in any sequence you deem appropriate to complete the task at hand.\n",
    "This may require breaking the task into subtasks and using different tools to complete each subtask.\n",
    "\n",
    "\n",
    "You have access to the following tools:\n",
    "{tool_desc}\n",
    "\n",
    "## Output Format\n",
    "\n",
    "Please answer in the same language as the question and use the following format:\n",
    "\n",
    "```\n",
    "Thought: The current language of the user is: (user's language). I need to use a tool to help me answer the question.\n",
    "Action: tool name (one of {tool_names}) if using a tool.\n",
    "Action Input: the input to the tool, in a JSON format representing the kwargs (e.g. {{\"input\": \"hello world\", \"num_beams\": 5}})\n",
    "```\n",
    "\n",
    "Please ALWAYS start with a Thought.\n",
    "\n",
    "Please use a valid JSON format for the Action Input. Do NOT do this {{'input': 'hello world', 'num_beams': 5}}.\n",
    "\n",
    "If this format is used, the user will respond in the following format:\n",
    "\n",
    "```\n",
    "Observation: tool response\n",
    "```\n",
    "\n",
    "You should keep repeating the above format till you have enough information to answer the question without using any more tools. At that point, you MUST respond in the one of the following two formats:\n",
    "\n",
    "```\n",
    "Thought: I can answer without using any more tools. I'll use the user's language to answer\n",
    "Answer: [your answer here (In the same language as the user's question)]\n",
    "```\n",
    "\n",
    "```\n",
    "Thought: I cannot answer the question with the provided tools.\n",
    "Answer: [your answer here (In the same language as the user's question)]\n",
    "```\n",
    "\"\"\" + \"\"\"\n",
    "You must respond according to the previous conversation history and the stage of the conversation you are at.\n",
    "\n",
    "Begin!\n",
    "\n",
    "Previous conversation history:\n",
    "{conversation_history}\n",
    "\n",
    "Thought:\n",
    "{agent_scratchpad}\n",
    "        \"\"\".format(conversation_history=conversation_history,\n",
    "                   agent_scratchpad=agent_scratchpad)\n",
    "        "
   ]
  },
  {
   "cell_type": "code",
   "execution_count": null,
   "id": "8eefb5d3-3bb4-4a9a-9fa5-267460575425",
   "metadata": {},
   "outputs": [],
   "source": []
  },
  {
   "cell_type": "markdown",
   "id": "c2185049-244f-4f98-b2af-46e74a4f5858",
   "metadata": {},
   "source": [
    "## 更新prompt"
   ]
  },
  {
   "cell_type": "code",
   "execution_count": 7,
   "id": "0bd2e490-12e3-48ba-83c8-e2c38dde7aa0",
   "metadata": {
    "tags": []
   },
   "outputs": [],
   "source": [
    "agent.update_prompts({'agent_worker:system_prompt': PromptTemplate(SALES_AGENT_TOOLS_PROMPT)})"
   ]
  },
  {
   "cell_type": "code",
   "execution_count": null,
   "id": "b3831e24-b8ba-4905-a6fa-c6a63fd93606",
   "metadata": {},
   "outputs": [],
   "source": []
  },
  {
   "cell_type": "markdown",
   "id": "4265f434-5fa5-42db-a53a-20f9046511bd",
   "metadata": {},
   "source": [
    "## run"
   ]
  },
  {
   "cell_type": "code",
   "execution_count": 8,
   "id": "83b6f920-f118-4851-83a2-64619efb7854",
   "metadata": {
    "tags": []
   },
   "outputs": [
    {
     "name": "stdout",
     "output_type": "stream",
     "text": [
      "\u001b[1;3;38;5;200mThought: (Implicit) I can answer without any more tools!\n",
      "Answer: Hello! How can I assist you today?\n",
      "\u001b[0m"
     ]
    },
    {
     "data": {
      "text/plain": [
       "AgentChatResponse(response='Hello! How can I assist you today?', sources=[], source_nodes=[])"
      ]
     },
     "execution_count": 8,
     "metadata": {},
     "output_type": "execute_result"
    }
   ],
   "source": [
    "result = agent.chat('')\n",
    "result"
   ]
  },
  {
   "cell_type": "code",
   "execution_count": null,
   "id": "8f9b93a7-fd6c-4ea1-a5cc-6c8e7bc2caa7",
   "metadata": {},
   "outputs": [],
   "source": []
  },
  {
   "cell_type": "markdown",
   "id": "d7b7b974-6bfb-48e8-a88e-cf85c8063edf",
   "metadata": {},
   "source": [
    "# 动态调整prompt 阶段"
   ]
  },
  {
   "cell_type": "code",
   "execution_count": null,
   "id": "cced2d37-1c18-4af6-ac1c-23e9f73c6435",
   "metadata": {},
   "outputs": [],
   "source": []
  },
  {
   "cell_type": "markdown",
   "id": "714c123a-9094-41b4-9245-f9e0f8ae0917",
   "metadata": {},
   "source": [
    "## 构建一个更新prompts 的函数"
   ]
  },
  {
   "cell_type": "code",
   "execution_count": null,
   "id": "11d2bb4e-2171-4a1c-b062-636b150a4777",
   "metadata": {},
   "outputs": [],
   "source": []
  },
  {
   "cell_type": "code",
   "execution_count": 8,
   "id": "4f304aaa-37d5-4f5a-bf16-d3f7baa5c97d",
   "metadata": {
    "tags": []
   },
   "outputs": [],
   "source": [
    "head = \"\"\"\n",
    "Never forget your name is {salesperson_name}. You work as a {salesperson_role}.\n",
    "\n",
    "If you're asked about where you got the user's contact information, say that you got it from public records.\n",
    "Keep your responses in short length to retain the user's attention. Never produce lists, just answers.\n",
    "Start the conversation by just a greeting and how is the prospect doing without pitching in your first turn.\n",
    "When the conversation is over, output <END_OF_CALL>\n",
    "\"\"\""
   ]
  },
  {
   "cell_type": "code",
   "execution_count": 9,
   "id": "12e92693-9ac2-4cf3-877e-4be78fada123",
   "metadata": {
    "tags": []
   },
   "outputs": [],
   "source": [
    "body = \"\"\"\n",
    "\n",
    "## Tools\n",
    "\n",
    "You have access to a wide variety of tools. You are responsible for using the tools in any sequence you deem appropriate to complete the task at hand.\n",
    "This may require breaking the task into subtasks and using different tools to complete each subtask.\n",
    "\n",
    "\n",
    "You have access to the following tools:\n",
    "{tool_desc}\n",
    "\n",
    "## Output Format\n",
    "\n",
    "Please answer in the same language as the question and use the following format:\n",
    "\n",
    "```\n",
    "Thought: The current language of the user is: (user's language). I need to use a tool to help me answer the question.\n",
    "Action: tool name (one of {tool_names}) if using a tool.\n",
    "Action Input: the input to the tool, in a JSON format representing the kwargs (e.g. {{\"input\": \"hello world\", \"num_beams\": 5}})\n",
    "```\n",
    "\n",
    "Please ALWAYS start with a Thought.\n",
    "\n",
    "Please use a valid JSON format for the Action Input. Do NOT do this {{'input': 'hello world', 'num_beams': 5}}.\n",
    "\n",
    "If this format is used, the user will respond in the following format:\n",
    "\n",
    "```\n",
    "Observation: tool response\n",
    "```\n",
    "\n",
    "You should keep repeating the above format till you have enough information to answer the question without using any more tools. At that point, you MUST respond in the one of the following two formats:\n",
    "\n",
    "```\n",
    "Thought: I can answer without using any more tools. I'll use the user's language to answer\n",
    "Answer: [your answer here (In the same language as the user's question)]\n",
    "```\n",
    "\n",
    "```\n",
    "Thought: I cannot answer the question with the provided tools.\n",
    "Answer: [your answer here (In the same language as the user's question)]\n",
    "```\n",
    "\"\"\""
   ]
  },
  {
   "cell_type": "markdown",
   "id": "824d028e-a3c0-40a4-80e7-4257e4d0b9e5",
   "metadata": {
    "jp-MarkdownHeadingCollapsed": true,
    "tags": []
   },
   "source": [
    "<font color=\"yellow\">UPDATE 1 去掉conversation_history 变量 改用agent 自身功能记录chat_history</font>"
   ]
  },
  {
   "cell_type": "code",
   "execution_count": 11,
   "id": "b9b64841-e449-45f9-9d43-12a891bfaa35",
   "metadata": {
    "tags": []
   },
   "outputs": [],
   "source": [
    "tail = \"\"\"\n",
    "You must respond according to the previous conversation history and the stage of the conversation you are at.\n",
    "\n",
    "Begin!\n",
    "\n",
    "Thought:\n",
    "{agent_scratchpad}\n",
    "        \"\"\""
   ]
  },
  {
   "cell_type": "code",
   "execution_count": 12,
   "id": "c68fe2a1-5723-4cbd-8ba1-648559804563",
   "metadata": {
    "tags": []
   },
   "outputs": [],
   "source": [
    "def update_prompts_custom(agent,\n",
    "                         salesperson_name='jarvis',\n",
    "                        salesperson_role='assistant',\n",
    "                        agent_scratchpad='',\n",
    "                        conversation_stage = '',):\n",
    "    prompts = head.format(salesperson_name=salesperson_name,salesperson_role=salesperson_role) + body + \\\n",
    "                    tail.format(agent_scratchpad=agent_scratchpad)\n",
    "        \n",
    "    agent.update_prompts({'agent_worker:system_prompt': PromptTemplate(prompts)})"
   ]
  },
  {
   "cell_type": "code",
   "execution_count": null,
   "id": "f8614abf-253d-4fdd-b303-1585b97a8271",
   "metadata": {},
   "outputs": [],
   "source": []
  },
  {
   "cell_type": "markdown",
   "id": "a79ddb75-b43e-4de6-991f-43fb75037035",
   "metadata": {},
   "source": [
    "## RUN"
   ]
  },
  {
   "cell_type": "code",
   "execution_count": 13,
   "id": "68654996-49cf-4fb9-a6d9-5c354e89a55d",
   "metadata": {
    "tags": []
   },
   "outputs": [],
   "source": [
    "agent.chat_history.clear()"
   ]
  },
  {
   "cell_type": "code",
   "execution_count": 14,
   "id": "2acf4fe1-5c9a-4ef5-9b74-529f97ee29c7",
   "metadata": {
    "tags": []
   },
   "outputs": [],
   "source": [
    "conversation_history = []"
   ]
  },
  {
   "cell_type": "code",
   "execution_count": null,
   "id": "8ff38800-d21e-413a-ab5e-a4a1628a74d9",
   "metadata": {},
   "outputs": [],
   "source": []
  },
  {
   "cell_type": "markdown",
   "id": "46e5f28c-af96-4e8c-8f06-d2174fc2d4bf",
   "metadata": {},
   "source": [
    "### 用户输入"
   ]
  },
  {
   "cell_type": "code",
   "execution_count": 20,
   "id": "fa4418c0-353e-41ad-88f7-31ee91b2c312",
   "metadata": {
    "tags": []
   },
   "outputs": [
    {
     "name": "stdout",
     "output_type": "stream",
     "text": [
      "\u001b[1;3;38;5;200mThought: The user greeted me. I should greet them back and ask how they are doing.\n",
      "\n",
      "Action: None\n",
      "Answer: Hello! How are you doing today?\n",
      "\u001b[0m"
     ]
    },
    {
     "data": {
      "text/plain": [
       "AgentChatResponse(response='Hello! How are you doing today?', sources=[], source_nodes=[])"
      ]
     },
     "execution_count": 20,
     "metadata": {},
     "output_type": "execute_result"
    }
   ],
   "source": [
    "result = agent.chat('hello')\n",
    "result"
   ]
  },
  {
   "cell_type": "code",
   "execution_count": null,
   "id": "60ccf3b2-89b1-4724-a6be-952d78828745",
   "metadata": {},
   "outputs": [],
   "source": []
  },
  {
   "cell_type": "markdown",
   "id": "b6f70c15-19ba-45da-ab60-aaa223193ab3",
   "metadata": {},
   "source": [
    "### AI输入"
   ]
  },
  {
   "cell_type": "code",
   "execution_count": null,
   "id": "57847f55-161a-4ace-a6d5-b9237fa7a6cd",
   "metadata": {},
   "outputs": [],
   "source": []
  },
  {
   "cell_type": "code",
   "execution_count": null,
   "id": "4127f629-b38c-48cf-8ea3-4b0ba08783ce",
   "metadata": {},
   "outputs": [],
   "source": []
  },
  {
   "cell_type": "markdown",
   "id": "00bb6732-2cb8-48a1-bc34-6b2a7e451f33",
   "metadata": {},
   "source": [
    "### 用户输入"
   ]
  },
  {
   "cell_type": "code",
   "execution_count": 58,
   "id": "0b4447b3-6ddc-48c1-a43c-7319e7f1bc9d",
   "metadata": {
    "tags": []
   },
   "outputs": [],
   "source": [
    "inputs = '帮我请求一下 www.baidu.com'"
   ]
  },
  {
   "cell_type": "code",
   "execution_count": 59,
   "id": "617a3210-22a5-4c6d-80a1-685b42df1fb4",
   "metadata": {
    "tags": []
   },
   "outputs": [],
   "source": [
    "human_input = \"User: \" + inputs + \" <END_OF_TURN>\""
   ]
  },
  {
   "cell_type": "code",
   "execution_count": 60,
   "id": "40253a21-9a9e-4953-bc58-b21d75454172",
   "metadata": {
    "tags": []
   },
   "outputs": [],
   "source": [
    "conversation_history.append(human_input)"
   ]
  },
  {
   "cell_type": "code",
   "execution_count": 61,
   "id": "f6661147-0a92-42e5-aa10-bd99b74728e2",
   "metadata": {
    "tags": []
   },
   "outputs": [],
   "source": [
    "update_prompts_custom(agent,conversation_history=conversation_history,agent_scratchpad='')"
   ]
  },
  {
   "cell_type": "code",
   "execution_count": 62,
   "id": "3a046480-a050-4813-9ffb-693bd933b153",
   "metadata": {
    "tags": []
   },
   "outputs": [
    {
     "name": "stdout",
     "output_type": "stream",
     "text": [
      "\u001b[1;3;38;5;200mThought: (Implicit) I can answer without any more tools!\n",
      "Answer: Can you please request the content of www.baidu.com for me?\n",
      "\u001b[0m"
     ]
    },
    {
     "data": {
      "text/plain": [
       "AgentChatResponse(response='Can you please request the content of www.baidu.com for me?', sources=[], source_nodes=[])"
      ]
     },
     "execution_count": 62,
     "metadata": {},
     "output_type": "execute_result"
    }
   ],
   "source": [
    "result = agent.chat('')\n",
    "result"
   ]
  },
  {
   "cell_type": "code",
   "execution_count": null,
   "id": "20e77c41-aa6e-47ab-aa8f-2bc9272bf000",
   "metadata": {},
   "outputs": [],
   "source": []
  },
  {
   "cell_type": "code",
   "execution_count": null,
   "id": "1221f865-44a2-4248-a829-ea7e248e98d7",
   "metadata": {},
   "outputs": [],
   "source": []
  },
  {
   "cell_type": "code",
   "execution_count": null,
   "id": "ce819bc6-070f-4319-a8f1-b7ec3fb756f3",
   "metadata": {},
   "outputs": [],
   "source": []
  },
  {
   "cell_type": "code",
   "execution_count": null,
   "id": "9f37f42a-bd86-4e14-b2f2-513974913f69",
   "metadata": {},
   "outputs": [],
   "source": []
  },
  {
   "cell_type": "code",
   "execution_count": null,
   "id": "e43d451b-1f51-4f77-9123-71a2e521228d",
   "metadata": {},
   "outputs": [],
   "source": []
  }
 ],
 "metadata": {
  "kernelspec": {
   "display_name": "Python 3 (ipykernel)",
   "language": "python",
   "name": "python3"
  },
  "language_info": {
   "codemirror_mode": {
    "name": "ipython",
    "version": 3
   },
   "file_extension": ".py",
   "mimetype": "text/x-python",
   "name": "python",
   "nbconvert_exporter": "python",
   "pygments_lexer": "ipython3",
   "version": "3.10.14"
  }
 },
 "nbformat": 4,
 "nbformat_minor": 5
}
