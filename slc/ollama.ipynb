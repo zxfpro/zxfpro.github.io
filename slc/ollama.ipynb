{
 "cells": [
  {
   "cell_type": "markdown",
   "id": "feca05c3-ffb7-422d-8d40-e755708660ca",
   "metadata": {},
   "source": [
    "# OLLAMA 的使用和部署"
   ]
  },
  {
   "cell_type": "markdown",
   "id": "1dbe48ef-a2b6-47ae-9f64-2dbaeff8e468",
   "metadata": {},
   "source": [
    "## 在125上部署ollama server 配置 11435"
   ]
  },
  {
   "cell_type": "code",
   "execution_count": null,
   "id": "ac5a40ba-c7ec-4e6f-a983-918707ad2806",
   "metadata": {},
   "outputs": [],
   "source": []
  },
  {
   "cell_type": "code",
   "execution_count": null,
   "id": "61814e0e-da55-417b-8118-ba3c4778430e",
   "metadata": {},
   "outputs": [],
   "source": []
  },
  {
   "cell_type": "markdown",
   "id": "48765566-3266-48b8-a293-2f2cd8f6ebe1",
   "metadata": {},
   "source": [
    "## 使用openai 工具调用ollama的api"
   ]
  },
  {
   "cell_type": "code",
   "execution_count": null,
   "id": "6c8d53c5-8ba9-41fe-b767-127538a8415f",
   "metadata": {},
   "outputs": [],
   "source": [
    "from openai import OpenAI\n",
    "client = OpenAI(api_key='a',base_url='http://192.168.8.125:11435/v1')\n",
    "\n",
    "completion = client.chat.completions.create(\n",
    "  model=\"llama3\",\n",
    "  messages=[\n",
    "    {\"role\": \"system\", \"content\": \"You are a helpful assistant.\"},\n",
    "    {\"role\": \"user\", \"content\": \"Hello!\"}\n",
    "  ],\n",
    "    stream=False\n",
    ")\n",
    "\n",
    "print(completion.choices[0].message)"
   ]
  },
  {
   "cell_type": "code",
   "execution_count": null,
   "id": "bab12d1d-872c-4c4b-a0c8-405347cf4867",
   "metadata": {},
   "outputs": [],
   "source": [
    "from openai import OpenAI\n",
    "client = OpenAI(api_key='a',base_url='http://192.168.8.125:11435/v1')\n",
    "\n",
    "completion = client.chat.completions.create(\n",
    "  model=\"llama3\",\n",
    "  messages=[\n",
    "    {\"role\": \"system\", \"content\": \"You are a helpful assistant.\"},\n",
    "    {\"role\": \"user\", \"content\": \"Hello!\"}\n",
    "  ],\n",
    "    stream=True\n",
    ")\n"
   ]
  },
  {
   "cell_type": "code",
   "execution_count": 10,
   "id": "47c35462-58b9-4dfc-a97e-16555d23036a",
   "metadata": {
    "tags": []
   },
   "outputs": [
    {
     "name": "stdout",
     "output_type": "stream",
     "text": [
      "ChoiceDelta(content='Hi', function_call=None, role='assistant', tool_calls=None)\n",
      "ChoiceDelta(content=' there', function_call=None, role='assistant', tool_calls=None)\n",
      "ChoiceDelta(content='!', function_call=None, role='assistant', tool_calls=None)\n",
      "ChoiceDelta(content=' It', function_call=None, role='assistant', tool_calls=None)\n",
      "ChoiceDelta(content=\"'s\", function_call=None, role='assistant', tool_calls=None)\n",
      "ChoiceDelta(content=' nice', function_call=None, role='assistant', tool_calls=None)\n",
      "ChoiceDelta(content=' to', function_call=None, role='assistant', tool_calls=None)\n",
      "ChoiceDelta(content=' meet', function_call=None, role='assistant', tool_calls=None)\n",
      "ChoiceDelta(content=' you', function_call=None, role='assistant', tool_calls=None)\n",
      "ChoiceDelta(content='!', function_call=None, role='assistant', tool_calls=None)\n",
      "ChoiceDelta(content=' Is', function_call=None, role='assistant', tool_calls=None)\n",
      "ChoiceDelta(content=' there', function_call=None, role='assistant', tool_calls=None)\n",
      "ChoiceDelta(content=' something', function_call=None, role='assistant', tool_calls=None)\n",
      "ChoiceDelta(content=' I', function_call=None, role='assistant', tool_calls=None)\n",
      "ChoiceDelta(content=' can', function_call=None, role='assistant', tool_calls=None)\n",
      "ChoiceDelta(content=' help', function_call=None, role='assistant', tool_calls=None)\n",
      "ChoiceDelta(content=' you', function_call=None, role='assistant', tool_calls=None)\n",
      "ChoiceDelta(content=' with', function_call=None, role='assistant', tool_calls=None)\n",
      "ChoiceDelta(content=',', function_call=None, role='assistant', tool_calls=None)\n",
      "ChoiceDelta(content=' or', function_call=None, role='assistant', tool_calls=None)\n",
      "ChoiceDelta(content=' would', function_call=None, role='assistant', tool_calls=None)\n",
      "ChoiceDelta(content=' you', function_call=None, role='assistant', tool_calls=None)\n",
      "ChoiceDelta(content=' like', function_call=None, role='assistant', tool_calls=None)\n",
      "ChoiceDelta(content=' to', function_call=None, role='assistant', tool_calls=None)\n",
      "ChoiceDelta(content=' chat', function_call=None, role='assistant', tool_calls=None)\n",
      "ChoiceDelta(content=' about', function_call=None, role='assistant', tool_calls=None)\n",
      "ChoiceDelta(content=' something', function_call=None, role='assistant', tool_calls=None)\n",
      "ChoiceDelta(content=' in', function_call=None, role='assistant', tool_calls=None)\n",
      "ChoiceDelta(content=' particular', function_call=None, role='assistant', tool_calls=None)\n",
      "ChoiceDelta(content='?', function_call=None, role='assistant', tool_calls=None)\n",
      "ChoiceDelta(content=' I', function_call=None, role='assistant', tool_calls=None)\n",
      "ChoiceDelta(content=\"'m\", function_call=None, role='assistant', tool_calls=None)\n",
      "ChoiceDelta(content=' all', function_call=None, role='assistant', tool_calls=None)\n",
      "ChoiceDelta(content=' ears', function_call=None, role='assistant', tool_calls=None)\n",
      "ChoiceDelta(content=' (', function_call=None, role='assistant', tool_calls=None)\n",
      "ChoiceDelta(content='or', function_call=None, role='assistant', tool_calls=None)\n",
      "ChoiceDelta(content=' rather', function_call=None, role='assistant', tool_calls=None)\n",
      "ChoiceDelta(content=',', function_call=None, role='assistant', tool_calls=None)\n",
      "ChoiceDelta(content=' all', function_call=None, role='assistant', tool_calls=None)\n",
      "ChoiceDelta(content=' text', function_call=None, role='assistant', tool_calls=None)\n",
      "ChoiceDelta(content=')!', function_call=None, role='assistant', tool_calls=None)\n",
      "ChoiceDelta(content='', function_call=None, role='assistant', tool_calls=None)\n"
     ]
    }
   ],
   "source": [
    "\n",
    "for chunk in completion:\n",
    "  print(chunk.choices[0].delta)"
   ]
  }
 ],
 "metadata": {
  "kernelspec": {
   "display_name": "Python 3 (ipykernel)",
   "language": "python",
   "name": "python3"
  },
  "language_info": {
   "codemirror_mode": {
    "name": "ipython",
    "version": 3
   },
   "file_extension": ".py",
   "mimetype": "text/x-python",
   "name": "python",
   "nbconvert_exporter": "python",
   "pygments_lexer": "ipython3",
   "version": "3.10.14"
  }
 },
 "nbformat": 4,
 "nbformat_minor": 5
}
