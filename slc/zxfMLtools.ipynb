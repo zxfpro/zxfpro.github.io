{
 "cells": [
  {
   "cell_type": "markdown",
   "id": "006d588e-13a3-4b95-9bc4-e297ce65d223",
   "metadata": {},
   "source": [
    "# zxfMLtools"
   ]
  },
  {
   "cell_type": "markdown",
   "id": "4dc45c32-8ba5-4238-9a6b-87504a048d09",
   "metadata": {},
   "source": [
    "## dataset"
   ]
  },
  {
   "cell_type": "code",
   "execution_count": 6,
   "id": "29d7b601-3ebb-4686-a554-736690d15c27",
   "metadata": {
    "tags": []
   },
   "outputs": [],
   "source": [
    "from zxfMLtools_dev.dataset import DatasetType,DatasetManager"
   ]
  },
  {
   "cell_type": "code",
   "execution_count": 9,
   "id": "95604daf-01b9-4e92-a907-f115c0c1cc7a",
   "metadata": {
    "tags": []
   },
   "outputs": [],
   "source": [
    "data_manager = DatasetManager()"
   ]
  },
  {
   "cell_type": "code",
   "execution_count": 10,
   "id": "52b6b46a-2b70-4389-974b-9dd225ae08ca",
   "metadata": {
    "tags": []
   },
   "outputs": [
    {
     "data": {
      "text/plain": [
       "['train', 'test']"
      ]
     },
     "execution_count": 10,
     "metadata": {},
     "output_type": "execute_result"
    }
   ],
   "source": [
    "data_manager.get_dataset_info(DatasetType.demo)"
   ]
  },
  {
   "cell_type": "code",
   "execution_count": 11,
   "id": "34d699a7-9837-4c4d-87b2-3005efb99de8",
   "metadata": {
    "tags": []
   },
   "outputs": [],
   "source": [
    "dataset = data_manager.get_dataset(DatasetType.demo)"
   ]
  },
  {
   "cell_type": "code",
   "execution_count": 12,
   "id": "3bfbbb93-7bfd-499b-8b1a-d2a26627f624",
   "metadata": {
    "tags": []
   },
   "outputs": [
    {
     "data": {
      "text/plain": [
       "DatasetDict({\n",
       "    train: Dataset({\n",
       "        features: ['id', 'package_name', 'review', 'date', 'star', 'version_id'],\n",
       "        num_rows: 5\n",
       "    })\n",
       "    test: Dataset({\n",
       "        features: ['id', 'package_name', 'review', 'date', 'star', 'version_id'],\n",
       "        num_rows: 5\n",
       "    })\n",
       "})"
      ]
     },
     "execution_count": 12,
     "metadata": {},
     "output_type": "execute_result"
    }
   ],
   "source": [
    "dataset"
   ]
  },
  {
   "cell_type": "code",
   "execution_count": null,
   "id": "a4b1e863-2e2c-48a9-865d-de54a017d470",
   "metadata": {},
   "outputs": [],
   "source": []
  },
  {
   "cell_type": "code",
   "execution_count": null,
   "id": "4a3e6847-230a-42cb-bb94-0ed6b75177e9",
   "metadata": {},
   "outputs": [],
   "source": []
  },
  {
   "cell_type": "code",
   "execution_count": null,
   "id": "34f98d1e-e76c-4148-9df3-602201df7326",
   "metadata": {},
   "outputs": [],
   "source": []
  }
 ],
 "metadata": {
  "kernelspec": {
   "display_name": "Python 3 (ipykernel)",
   "language": "python",
   "name": "python3"
  },
  "language_info": {
   "codemirror_mode": {
    "name": "ipython",
    "version": 3
   },
   "file_extension": ".py",
   "mimetype": "text/x-python",
   "name": "python",
   "nbconvert_exporter": "python",
   "pygments_lexer": "ipython3",
   "version": "3.10.14"
  }
 },
 "nbformat": 4,
 "nbformat_minor": 5
}
