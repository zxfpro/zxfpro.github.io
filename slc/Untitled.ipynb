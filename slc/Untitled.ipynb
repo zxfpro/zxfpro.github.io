{
 "cells": [
  {
   "cell_type": "code",
   "execution_count": null,
   "id": "182b9a37-b299-47e0-bcc6-6b4f811b90ed",
   "metadata": {},
   "outputs": [],
   "source": [
    "# Table of contents\n",
    "# Learn more at https://jupyterbook.org/customize/toc.html\n",
    "\n",
    "format: jb-book\n",
    "root: intro\n",
    "\n",
    "parts:\n",
    "  - caption: 小函数工具库\n",
    "    chapters:\n",
    "    - file: 工具函数库/code\n",
    "      title: 独立工具函数\n",
    "    - file: 工具函数库/note #草稿\n",
    "      title: 札记\n",
    "    - url: http://127.0.0.1:9000\n",
    "      title: 工作台\n",
    "    - url: http://127.0.0.1:8020\n",
    "      title: 私有文档\n",
    "      \n",
    "\n",
    "    "
   ]
  },
  {
   "cell_type": "code",
   "execution_count": 42,
   "id": "a5fee8b9-cfc7-4818-be1e-f2b8dd3e3270",
   "metadata": {
    "tags": []
   },
   "outputs": [],
   "source": [
    "from zxftools_dev.project import IO"
   ]
  },
  {
   "cell_type": "code",
   "execution_count": 43,
   "id": "b0cb7d83-66c7-4f34-b35c-ea89ad5451e2",
   "metadata": {
    "tags": []
   },
   "outputs": [],
   "source": [
    "aa = IO.load_yaml('_toc.yml')"
   ]
  },
  {
   "cell_type": "code",
   "execution_count": 58,
   "id": "3e8926a3-5c32-4e74-984e-95692918409a",
   "metadata": {
    "collapsed": true,
    "jupyter": {
     "outputs_hidden": true
    },
    "tags": []
   },
   "outputs": [
    {
     "data": {
      "text/plain": [
       "{'format': 'jb-book',\n",
       " 'root': 'intro',\n",
       " 'parts': [{'caption': '小函数工具库',\n",
       "   'chapters': [{'file': '工具函数库/code', 'title': '独立工具函数'},\n",
       "    {'file': '工具函数库/note', 'title': '札记'},\n",
       "    {'url': 'http://127.0.0.1:9000', 'title': '工作台'},\n",
       "    {'url': 'http://127.0.0.1:8020', 'title': '私有文档'}]},\n",
       "  {'caption': '小包教程',\n",
       "   'chapters': [{'file': '小包教程/dataset', 'title': 'dataset的使用'},\n",
       "    {'file': '小包教程/train', 'title': 'train的使用'}]},\n",
       "  {'caption': '专题教学',\n",
       "   'chapters': [{'file': '专题教学库/API', 'title': 'API的使用'},\n",
       "    {'file': '专题教学库/AppleScript', 'title': 'applescript的使用'},\n",
       "    {'file': '专题教学库/Asyncio', 'title': 'asyncio的使用'},\n",
       "    {'file': '专题教学库/docker', 'title': 'docker的使用'},\n",
       "    {'file': '专题教学库/gradrails', 'title': 'gradrails的使用'},\n",
       "    {'file': '专题教学库/Gradio', 'title': 'gradio的使用 streamlit的使用'},\n",
       "    {'file': '专题教学库/ollama', 'title': 'ollama的使用'},\n",
       "    {'file': '专题教学库/demos', 'title': '一些常规的demo'},\n",
       "    {'file': '专题教学库/project', 'title': '构建project'},\n",
       "    {'file': '专题教学库/unittest', 'title': 'unittest 执行'},\n",
       "    {'file': '专题教学库/package', 'title': 'package的制作'},\n",
       "    {'file': '专题教学库/shells', 'title': 'shell的制作'},\n",
       "    {'file': '专题教学库/selenium爬虫', 'title': '爬虫教学'}]},\n",
       "  {'caption': '学习',\n",
       "   'chapters': [{'file': 'study/传感器实验篇/1.双色LED灯实验', 'title': '1.双色LED灯实验'}]},\n",
       "  {'caption': '实验性内容',\n",
       "   'chapters': [{'file': '研究者/thought', 'title': 'thought'}]}]}"
      ]
     },
     "execution_count": 58,
     "metadata": {},
     "output_type": "execute_result"
    }
   ],
   "source": [
    "aa"
   ]
  },
  {
   "cell_type": "code",
   "execution_count": 5,
   "id": "c841385a-dbf7-4ea6-8db8-0f7d315d0ca9",
   "metadata": {
    "tags": []
   },
   "outputs": [],
   "source": [
    "import os"
   ]
  },
  {
   "cell_type": "code",
   "execution_count": null,
   "id": "cd1c704c-5246-4e67-9ebc-44e57649956e",
   "metadata": {},
   "outputs": [],
   "source": []
  },
  {
   "cell_type": "code",
   "execution_count": 59,
   "id": "d44c3890-9846-4897-8f70-d75c7a15d806",
   "metadata": {
    "tags": []
   },
   "outputs": [],
   "source": [
    "show_files = [\"study\",\"新锐实验\",\"专题教学库\",\"个人包教程\"]\n",
    "\n",
    "parts = [{'caption': '小函数工具库',\n",
    "   'chapters': [{'file': '工具函数库/code', 'title': '独立工具函数'},\n",
    "    {'file': '工具函数库/note', 'title': '札记'},\n",
    "    {'url': 'http://127.0.0.1:9000', 'title': '工作台'},\n",
    "    {'url': 'http://127.0.0.1:8020', 'title': '私有文档'}]}]\n",
    "\n",
    "for file in show_files:\n",
    "    file_struct = {'caption':file,\n",
    "        'chapters':[{'file':os.path.join(file,i)[:-6],'title':i[:-6]} for i in os.listdir(file) if i.endswith('ipynb')]\n",
    "        }\n",
    "    parts.append(file_struct)\n",
    "\n",
    "\n",
    "structs = {'format': 'jb-book',\n",
    " 'root': 'intro',\n",
    " 'parts': parts}"
   ]
  },
  {
   "cell_type": "code",
   "execution_count": 66,
   "id": "9c1aed7a-7428-4b55-afc5-0ba5054c93f2",
   "metadata": {
    "tags": []
   },
   "outputs": [],
   "source": [
    "save_yaml(structs,'_toc.yml')"
   ]
  }
 ],
 "metadata": {
  "kernelspec": {
   "display_name": "Python 3 (ipykernel)",
   "language": "python",
   "name": "python3"
  },
  "language_info": {
   "codemirror_mode": {
    "name": "ipython",
    "version": 3
   },
   "file_extension": ".py",
   "mimetype": "text/x-python",
   "name": "python",
   "nbconvert_exporter": "python",
   "pygments_lexer": "ipython3",
   "version": "3.10.14"
  }
 },
 "nbformat": 4,
 "nbformat_minor": 5
}
