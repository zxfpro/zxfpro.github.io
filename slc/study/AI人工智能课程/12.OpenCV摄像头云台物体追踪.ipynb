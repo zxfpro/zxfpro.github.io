{
 "cells": [
  {
   "cell_type": "markdown",
   "metadata": {},
   "source": [
    "<center><img src=\"./imge/CLBLOGO.jpg\" alt=\"创乐博\" style=\"width: 300px;\"/></center>\n",
    "\n",
    "# 12.OpenCV 摄像头云台物体追踪\n",
    "\n",
    "@－－－－湖南创乐博智能科技有限公司－－－－<br>\n",
    "@  文件名：12.OpenCV摄像头云台物体追踪.ipynb <br>\n",
    "@  版本：V2.0 <br>\n",
    "@  author: zhulin<br>\n",
    "@  说明：OpenCV摄像头云台物体追踪<br>"
   ]
  },
  {
   "cell_type": "code",
   "execution_count": null,
   "metadata": {},
   "outputs": [],
   "source": [
    "# 载入必要的库\n",
    "import cv2\n",
    "import numpy as np\n",
    "from adafruit_servokit import ServoKit\n",
    "import time"
   ]
  },
  {
   "cell_type": "code",
   "execution_count": 1,
   "metadata": {},
   "outputs": [
    {
     "ename": "NameError",
     "evalue": "name 'ServoKit' is not defined",
     "output_type": "error",
     "traceback": [
      "\u001b[0;31m---------------------------------------------------------------------------\u001b[0m",
      "\u001b[0;31mNameError\u001b[0m                                 Traceback (most recent call last)",
      "\u001b[0;32m<ipython-input-1-253be6c554be>\u001b[0m in \u001b[0;36m<module>\u001b[0;34m\u001b[0m\n\u001b[0;32m----> 1\u001b[0;31m \u001b[0mkit\u001b[0m\u001b[0;34m=\u001b[0m\u001b[0mServoKit\u001b[0m\u001b[0;34m(\u001b[0m\u001b[0mchannels\u001b[0m\u001b[0;34m=\u001b[0m\u001b[0;36m16\u001b[0m\u001b[0;34m)\u001b[0m\u001b[0;34m\u001b[0m\u001b[0;34m\u001b[0m\u001b[0m\n\u001b[0m",
      "\u001b[0;31mNameError\u001b[0m: name 'ServoKit' is not defined"
     ]
    }
   ],
   "source": [
    "kit=ServoKit(channels=16)"
   ]
  },
  {
   "cell_type": "code",
   "execution_count": null,
   "metadata": {},
   "outputs": [],
   "source": [
    "# 舵机调零\n",
    "pan =  90\n",
    "tilt = 90\n",
    "# 初始化位置\n",
    "kit.servo[0].angle=pan\n",
    "kit.servo[1].angle=tilt"
   ]
  },
  {
   "cell_type": "code",
   "execution_count": null,
   "metadata": {},
   "outputs": [],
   "source": [
    "from jetcam.utils import bgr8_to_jpeg\n",
    "import traitlets\n",
    "import ipywidgets.widgets as widgets\n",
    "from IPython.display import display\n",
    "\n",
    "\n",
    "FGmaskComp_img = widgets.Image(format='jpeg', width=320, height=240)\n",
    "frame_img = widgets.Image(format='jpeg', width=320, height=240)\n",
    "\n",
    "dispaly_img = widgets.HBox([FGmaskComp_img,frame_img])\n",
    "display(dispaly_img)"
   ]
  },
  {
   "cell_type": "code",
   "execution_count": 5,
   "metadata": {},
   "outputs": [],
   "source": [
    "# 线程函数操作库\n",
    "import threading # 线程\n",
    "import ctypes\n",
    "import inspect\n",
    "\n",
    "# 线程结束代码\n",
    "def _async_raise(tid, exctype):\n",
    "    tid = ctypes.c_long(tid)\n",
    "    if not inspect.isclass(exctype):\n",
    "        exctype = type(exctype)\n",
    "    res = ctypes.pythonapi.PyThreadState_SetAsyncExc(tid, ctypes.py_object(exctype))\n",
    "    if res == 0:\n",
    "        raise ValueError(\"invalid thread id\")\n",
    "    elif res != 1:\n",
    "        ctypes.pythonapi.PyThreadState_SetAsyncExc(tid, None)\n",
    "        raise SystemError(\"PyThreadState_SetAsyncExc failed\")\n",
    "        \n",
    "def stop_thread(thread):\n",
    "    _async_raise(thread.ident, SystemExit)"
   ]
  },
  {
   "cell_type": "code",
   "execution_count": 6,
   "metadata": {},
   "outputs": [
    {
     "name": "stdout",
     "output_type": "stream",
     "text": [
      "width: 320.0 height: 240.0\n"
     ]
    }
   ],
   "source": [
    "dispW=320\n",
    "dispH=240\n",
    "flip=4\n",
    "camSet='nvarguscamerasrc !  video/x-raw(memory:NVMM), width=3264, height=2464, format=NV12, framerate=21/1 ! nvvidconv flip-method='+str(flip)+' ! video/x-raw, width='+str(dispW)+', height='+str(dispH)+', format=BGRx ! videoconvert ! video/x-raw, format=BGR ! appsink'\n",
    "cam= cv2.VideoCapture(camSet)\n",
    "\n",
    "width=cam.get(cv2.CAP_PROP_FRAME_WIDTH)\n",
    "height=cam.get(cv2.CAP_PROP_FRAME_HEIGHT)\n",
    "print('width:',width,'height:',height)"
   ]
  },
  {
   "cell_type": "code",
   "execution_count": 7,
   "metadata": {},
   "outputs": [
    {
     "data": {
      "application/vnd.jupyter.widget-view+json": {
       "model_id": "a1d72b5f3cd747eca87f0838a3967ebf",
       "version_major": 2,
       "version_minor": 0
      },
      "text/plain": [
       "VBox(children=(HBox(children=(IntSlider(value=96, description='hueLower：', max=179, min=96), IntSlider(value=1…"
      ]
     },
     "metadata": {},
     "output_type": "display_data"
    }
   ],
   "source": [
    "hueLower = widgets.IntSlider(min=96,max=179,step=1,description='hueLower：',value=96)\n",
    "hueUpper = widgets.IntSlider(min=120,max=179,step=1,description='hueUpper：',value=120)\n",
    "\n",
    "hue2Lower = widgets.IntSlider(min=50,max=179,step=1,description='hue2Lower：',value=50)\n",
    "hue2Upper = widgets.IntSlider(min=0,max=179,step=1,description='hue2Upper：',value=0)\n",
    "\n",
    "satLow = widgets.IntSlider(min=157,max=255,step=1,description='satLow：',value=157)\n",
    "satHigh = widgets.IntSlider(min=255,max=255,step=1,description='satHigh：',value=255)\n",
    "\n",
    "valLow = widgets.IntSlider(min=100,max=255,step=1,description='valLow：',value=100)\n",
    "valHigh = widgets.IntSlider(min=255,max=255,step=1,description='valHigh：',value=255)\n",
    "\n",
    "slider_img=widgets.VBox([\n",
    "              widgets.HBox([hueLower,hueUpper]),\n",
    "              widgets.HBox([hue2Lower,hue2Upper]),\n",
    "              widgets.HBox([satLow,satHigh]),\n",
    "              widgets.HBox([valLow,valHigh])\n",
    "             ])\n",
    "display(slider_img)"
   ]
  },
  {
   "cell_type": "code",
   "execution_count": 11,
   "metadata": {},
   "outputs": [],
   "source": [
    "def Video_display():\n",
    "    global pan\n",
    "    global tilt\n",
    "    while True:   \n",
    "        ret, frame = cam.read()\n",
    "        hsv=cv2.cvtColor(frame,cv2.COLOR_BGR2HSV)\n",
    "\n",
    "        hueLow=hueLower.value \n",
    "        hueUp=hueUpper.value\n",
    "\n",
    "        hue2Low=hue2Lower.value\n",
    "        hue2Up=hue2Upper.value\n",
    "\n",
    "        Ls= satLow.value\n",
    "        Us = satHigh.value\n",
    "\n",
    "        Lv=valLow.value\n",
    "        Uv=valHigh.value\n",
    "\n",
    "        l_b=np.array([hueLow,Ls,Lv])\n",
    "        u_b=np.array([hueUp,Us,Uv])\n",
    "\n",
    "        l_b2=np.array([hue2Low,Ls,Lv])\n",
    "        u_b2=np.array([hue2Up,Us,Uv])\n",
    "\n",
    "        FGmask=cv2.inRange(hsv,l_b,u_b)\n",
    "        FGmask2=cv2.inRange(hsv,l_b2,u_b2)\n",
    "        FGmaskComp=cv2.add(FGmask,FGmask2)\n",
    "        FGmaskComp_img.value = bgr8_to_jpeg(FGmaskComp)\n",
    "\n",
    "        contours,_=cv2.findContours(FGmaskComp,cv2.RETR_EXTERNAL,cv2.CHAIN_APPROX_SIMPLE)\n",
    "        contours=sorted(contours,key=lambda x:cv2.contourArea(x),reverse=True)\n",
    "\n",
    "        for cnt in contours:\n",
    "            area=cv2.contourArea(cnt)\n",
    "            (x,y,w,h)=cv2.boundingRect(cnt)\n",
    "            if area>=50:\n",
    "                cv2.rectangle(frame,(x,y),(x+w,y+h),(255,0,0),3)\n",
    "                objX=x+w/2\n",
    "                objY=y+h/2\n",
    "\n",
    "                errorPan=objX-width/2\n",
    "                errorTilt=objY-height/2            \n",
    "\n",
    "                if abs(errorPan)>15:\n",
    "                    pan=pan-errorPan/75    \n",
    "\n",
    "                if abs(errorTilt)>15:\n",
    "                    tilt=tilt-errorTilt/75\n",
    "\n",
    "                if pan>180:\n",
    "                    pan=180\n",
    "                    print(\"Pan Out of  Range\")           \n",
    "                if pan<0:\n",
    "                    pan=0\n",
    "                    print(\"Pan Out of  Range\")              \n",
    "\n",
    "                if tilt>180:\n",
    "                    tilt=180\n",
    "                    print(\"Tilt Out of  Range\") \n",
    "                if tilt<0:\n",
    "                    tilt=0\n",
    "                    print(\"Tilt Out of  Range\")\n",
    "                    \n",
    "                kit.servo[0].angle=180-pan\n",
    "                kit.servo[1].angle=tilt\n",
    "                break \n",
    "        frame_img.value = bgr8_to_jpeg(frame)\n",
    "    cam.release()"
   ]
  },
  {
   "cell_type": "code",
   "execution_count": null,
   "metadata": {},
   "outputs": [],
   "source": [
    "t = threading.Thread(target=Video_display)\n",
    "t.setDaemon(True)\n",
    "t.start()"
   ]
  },
  {
   "cell_type": "code",
   "execution_count": 10,
   "metadata": {},
   "outputs": [],
   "source": [
    "# 结束线程\n",
    "stop_thread(t)"
   ]
  },
  {
   "cell_type": "code",
   "execution_count": null,
   "metadata": {},
   "outputs": [],
   "source": []
  }
 ],
 "metadata": {
  "kernelspec": {
   "display_name": "Python 3",
   "language": "python",
   "name": "python3"
  },
  "language_info": {
   "codemirror_mode": {
    "name": "ipython",
    "version": 3
   },
   "file_extension": ".py",
   "mimetype": "text/x-python",
   "name": "python",
   "nbconvert_exporter": "python",
   "pygments_lexer": "ipython3",
   "version": "3.6.9"
  }
 },
 "nbformat": 4,
 "nbformat_minor": 4
}
