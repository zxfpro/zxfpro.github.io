{
 "cells": [
  {
   "cell_type": "markdown",
   "metadata": {},
   "source": [
    "<center><img src=\"./imge/CLBLOGO.jpg\" alt=\"创乐博\" style=\"width: 300px;\"/></center>\n",
    "\n",
    "# 18.安装NVIDIA对象检测和推断工具\n",
    "\n",
    "@－－－－湖南创乐博智能科技有限公司－－－－<br>\n",
    "@  文件名：18.安装NVIDIA对象检测和推断工具.ipynb <br>\n",
    "@  版本：V2.0 <br>\n",
    "@  author: zhulin<br>\n",
    "@  说明：安装NVIDIA对象检测和推断工具<br>"
   ]
  },
  {
   "cell_type": "markdown",
   "metadata": {},
   "source": [
    "## 1.基于NVDIA jetson-inference库物体对象检测"
   ]
  },
  {
   "cell_type": "code",
   "execution_count": 1,
   "metadata": {},
   "outputs": [
    {
     "data": {
      "application/vnd.jupyter.widget-view+json": {
       "model_id": "e913f851d7fb4bcab33c79634095e2d7",
       "version_major": 2,
       "version_minor": 0
      },
      "text/plain": [
       "Image(value=b'', format='jpeg')"
      ]
     },
     "metadata": {},
     "output_type": "display_data"
    },
    {
     "data": {
      "application/vnd.jupyter.widget-view+json": {
       "model_id": "b4e1ac35161349fe804266a832458be8",
       "version_major": 2,
       "version_minor": 0
      },
      "text/plain": [
       "Text(value='Hello World')"
      ]
     },
     "metadata": {},
     "output_type": "display_data"
    }
   ],
   "source": [
    "import ipywidgets\n",
    "from IPython.display import display\n",
    "from jetcam.utils import bgr8_to_jpeg\n",
    "import jetson.inference\n",
    "import jetson.utils\n",
    "import cv2\n",
    "import numpy as np\n",
    "# load detect net\n",
    "net = jetson.inference.detectNet(\"ssd-mobilenet-v2\", threshold=0.5)\n",
    "camera = jetson.utils.gstCamera(0)\n",
    "image_widget = ipywidgets.Image(format='jpeg')\n",
    "text_widget = ipywidgets.Text(value='Hello World')\n",
    "display(image_widget,text_widget)"
   ]
  },
  {
   "cell_type": "code",
   "execution_count": null,
   "metadata": {},
   "outputs": [],
   "source": [
    "while 1:\n",
    "    img, width, height = camera.CaptureRGBA(zeroCopy=1) \n",
    "    # detect, also appends image with found objects\n",
    "    detections = net.Detect(img, width, height)    \n",
    "    # we need a jpeg to display, depth is 4 because of alpha channel\n",
    "    image = jetson.utils.cudaToNumpy(img,width, height, 4)   \n",
    "    image1 = cv2.cvtColor (image.astype (np.uint8), cv2.COLOR_RGBA2BGR)\n",
    "    image_widget.value = bgr8_to_jpeg(image1,0)\n",
    "    # lets put the found things in a text field just because\n",
    "    text_widget.value = \" \".join([net.GetClassDesc(d.ClassID) for d in detections])"
   ]
  },
  {
   "cell_type": "code",
   "execution_count": null,
   "metadata": {},
   "outputs": [],
   "source": []
  }
 ],
 "metadata": {
  "kernelspec": {
   "display_name": "Python 3",
   "language": "python",
   "name": "python3"
  },
  "language_info": {
   "codemirror_mode": {
    "name": "ipython",
    "version": 3
   },
   "file_extension": ".py",
   "mimetype": "text/x-python",
   "name": "python",
   "nbconvert_exporter": "python",
   "pygments_lexer": "ipython3",
   "version": "3.6.9"
  }
 },
 "nbformat": 4,
 "nbformat_minor": 4
}
