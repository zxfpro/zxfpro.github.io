{
 "cells": [
  {
   "cell_type": "markdown",
   "metadata": {},
   "source": [
    "<center><img src=\"./imge/CLBLOGO.jpg\" alt=\"创乐博\" style=\"width: 300px;\"/></center>\n",
    "\n",
    "# 11.OpenCV 定位物体的实时位置\n",
    "\n",
    "@－－－－湖南创乐博智能科技有限公司－－－－<br>\n",
    "@  文件名：11.OpenCV定位物体的实时位置.ipynb <br>\n",
    "@  版本：V2.0 <br>\n",
    "@  author: zhulin<br>\n",
    "@  说明：OpenCV定位物体的实时位置<br>"
   ]
  },
  {
   "cell_type": "code",
   "execution_count": 1,
   "metadata": {},
   "outputs": [],
   "source": [
    "# 载入必要的库文件\n",
    "from __future__ import print_function\n",
    "from imutils.video import VideoStream\n",
    "import imutils\n",
    "import time\n",
    "import cv2\n",
    "import os\n",
    "import RPi.GPIO as GPIO"
   ]
  },
  {
   "cell_type": "code",
   "execution_count": 2,
   "metadata": {},
   "outputs": [],
   "source": [
    "# LED 初始化\n",
    "redLed = 17\n",
    "GPIO.setwarnings(False)\n",
    "GPIO.setmode(GPIO.BCM)\n",
    "GPIO.setup(redLed, GPIO.OUT)"
   ]
  },
  {
   "cell_type": "code",
   "execution_count": 3,
   "metadata": {},
   "outputs": [],
   "source": [
    "# 打印物体的实时位置\n",
    "def mapObjectPosition (x, y):\n",
    "    print (\"[INFO] Object Center coordenates at X0 = {0} and Y0 =  {1}\".format(x, y))\n"
   ]
  },
  {
   "cell_type": "code",
   "execution_count": 4,
   "metadata": {},
   "outputs": [
    {
     "name": "stdout",
     "output_type": "stream",
     "text": [
      "[INFO] waiting for camera to warmup...\n"
     ]
    }
   ],
   "source": [
    "dispW=500\n",
    "dispH=350\n",
    "flip=4\n",
    "#调用CSI摄像头的属性参数\n",
    "camSet=camSet='nvarguscamerasrc !  video/x-raw(memory:NVMM), width=3264, height=2464, format=NV12, framerate=21/1 ! nvvidconv flip-method='+str(flip)+' ! video/x-raw, width='+str(dispW)+', height='+str(dispH)+', format=BGRx ! videoconvert ! video/x-raw, format=BGR ! appsink'\n",
    "# 初始化视频流并允许摄像机传感器预热\n",
    "print(\"[INFO] waiting for camera to warmup...\")\n",
    "vs = cv2.VideoCapture(camSet) #VideoStream(camSet).start()\n",
    "time.sleep(2.0)"
   ]
  },
  {
   "cell_type": "code",
   "execution_count": 5,
   "metadata": {},
   "outputs": [],
   "source": [
    "# 定义对象的上下边界\n",
    "# 在HSV颜色空间中进行跟踪\n",
    "colorLower = (9,135,231)\n",
    "colorUpper = (31,255,255)"
   ]
  },
  {
   "cell_type": "code",
   "execution_count": 6,
   "metadata": {},
   "outputs": [
    {
     "data": {
      "application/vnd.jupyter.widget-view+json": {
       "model_id": "",
       "version_major": 2,
       "version_minor": 0
      },
      "text/plain": [
       "Image(value=b'', format='jpeg', height='350', width='500')"
      ]
     },
     "metadata": {},
     "output_type": "display_data"
    }
   ],
   "source": [
    "# 创建显示控件\n",
    "from jetcam.utils import bgr8_to_jpeg\n",
    "import traitlets\n",
    "import ipywidgets.widgets as widgets\n",
    "from IPython.display import display\n",
    "Frame = widgets.Image(format='jpeg', width=500, height=350)\n",
    "display(Frame)"
   ]
  },
  {
   "cell_type": "code",
   "execution_count": 7,
   "metadata": {},
   "outputs": [],
   "source": [
    "# 线程函数操作库\n",
    "import threading # 线程\n",
    "import ctypes\n",
    "import inspect\n",
    "\n",
    "# 线程结束代码\n",
    "def _async_raise(tid, exctype):\n",
    "    tid = ctypes.c_long(tid)\n",
    "    if not inspect.isclass(exctype):\n",
    "        exctype = type(exctype)\n",
    "    res = ctypes.pythonapi.PyThreadState_SetAsyncExc(tid, ctypes.py_object(exctype))\n",
    "    if res == 0:\n",
    "        raise ValueError(\"invalid thread id\")\n",
    "    elif res != 1:\n",
    "        ctypes.pythonapi.PyThreadState_SetAsyncExc(tid, None)\n",
    "        raise SystemError(\"PyThreadState_SetAsyncExc failed\")\n",
    "        \n",
    "def stop_thread(thread):\n",
    "    _async_raise(thread.ident, SystemExit)"
   ]
  },
  {
   "cell_type": "code",
   "execution_count": 8,
   "metadata": {},
   "outputs": [],
   "source": [
    "# 关闭LED灯\n",
    "GPIO.output(redLed, GPIO.LOW)\n",
    "ledOn = False"
   ]
  },
  {
   "cell_type": "code",
   "execution_count": 9,
   "metadata": {},
   "outputs": [],
   "source": [
    "def Video_display():\n",
    "    global ledOn\n",
    "    # 循环的帧从视频流\n",
    "    while True:\n",
    "        # 从视频流中抓取下一帧，调整大小\n",
    "        # 帧，并将其转换为HSV颜色空间\n",
    "        ret, frame = vs.read()\n",
    "        frame = imutils.resize(frame, width=500)\n",
    "        frame = imutils.rotate(frame, angle=0)\n",
    "        hsv = cv2.cvtColor(frame, cv2.COLOR_BGR2HSV)\n",
    "\n",
    "        # 为对象颜色构造一个遮罩，然后执行\n",
    "        # 一系列的膨胀和侵蚀，以消除任何小的\n",
    "        # blobs left in the mask\n",
    "        mask = cv2.inRange(hsv, colorLower, colorUpper)\n",
    "        mask = cv2.erode(mask, None, iterations=2)\n",
    "        mask = cv2.dilate(mask, None, iterations=2)\n",
    "\n",
    "        # 找到遮罩中的轮廓并初始化\n",
    "        # (x, y) center of the object\n",
    "        cnts = cv2.findContours(mask.copy(), cv2.RETR_EXTERNAL,cv2.CHAIN_APPROX_SIMPLE)[-2]\n",
    "        #cnts = cnts[0] if imutils.is_cv2() else cnts[1]\n",
    "        center = None\n",
    "\n",
    "        # 只有在找到至少一条轮廓线时才进行\n",
    "        if len(cnts) > 0:\n",
    "            # 在蒙版中找到最大的轮廓，然后使用\n",
    "            # 它可以计算出最小的围圆\n",
    "            # 重心\n",
    "            c = max(cnts, key=cv2.contourArea)\n",
    "            ((x, y), radius) = cv2.minEnclosingCircle(c)\n",
    "            M = cv2.moments(c)\n",
    "            center = (int(M[\"m10\"] / M[\"m00\"]), int(M[\"m01\"] / M[\"m00\"]))\n",
    "\n",
    "            # 只有当半径满足最小尺寸时才进行\n",
    "            if radius > 10:\n",
    "                # 在框架上画圆和质心，\n",
    "                # 然后更新跟踪点的列表\n",
    "                cv2.circle(frame, (int(x), int(y)), int(radius),(0, 255, 255), 2)\n",
    "                cv2.circle(frame, center, 5, (0, 0, 255), -1)\n",
    "\n",
    "                # 定位舵机在圆心\n",
    "                mapObjectPosition(int(x), int(y))\n",
    "\n",
    "                # 如果led还没有打开，打开led\n",
    "                if not ledOn:\n",
    "                    GPIO.output(redLed, GPIO.HIGH)\n",
    "                    ledOn = True\n",
    "        # 如果没有检测到球，关闭LED灯\n",
    "        elif ledOn:\n",
    "            GPIO.output(redLed, GPIO.LOW)\n",
    "            ledOn = False\n",
    "\n",
    "        # 向我们的屏幕显示框架\n",
    "        Frame.value = bgr8_to_jpeg(frame)    \n",
    "    # 做点清理工作\n",
    "    print(\"\\n [INFO] Exiting Program and cleanup stuff \\n\")\n",
    "    GPIO.cleanup()\n",
    "    vs.stop()"
   ]
  },
  {
   "cell_type": "code",
   "execution_count": 10,
   "metadata": {},
   "outputs": [],
   "source": [
    "# 开始线程\n",
    "t = threading.Thread(target=Video_display)\n",
    "t.setDaemon(True)\n",
    "t.start()"
   ]
  },
  {
   "cell_type": "code",
   "execution_count": 11,
   "metadata": {},
   "outputs": [],
   "source": [
    "# 结束线程\n",
    "stop_thread(t)"
   ]
  },
  {
   "cell_type": "code",
   "execution_count": null,
   "metadata": {},
   "outputs": [],
   "source": []
  }
 ],
 "metadata": {
  "kernelspec": {
   "display_name": "Python 3",
   "language": "python",
   "name": "python3"
  },
  "language_info": {
   "codemirror_mode": {
    "name": "ipython",
    "version": 3
   },
   "file_extension": ".py",
   "mimetype": "text/x-python",
   "name": "python",
   "nbconvert_exporter": "python",
   "pygments_lexer": "ipython3",
   "version": "3.6.9"
  }
 },
 "nbformat": 4,
 "nbformat_minor": 4
}
