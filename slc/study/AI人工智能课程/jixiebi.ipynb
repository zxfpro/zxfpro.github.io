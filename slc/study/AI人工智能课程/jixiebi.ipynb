{
 "cells": [
  {
   "cell_type": "code",
   "execution_count": 8,
   "metadata": {},
   "outputs": [],
   "source": [
    "# 载入必要的库\n",
    "from adafruit_servokit import ServoKit\n",
    "import time\n",
    "import ipywidgets.widgets as widgets\n",
    "from IPython.display import display\n",
    "import threading # 线程\n",
    "import ctypes\n",
    "import inspect"
   ]
  },
  {
   "cell_type": "code",
   "execution_count": 9,
   "metadata": {},
   "outputs": [],
   "source": [
    "kit=ServoKit(channels=16)"
   ]
  },
  {
   "cell_type": "code",
   "execution_count": 10,
   "metadata": {},
   "outputs": [],
   "source": [
    "# 舵机调零\n",
    "pan =  90\n",
    "tilt = 90\n",
    "\n",
    "# 初始化位置\n",
    "kit.servo[0].angle=90\n",
    "kit.servo[1].angle=90\n",
    "kit.servo[2].angle=90\n",
    "kit.servo[3].angle=90\n",
    "kit.servo[4].angle=90\n",
    "kit.servo[5].angle=90"
   ]
  },
  {
   "cell_type": "code",
   "execution_count": 11,
   "metadata": {},
   "outputs": [],
   "source": [
    "def active(action):\n",
    "    for i in range(len(action)):\n",
    "        kit.servo[i].angle = action[i]\n",
    "def control():\n",
    "    while True:\n",
    "        time.sleep(10/power_speed.value)\n",
    "        active([power0.value,power1.value,power2.value,power3.value,power4.value,power5.value])\n",
    "def _async_raise(tid, exctype):\n",
    "    tid = ctypes.c_long(tid)\n",
    "    if not inspect.isclass(exctype):\n",
    "        exctype = type(exctype)\n",
    "    res = ctypes.pythonapi.PyThreadState_SetAsyncExc(tid, ctypes.py_object(exctype))\n",
    "    if res == 0:\n",
    "        raise ValueError(\"invalid thread id\")\n",
    "    elif res != 1:\n",
    "        ctypes.pythonapi.PyThreadState_SetAsyncExc(tid, None)\n",
    "        raise SystemError(\"PyThreadState_SetAsyncExc failed\")\n",
    "def stop_thread(thread):\n",
    "    _async_raise(thread.ident, SystemExit)"
   ]
  },
  {
   "cell_type": "code",
   "execution_count": 12,
   "metadata": {},
   "outputs": [
    {
     "data": {
      "application/vnd.jupyter.widget-view+json": {
       "model_id": "ba96205f4a41429ca7013bb12aaf6de3",
       "version_major": 2,
       "version_minor": 0
      },
      "text/plain": [
       "VBox(children=(HBox(children=(IntSlider(value=90, description='power0', max=180), IntSlider(value=90, descript…"
      ]
     },
     "metadata": {},
     "output_type": "display_data"
    }
   ],
   "source": [
    "power0 = widgets.IntSlider(min=0,max=180,step=1,description='power0',value=90)\n",
    "power1 = widgets.IntSlider(min=0,max=180,step=1,description='power1',value=90)\n",
    "power2 = widgets.IntSlider(min=0,max=180,step=1,description='power2',value=90)\n",
    "power3 = widgets.IntSlider(min=0,max=180,step=1,description='power3',value=90)\n",
    "power4 = widgets.IntSlider(min=0,max=180,step=1,description='power4',value=90)\n",
    "power5 = widgets.IntSlider(min=0,max=180,step=1,description='power5',value=90)\n",
    "power_speed = widgets.IntSlider(min=1,max=20,step=1,description='speed',value=3)\n",
    "\n",
    "slider_img=widgets.VBox([\n",
    "              widgets.HBox([power0,power1]),\n",
    "              widgets.HBox([power2,power3]),\n",
    "              widgets.HBox([power4,power5]),\n",
    "              widgets.HBox([power_speed])\n",
    "             ])\n",
    "display(slider_img)"
   ]
  },
  {
   "cell_type": "code",
   "execution_count": 13,
   "metadata": {},
   "outputs": [],
   "source": [
    "t = threading.Thread(target=control)\n",
    "t.setDaemon(True)\n",
    "t.start()"
   ]
  },
  {
   "cell_type": "code",
   "execution_count": null,
   "metadata": {},
   "outputs": [],
   "source": []
  },
  {
   "cell_type": "code",
   "execution_count": null,
   "metadata": {},
   "outputs": [],
   "source": []
  },
  {
   "cell_type": "code",
   "execution_count": 7,
   "metadata": {},
   "outputs": [],
   "source": [
    "# # 结束线程\n",
    "# stop_thread(t)"
   ]
  }
 ],
 "metadata": {
  "kernelspec": {
   "display_name": "Python 3",
   "language": "python",
   "name": "python3"
  },
  "language_info": {
   "codemirror_mode": {
    "name": "ipython",
    "version": 3
   },
   "file_extension": ".py",
   "mimetype": "text/x-python",
   "name": "python",
   "nbconvert_exporter": "python",
   "pygments_lexer": "ipython3",
   "version": "3.6.9"
  }
 },
 "nbformat": 4,
 "nbformat_minor": 4
}
