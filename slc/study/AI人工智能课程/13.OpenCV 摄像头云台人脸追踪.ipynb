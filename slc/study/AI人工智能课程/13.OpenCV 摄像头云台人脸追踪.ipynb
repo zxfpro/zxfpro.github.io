{
 "cells": [
  {
   "cell_type": "markdown",
   "metadata": {},
   "source": [
    "<center><img src=\"./imge/CLBLOGO.jpg\" alt=\"创乐博\" style=\"width: 300px;\"/></center>\n",
    "\n",
    "# 13.OpenCV 摄像头云台人脸追踪\n",
    "\n",
    "@－－－－湖南创乐博智能科技有限公司－－－－<br>\n",
    "@  文件名：13.OpenCV摄像头云台人脸追踪.ipynb <br>\n",
    "@  版本：V2.0 <br>\n",
    "@  author: zhulin<br>\n",
    "@  说明：OpenCV摄像头云台人脸追踪<br>"
   ]
  },
  {
   "cell_type": "code",
   "execution_count": 1,
   "metadata": {},
   "outputs": [],
   "source": [
    "# 载入必要的库\n",
    "import cv2\n",
    "import numpy as np\n",
    "from adafruit_servokit import ServoKit\n",
    "import time"
   ]
  },
  {
   "cell_type": "code",
   "execution_count": 2,
   "metadata": {},
   "outputs": [],
   "source": [
    "kit=ServoKit(channels=16)"
   ]
  },
  {
   "cell_type": "code",
   "execution_count": 3,
   "metadata": {},
   "outputs": [],
   "source": [
    "pan =  90\n",
    "tilt = 90\n",
    "# 初始化位置\n",
    "kit.servo[0].angle=pan\n",
    "kit.servo[1].angle=tilt"
   ]
  },
  {
   "cell_type": "code",
   "execution_count": 4,
   "metadata": {},
   "outputs": [],
   "source": [
    "# 线程函数操作库\n",
    "import threading # 线程\n",
    "import ctypes\n",
    "import inspect\n",
    "\n",
    "# 线程结束代码\n",
    "def _async_raise(tid, exctype):\n",
    "    tid = ctypes.c_long(tid)\n",
    "    if not inspect.isclass(exctype):\n",
    "        exctype = type(exctype)\n",
    "    res = ctypes.pythonapi.PyThreadState_SetAsyncExc(tid, ctypes.py_object(exctype))\n",
    "    if res == 0:\n",
    "        raise ValueError(\"invalid thread id\")\n",
    "    elif res != 1:\n",
    "        ctypes.pythonapi.PyThreadState_SetAsyncExc(tid, None)\n",
    "        raise SystemError(\"PyThreadState_SetAsyncExc failed\")\n",
    "        \n",
    "def stop_thread(thread):\n",
    "    _async_raise(thread.ident, SystemExit)"
   ]
  },
  {
   "cell_type": "code",
   "execution_count": 5,
   "metadata": {},
   "outputs": [
    {
     "data": {
      "application/vnd.jupyter.widget-view+json": {
       "model_id": "badfeb89432a461a82cc5069be9a2a87",
       "version_major": 2,
       "version_minor": 0
      },
      "text/plain": [
       "Image(value=b'', format='jpeg', height='240', width='320')"
      ]
     },
     "metadata": {},
     "output_type": "display_data"
    }
   ],
   "source": [
    "from jetcam.utils import bgr8_to_jpeg\n",
    "import traitlets\n",
    "import ipywidgets.widgets as widgets\n",
    "from IPython.display import display\n",
    "\n",
    "frame_img = widgets.Image(format='jpeg', width=320, height=240)\n",
    "display(frame_img)"
   ]
  },
  {
   "cell_type": "code",
   "execution_count": 6,
   "metadata": {},
   "outputs": [
    {
     "name": "stdout",
     "output_type": "stream",
     "text": [
      "width: 320.0 height: 240.0\n"
     ]
    }
   ],
   "source": [
    "dispW=320\n",
    "dispH=240\n",
    "flip=4\n",
    "camSet='nvarguscamerasrc !  video/x-raw(memory:NVMM), width=3264, height=2464, format=NV12, framerate=21/1 ! nvvidconv flip-method='+str(flip)+' ! video/x-raw, width='+str(dispW)+', height='+str(dispH)+', format=BGRx ! videoconvert ! video/x-raw, format=BGR ! appsink'\n",
    "cam= cv2.VideoCapture(camSet)\n",
    "\n",
    "width=cam.get(cv2.CAP_PROP_FRAME_WIDTH)\n",
    "height=cam.get(cv2.CAP_PROP_FRAME_HEIGHT)\n",
    "print('width:',width,'height:',height)"
   ]
  },
  {
   "cell_type": "code",
   "execution_count": 7,
   "metadata": {},
   "outputs": [],
   "source": [
    "# 载入人脸和眼睛的HAAR 模型\n",
    "face_cascade = cv2.CascadeClassifier('./images/haarcascade_frontalface_default.xml')\n",
    "eye_cascade = cv2.CascadeClassifier('./images/haarcascade_eye.xml')"
   ]
  },
  {
   "cell_type": "code",
   "execution_count": 8,
   "metadata": {},
   "outputs": [],
   "source": [
    "def Video_display():\n",
    "    global pan\n",
    "    global tilt\n",
    "    while True: \n",
    "        ret,frame = cam.read()\n",
    "        gray = cv2.cvtColor(frame,cv2.COLOR_BGR2GRAY)\n",
    "        faces = face_cascade.detectMultiScale(gray,1.3,5)\n",
    "\n",
    "        for(x,y,w,h) in faces:\n",
    "            cv2.rectangle(frame,(x,y),(x+w,y+h),(0,0,255),2)\n",
    "            Xcent = x + w/2\n",
    "            Ycent = y + h/2\n",
    "            errorPan  = Xcent - dispW/2 \n",
    "            errorTilt = Ycent - dispH/2\n",
    "            if abs(errorPan)>15:\n",
    "                pan=pan-errorPan/50\n",
    "            if abs(errorTilt)>15:\n",
    "                tilt=tilt-errorTilt/50\n",
    "            if pan > 180:\n",
    "                pan = 180\n",
    "                print(\"Pan out of Range\")\n",
    "            if pan < 0:\n",
    "                pan = 0\n",
    "                print(\"pan Out of Range\")\n",
    "            if tilt > 180:\n",
    "                tilt = 180\n",
    "                print(\"Pan out of Range\")\n",
    "            if tilt < 0:\n",
    "                tilt = 0\n",
    "                print(\"pan Out of Range\")\n",
    "\n",
    "            kit.servo[0].angle=180-pan\n",
    "            kit.servo[1].angle=tilt\n",
    "\n",
    "            roi_gray = gray[y:y+h, x:x+w]\n",
    "            roi_color = frame[y:y+h, x:x+w]        \n",
    "            eyes = eye_cascade.detectMultiScale(roi_gray)\n",
    "            for (ex,ey,ew,eh) in eyes:\n",
    "                cv2.rectangle(roi_color,(ex,ey),(ex+ew,ey+eh),(0,255,0),2)          \n",
    "        frame_img.value = bgr8_to_jpeg(frame)\n",
    "    cap.release()"
   ]
  },
  {
   "cell_type": "code",
   "execution_count": 9,
   "metadata": {},
   "outputs": [],
   "source": [
    "# 开始线程\n",
    "t = threading.Thread(target=Video_display)\n",
    "t.setDaemon(True)\n",
    "t.start()"
   ]
  },
  {
   "cell_type": "code",
   "execution_count": 10,
   "metadata": {},
   "outputs": [],
   "source": [
    "# 结束线程\n",
    "stop_thread(t)"
   ]
  },
  {
   "cell_type": "code",
   "execution_count": null,
   "metadata": {},
   "outputs": [],
   "source": []
  }
 ],
 "metadata": {
  "kernelspec": {
   "display_name": "Python 3",
   "language": "python",
   "name": "python3"
  },
  "language_info": {
   "codemirror_mode": {
    "name": "ipython",
    "version": 3
   },
   "file_extension": ".py",
   "mimetype": "text/x-python",
   "name": "python",
   "nbconvert_exporter": "python",
   "pygments_lexer": "ipython3",
   "version": "3.6.9"
  }
 },
 "nbformat": 4,
 "nbformat_minor": 4
}
