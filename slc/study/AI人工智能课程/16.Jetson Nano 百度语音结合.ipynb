{
 "cells": [
  {
   "cell_type": "markdown",
   "metadata": {},
   "source": [
    "<center><img src=\"./imge/CLBLOGO.jpg\" alt=\"创乐博\" style=\"width: 300px;\"/></center>\n",
    "\n",
    "# 16.百度语音结合\n",
    "\n",
    "@－－－－湖南创乐博智能科技有限公司－－－－<br>\n",
    "@  文件名：16.Jetbot机器人百度语音结合.ipynb <br>\n",
    "@  版本：V2.0 <br>\n",
    "@  author: zhulin<br>\n",
    "@  说明：Jetbot机器人百度语音结合<br>"
   ]
  },
  {
   "cell_type": "code",
   "execution_count": 1,
   "metadata": {},
   "outputs": [],
   "source": [
    "# 载入必要的库\n",
    "from aip import AipSpeech"
   ]
  },
  {
   "cell_type": "code",
   "execution_count": 2,
   "metadata": {},
   "outputs": [
    {
     "name": "stdout",
     "output_type": "stream",
     "text": [
      "pygame 2.0.0 (SDL 2.0.8, python 3.6.9)\n",
      "Hello from the pygame community. https://www.pygame.org/contribute.html\n"
     ]
    }
   ],
   "source": [
    "import pygame\n",
    "from time import time\n",
    "import os"
   ]
  },
  {
   "cell_type": "code",
   "execution_count": 3,
   "metadata": {},
   "outputs": [],
   "source": [
    "#通过百度云申请的账号和密码\n",
    "# 这里需要换成自己的ID号\n",
    "baidu_APP_ID='24634292'\n",
    "baidu_API_KEY='oHE3xGqki7Dh0EKGBDjzEXKA'\n",
    "baidu_SECRET_KEY='VjOP3gtl50u70EyVuWet3ta8MukTftGa'"
   ]
  },
  {
   "cell_type": "code",
   "execution_count": 4,
   "metadata": {},
   "outputs": [],
   "source": [
    "baidu_aipSpeech=AipSpeech(baidu_APP_ID,baidu_API_KEY,baidu_SECRET_KEY)\n",
    "#这里是对语速，音量，人声进行调整，这里采用‘per’为0的女生听起来会更清晰，因人而异！！！\n",
    "t1=time()\n",
    "makerobo_result = baidu_aipSpeech.synthesis(text = '欢迎使用Jetson Nano 开发套件', \n",
    "                             options={'spd':5,'vol':9,'per':1,})"
   ]
  },
  {
   "cell_type": "code",
   "execution_count": 5,
   "metadata": {},
   "outputs": [
    {
     "name": "stdout",
     "output_type": "stream",
     "text": [
      "{'err_detail': '16: Open api characters limit reached', 'err_msg': '16: Open api characters limit reached', 'err_no': 502, 'err_subcode': 16, 'tts_logid': 1203889575}\n"
     ]
    }
   ],
   "source": [
    "#将合成的语音保存为文件\n",
    "if not isinstance(makerobo_result,dict):\n",
    "    with open('makerobo.mp3','wb') as f:\n",
    "        f.write(makerobo_result)       \n",
    "else:\n",
    "    print(makerobo_result)\n"
   ]
  },
  {
   "cell_type": "code",
   "execution_count": 6,
   "metadata": {},
   "outputs": [
    {
     "name": "stdout",
     "output_type": "stream",
     "text": [
      "5.9000091552734375\n"
     ]
    }
   ],
   "source": [
    "#声音播放，我们可以安装pygame软件来实现\n",
    "pygame.mixer.init()\n",
    "pygame.mixer.music.load('./makerobo.mp3')\n",
    "pygame.mixer.music.play()\n",
    "# 打印出运行时间\n",
    "t2=time()\n",
    "print(t2-t1)"
   ]
  },
  {
   "cell_type": "code",
   "execution_count": 7,
   "metadata": {},
   "outputs": [],
   "source": [
    "#from playsound import playsound\n",
    "\n",
    "#playsound('./makerobo.mp3')"
   ]
  },
  {
   "cell_type": "code",
   "execution_count": 8,
   "metadata": {},
   "outputs": [
    {
     "ename": "KeyError",
     "evalue": "'result'",
     "output_type": "error",
     "traceback": [
      "\u001b[0;31m---------------------------------------------------------------------------\u001b[0m",
      "\u001b[0;31mKeyError\u001b[0m                                  Traceback (most recent call last)",
      "\u001b[0;32m<ipython-input-8-85d37e6a615b>\u001b[0m in \u001b[0;36m<module>\u001b[0;34m\u001b[0m\n\u001b[1;32m     21\u001b[0m         \u001b[0;34m'lan'\u001b[0m\u001b[0;34m:\u001b[0m\u001b[0;34m'zh'\u001b[0m\u001b[0;34m,\u001b[0m\u001b[0;34m\u001b[0m\u001b[0;34m\u001b[0m\u001b[0m\n\u001b[1;32m     22\u001b[0m         })\n\u001b[0;32m---> 23\u001b[0;31m \u001b[0mprint\u001b[0m\u001b[0;34m(\u001b[0m\u001b[0mresult\u001b[0m\u001b[0;34m[\u001b[0m\u001b[0;34m'result'\u001b[0m\u001b[0;34m]\u001b[0m\u001b[0;34m[\u001b[0m\u001b[0;36m0\u001b[0m\u001b[0;34m]\u001b[0m\u001b[0;34m)\u001b[0m\u001b[0;34m\u001b[0m\u001b[0;34m\u001b[0m\u001b[0m\n\u001b[0m\u001b[1;32m     24\u001b[0m \u001b[0;34m\u001b[0m\u001b[0m\n\u001b[1;32m     25\u001b[0m \u001b[0;34m\u001b[0m\u001b[0m\n",
      "\u001b[0;31mKeyError\u001b[0m: 'result'"
     ]
    }
   ],
   "source": [
    "from aip import AipSpeech\n",
    "\n",
    "\"\"\" 你的 APPID AK SK \"\"\"\n",
    "#宏定义\n",
    "APP_ID='24634292'\n",
    "API_KEY='oHE3xGqki7Dh0EKGBDjzEXKA'\n",
    "SECRET_KEY='VjOP3gtl50u70EyVuWet3ta8MukTftGa'\n",
    "                                              #你们要用自己的数据\n",
    "baidu_APP_ID='24634292'\n",
    "baidu_API_KEY='oHE3xGqki7Dh0EKGBDjzEXKA'\n",
    "baidu_SECRET_KEY='VjOP3gtl50u70EyVuWet3ta8MukTftGa'\n",
    "client = AipSpeech(APP_ID, API_KEY, SECRET_KEY)\n",
    "\n",
    "# 读取语音文件函数\n",
    "def get_file_content(filePath):\n",
    "    with open(filePath, 'rb') as fp:\n",
    "        return fp.read()\n",
    "    \n",
    "    \n",
    "    \n",
    "\n",
    "result=client.asr(get_file_content('./1.wav'),'wav',16000,{\n",
    "        'lan':'zh',\n",
    "        })\n",
    "print(result['result'][0])\n",
    "\n",
    "\n",
    "'''speech 就 是你的录音    文件格式   采样率1600 固定值（8000或者16000）  dev_pid语言类型 1536是普通话'''\n",
    "\n",
    "'''你们需要测试的时候，只要修改代码中的API_ID  API_KEY  SECRET_KEY  以及文件的路径和文件名，还有采样率，语种就行了'''\n",
    "   \n"
   ]
  }
 ],
 "metadata": {
  "kernelspec": {
   "display_name": "Python 3",
   "language": "python",
   "name": "python3"
  },
  "language_info": {
   "codemirror_mode": {
    "name": "ipython",
    "version": 3
   },
   "file_extension": ".py",
   "mimetype": "text/x-python",
   "name": "python",
   "nbconvert_exporter": "python",
   "pygments_lexer": "ipython3",
   "version": "3.6.9"
  }
 },
 "nbformat": 4,
 "nbformat_minor": 4
}
