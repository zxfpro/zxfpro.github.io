{
 "cells": [
  {
   "cell_type": "markdown",
   "metadata": {},
   "source": [
    "<center><img src=\"./imge/CLBLOGO.jpg\" alt=\"创乐博\" style=\"width: 300px;\"/></center>\n",
    "\n",
    "# 7.OpenCV脸部和眼睛检测\n",
    "\n",
    "@－－－－湖南创乐博智能科技有限公司－－－－<br>\n",
    "@  文件名：7.OpenCV脸部和眼睛检测.ipynb <br>\n",
    "@  版本：V2.0 <br>\n",
    "@  author: zhulin<br>\n",
    "@  说明：OpenCV脸部和眼睛检测<br>"
   ]
  },
  {
   "cell_type": "code",
   "execution_count": 1,
   "metadata": {},
   "outputs": [],
   "source": [
    "# 导入必要的库\n",
    "import numpy as np\n",
    "import cv2"
   ]
  },
  {
   "cell_type": "code",
   "execution_count": 2,
   "metadata": {},
   "outputs": [],
   "source": [
    "# 载入HAAR模型\n",
    "face_cascade = cv2.CascadeClassifier('./images/haarcascade_frontalface_default.xml')\n",
    "eye_cascade = cv2.CascadeClassifier('./images/haarcascade_eye.xml')"
   ]
  },
  {
   "cell_type": "code",
   "execution_count": 3,
   "metadata": {},
   "outputs": [],
   "source": [
    "# 线程函数操作库\n",
    "import threading # 线程\n",
    "import ctypes\n",
    "import inspect\n",
    "\n",
    "# 线程结束代码\n",
    "def _async_raise(tid, exctype):\n",
    "    tid = ctypes.c_long(tid)\n",
    "    if not inspect.isclass(exctype):\n",
    "        exctype = type(exctype)\n",
    "    res = ctypes.pythonapi.PyThreadState_SetAsyncExc(tid, ctypes.py_object(exctype))\n",
    "    if res == 0:\n",
    "        raise ValueError(\"invalid thread id\")\n",
    "    elif res != 1:\n",
    "        ctypes.pythonapi.PyThreadState_SetAsyncExc(tid, None)\n",
    "        raise SystemError(\"PyThreadState_SetAsyncExc failed\")\n",
    "        \n",
    "def stop_thread(thread):\n",
    "    _async_raise(thread.ident, SystemExit)\n"
   ]
  },
  {
   "cell_type": "code",
   "execution_count": 4,
   "metadata": {},
   "outputs": [],
   "source": [
    "dispW=480\n",
    "dispH=320\n",
    "flip=4\n",
    "#Uncomment These next Two Line for Pi Camera\n",
    "camSet='nvarguscamerasrc !  video/x-raw(memory:NVMM), width=3264, height=2464, format=NV12, framerate=21/1 ! nvvidconv flip-method='+str(flip)+' ! video/x-raw, width='+str(dispW)+', height='+str(dispH)+', format=BGRx ! videoconvert ! video/x-raw, format=BGR ! appsink'\n",
    "cap= cv2.VideoCapture(camSet)"
   ]
  },
  {
   "cell_type": "code",
   "execution_count": 5,
   "metadata": {},
   "outputs": [
    {
     "data": {
      "application/vnd.jupyter.widget-view+json": {
       "model_id": "4bb142e4613645d0ba75b6527105d34e",
       "version_major": 2,
       "version_minor": 0
      },
      "text/plain": [
       "Image(value=b'', format='jpeg', height='320', width='480')"
      ]
     },
     "metadata": {},
     "output_type": "display_data"
    }
   ],
   "source": [
    "# 创建显示控件\n",
    "from jetcam.utils import bgr8_to_jpeg\n",
    "import traitlets\n",
    "import ipywidgets.widgets as widgets\n",
    "from IPython.display import display\n",
    "face_imge = widgets.Image(format='jpeg', width=480, height=320)\n",
    "display(face_imge)"
   ]
  },
  {
   "cell_type": "code",
   "execution_count": 6,
   "metadata": {},
   "outputs": [],
   "source": [
    "def Video_display():\n",
    "    while True:      \n",
    "        ret, img = cap.read()\n",
    "        img = cv2.flip(img,1)\n",
    "        gray = cv2.cvtColor(img, cv2.COLOR_BGR2GRAY)\n",
    "        faces = face_cascade.detectMultiScale(gray, 1.3, 5)\n",
    "        for (x,y,w,h) in faces:\n",
    "            cv2.rectangle(img,(x,y),(x+w,y+h),(255,0,0),2)\n",
    "            roi_gray = gray[y:y+h, x:x+w]\n",
    "            roi_color = img[y:y+h, x:x+w]\n",
    "            print(int(x+w/2), int(y+h/2))\n",
    "            eyes = eye_cascade.detectMultiScale(roi_gray)\n",
    "            for (ex,ey,ew,eh) in eyes:\n",
    "                cv2.rectangle(roi_color,(ex,ey),(ex+ew,ey+eh),(0,255,0),2)\n",
    "        face_imge.value = bgr8_to_jpeg(img)\n",
    "    cap.release()"
   ]
  },
  {
   "cell_type": "code",
   "execution_count": 7,
   "metadata": {},
   "outputs": [
    {
     "name": "stdout",
     "output_type": "stream",
     "text": [
      "215 60\n",
      "210 60\n",
      "213 60\n",
      "214 60\n",
      "207 61\n",
      "208 61\n",
      "207 61\n",
      "206 60\n",
      "206 62\n",
      "211 61\n",
      "212 61\n",
      "211 60\n",
      "211 59\n",
      "211 59\n",
      "210 60\n",
      "212 59\n",
      "210 61\n",
      "206 61\n",
      "206 60\n",
      "207 60\n",
      "207 61\n",
      "208 60\n",
      "210 60\n",
      "207 61\n",
      "208 62\n",
      "211 60\n",
      "213 60\n",
      "210 60\n",
      "210 60\n",
      "208 59\n",
      "212 60\n",
      "210 59\n",
      "212 60\n",
      "209 59\n",
      "206 58\n",
      "205 59\n",
      "201 58\n",
      "214 57\n",
      "216 77\n",
      "210 76\n",
      "214 75\n",
      "211 75\n",
      "215 75\n",
      "213 75\n",
      "213 76\n",
      "211 76\n",
      "212 75\n",
      "212 75\n",
      "216 76\n",
      "213 76\n",
      "217 75\n",
      "223 77\n",
      "221 73\n",
      "220 69\n",
      "221 71\n",
      "222 73\n",
      "218 76\n",
      "235 50\n",
      "233 53\n",
      "230 62\n",
      "227 67\n",
      "226 70\n",
      "225 75\n",
      "223 78\n",
      "221 83\n",
      "220 86\n",
      "220 90\n",
      "218 91\n",
      "216 93\n",
      "215 93\n",
      "214 93\n",
      "218 93\n",
      "216 92\n",
      "219 91\n",
      "217 91\n",
      "217 91\n",
      "221 92\n",
      "221 92\n",
      "221 93\n",
      "220 92\n",
      "220 92\n",
      "221 92\n",
      "218 91\n",
      "222 92\n",
      "221 92\n",
      "221 92\n",
      "219 91\n",
      "221 91\n",
      "221 90\n",
      "220 90\n",
      "217 89\n",
      "219 90\n",
      "221 90\n",
      "220 90\n",
      "224 89\n",
      "219 87\n",
      "218 87\n",
      "218 88\n",
      "216 87\n",
      "216 88\n",
      "215 87\n",
      "215 88\n",
      "214 87\n",
      "215 87\n",
      "215 87\n",
      "214 86\n",
      "215 87\n",
      "214 86\n",
      "214 85\n",
      "214 86\n",
      "213 86\n",
      "215 82\n",
      "215 82\n",
      "216 82\n",
      "221 76\n",
      "235 71\n",
      "234 68\n",
      "235 70\n",
      "232 70\n",
      "236 71\n",
      "235 70\n",
      "231 70\n",
      "227 73\n",
      "222 72\n",
      "220 72\n",
      "223 72\n",
      "228 73\n"
     ]
    }
   ],
   "source": [
    "t = threading.Thread(target=Video_display)\n",
    "t.setDaemon(True)\n",
    "t.start()"
   ]
  },
  {
   "cell_type": "code",
   "execution_count": 8,
   "metadata": {},
   "outputs": [],
   "source": [
    "# 结束线程\n",
    "stop_thread(t)"
   ]
  },
  {
   "cell_type": "code",
   "execution_count": null,
   "metadata": {},
   "outputs": [],
   "source": []
  }
 ],
 "metadata": {
  "kernelspec": {
   "display_name": "Python 3",
   "language": "python",
   "name": "python3"
  },
  "language_info": {
   "codemirror_mode": {
    "name": "ipython",
    "version": 3
   },
   "file_extension": ".py",
   "mimetype": "text/x-python",
   "name": "python",
   "nbconvert_exporter": "python",
   "pygments_lexer": "ipython3",
   "version": "3.6.9"
  }
 },
 "nbformat": 4,
 "nbformat_minor": 4
}
