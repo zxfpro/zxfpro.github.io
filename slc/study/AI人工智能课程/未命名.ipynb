{
 "cells": [
  {
   "cell_type": "code",
   "execution_count": 1,
   "metadata": {},
   "outputs": [],
   "source": [
    "##实验"
   ]
  },
  {
   "cell_type": "code",
   "execution_count": 1,
   "metadata": {},
   "outputs": [],
   "source": [
    "from adafruit_servokit import ServoKit\n",
    "import ipywidgets.widgets as widgets\n",
    "from IPython.display import display\n",
    "import threading # 线程"
   ]
  },
  {
   "cell_type": "code",
   "execution_count": 2,
   "metadata": {},
   "outputs": [],
   "source": [
    "kit=ServoKit(channels=16)"
   ]
  },
  {
   "cell_type": "code",
   "execution_count": null,
   "metadata": {},
   "outputs": [],
   "source": [
    "# 舵机调零\n",
    "pan =  90\n",
    "tilt = 90\n",
    "# 初始化位置\n",
    "kit.servo[0].angle=pan\n",
    "kit.servo[1].angle=tilt"
   ]
  },
  {
   "cell_type": "code",
   "execution_count": 4,
   "metadata": {},
   "outputs": [
    {
     "data": {
      "application/vnd.jupyter.widget-view+json": {
       "model_id": "d0b30a25b04c46d8ae90a40bd9c4253c",
       "version_major": 2,
       "version_minor": 0
      },
      "text/plain": [
       "IntSlider(value=96, description='hueLower：', max=179, min=96)"
      ]
     },
     "metadata": {},
     "output_type": "display_data"
    }
   ],
   "source": [
    "hueLower = widgets.IntSlider(min=96,max=179,step=1,description='hueLower：',value=96)\n",
    "\n",
    "display(hueLower)"
   ]
  },
  {
   "cell_type": "code",
   "execution_count": 5,
   "metadata": {},
   "outputs": [],
   "source": [
    "def Video_display():\n",
    "    while True:   \n",
    "        hueLow=hueLower.value \n",
    "        kit.servo[0].angle=hueLow\n",
    "        kit.servo[1].angle=hueLow\n"
   ]
  },
  {
   "cell_type": "code",
   "execution_count": 6,
   "metadata": {},
   "outputs": [],
   "source": [
    "t = threading.Thread(target=Video_display)\n",
    "t.start()"
   ]
  }
 ],
 "metadata": {
  "kernelspec": {
   "display_name": "Python 3",
   "language": "python",
   "name": "python3"
  },
  "language_info": {
   "codemirror_mode": {
    "name": "ipython",
    "version": 3
   },
   "file_extension": ".py",
   "mimetype": "text/x-python",
   "name": "python",
   "nbconvert_exporter": "python",
   "pygments_lexer": "ipython3",
   "version": "3.6.9"
  }
 },
 "nbformat": 4,
 "nbformat_minor": 4
}
