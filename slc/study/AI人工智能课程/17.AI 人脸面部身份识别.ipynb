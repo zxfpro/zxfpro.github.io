{
 "cells": [
  {
   "cell_type": "markdown",
   "metadata": {},
   "source": [
    "<center><img src=\"./imge/CLBLOGO.jpg\" alt=\"创乐博\" style=\"width: 300px;\"/></center>\n",
    "\n",
    "# 17.AI 人脸面部身份识别\n",
    "\n",
    "@－－－－湖南创乐博智能科技有限公司－－－－<br>\n",
    "@  文件名：17.AI 人脸面部身份识别.ipynb <br>\n",
    "@  版本：V2.0 <br>\n",
    "@  author: zhulin<br>\n",
    "@  说明：AI 人脸面部身份识别<br>"
   ]
  },
  {
   "cell_type": "markdown",
   "metadata": {},
   "source": [
    "## 1.人脸识别库识别人脸"
   ]
  },
  {
   "cell_type": "code",
   "execution_count": 1,
   "metadata": {},
   "outputs": [
    {
     "name": "stdout",
     "output_type": "stream",
     "text": [
      "4.1.1\n"
     ]
    }
   ],
   "source": [
    "import face_recognition\n",
    "import cv2\n",
    "print(cv2.__version__)"
   ]
  },
  {
   "cell_type": "code",
   "execution_count": 2,
   "metadata": {},
   "outputs": [],
   "source": [
    "# 线程函数操作库\n",
    "import threading # 线程\n",
    "import ctypes\n",
    "import inspect\n",
    "\n",
    "# 线程结束代码\n",
    "def _async_raise(tid, exctype):\n",
    "    tid = ctypes.c_long(tid)\n",
    "    if not inspect.isclass(exctype):\n",
    "        exctype = type(exctype)\n",
    "    res = ctypes.pythonapi.PyThreadState_SetAsyncExc(tid, ctypes.py_object(exctype))\n",
    "    if res == 0:\n",
    "        raise ValueError(\"invalid thread id\")\n",
    "    elif res != 1:\n",
    "        ctypes.pythonapi.PyThreadState_SetAsyncExc(tid, None)\n",
    "        raise SystemError(\"PyThreadState_SetAsyncExc failed\")\n",
    "        \n",
    "def stop_thread(thread):\n",
    "    _async_raise(thread.ident, SystemExit)"
   ]
  },
  {
   "cell_type": "code",
   "execution_count": 3,
   "metadata": {},
   "outputs": [
    {
     "data": {
      "application/vnd.jupyter.widget-view+json": {
       "model_id": "a09695c527b84cb0a17d88e9090b06be",
       "version_major": 2,
       "version_minor": 0
      },
      "text/plain": [
       "Image(value=b'', format='jpeg', height='480', width='640')"
      ]
     },
     "metadata": {},
     "output_type": "display_data"
    }
   ],
   "source": [
    "# 创建显示控件\n",
    "from jetcam.utils import bgr8_to_jpeg\n",
    "import traitlets\n",
    "import ipywidgets.widgets as widgets\n",
    "from IPython.display import display\n",
    "face_imge = widgets.Image(format='jpeg', width=640, height=480)\n",
    "display(face_imge)"
   ]
  },
  {
   "cell_type": "code",
   "execution_count": 4,
   "metadata": {},
   "outputs": [
    {
     "name": "stdout",
     "output_type": "stream",
     "text": [
      "[(415, 613, 638, 390)]\n"
     ]
    }
   ],
   "source": [
    "image=face_recognition.load_image_file('./unknown/u13.jpg')\n",
    "face_locations=face_recognition.face_locations(image)\n",
    "print(face_locations)\n",
    "image=cv2.cvtColor(image,cv2.COLOR_RGB2BGR)\n",
    "for(row1,col1,row2,col2) in face_locations:\n",
    "    cv2.rectangle(image,(col1,row1),(col2,row2),(0,0,255),2)\n",
    "face_imge.value = bgr8_to_jpeg(image)"
   ]
  },
  {
   "cell_type": "markdown",
   "metadata": {},
   "source": [
    "## 2.人脸身份识别"
   ]
  },
  {
   "cell_type": "code",
   "execution_count": 5,
   "metadata": {},
   "outputs": [
    {
     "name": "stdout",
     "output_type": "stream",
     "text": [
      "4.1.1\n"
     ]
    }
   ],
   "source": [
    "import face_recognition\n",
    "import cv2\n",
    "print(cv2.__version__)"
   ]
  },
  {
   "cell_type": "code",
   "execution_count": 6,
   "metadata": {},
   "outputs": [
    {
     "data": {
      "application/vnd.jupyter.widget-view+json": {
       "model_id": "44518478dbc54d01ac6a6579e5a99818",
       "version_major": 2,
       "version_minor": 0
      },
      "text/plain": [
       "Image(value=b'', format='jpeg', height='480', width='640')"
      ]
     },
     "metadata": {},
     "output_type": "display_data"
    }
   ],
   "source": [
    "# 创建显示控件\n",
    "from jetcam.utils import bgr8_to_jpeg\n",
    "import traitlets\n",
    "import ipywidgets.widgets as widgets\n",
    "from IPython.display import display\n",
    "face_imge1 = widgets.Image(format='jpeg', width=640, height=480)\n",
    "display(face_imge1)"
   ]
  },
  {
   "cell_type": "code",
   "execution_count": 7,
   "metadata": {},
   "outputs": [],
   "source": [
    "donFace=face_recognition.load_image_file('./known/Donald Trump.jpg')\n",
    "donEncode = face_recognition.face_encodings(donFace)[0]\n",
    "\n",
    "nancyFace=face_recognition.load_image_file('./known/Nancy Pelosi.jpg')\n",
    "nancyEncode = face_recognition.face_encodings(nancyFace)[0]\n",
    "\n",
    "penceFace=face_recognition.load_image_file('./known/Mike Pence.jpg')\n",
    "penceEncode = face_recognition.face_encodings(penceFace)[0]\n",
    "\n",
    "zhulinFace=face_recognition.load_image_file('./known/zhulin.jpg')\n",
    "zhulinEncode = face_recognition.face_encodings(zhulinFace)[0]\n",
    "\n",
    "Encodings=[donEncode,nancyEncode,penceEncode,zhulinEncode]\n",
    "Names=['The Donald','Nancy Pelosi','Mike Pence','zhulin']\n",
    "\n",
    "font = cv2.FONT_HERSHEY_SIMPLEX\n",
    "testImage=face_recognition.load_image_file('./unknown/u13.jpg')\n",
    "facePositions=face_recognition.face_locations(testImage)\n",
    "allEncodings=face_recognition.face_encodings(testImage,facePositions)\n",
    "\n",
    "testImage=cv2.cvtColor(testImage,cv2.COLOR_RGB2BGR)"
   ]
  },
  {
   "cell_type": "code",
   "execution_count": 8,
   "metadata": {},
   "outputs": [],
   "source": [
    "for (top,right,bottom,left),face_encoding in zip(facePositions,allEncodings):\n",
    "    name='Unknown Person'\n",
    "    matches=face_recognition.compare_faces(Encodings,face_encoding)\n",
    "    if True in matches:\n",
    "        first_match_index=matches.index(True)\n",
    "        name=Names[first_match_index]\n",
    "    cv2.rectangle(testImage,(left,top),(right,bottom),(0,0,255),2)\n",
    "    cv2.putText(testImage,name,(left,top-6),font,.75,(0,255,255),2)\n",
    "face_imge1.value = bgr8_to_jpeg(testImage)"
   ]
  },
  {
   "cell_type": "markdown",
   "metadata": {},
   "source": [
    "## 3.人脸身份识别2"
   ]
  },
  {
   "cell_type": "code",
   "execution_count": 9,
   "metadata": {},
   "outputs": [
    {
     "name": "stdout",
     "output_type": "stream",
     "text": [
      "4.1.1\n"
     ]
    }
   ],
   "source": [
    "import face_recognition\n",
    "import cv2\n",
    "import os\n",
    "print(cv2.__version__)"
   ]
  },
  {
   "cell_type": "code",
   "execution_count": 10,
   "metadata": {},
   "outputs": [],
   "source": [
    "Encodings=[]\n",
    "Names=[]\n",
    "j=0"
   ]
  },
  {
   "cell_type": "code",
   "execution_count": 11,
   "metadata": {},
   "outputs": [
    {
     "data": {
      "application/vnd.jupyter.widget-view+json": {
       "model_id": "dda0a766d0664bf58649eb8499219b73",
       "version_major": 2,
       "version_minor": 0
      },
      "text/plain": [
       "Image(value=b'', format='jpeg', height='480', width='640')"
      ]
     },
     "metadata": {},
     "output_type": "display_data"
    }
   ],
   "source": [
    "# 创建显示控件\n",
    "from jetcam.utils import bgr8_to_jpeg\n",
    "import traitlets\n",
    "import ipywidgets.widgets as widgets\n",
    "from IPython.display import display\n",
    "face_imge2 = widgets.Image(format='jpeg', width=640, height=480)\n",
    "display(face_imge2)"
   ]
  },
  {
   "cell_type": "code",
   "execution_count": 12,
   "metadata": {},
   "outputs": [
    {
     "name": "stdout",
     "output_type": "stream",
     "text": [
      "['Bill Barr.jpg', 'Anthony Fauci.jpg', 'Dr Birx.jpg', 'Charleton Heston.jpg', 'Chuck Schumer.jpg', 'Chase.jpg', 'Nancy Pelosi.jpg', 'Mike Pence.jpg', 'zhulin.jpg', 'Ronald Reagan.jpg', 'Donald Trump.jpg', 'Seema Verma.jpg', 'Surgeon General.jpg']\n",
      "./known/Bill Barr.jpg\n",
      "Bill Barr\n",
      "./known/Anthony Fauci.jpg\n",
      "Anthony Fauci\n",
      "./known/Dr Birx.jpg\n",
      "Dr Birx\n",
      "./known/Charleton Heston.jpg\n",
      "Charleton Heston\n",
      "./known/Chuck Schumer.jpg\n",
      "Chuck Schumer\n",
      "./known/Chase.jpg\n",
      "Chase\n",
      "./known/Nancy Pelosi.jpg\n",
      "Nancy Pelosi\n",
      "./known/Mike Pence.jpg\n",
      "Mike Pence\n",
      "./known/zhulin.jpg\n",
      "zhulin\n",
      "./known/Ronald Reagan.jpg\n",
      "Ronald Reagan\n",
      "./known/Donald Trump.jpg\n",
      "Donald Trump\n",
      "./known/Seema Verma.jpg\n",
      "Seema Verma\n",
      "./known/Surgeon General.jpg\n",
      "Surgeon General\n",
      "['Bill Barr', 'Anthony Fauci', 'Dr Birx', 'Charleton Heston', 'Chuck Schumer', 'Chase', 'Nancy Pelosi', 'Mike Pence', 'zhulin', 'Ronald Reagan', 'Donald Trump', 'Seema Verma', 'Surgeon General']\n",
      "./unknown\n",
      "u1.jpg\n",
      "./unknown\n",
      "u8.jpg\n",
      "./unknown\n",
      "u12.jpg\n",
      "./unknown\n",
      "u4.jpg\n",
      "./unknown\n",
      "u7.jpg\n",
      "./unknown\n",
      "u6.jpg\n",
      "./unknown\n",
      "u5.jpg\n",
      "./unknown\n",
      "u10.jpg\n",
      "./unknown\n",
      "u9.jpg\n",
      "./unknown\n",
      "u3.jpg\n",
      "./unknown\n",
      "u13.jpg\n",
      "./unknown\n",
      "u2.jpg\n",
      "./unknown\n",
      "u11.jpg\n",
      "./unknown/.ipynb_checkpoints\n",
      "u3-checkpoint.jpg\n",
      "./unknown/.ipynb_checkpoints\n",
      "u4-checkpoint.jpg\n",
      "./unknown/.ipynb_checkpoints\n",
      "u12-checkpoint.jpg\n",
      "./unknown/.ipynb_checkpoints\n",
      "u1-checkpoint.jpg\n",
      "./unknown/.ipynb_checkpoints\n",
      "u11-checkpoint.jpg\n",
      "./unknown/.ipynb_checkpoints\n",
      "u9-checkpoint.jpg\n",
      "./unknown/.ipynb_checkpoints\n",
      "u10-checkpoint.jpg\n",
      "./unknown/.ipynb_checkpoints\n",
      "u2-checkpoint.jpg\n",
      "./unknown/.ipynb_checkpoints\n",
      "u6-checkpoint.jpg\n",
      "./unknown/.ipynb_checkpoints\n",
      "u7-checkpoint.jpg\n",
      "./unknown/.ipynb_checkpoints\n",
      "u8-checkpoint.jpg\n",
      "./unknown/.ipynb_checkpoints\n",
      "u5-checkpoint.jpg\n"
     ]
    }
   ],
   "source": [
    "image_dir='./known'\n",
    "for root,dirs,files in os.walk(image_dir):\n",
    "    print(files)\n",
    "    for file in files:\n",
    "        path = os.path.join(root,file)\n",
    "        print(path)\n",
    "        name=os.path.splitext(file)[0]\n",
    "        print(name)\n",
    "        person=face_recognition.load_image_file(path)\n",
    "        encoding=face_recognition.face_encodings(person)[0]\n",
    "        Encodings.append(encoding)\n",
    "        Names.append(name)\n",
    "print(Names)\n",
    "\n",
    "font=cv2.FONT_HERSHEY_SIMPLEX\n",
    "image_dir='./unknown'\n",
    "for root,dirs,files in os.walk(image_dir):\n",
    "    for file in files:\n",
    "        print(root)\n",
    "        print(file)\n",
    "        testImagePath=os.path.join(root,file)\n",
    "        testImage=face_recognition.load_image_file(testImagePath)\n",
    "        facePositions=face_recognition.face_locations(testImage)\n",
    "        allEncodings=face_recognition.face_encodings(testImage,facePositions)\n",
    "        testImage=cv2.cvtColor(testImage,cv2.COLOR_RGB2BGR)  \n",
    "        for (top,right,bottom,left),face_encoding in zip(facePositions,allEncodings):\n",
    "            name='Unknown Person'\n",
    "            matches=face_recognition.compare_faces(Encodings,face_encoding)\n",
    "            if True in matches:\n",
    "                first_match_index=matches.index(True)\n",
    "                name=Names[first_match_index]\n",
    "            cv2.rectangle(testImage,(left,top),(right,bottom),(0,0,255),2)\n",
    "            cv2.putText(testImage,name,(left,top-6),font,.75,(0,255,255),2)\n",
    "        face_imge2.value = bgr8_to_jpeg(testImage)"
   ]
  },
  {
   "cell_type": "markdown",
   "metadata": {},
   "source": [
    "## 4.在OpenCV中训练面部识别模型\n",
    "生成训练模型"
   ]
  },
  {
   "cell_type": "code",
   "execution_count": 13,
   "metadata": {},
   "outputs": [
    {
     "name": "stdout",
     "output_type": "stream",
     "text": [
      "4.1.1\n"
     ]
    }
   ],
   "source": [
    "import face_recognition\n",
    "import cv2\n",
    "import os\n",
    "import pickle\n",
    "print(cv2.__version__)"
   ]
  },
  {
   "cell_type": "code",
   "execution_count": 14,
   "metadata": {},
   "outputs": [],
   "source": [
    "Encodings=[]\n",
    "Names=[]\n",
    "j=0"
   ]
  },
  {
   "cell_type": "code",
   "execution_count": 15,
   "metadata": {},
   "outputs": [
    {
     "data": {
      "application/vnd.jupyter.widget-view+json": {
       "model_id": "99acf1f448c64343a1c1f62fbceb9fdd",
       "version_major": 2,
       "version_minor": 0
      },
      "text/plain": [
       "Image(value=b'', format='jpeg', height='480', width='640')"
      ]
     },
     "metadata": {},
     "output_type": "display_data"
    }
   ],
   "source": [
    "# 创建显示控件\n",
    "from jetcam.utils import bgr8_to_jpeg\n",
    "import traitlets\n",
    "import ipywidgets.widgets as widgets\n",
    "from IPython.display import display\n",
    "face_imge3 = widgets.Image(format='jpeg', width=640, height=480)\n",
    "display(face_imge3)"
   ]
  },
  {
   "cell_type": "code",
   "execution_count": 16,
   "metadata": {},
   "outputs": [
    {
     "name": "stdout",
     "output_type": "stream",
     "text": [
      "['Bill Barr.jpg', 'Anthony Fauci.jpg', 'Dr Birx.jpg', 'Charleton Heston.jpg', 'Chuck Schumer.jpg', 'Chase.jpg', 'Nancy Pelosi.jpg', 'Mike Pence.jpg', 'zhulin.jpg', 'Ronald Reagan.jpg', 'Donald Trump.jpg', 'Seema Verma.jpg', 'Surgeon General.jpg']\n",
      "./known/Bill Barr.jpg\n",
      "Bill Barr\n",
      "./known/Anthony Fauci.jpg\n",
      "Anthony Fauci\n",
      "./known/Dr Birx.jpg\n",
      "Dr Birx\n",
      "./known/Charleton Heston.jpg\n",
      "Charleton Heston\n",
      "./known/Chuck Schumer.jpg\n",
      "Chuck Schumer\n",
      "./known/Chase.jpg\n",
      "Chase\n",
      "./known/Nancy Pelosi.jpg\n",
      "Nancy Pelosi\n",
      "./known/Mike Pence.jpg\n",
      "Mike Pence\n",
      "./known/zhulin.jpg\n",
      "zhulin\n",
      "./known/Ronald Reagan.jpg\n",
      "Ronald Reagan\n",
      "./known/Donald Trump.jpg\n",
      "Donald Trump\n",
      "./known/Seema Verma.jpg\n",
      "Seema Verma\n",
      "./known/Surgeon General.jpg\n",
      "Surgeon General\n",
      "['Bill Barr', 'Anthony Fauci', 'Dr Birx', 'Charleton Heston', 'Chuck Schumer', 'Chase', 'Nancy Pelosi', 'Mike Pence', 'zhulin', 'Ronald Reagan', 'Donald Trump', 'Seema Verma', 'Surgeon General']\n"
     ]
    }
   ],
   "source": [
    "image_dir='./known'\n",
    "for root,dirs,files in os.walk(image_dir):\n",
    "    print(files)\n",
    "    for file in files:\n",
    "        path = os.path.join(root,file)\n",
    "        print(path)\n",
    "        name=os.path.splitext(file)[0]\n",
    "        print(name)\n",
    "        person=face_recognition.load_image_file(path)\n",
    "        encoding=face_recognition.face_encodings(person)[0]\n",
    "        Encodings.append(encoding)\n",
    "        Names.append(name)\n",
    "print(Names)\n",
    "\n",
    "with open('train.pkl','wb') as f:\n",
    "    pickle.dump(Names,f)\n",
    "    pickle.dump(Encodings,f)\n",
    "Encodings=[]\n",
    "Names=[]\n",
    "with open('train.pkl','rb') as f:\n",
    "    Names=pickle.load(f)\n",
    "    Encodings=pickle.load(f)\n",
    "    \n",
    "font=cv2.FONT_HERSHEY_SIMPLEX\n",
    "image_dir='./unknown'"
   ]
  },
  {
   "cell_type": "code",
   "execution_count": 17,
   "metadata": {},
   "outputs": [
    {
     "name": "stdout",
     "output_type": "stream",
     "text": [
      "./unknown\n",
      "u1.jpg\n",
      "./unknown\n",
      "u8.jpg\n",
      "./unknown\n",
      "u12.jpg\n",
      "./unknown\n",
      "u4.jpg\n",
      "./unknown\n",
      "u7.jpg\n",
      "./unknown\n",
      "u6.jpg\n",
      "./unknown\n",
      "u5.jpg\n",
      "./unknown\n",
      "u10.jpg\n",
      "./unknown\n",
      "u9.jpg\n",
      "./unknown\n",
      "u3.jpg\n",
      "./unknown\n",
      "u13.jpg\n",
      "./unknown\n",
      "u2.jpg\n",
      "./unknown\n",
      "u11.jpg\n",
      "./unknown/.ipynb_checkpoints\n",
      "u3-checkpoint.jpg\n",
      "./unknown/.ipynb_checkpoints\n",
      "u4-checkpoint.jpg\n",
      "./unknown/.ipynb_checkpoints\n",
      "u12-checkpoint.jpg\n",
      "./unknown/.ipynb_checkpoints\n",
      "u1-checkpoint.jpg\n",
      "./unknown/.ipynb_checkpoints\n",
      "u11-checkpoint.jpg\n",
      "./unknown/.ipynb_checkpoints\n",
      "u9-checkpoint.jpg\n",
      "./unknown/.ipynb_checkpoints\n",
      "u10-checkpoint.jpg\n",
      "./unknown/.ipynb_checkpoints\n",
      "u2-checkpoint.jpg\n",
      "./unknown/.ipynb_checkpoints\n",
      "u6-checkpoint.jpg\n",
      "./unknown/.ipynb_checkpoints\n",
      "u7-checkpoint.jpg\n",
      "./unknown/.ipynb_checkpoints\n",
      "u8-checkpoint.jpg\n",
      "./unknown/.ipynb_checkpoints\n",
      "u5-checkpoint.jpg\n"
     ]
    }
   ],
   "source": [
    "for root,dirs,files in os.walk(image_dir):\n",
    "    for file in files:\n",
    "        print(root)\n",
    "        print(file)\n",
    "        testImagePath=os.path.join(root,file)\n",
    "        testImage=face_recognition.load_image_file(testImagePath)\n",
    "        facePositions=face_recognition.face_locations(testImage)\n",
    "        allEncodings=face_recognition.face_encodings(testImage,facePositions)\n",
    "        testImage=cv2.cvtColor(testImage,cv2.COLOR_RGB2BGR)  \n",
    "        for (top,right,bottom,left),face_encoding in zip(facePositions,allEncodings):\n",
    "            name='Unknown Person'\n",
    "            matches=face_recognition.compare_faces(Encodings,face_encoding)\n",
    "            if True in matches:\n",
    "                first_match_index=matches.index(True)\n",
    "                name=Names[first_match_index]\n",
    "            cv2.rectangle(testImage,(left,top),(right,bottom),(0,0,255),2)\n",
    "            cv2.putText(testImage,name,(left,top-6),font,.75,(0,255,255),2)\n",
    "        face_imge3.value = bgr8_to_jpeg(testImage)"
   ]
  },
  {
   "cell_type": "markdown",
   "metadata": {},
   "source": [
    "## 5.在OpenCV中直接调用面部识别训练模型\n",
    "直接导入模型进行识别"
   ]
  },
  {
   "cell_type": "code",
   "execution_count": 18,
   "metadata": {},
   "outputs": [
    {
     "name": "stdout",
     "output_type": "stream",
     "text": [
      "4.1.1\n"
     ]
    }
   ],
   "source": [
    "import face_recognition\n",
    "import cv2\n",
    "import os\n",
    "import pickle\n",
    "print(cv2.__version__)"
   ]
  },
  {
   "cell_type": "code",
   "execution_count": 19,
   "metadata": {},
   "outputs": [],
   "source": [
    "j=0\n",
    "Encodings=[]\n",
    "Names=[]"
   ]
  },
  {
   "cell_type": "code",
   "execution_count": 20,
   "metadata": {},
   "outputs": [
    {
     "data": {
      "application/vnd.jupyter.widget-view+json": {
       "model_id": "a7eb8ba8bfdf440cacb45c2038c01ed7",
       "version_major": 2,
       "version_minor": 0
      },
      "text/plain": [
       "Image(value=b'', format='jpeg', height='480', width='640')"
      ]
     },
     "metadata": {},
     "output_type": "display_data"
    }
   ],
   "source": [
    "# 创建显示控件\n",
    "from jetcam.utils import bgr8_to_jpeg\n",
    "import traitlets\n",
    "import ipywidgets.widgets as widgets\n",
    "from IPython.display import display\n",
    "face_imge4 = widgets.Image(format='jpeg', width=640, height=480)\n",
    "display(face_imge4)"
   ]
  },
  {
   "cell_type": "code",
   "execution_count": 21,
   "metadata": {},
   "outputs": [],
   "source": [
    "with open('train.pkl','rb') as f:\n",
    "    Names=pickle.load(f)\n",
    "    Encodings=pickle.load(f)\n",
    "    \n",
    "font=cv2.FONT_HERSHEY_SIMPLEX\n",
    "image_dir='./unknown'"
   ]
  },
  {
   "cell_type": "code",
   "execution_count": 22,
   "metadata": {},
   "outputs": [
    {
     "name": "stdout",
     "output_type": "stream",
     "text": [
      "./unknown\n",
      "u1.jpg\n",
      "./unknown\n",
      "u8.jpg\n",
      "./unknown\n",
      "u12.jpg\n",
      "./unknown\n",
      "u4.jpg\n",
      "./unknown\n",
      "u7.jpg\n",
      "./unknown\n",
      "u6.jpg\n",
      "./unknown\n",
      "u5.jpg\n",
      "./unknown\n",
      "u10.jpg\n",
      "./unknown\n",
      "u9.jpg\n",
      "./unknown\n",
      "u3.jpg\n",
      "./unknown\n",
      "u13.jpg\n",
      "./unknown\n",
      "u2.jpg\n",
      "./unknown\n",
      "u11.jpg\n",
      "./unknown/.ipynb_checkpoints\n",
      "u3-checkpoint.jpg\n",
      "./unknown/.ipynb_checkpoints\n",
      "u4-checkpoint.jpg\n",
      "./unknown/.ipynb_checkpoints\n",
      "u12-checkpoint.jpg\n",
      "./unknown/.ipynb_checkpoints\n",
      "u1-checkpoint.jpg\n",
      "./unknown/.ipynb_checkpoints\n",
      "u11-checkpoint.jpg\n",
      "./unknown/.ipynb_checkpoints\n",
      "u9-checkpoint.jpg\n",
      "./unknown/.ipynb_checkpoints\n",
      "u10-checkpoint.jpg\n",
      "./unknown/.ipynb_checkpoints\n",
      "u2-checkpoint.jpg\n",
      "./unknown/.ipynb_checkpoints\n",
      "u6-checkpoint.jpg\n",
      "./unknown/.ipynb_checkpoints\n",
      "u7-checkpoint.jpg\n",
      "./unknown/.ipynb_checkpoints\n",
      "u8-checkpoint.jpg\n",
      "./unknown/.ipynb_checkpoints\n",
      "u5-checkpoint.jpg\n"
     ]
    }
   ],
   "source": [
    "for root,dirs,files in os.walk(image_dir):\n",
    "    for file in files:\n",
    "        print(root)\n",
    "        print(file)\n",
    "        testImagePath=os.path.join(root,file)\n",
    "        testImage=face_recognition.load_image_file(testImagePath)\n",
    "        facePositions=face_recognition.face_locations(testImage)\n",
    "        allEncodings=face_recognition.face_encodings(testImage,facePositions)\n",
    "        testImage=cv2.cvtColor(testImage,cv2.COLOR_RGB2BGR)  \n",
    "        for (top,right,bottom,left),face_encoding in zip(facePositions,allEncodings):\n",
    "            name='Unknown Person'\n",
    "            matches=face_recognition.compare_faces(Encodings,face_encoding)\n",
    "            if True in matches:\n",
    "                first_match_index=matches.index(True)\n",
    "                name=Names[first_match_index]\n",
    "            cv2.rectangle(testImage,(left,top),(right,bottom),(0,0,255),2)\n",
    "            cv2.putText(testImage,name,(left,top-6),font,.75,(0,255,255),2)\n",
    "        face_imge4.value = bgr8_to_jpeg(testImage)"
   ]
  },
  {
   "cell_type": "markdown",
   "metadata": {},
   "source": [
    "## 6.通过摄像头进行面部身份识别"
   ]
  },
  {
   "cell_type": "code",
   "execution_count": 1,
   "metadata": {},
   "outputs": [
    {
     "name": "stdout",
     "output_type": "stream",
     "text": [
      "4.1.1\n"
     ]
    }
   ],
   "source": [
    "import face_recognition\n",
    "import cv2\n",
    "import os\n",
    "import pickle\n",
    "import time\n",
    "print(cv2.__version__)\n",
    "fpsReport=0\n",
    "scaleFactor=.25"
   ]
  },
  {
   "cell_type": "code",
   "execution_count": 2,
   "metadata": {},
   "outputs": [
    {
     "data": {
      "application/vnd.jupyter.widget-view+json": {
       "model_id": "6cf526d18d994dacbea9cef1397047f0",
       "version_major": 2,
       "version_minor": 0
      },
      "text/plain": [
       "Image(value=b'', format='jpeg')"
      ]
     },
     "metadata": {},
     "output_type": "display_data"
    }
   ],
   "source": [
    "# 创建显示控件\n",
    "from jetcam.utils import bgr8_to_jpeg\n",
    "import traitlets\n",
    "import ipywidgets.widgets as widgets\n",
    "from IPython.display import display\n",
    "face_imge5 = widgets.Image(format='jpeg')#, width=320, height=240)\n",
    "display(face_imge5)"
   ]
  },
  {
   "cell_type": "code",
   "execution_count": 3,
   "metadata": {},
   "outputs": [],
   "source": [
    "Encodings=[]\n",
    "Names=[]\n",
    "\n",
    "with open('train.pkl','rb') as f:\n",
    "    Names=pickle.load(f)\n",
    "    Encodings=pickle.load(f)\n",
    "\n",
    "font=cv2.FONT_HERSHEY_SIMPLEX\n",
    "dispW=640\n",
    "dispH=480\n",
    "flip=4\n",
    "camSet='nvarguscamerasrc !  video/x-raw(memory:NVMM), width=3264, height=2464, format=NV12, framerate=21/1 ! nvvidconv flip-method='+str(flip)+' ! video/x-raw, width='+str(dispW)+', height='+str(dispH)+', format=BGRx ! videoconvert ! video/x-raw, format=BGR ! appsink'\n",
    "cam= cv2.VideoCapture(camSet)  \n",
    "timeStamp=time.time()"
   ]
  },
  {
   "cell_type": "code",
   "execution_count": null,
   "metadata": {},
   "outputs": [],
   "source": [
    "while True:\n",
    "    _,frame = cam.read()\n",
    "    frameSmall=cv2.resize(frame,(0,0),fx=scaleFactor,fy=scaleFactor)\n",
    "    frameRGB=cv2.cvtColor(frameSmall,cv2.COLOR_BGR2RGB)\n",
    "    facePositions=face_recognition.face_locations(frameRGB,model='cnn')\n",
    "    allEncodings=face_recognition.face_encodings(frameRGB,facePositions)\n",
    "    for (top,right,bottom,left),face_encoding in zip(facePositions,allEncodings):\n",
    "        name='Unkown Person'\n",
    "        matches=face_recognition.compare_faces(Encodings,face_encoding)\n",
    "        if True in matches:\n",
    "            first_match_index=matches.index(True)\n",
    "            name=Names[first_match_index]\n",
    "            \n",
    "        top=int(top/scaleFactor)\n",
    "        right=int(right/scaleFactor)\n",
    "        bottom=int(bottom/scaleFactor)\n",
    "        left=int(left/scaleFactor)\n",
    "        \n",
    "        cv2.rectangle(frame,(left,top),(right,bottom),(0,0,255),2)\n",
    "        cv2.putText(frame,name,(left,top-6),font,.75,(0,0,255),2)\n",
    "        \n",
    "    dt = time.time()-timeStamp\n",
    "    fps=1/dt\n",
    "    fpsReport=.90*fpsReport + .1*fps\n",
    "    #print('fps is:',round(fpsReport))\n",
    "    timeStamp=time.time()\n",
    "    cv2.rectangle(frame,(0,0),(100,40),(0,0,255),-1)\n",
    "    cv2.putText(frame,str(round(fpsReport,1)) + 'fps',(0,25),font,.75,(0,255,255,2))\n",
    "    face_imge5.value = bgr8_to_jpeg(frame)"
   ]
  },
  {
   "cell_type": "code",
   "execution_count": null,
   "metadata": {},
   "outputs": [],
   "source": []
  }
 ],
 "metadata": {
  "kernelspec": {
   "display_name": "Python 3",
   "language": "python",
   "name": "python3"
  },
  "language_info": {
   "codemirror_mode": {
    "name": "ipython",
    "version": 3
   },
   "file_extension": ".py",
   "mimetype": "text/x-python",
   "name": "python",
   "nbconvert_exporter": "python",
   "pygments_lexer": "ipython3",
   "version": "3.6.9"
  }
 },
 "nbformat": 4,
 "nbformat_minor": 4
}
