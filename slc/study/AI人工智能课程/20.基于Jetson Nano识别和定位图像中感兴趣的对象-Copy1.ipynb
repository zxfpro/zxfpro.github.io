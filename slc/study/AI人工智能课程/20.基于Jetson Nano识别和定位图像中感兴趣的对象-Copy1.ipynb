{
 "cells": [
  {
   "cell_type": "markdown",
   "metadata": {},
   "source": [
    "<center><img src=\"./imge/CLBLOGO.jpg\" alt=\"创乐博\" style=\"width: 300px;\"/></center>\n",
    "\n",
    "# 20.基于Jetson Nano识别和定位图像中感兴趣的对象\n",
    "\n",
    "@－－－－湖南创乐博智能科技有限公司－－－－<br>\n",
    "@  文件名：20.基于Jetson Nano识别和定位图像中感兴趣的对象.ipynb <br>\n",
    "@  版本：V2.0 <br>\n",
    "@  author: zhulin<br>\n",
    "@  说明：基于Jetson Nano识别和定位图像中感兴趣的对象<br>"
   ]
  },
  {
   "cell_type": "code",
   "execution_count": null,
   "metadata": {},
   "outputs": [],
   "source": [
    "import cv2\n",
    "import jetson.inference\n",
    "import jetson.utils\n",
    "import time\n",
    "import numpy as np"
   ]
  },
  {
   "cell_type": "code",
   "execution_count": 1,
   "metadata": {},
   "outputs": [
    {
     "ename": "NameError",
     "evalue": "name 'time' is not defined",
     "output_type": "error",
     "traceback": [
      "\u001b[0;31m---------------------------------------------------------------------------\u001b[0m",
      "\u001b[0;31mNameError\u001b[0m                                 Traceback (most recent call last)",
      "\u001b[0;32m<ipython-input-1-dd5eb6c8e279>\u001b[0m in \u001b[0;36m<module>\u001b[0;34m\u001b[0m\n\u001b[0;32m----> 1\u001b[0;31m \u001b[0mtimeStamp\u001b[0m\u001b[0;34m=\u001b[0m \u001b[0mtime\u001b[0m\u001b[0;34m.\u001b[0m\u001b[0mtime\u001b[0m\u001b[0;34m(\u001b[0m\u001b[0;34m)\u001b[0m\u001b[0;34m\u001b[0m\u001b[0;34m\u001b[0m\u001b[0m\n\u001b[0m\u001b[1;32m      2\u001b[0m \u001b[0mfpsFiltered\u001b[0m\u001b[0;34m=\u001b[0m\u001b[0;36m0\u001b[0m\u001b[0;34m\u001b[0m\u001b[0;34m\u001b[0m\u001b[0m\n",
      "\u001b[0;31mNameError\u001b[0m: name 'time' is not defined"
     ]
    }
   ],
   "source": [
    "timeStamp= time.time()\n",
    "fpsFiltered=0"
   ]
  },
  {
   "cell_type": "code",
   "execution_count": null,
   "metadata": {},
   "outputs": [],
   "source": [
    "from jetcam.utils import bgr8_to_jpeg\n",
    "import traitlets\n",
    "import ipywidgets.widgets as widgets\n",
    "from IPython.display import display\n",
    "\n",
    "frame_img = widgets.Image(format='jpeg', width=1280, height=720)\n",
    "display(frame_img)"
   ]
  },
  {
   "cell_type": "code",
   "execution_count": null,
   "metadata": {},
   "outputs": [],
   "source": [
    "net=jetson.inference.detectNet('ssd-mobilenet-v2',threshold=.5)\n",
    "dispW=1280\n",
    "dispH=720\n",
    "flip=4\n",
    "font=cv2.FONT_HERSHEY_SIMPLEX\n",
    "\n",
    "# Gstreamer code for improvded Raspberry Pi Camera Quality\n",
    "camSet='nvarguscamerasrc wbmode=3 tnr-mode=2 tnr-strength=1 ee-mode=2 ee-strength=1 ! video/x-raw(memory:NVMM), width=3264, height=2464, format=NV12, framerate=21/1 ! nvvidconv flip-method='+str(flip)+' ! video/x-raw, width='+str(dispW)+', height='+str(dispH)+', format=BGRx ! videoconvert ! video/x-raw, format=BGR ! videobalance contrast=1.5 brightness=-.2 saturation=1.2 ! appsink'\n",
    "cam=cv2.VideoCapture(camSet)\n",
    "\n",
    "while True:\n",
    "    _,img = cam.read()\n",
    "    height= img.shape[0]\n",
    "    width=  img.shape[1]\n",
    "    \n",
    "    frame=cv2.cvtColor(img,cv2.COLOR_BGR2RGBA).astype(np.float32)\n",
    "    frame=jetson.utils.cudaFromNumpy(frame)\n",
    "    detections=net.Detect(frame,width,height)\n",
    "    \n",
    "    for detect in detections:\n",
    "        #print(detect)\n",
    "        ID=detect.ClassID\n",
    "        top=int(detect.Top)\n",
    "        left=int(detect.Left)\n",
    "        bottom=int(detect.Bottom)\n",
    "        right=int(detect.Right)\n",
    "        item=net.GetClassDesc(ID)\n",
    "        tk=1\n",
    "        if item == 'cat': # 识别猫\n",
    "            tk = -1\n",
    "        cv2.rectangle(img,(left,top),(right,bottom),(0,255,0),tk)\n",
    "        cv2.putText(img,item,(left,top+20),font,.75,(0,0,255),2)\n",
    "        \n",
    "        #print(item,top,left,bottom,right)\n",
    "    \n",
    "    #print(str(round(fps,1))+' fps ')\n",
    "    dt=time.time()-timeStamp\n",
    "    timeStamp=time.time()\n",
    "    fps=1/dt\n",
    "    fpsFiltered=.9*fpsFiltered + .1*fps\n",
    "    cv2.putText(img,str(round(fpsFiltered,1)) + ' fps ',(0,30),font,1,(0,0,255),2)\n",
    "    frame_img.value = bgr8_to_jpeg(img)"
   ]
  }
 ],
 "metadata": {
  "kernelspec": {
   "display_name": "Python 3",
   "language": "python",
   "name": "python3"
  },
  "language_info": {
   "codemirror_mode": {
    "name": "ipython",
    "version": 3
   },
   "file_extension": ".py",
   "mimetype": "text/x-python",
   "name": "python",
   "nbconvert_exporter": "python",
   "pygments_lexer": "ipython3",
   "version": "3.6.9"
  }
 },
 "nbformat": 4,
 "nbformat_minor": 4
}
