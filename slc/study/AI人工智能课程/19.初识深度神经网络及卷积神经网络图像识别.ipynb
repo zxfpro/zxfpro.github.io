{
 "cells": [
  {
   "cell_type": "markdown",
   "metadata": {},
   "source": [
    "<center><img src=\"./imge/CLBLOGO.jpg\" alt=\"创乐博\" style=\"width: 300px;\"/></center>\n",
    "\n",
    "# 19.初识深度神经网络及卷积神经网络图像识别\n",
    "\n",
    "@－－－－湖南创乐博智能科技有限公司－－－－<br>\n",
    "@  文件名：19.初识深度神经网络及卷积神经网络图像识别.ipynb <br>\n",
    "@  版本：V2.0 <br>\n",
    "@  author: zhulin<br>\n",
    "@  说明：初识深度神经网络及卷积神经网络图像识别<br>"
   ]
  },
  {
   "cell_type": "code",
   "execution_count": 1,
   "metadata": {},
   "outputs": [],
   "source": [
    "import cv2\n",
    "import jetson.inference\n",
    "import jetson.utils\n",
    "import numpy as np\n",
    "import time"
   ]
  },
  {
   "cell_type": "code",
   "execution_count": 2,
   "metadata": {},
   "outputs": [],
   "source": [
    "width=1280\n",
    "height=720\n",
    "\n",
    "cam=jetson.utils.gstCamera(width,height,'0')\n",
    "net=jetson.inference.imageNet('googlenet')\n",
    "#net=jetson.inference.imageNet('alexnet') \n",
    "font=cv2.FONT_HERSHEY_SIMPLEX\n",
    "timeMark=time.time()\n",
    "fpsFilter=0"
   ]
  },
  {
   "cell_type": "code",
   "execution_count": 3,
   "metadata": {},
   "outputs": [
    {
     "data": {
      "application/vnd.jupyter.widget-view+json": {
       "model_id": "7dbd2af3123f40198e6d4155ad1710d6",
       "version_major": 2,
       "version_minor": 0
      },
      "text/plain": [
       "Image(value=b'', format='jpeg', height='720', width='1280')"
      ]
     },
     "metadata": {},
     "output_type": "display_data"
    }
   ],
   "source": [
    "from jetcam.utils import bgr8_to_jpeg\n",
    "import traitlets\n",
    "import ipywidgets.widgets as widgets\n",
    "from IPython.display import display\n",
    "\n",
    "frame_img = widgets.Image(format='jpeg', width=1280, height=720)\n",
    "display(frame_img)"
   ]
  },
  {
   "cell_type": "code",
   "execution_count": null,
   "metadata": {},
   "outputs": [],
   "source": [
    "while True:\n",
    "    frame,width,height=cam.CaptureRGBA(zeroCopy=1)\n",
    "    classID,confidence=net.Classify(frame,width,height)\n",
    "    item=net.GetClassDesc(classID)\n",
    "    dt=time.time()-timeMark\n",
    "    fps=1/dt\n",
    "    fpsFilter=.95*fpsFilter + .05*fps\n",
    "    timeMark=time.time()\n",
    "    frame=jetson.utils.cudaToNumpy(frame,width,height,4)\n",
    "    frame=cv2.cvtColor(frame,cv2.COLOR_RGBA2BGR).astype(np.uint8)\n",
    "    cv2.putText(frame,str(round(fpsFilter,1))+' fps '+item,(0,30),font,1,(0,0,255),2)\n",
    "    frame_img.value = bgr8_to_jpeg(frame)"
   ]
  }
 ],
 "metadata": {
  "kernelspec": {
   "display_name": "Python 3",
   "language": "python",
   "name": "python3"
  },
  "language_info": {
   "codemirror_mode": {
    "name": "ipython",
    "version": 3
   },
   "file_extension": ".py",
   "mimetype": "text/x-python",
   "name": "python",
   "nbconvert_exporter": "python",
   "pygments_lexer": "ipython3",
   "version": "3.6.9"
  }
 },
 "nbformat": 4,
 "nbformat_minor": 4
}
