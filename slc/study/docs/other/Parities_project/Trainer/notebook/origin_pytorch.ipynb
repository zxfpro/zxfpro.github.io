{
 "cells": [
  {
   "cell_type": "code",
   "execution_count": 1,
   "id": "0f116409-5535-4b97-b5dd-f680a66f06a2",
   "metadata": {},
   "outputs": [],
   "source": [
    "#origin pytorch"
   ]
  },
  {
   "cell_type": "code",
   "execution_count": 2,
   "id": "bad2c9fe-2b85-4f23-8f45-0c1ca669d733",
   "metadata": {},
   "outputs": [],
   "source": [
    "import torch "
   ]
  },
  {
   "cell_type": "code",
   "execution_count": 3,
   "id": "3a44a054-265f-49d3-8915-d6cf43237088",
   "metadata": {},
   "outputs": [],
   "source": [
    "import torch.nn as nn"
   ]
  },
  {
   "cell_type": "code",
   "execution_count": 4,
   "id": "935ab883-cf09-453a-aa7e-bdaba26f17e9",
   "metadata": {},
   "outputs": [],
   "source": [
    "import base"
   ]
  },
  {
   "cell_type": "code",
   "execution_count": 5,
   "id": "048f3350-66e8-4d2e-935f-0a4af21a6c0b",
   "metadata": {},
   "outputs": [],
   "source": [
    "import os\n",
    "\n",
    "import pandas as pd\n",
    "import numpy as np\n",
    "from pytorch_lightning import (\n",
    "    LightningDataModule,\n",
    ")\n",
    "import torch\n",
    "import torch.utils.data as torch_data\n",
    "from esig import tosig\n",
    "from sklearn.preprocessing import MinMaxScaler\n"
   ]
  },
  {
   "cell_type": "code",
   "execution_count": 6,
   "id": "69098b35-bf49-4688-aa78-482e91c7419e",
   "metadata": {},
   "outputs": [],
   "source": [
    "def leadlag(X):\n",
    "    lag = []\n",
    "    lead = []\n",
    "\n",
    "    for val_lag, val_lead in zip(X[:-1], X[1:]):\n",
    "        lag.append(val_lag)\n",
    "        lead.append(val_lag)\n",
    "\n",
    "        lag.append(val_lag)\n",
    "        lead.append(val_lead)\n",
    "\n",
    "    lag.append(X[-1])\n",
    "    lead.append(X[-1])\n",
    "\n",
    "    return np.c_[lag, lead]"
   ]
  },
  {
   "cell_type": "code",
   "execution_count": 7,
   "id": "c1cc0299-a4ec-4fd7-886d-6f8277f15297",
   "metadata": {},
   "outputs": [],
   "source": [
    "batch_size = 32\n",
    "num_workers = 16\n",
    "minmax = MinMaxScaler(feature_range=(0.00001, 0.99999))\n",
    "level = 4\n",
    "lr = 0.005"
   ]
  },
  {
   "cell_type": "code",
   "execution_count": 8,
   "id": "81e9b818-c878-43ac-bd6a-f67af6e4f4e8",
   "metadata": {},
   "outputs": [],
   "source": [
    "class Dataset(torch.utils.data.Dataset):\n",
    "    def __init__(self, data, index_data):\n",
    "        self.data = torch.FloatTensor(data)\n",
    "        self.index_data = torch.FloatTensor(index_data)\n",
    "\n",
    "    def __len__(self):\n",
    "        # return self.local.shape[1]\n",
    "        return len(self.index_data)\n",
    "\n",
    "    def __getitem__(self, index):\n",
    "        return self.data[index], self.index_data[index]"
   ]
  },
  {
   "cell_type": "code",
   "execution_count": 9,
   "id": "a783694c-b06b-4b0c-884d-72321b8b9bfc",
   "metadata": {},
   "outputs": [],
   "source": [
    "# path=os.path.join(base.data_path,'EURUSD.csv')\n",
    "path=os.path.join(base.data_path,'SP 500 GSPC.csv')\n",
    "\n",
    "data = pd.read_csv(path, index_col=0)[\"Close\"]#"
   ]
  },
  {
   "cell_type": "code",
   "execution_count": 10,
   "id": "7dbfc6e8-a85f-4e31-ba17-dcabbb6057ab",
   "metadata": {},
   "outputs": [
    {
     "data": {
      "text/plain": [
       "Date\n",
       "1927-12-30      17.660000\n",
       "1928-01-03      17.760000\n",
       "1928-01-04      17.719999\n",
       "1928-01-05      17.549999\n",
       "1928-01-06      17.660000\n",
       "                 ...     \n",
       "2020-04-28    2863.389893\n",
       "2020-04-29    2939.510010\n",
       "2020-04-30    2912.429932\n",
       "2020-05-01    2830.709961\n",
       "2020-05-04    2842.739990\n",
       "Name: Close, Length: 23194, dtype: float64"
      ]
     },
     "execution_count": 10,
     "metadata": {},
     "output_type": "execute_result"
    }
   ],
   "source": [
    "data"
   ]
  },
  {
   "cell_type": "code",
   "execution_count": 11,
   "id": "d2977814-e30e-48c8-b4c0-0713029dfd5d",
   "metadata": {
    "tags": []
   },
   "outputs": [],
   "source": [
    "def our_resample(data,window=5):\n",
    "    return np.array([data[i:i+window].values for i in range(len(data)) if i%window==0])"
   ]
  },
  {
   "cell_type": "code",
   "execution_count": 12,
   "id": "18ec875e-7aaa-4b28-b864-f4ce35380d59",
   "metadata": {
    "tags": []
   },
   "outputs": [],
   "source": [
    "# for values in our_resample(data):\n"
   ]
  },
  {
   "cell_type": "code",
   "execution_count": 13,
   "id": "c53f4c5e-483f-4f96-a05f-08414670cbcc",
   "metadata": {
    "tags": []
   },
   "outputs": [],
   "source": [
    "data.index = data.index.astype(\"datetime64[ns]\")\n",
    "windows = []\n",
    "windows_values = []\n",
    "for _, window in data.resample(\"M\"):\n",
    "    values = window.values  # / window.values[0]\n",
    "    path = leadlag(values)\n",
    "    windows.append(path)\n",
    "    windows_values.append(values)\n",
    "\n",
    "windows = windows\n",
    "windows_values = windows_values\n",
    "orig_logsig = np.array([tosig.stream2logsig(path, level) for path in windows])\n",
    "\n",
    "logsig = minmax.fit_transform(orig_logsig)\n",
    "\n",
    "logsigs = logsig[1:]\n",
    "conditions = logsig[:-1]\n",
    "\n",
    "train_data = Dataset(logsigs,conditions)"
   ]
  },
  {
   "cell_type": "code",
   "execution_count": null,
   "id": "116f9bb0-2ede-495e-9dbd-963a39702c13",
   "metadata": {},
   "outputs": [],
   "source": []
  },
  {
   "cell_type": "code",
   "execution_count": 14,
   "id": "9d7ce134-1582-4a84-a7d3-718bbd6dbf23",
   "metadata": {},
   "outputs": [],
   "source": [
    "class Encoder(nn.Module):\n",
    "    def __init__(self, common_network, mean_network, logvar_network):\n",
    "        super().__init__()\n",
    "        self.common_network = common_network\n",
    "        self.mean_network = mean_network\n",
    "        self.logvar_network = logvar_network\n",
    "\n",
    "    def forward(self, x, cond=None):\n",
    "        x_cond = torch.cat((x, cond), dim=1)\n",
    "        x_cond = self.common_network(x_cond)\n",
    "        mean, logvar = self.mean_network(x_cond), self.logvar_network(x_cond)\n",
    "        return mean, logvar\n",
    "\n",
    "class Decoder(nn.Module):\n",
    "    def __init__(self, decode_network):\n",
    "        super(Decoder, self).__init__()\n",
    "        self.decode_network = decode_network\n",
    "\n",
    "    def forward(self, x, cond=None):\n",
    "        x_cond = torch.cat((x,cond),dim=1)\n",
    "        x_cond = self.decode_network(x_cond)\n",
    "        return x_cond"
   ]
  },
  {
   "cell_type": "code",
   "execution_count": 15,
   "id": "1d283fd4-0b96-4906-97d9-ac95a6359852",
   "metadata": {},
   "outputs": [],
   "source": [
    "input_dim = 8\n",
    "condition_dim = 8\n",
    "\n",
    "\n",
    "middle_dim = 50\n",
    "hidden_dim = 8"
   ]
  },
  {
   "cell_type": "code",
   "execution_count": 16,
   "id": "83a4d231-bee6-42c5-ae9e-38e85acb8db8",
   "metadata": {},
   "outputs": [],
   "source": [
    "common_network = nn.Sequential(\n",
    "    nn.Linear(input_dim+ condition_dim,middle_dim),\n",
    "    nn.LeakyReLU(0.3),\n",
    ")\n",
    "mean_network = nn.Sequential(\n",
    "    nn.Linear(middle_dim,hidden_dim),\n",
    "    nn.LeakyReLU(0.3),\n",
    ")\n",
    "logvar_network = nn.Sequential(\n",
    "    nn.Linear(middle_dim,hidden_dim),\n",
    "    nn.LeakyReLU(0.3),\n",
    ")\n",
    "decode_network = nn.Sequential(\n",
    "    nn.Linear(hidden_dim+condition_dim,hidden_dim),\n",
    "    nn.LeakyReLU(0.3),\n",
    "    nn.Linear(hidden_dim,input_dim),\n",
    "    nn.Sigmoid(),\n",
    ")"
   ]
  },
  {
   "cell_type": "code",
   "execution_count": 17,
   "id": "3c5e22fd-6f43-45a6-9ab8-cb5136e6a253",
   "metadata": {},
   "outputs": [],
   "source": [
    "class CVAE(nn.Module):\n",
    "    def __init__(self,common_network, mean_network, logvar_network,decode_network):\n",
    "        super(CVAE, self).__init__()\n",
    "        self.encoder = Encoder(common_network, mean_network, logvar_network)\n",
    "\n",
    "        self.decoder = Decoder(decode_network)\n",
    "        \n",
    "    def _sample(self,mean,logvar):\n",
    "        eps = torch.randn(mean.shape)\n",
    "        sigma = torch.exp(0.5 * logvar)\n",
    "        return mean + eps * sigma\n",
    "    \n",
    "    def forward(self, x,y):\n",
    "        mean,logvar = self.encoder(x,y)\n",
    "        z = self._sample(mean,logvar)\n",
    "        x_hat = self.decoder(z,y)\n",
    "        return x_hat,mean,logvar"
   ]
  },
  {
   "cell_type": "code",
   "execution_count": 18,
   "id": "55d68dc6-27f4-4dcc-a4c3-ae37c805bc02",
   "metadata": {},
   "outputs": [],
   "source": [
    "def loss(X, X_hat, mean, logvar):  # X,self.dec,mn,sd\n",
    "    alpha = 0.003\n",
    "    KL_divergence = 0.5*torch.sum(-1 - logvar + torch.exp(logvar) + torch.square(mean), dim=1)\n",
    "    end = X - X_hat\n",
    "    squ_dif =  torch.square(end)\n",
    "    smooth = torch.sum(squ_dif)\n",
    "\n",
    "    return torch.mean((1-alpha)*smooth +alpha *KL_divergence)\n",
    "    "
   ]
  },
  {
   "cell_type": "code",
   "execution_count": 19,
   "id": "9f97d4f1-fd19-4751-aadf-6642a433af9e",
   "metadata": {},
   "outputs": [],
   "source": [
    "net = CVAE(common_network, mean_network, logvar_network,decode_network)#0.005"
   ]
  },
  {
   "cell_type": "code",
   "execution_count": 20,
   "id": "a4367aad-101e-4430-beb2-02bdd520342b",
   "metadata": {},
   "outputs": [],
   "source": [
    "optim = torch.optim.Adam(net.parameters(),lr =lr)"
   ]
  },
  {
   "cell_type": "code",
   "execution_count": 21,
   "id": "9e2c6362-de1d-466d-bfa7-f7eb8b21bb58",
   "metadata": {},
   "outputs": [],
   "source": [
    "from torch.utils.data import Dataset,DataLoader"
   ]
  },
  {
   "cell_type": "code",
   "execution_count": 22,
   "id": "9bc416ee-9663-4fea-99c3-6a7271cac8bb",
   "metadata": {},
   "outputs": [],
   "source": [
    "dataloader = DataLoader(train_data,batch_size=247,shuffle=True,drop_last=False)\n"
   ]
  },
  {
   "cell_type": "code",
   "execution_count": 23,
   "id": "0a12d8a0-a893-4119-b6e4-1c4b69c7e91b",
   "metadata": {},
   "outputs": [],
   "source": [
    "from tqdm.auto import tqdm"
   ]
  },
  {
   "cell_type": "code",
   "execution_count": 24,
   "id": "39d0591b-af29-467e-acfb-e510835aba5f",
   "metadata": {},
   "outputs": [],
   "source": [
    "n_epochs = 10000"
   ]
  },
  {
   "cell_type": "code",
   "execution_count": 25,
   "id": "a01a4d11-ceeb-41ff-9cf2-7858eabb79c4",
   "metadata": {
    "tags": []
   },
   "outputs": [
    {
     "data": {
      "application/vnd.jupyter.widget-view+json": {
       "model_id": "b96d8e225b624c25814548cba04e1a06",
       "version_major": 2,
       "version_minor": 0
      },
      "text/plain": [
       "Training:   0%|          | 0/10000 [00:00<?, ?it/s]"
      ]
     },
     "metadata": {},
     "output_type": "display_data"
    },
    {
     "ename": "KeyboardInterrupt",
     "evalue": "",
     "output_type": "error",
     "traceback": [
      "\u001b[0;31m---------------------------------------------------------------------------\u001b[0m",
      "\u001b[0;31mKeyboardInterrupt\u001b[0m                         Traceback (most recent call last)",
      "\u001b[0;32m<ipython-input-25-9393417fbb80>\u001b[0m in \u001b[0;36m<module>\u001b[0;34m\u001b[0m\n\u001b[1;32m      4\u001b[0m         \u001b[0moptim\u001b[0m\u001b[0;34m.\u001b[0m\u001b[0mzero_grad\u001b[0m\u001b[0;34m(\u001b[0m\u001b[0;34m)\u001b[0m\u001b[0;34m\u001b[0m\u001b[0;34m\u001b[0m\u001b[0m\n\u001b[1;32m      5\u001b[0m         \u001b[0mX_hat\u001b[0m\u001b[0;34m,\u001b[0m\u001b[0mmean\u001b[0m\u001b[0;34m,\u001b[0m\u001b[0mlogvar\u001b[0m \u001b[0;34m=\u001b[0m \u001b[0mnet\u001b[0m\u001b[0;34m(\u001b[0m\u001b[0mX\u001b[0m\u001b[0;34m,\u001b[0m\u001b[0my\u001b[0m\u001b[0;34m)\u001b[0m\u001b[0;34m\u001b[0m\u001b[0;34m\u001b[0m\u001b[0m\n\u001b[0;32m----> 6\u001b[0;31m         \u001b[0mloss_end\u001b[0m \u001b[0;34m=\u001b[0m \u001b[0mloss\u001b[0m\u001b[0;34m(\u001b[0m\u001b[0mX\u001b[0m\u001b[0;34m,\u001b[0m\u001b[0mX_hat\u001b[0m\u001b[0;34m,\u001b[0m\u001b[0mmean\u001b[0m\u001b[0;34m,\u001b[0m\u001b[0mlogvar\u001b[0m\u001b[0;34m)\u001b[0m\u001b[0;34m\u001b[0m\u001b[0;34m\u001b[0m\u001b[0m\n\u001b[0m\u001b[1;32m      7\u001b[0m         \u001b[0mloss_end\u001b[0m\u001b[0;34m.\u001b[0m\u001b[0mbackward\u001b[0m\u001b[0;34m(\u001b[0m\u001b[0;34m)\u001b[0m\u001b[0;34m\u001b[0m\u001b[0;34m\u001b[0m\u001b[0m\n\u001b[1;32m      8\u001b[0m         \u001b[0moptim\u001b[0m\u001b[0;34m.\u001b[0m\u001b[0mstep\u001b[0m\u001b[0;34m(\u001b[0m\u001b[0;34m)\u001b[0m\u001b[0;34m\u001b[0m\u001b[0;34m\u001b[0m\u001b[0m\n",
      "\u001b[0;32m<ipython-input-18-d94911769ac8>\u001b[0m in \u001b[0;36mloss\u001b[0;34m(X, X_hat, mean, logvar)\u001b[0m\n\u001b[1;32m      1\u001b[0m \u001b[0;32mdef\u001b[0m \u001b[0mloss\u001b[0m\u001b[0;34m(\u001b[0m\u001b[0mX\u001b[0m\u001b[0;34m,\u001b[0m \u001b[0mX_hat\u001b[0m\u001b[0;34m,\u001b[0m \u001b[0mmean\u001b[0m\u001b[0;34m,\u001b[0m \u001b[0mlogvar\u001b[0m\u001b[0;34m)\u001b[0m\u001b[0;34m:\u001b[0m  \u001b[0;31m# X,self.dec,mn,sd\u001b[0m\u001b[0;34m\u001b[0m\u001b[0;34m\u001b[0m\u001b[0m\n\u001b[1;32m      2\u001b[0m     \u001b[0malpha\u001b[0m \u001b[0;34m=\u001b[0m \u001b[0;36m0.003\u001b[0m\u001b[0;34m\u001b[0m\u001b[0;34m\u001b[0m\u001b[0m\n\u001b[0;32m----> 3\u001b[0;31m     \u001b[0mKL_divergence\u001b[0m \u001b[0;34m=\u001b[0m \u001b[0;36m0.5\u001b[0m\u001b[0;34m*\u001b[0m\u001b[0mtorch\u001b[0m\u001b[0;34m.\u001b[0m\u001b[0msum\u001b[0m\u001b[0;34m(\u001b[0m\u001b[0;34m-\u001b[0m\u001b[0;36m1\u001b[0m \u001b[0;34m-\u001b[0m \u001b[0mlogvar\u001b[0m \u001b[0;34m+\u001b[0m \u001b[0mtorch\u001b[0m\u001b[0;34m.\u001b[0m\u001b[0mexp\u001b[0m\u001b[0;34m(\u001b[0m\u001b[0mlogvar\u001b[0m\u001b[0;34m)\u001b[0m \u001b[0;34m+\u001b[0m \u001b[0mtorch\u001b[0m\u001b[0;34m.\u001b[0m\u001b[0msquare\u001b[0m\u001b[0;34m(\u001b[0m\u001b[0mmean\u001b[0m\u001b[0;34m)\u001b[0m\u001b[0;34m,\u001b[0m \u001b[0mdim\u001b[0m\u001b[0;34m=\u001b[0m\u001b[0;36m1\u001b[0m\u001b[0;34m)\u001b[0m\u001b[0;34m\u001b[0m\u001b[0;34m\u001b[0m\u001b[0m\n\u001b[0m\u001b[1;32m      4\u001b[0m     \u001b[0mend\u001b[0m \u001b[0;34m=\u001b[0m \u001b[0mX\u001b[0m \u001b[0;34m-\u001b[0m \u001b[0mX_hat\u001b[0m\u001b[0;34m\u001b[0m\u001b[0;34m\u001b[0m\u001b[0m\n\u001b[1;32m      5\u001b[0m     \u001b[0msqu_dif\u001b[0m \u001b[0;34m=\u001b[0m  \u001b[0mtorch\u001b[0m\u001b[0;34m.\u001b[0m\u001b[0msquare\u001b[0m\u001b[0;34m(\u001b[0m\u001b[0mend\u001b[0m\u001b[0;34m)\u001b[0m\u001b[0;34m\u001b[0m\u001b[0;34m\u001b[0m\u001b[0m\n",
      "\u001b[0;31mKeyboardInterrupt\u001b[0m: "
     ]
    }
   ],
   "source": [
    "for epoch in tqdm(range(n_epochs), desc=\"Training\"):\n",
    "    net.train()\n",
    "    for i, (X, y) in enumerate(dataloader):\n",
    "        optim.zero_grad()   \n",
    "        X_hat,mean,logvar = net(X,y)\n",
    "        loss_end = loss(X,X_hat,mean,logvar)\n",
    "        loss_end.backward()\n",
    "        optim.step()\n"
   ]
  },
  {
   "cell_type": "code",
   "execution_count": null,
   "id": "f9e69de7-f5d0-4c3b-a23f-4d1553a02337",
   "metadata": {},
   "outputs": [],
   "source": []
  },
  {
   "cell_type": "code",
   "execution_count": null,
   "id": "57650d72-e9ac-4dd5-8132-d48e59140321",
   "metadata": {},
   "outputs": [],
   "source": []
  }
 ],
 "metadata": {
  "kernelspec": {
   "display_name": "Python 3",
   "language": "python",
   "name": "python3"
  },
  "language_info": {
   "codemirror_mode": {
    "name": "ipython",
    "version": 3
   },
   "file_extension": ".py",
   "mimetype": "text/x-python",
   "name": "python",
   "nbconvert_exporter": "python",
   "pygments_lexer": "ipython3",
   "version": "3.6.8"
  }
 },
 "nbformat": 4,
 "nbformat_minor": 5
}
