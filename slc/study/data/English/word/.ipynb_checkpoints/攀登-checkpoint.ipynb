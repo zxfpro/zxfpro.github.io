{
 "cells": [
  {
   "cell_type": "code",
   "execution_count": 4,
   "id": "69b233e9-250b-40ff-907f-47ccad4be8a4",
   "metadata": {
    "tags": []
   },
   "outputs": [],
   "source": [
    "text = \"\"\"Two years ago, Rupert Murdoch's daughter, Elisabeth, spoke of the \"unsettling dearth of integrity across so many of our institutions\". Integrity had collapsed, she argued, because of a collective acceptance that the only \"sorting mechanism\" in society should be profit and the market. But \"it's us, human beings, we the people who create the society we want, not profit.\" Driving her point home, she continued: \"It's increasingly apparent that the absence of purpose, of a moral language within government, media or business could become one of the most dangerous goals for capitalism and freedom.\" This same absence of moral purpose was wounding companies such as News International, she thought, making it more likely that it would lose its way as it had with widespread illegal telephone hacking. \n",
    "As the hacking trial concludes - finding guilty one ex-editor of the News of the World, Andy Coulson, for conspiring to hack phones, and finding his predecessor, Rebekah Brooks, innocent of the same charge - the wider issue of dearth of integrity still stands. Journalists are known to have hacked the phones of up to 5,500 people. This is hacking on an industrial scale, as was acknowledged by Glenn Mulcaire, the man hired by the News of the World in 2001 to be the point person for phone hacking. Others await trial. This long story still unfolds. \n",
    "In many respects, the dearth of moral purpose frames not only the fact of such widespread phone hacking but the terms on which the trial took place. One of the astonishing revelations was how little Rebekah Brooks knew of what went on in her newsroom, how little she thought to ask and the fact that she never inquired how the stories arrived. The core of her successful defence was that she knew nothing. \n",
    "In today's world, it has become normal that well-paid executives should not be accountable for what happens in the organisations that they run. Perhaps we should not be so surprised. For a generation, the collective doctrine has been that the sorting mechanism of society should be profit. The words that have mattered are efficiency, flexibility, shareholder value, business-friendly, wealth generation, sales, impact and, in newspapers, circulation. Words degraded to the margin have been justice, fairness, tolerance, proportionality and accountability. \n",
    "The purpose of editing the News of the World was not to promote reader understanding, to be fair in what was written or to betray any common humanity. \n",
    "It was to ruin lives in the quest for circulation and impact. Ms Brooks may or may not have had suspicions about how her journalists got their stories, but she asked no questions, gave no instructions - nor received traceable, recorded answers.\n",
    "\"\"\""
   ]
  },
  {
   "cell_type": "code",
   "execution_count": 11,
   "id": "f6f0a7b9-7b76-4c1e-9867-2f47e230ec68",
   "metadata": {
    "tags": []
   },
   "outputs": [],
   "source": [
    "def split_text(text)->list:\n",
    "    return text.split('. ')"
   ]
  },
  {
   "cell_type": "code",
   "execution_count": 12,
   "id": "73099426-c1ad-4770-8081-45f94ace651e",
   "metadata": {
    "tags": []
   },
   "outputs": [
    {
     "data": {
      "text/plain": [
       "['Two years ago, Rupert Murdoch\\'s daughter, Elisabeth, spoke of the \"unsettling dearth of integrity across so many of our institutions\"',\n",
       " 'Integrity had collapsed, she argued, because of a collective acceptance that the only \"sorting mechanism\" in society should be profit and the market',\n",
       " 'But \"it\\'s us, human beings, we the people who create the society we want, not profit.\" Driving her point home, she continued: \"It\\'s increasingly apparent that the absence of purpose, of a moral language within government, media or business could become one of the most dangerous goals for capitalism and freedom.\" This same absence of moral purpose was wounding companies such as News International, she thought, making it more likely that it would lose its way as it had with widespread illegal telephone hacking',\n",
       " '\\nAs the hacking trial concludes - finding guilty one ex-editor of the News of the World, Andy Coulson, for conspiring to hack phones, and finding his predecessor, Rebekah Brooks, innocent of the same charge - the wider issue of dearth of integrity still stands',\n",
       " 'Journalists are known to have hacked the phones of up to 5,500 people',\n",
       " 'This is hacking on an industrial scale, as was acknowledged by Glenn Mulcaire, the man hired by the News of the World in 2001 to be the point person for phone hacking',\n",
       " 'Others await trial',\n",
       " 'This long story still unfolds',\n",
       " '\\nIn many respects, the dearth of moral purpose frames not only the fact of such widespread phone hacking but the terms on which the trial took place',\n",
       " 'One of the astonishing revelations was how little Rebekah Brooks knew of what went on in her newsroom, how little she thought to ask and the fact that she never inquired how the stories arrived',\n",
       " 'The core of her successful defence was that she knew nothing',\n",
       " \"\\nIn today's world, it has become normal that well-paid executives should not be accountable for what happens in the organisations that they run\",\n",
       " 'Perhaps we should not be so surprised',\n",
       " 'For a generation, the collective doctrine has been that the sorting mechanism of society should be profit',\n",
       " 'The words that have mattered are efficiency, flexibility, shareholder value, business-friendly, wealth generation, sales, impact and, in newspapers, circulation',\n",
       " 'Words degraded to the margin have been justice, fairness, tolerance, proportionality and accountability',\n",
       " '\\nThe purpose of editing the News of the World was not to promote reader understanding, to be fair in what was written or to betray any common humanity',\n",
       " '\\nIt was to ruin lives in the quest for circulation and impact',\n",
       " 'Ms Brooks may or may not have had suspicions about how her journalists got their stories, but she asked no questions, gave no instructions - nor received traceable, recorded answers.\\n']"
      ]
     },
     "execution_count": 12,
     "metadata": {},
     "output_type": "execute_result"
    }
   ],
   "source": [
    "split_text(text)"
   ]
  },
  {
   "cell_type": "code",
   "execution_count": null,
   "id": "00f116b8-06f4-4150-a627-2e8a04a60f32",
   "metadata": {},
   "outputs": [],
   "source": [
    "from openai import OpenAI\n",
    "from tqdm.auto import tqdm\n",
    "from pathlib import Path\n",
    "\n",
    "class Text2Speech():\n",
    "    def __init__(self):\n",
    "        self.client = OpenAI(\n",
    "            # 将这里换成你在便携AI聚合API后台生成的令牌\n",
    "            api_key=\"sk-3pK9y3NIuz9uYrjx038b4d5d077d4a289e72F99e1216EaEf\",\n",
    "            # 这里将官方的接口访问地址替换成便携AI聚合API的入口地址\n",
    "            base_url=\"https://api.bianxieai.com/v1\"\n",
    "        )\n",
    "    def speech_for_list(self,text_list):\n",
    "        for i,text in tqdm(enumerate(text_list)):\n",
    "            speech_file_path = f\"speech_{i}.mp3\"\n",
    "            response = client.audio.speech.create(\n",
    "              model=\"tts-1\",\n",
    "              voice=\"onyx\",\n",
    "              input=text\n",
    "            )\n",
    "            response.stream_to_file(speech_file_path)\n",
    "    def speech_for_text(self,text):\n",
    "        speech_file_path = f\"speech.mp3\"\n",
    "        response = client.audio.speech.create(\n",
    "          model=\"tts-1\",\n",
    "          voice=\"onyx\",\n",
    "          input=text\n",
    "        )\n",
    "        response.stream_to_file(speech_file_path)\n"
   ]
  },
  {
   "cell_type": "code",
   "execution_count": null,
   "id": "3e285643-27b6-4e4e-a1b4-d81cc0f6ec92",
   "metadata": {},
   "outputs": [],
   "source": []
  }
 ],
 "metadata": {
  "kernelspec": {
   "display_name": "Python 3 (ipykernel)",
   "language": "python",
   "name": "python3"
  },
  "language_info": {
   "codemirror_mode": {
    "name": "ipython",
    "version": 3
   },
   "file_extension": ".py",
   "mimetype": "text/x-python",
   "name": "python",
   "nbconvert_exporter": "python",
   "pygments_lexer": "ipython3",
   "version": "3.10.14"
  }
 },
 "nbformat": 4,
 "nbformat_minor": 5
}
