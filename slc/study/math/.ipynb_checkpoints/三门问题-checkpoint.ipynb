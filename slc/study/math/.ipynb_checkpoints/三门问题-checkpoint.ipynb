{
 "cells": [
  {
   "cell_type": "markdown",
   "id": "f42fb563-f919-4005-a9cd-d093d8fd2aa0",
   "metadata": {},
   "source": [
    "# 三门问题"
   ]
  },
  {
   "cell_type": "code",
   "execution_count": 4,
   "id": "aa8e5e32-0da1-4599-b50a-0f9abf2bec2d",
   "metadata": {
    "tags": []
   },
   "outputs": [
    {
     "data": {
      "image/png": "[encoded data removed]",
      "text/plain": [
       "<Figure size 640x480 with 1 Axes>"
      ]
     },
     "metadata": {},
     "output_type": "display_data"
    }
   ],
   "source": [
    "# 三门问题代码模拟\n",
    "import random\n",
    "import matplotlib.pyplot as plt\n",
    "\n",
    "def three_door_question(times: int, change: bool):\n",
    "    # times为模拟次数，change为是否换门\n",
    "    result = 0 # 记录中奖次数\n",
    "    for i in range(times):\n",
    "        doors = [1, 2, 3] # 三扇门的编号\n",
    "        car = random.choice(doors) # 汽车随机放在某扇门后\n",
    "        choice = random.choice(doors) # 参赛者随机选择一扇门\n",
    "        doors.remove(choice) # 去掉已经选择的门\n",
    "        \n",
    "        if car in doors: # 如果汽车在剩下的门中\n",
    "            doors.remove(car) # 去掉汽车所在的门\n",
    "        open = random.choice(doors) # 主持人打开另一扇没有汽车的门\n",
    "        if change: # 如果参赛者决定换门\n",
    "            choice = car # 换成汽车所在的门\n",
    "        if choice == car: # 如果最终选择了汽车所在的门\n",
    "            result += 1 # 中奖次数加一\n",
    "    return result / times # 返回中奖概率\n",
    "\n",
    "# 模拟不换门的情况\n",
    "no_change = [three_door_question(1000, False) for _ in range(1000)]\n",
    "# 模拟换门的情况\n",
    "change = [three_door_question(1000, True) for _ in range(1000)]\n",
    "\n",
    "# 绘制概率分布图\n",
    "plt.hist(no_change, bins=20, alpha=0.5, label='no change')\n",
    "plt.hist(change, bins=20, alpha=0.5, label='change')\n",
    "plt.xlabel('zhongjiang')\n",
    "plt.ylabel('num')\n",
    "plt.legend()\n",
    "plt.show()\n"
   ]
  },
  {
   "cell_type": "code",
   "execution_count": 74,
   "id": "c83c87f3-383a-4d71-8095-569eb7906e35",
   "metadata": {
    "tags": []
   },
   "outputs": [],
   "source": [
    "\n",
    "def three_door_question(times: int, change: bool):\n",
    "    # times为模拟次数，change为是否换门\n",
    "    result = 0 # 记录中奖次数\n",
    "    k = []\n",
    "    for i in range(times):\n",
    "        doors = [1, 2, 3] # 三扇门的编号\n",
    "        doors2 = [1,2,3]\n",
    "        car = random.choice(doors) # 汽车随机放在某扇门后\n",
    "        choice = random.choice(doors) # 参赛者随机选择一扇门\n",
    "        doors.remove(choice) # 去掉已经选择的门\n",
    "        if car in doors: # 如果汽车在剩下的门中\n",
    "            doors.remove(car) # 去掉汽车所在的门\n",
    "        \n",
    "        open = random.choice(doors) # 主持人打开另一扇没有汽车的门\n",
    "        \n",
    "        \n",
    "        if change: # 如果参赛者决定换门\n",
    "            \n",
    "            doors2.remove(open)\n",
    "            doors2.remove(choice)\n",
    "            # print(doors2[0])\n",
    "            choice = doors2[0]\n",
    "            \n",
    "        if choice == car: # 如果最终选择了汽车所在的门\n",
    "            result += 1 # 中奖次数加一\n",
    "    # return result / times # 返回中奖概率\n",
    "        k.append(f'car:{car} choice:{choice} open:{open}')\n",
    "    return k"
   ]
  },
  {
   "cell_type": "code",
   "execution_count": 84,
   "id": "11ed5ad2-7472-42d4-a6aa-0f5988fae887",
   "metadata": {
    "tags": []
   },
   "outputs": [],
   "source": [
    "a = three_door_question(100000,False)"
   ]
  },
  {
   "cell_type": "code",
   "execution_count": 85,
   "id": "b6af1bda-bdbd-4fb4-a58a-b815fba21d67",
   "metadata": {
    "tags": []
   },
   "outputs": [
    {
     "data": {
      "text/plain": [
       "{'car:1 choice:1 open:2',\n",
       " 'car:1 choice:1 open:3',\n",
       " 'car:1 choice:2 open:3',\n",
       " 'car:1 choice:3 open:2',\n",
       " 'car:2 choice:1 open:3',\n",
       " 'car:2 choice:2 open:1',\n",
       " 'car:2 choice:2 open:3',\n",
       " 'car:2 choice:3 open:1',\n",
       " 'car:3 choice:1 open:2',\n",
       " 'car:3 choice:2 open:1',\n",
       " 'car:3 choice:3 open:1',\n",
       " 'car:3 choice:3 open:2'}"
      ]
     },
     "execution_count": 85,
     "metadata": {},
     "output_type": "execute_result"
    }
   ],
   "source": [
    "set(a)"
   ]
  },
  {
   "cell_type": "code",
   "execution_count": 86,
   "id": "b0d2aeee-0013-43ef-a503-fddaaee94e23",
   "metadata": {
    "tags": []
   },
   "outputs": [],
   "source": [
    "from collections import Counter"
   ]
  },
  {
   "cell_type": "code",
   "execution_count": null,
   "id": "36fbb16c-ac71-40bc-b0cd-304ad55ed4ff",
   "metadata": {
    "tags": []
   },
   "outputs": [
    {
     "data": {
      "text/plain": [
       "Counter({'car:2 choice:3 open:1': 11273,\n",
       "         'car:3 choice:2 open:1': 11256,\n",
       "         'car:2 choice:1 open:3': 11069,\n",
       "         'car:1 choice:3 open:2': 11036,\n",
       "         'car:3 choice:1 open:2': 11029,\n",
       "         'car:1 choice:2 open:3': 11027,\n",
       "         'car:3 choice:3 open:1': 5656,\n",
       "         'car:2 choice:2 open:1': 5591,\n",
       "         'car:1 choice:1 open:3': 5535,\n",
       "         'car:3 choice:3 open:2': 5533,\n",
       "         'car:2 choice:2 open:3': 5523,\n",
       "         'car:1 choice:1 open:2': 5472})"
      ]
     },
     "execution_count": 87,
     "metadata": {},
     "output_type": "execute_result"
    }
   ],
   "source": [
    "Counter(a)"
   ]
  },
  {
   "cell_type": "code",
   "execution_count": null,
   "id": "49c1a2ce-870f-473c-9599-64f055b1908d",
   "metadata": {},
   "outputs": [],
   "source": []
  }
 ],
 "metadata": {
  "kernelspec": {
   "display_name": "Python 3 (ipykernel)",
   "language": "python",
   "name": "python3"
  },
  "language_info": {
   "codemirror_mode": {
    "name": "ipython",
    "version": 3
   },
   "file_extension": ".py",
   "mimetype": "text/x-python",
   "name": "python",
   "nbconvert_exporter": "python",
   "pygments_lexer": "ipython3",
   "version": "3.10.14"
  }
 },
 "nbformat": 4,
 "nbformat_minor": 5
}
