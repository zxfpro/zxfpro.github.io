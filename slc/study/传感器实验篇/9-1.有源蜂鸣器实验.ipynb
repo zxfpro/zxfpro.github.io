{
 "cells": [
  {
   "cell_type": "markdown",
   "metadata": {},
   "source": [
    "<center><img src=\"./imge/CLBLOGO.jpg\" alt=\"创乐博\" style=\"width: 300px;\"/></center>\n",
    "\n",
    "# 9-1.有源蜂鸣器实验\n",
    "\n",
    "@－－－－湖南创乐博智能科技有限公司－－－－<br>\n",
    "@  文件名：9-1.有源蜂鸣器实验.py <br>\n",
    "@  版本：V2.0 <br>\n",
    "@  author: zhulin<br>\n",
    "@  说明：有源蜂鸣器实验\n",
    "我们一起来学习一下GPIO口驱动蜂鸣器鸣叫！<br>"
   ]
  },
  {
   "cell_type": "code",
   "execution_count": null,
   "metadata": {},
   "outputs": [],
   "source": [
    "import RPi.GPIO as GPIO\n",
    "import time\n",
    "\n",
    "makerobo_Buzzer = 11    # 有源蜂鸣器管脚定义\n",
    "\n",
    "# GPIO设置函数\n",
    "def makerobo_setup(pin):\n",
    "    global makerobo_BuzzerPin                \n",
    "    makerobo_BuzzerPin = pin\n",
    "    GPIO.setmode(GPIO.BOARD)                     # 采用实际的物理管脚给GPIO口\n",
    "    GPIO.setwarnings(False)                       # 关闭GPIO警告提示\n",
    "    GPIO.setup(makerobo_BuzzerPin, GPIO.OUT)     # 设置有源蜂鸣器管脚为输出模式\n",
    "    GPIO.output(makerobo_BuzzerPin, GPIO.HIGH)   # 蜂鸣器设置为高电平，关闭蜂鸟器\n",
    "\n",
    "#  打开蜂鸣器\n",
    "def makerobo_buzzer_on():\n",
    "    GPIO.output(makerobo_BuzzerPin, GPIO.LOW)  # 蜂鸣器为低电平触发，所以使能蜂鸣器让其发声\n",
    "# 关闭蜂鸣器\n",
    "def makerobo_buzzer_off():\n",
    "    GPIO.output(makerobo_BuzzerPin, GPIO.HIGH) # 蜂鸣器设置为高电平，关闭蜂鸟器\n",
    "\n",
    "# 控制蜂鸣器鸣叫\n",
    "def makerobo_beep(x):\n",
    "    makerobo_buzzer_on()     # 打开蜂鸣器控制\n",
    "    time.sleep(x)            # 延时时间\n",
    "    makerobo_buzzer_off()    # 关闭蜂鸣器控制\n",
    "    time.sleep(x)            # 延时时间\n",
    "\n",
    "# 循环函数\n",
    "def loop():\n",
    "    while True:\n",
    "        makerobo_beep(0.5) # 控制蜂鸣器鸣叫，延时时间为500mm\n",
    "\n",
    "def destroy():\n",
    "    GPIO.output(makerobo_BuzzerPin, GPIO.HIGH) # 关闭蜂鸣器鸣叫\n",
    "    GPIO.cleanup()                     # 释放资源\n",
    "\n",
    "# 程序入口\n",
    "if __name__ == '__main__':    \n",
    "    makerobo_setup(makerobo_Buzzer) # 设置GPIO管脚\n",
    "    try:                            # 检测异常\n",
    "        loop()                      # 调用循环函数     \n",
    "    except KeyboardInterrupt:  # 当按下Ctrl+C时，将执行destroy()子程序。\n",
    "        destroy()              # 释放资源\n",
    "\n"
   ]
  }
 ],
 "metadata": {
  "kernelspec": {
   "display_name": "Python 3",
   "language": "python",
   "name": "python3"
  },
  "language_info": {
   "codemirror_mode": {
    "name": "ipython",
    "version": 3
   },
   "file_extension": ".py",
   "mimetype": "text/x-python",
   "name": "python",
   "nbconvert_exporter": "python",
   "pygments_lexer": "ipython3",
   "version": "3.6.9"
  }
 },
 "nbformat": 4,
 "nbformat_minor": 4
}
