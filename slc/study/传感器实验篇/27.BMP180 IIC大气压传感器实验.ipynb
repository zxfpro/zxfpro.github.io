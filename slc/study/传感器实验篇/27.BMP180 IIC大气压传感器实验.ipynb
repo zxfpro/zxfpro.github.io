{
 "cells": [
  {
   "cell_type": "markdown",
   "metadata": {},
   "source": [
    "<center><img src=\"./imge/CLBLOGO.jpg\" alt=\"创乐博\" style=\"width: 300px;\"/></center>\n",
    "\n",
    "# 27.BMP180大气压传感器实验\n",
    "\n",
    "@－－－－湖南创乐博智能科技有限公司－－－－<br>\n",
    "@  文件名：27.BMP180大气压传感器模块.py <br>\n",
    "@  版本：V2.0 <br>\n",
    "@  author: zhulin<br>\n",
    "@  说明：BMP180大气压传感器模块\n",
    "我们一起来学习BMP大气压传感器模块吧！！<br>"
   ]
  },
  {
   "cell_type": "code",
   "execution_count": 13,
   "metadata": {},
   "outputs": [
    {
     "name": "stdout",
     "output_type": "stream",
     "text": [
      "Chip ID     : 85\n",
      "Version     : 2\n",
      "Temperature : 21.2 C\n",
      "Pressure    : 1003.4 mbar\n"
     ]
    }
   ],
   "source": [
    "import BMP180\n",
    "\n",
    "def main():\n",
    "    \n",
    "  (chip_id, chip_version) = BMP180.readBmp180Id()\n",
    "  print(\"Chip ID     : {0}\".format(chip_id))\n",
    "  print(\"Version     : {0}\".format(chip_version))\n",
    "\n",
    "  print\n",
    "  \n",
    "  (temperature,pressure)=BMP180.readBmp180()\n",
    "  print(\"Temperature : {0} C\".format(temperature))\n",
    "  print(\"Pressure    : {0} mbar\".format(pressure))\n",
    "  \n",
    "if __name__==\"__main__\":\n",
    "   main()"
   ]
  }
 ],
 "metadata": {
  "kernelspec": {
   "display_name": "Python 3",
   "language": "python",
   "name": "python3"
  },
  "language_info": {
   "codemirror_mode": {
    "name": "ipython",
    "version": 3
   },
   "file_extension": ".py",
   "mimetype": "text/x-python",
   "name": "python",
   "nbconvert_exporter": "python",
   "pygments_lexer": "ipython3",
   "version": "3.6.9"
  }
 },
 "nbformat": 4,
 "nbformat_minor": 4
}
