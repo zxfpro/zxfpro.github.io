{
 "cells": [
  {
   "cell_type": "markdown",
   "metadata": {},
   "source": [
    "<center><img src=\"./imge/CLBLOGO.jpg\" alt=\"创乐博\" style=\"width: 300px;\"/></center>\n",
    "\n",
    "# 32.步进电机控制实验\n",
    "\n",
    "@－－－－湖南创乐博智能科技有限公司－－－－<br>\n",
    "@  文件名：32.步进电机控制实验.py <br>\n",
    "@  版本：V2.0 <br>\n",
    "@  author: zhulin<br>\n",
    "@  说明：步进电机控制实验\n",
    "我们一起来学习步进电机的驱动方式吧！！<br>"
   ]
  },
  {
   "cell_type": "code",
   "execution_count": null,
   "metadata": {},
   "outputs": [
    {
     "name": "stdin",
     "output_type": "stream",
     "text": [
      "Makerobo select motor direction a=anticlockwise, c=clockwise:  a\n"
     ]
    },
    {
     "name": "stdout",
     "output_type": "stream",
     "text": [
      "Makerobo motor running anti-clockwise\n",
      "\n"
     ]
    }
   ],
   "source": [
    "import RPi.GPIO as GPIO\n",
    "from time import sleep\n",
    "\n",
    "makerobo_motorPin = (18,23,24,25)     # 步进电机管脚PIN\n",
    "makerobo_rolePerMinute =15            # 每分钟转数\n",
    "makerobo_stepsPerRevolution = 2048    # 每转一圈的步数\n",
    "makerobo_stepSpeed = (60/makerobo_rolePerMinute)/makerobo_stepsPerRevolution  # 每一步所用的时间\n",
    "\n",
    "# 初始化设置\n",
    "def makerobo_setup():\n",
    "    GPIO.setmode(GPIO.BCM)  # 将GPIO模式设置为BCM编号\n",
    "    GPIO.setwarnings(False) # 忽略警告\n",
    "    for i in makerobo_motorPin:\n",
    "        GPIO.setup(i, GPIO.OUT) # 设置步进电机的所有管脚为输出模式\n",
    "\n",
    "# 步进电机旋转\n",
    "def makerobo_rotary(clb_direction):\n",
    "    if(clb_direction == 'a'):     # 逆时针旋转\n",
    "        for j in range(4):\n",
    "            for i in range(4):\n",
    "                GPIO.output(makerobo_motorPin[i],0x99>>j & (0x08>>i))\n",
    "            sleep(makerobo_stepSpeed)\n",
    "\n",
    "    elif(clb_direction == 'c'):    # 顺时针旋转\n",
    "        for j in range(4):\n",
    "            for i in range(4):\n",
    "                GPIO.output(makerobo_motorPin[i],0x99<<j & (0x80>>i))\n",
    "            sleep(makerobo_stepSpeed)\n",
    "\n",
    "# 循环函数\n",
    "def makerobo_loop():\n",
    "    while True:\n",
    "        clb_direction = input('Makerobo select motor direction a=anticlockwise, c=clockwise: ')\n",
    "        if(clb_direction == 'c'):\n",
    "            print('Makerobo motor running clockwise\\n')       # 顺时针旋转\n",
    "            break\n",
    "        elif(clb_direction == 'a'):\n",
    "            print('Makerobo motor running anti-clockwise\\n')  # 逆时针旋转\n",
    "            break\n",
    "        else:\n",
    "            print('Makerobo input error, please try again!') # 输入错误，再次输入\n",
    "    while True:\n",
    "        makerobo_rotary(clb_direction)       # 让步进电机旋转\n",
    "\n",
    "# 释放资源\n",
    "def destroy():\n",
    "    for i in makerobo_motorPin:\n",
    "        GPIO.output(i, GPIO.LOW) # 设置步进电机的所有管脚为输出模式\n",
    "    GPIO.cleanup() # 释放资源\n",
    "\n",
    "# 程序入口\n",
    "if __name__ == '__main__':\n",
    "    makerobo_setup()   # 初始化设置函数\n",
    "    try:\n",
    "        makerobo_loop()  # 循环函数\n",
    "    except KeyboardInterrupt:   # 当按下Ctrl+C时，将执行destroy()子程序。\n",
    "        destroy()  # 资源释放"
   ]
  }
 ],
 "metadata": {
  "kernelspec": {
   "display_name": "Python 3",
   "language": "python",
   "name": "python3"
  },
  "language_info": {
   "codemirror_mode": {
    "name": "ipython",
    "version": 3
   },
   "file_extension": ".py",
   "mimetype": "text/x-python",
   "name": "python",
   "nbconvert_exporter": "python",
   "pygments_lexer": "ipython3",
   "version": "3.6.9"
  }
 },
 "nbformat": 4,
 "nbformat_minor": 4
}
