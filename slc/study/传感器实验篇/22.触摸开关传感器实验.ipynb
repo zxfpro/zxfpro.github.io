{
 "cells": [
  {
   "cell_type": "markdown",
   "metadata": {},
   "source": [
    "<center><img src=\"./imge/CLBLOGO.jpg\" alt=\"创乐博\" style=\"width: 300px;\"/></center>\n",
    "\n",
    "# 22.触摸开关传感器实验\n",
    "\n",
    "@－－－－湖南创乐博智能科技有限公司－－－－<br>\n",
    "@  文件名：23.触摸开关传感器实验.py <br>\n",
    "@  版本：V2.0 <br>\n",
    "@  author: zhulin<br>\n",
    "@  说明：触摸开关传感器实验\n",
    "我们一起来学习一下触摸开关传感器实验吧！！<br>"
   ]
  },
  {
   "cell_type": "code",
   "execution_count": null,
   "metadata": {},
   "outputs": [
    {
     "name": "stdout",
     "output_type": "stream",
     "text": [
      "*************************\n",
      "* Makerobo Have a touch *\n",
      "*************************\n",
      "*****************************\n",
      "* Makerobo No touch occurred*\n",
      "*****************************\n",
      "*************************\n",
      "* Makerobo Have a touch *\n",
      "*************************\n",
      "*****************************\n",
      "* Makerobo No touch occurred*\n",
      "*****************************\n"
     ]
    }
   ],
   "source": [
    "import RPi.GPIO as GPIO\n",
    "\n",
    "makerobo_TouchPin = 11   # 触摸传感器管脚PIN\n",
    "makerobo_Rpin     = 12   # 红色LED管脚PIN\n",
    "makerobo_Gpin     = 13   # 绿色LED管脚PIN\n",
    "\n",
    "makerobo_tmp = 0    #是否有触摸判断 \n",
    "\n",
    "# GPIO口定义\n",
    "def makerobo_setup():\n",
    "    GPIO.setmode(GPIO.BOARD)       # 采用实际的物理管脚给GPIO口\n",
    "    GPIO.setwarnings(False)        # 忽略GPIO操作注意警告\n",
    "    GPIO.setup(makerobo_Rpin, GPIO.OUT)     # 设置红色LED管脚为输出模式\n",
    "    GPIO.setup(makerobo_Gpin, GPIO.OUT)     # 设置绿色LED管脚为输出模式\n",
    "    GPIO.setup(makerobo_TouchPin, GPIO.IN, pull_up_down=GPIO.PUD_UP)    # 设置makerobo_TouchPin管脚为输入模式，上拉至高电平(3.3V)\n",
    "\n",
    "# 双色LED模块驱动子函数\n",
    "def double_colorLED(x):\n",
    "    if x == 1:          # x为1时，开启红色LED灯\n",
    "        GPIO.output(makerobo_Rpin, 1)\n",
    "        GPIO.output(makerobo_Gpin, 0)\n",
    "    if x == 0:         # x为0时，开启绿色LED灯\n",
    "        GPIO.output(makerobo_Rpin, 0)\n",
    "        GPIO.output(makerobo_Gpin, 1)\t\n",
    "\n",
    "# 打印函数，显示出是否有触摸\n",
    "def makerobo_Print(x):\n",
    "    global makerobo_tmp\n",
    "    if x != makerobo_tmp:\n",
    "        if x == 1:    #  发生触摸\n",
    "            print ('*************************')\n",
    "            print ('* Makerobo Have a touch *')\n",
    "            print ('*************************')\n",
    "\n",
    "        if x == 0:    # 没有发生触摸\n",
    "            print ('*****************************')\n",
    "            print ('* Makerobo No touch occurred*')\n",
    "            print ('*****************************')\n",
    "        makerobo_tmp = x  # 触摸状态值保存和下次做比较，避免重复打印\n",
    "\n",
    "# 循环函数\n",
    "def makerobo_loop():\n",
    "    while True:  # 无限循环\n",
    "        double_colorLED(GPIO.input(makerobo_TouchPin)) # 调用双色LED模块驱动子函数\n",
    "        makerobo_Print(GPIO.input(makerobo_TouchPin))  # 调用打印函数，显示出是否有触摸\n",
    "\n",
    "# 资源释放函数\n",
    "def destroy():\n",
    "    GPIO.output(makerobo_Gpin, GPIO.LOW)       # 关闭绿色LED\n",
    "    GPIO.output(makerobo_Rpin, GPIO.LOW)       # 关闭红色LED\n",
    "    GPIO.cleanup()                     # 释放资源\n",
    "\n",
    "# 程序入口\n",
    "if __name__ == '__main__':    \n",
    "    makerobo_setup()  # GPIO口定义\n",
    "    try:\n",
    "        makerobo_loop() # 循环函数\n",
    "    except KeyboardInterrupt:   # 当按下Ctrl+C时，将执行destroy()子程序。\n",
    "        destroy() # 资源释放函数"
   ]
  }
 ],
 "metadata": {
  "kernelspec": {
   "display_name": "Python 3",
   "language": "python",
   "name": "python3"
  },
  "language_info": {
   "codemirror_mode": {
    "name": "ipython",
    "version": 3
   },
   "file_extension": ".py",
   "mimetype": "text/x-python",
   "name": "python",
   "nbconvert_exporter": "python",
   "pygments_lexer": "ipython3",
   "version": "3.6.9"
  }
 },
 "nbformat": 4,
 "nbformat_minor": 4
}
