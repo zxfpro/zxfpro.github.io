{
 "cells": [
  {
   "cell_type": "markdown",
   "metadata": {},
   "source": [
    "<center><img src=\"./imge/CLBLOGO.jpg\" alt=\"创乐博\" style=\"width: 300px;\"/></center>\n",
    "\n",
    "# 15.电位器传感器实验\n",
    "\n",
    "@－－－－湖南创乐博智能科技有限公司－－－－<br>\n",
    "@  文件名：15.电位器传感器实验.py <br>\n",
    "@  版本：V2.0 <br>\n",
    "@  author: zhulin<br>\n",
    "@  说明：电位器传感器实验\n",
    "我们一起来学习一下电位器传感器实验吧！<br>"
   ]
  },
  {
   "cell_type": "code",
   "execution_count": null,
   "metadata": {},
   "outputs": [
    {
     "name": "stdout",
     "output_type": "stream",
     "text": [
      "Potentiometer Value: 173\n",
      "Potentiometer Value: 173\n",
      "Potentiometer Value: 173\n",
      "Potentiometer Value: 173\n",
      "Potentiometer Value: 173\n",
      "Potentiometer Value: 173\n",
      "Potentiometer Value: 173\n",
      "Potentiometer Value: 173\n",
      "Potentiometer Value: 173\n",
      "Potentiometer Value: 173\n",
      "Potentiometer Value: 173\n",
      "Potentiometer Value: 173\n",
      "Potentiometer Value: 173\n",
      "Potentiometer Value: 173\n",
      "Potentiometer Value: 173\n",
      "Potentiometer Value: 173\n",
      "Potentiometer Value: 173\n",
      "Potentiometer Value: 43\n",
      "Potentiometer Value: 19\n",
      "Potentiometer Value: 0\n",
      "Potentiometer Value: 69\n",
      "Potentiometer Value: 91\n",
      "Potentiometer Value: 152\n",
      "Potentiometer Value: 150\n",
      "Potentiometer Value: 113\n",
      "Potentiometer Value: 113\n",
      "Potentiometer Value: 113\n",
      "Potentiometer Value: 113\n",
      "Potentiometer Value: 113\n",
      "Potentiometer Value: 113\n",
      "Potentiometer Value: 113\n",
      "Potentiometer Value: 113\n",
      "Potentiometer Value: 113\n",
      "Potentiometer Value: 113\n",
      "Potentiometer Value: 113\n",
      "Potentiometer Value: 113\n",
      "Potentiometer Value: 113\n",
      "Potentiometer Value: 113\n",
      "Potentiometer Value: 113\n",
      "Potentiometer Value: 113\n",
      "Potentiometer Value: 113\n",
      "Potentiometer Value: 113\n",
      "Potentiometer Value: 113\n",
      "Potentiometer Value: 113\n",
      "Potentiometer Value: 113\n",
      "Potentiometer Value: 113\n",
      "Potentiometer Value: 113\n"
     ]
    }
   ],
   "source": [
    "import PCF8591 as ADC\n",
    "import time\n",
    "\n",
    "# 模块地址设置\n",
    "def makerobo_setup():\n",
    "    ADC.setup(0x48)  # 设置PCF8591模块地址\n",
    "\n",
    "# 无限循环\n",
    "def makerobo_loop():\n",
    "    makerobo_status = 1 # 给状态变量赋1值\n",
    "    while True:   # 无限循环\n",
    "        print ('Potentiometer Value:', ADC.read(0)) # 获取AIN0上的值，读取电位器模拟量值；\n",
    "        makerobo_Value = ADC.read(0)   # 打印出该值\n",
    "        makerobo_outvalue = map(makerobo_Value,0,255,10,255) # 通过map函数按比例缩放到一个具体的范围\n",
    "        ADC.write(makerobo_outvalue)  # 控制AOUT输出电平控制LED灯\n",
    "        time.sleep(0.2)               # 延时200ms\n",
    "# 释放资源\n",
    "def destroy():\n",
    "    ADC.write(0) # 给AOUT 赋值 0，关闭LED显示\n",
    "\n",
    "# 范围区域变换函数\n",
    "def map(x, in_min, in_max, out_min, out_max):\n",
    "        '''从一个范围区域转换到另一个范围区域'''\n",
    "        return (x - in_min) * (out_max - out_min) / (in_max - in_min) + out_min\n",
    "# 程序入口\n",
    "if __name__ == '__main__':\n",
    "    try:\n",
    "        makerobo_setup() # 初始化函数\n",
    "        makerobo_loop()  # 无限循环\n",
    "    except KeyboardInterrupt:  # 当按下Ctrl+C时，将执行destroy()子程序。\n",
    "        destroy() # 释放资源"
   ]
  }
 ],
 "metadata": {
  "kernelspec": {
   "display_name": "Python 3",
   "language": "python",
   "name": "python3"
  },
  "language_info": {
   "codemirror_mode": {
    "name": "ipython",
    "version": 3
   },
   "file_extension": ".py",
   "mimetype": "text/x-python",
   "name": "python",
   "nbconvert_exporter": "python",
   "pygments_lexer": "ipython3",
   "version": "3.6.9"
  }
 },
 "nbformat": 4,
 "nbformat_minor": 4
}
