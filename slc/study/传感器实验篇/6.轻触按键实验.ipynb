{
 "cells": [
  {
   "cell_type": "markdown",
   "metadata": {},
   "source": [
    "<center><img src=\"./imge/CLBLOGO.jpg\" alt=\"创乐博\" style=\"width: 300px;\"/></center>\n",
    "\n",
    "# 6.轻触按键实验\n",
    "\n",
    "@－－－－湖南创乐博智能科技有限公司－－－－<br>\n",
    "@  文件名：6.轻触按键实验.py <br>\n",
    "@  版本：V2.0 <br>\n",
    "@  author: zhulin<br>\n",
    "@  说明：轻触按键实验\n",
    "我们一起来学习一下GPIO口的输入模式吧，采用轻触按键来简单控制！<br>\n"
   ]
  },
  {
   "cell_type": "code",
   "execution_count": null,
   "metadata": {},
   "outputs": [
    {
     "name": "stdout",
     "output_type": "stream",
     "text": [
      "Starting demo now! Press CTRL+C to exit\n",
      "Blink LED 2\n",
      "Blink LED 2\n",
      "Blink LED 2\n",
      "Blink LED 2\n",
      "Blink LED 2\n",
      "Blink LED 2\n"
     ]
    }
   ],
   "source": [
    "import RPi.GPIO as GPIO\n",
    "import time\n",
    "\n",
    "# Pin Definitions:\n",
    "led_pin_1 = 12\n",
    "led_pin_2 = 13\n",
    "but_pin = 11\n",
    "\n",
    "# blink LED 2 quickly 5 times when button pressed\n",
    "def blink(channel):\n",
    "    print(\"Blink LED 2\")\n",
    "    for i in range(5):\n",
    "        GPIO.output(led_pin_2, GPIO.HIGH)\n",
    "        time.sleep(0.5)\n",
    "        GPIO.output(led_pin_2, GPIO.LOW)\n",
    "        time.sleep(0.5)\n",
    "\n",
    "def main():\n",
    "    # Pin Setup:\n",
    "    GPIO.setmode(GPIO.BOARD)  # BOARD pin-numbering scheme\n",
    "    GPIO.setwarnings(False)\n",
    "    GPIO.setup([led_pin_1, led_pin_2], GPIO.OUT)  # LED pins set as output\n",
    "    GPIO.setup(but_pin, GPIO.IN)  # button pin set as input\n",
    "\n",
    "    # Initial state for LEDs:\n",
    "    GPIO.output(led_pin_1, GPIO.LOW)\n",
    "    GPIO.output(led_pin_2, GPIO.LOW)\n",
    "\n",
    "    GPIO.add_event_detect(but_pin, GPIO.FALLING, callback=blink, bouncetime=10)\n",
    "    print(\"Starting demo now! Press CTRL+C to exit\")\n",
    "    try:\n",
    "        while True:\n",
    "            # blink LED 1 slowly\n",
    "            GPIO.output(led_pin_1, GPIO.HIGH)\n",
    "            time.sleep(2)\n",
    "            GPIO.output(led_pin_1, GPIO.LOW)\n",
    "            time.sleep(2)\n",
    "    finally:\n",
    "        GPIO.cleanup()  # cleanup all GPIOs\n",
    "\n",
    "if __name__ == '__main__':\n",
    "    main()"
   ]
  },
  {
   "cell_type": "code",
   "execution_count": null,
   "metadata": {},
   "outputs": [],
   "source": []
  }
 ],
 "metadata": {
  "kernelspec": {
   "display_name": "Python 3",
   "language": "python",
   "name": "python3"
  },
  "language_info": {
   "codemirror_mode": {
    "name": "ipython",
    "version": 3
   },
   "file_extension": ".py",
   "mimetype": "text/x-python",
   "name": "python",
   "nbconvert_exporter": "python",
   "pygments_lexer": "ipython3",
   "version": "3.6.9"
  }
 },
 "nbformat": 4,
 "nbformat_minor": 4
}
