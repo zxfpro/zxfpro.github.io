{
 "cells": [
  {
   "cell_type": "markdown",
   "metadata": {},
   "source": [
    "<center><img src=\"./imge/CLBLOGO.jpg\" alt=\"创乐博\" style=\"width: 300px;\"/></center>\n",
    "\n",
    "# 5.激光传感器实验\n",
    "\n",
    "@－－－－湖南创乐博智能科技有限公司－－－－<br>\n",
    "@  文件名：5.激光传感器模块实验.py <br>\n",
    "@  版本：V2.0 <br>\n",
    "@  author: zhulin<br>\n",
    "@  说明：激光传感器模块实验\n",
    "我们一起来学习一下激光传感器模块的简单控制！<br>"
   ]
  },
  {
   "cell_type": "markdown",
   "metadata": {},
   "source": [
    "## 5.1 导入必要的库文件"
   ]
  },
  {
   "cell_type": "code",
   "execution_count": 1,
   "metadata": {},
   "outputs": [],
   "source": [
    "import RPi.GPIO as GPIO\n",
    "import time"
   ]
  },
  {
   "cell_type": "markdown",
   "metadata": {},
   "source": [
    "## 5.2 定义激光传感器的GPIO口"
   ]
  },
  {
   "cell_type": "code",
   "execution_count": 2,
   "metadata": {},
   "outputs": [],
   "source": [
    "makerobo_LaserPin = 11     # 定义激光传感器管脚为Pin11 "
   ]
  },
  {
   "cell_type": "markdown",
   "metadata": {},
   "source": [
    "## 5.3 初始化工作"
   ]
  },
  {
   "cell_type": "code",
   "execution_count": 3,
   "metadata": {},
   "outputs": [],
   "source": [
    "# 初始化工作\n",
    "def makerobo_setup():\n",
    "    GPIO.setmode(GPIO.BOARD)       # 采用实际的物理管脚给GPIO口\n",
    "    GPIO.setwarnings(False)         # 去除GPIO口警告\n",
    "    GPIO.setup(makerobo_LaserPin, GPIO.OUT)   # 设置Pin模式为输出模式\n",
    "    GPIO.output(makerobo_LaserPin, GPIO.LOW)  # 设置激光传感器管脚为低电平(0V)关闭激光传感器"
   ]
  },
  {
   "cell_type": "markdown",
   "metadata": {},
   "source": [
    "## 4.4 循环执行"
   ]
  },
  {
   "cell_type": "code",
   "execution_count": 4,
   "metadata": {},
   "outputs": [],
   "source": [
    "def makerobo_loop():\n",
    "    while True:\n",
    "        # 打开激光传感器\n",
    "        GPIO.output(makerobo_LaserPin, GPIO.HIGH)  # 打开激光传感器\n",
    "        time.sleep(0.5)                       # 延时500mm\n",
    "        # 关闭激光传感器\n",
    "        GPIO.output(makerobo_LaserPin, GPIO.LOW) # 关闭激光传感器\n",
    "        time.sleep(0.5)                     # 延时500mm"
   ]
  },
  {
   "cell_type": "markdown",
   "metadata": {},
   "source": [
    "## 4.5 程序入口执行"
   ]
  },
  {
   "cell_type": "code",
   "execution_count": null,
   "metadata": {},
   "outputs": [],
   "source": [
    "# 释放资源\n",
    "def makerobo_destroy():\n",
    "    GPIO.output(makerobo_LaserPin, GPIO.LOW)    # 关闭激光传感器\n",
    "    GPIO.cleanup()                         # 释放资源\n",
    "\n",
    "# 程序入口\n",
    "if __name__ == '__main__':     \n",
    "    makerobo_setup()            # 初始化工作\n",
    "    try:\n",
    "        makerobo_loop()         # 循环函数\n",
    "    except KeyboardInterrupt:   # 当按下Ctrl+C时，将执行destroy()子程序。\n",
    "        makerobo_destroy()      # 释放资源"
   ]
  },
  {
   "cell_type": "code",
   "execution_count": null,
   "metadata": {},
   "outputs": [],
   "source": []
  }
 ],
 "metadata": {
  "kernelspec": {
   "display_name": "Python 3",
   "language": "python",
   "name": "python3"
  },
  "language_info": {
   "codemirror_mode": {
    "name": "ipython",
    "version": 3
   },
   "file_extension": ".py",
   "mimetype": "text/x-python",
   "name": "python",
   "nbconvert_exporter": "python",
   "pygments_lexer": "ipython3",
   "version": "3.6.9"
  }
 },
 "nbformat": 4,
 "nbformat_minor": 4
}
