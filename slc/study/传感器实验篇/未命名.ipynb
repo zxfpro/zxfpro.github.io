{
 "cells": [
  {
   "cell_type": "code",
   "execution_count": 1,
   "metadata": {},
   "outputs": [
    {
     "name": "stdout",
     "output_type": "stream",
     "text": [
      "正在读取软件包列表... 完成0%\n",
      "正在分析软件包的依赖关系树       \n",
      "正在读取状态信息... 完成         \n",
      "下列软件包是自动安装的并且现在不需要了：\n",
      "  apt-clone archdetect-deb bogl-bterm busybox-static cryptsetup-bin\n",
      "  dpkg-repack gir1.2-timezonemap-1.0 gir1.2-xkl-1.0 grub-common gyp\n",
      "  kde-window-manager kinit kio kpackagetool5 kwayland-data kwin-common\n",
      "  kwin-data kwin-x11 libc-ares2 libdebian-installer4 libhttp-parser2.7.1\n",
      "  libjs-async libjs-inherits libjs-node-uuid libjs-underscore\n",
      "  libkdecorations2-5v5 libkdecorations2private5v5 libkf5activities5\n",
      "  libkf5attica5 libkf5completion-data libkf5completion5 libkf5declarative-data\n",
      "  libkf5declarative5 libkf5doctools5 libkf5globalaccel-data libkf5globalaccel5\n",
      "  libkf5globalaccelprivate5 libkf5idletime5 libkf5jobwidgets-data\n",
      "  libkf5jobwidgets5 libkf5kcmutils-data libkf5kcmutils5 libkf5kiocore5\n",
      "  libkf5kiontlm5 libkf5kiowidgets5 libkf5newstuff-data libkf5newstuff5\n",
      "  libkf5newstuffcore5 libkf5package-data libkf5package5 libkf5plasma5\n",
      "  libkf5quickaddons5 libkf5solid5 libkf5solid5-data libkf5sonnet5-data\n",
      "  libkf5sonnetcore5 libkf5sonnetui5 libkf5textwidgets-data libkf5textwidgets5\n",
      "  libkf5waylandclient5 libkf5waylandserver5 libkf5xmlgui-bin libkf5xmlgui-data\n",
      "  libkf5xmlgui5 libkscreenlocker5 libkwin4-effect-builtins1 libkwineffects11\n",
      "  libkwinglutils11 libkwinxrenderutils11 libqgsttools-p1 libqt5designer5\n",
      "  libqt5help5 libqt5multimedia5 libqt5multimedia5-plugins\n",
      "  libqt5multimediaquick-p5 libqt5multimediawidgets5 libqt5quickwidgets5\n",
      "  libssl1.0-dev libuv1-dev libxcb-composite0 libxcb-cursor0 libxcb-damage0\n",
      "  node-abbrev node-ansi node-ansi-color-table node-archy node-async\n",
      "  node-balanced-match node-block-stream node-brace-expansion\n",
      "  node-builtin-modules node-combined-stream node-concat-map node-cookie-jar\n",
      "  node-delayed-stream node-forever-agent node-form-data node-fs.realpath\n",
      "  node-fstream node-fstream-ignore node-github-url-from-git node-glob\n",
      "  node-graceful-fs node-gyp node-hosted-git-info node-inflight node-inherits\n",
      "  node-ini node-is-builtin-module node-isexe node-json-stringify-safe\n",
      "  node-lockfile node-lru-cache node-mime node-minimatch node-mkdirp\n",
      "  node-mute-stream node-node-uuid node-nopt node-normalize-package-data\n",
      "  node-npmlog node-once node-osenv node-path-is-absolute node-pseudomap\n",
      "  node-qs node-read node-read-package-json node-request node-retry node-rimraf\n",
      "  node-semver node-sha node-slide node-spdx-correct node-spdx-expression-parse\n",
      "  node-spdx-license-ids node-tar node-tunnel-agent node-underscore\n",
      "  node-validate-npm-package-license node-which node-wrappy node-yallist\n",
      "  nodejs-doc os-prober python3-dbus.mainloop.pyqt5 python3-icu python3-pam\n",
      "  python3-pyqt5 python3-pyqt5.qtsvg python3-pyqt5.qtwebkit\n",
      "  qml-module-org-kde-kquickcontrolsaddons qml-module-qtmultimedia\n",
      "  qml-module-qtquick2 rdate tasksel tasksel-data\n",
      "使用'sudo apt autoremove'来卸载它(它们)。\n",
      "建议安装：\n",
      "  python3-wxgtk3.0 | python3-wxgtk\n",
      "下列【新】软件包将被安装：\n",
      "  python3-serial\n",
      "升级了 0 个软件包，新安装了 1 个软件包，要卸载 0 个软件包，有 510 个软件包未被升级。\n",
      "需要下载 56.5 kB 的归档。\n",
      "解压缩后会消耗 376 kB 的额外空间。\n",
      "获取:1 http://ports.ubuntu.com/ubuntu-ports bionic/main arm64 python3-serial all 3.4-2 [56.5 kB]\n",
      "已下载 56.5 kB，耗时 4秒 (16.1 kB/s)             \n",
      "debconf: delaying package configuration, since apt-utils is not installed\n",
      "正在选中未选择的软件包 python3-serial。\n",
      "(正在读取数据库 ... 系统当前共安装有 178136 个文件和目录。)\n",
      "正准备解包 .../python3-serial_3.4-2_all.deb  ...\n",
      "正在解包 python3-serial (3.4-2) ...\n",
      "正在设置 python3-serial (3.4-2) ...\n"
     ]
    }
   ],
   "source": [
    "!sudo apt-get install python3-serial"
   ]
  },
  {
   "cell_type": "code",
   "execution_count": 2,
   "metadata": {},
   "outputs": [],
   "source": [
    "import serial"
   ]
  },
  {
   "cell_type": "code",
   "execution_count": 3,
   "metadata": {
    "collapsed": true,
    "jupyter": {
     "outputs_hidden": true
    }
   },
   "outputs": [
    {
     "name": "stdout",
     "output_type": "stream",
     "text": [
      "正在读取软件包列表... 完成0%\n",
      "正在分析软件包的依赖关系树       \n",
      "正在读取状态信息... 完成         \n",
      "下列软件包是自动安装的并且现在不需要了：\n",
      "  apt-clone archdetect-deb bogl-bterm busybox-static cryptsetup-bin\n",
      "  dpkg-repack gir1.2-timezonemap-1.0 gir1.2-xkl-1.0 grub-common gyp\n",
      "  kde-window-manager kinit kio kpackagetool5 kwayland-data kwin-common\n",
      "  kwin-data kwin-x11 libc-ares2 libdebian-installer4 libhttp-parser2.7.1\n",
      "  libjs-async libjs-inherits libjs-node-uuid libjs-underscore\n",
      "  libkdecorations2-5v5 libkdecorations2private5v5 libkf5activities5\n",
      "  libkf5attica5 libkf5completion-data libkf5completion5 libkf5declarative-data\n",
      "  libkf5declarative5 libkf5doctools5 libkf5globalaccel-data libkf5globalaccel5\n",
      "  libkf5globalaccelprivate5 libkf5idletime5 libkf5jobwidgets-data\n",
      "  libkf5jobwidgets5 libkf5kcmutils-data libkf5kcmutils5 libkf5kiocore5\n",
      "  libkf5kiontlm5 libkf5kiowidgets5 libkf5newstuff-data libkf5newstuff5\n",
      "  libkf5newstuffcore5 libkf5package-data libkf5package5 libkf5plasma5\n",
      "  libkf5quickaddons5 libkf5solid5 libkf5solid5-data libkf5sonnet5-data\n",
      "  libkf5sonnetcore5 libkf5sonnetui5 libkf5textwidgets-data libkf5textwidgets5\n",
      "  libkf5waylandclient5 libkf5waylandserver5 libkf5xmlgui-bin libkf5xmlgui-data\n",
      "  libkf5xmlgui5 libkscreenlocker5 libkwin4-effect-builtins1 libkwineffects11\n",
      "  libkwinglutils11 libkwinxrenderutils11 libqgsttools-p1 libqt5designer5\n",
      "  libqt5help5 libqt5multimedia5 libqt5multimedia5-plugins\n",
      "  libqt5multimediaquick-p5 libqt5multimediawidgets5 libqt5quickwidgets5\n",
      "  libssl1.0-dev libuv1-dev libxcb-composite0 libxcb-cursor0 libxcb-damage0\n",
      "  node-abbrev node-ansi node-ansi-color-table node-archy node-async\n",
      "  node-balanced-match node-block-stream node-brace-expansion\n",
      "  node-builtin-modules node-combined-stream node-concat-map node-cookie-jar\n",
      "  node-delayed-stream node-forever-agent node-form-data node-fs.realpath\n",
      "  node-fstream node-fstream-ignore node-github-url-from-git node-glob\n",
      "  node-graceful-fs node-gyp node-hosted-git-info node-inflight node-inherits\n",
      "  node-ini node-is-builtin-module node-isexe node-json-stringify-safe\n",
      "  node-lockfile node-lru-cache node-mime node-minimatch node-mkdirp\n",
      "  node-mute-stream node-node-uuid node-nopt node-normalize-package-data\n",
      "  node-npmlog node-once node-osenv node-path-is-absolute node-pseudomap\n",
      "  node-qs node-read node-read-package-json node-request node-retry node-rimraf\n",
      "  node-semver node-sha node-slide node-spdx-correct node-spdx-expression-parse\n",
      "  node-spdx-license-ids node-tar node-tunnel-agent node-underscore\n",
      "  node-validate-npm-package-license node-which node-wrappy node-yallist\n",
      "  nodejs-doc os-prober python3-dbus.mainloop.pyqt5 python3-icu python3-pam\n",
      "  python3-pyqt5 python3-pyqt5.qtsvg python3-pyqt5.qtwebkit\n",
      "  qml-module-org-kde-kquickcontrolsaddons qml-module-qtmultimedia\n",
      "  qml-module-qtquick2 rdate tasksel tasksel-data\n",
      "使用'sudo apt autoremove'来卸载它(它们)。\n",
      "将会同时安装下列软件：\n",
      "  lrzsz\n",
      "下列【新】软件包将被安装：\n",
      "  lrzsz minicom\n",
      "升级了 0 个软件包，新安装了 2 个软件包，要卸载 0 个软件包，有 510 个软件包未被升级。\n",
      "需要下载 297 kB 的归档。\n",
      "解压缩后会消耗 1,463 kB 的额外空间。\n",
      "获取:1 http://ports.ubuntu.com/ubuntu-ports bionic-updates/universe arm64 lrzsz arm64 0.12.21-10~build0.18.04.1 [69.7 kB]\n",
      "获取:2 http://ports.ubuntu.com/ubuntu-ports bionic/universe arm64 minicom arm64 2.7.1-1 [227 kB]\n",
      "已下载 297 kB，耗时 4秒 (74.1 kB/s)      \n",
      "debconf: delaying package configuration, since apt-utils is not installed\n",
      "正在选中未选择的软件包 lrzsz。\n",
      "(正在读取数据库 ... 系统当前共安装有 178172 个文件和目录。)\n",
      "正准备解包 .../lrzsz_0.12.21-10~build0.18.04.1_arm64.deb  ...\n",
      "正在解包 lrzsz (0.12.21-10~build0.18.04.1) ...\n",
      "正在选中未选择的软件包 minicom。\n",
      "正准备解包 .../minicom_2.7.1-1_arm64.deb  ...\n",
      "正在解包 minicom (2.7.1-1) ...\n",
      "正在设置 minicom (2.7.1-1) ...\n",
      "正在设置 lrzsz (0.12.21-10~build0.18.04.1) ...\n",
      "正在处理用于 gnome-menus (3.13.3-11ubuntu1.1) 的触发器 ...\n",
      "正在处理用于 mime-support (3.60ubuntu1) 的触发器 ...\n",
      "正在处理用于 desktop-file-utils (0.23-1ubuntu3.18.04.2) 的触发器 ...\n",
      "正在处理用于 bamfdaemon (0.5.3+18.04.20180207.2-0ubuntu1) 的触发器 ...\n",
      "Rebuilding /usr/share/applications/bamf-2.index...\n",
      "正在处理用于 man-db (2.8.3-2ubuntu0.1) 的触发器 ...\n"
     ]
    }
   ],
   "source": [
    "!sudo apt-get install minicom -y"
   ]
  },
  {
   "cell_type": "code",
   "execution_count": 4,
   "metadata": {},
   "outputs": [],
   "source": [
    "obj = serial.Serial()"
   ]
  },
  {
   "cell_type": "code",
   "execution_count": 5,
   "metadata": {},
   "outputs": [
    {
     "ename": "SerialException",
     "evalue": "Attempting to use a port that is not open",
     "output_type": "error",
     "traceback": [
      "\u001b[0;31m---------------------------------------------------------------------------\u001b[0m",
      "\u001b[0;31mSerialException\u001b[0m                           Traceback (most recent call last)",
      "\u001b[0;32m<ipython-input-5-3e2fd6d96a36>\u001b[0m in \u001b[0;36m<module>\u001b[0;34m\u001b[0m\n\u001b[0;32m----> 1\u001b[0;31m \u001b[0mobj\u001b[0m\u001b[0;34m.\u001b[0m\u001b[0mreadline\u001b[0m\u001b[0;34m(\u001b[0m\u001b[0;34m)\u001b[0m\u001b[0;34m\u001b[0m\u001b[0;34m\u001b[0m\u001b[0m\n\u001b[0m",
      "\u001b[0;32m/usr/local/lib/python3.6/dist-packages/serial/serialposix.py\u001b[0m in \u001b[0;36mread\u001b[0;34m(self, size)\u001b[0m\n\u001b[1;32m    476\u001b[0m         \"\"\"\n\u001b[1;32m    477\u001b[0m         \u001b[0;32mif\u001b[0m \u001b[0;32mnot\u001b[0m \u001b[0mself\u001b[0m\u001b[0;34m.\u001b[0m\u001b[0mis_open\u001b[0m\u001b[0;34m:\u001b[0m\u001b[0;34m\u001b[0m\u001b[0;34m\u001b[0m\u001b[0m\n\u001b[0;32m--> 478\u001b[0;31m             \u001b[0;32mraise\u001b[0m \u001b[0mportNotOpenError\u001b[0m\u001b[0;34m\u001b[0m\u001b[0;34m\u001b[0m\u001b[0m\n\u001b[0m\u001b[1;32m    479\u001b[0m         \u001b[0mread\u001b[0m \u001b[0;34m=\u001b[0m \u001b[0mbytearray\u001b[0m\u001b[0;34m(\u001b[0m\u001b[0;34m)\u001b[0m\u001b[0;34m\u001b[0m\u001b[0;34m\u001b[0m\u001b[0m\n\u001b[1;32m    480\u001b[0m         \u001b[0mtimeout\u001b[0m \u001b[0;34m=\u001b[0m \u001b[0mTimeout\u001b[0m\u001b[0;34m(\u001b[0m\u001b[0mself\u001b[0m\u001b[0;34m.\u001b[0m\u001b[0m_timeout\u001b[0m\u001b[0;34m)\u001b[0m\u001b[0;34m\u001b[0m\u001b[0;34m\u001b[0m\u001b[0m\n",
      "\u001b[0;31mSerialException\u001b[0m: Attempting to use a port that is not open"
     ]
    }
   ],
   "source": [
    "obj.readline()"
   ]
  },
  {
   "cell_type": "code",
   "execution_count": 7,
   "metadata": {},
   "outputs": [
    {
     "ename": "SerialException",
     "evalue": "Attempting to use a port that is not open",
     "output_type": "error",
     "traceback": [
      "\u001b[0;31m---------------------------------------------------------------------------\u001b[0m",
      "\u001b[0;31mSerialException\u001b[0m                           Traceback (most recent call last)",
      "\u001b[0;32m<ipython-input-7-1072e03d60eb>\u001b[0m in \u001b[0;36m<module>\u001b[0;34m\u001b[0m\n\u001b[0;32m----> 1\u001b[0;31m \u001b[0mobj\u001b[0m\u001b[0;34m.\u001b[0m\u001b[0mread\u001b[0m\u001b[0;34m(\u001b[0m\u001b[0;36m12\u001b[0m\u001b[0;34m)\u001b[0m\u001b[0;34m\u001b[0m\u001b[0;34m\u001b[0m\u001b[0m\n\u001b[0m",
      "\u001b[0;32m/usr/local/lib/python3.6/dist-packages/serial/serialposix.py\u001b[0m in \u001b[0;36mread\u001b[0;34m(self, size)\u001b[0m\n\u001b[1;32m    476\u001b[0m         \"\"\"\n\u001b[1;32m    477\u001b[0m         \u001b[0;32mif\u001b[0m \u001b[0;32mnot\u001b[0m \u001b[0mself\u001b[0m\u001b[0;34m.\u001b[0m\u001b[0mis_open\u001b[0m\u001b[0;34m:\u001b[0m\u001b[0;34m\u001b[0m\u001b[0;34m\u001b[0m\u001b[0m\n\u001b[0;32m--> 478\u001b[0;31m             \u001b[0;32mraise\u001b[0m \u001b[0mportNotOpenError\u001b[0m\u001b[0;34m\u001b[0m\u001b[0;34m\u001b[0m\u001b[0m\n\u001b[0m\u001b[1;32m    479\u001b[0m         \u001b[0mread\u001b[0m \u001b[0;34m=\u001b[0m \u001b[0mbytearray\u001b[0m\u001b[0;34m(\u001b[0m\u001b[0;34m)\u001b[0m\u001b[0;34m\u001b[0m\u001b[0;34m\u001b[0m\u001b[0m\n\u001b[1;32m    480\u001b[0m         \u001b[0mtimeout\u001b[0m \u001b[0;34m=\u001b[0m \u001b[0mTimeout\u001b[0m\u001b[0;34m(\u001b[0m\u001b[0mself\u001b[0m\u001b[0;34m.\u001b[0m\u001b[0m_timeout\u001b[0m\u001b[0;34m)\u001b[0m\u001b[0;34m\u001b[0m\u001b[0;34m\u001b[0m\u001b[0m\n",
      "    \u001b[0;31m[... skipping hidden 1 frame]\u001b[0m\n",
      "\u001b[0;32m<ipython-input-6-27b90bad2a84>\u001b[0m in \u001b[0;36m<module>\u001b[0;34m\u001b[0m\n\u001b[0;32m----> 1\u001b[0;31m \u001b[0mobj\u001b[0m\u001b[0;34m.\u001b[0m\u001b[0mread\u001b[0m\u001b[0;34m(\u001b[0m\u001b[0;34m)\u001b[0m\u001b[0;34m\u001b[0m\u001b[0;34m\u001b[0m\u001b[0m\n\u001b[0m",
      "\u001b[0;32m/usr/local/lib/python3.6/dist-packages/serial/serialposix.py\u001b[0m in \u001b[0;36mread\u001b[0;34m(self, size)\u001b[0m\n\u001b[1;32m    476\u001b[0m         \"\"\"\n\u001b[1;32m    477\u001b[0m         \u001b[0;32mif\u001b[0m \u001b[0;32mnot\u001b[0m \u001b[0mself\u001b[0m\u001b[0;34m.\u001b[0m\u001b[0mis_open\u001b[0m\u001b[0;34m:\u001b[0m\u001b[0;34m\u001b[0m\u001b[0;34m\u001b[0m\u001b[0m\n\u001b[0;32m--> 478\u001b[0;31m             \u001b[0;32mraise\u001b[0m \u001b[0mportNotOpenError\u001b[0m\u001b[0;34m\u001b[0m\u001b[0;34m\u001b[0m\u001b[0m\n\u001b[0m\u001b[1;32m    479\u001b[0m         \u001b[0mread\u001b[0m \u001b[0;34m=\u001b[0m \u001b[0mbytearray\u001b[0m\u001b[0;34m(\u001b[0m\u001b[0;34m)\u001b[0m\u001b[0;34m\u001b[0m\u001b[0;34m\u001b[0m\u001b[0m\n\u001b[1;32m    480\u001b[0m         \u001b[0mtimeout\u001b[0m \u001b[0;34m=\u001b[0m \u001b[0mTimeout\u001b[0m\u001b[0;34m(\u001b[0m\u001b[0mself\u001b[0m\u001b[0;34m.\u001b[0m\u001b[0m_timeout\u001b[0m\u001b[0;34m)\u001b[0m\u001b[0;34m\u001b[0m\u001b[0;34m\u001b[0m\u001b[0m\n",
      "    \u001b[0;31m[... skipping hidden 1 frame]\u001b[0m\n",
      "\u001b[0;32m<ipython-input-5-3e2fd6d96a36>\u001b[0m in \u001b[0;36m<module>\u001b[0;34m\u001b[0m\n\u001b[0;32m----> 1\u001b[0;31m \u001b[0mobj\u001b[0m\u001b[0;34m.\u001b[0m\u001b[0mreadline\u001b[0m\u001b[0;34m(\u001b[0m\u001b[0;34m)\u001b[0m\u001b[0;34m\u001b[0m\u001b[0;34m\u001b[0m\u001b[0m\n\u001b[0m",
      "\u001b[0;32m/usr/local/lib/python3.6/dist-packages/serial/serialposix.py\u001b[0m in \u001b[0;36mread\u001b[0;34m(self, size)\u001b[0m\n\u001b[1;32m    476\u001b[0m         \"\"\"\n\u001b[1;32m    477\u001b[0m         \u001b[0;32mif\u001b[0m \u001b[0;32mnot\u001b[0m \u001b[0mself\u001b[0m\u001b[0;34m.\u001b[0m\u001b[0mis_open\u001b[0m\u001b[0;34m:\u001b[0m\u001b[0;34m\u001b[0m\u001b[0;34m\u001b[0m\u001b[0m\n\u001b[0;32m--> 478\u001b[0;31m             \u001b[0;32mraise\u001b[0m \u001b[0mportNotOpenError\u001b[0m\u001b[0;34m\u001b[0m\u001b[0;34m\u001b[0m\u001b[0m\n\u001b[0m\u001b[1;32m    479\u001b[0m         \u001b[0mread\u001b[0m \u001b[0;34m=\u001b[0m \u001b[0mbytearray\u001b[0m\u001b[0;34m(\u001b[0m\u001b[0;34m)\u001b[0m\u001b[0;34m\u001b[0m\u001b[0;34m\u001b[0m\u001b[0m\n\u001b[1;32m    480\u001b[0m         \u001b[0mtimeout\u001b[0m \u001b[0;34m=\u001b[0m \u001b[0mTimeout\u001b[0m\u001b[0;34m(\u001b[0m\u001b[0mself\u001b[0m\u001b[0;34m.\u001b[0m\u001b[0m_timeout\u001b[0m\u001b[0;34m)\u001b[0m\u001b[0;34m\u001b[0m\u001b[0;34m\u001b[0m\u001b[0m\n",
      "\u001b[0;31mSerialException\u001b[0m: Attempting to use a port that is not open"
     ]
    }
   ],
   "source": [
    "obj.read(12)"
   ]
  },
  {
   "cell_type": "code",
   "execution_count": null,
   "metadata": {},
   "outputs": [
    {
     "name": "stderr",
     "output_type": "stream",
     "text": [
      "Exception in thread Thread-4:\n",
      "Traceback (most recent call last):\n",
      "  File \"/usr/lib/python3.6/threading.py\", line 916, in _bootstrap_inner\n",
      "    self.run()\n",
      "  File \"/usr/lib/python3.6/threading.py\", line 864, in run\n",
      "    self._target(*self._args, **self._kwargs)\n",
      "  File \"<ipython-input-15-9f6080c71d4c>\", line 10, in uart_read\n",
      "    res = obj.read()\n",
      "  File \"/usr/local/lib/python3.6/dist-packages/serial/serialposix.py\", line 478, in read\n",
      "    raise portNotOpenError\n",
      "  File \"/usr/local/lib/python3.6/dist-packages/IPython/core/interactiveshell.py\", line 3343, in run_code\n",
      "    exec(code_obj, self.user_global_ns, self.user_ns)\n",
      "  File \"<ipython-input-7-1072e03d60eb>\", line 1, in <module>\n",
      "    obj.read(12)\n",
      "  File \"/usr/local/lib/python3.6/dist-packages/serial/serialposix.py\", line 478, in read\n",
      "    raise portNotOpenError\n",
      "  File \"/usr/local/lib/python3.6/dist-packages/IPython/core/interactiveshell.py\", line 3343, in run_code\n",
      "    exec(code_obj, self.user_global_ns, self.user_ns)\n",
      "  File \"<ipython-input-6-27b90bad2a84>\", line 1, in <module>\n",
      "    obj.read()\n",
      "  File \"/usr/local/lib/python3.6/dist-packages/serial/serialposix.py\", line 478, in read\n",
      "    raise portNotOpenError\n",
      "  File \"/usr/local/lib/python3.6/dist-packages/IPython/core/interactiveshell.py\", line 3343, in run_code\n",
      "    exec(code_obj, self.user_global_ns, self.user_ns)\n",
      "  File \"<ipython-input-5-3e2fd6d96a36>\", line 1, in <module>\n",
      "    obj.readline()\n",
      "  File \"/usr/local/lib/python3.6/dist-packages/serial/serialposix.py\", line 478, in read\n",
      "    raise portNotOpenError\n",
      "serial.serialutil.SerialException: Attempting to use a port that is not open\n",
      "\n"
     ]
    }
   ],
   "source": [
    "import queue\n",
    "\n",
    "import threading\n",
    "\n",
    "Q = queue.Queue(1)\n",
    "\n",
    "def uart_read():\n",
    "    global Q\n",
    "    while True:\n",
    "        res = obj.read()\n",
    "        if len(res)>1:\n",
    "            Q.put(res)\n",
    "            \n",
    "uart_thread = threading.Thread(target=uart_read,daemon=True)\n",
    "uart_thread.start()\n",
    "\n",
    "while True:\n",
    "    if Q.full():\n",
    "        print(Q.get())"
   ]
  },
  {
   "cell_type": "code",
   "execution_count": null,
   "metadata": {},
   "outputs": [],
   "source": []
  }
 ],
 "metadata": {
  "kernelspec": {
   "display_name": "Python 3",
   "language": "python",
   "name": "python3"
  },
  "language_info": {
   "codemirror_mode": {
    "name": "ipython",
    "version": 3
   },
   "file_extension": ".py",
   "mimetype": "text/x-python",
   "name": "python",
   "nbconvert_exporter": "python",
   "pygments_lexer": "ipython3",
   "version": "3.6.9"
  }
 },
 "nbformat": 4,
 "nbformat_minor": 4
}
