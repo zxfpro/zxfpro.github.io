{
 "cells": [
  {
   "cell_type": "markdown",
   "metadata": {},
   "source": [
    "<center><img src=\"./imge/CLBLOGO.jpg\" alt=\"创乐博\" style=\"width: 300px;\"/></center>\n",
    "\n",
    "# 10.干簧管传感器实验\n",
    "\n",
    "@－－－－湖南创乐博智能科技有限公司－－－－<br>\n",
    "@  文件名：10.干簧管传感器实验.py <br>\n",
    "@  版本：V2.0 <br>\n",
    "@  author: zhulin<br>\n",
    "@  说明：干簧管传感器实验\n",
    "我们一起来学习一下干簧管传感器实验！<br>"
   ]
  },
  {
   "cell_type": "code",
   "execution_count": null,
   "metadata": {},
   "outputs": [
    {
     "name": "stdout",
     "output_type": "stream",
     "text": [
      "**********************************************\n",
      "***** makerobo Detected Magnetic Material!   *\n",
      "**********************************************\n",
      "**********************************************\n",
      "***** makerobo Detected Magnetic Material!   *\n",
      "**********************************************\n",
      "**********************************************\n",
      "***** makerobo Detected Magnetic Material!   *\n",
      "**********************************************\n",
      "**********************************************\n",
      "***** makerobo Detected Magnetic Material!   *\n",
      "**********************************************\n",
      "**********************************************\n",
      "***** makerobo Detected Magnetic Material!   *\n",
      "**********************************************\n",
      "**********************************************\n",
      "***** makerobo Detected Magnetic Material!   *\n",
      "**********************************************\n",
      "**********************************************\n",
      "***** makerobo Detected Magnetic Material!   *\n",
      "**********************************************\n"
     ]
    }
   ],
   "source": [
    "import RPi.GPIO as GPIO\n",
    "import time\n",
    "\n",
    "makerobo_ReedPin = 11  #干簧管传感器Pin端口\n",
    "makerobo_Rpin    = 12  #红色LEDPin端口\n",
    "makerobo_Gpin    = 13  #绿色LEDPin端口\n",
    "\n",
    "# GPIO口定义\n",
    "def makerobo_setup():\n",
    "    GPIO.setmode(GPIO.BOARD)       # 采用实际的物理管脚给GPIO口\n",
    "    GPIO.setwarnings(False)                       # 关闭GPIO警告提示\n",
    "    GPIO.setup(makerobo_Rpin, GPIO.OUT)     # 设置红色LED管脚为输出模式\n",
    "    GPIO.setup(makerobo_Gpin, GPIO.OUT)     # 设置绿色LED管脚为输出模式\n",
    "    GPIO.setup(makerobo_ReedPin, GPIO.IN, pull_up_down=GPIO.PUD_UP)    # 设置makerobo_ReedPin管脚为输入模式，上拉至高电平(3.3V)\n",
    "    # 中断函数，当有磁性物质靠近时，调用makerobo_detect函数\n",
    "    GPIO.add_event_detect(makerobo_ReedPin, GPIO.BOTH, callback=makerobo_detect, bouncetime=10)\n",
    "\n",
    "# 双色LED模块驱动子函数\n",
    "def double_colorLED(x):\n",
    "    if x == 0:              # x为0时，开启红色LED灯\n",
    "        GPIO.output(makerobo_Rpin, 1)\n",
    "        GPIO.output(makerobo_Gpin, 0)\n",
    "    if x == 1:             # x为1时，开启绿色LED灯\n",
    "        GPIO.output(makerobo_Rpin, 0)\n",
    "        GPIO.output(makerobo_Gpin, 1)\n",
    "    time.sleep(0.5)\n",
    "\n",
    "# 打印函数，显示出检测到磁性物质\n",
    "def makerobo_Print(x):\n",
    "    if x == 0:\n",
    "        print('**********************************************')\n",
    "        print('***** makerobo Detected Magnetic Material!   *')\n",
    "        print('**********************************************')\n",
    "    time.sleep(0.5)\n",
    "\n",
    "# 中断函数，检测到磁性物质时，响应中断函数\n",
    "def makerobo_detect(chn):\n",
    "    double_colorLED(GPIO.input(makerobo_ReedPin))      # 调用双色LED驱动函数\n",
    "    makerobo_Print(GPIO.input(makerobo_ReedPin))       # 打印出检测到磁性物质！\n",
    "\n",
    "# 循环函数\n",
    "def loop():\n",
    "    while True:\n",
    "        pass\n",
    "\n",
    "def destroy():\n",
    "    GPIO.output(makerobo_Rpin, GPIO.HIGH)       # 关闭红色LED\n",
    "    GPIO.output(makerobo_Gpin, GPIO.HIGH)       # 关闭绿色LED\n",
    "    GPIO.cleanup()                     # 释放资源\n",
    "\n",
    "# 程序入口\n",
    "if __name__ == '__main__':\n",
    "    makerobo_setup() # GPIO 初始化\n",
    "    try:\n",
    "        loop()\n",
    "    finally:\n",
    "        destroy()\n"
   ]
  }
 ],
 "metadata": {
  "kernelspec": {
   "display_name": "Python 3",
   "language": "python",
   "name": "python3"
  },
  "language_info": {
   "codemirror_mode": {
    "name": "ipython",
    "version": 3
   },
   "file_extension": ".py",
   "mimetype": "text/x-python",
   "name": "python",
   "nbconvert_exporter": "python",
   "pygments_lexer": "ipython3",
   "version": "3.6.9"
  }
 },
 "nbformat": 4,
 "nbformat_minor": 4
}
