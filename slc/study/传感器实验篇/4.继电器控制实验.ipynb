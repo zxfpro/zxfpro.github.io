{
 "cells": [
  {
   "cell_type": "markdown",
   "metadata": {},
   "source": [
    "<center><img src=\"./imge/CLBLOGO.jpg\" alt=\"创乐博\" style=\"width: 300px;\"/></center>\n",
    "\n",
    "# 4.继电器控制实验\n",
    "\n",
    "@－－－－湖南创乐博智能科技有限公司－－－－<br>\n",
    "@  文件名：4.继电器控制实验.py <br>\n",
    "@  版本：V2.0 <br>\n",
    "@  author: zhulin<br>\n",
    "@  说明：继电器控制实验\n",
    "从前面的LED灯的控制，我们来学习比较常用的继电器控制实验，可以通过小电流控制大电流设备！<br>"
   ]
  },
  {
   "cell_type": "markdown",
   "metadata": {},
   "source": [
    "## 4.1 导入必要的库文件"
   ]
  },
  {
   "cell_type": "code",
   "execution_count": null,
   "metadata": {},
   "outputs": [],
   "source": [
    "import RPi.GPIO as GPIO\n",
    "import time"
   ]
  },
  {
   "cell_type": "markdown",
   "metadata": {},
   "source": [
    "## 4.2 定义继电器的GPIO口"
   ]
  },
  {
   "cell_type": "code",
   "execution_count": null,
   "metadata": {},
   "outputs": [],
   "source": [
    "makerobo_RelayPin = 11    # 定义继电器管脚为Pin11"
   ]
  },
  {
   "cell_type": "markdown",
   "metadata": {},
   "source": [
    "## 4.3 初始化工作"
   ]
  },
  {
   "cell_type": "code",
   "execution_count": null,
   "metadata": {},
   "outputs": [],
   "source": [
    "# 初始化工作\n",
    "def makerobo_setup():\n",
    "    GPIO.setmode(GPIO.BOARD)        # 采用实际的物理管脚给GPIO口\n",
    "    GPIO.setwarnings(False)        #  忽略GPIO警告\n",
    "    GPIO.setup(makerobo_RelayPin, GPIO.OUT)  # 设置Pin模式为输出模式\n",
    "    GPIO.output(makerobo_RelayPin, GPIO.LOW) # 关闭继电器"
   ]
  },
  {
   "cell_type": "markdown",
   "metadata": {},
   "source": [
    "## 4.4 循环执行"
   ]
  },
  {
   "cell_type": "code",
   "execution_count": null,
   "metadata": {},
   "outputs": [],
   "source": [
    "# 循环函数\n",
    "def makerobo_loop():\n",
    "    while True:\n",
    "        # 如果是低电平有效，则为关闭继电器\n",
    "        # 继电器打开\n",
    "        GPIO.output(makerobo_RelayPin, GPIO.HIGH)\n",
    "        time.sleep(0.5)                      # 延时500ms\n",
    "        # 如果是低电平有效，则为使能继电器\n",
    "        # 继电器关闭\n",
    "        GPIO.output(makerobo_RelayPin, GPIO.LOW)\n",
    "        time.sleep(0.5) "
   ]
  },
  {
   "cell_type": "markdown",
   "metadata": {},
   "source": [
    "## 4.5 程序入口执行"
   ]
  },
  {
   "cell_type": "code",
   "execution_count": null,
   "metadata": {},
   "outputs": [],
   "source": [
    "# 释放资源\n",
    "def makerobo_destroy():\n",
    "    GPIO.output(makerobo_RelayPin, GPIO.LOW) # 关闭继电器\n",
    "    GPIO.cleanup()                      # 释放资源\n",
    "\n",
    "# 程序入口\n",
    "if __name__ == '__main__':\n",
    "    makerobo_setup()           #  初始化\n",
    "    try:\n",
    "        makerobo_loop()        #  调用循环函数\n",
    "    except KeyboardInterrupt:  #  当按下Ctrl+C时，将执行destroy()子程序。\n",
    "        makerobo_destroy()     #  释放资源"
   ]
  },
  {
   "cell_type": "code",
   "execution_count": null,
   "metadata": {},
   "outputs": [],
   "source": []
  }
 ],
 "metadata": {
  "kernelspec": {
   "display_name": "Python 3",
   "language": "python",
   "name": "python3"
  },
  "language_info": {
   "codemirror_mode": {
    "name": "ipython",
    "version": 3
   },
   "file_extension": ".py",
   "mimetype": "text/x-python",
   "name": "python",
   "nbconvert_exporter": "python",
   "pygments_lexer": "ipython3",
   "version": "3.6.9"
  }
 },
 "nbformat": 4,
 "nbformat_minor": 4
}
