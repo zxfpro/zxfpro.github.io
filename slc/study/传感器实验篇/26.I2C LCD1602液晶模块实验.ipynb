{
 "cells": [
  {
   "cell_type": "markdown",
   "metadata": {},
   "source": [
    "<center><img src=\"./imge/CLBLOGO.jpg\" alt=\"创乐博\" style=\"width: 300px;\"/></center>\n",
    "\n",
    "# 26.I2C LCD1602液晶模块实验\n",
    "\n",
    "@－－－－湖南创乐博智能科技有限公司－－－－<br>\n",
    "@  文件名：26.I2C LCD1602液晶模块实验.py <br>\n",
    "@  版本：V2.0 <br>\n",
    "@  author: zhulin<br>\n",
    "@  说明：I2C LCD1602液晶模块实验\n",
    "我们一起来学习互动显示模块吧！！<br>"
   ]
  },
  {
   "cell_type": "code",
   "execution_count": null,
   "metadata": {},
   "outputs": [],
   "source": [
    "import LCD1602    # LCD1602液晶显示屏库\n",
    "import time\n",
    "\n",
    "# 初始化LCD1602液晶模块\n",
    "def makerobo_setup():\n",
    "    LCD1602.makerobo_init(0x27, 1)\t# 初始化(设备地址, 背光设置)\n",
    "    LCD1602.makerobo_write(0, 0, 'Hello!!!')     # 显示第一行信息\n",
    "    LCD1602.makerobo_write(0, 1, 'Makerobo kit') # 显示第二行信息\n",
    "    time.sleep(2)                       # 延时2S\n",
    "\n",
    "# 循环函数\n",
    "def makerobo_loop():\n",
    "    makerobo_space = '                '  # 空显信息\n",
    "    makerobo_greetings = 'Thank you for using the makerobo Jetson Nano kit! ^_^' # 显示提示信息\n",
    "    makerobo_greetings = makerobo_space + makerobo_greetings # 显示信息拼接\n",
    "    # 无线循环\n",
    "    while True:  \n",
    "        makerobo_tmp = makerobo_greetings                    # 获取到显示信息\n",
    "        for i in range(0, len(makerobo_greetings)):          # 逐一显示\n",
    "            LCD1602.makerobo_write(0, 0, makerobo_tmp)       # 逐个显示\n",
    "            makerobo_tmp = makerobo_tmp[1:]\n",
    "            time.sleep(0.8)                                  # 延时800ms\n",
    "            LCD1602.makerobo_clear()                         # 清除显示\n",
    "\n",
    "# 释放资源\n",
    "def destroy():\n",
    "    pass\n",
    "\n",
    "# 程序入口\n",
    "if __name__ == \"__main__\":\n",
    "    try:\n",
    "        makerobo_setup()      # 初始化信息\n",
    "        makerobo_loop()       # 循环显示信息\n",
    "    except KeyboardInterrupt: # 当按下Ctrl+C时，将执行destroy()子程序。\n",
    "        destroy()             # 释放资源\n"
   ]
  }
 ],
 "metadata": {
  "kernelspec": {
   "display_name": "Python 3",
   "language": "python",
   "name": "python3"
  },
  "language_info": {
   "codemirror_mode": {
    "name": "ipython",
    "version": 3
   },
   "file_extension": ".py",
   "mimetype": "text/x-python",
   "name": "python",
   "nbconvert_exporter": "python",
   "pygments_lexer": "ipython3",
   "version": "3.6.9"
  }
 },
 "nbformat": 4,
 "nbformat_minor": 4
}
