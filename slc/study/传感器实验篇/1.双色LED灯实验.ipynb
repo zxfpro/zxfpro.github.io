{
 "cells": [
  {
   "cell_type": "markdown",
   "metadata": {},
   "source": [
    "<center><img src=\"./imge/CLBLOGO.jpg\" alt=\"创乐博\" style=\"width: 300px;\"/></center>\n",
    "\n",
    "# 1.双色LED灯实验\n",
    "\n",
    "@－－－－湖南创乐博智能科技有限公司－－－－<br>\n",
    "@  文件名：1.双色LED灯实验.py <br>\n",
    "@  版本：V2.0 <br>\n",
    "@  author: zhulin<br>\n",
    "@  说明：双色LED灯实验\n",
    "从最简单的GPIO口的输出控制为例，控制双色LED灯的量灭！<br>"
   ]
  },
  {
   "cell_type": "markdown",
   "metadata": {},
   "source": [
    "## 1.1 调用必要的库函数"
   ]
  },
  {
   "cell_type": "code",
   "execution_count": 1,
   "metadata": {
    "tags": []
   },
   "outputs": [
    {
     "ename": "ModuleNotFoundError",
     "evalue": "No module named 'RPi'",
     "output_type": "error",
     "traceback": [
      "\u001b[0;31m---------------------------------------------------------------------------\u001b[0m",
      "\u001b[0;31mModuleNotFoundError\u001b[0m                       Traceback (most recent call last)",
      "Cell \u001b[0;32mIn[1], line 2\u001b[0m\n\u001b[1;32m      1\u001b[0m \u001b[38;5;66;03m#!/usr/bin/env python3\u001b[39;00m\n\u001b[0;32m----> 2\u001b[0m \u001b[38;5;28;01mimport\u001b[39;00m \u001b[38;5;21;01mRPi\u001b[39;00m\u001b[38;5;21;01m.\u001b[39;00m\u001b[38;5;21;01mGPIO\u001b[39;00m \u001b[38;5;28;01mas\u001b[39;00m \u001b[38;5;21;01mGPIO\u001b[39;00m\n\u001b[1;32m      3\u001b[0m \u001b[38;5;28;01mimport\u001b[39;00m \u001b[38;5;21;01mtime\u001b[39;00m\n",
      "\u001b[0;31mModuleNotFoundError\u001b[0m: No module named 'RPi'"
     ]
    }
   ],
   "source": [
    "#!/usr/bin/env python3\n",
    "import RPi.GPIO as GPIO\n",
    "import time"
   ]
  },
  {
   "cell_type": "markdown",
   "metadata": {},
   "source": [
    "## 1.2 定义GPIO口及输出模式"
   ]
  },
  {
   "cell_type": "code",
   "execution_count": 2,
   "metadata": {},
   "outputs": [],
   "source": [
    "pin_R = 11 # 定义红色LED灯PIN\n",
    "pin_G = 12 # 定义黄色LED灯PIN\n",
    "\n",
    "GPIO.setmode(GPIO.BOARD)       # Numbers GPIOs by physical location\n",
    "GPIO.setwarnings(False)        #  忽略GPIO警告\n",
    "GPIO.setup(pin_R,GPIO.OUT)\n",
    "GPIO.setup(pin_G,GPIO.OUT)\n",
    "\n",
    "\n",
    "def setColor():\n",
    "    GPIO.output(pin_R,GPIO.HIGH)\n",
    "    GPIO.output(pin_G,GPIO.LOW)\n",
    "    time.sleep(1)\n",
    "    GPIO.output(pin_R,GPIO.LOW)\n",
    "    GPIO.output(pin_G,GPIO.HIGH)\n",
    "    time.sleep(1)\n",
    "    \n",
    "def loop():\n",
    "    while True:\n",
    "        setColor()\n",
    "        \n",
    "def destroy():\n",
    "    GPIO.output(pin_R,GPIO.LOW)\n",
    "    GPIO.output(pin_G,GPIO.LOW)\n",
    "    GPIO.cleanup()\n",
    "\n",
    "# 程序入口\n",
    "if __name__ == \"__main__\":\n",
    "    try:\n",
    "        loop()\n",
    "    except KeyboardInterrupt:\n",
    "        destroy()\n"
   ]
  },
  {
   "cell_type": "code",
   "execution_count": null,
   "metadata": {},
   "outputs": [],
   "source": []
  }
 ],
 "metadata": {
  "kernelspec": {
   "display_name": "Python 3",
   "language": "python",
   "name": "python3"
  },
  "language_info": {
   "codemirror_mode": {
    "name": "ipython",
    "version": 3
   },
   "file_extension": ".py",
   "mimetype": "text/x-python",
   "name": "python",
   "nbconvert_exporter": "python",
   "pygments_lexer": "ipython3",
   "version": "3.8.12"
  }
 },
 "nbformat": 4,
 "nbformat_minor": 4
}
