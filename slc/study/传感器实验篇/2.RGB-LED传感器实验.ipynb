{
 "cells": [
  {
   "cell_type": "markdown",
   "metadata": {},
   "source": [
    "<center><img src=\"./imge/CLBLOGO.jpg\" alt=\"创乐博\" style=\"width: 300px;\"/></center>\n",
    "\n",
    "# 2.RGB-LED灯实验\n",
    "\n",
    "@－－－－湖南创乐博智能科技有限公司－－－－<br>\n",
    "@  文件名：2.RGB-LED灯实验.py <br>\n",
    "@  版本：V2.0 <br>\n",
    "@  author: zhulin<br>\n",
    "@  说明：RGB-LED灯实验\n",
    "从最简单的GPIO口的输出控制为例，控制RGB-LED灯的量灭！<br>"
   ]
  },
  {
   "cell_type": "markdown",
   "metadata": {},
   "source": [
    "## 2.1 加载必要的库文件"
   ]
  },
  {
   "cell_type": "code",
   "execution_count": 1,
   "metadata": {},
   "outputs": [],
   "source": [
    "#!/usr/bin/env python3\n",
    "import RPi.GPIO as GPIO\n",
    "import time"
   ]
  },
  {
   "cell_type": "markdown",
   "metadata": {},
   "source": [
    "## 2.2 定义RGB PIN端口"
   ]
  },
  {
   "cell_type": "code",
   "execution_count": 2,
   "metadata": {},
   "outputs": [],
   "source": [
    "Rpin = 11\n",
    "Gpin = 12\n",
    "Bpin = 13"
   ]
  },
  {
   "cell_type": "markdown",
   "metadata": {},
   "source": [
    "## 2.3 初始化"
   ]
  },
  {
   "cell_type": "code",
   "execution_count": 3,
   "metadata": {},
   "outputs": [],
   "source": [
    "def setup():\n",
    "    GPIO.setmode(GPIO.BOARD)       # Numbers GPIOs by physical location\n",
    "    GPIO.setwarnings(False)        #  忽略GPIO警告\n",
    "    GPIO.setup(Rpin,GPIO.OUT,initial=GPIO.LOW)\n",
    "    GPIO.setup(Gpin,GPIO.OUT,initial=GPIO.LOW)\n",
    "    GPIO.setup(Bpin,GPIO.OUT,initial=GPIO.LOW)"
   ]
  },
  {
   "cell_type": "code",
   "execution_count": null,
   "metadata": {},
   "outputs": [],
   "source": [
    "# 关闭所有 LED灯\n",
    "def off():\n",
    "    GPIO.output(Rpin, GPIO.LOW)    # 关闭红色LED灯\n",
    "    GPIO.output(Gpin, GPIO.LOW)    # 关闭绿色LED灯\n",
    "    GPIO.output(Bpin, GPIO.LOW)    # 关闭蓝色LED灯\n",
    "\n",
    "# 设置RGB-LED灯颜色 \n",
    "def setColor():\n",
    "    GPIO.output(Rpin, GPIO.HIGH)    # 打开红色LED灯\n",
    "    GPIO.output(Gpin, GPIO.LOW)    # 关闭绿色LED灯\n",
    "    GPIO.output(Bpin, GPIO.LOW)    # 关闭蓝色LED灯\n",
    "    \n",
    "    time.sleep(1)\n",
    "    \n",
    "    GPIO.output(Rpin, GPIO.LOW)    # 打开红色LED灯\n",
    "    GPIO.output(Gpin, GPIO.HIGH)    # 关闭绿色LED灯\n",
    "    GPIO.output(Bpin, GPIO.LOW)    # 关闭蓝色LED灯\n",
    "\n",
    "    time.sleep(1)\n",
    "    \n",
    "    GPIO.output(Rpin, GPIO.LOW)    # 打开红色LED灯\n",
    "    GPIO.output(Gpin, GPIO.LOW)    # 关闭绿色LED灯\n",
    "    GPIO.output(Bpin, GPIO.HIGH)    # 关闭蓝色LED灯\n",
    "    \n",
    "    time.sleep(1)\n",
    "\n",
    "# 循环语句\n",
    "def loop():\n",
    "    while True:\n",
    "        setColor()\n",
    "\n",
    "# 异常处理\n",
    "def destroy():\n",
    "    off()\n",
    "    GPIO.cleanup()\n",
    "\n",
    "# 程序入口\n",
    "if __name__ == \"__main__\":\n",
    "    try:\n",
    "        setup()\n",
    "        loop()\n",
    "    except KeyboardInterrupt:\n",
    "        destroy()\n"
   ]
  },
  {
   "cell_type": "code",
   "execution_count": null,
   "metadata": {},
   "outputs": [],
   "source": []
  }
 ],
 "metadata": {
  "kernelspec": {
   "display_name": "Python 3",
   "language": "python",
   "name": "python3"
  },
  "language_info": {
   "codemirror_mode": {
    "name": "ipython",
    "version": 3
   },
   "file_extension": ".py",
   "mimetype": "text/x-python",
   "name": "python",
   "nbconvert_exporter": "python",
   "pygments_lexer": "ipython3",
   "version": "3.6.9"
  }
 },
 "nbformat": 4,
 "nbformat_minor": 4
}
