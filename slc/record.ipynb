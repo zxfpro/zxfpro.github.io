{
 "cells": [
  {
   "cell_type": "markdown",
   "id": "151f7b42-1816-4b02-bf79-2f5f61a35cb3",
   "metadata": {},
   "source": [
    "# 杂物"
   ]
  },
  {
   "cell_type": "code",
   "execution_count": null,
   "id": "d2100de4-730e-449a-a3c2-c7ccd2ee1f44",
   "metadata": {},
   "outputs": [],
   "source": [
    "import os\n",
    "\n",
    "import assemblyai as aai\n",
    "\n",
    "aai.settings.api_key = os.environ.get('Assemblyai_API_KEY')\n",
    "transcriber = aai.Transcriber()\n"
   ]
  },
  {
   "cell_type": "code",
   "execution_count": null,
   "id": "e8ea8342-c32b-4ac0-b50a-8c3ee39bbc0e",
   "metadata": {},
   "outputs": [],
   "source": []
  },
  {
   "cell_type": "code",
   "execution_count": 15,
   "id": "c66eabb5-4211-4490-822d-02015439f086",
   "metadata": {},
   "outputs": [],
   "source": [
    "# llama-index 可以读取 ipynb吗?\n",
    "# 将 doc 内外 这两个主路径也作为知识库的内容入口\n"
   ]
  },
  {
   "cell_type": "code",
   "execution_count": null,
   "id": "a76409ed-7d19-4dcf-b8e4-ca512b75822f",
   "metadata": {},
   "outputs": [],
   "source": [
    "# kimi / chatgpt 的聊天历史\n"
   ]
  },
  {
   "cell_type": "code",
   "execution_count": null,
   "id": "cd89cf3a-90b5-4392-985f-afc5369c8326",
   "metadata": {},
   "outputs": [],
   "source": [
    "github 的start 需要处理"
   ]
  },
  {
   "cell_type": "code",
   "execution_count": null,
   "id": "be6f6539-3f30-4bed-b4be-b898083f20bf",
   "metadata": {},
   "outputs": [],
   "source": [
    "1 工具的做标签\n",
    "2 论文的记录地址\n",
    "3 csdn 技术类的直接删除\n",
    "4 公司地址类的"
   ]
  },
  {
   "cell_type": "code",
   "execution_count": null,
   "id": "3a0131bc-4233-4e90-9fad-792aca4d1887",
   "metadata": {},
   "outputs": [],
   "source": [
    "5 api 文档的记录地址\n",
    "\n",
    "https://spinningup.openai.com/en/latest/spinningup/keypapers.html\n",
    "\n",
    "https://developers.home-assistant.io/docs/frontend/architecture/\n",
    "\n",
    "https://www.home-assistant.io/docs/\n",
    "\n",
    "https://huggingface.co/docs/accelerate/usage_guides/deepspeed#saving-and-loading\n",
    "\n",
    "https://docs.videodb.io/quick-start-guide-38\n",
    "\n",
    "https://microsoft.github.io/autogen/docs/Use-Cases/agent_chat/\n",
    "\n",
    "https://serpapi.com/search-api\n",
    "\n",
    "https://graphviz.readthedocs.io/en/stable/examples.html\n",
    "\n",
    "https://microsoft.github.io/presidio/getting_started/#__tabbed_1_1\n",
    "\n",
    "https://hpc.pku.edu.cn/_book/guide/soft_env/tmux.html\n",
    "\n",
    "https://www.promptingguide.ai/techniques/fewshot\n",
    "\n",
    "https://www.promptingguide.ai/zh/techniques/ape\n",
    "\n",
    "https://replicate.com/docs\n",
    "\n",
    "https://jupyterbook.org/en/stable/structure/toc.html\n",
    "\n",
    "https://www.crummy.com/software/BeautifulSoup/bs4/doc/#next-siblings-and-previous-siblings\n",
    "\n",
    "https://www.traceloop.com/docs/openllmetry/getting-started-python"
   ]
  },
  {
   "cell_type": "code",
   "execution_count": null,
   "id": "9e7ee014-7db7-49bb-b71d-8002a48e839b",
   "metadata": {},
   "outputs": [],
   "source": [
    "6 内容多的技术文章考虑\n",
    "\n",
    "https://mp.weixin.qq.com/s/KM8c3PUww1SOK1dbLjn1Tw  LlamaIndex官方年度巨献：高清大图纵览高级 RAG技术，强烈推荐收藏\n",
    "\n",
    "https://xie.infoq.cn/article/16aa3c3cecce1bcd14bdbf65d  人工智能大语言模型微调技术：SFT 监督微调、LoRA 微调方法、P-tuning v2 微调方法、Freeze 监督微调方法| 社区征文\n",
    "\n",
    "https://zhuanlan.zhihu.com/p/675199814  实践篇3:大模型有监督微调SFT(Supervised Finetuning)\n",
    "\n",
    "\n",
    "https://www.cnblogs.com/zzk0/p/15543824.html#_caption_6  我不会用 Triton 系列：上手指北 \n",
    "\n",
    "https://www.home-assistant.io/docs/  makeMoE: Implement a Sparse Mixture of Experts Language Model from Scratch\n",
    "\n",
    "https://eugeneyan.com/writing/llm-patterns/   Patterns for Building LLM-based Systems & Products\n",
    "\n",
    "https://pub.towardsai.net/rag-2-0-finally-getting-rag-right-f74d0194a720  RAG 2.0, Finally Getting RAG Right!\n",
    "\n",
    "https://www.ruanyifeng.com/blog/2015/02/make.html   Make 命令教程\n",
    "\n",
    "https://subingwen.cn/cmake/CMake-primer/index.html   CMake概述\n",
    "\n",
    "https://mp.weixin.qq.com/s/HoyeS7NSOsKnMXKGr1jrSA  告别人工！智谱AI新神器将数据标注成本卷到接近0"
   ]
  },
  {
   "cell_type": "code",
   "execution_count": null,
   "id": "3be4b9f5-d0eb-4305-b0c4-c92e3c34eb88",
   "metadata": {},
   "outputs": [],
   "source": []
  },
  {
   "cell_type": "code",
   "execution_count": null,
   "id": "df8a5e6d-58bf-47e5-98b2-41b4528f9252",
   "metadata": {},
   "outputs": [],
   "source": []
  },
  {
   "cell_type": "code",
   "execution_count": null,
   "id": "5c6281a1-0828-4c1a-b143-4da41ff8018e",
   "metadata": {},
   "outputs": [],
   "source": []
  },
  {
   "cell_type": "code",
   "execution_count": null,
   "id": "18c4ca10-2767-453e-968a-f58366134ab9",
   "metadata": {},
   "outputs": [],
   "source": [
    "https://arxiv.org/pdf/2306.02858  \n",
    "Video-LLaMA\n",
    "An Instruction-tuned Audio-Visual Language Model for Video\n",
    "Understanding\n",
    "\n",
    "\n",
    "https://arxiv.org/pdf/2404.15869\n",
    "Semantic Routing for Enhanced Performance of LLM-Assisted Intent-Based 5G Core Network Management and Orchestration\n",
    "\n",
    "https://arxiv.org/pdf/2404.15153\n",
    "Expert Router: Orchestrating Efficient Language Model Inference through Prompt Classification\n",
    "\n",
    "\n",
    "https://arxiv.org/pdf/2401.17464\n",
    "Efficient Tool Use with Chain-of-Abstraction Reasoning"
   ]
  },
  {
   "cell_type": "code",
   "execution_count": null,
   "id": "be11e67a-7a06-48d0-afd8-4c89de8a4c2a",
   "metadata": {},
   "outputs": [],
   "source": []
  },
  {
   "cell_type": "markdown",
   "id": "0f8be8fd-f4f7-4884-b351-a9af39bff9bb",
   "metadata": {},
   "source": [
    "## %%github start"
   ]
  },
  {
   "cell_type": "code",
   "execution_count": 1,
   "id": "412d4416-2e92-47df-9912-0dc67e2b6e15",
   "metadata": {
    "tags": []
   },
   "outputs": [],
   "source": [
    "import pandas as pd"
   ]
  },
  {
   "cell_type": "code",
   "execution_count": 9,
   "id": "bafe4a81-2ebd-4903-86f7-e9e8576c9fa5",
   "metadata": {
    "jupyter": {
     "source_hidden": true
    },
    "tags": []
   },
   "outputs": [],
   "source": [
    "df = pd.DataFrame({'url':['https://github.com/NVIDIA-AI-IOT/jetcam.git',\n",
    "                     'https://github.com/hindupuravinash/the-gan-zoo.git',\n",
    "                     'https://github.com/albumentations-team/albumentations.git',\n",
    "                     'https://github.com/amanchadha/coursera-gan-specialization.git',\n",
    "                     'https://github.com/poloclub/ganlab.git',\n",
    "                     'https://github.com/microsoft/qlib.git',\n",
    "                     'https://github.com/elebumm/RedditVideoMakerBot.git',\n",
    "                     'https://github.com/open-mmlab/mmgeneration.git',\n",
    "                     'https://github.com/fighting41love/funNLP.git',\n",
    "                     'https://github.com/zhoubolei/introRL.git',\n",
    "                     'https://github.com/patrick-kidger/signatory.git',\n",
    "                     'https://github.com/2015xli/RBM.git',\n",
    "                     'https://github.com/pycaret/pycaret.git',\n",
    "                     'https://github.com/jambo6/generalised-signature-method.git',\n",
    "                     'https://github.com/AntixK/PyTorch-VAE.git',\n",
    "                     'https://github.com/CompVis/stable-diffusion.git',\n",
    "                     'https://github.com/google-deepmind/lab.git',\n",
    "                     'https://github.com/MultiAgentLearning/playground.git',\n",
    "                     'https://github.com/lucidrains/denoising-diffusion-pytorch.git',\n",
    "                     'https://github.com/hyperopt/hyperopt.git',\n",
    "                     'https://github.com/assafshocher/ResizeRight.git',\n",
    "                     'https://github.com/ermongroup/CSDI.git',\n",
    "                     'https://github.com/optuna/optuna.git',\n",
    "                     'https://github.com/CompVis/latent-diffusion.git',\n",
    "                     'https://github.com/zhifengkong/FastDPM_pytorch.git',\n",
    "                     'https://github.com/openai/multi-agent-emergence-environments.git',\n",
    "                     'https://github.com/Unity-Technologies/ml-agents.git',\n",
    "                     'https://github.com/google-deepmind/pysc2.git',\n",
    "                     'https://github.com/openai/neural-mmo.git',\n",
    "                     'https://github.com/google-research/football.git',\n",
    "                     'https://github.com/Farama-Foundation/HighwayEnv.git',\n",
    "                     'https://github.com/ljpzzz/machinelearning.git',\n",
    "                     'https://github.com/zhulei227/ML_Notes.git',\n",
    "                     'https://github.com/tsyw/MachineLearningNotes.git',\n",
    "                     'https://github.com/geek-ai/MAgent.git',\n",
    "                     'https://github.com/fossasia/visdom.git',\n",
    "                     'https://github.com/ugo-nama-kun/gym_torcs.git',\n",
    "                     'https://github.com/jupyter-xeus/xeus-cling.git',\n",
    "                     'https://github.com/openai/CLIP.git',\n",
    "                     'https://github.com/ShieldMnt/invisible-watermark.git',\n",
    "                     'https://github.com/google-research/google-research.git',\n",
    "                     'https://github.com/XGX-CURRY/Multi-Agent-Reinforcement-Learning-Environment.git',\n",
    "                     'https://github.com/Unity-Technologies/obstacle-tower-env.git',\n",
    "                    ],\n",
    "'type':['github']*43})"
   ]
  },
  {
   "cell_type": "code",
   "execution_count": null,
   "id": "bd2edf53-c21d-44a7-9c8d-5bb32a65ef30",
   "metadata": {},
   "outputs": [],
   "source": []
  },
  {
   "cell_type": "code",
   "execution_count": null,
   "id": "1f08b676-4d62-4d1f-8638-4dab4f4aab8b",
   "metadata": {},
   "outputs": [],
   "source": []
  },
  {
   "cell_type": "code",
   "execution_count": null,
   "id": "6cf4a052-c7fc-460f-98c7-e6b5e7eb3bcd",
   "metadata": {},
   "outputs": [],
   "source": []
  },
  {
   "cell_type": "code",
   "execution_count": null,
   "id": "729cc883-c001-4935-8f1a-3907bcfbde08",
   "metadata": {},
   "outputs": [],
   "source": [
    "\n",
    "https://docs.llamaindex.ai/en/stable/examples/ingestion/document_management_pipeline/\n",
    "\n",
    "https://docs.llamaindex.ai/en/stable/examples/ingestion/ingestion_gdrive/\n",
    "\n",
    "https://docs.llamaindex.ai/en/stable/examples/docstore/RedisDocstoreIndexStoreDemo/\n",
    "\n",
    "https://docs.llamaindex.ai/en/stable/examples/finetuning/gradient/gradient_text2sql/\n",
    "\n",
    "https://docs.llamaindex.ai/en/stable/examples/agent/custom_agent/\n",
    "\n",
    "https://docs.llamaindex.ai/en/stable/examples/agent/openai_assistant_query_cookbook/\n",
    "\n",
    "https://docs.llamaindex.ai/en/stable/examples/agent/agent_runner/query_pipeline_agent/\n",
    "\n",
    "https://docs.llamaindex.ai/en/stable/examples/agent/multi_document_agents-v1/\n",
    "\n",
    "https://docs.llamaindex.ai/en/stable/examples/customization/prompts/chat_prompts/\n",
    "\n",
    "https://docs.llamaindex.ai/en/stable/examples/finetuning/embeddings/finetune_embedding_adapter/\n",
    "\n",
    "https://docs.llamaindex.ai/en/stable/examples/evaluation/UpTrain/\n",
    "\n",
    "https://docs.llamaindex.ai/en/stable/examples/evaluation/Deepeval/\n",
    "\n",
    "https://docs.llamaindex.ai/en/stable/examples/evaluation/multi_modal/multi_modal_rag_evaluation/\n",
    "\n",
    "https://docs.llamaindex.ai/en/stable/examples/llama_dataset/uploading_llama_dataset/\n",
    "\n",
    "https://docs.llamaindex.ai/en/stable/examples/discover_llamaindex/document_management/Discord_Thread_Management/\n"
   ]
  }
 ],
 "metadata": {
  "kernelspec": {
   "display_name": "Python 3 (ipykernel)",
   "language": "python",
   "name": "python3"
  },
  "language_info": {
   "codemirror_mode": {
    "name": "ipython",
    "version": 3
   },
   "file_extension": ".py",
   "mimetype": "text/x-python",
   "name": "python",
   "nbconvert_exporter": "python",
   "pygments_lexer": "ipython3",
   "version": "3.10.14"
  }
 },
 "nbformat": 4,
 "nbformat_minor": 5
}
