{
 "cells": [
  {
   "cell_type": "code",
   "execution_count": 2,
   "id": "6c8c83f4-d9a2-44de-9b24-7defe14e55f8",
   "metadata": {
    "tags": []
   },
   "outputs": [],
   "source": [
    "from zxftools_dev.rag import LoadData"
   ]
  },
  {
   "cell_type": "code",
   "execution_count": null,
   "id": "9b1ab5b3-ca7a-46b7-927c-3498fe188258",
   "metadata": {},
   "outputs": [],
   "source": []
  },
  {
   "cell_type": "code",
   "execution_count": 3,
   "id": "c85f9650-ea97-4426-aa69-9c28e25c78b6",
   "metadata": {
    "tags": []
   },
   "outputs": [],
   "source": [
    "document = LoadData(\"\"\"\n",
    "王硕\n",
    "性别：男\n",
    "年龄：35岁\n",
    "职业：金融工程师\n",
    "教育背景：拥有计算机科学硕士学位\n",
    "个人经历：\n",
    "王硕自小对计算机和编程充满热情，高中时期便开始自学编程语言。\n",
    "大学期间，他积极参与各类编程竞赛，多次获得省级以上奖项。\n",
    "毕业后，他加入了一家知名的科技公司，担任软件工程师，参与了多个大型项目的开发。正在做3D项目\n",
    "\"\"\")"
   ]
  },
  {
   "cell_type": "code",
   "execution_count": null,
   "id": "356d0cc2-3edd-440b-b936-f5f44c369176",
   "metadata": {},
   "outputs": [],
   "source": []
  },
  {
   "cell_type": "code",
   "execution_count": null,
   "id": "6f878de2-6d46-4e94-bd9e-8d5691f20d90",
   "metadata": {},
   "outputs": [],
   "source": [
    "# 你我他关系"
   ]
  },
  {
   "cell_type": "code",
   "execution_count": null,
   "id": "648db307-0cf5-4ea1-9157-1620988f2fc2",
   "metadata": {},
   "outputs": [],
   "source": []
  },
  {
   "cell_type": "code",
   "execution_count": null,
   "id": "059d5091-6ac9-4d55-ab5c-47ce81ef7b0c",
   "metadata": {},
   "outputs": [],
   "source": []
  },
  {
   "cell_type": "code",
   "execution_count": null,
   "id": "bd380ddf-0f52-4d32-aa82-af31362360c8",
   "metadata": {},
   "outputs": [],
   "source": []
  },
  {
   "cell_type": "code",
   "execution_count": null,
   "id": "f4400824-98ef-48ac-b794-1894bd90d0ca",
   "metadata": {},
   "outputs": [],
   "source": []
  },
  {
   "cell_type": "code",
   "execution_count": null,
   "id": "8d2bcdaf-9146-47a5-8692-327934a5bc35",
   "metadata": {},
   "outputs": [],
   "source": []
  },
  {
   "cell_type": "code",
   "execution_count": null,
   "id": "3be5dd80-7439-420c-a267-701aa6c1448b",
   "metadata": {},
   "outputs": [],
   "source": []
  },
  {
   "cell_type": "code",
   "execution_count": null,
   "id": "841973b0-8a0d-43e1-8fb8-f6ce4cab37fa",
   "metadata": {},
   "outputs": [],
   "source": []
  },
  {
   "cell_type": "code",
   "execution_count": null,
   "id": "6980a81b-677e-4ceb-95f0-b4be2be2b6c2",
   "metadata": {},
   "outputs": [],
   "source": []
  },
  {
   "cell_type": "code",
   "execution_count": null,
   "id": "4c8e02c7-3e38-4305-ad7b-0f5ae3e23dfb",
   "metadata": {},
   "outputs": [],
   "source": [
    "from zxftools_dev.tknode.tklib.prompt.intention_recognition import intention_recognition2,intention_recognition_example\n",
    "from qet.llms import get_llm\n",
    "class ThoughtRoute():\n",
    "    def __init__(self,engine):\n",
    "\n",
    "        # self.select_chat_engine = SimpleChatEngine.from_defaults(system_prompt='''你是一个意图判断器,你会对用户的每个输入进行判断,并归类到,分享信息,索要信息. 这两类中\n",
    "        # for example:\n",
    "        # 王成宇是谁?  索要信息\n",
    "        # 桑文是谁?   索要信息\n",
    "        # ''')\n",
    "\n",
    "\n",
    "        system_prompt = '''你是一个意图判断器,你会对用户的每个输入进行判断,并归类到,闲聊,深入思考,信息交换. 这三类中'''\n",
    "\n",
    "        self.select_chat_engine = SimpleChatEngine.from_defaults(system_prompt=system_prompt)\n",
    "\n",
    "        self.select_doc = {0: 'react', 1: 'caht'}\n",
    "\n",
    "        self.NodePost = NodePostprocessorsFactory(NodePostprocessorsType.SimilarityPostprocessor)\n",
    "\n",
    "        self.retriver = IndexMaker().create_index(\n",
    "            [self.wrap_document('索要信息', 0), self.wrap_document('分享信息', 1)]).as_retriever()\n",
    "\n",
    "    def chat(self, words):\n",
    "        self.select_auto(words)\n",
    "\n",
    "        result = self.thought.chat(words)\n",
    "        return result.response\n",
    "\n",
    "    def wrap_document(self, text='索要信息', id=0):\n",
    "        doc = Document(text=text)\n",
    "        doc.metadata['prompt_id'] = id\n",
    "        return doc\n",
    "\n",
    "    def select_auto1(self,words):\n",
    "        llm = get_llm()\n",
    "        def get_prompt_id(resu):\n",
    "            if resu == []:\n",
    "                return None\n",
    "            else:\n",
    "                return resu[0].metadata['prompt_id']\n",
    "\n",
    "        result = llm.complete(intention_recognition2.format(input=words, example=intention_recognition_example)).text\n",
    "        resu = self.retriver.retrieve(result)\n",
    "        resu = self.NodePost.postprocess_nodes(resu)\n",
    "        thought = self.select_doc.get(get_prompt_id(resu))\n",
    "        return thought\n",
    "\n",
    "    def select_human(self, id):\n",
    "        thought = self.thought_dict.get(id)\n",
    "        return thought\n",
    "\n",
    "    def select_auto(self, words):\n",
    "        def get_prompt_id(resu):\n",
    "            if resu == []:\n",
    "                return None\n",
    "            else:\n",
    "                return resu[0].metadata['prompt_id']\n",
    "\n",
    "        result = self.select_chat_engine.chat(words).response\n",
    "        resu = self.retriver.retrieve(result)\n",
    "        resu = self.NodePost.postprocess_nodes(resu)\n",
    "        prompt = self.select_doc.get(get_prompt_id(resu))\n",
    "        # prompt or other\n",
    "        return prompt\n",
    "\n",
    "\n",
    "\n",
    "    def pop_chat_history(self):\n",
    "        chat_history = copy.deepcopy(self.thought.agent.chat_history)\n",
    "        self.thought.agent.chat_history.clear()\n",
    "        return chat_history\n",
    "\n",
    "    def get_chat_history(self):\n",
    "        chat_history = copy.deepcopy(self.thought.agent.chat_history)\n",
    "        return chat_history\n",
    "\n",
    "    def clear_history(self):\n",
    "        self.thought.agent.chat_history.clear()\n"
   ]
  },
  {
   "cell_type": "code",
   "execution_count": null,
   "id": "3e83dfd7-c1ed-4233-a25b-fd5611024887",
   "metadata": {},
   "outputs": [],
   "source": []
  },
  {
   "cell_type": "code",
   "execution_count": null,
   "id": "e8e6764a-5882-4554-acb1-fa7ac3bc1134",
   "metadata": {},
   "outputs": [],
   "source": [
    "class IndexManager():\n",
    "    def __init__(self,index_path='data/know_index'):\n",
    "        self.index = IndexMaker.load_index(index_path)\n",
    "        \n",
    "    def get_nodes(self):\n",
    "        return IndexMaker.get_nodes_from_index(self.index)\n",
    "    \n",
    "    def insert(self,nodes):\n",
    "        self.index.insert_nodes(nodes)\n",
    "        \n",
    "    def delete(self,id='e721d635-e6ee-4383-8714-c30054e12776'):\n",
    "        self.index.docstore.delete_document(id)\n",
    "        \n",
    "    def retriever(self):\n",
    "        return self.index.as_retriever()\n",
    "    "
   ]
  },
  {
   "cell_type": "code",
   "execution_count": 8,
   "id": "1eb0ee6c-96a5-4de9-aae4-fd6291f5d840",
   "metadata": {
    "tags": []
   },
   "outputs": [],
   "source": [
    "import os"
   ]
  },
  {
   "cell_type": "code",
   "execution_count": 9,
   "id": "dc3b29f5-c98d-4f25-88c1-a144884841ea",
   "metadata": {
    "tags": []
   },
   "outputs": [],
   "source": [
    "def datacentre(file:str,verbose=False)->str:\n",
    "    if verbose:\n",
    "        print(os.listdir(os.environ.get('datacentre')))\n",
    "    return os.path.join(os.environ.get('datacentre'),file)"
   ]
  },
  {
   "cell_type": "code",
   "execution_count": null,
   "id": "86e3ed82-0d0b-4d63-acd5-98f130c327c6",
   "metadata": {},
   "outputs": [],
   "source": [
    "import pandas as pd\n",
    "\n",
    "def update_dataframe(existing_df, new_row):\n",
    "    # concatenate the new row to the existing dataframe\n",
    "    updated_df = pd.concat([existing_df, new_row], ignore_index=True)\n",
    "    return updated_df\n"
   ]
  },
  {
   "cell_type": "code",
   "execution_count": 247,
   "id": "e58c7f09-91f5-4f55-bd9c-f7a42ae00f4e",
   "metadata": {
    "tags": []
   },
   "outputs": [],
   "source": [
    "# %%aigen 添加使用示例,和参数说明\n",
    "import datetime\n",
    "\n",
    "def get_time(precision=None):\n",
    "    \"\"\"\n",
    "    获取当前日期和时间\n",
    "    \n",
    "    :param precision: 精确度，可选值为 \"seconds\" 或 None，默认为 None\n",
    "    :return: 格式化后的日期和时间\n",
    "    \n",
    "    # 使用示例\n",
    "    print(get_time())  # 输出格式化后的日期，精确到天\n",
    "    print(get_time(precision=\"seconds\"))  # 输出格式化后的日期和时间，精确到秒\n",
    "    \"\"\"\n",
    "    current_date = datetime.datetime.now()\n",
    "    if precision == \"seconds\":\n",
    "        formatted_date = current_date.strftime(\"%Y-%m-%d %H:%M:%S\")\n",
    "    else:\n",
    "        formatted_date = current_date.strftime(\"%Y-%m-%d\")\n",
    "    return formatted_date\n"
   ]
  }
 ],
 "metadata": {
  "kernelspec": {
   "display_name": "Python 3 (ipykernel)",
   "language": "python",
   "name": "python3"
  },
  "language_info": {
   "codemirror_mode": {
    "name": "ipython",
    "version": 3
   },
   "file_extension": ".py",
   "mimetype": "text/x-python",
   "name": "python",
   "nbconvert_exporter": "python",
   "pygments_lexer": "ipython3",
   "version": "3.10.14"
  }
 },
 "nbformat": 4,
 "nbformat_minor": 5
}
