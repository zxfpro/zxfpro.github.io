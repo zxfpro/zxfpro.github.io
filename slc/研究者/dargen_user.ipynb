{
 "cells": [
  {
   "cell_type": "markdown",
   "id": "74e4d9e5-40c8-4384-8464-ddfdea56a566",
   "metadata": {},
   "source": [
    "# dargen的使用"
   ]
  },
  {
   "cell_type": "code",
   "execution_count": 1,
   "id": "bcf48f7b-645f-4581-ad83-4ef4dbecc581",
   "metadata": {
    "tags": []
   },
   "outputs": [],
   "source": [
    "%run dargen_package.ipynb"
   ]
  },
  {
   "cell_type": "markdown",
   "id": "a846d31e-7436-40f0-9ff7-dd45a967e281",
   "metadata": {},
   "source": [
    "## Define roles and quest"
   ]
  },
  {
   "cell_type": "code",
   "execution_count": 2,
   "id": "d5a8c4fa-c746-4e6d-91ef-a0fa641f3b5b",
   "metadata": {
    "tags": []
   },
   "outputs": [],
   "source": [
    "protagonist_name = \"Harry Potter\"\n",
    "storyteller_name = \"Dungeon Master\"\n",
    "quest = \"Find all of Lord Voldemort's seven horcruxes.\"\n",
    "word_limit = 50  # word limit for task brainstorming"
   ]
  },
  {
   "cell_type": "markdown",
   "id": "f163a8a8-6b6b-4f7e-b47a-ce6ca8cce0ad",
   "metadata": {},
   "source": [
    "## Ask an LLM to add detail to the game description"
   ]
  },
  {
   "cell_type": "code",
   "execution_count": 3,
   "id": "e6107ca4-d0dc-482f-ab59-973ca1d01fdf",
   "metadata": {
    "tags": []
   },
   "outputs": [
    {
     "name": "stderr",
     "output_type": "stream",
     "text": [
      "/Users/zhaoxuefeng/opt/miniconda3/envs/py310_new/lib/python3.10/site-packages/langchain_core/_api/deprecation.py:117: LangChainDeprecationWarning: The function `__call__` was deprecated in LangChain 0.1.7 and will be removed in 0.2.0. Use invoke instead.\n",
      "  warn_deprecated(\n"
     ]
    }
   ],
   "source": [
    "game_description = f\"\"\"Here is the topic for a Dungeons & Dragons game: {quest}.\n",
    "        There is one player in this game: the protagonist, {protagonist_name}.\n",
    "        The story is narrated by the storyteller, {storyteller_name}.\"\"\"\n",
    "\n",
    "player_descriptor_system_message = SystemMessage(\n",
    "    content=\"You can add detail to the description of a Dungeons & Dragons player.\"\n",
    ")\n",
    "\n",
    "protagonist_specifier_prompt = [\n",
    "    player_descriptor_system_message,\n",
    "    HumanMessage(\n",
    "        content=f\"\"\"{game_description}\n",
    "        Please reply with a creative description of the protagonist, {protagonist_name}, in {word_limit} words or less. \n",
    "        Speak directly to {protagonist_name}.\n",
    "        Do not add anything else.\"\"\"\n",
    "    ),\n",
    "]\n",
    "llm = ChatOpenAI(temperature=1.0,base_url='https://api.gptsapi.net/v1',api_key=os.environ.get('WildCard_API_KEY'))\n",
    "protagonist_description = llm(\n",
    "    protagonist_specifier_prompt\n",
    ").content\n",
    "\n",
    "storyteller_specifier_prompt = [\n",
    "    player_descriptor_system_message,\n",
    "    HumanMessage(\n",
    "        content=f\"\"\"{game_description}\n",
    "        Please reply with a creative description of the storyteller, {storyteller_name}, in {word_limit} words or less. \n",
    "        Speak directly to {storyteller_name}.\n",
    "        Do not add anything else.\"\"\"\n",
    "    ),\n",
    "]\n",
    "llm = ChatOpenAI(temperature=1.0,base_url='https://api.gptsapi.net/v1',api_key=os.environ.get('WildCard_API_KEY'))\n",
    "storyteller_description = llm(\n",
    "    storyteller_specifier_prompt\n",
    ").content"
   ]
  },
  {
   "cell_type": "code",
   "execution_count": 11,
   "id": "01b1a8c8-4988-475a-bae8-1015e7197fae",
   "metadata": {
    "tags": []
   },
   "outputs": [
    {
     "name": "stdout",
     "output_type": "stream",
     "text": [
      "Protagonist Description:\n",
      "Dear Harry, you are a young wizard with untold potential, the chosen one destined to defeat the Dark Lord. You have faced great adversity and have proven yourself a true hero time and time again. Now, with the fate of the wizarding world in your hands, you must embark on a dangerous quest to find and destroy the horcruxes. Are you ready for what lies ahead?\n",
      "Storyteller Description:\n",
      "Dungeon Master, you possess the power to bring the world of Harry Potter to life. As the narrator of this adventure, your words shape the characters' destinies. Guide Harry through the trials of finding the horcruxes, and watch as your storytelling transports us to magical lands beyond our imaginings.\n"
     ]
    }
   ],
   "source": [
    "print(\"Protagonist Description:\")\n",
    "print(protagonist_description)\n",
    "print(\"Storyteller Description:\")\n",
    "print(storyteller_description)"
   ]
  },
  {
   "cell_type": "markdown",
   "id": "2d9d393c-5fac-48b9-a122-df0181241e23",
   "metadata": {},
   "source": [
    "## Protagonist and dungeon master system messages"
   ]
  },
  {
   "cell_type": "code",
   "execution_count": 5,
   "id": "a7f13932-4459-4a53-8036-f885a9ebd176",
   "metadata": {
    "tags": []
   },
   "outputs": [],
   "source": [
    "protagonist_system_message = SystemMessage(\n",
    "    content=(\n",
    "        f\"\"\"{game_description}\n",
    "Never forget you are the protagonist, {protagonist_name}, and I am the storyteller, {storyteller_name}. \n",
    "Your character description is as follows: {protagonist_description}.\n",
    "You will propose actions you plan to take and I will explain what happens when you take those actions.\n",
    "Speak in the first person from the perspective of {protagonist_name}.\n",
    "For describing your own body movements, wrap your description in '*'.\n",
    "Do not change roles!\n",
    "Do not speak from the perspective of {storyteller_name}.\n",
    "Do not forget to finish speaking by saying, 'It is your turn, {storyteller_name}.'\n",
    "Do not add anything else.\n",
    "Remember you are the protagonist, {protagonist_name}.\n",
    "Stop speaking the moment you finish speaking from your perspective.\n",
    "\"\"\"\n",
    "    )\n",
    ")\n",
    "\n",
    "storyteller_system_message = SystemMessage(\n",
    "    content=(\n",
    "        f\"\"\"{game_description}\n",
    "Never forget you are the storyteller, {storyteller_name}, and I am the protagonist, {protagonist_name}. \n",
    "Your character description is as follows: {storyteller_description}.\n",
    "I will propose actions I plan to take and you will explain what happens when I take those actions.\n",
    "Speak in the first person from the perspective of {storyteller_name}.\n",
    "For describing your own body movements, wrap your description in '*'.\n",
    "Do not change roles!\n",
    "Do not speak from the perspective of {protagonist_name}.\n",
    "Do not forget to finish speaking by saying, 'It is your turn, {protagonist_name}.'\n",
    "Do not add anything else.\n",
    "Remember you are the storyteller, {storyteller_name}.\n",
    "Stop speaking the moment you finish speaking from your perspective.\n",
    "\"\"\"\n",
    "    )\n",
    ")"
   ]
  },
  {
   "cell_type": "markdown",
   "id": "b9ae30ce-8123-44eb-b6b3-074bf0b761c8",
   "metadata": {},
   "source": [
    "## Use an LLM to create an elaborate quest description"
   ]
  },
  {
   "cell_type": "code",
   "execution_count": 9,
   "id": "460db911-784c-4145-a72e-13ec8b1855f6",
   "metadata": {
    "tags": []
   },
   "outputs": [
    {
     "name": "stdout",
     "output_type": "stream",
     "text": [
      "Original quest:\n",
      "Find all of Lord Voldemort's seven horcruxes.\n",
      "\n",
      "Detailed quest:\n",
      "Harry Potter, your task is to find all seven horcruxes of Lord Voldemort and destroy them without being caught by his Death Eaters. You must decipher the clues left by Dumbledore, travel across dangerous terrain, and outsmart Voldemort's traps to complete this deadly mission. May luck and magic be on your side.\n",
      "\n"
     ]
    }
   ],
   "source": [
    "quest_specifier_prompt = [\n",
    "    SystemMessage(content=\"You can make a task more specific.\"),\n",
    "    HumanMessage(\n",
    "        content=f\"\"\"{game_description}\n",
    "        \n",
    "        You are the storyteller, {storyteller_name}.\n",
    "        Please make the quest more specific. Be creative and imaginative.\n",
    "        Please reply with the specified quest in {word_limit} words or less. \n",
    "        Speak directly to the protagonist {protagonist_name}.\n",
    "        Do not add anything else.\"\"\"\n",
    "    ),\n",
    "]\n",
    "llm = ChatOpenAI(temperature=1.0,base_url='https://api.gptsapi.net/v1',api_key=os.environ.get('WildCard_API_KEY'))\n",
    "\n",
    "specified_quest = llm(quest_specifier_prompt).content\n",
    "\n",
    "print(f\"Original quest:\\n{quest}\\n\")\n",
    "print(f\"Detailed quest:\\n{specified_quest}\\n\")"
   ]
  },
  {
   "cell_type": "markdown",
   "id": "a9d1017b-840b-44ec-a871-620792e2ec50",
   "metadata": {},
   "source": [
    "## Main Loop"
   ]
  },
  {
   "cell_type": "code",
   "execution_count": 6,
   "id": "772b813a-231d-4c1c-af9b-42c135158ef6",
   "metadata": {
    "tags": []
   },
   "outputs": [],
   "source": [
    "protagonist = DialogueAgent(\n",
    "    name=protagonist_name,\n",
    "    system_message=protagonist_system_message,\n",
    "    model=ChatOpenAI(temperature=0.2,base_url='https://api.gptsapi.net/v1',api_key=os.environ.get('WildCard_API_KEY')),\n",
    ")\n",
    "storyteller = DialogueAgent(\n",
    "    name=storyteller_name,\n",
    "    system_message=storyteller_system_message,\n",
    "    model=ChatOpenAI(temperature=0.2,base_url='https://api.gptsapi.net/v1',api_key=os.environ.get('WildCard_API_KEY')),\n",
    ")"
   ]
  },
  {
   "cell_type": "code",
   "execution_count": 7,
   "id": "b7c073c8-1520-48d1-9237-25d5228e39de",
   "metadata": {
    "tags": []
   },
   "outputs": [],
   "source": [
    "def select_next_speaker(step: int, agents: List[DialogueAgent]) -> int:\n",
    "    idx = step % len(agents)\n",
    "    return idx"
   ]
  },
  {
   "cell_type": "code",
   "execution_count": null,
   "id": "9b4fffee-ce4c-4a3c-a1f1-bf9bba4bf0b8",
   "metadata": {
    "tags": []
   },
   "outputs": [],
   "source": [
    "max_iters = 6\n",
    "n = 0\n",
    "\n",
    "simulator = DialogueSimulator(\n",
    "    agents=[storyteller, protagonist], selection_function=select_next_speaker\n",
    ")\n",
    "simulator.reset()\n",
    "simulator.inject(storyteller_name, specified_quest)\n",
    "print(f\"({storyteller_name}): {specified_quest}\")\n",
    "print(\"\\n\")\n",
    "\n",
    "while n < max_iters:\n",
    "    name, message = simulator.step()\n",
    "    print(f\"({name}): {message}\")\n",
    "    print(\"\\n\")\n",
    "    n += 1"
   ]
  },
  {
   "cell_type": "code",
   "execution_count": null,
   "id": "69936043-1fd2-4442-aafe-1dec099631ae",
   "metadata": {},
   "outputs": [],
   "source": []
  }
 ],
 "metadata": {
  "kernelspec": {
   "display_name": "Python 3 (ipykernel)",
   "language": "python",
   "name": "python3"
  },
  "language_info": {
   "codemirror_mode": {
    "name": "ipython",
    "version": 3
   },
   "file_extension": ".py",
   "mimetype": "text/x-python",
   "name": "python",
   "nbconvert_exporter": "python",
   "pygments_lexer": "ipython3",
   "version": "3.10.14"
  }
 },
 "nbformat": 4,
 "nbformat_minor": 5
}
