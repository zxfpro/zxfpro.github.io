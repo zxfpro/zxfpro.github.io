{
 "cells": [
  {
   "cell_type": "markdown",
   "id": "ce556704-7942-454b-ae30-a0e80715009e",
   "metadata": {},
   "source": [
    "# explore agent"
   ]
  },
  {
   "cell_type": "markdown",
   "id": "24d35e52-692e-4d0b-adf5-da37fc870f9e",
   "metadata": {},
   "source": [
    "this notebook want to more reallifer"
   ]
  },
  {
   "cell_type": "code",
   "execution_count": 1,
   "id": "c9e70ae8-604a-445f-96e9-ea11b6f4df2b",
   "metadata": {
    "tags": []
   },
   "outputs": [],
   "source": [
    "from llama_index.core import PromptTemplate\n",
    "from zxftools_dev.rag import ReactAgentMaker\n",
    "from llama_index.core.agent import AgentRunner, ReActAgentWorker, ReActAgent\n",
    "from zxftools.llms import get_llm\n"
   ]
  },
  {
   "cell_type": "code",
   "execution_count": null,
   "id": "9586cd7e-f894-46ca-9391-d5631a7f0a74",
   "metadata": {},
   "outputs": [],
   "source": []
  },
  {
   "cell_type": "markdown",
   "id": "31a5232b-17d6-4967-953e-475460eb232f",
   "metadata": {},
   "source": [
    "## 定义工具"
   ]
  },
  {
   "cell_type": "markdown",
   "id": "5e428f7e-0668-4065-981d-8752c6ecd5cf",
   "metadata": {},
   "source": [
    "<font color=\"yellow\">UPDATE 3 使工具更加趋近于真实场景</font>"
   ]
  },
  {
   "cell_type": "code",
   "execution_count": 2,
   "id": "5257686a-6694-4c7d-aae2-cda7821ca67d",
   "metadata": {
    "tags": []
   },
   "outputs": [
    {
     "name": "stdout",
     "output_type": "stream",
     "text": [
      "Overwriting test1.py\n"
     ]
    }
   ],
   "source": [
    "%%writefile test1.py\n",
    "\n",
    "from flask import Flask, Response, request\n",
    "from flask import stream_with_context, abort\n",
    "import json\n",
    "import asyncio\n",
    "import base64\n",
    "import requests\n",
    "import hashlib\n",
    "import json\n",
    "\n",
    "class API_worker():\n",
    "    def __init__(self,**kwargs):\n",
    "        self.app = Flask(__name__)\n",
    "\n",
    "\n",
    "        \n",
    "    def start(self, server_name='0.0.0.0', server_port=9010,run=True,**kwargs):\n",
    "        \n",
    "        @self.app.route('/live', methods=['GET','POST'])\n",
    "        def live():\n",
    "            \"\"\"\n",
    "            判断服务是否存活\n",
    "            \"\"\"\n",
    "            if request.method == \"GET\":\n",
    "                db_name = request.args.get('db_name', default=None, type=None)\n",
    "                return \"success\"\n",
    "                \n",
    "            if request.method == \"POST\":\n",
    "                data = request.get_data()\n",
    "                data_dict = json.loads(data)\n",
    "                return f\"success\"\n",
    "        self.app.run(host=server_name, port=server_port,**kwargs)\n",
    "\n",
    "API_worker().start()\n"
   ]
  },
  {
   "cell_type": "code",
   "execution_count": 3,
   "id": "b4e18bd4-60ee-445b-afbe-856f1ea5b51f",
   "metadata": {
    "tags": []
   },
   "outputs": [],
   "source": [
    "from threading import Thread"
   ]
  },
  {
   "cell_type": "code",
   "execution_count": 4,
   "id": "b0967c41-9385-4152-8df6-a3f712aa5203",
   "metadata": {
    "tags": []
   },
   "outputs": [],
   "source": [
    "def work():\n",
    "    os.system('python test1.py')"
   ]
  },
  {
   "cell_type": "code",
   "execution_count": 5,
   "id": "3652df9e-d500-4460-bf13-7f5baa239edc",
   "metadata": {
    "tags": []
   },
   "outputs": [],
   "source": [
    "a = Thread(target=work, kwargs=None)"
   ]
  },
  {
   "cell_type": "code",
   "execution_count": 6,
   "id": "37c7357b-f8da-4d91-a253-2c93b89db28a",
   "metadata": {
    "tags": []
   },
   "outputs": [
    {
     "name": "stdout",
     "output_type": "stream",
     "text": [
      " * Serving Flask app 'test1'\n",
      " * Debug mode: off\n"
     ]
    },
    {
     "name": "stderr",
     "output_type": "stream",
     "text": [
      "WARNING: This is a development server. Do not use it in a production deployment. Use a production WSGI server instead.\n",
      " * Running on all addresses (0.0.0.0)\n",
      " * Running on http://127.0.0.1:9010\n",
      " * Running on http://198.18.0.1:9010\n",
      "Press CTRL+C to quit\n"
     ]
    }
   ],
   "source": [
    "a.start()"
   ]
  },
  {
   "cell_type": "code",
   "execution_count": null,
   "id": "617f982a-d1f1-4739-b7c6-d17a38acf8d4",
   "metadata": {},
   "outputs": [],
   "source": []
  },
  {
   "cell_type": "code",
   "execution_count": 7,
   "id": "a47d277f-389a-4f62-8af1-c8a471c8c86e",
   "metadata": {
    "tags": []
   },
   "outputs": [],
   "source": [
    "import requests"
   ]
  },
  {
   "cell_type": "code",
   "execution_count": 8,
   "id": "d83c7e68-647b-41da-ad16-d97e48319fbc",
   "metadata": {
    "tags": []
   },
   "outputs": [],
   "source": [
    "def tell_sweeping_robot_to(do:str)->str:\n",
    "    '''\n",
    "    the tools be used to tell somebody to do something\n",
    "    '''\n",
    "    print(requests.get('http://127.0.0.1:9010/live').text)\n",
    "    return 'sweeping_robot: OK,I am start to work'"
   ]
  },
  {
   "cell_type": "code",
   "execution_count": null,
   "id": "e754f769-5a75-4a9d-b1cd-95527c4ea08c",
   "metadata": {},
   "outputs": [],
   "source": []
  },
  {
   "cell_type": "code",
   "execution_count": null,
   "id": "1eba2f30-4c40-4d0a-8bd0-9869c210bf23",
   "metadata": {},
   "outputs": [],
   "source": []
  },
  {
   "cell_type": "markdown",
   "id": "01202dbb-42c3-4feb-b3f2-af7b98baecd6",
   "metadata": {},
   "source": [
    "## 构建react 框架"
   ]
  },
  {
   "cell_type": "code",
   "execution_count": 9,
   "id": "8db7d719-3102-4ceb-b16c-002dbc4b0d44",
   "metadata": {
    "tags": []
   },
   "outputs": [],
   "source": [
    "maker = ReactAgentMaker()\n",
    "maker.add_tool(tell_sweeping_robot_to)\n",
    "agent = maker.create_agent()"
   ]
  },
  {
   "cell_type": "code",
   "execution_count": null,
   "id": "25fcddcb-43eb-45de-8200-203807787cbe",
   "metadata": {},
   "outputs": [],
   "source": []
  },
  {
   "cell_type": "code",
   "execution_count": null,
   "id": "1f4fed27-b747-4323-b0b0-ce0b90051059",
   "metadata": {},
   "outputs": [],
   "source": []
  },
  {
   "cell_type": "markdown",
   "id": "4265f434-5fa5-42db-a53a-20f9046511bd",
   "metadata": {},
   "source": [
    "## test \n",
    "结果不重要,跑通为主"
   ]
  },
  {
   "cell_type": "code",
   "execution_count": 10,
   "id": "83b6f920-f118-4851-83a2-64619efb7854",
   "metadata": {
    "tags": []
   },
   "outputs": [
    {
     "name": "stdout",
     "output_type": "stream",
     "text": [
      "\u001b[1;3;38;5;200mThought: The current language of the user is: Chinese. I need to use a tool to help me answer the question.\n",
      "Action: tell_sweeping_robot_to\n",
      "Action Input: {'do': '开始扫地'}\n",
      "\u001b[0msuccess\n",
      "\u001b[1;3;34mObservation: OK,I am start to work\n",
      "\u001b[0m"
     ]
    },
    {
     "name": "stderr",
     "output_type": "stream",
     "text": [
      "127.0.0.1 - - [16/Jul/2024 14:38:15] \"GET /live HTTP/1.1\" 200 -\n"
     ]
    },
    {
     "name": "stdout",
     "output_type": "stream",
     "text": [
      "\u001b[1;3;38;5;200mThought: The sweeping robot has started working. Is there anything else you need help with?\n",
      "Answer: Do you need any assistance with anything else?\n",
      "\u001b[0m"
     ]
    },
    {
     "data": {
      "text/plain": [
       "AgentChatResponse(response='Do you need any assistance with anything else?', sources=[ToolOutput(content='OK,I am start to work', tool_name='tell_sweeping_robot_to', raw_input={'args': (), 'kwargs': {'do': '开始扫地'}}, raw_output='OK,I am start to work')], source_nodes=[])"
      ]
     },
     "execution_count": 10,
     "metadata": {},
     "output_type": "execute_result"
    }
   ],
   "source": [
    "result = agent.chat('开始扫地')\n",
    "result"
   ]
  },
  {
   "cell_type": "markdown",
   "id": "ff4ff831-0dab-4617-a976-f631f59af568",
   "metadata": {},
   "source": [
    "<font color=\"yellow\">UPDATE 3 END</font>"
   ]
  },
  {
   "cell_type": "code",
   "execution_count": null,
   "id": "8f9b93a7-fd6c-4ea1-a5cc-6c8e7bc2caa7",
   "metadata": {},
   "outputs": [],
   "source": []
  },
  {
   "cell_type": "markdown",
   "id": "d7b7b974-6bfb-48e8-a88e-cf85c8063edf",
   "metadata": {},
   "source": [
    "# 动态调整prompt 阶段"
   ]
  },
  {
   "cell_type": "code",
   "execution_count": null,
   "id": "cced2d37-1c18-4af6-ac1c-23e9f73c6435",
   "metadata": {},
   "outputs": [],
   "source": []
  },
  {
   "cell_type": "markdown",
   "id": "714c123a-9094-41b4-9245-f9e0f8ae0917",
   "metadata": {},
   "source": [
    "## 构建一个更新prompts 的函数"
   ]
  },
  {
   "cell_type": "code",
   "execution_count": null,
   "id": "8493fe3b-edd2-48c1-a8e9-1864275c40ec",
   "metadata": {},
   "outputs": [],
   "source": []
  },
  {
   "cell_type": "markdown",
   "id": "2d3c4f5b-f632-44d4-a0f8-2456a63d47dc",
   "metadata": {},
   "source": [
    "<font color=\"yellow\">UPDATE 4 使得程序向真实场景优化 END</font>"
   ]
  },
  {
   "cell_type": "code",
   "execution_count": 11,
   "id": "0a617e69-bce1-4cff-88d5-065701f43728",
   "metadata": {},
   "outputs": [],
   "source": [
    "conversation = {\n",
    "    \"1\": \"Greet: Start the conversation with a lighthearted hello and imagine you've been friends for years.\",\n",
    "    \"2\": \"Reporting works: Report some general data, such as temperature, electricity, etc., as well as the progress and completion of some ongoing tasks.\",\n",
    "    \"3\": \"Emergency circumstances: When there is an emergency, report it immediately. And keep the information concise and accurate.\",\n",
    "    \"4\": \"Enliven the atmosphere: Make small jokes to lighten up the conversation and make it less formal.\",\n",
    "    \"5\": \"Offer a proposal: You can make reasonable suggestions for the host's confused questions.\",\n",
    "    \"6\": \"Receiving task: The host will assign you a number of tasks that you can synthesize and then assign to a response professional to perform.\",\n",
    "    \"7\": \"Close: End the conversation with a friendly closing and make sure everything is in order before exiting.\",\n",
    "}"
   ]
  },
  {
   "cell_type": "code",
   "execution_count": null,
   "id": "37394167-53e4-4f2c-a405-389dfeb974d4",
   "metadata": {},
   "outputs": [],
   "source": []
  },
  {
   "cell_type": "code",
   "execution_count": 20,
   "id": "4f304aaa-37d5-4f5a-bf16-d3f7baa5c97d",
   "metadata": {
    "tags": []
   },
   "outputs": [],
   "source": [
    "head = \"\"\"\n",
    "Never forget your name is {salesperson_name}. You work as a {salesperson_role}.\n",
    "\n",
    "If you're asked about where you got the user's contact information, say that you got it from public records.\n",
    "Keep your responses in short length to retain the user's attention. Never produce lists, just answers.\n",
    "\n",
    "Always think about at which conversation stage you are at before answering:\n",
    "\n",
    "{conversation}\n",
    "TOOLS:\n",
    "------\n",
    "\n",
    "{salesperson_name} has access to the following tools:\n",
    "\n",
    "\n",
    "\"\"\""
   ]
  },
  {
   "cell_type": "code",
   "execution_count": 21,
   "id": "12e92693-9ac2-4cf3-877e-4be78fada123",
   "metadata": {
    "tags": []
   },
   "outputs": [],
   "source": [
    "body = \"\"\"\n",
    "{tool_desc}\n",
    "\n",
    "To use a tool, please use the following format:\n",
    "\n",
    "## Output Format\n",
    "\n",
    "Please answer in the same language as the question and use the following format:\n",
    "\n",
    "```\n",
    "Thought: The current language of the user is: (user's language). I need to use a tool to help me answer the question.\n",
    "Action: tool name (one of {tool_names}) if using a tool.\n",
    "Action Input: the input to the tool, in a JSON format representing the kwargs (e.g. {{\"input\": \"hello world\", \"num_beams\": 5}})\n",
    "```\n",
    "\n",
    "Please ALWAYS start with a Thought.\n",
    "\n",
    "Please use a valid JSON format for the Action Input. Do NOT do this {{'input': 'hello world', 'num_beams': 5}}.\n",
    "\n",
    "If this format is used, the user will respond in the following format:\n",
    "\n",
    "```\n",
    "Observation: tool response\n",
    "```\n",
    "\n",
    "You should keep repeating the above format till you have enough information to answer the question without using any more tools. At that point, you MUST respond in the one of the following two formats:\n",
    "\n",
    "```\n",
    "Thought: I can answer without using any more tools. I'll use the user's language to answer\n",
    "Answer: [your answer here (In the same language as the user's question)]\n",
    "```\n",
    "\n",
    "```\n",
    "Thought: I cannot answer the question with the provided tools.\n",
    "Answer: [your answer here (In the same language as the user's question)]\n",
    "```\n",
    "\"\"\""
   ]
  },
  {
   "cell_type": "code",
   "execution_count": 22,
   "id": "b9b64841-e449-45f9-9d43-12a891bfaa35",
   "metadata": {
    "tags": []
   },
   "outputs": [],
   "source": [
    "tail = \"\"\"\n",
    "You must respond according to the stage of the conversation you are at.\n",
    "Begin!\n",
    "Never forget talk with users in Chinese.\n",
    "\n",
    "Current conversation stage: \n",
    "{conversation_stage}\n",
    "        \"\"\""
   ]
  },
  {
   "cell_type": "code",
   "execution_count": null,
   "id": "e720af22-dfb5-4458-8ce5-6c4734d68509",
   "metadata": {
    "tags": []
   },
   "outputs": [],
   "source": []
  },
  {
   "cell_type": "code",
   "execution_count": 23,
   "id": "c68fe2a1-5723-4cbd-8ba1-648559804563",
   "metadata": {
    "tags": []
   },
   "outputs": [],
   "source": [
    "def update_prompts_custom(agent,\n",
    "                         salesperson_name='jarvis',\n",
    "                        salesperson_role='assistant',\n",
    "                        conversation_stage = '',):\n",
    "    prompts = head.format(salesperson_name=salesperson_name,salesperson_role=salesperson_role,\n",
    "                          conversation = '\\n'.join([f'\"{i}\": {j}' for i,j in conversation.items()])) + body + \\\n",
    "                    tail.format(conversation_stage=conversation_stage)\n",
    "        \n",
    "    agent.update_prompts({'agent_worker:system_prompt': PromptTemplate(prompts)})"
   ]
  },
  {
   "cell_type": "code",
   "execution_count": null,
   "id": "f8614abf-253d-4fdd-b303-1585b97a8271",
   "metadata": {},
   "outputs": [],
   "source": []
  },
  {
   "cell_type": "markdown",
   "id": "a79ddb75-b43e-4de6-991f-43fb75037035",
   "metadata": {},
   "source": [
    "## RUN"
   ]
  },
  {
   "cell_type": "code",
   "execution_count": 24,
   "id": "06041cd2-d8ac-42c0-ab6c-6d0328411648",
   "metadata": {
    "tags": []
   },
   "outputs": [],
   "source": [
    "agent.chat_history.clear() # 无法使用这个?"
   ]
  },
  {
   "cell_type": "markdown",
   "id": "46e5f28c-af96-4e8c-8f06-d2174fc2d4bf",
   "metadata": {},
   "source": [
    "### 用户输入"
   ]
  },
  {
   "cell_type": "code",
   "execution_count": 25,
   "id": "7db8d31a-b6c7-466b-a1eb-fea8c24c8f96",
   "metadata": {
    "tags": []
   },
   "outputs": [
    {
     "data": {
      "text/plain": [
       "\"Greet: Start the conversation with a lighthearted hello and imagine you've been friends for years.\""
      ]
     },
     "execution_count": 25,
     "metadata": {},
     "output_type": "execute_result"
    }
   ],
   "source": [
    "conversation['1']"
   ]
  },
  {
   "cell_type": "code",
   "execution_count": 26,
   "id": "6110e8af-1026-43a4-b57a-3282d31a94f5",
   "metadata": {
    "tags": []
   },
   "outputs": [],
   "source": [
    "update_prompts_custom(agent,conversation_stage=conversation['1'])"
   ]
  },
  {
   "cell_type": "code",
   "execution_count": 27,
   "id": "fa4418c0-353e-41ad-88f7-31ee91b2c312",
   "metadata": {
    "tags": []
   },
   "outputs": [
    {
     "name": "stdout",
     "output_type": "stream",
     "text": [
      "\u001b[1;3;38;5;200mThought: (Implicit) I can answer without any more tools!\n",
      "Answer: 早上好！很高兴见到你！我是你的助手，名字叫Jarvis。有什么我可以帮助你的吗？\n",
      "\u001b[0m"
     ]
    },
    {
     "data": {
      "text/plain": [
       "AgentChatResponse(response='早上好！很高兴见到你！我是你的助手，名字叫Jarvis。有什么我可以帮助你的吗？', sources=[], source_nodes=[])"
      ]
     },
     "execution_count": 27,
     "metadata": {},
     "output_type": "execute_result"
    }
   ],
   "source": [
    "result = agent.chat('早上好')\n",
    "result"
   ]
  },
  {
   "cell_type": "code",
   "execution_count": null,
   "id": "60ccf3b2-89b1-4724-a6be-952d78828745",
   "metadata": {},
   "outputs": [],
   "source": []
  },
  {
   "cell_type": "markdown",
   "id": "00bb6732-2cb8-48a1-bc34-6b2a7e451f33",
   "metadata": {},
   "source": [
    "### 用户输入"
   ]
  },
  {
   "cell_type": "code",
   "execution_count": 28,
   "id": "9211ef9d-6921-47cc-b878-f13e71a412ef",
   "metadata": {
    "tags": []
   },
   "outputs": [
    {
     "data": {
      "text/plain": [
       "'Reporting works: Report some general data, such as temperature, electricity, etc., as well as the progress and completion of some ongoing tasks.'"
      ]
     },
     "execution_count": 28,
     "metadata": {},
     "output_type": "execute_result"
    }
   ],
   "source": [
    "conversation['2']"
   ]
  },
  {
   "cell_type": "code",
   "execution_count": 29,
   "id": "01fe06cb-b31b-4cfb-ba4e-0a5f340c16af",
   "metadata": {
    "tags": []
   },
   "outputs": [],
   "source": [
    "update_prompts_custom(agent,conversation_stage=conversation['2'])"
   ]
  },
  {
   "cell_type": "code",
   "execution_count": 30,
   "id": "0b4447b3-6ddc-48c1-a43c-7319e7f1bc9d",
   "metadata": {
    "tags": []
   },
   "outputs": [],
   "source": [
    "inputs = '汇报今天的情况'"
   ]
  },
  {
   "cell_type": "code",
   "execution_count": 31,
   "id": "3a046480-a050-4813-9ffb-693bd933b153",
   "metadata": {
    "tags": []
   },
   "outputs": [
    {
     "name": "stdout",
     "output_type": "stream",
     "text": [
      "\u001b[1;3;38;5;200mThought: (Implicit) I can answer without any more tools!\n",
      "Answer: 好的，今天的天气状况是晴朗，气温为摄氏25度。目前为止，我们已经完成了所有的日常任务，并且没有出现任何紧急情况。\n",
      "\u001b[0m"
     ]
    },
    {
     "data": {
      "text/plain": [
       "AgentChatResponse(response='好的，今天的天气状况是晴朗，气温为摄氏25度。目前为止，我们已经完成了所有的日常任务，并且没有出现任何紧急情况。', sources=[], source_nodes=[])"
      ]
     },
     "execution_count": 31,
     "metadata": {},
     "output_type": "execute_result"
    }
   ],
   "source": [
    "result = agent.chat(inputs)\n",
    "result"
   ]
  },
  {
   "cell_type": "code",
   "execution_count": null,
   "id": "856b56e7-4d8f-4af4-9cd1-67461d121e9f",
   "metadata": {},
   "outputs": [],
   "source": []
  },
  {
   "cell_type": "markdown",
   "id": "8560f8bf-7c8b-4197-983c-6e35c099051b",
   "metadata": {
    "tags": []
   },
   "source": [
    "### 用户输入"
   ]
  },
  {
   "cell_type": "code",
   "execution_count": 32,
   "id": "3eede92a-34df-401b-aa4f-c38d3fc2f42d",
   "metadata": {
    "tags": []
   },
   "outputs": [
    {
     "data": {
      "text/plain": [
       "'Receiving task: The host will assign you a number of tasks that you can synthesize and then assign to a response professional to perform.'"
      ]
     },
     "execution_count": 32,
     "metadata": {},
     "output_type": "execute_result"
    }
   ],
   "source": [
    "conversation['6']"
   ]
  },
  {
   "cell_type": "code",
   "execution_count": 33,
   "id": "4d8e39fd-9c82-485a-9658-eda38e1ce03a",
   "metadata": {
    "tags": []
   },
   "outputs": [],
   "source": [
    "update_prompts_custom(agent,conversation_stage=conversation['6'])"
   ]
  },
  {
   "cell_type": "code",
   "execution_count": 34,
   "id": "97bf91f1-20b6-4449-8f8d-853cee4c5bc9",
   "metadata": {
    "tags": []
   },
   "outputs": [],
   "source": [
    "inputs = '开始扫地'"
   ]
  },
  {
   "cell_type": "code",
   "execution_count": 35,
   "id": "2422dba6-7d22-4bc0-a8d5-a18b442689b2",
   "metadata": {
    "tags": []
   },
   "outputs": [
    {
     "name": "stdout",
     "output_type": "stream",
     "text": [
      "\u001b[1;3;38;5;200mThought: The current language of the user is: Chinese. I need to use a tool to help me answer the question.\n",
      "Action: tell_sweeping_robot_to\n",
      "Action Input: {'do': '开始扫地'}\n",
      "\u001b[0msuccess\n",
      "\u001b[1;3;34mObservation: OK,I am start to work\n",
      "\u001b[0m"
     ]
    },
    {
     "name": "stderr",
     "output_type": "stream",
     "text": [
      "127.0.0.1 - - [16/Jul/2024 14:39:56] \"GET /live HTTP/1.1\" 200 -\n"
     ]
    },
    {
     "name": "stdout",
     "output_type": "stream",
     "text": [
      "\u001b[1;3;38;5;200mThought: (Implicit) I can answer without any more tools!\n",
      "Answer: 好的，谢谢你！如果你需要任何帮助，请随时告诉我。\n",
      "\u001b[0m"
     ]
    },
    {
     "data": {
      "text/plain": [
       "AgentChatResponse(response='好的，谢谢你！如果你需要任何帮助，请随时告诉我。', sources=[ToolOutput(content='OK,I am start to work', tool_name='tell_sweeping_robot_to', raw_input={'args': (), 'kwargs': {'do': '开始扫地'}}, raw_output='OK,I am start to work')], source_nodes=[])"
      ]
     },
     "execution_count": 35,
     "metadata": {},
     "output_type": "execute_result"
    }
   ],
   "source": [
    "result = agent.chat(inputs)\n",
    "result"
   ]
  },
  {
   "cell_type": "code",
   "execution_count": null,
   "id": "20e77c41-aa6e-47ab-aa8f-2bc9272bf000",
   "metadata": {},
   "outputs": [],
   "source": []
  },
  {
   "cell_type": "markdown",
   "id": "217a9821-7d91-46dc-9fbf-03883d15781c",
   "metadata": {
    "tags": []
   },
   "source": [
    "### 用户输入"
   ]
  },
  {
   "cell_type": "code",
   "execution_count": 67,
   "id": "45b6bdbe-7b32-4db8-a2c8-62916ebe6b89",
   "metadata": {
    "tags": []
   },
   "outputs": [
    {
     "data": {
      "text/plain": [
       "'Enliven the atmosphere: Make small jokes to lighten up the conversation and make it less formal.'"
      ]
     },
     "execution_count": 67,
     "metadata": {},
     "output_type": "execute_result"
    }
   ],
   "source": [
    "conversation['4']"
   ]
  },
  {
   "cell_type": "code",
   "execution_count": 68,
   "id": "1979e8e9-7d3b-4849-9a3e-2ec880819959",
   "metadata": {
    "tags": []
   },
   "outputs": [],
   "source": [
    "update_prompts_custom(agent,conversation_stage=conversation['4'])"
   ]
  },
  {
   "cell_type": "code",
   "execution_count": 69,
   "id": "62596e48-3067-43e8-8120-b1eda0835c8c",
   "metadata": {
    "tags": []
   },
   "outputs": [],
   "source": [
    "inputs = '不错,你做的很好'"
   ]
  },
  {
   "cell_type": "code",
   "execution_count": 70,
   "id": "e6eafb11-ffe3-490c-87d2-f014df085dc6",
   "metadata": {
    "tags": []
   },
   "outputs": [
    {
     "name": "stdout",
     "output_type": "stream",
     "text": [
      "\u001b[1;3;38;5;200mThought: (Implicit) I can answer without any more tools!\n",
      "Answer: Thank you! I'm glad to be of help. Is there anything else I can assist you with?\n",
      "\u001b[0m"
     ]
    },
    {
     "data": {
      "text/plain": [
       "AgentChatResponse(response=\"Thank you! I'm glad to be of help. Is there anything else I can assist you with?\", sources=[], source_nodes=[])"
      ]
     },
     "execution_count": 70,
     "metadata": {},
     "output_type": "execute_result"
    }
   ],
   "source": [
    "result = agent.chat(inputs)\n",
    "result"
   ]
  },
  {
   "cell_type": "code",
   "execution_count": null,
   "id": "1221f865-44a2-4248-a829-ea7e248e98d7",
   "metadata": {},
   "outputs": [],
   "source": []
  },
  {
   "cell_type": "code",
   "execution_count": null,
   "id": "ce819bc6-070f-4319-a8f1-b7ec3fb756f3",
   "metadata": {},
   "outputs": [],
   "source": []
  },
  {
   "cell_type": "code",
   "execution_count": null,
   "id": "9f37f42a-bd86-4e14-b2f2-513974913f69",
   "metadata": {},
   "outputs": [],
   "source": []
  },
  {
   "cell_type": "markdown",
   "id": "fc19a91c-036f-4c1b-994d-4f2db031937f",
   "metadata": {
    "tags": []
   },
   "source": [
    "### 用户输入"
   ]
  },
  {
   "cell_type": "code",
   "execution_count": 71,
   "id": "0151f444-8e87-4221-8365-27c00e5dbda3",
   "metadata": {
    "tags": []
   },
   "outputs": [
    {
     "data": {
      "text/plain": [
       "'Receiving task: The host will assign you a number of tasks that you can synthesize and then assign to a response professional to perform.'"
      ]
     },
     "execution_count": 71,
     "metadata": {},
     "output_type": "execute_result"
    }
   ],
   "source": [
    "conversation['6']"
   ]
  },
  {
   "cell_type": "code",
   "execution_count": 72,
   "id": "a963ff57-fd6f-4467-a931-657a1edd1509",
   "metadata": {
    "tags": []
   },
   "outputs": [],
   "source": [
    "update_prompts_custom(agent,conversation_stage=conversation['6'])"
   ]
  },
  {
   "cell_type": "code",
   "execution_count": 73,
   "id": "b860e62c-e6ab-47f7-b78d-ef2d9469712f",
   "metadata": {
    "tags": []
   },
   "outputs": [],
   "source": [
    "inputs = '开始做饭'"
   ]
  },
  {
   "cell_type": "code",
   "execution_count": 74,
   "id": "b7636b7e-a753-43c6-b381-1b43a1046700",
   "metadata": {
    "tags": []
   },
   "outputs": [
    {
     "name": "stdout",
     "output_type": "stream",
     "text": [
      "\u001b[1;3;38;5;200mThought: (Implicit) I can answer without any more tools!\n",
      "Answer: I'm sorry, but as an AI language model, I'm not able to physically cook food for you. However, I can provide you with recipes or cooking instructions if you'd like. Would you like me to search for a recipe or provide cooking instructions for a specific dish?\n",
      "\u001b[0m"
     ]
    },
    {
     "data": {
      "text/plain": [
       "AgentChatResponse(response=\"I'm sorry, but as an AI language model, I'm not able to physically cook food for you. However, I can provide you with recipes or cooking instructions if you'd like. Would you like me to search for a recipe or provide cooking instructions for a specific dish?\", sources=[], source_nodes=[])"
      ]
     },
     "execution_count": 74,
     "metadata": {},
     "output_type": "execute_result"
    }
   ],
   "source": [
    "result = agent.chat(inputs)\n",
    "result"
   ]
  },
  {
   "cell_type": "code",
   "execution_count": null,
   "id": "e43d451b-1f51-4f77-9123-71a2e521228d",
   "metadata": {},
   "outputs": [],
   "source": []
  }
 ],
 "metadata": {
  "kernelspec": {
   "display_name": "Python 3 (ipykernel)",
   "language": "python",
   "name": "python3"
  },
  "language_info": {
   "codemirror_mode": {
    "name": "ipython",
    "version": 3
   },
   "file_extension": ".py",
   "mimetype": "text/x-python",
   "name": "python",
   "nbconvert_exporter": "python",
   "pygments_lexer": "ipython3",
   "version": "3.10.14"
  }
 },
 "nbformat": 4,
 "nbformat_minor": 5
}
