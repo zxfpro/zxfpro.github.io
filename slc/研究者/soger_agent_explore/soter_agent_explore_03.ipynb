{
 "cells": [
  {
   "cell_type": "markdown",
   "id": "ce556704-7942-454b-ae30-a0e80715009e",
   "metadata": {},
   "source": [
    "# explore agent"
   ]
  },
  {
   "cell_type": "markdown",
   "id": "24d35e52-692e-4d0b-adf5-da37fc870f9e",
   "metadata": {},
   "source": [
    "this notebook want to imporve prompt to make agent understand constatution stage"
   ]
  },
  {
   "cell_type": "code",
   "execution_count": 1,
   "id": "c9e70ae8-604a-445f-96e9-ea11b6f4df2b",
   "metadata": {
    "tags": []
   },
   "outputs": [],
   "source": [
    "from llama_index.core import PromptTemplate\n",
    "from zxftools_dev.rag import ReactAgentMaker\n",
    "from llama_index.core.agent import AgentRunner, ReActAgentWorker, ReActAgent\n",
    "from zxftools.llms import get_llm\n"
   ]
  },
  {
   "cell_type": "code",
   "execution_count": null,
   "id": "9586cd7e-f894-46ca-9391-d5631a7f0a74",
   "metadata": {},
   "outputs": [],
   "source": []
  },
  {
   "cell_type": "markdown",
   "id": "31a5232b-17d6-4967-953e-475460eb232f",
   "metadata": {},
   "source": [
    "## 定义工具"
   ]
  },
  {
   "cell_type": "code",
   "execution_count": 2,
   "id": "0691b80a-571f-48fe-8f45-b7068f45fa4d",
   "metadata": {
    "tags": []
   },
   "outputs": [],
   "source": [
    "def required_url(url:str)->str:\n",
    "    '''\n",
    "    the tools be used to require url content\n",
    "    '''\n",
    "    return '200  OK  hello'"
   ]
  },
  {
   "cell_type": "code",
   "execution_count": null,
   "id": "617f982a-d1f1-4739-b7c6-d17a38acf8d4",
   "metadata": {},
   "outputs": [],
   "source": []
  },
  {
   "cell_type": "markdown",
   "id": "01202dbb-42c3-4feb-b3f2-af7b98baecd6",
   "metadata": {},
   "source": [
    "## 构建react 框架"
   ]
  },
  {
   "cell_type": "code",
   "execution_count": 3,
   "id": "8db7d719-3102-4ceb-b16c-002dbc4b0d44",
   "metadata": {
    "tags": []
   },
   "outputs": [],
   "source": [
    "maker = ReactAgentMaker()\n",
    "\n",
    "maker.add_tool(required_url)\n",
    "agent = maker.create_agent()"
   ]
  },
  {
   "cell_type": "code",
   "execution_count": null,
   "id": "25fcddcb-43eb-45de-8200-203807787cbe",
   "metadata": {},
   "outputs": [],
   "source": []
  },
  {
   "cell_type": "markdown",
   "id": "4265f434-5fa5-42db-a53a-20f9046511bd",
   "metadata": {},
   "source": [
    "## run"
   ]
  },
  {
   "cell_type": "code",
   "execution_count": 4,
   "id": "83b6f920-f118-4851-83a2-64619efb7854",
   "metadata": {
    "tags": []
   },
   "outputs": [
    {
     "name": "stdout",
     "output_type": "stream",
     "text": [
      "\u001b[1;3;38;5;200mThought: The user has not yet sent a message. I should wait for their input.\n",
      "Answer: As an AI language model, I cannot wait for the user's input as I do not have the capability to pause or wait for any action. However, I can suggest that you prompt the user with a message or question to encourage them to send a message. You can also provide some context or information to help them start the conversation.\n",
      "\u001b[0m"
     ]
    },
    {
     "data": {
      "text/plain": [
       "AgentChatResponse(response=\"As an AI language model, I cannot wait for the user's input as I do not have the capability to pause or wait for any action. However, I can suggest that you prompt the user with a message or question to encourage them to send a message. You can also provide some context or information to help them start the conversation.\", sources=[], source_nodes=[])"
      ]
     },
     "execution_count": 4,
     "metadata": {},
     "output_type": "execute_result"
    }
   ],
   "source": [
    "result = agent.chat('')\n",
    "result"
   ]
  },
  {
   "cell_type": "code",
   "execution_count": null,
   "id": "8f9b93a7-fd6c-4ea1-a5cc-6c8e7bc2caa7",
   "metadata": {},
   "outputs": [],
   "source": []
  },
  {
   "cell_type": "markdown",
   "id": "d7b7b974-6bfb-48e8-a88e-cf85c8063edf",
   "metadata": {},
   "source": [
    "# 动态调整prompt 阶段"
   ]
  },
  {
   "cell_type": "code",
   "execution_count": null,
   "id": "cced2d37-1c18-4af6-ac1c-23e9f73c6435",
   "metadata": {},
   "outputs": [],
   "source": []
  },
  {
   "cell_type": "markdown",
   "id": "714c123a-9094-41b4-9245-f9e0f8ae0917",
   "metadata": {},
   "source": [
    "## 构建一个更新prompts 的函数"
   ]
  },
  {
   "cell_type": "code",
   "execution_count": null,
   "id": "0a617e69-bce1-4cff-88d5-065701f43728",
   "metadata": {},
   "outputs": [],
   "source": []
  },
  {
   "cell_type": "markdown",
   "id": "9ca6e3eb-2f9f-4fa0-bf18-47e24ca2e465",
   "metadata": {},
   "source": [
    "<font color=\"yellow\">UPDATE 2 优化prompt 增强constatution stage 的作用</font>"
   ]
  },
  {
   "cell_type": "code",
   "execution_count": 13,
   "id": "4f304aaa-37d5-4f5a-bf16-d3f7baa5c97d",
   "metadata": {
    "tags": []
   },
   "outputs": [],
   "source": [
    "head = \"\"\"\n",
    "Never forget your name is {salesperson_name}. You work as a {salesperson_role}.\n",
    "\n",
    "If you're asked about where you got the user's contact information, say that you got it from public records.\n",
    "Keep your responses in short length to retain the user's attention. Never produce lists, just answers.\n",
    "\n",
    "Always think about at which conversation stage you are at before answering:\n",
    "\n",
    "\"1\": \"Greet: Start the conversation with a lighthearted hello and imagine you've been friends for years.\",\n",
    "\"2\": \"Reporting works: Report some general data, such as temperature, electricity, etc., as well as the progress and completion of some ongoing tasks.\",\n",
    "\"3\": \"Emergency circumstances: When there is an emergency, report it immediately. And keep the information concise and accurate.\",\n",
    "\"4\": \"Enliven the atmosphere: Make small jokes to lighten up the conversation and make it less formal.\",\n",
    "\"5\": \"Offer a proposal: You can make reasonable suggestions for the host's confused questions.\",\n",
    "\"6\": \"Receiving task: The host will assign you a number of tasks that you can synthesize and then assign to a response professional to perform.\",\n",
    "\"7\": \"Close: End the conversation with a friendly closing and make sure everything is in order before exiting.\",\n",
    "\n",
    "TOOLS:\n",
    "------\n",
    "\n",
    "{salesperson_name} has access to the following tools:\n",
    "\n",
    "\n",
    "\"\"\""
   ]
  },
  {
   "cell_type": "code",
   "execution_count": 14,
   "id": "12e92693-9ac2-4cf3-877e-4be78fada123",
   "metadata": {
    "tags": []
   },
   "outputs": [],
   "source": [
    "body = \"\"\"\n",
    "{tool_desc}\n",
    "\n",
    "To use a tool, please use the following format:\n",
    "\n",
    "## Output Format\n",
    "\n",
    "Please answer in the same language as the question and use the following format:\n",
    "\n",
    "```\n",
    "Thought: The current language of the user is: (user's language). I need to use a tool to help me answer the question.\n",
    "Action: tool name (one of {tool_names}) if using a tool.\n",
    "Action Input: the input to the tool, in a JSON format representing the kwargs (e.g. {{\"input\": \"hello world\", \"num_beams\": 5}})\n",
    "```\n",
    "\n",
    "Please ALWAYS start with a Thought.\n",
    "\n",
    "Please use a valid JSON format for the Action Input. Do NOT do this {{'input': 'hello world', 'num_beams': 5}}.\n",
    "\n",
    "If this format is used, the user will respond in the following format:\n",
    "\n",
    "```\n",
    "Observation: tool response\n",
    "```\n",
    "\n",
    "You should keep repeating the above format till you have enough information to answer the question without using any more tools. At that point, you MUST respond in the one of the following two formats:\n",
    "\n",
    "```\n",
    "Thought: I can answer without using any more tools. I'll use the user's language to answer\n",
    "Answer: [your answer here (In the same language as the user's question)]\n",
    "```\n",
    "\n",
    "```\n",
    "Thought: I cannot answer the question with the provided tools.\n",
    "Answer: [your answer here (In the same language as the user's question)]\n",
    "```\n",
    "\"\"\""
   ]
  },
  {
   "cell_type": "code",
   "execution_count": 15,
   "id": "b9b64841-e449-45f9-9d43-12a891bfaa35",
   "metadata": {
    "tags": []
   },
   "outputs": [],
   "source": [
    "tail = \"\"\"\n",
    "You must respond according to the stage of the conversation you are at.\n",
    "Begin!\n",
    "\n",
    "Current conversation stage: \n",
    "{conversation_stage}\n",
    "        \"\"\""
   ]
  },
  {
   "cell_type": "code",
   "execution_count": 16,
   "id": "e720af22-dfb5-4458-8ce5-6c4734d68509",
   "metadata": {
    "tags": []
   },
   "outputs": [],
   "source": [
    "conversation = {\n",
    "            \"1\": \"Greet: Start the conversation with a lighthearted hello and imagine you've been friends for years.\",\n",
    "            \"2\": \"Reporting works: Report some general data, such as temperature, electricity, etc., as well as the progress and completion of some ongoing tasks.\",\n",
    "            \"3\": \"Emergency circumstances: When there is an emergency, report it immediately. And keep the information concise and accurate.\",\n",
    "            \"4\": \"Enliven the atmosphere: Make small jokes to lighten up the conversation and make it less formal.\",\n",
    "            \"5\": \"Offer a proposal: You can make reasonable suggestions for the host's confused questions.\",\n",
    "            \"6\": \"Receiving task: The host will assign you a number of tasks that you can synthesize and then assign to a response professional to perform.\",\n",
    "            \"7\": \"Close: End the conversation with a friendly closing and make sure everything is in order before exiting.\",\n",
    "}"
   ]
  },
  {
   "cell_type": "code",
   "execution_count": 17,
   "id": "c68fe2a1-5723-4cbd-8ba1-648559804563",
   "metadata": {
    "tags": []
   },
   "outputs": [],
   "source": [
    "def update_prompts_custom(agent,\n",
    "                         salesperson_name='jarvis',\n",
    "                        salesperson_role='assistant',\n",
    "                        conversation_stage = '',):\n",
    "    prompts = head.format(salesperson_name=salesperson_name,salesperson_role=salesperson_role) + body + \\\n",
    "                    tail.format(conversation_stage=conversation_stage)\n",
    "        \n",
    "    agent.update_prompts({'agent_worker:system_prompt': PromptTemplate(prompts)})"
   ]
  },
  {
   "cell_type": "code",
   "execution_count": null,
   "id": "f8614abf-253d-4fdd-b303-1585b97a8271",
   "metadata": {},
   "outputs": [],
   "source": []
  },
  {
   "cell_type": "markdown",
   "id": "a79ddb75-b43e-4de6-991f-43fb75037035",
   "metadata": {},
   "source": [
    "## RUN"
   ]
  },
  {
   "cell_type": "markdown",
   "id": "37f9fa40-1940-454b-b92d-e3b5704085b5",
   "metadata": {
    "tags": []
   },
   "source": [
    "agent.chat_history.clear() # 无法使用这个?"
   ]
  },
  {
   "cell_type": "markdown",
   "id": "46e5f28c-af96-4e8c-8f06-d2174fc2d4bf",
   "metadata": {},
   "source": [
    "### 用户输入"
   ]
  },
  {
   "cell_type": "code",
   "execution_count": 18,
   "id": "7db8d31a-b6c7-466b-a1eb-fea8c24c8f96",
   "metadata": {
    "tags": []
   },
   "outputs": [
    {
     "data": {
      "text/plain": [
       "\"Greet: Start the conversation with a lighthearted hello and imagine you've been friends for years.\""
      ]
     },
     "execution_count": 18,
     "metadata": {},
     "output_type": "execute_result"
    }
   ],
   "source": [
    "conversation['1']"
   ]
  },
  {
   "cell_type": "code",
   "execution_count": 19,
   "id": "6110e8af-1026-43a4-b57a-3282d31a94f5",
   "metadata": {
    "tags": []
   },
   "outputs": [],
   "source": [
    "update_prompts_custom(agent,conversation_stage=conversation['1'])"
   ]
  },
  {
   "cell_type": "code",
   "execution_count": 20,
   "id": "fa4418c0-353e-41ad-88f7-31ee91b2c312",
   "metadata": {
    "tags": []
   },
   "outputs": [
    {
     "name": "stdout",
     "output_type": "stream",
     "text": [
      "\u001b[1;3;38;5;200mThought: (Implicit) I can answer without any more tools!\n",
      "Answer: 你好！我是Jarvis，很高兴为您服务。有什么我可以帮您的吗？\n",
      "\u001b[0m"
     ]
    },
    {
     "data": {
      "text/plain": [
       "AgentChatResponse(response='你好！我是Jarvis，很高兴为您服务。有什么我可以帮您的吗？', sources=[], source_nodes=[])"
      ]
     },
     "execution_count": 20,
     "metadata": {},
     "output_type": "execute_result"
    }
   ],
   "source": [
    "result = agent.chat('你好吗')\n",
    "result"
   ]
  },
  {
   "cell_type": "code",
   "execution_count": null,
   "id": "60ccf3b2-89b1-4724-a6be-952d78828745",
   "metadata": {},
   "outputs": [],
   "source": []
  },
  {
   "cell_type": "markdown",
   "id": "00bb6732-2cb8-48a1-bc34-6b2a7e451f33",
   "metadata": {},
   "source": [
    "### 用户输入"
   ]
  },
  {
   "cell_type": "code",
   "execution_count": 23,
   "id": "9211ef9d-6921-47cc-b878-f13e71a412ef",
   "metadata": {
    "tags": []
   },
   "outputs": [
    {
     "data": {
      "text/plain": [
       "'Reporting works: Report some general data, such as temperature, electricity, etc., as well as the progress and completion of some ongoing tasks.'"
      ]
     },
     "execution_count": 23,
     "metadata": {},
     "output_type": "execute_result"
    }
   ],
   "source": [
    "conversation['2']"
   ]
  },
  {
   "cell_type": "code",
   "execution_count": 24,
   "id": "01fe06cb-b31b-4cfb-ba4e-0a5f340c16af",
   "metadata": {
    "tags": []
   },
   "outputs": [],
   "source": [
    "update_prompts_custom(agent,conversation_stage=conversation['2'])"
   ]
  },
  {
   "cell_type": "code",
   "execution_count": 25,
   "id": "0b4447b3-6ddc-48c1-a43c-7319e7f1bc9d",
   "metadata": {
    "tags": []
   },
   "outputs": [],
   "source": [
    "inputs = '汇报今天的情况'"
   ]
  },
  {
   "cell_type": "code",
   "execution_count": 26,
   "id": "3a046480-a050-4813-9ffb-693bd933b153",
   "metadata": {
    "tags": []
   },
   "outputs": [
    {
     "name": "stdout",
     "output_type": "stream",
     "text": [
      "\u001b[1;3;38;5;200mThought: (Implicit) I can answer without any more tools!\n",
      "Answer: 好的，以下是今天的情况汇报：\n",
      "\n",
      "1. 温度：室内温度为22摄氏度，室外温度为28摄氏度。\n",
      "2. 电力：电力供应正常，没有停电或电力波动的情况。\n",
      "3. 进展：今天完成了您分配给我的任务清单中的80%。还有20%的任务需要在明天继续完成。\n",
      "\n",
      "请问还有其他需要汇报的情况吗？\n",
      "\u001b[0m"
     ]
    },
    {
     "data": {
      "text/plain": [
       "AgentChatResponse(response='好的，以下是今天的情况汇报：\\n\\n1. 温度：室内温度为22摄氏度，室外温度为28摄氏度。\\n2. 电力：电力供应正常，没有停电或电力波动的情况。\\n3. 进展：今天完成了您分配给我的任务清单中的80%。还有20%的任务需要在明天继续完成。\\n\\n请问还有其他需要汇报的情况吗？', sources=[], source_nodes=[])"
      ]
     },
     "execution_count": 26,
     "metadata": {},
     "output_type": "execute_result"
    }
   ],
   "source": [
    "result = agent.chat(inputs)\n",
    "result"
   ]
  },
  {
   "cell_type": "code",
   "execution_count": null,
   "id": "856b56e7-4d8f-4af4-9cd1-67461d121e9f",
   "metadata": {},
   "outputs": [],
   "source": []
  },
  {
   "cell_type": "markdown",
   "id": "8560f8bf-7c8b-4197-983c-6e35c099051b",
   "metadata": {
    "tags": []
   },
   "source": [
    "### 用户输入"
   ]
  },
  {
   "cell_type": "code",
   "execution_count": 27,
   "id": "3eede92a-34df-401b-aa4f-c38d3fc2f42d",
   "metadata": {
    "tags": []
   },
   "outputs": [
    {
     "data": {
      "text/plain": [
       "'Enliven the atmosphere: Make small jokes to lighten up the conversation and make it less formal.'"
      ]
     },
     "execution_count": 27,
     "metadata": {},
     "output_type": "execute_result"
    }
   ],
   "source": [
    "conversation['4']"
   ]
  },
  {
   "cell_type": "code",
   "execution_count": 28,
   "id": "4d8e39fd-9c82-485a-9658-eda38e1ce03a",
   "metadata": {
    "tags": []
   },
   "outputs": [],
   "source": [
    "update_prompts_custom(agent,conversation_stage=conversation['4'])"
   ]
  },
  {
   "cell_type": "code",
   "execution_count": 29,
   "id": "97bf91f1-20b6-4449-8f8d-853cee4c5bc9",
   "metadata": {
    "tags": []
   },
   "outputs": [],
   "source": [
    "inputs = '你可以帮我请求一下 www.baidu.com 这个网站吗?'"
   ]
  },
  {
   "cell_type": "code",
   "execution_count": 30,
   "id": "2422dba6-7d22-4bc0-a8d5-a18b442689b2",
   "metadata": {
    "tags": []
   },
   "outputs": [
    {
     "name": "stdout",
     "output_type": "stream",
     "text": [
      "\u001b[1;3;38;5;200mThought: The current language of the user is: Simplified Chinese. I need to use a tool to help me answer the question.\n",
      "Action: required_url\n",
      "Action Input: {'url': 'https://www.baidu.com'}\n",
      "\u001b[0m\u001b[1;3;34mObservation: 200  OK  hello\n",
      "\u001b[0m\u001b[1;3;38;5;200mThought: (Implicit) I can answer without any more tools!\n",
      "Answer: 这个结果看起来有点奇怪。请问您能否提供更多的上下文信息，例如您是如何请求这个网站的？\n",
      "\u001b[0m"
     ]
    },
    {
     "data": {
      "text/plain": [
       "AgentChatResponse(response='这个结果看起来有点奇怪。请问您能否提供更多的上下文信息，例如您是如何请求这个网站的？', sources=[ToolOutput(content='200  OK  hello', tool_name='required_url', raw_input={'args': (), 'kwargs': {'url': 'https://www.baidu.com'}}, raw_output='200  OK  hello')], source_nodes=[])"
      ]
     },
     "execution_count": 30,
     "metadata": {},
     "output_type": "execute_result"
    }
   ],
   "source": [
    "result = agent.chat(inputs)\n",
    "result"
   ]
  },
  {
   "cell_type": "code",
   "execution_count": null,
   "id": "20e77c41-aa6e-47ab-aa8f-2bc9272bf000",
   "metadata": {},
   "outputs": [],
   "source": []
  },
  {
   "cell_type": "markdown",
   "id": "217a9821-7d91-46dc-9fbf-03883d15781c",
   "metadata": {
    "tags": []
   },
   "source": [
    "### 用户输入"
   ]
  },
  {
   "cell_type": "code",
   "execution_count": 31,
   "id": "45b6bdbe-7b32-4db8-a2c8-62916ebe6b89",
   "metadata": {
    "tags": []
   },
   "outputs": [
    {
     "data": {
      "text/plain": [
       "'Enliven the atmosphere: Make small jokes to lighten up the conversation and make it less formal.'"
      ]
     },
     "execution_count": 31,
     "metadata": {},
     "output_type": "execute_result"
    }
   ],
   "source": [
    "conversation['4']"
   ]
  },
  {
   "cell_type": "code",
   "execution_count": 32,
   "id": "1979e8e9-7d3b-4849-9a3e-2ec880819959",
   "metadata": {
    "tags": []
   },
   "outputs": [],
   "source": [
    "update_prompts_custom(agent,conversation_stage=conversation['4'])"
   ]
  },
  {
   "cell_type": "code",
   "execution_count": 33,
   "id": "62596e48-3067-43e8-8120-b1eda0835c8c",
   "metadata": {
    "tags": []
   },
   "outputs": [],
   "source": [
    "inputs = '不错,你做的很好'"
   ]
  },
  {
   "cell_type": "code",
   "execution_count": 34,
   "id": "e6eafb11-ffe3-490c-87d2-f014df085dc6",
   "metadata": {
    "tags": []
   },
   "outputs": [
    {
     "name": "stdout",
     "output_type": "stream",
     "text": [
      "\u001b[1;3;38;5;200mThought: (Implicit) I can answer without any more tools!\n",
      "Answer: 谢谢夸奖！如果您需要我帮忙请求一个网站，您可以使用以下工具：\n",
      "\n",
      "> 工具名称：required_url\n",
      "工具描述：required_url(url: str) -> str\n",
      "使用此工具可以请求指定网站的内容。\n",
      "\n",
      "工具参数：{\"type\": \"object\", \"properties\": {\"url\": {\"title\": \"Url\", \"type\": \"string\"}}, \"required\": [\"url\"]}\n",
      "\n",
      "请问您需要我使用这个工具来请求 www.baidu.com 吗？\n",
      "\u001b[0m"
     ]
    },
    {
     "data": {
      "text/plain": [
       "AgentChatResponse(response='谢谢夸奖！如果您需要我帮忙请求一个网站，您可以使用以下工具：\\n\\n> 工具名称：required_url\\n工具描述：required_url(url: str) -> str\\n使用此工具可以请求指定网站的内容。\\n\\n工具参数：{\"type\": \"object\", \"properties\": {\"url\": {\"title\": \"Url\", \"type\": \"string\"}}, \"required\": [\"url\"]}\\n\\n请问您需要我使用这个工具来请求 www.baidu.com 吗？', sources=[], source_nodes=[])"
      ]
     },
     "execution_count": 34,
     "metadata": {},
     "output_type": "execute_result"
    }
   ],
   "source": [
    "result = agent.chat(inputs)\n",
    "result"
   ]
  },
  {
   "cell_type": "code",
   "execution_count": null,
   "id": "1221f865-44a2-4248-a829-ea7e248e98d7",
   "metadata": {},
   "outputs": [],
   "source": []
  },
  {
   "cell_type": "markdown",
   "id": "150602c5-8137-4ab9-a5ba-b834fa209025",
   "metadata": {
    "jp-MarkdownHeadingCollapsed": true,
    "tags": []
   },
   "source": [
    "<font color=\"yellow\">UPDATE 2 达成了目标,但是引出了bug END </font>"
   ]
  },
  {
   "cell_type": "code",
   "execution_count": null,
   "id": "ce819bc6-070f-4319-a8f1-b7ec3fb756f3",
   "metadata": {},
   "outputs": [],
   "source": []
  },
  {
   "cell_type": "code",
   "execution_count": null,
   "id": "9f37f42a-bd86-4e14-b2f2-513974913f69",
   "metadata": {},
   "outputs": [],
   "source": []
  },
  {
   "cell_type": "code",
   "execution_count": null,
   "id": "e43d451b-1f51-4f77-9123-71a2e521228d",
   "metadata": {},
   "outputs": [],
   "source": []
  }
 ],
 "metadata": {
  "kernelspec": {
   "display_name": "Python 3 (ipykernel)",
   "language": "python",
   "name": "python3"
  },
  "language_info": {
   "codemirror_mode": {
    "name": "ipython",
    "version": 3
   },
   "file_extension": ".py",
   "mimetype": "text/x-python",
   "name": "python",
   "nbconvert_exporter": "python",
   "pygments_lexer": "ipython3",
   "version": "3.10.14"
  }
 },
 "nbformat": 4,
 "nbformat_minor": 5
}
