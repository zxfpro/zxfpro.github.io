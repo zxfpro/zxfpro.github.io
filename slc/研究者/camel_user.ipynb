{
 "cells": [
  {
   "cell_type": "markdown",
   "id": "72afc0dd-9256-47dc-9c8f-4379d0866aba",
   "metadata": {},
   "source": [
    "# camel 使用"
   ]
  },
  {
   "cell_type": "code",
   "execution_count": 1,
   "id": "a7ce1dda-3137-4bbe-998f-b3d71dd28dc5",
   "metadata": {
    "tags": []
   },
   "outputs": [],
   "source": [
    "\n",
    "%run camel_package.ipynb"
   ]
  },
  {
   "cell_type": "code",
   "execution_count": 2,
   "id": "20d99327-1119-4170-b78e-ab7ff57e3a6e",
   "metadata": {
    "tags": []
   },
   "outputs": [],
   "source": [
    "import os\n",
    "\n",
    "assistant_role_name = \"Python Programmer\"\n",
    "user_role_name = \"Stock Trader\"\n",
    "task = \"Develop a trading bot for the stock market\"\n",
    "word_limit = 50  # word limit for task brainstorming"
   ]
  },
  {
   "cell_type": "code",
   "execution_count": 3,
   "id": "a895b002-c756-45a9-acab-5004e6b2ed7c",
   "metadata": {
    "tags": []
   },
   "outputs": [
    {
     "name": "stdout",
     "output_type": "stream",
     "text": [
      "Specified task: Develop a Python-based trading bot that uses machine learning algorithms to analyze market data, predict stock price fluctuations, and execute high-frequency trades. The bot should be able to learn from past trades to make more accurate predictions and adapt to changing market conditions in real-time.\n"
     ]
    }
   ],
   "source": [
    "task_specifier_sys_msg = SystemMessage(content=\"You can make a task more specific.\")\n",
    "task_specifier_prompt = \"\"\"Here is a task that {assistant_role_name} will help {user_role_name} to complete: {task}.\n",
    "Please make it more specific. Be creative and imaginative.\n",
    "Please reply with the specified task in {word_limit} words or less. Do not add anything else.\"\"\"\n",
    "task_specifier_template = HumanMessagePromptTemplate.from_template(\n",
    "    template=task_specifier_prompt\n",
    ")\n",
    "llm = ChatOpenAI(temperature=0.9,base_url='https://api.gptsapi.net/v1',api_key=os.environ.get('WildCard_API_KEY'))\n",
    "\n",
    "task_specify_agent = CAMELAgent(task_specifier_sys_msg, llm)\n",
    "task_specifier_msg = task_specifier_template.format_messages(\n",
    "    assistant_role_name=assistant_role_name,\n",
    "    user_role_name=user_role_name,\n",
    "    task=task,\n",
    "    word_limit=word_limit,\n",
    ")[0]\n",
    "specified_task_msg = task_specify_agent.step(task_specifier_msg)\n",
    "print(f\"Specified task: {specified_task_msg.content}\")\n",
    "specified_task = specified_task_msg.content"
   ]
  },
  {
   "cell_type": "code",
   "execution_count": null,
   "id": "8c00c9ac-be0f-403f-8d34-0ec92816d713",
   "metadata": {},
   "outputs": [],
   "source": []
  },
  {
   "cell_type": "code",
   "execution_count": null,
   "id": "d01a8a10-d62d-463e-8a32-94c1d27369f1",
   "metadata": {},
   "outputs": [],
   "source": []
  },
  {
   "cell_type": "code",
   "execution_count": 4,
   "id": "40f6bf37-630d-479b-b084-de74abdd7d74",
   "metadata": {
    "tags": []
   },
   "outputs": [],
   "source": [
    "assistant_sys_msg, user_sys_msg = get_sys_msgs(\n",
    "    assistant_role_name, user_role_name, specified_task\n",
    ")\n",
    "llm2 = ChatOpenAI(temperature=0.9,base_url='https://api.gptsapi.net/v1',api_key=os.environ.get('WildCard_API_KEY'))\n",
    "llm3 = ChatOpenAI(temperature=0.9,base_url='https://api.gptsapi.net/v1',api_key=os.environ.get('WildCard_API_KEY'))\n",
    "\n",
    "assistant_agent = CAMELAgent(assistant_sys_msg, llm2)\n",
    "user_agent = CAMELAgent(user_sys_msg, llm3)\n",
    "\n",
    "# Reset agents\n",
    "assistant_agent.reset()\n",
    "user_agent.reset()\n",
    "\n",
    "# Initialize chats\n",
    "user_msg = HumanMessage(\n",
    "    content=(\n",
    "        f\"{user_sys_msg.content}. \"\n",
    "        \"Now start to give me introductions one by one. \"\n",
    "        \"Only reply with Instruction and Input.\"\n",
    "    )\n",
    ")\n",
    "\n",
    "assistant_msg = HumanMessage(content=f\"{assistant_sys_msg.content}\")\n",
    "assistant_msg = assistant_agent.step(user_msg)"
   ]
  },
  {
   "cell_type": "markdown",
   "id": "7291bcac-9bb1-4dd0-a84b-8b0af8ada7e7",
   "metadata": {},
   "source": [
    "## Start role-playing session to solve the task!"
   ]
  },
  {
   "cell_type": "code",
   "execution_count": 9,
   "id": "e43e9a0f-e608-4af0-a09e-bdb48697425b",
   "metadata": {
    "tags": []
   },
   "outputs": [],
   "source": [
    "def run(user_agent,assistant_agent,assistant_msg,chat_turn_limit=30,n=0):\n",
    "\n",
    "    while n < chat_turn_limit:\n",
    "        n += 1\n",
    "        user_ai_msg = user_agent.step(assistant_msg)\n",
    "        user_msg = HumanMessage(content=user_ai_msg.content)\n",
    "        print(f\"AI User ({user_role_name}):\\n\\n{user_msg.content}\\n\\n\")\n",
    "\n",
    "        assistant_ai_msg = assistant_agent.step(user_msg)\n",
    "        assistant_msg = HumanMessage(content=assistant_ai_msg.content)\n",
    "        print(f\"AI Assistant ({assistant_role_name}):\\n\\n{assistant_msg.content}\\n\\n\")\n",
    "        if \"<CAMEL_TASK_DONE>\" in user_msg.content:\n",
    "            break"
   ]
  },
  {
   "cell_type": "code",
   "execution_count": null,
   "id": "ae29cb18-4a3c-4b07-9209-089fad22dc4c",
   "metadata": {
    "tags": []
   },
   "outputs": [],
   "source": [
    "run(user_agent,assistant_agent,assistant_msg)"
   ]
  },
  {
   "cell_type": "code",
   "execution_count": null,
   "id": "6ae76a66-3178-444d-9fc1-8f050a4be6fd",
   "metadata": {},
   "outputs": [],
   "source": []
  }
 ],
 "metadata": {
  "kernelspec": {
   "display_name": "Python 3 (ipykernel)",
   "language": "python",
   "name": "python3"
  },
  "language_info": {
   "codemirror_mode": {
    "name": "ipython",
    "version": 3
   },
   "file_extension": ".py",
   "mimetype": "text/x-python",
   "name": "python",
   "nbconvert_exporter": "python",
   "pygments_lexer": "ipython3",
   "version": "3.10.14"
  }
 },
 "nbformat": 4,
 "nbformat_minor": 5
}
