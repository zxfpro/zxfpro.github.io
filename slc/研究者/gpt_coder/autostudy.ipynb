{
 "cells": [
  {
   "cell_type": "code",
   "execution_count": 1,
   "id": "ba708855-018a-4a7c-ab5f-6cfc5baeca60",
   "metadata": {
    "tags": []
   },
   "outputs": [],
   "source": [
    "from zxftools_dev.llms import get_llm"
   ]
  },
  {
   "cell_type": "code",
   "execution_count": 8,
   "id": "b91b9de3-f131-42e6-87d1-171ade046e3b",
   "metadata": {
    "tags": []
   },
   "outputs": [],
   "source": [
    "from IPython.display import Markdown"
   ]
  },
  {
   "cell_type": "code",
   "execution_count": 2,
   "id": "dd9b3b94-f186-4aa6-8710-01f4dbcd02b1",
   "metadata": {
    "tags": []
   },
   "outputs": [],
   "source": [
    "llm = get_llm(model='gpt-4o')"
   ]
  },
  {
   "cell_type": "code",
   "execution_count": 17,
   "id": "51b762a3-4125-41cd-92b0-78b7a215d722",
   "metadata": {
    "tags": []
   },
   "outputs": [],
   "source": [
    "result = llm.complete(\"\"\"\n",
    "帮我写一个控制df 的颜色和特效的教程,可以告诉我应该掌握哪些知识吗? \n",
    "\"\"\")"
   ]
  },
  {
   "cell_type": "code",
   "execution_count": 23,
   "id": "d2bf958f-6236-49be-86c6-69a08cee453d",
   "metadata": {
    "tags": []
   },
   "outputs": [
    {
     "data": {
      "text/plain": [
       "'```python\\n{\\n \"cells\": [\\n  {\\n   \"cell_type\": \"markdown\",\\n   \"metadata\": {},\\n   \"source\": [\\n    \"# 控制DataFrame的颜色和特效教程\\\\n\",\\n    \"\\\\n\",\\n    \"在这个教程中，我们将学习如何使用Pandas和Styler来控制DataFrame的颜色和特效。通过掌握这些技巧，你可以更好地展示和分析数据。\\\\n\",\\n    \"\\\\n\",\\n    \"## 你需要掌握的知识\\\\n\",\\n    \"\\\\n\",\\n    \"1. **Pandas基础**：了解如何创建和操作DataFrame。\\\\n\",\\n    \"2. **Styler对象**：了解如何使用Pandas的Styler对象来定制DataFrame的显示。\\\\n\",\\n    \"3. **CSS基础**：了解一些基本的CSS样式，以便更好地控制DataFrame的外观。\\\\n\",\\n    \"\\\\n\",\\n    \"## 安装必要的库\\\\n\",\\n    \"\\\\n\",\\n    \"首先，我们需要安装Pandas库。如果你还没有安装它，可以使用以下命令进行安装：\\\\n\",\\n    \"\\\\n\",\\n    \"```python\\\\n\",\\n    \"!pip install pandas\\\\n\",\\n    \"```\\\\n\",\\n    \"\\\\n\",\\n    \"## 导入库\\\\n\",\\n    \"\\\\n\",\\n    \"```python\\\\n\",\\n    \"import pandas as pd\\\\n\",\\n    \"import numpy as np\\\\n\",\\n    \"```\\\\n\",\\n    \"\\\\n\",\\n    \"## 创建一个示例DataFrame\\\\n\",\\n    \"\\\\n\",\\n    \"```python\\\\n\",\\n    \"data = {\\\\n\",\\n    \"    \\'A\\': [1, 2, 3, 4],\\\\n\",\\n    \"    \\'B\\': [10, 20, 30, 40],\\\\n\",\\n    \"    \\'C\\': [100, 200, 300, 400]\\\\n\",\\n    \"}\\\\n\",\\n    \"df = pd.DataFrame(data)\\\\n\",\\n    \"df\\\\n\",\\n    \"```\\\\n\",\\n    \"\\\\n\",\\n    \"## 使用Styler对象\\\\n\",\\n    \"\\\\n\",\\n    \"Pandas的Styler对象允许我们对DataFrame进行定制。我们可以使用`df.style`来创建一个Styler对象。\\\\n\",\\n    \"\\\\n\",\\n    \"```python\\\\n\",\\n    \"styled_df = df.style\\\\n\",\\n    \"```\\\\n\",\\n    \"\\\\n\",\\n    \"### 设置背景颜色\\\\n\",\\n    \"\\\\n\",\\n    \"我们可以使用`background_gradient`方法来设置背景颜色。\\\\n\",\\n    \"\\\\n\",\\n    \"```python\\\\n\",\\n    \"styled_df = df.style.background_gradient(cmap=\\'viridis\\')\\\\n\",\\n    \"styled_df\\\\n\",\\n    \"```\\\\n\",\\n    \"\\\\n\",\\n    \"### 设置字体颜色\\\\n\",\\n    \"\\\\n\",\\n    \"我们可以使用`applymap`方法来设置字体颜色。\\\\n\",\\n    \"\\\\n\",\\n    \"```python\\\\n\",\\n    \"def color_negative_red(val):\\\\n\",\\n    \"    color = \\'red\\' if val < 0 else \\'black\\'\\\\n\",\\n    \"    return f\\'color: {color}\\'\\\\n\",\\n    \"\\\\n\",\\n    \"styled_df = df.style.applymap(color_negative_red)\\\\n\",\\n    \"styled_df\\\\n\",\\n    \"```\\\\n\",\\n    \"\\\\n\",\\n    \"### 设置特定单元格的样式\\\\n\",\\n    \"\\\\n\",\\n    \"我们可以使用`apply`方法来设置特定单元格的样式。\\\\n\",\\n    \"\\\\n\",\\n    \"```python\\\\n\",\\n    \"def highlight_max(s):\\\\n\",\\n    \"    is_max = s == s.max()\\\\n\",\\n    \"    return [\\'background-color: yellow\\' if v else \\'\\' for v in is_max]\\\\n\",\\n    \"\\\\n\",\\n    \"styled_df = df.style.apply(highlight_max)\\\\n\",\\n    \"styled_df\\\\n\",\\n    \"```\\\\n\",\\n    \"\\\\n\",\\n    \"### 添加边框\\\\n\",\\n    \"\\\\n\",\\n    \"我们可以使用`set_table_styles`方法来添加边框。\\\\n\",\\n    \"\\\\n\",\\n    \"```python\\\\n\",\\n    \"styles = [\\\\n\",\\n    \"    {\\'selector\\': \\'th\\',\\\\n\",\\n    \"     \\'props\\': [(\\'border\\', \\'2px solid black\\')]},\\\\n\",\\n    \"    {\\'selector\\': \\'td\\',\\\\n\",\\n    \"     \\'props\\': [(\\'border\\', \\'1px solid black\\')]}\\\\n\",\\n    \"]\\\\n\",\\n    \"\\\\n\",\\n    \"styled_df = df.style.set_table_styles(styles)\\\\n\",\\n    \"styled_df\\\\n\",\\n    \"```\\\\n\",\\n    \"\\\\n\",\\n    \"## 总结\\\\n\",\\n    \"\\\\n\",\\n    \"通过本教程，你应该已经掌握了如何使用Pandas和Styler来控制DataFrame的颜色和特效。你可以根据自己的需求，进一步定制DataFrame的显示。\\\\n\",\\n    \"\\\\n\",\\n    \"希望这个教程对你有所帮助！\"\\n   ]\\n  }\\n ]\\n}\\n```'"
      ]
     },
     "execution_count": 23,
     "metadata": {},
     "output_type": "execute_result"
    }
   ],
   "source": [
    "result.text.split('\\n\\n')[1]"
   ]
  },
  {
   "cell_type": "code",
   "execution_count": 24,
   "id": "5b3038fb-2976-4939-8e02-a2f669b31e21",
   "metadata": {
    "tags": []
   },
   "outputs": [],
   "source": [
    "with open('new.ipynb','w') as f:\n",
    "    f.write(result.text.split('\\n\\n')[1])\n"
   ]
  },
  {
   "cell_type": "code",
   "execution_count": null,
   "id": "d5efed12-f1e9-4996-83ff-328fc33c3a69",
   "metadata": {},
   "outputs": [],
   "source": []
  },
  {
   "cell_type": "code",
   "execution_count": null,
   "id": "9e590c21-7ce6-4681-880b-94c31351e440",
   "metadata": {},
   "outputs": [],
   "source": [
    "!ls"
   ]
  },
  {
   "cell_type": "code",
   "execution_count": 26,
   "id": "7e43acff-d761-415d-be81-f4a2b2ed156b",
   "metadata": {},
   "outputs": [],
   "source": [
    "import nbformat as nbf\n",
    "\n",
    "# 创建一个新的Notebook对象\n",
    "nb = nbf.v4.new_notebook()\n",
    "\n",
    "# 添加Markdown单元格\n",
    "markdown_cell = nbf.v4.new_markdown_cell(\"# 这是一个Markdown单元格\\n\\n以下是一些关于如何写一个好的Prompt的指南。\")\n",
    "nb.cells.append(markdown_cell)\n",
    "\n",
    "# 添加代码单元格\n",
    "code_cell = nbf.v4.new_code_cell(\"\"\"# 示例Prompt\n",
    "prompt = \\\"\\\"\\\"\n",
    "请撰写一份关于人工智能未来发展的详细报告。报告应包括以下几个方面：\n",
    "1. 人工智能的历史背景。\n",
    "2. 当前的主要应用领域。\n",
    "3. 未来五年的发展趋势预测。\n",
    "4. 人工智能可能带来的社会和经济影响。\n",
    "5. 相关的伦理和法律问题。\n",
    "\n",
    "报告应使用学术写作风格，长度为3000字左右，并引用最新的研究和数据。\n",
    "\\\"\\\"\\\"\n",
    "print(prompt)\n",
    "\"\"\")\n",
    "nb.cells.append(code_cell)\n",
    "\n",
    "# 保存为一个新的ipynb文件\n",
    "with open('example_notebook.ipynb', 'w', encoding='utf-8') as f:\n",
    "    nbf.write(nb, f)\n"
   ]
  },
  {
   "cell_type": "code",
   "execution_count": null,
   "id": "b6ffcfd5-6747-4316-9672-d21317512276",
   "metadata": {},
   "outputs": [],
   "source": []
  },
  {
   "cell_type": "code",
   "execution_count": null,
   "id": "e0711550-3755-4a1f-9aec-4ddf9651c03b",
   "metadata": {},
   "outputs": [],
   "source": []
  },
  {
   "cell_type": "code",
   "execution_count": null,
   "id": "ad158f81-04f1-4f22-85f0-e731b95cdcac",
   "metadata": {},
   "outputs": [],
   "source": []
  },
  {
   "cell_type": "code",
   "execution_count": 36,
   "id": "10e6906c-72a7-41a0-b096-1cc1efc833dc",
   "metadata": {
    "tags": []
   },
   "outputs": [
    {
     "name": "stderr",
     "output_type": "stream",
     "text": [
      "[IPKernelApp] WARNING | Unknown error in handling startup files:\n"
     ]
    },
    {
     "name": "stdout",
     "output_type": "stream",
     "text": [
      "Error during execution: An error occurred while executing the following cell:\n",
      "------------------\n",
      "sdfsdf\n",
      "------------------\n",
      "\n",
      "\n",
      "\u001b[0;31m---------------------------------------------------------------------------\u001b[0m\n",
      "\u001b[0;31mNameError\u001b[0m                                 Traceback (most recent call last)\n",
      "Cell \u001b[0;32mIn[2], line 1\u001b[0m\n",
      "\u001b[0;32m----> 1\u001b[0m \u001b[43msdfsdf\u001b[49m\n",
      "\n",
      "\u001b[0;31mNameError\u001b[0m: name 'sdfsdf' is not defined\n",
      "\n",
      "\n",
      "请撰写一份关于人工智能未来发展的详细报告。报告应包括以下几个方面：\n",
      "1. 人工智能的历史背景。\n",
      "2. 当前的主要应用领域。\n",
      "3. 未来五年的发展趋势预测。\n",
      "4. 人工智能可能带来的社会和经济影响。\n",
      "5. 相关的伦理和法律问题。\n",
      "\n",
      "报告应使用学术写作风格，长度为3000字左右，并引用最新的研究和数据。\n",
      "\n",
      "\u001b[0;31m---------------------------------------------------------------------------\u001b[0m\n",
      "\u001b[0;31mNameError\u001b[0m                                 Traceback (most recent call last)\n",
      "Cell \u001b[0;32mIn[2], line 1\u001b[0m\n",
      "\u001b[0;32m----> 1\u001b[0m \u001b[43msdfsdf\u001b[49m\n",
      "\n",
      "\u001b[0;31mNameError\u001b[0m: name 'sdfsdf' is not defined\n"
     ]
    }
   ],
   "source": [
    "import nbformat as nbf\n",
    "from nbconvert.preprocessors import ExecutePreprocessor\n",
    "import io\n",
    "\n",
    "# 创建一个新的Notebook对象\n",
    "nb = nbf.v4.new_notebook()\n",
    "\n",
    "# 添加Markdown单元格\n",
    "markdown_cell = nbf.v4.new_markdown_cell(\"# 这是一个Markdown单元格\\n\\n以下是一些关于如何写一个好的Prompt的指南。\")\n",
    "nb.cells.append(markdown_cell)\n",
    "\n",
    "# 添加代码单元格\n",
    "code_cell = nbf.v4.new_code_cell(\"\"\"# 示例Prompt\n",
    "prompt = \\\"\\\"\\\"\n",
    "请撰写一份关于人工智能未来发展的详细报告。报告应包括以下几个方面：\n",
    "1. 人工智能的历史背景。\n",
    "2. 当前的主要应用领域。\n",
    "3. 未来五年的发展趋势预测。\n",
    "4. 人工智能可能带来的社会和经济影响。\n",
    "5. 相关的伦理和法律问题。\n",
    "\n",
    "报告应使用学术写作风格，长度为3000字左右，并引用最新的研究和数据。\n",
    "\\\"\\\"\\\"\n",
    "print(prompt)\n",
    "\"\"\")\n",
    "nb.cells.append(code_cell)\n",
    "nb.cells.append(nbf.v4.new_code_cell('sdfsdf'))\n",
    "\n",
    "# 保存为一个新的ipynb文件\n",
    "notebook_filename = 'example_notebook.ipynb'\n",
    "with open(notebook_filename, 'w', encoding='utf-8') as f:\n",
    "    nbf.write(nb, f)\n",
    "\n",
    "# 运行Notebook并捕获输出和错误信息\n",
    "def run_notebook(notebook_filename):\n",
    "    global xx\n",
    "    with open(notebook_filename) as f:\n",
    "        nb = nbf.read(f, as_version=4)\n",
    "        \n",
    "    ep = ExecutePreprocessor(timeout=600, kernel_name='python3')\n",
    "    \n",
    "    try:\n",
    "        ep.preprocess(nb, {'metadata': {'path': './'}})\n",
    "    except Exception as e:\n",
    "        xx = e\n",
    "        print(\"Error during execution:\", e)\n",
    "        \n",
    "    # 捕获输出和错误信息\n",
    "    output_stream = io.StringIO()\n",
    "    for cell in nb.cells:\n",
    "        if 'outputs' in cell:\n",
    "            for output in cell['outputs']:\n",
    "                if output.output_type == 'stream':\n",
    "                    output_stream.write(output.text)\n",
    "                elif output.output_type == 'error':\n",
    "                    output_stream.write('\\n'.join(output.traceback))\n",
    "    \n",
    "    return output_stream.getvalue()\n",
    "\n",
    "output = run_notebook(notebook_filename)\n",
    "print(output)\n"
   ]
  },
  {
   "cell_type": "code",
   "execution_count": 37,
   "id": "0e5bc6d5-336a-4eaf-9767-c36ccebccb33",
   "metadata": {
    "tags": []
   },
   "outputs": [
    {
     "name": "stdout",
     "output_type": "stream",
     "text": [
      "An error occurred while executing the following cell:\n",
      "------------------\n",
      "sdfsdf\n",
      "------------------\n",
      "\n",
      "\n",
      "\u001b[0;31m---------------------------------------------------------------------------\u001b[0m\n",
      "\u001b[0;31mNameError\u001b[0m                                 Traceback (most recent call last)\n",
      "Cell \u001b[0;32mIn[2], line 1\u001b[0m\n",
      "\u001b[0;32m----> 1\u001b[0m \u001b[43msdfsdf\u001b[49m\n",
      "\n",
      "\u001b[0;31mNameError\u001b[0m: name 'sdfsdf' is not defined\n",
      "\n"
     ]
    }
   ],
   "source": [
    "print(xx)"
   ]
  },
  {
   "cell_type": "code",
   "execution_count": null,
   "id": "aef131bd-26dc-490c-86ab-0dc6e78da60c",
   "metadata": {},
   "outputs": [],
   "source": []
  },
  {
   "cell_type": "code",
   "execution_count": null,
   "id": "3fbaf66e-f36a-4e90-842d-3fbcd4e39e25",
   "metadata": {},
   "outputs": [],
   "source": []
  },
  {
   "cell_type": "code",
   "execution_count": 44,
   "id": "fefe3cb5-6d4c-45d6-880a-b6715a60bec8",
   "metadata": {
    "tags": []
   },
   "outputs": [
    {
     "name": "stdout",
     "output_type": "stream",
     "text": [
      "Found in ./auto_coder-Copy2.ipynb:\n",
      "%env DD_TOKEN=https://oapi.dingtalk.com/robot/send?access_token=1003a3d8a6e724e255d9b28b5d4a540cd8dbdd2d2fa2163ed09cc77f7c46841d\n",
      "--------------------------------------------------------------------------------\n",
      "\n",
      "Found in ./auto_coder.ipynb:\n",
      "%env DD_TOKEN=https://oapi.dingtalk.com/robot/send?access_token=1003a3d8a6e724e255d9b28b5d4a540cd8dbdd2d2fa2163ed09cc77f7c46841d\n",
      "--------------------------------------------------------------------------------\n",
      "\n",
      "Found in ./auto_coder-Copy1.ipynb:\n",
      "%env DD_TOKEN=https://oapi.dingtalk.com/robot/send?access_token=1003a3d8a6e724e255d9b28b5d4a540cd8dbdd2d2fa2163ed09cc77f7c46841d\n",
      "--------------------------------------------------------------------------------\n",
      "\n",
      "Found in ./.ipynb_checkpoints/auto_coder-Copy1-checkpoint.ipynb:\n",
      "%env DD_TOKEN=https://oapi.dingtalk.com/robot/send?access_token=1003a3d8a6e724e255d9b28b5d4a540cd8dbdd2d2fa2163ed09cc77f7c46841d\n",
      "--------------------------------------------------------------------------------\n",
      "\n",
      "Found in ./.ipynb_checkpoints/auto_coder-Copy2-checkpoint.ipynb:\n",
      "%env DD_TOKEN=https://oapi.dingtalk.com/robot/send?access_token=1003a3d8a6e724e255d9b28b5d4a540cd8dbdd2d2fa2163ed09cc77f7c46841d\n",
      "--------------------------------------------------------------------------------\n",
      "\n",
      "Found in ./.ipynb_checkpoints/auto_coder-checkpoint.ipynb:\n",
      "%env DD_TOKEN=https://oapi.dingtalk.com/robot/send?access_token=1003a3d8a6e724e255d9b28b5d4a540cd8dbdd2d2fa2163ed09cc77f7c46841d\n",
      "--------------------------------------------------------------------------------\n",
      "\n"
     ]
    }
   ],
   "source": [
    "import os\n",
    "import nbformat\n",
    "\n",
    "def search_notebooks(directory, keyword):\n",
    "    result = []\n",
    "    for root, _, files in os.walk(directory):\n",
    "        for file in files:\n",
    "            if file.endswith(\".ipynb\"):\n",
    "                notebook_path = os.path.join(root, file)\n",
    "                with open(notebook_path, 'r', encoding='utf-8') as f:\n",
    "                    notebook = nbformat.read(f, as_version=4)\n",
    "                    for cell in notebook.cells:\n",
    "                        if cell.cell_type == 'markdown' or cell.cell_type == 'code':\n",
    "                            if keyword.lower() in cell.source.lower():\n",
    "                                result.append((notebook_path, cell.source))\n",
    "    return result\n",
    "\n",
    "directory_to_search = './'  # 修改为你想搜索的目录\n",
    "keyword_to_search = 'DD_TOKEN'  # 修改为你要搜索的关键词\n",
    "\n",
    "results = search_notebooks(directory_to_search, keyword_to_search)\n",
    "\n",
    "for notebook_path, cell_content in results:\n",
    "    print(f\"Found in {notebook_path}:\\n{cell_content}\\n{'-'*80}\\n\")\n"
   ]
  },
  {
   "cell_type": "code",
   "execution_count": null,
   "id": "61ea73ae-aa2a-4c29-809f-25f05d34842e",
   "metadata": {},
   "outputs": [],
   "source": []
  },
  {
   "cell_type": "code",
   "execution_count": null,
   "id": "7ccc7612-9275-439b-80b7-8a90251a6dce",
   "metadata": {},
   "outputs": [],
   "source": []
  },
  {
   "cell_type": "code",
   "execution_count": null,
   "id": "bf09ab5d-a460-41b4-baae-1050a8e0af49",
   "metadata": {},
   "outputs": [],
   "source": []
  },
  {
   "cell_type": "code",
   "execution_count": 16,
   "id": "98711ab4-74ce-4a65-91c1-d3aa16d33a70",
   "metadata": {
    "tags": []
   },
   "outputs": [
    {
     "data": {
      "text/markdown": [
       "当然可以！在这个教程中，我将详细介绍如何控制DataFrame（简称df）的颜色和特效。我们将使用Python的pandas库和Styler对象来实现这些效果。以下是你需要掌握的知识和步骤：\n",
       "\n",
       "### 1. 基础知识\n",
       "在开始之前，你需要具备以下基础知识：\n",
       "- **Python编程基础**：了解基本的Python语法和数据结构。\n",
       "- **pandas库**：熟悉pandas库的基本操作，如创建DataFrame、数据选择和操作等。\n",
       "- **Jupyter Notebook**（可选）：虽然不是必须，但在Jupyter Notebook中操作pandas会更加直观和方便。\n",
       "\n",
       "### 2. 安装和导入必要的库\n",
       "首先，确保你已经安装了pandas库。如果没有安装，可以使用以下命令进行安装：\n",
       "```bash\n",
       "pip install pandas\n",
       "```\n",
       "\n",
       "然后，在你的Python脚本或Jupyter Notebook中导入pandas：\n",
       "```python\n",
       "import pandas as pd\n",
       "```\n",
       "\n",
       "### 3. 创建一个示例DataFrame\n",
       "我们先创建一个简单的DataFrame作为示例：\n",
       "```python\n",
       "data = {\n",
       "    'Name': ['Alice', 'Bob', 'Charlie', 'David'],\n",
       "    'Age': [24, 27, 22, 32],\n",
       "    'Score': [85, 92, 78, 88]\n",
       "}\n",
       "df = pd.DataFrame(data)\n",
       "```\n",
       "\n",
       "### 4. 使用Styler对象\n",
       "pandas的Styler对象允许我们对DataFrame进行样式设置。我们可以通过`df.style`来访问Styler对象。\n",
       "\n",
       "### 5. 基本样式设置\n",
       "#### 5.1 设置背景颜色\n",
       "我们可以使用`background_gradient`方法为DataFrame设置背景颜色渐变：\n",
       "```python\n",
       "styled_df = df.style.background_gradient(cmap='viridis')\n",
       "styled_df\n",
       "```\n",
       "`cmap`参数指定颜色映射，可以选择其他颜色映射，如`'coolwarm'`、`'plasma'`等。\n",
       "\n",
       "#### 5.2 设置字体颜色\n",
       "使用`applymap`方法可以为DataFrame中的每个元素设置字体颜色：\n",
       "```python\n",
       "def color_negative_red(val):\n",
       "    color = 'red' if val < 0 else 'black'\n",
       "    return f'color: {color}'\n",
       "\n",
       "styled_df = df.style.applymap(color_negative_red)\n",
       "styled_df\n",
       "```\n",
       "在这个例子中，我们定义了一个函数`color_negative_red`，它根据值的大小设置颜色。\n",
       "\n",
       "### 6. 条件格式化\n",
       "#### 6.1 根据值设置背景颜色\n",
       "我们可以使用`apply`方法根据条件设置背景颜色：\n",
       "```python\n",
       "def highlight_max(s):\n",
       "    is_max = s == s.max()\n",
       "    return ['background-color: yellow' if v else '' for v in is_max]\n",
       "\n",
       "styled_df = df.style.apply(highlight_max, subset=['Score'])\n",
       "styled_df\n",
       "```\n",
       "在这个例子中，我们定义了一个函数`highlight_max`，它为最大值设置背景颜色。\n",
       "\n",
       "#### 6.2 根据值设置字体颜色\n",
       "类似地，我们可以根据条件设置字体颜色：\n",
       "```python\n",
       "def highlight_min(s):\n",
       "    is_min = s == s.min()\n",
       "    return ['color: red' if v else '' for v in is_min]\n",
       "\n",
       "styled_df = df.style.apply(highlight_min, subset=['Score'])\n",
       "styled_df\n",
       "```\n",
       "\n",
       "### 7. 综合示例\n",
       "我们可以将多种样式结合起来使用：\n",
       "```python\n",
       "def highlight_max(s):\n",
       "    is_max = s == s.max()\n",
       "    return ['background-color: yellow' if v else '' for v in is_max]\n",
       "\n",
       "def color_negative_red(val):\n",
       "    color = 'red' if val < 0 else 'black'\n",
       "    return f'color: {color}'\n",
       "\n",
       "styled_df = df.style.apply(highlight_max, subset=['Score']).applymap(color_negative_red)\n",
       "styled_df\n",
       "```\n",
       "\n",
       "### 8. 保存样式\n",
       "如果你希望将样式保存为HTML文件，可以使用`to_html`方法：\n",
       "```python\n",
       "html = styled_df.render()\n",
       "with open('styled_df.html', 'w') as f:\n",
       "    f.write(html)\n",
       "```\n",
       "\n",
       "### 9. 其他高级特性\n",
       "pandas的Styler对象还支持许多其他高级特性，如：\n",
       "- **隐藏索引**：`hide_index()`\n",
       "- **设置表头样式**：`set_table_styles()`\n",
       "- **添加工具提示**：`set_tooltips()`\n",
       "\n",
       "你可以参考[pandas官方文档](https://pandas.pydata.org/pandas-docs/stable/user_guide/style.html)获取更多信息和示例。\n",
       "\n",
       "### 总结\n",
       "通过掌握上述知识和技巧，你可以灵活地控制DataFrame的颜色和特效，使数据展示更加直观和美观。希望这个教程对你有所帮助！"
      ],
      "text/plain": [
       "<IPython.core.display.Markdown object>"
      ]
     },
     "execution_count": 16,
     "metadata": {},
     "output_type": "execute_result"
    }
   ],
   "source": [
    "Markdown(result.text)"
   ]
  },
  {
   "cell_type": "code",
   "execution_count": null,
   "id": "05b81b1c-59c9-4f47-af12-eb13176558a4",
   "metadata": {},
   "outputs": [],
   "source": []
  },
  {
   "cell_type": "code",
   "execution_count": null,
   "id": "99053aa4-1e24-4211-a5ac-f07f48fdd10c",
   "metadata": {},
   "outputs": [],
   "source": []
  },
  {
   "cell_type": "code",
   "execution_count": null,
   "id": "8cda4460-76fa-4785-9b40-b87e62978898",
   "metadata": {},
   "outputs": [],
   "source": []
  },
  {
   "cell_type": "code",
   "execution_count": null,
   "id": "dab78385-6f91-464a-8ebd-88c18da5e7ba",
   "metadata": {},
   "outputs": [],
   "source": []
  },
  {
   "cell_type": "code",
   "execution_count": null,
   "id": "5eef5fff-a216-429e-b72d-386aeca7bd66",
   "metadata": {},
   "outputs": [],
   "source": []
  },
  {
   "cell_type": "code",
   "execution_count": 9,
   "id": "9b46e855-0367-4f62-9cdf-2db97c2222b7",
   "metadata": {
    "tags": []
   },
   "outputs": [
    {
     "data": {
      "text/markdown": [
       "当然可以！在这个教程中，我将向你展示如何使用Python中的Pandas库和Styler对象来控制DataFrame的颜色和特效。我们将使用一些示例数据，并通过不同的方法来改变DataFrame的外观。\n",
       "\n",
       "### 1. 安装必要的库\n",
       "\n",
       "首先，确保你已经安装了Pandas库。如果没有安装，可以使用以下命令进行安装：\n",
       "\n",
       "```bash\n",
       "pip install pandas\n",
       "```\n",
       "\n",
       "### 2. 导入库并创建示例DataFrame\n",
       "\n",
       "```python\n",
       "import pandas as pd\n",
       "import numpy as np\n",
       "\n",
       "# 创建一个示例DataFrame\n",
       "data = {\n",
       "    'A': [1, 2, 3, 4],\n",
       "    'B': [5, 6, 7, 8],\n",
       "    'C': [9, 10, 11, 12]\n",
       "}\n",
       "\n",
       "df = pd.DataFrame(data)\n",
       "print(df)\n",
       "```\n",
       "\n",
       "### 3. 使用Styler对象进行基本样式设置\n",
       "\n",
       "Pandas的Styler对象允许我们对DataFrame进行样式设置。我们可以使用`df.style`来访问Styler对象。\n",
       "\n",
       "#### 3.1 设置背景颜色\n",
       "\n",
       "```python\n",
       "# 设置背景颜色\n",
       "styled_df = df.style.applymap(lambda x: 'background-color: yellow')\n",
       "styled_df\n",
       "```\n",
       "\n",
       "#### 3.2 设置字体颜色\n",
       "\n",
       "```python\n",
       "# 设置字体颜色\n",
       "styled_df = df.style.applymap(lambda x: 'color: red')\n",
       "styled_df\n",
       "```\n",
       "\n",
       "#### 3.3 条件格式化\n",
       "\n",
       "我们可以根据条件来设置样式。例如，将值大于5的单元格背景设置为绿色。\n",
       "\n",
       "```python\n",
       "def highlight_greater_than_5(val):\n",
       "    color = 'green' if val > 5 else ''\n",
       "    return f'background-color: {color}'\n",
       "\n",
       "styled_df = df.style.applymap(highlight_greater_than_5)\n",
       "styled_df\n",
       "```\n",
       "\n",
       "### 4. 使用内置样式函数\n",
       "\n",
       "Pandas提供了一些内置的样式函数，例如`highlight_max`和`highlight_min`。\n",
       "\n",
       "#### 4.1 高亮最大值\n",
       "\n",
       "```python\n",
       "styled_df = df.style.highlight_max(axis=0, color='lightgreen')\n",
       "styled_df\n",
       "```\n",
       "\n",
       "#### 4.2 高亮最小值\n",
       "\n",
       "```python\n",
       "styled_df = df.style.highlight_min(axis=0, color='lightcoral')\n",
       "styled_df\n",
       "```\n",
       "\n",
       "### 5. 添加条形图\n",
       "\n",
       "我们还可以在DataFrame中添加条形图来直观地展示数据。\n",
       "\n",
       "```python\n",
       "styled_df = df.style.bar(subset=['A', 'B'], color='lightblue')\n",
       "styled_df\n",
       "```\n",
       "\n",
       "### 6. 多重样式设置\n",
       "\n",
       "我们可以将多种样式组合在一起。\n",
       "\n",
       "```python\n",
       "styled_df = df.style \\\n",
       "    .applymap(lambda x: 'color: red' if x > 5 else 'color: black') \\\n",
       "    .highlight_max(axis=0, color='lightgreen') \\\n",
       "    .highlight_min(axis=0, color='lightcoral') \\\n",
       "    .bar(subset=['A', 'B'], color='lightblue')\n",
       "styled_df\n",
       "```\n",
       "\n",
       "### 7. 保存样式化的DataFrame\n",
       "\n",
       "最后，我们可以将样式化的DataFrame保存为HTML文件，以便在网页中查看。\n",
       "\n",
       "```python\n",
       "styled_df.to_html('styled_dataframe.html')\n",
       "```\n",
       "\n",
       "### 总结\n",
       "\n",
       "通过使用Pandas的Styler对象，我们可以轻松地对DataFrame进行样式设置，包括背景颜色、字体颜色、条件格式化、高亮最大值和最小值、添加条形图等。希望这个教程对你有所帮助！\n",
       "\n",
       "如果你有任何问题或需要进一步的帮助，请随时告诉我。"
      ],
      "text/plain": [
       "<IPython.core.display.Markdown object>"
      ]
     },
     "execution_count": 9,
     "metadata": {},
     "output_type": "execute_result"
    }
   ],
   "source": [
    "Markdown(result.text)"
   ]
  },
  {
   "cell_type": "code",
   "execution_count": null,
   "id": "c60900e1-6bb7-4fc7-9849-880db4477c61",
   "metadata": {},
   "outputs": [],
   "source": []
  }
 ],
 "metadata": {
  "kernelspec": {
   "display_name": "Python 3 (ipykernel)",
   "language": "python",
   "name": "python3"
  },
  "language_info": {
   "codemirror_mode": {
    "name": "ipython",
    "version": 3
   },
   "file_extension": ".py",
   "mimetype": "text/x-python",
   "name": "python",
   "nbconvert_exporter": "python",
   "pygments_lexer": "ipython3",
   "version": "3.10.14"
  }
 },
 "nbformat": 4,
 "nbformat_minor": 5
}
