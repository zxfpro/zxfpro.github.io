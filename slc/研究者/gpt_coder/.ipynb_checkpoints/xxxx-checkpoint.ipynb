{
 "cells": [
  {
   "cell_type": "markdown",
   "metadata": {},
   "source": [
    "# 如何写一个好的Prompt\n",
    "\n",
    "写一个好的Prompt（提示）是获取你所需信息或达到目标的关键。以下是一些指南和示例，帮助你写出有效的Prompt。\n"
   ]
  },
  {
   "cell_type": "markdown",
   "metadata": {},
   "source": [
    "## 1. 明确目标\n",
    "\n",
    "确定你想要达成的具体目标或获取的特定信息。\n",
    "\n",
    "### 示例：\n",
    "- 不明确：请给我写一篇文章。\n",
    "- 明确：请给我写一篇关于气候变化影响的1000字文章。\n"
   ]
  },
  {
   "cell_type": "markdown",
   "metadata": {},
   "source": [
    "## 2. 提供上下文\n",
    "\n",
    "提供必要的背景信息，以便对方更好地理解你的需求。\n",
    "\n",
    "### 示例：\n",
    "- 无背景：请写一封信。\n",
    "- 有背景：请写一封感谢信，感谢John帮助我们完成项目，并提到他的专业精神和辛勤工作。\n"
   ]
  },
  {
   "cell_type": "markdown",
   "metadata": {},
   "source": [
    "## 3. 使用具体的指示\n",
    "\n",
    "明确指示格式、长度、语气等方面的要求。\n",
    "\n",
    "### 示例：\n",
    "- 模糊：写一个故事。\n",
    "- 具体：写一个500字的短篇故事，主要角色是一位发现神秘地图的年轻探险家，语气轻松幽默。\n"
   ]
  },
  {
   "cell_type": "markdown",
   "metadata": {},
   "source": [
    "## 4. 提供示例\n",
    "\n",
    "如果可能的话，提供一个你期望的示例，帮助对方理解你的需求。\n",
    "\n",
    "### 示例：\n",
    "- 无示例：请写一个广告文案。\n",
    "- 有示例：请写一个类似于下面这个风格的广告文案：“新款运动鞋，带给你极致舒适体验，让每一步都充满活力！”\n"
   ]
  },
  {
   "cell_type": "markdown",
   "metadata": {},
   "source": [
    "## 5. 提出问题或分解任务\n",
    "\n",
    "如果任务复杂，可以将其分解为多个具体问题或步骤。\n",
    "\n",
    "### 示例：\n",
    "- 复杂任务：请分析公司的市场策略。\n",
    "- 分解任务：请首先分析公司目前的市场定位，然后评估其竞争对手的策略，最后提出改进建议。\n"
   ]
  },
  {
   "cell_type": "markdown",
   "metadata": {},
   "source": [
    "## 6. 明确受众\n",
    "\n",
    "说明你希望信息传达给谁，以便对方调整内容的语气和复杂度。\n",
    "\n",
    "### 示例：\n",
    "- 无受众：写一篇关于健康饮食的文章。\n",
    "- 有受众：写一篇给小学生阅读的关于健康饮食的文章，使用简单易懂的语言和有趣的例子。\n"
   ]
  },
  {
   "cell_type": "markdown",
   "metadata": {},
   "source": [
    "## 示例Prompt：\n",
    "\n",
    "假设你希望获取一份关于人工智能未来发展的报告："
   ]
  },
  {
   "cell_type": "code",
   "execution_count": 1,
   "metadata": {},
   "outputs": [
    {
     "name": "stdout",
     "output_type": "stream",
     "text": [
      "\n",
      "请撰写一份关于人工智能未来发展的详细报告。报告应包括以下几个方面：\n",
      "1. 人工智能的历史背景。\n",
      "2. 当前的主要应用领域。\n",
      "3. 未来五年的发展趋势预测。\n",
      "4. 人工智能可能带来的社会和经济影响。\n",
      "5. 相关的伦理和法律问题。\n",
      "\n",
      "报告应使用学术写作风格，长度为3000字左右，并引用最新的研究和数据。\n"
     ]
    }
   ],
   "source": [
    "# 示例Prompt\n",
    "prompt = \"\"\"\n",
    "请撰写一份关于人工智能未来发展的详细报告。报告应包括以下几个方面：\n",
    "1. 人工智能的历史背景。\n",
    "2. 当前的主要应用领域。\n",
    "3. 未来五年的发展趋势预测。\n",
    "4. 人工智能可能带来的社会和经济影响。\n",
    "5. 相关的伦理和法律问题。\n",
    "\n",
    "报告应使用学术写作风格，长度为3000字左右，并引用最新的研究和数据。\n",
    "\"\"\"\n",
    "print(prompt)\n"
   ]
  }
 ],
 "metadata": {
  "kernelspec": {
   "display_name": "Python 3 (ipykernel)",
   "language": "python",
   "name": "python3"
  },
  "language_info": {
   "codemirror_mode": {
    "name": "ipython",
    "version": 3
   },
   "file_extension": ".py",
   "mimetype": "text/x-python",
   "name": "python",
   "nbconvert_exporter": "python",
   "pygments_lexer": "ipython3",
   "version": "3.10.14"
  }
 },
 "nbformat": 4,
 "nbformat_minor": 4
}
