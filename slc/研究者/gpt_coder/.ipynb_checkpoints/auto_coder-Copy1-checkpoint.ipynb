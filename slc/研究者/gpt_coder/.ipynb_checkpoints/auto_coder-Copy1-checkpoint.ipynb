{
 "cells": [
  {
   "cell_type": "markdown",
   "id": "d6e5d5ce-cb2c-473b-a07c-0d0eb65421c7",
   "metadata": {},
   "source": [
    "## project"
   ]
  },
  {
   "cell_type": "code",
   "execution_count": 1,
   "id": "1f22d4ae-229f-428a-8337-f293c74b013f",
   "metadata": {
    "tags": []
   },
   "outputs": [
    {
     "name": "stdout",
     "output_type": "stream",
     "text": [
      "env: DD_TOKEN=https://oapi.dingtalk.com/robot/send?access_token=1003a3d8a6e724e255d9b28b5d4a540cd8dbdd2d2fa2163ed09cc77f7c46841d\n"
     ]
    }
   ],
   "source": [
    "%env DD_TOKEN=https://oapi.dingtalk.com/robot/send?access_token=1003a3d8a6e724e255d9b28b5d4a540cd8dbdd2d2fa2163ed09cc77f7c46841d"
   ]
  },
  {
   "cell_type": "code",
   "execution_count": 2,
   "id": "43260c90-3a2d-49a4-947a-7bb88bf48593",
   "metadata": {
    "tags": []
   },
   "outputs": [],
   "source": [
    "from zxftools.llms import get_llm\n",
    "import os\n",
    "import subprocess"
   ]
  },
  {
   "cell_type": "code",
   "execution_count": 3,
   "id": "1542bfdc-23ef-4dd1-8284-cc0a94ce92cf",
   "metadata": {
    "tags": []
   },
   "outputs": [],
   "source": [
    "import re\n",
    "def get_code(result):\n",
    "    code_match = re.search(r'### 3. Function\\n\\n```python(.*?)```',result,flags = re.DOTALL)\n",
    "    return code_match.group(1)"
   ]
  },
  {
   "cell_type": "code",
   "execution_count": 4,
   "id": "ff7e08d5-11f5-4143-b9fa-5fdcb85b1839",
   "metadata": {
    "tags": []
   },
   "outputs": [],
   "source": [
    "def write_code(main_path,llm):\n",
    "    with open(os.path.join(main_path,'test.py'),'r') as f:\n",
    "        unittest_code = f.read()\n",
    "    result = llm.complete(f\"\"\"\n",
    "You are a python programer helping user to deal problem by create a python function.\n",
    "Following '===' is the unittest code. \n",
    "Only use the unittest code between first and second '===' to accomplish the task above, do not Mixed into the python function.\n",
    "\n",
    "===\n",
    "{unittest_code}\n",
    "===\n",
    "\n",
    "Never forget that your functions should be robust and adaptable. your goal is to pass the unit tests.\n",
    "\n",
    "Your results should be kept in four parts: \n",
    "    1 your deconstruction and understanding of the problem\n",
    "    2 your function design ideas (pseudocode)\n",
    "    3 your formal function\n",
    "    4 your function call examples\n",
    "    \n",
    "Example:\n",
    "\n",
    "### 1. Understand\n",
    "The task is xxx\n",
    "### 2. Design\n",
    "1. xxxx\n",
    "2. xxxx\n",
    "3. xxxx\n",
    "### 3. Function\n",
    "\n",
    "```python\n",
    "import re\n",
    "\n",
    "def prepend_to_file(file_path, data_to_prepend,new_file_path=None):\n",
    "    \n",
    "    if new_file_path is None:\n",
    "        new_file_path = file_path\n",
    "    # 读取原始文件内容\n",
    "    with open(file_path, 'r', encoding='utf-8') as file:\n",
    "        original_content = file.read()\n",
    "    \n",
    "    # 将新数据添加到原始内容前面\n",
    "    updated_content = data_to_prepend +'\\n'+ original_content\n",
    "    \n",
    "    # 将更新后的内容写回文件\n",
    "    with open(new_file_path, 'w', encoding='utf-8') as file:\n",
    "        file.write(updated_content)\n",
    "```\n",
    "### 4. Function Call Examples\n",
    "```python\n",
    "xxx\n",
    "```\n",
    "    \n",
    "\"\"\").text\n",
    "    return get_code(result)"
   ]
  },
  {
   "cell_type": "code",
   "execution_count": 5,
   "id": "37aacdaf-cb54-4c15-8e1e-05016493856a",
   "metadata": {
    "tags": []
   },
   "outputs": [],
   "source": [
    "def rewrite_code(code,error_info,llm):\n",
    "    result = llm.complete(f\"\"\"\n",
    "You are a python programer helping user to deal problem by check python functions ,eliminate bugs and fix errors.\n",
    "Following '===' is the user's code and execution error result. \n",
    "Only use the user's code and execution error result between first and second '===' to accomplish the task above, do not Mixed into the python function.\n",
    "\n",
    "===\n",
    "{code}\n",
    "\n",
    "\n",
    "{error_info}\n",
    "===\n",
    "\n",
    "\n",
    "\n",
    "Never forget that your functions should be robust and adaptable. your goal is to pass the unit tests.\n",
    "\n",
    "Your results should be kept in four parts: \n",
    "    1 your deconstruction and understanding of the problem\n",
    "    2 your function design ideas (pseudocode)\n",
    "    3 your formal function\n",
    "    4 your function call examples\n",
    "    \n",
    "Example:\n",
    "\n",
    "### 1. Understand\n",
    "The task is xxx\n",
    "### 2. Design\n",
    "1. xxxx\n",
    "2. xxxx\n",
    "3. xxxx\n",
    "### 3. Function\n",
    "\n",
    "```python\n",
    "import re\n",
    "\n",
    "def prepend_to_file(file_path, data_to_prepend,new_file_path=None):\n",
    "    \n",
    "    if new_file_path is None:\n",
    "        new_file_path = file_path\n",
    "    # 读取原始文件内容\n",
    "    with open(file_path, 'r', encoding='utf-8') as file:\n",
    "        original_content = file.read()\n",
    "    \n",
    "    # 将新数据添加到原始内容前面\n",
    "    updated_content = data_to_prepend +'\\n'+ original_content\n",
    "    \n",
    "    # 将更新后的内容写回文件\n",
    "    with open(new_file_path, 'w', encoding='utf-8') as file:\n",
    "        file.write(updated_content)\n",
    "```\n",
    "### 4. Function Call Examples\n",
    "```python\n",
    "xxx\n",
    "```\n",
    "    \n",
    "\"\"\").text\n",
    "    return get_code(result)"
   ]
  },
  {
   "cell_type": "code",
   "execution_count": 6,
   "id": "7651fc6e-6865-4ad6-8843-3e68d9a1630d",
   "metadata": {
    "tags": []
   },
   "outputs": [],
   "source": [
    "def prepend_to_file(file_path, data_to_prepend,new_file_path=None):\n",
    "    \n",
    "    if new_file_path is None:\n",
    "        new_file_path = file_path\n",
    "    # 读取原始文件内容\n",
    "    with open(file_path, 'r', encoding='utf-8') as file:\n",
    "        original_content = file.read()\n",
    "    \n",
    "    # 将新数据添加到原始内容前面\n",
    "    updated_content = data_to_prepend +'\\n'+ original_content\n",
    "    \n",
    "    # 将更新后的内容写回文件\n",
    "    with open(new_file_path, 'w', encoding='utf-8') as file:\n",
    "        file.write(updated_content)\n",
    "        \n",
    "    cc = \"\"\"\n",
    "if __name__ == '__main__':\n",
    "    unittest.main()\n",
    "\"\"\"\n",
    "    with open(new_file_path,'a', encoding='utf-8') as file:\n",
    "        file.write(cc)\n"
   ]
  },
  {
   "cell_type": "code",
   "execution_count": null,
   "id": "5ea6fb48-c170-4c68-808a-39ac643e3896",
   "metadata": {},
   "outputs": [],
   "source": []
  },
  {
   "cell_type": "code",
   "execution_count": null,
   "id": "b5d82ac0-151c-4dd7-995d-fa8b63184324",
   "metadata": {},
   "outputs": [],
   "source": []
  },
  {
   "cell_type": "code",
   "execution_count": 7,
   "id": "438129f3-411b-4d91-87a0-3047cc83e182",
   "metadata": {
    "tags": []
   },
   "outputs": [],
   "source": [
    "from zxftools.project import DDMessage"
   ]
  },
  {
   "cell_type": "code",
   "execution_count": 8,
   "id": "2f947b56-2696-4345-875b-3fae8a84007e",
   "metadata": {
    "tags": []
   },
   "outputs": [],
   "source": [
    "robot = DDMessage()"
   ]
  },
  {
   "cell_type": "code",
   "execution_count": 9,
   "id": "99533336-42d2-45c6-aa12-68387b2815b6",
   "metadata": {
    "tags": []
   },
   "outputs": [],
   "source": [
    "llm = get_llm(model='gpt-4o',temperature=0.01)"
   ]
  },
  {
   "cell_type": "markdown",
   "id": "a20e83e6-3f6c-43ad-a603-5fd61b3b43a4",
   "metadata": {
    "tags": []
   },
   "source": [
    "## label_input_position_info"
   ]
  },
  {
   "cell_type": "markdown",
   "id": "f2e82575-c4db-4df7-9378-88925a5fcd10",
   "metadata": {},
   "source": [
    "### init"
   ]
  },
  {
   "cell_type": "code",
   "execution_count": null,
   "id": "9959e2c5-1f5c-48f5-80c4-ecf19d4ed357",
   "metadata": {
    "tags": []
   },
   "outputs": [],
   "source": []
  },
  {
   "cell_type": "code",
   "execution_count": null,
   "id": "88ef4e61-635b-4439-bea9-a1157b1a296a",
   "metadata": {},
   "outputs": [],
   "source": []
  },
  {
   "cell_type": "code",
   "execution_count": null,
   "id": "78850efd-8640-4ae1-9f91-c6f080fbe122",
   "metadata": {},
   "outputs": [],
   "source": []
  },
  {
   "cell_type": "code",
   "execution_count": 10,
   "id": "59b6f316-9206-4859-afe6-0fb911e9d622",
   "metadata": {
    "tags": []
   },
   "outputs": [],
   "source": [
    "# Unit tests"
   ]
  },
  {
   "cell_type": "markdown",
   "id": "f5c8e6e4-fdd8-4f82-bde5-6d57d6e2f097",
   "metadata": {},
   "source": [
    "### RUN"
   ]
  },
  {
   "cell_type": "code",
   "execution_count": 11,
   "id": "c3ecb9c8-e329-4ca5-8e8e-f6fb60e9eeec",
   "metadata": {
    "tags": []
   },
   "outputs": [],
   "source": [
    "func_name = 'wake_function'"
   ]
  },
  {
   "cell_type": "code",
   "execution_count": 12,
   "id": "0ca20e3f-ebdb-43ca-87b0-77d363a1ef6c",
   "metadata": {
    "tags": []
   },
   "outputs": [],
   "source": [
    "main_path = os.path.join('./function/',func_name)"
   ]
  },
  {
   "cell_type": "code",
   "execution_count": 13,
   "id": "20b0a424-073c-48f9-889c-546af847f35f",
   "metadata": {
    "tags": []
   },
   "outputs": [],
   "source": [
    "if not os.path.exists(main_path):\n",
    "    os.makedirs(main_path)"
   ]
  },
  {
   "cell_type": "code",
   "execution_count": null,
   "id": "213e1df7-9773-4bc7-9d1d-260b59847d82",
   "metadata": {},
   "outputs": [],
   "source": []
  },
  {
   "cell_type": "code",
   "execution_count": 14,
   "id": "29148406-54a7-4081-a5f4-0530810c5566",
   "metadata": {
    "tags": []
   },
   "outputs": [
    {
     "name": "stdout",
     "output_type": "stream",
     "text": [
      "Writing ./function/wake_function/test.py\n"
     ]
    }
   ],
   "source": [
    "%%writefile {main_path}/test.py\n",
    "import unittest\n",
    "\n",
    "class TestWakeFunction(unittest.TestCase):\n",
    "    \n",
    "    def test_wake_function_with_high_decibels(self):\n",
    "        input_decibels = 80  # 假设80是阈值\n",
    "        result = wake_function(input_decibels, \"no_wake_word\")\n",
    "        self.assertEqual(result.sound, \"bi\")\n",
    "        self.assertEqual(result.light, \"on\")\n",
    "        self.assertEqual(result.status, \"working\")\n",
    "        self.assertEqual(result.duration, 3600)  # 秒\n",
    "    \n",
    "    def test_wake_function_with_low_decibels(self):\n",
    "        input_decibels = 50  # 阈值以下\n",
    "        result = wake_function(input_decibels, \"no_wake_word\")\n",
    "        self.assertEqual(result.sound, \"none\")\n",
    "        self.assertEqual(result.light, \"off\")\n",
    "        self.assertEqual(result.status, \"idle\")\n",
    "        self.assertEqual(result.duration, 0)\n",
    "    \n",
    "    def test_wake_function_with_wake_word(self):\n",
    "        input_decibels = 40  # 阈值以下\n",
    "        result = wake_function(input_decibels, \"wake_word\")\n",
    "        self.assertEqual(result.sound, \"bi\")\n",
    "        self.assertEqual(result.light, \"on\")\n",
    "        self.assertEqual(result.status, \"working\")\n",
    "        self.assertEqual(result.duration, 3600)  # 秒\n",
    "    \n",
    "    def test_wake_function_with_no_wake_word(self):\n",
    "        input_decibels = 40  # 阈值以下\n",
    "        result = wake_function(input_decibels, \"no_wake_word\")\n",
    "        self.assertEqual(result.sound, \"none\")\n",
    "        self.assertEqual(result.light, \"off\")\n",
    "        self.assertEqual(result.status, \"idle\")\n",
    "        self.assertEqual(result.duration, 0)\n",
    "    \n",
    "    def test_wake_function_with_high_decibels_and_wake_word(self):\n",
    "        input_decibels = 80  # 假设80是阈值\n",
    "        result = wake_function(input_decibels, \"wake_word\")\n",
    "        self.assertEqual(result.sound, \"bi\")\n",
    "        self.assertEqual(result.light, \"on\")\n",
    "        self.assertEqual(result.status, \"working\")\n",
    "        self.assertEqual(result.duration, 3600)  # 秒\n",
    "    \n",
    "    def test_wake_function_on_threshold(self):\n",
    "        input_decibels = 80  # 正好等于阈值\n",
    "        result = wake_function(input_decibels, \"no_wake_word\")\n",
    "        self.assertEqual(result.sound, \"bi\")\n",
    "        self.assertEqual(result.light, \"on\")\n",
    "        self.assertEqual(result.status, \"working\")\n",
    "        self.assertEqual(result.duration, 3600)  # 秒\n",
    "\n",
    "if __name__ == '__main__':\n",
    "    unittest.main()\n"
   ]
  },
  {
   "cell_type": "code",
   "execution_count": null,
   "id": "1aaedd4a-3fb4-4dc1-bdff-c2fcee5fc2cd",
   "metadata": {},
   "outputs": [],
   "source": []
  },
  {
   "cell_type": "code",
   "execution_count": null,
   "id": "dd91e516-7123-42c5-997d-7483d4a3ac63",
   "metadata": {},
   "outputs": [],
   "source": []
  },
  {
   "cell_type": "code",
   "execution_count": 15,
   "id": "a551f444-158e-43e7-89a2-c2c0a8356c0d",
   "metadata": {
    "tags": []
   },
   "outputs": [],
   "source": [
    "verbose = True"
   ]
  },
  {
   "cell_type": "code",
   "execution_count": 16,
   "id": "4495616c-d619-40a5-b168-9e25b3773e88",
   "metadata": {
    "tags": []
   },
   "outputs": [],
   "source": [
    "for i in range(3):\n",
    "    if i == 0:\n",
    "        python_code = write_code(main_path,llm)\n",
    "        prepend_to_file(os.path.join(main_path,'test.py'), \n",
    "                        python_code,\n",
    "                        os.path.join(main_path,f'test_run_{i}.py'))\n",
    "        unittest_result = subprocess.run(f\"python {main_path}/test_run_{i}.py\", shell=True, text=True, capture_output=True)\n",
    "    else:\n",
    "        with open(f'{main_path}/test_run_{i-1}.py','r') as f:\n",
    "            code = f.read()\n",
    "        print(f'第{i}轮修改')\n",
    "        print(unittest_result.stderr)\n",
    "\n",
    "        python_code = rewrite_code(code,unittest_result.stderr,llm)\n",
    "        prepend_to_file(os.path.join(main_path,'test.py'), \n",
    "                        python_code,\n",
    "                        os.path.join(main_path,f'test_run_{i}.py'))\n",
    "        unittest_result = subprocess.run(f\"python {main_path}/test_run_{i}.py\", shell=True, text=True, capture_output=True)\n",
    "\n",
    "    if unittest_result.returncode == 0:\n",
    "        func_name = main_path.split('/')[-1]\n",
    "        func_name = \"completed_function\"\n",
    "        with open(os.path.join(main_path,f\"{func_name}.py\"),'w') as f:\n",
    "            f.write(python_code.replace('func',func_name))\n",
    "        robot.send(f'函数{func_name} 的编写以完成,已保存至{os.path.join(main_path,f\"{func_name}.py\")}中')\n",
    "        break  # 如果条件为假，跳出循环"
   ]
  },
  {
   "cell_type": "code",
   "execution_count": null,
   "id": "a96f1f8e-3fa2-4cfe-98bd-35bf44c91856",
   "metadata": {
    "tags": []
   },
   "outputs": [],
   "source": [
    "%load {main_path}/completed_function.py"
   ]
  },
  {
   "cell_type": "code",
   "execution_count": 19,
   "id": "5db99eb8-8ff3-41fd-8949-08957f7bab22",
   "metadata": {
    "tags": []
   },
   "outputs": [],
   "source": [
    "# %load ./function/wake_function/completed_function.py\n",
    "\n",
    "class WakeResult:\n",
    "    def __init__(self, sound, light, status, duration):\n",
    "        self.sound = sound\n",
    "        self.light = light\n",
    "        self.status = status\n",
    "        self.duration = duration\n",
    "\n",
    "def wake_completed_functiontion(decibels, wake_word):\n",
    "    if decibels >= 80 or wake_word == \"wake_word\":\n",
    "        return WakeResult(sound=\"bi\", light=\"on\", status=\"working\", duration=3600)\n",
    "    else:\n",
    "        return WakeResult(sound=\"none\", light=\"off\", status=\"idle\", duration=0)\n"
   ]
  },
  {
   "cell_type": "code",
   "execution_count": null,
   "id": "7f60e10a-2cc2-4a97-9945-d78f5adf4822",
   "metadata": {},
   "outputs": [],
   "source": []
  }
 ],
 "metadata": {
  "kernelspec": {
   "display_name": "Python 3 (ipykernel)",
   "language": "python",
   "name": "python3"
  },
  "language_info": {
   "codemirror_mode": {
    "name": "ipython",
    "version": 3
   },
   "file_extension": ".py",
   "mimetype": "text/x-python",
   "name": "python",
   "nbconvert_exporter": "python",
   "pygments_lexer": "ipython3",
   "version": "3.10.14"
  }
 },
 "nbformat": 4,
 "nbformat_minor": 5
}
