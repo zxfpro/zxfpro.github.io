{
 "cells": [
  {
   "cell_type": "markdown",
   "id": "fc123bc8",
   "metadata": {
    "tags": []
   },
   "source": [
    "# 这是一个Markdown单元格\n",
    "\n",
    "以下是一些关于如何写一个好的Prompt的指南。"
   ]
  },
  {
   "cell_type": "code",
   "execution_count": 1,
   "id": "b21adc4f",
   "metadata": {
    "tags": []
   },
   "outputs": [
    {
     "name": "stdout",
     "output_type": "stream",
     "text": [
      "\n",
      "请撰写一份关于人工智能未来发展的详细报告。报告应包括以下几个方面：\n",
      "1. 人工智能的历史背景。\n",
      "2. 当前的主要应用领域。\n",
      "3. 未来五年的发展趋势预测。\n",
      "4. 人工智能可能带来的社会和经济影响。\n",
      "5. 相关的伦理和法律问题。\n",
      "\n",
      "报告应使用学术写作风格，长度为3000字左右，并引用最新的研究和数据。\n",
      "\n"
     ]
    }
   ],
   "source": [
    "# 示例Prompt\n",
    "prompt = \"\"\"\n",
    "请撰写一份关于人工智能未来发展的详细报告。报告应包括以下几个方面：\n",
    "1. 人工智能的历史背景。\n",
    "2. 当前的主要应用领域。\n",
    "3. 未来五年的发展趋势预测。\n",
    "4. 人工智能可能带来的社会和经济影响。\n",
    "5. 相关的伦理和法律问题。\n",
    "\n",
    "报告应使用学术写作风格，长度为3000字左右，并引用最新的研究和数据。\n",
    "\"\"\"\n",
    "print(prompt)\n"
   ]
  },
  {
   "cell_type": "code",
   "execution_count": null,
   "id": "24b82249-d276-4a1a-89b5-9309a77d3758",
   "metadata": {},
   "outputs": [],
   "source": []
  }
 ],
 "metadata": {
  "kernelspec": {
   "display_name": "Python 3 (ipykernel)",
   "language": "python",
   "name": "python3"
  },
  "language_info": {
   "codemirror_mode": {
    "name": "ipython",
    "version": 3
   },
   "file_extension": ".py",
   "mimetype": "text/x-python",
   "name": "python",
   "nbconvert_exporter": "python",
   "pygments_lexer": "ipython3",
   "version": "3.10.14"
  }
 },
 "nbformat": 4,
 "nbformat_minor": 5
}
