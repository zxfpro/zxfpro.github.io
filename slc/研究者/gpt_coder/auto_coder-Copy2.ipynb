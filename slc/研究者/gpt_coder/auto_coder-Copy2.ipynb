{
 "cells": [
  {
   "cell_type": "markdown",
   "id": "d6e5d5ce-cb2c-473b-a07c-0d0eb65421c7",
   "metadata": {},
   "source": [
    "## project"
   ]
  },
  {
   "cell_type": "code",
   "execution_count": 1,
   "id": "1f22d4ae-229f-428a-8337-f293c74b013f",
   "metadata": {
    "tags": []
   },
   "outputs": [
    {
     "name": "stdout",
     "output_type": "stream",
     "text": [
      "env: DD_TOKEN=https://oapi.dingtalk.com/robot/send?access_token=1003a3d8a6e724e255d9b28b5d4a540cd8dbdd2d2fa2163ed09cc77f7c46841d\n"
     ]
    }
   ],
   "source": [
    "%env DD_TOKEN=https://oapi.dingtalk.com/robot/send?access_token=1003a3d8a6e724e255d9b28b5d4a540cd8dbdd2d2fa2163ed09cc77f7c46841d"
   ]
  },
  {
   "cell_type": "code",
   "execution_count": 2,
   "id": "43260c90-3a2d-49a4-947a-7bb88bf48593",
   "metadata": {
    "tags": []
   },
   "outputs": [],
   "source": [
    "from zxftools.llms import get_llm\n",
    "import os\n",
    "import subprocess"
   ]
  },
  {
   "cell_type": "code",
   "execution_count": 3,
   "id": "1542bfdc-23ef-4dd1-8284-cc0a94ce92cf",
   "metadata": {
    "tags": []
   },
   "outputs": [],
   "source": [
    "import re\n",
    "def get_code(result):\n",
    "    if verbose:\n",
    "        print(result)\n",
    "    code_match = re.search(r'### 3. Function\\n\\n```python(.*?)```',result,flags = re.DOTALL)\n",
    "    return code_match.group(1)"
   ]
  },
  {
   "cell_type": "markdown",
   "id": "33a259ad-c393-428a-8c6e-33237c0dcc83",
   "metadata": {},
   "source": [
    "<font color=\"yellow\"> update1 添加可用的函数 </font>"
   ]
  },
  {
   "cell_type": "code",
   "execution_count": 4,
   "id": "e3ac97b3-cabd-4880-8bf8-ab4f70e0ea2e",
   "metadata": {
    "tags": []
   },
   "outputs": [],
   "source": [
    "import random"
   ]
  },
  {
   "cell_type": "markdown",
   "id": "9f1526c3-b8de-4a7b-a181-9f643bb58910",
   "metadata": {
    "tags": []
   },
   "source": [
    "external_functions = \"\"\"\n",
    "decibel_detection():\n",
    "描述：检测当前环境的分贝值。\n",
    "返回值：当前检测到的分贝值 1-100\n",
    "使用: from ac_helper import decibel_detection\n",
    "\n",
    "wakeword_detection():\n",
    "描述：检测音频输入中是否包含唤醒词。\n",
    "返回值：布尔值，True表示检测到唤醒词，False表示未检测到唤醒词。\n",
    "使用: from ac_helper import wakeword_detection\n",
    "\n",
    "make_sounds_and_light_up():\n",
    "描述：发出提示音并闪亮提示灯。\n",
    "返回值：0，表示操作完成。\n",
    "使用: from ac_helper import make_sounds_and_light_up\n",
    "\n",
    "work():\n",
    "描述：进入工作状态，打印“work start”表示开始工作。\n",
    "返回值：无。\n",
    "使用: from ac_helper import work\n",
    "    \"\"\"\n",
    "suggest = \"\"\"\n",
    "    \n",
    "    \"\"\""
   ]
  },
  {
   "cell_type": "code",
   "execution_count": 5,
   "id": "045ebe2f-f1df-4cf3-bd6d-ddfa22271285",
   "metadata": {
    "tags": []
   },
   "outputs": [],
   "source": [
    "external_functions = \"\"\"\n",
    "\n",
    "    \"\"\"\n",
    "suggest = \"\"\"\n",
    "你需要判断输入是否为string\n",
    "    \"\"\""
   ]
  },
  {
   "cell_type": "code",
   "execution_count": null,
   "id": "bdd9576f-2f2a-4b07-ad54-e727fc5bba88",
   "metadata": {},
   "outputs": [],
   "source": []
  },
  {
   "cell_type": "code",
   "execution_count": null,
   "id": "ca57016c-e672-4107-9533-968d15e521f6",
   "metadata": {},
   "outputs": [],
   "source": []
  },
  {
   "cell_type": "code",
   "execution_count": 6,
   "id": "ff7e08d5-11f5-4143-b9fa-5fdcb85b1839",
   "metadata": {
    "jupyter": {
     "source_hidden": true
    },
    "tags": []
   },
   "outputs": [],
   "source": [
    "def write_code(main_path,llm):\n",
    "    with open(os.path.join(main_path,'test.py'),'r') as f:\n",
    "        unittest_code = f.read()\n",
    "        \n",
    "    result = llm.complete(f\"\"\"\n",
    "You are a python programer helping user to deal problem by create a python function.\n",
    "you can use existing utility functions when you need.\n",
    "{external_functions}\n",
    "\n",
    "You can refer to these ideas and suggestions.\n",
    "{suggest}\n",
    "\n",
    "Following '===' is the unittest code. \n",
    "Only use the unittest code between first and second '===' to accomplish the task above, do not Mixed into the python function.\n",
    "\n",
    "\n",
    "===\n",
    "{unittest_code}\n",
    "===\n",
    "\n",
    "Never forget that your functions should be robust and adaptable. your goal is to pass the unit tests.\n",
    "\n",
    "Your results should be kept in four parts: \n",
    "    1 your deconstruction and understanding of the problem\n",
    "    2 your function design ideas (pseudocode)\n",
    "    3 your formal function\n",
    "    4 your function call examples\n",
    "    \n",
    "Example:\n",
    "\n",
    "### 1. Understand\n",
    "The task is xxx\n",
    "### 2. Design\n",
    "1. xxxx\n",
    "2. xxxx\n",
    "3. xxxx\n",
    "### 3. Function\n",
    "\n",
    "```python\n",
    "import re\n",
    "\n",
    "def prepend_to_file(file_path, data_to_prepend,new_file_path=None):\n",
    "    \n",
    "    if new_file_path is None:\n",
    "        new_file_path = file_path\n",
    "    # 读取原始文件内容\n",
    "    with open(file_path, 'r', encoding='utf-8') as file:\n",
    "        original_content = file.read()\n",
    "    \n",
    "    # 将新数据添加到原始内容前面\n",
    "    updated_content = data_to_prepend +'\\n'+ original_content\n",
    "    \n",
    "    # 将更新后的内容写回文件\n",
    "    with open(new_file_path, 'w', encoding='utf-8') as file:\n",
    "        file.write(updated_content)\n",
    "```\n",
    "### 4. Function Call Examples\n",
    "```python\n",
    "xxx\n",
    "```\n",
    "    \n",
    "\"\"\").text\n",
    "    return get_code(result)"
   ]
  },
  {
   "cell_type": "code",
   "execution_count": 7,
   "id": "37aacdaf-cb54-4c15-8e1e-05016493856a",
   "metadata": {
    "jupyter": {
     "source_hidden": true
    },
    "tags": []
   },
   "outputs": [],
   "source": [
    "def rewrite_code(code,error_info,llm):\n",
    "    result = llm.complete(f\"\"\"\n",
    "You are a python programer helping user to deal problem by check python functions ,eliminate bugs and fix errors.\n",
    "Following '===' is the user's code and execution error result. \n",
    "Only use the user's code and execution error result between first and second '===' to accomplish the task above, do not Mixed into the python function.\n",
    "\n",
    "===\n",
    "{code}\n",
    "\n",
    "\n",
    "{error_info}\n",
    "===\n",
    "\n",
    "\n",
    "\n",
    "Never forget that your functions should be robust and adaptable. your goal is to pass the unit tests.\n",
    "\n",
    "Your results should be kept in four parts: \n",
    "    1 your deconstruction and understanding of the problem\n",
    "    2 your function design ideas (pseudocode)\n",
    "    3 your formal function\n",
    "    4 your function call examples\n",
    "    \n",
    "Example:\n",
    "\n",
    "### 1. Understand\n",
    "The task is xxx\n",
    "### 2. Design\n",
    "1. xxxx\n",
    "2. xxxx\n",
    "3. xxxx\n",
    "### 3. Function\n",
    "\n",
    "```python\n",
    "import re\n",
    "\n",
    "def prepend_to_file(file_path, data_to_prepend,new_file_path=None):\n",
    "    \n",
    "    if new_file_path is None:\n",
    "        new_file_path = file_path\n",
    "    # 读取原始文件内容\n",
    "    with open(file_path, 'r', encoding='utf-8') as file:\n",
    "        original_content = file.read()\n",
    "    \n",
    "    # 将新数据添加到原始内容前面\n",
    "    updated_content = data_to_prepend +'\\n'+ original_content\n",
    "    \n",
    "    # 将更新后的内容写回文件\n",
    "    with open(new_file_path, 'w', encoding='utf-8') as file:\n",
    "        file.write(updated_content)\n",
    "```\n",
    "### 4. Function Call Examples\n",
    "```python\n",
    "xxx\n",
    "```\n",
    "    \n",
    "\"\"\").text\n",
    "    return get_code(result)"
   ]
  },
  {
   "cell_type": "code",
   "execution_count": 8,
   "id": "7651fc6e-6865-4ad6-8843-3e68d9a1630d",
   "metadata": {
    "jupyter": {
     "source_hidden": true
    },
    "tags": []
   },
   "outputs": [],
   "source": [
    "def prepend_to_file(file_path, data_to_prepend,new_file_path=None):\n",
    "    \n",
    "    if new_file_path is None:\n",
    "        new_file_path = file_path\n",
    "    # 读取原始文件内容\n",
    "    with open(file_path, 'r', encoding='utf-8') as file:\n",
    "        original_content = file.read()\n",
    "    \n",
    "    # 将新数据添加到原始内容前面\n",
    "    updated_content = data_to_prepend +'\\n'+ original_content\n",
    "    \n",
    "    # 将更新后的内容写回文件\n",
    "    with open(new_file_path, 'w', encoding='utf-8') as file:\n",
    "        file.write(updated_content)\n",
    "        \n",
    "    cc = \"\"\"\n",
    "if __name__ == '__main__':\n",
    "    unittest.main()\n",
    "\"\"\"\n",
    "    with open(new_file_path,'a', encoding='utf-8') as file:\n",
    "        file.write(cc)\n"
   ]
  },
  {
   "cell_type": "code",
   "execution_count": null,
   "id": "5ea6fb48-c170-4c68-808a-39ac643e3896",
   "metadata": {},
   "outputs": [],
   "source": []
  },
  {
   "cell_type": "code",
   "execution_count": null,
   "id": "b5d82ac0-151c-4dd7-995d-fa8b63184324",
   "metadata": {},
   "outputs": [],
   "source": []
  },
  {
   "cell_type": "markdown",
   "id": "f5c8e6e4-fdd8-4f82-bde5-6d57d6e2f097",
   "metadata": {},
   "source": [
    "### RUN"
   ]
  },
  {
   "cell_type": "code",
   "execution_count": 9,
   "id": "ce2bbe40-9d6d-4e6f-8175-9dab84f83be0",
   "metadata": {
    "tags": []
   },
   "outputs": [],
   "source": [
    "llm = get_llm(model='gpt-4o',temperature=0.01)\n",
    "\n",
    "func_name = 'wake_function_3' # TODO 函数名\n",
    "verbose = True # TODO"
   ]
  },
  {
   "cell_type": "code",
   "execution_count": null,
   "id": "01f15bb7-1364-4e87-922e-a404f6416cfb",
   "metadata": {},
   "outputs": [],
   "source": []
  },
  {
   "cell_type": "code",
   "execution_count": 10,
   "id": "b8596802-8e6a-4065-8bcb-eec3f686d944",
   "metadata": {
    "tags": []
   },
   "outputs": [],
   "source": [
    "from zxftools.project import DDMessage\n",
    "\n",
    "robot = DDMessage()\n",
    "main_path = os.path.join('./function/',func_name)\n",
    "\n",
    "if not os.path.exists(main_path):\n",
    "    os.makedirs(main_path)"
   ]
  },
  {
   "cell_type": "code",
   "execution_count": 11,
   "id": "bfc2a6cb-2ea0-4495-9be5-6b144c10e461",
   "metadata": {
    "tags": []
   },
   "outputs": [
    {
     "name": "stdout",
     "output_type": "stream",
     "text": [
      "Writing ./function/wake_function_3/test.py\n"
     ]
    }
   ],
   "source": [
    "%%writefile {main_path}/test.py  \n",
    "import unittest\n",
    "\n",
    "class TestFunction(unittest.TestCase):\n",
    "    \n",
    "    def test(self):\n",
    "        inputs = 'some words'\n",
    "        result = func(inputs)\n",
    "        self.assertTrue(result)\n",
    "\n",
    "    def test2(self):\n",
    "        inputs = ''\n",
    "        result = func(inputs)\n",
    "        self.assertTrue(result)\n",
    "\n",
    "    def test3(self):\n",
    "        inputs = None\n",
    "        result = func(inputs)\n",
    "        self.assertFalse(result)\n",
    "    \n",
    "\n",
    "if __name__ == '__main__':\n",
    "    unittest.main()\n"
   ]
  },
  {
   "cell_type": "code",
   "execution_count": 12,
   "id": "213e1df7-9773-4bc7-9d1d-260b59847d82",
   "metadata": {},
   "outputs": [],
   "source": [
    "# 函数名应该叫func"
   ]
  },
  {
   "cell_type": "code",
   "execution_count": null,
   "id": "1aaedd4a-3fb4-4dc1-bdff-c2fcee5fc2cd",
   "metadata": {},
   "outputs": [],
   "source": []
  },
  {
   "cell_type": "code",
   "execution_count": 13,
   "id": "4495616c-d619-40a5-b168-9e25b3773e88",
   "metadata": {
    "tags": []
   },
   "outputs": [
    {
     "name": "stdout",
     "output_type": "stream",
     "text": [
      "### 1. Understand\n",
      "The task is to create a Python function that checks if the input is a string. The function should return `True` if the input is a string (including an empty string) and `False` otherwise. The function should be robust and adaptable to pass the provided unit tests.\n",
      "\n",
      "### 2. Design\n",
      "1. Define a function named `func` that takes one parameter.\n",
      "2. Use the `isinstance` function to check if the input is of type `str`.\n",
      "3. Return `True` if the input is a string, otherwise return `False`.\n",
      "\n",
      "### 3. Function\n",
      "\n",
      "```python\n",
      "def func(input_value):\n",
      "    return isinstance(input_value, str)\n",
      "```\n",
      "\n",
      "### 4. Function Call Examples\n",
      "\n",
      "```python\n",
      "print(func('some words'))  # True\n",
      "print(func(''))            # True\n",
      "print(func(None))          # False\n",
      "print(func(123))           # False\n",
      "print(func(['a', 'b']))    # False\n",
      "```\n",
      "\n",
      "### Unit Test Code\n",
      "\n",
      "```python\n",
      "import unittest\n",
      "\n",
      "class TestFunction(unittest.TestCase):\n",
      "    \n",
      "    def test(self):\n",
      "        inputs = 'some words'\n",
      "        result = func(inputs)\n",
      "        self.assertTrue(result)\n",
      "\n",
      "    def test2(self):\n",
      "        inputs = ''\n",
      "        result = func(inputs)\n",
      "        self.assertTrue(result)\n",
      "\n",
      "    def test3(self):\n",
      "        inputs = None\n",
      "        result = func(inputs)\n",
      "        self.assertFalse(result)\n",
      "    \n",
      "\n",
      "if __name__ == '__main__':\n",
      "    unittest.main()\n",
      "```\n"
     ]
    }
   ],
   "source": [
    "for i in range(3):\n",
    "    if i == 0:\n",
    "        python_code = write_code(main_path,llm)\n",
    "        prepend_to_file(os.path.join(main_path,'test.py'), \n",
    "                        python_code,\n",
    "                        os.path.join(main_path,f'test_run_{i}.py'))\n",
    "        unittest_result = subprocess.run(f\"python {main_path}/test_run_{i}.py\", shell=True, text=True, capture_output=True)\n",
    "    # 先不考虑修改\n",
    "#     else:\n",
    "#         with open(f'{main_path}/test_run_{i-1}.py','r') as f:\n",
    "#             code = f.read()\n",
    "#         print(f'第{i}轮修改')\n",
    "#         print(unittest_result.stderr)\n",
    "\n",
    "#         python_code = rewrite_code(code,unittest_result.stderr,llm)\n",
    "#         prepend_to_file(os.path.join(main_path,'test.py'), \n",
    "#                         python_code,\n",
    "#                         os.path.join(main_path,f'test_run_{i}.py'))\n",
    "#         unittest_result = subprocess.run(f\"python {main_path}/test_run_{i}.py\", shell=True, text=True, capture_output=True)\n",
    "    else:\n",
    "        print('error')\n",
    "    if unittest_result.returncode == 0:\n",
    "        func_name = main_path.split('/')[-1]\n",
    "        with open(os.path.join(main_path,f\"completed_function.py\"),'w') as f:\n",
    "            f.write(python_code.replace('func',func_name))\n",
    "        robot.send(f'函数{func_name} 的编写以完成,已保存至{os.path.join(main_path,f\"completed_function.py\")}中')\n",
    "        break  # 如果条件为假，跳出循环"
   ]
  },
  {
   "cell_type": "code",
   "execution_count": 14,
   "id": "575a46d9-4b10-4f8e-9313-0123e4f0ecf4",
   "metadata": {
    "tags": []
   },
   "outputs": [
    {
     "name": "stdout",
     "output_type": "stream",
     "text": [
      "\n",
      "def func(input_value):\n",
      "    return isinstance(input_value, str)\n",
      "\n"
     ]
    }
   ],
   "source": [
    "print(python_code)"
   ]
  },
  {
   "cell_type": "code",
   "execution_count": 15,
   "id": "552322b5-7db8-450d-ac3c-a791df7efc56",
   "metadata": {
    "tags": []
   },
   "outputs": [],
   "source": [
    "# %load ./function/wake_function_3/completed_function.py\n",
    "\n",
    "def wake_function_3(input_value):\n",
    "    return isinstance(input_value, str)\n"
   ]
  },
  {
   "cell_type": "markdown",
   "id": "edbc0251-1edc-4a49-bc71-046280eeb29e",
   "metadata": {
    "tags": []
   },
   "source": [
    "%load {main_path}/completed_function.py"
   ]
  },
  {
   "cell_type": "code",
   "execution_count": null,
   "id": "7f60e10a-2cc2-4a97-9945-d78f5adf4822",
   "metadata": {},
   "outputs": [],
   "source": []
  },
  {
   "cell_type": "markdown",
   "id": "34579d1f-2395-4582-9986-c68ca4e88b82",
   "metadata": {},
   "source": [
    "<font color=\"yellow\"> update1 完成  同时完成了传递函数功能的能力</font>"
   ]
  },
  {
   "cell_type": "markdown",
   "id": "12324898-ba2a-435d-a14f-a6e2041cb10f",
   "metadata": {},
   "source": [
    "<font color=\"orange\"> 优点在于精确 基本上对于小函数来说,将函数的编写转化为测试用例的编写</font>"
   ]
  },
  {
   "cell_type": "code",
   "execution_count": null,
   "id": "b6b83e69-e376-445c-98c2-0fdc7aad9384",
   "metadata": {},
   "outputs": [],
   "source": []
  },
  {
   "cell_type": "code",
   "execution_count": null,
   "id": "ebaaa631-cefc-46f1-92e5-5f4aeed232d3",
   "metadata": {},
   "outputs": [],
   "source": []
  }
 ],
 "metadata": {
  "kernelspec": {
   "display_name": "Python 3 (ipykernel)",
   "language": "python",
   "name": "python3"
  },
  "language_info": {
   "codemirror_mode": {
    "name": "ipython",
    "version": 3
   },
   "file_extension": ".py",
   "mimetype": "text/x-python",
   "name": "python",
   "nbconvert_exporter": "python",
   "pygments_lexer": "ipython3",
   "version": "3.10.14"
  }
 },
 "nbformat": 4,
 "nbformat_minor": 5
}
