{
 "cells": [
  {
   "cell_type": "markdown",
   "id": "f69d4a4c-137d-47e9-bea1-786afce9c1c0",
   "metadata": {
    "tags": []
   },
   "source": [
    "# Analyze a single long document\n",
    "\n",
    "The AnalyzeDocumentChain takes in a single document, splits it up, and then runs it through a CombineDocumentsChain."
   ]
  },
  {
   "cell_type": "code",
   "execution_count": null,
   "id": "e3cbb118-4013-4995-93af-b8a861f4d9f2",
   "metadata": {},
   "outputs": [],
   "source": [
    "state_of_the_union"
   ]
  },
  {
   "cell_type": "code",
   "execution_count": 9,
   "id": "ca14d161-2d5b-4a6c-a296-77d8ce4b28cd",
   "metadata": {
    "tags": []
   },
   "outputs": [],
   "source": [
    "from langchain.chains import AnalyzeDocumentChain\n",
    "from langchain_openai import ChatOpenAI\n",
    "\n",
    "llm = ChatOpenAI(model=\"gpt-3.5-turbo\", base_url=\"https://api.gptsapi.net/v1\",\n",
    "                 api_key=os.environ.get('WildCard_API_KEY'),temperature=0)"
   ]
  },
  {
   "cell_type": "code",
   "execution_count": null,
   "id": "b5606000-0c07-4cf1-a1e9-164bba92d284",
   "metadata": {},
   "outputs": [],
   "source": []
  },
  {
   "cell_type": "code",
   "execution_count": 13,
   "id": "ab5c0463-6c18-4558-b033-5ecae76d320f",
   "metadata": {
    "tags": []
   },
   "outputs": [
    {
     "data": {
      "text/plain": [
       "85868"
      ]
     },
     "execution_count": 13,
     "metadata": {},
     "output_type": "execute_result"
    }
   ],
   "source": [
    "len(state_of_the_union)b"
   ]
  },
  {
   "cell_type": "code",
   "execution_count": 19,
   "id": "db077a73-1900-43a6-845b-4e5f70d86619",
   "metadata": {
    "tags": []
   },
   "outputs": [],
   "source": [
    "state_of_the_union2 = state_of_the_union[:3000]"
   ]
  },
  {
   "cell_type": "code",
   "execution_count": 20,
   "id": "9f97406c-85a9-45fb-99ce-9138c0ba3731",
   "metadata": {
    "tags": []
   },
   "outputs": [],
   "source": [
    "from langchain.chains.question_answering import load_qa_chain\n",
    "\n",
    "qa_chain = load_qa_chain(llm, chain_type=\"map_reduce\")"
   ]
  },
  {
   "cell_type": "code",
   "execution_count": null,
   "id": "0871a753-f5bb-4b4f-a394-f87f2691f659",
   "metadata": {},
   "outputs": [],
   "source": [
    "qa_document_chain = AnalyzeDocumentChain(combine_docs_chain=qa_chain,verbose=True)"
   ]
  },
  {
   "cell_type": "code",
   "execution_count": null,
   "id": "4d460efa-d9e9-4941-b009-cad907a522e0",
   "metadata": {},
   "outputs": [],
   "source": []
  },
  {
   "cell_type": "code",
   "execution_count": null,
   "id": "f24293d0-671d-4344-b98f-866bc48ad8af",
   "metadata": {},
   "outputs": [],
   "source": []
  },
  {
   "cell_type": "code",
   "execution_count": 25,
   "id": "e6f86428-3c2c-46a0-a57c-e22826fdbf91",
   "metadata": {
    "tags": []
   },
   "outputs": [
    {
     "name": "stdout",
     "output_type": "stream",
     "text": [
      "\n",
      "\n",
      "\u001b[1m> Entering new AnalyzeDocumentChain chain...\u001b[0m\n",
      "\n",
      "\u001b[1m> Finished chain.\u001b[0m\n"
     ]
    },
    {
     "data": {
      "text/plain": [
       "'三年前的天才少年萧炎，突然失去了斗之气并且实力不断后退，从天才跌落到了连普通人都不如的地步。但是，在萧薰儿的鞭策下，他重新振作起来，决心追求斗气大陆巅峰。因此，关于萧炎现在怎么样了，文中并未明确描述。'"
      ]
     },
     "execution_count": 25,
     "metadata": {},
     "output_type": "execute_result"
    }
   ],
   "source": [
    "qa_document_chain.run(\n",
    "    input_document=state_of_the_union2,\n",
    "    question=\"萧炎怎么样了\",\n",
    ")"
   ]
  },
  {
   "cell_type": "code",
   "execution_count": null,
   "id": "b8e87ae2-4b23-4dd2-bef0-fc11b72afaca",
   "metadata": {},
   "outputs": [],
   "source": []
  }
 ],
 "metadata": {
  "kernelspec": {
   "display_name": "Python 3 (ipykernel)",
   "language": "python",
   "name": "python3"
  },
  "language_info": {
   "codemirror_mode": {
    "name": "ipython",
    "version": 3
   },
   "file_extension": ".py",
   "mimetype": "text/x-python",
   "name": "python",
   "nbconvert_exporter": "python",
   "pygments_lexer": "ipython3",
   "version": "3.10.14"
  }
 },
 "nbformat": 4,
 "nbformat_minor": 5
}
