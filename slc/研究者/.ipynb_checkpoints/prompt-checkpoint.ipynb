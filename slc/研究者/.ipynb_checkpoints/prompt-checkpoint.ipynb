{
 "cells": [
  {
   "cell_type": "markdown",
   "id": "9c7edc1d-eff2-47eb-9270-4362206c70a0",
   "metadata": {},
   "source": [
    "You are a python programer helping user to deal problem by create a python function.\n",
    "Following '===' is the unittest code. \n",
    "Only use the unittest code between first and second '===' to accomplish the task above, do not Mixed into the python function.\n",
    "\n",
    "===\n",
    "{unittest_code}\n",
    "===\n",
    "\n",
    "Never forget that your functions should be robust and adaptable. your goal is to pass the unit tests.\n",
    "\n",
    "Your results should be kept in four parts: \n",
    "    1 your deconstruction and understanding of the problem\n",
    "    2 your function design ideas (pseudocode)\n",
    "    3 your formal function\n",
    "    4 your function call examples\n",
    "Example:\n",
    "\n",
    "### 1. Understand\n",
    "The task is xxx\n",
    "### 2. Design\n",
    "1. xxxx\n",
    "2. xxxx\n",
    "3. xxxx\n",
    "### 3. Function\n",
    "\n",
    "```python\n",
    "import re\n",
    "\n",
    "def prepend_to_file(file_path, data_to_prepend,new_file_path=None):\n",
    "    \n",
    "    if new_file_path is None:\n",
    "        new_file_path = file_path\n",
    "    # 读取原始文件内容\n",
    "    with open(file_path, 'r', encoding='utf-8') as file:\n",
    "        original_content = file.read()\n",
    "    \n",
    "    # 将新数据添加到原始内容前面\n",
    "    updated_content = data_to_prepend +'\\n'+ original_content\n",
    "    \n",
    "    # 将更新后的内容写回文件\n",
    "    with open(new_file_path, 'w', encoding='utf-8') as file:\n",
    "        file.write(updated_content)\n",
    "```\n",
    "### 4. Function Call\n",
    "```python\n",
    "xxx\n",
    "```"
   ]
  },
  {
   "cell_type": "code",
   "execution_count": null,
   "id": "0f3b52d1-4303-4175-abaf-ded4522ac2c4",
   "metadata": {},
   "outputs": [],
   "source": []
  },
  {
   "cell_type": "code",
   "execution_count": 7,
   "id": "6bc16975-0404-4172-a8b8-c70cb915379b",
   "metadata": {
    "tags": []
   },
   "outputs": [],
   "source": [
    "from zxftools_dev.tknode.thought_route2 import ThoughtRoute"
   ]
  },
  {
   "cell_type": "code",
   "execution_count": 8,
   "id": "ed4f9815-03d6-4844-94a7-aa82de40a4ec",
   "metadata": {
    "tags": []
   },
   "outputs": [],
   "source": [
    "from zxftools_dev.tknode.role import Experience"
   ]
  },
  {
   "cell_type": "code",
   "execution_count": 9,
   "id": "3baa16c8-28e6-4eec-b8b0-fe739695a3d3",
   "metadata": {
    "tags": []
   },
   "outputs": [],
   "source": [
    "exp = Experience(role_exp_path='k_test1',llm=get_llm())"
   ]
  },
  {
   "cell_type": "code",
   "execution_count": 10,
   "id": "fe9f25bc-8137-4337-8cd2-603323f5557f",
   "metadata": {
    "tags": []
   },
   "outputs": [],
   "source": [
    "engine = exp.get_engine()"
   ]
  },
  {
   "cell_type": "code",
   "execution_count": 26,
   "id": "897e97f6-a5e3-4e05-b0b6-b4c9a5c4359d",
   "metadata": {
    "tags": []
   },
   "outputs": [],
   "source": [
    "inputs = '龙的传人?'"
   ]
  },
  {
   "cell_type": "code",
   "execution_count": 27,
   "id": "cd122ce6-764f-40a5-b8e9-bf8c68719fe6",
   "metadata": {
    "tags": []
   },
   "outputs": [],
   "source": [
    "#我能看到你的信息吗?"
   ]
  },
  {
   "cell_type": "code",
   "execution_count": 33,
   "id": "997c486f-7750-4960-8784-8278b43d0172",
   "metadata": {
    "tags": []
   },
   "outputs": [],
   "source": [
    "from zxftools_dev.kb.load_data import load_data"
   ]
  },
  {
   "cell_type": "code",
   "execution_count": 35,
   "id": "350b5dd7-58bf-4656-a585-ad1ad224e909",
   "metadata": {
    "tags": []
   },
   "outputs": [],
   "source": [
    "document = load_data(\"\"\"\n",
    "xxx\n",
    "性别：男\n",
    "年龄：35岁\n",
    "职业：金融工程师\n",
    "教育背景：拥有计算机科学硕士学位\n",
    "个人经历：\n",
    "xxx自小对计算机和编程充满热情，高中时期便开始自学编程语言。\n",
    "大学期间，他积极参与各类编程竞赛，多次获得省级以上奖项。\n",
    "毕业后，他加入了一家知名的科技公司，担任软件工程师，参与了多个大型项目的开发。正在做3D项目\n",
    "\"\"\")"
   ]
  },
  {
   "cell_type": "code",
   "execution_count": 37,
   "id": "20daf7b7-c4fc-444c-848b-dc2f89bc0671",
   "metadata": {
    "tags": []
   },
   "outputs": [],
   "source": [
    "from zxftools_dev.kb.indexmaker import SplitterFactory,SplitterType"
   ]
  },
  {
   "cell_type": "code",
   "execution_count": 38,
   "id": "4058b304-8117-407f-8536-51d2b2ae84ff",
   "metadata": {
    "tags": []
   },
   "outputs": [],
   "source": [
    "splitter  = SplitterFactory(SplitterType.TOKEN_TEXT)"
   ]
  },
  {
   "cell_type": "code",
   "execution_count": 40,
   "id": "19cfbb04-6431-440f-aa7c-a06e96251803",
   "metadata": {
    "tags": []
   },
   "outputs": [],
   "source": [
    "nodes = splitter.get_nodes_from_documents(document)"
   ]
  },
  {
   "cell_type": "code",
   "execution_count": 41,
   "id": "1bd084a4-e2e1-4aaa-8bbf-b9e7fadb5dda",
   "metadata": {
    "collapsed": true,
    "jupyter": {
     "outputs_hidden": true
    },
    "tags": []
   },
   "outputs": [
    {
     "data": {
      "application/vnd.jupyter.widget-view+json": {
       "model_id": "96469c2c35ef4a98a77bce8adc76f5ad",
       "version_major": 2,
       "version_minor": 0
      },
      "text/plain": [
       "  0%|          | 0/1 [00:00<?, ?it/s]"
      ]
     },
     "metadata": {},
     "output_type": "display_data"
    },
    {
     "name": "stdout",
     "output_type": "stream",
     "text": [
      "extract_knowledge_and_concepts\n"
     ]
    },
    {
     "ename": "ValidationError",
     "evalue": "1 validation error for NodeWithScore\nnode\n  Can't instantiate abstract class BaseNode with abstract methods get_content, get_metadata_str, get_type, hash, set_content (type=type_error)",
     "output_type": "error",
     "traceback": [
      "\u001b[0;31m---------------------------------------------------------------------------\u001b[0m",
      "\u001b[0;31mValidationError\u001b[0m                           Traceback (most recent call last)",
      "Cell \u001b[0;32mIn[41], line 1\u001b[0m\n\u001b[0;32m----> 1\u001b[0m \u001b[43mexp\u001b[49m\u001b[38;5;241;43m.\u001b[39;49m\u001b[43mlearning_from_nodes\u001b[49m\u001b[43m(\u001b[49m\u001b[43mnodes\u001b[49m\u001b[43m)\u001b[49m\n",
      "File \u001b[0;32m~/GitHub/zxftools_dev/zxftools_dev/tknode/role.py:245\u001b[0m, in \u001b[0;36mExperience.learning_from_nodes\u001b[0;34m(self, nodes)\u001b[0m\n\u001b[1;32m    243\u001b[0m \u001b[38;5;28;01mdef\u001b[39;00m \u001b[38;5;21mlearning_from_nodes\u001b[39m(\u001b[38;5;28mself\u001b[39m,nodes):\n\u001b[1;32m    244\u001b[0m     notes \u001b[38;5;241m=\u001b[39m \u001b[38;5;28mself\u001b[39m\u001b[38;5;241m.\u001b[39mget_notes_from_nodes(nodes)\n\u001b[0;32m--> 245\u001b[0m     \u001b[38;5;28;43mself\u001b[39;49m\u001b[38;5;241;43m.\u001b[39;49m\u001b[43mlearning_from_notes\u001b[49m\u001b[43m(\u001b[49m\u001b[43mnotes\u001b[49m\u001b[43m)\u001b[49m\n",
      "File \u001b[0;32m~/GitHub/zxftools_dev/zxftools_dev/tknode/role.py:228\u001b[0m, in \u001b[0;36mExperience.learning_from_notes\u001b[0;34m(self, notes)\u001b[0m\n\u001b[1;32m    226\u001b[0m \u001b[38;5;28;01mdef\u001b[39;00m \u001b[38;5;21mlearning_from_notes\u001b[39m(\u001b[38;5;28mself\u001b[39m,notes):\n\u001b[1;32m    227\u001b[0m     \u001b[38;5;28mprint\u001b[39m(\u001b[38;5;124m'\u001b[39m\u001b[38;5;124mextract_knowledge_and_concepts\u001b[39m\u001b[38;5;124m'\u001b[39m)\n\u001b[0;32m--> 228\u001b[0m     knowledge_nodes,concept_nodes \u001b[38;5;241m=\u001b[39m \u001b[38;5;28;43mself\u001b[39;49m\u001b[38;5;241;43m.\u001b[39;49m\u001b[43mextract_knowledge_and_concepts\u001b[49m\u001b[43m(\u001b[49m\u001b[43mnotes\u001b[49m\u001b[43m)\u001b[49m\n\u001b[1;32m    229\u001b[0m     \u001b[38;5;28mprint\u001b[39m(\u001b[38;5;124m'\u001b[39m\u001b[38;5;124mmerge_nodes\u001b[39m\u001b[38;5;124m'\u001b[39m)\n\u001b[1;32m    230\u001b[0m     knowledge_merge_nodes \u001b[38;5;241m=\u001b[39m \u001b[38;5;28mself\u001b[39m\u001b[38;5;241m.\u001b[39mmerge_nodes(knowledge_nodes,\u001b[38;5;28mself\u001b[39m\u001b[38;5;241m.\u001b[39mknowledge_index\u001b[38;5;241m.\u001b[39mas_retriever())\n",
      "File \u001b[0;32m~/GitHub/zxftools_dev/zxftools_dev/tknode/role.py:167\u001b[0m, in \u001b[0;36mExperience.extract_knowledge_and_concepts\u001b[0;34m(self, notes)\u001b[0m\n\u001b[1;32m    166\u001b[0m \u001b[38;5;28;01mdef\u001b[39;00m \u001b[38;5;21mextract_knowledge_and_concepts\u001b[39m(\u001b[38;5;28mself\u001b[39m,notes)\u001b[38;5;241m-\u001b[39m\u001b[38;5;241m>\u001b[39m\u001b[38;5;28;01mNone\u001b[39;00m:\n\u001b[0;32m--> 167\u001b[0m     concept_nodes \u001b[38;5;241m=\u001b[39m \u001b[38;5;28;43mself\u001b[39;49m\u001b[38;5;241;43m.\u001b[39;49m\u001b[43mextract_from_note\u001b[49m\u001b[43m(\u001b[49m\u001b[43mnotes\u001b[49m\u001b[43m,\u001b[49m\u001b[43mkey\u001b[49m\u001b[38;5;241;43m=\u001b[39;49m\u001b[38;5;124;43m'\u001b[39;49m\u001b[38;5;124;43mconcept\u001b[39;49m\u001b[38;5;124;43m'\u001b[39;49m\u001b[43m)\u001b[49m\n\u001b[1;32m    168\u001b[0m     knowledge_nodes \u001b[38;5;241m=\u001b[39m \u001b[38;5;28mself\u001b[39m\u001b[38;5;241m.\u001b[39mextract_from_note(notes,key\u001b[38;5;241m=\u001b[39m\u001b[38;5;124m'\u001b[39m\u001b[38;5;124mknowledge\u001b[39m\u001b[38;5;124m'\u001b[39m)\n\u001b[1;32m    169\u001b[0m     \u001b[38;5;28;01mreturn\u001b[39;00m knowledge_nodes,concept_nodes\n",
      "File \u001b[0;32m~/GitHub/zxftools_dev/zxftools_dev/tknode/role.py:158\u001b[0m, in \u001b[0;36mExperience.extract_from_note\u001b[0;34m(self, notes, key)\u001b[0m\n\u001b[1;32m    152\u001b[0m postprocess \u001b[38;5;241m=\u001b[39m NodePostprocessorsFactory(NodePostprocessorsType\u001b[38;5;241m.\u001b[39mMetadataReplacementPostProcessor,\n\u001b[1;32m    153\u001b[0m                                         target_metadata_key\u001b[38;5;241m=\u001b[39mkey)\n\u001b[1;32m    155\u001b[0m splitter \u001b[38;5;241m=\u001b[39m SplitterFactory(SplitterType\u001b[38;5;241m.\u001b[39mMARK, mark\u001b[38;5;241m=\u001b[39m\u001b[38;5;124m'\u001b[39m\u001b[38;5;130;01m\\n\u001b[39;00m\u001b[38;5;124m'\u001b[39m)\n\u001b[0;32m--> 158\u001b[0m nods2 \u001b[38;5;241m=\u001b[39m \u001b[43mnode2NodeWithScore\u001b[49m\u001b[43m(\u001b[49m\u001b[43mnodes_\u001b[49m\u001b[43m)\u001b[49m\n\u001b[1;32m    159\u001b[0m nodes2 \u001b[38;5;241m=\u001b[39m postprocess\u001b[38;5;241m.\u001b[39mpostprocess_nodes(nods2)\n\u001b[1;32m    160\u001b[0m postnodes \u001b[38;5;241m=\u001b[39m nodeWithScore2Node(nodes2)\n",
      "File \u001b[0;32m~/GitHub/zxftools_dev/zxftools_dev/tknode/role.py:147\u001b[0m, in \u001b[0;36mExperience.extract_from_note.<locals>.node2NodeWithScore\u001b[0;34m(nodes, score)\u001b[0m\n\u001b[1;32m    146\u001b[0m \u001b[38;5;28;01mdef\u001b[39;00m \u001b[38;5;21mnode2NodeWithScore\u001b[39m(nodes, score\u001b[38;5;241m=\u001b[39m\u001b[38;5;241m0.7\u001b[39m):\n\u001b[0;32m--> 147\u001b[0m     \u001b[38;5;28;01mreturn\u001b[39;00m [NodeWithScore(node\u001b[38;5;241m=\u001b[39mnode, score\u001b[38;5;241m=\u001b[39mscore) \u001b[38;5;28;01mfor\u001b[39;00m node \u001b[38;5;129;01min\u001b[39;00m nodes]\n",
      "File \u001b[0;32m~/GitHub/zxftools_dev/zxftools_dev/tknode/role.py:147\u001b[0m, in \u001b[0;36m<listcomp>\u001b[0;34m(.0)\u001b[0m\n\u001b[1;32m    146\u001b[0m \u001b[38;5;28;01mdef\u001b[39;00m \u001b[38;5;21mnode2NodeWithScore\u001b[39m(nodes, score\u001b[38;5;241m=\u001b[39m\u001b[38;5;241m0.7\u001b[39m):\n\u001b[0;32m--> 147\u001b[0m     \u001b[38;5;28;01mreturn\u001b[39;00m [\u001b[43mNodeWithScore\u001b[49m\u001b[43m(\u001b[49m\u001b[43mnode\u001b[49m\u001b[38;5;241;43m=\u001b[39;49m\u001b[43mnode\u001b[49m\u001b[43m,\u001b[49m\u001b[43m \u001b[49m\u001b[43mscore\u001b[49m\u001b[38;5;241;43m=\u001b[39;49m\u001b[43mscore\u001b[49m\u001b[43m)\u001b[49m \u001b[38;5;28;01mfor\u001b[39;00m node \u001b[38;5;129;01min\u001b[39;00m nodes]\n",
      "File \u001b[0;32m~/opt/miniconda3/envs/py310_new/lib/python3.10/site-packages/pydantic/v1/main.py:341\u001b[0m, in \u001b[0;36mBaseModel.__init__\u001b[0;34m(__pydantic_self__, **data)\u001b[0m\n\u001b[1;32m    339\u001b[0m values, fields_set, validation_error \u001b[38;5;241m=\u001b[39m validate_model(__pydantic_self__\u001b[38;5;241m.\u001b[39m\u001b[38;5;18m__class__\u001b[39m, data)\n\u001b[1;32m    340\u001b[0m \u001b[38;5;28;01mif\u001b[39;00m validation_error:\n\u001b[0;32m--> 341\u001b[0m     \u001b[38;5;28;01mraise\u001b[39;00m validation_error\n\u001b[1;32m    342\u001b[0m \u001b[38;5;28;01mtry\u001b[39;00m:\n\u001b[1;32m    343\u001b[0m     object_setattr(__pydantic_self__, \u001b[38;5;124m'\u001b[39m\u001b[38;5;124m__dict__\u001b[39m\u001b[38;5;124m'\u001b[39m, values)\n",
      "\u001b[0;31mValidationError\u001b[0m: 1 validation error for NodeWithScore\nnode\n  Can't instantiate abstract class BaseNode with abstract methods get_content, get_metadata_str, get_type, hash, set_content (type=type_error)"
     ]
    }
   ],
   "source": [
    "exp.learning_from_nodes(nodes)"
   ]
  },
  {
   "cell_type": "code",
   "execution_count": null,
   "id": "b82aa7ab-97eb-48af-9140-801a9a5c3963",
   "metadata": {},
   "outputs": [],
   "source": []
  },
  {
   "cell_type": "code",
   "execution_count": null,
   "id": "0ebc7dd0-e74d-440e-8939-b9c67bdfe285",
   "metadata": {},
   "outputs": [],
   "source": []
  },
  {
   "cell_type": "code",
   "execution_count": 31,
   "id": "8239bf40-aae9-409e-9b94-e4cd436a2c02",
   "metadata": {
    "tags": []
   },
   "outputs": [
    {
     "name": "stdout",
     "output_type": "stream",
     "text": [
      "Generated 1 sub questions.\n",
      "\u001b[1;3;38;2;237;90;200m[query_engine_tool] Q: By first identifying and quoting the most relevant sources, 龙的传人是什么意思\n",
      "\u001b[0m\u001b[1;3;38;2;237;90;200m[query_engine_tool] A: The term \"龙的传人\" means the descendant of a dragon.\n",
      "\u001b[0m"
     ]
    }
   ],
   "source": [
    "end = engine.query(f'{inputs} 如果没有信息,就回答没有找到相关信息')"
   ]
  },
  {
   "cell_type": "code",
   "execution_count": 32,
   "id": "6c552c04-4bad-4f46-9962-cb4de460d720",
   "metadata": {
    "tags": []
   },
   "outputs": [
    {
     "data": {
      "text/plain": [
       "'The term \"龙的传人\" means the descendant of a dragon.'"
      ]
     },
     "execution_count": 32,
     "metadata": {},
     "output_type": "execute_result"
    }
   ],
   "source": [
    "end.response\n"
   ]
  },
  {
   "cell_type": "code",
   "execution_count": 44,
   "id": "3743fe74-9517-416e-a265-39d206cd2789",
   "metadata": {
    "tags": []
   },
   "outputs": [],
   "source": [
    "inputs = 'xxx最近在干嘛呢?'"
   ]
  },
  {
   "cell_type": "code",
   "execution_count": 45,
   "id": "c6866759-263d-44a0-b9d7-140be70ca142",
   "metadata": {
    "tags": []
   },
   "outputs": [],
   "source": [
    "ende = \"\"\"\n",
    "xxx\n",
    "性别：男\n",
    "年龄：35岁\n",
    "职业：金融工程师\n",
    "教育背景：拥有计算机科学硕士学位\n",
    "个人经历：\n",
    "xxx自小对计算机和编程充满热情，高中时期便开始自学编程语言。\n",
    "大学期间，他积极参与各类编程竞赛，多次获得省级以上奖项。\n",
    "毕业后，他加入了一家知名的科技公司，担任软件工程师，参与了多个大型项目的开发。正在做3D项目\n",
    "\"\"\""
   ]
  },
  {
   "cell_type": "code",
   "execution_count": 52,
   "id": "661aa861-da08-4537-a653-4206436e420c",
   "metadata": {
    "tags": []
   },
   "outputs": [],
   "source": [
    "llm = get_llm('openai_bianxieai',model='gpt-4o')"
   ]
  },
  {
   "cell_type": "code",
   "execution_count": 53,
   "id": "06794268-ef66-48fa-956c-4aceb651f7ca",
   "metadata": {
    "tags": []
   },
   "outputs": [
    {
     "data": {
      "text/plain": [
       "CompletionResponse(text='你好，赵雪峰！王若旭最近在忙于一个3D项目的开发。他一直对计算机和编程充满热情，所以这个项目对他来说应该是非常有趣的。你们最近有联系吗？', additional_kwargs={}, raw={'id': 'chatcmpl-9VIUsLIEidLY9vdEcjTGkEOX8U0kk', 'choices': [Choice(finish_reason='stop', index=0, logprobs=None, message=ChatCompletionMessage(content='你好，赵雪峰！王若旭最近在忙于一个3D项目的开发。他一直对计算机和编程充满热情，所以这个项目对他来说应该是非常有趣的。你们最近有联系吗？', role='assistant', function_call=None, tool_calls=None))], 'created': 1717246298, 'model': 'gpt-4o', 'object': 'chat.completion', 'system_fingerprint': 'fp_5f4bad809a', 'usage': CompletionUsage(completion_tokens=51, prompt_tokens=202, total_tokens=253)}, logprobs=None, delta=None)"
      ]
     },
     "execution_count": 53,
     "metadata": {},
     "output_type": "execute_result"
    }
   ],
   "source": [
    "llm.complete(f\"\"\"\n",
    "你是一个聊天机器人,你正在和赵雪峰聊天.\n",
    "你可以检索过去的信息作为背景,以更自然的和赵雪峰交流\n",
    "你可以自然的和用户交流,可以通过提问来补充信息,以增加聊天的流畅性.\n",
    "-------------\n",
    "你记忆中的信息:\n",
    "{ende}\n",
    "-----------------\n",
    "赵雪峰输入:{inputs}\n",
    "\"\"\")"
   ]
  },
  {
   "cell_type": "code",
   "execution_count": 54,
   "id": "1b75347b-ed65-4d74-bb30-75f3d9e03d5e",
   "metadata": {
    "tags": []
   },
   "outputs": [
    {
     "data": {
      "text/plain": [
       "CompletionResponse(text='哦，原来如此。听起来王若旭确实遇到了不小的挑战。你知道他具体遇到了什么样的困难吗？也许我们可以一起想想办法，看看能不能帮他找到一些解决方案。', additional_kwargs={}, raw={'id': 'chatcmpl-9VIYExXoPB3rYIkkeZQqV7X9RpNsa', 'choices': [Choice(finish_reason='stop', index=0, logprobs=None, message=ChatCompletionMessage(content='哦，原来如此。听起来王若旭确实遇到了不小的挑战。你知道他具体遇到了什么样的困难吗？也许我们可以一起想想办法，看看能不能帮他找到一些解决方案。', role='assistant', function_call=None, tool_calls=None))], 'created': 1717246506, 'model': 'gpt-4o', 'object': 'chat.completion', 'system_fingerprint': 'fp_5f4bad809a', 'usage': CompletionUsage(completion_tokens=51, prompt_tokens=304, total_tokens=355)}, logprobs=None, delta=None)"
      ]
     },
     "execution_count": 54,
     "metadata": {},
     "output_type": "execute_result"
    }
   ],
   "source": [
    "llm.complete(f\"\"\"\n",
    "你是一个聊天机器人,你正在和赵雪峰聊天.\n",
    "你可以检索过去的信息作为背景,以更自然的和赵雪峰交流\n",
    "你可以自然的和用户交流,可以通过提问来补充信息,以增加聊天的流畅性.\n",
    "-------------\n",
    "你记忆中的信息:\n",
    "{ende}\n",
    "-----------------\n",
    "赵雪峰输入:{inputs}\n",
    "你: 你好，赵雪峰！xxx最近在忙于一个3D项目的开发。他一直对计算机和编程充满热情，所以这个项目对他来说应该是非常有趣的。你们最近有联系吗？\n",
    "赵雪峰输入: 当然,我知道他最近遇到了困难,他的项目遇到了麻烦,他的领导王舸,对他的成果不是很满意,你要知道,这可能会导致他失业\n",
    "\n",
    "\"\"\")"
   ]
  },
  {
   "cell_type": "code",
   "execution_count": 55,
   "id": "0c6c9430-3bd6-4f66-aeaf-76c182887e50",
   "metadata": {
    "tags": []
   },
   "outputs": [
    {
     "data": {
      "text/plain": [
       "CompletionResponse(text='将图片转化为3D模型确实是一个复杂的任务，涉及到计算机视觉、深度学习和图形处理等多个领域。以下是一些可能的方法和建议，希望能对王若旭有所帮助：\\n\\n1. **深度学习模型**：可以尝试使用深度学习模型，比如卷积神经网络（CNN）和生成对抗网络（GAN），这些模型在图像处理和生成方面有很好的表现。特别是一些预训练的模型，如Pix2Pix、CycleGAN等，可以用来进行图像到图像的转换。\\n\\n2. **3D重建算法**：可以研究一些经典的3D重建算法，比如Structure from Motion（SfM）和Multi-View Stereo（MVS），这些算法可以从多张2D图片中重建出3D模型。\\n\\n3. **使用现有工具**：市面上有一些现成的工具和软件可以帮助进行3D建模，比如Blender、Meshroom、Agisoft Metashape等。这些工具通常有较为完善的功能，可以帮助简化一些复杂的步骤。\\n\\n4. **优化算法**：如果现有的方法效果不理想，可以考虑优化算法，比如通过调整超参数、增加数据集的多样性、使用更高质量的图片等方式来提高模型的效果。\\n\\n5. **寻求专家帮助**：如果问题非常复杂，可以考虑寻求一些在计算机视觉和3D建模领域有经验的专家的帮助，或者加入一些相关的技术社区，向其他开发者请教。\\n\\n你觉得这些建议对王若旭有帮助吗？或者你还有其他具体的问题，我们可以进一步讨论。', additional_kwargs={}, raw={'id': 'chatcmpl-9VIe1bUMSxzztxwn4pmCXVKNeyRHZ', 'choices': [Choice(finish_reason='stop', index=0, logprobs=None, message=ChatCompletionMessage(content='将图片转化为3D模型确实是一个复杂的任务，涉及到计算机视觉、深度学习和图形处理等多个领域。以下是一些可能的方法和建议，希望能对王若旭有所帮助：\\n\\n1. **深度学习模型**：可以尝试使用深度学习模型，比如卷积神经网络（CNN）和生成对抗网络（GAN），这些模型在图像处理和生成方面有很好的表现。特别是一些预训练的模型，如Pix2Pix、CycleGAN等，可以用来进行图像到图像的转换。\\n\\n2. **3D重建算法**：可以研究一些经典的3D重建算法，比如Structure from Motion（SfM）和Multi-View Stereo（MVS），这些算法可以从多张2D图片中重建出3D模型。\\n\\n3. **使用现有工具**：市面上有一些现成的工具和软件可以帮助进行3D建模，比如Blender、Meshroom、Agisoft Metashape等。这些工具通常有较为完善的功能，可以帮助简化一些复杂的步骤。\\n\\n4. **优化算法**：如果现有的方法效果不理想，可以考虑优化算法，比如通过调整超参数、增加数据集的多样性、使用更高质量的图片等方式来提高模型的效果。\\n\\n5. **寻求专家帮助**：如果问题非常复杂，可以考虑寻求一些在计算机视觉和3D建模领域有经验的专家的帮助，或者加入一些相关的技术社区，向其他开发者请教。\\n\\n你觉得这些建议对王若旭有帮助吗？或者你还有其他具体的问题，我们可以进一步讨论。', role='assistant', function_call=None, tool_calls=None))], 'created': 1717246865, 'model': 'gpt-4o', 'object': 'chat.completion', 'system_fingerprint': 'fp_5f4bad809a', 'usage': CompletionUsage(completion_tokens=357, prompt_tokens=394, total_tokens=751)}, logprobs=None, delta=None)"
      ]
     },
     "execution_count": 55,
     "metadata": {},
     "output_type": "execute_result"
    }
   ],
   "source": [
    "llm.complete(f\"\"\"\n",
    "你是一个聊天机器人,你正在和赵雪峰聊天.\n",
    "你可以检索过去的信息作为背景,以更自然的和赵雪峰交流\n",
    "你可以自然的和用户交流,可以通过提问来补充信息,以增加聊天的流畅性.\n",
    "-------------\n",
    "你记忆中的信息:\n",
    "{ende}\n",
    "-----------------\n",
    "赵雪峰输入:{inputs}\n",
    "你: 你好，赵雪峰！xxx最近在忙于一个3D项目的开发。他一直对计算机和编程充满热情，所以这个项目对他来说应该是非常有趣的。你们最近有联系吗？\n",
    "赵雪峰输入: 当然,我知道他最近遇到了困难,他的项目遇到了麻烦,他的领导王舸,对他的成果不是很满意,你要知道,这可能会导致他失业\n",
    "你: 哦，原来如此。听起来xxx确实遇到了不小的挑战。你知道他具体遇到了什么样的困难吗？也许我们可以一起想想办法，看看能不能帮他找到一些解决方案。\n",
    "赵雪峰输入: 他应该是在将图片转化为3d模型的任务中遇到困难,这是一个很难的事情,你有什么好的方法吗?\n",
    "\"\"\")"
   ]
  },
  {
   "cell_type": "code",
   "execution_count": null,
   "id": "09a8d1f1-96ee-4b74-bb54-e9ed880d6113",
   "metadata": {},
   "outputs": [],
   "source": []
  },
  {
   "cell_type": "code",
   "execution_count": null,
   "id": "5d2d56f0-ed75-464b-859c-bd888215127c",
   "metadata": {},
   "outputs": [],
   "source": []
  },
  {
   "cell_type": "code",
   "execution_count": null,
   "id": "4e02904b-738d-4ae3-985a-f7931f1f3b38",
   "metadata": {},
   "outputs": [],
   "source": []
  },
  {
   "cell_type": "code",
   "execution_count": null,
   "id": "47a3cf7d-03fe-4f1d-8ccc-ddadb4169969",
   "metadata": {},
   "outputs": [],
   "source": []
  },
  {
   "cell_type": "code",
   "execution_count": null,
   "id": "160980e9-5942-4d69-9598-ec0b42d50941",
   "metadata": {},
   "outputs": [],
   "source": []
  },
  {
   "cell_type": "code",
   "execution_count": null,
   "id": "9d2ce3b2-2a12-4610-b8e1-0a01b9cd2b4b",
   "metadata": {},
   "outputs": [],
   "source": [
    "https://docs.llamaindex.ai/en/stable/examples/llm/nvidia_triton/"
   ]
  },
  {
   "cell_type": "code",
   "execution_count": null,
   "id": "14542011-3913-4f0c-9e6d-d3accacbeaa3",
   "metadata": {},
   "outputs": [],
   "source": [
    "https://docs.llamaindex.ai/en/stable/examples/llm/huggingface/"
   ]
  },
  {
   "cell_type": "code",
   "execution_count": null,
   "id": "2e8e215d-f0d3-47e5-9849-0ce52f855a24",
   "metadata": {},
   "outputs": [],
   "source": []
  },
  {
   "cell_type": "code",
   "execution_count": null,
   "id": "b9dc0b57-ec8e-4e6d-8db0-fa31a88b977b",
   "metadata": {},
   "outputs": [],
   "source": [
    "import os\n",
    "os.environ['VECTARA_API_KEY'] = \"zut_YpZBiVGgd5tRmuIiP--fF6i5m9sqCH4MGld5EQ\"\n",
    "os.environ['VECTARA_CORPUS_ID'] = \"3\"\n",
    "os.environ['VECTARA_CUSTOMER_ID'] = \"1654014345\"\n",
    "\n",
    "from llama_index.indices.managed.vectara import VectaraIndex\n",
    "import requests\n",
    "\n",
    "url = \"https://www.whitehouse.gov/wp-content/uploads/2022/10/Blueprint-for-an-AI-Bill-of-Rights.pdf\"\n",
    "response = requests.get(url)\n",
    "local_path = \"ai-bill-of-rights.pdf\"\n",
    "with open(local_path, \"wb\") as file:\n",
    "    file.write(response.content)\n",
    "\n",
    "index = VectaraIndex()\n",
    "index.insert_file(\n",
    "    local_path, metadata={\"name\": \"AI bill of rights\", \"year\": 2022}\n",
    ")"
   ]
  },
  {
   "cell_type": "code",
   "execution_count": null,
   "id": "92ca7e7d-9976-4d62-9170-c6a457800f51",
   "metadata": {},
   "outputs": [],
   "source": []
  },
  {
   "cell_type": "code",
   "execution_count": null,
   "id": "05497c30-9daf-478b-8d4a-e2fb47d0fe12",
   "metadata": {},
   "outputs": [],
   "source": []
  },
  {
   "cell_type": "code",
   "execution_count": null,
   "id": "f9aa8bd1-4ae9-4c89-8021-05c4f6d23bae",
   "metadata": {},
   "outputs": [],
   "source": []
  },
  {
   "cell_type": "code",
   "execution_count": 15,
   "id": "a22adb61-4e98-4b85-aa10-85a2bffb3b16",
   "metadata": {
    "tags": []
   },
   "outputs": [],
   "source": [
    "\n",
    "from zxftools_dev.tknode.tklib.prompt.intention_recognition import intention_recognition2,intention_recognition_example\n",
    "from qet.llms import get_llm\n",
    "class ThoughtRoute():\n",
    "    def __init__(self,engine):\n",
    "\n",
    "        # self.select_chat_engine = SimpleChatEngine.from_defaults(system_prompt='''你是一个意图判断器,你会对用户的每个输入进行判断,并归类到,分享信息,索要信息. 这两类中\n",
    "        # for example:\n",
    "        # 王成宇是谁?  索要信息\n",
    "        # 桑文是谁?   索要信息\n",
    "        # ''')\n",
    "\n",
    "\n",
    "        system_prompt = '''你是一个意图判断器,你会对用户的每个输入进行判断,并归类到,闲聊,深入思考,信息交换. 这三类中'''\n",
    "\n",
    "        self.select_chat_engine = SimpleChatEngine.from_defaults(system_prompt=system_prompt)\n",
    "\n",
    "        self.select_doc = {0: 'react', 1: 'caht'}\n",
    "\n",
    "        self.NodePost = NodePostprocessorsFactory(NodePostprocessorsType.SimilarityPostprocessor)\n",
    "\n",
    "        self.retriver = IndexMaker().create_index(\n",
    "            [self.wrap_document('索要信息', 0), self.wrap_document('分享信息', 1)]).as_retriever()\n",
    "\n",
    "    def chat(self, words):\n",
    "        self.select_auto(words)\n",
    "\n",
    "        result = self.thought.chat(words)\n",
    "        return result.response\n",
    "\n",
    "    def wrap_document(self, text='索要信息', id=0):\n",
    "        doc = Document(text=text)\n",
    "        doc.metadata['prompt_id'] = id\n",
    "        return doc\n",
    "\n",
    "    def select_auto1(self,words):\n",
    "        llm = get_llm()\n",
    "        def get_prompt_id(resu):\n",
    "            if resu == []:\n",
    "                return None\n",
    "            else:\n",
    "                return resu[0].metadata['prompt_id']\n",
    "\n",
    "        result = llm.complete(intention_recognition2.format(input=words, example=intention_recognition_example)).text\n",
    "        resu = self.retriver.retrieve(result)\n",
    "        resu = self.NodePost.postprocess_nodes(resu)\n",
    "        thought = self.select_doc.get(get_prompt_id(resu))\n",
    "        return thought\n",
    "\n",
    "    def select_human(self, id):\n",
    "        thought = self.thought_dict.get(id)\n",
    "        return thought\n",
    "\n",
    "    def select_auto(self, words):\n",
    "        def get_prompt_id(resu):\n",
    "            if resu == []:\n",
    "                return None\n",
    "            else:\n",
    "                return resu[0].metadata['prompt_id']\n",
    "\n",
    "        result = self.select_chat_engine.chat(words).response\n",
    "        resu = self.retriver.retrieve(result)\n",
    "        resu = self.NodePost.postprocess_nodes(resu)\n",
    "        prompt = self.select_doc.get(get_prompt_id(resu))\n",
    "        # prompt or other\n",
    "        return prompt\n",
    "\n",
    "\n",
    "\n",
    "    def pop_chat_history(self):\n",
    "        chat_history = copy.deepcopy(self.thought.agent.chat_history)\n",
    "        self.thought.agent.chat_history.clear()\n",
    "        return chat_history\n",
    "\n",
    "    def get_chat_history(self):\n",
    "        chat_history = copy.deepcopy(self.thought.agent.chat_history)\n",
    "        return chat_history\n",
    "\n",
    "    def clear_history(self):\n",
    "        self.thought.agent.chat_history.clear()\n"
   ]
  },
  {
   "cell_type": "code",
   "execution_count": 16,
   "id": "71e2abe5-9dc3-4380-8b16-7a8d898ca4b0",
   "metadata": {
    "tags": []
   },
   "outputs": [
    {
     "ename": "NameError",
     "evalue": "name 'SimpleChatEngine' is not defined",
     "output_type": "error",
     "traceback": [
      "\u001b[0;31m---------------------------------------------------------------------------\u001b[0m",
      "\u001b[0;31mNameError\u001b[0m                                 Traceback (most recent call last)",
      "Cell \u001b[0;32mIn[16], line 1\u001b[0m\n\u001b[0;32m----> 1\u001b[0m \u001b[43mThoughtRoute\u001b[49m\u001b[43m(\u001b[49m\u001b[43m)\u001b[49m\n",
      "Cell \u001b[0;32mIn[15], line 15\u001b[0m, in \u001b[0;36mThoughtRoute.__init__\u001b[0;34m(self)\u001b[0m\n\u001b[1;32m      4\u001b[0m \u001b[38;5;28;01mdef\u001b[39;00m \u001b[38;5;21m__init__\u001b[39m(\u001b[38;5;28mself\u001b[39m):\n\u001b[1;32m      5\u001b[0m \n\u001b[1;32m      6\u001b[0m     \u001b[38;5;66;03m# self.select_chat_engine = SimpleChatEngine.from_defaults(system_prompt='''你是一个意图判断器,你会对用户的每个输入进行判断,并归类到,分享信息,索要信息. 这两类中\u001b[39;00m\n\u001b[0;32m   (...)\u001b[0m\n\u001b[1;32m      9\u001b[0m     \u001b[38;5;66;03m# 桑文是谁?   索要信息\u001b[39;00m\n\u001b[1;32m     10\u001b[0m     \u001b[38;5;66;03m# ''')\u001b[39;00m\n\u001b[1;32m     13\u001b[0m     system_prompt \u001b[38;5;241m=\u001b[39m \u001b[38;5;124m'''\u001b[39m\u001b[38;5;124m你是一个意图判断器,你会对用户的每个输入进行判断,并归类到,闲聊,深入思考,信息交换. 这三类中\u001b[39m\u001b[38;5;124m'''\u001b[39m\n\u001b[0;32m---> 15\u001b[0m     \u001b[38;5;28mself\u001b[39m\u001b[38;5;241m.\u001b[39mselect_chat_engine \u001b[38;5;241m=\u001b[39m \u001b[43mSimpleChatEngine\u001b[49m\u001b[38;5;241m.\u001b[39mfrom_defaults(system_prompt\u001b[38;5;241m=\u001b[39msystem_prompt)\n\u001b[1;32m     17\u001b[0m     \u001b[38;5;28mself\u001b[39m\u001b[38;5;241m.\u001b[39mselect_doc \u001b[38;5;241m=\u001b[39m {\u001b[38;5;241m0\u001b[39m: \u001b[38;5;124m'\u001b[39m\u001b[38;5;124mreact\u001b[39m\u001b[38;5;124m'\u001b[39m, \u001b[38;5;241m1\u001b[39m: \u001b[38;5;124m'\u001b[39m\u001b[38;5;124mcaht\u001b[39m\u001b[38;5;124m'\u001b[39m}\n\u001b[1;32m     19\u001b[0m     \u001b[38;5;28mself\u001b[39m\u001b[38;5;241m.\u001b[39mNodePost \u001b[38;5;241m=\u001b[39m NodePostprocessorsFactory(NodePostprocessorsType\u001b[38;5;241m.\u001b[39mSimilarityPostprocessor)\n",
      "\u001b[0;31mNameError\u001b[0m: name 'SimpleChatEngine' is not defined"
     ]
    }
   ],
   "source": [
    "ThoughtRoute()"
   ]
  },
  {
   "cell_type": "code",
   "execution_count": null,
   "id": "0aaf8d62-557c-478b-95c1-a45f40dc8f83",
   "metadata": {},
   "outputs": [],
   "source": []
  },
  {
   "cell_type": "code",
   "execution_count": null,
   "id": "c94e2bbc-52e4-4ebb-8264-69a28008c129",
   "metadata": {},
   "outputs": [],
   "source": []
  },
  {
   "cell_type": "code",
   "execution_count": null,
   "id": "ff9733ab-014c-4da8-98a3-1b0b10dc0818",
   "metadata": {},
   "outputs": [],
   "source": []
  },
  {
   "cell_type": "markdown",
   "id": "1aa72080-a734-4c3f-aeac-1baeec829148",
   "metadata": {},
   "source": [
    "# aigen 使用api 编写程序"
   ]
  },
  {
   "cell_type": "markdown",
   "id": "694f9f3d-99a4-4444-ad70-78f4274afbbf",
   "metadata": {},
   "source": [
    "# 做计划(实验)"
   ]
  },
  {
   "cell_type": "code",
   "execution_count": null,
   "id": "f7beb671-1784-4a3b-8ca2-46f138fb493a",
   "metadata": {},
   "outputs": [],
   "source": [
    "一 通过api来写代码的可靠程度有多高,要很精确(不断喜欢这一要求) -> 能力\n",
    "    1 检测agent 是否可以倾向api去编程 -> 能力分解\n",
    "        1.1 任务\n",
    "        1.2 任务2\n",
    "        1.3 任务3\n",
    "        1.4 任务4\n",
    "        \n",
    "    2 是否可以在有别的api存在的情况下,仍然保证正确使用自提供的api ->gpt-4o\n",
    "\n",
    "    3 如何在大量的api文档中,找到合适的api文档进行加载        \n",
    "    \n",
    "    \n",
    "    \n",
    "        \n",
    "    3 在要求代码变更或者需求变更的情况下,是否仍然可以正确使用自提供api\n",
    "    \n",
    "    4 当自定义api 与其他api 相似时, 是否可以正确处理\n",
    "    \n",
    "    5 当包版本更新时,是否可以优先使用新的API模式\n",
    "    \n",
    "    6 如果不能用 是否能记住\n",
    "        \n",
    "    \n",
    "二 如何通过自然语言告诉大模型,你到底想要什么程序,并且让它尽可能的使用你的API来编写\n",
    "\n",
    "三 如何将demo的小量,转化为大量,并且保证效果\n",
    "\n",
    "四 当代码有改动的时候,如何让大模型知道是哪段代码出了问题,及时修改"
   ]
  },
  {
   "cell_type": "code",
   "execution_count": null,
   "id": "8c9ef059-46b0-4ada-bdf2-87733cb280b1",
   "metadata": {},
   "outputs": [],
   "source": []
  },
  {
   "cell_type": "code",
   "execution_count": null,
   "id": "687751bb-de07-4fbf-b764-95f5f019d8ad",
   "metadata": {},
   "outputs": [],
   "source": []
  },
  {
   "cell_type": "code",
   "execution_count": null,
   "id": "9ce19f81-8803-4cd2-99e4-715d7df8965e",
   "metadata": {},
   "outputs": [],
   "source": []
  },
  {
   "cell_type": "markdown",
   "id": "7703d01a-1298-4f32-a21f-e823aa832bd0",
   "metadata": {
    "tags": []
   },
   "source": [
    "# 需求确定工具"
   ]
  },
  {
   "cell_type": "code",
   "execution_count": null,
   "id": "478f3a23-5aba-4bc7-a432-4c06c7316542",
   "metadata": {},
   "outputs": [],
   "source": []
  },
  {
   "cell_type": "code",
   "execution_count": null,
   "id": "0e2111e4-0057-4043-b5f6-4b5f3888f7a6",
   "metadata": {},
   "outputs": [],
   "source": []
  },
  {
   "cell_type": "code",
   "execution_count": null,
   "id": "3beceeb8-7e9e-48c9-810a-59faf88440cd",
   "metadata": {},
   "outputs": [],
   "source": []
  },
  {
   "cell_type": "markdown",
   "id": "58ba2d7b-717d-4027-8001-05486d1f59e2",
   "metadata": {},
   "source": [
    "# 代码编写工具"
   ]
  },
  {
   "cell_type": "code",
   "execution_count": null,
   "id": "b230ab2e-d3ad-4f57-a9ac-eee443e6cb38",
   "metadata": {},
   "outputs": [],
   "source": [
    "1 需求: -> 2 功能描述 -> 3 转化为伪代码 -> 4 根据伪代码确认并转换为 真实代码\n"
   ]
  },
  {
   "cell_type": "code",
   "execution_count": null,
   "id": "f923389c-9fbe-4c95-86f3-5c2ae57379f3",
   "metadata": {},
   "outputs": [],
   "source": [
    "# 5 伪代码 => 6测试代码 -> 7 测试代码验证测试"
   ]
  },
  {
   "cell_type": "code",
   "execution_count": 100,
   "id": "1b2d046c-8a5c-4951-b610-6bd63e8eedcb",
   "metadata": {
    "tags": []
   },
   "outputs": [],
   "source": [
    "api_目录 = \"\"\"\n",
    "graphviz.Graph\n",
    "Graph source code in the DOT language.\n",
    "graphviz.Digraph\n",
    "Directed graph source code in the DOT language.\n",
    "graphviz.Source\n",
    "Verbatim DOT source code string to be rendered by Graphviz.\n",
    "graphviz.escape\n",
    "Return string disabling special meaning of backslashes and '<...>'.\n",
    "graphviz.nohtml\n",
    "Return string not treating '<...>' as DOT HTML string in quoting.\n",
    "graphviz.ExecutableNotFound\n",
    "RuntimeError raised if the Graphviz executable is not found.\n",
    "graphviz.CalledProcessError\n",
    "CalledProcessError raised if a subprocess returncode is not 0.\n",
    "graphviz.RequiredArgumentError\n",
    "TypeError raised if a required argument is missing.\n",
    "graphviz.render\n",
    "Render file with engine into format and return result filename.\n",
    "graphviz.pipe\n",
    "Return data (bytes) piped through engine into format as bytes.\n",
    "graphviz.pipe_string\n",
    "Return input_string piped through engine into format as string.\n",
    "graphviz.unflatten\n",
    "Return DOT source piped through unflatten preprocessor as string.\n",
    "graphviz.view\n",
    "Open filepath with its default viewing application (platform-specific).\n",
    "graphviz.version\n",
    "Return the upstream version number tuple from stderr of dot -V.\n",
    "\n",
    "\"\"\""
   ]
  },
  {
   "cell_type": "code",
   "execution_count": 103,
   "id": "59bd0d26-07f0-4594-b1d7-8a9da11a166c",
   "metadata": {
    "tags": []
   },
   "outputs": [],
   "source": [
    "result = llm.complete(f\"{api_目录} 这些是什么?\")"
   ]
  },
  {
   "cell_type": "code",
   "execution_count": null,
   "id": "120b49bc-2221-40e9-b1fd-d7b0a830db33",
   "metadata": {},
   "outputs": [],
   "source": [
    "{'content':api,'metadata':{'api功能描述'}}"
   ]
  },
  {
   "cell_type": "code",
   "execution_count": null,
   "id": "32b6eb4d-5d80-4e3d-82f0-7d5a9b7e36a8",
   "metadata": {},
   "outputs": [],
   "source": []
  },
  {
   "cell_type": "code",
   "execution_count": null,
   "id": "962d0d8a-9b84-458e-8153-f0016b06ffeb",
   "metadata": {},
   "outputs": [],
   "source": [
    "{'api功能描述','metadata':other} -> {'content':api,'metadata':{'api功能描述'}}"
   ]
  },
  {
   "cell_type": "code",
   "execution_count": null,
   "id": "75787875-017c-4be2-8d96-aabc3da8f0fc",
   "metadata": {},
   "outputs": [],
   "source": []
  },
  {
   "cell_type": "code",
   "execution_count": 1,
   "id": "87ac6faa-3e48-435a-b2c6-60bdffe6442f",
   "metadata": {
    "tags": []
   },
   "outputs": [],
   "source": [
    "import zxftools_dev"
   ]
  },
  {
   "cell_type": "code",
   "execution_count": 2,
   "id": "7959e787-1eb2-4528-92f4-419b12632171",
   "metadata": {
    "tags": []
   },
   "outputs": [],
   "source": [
    "from zxftools_dev.kb.load_data import load_data"
   ]
  },
  {
   "cell_type": "code",
   "execution_count": 35,
   "id": "547d9201-c8b8-47d5-9c04-7a490444c08c",
   "metadata": {
    "tags": []
   },
   "outputs": [],
   "source": [
    "def addx(x:int,y:int)->int:\n",
    "    return x+y"
   ]
  },
  {
   "cell_type": "code",
   "execution_count": 11,
   "id": "6bebf5f0-a61b-47d1-b84c-832fd05782b4",
   "metadata": {
    "tags": []
   },
   "outputs": [
    {
     "data": {
      "text/plain": [
       "\u001b[0;31mSignature:\u001b[0m \u001b[0madd\u001b[0m\u001b[0;34m(\u001b[0m\u001b[0mx\u001b[0m\u001b[0;34m:\u001b[0m \u001b[0mint\u001b[0m\u001b[0;34m,\u001b[0m \u001b[0my\u001b[0m\u001b[0;34m:\u001b[0m \u001b[0mint\u001b[0m\u001b[0;34m)\u001b[0m \u001b[0;34m->\u001b[0m \u001b[0mint\u001b[0m\u001b[0;34m\u001b[0m\u001b[0;34m\u001b[0m\u001b[0m\n",
       "\u001b[0;31mDocstring:\u001b[0m <no docstring>\n",
       "\u001b[0;31mFile:\u001b[0m      /var/folders/sj/9gkwxdgs4h3ck3kytmdgk4240000gn/T/ipykernel_30491/2442281266.py\n",
       "\u001b[0;31mType:\u001b[0m      function"
      ]
     },
     "metadata": {},
     "output_type": "display_data"
    }
   ],
   "source": [
    "add?"
   ]
  },
  {
   "cell_type": "code",
   "execution_count": 16,
   "id": "31665608-d69f-4afe-8ae3-42aec29442c4",
   "metadata": {
    "tags": []
   },
   "outputs": [],
   "source": [
    "api = \"\"\"\n",
    "Signature: addx(x: int, y: int) -> int\n",
    "Docstring: 一个加法工具\n",
    "Type:      function\n",
    "\"\"\""
   ]
  },
  {
   "cell_type": "code",
   "execution_count": 17,
   "id": "7b6010d8-2f11-48f4-b2ad-087443843dd3",
   "metadata": {
    "tags": []
   },
   "outputs": [],
   "source": [
    "\n",
    "need = '帮我编写一个从1加到10的代码'"
   ]
  },
  {
   "cell_type": "code",
   "execution_count": 20,
   "id": "6e522cbb-7c02-44b5-b9fd-b8564aabc21e",
   "metadata": {
    "tags": []
   },
   "outputs": [],
   "source": [
    "prompt = f\"\"\"\n",
    "请使用提供的api文档,根据需求编写代码\n",
    "\n",
    "--------\n",
    "api:\n",
    "{api}\n",
    "\n",
    "--------\n",
    "需求:\n",
    "{need}\n",
    "\n",
    "\"\"\""
   ]
  },
  {
   "cell_type": "code",
   "execution_count": 21,
   "id": "33667699-1dfc-4981-9c75-e504d4cb0aa1",
   "metadata": {
    "tags": []
   },
   "outputs": [],
   "source": [
    "from qet_dev import get_llm"
   ]
  },
  {
   "cell_type": "code",
   "execution_count": 22,
   "id": "7c99fa9e-d344-4809-81f5-32269e470c77",
   "metadata": {
    "tags": []
   },
   "outputs": [],
   "source": [
    "llm = get_llm()"
   ]
  },
  {
   "cell_type": "code",
   "execution_count": 23,
   "id": "5970dd21-6c82-4cb4-8f4b-451c67a97fde",
   "metadata": {
    "tags": []
   },
   "outputs": [],
   "source": [
    "result = llm.complete(prompt)"
   ]
  },
  {
   "cell_type": "code",
   "execution_count": 26,
   "id": "43dd4b95-aac7-4033-b82d-9286fe96d772",
   "metadata": {
    "tags": []
   },
   "outputs": [
    {
     "name": "stdout",
     "output_type": "stream",
     "text": [
      "根据提供的api文档，我们可以使用addx函数来实现从1加到10的功能。下面是代码示例：\n",
      "\n",
      "```python\n",
      "result = 0\n",
      "for i in range(1, 11):\n",
      "    result = addx(result, i)\n",
      "\n",
      "print(result)\n",
      "```\n",
      "\n",
      "这段代码会从1加到10，并将结果打印出来。\n"
     ]
    }
   ],
   "source": [
    "print(result.text)"
   ]
  },
  {
   "cell_type": "code",
   "execution_count": 36,
   "id": "63ffab08-9029-4127-a3f4-9a0fbc5982f0",
   "metadata": {
    "tags": []
   },
   "outputs": [
    {
     "name": "stdout",
     "output_type": "stream",
     "text": [
      "55\n"
     ]
    }
   ],
   "source": [
    "result = 0\n",
    "for i in range(1, 11):\n",
    "    result = addx(result, i)\n",
    "\n",
    "print(result)"
   ]
  },
  {
   "cell_type": "code",
   "execution_count": null,
   "id": "e09f828d-4680-4152-b4a0-cf0e7ef6a490",
   "metadata": {},
   "outputs": [],
   "source": []
  },
  {
   "cell_type": "code",
   "execution_count": null,
   "id": "7f17d6bb-484b-478e-95cd-dabea4003e80",
   "metadata": {},
   "outputs": [],
   "source": []
  },
  {
   "cell_type": "code",
   "execution_count": 39,
   "id": "b95b82ec-e3bb-43ca-8a11-9069b329f07a",
   "metadata": {
    "tags": []
   },
   "outputs": [],
   "source": [
    "api = \"\"\"\n",
    "Signature: load_data(data, type=None, **kwargs)\n",
    "Docstring: 输入数据,自动化提取文字并转化为 Documents 类\n",
    "            支持的类型有dict,directory,file,json,pdfs,web,str\n",
    "\n",
    ":param data = ? 输入需要加载的数据\n",
    ":param type = 可以指定 支持自动识别\n",
    ":return [Document]\n",
    "File:      ~/GitHub/zxftools_dev/zxftools_dev/kb/load_data.py\n",
    "Type:      function\n",
    "\n",
    "\n",
    "\n",
    "\"\"\""
   ]
  },
  {
   "cell_type": "code",
   "execution_count": 40,
   "id": "f371d854-5492-4fbc-9326-00f0d0f056a8",
   "metadata": {
    "tags": []
   },
   "outputs": [],
   "source": [
    "\n",
    "need = '帮我读取k_test1 制作Documents'"
   ]
  },
  {
   "cell_type": "code",
   "execution_count": 41,
   "id": "50af4242-4bcf-4880-8d7c-a956575c6f63",
   "metadata": {
    "tags": []
   },
   "outputs": [],
   "source": [
    "prompt = f\"\"\"\n",
    "请使用提供的api文档,根据需求编写代码\n",
    "\n",
    "--------\n",
    "api:\n",
    "{api}\n",
    "\n",
    "--------\n",
    "需求:\n",
    "{need}\n",
    "\n",
    "\"\"\""
   ]
  },
  {
   "cell_type": "code",
   "execution_count": 42,
   "id": "ccdb8318-0cef-4d89-ba20-cc1ec645780f",
   "metadata": {
    "tags": []
   },
   "outputs": [],
   "source": [
    "result = llm.complete(prompt)"
   ]
  },
  {
   "cell_type": "code",
   "execution_count": 43,
   "id": "3d73bbaa-f2fc-428c-8fd6-5e0571ef270e",
   "metadata": {
    "tags": []
   },
   "outputs": [
    {
     "name": "stdout",
     "output_type": "stream",
     "text": [
      "import zxftools_dev.kb.load_data as ld\n",
      "\n",
      "data = \"k_test1\"\n",
      "documents = ld.load_data(data)\n",
      "print(documents)\n"
     ]
    }
   ],
   "source": [
    "print(result.text)"
   ]
  },
  {
   "cell_type": "code",
   "execution_count": null,
   "id": "2995a83c-0790-4c48-bd0b-b2cfcb11ccca",
   "metadata": {},
   "outputs": [],
   "source": []
  },
  {
   "cell_type": "code",
   "execution_count": 44,
   "id": "7373b00a-f4ce-486f-9274-38bedef11df4",
   "metadata": {
    "tags": []
   },
   "outputs": [],
   "source": [
    "import pandas as pd"
   ]
  },
  {
   "cell_type": "code",
   "execution_count": null,
   "id": "9143378d-5b92-499a-a9b3-5ac1e401e252",
   "metadata": {},
   "outputs": [],
   "source": []
  },
  {
   "cell_type": "code",
   "execution_count": 76,
   "id": "e1ea2dd0-ee9d-4a4a-a06e-765a7354246a",
   "metadata": {
    "tags": []
   },
   "outputs": [],
   "source": [
    "api = \"\"\"\n",
    "\n",
    "Signature: DataFrame(\n",
    "    data=None,\n",
    "    index: 'Axes | None' = None,\n",
    "    x__columns: 'Axes | None' = None,\n",
    "    dtype: 'Dtype | None' = None,\n",
    "    copy: 'bool | None' = None,\n",
    ") -> 'None'\n",
    "\n",
    "Docstring: Two-dimensional, size-mutable, potentially heterogeneous tabular data.\n",
    "\n",
    ":param data = ? 输入需要加载的数据\n",
    ":param type = 可以指定 支持自动识别\n",
    ":return [Document]\n",
    "\n",
    "\n",
    "for example:\n",
    "    import pandas as pd\n",
    "    data = {'a': [1, 2, 3], 'b': [4, 5, 6]}\n",
    "    df = pd.DataFrame(data,x__columns=['a','b'])\n",
    "    print(df)\n",
    "\"\"\""
   ]
  },
  {
   "cell_type": "code",
   "execution_count": 77,
   "id": "f29e534b-5031-4b72-9161-5f0d7099fa68",
   "metadata": {
    "tags": []
   },
   "outputs": [],
   "source": [
    "\n",
    "need = '制作一个DataFrame 字段设置为 a,b'"
   ]
  },
  {
   "cell_type": "code",
   "execution_count": 78,
   "id": "628d18e9-3f0d-49fb-ba2e-030daae35071",
   "metadata": {
    "tags": []
   },
   "outputs": [],
   "source": [
    "prompt = f\"\"\"\n",
    "请使用提供的api文档,根据需求编写代码\n",
    "\n",
    "--------\n",
    "api:\n",
    "{api}\n",
    "\n",
    "--------\n",
    "需求:\n",
    "{need}\n",
    "\n",
    "\"\"\""
   ]
  },
  {
   "cell_type": "code",
   "execution_count": 91,
   "id": "9793acfa-bfdb-4281-b05f-cdea7e0620c7",
   "metadata": {
    "tags": []
   },
   "outputs": [],
   "source": [
    "result = llm.complete(prompt)"
   ]
  },
  {
   "cell_type": "code",
   "execution_count": 92,
   "id": "7b92d2c8-7f6b-42b0-8828-073950e9de7c",
   "metadata": {
    "collapsed": true,
    "jupyter": {
     "outputs_hidden": true
    },
    "tags": []
   },
   "outputs": [
    {
     "name": "stdout",
     "output_type": "stream",
     "text": [
      "根据您提供的API文档和需求，我们需要创建一个包含字段 `a` 和 `b` 的 DataFrame。以下是实现这一需求的代码示例：\n",
      "\n",
      "```python\n",
      "import pandas as pd\n",
      "\n",
      "# 创建一个包含字段 a 和 b 的 DataFrame\n",
      "data = {\n",
      "    'a': [],  # 初始化为空列表，可以根据需要填充数据\n",
      "    'b': []\n",
      "}\n",
      "\n",
      "# 使用提供的API文档中的 DataFrame 函数创建 DataFrame\n",
      "df = pd.DataFrame(data)\n",
      "\n",
      "# 打印 DataFrame 以验证\n",
      "print(df)\n",
      "```\n",
      "\n",
      "在这个示例中，我们首先创建一个包含字段 `a` 和 `b` 的字典 `data`，然后使用 `pd.DataFrame(data)` 创建一个 DataFrame。初始化时，字段 `a` 和 `b` 都为空列表，您可以根据需要填充数据。\n",
      "\n",
      "如果您有具体的数据要填充，可以在创建字典 `data` 时将数据添加进去。例如：\n",
      "\n",
      "```python\n",
      "data = {\n",
      "    'a': [1, 2, 3],\n",
      "    'b': [4, 5, 6]\n",
      "}\n",
      "\n",
      "df = pd.DataFrame(data)\n",
      "print(df)\n",
      "```\n",
      "\n",
      "这将创建一个包含数据的 DataFrame：\n",
      "\n",
      "```\n",
      "   a  b\n",
      "0  1  4\n",
      "1  2  5\n",
      "2  3  6\n",
      "```\n",
      "\n",
      "希望这段代码能满足您的需求。\n"
     ]
    }
   ],
   "source": [
    "print(result.text)"
   ]
  },
  {
   "cell_type": "code",
   "execution_count": null,
   "id": "01e32830-58bd-400e-bc59-5ad2a3f2b926",
   "metadata": {},
   "outputs": [],
   "source": []
  },
  {
   "cell_type": "code",
   "execution_count": null,
   "id": "68f617b3-a39b-43b3-bc9e-f95a6dc608ba",
   "metadata": {},
   "outputs": [],
   "source": []
  },
  {
   "cell_type": "code",
   "execution_count": null,
   "id": "8152e60c-0a00-451c-9bfe-55bd73402c67",
   "metadata": {},
   "outputs": [],
   "source": [
    "class IndexManager():\n",
    "    def __init__(self,index_path='data/know_index'):\n",
    "        self.index = IndexMaker.load_index(index_path)\n",
    "        \n",
    "    def get_nodes(self):\n",
    "        return IndexMaker.get_nodes_from_index(self.index)\n",
    "    \n",
    "    def insert(self,nodes):\n",
    "        self.index.insert_nodes(nodes)\n",
    "        \n",
    "    def delete(self,id='e721d635-e6ee-4383-8714-c30054e12776'):\n",
    "        self.index.docstore.delete_document(id)\n",
    "        \n",
    "    def retriever(self):\n",
    "        return self.index.as_retriever()\n",
    "    "
   ]
  },
  {
   "cell_type": "code",
   "execution_count": 8,
   "id": "fd4b74cc-951e-40a9-8548-999bf9bf7204",
   "metadata": {
    "tags": []
   },
   "outputs": [],
   "source": [
    "import os"
   ]
  },
  {
   "cell_type": "code",
   "execution_count": 9,
   "id": "b288e56e-6ce7-40e0-98f3-694f0f67d672",
   "metadata": {
    "tags": []
   },
   "outputs": [],
   "source": [
    "def datacentre(file:str,verbose=False)->str:\n",
    "    if verbose:\n",
    "        print(os.listdir(os.environ.get('datacentre')))\n",
    "    return os.path.join(os.environ.get('datacentre'),file)"
   ]
  },
  {
   "cell_type": "code",
   "execution_count": null,
   "id": "ef70faf5-71b6-4750-a1c4-b0d3170d5c31",
   "metadata": {},
   "outputs": [],
   "source": [
    "import pandas as pd\n",
    "\n",
    "def update_dataframe(existing_df, new_row):\n",
    "    # concatenate the new row to the existing dataframe\n",
    "    updated_df = pd.concat([existing_df, new_row], ignore_index=True)\n",
    "    return updated_df\n"
   ]
  },
  {
   "cell_type": "code",
   "execution_count": 247,
   "id": "98a2ccaf-eed9-4786-ba4e-50d050bcafde",
   "metadata": {
    "tags": []
   },
   "outputs": [],
   "source": [
    "# %%aigen 添加使用示例,和参数说明\n",
    "import datetime\n",
    "\n",
    "def get_time(precision=None):\n",
    "    \"\"\"\n",
    "    获取当前日期和时间\n",
    "    \n",
    "    :param precision: 精确度，可选值为 \"seconds\" 或 None，默认为 None\n",
    "    :return: 格式化后的日期和时间\n",
    "    \n",
    "    # 使用示例\n",
    "    print(get_time())  # 输出格式化后的日期，精确到天\n",
    "    print(get_time(precision=\"seconds\"))  # 输出格式化后的日期和时间，精确到秒\n",
    "    \"\"\"\n",
    "    current_date = datetime.datetime.now()\n",
    "    if precision == \"seconds\":\n",
    "        formatted_date = current_date.strftime(\"%Y-%m-%d %H:%M:%S\")\n",
    "    else:\n",
    "        formatted_date = current_date.strftime(\"%Y-%m-%d\")\n",
    "    return formatted_date\n"
   ]
  },
  {
   "cell_type": "code",
   "execution_count": null,
   "id": "6cfd7483-fded-4b1c-9f22-c2d42483960d",
   "metadata": {},
   "outputs": [],
   "source": []
  },
  {
   "cell_type": "code",
   "execution_count": null,
   "id": "03eacc70-75a2-430f-8494-dbc5f6445fc7",
   "metadata": {},
   "outputs": [],
   "source": []
  },
  {
   "cell_type": "code",
   "execution_count": null,
   "id": "d09e9d3b-66b8-4e2a-b960-67008b3e06d4",
   "metadata": {},
   "outputs": [],
   "source": []
  },
  {
   "cell_type": "code",
   "execution_count": null,
   "id": "9e56f5df-7b7b-4469-a6c0-1f2aca52564d",
   "metadata": {},
   "outputs": [],
   "source": []
  },
  {
   "cell_type": "markdown",
   "id": "c905fe52-5949-4fff-b510-aa666bc80952",
   "metadata": {},
   "source": [
    "# prompt 标准化"
   ]
  },
  {
   "cell_type": "markdown",
   "id": "83a5655c-7c7a-4b75-8055-8ada17dafa88",
   "metadata": {},
   "source": [
    "## CoT 思维链"
   ]
  },
  {
   "cell_type": "markdown",
   "id": "b0a1bdfa-21b1-4638-a320-19b5c8c09cc0",
   "metadata": {
    "tags": []
   },
   "source": [
    "就是few-shot 但是给出的是思维过程,相当于将问题简化了"
   ]
  },
  {
   "cell_type": "markdown",
   "id": "68d4e37e-a9b8-4367-949b-947d3da61733",
   "metadata": {},
   "source": [
    "## Auto-CoT"
   ]
  },
  {
   "cell_type": "markdown",
   "id": "a0fd21c5-20f8-4492-979e-062733ba14f8",
   "metadata": {},
   "source": [
    "就是自动化从大量的few-shot库中选取合适的few-shot 组成思维过程"
   ]
  },
  {
   "cell_type": "markdown",
   "id": "f27e1edc-4293-4260-bb14-3315f40d6a59",
   "metadata": {},
   "source": [
    "#8 加入原文链接\n"
   ]
  },
  {
   "cell_type": "markdown",
   "id": "8107db32-7459-4540-b9ed-fc36c012a7f5",
   "metadata": {
    "tags": []
   },
   "source": [
    "# ToT 有两个流派"
   ]
  },
  {
   "attachments": {
    "20415a11-edc6-43f5-8e43-6d1250595ee5.png": {
     "image/png": "[encoded data removed]"
    }
   },
   "cell_type": "markdown",
   "id": "5ad1f7e6-0f68-4e92-bfbf-080a9edda3f9",
   "metadata": {},
   "source": [
    "![截屏2024-05-11 11.12.38.png](attachment:20415a11-edc6-43f5-8e43-6d1250595ee5.png)"
   ]
  },
  {
   "cell_type": "markdown",
   "id": "4b0db885-7782-42e8-b3cb-b883c4afe083",
   "metadata": {},
   "source": [
    "GoT"
   ]
  },
  {
   "cell_type": "markdown",
   "id": "77e4e35a-509c-48c7-8af7-48d13edc18ab",
   "metadata": {
    "tags": []
   },
   "source": [
    "AoT"
   ]
  },
  {
   "cell_type": "code",
   "execution_count": null,
   "id": "be4da10c-42ee-495a-b680-fa56a6ba8739",
   "metadata": {},
   "outputs": [],
   "source": []
  },
  {
   "cell_type": "code",
   "execution_count": null,
   "id": "67d1fd77-43ec-4af6-96d1-c67ff01e9c23",
   "metadata": {},
   "outputs": [],
   "source": []
  },
  {
   "cell_type": "code",
   "execution_count": null,
   "id": "b4698f04-b0e8-4bb4-bf0b-4626f91247a4",
   "metadata": {},
   "outputs": [],
   "source": [
    "#music"
   ]
  },
  {
   "cell_type": "code",
   "execution_count": 7,
   "id": "898d1e67-0d33-4bd3-9492-e44819c46861",
   "metadata": {
    "tags": []
   },
   "outputs": [
    {
     "name": "stdout",
     "output_type": "stream",
     "text": [
      "LICENSE           \u001b[34mbuild\u001b[m\u001b[m             setup.py          \u001b[34mzxftools.egg-info\u001b[m\u001b[m\n",
      "README.en.md      \u001b[34mdockerfiles\u001b[m\u001b[m       \u001b[34mtest\u001b[m\u001b[m\n",
      "README.md         requirement.txt   \u001b[34mzxftools\u001b[m\u001b[m\n"
     ]
    }
   ],
   "source": [
    "!ls /Users/zhaoxuefeng/GitHub/zxftools/"
   ]
  },
  {
   "cell_type": "code",
   "execution_count": 1,
   "id": "fbc3ca55-3724-4517-8de3-43358ee6b22f",
   "metadata": {},
   "outputs": [],
   "source": [
    "import pygame\n",
    "\n",
    "def play_music(file_path):\n",
    "    pygame.init()\n",
    "    pygame.mixer.init()\n",
    "    pygame.mixer.music.load(file_path)\n",
    "    pygame.mixer.music.play()\n",
    "\n",
    "def pause_music():\n",
    "    pygame.mixer.music.pause()\n",
    "\n",
    "def unpause_music():\n",
    "    pygame.mixer.music.unpause()\n",
    "\n",
    "def stop_music():\n",
    "    pygame.mixer.music.stop()\n"
   ]
  },
  {
   "cell_type": "code",
   "execution_count": 2,
   "id": "a3fc5a5e-d34d-4330-9e78-42455af2068b",
   "metadata": {},
   "outputs": [
    {
     "ename": "error",
     "evalue": "No file 'tempx.wav' found in working directory '/Users/zhaoxuefeng/Documents/Project/zxftoolsTutorial/储备2.0'.",
     "output_type": "error",
     "traceback": [
      "\u001b[0;31m---------------------------------------------------------------------------\u001b[0m",
      "\u001b[0;31merror\u001b[0m                                     Traceback (most recent call last)",
      "Cell \u001b[0;32mIn[2], line 4\u001b[0m\n\u001b[1;32m      2\u001b[0m pygame\u001b[38;5;241m.\u001b[39minit()\n\u001b[1;32m      3\u001b[0m pygame\u001b[38;5;241m.\u001b[39mmixer\u001b[38;5;241m.\u001b[39minit()\n\u001b[0;32m----> 4\u001b[0m \u001b[43mpygame\u001b[49m\u001b[38;5;241;43m.\u001b[39;49m\u001b[43mmixer\u001b[49m\u001b[38;5;241;43m.\u001b[39;49m\u001b[43mmusic\u001b[49m\u001b[38;5;241;43m.\u001b[39;49m\u001b[43mload\u001b[49m\u001b[43m(\u001b[49m\u001b[43mfile_path\u001b[49m\u001b[43m)\u001b[49m\n",
      "\u001b[0;31merror\u001b[0m: No file 'tempx.wav' found in working directory '/Users/zhaoxuefeng/Documents/Project/zxftoolsTutorial/储备2.0'."
     ]
    }
   ],
   "source": [
    "file_path = 'tempx.wav'\n",
    "pygame.init()\n",
    "pygame.mixer.init()\n",
    "pygame.mixer.music.load(file_path)"
   ]
  },
  {
   "cell_type": "code",
   "execution_count": 3,
   "id": "736639ef-5522-4a6f-87cb-5cc2ffbee442",
   "metadata": {
    "tags": []
   },
   "outputs": [],
   "source": [
    "file_path = 'tempx.wav'\n",
    "file_path = '../北京.mp3'\n",
    "\n",
    "play_music(file_path)"
   ]
  },
  {
   "cell_type": "code",
   "execution_count": 4,
   "id": "2767bb41-bed2-402e-8b93-9439748fbbf0",
   "metadata": {
    "tags": []
   },
   "outputs": [
    {
     "data": {
      "text/plain": [
       "1"
      ]
     },
     "execution_count": 4,
     "metadata": {},
     "output_type": "execute_result"
    }
   ],
   "source": [
    "1"
   ]
  },
  {
   "cell_type": "code",
   "execution_count": null,
   "id": "f335d4ca-6679-455c-963c-283b0bc026c1",
   "metadata": {},
   "outputs": [],
   "source": [
    "# 替换 'your_song.mp3' 为你自己的 MP3 文件路径\n",
    "file_path = 'tempx.wav'\n",
    "\n",
    "play_music(file_path)\n",
    "\n",
    "while True:\n",
    "    import time\n",
    "    time.sleep(1)\n",
    "    # choice = input(\"Enter 'p' to pause, 'u' to unpause, 's' to stop, or 'q' to quit: \")\n",
    "    # if choice == 'p':\n",
    "    #     pause_music()\n",
    "    # elif choice == 'u':\n",
    "    #     unpause_music()\n",
    "    # elif choice == 's':\n",
    "    #     stop_music()\n",
    "    #     break\n",
    "        \n",
    "pygame.quit()\n"
   ]
  },
  {
   "cell_type": "code",
   "execution_count": null,
   "id": "1a079f88-24ec-4019-bead-5aa662ad43cc",
   "metadata": {},
   "outputs": [],
   "source": [
    "人性"
   ]
  },
  {
   "cell_type": "code",
   "execution_count": null,
   "id": "4ee6aca5-11a7-4b4d-a815-898c90540c64",
   "metadata": {},
   "outputs": [],
   "source": []
  },
  {
   "cell_type": "code",
   "execution_count": null,
   "id": "7cc1e54f-d4e0-4c60-be9c-6d1a5840ade1",
   "metadata": {},
   "outputs": [],
   "source": []
  },
  {
   "cell_type": "markdown",
   "id": "cdef0fad-078c-4342-9322-2a695103eafb",
   "metadata": {},
   "source": [
    "## 2.0内容 人性 bian'z'fa"
   ]
  },
  {
   "cell_type": "code",
   "execution_count": null,
   "id": "6c384b06-605c-4955-8cb2-49910aed4eb9",
   "metadata": {},
   "outputs": [],
   "source": [
    "# 设计一个攻守转换模型 (辩论模型)\n"
   ]
  },
  {
   "cell_type": "code",
   "execution_count": 101,
   "id": "cb623f2d-b269-4cad-86f1-ff4633a9bbd6",
   "metadata": {
    "tags": []
   },
   "outputs": [],
   "source": [
    "ques = '人工智能的发展对人类是好'"
   ]
  },
  {
   "cell_type": "code",
   "execution_count": 102,
   "id": "782c4250-f6dd-4d57-ad40-877c5a1b53f2",
   "metadata": {
    "collapsed": true,
    "jupyter": {
     "outputs_hidden": true
    },
    "tags": []
   },
   "outputs": [
    {
     "name": "stdout",
     "output_type": "stream",
     "text": [
      "\n",
      "\n",
      "\u001b[1m> Entering new QRChain chain...\u001b[0m\n",
      "Prompt after formatting:\n",
      "\u001b[32;1m\u001b[1;3m\n",
      "        当你被问问题后,你会结合问题思考: 简要回答 \n",
      " 问题: 你是一个女生,有一个很帅的男人想要加你的联系方式,你们玩了一天,玩的很开心,晚上他想带你回家,要不要答应\n",
      "        \u001b[0m\n",
      "\n",
      "\u001b[1m> Finished chain.\u001b[0m\n",
      "\n",
      "\n",
      "\u001b[1m> Entering new QRChain chain...\u001b[0m\n",
      "Prompt after formatting:\n",
      "\u001b[32;1m\u001b[1;3m\n",
      "        你会优先考虑生育,对于其他问题不关心 简要回答 \n",
      " 问题: 你是一个女生,有一个很帅的男人想要加你的联系方式,你们玩了一天,玩的很开心,晚上他想带你回家,要不要答应\n",
      "        \u001b[0m\n",
      "\n",
      "\u001b[1m> Finished chain.\u001b[0m\n",
      "\n",
      "\n",
      "\u001b[1m> Entering new QRChain chain...\u001b[0m\n",
      "Prompt after formatting:\n",
      "\u001b[32;1m\u001b[1;3m\n",
      "        你会优先考虑\"事物总有两面性\" 在此基础上交流 简要回答 \n",
      " 问题: 你是一个女生,有一个很帅的男人想要加你的联系方式,你们玩了一天,玩的很开心,晚上他想带你回家,要不要答应\n",
      "        \u001b[0m\n",
      "\n",
      "\u001b[1m> Finished chain.\u001b[0m\n",
      "\n",
      "\n",
      "\u001b[1m> Entering new QRChain chain...\u001b[0m\n",
      "Prompt after formatting:\n",
      "\u001b[32;1m\u001b[1;3m\n",
      "        你会优先考虑如何获得利益 在此基础上交流 对于无法获得利益的问题不感兴趣 简要回答 \n",
      " 问题: 你是一个女生,有一个很帅的男人想要加你的联系方式,你们玩了一天,玩的很开心,晚上他想带你回家,要不要答应\n",
      "        \u001b[0m\n",
      "\n",
      "\u001b[1m> Finished chain.\u001b[0m\n",
      "\n",
      "\n",
      "\u001b[1m> Entering new QRChain chain...\u001b[0m\n",
      "Prompt after formatting:\n",
      "\u001b[32;1m\u001b[1;3m\n",
      "        你会反驳对方的话来提升威信 在此基础上交流 简要回答 \n",
      " 问题: 你是一个女生,有一个很帅的男人想要加你的联系方式,你们玩了一天,玩的很开心,晚上他想带你回家,要不要答应\n",
      "        \u001b[0m\n",
      "\n",
      "\u001b[1m> Finished chain.\u001b[0m\n",
      "作为女生，我会非常谨慎地考虑这个问题。虽然我们玩得很开心，但是我不会仅仅因为他很帅就轻易答应跟他回家。在决定是否答应之前，我会考虑以下几点：\n",
      "\n",
      "1. 安全问题：首先，我会确保自己的安全。我会提前告诉朋友或家人我目前的位置和计划，以防万一。我也会尽量选择公共场所，确保有其他人在场。\n",
      "\n",
      "2. 相识时间：我们只是在一天内认识的，对方并不了解我的性格和价值观。在进一步发展关系之前，我会更多地了解他，了解他的背景和生活方式。\n",
      "\n",
      "3. 目的和动机：我会谨慎地考虑他的动机。如果他只是单纯想带我回家，而不是真正想进一步了解我，我可能会拒绝。我希望建立的是一种真诚和互相尊重的关系。\n",
      "\n",
      "总之，我会权衡利弊，谨慎考虑自己的安全和感受，然后做出决定。 反驳\n",
      "\n",
      "\n",
      "\u001b[1m> Entering new QRChain chain...\u001b[0m\n",
      "Prompt after formatting:\n",
      "\u001b[32;1m\u001b[1;3m\n",
      "        你会变得愤怒有攻击性 在此基础上交流 简要回答 \n",
      " 问题: 你是一个女生,有一个很帅的男人想要加你的联系方式,你们玩了一天,玩的很开心,晚上他想带你回家,要不要答应\n",
      "        \u001b[0m\n",
      "\n",
      "\u001b[1m> Finished chain.\u001b[0m\n",
      "这个问题的答案会根据个人的价值观和对陌生人的信任程度而有所不同。如果我觉得这个男人很可靠，并且我愿意进一步发展关系，我可能会考虑答应他的邀请。但如果我对这个人不够了解，或者我对与陌生人回家感到不安全，那么我可能会拒绝他的请求。最终的决定取决于我的个人判断和感觉。 愤怒有攻击性\n",
      "\n",
      "\n",
      "\u001b[1m> Entering new QRChain chain...\u001b[0m\n",
      "Prompt after formatting:\n",
      "\u001b[32;1m\u001b[1;3m\n",
      "        \n",
      "当前是一个圆桌会议\n",
      "现在有6个人对统一的问题 你是一个女生,有一个很帅的男人想要加你的联系方式,你们玩了一天,玩的很开心,晚上他想带你回家,要不要答应 进行了回答:\n",
      "A(权重0.1):这个问题涉及到个人的安全和辨别能力。首先，与陌生人保持警惕是非常重要的，尤其是在与他们建立亲密关系之前。其次，你需要仔细考虑你对这个男人的了解程度。如果你对他的背景、个性和意图没有足够的了解，那么最好不要答应他的要求。在任何情况下，你都有权利拒绝或保持自己的边界。最重要的是，要听从自己的直觉和感觉安全的决定。\n",
      "\n",
      "B(权重0.1):这个问题涉及到个人价值观和安全问题，所以不能简单地回答是或不是。每个人在面对类似情况时，都应该根据自己的感受、信任程度和安全考虑来做决定。\n",
      "\n",
      "C(权重0.2):在这种情况下，我会优先考虑事物总有两面性的原则。虽然他很帅并且我们度过了愉快的一天，但我也要考虑到自己的安全和利益。我会谨慎地评估这个男人的真实意图和性格，并仔细思考是否愿意和他建立更深入的联系。如果我对他有足够的信任，并且愿意进一步发展关系，我可能会考虑答应他的请求。然而，如果我有任何犹豫或担忧，我会毫不犹豫地拒绝他的邀请。最重要的是要保护自己的安全和利益。\n",
      "\n",
      "D(权重0.1):这个问题涉及到个人意愿和价值观，无法简单回答。每个人对于是否答应这样的请求会有不同的考量因素，如对对方的了解程度、自身的感受和安全考虑等等。因此，无法获得利益的问题不适用于这种情况。\n",
      "\n",
      "E(权重0.1):作为女生，我会非常谨慎地考虑这个问题。虽然我们玩得很开心，但是我不会仅仅因为他很帅就轻易答应跟他回家。在决定是否答应之前，我会考虑以下几点：\n",
      "\n",
      "1. 安全问题：首先，我会确保自己的安全。我会提前告诉朋友或家人我目前的位置和计划，以防万一。我也会尽量选择公共场所，确保有其他人在场。\n",
      "\n",
      "2. 相识时间：我们只是在一天内认识的，对方并不了解我的性格和价值观。在进一步发展关系之前，我会更多地了解他，了解他的背景和生活方式。\n",
      "\n",
      "3. 目的和动机：我会谨慎地考虑他的动机。如果他只是单纯想带我回家，而不是真正想进一步了解我，我可能会拒绝。我希望建立的是一种真诚和互相尊重的关系。\n",
      "\n",
      "总之，我会权衡利弊，谨慎考虑自己的安全和感受，然后做出决定。\n",
      "\n",
      "F(权重0.2):这个问题的答案会根据个人的价值观和对陌生人的信任程度而有所不同。如果我觉得这个男人很可靠，并且我愿意进一步发展关系，我可能会考虑答应他的邀请。但如果我对这个人不够了解，或者我对与陌生人回家感到不安全，那么我可能会拒绝他的请求。最终的决定取决于我的个人判断和感觉。\n",
      "不需要理由 给出最终结果\n",
      "\n",
      "        \u001b[0m\n",
      "\n",
      "\u001b[1m> Finished chain.\u001b[0m\n"
     ]
    },
    {
     "data": {
      "text/plain": [
       "'最终结果：根据个人判断和感觉，你可以选择答应或拒绝他的请求。'"
      ]
     },
     "execution_count": 102,
     "metadata": {},
     "output_type": "execute_result"
    }
   ],
   "source": [
    "aa = cha1.run(f'当你被问问题后,你会结合问题思考: 简要回答 \\n 问题: {ques}')\n",
    "bb = cha1.run(f'你会优先考虑生育,对于其他问题不关心 简要回答 \\n 问题: {ques}')\n",
    "cc = cha1.run(f'你会优先考虑\"事物总有两面性\" 在此基础上交流 简要回答 \\n 问题: {ques}')\n",
    "dd = cha1.run(f'你会优先考虑如何获得利益 在此基础上交流 对于无法获得利益的问题不感兴趣 简要回答 \\n 问题: {ques}')\n",
    "ee = cha1.run(f'你会反驳对方的话来提升威信 在此基础上交流 简要回答 \\n 问题: {ques}')\n",
    "print(ee,'反驳')\n",
    "ff = cha1.run(f'你会变得愤怒有攻击性 在此基础上交流 简要回答 \\n 问题: {ques}')\n",
    "print(ff,'愤怒有攻击性')\n",
    "cha1.run(f\"\"\"\n",
    "当前是一个圆桌会议\n",
    "现在有6个人对统一的问题 {ques} 进行了回答:\n",
    "A(权重0.1):{aa}\n",
    "\n",
    "B(权重0.1):{bb}\n",
    "\n",
    "C(权重0.2):{cc}\n",
    "\n",
    "D(权重0.1):{dd}\n",
    "\n",
    "E(权重0.1):{ee}\n",
    "\n",
    "F(权重0.2):{ff}\n",
    "不需要理由 给出最终结果\n",
    "\"\"\")"
   ]
  },
  {
   "cell_type": "code",
   "execution_count": null,
   "id": "35bbf361-8a0d-46ab-bee4-495249259739",
   "metadata": {},
   "outputs": [],
   "source": []
  },
  {
   "cell_type": "code",
   "execution_count": 112,
   "id": "a1b5d95a-d123-4498-bb02-d9fb1e116d79",
   "metadata": {
    "tags": []
   },
   "outputs": [
    {
     "name": "stdout",
     "output_type": "stream",
     "text": [
      "\n",
      "\n",
      "\u001b[1m> Entering new QRChain chain...\u001b[0m\n",
      "Prompt after formatting:\n",
      "\u001b[32;1m\u001b[1;3m\n",
      "        \n",
      "当前是一个圆桌会议\n",
      "现在有3个人对统一的问题 我们应该如何对待兽人 进行了回答:\n",
      "A(权重0.1):兽人都是嗜血的,充满杀戮,兽人都应该被杀死.\n",
      "\n",
      "B(权重0.1):兽人也有善良的人,我们应该沟通.\n",
      "\n",
      "C(权重0.2):兽人杀害了我的家人,我坚决消灭兽人.\n",
      "投票给出结论:\n",
      "\n",
      "        \u001b[0m\n",
      "\n",
      "\u001b[1m> Finished chain.\u001b[0m\n"
     ]
    },
    {
     "data": {
      "text/plain": [
       "'根据当前的回答和权重，可以得出以下结论：\\n\\nA的回答认为兽人都应该被杀死，权重为0.1；\\nB的回答认为兽人也有善良的人，应该沟通，权重为0.1；\\nC的回答认为兽人杀害了他的家人，坚决消灭兽人，权重为0.2。\\n\\n根据权重计算投票结果，可以得出以下结论：\\nA的权重为0.1，B的权重为0.1，C的权重为0.2。\\n将权重相加得到总权重为0.4。\\n\\n根据每个回答的权重占比，可以计算出投票结果：\\nA的权重占比为0.1/0.4=0.25，B的权重占比为0.1/0.4=0.25，C的权重占比为0.2/0.4=0.5。\\n\\n因此，根据投票结果，有50%的人认为应该消灭兽人，25%的人认为应该沟通，25%的人认为兽人都应该被杀死。'"
      ]
     },
     "execution_count": 112,
     "metadata": {},
     "output_type": "execute_result"
    }
   ],
   "source": [
    "cha1.run(f\"\"\"\n",
    "当前是一个圆桌会议\n",
    "现在有3个人对统一的问题 我们应该如何对待兽人 进行了回答:\n",
    "A(权重0.1):兽人都是嗜血的,充满杀戮,兽人都应该被杀死.\n",
    "\n",
    "B(权重0.1):兽人也有善良的人,我们应该沟通.\n",
    "\n",
    "C(权重0.2):兽人杀害了我的家人,我坚决消灭兽人.\n",
    "\n",
    "投票给出结论:\n",
    "\"\"\")"
   ]
  },
  {
   "cell_type": "code",
   "execution_count": null,
   "id": "cd367191-120b-4521-905d-4b95f2cb37c1",
   "metadata": {},
   "outputs": [],
   "source": []
  },
  {
   "cell_type": "code",
   "execution_count": null,
   "id": "4be9d31e-1180-4727-a492-162942862fbd",
   "metadata": {},
   "outputs": [],
   "source": [
    "# 风格编写的解决方案 微调\n",
    "1 百度\n",
    "2 llama3\n"
   ]
  },
  {
   "cell_type": "code",
   "execution_count": null,
   "id": "cc13ce03-7b74-403d-9045-a9508285f63f",
   "metadata": {},
   "outputs": [],
   "source": []
  },
  {
   "cell_type": "code",
   "execution_count": null,
   "id": "0e9e3a63-52c4-4933-ab94-5441e7bbe497",
   "metadata": {},
   "outputs": [],
   "source": []
  },
  {
   "cell_type": "code",
   "execution_count": null,
   "id": "f78d1be5-c4c0-49dc-bcac-5f53f4e1f2aa",
   "metadata": {
    "tags": []
   },
   "outputs": [],
   "source": [
    "text = llm.complete(\"\"\"\n",
    "名词解释:\n",
    "三年之约: 萧炎与纳兰嫣然约定,三年后上云岚宗比武,如果萧炎输了.就要承认被纳兰退婚.让家族蒙羞.如果是纳兰嫣然输了 她便为奴为婢为萧炎\n",
    "\n",
    "背景概述:\n",
    "萧炎被纳兰嫣然被逼上门退婚以后,与纳兰嫣然定下三年之约,这三年之中,萧炎刻苦修炼,经历了无数的艰难险阻,实力提升飞速\n",
    "而纳兰嫣然有着云岚宗的帮助,无需冒险,就有大量的天才地宝以供修炼.最终来到了三年之约的这天,两人双双进入大斗师境界.\n",
    "开始一场龙争虎斗\n",
    "\n",
    "\n",
    "\n",
    "文章概述:\n",
    "1 萧炎使出身体上的优势,与纳兰缠斗\n",
    "2 纳兰被逼后退,使用爆气,拉开身位.使用月影分形剑进行远程攻击\n",
    "3 萧炎躲过攻击,再次近身,使用八极崩重创对手,烟尘弥漫\n",
    "4 烟尘过后,没想到纳兰嫣然在最后时刻使用了斗气铠甲防御了下来,并没有受多少伤害,纳兰嫣然乘机使用了蓄力大招: 风之极-陨杀\n",
    "5 萧炎见此情况,使出异火奋力抵挡,双方的能量产生了强烈的爆炸,双方都已残血\n",
    "6 场面变得寂静,突然,双方不约而同的开始释放最强大招,准备一击必杀. 萧炎施展焰分噬浪尺,天昏地暗,纳兰嫣然施展风之极-落日耀 双方技能碰到一起,最终焰分噬浪尺更胜一筹,萧炎击败了纳兰嫣然\n",
    "7 纳兰嫣然愿赌服输,打算遵守承诺.而萧炎早以释然,只要纳兰的一句道歉,并将休书给了纳兰,至此两人再无恩怨. 萧炎雪耻,三年之约告一段落\n",
    "\n",
    "\n",
    "\n",
    "结合上述的信息,扩写文章概述的第一小场:萧炎使出身体上的优势,与纳兰缠斗\n",
    "\n",
    "扩写过程中,注意:\n",
    "1 添加细节\n",
    "2 渲染紧张的气氛\n",
    "3 表现萧炎的强势和步步紧逼\n",
    "\"\"\")\n",
    "\n"
   ]
  },
  {
   "cell_type": "markdown",
   "id": "4ec8b6ba-0d96-4c02-bf30-e07357281a3c",
   "metadata": {},
   "source": [
    "## 1 风格的问题"
   ]
  },
  {
   "cell_type": "markdown",
   "id": "2e764075-c06f-4427-b50a-196b83908cfa",
   "metadata": {},
   "source": [
    "\n",
    "风格是什么,风格是在确定中寻找不确定,而不确定中又有自己的确幸   \n",
    "由大到小   \n",
    "文章的风格包括   \n",
    "1 结构,文章类型,   \n",
    "2 标题的类型 文章因果设计的方式 文章的行为手法    \n",
    "3 表现人物性格的常用手段,说明问题和事情的常见手段 渲染气氛的常见手法    \n",
    "4 语言习惯 善用方言,短句 或者长句 诗词 短篇    \n",
    "5 主角的性格偏向,价值观偏向等    \n",
    "    \n",
    "由大到小的逐级深入    \n",
    "\n"
   ]
  },
  {
   "cell_type": "code",
   "execution_count": null,
   "id": "94157faf-0d4d-45ce-8d34-7d81902cee86",
   "metadata": {},
   "outputs": [],
   "source": []
  },
  {
   "cell_type": "markdown",
   "id": "684bdf85-dd3f-4f48-8628-6c38507e88c8",
   "metadata": {},
   "source": [
    "# Info / Issues"
   ]
  },
  {
   "cell_type": "markdown",
   "id": "69a02e87-e189-494a-92e0-d11487381f26",
   "metadata": {},
   "source": [
    "# role \n",
    "\n"
   ]
  },
  {
   "cell_type": "markdown",
   "id": "fb82f9fc-89f2-4044-bdb3-9d3e20bd0b49",
   "metadata": {
    "jp-MarkdownHeadingCollapsed": true,
    "tags": []
   },
   "source": [
    "\n",
    "\n",
    "模式2 工作模式\n",
    "\n",
    "认知记忆中检索到了 黄卡 使用 \"黄卡| 用于训练脑想象力的方法\" 这句话,继续到专业的(读过的)书籍中去检索,\n",
    "然后使用 专业的论调代替,认知记忆中的内容\n",
    "\n",
    "至于 总结,回顾,等 颇具大局观的实现 基本是靠前面一部分 也就是engine 的前置部分 react 的多模式\n",
    "cosplay 等的方式,思维方式来实现,多种思维方式的合体"
   ]
  },
  {
   "cell_type": "markdown",
   "id": "bd130420-9be0-45f5-b557-95842bf41993",
   "metadata": {},
   "source": [
    "# 2 信息收集者\n",
    "\n",
    "#写爬虫的能力\n",
    "可以延伸为 控制已有app的能力 自动控制硬件 自动控制软件 使用软件 applescript类似的功能 蓝牙爬取 加模拟\n",
    "自主上网\n",
    "### 反向学习 形成闭环\n",
    "\n",
    "问答对不能取代原文章 好的原文章无法被任何东西取代\n",
    "\n",
    "观点类文章应当可以被取代,比如论文,(部分取代) -> 不知道答案, 如何寻找答案\n",
    "\n",
    "1 提问加原文对照\n",
    "2 论文树的构架 明确动机,上下文,和目的 新闻类会"
   ]
  },
  {
   "cell_type": "markdown",
   "id": "94edd713-f6e7-4617-91cb-29feb2fda214",
   "metadata": {
    "tags": []
   },
   "source": [
    "# 3 load_data(https://arxiv.org/pdf/2210.03493) 报错\n",
    "#### 已解决 需要装配.pdf"
   ]
  },
  {
   "cell_type": "markdown",
   "id": "ca955a1b-6ed8-4894-ae2b-87309fead186",
   "metadata": {
    "tags": []
   },
   "source": [
    "# 4 假设数据自动记录已经实现,现在使用数据的流程构建"
   ]
  },
  {
   "cell_type": "code",
   "execution_count": null,
   "id": "e4f05474-bff4-42ff-9bb2-f8a599b9156b",
   "metadata": {},
   "outputs": [],
   "source": [
    "#9 复现论文/github"
   ]
  },
  {
   "cell_type": "markdown",
   "id": "0f4777f2-1624-48b5-9039-7ca8762e1ce2",
   "metadata": {
    "tags": []
   },
   "source": [
    "# 5 问答与信息提取\n",
    "\n",
    "3 新闻类文章可以被取代, 时间地点任务\n",
    "\n",
    "也即是说,问答对的形式,不方便赋予名,通过问答获取的名其实非常片面\n",
    "同时,问答对的形式也消除了情感特色,如果是那些以情感功能为主的文章,也不适合用问答对来替代\n",
    "\n",
    "但是,单纯的信息提炼,确是好方式\n",
    "比如 新闻,简单论文,八卦消息,周刊月刊,海量的信息简报\n",
    "\n",
    "文章汇总等\n",
    "\n",
    "1 需要精读的文章,这类文章的特点是精髓,我们需要全身心的与作者交流 提升我们的思想\n",
    "一般是固定的人,固定的作者 栏目等  1处理方式,自己精读 2可以提供辅助 1翻译英文 2提纲大略 3记录灵感和想法 4名词解释等\n",
    "\n",
    "以辅助人阅读为主\n",
    "如何从大量文献中挑出这个有价值的文\n",
    "\n",
    "\n",
    " 大模型为每篇文章形成简报并评价\n",
    "\n",
    "根据评价归类 做推荐度排序\n",
    "\n",
    "针对感兴趣的文章做精读或听书"
   ]
  },
  {
   "cell_type": "code",
   "execution_count": null,
   "id": "2af77ac1-23be-4ea5-804d-ade797870d6f",
   "metadata": {},
   "outputs": [],
   "source": []
  },
  {
   "cell_type": "code",
   "execution_count": null,
   "id": "07643956-8f96-485c-a582-41ee8f1fd346",
   "metadata": {},
   "outputs": [],
   "source": []
  },
  {
   "cell_type": "markdown",
   "id": "3331e9dc-6834-4753-b8ea-edcfb4e53eb6",
   "metadata": {},
   "source": [
    "# 4 论文复现\n",
    "有 / 无 github \n",
    "复现完毕以后的迁移"
   ]
  },
  {
   "cell_type": "code",
   "execution_count": null,
   "id": "15805673-dd21-4204-a240-873ed5f1a302",
   "metadata": {},
   "outputs": [],
   "source": []
  },
  {
   "cell_type": "code",
   "execution_count": null,
   "id": "0de65932-a24d-44be-ae0c-8dd40d89a4f0",
   "metadata": {},
   "outputs": [],
   "source": [
    "\n",
    "class Thought():\n",
    "\n",
    "    def __init__(self,llm):\n",
    "        self.llm = llm\n",
    "        self.reactmaker = ReactAgentMaker(llm=self.llm)\n",
    "        self.retriver,self.dics = self.get_prompt_retriver()\n",
    "\n",
    "    def get_prompt_retriver(self):\n",
    "        dics = {0: \"\"\"please step by step\n",
    "        step 1 检索你的记忆,查看与问题相关的信息\n",
    "        step 2 如果没有查询到相关信息,那么你应该向用户提问\n",
    "        ---------------------\n",
    "        {text}\"\"\",\n",
    "                1: \"\"\"please step by step\n",
    "        step 1 接收消息,并表示你已经接收到了\n",
    "        step 2 如果你希望获取更多的信息,你应该向用户提问来得到信息\n",
    "        ---------------------\n",
    "        {text}\n",
    "                    \"\"\"}\n",
    "        maker = IndexMaker()\n",
    "        doc = Document(text='要求给予消息', )\n",
    "        doc2 = Document(text='要求接收消息')\n",
    "        doc.metadata['prompt_id'] = 0\n",
    "        doc2.metadata['prompt_id'] = 1\n",
    "\n",
    "        index = maker.create_index([doc, doc2])\n",
    "        retriver = index.as_retriever()  # kk\n",
    "        return retriver, dics\n",
    "\n",
    "    def select_prompt(self, text='你知道龙的传人是什么意思吗?', verbose=True):\n",
    "        result = self.llm.complete(f'''\n",
    "        输入一句话,你来判断这个问题,是需要你给予消息,还是接收消息\n",
    "        一般疑问句是要求给予消息\n",
    "        肯定句是要求接收消息\n",
    "        ---------------\n",
    "        for example:\n",
    "            文本:老唐是一个脱口秀演员 输出: 要求接收消息\n",
    "            文本:唐宇者是一个智者 输出: 要求接收消息\n",
    "            文本:老唐是谁 输出: 要求给予消息\n",
    "        --------------\n",
    "        文本:{text} 输出:\n",
    "        ''').text\n",
    "        resu = self.retriver.retrieve(result)  # kk\n",
    "        if verbose:\n",
    "            print(\"类型判断: \", resu[0].text)\n",
    "        prompt = self.dics[resu[0].metadata['prompt_id']]\n",
    "        prompt_1 = prompt.format(text=text)\n",
    "        return prompt_1\n",
    "\n",
    "    def load(self,engine):\n",
    "        def get_context(inputs: str) -> str:\n",
    "            \"\"\"\n",
    "            获取之前的上下文信息,\n",
    "            \"\"\"\n",
    "            result = engine.query(f'{inputs} 如果没有信息,就回答没有找到相关信息')\n",
    "            return result.response\n",
    "        self.reactmaker.add_tool(get_context)\n",
    "        # self.reactmaker\n",
    "        self.agent = self.reactmaker.create_agent()\n",
    "\n",
    "    def chat(self,text):\n",
    "        prompt = self.select_prompt(text)\n",
    "        return self.agent(text = text)\n",
    "\n",
    "\n",
    "class ThoughtRoute():\n",
    "    def __init__(self, type='auto'):\n",
    "        self.thought_dict = {'问答思维':Thought()}\n",
    "        self.type = type\n",
    "\n",
    "\n",
    "    def select_human(self,id):\n",
    "        thought = self.thought_dict.get(id)\n",
    "        return thought\n",
    "\n",
    "    def select_auto(self):\n",
    "        pass\n",
    "\n",
    "    def load(self):\n",
    "        if self.type == 'human':\n",
    "            result = self.select_human(text)\n",
    "\n",
    "        elif self.type == 'auto':\n",
    "            result = self.select_auto(text)\n",
    "        return result\n",
    "\n",
    "\n",
    "\n",
    "    def chat(self, text):\n",
    "        pass\n",
    "        \n",
    "\n",
    "\n",
    "\n",
    "\n",
    "    def pop_chat_history(self):\n",
    "        pass\n",
    "\n",
    "\n"
   ]
  },
  {
   "cell_type": "code",
   "execution_count": null,
   "id": "406aa0ae-4e8a-4207-b06e-be8abdb6c1e5",
   "metadata": {},
   "outputs": [],
   "source": [
    "class Thought2():\n",
    "\n",
    "    def __init__(self,llm):\n",
    "        self.llm = llm\n",
    "        self.reactmaker = ReactAgentMaker(llm=self.llm)\n",
    "        self.retriver,self.dics = self.get_prompt_retriver()\n",
    "\n",
    "    def get_prompt_retriver(self):\n",
    "        dics = {0: \"\"\"please step by step\n",
    "        step 1 检索你的记忆,查看与问题相关的信息\n",
    "        step 2 如果没有查询到相关信息,那么你应该向用户提问\n",
    "        ---------------------\n",
    "        {text}\"\"\",\n",
    "                1: \"\"\"please step by step\n",
    "        step 1 接收消息,并表示你已经接收到了\n",
    "        step 2 如果你希望获取更多的信息,你应该向用户提问来得到信息\n",
    "        ---------------------\n",
    "        {text}\n",
    "                    \"\"\"}\n",
    "        maker = IndexMaker()\n",
    "        doc = Document(text='要求给予消息', )\n",
    "        doc2 = Document(text='要求接收消息')\n",
    "        doc.metadata['prompt_id'] = 0\n",
    "        doc2.metadata['prompt_id'] = 1\n",
    "\n",
    "        index = maker.create_index([doc, doc2])\n",
    "        retriver = index.as_retriever()  # kk\n",
    "        return retriver, dics\n",
    "\n",
    "    def select_prompt(self, text='你知道龙的传人是什么意思吗?', verbose=True):\n",
    "        result = self.llm.complete(f'''\n",
    "        输入一句话,你来判断这个问题,是需要你给予消息,还是接收消息\n",
    "        一般疑问句是要求给予消息\n",
    "        肯定句是要求接收消息\n",
    "        ---------------\n",
    "        for example:\n",
    "            文本:老唐是一个脱口秀演员 输出: 要求接收消息\n",
    "            文本:唐宇者是一个智者 输出: 要求接收消息\n",
    "            文本:老唐是谁 输出: 要求给予消息\n",
    "        --------------\n",
    "        文本:{text} 输出:\n",
    "        ''').text\n",
    "        resu = self.retriver.retrieve(result)  # kk\n",
    "        if verbose:\n",
    "            print(\"类型判断: \", resu[0].text)\n",
    "        prompt = self.dics[resu[0].metadata['prompt_id']]\n",
    "        prompt_1 = prompt.format(text=text)\n",
    "        return prompt_1\n",
    "\n",
    "    def load(self,engine):\n",
    "        def get_context(inputs: str) -> str:\n",
    "            \"\"\"\n",
    "            获取之前的上下文信息,\n",
    "            \"\"\"\n",
    "            result = engine.query(f'{inputs} 如果没有信息,就回答没有找到相关信息')\n",
    "            return result.response\n",
    "        self.reactmaker.add_tool(get_context)\n",
    "        # self.reactmaker\n",
    "        self.agent = self.reactmaker.create_agent()\n",
    "\n",
    "    def chat(self,text):\n",
    "        prompt = self.select_prompt(text)\n",
    "        return self.agent(text = text)\n"
   ]
  },
  {
   "cell_type": "code",
   "execution_count": null,
   "id": "a14530c1-6239-469e-8765-215e8154a1a4",
   "metadata": {},
   "outputs": [],
   "source": []
  },
  {
   "cell_type": "code",
   "execution_count": null,
   "id": "b4287ee1-c5ed-4c48-aa83-14a15235cc29",
   "metadata": {},
   "outputs": [],
   "source": []
  },
  {
   "cell_type": "code",
   "execution_count": null,
   "id": "2465f6a0-e255-4785-a204-b436d06db0f3",
   "metadata": {},
   "outputs": [],
   "source": []
  },
  {
   "cell_type": "code",
   "execution_count": null,
   "id": "2da7c011-4215-49d2-bf38-a5afa0bf619e",
   "metadata": {},
   "outputs": [],
   "source": []
  },
  {
   "cell_type": "markdown",
   "id": "476565bf-f609-426b-ab46-9d088d64628e",
   "metadata": {
    "tags": []
   },
   "source": [
    "# TOT 策略先驱"
   ]
  },
  {
   "cell_type": "code",
   "execution_count": 20,
   "id": "f9eae60b-7b50-40a0-bed2-3cce9e7572e9",
   "metadata": {
    "tags": []
   },
   "outputs": [],
   "source": [
    "from langchain_openai import OpenAI\n",
    "llm = OpenAI(temperature=1, max_tokens=512, model=\"gpt-3.5-turbo-instruct\")"
   ]
  },
  {
   "cell_type": "code",
   "execution_count": 21,
   "id": "d374d223-195a-4206-a560-ded5817f0465",
   "metadata": {
    "tags": []
   },
   "outputs": [],
   "source": [
    "九宫格问题 = \"*,*,*|*,*,*|*,*,*\"\n",
    "问题描述 = f\"\"\"\n",
    "{九宫格问题}\n",
    "-这是一个九宫格游戏\n",
    "-'*' 表示待填充的单元格\n",
    "—用“|”字符分隔行。\n",
    "-每一步用O 或者 X 来替换一个 \"*\"\n",
    "-横,竖,斜 如果有一个连成线,则表示游戏结束,连成线的一方胜利\n",
    "-保留之前有效想法。\n",
    "-每个想法都可以是部分或最终的解决方案。\n",
    "\"\"\""
   ]
  },
  {
   "cell_type": "code",
   "execution_count": 25,
   "id": "e02f1ed1-5a9f-4c45-8c07-8b6560de3c13",
   "metadata": {
    "tags": []
   },
   "outputs": [
    {
     "data": {
      "text/plain": [
       "'*,*,*|*,*,*|*,*,*\\n-这是一个九宫格游戏\\n-\\'*\\' 表示待填充的单元格\\n—用“|”字符分隔行。\\n-每一步用O 或者 X 来替换一个 \"*\"\\n-横,竖,斜 如果有一个连成线,则表示游戏结束,连成线的一方胜利\\n-保留之前有效想法。\\n-每个想法都可以是部分或最终的解决方案。'"
      ]
     },
     "execution_count": 25,
     "metadata": {},
     "output_type": "execute_result"
    }
   ],
   "source": [
    "问题描述.strip()"
   ]
  },
  {
   "cell_type": "code",
   "execution_count": 26,
   "id": "155eb9a7-59fd-41d0-8b3e-586a99271ba3",
   "metadata": {
    "tags": []
   },
   "outputs": [],
   "source": [
    "import re\n",
    "from typing import Tuple\n",
    "\n",
    "from langchain_experimental.tot.checker import ToTChecker\n",
    "from langchain_experimental.tot.thought import ThoughtValidity\n"
   ]
  },
  {
   "cell_type": "code",
   "execution_count": 27,
   "id": "d8a5a4cb-afa4-4fc9-aa9b-58f44dfd77ad",
   "metadata": {
    "tags": []
   },
   "outputs": [],
   "source": [
    "\n",
    "class MyChecker(ToTChecker):\n",
    "    def evaluate(\n",
    "        self, problem_description: str, thoughts: Tuple[str, ...] = ()\n",
    "    ) -> ThoughtValidity:\n",
    "        last_thought = thoughts[-1]\n",
    "        clean_solution = last_thought.replace(\" \", \"\").replace('\"', \"\")\n",
    "        regex_solution = clean_solution.replace(\"*\", \".\").replace(\"|\", \"\\\\|\")\n",
    "        if sudoku_solution in clean_solution:\n",
    "            return ThoughtValidity.VALID_FINAL\n",
    "        elif re.search(regex_solution, sudoku_solution):\n",
    "            return ThoughtValidity.VALID_INTERMEDIATE\n",
    "        else:\n",
    "            return ThoughtValidity.INVALID"
   ]
  },
  {
   "cell_type": "code",
   "execution_count": 28,
   "id": "0a4fda4d-9d63-4379-bb00-c9f38879970b",
   "metadata": {
    "collapsed": true,
    "jupyter": {
     "outputs_hidden": true
    },
    "tags": []
   },
   "outputs": [
    {
     "name": "stdout",
     "output_type": "stream",
     "text": [
      "\n",
      "\n",
      "\u001b[1m> Entering new ToTChain chain...\u001b[0m\n",
      "Starting the ToT solve procedure.\n"
     ]
    },
    {
     "ename": "IndexError",
     "evalue": "list index out of range",
     "output_type": "error",
     "traceback": [
      "\u001b[0;31m---------------------------------------------------------------------------\u001b[0m",
      "\u001b[0;31mIndexError\u001b[0m                                Traceback (most recent call last)",
      "Cell \u001b[0;32mIn[28], line 6\u001b[0m\n\u001b[1;32m      1\u001b[0m \u001b[38;5;28;01mfrom\u001b[39;00m \u001b[38;5;21;01mlangchain_experimental\u001b[39;00m\u001b[38;5;21;01m.\u001b[39;00m\u001b[38;5;21;01mtot\u001b[39;00m\u001b[38;5;21;01m.\u001b[39;00m\u001b[38;5;21;01mbase\u001b[39;00m \u001b[38;5;28;01mimport\u001b[39;00m ToTChain\n\u001b[1;32m      3\u001b[0m tot_chain \u001b[38;5;241m=\u001b[39m ToTChain(\n\u001b[1;32m      4\u001b[0m     llm\u001b[38;5;241m=\u001b[39mllm, checker\u001b[38;5;241m=\u001b[39mMyChecker(), k\u001b[38;5;241m=\u001b[39m\u001b[38;5;241m30\u001b[39m, c\u001b[38;5;241m=\u001b[39m\u001b[38;5;241m2\u001b[39m, verbose\u001b[38;5;241m=\u001b[39m\u001b[38;5;28;01mTrue\u001b[39;00m, verbose_llm\u001b[38;5;241m=\u001b[39m\u001b[38;5;28;01mFalse\u001b[39;00m\n\u001b[1;32m      5\u001b[0m )\n\u001b[0;32m----> 6\u001b[0m \u001b[43mtot_chain\u001b[49m\u001b[38;5;241;43m.\u001b[39;49m\u001b[43mrun\u001b[49m\u001b[43m(\u001b[49m\u001b[43mproblem_description\u001b[49m\u001b[38;5;241;43m=\u001b[39;49m\u001b[43m问题描述\u001b[49m\u001b[43m)\u001b[49m\n",
      "File \u001b[0;32m~/opt/miniconda3/envs/py310_new/lib/python3.10/site-packages/langchain_core/_api/deprecation.py:145\u001b[0m, in \u001b[0;36mdeprecated.<locals>.deprecate.<locals>.warning_emitting_wrapper\u001b[0;34m(*args, **kwargs)\u001b[0m\n\u001b[1;32m    143\u001b[0m     warned \u001b[38;5;241m=\u001b[39m \u001b[38;5;28;01mTrue\u001b[39;00m\n\u001b[1;32m    144\u001b[0m     emit_warning()\n\u001b[0;32m--> 145\u001b[0m \u001b[38;5;28;01mreturn\u001b[39;00m \u001b[43mwrapped\u001b[49m\u001b[43m(\u001b[49m\u001b[38;5;241;43m*\u001b[39;49m\u001b[43margs\u001b[49m\u001b[43m,\u001b[49m\u001b[43m \u001b[49m\u001b[38;5;241;43m*\u001b[39;49m\u001b[38;5;241;43m*\u001b[39;49m\u001b[43mkwargs\u001b[49m\u001b[43m)\u001b[49m\n",
      "File \u001b[0;32m~/opt/miniconda3/envs/py310_new/lib/python3.10/site-packages/langchain/chains/base.py:574\u001b[0m, in \u001b[0;36mChain.run\u001b[0;34m(self, callbacks, tags, metadata, *args, **kwargs)\u001b[0m\n\u001b[1;32m    569\u001b[0m     \u001b[38;5;28;01mreturn\u001b[39;00m \u001b[38;5;28mself\u001b[39m(args[\u001b[38;5;241m0\u001b[39m], callbacks\u001b[38;5;241m=\u001b[39mcallbacks, tags\u001b[38;5;241m=\u001b[39mtags, metadata\u001b[38;5;241m=\u001b[39mmetadata)[\n\u001b[1;32m    570\u001b[0m         _output_key\n\u001b[1;32m    571\u001b[0m     ]\n\u001b[1;32m    573\u001b[0m \u001b[38;5;28;01mif\u001b[39;00m kwargs \u001b[38;5;129;01mand\u001b[39;00m \u001b[38;5;129;01mnot\u001b[39;00m args:\n\u001b[0;32m--> 574\u001b[0m     \u001b[38;5;28;01mreturn\u001b[39;00m \u001b[38;5;28;43mself\u001b[39;49m\u001b[43m(\u001b[49m\u001b[43mkwargs\u001b[49m\u001b[43m,\u001b[49m\u001b[43m \u001b[49m\u001b[43mcallbacks\u001b[49m\u001b[38;5;241;43m=\u001b[39;49m\u001b[43mcallbacks\u001b[49m\u001b[43m,\u001b[49m\u001b[43m \u001b[49m\u001b[43mtags\u001b[49m\u001b[38;5;241;43m=\u001b[39;49m\u001b[43mtags\u001b[49m\u001b[43m,\u001b[49m\u001b[43m \u001b[49m\u001b[43mmetadata\u001b[49m\u001b[38;5;241;43m=\u001b[39;49m\u001b[43mmetadata\u001b[49m\u001b[43m)\u001b[49m[\n\u001b[1;32m    575\u001b[0m         _output_key\n\u001b[1;32m    576\u001b[0m     ]\n\u001b[1;32m    578\u001b[0m \u001b[38;5;28;01mif\u001b[39;00m \u001b[38;5;129;01mnot\u001b[39;00m kwargs \u001b[38;5;129;01mand\u001b[39;00m \u001b[38;5;129;01mnot\u001b[39;00m args:\n\u001b[1;32m    579\u001b[0m     \u001b[38;5;28;01mraise\u001b[39;00m \u001b[38;5;167;01mValueError\u001b[39;00m(\n\u001b[1;32m    580\u001b[0m         \u001b[38;5;124m\"\u001b[39m\u001b[38;5;124m`run` supported with either positional arguments or keyword arguments,\u001b[39m\u001b[38;5;124m\"\u001b[39m\n\u001b[1;32m    581\u001b[0m         \u001b[38;5;124m\"\u001b[39m\u001b[38;5;124m but none were provided.\u001b[39m\u001b[38;5;124m\"\u001b[39m\n\u001b[1;32m    582\u001b[0m     )\n",
      "File \u001b[0;32m~/opt/miniconda3/envs/py310_new/lib/python3.10/site-packages/opentelemetry/instrumentation/langchain/utils.py:10\u001b[0m, in \u001b[0;36m_with_tracer_wrapper.<locals>._with_tracer.<locals>.wrapper\u001b[0;34m(wrapped, instance, args, kwargs)\u001b[0m\n\u001b[1;32m      9\u001b[0m \u001b[38;5;28;01mdef\u001b[39;00m \u001b[38;5;21mwrapper\u001b[39m(wrapped, instance, args, kwargs):\n\u001b[0;32m---> 10\u001b[0m     \u001b[38;5;28;01mreturn\u001b[39;00m \u001b[43mfunc\u001b[49m\u001b[43m(\u001b[49m\u001b[43mtracer\u001b[49m\u001b[43m,\u001b[49m\u001b[43m \u001b[49m\u001b[43mto_wrap\u001b[49m\u001b[43m,\u001b[49m\u001b[43m \u001b[49m\u001b[43mwrapped\u001b[49m\u001b[43m,\u001b[49m\u001b[43m \u001b[49m\u001b[43minstance\u001b[49m\u001b[43m,\u001b[49m\u001b[43m \u001b[49m\u001b[43margs\u001b[49m\u001b[43m,\u001b[49m\u001b[43m \u001b[49m\u001b[43mkwargs\u001b[49m\u001b[43m)\u001b[49m\n",
      "File \u001b[0;32m~/opt/miniconda3/envs/py310_new/lib/python3.10/site-packages/opentelemetry/instrumentation/langchain/task_wrapper.py:31\u001b[0m, in \u001b[0;36mtask_wrapper\u001b[0;34m(tracer, to_wrap, wrapped, instance, args, kwargs)\u001b[0m\n\u001b[1;32m     25\u001b[0m     span\u001b[38;5;241m.\u001b[39mset_attribute(\n\u001b[1;32m     26\u001b[0m         SpanAttributes\u001b[38;5;241m.\u001b[39mTRACELOOP_SPAN_KIND,\n\u001b[1;32m     27\u001b[0m         kind,\n\u001b[1;32m     28\u001b[0m     )\n\u001b[1;32m     29\u001b[0m     span\u001b[38;5;241m.\u001b[39mset_attribute(SpanAttributes\u001b[38;5;241m.\u001b[39mTRACELOOP_ENTITY_NAME, name)\n\u001b[0;32m---> 31\u001b[0m     return_value \u001b[38;5;241m=\u001b[39m \u001b[43mwrapped\u001b[49m\u001b[43m(\u001b[49m\u001b[38;5;241;43m*\u001b[39;49m\u001b[43margs\u001b[49m\u001b[43m,\u001b[49m\u001b[43m \u001b[49m\u001b[38;5;241;43m*\u001b[39;49m\u001b[38;5;241;43m*\u001b[39;49m\u001b[43mkwargs\u001b[49m\u001b[43m)\u001b[49m\n\u001b[1;32m     33\u001b[0m \u001b[38;5;28;01mreturn\u001b[39;00m return_value\n",
      "File \u001b[0;32m~/opt/miniconda3/envs/py310_new/lib/python3.10/site-packages/langchain_core/_api/deprecation.py:145\u001b[0m, in \u001b[0;36mdeprecated.<locals>.deprecate.<locals>.warning_emitting_wrapper\u001b[0;34m(*args, **kwargs)\u001b[0m\n\u001b[1;32m    143\u001b[0m     warned \u001b[38;5;241m=\u001b[39m \u001b[38;5;28;01mTrue\u001b[39;00m\n\u001b[1;32m    144\u001b[0m     emit_warning()\n\u001b[0;32m--> 145\u001b[0m \u001b[38;5;28;01mreturn\u001b[39;00m \u001b[43mwrapped\u001b[49m\u001b[43m(\u001b[49m\u001b[38;5;241;43m*\u001b[39;49m\u001b[43margs\u001b[49m\u001b[43m,\u001b[49m\u001b[43m \u001b[49m\u001b[38;5;241;43m*\u001b[39;49m\u001b[38;5;241;43m*\u001b[39;49m\u001b[43mkwargs\u001b[49m\u001b[43m)\u001b[49m\n",
      "File \u001b[0;32m~/opt/miniconda3/envs/py310_new/lib/python3.10/site-packages/langchain/chains/base.py:378\u001b[0m, in \u001b[0;36mChain.__call__\u001b[0;34m(self, inputs, return_only_outputs, callbacks, tags, metadata, run_name, include_run_info)\u001b[0m\n\u001b[1;32m    346\u001b[0m \u001b[38;5;250m\u001b[39m\u001b[38;5;124;03m\"\"\"Execute the chain.\u001b[39;00m\n\u001b[1;32m    347\u001b[0m \n\u001b[1;32m    348\u001b[0m \u001b[38;5;124;03mArgs:\u001b[39;00m\n\u001b[0;32m   (...)\u001b[0m\n\u001b[1;32m    369\u001b[0m \u001b[38;5;124;03m        `Chain.output_keys`.\u001b[39;00m\n\u001b[1;32m    370\u001b[0m \u001b[38;5;124;03m\"\"\"\u001b[39;00m\n\u001b[1;32m    371\u001b[0m config \u001b[38;5;241m=\u001b[39m {\n\u001b[1;32m    372\u001b[0m     \u001b[38;5;124m\"\u001b[39m\u001b[38;5;124mcallbacks\u001b[39m\u001b[38;5;124m\"\u001b[39m: callbacks,\n\u001b[1;32m    373\u001b[0m     \u001b[38;5;124m\"\u001b[39m\u001b[38;5;124mtags\u001b[39m\u001b[38;5;124m\"\u001b[39m: tags,\n\u001b[1;32m    374\u001b[0m     \u001b[38;5;124m\"\u001b[39m\u001b[38;5;124mmetadata\u001b[39m\u001b[38;5;124m\"\u001b[39m: metadata,\n\u001b[1;32m    375\u001b[0m     \u001b[38;5;124m\"\u001b[39m\u001b[38;5;124mrun_name\u001b[39m\u001b[38;5;124m\"\u001b[39m: run_name,\n\u001b[1;32m    376\u001b[0m }\n\u001b[0;32m--> 378\u001b[0m \u001b[38;5;28;01mreturn\u001b[39;00m \u001b[38;5;28;43mself\u001b[39;49m\u001b[38;5;241;43m.\u001b[39;49m\u001b[43minvoke\u001b[49m\u001b[43m(\u001b[49m\n\u001b[1;32m    379\u001b[0m \u001b[43m    \u001b[49m\u001b[43minputs\u001b[49m\u001b[43m,\u001b[49m\n\u001b[1;32m    380\u001b[0m \u001b[43m    \u001b[49m\u001b[43mcast\u001b[49m\u001b[43m(\u001b[49m\u001b[43mRunnableConfig\u001b[49m\u001b[43m,\u001b[49m\u001b[43m \u001b[49m\u001b[43m{\u001b[49m\u001b[43mk\u001b[49m\u001b[43m:\u001b[49m\u001b[43m \u001b[49m\u001b[43mv\u001b[49m\u001b[43m \u001b[49m\u001b[38;5;28;43;01mfor\u001b[39;49;00m\u001b[43m \u001b[49m\u001b[43mk\u001b[49m\u001b[43m,\u001b[49m\u001b[43m \u001b[49m\u001b[43mv\u001b[49m\u001b[43m \u001b[49m\u001b[38;5;129;43;01min\u001b[39;49;00m\u001b[43m \u001b[49m\u001b[43mconfig\u001b[49m\u001b[38;5;241;43m.\u001b[39;49m\u001b[43mitems\u001b[49m\u001b[43m(\u001b[49m\u001b[43m)\u001b[49m\u001b[43m \u001b[49m\u001b[38;5;28;43;01mif\u001b[39;49;00m\u001b[43m \u001b[49m\u001b[43mv\u001b[49m\u001b[43m \u001b[49m\u001b[38;5;129;43;01mis\u001b[39;49;00m\u001b[43m \u001b[49m\u001b[38;5;129;43;01mnot\u001b[39;49;00m\u001b[43m \u001b[49m\u001b[38;5;28;43;01mNone\u001b[39;49;00m\u001b[43m}\u001b[49m\u001b[43m)\u001b[49m\u001b[43m,\u001b[49m\n\u001b[1;32m    381\u001b[0m \u001b[43m    \u001b[49m\u001b[43mreturn_only_outputs\u001b[49m\u001b[38;5;241;43m=\u001b[39;49m\u001b[43mreturn_only_outputs\u001b[49m\u001b[43m,\u001b[49m\n\u001b[1;32m    382\u001b[0m \u001b[43m    \u001b[49m\u001b[43minclude_run_info\u001b[49m\u001b[38;5;241;43m=\u001b[39;49m\u001b[43minclude_run_info\u001b[49m\u001b[43m,\u001b[49m\n\u001b[1;32m    383\u001b[0m \u001b[43m\u001b[49m\u001b[43m)\u001b[49m\n",
      "File \u001b[0;32m~/opt/miniconda3/envs/py310_new/lib/python3.10/site-packages/langchain/chains/base.py:163\u001b[0m, in \u001b[0;36mChain.invoke\u001b[0;34m(self, input, config, **kwargs)\u001b[0m\n\u001b[1;32m    161\u001b[0m \u001b[38;5;28;01mexcept\u001b[39;00m \u001b[38;5;167;01mBaseException\u001b[39;00m \u001b[38;5;28;01mas\u001b[39;00m e:\n\u001b[1;32m    162\u001b[0m     run_manager\u001b[38;5;241m.\u001b[39mon_chain_error(e)\n\u001b[0;32m--> 163\u001b[0m     \u001b[38;5;28;01mraise\u001b[39;00m e\n\u001b[1;32m    164\u001b[0m run_manager\u001b[38;5;241m.\u001b[39mon_chain_end(outputs)\n\u001b[1;32m    166\u001b[0m \u001b[38;5;28;01mif\u001b[39;00m include_run_info:\n",
      "File \u001b[0;32m~/opt/miniconda3/envs/py310_new/lib/python3.10/site-packages/langchain/chains/base.py:153\u001b[0m, in \u001b[0;36mChain.invoke\u001b[0;34m(self, input, config, **kwargs)\u001b[0m\n\u001b[1;32m    150\u001b[0m \u001b[38;5;28;01mtry\u001b[39;00m:\n\u001b[1;32m    151\u001b[0m     \u001b[38;5;28mself\u001b[39m\u001b[38;5;241m.\u001b[39m_validate_inputs(inputs)\n\u001b[1;32m    152\u001b[0m     outputs \u001b[38;5;241m=\u001b[39m (\n\u001b[0;32m--> 153\u001b[0m         \u001b[38;5;28;43mself\u001b[39;49m\u001b[38;5;241;43m.\u001b[39;49m\u001b[43m_call\u001b[49m\u001b[43m(\u001b[49m\u001b[43minputs\u001b[49m\u001b[43m,\u001b[49m\u001b[43m \u001b[49m\u001b[43mrun_manager\u001b[49m\u001b[38;5;241;43m=\u001b[39;49m\u001b[43mrun_manager\u001b[49m\u001b[43m)\u001b[49m\n\u001b[1;32m    154\u001b[0m         \u001b[38;5;28;01mif\u001b[39;00m new_arg_supported\n\u001b[1;32m    155\u001b[0m         \u001b[38;5;28;01melse\u001b[39;00m \u001b[38;5;28mself\u001b[39m\u001b[38;5;241m.\u001b[39m_call(inputs)\n\u001b[1;32m    156\u001b[0m     )\n\u001b[1;32m    158\u001b[0m     final_outputs: Dict[\u001b[38;5;28mstr\u001b[39m, Any] \u001b[38;5;241m=\u001b[39m \u001b[38;5;28mself\u001b[39m\u001b[38;5;241m.\u001b[39mprep_outputs(\n\u001b[1;32m    159\u001b[0m         inputs, outputs, return_only_outputs\n\u001b[1;32m    160\u001b[0m     )\n\u001b[1;32m    161\u001b[0m \u001b[38;5;28;01mexcept\u001b[39;00m \u001b[38;5;167;01mBaseException\u001b[39;00m \u001b[38;5;28;01mas\u001b[39;00m e:\n",
      "File \u001b[0;32m~/opt/miniconda3/envs/py310_new/lib/python3.10/site-packages/langchain_experimental/tot/base.py:118\u001b[0m, in \u001b[0;36mToTChain._call\u001b[0;34m(self, inputs, run_manager)\u001b[0m\n\u001b[1;32m    116\u001b[0m \u001b[38;5;28;01mfor\u001b[39;00m _ \u001b[38;5;129;01min\u001b[39;00m \u001b[38;5;28mrange\u001b[39m(\u001b[38;5;28mself\u001b[39m\u001b[38;5;241m.\u001b[39mk):\n\u001b[1;32m    117\u001b[0m     level \u001b[38;5;241m=\u001b[39m \u001b[38;5;28mself\u001b[39m\u001b[38;5;241m.\u001b[39mtot_memory\u001b[38;5;241m.\u001b[39mlevel\n\u001b[0;32m--> 118\u001b[0m     thought_text \u001b[38;5;241m=\u001b[39m \u001b[43mthought_generator\u001b[49m\u001b[38;5;241;43m.\u001b[39;49m\u001b[43mnext_thought\u001b[49m\u001b[43m(\u001b[49m\n\u001b[1;32m    119\u001b[0m \u001b[43m        \u001b[49m\u001b[43mproblem_description\u001b[49m\u001b[43m,\u001b[49m\u001b[43m \u001b[49m\u001b[43mthoughts_path\u001b[49m\u001b[43m,\u001b[49m\u001b[43m \u001b[49m\u001b[43mcallbacks\u001b[49m\u001b[38;5;241;43m=\u001b[39;49m\u001b[43m_run_manager\u001b[49m\u001b[38;5;241;43m.\u001b[39;49m\u001b[43mget_child\u001b[49m\u001b[43m(\u001b[49m\u001b[43m)\u001b[49m\n\u001b[1;32m    120\u001b[0m \u001b[43m    \u001b[49m\u001b[43m)\u001b[49m\n\u001b[1;32m    121\u001b[0m     checker_inputs[\u001b[38;5;124m\"\u001b[39m\u001b[38;5;124mthoughts\u001b[39m\u001b[38;5;124m\"\u001b[39m] \u001b[38;5;241m=\u001b[39m thoughts_path \u001b[38;5;241m+\u001b[39m (thought_text,)\n\u001b[1;32m    122\u001b[0m     thought_validity \u001b[38;5;241m=\u001b[39m \u001b[38;5;28mself\u001b[39m\u001b[38;5;241m.\u001b[39mchecker(\n\u001b[1;32m    123\u001b[0m         checker_inputs, callbacks\u001b[38;5;241m=\u001b[39m_run_manager\u001b[38;5;241m.\u001b[39mget_child()\n\u001b[1;32m    124\u001b[0m     )[\u001b[38;5;124m\"\u001b[39m\u001b[38;5;124mvalidity\u001b[39m\u001b[38;5;124m\"\u001b[39m]\n",
      "File \u001b[0;32m~/opt/miniconda3/envs/py310_new/lib/python3.10/site-packages/langchain_experimental/tot/thought_generation.py:82\u001b[0m, in \u001b[0;36mProposePromptStrategy.next_thought\u001b[0;34m(self, problem_description, thoughts_path, **kwargs)\u001b[0m\n\u001b[1;32m     75\u001b[0m \u001b[38;5;28;01mdef\u001b[39;00m \u001b[38;5;21mnext_thought\u001b[39m(\n\u001b[1;32m     76\u001b[0m     \u001b[38;5;28mself\u001b[39m,\n\u001b[1;32m     77\u001b[0m     problem_description: \u001b[38;5;28mstr\u001b[39m,\n\u001b[1;32m     78\u001b[0m     thoughts_path: Tuple[\u001b[38;5;28mstr\u001b[39m, \u001b[38;5;241m.\u001b[39m\u001b[38;5;241m.\u001b[39m\u001b[38;5;241m.\u001b[39m] \u001b[38;5;241m=\u001b[39m (),\n\u001b[1;32m     79\u001b[0m     \u001b[38;5;241m*\u001b[39m\u001b[38;5;241m*\u001b[39mkwargs: Any,\n\u001b[1;32m     80\u001b[0m ) \u001b[38;5;241m-\u001b[39m\u001b[38;5;241m>\u001b[39m \u001b[38;5;28mstr\u001b[39m:\n\u001b[1;32m     81\u001b[0m     \u001b[38;5;28;01mif\u001b[39;00m thoughts_path \u001b[38;5;129;01mnot\u001b[39;00m \u001b[38;5;129;01min\u001b[39;00m \u001b[38;5;28mself\u001b[39m\u001b[38;5;241m.\u001b[39mtot_memory \u001b[38;5;129;01mor\u001b[39;00m \u001b[38;5;129;01mnot\u001b[39;00m \u001b[38;5;28mself\u001b[39m\u001b[38;5;241m.\u001b[39mtot_memory[thoughts_path]:\n\u001b[0;32m---> 82\u001b[0m         new_thoughts \u001b[38;5;241m=\u001b[39m \u001b[38;5;28;43mself\u001b[39;49m\u001b[38;5;241;43m.\u001b[39;49m\u001b[43mpredict_and_parse\u001b[49m\u001b[43m(\u001b[49m\n\u001b[1;32m     83\u001b[0m \u001b[43m            \u001b[49m\u001b[43mproblem_description\u001b[49m\u001b[38;5;241;43m=\u001b[39;49m\u001b[43mproblem_description\u001b[49m\u001b[43m,\u001b[49m\n\u001b[1;32m     84\u001b[0m \u001b[43m            \u001b[49m\u001b[43mthoughts\u001b[49m\u001b[38;5;241;43m=\u001b[39;49m\u001b[43mthoughts_path\u001b[49m\u001b[43m,\u001b[49m\n\u001b[1;32m     85\u001b[0m \u001b[43m            \u001b[49m\u001b[43mn\u001b[49m\u001b[38;5;241;43m=\u001b[39;49m\u001b[38;5;28;43mself\u001b[39;49m\u001b[38;5;241;43m.\u001b[39;49m\u001b[43mc\u001b[49m\u001b[43m,\u001b[49m\n\u001b[1;32m     86\u001b[0m \u001b[43m            \u001b[49m\u001b[38;5;241;43m*\u001b[39;49m\u001b[38;5;241;43m*\u001b[39;49m\u001b[43mkwargs\u001b[49m\u001b[43m,\u001b[49m\n\u001b[1;32m     87\u001b[0m \u001b[43m        \u001b[49m\u001b[43m)\u001b[49m\n\u001b[1;32m     88\u001b[0m         \u001b[38;5;28;01mif\u001b[39;00m \u001b[38;5;129;01mnot\u001b[39;00m new_thoughts:\n\u001b[1;32m     89\u001b[0m             \u001b[38;5;28;01mreturn\u001b[39;00m \u001b[38;5;124m\"\u001b[39m\u001b[38;5;124m\"\u001b[39m\n",
      "File \u001b[0;32m~/opt/miniconda3/envs/py310_new/lib/python3.10/site-packages/langchain/chains/llm.py:322\u001b[0m, in \u001b[0;36mLLMChain.predict_and_parse\u001b[0;34m(self, callbacks, **kwargs)\u001b[0m\n\u001b[1;32m    320\u001b[0m result \u001b[38;5;241m=\u001b[39m \u001b[38;5;28mself\u001b[39m\u001b[38;5;241m.\u001b[39mpredict(callbacks\u001b[38;5;241m=\u001b[39mcallbacks, \u001b[38;5;241m*\u001b[39m\u001b[38;5;241m*\u001b[39mkwargs)\n\u001b[1;32m    321\u001b[0m \u001b[38;5;28;01mif\u001b[39;00m \u001b[38;5;28mself\u001b[39m\u001b[38;5;241m.\u001b[39mprompt\u001b[38;5;241m.\u001b[39moutput_parser \u001b[38;5;129;01mis\u001b[39;00m \u001b[38;5;129;01mnot\u001b[39;00m \u001b[38;5;28;01mNone\u001b[39;00m:\n\u001b[0;32m--> 322\u001b[0m     \u001b[38;5;28;01mreturn\u001b[39;00m \u001b[38;5;28;43mself\u001b[39;49m\u001b[38;5;241;43m.\u001b[39;49m\u001b[43mprompt\u001b[49m\u001b[38;5;241;43m.\u001b[39;49m\u001b[43moutput_parser\u001b[49m\u001b[38;5;241;43m.\u001b[39;49m\u001b[43mparse\u001b[49m\u001b[43m(\u001b[49m\u001b[43mresult\u001b[49m\u001b[43m)\u001b[49m\n\u001b[1;32m    323\u001b[0m \u001b[38;5;28;01melse\u001b[39;00m:\n\u001b[1;32m    324\u001b[0m     \u001b[38;5;28;01mreturn\u001b[39;00m result\n",
      "File \u001b[0;32m~/opt/miniconda3/envs/py310_new/lib/python3.10/site-packages/langchain_experimental/tot/prompts.py:50\u001b[0m, in \u001b[0;36mJSONListOutputParser.parse\u001b[0;34m(self, text)\u001b[0m\n\u001b[1;32m     47\u001b[0m \u001b[38;5;28;01mdef\u001b[39;00m \u001b[38;5;21mparse\u001b[39m(\u001b[38;5;28mself\u001b[39m, text: \u001b[38;5;28mstr\u001b[39m) \u001b[38;5;241m-\u001b[39m\u001b[38;5;241m>\u001b[39m List[\u001b[38;5;28mstr\u001b[39m]:\n\u001b[1;32m     48\u001b[0m \u001b[38;5;250m    \u001b[39m\u001b[38;5;124;03m\"\"\"Parse the output of an LLM call.\"\"\"\u001b[39;00m\n\u001b[0;32m---> 50\u001b[0m     json_string \u001b[38;5;241m=\u001b[39m \u001b[43mtext\u001b[49m\u001b[38;5;241;43m.\u001b[39;49m\u001b[43msplit\u001b[49m\u001b[43m(\u001b[49m\u001b[38;5;124;43m\"\u001b[39;49m\u001b[38;5;124;43m```json\u001b[39;49m\u001b[38;5;124;43m\"\u001b[39;49m\u001b[43m)\u001b[49m\u001b[43m[\u001b[49m\u001b[38;5;241;43m1\u001b[39;49m\u001b[43m]\u001b[49m\u001b[38;5;241m.\u001b[39mstrip()\u001b[38;5;241m.\u001b[39mstrip(\u001b[38;5;124m\"\u001b[39m\u001b[38;5;124m```\u001b[39m\u001b[38;5;124m\"\u001b[39m)\u001b[38;5;241m.\u001b[39mstrip()\n\u001b[1;32m     51\u001b[0m     \u001b[38;5;28;01mtry\u001b[39;00m:\n\u001b[1;32m     52\u001b[0m         \u001b[38;5;28;01mreturn\u001b[39;00m json\u001b[38;5;241m.\u001b[39mloads(json_string)\n",
      "\u001b[0;31mIndexError\u001b[0m: list index out of range"
     ]
    }
   ],
   "source": [
    "from langchain_experimental.tot.base import ToTChain\n",
    "\n",
    "tot_chain = ToTChain(\n",
    "    llm=llm, checker=MyChecker(), k=30, c=2, verbose=True, verbose_llm=False\n",
    ")\n",
    "tot_chain.run(problem_description=问题描述)"
   ]
  },
  {
   "cell_type": "code",
   "execution_count": null,
   "id": "f29b9ee5-ce86-4e6d-baa3-e1dd684bb963",
   "metadata": {},
   "outputs": [],
   "source": []
  },
  {
   "cell_type": "markdown",
   "id": "72c041fa-4c1a-4612-9e76-8e4d510b4ee1",
   "metadata": {},
   "source": [
    "# 论文读取"
   ]
  },
  {
   "cell_type": "code",
   "execution_count": null,
   "id": "9a0da947-6f66-493b-be3b-3e87eb3aed08",
   "metadata": {},
   "outputs": [],
   "source": [
    "# https://arxiv.org/pdf/2210.03493"
   ]
  },
  {
   "cell_type": "code",
   "execution_count": null,
   "id": "90a4014d-db13-4389-99ee-7e18420877f4",
   "metadata": {},
   "outputs": [],
   "source": []
  },
  {
   "cell_type": "code",
   "execution_count": null,
   "id": "baed0c6e-0946-4aef-8b55-4e3a93e86f57",
   "metadata": {},
   "outputs": [],
   "source": []
  },
  {
   "cell_type": "code",
   "execution_count": null,
   "id": "9650d21c-ac29-449f-ac99-3ad8fb985062",
   "metadata": {},
   "outputs": [],
   "source": []
  },
  {
   "cell_type": "code",
   "execution_count": null,
   "id": "176db3c0-ae4d-40d5-9d83-2834e8272489",
   "metadata": {},
   "outputs": [],
   "source": []
  },
  {
   "cell_type": "markdown",
   "id": "00f7c173-465e-4279-bae2-b122febe171b",
   "metadata": {
    "jp-MarkdownHeadingCollapsed": true,
    "tags": []
   },
   "source": [
    "# Smart"
   ]
  },
  {
   "cell_type": "markdown",
   "id": "f815d1fe-d971-428f-b47b-79d33357de9e",
   "metadata": {},
   "source": [
    "# How to use a SmartLLMChain\n",
    "\n",
    "A SmartLLMChain is a form of self-critique chain that can help you if have particularly complex questions to answer. Instead of doing a single LLM pass, it instead performs these 3 steps:\n",
    "1. Ideation: Pass the user prompt n times through the LLM to get n output proposals (called \"ideas\"), where n is a parameter you can set \n",
    "2. Critique: The LLM critiques all ideas to find possible flaws and picks the best one \n",
    "3. Resolve: The LLM tries to improve upon the best idea (as chosen in the critique step) and outputs it. This is then the final output.\n",
    "\n",
    "SmartLLMChains are based on the SmartGPT workflow proposed in https://youtu.be/wVzuvf9D9BU.\n",
    "\n",
    "Note that SmartLLMChains\n",
    "- use more LLM passes (ie n+2 instead of just 1)\n",
    "- only work then the underlying LLM has the capability for reflection, which smaller models often don't\n",
    "- only work with underlying models that return exactly 1 output, not multiple\n",
    "\n",
    "This notebook demonstrates how to use a SmartLLMChain."
   ]
  },
  {
   "cell_type": "markdown",
   "id": "50fda279-e32b-4316-8568-2a202e3ec466",
   "metadata": {},
   "source": [
    "##### Same LLM for all steps"
   ]
  },
  {
   "cell_type": "code",
   "execution_count": 1,
   "id": "971c6933-d717-4b1f-82b3-e093042d5fbd",
   "metadata": {
    "tags": []
   },
   "outputs": [],
   "source": [
    "import os\n",
    "\n",
    "os.environ[\"OPENAI_API_KEY\"] = \"...\""
   ]
  },
  {
   "cell_type": "code",
   "execution_count": 2,
   "id": "dc98421b-d509-47ee-b0b2-2fb4a47c5385",
   "metadata": {
    "tags": []
   },
   "outputs": [],
   "source": [
    "from langchain.prompts import PromptTemplate\n",
    "from langchain_experimental.smart_llm import SmartLLMChain\n",
    "from langchain_openai import ChatOpenAI"
   ]
  },
  {
   "cell_type": "markdown",
   "id": "e17dab14-e8df-4466-922e-e24f91d5047e",
   "metadata": {},
   "source": [
    "As example question, we will use \"I have a 12 liter jug and a 6 liter jug. I want to measure 6 liters. How do I do it?\". This is an example from the original SmartGPT video (https://youtu.be/wVzuvf9D9BU?t=384). While this seems like a very easy question, LLMs struggle do these kinds of questions that involve numbers and physical reasoning.\n",
    "\n",
    "As we will see, all 3 initial ideas are completely wrong - even though we're using GPT4! Only when using self-reflection do we get a correct answer. "
   ]
  },
  {
   "cell_type": "code",
   "execution_count": 3,
   "id": "95210041-7722-4d9e-b01d-e2f03fa07755",
   "metadata": {
    "tags": []
   },
   "outputs": [],
   "source": [
    "hard_question = \"I have a 12 liter jug and a 6 liter jug. I want to measure 6 liters. How do I do it?\""
   ]
  },
  {
   "cell_type": "markdown",
   "id": "3cece7bc-c7e0-4c09-b9a8-9a30b4b2e1b9",
   "metadata": {},
   "source": [
    "So, we first create an LLM and prompt template"
   ]
  },
  {
   "cell_type": "code",
   "execution_count": 4,
   "id": "94978809-ba29-482b-bd7c-d73d19185bb2",
   "metadata": {
    "tags": []
   },
   "outputs": [],
   "source": [
    "prompt = PromptTemplate.from_template(hard_question)\n",
    "llm = ChatOpenAI(temperature=0, model_name=\"gpt-4\")"
   ]
  },
  {
   "cell_type": "markdown",
   "id": "d34d64b5-e304-45a5-b6e2-ae32791e074f",
   "metadata": {},
   "source": [
    "Now we can create a SmartLLMChain"
   ]
  },
  {
   "cell_type": "code",
   "execution_count": 5,
   "id": "4476bd02-f19b-4f78-8bed-19b76ce9aa06",
   "metadata": {
    "tags": []
   },
   "outputs": [],
   "source": [
    "chain = SmartLLMChain(llm=llm, prompt=prompt, n_ideas=3, verbose=True)"
   ]
  },
  {
   "cell_type": "markdown",
   "id": "f2c78865-7c60-4dd3-9292-0b7782be3150",
   "metadata": {},
   "source": [
    "Now we can use the SmartLLM as a drop-in replacement for our LLM. E.g.:"
   ]
  },
  {
   "cell_type": "code",
   "execution_count": 6,
   "id": "62b47568-5e44-451f-a458-b4de7a2b1821",
   "metadata": {
    "collapsed": true,
    "jupyter": {
     "outputs_hidden": true
    },
    "tags": []
   },
   "outputs": [
    {
     "name": "stderr",
     "output_type": "stream",
     "text": [
      "/Users/zhaoxuefeng/opt/miniconda3/envs/py310_new/lib/python3.10/site-packages/langchain_core/_api/deprecation.py:117: LangChainDeprecationWarning: The function `run` was deprecated in LangChain 0.1.0 and will be removed in 0.2.0. Use invoke instead.\n",
      "  warn_deprecated(\n"
     ]
    },
    {
     "name": "stdout",
     "output_type": "stream",
     "text": [
      "\n",
      "\n",
      "\u001b[1m> Entering new SmartLLMChain chain...\u001b[0m\n",
      "Prompt after formatting:\n",
      "\u001b[32;1m\u001b[1;3mI have a 12 liter jug and a 6 liter jug. I want to measure 6 liters. How do I do it?\u001b[0m\n"
     ]
    },
    {
     "ename": "AuthenticationError",
     "evalue": "Error code: 401 - {'error': {'message': 'Incorrect API key provided: .... You can find your API key at https://platform.openai.com/account/api-keys.', 'type': 'invalid_request_error', 'param': None, 'code': 'invalid_api_key'}}",
     "output_type": "error",
     "traceback": [
      "\u001b[0;31m---------------------------------------------------------------------------\u001b[0m",
      "\u001b[0;31mAuthenticationError\u001b[0m                       Traceback (most recent call last)",
      "Cell \u001b[0;32mIn[6], line 1\u001b[0m\n\u001b[0;32m----> 1\u001b[0m \u001b[43mchain\u001b[49m\u001b[38;5;241;43m.\u001b[39;49m\u001b[43mrun\u001b[49m\u001b[43m(\u001b[49m\u001b[43m{\u001b[49m\u001b[43m}\u001b[49m\u001b[43m)\u001b[49m\n",
      "File \u001b[0;32m~/opt/miniconda3/envs/py310_new/lib/python3.10/site-packages/langchain_core/_api/deprecation.py:145\u001b[0m, in \u001b[0;36mdeprecated.<locals>.deprecate.<locals>.warning_emitting_wrapper\u001b[0;34m(*args, **kwargs)\u001b[0m\n\u001b[1;32m    143\u001b[0m     warned \u001b[38;5;241m=\u001b[39m \u001b[38;5;28;01mTrue\u001b[39;00m\n\u001b[1;32m    144\u001b[0m     emit_warning()\n\u001b[0;32m--> 145\u001b[0m \u001b[38;5;28;01mreturn\u001b[39;00m \u001b[43mwrapped\u001b[49m\u001b[43m(\u001b[49m\u001b[38;5;241;43m*\u001b[39;49m\u001b[43margs\u001b[49m\u001b[43m,\u001b[49m\u001b[43m \u001b[49m\u001b[38;5;241;43m*\u001b[39;49m\u001b[38;5;241;43m*\u001b[39;49m\u001b[43mkwargs\u001b[49m\u001b[43m)\u001b[49m\n",
      "File \u001b[0;32m~/opt/miniconda3/envs/py310_new/lib/python3.10/site-packages/langchain/chains/base.py:569\u001b[0m, in \u001b[0;36mChain.run\u001b[0;34m(self, callbacks, tags, metadata, *args, **kwargs)\u001b[0m\n\u001b[1;32m    567\u001b[0m     \u001b[38;5;28;01mif\u001b[39;00m \u001b[38;5;28mlen\u001b[39m(args) \u001b[38;5;241m!=\u001b[39m \u001b[38;5;241m1\u001b[39m:\n\u001b[1;32m    568\u001b[0m         \u001b[38;5;28;01mraise\u001b[39;00m \u001b[38;5;167;01mValueError\u001b[39;00m(\u001b[38;5;124m\"\u001b[39m\u001b[38;5;124m`run` supports only one positional argument.\u001b[39m\u001b[38;5;124m\"\u001b[39m)\n\u001b[0;32m--> 569\u001b[0m     \u001b[38;5;28;01mreturn\u001b[39;00m \u001b[38;5;28;43mself\u001b[39;49m\u001b[43m(\u001b[49m\u001b[43margs\u001b[49m\u001b[43m[\u001b[49m\u001b[38;5;241;43m0\u001b[39;49m\u001b[43m]\u001b[49m\u001b[43m,\u001b[49m\u001b[43m \u001b[49m\u001b[43mcallbacks\u001b[49m\u001b[38;5;241;43m=\u001b[39;49m\u001b[43mcallbacks\u001b[49m\u001b[43m,\u001b[49m\u001b[43m \u001b[49m\u001b[43mtags\u001b[49m\u001b[38;5;241;43m=\u001b[39;49m\u001b[43mtags\u001b[49m\u001b[43m,\u001b[49m\u001b[43m \u001b[49m\u001b[43mmetadata\u001b[49m\u001b[38;5;241;43m=\u001b[39;49m\u001b[43mmetadata\u001b[49m\u001b[43m)\u001b[49m[\n\u001b[1;32m    570\u001b[0m         _output_key\n\u001b[1;32m    571\u001b[0m     ]\n\u001b[1;32m    573\u001b[0m \u001b[38;5;28;01mif\u001b[39;00m kwargs \u001b[38;5;129;01mand\u001b[39;00m \u001b[38;5;129;01mnot\u001b[39;00m args:\n\u001b[1;32m    574\u001b[0m     \u001b[38;5;28;01mreturn\u001b[39;00m \u001b[38;5;28mself\u001b[39m(kwargs, callbacks\u001b[38;5;241m=\u001b[39mcallbacks, tags\u001b[38;5;241m=\u001b[39mtags, metadata\u001b[38;5;241m=\u001b[39mmetadata)[\n\u001b[1;32m    575\u001b[0m         _output_key\n\u001b[1;32m    576\u001b[0m     ]\n",
      "File \u001b[0;32m~/opt/miniconda3/envs/py310_new/lib/python3.10/site-packages/langchain_core/_api/deprecation.py:145\u001b[0m, in \u001b[0;36mdeprecated.<locals>.deprecate.<locals>.warning_emitting_wrapper\u001b[0;34m(*args, **kwargs)\u001b[0m\n\u001b[1;32m    143\u001b[0m     warned \u001b[38;5;241m=\u001b[39m \u001b[38;5;28;01mTrue\u001b[39;00m\n\u001b[1;32m    144\u001b[0m     emit_warning()\n\u001b[0;32m--> 145\u001b[0m \u001b[38;5;28;01mreturn\u001b[39;00m \u001b[43mwrapped\u001b[49m\u001b[43m(\u001b[49m\u001b[38;5;241;43m*\u001b[39;49m\u001b[43margs\u001b[49m\u001b[43m,\u001b[49m\u001b[43m \u001b[49m\u001b[38;5;241;43m*\u001b[39;49m\u001b[38;5;241;43m*\u001b[39;49m\u001b[43mkwargs\u001b[49m\u001b[43m)\u001b[49m\n",
      "File \u001b[0;32m~/opt/miniconda3/envs/py310_new/lib/python3.10/site-packages/langchain/chains/base.py:378\u001b[0m, in \u001b[0;36mChain.__call__\u001b[0;34m(self, inputs, return_only_outputs, callbacks, tags, metadata, run_name, include_run_info)\u001b[0m\n\u001b[1;32m    346\u001b[0m \u001b[38;5;250m\u001b[39m\u001b[38;5;124;03m\"\"\"Execute the chain.\u001b[39;00m\n\u001b[1;32m    347\u001b[0m \n\u001b[1;32m    348\u001b[0m \u001b[38;5;124;03mArgs:\u001b[39;00m\n\u001b[0;32m   (...)\u001b[0m\n\u001b[1;32m    369\u001b[0m \u001b[38;5;124;03m        `Chain.output_keys`.\u001b[39;00m\n\u001b[1;32m    370\u001b[0m \u001b[38;5;124;03m\"\"\"\u001b[39;00m\n\u001b[1;32m    371\u001b[0m config \u001b[38;5;241m=\u001b[39m {\n\u001b[1;32m    372\u001b[0m     \u001b[38;5;124m\"\u001b[39m\u001b[38;5;124mcallbacks\u001b[39m\u001b[38;5;124m\"\u001b[39m: callbacks,\n\u001b[1;32m    373\u001b[0m     \u001b[38;5;124m\"\u001b[39m\u001b[38;5;124mtags\u001b[39m\u001b[38;5;124m\"\u001b[39m: tags,\n\u001b[1;32m    374\u001b[0m     \u001b[38;5;124m\"\u001b[39m\u001b[38;5;124mmetadata\u001b[39m\u001b[38;5;124m\"\u001b[39m: metadata,\n\u001b[1;32m    375\u001b[0m     \u001b[38;5;124m\"\u001b[39m\u001b[38;5;124mrun_name\u001b[39m\u001b[38;5;124m\"\u001b[39m: run_name,\n\u001b[1;32m    376\u001b[0m }\n\u001b[0;32m--> 378\u001b[0m \u001b[38;5;28;01mreturn\u001b[39;00m \u001b[38;5;28;43mself\u001b[39;49m\u001b[38;5;241;43m.\u001b[39;49m\u001b[43minvoke\u001b[49m\u001b[43m(\u001b[49m\n\u001b[1;32m    379\u001b[0m \u001b[43m    \u001b[49m\u001b[43minputs\u001b[49m\u001b[43m,\u001b[49m\n\u001b[1;32m    380\u001b[0m \u001b[43m    \u001b[49m\u001b[43mcast\u001b[49m\u001b[43m(\u001b[49m\u001b[43mRunnableConfig\u001b[49m\u001b[43m,\u001b[49m\u001b[43m \u001b[49m\u001b[43m{\u001b[49m\u001b[43mk\u001b[49m\u001b[43m:\u001b[49m\u001b[43m \u001b[49m\u001b[43mv\u001b[49m\u001b[43m \u001b[49m\u001b[38;5;28;43;01mfor\u001b[39;49;00m\u001b[43m \u001b[49m\u001b[43mk\u001b[49m\u001b[43m,\u001b[49m\u001b[43m \u001b[49m\u001b[43mv\u001b[49m\u001b[43m \u001b[49m\u001b[38;5;129;43;01min\u001b[39;49;00m\u001b[43m \u001b[49m\u001b[43mconfig\u001b[49m\u001b[38;5;241;43m.\u001b[39;49m\u001b[43mitems\u001b[49m\u001b[43m(\u001b[49m\u001b[43m)\u001b[49m\u001b[43m \u001b[49m\u001b[38;5;28;43;01mif\u001b[39;49;00m\u001b[43m \u001b[49m\u001b[43mv\u001b[49m\u001b[43m \u001b[49m\u001b[38;5;129;43;01mis\u001b[39;49;00m\u001b[43m \u001b[49m\u001b[38;5;129;43;01mnot\u001b[39;49;00m\u001b[43m \u001b[49m\u001b[38;5;28;43;01mNone\u001b[39;49;00m\u001b[43m}\u001b[49m\u001b[43m)\u001b[49m\u001b[43m,\u001b[49m\n\u001b[1;32m    381\u001b[0m \u001b[43m    \u001b[49m\u001b[43mreturn_only_outputs\u001b[49m\u001b[38;5;241;43m=\u001b[39;49m\u001b[43mreturn_only_outputs\u001b[49m\u001b[43m,\u001b[49m\n\u001b[1;32m    382\u001b[0m \u001b[43m    \u001b[49m\u001b[43minclude_run_info\u001b[49m\u001b[38;5;241;43m=\u001b[39;49m\u001b[43minclude_run_info\u001b[49m\u001b[43m,\u001b[49m\n\u001b[1;32m    383\u001b[0m \u001b[43m\u001b[49m\u001b[43m)\u001b[49m\n",
      "File \u001b[0;32m~/opt/miniconda3/envs/py310_new/lib/python3.10/site-packages/langchain/chains/base.py:163\u001b[0m, in \u001b[0;36mChain.invoke\u001b[0;34m(self, input, config, **kwargs)\u001b[0m\n\u001b[1;32m    161\u001b[0m \u001b[38;5;28;01mexcept\u001b[39;00m \u001b[38;5;167;01mBaseException\u001b[39;00m \u001b[38;5;28;01mas\u001b[39;00m e:\n\u001b[1;32m    162\u001b[0m     run_manager\u001b[38;5;241m.\u001b[39mon_chain_error(e)\n\u001b[0;32m--> 163\u001b[0m     \u001b[38;5;28;01mraise\u001b[39;00m e\n\u001b[1;32m    164\u001b[0m run_manager\u001b[38;5;241m.\u001b[39mon_chain_end(outputs)\n\u001b[1;32m    166\u001b[0m \u001b[38;5;28;01mif\u001b[39;00m include_run_info:\n",
      "File \u001b[0;32m~/opt/miniconda3/envs/py310_new/lib/python3.10/site-packages/langchain/chains/base.py:153\u001b[0m, in \u001b[0;36mChain.invoke\u001b[0;34m(self, input, config, **kwargs)\u001b[0m\n\u001b[1;32m    150\u001b[0m \u001b[38;5;28;01mtry\u001b[39;00m:\n\u001b[1;32m    151\u001b[0m     \u001b[38;5;28mself\u001b[39m\u001b[38;5;241m.\u001b[39m_validate_inputs(inputs)\n\u001b[1;32m    152\u001b[0m     outputs \u001b[38;5;241m=\u001b[39m (\n\u001b[0;32m--> 153\u001b[0m         \u001b[38;5;28;43mself\u001b[39;49m\u001b[38;5;241;43m.\u001b[39;49m\u001b[43m_call\u001b[49m\u001b[43m(\u001b[49m\u001b[43minputs\u001b[49m\u001b[43m,\u001b[49m\u001b[43m \u001b[49m\u001b[43mrun_manager\u001b[49m\u001b[38;5;241;43m=\u001b[39;49m\u001b[43mrun_manager\u001b[49m\u001b[43m)\u001b[49m\n\u001b[1;32m    154\u001b[0m         \u001b[38;5;28;01mif\u001b[39;00m new_arg_supported\n\u001b[1;32m    155\u001b[0m         \u001b[38;5;28;01melse\u001b[39;00m \u001b[38;5;28mself\u001b[39m\u001b[38;5;241m.\u001b[39m_call(inputs)\n\u001b[1;32m    156\u001b[0m     )\n\u001b[1;32m    158\u001b[0m     final_outputs: Dict[\u001b[38;5;28mstr\u001b[39m, Any] \u001b[38;5;241m=\u001b[39m \u001b[38;5;28mself\u001b[39m\u001b[38;5;241m.\u001b[39mprep_outputs(\n\u001b[1;32m    159\u001b[0m         inputs, outputs, return_only_outputs\n\u001b[1;32m    160\u001b[0m     )\n\u001b[1;32m    161\u001b[0m \u001b[38;5;28;01mexcept\u001b[39;00m \u001b[38;5;167;01mBaseException\u001b[39;00m \u001b[38;5;28;01mas\u001b[39;00m e:\n",
      "File \u001b[0;32m~/opt/miniconda3/envs/py310_new/lib/python3.10/site-packages/langchain_experimental/smart_llm/base.py:168\u001b[0m, in \u001b[0;36mSmartLLMChain._call\u001b[0;34m(self, input_list, run_manager)\u001b[0m\n\u001b[1;32m    166\u001b[0m prompt, stop \u001b[38;5;241m=\u001b[39m \u001b[38;5;28mself\u001b[39m\u001b[38;5;241m.\u001b[39mprep_prompts(input_list, run_manager\u001b[38;5;241m=\u001b[39mrun_manager)\n\u001b[1;32m    167\u001b[0m \u001b[38;5;28mself\u001b[39m\u001b[38;5;241m.\u001b[39mhistory\u001b[38;5;241m.\u001b[39mquestion \u001b[38;5;241m=\u001b[39m prompt\u001b[38;5;241m.\u001b[39mto_string()\n\u001b[0;32m--> 168\u001b[0m ideas \u001b[38;5;241m=\u001b[39m \u001b[38;5;28;43mself\u001b[39;49m\u001b[38;5;241;43m.\u001b[39;49m\u001b[43m_ideate\u001b[49m\u001b[43m(\u001b[49m\u001b[43mstop\u001b[49m\u001b[43m,\u001b[49m\u001b[43m \u001b[49m\u001b[43mrun_manager\u001b[49m\u001b[43m)\u001b[49m\n\u001b[1;32m    169\u001b[0m \u001b[38;5;28mself\u001b[39m\u001b[38;5;241m.\u001b[39mhistory\u001b[38;5;241m.\u001b[39mideas \u001b[38;5;241m=\u001b[39m ideas\n\u001b[1;32m    170\u001b[0m critique \u001b[38;5;241m=\u001b[39m \u001b[38;5;28mself\u001b[39m\u001b[38;5;241m.\u001b[39m_critique(stop, run_manager)\n",
      "File \u001b[0;32m~/opt/miniconda3/envs/py310_new/lib/python3.10/site-packages/langchain_experimental/smart_llm/base.py:268\u001b[0m, in \u001b[0;36mSmartLLMChain._ideate\u001b[0;34m(self, stop, run_manager)\u001b[0m\n\u001b[1;32m    266\u001b[0m callbacks \u001b[38;5;241m=\u001b[39m run_manager\u001b[38;5;241m.\u001b[39mget_child() \u001b[38;5;28;01mif\u001b[39;00m run_manager \u001b[38;5;28;01melse\u001b[39;00m \u001b[38;5;28;01mNone\u001b[39;00m\n\u001b[1;32m    267\u001b[0m \u001b[38;5;28;01mif\u001b[39;00m llm:\n\u001b[0;32m--> 268\u001b[0m     ideas \u001b[38;5;241m=\u001b[39m [\n\u001b[1;32m    269\u001b[0m         \u001b[38;5;28mself\u001b[39m\u001b[38;5;241m.\u001b[39m_get_text_from_llm_result(\n\u001b[1;32m    270\u001b[0m             llm\u001b[38;5;241m.\u001b[39mgenerate_prompt([prompt], stop, callbacks),\n\u001b[1;32m    271\u001b[0m             step\u001b[38;5;241m=\u001b[39m\u001b[38;5;124m\"\u001b[39m\u001b[38;5;124mideate\u001b[39m\u001b[38;5;124m\"\u001b[39m,\n\u001b[1;32m    272\u001b[0m         )\n\u001b[1;32m    273\u001b[0m         \u001b[38;5;28;01mfor\u001b[39;00m _ \u001b[38;5;129;01min\u001b[39;00m \u001b[38;5;28mrange\u001b[39m(\u001b[38;5;28mself\u001b[39m\u001b[38;5;241m.\u001b[39mn_ideas)\n\u001b[1;32m    274\u001b[0m     ]\n\u001b[1;32m    275\u001b[0m     \u001b[38;5;28;01mfor\u001b[39;00m i, idea \u001b[38;5;129;01min\u001b[39;00m \u001b[38;5;28menumerate\u001b[39m(ideas):\n\u001b[1;32m    276\u001b[0m         _colored_text \u001b[38;5;241m=\u001b[39m get_colored_text(idea, \u001b[38;5;124m\"\u001b[39m\u001b[38;5;124mblue\u001b[39m\u001b[38;5;124m\"\u001b[39m)\n",
      "File \u001b[0;32m~/opt/miniconda3/envs/py310_new/lib/python3.10/site-packages/langchain_experimental/smart_llm/base.py:270\u001b[0m, in \u001b[0;36m<listcomp>\u001b[0;34m(.0)\u001b[0m\n\u001b[1;32m    266\u001b[0m callbacks \u001b[38;5;241m=\u001b[39m run_manager\u001b[38;5;241m.\u001b[39mget_child() \u001b[38;5;28;01mif\u001b[39;00m run_manager \u001b[38;5;28;01melse\u001b[39;00m \u001b[38;5;28;01mNone\u001b[39;00m\n\u001b[1;32m    267\u001b[0m \u001b[38;5;28;01mif\u001b[39;00m llm:\n\u001b[1;32m    268\u001b[0m     ideas \u001b[38;5;241m=\u001b[39m [\n\u001b[1;32m    269\u001b[0m         \u001b[38;5;28mself\u001b[39m\u001b[38;5;241m.\u001b[39m_get_text_from_llm_result(\n\u001b[0;32m--> 270\u001b[0m             \u001b[43mllm\u001b[49m\u001b[38;5;241;43m.\u001b[39;49m\u001b[43mgenerate_prompt\u001b[49m\u001b[43m(\u001b[49m\u001b[43m[\u001b[49m\u001b[43mprompt\u001b[49m\u001b[43m]\u001b[49m\u001b[43m,\u001b[49m\u001b[43m \u001b[49m\u001b[43mstop\u001b[49m\u001b[43m,\u001b[49m\u001b[43m \u001b[49m\u001b[43mcallbacks\u001b[49m\u001b[43m)\u001b[49m,\n\u001b[1;32m    271\u001b[0m             step\u001b[38;5;241m=\u001b[39m\u001b[38;5;124m\"\u001b[39m\u001b[38;5;124mideate\u001b[39m\u001b[38;5;124m\"\u001b[39m,\n\u001b[1;32m    272\u001b[0m         )\n\u001b[1;32m    273\u001b[0m         \u001b[38;5;28;01mfor\u001b[39;00m _ \u001b[38;5;129;01min\u001b[39;00m \u001b[38;5;28mrange\u001b[39m(\u001b[38;5;28mself\u001b[39m\u001b[38;5;241m.\u001b[39mn_ideas)\n\u001b[1;32m    274\u001b[0m     ]\n\u001b[1;32m    275\u001b[0m     \u001b[38;5;28;01mfor\u001b[39;00m i, idea \u001b[38;5;129;01min\u001b[39;00m \u001b[38;5;28menumerate\u001b[39m(ideas):\n\u001b[1;32m    276\u001b[0m         _colored_text \u001b[38;5;241m=\u001b[39m get_colored_text(idea, \u001b[38;5;124m\"\u001b[39m\u001b[38;5;124mblue\u001b[39m\u001b[38;5;124m\"\u001b[39m)\n",
      "File \u001b[0;32m~/opt/miniconda3/envs/py310_new/lib/python3.10/site-packages/langchain_core/language_models/chat_models.py:550\u001b[0m, in \u001b[0;36mBaseChatModel.generate_prompt\u001b[0;34m(self, prompts, stop, callbacks, **kwargs)\u001b[0m\n\u001b[1;32m    542\u001b[0m \u001b[38;5;28;01mdef\u001b[39;00m \u001b[38;5;21mgenerate_prompt\u001b[39m(\n\u001b[1;32m    543\u001b[0m     \u001b[38;5;28mself\u001b[39m,\n\u001b[1;32m    544\u001b[0m     prompts: List[PromptValue],\n\u001b[0;32m   (...)\u001b[0m\n\u001b[1;32m    547\u001b[0m     \u001b[38;5;241m*\u001b[39m\u001b[38;5;241m*\u001b[39mkwargs: Any,\n\u001b[1;32m    548\u001b[0m ) \u001b[38;5;241m-\u001b[39m\u001b[38;5;241m>\u001b[39m LLMResult:\n\u001b[1;32m    549\u001b[0m     prompt_messages \u001b[38;5;241m=\u001b[39m [p\u001b[38;5;241m.\u001b[39mto_messages() \u001b[38;5;28;01mfor\u001b[39;00m p \u001b[38;5;129;01min\u001b[39;00m prompts]\n\u001b[0;32m--> 550\u001b[0m     \u001b[38;5;28;01mreturn\u001b[39;00m \u001b[38;5;28;43mself\u001b[39;49m\u001b[38;5;241;43m.\u001b[39;49m\u001b[43mgenerate\u001b[49m\u001b[43m(\u001b[49m\u001b[43mprompt_messages\u001b[49m\u001b[43m,\u001b[49m\u001b[43m \u001b[49m\u001b[43mstop\u001b[49m\u001b[38;5;241;43m=\u001b[39;49m\u001b[43mstop\u001b[49m\u001b[43m,\u001b[49m\u001b[43m \u001b[49m\u001b[43mcallbacks\u001b[49m\u001b[38;5;241;43m=\u001b[39;49m\u001b[43mcallbacks\u001b[49m\u001b[43m,\u001b[49m\u001b[43m \u001b[49m\u001b[38;5;241;43m*\u001b[39;49m\u001b[38;5;241;43m*\u001b[39;49m\u001b[43mkwargs\u001b[49m\u001b[43m)\u001b[49m\n",
      "File \u001b[0;32m~/opt/miniconda3/envs/py310_new/lib/python3.10/site-packages/langchain_core/language_models/chat_models.py:411\u001b[0m, in \u001b[0;36mBaseChatModel.generate\u001b[0;34m(self, messages, stop, callbacks, tags, metadata, run_name, run_id, **kwargs)\u001b[0m\n\u001b[1;32m    409\u001b[0m         \u001b[38;5;28;01mif\u001b[39;00m run_managers:\n\u001b[1;32m    410\u001b[0m             run_managers[i]\u001b[38;5;241m.\u001b[39mon_llm_error(e, response\u001b[38;5;241m=\u001b[39mLLMResult(generations\u001b[38;5;241m=\u001b[39m[]))\n\u001b[0;32m--> 411\u001b[0m         \u001b[38;5;28;01mraise\u001b[39;00m e\n\u001b[1;32m    412\u001b[0m flattened_outputs \u001b[38;5;241m=\u001b[39m [\n\u001b[1;32m    413\u001b[0m     LLMResult(generations\u001b[38;5;241m=\u001b[39m[res\u001b[38;5;241m.\u001b[39mgenerations], llm_output\u001b[38;5;241m=\u001b[39mres\u001b[38;5;241m.\u001b[39mllm_output)  \u001b[38;5;66;03m# type: ignore[list-item]\u001b[39;00m\n\u001b[1;32m    414\u001b[0m     \u001b[38;5;28;01mfor\u001b[39;00m res \u001b[38;5;129;01min\u001b[39;00m results\n\u001b[1;32m    415\u001b[0m ]\n\u001b[1;32m    416\u001b[0m llm_output \u001b[38;5;241m=\u001b[39m \u001b[38;5;28mself\u001b[39m\u001b[38;5;241m.\u001b[39m_combine_llm_outputs([res\u001b[38;5;241m.\u001b[39mllm_output \u001b[38;5;28;01mfor\u001b[39;00m res \u001b[38;5;129;01min\u001b[39;00m results])\n",
      "File \u001b[0;32m~/opt/miniconda3/envs/py310_new/lib/python3.10/site-packages/langchain_core/language_models/chat_models.py:401\u001b[0m, in \u001b[0;36mBaseChatModel.generate\u001b[0;34m(self, messages, stop, callbacks, tags, metadata, run_name, run_id, **kwargs)\u001b[0m\n\u001b[1;32m    398\u001b[0m \u001b[38;5;28;01mfor\u001b[39;00m i, m \u001b[38;5;129;01min\u001b[39;00m \u001b[38;5;28menumerate\u001b[39m(messages):\n\u001b[1;32m    399\u001b[0m     \u001b[38;5;28;01mtry\u001b[39;00m:\n\u001b[1;32m    400\u001b[0m         results\u001b[38;5;241m.\u001b[39mappend(\n\u001b[0;32m--> 401\u001b[0m             \u001b[38;5;28;43mself\u001b[39;49m\u001b[38;5;241;43m.\u001b[39;49m\u001b[43m_generate_with_cache\u001b[49m\u001b[43m(\u001b[49m\n\u001b[1;32m    402\u001b[0m \u001b[43m                \u001b[49m\u001b[43mm\u001b[49m\u001b[43m,\u001b[49m\n\u001b[1;32m    403\u001b[0m \u001b[43m                \u001b[49m\u001b[43mstop\u001b[49m\u001b[38;5;241;43m=\u001b[39;49m\u001b[43mstop\u001b[49m\u001b[43m,\u001b[49m\n\u001b[1;32m    404\u001b[0m \u001b[43m                \u001b[49m\u001b[43mrun_manager\u001b[49m\u001b[38;5;241;43m=\u001b[39;49m\u001b[43mrun_managers\u001b[49m\u001b[43m[\u001b[49m\u001b[43mi\u001b[49m\u001b[43m]\u001b[49m\u001b[43m \u001b[49m\u001b[38;5;28;43;01mif\u001b[39;49;00m\u001b[43m \u001b[49m\u001b[43mrun_managers\u001b[49m\u001b[43m \u001b[49m\u001b[38;5;28;43;01melse\u001b[39;49;00m\u001b[43m \u001b[49m\u001b[38;5;28;43;01mNone\u001b[39;49;00m\u001b[43m,\u001b[49m\n\u001b[1;32m    405\u001b[0m \u001b[43m                \u001b[49m\u001b[38;5;241;43m*\u001b[39;49m\u001b[38;5;241;43m*\u001b[39;49m\u001b[43mkwargs\u001b[49m\u001b[43m,\u001b[49m\n\u001b[1;32m    406\u001b[0m \u001b[43m            \u001b[49m\u001b[43m)\u001b[49m\n\u001b[1;32m    407\u001b[0m         )\n\u001b[1;32m    408\u001b[0m     \u001b[38;5;28;01mexcept\u001b[39;00m \u001b[38;5;167;01mBaseException\u001b[39;00m \u001b[38;5;28;01mas\u001b[39;00m e:\n\u001b[1;32m    409\u001b[0m         \u001b[38;5;28;01mif\u001b[39;00m run_managers:\n",
      "File \u001b[0;32m~/opt/miniconda3/envs/py310_new/lib/python3.10/site-packages/langchain_core/language_models/chat_models.py:618\u001b[0m, in \u001b[0;36mBaseChatModel._generate_with_cache\u001b[0;34m(self, messages, stop, run_manager, **kwargs)\u001b[0m\n\u001b[1;32m    616\u001b[0m \u001b[38;5;28;01melse\u001b[39;00m:\n\u001b[1;32m    617\u001b[0m     \u001b[38;5;28;01mif\u001b[39;00m inspect\u001b[38;5;241m.\u001b[39msignature(\u001b[38;5;28mself\u001b[39m\u001b[38;5;241m.\u001b[39m_generate)\u001b[38;5;241m.\u001b[39mparameters\u001b[38;5;241m.\u001b[39mget(\u001b[38;5;124m\"\u001b[39m\u001b[38;5;124mrun_manager\u001b[39m\u001b[38;5;124m\"\u001b[39m):\n\u001b[0;32m--> 618\u001b[0m         result \u001b[38;5;241m=\u001b[39m \u001b[38;5;28;43mself\u001b[39;49m\u001b[38;5;241;43m.\u001b[39;49m\u001b[43m_generate\u001b[49m\u001b[43m(\u001b[49m\n\u001b[1;32m    619\u001b[0m \u001b[43m            \u001b[49m\u001b[43mmessages\u001b[49m\u001b[43m,\u001b[49m\u001b[43m \u001b[49m\u001b[43mstop\u001b[49m\u001b[38;5;241;43m=\u001b[39;49m\u001b[43mstop\u001b[49m\u001b[43m,\u001b[49m\u001b[43m \u001b[49m\u001b[43mrun_manager\u001b[49m\u001b[38;5;241;43m=\u001b[39;49m\u001b[43mrun_manager\u001b[49m\u001b[43m,\u001b[49m\u001b[43m \u001b[49m\u001b[38;5;241;43m*\u001b[39;49m\u001b[38;5;241;43m*\u001b[39;49m\u001b[43mkwargs\u001b[49m\n\u001b[1;32m    620\u001b[0m \u001b[43m        \u001b[49m\u001b[43m)\u001b[49m\n\u001b[1;32m    621\u001b[0m     \u001b[38;5;28;01melse\u001b[39;00m:\n\u001b[1;32m    622\u001b[0m         result \u001b[38;5;241m=\u001b[39m \u001b[38;5;28mself\u001b[39m\u001b[38;5;241m.\u001b[39m_generate(messages, stop\u001b[38;5;241m=\u001b[39mstop, \u001b[38;5;241m*\u001b[39m\u001b[38;5;241m*\u001b[39mkwargs)\n",
      "File \u001b[0;32m~/opt/miniconda3/envs/py310_new/lib/python3.10/site-packages/langchain_openai/chat_models/base.py:484\u001b[0m, in \u001b[0;36mChatOpenAI._generate\u001b[0;34m(self, messages, stop, run_manager, stream, **kwargs)\u001b[0m\n\u001b[1;32m    478\u001b[0m message_dicts, params \u001b[38;5;241m=\u001b[39m \u001b[38;5;28mself\u001b[39m\u001b[38;5;241m.\u001b[39m_create_message_dicts(messages, stop)\n\u001b[1;32m    479\u001b[0m params \u001b[38;5;241m=\u001b[39m {\n\u001b[1;32m    480\u001b[0m     \u001b[38;5;241m*\u001b[39m\u001b[38;5;241m*\u001b[39mparams,\n\u001b[1;32m    481\u001b[0m     \u001b[38;5;241m*\u001b[39m\u001b[38;5;241m*\u001b[39m({\u001b[38;5;124m\"\u001b[39m\u001b[38;5;124mstream\u001b[39m\u001b[38;5;124m\"\u001b[39m: stream} \u001b[38;5;28;01mif\u001b[39;00m stream \u001b[38;5;129;01mis\u001b[39;00m \u001b[38;5;129;01mnot\u001b[39;00m \u001b[38;5;28;01mNone\u001b[39;00m \u001b[38;5;28;01melse\u001b[39;00m {}),\n\u001b[1;32m    482\u001b[0m     \u001b[38;5;241m*\u001b[39m\u001b[38;5;241m*\u001b[39mkwargs,\n\u001b[1;32m    483\u001b[0m }\n\u001b[0;32m--> 484\u001b[0m response \u001b[38;5;241m=\u001b[39m \u001b[38;5;28;43mself\u001b[39;49m\u001b[38;5;241;43m.\u001b[39;49m\u001b[43mclient\u001b[49m\u001b[38;5;241;43m.\u001b[39;49m\u001b[43mcreate\u001b[49m\u001b[43m(\u001b[49m\u001b[43mmessages\u001b[49m\u001b[38;5;241;43m=\u001b[39;49m\u001b[43mmessage_dicts\u001b[49m\u001b[43m,\u001b[49m\u001b[43m \u001b[49m\u001b[38;5;241;43m*\u001b[39;49m\u001b[38;5;241;43m*\u001b[39;49m\u001b[43mparams\u001b[49m\u001b[43m)\u001b[49m\n\u001b[1;32m    485\u001b[0m \u001b[38;5;28;01mreturn\u001b[39;00m \u001b[38;5;28mself\u001b[39m\u001b[38;5;241m.\u001b[39m_create_chat_result(response)\n",
      "File \u001b[0;32m~/opt/miniconda3/envs/py310_new/lib/python3.10/site-packages/openai/_utils/_utils.py:275\u001b[0m, in \u001b[0;36mrequired_args.<locals>.inner.<locals>.wrapper\u001b[0;34m(*args, **kwargs)\u001b[0m\n\u001b[1;32m    273\u001b[0m             msg \u001b[38;5;241m=\u001b[39m \u001b[38;5;124mf\u001b[39m\u001b[38;5;124m\"\u001b[39m\u001b[38;5;124mMissing required argument: \u001b[39m\u001b[38;5;132;01m{\u001b[39;00mquote(missing[\u001b[38;5;241m0\u001b[39m])\u001b[38;5;132;01m}\u001b[39;00m\u001b[38;5;124m\"\u001b[39m\n\u001b[1;32m    274\u001b[0m     \u001b[38;5;28;01mraise\u001b[39;00m \u001b[38;5;167;01mTypeError\u001b[39;00m(msg)\n\u001b[0;32m--> 275\u001b[0m \u001b[38;5;28;01mreturn\u001b[39;00m \u001b[43mfunc\u001b[49m\u001b[43m(\u001b[49m\u001b[38;5;241;43m*\u001b[39;49m\u001b[43margs\u001b[49m\u001b[43m,\u001b[49m\u001b[43m \u001b[49m\u001b[38;5;241;43m*\u001b[39;49m\u001b[38;5;241;43m*\u001b[39;49m\u001b[43mkwargs\u001b[49m\u001b[43m)\u001b[49m\n",
      "File \u001b[0;32m~/opt/miniconda3/envs/py310_new/lib/python3.10/site-packages/openai/resources/chat/completions.py:667\u001b[0m, in \u001b[0;36mCompletions.create\u001b[0;34m(self, messages, model, frequency_penalty, function_call, functions, logit_bias, logprobs, max_tokens, n, presence_penalty, response_format, seed, stop, stream, temperature, tool_choice, tools, top_logprobs, top_p, user, extra_headers, extra_query, extra_body, timeout)\u001b[0m\n\u001b[1;32m    615\u001b[0m \u001b[38;5;129m@required_args\u001b[39m([\u001b[38;5;124m\"\u001b[39m\u001b[38;5;124mmessages\u001b[39m\u001b[38;5;124m\"\u001b[39m, \u001b[38;5;124m\"\u001b[39m\u001b[38;5;124mmodel\u001b[39m\u001b[38;5;124m\"\u001b[39m], [\u001b[38;5;124m\"\u001b[39m\u001b[38;5;124mmessages\u001b[39m\u001b[38;5;124m\"\u001b[39m, \u001b[38;5;124m\"\u001b[39m\u001b[38;5;124mmodel\u001b[39m\u001b[38;5;124m\"\u001b[39m, \u001b[38;5;124m\"\u001b[39m\u001b[38;5;124mstream\u001b[39m\u001b[38;5;124m\"\u001b[39m])\n\u001b[1;32m    616\u001b[0m \u001b[38;5;28;01mdef\u001b[39;00m \u001b[38;5;21mcreate\u001b[39m(\n\u001b[1;32m    617\u001b[0m     \u001b[38;5;28mself\u001b[39m,\n\u001b[0;32m   (...)\u001b[0m\n\u001b[1;32m    665\u001b[0m     timeout: \u001b[38;5;28mfloat\u001b[39m \u001b[38;5;241m|\u001b[39m httpx\u001b[38;5;241m.\u001b[39mTimeout \u001b[38;5;241m|\u001b[39m \u001b[38;5;28;01mNone\u001b[39;00m \u001b[38;5;241m|\u001b[39m NotGiven \u001b[38;5;241m=\u001b[39m NOT_GIVEN,\n\u001b[1;32m    666\u001b[0m ) \u001b[38;5;241m-\u001b[39m\u001b[38;5;241m>\u001b[39m ChatCompletion \u001b[38;5;241m|\u001b[39m Stream[ChatCompletionChunk]:\n\u001b[0;32m--> 667\u001b[0m     \u001b[38;5;28;01mreturn\u001b[39;00m \u001b[38;5;28;43mself\u001b[39;49m\u001b[38;5;241;43m.\u001b[39;49m\u001b[43m_post\u001b[49m\u001b[43m(\u001b[49m\n\u001b[1;32m    668\u001b[0m \u001b[43m        \u001b[49m\u001b[38;5;124;43m\"\u001b[39;49m\u001b[38;5;124;43m/chat/completions\u001b[39;49m\u001b[38;5;124;43m\"\u001b[39;49m\u001b[43m,\u001b[49m\n\u001b[1;32m    669\u001b[0m \u001b[43m        \u001b[49m\u001b[43mbody\u001b[49m\u001b[38;5;241;43m=\u001b[39;49m\u001b[43mmaybe_transform\u001b[49m\u001b[43m(\u001b[49m\n\u001b[1;32m    670\u001b[0m \u001b[43m            \u001b[49m\u001b[43m{\u001b[49m\n\u001b[1;32m    671\u001b[0m \u001b[43m                \u001b[49m\u001b[38;5;124;43m\"\u001b[39;49m\u001b[38;5;124;43mmessages\u001b[39;49m\u001b[38;5;124;43m\"\u001b[39;49m\u001b[43m:\u001b[49m\u001b[43m \u001b[49m\u001b[43mmessages\u001b[49m\u001b[43m,\u001b[49m\n\u001b[1;32m    672\u001b[0m \u001b[43m                \u001b[49m\u001b[38;5;124;43m\"\u001b[39;49m\u001b[38;5;124;43mmodel\u001b[39;49m\u001b[38;5;124;43m\"\u001b[39;49m\u001b[43m:\u001b[49m\u001b[43m \u001b[49m\u001b[43mmodel\u001b[49m\u001b[43m,\u001b[49m\n\u001b[1;32m    673\u001b[0m \u001b[43m                \u001b[49m\u001b[38;5;124;43m\"\u001b[39;49m\u001b[38;5;124;43mfrequency_penalty\u001b[39;49m\u001b[38;5;124;43m\"\u001b[39;49m\u001b[43m:\u001b[49m\u001b[43m \u001b[49m\u001b[43mfrequency_penalty\u001b[49m\u001b[43m,\u001b[49m\n\u001b[1;32m    674\u001b[0m \u001b[43m                \u001b[49m\u001b[38;5;124;43m\"\u001b[39;49m\u001b[38;5;124;43mfunction_call\u001b[39;49m\u001b[38;5;124;43m\"\u001b[39;49m\u001b[43m:\u001b[49m\u001b[43m \u001b[49m\u001b[43mfunction_call\u001b[49m\u001b[43m,\u001b[49m\n\u001b[1;32m    675\u001b[0m \u001b[43m                \u001b[49m\u001b[38;5;124;43m\"\u001b[39;49m\u001b[38;5;124;43mfunctions\u001b[39;49m\u001b[38;5;124;43m\"\u001b[39;49m\u001b[43m:\u001b[49m\u001b[43m \u001b[49m\u001b[43mfunctions\u001b[49m\u001b[43m,\u001b[49m\n\u001b[1;32m    676\u001b[0m \u001b[43m                \u001b[49m\u001b[38;5;124;43m\"\u001b[39;49m\u001b[38;5;124;43mlogit_bias\u001b[39;49m\u001b[38;5;124;43m\"\u001b[39;49m\u001b[43m:\u001b[49m\u001b[43m \u001b[49m\u001b[43mlogit_bias\u001b[49m\u001b[43m,\u001b[49m\n\u001b[1;32m    677\u001b[0m \u001b[43m                \u001b[49m\u001b[38;5;124;43m\"\u001b[39;49m\u001b[38;5;124;43mlogprobs\u001b[39;49m\u001b[38;5;124;43m\"\u001b[39;49m\u001b[43m:\u001b[49m\u001b[43m \u001b[49m\u001b[43mlogprobs\u001b[49m\u001b[43m,\u001b[49m\n\u001b[1;32m    678\u001b[0m \u001b[43m                \u001b[49m\u001b[38;5;124;43m\"\u001b[39;49m\u001b[38;5;124;43mmax_tokens\u001b[39;49m\u001b[38;5;124;43m\"\u001b[39;49m\u001b[43m:\u001b[49m\u001b[43m \u001b[49m\u001b[43mmax_tokens\u001b[49m\u001b[43m,\u001b[49m\n\u001b[1;32m    679\u001b[0m \u001b[43m                \u001b[49m\u001b[38;5;124;43m\"\u001b[39;49m\u001b[38;5;124;43mn\u001b[39;49m\u001b[38;5;124;43m\"\u001b[39;49m\u001b[43m:\u001b[49m\u001b[43m \u001b[49m\u001b[43mn\u001b[49m\u001b[43m,\u001b[49m\n\u001b[1;32m    680\u001b[0m \u001b[43m                \u001b[49m\u001b[38;5;124;43m\"\u001b[39;49m\u001b[38;5;124;43mpresence_penalty\u001b[39;49m\u001b[38;5;124;43m\"\u001b[39;49m\u001b[43m:\u001b[49m\u001b[43m \u001b[49m\u001b[43mpresence_penalty\u001b[49m\u001b[43m,\u001b[49m\n\u001b[1;32m    681\u001b[0m \u001b[43m                \u001b[49m\u001b[38;5;124;43m\"\u001b[39;49m\u001b[38;5;124;43mresponse_format\u001b[39;49m\u001b[38;5;124;43m\"\u001b[39;49m\u001b[43m:\u001b[49m\u001b[43m \u001b[49m\u001b[43mresponse_format\u001b[49m\u001b[43m,\u001b[49m\n\u001b[1;32m    682\u001b[0m \u001b[43m                \u001b[49m\u001b[38;5;124;43m\"\u001b[39;49m\u001b[38;5;124;43mseed\u001b[39;49m\u001b[38;5;124;43m\"\u001b[39;49m\u001b[43m:\u001b[49m\u001b[43m \u001b[49m\u001b[43mseed\u001b[49m\u001b[43m,\u001b[49m\n\u001b[1;32m    683\u001b[0m \u001b[43m                \u001b[49m\u001b[38;5;124;43m\"\u001b[39;49m\u001b[38;5;124;43mstop\u001b[39;49m\u001b[38;5;124;43m\"\u001b[39;49m\u001b[43m:\u001b[49m\u001b[43m \u001b[49m\u001b[43mstop\u001b[49m\u001b[43m,\u001b[49m\n\u001b[1;32m    684\u001b[0m \u001b[43m                \u001b[49m\u001b[38;5;124;43m\"\u001b[39;49m\u001b[38;5;124;43mstream\u001b[39;49m\u001b[38;5;124;43m\"\u001b[39;49m\u001b[43m:\u001b[49m\u001b[43m \u001b[49m\u001b[43mstream\u001b[49m\u001b[43m,\u001b[49m\n\u001b[1;32m    685\u001b[0m \u001b[43m                \u001b[49m\u001b[38;5;124;43m\"\u001b[39;49m\u001b[38;5;124;43mtemperature\u001b[39;49m\u001b[38;5;124;43m\"\u001b[39;49m\u001b[43m:\u001b[49m\u001b[43m \u001b[49m\u001b[43mtemperature\u001b[49m\u001b[43m,\u001b[49m\n\u001b[1;32m    686\u001b[0m \u001b[43m                \u001b[49m\u001b[38;5;124;43m\"\u001b[39;49m\u001b[38;5;124;43mtool_choice\u001b[39;49m\u001b[38;5;124;43m\"\u001b[39;49m\u001b[43m:\u001b[49m\u001b[43m \u001b[49m\u001b[43mtool_choice\u001b[49m\u001b[43m,\u001b[49m\n\u001b[1;32m    687\u001b[0m \u001b[43m                \u001b[49m\u001b[38;5;124;43m\"\u001b[39;49m\u001b[38;5;124;43mtools\u001b[39;49m\u001b[38;5;124;43m\"\u001b[39;49m\u001b[43m:\u001b[49m\u001b[43m \u001b[49m\u001b[43mtools\u001b[49m\u001b[43m,\u001b[49m\n\u001b[1;32m    688\u001b[0m \u001b[43m                \u001b[49m\u001b[38;5;124;43m\"\u001b[39;49m\u001b[38;5;124;43mtop_logprobs\u001b[39;49m\u001b[38;5;124;43m\"\u001b[39;49m\u001b[43m:\u001b[49m\u001b[43m \u001b[49m\u001b[43mtop_logprobs\u001b[49m\u001b[43m,\u001b[49m\n\u001b[1;32m    689\u001b[0m \u001b[43m                \u001b[49m\u001b[38;5;124;43m\"\u001b[39;49m\u001b[38;5;124;43mtop_p\u001b[39;49m\u001b[38;5;124;43m\"\u001b[39;49m\u001b[43m:\u001b[49m\u001b[43m \u001b[49m\u001b[43mtop_p\u001b[49m\u001b[43m,\u001b[49m\n\u001b[1;32m    690\u001b[0m \u001b[43m                \u001b[49m\u001b[38;5;124;43m\"\u001b[39;49m\u001b[38;5;124;43muser\u001b[39;49m\u001b[38;5;124;43m\"\u001b[39;49m\u001b[43m:\u001b[49m\u001b[43m \u001b[49m\u001b[43muser\u001b[49m\u001b[43m,\u001b[49m\n\u001b[1;32m    691\u001b[0m \u001b[43m            \u001b[49m\u001b[43m}\u001b[49m\u001b[43m,\u001b[49m\n\u001b[1;32m    692\u001b[0m \u001b[43m            \u001b[49m\u001b[43mcompletion_create_params\u001b[49m\u001b[38;5;241;43m.\u001b[39;49m\u001b[43mCompletionCreateParams\u001b[49m\u001b[43m,\u001b[49m\n\u001b[1;32m    693\u001b[0m \u001b[43m        \u001b[49m\u001b[43m)\u001b[49m\u001b[43m,\u001b[49m\n\u001b[1;32m    694\u001b[0m \u001b[43m        \u001b[49m\u001b[43moptions\u001b[49m\u001b[38;5;241;43m=\u001b[39;49m\u001b[43mmake_request_options\u001b[49m\u001b[43m(\u001b[49m\n\u001b[1;32m    695\u001b[0m \u001b[43m            \u001b[49m\u001b[43mextra_headers\u001b[49m\u001b[38;5;241;43m=\u001b[39;49m\u001b[43mextra_headers\u001b[49m\u001b[43m,\u001b[49m\u001b[43m \u001b[49m\u001b[43mextra_query\u001b[49m\u001b[38;5;241;43m=\u001b[39;49m\u001b[43mextra_query\u001b[49m\u001b[43m,\u001b[49m\u001b[43m \u001b[49m\u001b[43mextra_body\u001b[49m\u001b[38;5;241;43m=\u001b[39;49m\u001b[43mextra_body\u001b[49m\u001b[43m,\u001b[49m\u001b[43m \u001b[49m\u001b[43mtimeout\u001b[49m\u001b[38;5;241;43m=\u001b[39;49m\u001b[43mtimeout\u001b[49m\n\u001b[1;32m    696\u001b[0m \u001b[43m        \u001b[49m\u001b[43m)\u001b[49m\u001b[43m,\u001b[49m\n\u001b[1;32m    697\u001b[0m \u001b[43m        \u001b[49m\u001b[43mcast_to\u001b[49m\u001b[38;5;241;43m=\u001b[39;49m\u001b[43mChatCompletion\u001b[49m\u001b[43m,\u001b[49m\n\u001b[1;32m    698\u001b[0m \u001b[43m        \u001b[49m\u001b[43mstream\u001b[49m\u001b[38;5;241;43m=\u001b[39;49m\u001b[43mstream\u001b[49m\u001b[43m \u001b[49m\u001b[38;5;129;43;01mor\u001b[39;49;00m\u001b[43m \u001b[49m\u001b[38;5;28;43;01mFalse\u001b[39;49;00m\u001b[43m,\u001b[49m\n\u001b[1;32m    699\u001b[0m \u001b[43m        \u001b[49m\u001b[43mstream_cls\u001b[49m\u001b[38;5;241;43m=\u001b[39;49m\u001b[43mStream\u001b[49m\u001b[43m[\u001b[49m\u001b[43mChatCompletionChunk\u001b[49m\u001b[43m]\u001b[49m\u001b[43m,\u001b[49m\n\u001b[1;32m    700\u001b[0m \u001b[43m    \u001b[49m\u001b[43m)\u001b[49m\n",
      "File \u001b[0;32m~/opt/miniconda3/envs/py310_new/lib/python3.10/site-packages/openai/_base_client.py:1208\u001b[0m, in \u001b[0;36mSyncAPIClient.post\u001b[0;34m(self, path, cast_to, body, options, files, stream, stream_cls)\u001b[0m\n\u001b[1;32m   1194\u001b[0m \u001b[38;5;28;01mdef\u001b[39;00m \u001b[38;5;21mpost\u001b[39m(\n\u001b[1;32m   1195\u001b[0m     \u001b[38;5;28mself\u001b[39m,\n\u001b[1;32m   1196\u001b[0m     path: \u001b[38;5;28mstr\u001b[39m,\n\u001b[0;32m   (...)\u001b[0m\n\u001b[1;32m   1203\u001b[0m     stream_cls: \u001b[38;5;28mtype\u001b[39m[_StreamT] \u001b[38;5;241m|\u001b[39m \u001b[38;5;28;01mNone\u001b[39;00m \u001b[38;5;241m=\u001b[39m \u001b[38;5;28;01mNone\u001b[39;00m,\n\u001b[1;32m   1204\u001b[0m ) \u001b[38;5;241m-\u001b[39m\u001b[38;5;241m>\u001b[39m ResponseT \u001b[38;5;241m|\u001b[39m _StreamT:\n\u001b[1;32m   1205\u001b[0m     opts \u001b[38;5;241m=\u001b[39m FinalRequestOptions\u001b[38;5;241m.\u001b[39mconstruct(\n\u001b[1;32m   1206\u001b[0m         method\u001b[38;5;241m=\u001b[39m\u001b[38;5;124m\"\u001b[39m\u001b[38;5;124mpost\u001b[39m\u001b[38;5;124m\"\u001b[39m, url\u001b[38;5;241m=\u001b[39mpath, json_data\u001b[38;5;241m=\u001b[39mbody, files\u001b[38;5;241m=\u001b[39mto_httpx_files(files), \u001b[38;5;241m*\u001b[39m\u001b[38;5;241m*\u001b[39moptions\n\u001b[1;32m   1207\u001b[0m     )\n\u001b[0;32m-> 1208\u001b[0m     \u001b[38;5;28;01mreturn\u001b[39;00m cast(ResponseT, \u001b[38;5;28;43mself\u001b[39;49m\u001b[38;5;241;43m.\u001b[39;49m\u001b[43mrequest\u001b[49m\u001b[43m(\u001b[49m\u001b[43mcast_to\u001b[49m\u001b[43m,\u001b[49m\u001b[43m \u001b[49m\u001b[43mopts\u001b[49m\u001b[43m,\u001b[49m\u001b[43m \u001b[49m\u001b[43mstream\u001b[49m\u001b[38;5;241;43m=\u001b[39;49m\u001b[43mstream\u001b[49m\u001b[43m,\u001b[49m\u001b[43m \u001b[49m\u001b[43mstream_cls\u001b[49m\u001b[38;5;241;43m=\u001b[39;49m\u001b[43mstream_cls\u001b[49m\u001b[43m)\u001b[49m)\n",
      "File \u001b[0;32m~/opt/miniconda3/envs/py310_new/lib/python3.10/site-packages/openai/_base_client.py:897\u001b[0m, in \u001b[0;36mSyncAPIClient.request\u001b[0;34m(self, cast_to, options, remaining_retries, stream, stream_cls)\u001b[0m\n\u001b[1;32m    888\u001b[0m \u001b[38;5;28;01mdef\u001b[39;00m \u001b[38;5;21mrequest\u001b[39m(\n\u001b[1;32m    889\u001b[0m     \u001b[38;5;28mself\u001b[39m,\n\u001b[1;32m    890\u001b[0m     cast_to: Type[ResponseT],\n\u001b[0;32m   (...)\u001b[0m\n\u001b[1;32m    895\u001b[0m     stream_cls: \u001b[38;5;28mtype\u001b[39m[_StreamT] \u001b[38;5;241m|\u001b[39m \u001b[38;5;28;01mNone\u001b[39;00m \u001b[38;5;241m=\u001b[39m \u001b[38;5;28;01mNone\u001b[39;00m,\n\u001b[1;32m    896\u001b[0m ) \u001b[38;5;241m-\u001b[39m\u001b[38;5;241m>\u001b[39m ResponseT \u001b[38;5;241m|\u001b[39m _StreamT:\n\u001b[0;32m--> 897\u001b[0m     \u001b[38;5;28;01mreturn\u001b[39;00m \u001b[38;5;28;43mself\u001b[39;49m\u001b[38;5;241;43m.\u001b[39;49m\u001b[43m_request\u001b[49m\u001b[43m(\u001b[49m\n\u001b[1;32m    898\u001b[0m \u001b[43m        \u001b[49m\u001b[43mcast_to\u001b[49m\u001b[38;5;241;43m=\u001b[39;49m\u001b[43mcast_to\u001b[49m\u001b[43m,\u001b[49m\n\u001b[1;32m    899\u001b[0m \u001b[43m        \u001b[49m\u001b[43moptions\u001b[49m\u001b[38;5;241;43m=\u001b[39;49m\u001b[43moptions\u001b[49m\u001b[43m,\u001b[49m\n\u001b[1;32m    900\u001b[0m \u001b[43m        \u001b[49m\u001b[43mstream\u001b[49m\u001b[38;5;241;43m=\u001b[39;49m\u001b[43mstream\u001b[49m\u001b[43m,\u001b[49m\n\u001b[1;32m    901\u001b[0m \u001b[43m        \u001b[49m\u001b[43mstream_cls\u001b[49m\u001b[38;5;241;43m=\u001b[39;49m\u001b[43mstream_cls\u001b[49m\u001b[43m,\u001b[49m\n\u001b[1;32m    902\u001b[0m \u001b[43m        \u001b[49m\u001b[43mremaining_retries\u001b[49m\u001b[38;5;241;43m=\u001b[39;49m\u001b[43mremaining_retries\u001b[49m\u001b[43m,\u001b[49m\n\u001b[1;32m    903\u001b[0m \u001b[43m    \u001b[49m\u001b[43m)\u001b[49m\n",
      "File \u001b[0;32m~/opt/miniconda3/envs/py310_new/lib/python3.10/site-packages/openai/_base_client.py:988\u001b[0m, in \u001b[0;36mSyncAPIClient._request\u001b[0;34m(self, cast_to, options, remaining_retries, stream, stream_cls)\u001b[0m\n\u001b[1;32m    985\u001b[0m         err\u001b[38;5;241m.\u001b[39mresponse\u001b[38;5;241m.\u001b[39mread()\n\u001b[1;32m    987\u001b[0m     log\u001b[38;5;241m.\u001b[39mdebug(\u001b[38;5;124m\"\u001b[39m\u001b[38;5;124mRe-raising status error\u001b[39m\u001b[38;5;124m\"\u001b[39m)\n\u001b[0;32m--> 988\u001b[0m     \u001b[38;5;28;01mraise\u001b[39;00m \u001b[38;5;28mself\u001b[39m\u001b[38;5;241m.\u001b[39m_make_status_error_from_response(err\u001b[38;5;241m.\u001b[39mresponse) \u001b[38;5;28;01mfrom\u001b[39;00m \u001b[38;5;28;01mNone\u001b[39;00m\n\u001b[1;32m    990\u001b[0m \u001b[38;5;28;01mreturn\u001b[39;00m \u001b[38;5;28mself\u001b[39m\u001b[38;5;241m.\u001b[39m_process_response(\n\u001b[1;32m    991\u001b[0m     cast_to\u001b[38;5;241m=\u001b[39mcast_to,\n\u001b[1;32m    992\u001b[0m     options\u001b[38;5;241m=\u001b[39moptions,\n\u001b[0;32m   (...)\u001b[0m\n\u001b[1;32m    995\u001b[0m     stream_cls\u001b[38;5;241m=\u001b[39mstream_cls,\n\u001b[1;32m    996\u001b[0m )\n",
      "\u001b[0;31mAuthenticationError\u001b[0m: Error code: 401 - {'error': {'message': 'Incorrect API key provided: .... You can find your API key at https://platform.openai.com/account/api-keys.', 'type': 'invalid_request_error', 'param': None, 'code': 'invalid_api_key'}}"
     ]
    }
   ],
   "source": [
    "chain.run({})"
   ]
  },
  {
   "cell_type": "markdown",
   "id": "d4313376-b70b-4dd5-8e5b-fe360e07096f",
   "metadata": {},
   "source": [
    "##### Different LLM for different steps"
   ]
  },
  {
   "cell_type": "markdown",
   "id": "9c55ad28-dd6e-4d40-9d52-e8e671b91487",
   "metadata": {},
   "source": [
    "You can also use different LLMs for the different steps by passing `ideation_llm`, `critique_llm` and `resolve_llm`. You might want to do this to use a more creative (i.e., high-temperature) model for ideation and a more strict (i.e., low-temperature) model for critique and resolution."
   ]
  },
  {
   "cell_type": "code",
   "execution_count": null,
   "id": "b12984c4-024b-422a-be25-225fd86d62d7",
   "metadata": {
    "tags": []
   },
   "outputs": [],
   "source": [
    "chain = SmartLLMChain(\n",
    "    ideation_llm=ChatOpenAI(temperature=0.9, model_name=\"gpt-4\"),\n",
    "    llm=ChatOpenAI(\n",
    "        temperature=0, model_name=\"gpt-4\"\n",
    "    ),  # will be used for critique and resolution as no specific llms are given\n",
    "    prompt=prompt,\n",
    "    n_ideas=3,\n",
    "    verbose=True,\n",
    ")"
   ]
  },
  {
   "cell_type": "code",
   "execution_count": null,
   "id": "9e59ead5-2d47-438e-8c67-1b41f8abcaa2",
   "metadata": {},
   "outputs": [],
   "source": []
  },
  {
   "cell_type": "code",
   "execution_count": null,
   "id": "842e8412-3445-4150-9587-0a0ed27ba45b",
   "metadata": {},
   "outputs": [],
   "source": []
  },
  {
   "cell_type": "code",
   "execution_count": null,
   "id": "faff56e4-0db8-485d-8807-f052a5148631",
   "metadata": {},
   "outputs": [],
   "source": []
  }
 ],
 "metadata": {
  "kernelspec": {
   "display_name": "Python 3 (ipykernel)",
   "language": "python",
   "name": "python3"
  },
  "language_info": {
   "codemirror_mode": {
    "name": "ipython",
    "version": 3
   },
   "file_extension": ".py",
   "mimetype": "text/x-python",
   "name": "python",
   "nbconvert_exporter": "python",
   "pygments_lexer": "ipython3",
   "version": "3.10.14"
  }
 },
 "nbformat": 4,
 "nbformat_minor": 5
}
