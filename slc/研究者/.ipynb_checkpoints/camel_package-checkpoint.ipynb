{
 "cells": [
  {
   "cell_type": "code",
   "execution_count": 1,
   "id": "7fd35443-7940-4bdf-8db0-eec3c244f04f",
   "metadata": {
    "tags": []
   },
   "outputs": [],
   "source": [
    "from typing import List\n",
    "\n",
    "from langchain.prompts.chat import (\n",
    "    HumanMessagePromptTemplate,\n",
    "    SystemMessagePromptTemplate,\n",
    ")\n",
    "from langchain.schema import (\n",
    "    AIMessage,\n",
    "    BaseMessage,\n",
    "    HumanMessage,\n",
    "    SystemMessage,\n",
    ")\n",
    "from langchain_openai import ChatOpenAI"
   ]
  },
  {
   "cell_type": "code",
   "execution_count": 2,
   "id": "7652cccf-437c-4bf9-a038-6fd90a6ad8db",
   "metadata": {
    "tags": []
   },
   "outputs": [],
   "source": [
    "class CAMELAgent:\n",
    "    def __init__(\n",
    "        self,\n",
    "        system_message: SystemMessage,\n",
    "        model: ChatOpenAI,\n",
    "    ) -> None:\n",
    "        self.system_message = system_message\n",
    "        self.model = model\n",
    "        self.init_messages()\n",
    "\n",
    "    def reset(self) -> None:\n",
    "        self.init_messages()\n",
    "        return self.stored_messages\n",
    "\n",
    "    def init_messages(self) -> None:\n",
    "        self.stored_messages = [self.system_message]\n",
    "\n",
    "    def update_messages(self, message: BaseMessage) -> List[BaseMessage]:\n",
    "        self.stored_messages.append(message)\n",
    "        return self.stored_messages\n",
    "\n",
    "    def step(\n",
    "        self,\n",
    "        input_message: HumanMessage,\n",
    "    ) -> AIMessage:\n",
    "        messages = self.update_messages(input_message)\n",
    "\n",
    "        output_message = self.model.invoke(messages)\n",
    "        self.update_messages(output_message)\n",
    "\n",
    "        return output_message"
   ]
  },
  {
   "cell_type": "code",
   "execution_count": 6,
   "id": "60dad9ed-d69f-4f89-9fb6-b35edd63a757",
   "metadata": {
    "tags": []
   },
   "outputs": [],
   "source": [
    "assistant_inception_prompt = \"\"\"Never forget you are a {assistant_role_name} and I am a {user_role_name}. Never flip roles! Never instruct me!\n",
    "We share a common interest in collaborating to successfully complete a task.\n",
    "You must help me to complete the task.\n",
    "Here is the task: {task}. Never forget our task!\n",
    "I must instruct you based on your expertise and my needs to complete the task.\n",
    "\n",
    "I must give you one instruction at a time.\n",
    "You must write a specific solution that appropriately completes the requested instruction.\n",
    "You must decline my instruction honestly if you cannot perform the instruction due to physical, moral, legal reasons or your capability and explain the reasons.\n",
    "Do not add anything else other than your solution to my instruction.\n",
    "You are never supposed to ask me any questions you only answer questions.\n",
    "You are never supposed to reply with a flake solution. Explain your solutions.\n",
    "Your solution must be declarative sentences and simple present tense.\n",
    "Unless I say the task is completed, you should always start with:\n",
    "\n",
    "Solution: <YOUR_SOLUTION>\n",
    "\n",
    "<YOUR_SOLUTION> should be specific and provide preferable implementations and examples for task-solving.\n",
    "Always end <YOUR_SOLUTION> with: Next request.\"\"\"\n",
    "\n",
    "user_inception_prompt = \"\"\"Never forget you are a {user_role_name} and I am a {assistant_role_name}. Never flip roles! You will always instruct me.\n",
    "We share a common interest in collaborating to successfully complete a task.\n",
    "I must help you to complete the task.\n",
    "Here is the task: {task}. Never forget our task!\n",
    "You must instruct me based on my expertise and your needs to complete the task ONLY in the following two ways:\n",
    "\n",
    "1. Instruct with a necessary input:\n",
    "Instruction: <YOUR_INSTRUCTION>\n",
    "Input: <YOUR_INPUT>\n",
    "\n",
    "2. Instruct without any input:\n",
    "Instruction: <YOUR_INSTRUCTION>\n",
    "Input: None\n",
    "\n",
    "The \"Instruction\" describes a task or question. The paired \"Input\" provides further context or information for the requested \"Instruction\".\n",
    "\n",
    "You must give me one instruction at a time.\n",
    "I must write a response that appropriately completes the requested instruction.\n",
    "I must decline your instruction honestly if I cannot perform the instruction due to physical, moral, legal reasons or my capability and explain the reasons.\n",
    "You should instruct me not ask me questions.\n",
    "Now you must start to instruct me using the two ways described above.\n",
    "Do not add anything else other than your instruction and the optional corresponding input!\n",
    "Keep giving me instructions and necessary inputs until you think the task is completed.\n",
    "When the task is completed, you must only reply with a single word <CAMEL_TASK_DONE>.\n",
    "Never say <CAMEL_TASK_DONE> unless my responses have solved your task.\"\"\""
   ]
  },
  {
   "cell_type": "code",
   "execution_count": 7,
   "id": "cdf44df8-3e1c-41c4-bcd1-f23023531c82",
   "metadata": {
    "tags": []
   },
   "outputs": [],
   "source": [
    "def get_sys_msgs(assistant_role_name: str, user_role_name: str, task: str):\n",
    "    assistant_sys_template = SystemMessagePromptTemplate.from_template(\n",
    "        template=assistant_inception_prompt\n",
    "    )\n",
    "    assistant_sys_msg = assistant_sys_template.format_messages(\n",
    "        assistant_role_name=assistant_role_name,\n",
    "        user_role_name=user_role_name,\n",
    "        task=task,\n",
    "    )[0]\n",
    "\n",
    "    user_sys_template = SystemMessagePromptTemplate.from_template(\n",
    "        template=user_inception_prompt\n",
    "    )\n",
    "    user_sys_msg = user_sys_template.format_messages(\n",
    "        assistant_role_name=assistant_role_name,\n",
    "        user_role_name=user_role_name,\n",
    "        task=task,\n",
    "    )[0]\n",
    "\n",
    "    return assistant_sys_msg, user_sys_msg"
   ]
  },
  {
   "cell_type": "code",
   "execution_count": null,
   "id": "d123b529-d1ac-451f-9b59-4e85b67ba977",
   "metadata": {},
   "outputs": [],
   "source": []
  }
 ],
 "metadata": {
  "kernelspec": {
   "display_name": "Python 3 (ipykernel)",
   "language": "python",
   "name": "python3"
  },
  "language_info": {
   "codemirror_mode": {
    "name": "ipython",
    "version": 3
   },
   "file_extension": ".py",
   "mimetype": "text/x-python",
   "name": "python",
   "nbconvert_exporter": "python",
   "pygments_lexer": "ipython3",
   "version": "3.10.14"
  }
 },
 "nbformat": 4,
 "nbformat_minor": 5
}
