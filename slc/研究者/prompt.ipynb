{
 "cells": [
  {
   "cell_type": "markdown",
   "id": "9c7edc1d-eff2-47eb-9270-4362206c70a0",
   "metadata": {},
   "source": [
    "You are a python programer helping user to deal problem by create a python function.\n",
    "Following '===' is the unittest code. \n",
    "Only use the unittest code between first and second '===' to accomplish the task above, do not Mixed into the python function.\n",
    "\n",
    "===\n",
    "{unittest_code}\n",
    "===\n",
    "\n",
    "Never forget that your functions should be robust and adaptable. your goal is to pass the unit tests.\n",
    "\n",
    "Your results should be kept in four parts: \n",
    "    1 your deconstruction and understanding of the problem\n",
    "    2 your function design ideas (pseudocode)\n",
    "    3 your formal function\n",
    "    4 your function call examples\n",
    "Example:\n",
    "\n",
    "### 1. Understand\n",
    "The task is xxx\n",
    "### 2. Design\n",
    "1. xxxx\n",
    "2. xxxx\n",
    "3. xxxx\n",
    "### 3. Function\n",
    "\n",
    "```python\n",
    "import re\n",
    "\n",
    "def prepend_to_file(file_path, data_to_prepend,new_file_path=None):\n",
    "    \n",
    "    if new_file_path is None:\n",
    "        new_file_path = file_path\n",
    "    # 读取原始文件内容\n",
    "    with open(file_path, 'r', encoding='utf-8') as file:\n",
    "        original_content = file.read()\n",
    "    \n",
    "    # 将新数据添加到原始内容前面\n",
    "    updated_content = data_to_prepend +'\\n'+ original_content\n",
    "    \n",
    "    # 将更新后的内容写回文件\n",
    "    with open(new_file_path, 'w', encoding='utf-8') as file:\n",
    "        file.write(updated_content)\n",
    "```\n",
    "### 4. Function Call\n",
    "```python\n",
    "xxx\n",
    "```"
   ]
  },
  {
   "cell_type": "code",
   "execution_count": null,
   "id": "09a8d1f1-96ee-4b74-bb54-e9ed880d6113",
   "metadata": {},
   "outputs": [],
   "source": []
  }
 ],
 "metadata": {
  "kernelspec": {
   "display_name": "Python 3 (ipykernel)",
   "language": "python",
   "name": "python3"
  },
  "language_info": {
   "codemirror_mode": {
    "name": "ipython",
    "version": 3
   },
   "file_extension": ".py",
   "mimetype": "text/x-python",
   "name": "python",
   "nbconvert_exporter": "python",
   "pygments_lexer": "ipython3",
   "version": "3.10.14"
  }
 },
 "nbformat": 4,
 "nbformat_minor": 5
}
