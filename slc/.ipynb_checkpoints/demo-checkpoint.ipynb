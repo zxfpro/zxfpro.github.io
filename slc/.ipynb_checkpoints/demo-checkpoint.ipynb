{
 "cells": [
  {
   "cell_type": "markdown",
   "id": "f0fcce40-a62b-414d-bdbb-70f87d6d76b0",
   "metadata": {},
   "source": [
    "# Demo"
   ]
  },
  {
   "cell_type": "code",
   "execution_count": null,
   "id": "7f5f10f7-1d5d-4248-8cd8-4739702c1771",
   "metadata": {},
   "outputs": [],
   "source": [
    "import unittest\n",
    "import timeit\n",
    "import resource\n",
    "\n",
    "\n",
    "class LoadDataWay(unittest.TestCase):\n",
    "    data_path = 'data'\n",
    "\n",
    "    def test_url(self):\n",
    "        url = 'www.baidu.com'\n",
    "        result = load_data(url)\n",
    "        assert len(result) > 1\n"
   ]
  },
  {
   "cell_type": "code",
   "execution_count": 1,
   "id": "b7195d96-d460-41fe-b2e3-0097add15058",
   "metadata": {
    "tags": []
   },
   "outputs": [
    {
     "data": {
      "text/plain": [
       "22345"
      ]
     },
     "execution_count": 1,
     "metadata": {},
     "output_type": "execute_result"
    }
   ],
   "source": [
    "22345"
   ]
  },
  {
   "cell_type": "markdown",
   "id": "6ca041be-b311-4d57-8b6c-e22ea1dfde72",
   "metadata": {
    "tags": []
   },
   "source": [
    "## 如何使用fire 工具"
   ]
  },
  {
   "cell_type": "code",
   "execution_count": null,
   "id": "991e25aa-49eb-42ae-a9e2-04ee6088e259",
   "metadata": {},
   "outputs": [],
   "source": [
    "import fire\n",
    "from .prompts import fix\n",
    "import os\n",
    "from zxftools.llms import get_llm\n",
    "\n",
    "def ai_fix(file_path=''):\n",
    "    assert os.path.isfile(file_path)\n",
    "    llm = get_llm(model=os.environ.get('aigen_llm') or 'gpt-3.5-turbo-0613')\n",
    "\n",
    "    with open(file_path,'r') as f:\n",
    "        code = f.read()\n",
    "    result = llm.complete(fix.format(code=code))\n",
    "\n",
    "    with open(file_path,'w') as f:\n",
    "        f.write(result.text)\n",
    "\n",
    "if __name__ == '__main__':\n",
    "    fire.Fire(ai_fix)\n",
    "\n"
   ]
  },
  {
   "cell_type": "code",
   "execution_count": null,
   "id": "c9f13a23-9744-49ac-b10b-6b2d7ab4a7f5",
   "metadata": {},
   "outputs": [],
   "source": []
  },
  {
   "cell_type": "markdown",
   "id": "917d11c4-cea6-43a9-b630-619c60a83abe",
   "metadata": {},
   "source": [
    "## 如何使用testunit patch"
   ]
  },
  {
   "cell_type": "code",
   "execution_count": 55,
   "id": "42c6f54c-3b97-48bc-bb2a-c708658b35a0",
   "metadata": {
    "tags": []
   },
   "outputs": [
    {
     "name": "stdout",
     "output_type": "stream",
     "text": [
      "Overwriting my_module.py\n"
     ]
    }
   ],
   "source": [
    "%%writefile my_module.py\n",
    "import requests\n",
    "\n",
    "def get_data():\n",
    "    response = requests.get('https://api.example.com/data')\n",
    "    return response.json()"
   ]
  },
  {
   "cell_type": "code",
   "execution_count": 56,
   "id": "1c732a2c-5bbc-4a43-9a24-5666961b75fa",
   "metadata": {
    "tags": []
   },
   "outputs": [
    {
     "name": "stdout",
     "output_type": "stream",
     "text": [
      "Overwriting test.py\n"
     ]
    }
   ],
   "source": [
    "%%writefile test.py\n",
    "import unittest\n",
    "from unittest.mock import patch\n",
    "import my_module\n",
    "\n",
    "class TestMyModule(unittest.TestCase):\n",
    "    \n",
    "    @patch('my_module.requests.get')\n",
    "    def test_get_data(self, mock_get):\n",
    "        # 设置模拟对象的返回值\n",
    "        mock_get.return_value.json.return_value = {'key': 'value'}\n",
    "\n",
    "        result = my_module.get_data()\n",
    "        print(result,'ss')\n",
    "        # 验证返回值是否正确\n",
    "        self.assertEqual(result, {'key': 'value'})\n",
    "        # 验证 requests.get 是否被调用了一次\n",
    "        mock_get.assert_called_once_with('https://api.example.com/data')\n",
    "if __name__ == '__main__':\n",
    "    unittest.main()\n"
   ]
  },
  {
   "cell_type": "code",
   "execution_count": 57,
   "id": "44d37753-a687-4b2e-98bb-1d81759c5291",
   "metadata": {
    "tags": []
   },
   "outputs": [
    {
     "name": "stdout",
     "output_type": "stream",
     "text": [
      "{'key': 'value'} ss\n",
      ".\n",
      "----------------------------------------------------------------------\n",
      "Ran 1 test in 0.001s\n",
      "\n",
      "OK\n"
     ]
    }
   ],
   "source": [
    "!python test.py"
   ]
  },
  {
   "cell_type": "markdown",
   "id": "d5984779-dd1b-43ba-aa1f-46e8afe77187",
   "metadata": {},
   "source": [
    "## 编写一个装饰器"
   ]
  },
  {
   "cell_type": "code",
   "execution_count": null,
   "id": "cba2f401-306b-4f9c-8f00-013395173583",
   "metadata": {},
   "outputs": [],
   "source": [
    "import functools\n",
    "\n",
    "def decorator(a = None):\n",
    "    \"\"\"\n",
    "    一个装饰器的编写demo\n",
    "    \"\"\"\n",
    "    def outer_packing(func):\n",
    "        @functools.wraps(func)\n",
    "        def wrapper(*args, **kwargs):\n",
    "            result = func(*args, **kwargs)\n",
    "            print(a,'a')\n",
    "            print(func.__name__)  # 函数名\n",
    "            print(args)  # (1, 2)\n",
    "            print(kwargs)  # {'c': 3}\n",
    "            return result\n",
    "        return wrapper\n",
    "    return outer_packing\n",
    "\n",
    "hard_dependencies = ('time',)\n",
    "check_package(hard_dependencies=hard_dependencies,check=False)\n",
    "\n"
   ]
  },
  {
   "cell_type": "code",
   "execution_count": null,
   "id": "2ab65d6a-81f1-4682-9885-4cec1553fffe",
   "metadata": {},
   "outputs": [],
   "source": []
  }
 ],
 "metadata": {
  "kernelspec": {
   "display_name": "Python 3 (ipykernel)",
   "language": "python",
   "name": "python3"
  },
  "language_info": {
   "codemirror_mode": {
    "name": "ipython",
    "version": 3
   },
   "file_extension": ".py",
   "mimetype": "text/x-python",
   "name": "python",
   "nbconvert_exporter": "python",
   "pygments_lexer": "ipython3",
   "version": "3.10.14"
  }
 },
 "nbformat": 4,
 "nbformat_minor": 5
}
