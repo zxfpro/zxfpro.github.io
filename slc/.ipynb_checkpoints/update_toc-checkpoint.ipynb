{
 "cells": [
  {
   "cell_type": "code",
   "execution_count": 7,
   "id": "a5fee8b9-cfc7-4818-be1e-f2b8dd3e3270",
   "metadata": {
    "tags": []
   },
   "outputs": [],
   "source": [
    "from zxftools_dev.project import IO"
   ]
  },
  {
   "cell_type": "code",
   "execution_count": 8,
   "id": "c841385a-dbf7-4ea6-8db8-0f7d315d0ca9",
   "metadata": {
    "tags": []
   },
   "outputs": [],
   "source": [
    "import os"
   ]
  },
  {
   "cell_type": "code",
   "execution_count": 9,
   "id": "d44c3890-9846-4897-8f70-d75c7a15d806",
   "metadata": {
    "tags": []
   },
   "outputs": [],
   "source": [
    "show_files = [\"study\",\"专题教学库\"]\n",
    "\n",
    "parts = [{'caption': '小函数工具库',\n",
    "   'chapters': [\n",
    "       #{'file': '工具函数库/code', 'title': '独立工具函数'},\n",
    "    {'url': 'http://127.0.0.1:9000', 'title': '工作台'},\n",
    "    {'url': 'http://127.0.0.1:8020', 'title': '私有文档'}]}]\n",
    "\n",
    "for file in show_files:\n",
    "    file_struct = {'caption':file,\n",
    "        'chapters':[{'file':os.path.join(file,i)[:-6],'title':i[:-6]} for i in os.listdir(file) if i.endswith('ipynb')]\n",
    "        }\n",
    "    parts.append(file_struct)\n",
    "\n",
    "\n",
    "structs = {'format': 'jb-book',\n",
    " 'root': 'intro',\n",
    " 'parts': parts}"
   ]
  },
  {
   "cell_type": "code",
   "execution_count": 10,
   "id": "ba98cb30-5659-4350-b037-ee9a27447910",
   "metadata": {
    "tags": []
   },
   "outputs": [],
   "source": [
    "import yaml"
   ]
  },
  {
   "cell_type": "code",
   "execution_count": 11,
   "id": "3a74bd86-9875-44a0-8cc0-157299c835be",
   "metadata": {
    "tags": []
   },
   "outputs": [],
   "source": [
    "def save_yaml(v: dict, file_path: str):\n",
    "    \"\"\"\n",
    "    将字典保存为YAML文件\n",
    "    v：需要保存的字典\n",
    "    file_path：YAML文件的路径\n",
    "    \"\"\"\n",
    "    with open(file_path, 'w', encoding='utf-8') as f:\n",
    "        yaml.dump(v, f, allow_unicode=True, sort_keys=False)"
   ]
  },
  {
   "cell_type": "code",
   "execution_count": 12,
   "id": "83921e52-f893-44a4-9515-ae1c00b1e5e8",
   "metadata": {
    "tags": []
   },
   "outputs": [],
   "source": [
    "save_yaml(structs,'_toc.yml')"
   ]
  },
  {
   "cell_type": "code",
   "execution_count": null,
   "id": "2c21d270-cfb9-4a04-984c-26be05c65bd8",
   "metadata": {},
   "outputs": [],
   "source": []
  }
 ],
 "metadata": {
  "kernelspec": {
   "display_name": "Python 3 (ipykernel)",
   "language": "python",
   "name": "python3"
  },
  "language_info": {
   "codemirror_mode": {
    "name": "ipython",
    "version": 3
   },
   "file_extension": ".py",
   "mimetype": "text/x-python",
   "name": "python",
   "nbconvert_exporter": "python",
   "pygments_lexer": "ipython3",
   "version": "3.10.14"
  }
 },
 "nbformat": 4,
 "nbformat_minor": 5
}
