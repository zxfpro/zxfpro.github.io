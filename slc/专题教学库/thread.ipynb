{
 "cells": [
  {
   "cell_type": "code",
   "execution_count": null,
   "id": "cc7de3e2-e151-4a5e-bdaf-1a850ba3a990",
   "metadata": {},
   "outputs": [],
   "source": []
  },
  {
   "cell_type": "code",
   "execution_count": null,
   "id": "2e78ff5a-762d-4938-8ab1-93c8b0ccc1d1",
   "metadata": {},
   "outputs": [],
   "source": []
  },
  {
   "cell_type": "code",
   "execution_count": null,
   "id": "2e461772-c362-463d-9248-707e37fd6ba1",
   "metadata": {},
   "outputs": [],
   "source": [
    "import threading\n",
    "from threading import Thread\n",
    "from multiprocessing.pool import Pool\n",
    "import types\n",
    "import functools"
   ]
  },
  {
   "cell_type": "code",
   "execution_count": null,
   "id": "afe23d09-d3d0-400f-9a42-14e6e72c4edf",
   "metadata": {},
   "outputs": [],
   "source": [
    "def thread_multis(funcs, kwargs_list):\n",
    "    threads = []\n",
    "    for i, kwargs in zip(funcs, kwargs_list):\n",
    "        print(kwargs)\n",
    "        threads.append(Thread(target=i, kwargs=kwargs))\n",
    "    for thread in threads:\n",
    "        thread.start()\n",
    "\n",
    "    for thread in threads:\n",
    "        thread.join()\n"
   ]
  },
  {
   "cell_type": "code",
   "execution_count": null,
   "id": "f7ffcf7a-a6bc-42a0-8eb8-dedf9f711d40",
   "metadata": {},
   "outputs": [],
   "source": []
  }
 ],
 "metadata": {
  "kernelspec": {
   "display_name": "Python 3 (ipykernel)",
   "language": "python",
   "name": "python3"
  },
  "language_info": {
   "codemirror_mode": {
    "name": "ipython",
    "version": 3
   },
   "file_extension": ".py",
   "mimetype": "text/x-python",
   "name": "python",
   "nbconvert_exporter": "python",
   "pygments_lexer": "ipython3",
   "version": "3.10.14"
  }
 },
 "nbformat": 4,
 "nbformat_minor": 5
}
