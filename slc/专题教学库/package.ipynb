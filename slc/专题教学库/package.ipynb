{
 "cells": [
  {
   "cell_type": "code",
   "execution_count": null,
   "id": "ed6fd0b9-cc7d-4194-9a30-cc16724f3df3",
   "metadata": {},
   "outputs": [],
   "source": []
  },
  {
   "cell_type": "markdown",
   "id": "0a046793-41d8-4b57-807a-beace4082de1",
   "metadata": {},
   "source": [
    "## 如何制作一个包"
   ]
  },
  {
   "cell_type": "markdown",
   "id": "75ff6d09-7de0-4a10-953a-07ed56efa184",
   "metadata": {},
   "source": [
    "## 1 Test "
   ]
  },
  {
   "cell_type": "markdown",
   "id": "5adead5a-0205-4fcf-92da-db5389f8feb7",
   "metadata": {},
   "source": [
    "测试, 单元测试除了承接程序的可用性以外,还有就是对于使用者的预设使用方式"
   ]
  },
  {
   "cell_type": "markdown",
   "id": "e628ac2b-7814-4064-9c63-af3689d5fc32",
   "metadata": {
    "tags": []
   },
   "source": [
    "## TODO\n",
    "\n",
    "Dask pandas高级版   \n",
    "dython 用来解决数值型数据与类别型数据之间的相关矩阵问题库    \n",
    "cuML"
   ]
  },
  {
   "cell_type": "code",
   "execution_count": null,
   "id": "e6bbab09-9368-444d-9d4d-f7caa1b7d6af",
   "metadata": {},
   "outputs": [],
   "source": [
    "\n",
    "Azure (语音包) # pip install azure-cognitiveservices-speech   "
   ]
  },
  {
   "cell_type": "code",
   "execution_count": null,
   "id": "e4755e4f-98d4-4ab5-84ce-b979527d8235",
   "metadata": {},
   "outputs": [],
   "source": [
    "Pydantic # FastAPI 开发中数据校验利器    \n"
   ]
  },
  {
   "cell_type": "code",
   "execution_count": null,
   "id": "1d3e9d29-c7e8-4f3f-aa90-b2673f6774af",
   "metadata": {},
   "outputs": [],
   "source": [
    "featuretools 自动化特征工程  \n"
   ]
  },
  {
   "cell_type": "code",
   "execution_count": null,
   "id": "110d6d64-1104-47b6-b383-f2c2628789ec",
   "metadata": {},
   "outputs": [],
   "source": [
    "optuna 自动化调参工具库   "
   ]
  },
  {
   "cell_type": "code",
   "execution_count": null,
   "id": "017fb28f-d36e-40ea-9c98-a896d3067a0a",
   "metadata": {},
   "outputs": [],
   "source": [
    "deltarpm(增量下载包)   \n",
    "gin 机器学习实验设置大量参数的库 pip install gin-config   \n"
   ]
  },
  {
   "cell_type": "code",
   "execution_count": null,
   "id": "649552ec-b36a-4401-b5ac-6376fa5568b2",
   "metadata": {},
   "outputs": [],
   "source": [
    "\n",
    "numba   \n",
    "conna  "
   ]
  },
  {
   "cell_type": "markdown",
   "id": "6f708ebe-9bff-40f0-92d6-cec0ec2fdf96",
   "metadata": {},
   "source": [
    "ffmpeg    \n",
    "apt-get update;   \n",
    "apt-get install ffmpeg;   \n",
    "pip install ffmpeg-python "
   ]
  },
  {
   "cell_type": "code",
   "execution_count": null,
   "id": "2a9d9576-0c09-421f-9fb4-53f0e54f6664",
   "metadata": {},
   "outputs": [],
   "source": []
  },
  {
   "cell_type": "code",
   "execution_count": null,
   "id": "beb4be71-8bda-4842-a0bc-3f58eb7297fe",
   "metadata": {},
   "outputs": [],
   "source": []
  },
  {
   "cell_type": "code",
   "execution_count": null,
   "id": "90b7404a-697a-4cf1-9d56-55ae04ec7328",
   "metadata": {},
   "outputs": [],
   "source": []
  },
  {
   "cell_type": "markdown",
   "id": "3ab1d32a-1795-4003-b084-eccb8ff128ef",
   "metadata": {},
   "source": [
    "在 `setup.py` 中指定依赖包的版本时，可以使用几种不同的格式来表达依赖关系的灵活性。这些格式不是完全“约等于”，但它们提供了一种方式来指定可以接受的版本范围。以下是一些常见的版本指定方法：\n",
    "\n",
    "1. **精确版本**：\n",
    "   指定必须精确匹配的版本号。\n",
    "\n",
    "   ```python\n",
    "   install_requires=['package==1.0.4'],\n",
    "   ```\n",
    "\n",
    "2. **大于等于某个版本**：\n",
    "   指定版本必须大于或等于给定的版本。\n",
    "\n",
    "   ```python\n",
    "   install_requires=['package>=1.0.4'],\n",
    "   ```\n",
    "\n",
    "3. **小于某个版本**：\n",
    "   指定版本必须小于给定的版本。\n",
    "\n",
    "   ```python\n",
    "   install_requires=['package<1.0.4'],\n",
    "   ```\n",
    "\n",
    "4. **范围指定**：\n",
    "   指定版本必须在这个范围内。\n",
    "\n",
    "   ```python\n",
    "   install_requires=['package>=1.0.4, <1.1.0'],\n",
    "   ```\n",
    "\n",
    "5. **兼容版本**：\n",
    "   指定版本必须与给定的主要版本兼容。\n",
    "\n",
    "   ```python\n",
    "   install_requires=['package~=1.0.4'],\n",
    "   ```\n",
    "\n",
    "   这里 `~=` 表示安装的版本应该向后兼容，通常是相同的主版本号和次版本号，但允许修复错误的补丁版本。\n",
    "\n",
    "6. **排除特定版本**：\n",
    "   指定一个版本范围，但排除特定的版本。\n",
    "\n",
    "   ```python\n",
    "   install_requires=['package!=1.0.4'],\n",
    "   ```\n",
    "\n",
    "7. **公差版本**：\n",
    "   指定版本必须在给定版本的基础上加上或减去一个公差。\n",
    "\n",
    "   ```python\n",
    "   install_requires=['package^1.0.4'],\n",
    "   ```\n",
    "\n",
    "   这里 `^=` 表示版本应该兼容主要版本，但可以是更高的次要版本或补丁版本，通常用于语义化版本控制。\n",
    "\n",
    "8. **版本排除范围**：\n",
    "   指定一个版本范围，但排除两端的特定版本。\n",
    "\n",
    "   ```python\n",
    "   install_requires=['package>=1.0.4, !=1.0.5, !=1.0.6, <2.0.0'],\n",
    "   ```\n",
    "\n",
    "这些版本指定方法允许你在打包时灵活地定义依赖项的版本要求。使用这些方法，你可以确保你的包安装时能够满足不同情况下的依赖关系，同时避免版本冲突。\n",
    "\n",
    "请注意，版本指定符的具体含义可能会根据使用的包管理工具（如pip）的版本和解析策略有所不同。因此，建议查阅相关工具的文档以了解具体的行为。"
   ]
  },
  {
   "cell_type": "markdown",
   "id": "69f0cc54-e4a7-48a5-8aeb-3ec06a3c1fb7",
   "metadata": {},
   "source": [
    "## 打包"
   ]
  },
  {
   "cell_type": "code",
   "execution_count": null,
   "id": "0aea7c89-420b-4f35-99a2-f5c761d27b6c",
   "metadata": {},
   "outputs": [],
   "source": [
    "\n",
    "\n",
    "# from Cython.Build import cythonize\n",
    "# 不要动不动就做成包 而是做成文件\n",
    "\n",
    "#pip install build twine\n",
    "#python setup.py sdist bdist_wheel #打包\n",
    "#twine upload --repository testpypi dist/*# 测试平台\n",
    "#twine upload dist/*\n",
    "\n",
    "#!python setup__.py build_ext --inplace  #编译Cython"
   ]
  },
  {
   "cell_type": "code",
   "execution_count": null,
   "id": "bd96f19b-1106-4db7-bde4-60bb64f72090",
   "metadata": {},
   "outputs": [],
   "source": []
  },
  {
   "cell_type": "code",
   "execution_count": null,
   "id": "18789e17-c9e4-4fd4-9247-179a6a6249b5",
   "metadata": {},
   "outputs": [],
   "source": [
    "1 生成分发包\n",
    "python setup.py sdist bdist_wheel\n",
    "cp dist/dataserver-0.0.1-py3-none-any.whl /Users/zhaoxuefeng/Documents/DataCentre/pypi\n",
    "dir2pi /Users/zhaoxuefeng/Documents/DataCentre/pypi\n",
    "pip2pi  /Users/zhaoxuefeng/Documents/DataCentre/pypi pandas\n",
    "\n"
   ]
  }
 ],
 "metadata": {
  "kernelspec": {
   "display_name": "Python 3 (ipykernel)",
   "language": "python",
   "name": "python3"
  },
  "language_info": {
   "codemirror_mode": {
    "name": "ipython",
    "version": 3
   },
   "file_extension": ".py",
   "mimetype": "text/x-python",
   "name": "python",
   "nbconvert_exporter": "python",
   "pygments_lexer": "ipython3",
   "version": "3.10.14"
  }
 },
 "nbformat": 4,
 "nbformat_minor": 5
}
