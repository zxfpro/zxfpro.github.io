{
 "cells": [
  {
   "cell_type": "markdown",
   "id": "547f6406-9eb0-4ec0-8a41-a13d16d754c8",
   "metadata": {},
   "source": [
    "# work111"
   ]
  },
  {
   "cell_type": "code",
   "execution_count": 55,
   "id": "46922b8b-ff2b-414d-8d8d-40cc8e5f8782",
   "metadata": {
    "tags": []
   },
   "outputs": [
    {
     "name": "stdout",
     "output_type": "stream",
     "text": [
      "Overwriting my_module.py\n"
     ]
    }
   ],
   "source": [
    "%%writefile my_module.py\n",
    "import requests\n",
    "\n",
    "def get_data():\n",
    "    response = requests.get('https://api.example.com/data')\n",
    "    return response.json()"
   ]
  },
  {
   "cell_type": "code",
   "execution_count": 56,
   "id": "4b6c3032-0065-4e9d-82fe-ba19d736c175",
   "metadata": {
    "tags": []
   },
   "outputs": [
    {
     "name": "stdout",
     "output_type": "stream",
     "text": [
      "Overwriting test.py\n"
     ]
    }
   ],
   "source": [
    "%%writefile test.py\n",
    "import unittest\n",
    "from unittest.mock import patch\n",
    "import my_module\n",
    "\n",
    "class TestMyModule(unittest.TestCase):\n",
    "    \n",
    "    @patch('my_module.requests.get')\n",
    "    def test_get_data(self, mock_get):\n",
    "        # 设置模拟对象的返回值\n",
    "        mock_get.return_value.json.return_value = {'key': 'value'}\n",
    "\n",
    "        result = my_module.get_data()\n",
    "        print(result,'ss')\n",
    "        # 验证返回值是否正确\n",
    "        self.assertEqual(result, {'key': 'value'})\n",
    "        # 验证 requests.get 是否被调用了一次\n",
    "        mock_get.assert_called_once_with('https://api.example.com/data')\n",
    "if __name__ == '__main__':\n",
    "    unittest.main()\n"
   ]
  },
  {
   "cell_type": "code",
   "execution_count": 57,
   "id": "ab28bd9d-6576-4361-9cf8-042a5253e786",
   "metadata": {
    "tags": []
   },
   "outputs": [
    {
     "name": "stdout",
     "output_type": "stream",
     "text": [
      "{'key': 'value'} ss\n",
      ".\n",
      "----------------------------------------------------------------------\n",
      "Ran 1 test in 0.001s\n",
      "\n",
      "OK\n"
     ]
    }
   ],
   "source": [
    "!python test.py"
   ]
  },
  {
   "cell_type": "code",
   "execution_count": null,
   "id": "beb706b1-3ec8-4493-8869-51f2db9a5b3f",
   "metadata": {},
   "outputs": [],
   "source": []
  },
  {
   "cell_type": "code",
   "execution_count": null,
   "id": "4a6baf74-e7f6-4b85-ae18-cb6e64ab8a6a",
   "metadata": {},
   "outputs": [],
   "source": [
    "import unittest\n",
    "import timeit\n",
    "import resource\n",
    "\n",
    "\n",
    "class LoadDataWay(unittest.TestCase):\n",
    "    data_path = 'data'\n",
    "\n",
    "    def test_url(self):\n",
    "        url = 'www.baidu.com'\n",
    "        result = load_data(url)\n",
    "        assert len(result) > 1\n"
   ]
  }
 ],
 "metadata": {
  "kernelspec": {
   "display_name": "Python 3 (ipykernel)",
   "language": "python",
   "name": "python3"
  },
  "language_info": {
   "codemirror_mode": {
    "name": "ipython",
    "version": 3
   },
   "file_extension": ".py",
   "mimetype": "text/x-python",
   "name": "python",
   "nbconvert_exporter": "python",
   "pygments_lexer": "ipython3",
   "version": "3.10.14"
  }
 },
 "nbformat": 4,
 "nbformat_minor": 5
}
