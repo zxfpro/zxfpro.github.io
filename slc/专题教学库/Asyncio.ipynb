{
 "cells": [
  {
   "cell_type": "markdown",
   "id": "26140086-242c-446b-a7a5-aaebff7d5448",
   "metadata": {},
   "source": [
    "# Asyncio 异步函数的使用"
   ]
  },
  {
   "cell_type": "markdown",
   "id": "2939d65b-fc53-492f-8125-a4a455059f5a",
   "metadata": {},
   "source": [
    "## TODO"
   ]
  },
  {
   "cell_type": "code",
   "execution_count": 1,
   "id": "ab9a565b-da30-4deb-8d4b-007659d0c474",
   "metadata": {
    "tags": []
   },
   "outputs": [],
   "source": [
    "import pandas as pd"
   ]
  },
  {
   "cell_type": "code",
   "execution_count": null,
   "id": "cebb116f-c0a3-4729-b61c-4eef8bff5941",
   "metadata": {},
   "outputs": [],
   "source": [
    "\n",
    "class AsyncHelper():\n",
    "    def run(self,func,type=1):\n",
    "        if type == 1:\n",
    "            loop = asyncio.get_event_loop()\n",
    "            loop.run_until_complete(func)\n",
    "        else:\n",
    "\n",
    "            asyncio.run(func)\n",
    "\n"
   ]
  },
  {
   "cell_type": "code",
   "execution_count": null,
   "id": "22123cc3-8fcb-419e-b676-e9fe29fd5b5f",
   "metadata": {},
   "outputs": [],
   "source": []
  },
  {
   "cell_type": "markdown",
   "id": "819ff7ab-1dbf-4750-9c41-df6d7e585ce4",
   "metadata": {
    "tags": []
   },
   "source": [
    "### 编写一个协程函数"
   ]
  },
  {
   "cell_type": "code",
   "execution_count": 3,
   "id": "f82ff7e5-b9a7-4894-b151-1fcea4de7a18",
   "metadata": {},
   "outputs": [],
   "source": [
    "async def do_some_work(x):\n",
    "    print('waiting',x)"
   ]
  },
  {
   "cell_type": "code",
   "execution_count": 4,
   "id": "498f380d-b99e-4036-8fa9-9576f01185c5",
   "metadata": {},
   "outputs": [],
   "source": [
    "async def do_some_work(x):\n",
    "    print('waiting',x)\n",
    "    return f'done after {x}'"
   ]
  },
  {
   "cell_type": "code",
   "execution_count": 5,
   "id": "ea124a93-fca0-4884-be34-6e7db4e00141",
   "metadata": {},
   "outputs": [],
   "source": [
    "coroutine = do_some_work(2)"
   ]
  },
  {
   "cell_type": "markdown",
   "id": "6c32dd5f-c227-402b-8fb2-0291529f8ca3",
   "metadata": {
    "tags": []
   },
   "source": [
    "### 将一个协程函数运行起来"
   ]
  },
  {
   "cell_type": "code",
   "execution_count": 6,
   "id": "8834d624-cc38-4d7a-8f88-8cf4140b4b27",
   "metadata": {},
   "outputs": [
    {
     "name": "stdout",
     "output_type": "stream",
     "text": [
      "waiting 2\n"
     ]
    },
    {
     "data": {
      "text/plain": [
       "'done after 2'"
      ]
     },
     "execution_count": 6,
     "metadata": {},
     "output_type": "execute_result"
    }
   ],
   "source": [
    "import asyncio\n",
    "\n",
    "loop = asyncio.get_event_loop()\n",
    "task = loop.create_task(coroutine)\n",
    "loop.run_until_complete(task)"
   ]
  },
  {
   "cell_type": "code",
   "execution_count": 7,
   "id": "2a582c6c-6f74-4c4c-813c-aaabea34fe7e",
   "metadata": {
    "collapsed": true,
    "jupyter": {
     "outputs_hidden": true
    },
    "tags": []
   },
   "outputs": [
    {
     "ename": "RuntimeError",
     "evalue": "cannot reuse already awaited coroutine",
     "output_type": "error",
     "traceback": [
      "\u001b[0;31m---------------------------------------------------------------------------\u001b[0m",
      "\u001b[0;31mRuntimeError\u001b[0m                              Traceback (most recent call last)",
      "Cell \u001b[0;32mIn[7], line 2\u001b[0m\n\u001b[1;32m      1\u001b[0m loop \u001b[38;5;241m=\u001b[39m asyncio\u001b[38;5;241m.\u001b[39mget_event_loop()\n\u001b[0;32m----> 2\u001b[0m \u001b[43mloop\u001b[49m\u001b[38;5;241;43m.\u001b[39;49m\u001b[43mrun_until_complete\u001b[49m\u001b[43m(\u001b[49m\u001b[43mcoroutine\u001b[49m\u001b[43m)\u001b[49m\u001b[38;5;66;03m#协程对象 -> task对象(Future)\u001b[39;00m\n",
      "File \u001b[0;32m~/opt/miniconda3/envs/py310_new/lib/python3.10/site-packages/nest_asyncio.py:98\u001b[0m, in \u001b[0;36m_patch_loop.<locals>.run_until_complete\u001b[0;34m(self, future)\u001b[0m\n\u001b[1;32m     95\u001b[0m \u001b[38;5;28;01mif\u001b[39;00m \u001b[38;5;129;01mnot\u001b[39;00m f\u001b[38;5;241m.\u001b[39mdone():\n\u001b[1;32m     96\u001b[0m     \u001b[38;5;28;01mraise\u001b[39;00m \u001b[38;5;167;01mRuntimeError\u001b[39;00m(\n\u001b[1;32m     97\u001b[0m         \u001b[38;5;124m'\u001b[39m\u001b[38;5;124mEvent loop stopped before Future completed.\u001b[39m\u001b[38;5;124m'\u001b[39m)\n\u001b[0;32m---> 98\u001b[0m \u001b[38;5;28;01mreturn\u001b[39;00m \u001b[43mf\u001b[49m\u001b[38;5;241;43m.\u001b[39;49m\u001b[43mresult\u001b[49m\u001b[43m(\u001b[49m\u001b[43m)\u001b[49m\n",
      "File \u001b[0;32m~/opt/miniconda3/envs/py310_new/lib/python3.10/asyncio/futures.py:201\u001b[0m, in \u001b[0;36mFuture.result\u001b[0;34m(self)\u001b[0m\n\u001b[1;32m    199\u001b[0m \u001b[38;5;28mself\u001b[39m\u001b[38;5;241m.\u001b[39m__log_traceback \u001b[38;5;241m=\u001b[39m \u001b[38;5;28;01mFalse\u001b[39;00m\n\u001b[1;32m    200\u001b[0m \u001b[38;5;28;01mif\u001b[39;00m \u001b[38;5;28mself\u001b[39m\u001b[38;5;241m.\u001b[39m_exception \u001b[38;5;129;01mis\u001b[39;00m \u001b[38;5;129;01mnot\u001b[39;00m \u001b[38;5;28;01mNone\u001b[39;00m:\n\u001b[0;32m--> 201\u001b[0m     \u001b[38;5;28;01mraise\u001b[39;00m \u001b[38;5;28mself\u001b[39m\u001b[38;5;241m.\u001b[39m_exception\u001b[38;5;241m.\u001b[39mwith_traceback(\u001b[38;5;28mself\u001b[39m\u001b[38;5;241m.\u001b[39m_exception_tb)\n\u001b[1;32m    202\u001b[0m \u001b[38;5;28;01mreturn\u001b[39;00m \u001b[38;5;28mself\u001b[39m\u001b[38;5;241m.\u001b[39m_result\n",
      "File \u001b[0;32m~/opt/miniconda3/envs/py310_new/lib/python3.10/asyncio/tasks.py:232\u001b[0m, in \u001b[0;36mTask.__step\u001b[0;34m(***failed resolving arguments***)\u001b[0m\n\u001b[1;32m    228\u001b[0m \u001b[38;5;28;01mtry\u001b[39;00m:\n\u001b[1;32m    229\u001b[0m     \u001b[38;5;28;01mif\u001b[39;00m exc \u001b[38;5;129;01mis\u001b[39;00m \u001b[38;5;28;01mNone\u001b[39;00m:\n\u001b[1;32m    230\u001b[0m         \u001b[38;5;66;03m# We use the `send` method directly, because coroutines\u001b[39;00m\n\u001b[1;32m    231\u001b[0m         \u001b[38;5;66;03m# don't have `__iter__` and `__next__` methods.\u001b[39;00m\n\u001b[0;32m--> 232\u001b[0m         result \u001b[38;5;241m=\u001b[39m \u001b[43mcoro\u001b[49m\u001b[38;5;241;43m.\u001b[39;49m\u001b[43msend\u001b[49m\u001b[43m(\u001b[49m\u001b[38;5;28;43;01mNone\u001b[39;49;00m\u001b[43m)\u001b[49m\n\u001b[1;32m    233\u001b[0m     \u001b[38;5;28;01melse\u001b[39;00m:\n\u001b[1;32m    234\u001b[0m         result \u001b[38;5;241m=\u001b[39m coro\u001b[38;5;241m.\u001b[39mthrow(exc)\n",
      "\u001b[0;31mRuntimeError\u001b[0m: cannot reuse already awaited coroutine"
     ]
    }
   ],
   "source": [
    "loop = asyncio.get_event_loop()\n",
    "loop.run_until_complete(coroutine)#协程对象 -> task对象(Future)"
   ]
  },
  {
   "cell_type": "markdown",
   "id": "4acd81e6-aab1-4d89-9c32-156baf87f423",
   "metadata": {},
   "source": [
    "### 获得协程函数的返回值"
   ]
  },
  {
   "cell_type": "code",
   "execution_count": null,
   "id": "d6b507af-7906-481b-a598-8567672fd25b",
   "metadata": {},
   "outputs": [],
   "source": [
    "def callback(future):\n",
    "    print('Callback',future.result())"
   ]
  },
  {
   "cell_type": "code",
   "execution_count": null,
   "id": "584487b3-4ce8-4364-92e1-42ccad0dc4c2",
   "metadata": {},
   "outputs": [],
   "source": [
    "task.add_done_callback(callback)"
   ]
  },
  {
   "cell_type": "markdown",
   "id": "ac8df5e6-228a-4539-b0c5-9d3f6926fc21",
   "metadata": {
    "tags": []
   },
   "source": [
    "#### 更多的回调函数参数"
   ]
  },
  {
   "cell_type": "code",
   "execution_count": 25,
   "id": "c50f117a-ba59-4112-a888-5cbdd71390bf",
   "metadata": {
    "tags": []
   },
   "outputs": [
    {
     "ename": "NameError",
     "evalue": "name 'task' is not defined",
     "output_type": "error",
     "traceback": [
      "\u001b[0;31m---------------------------------------------------------------------------\u001b[0m",
      "\u001b[0;31mNameError\u001b[0m                                 Traceback (most recent call last)",
      "Cell \u001b[0;32mIn[25], line 4\u001b[0m\n\u001b[1;32m      1\u001b[0m \u001b[38;5;28;01mdef\u001b[39;00m \u001b[38;5;21mcallback\u001b[39m(t, future):\n\u001b[1;32m      2\u001b[0m     \u001b[38;5;28mprint\u001b[39m(\u001b[38;5;124m'\u001b[39m\u001b[38;5;124mCallback:\u001b[39m\u001b[38;5;124m'\u001b[39m, t, future\u001b[38;5;241m.\u001b[39mresult())\n\u001b[0;32m----> 4\u001b[0m \u001b[43mtask\u001b[49m\u001b[38;5;241m.\u001b[39madd_done_callback(functools\u001b[38;5;241m.\u001b[39mpartial(callback, \u001b[38;5;241m2\u001b[39m))\n",
      "\u001b[0;31mNameError\u001b[0m: name 'task' is not defined"
     ]
    }
   ],
   "source": [
    "def callback(t, future):\n",
    "    print('Callback:', t, future.result())\n",
    "\n",
    "task.add_done_callback(functools.partial(callback, 2))"
   ]
  },
  {
   "cell_type": "markdown",
   "id": "f1975272-6d02-4313-84f6-8062f624e63d",
   "metadata": {
    "tags": []
   },
   "source": [
    "#### 直接获取"
   ]
  },
  {
   "cell_type": "code",
   "execution_count": null,
   "id": "ce06ed9c-4cdc-4ad3-baeb-0fd5c518911d",
   "metadata": {},
   "outputs": [],
   "source": [
    "print('Task ret: ', task.result())"
   ]
  },
  {
   "cell_type": "code",
   "execution_count": null,
   "id": "5f273de1-a787-4b48-853c-79ae792215ba",
   "metadata": {},
   "outputs": [],
   "source": []
  },
  {
   "cell_type": "markdown",
   "id": "563d12c0-20a4-44ce-a833-778eb5899c0e",
   "metadata": {
    "tags": []
   },
   "source": [
    "### 执行并发任务"
   ]
  },
  {
   "cell_type": "code",
   "execution_count": null,
   "id": "90da9232-acd1-4193-9cdd-201aee235dbb",
   "metadata": {},
   "outputs": [],
   "source": [
    "tasks = [\n",
    "    asyncio.ensure_future(coroutine1),\n",
    "    asyncio.ensure_future(coroutine2),\n",
    "    asyncio.ensure_future(coroutine3)\n",
    "]\n",
    "loop.run_until_complete(asyncio.wait(tasks))"
   ]
  },
  {
   "cell_type": "code",
   "execution_count": null,
   "id": "c6e8ca4b-31d4-4237-a7a5-dfb235d2b85b",
   "metadata": {},
   "outputs": [],
   "source": [
    "for task in tasks:\n",
    "    print('Task ret: ', task.result())"
   ]
  },
  {
   "cell_type": "markdown",
   "id": "7cc0370a-2393-404b-90c5-23c7e1077f82",
   "metadata": {
    "tags": []
   },
   "source": [
    "### 任务嵌套"
   ]
  },
  {
   "cell_type": "code",
   "execution_count": null,
   "id": "63692ddb-6b57-485e-8b0d-fc89fc893323",
   "metadata": {},
   "outputs": [],
   "source": [
    "async def do_some_work(x):\n",
    "    print('Waiting: ', x)\n",
    "\n",
    "    await asyncio.sleep(x)\n",
    "    return 'Done after {}s'.format(x)"
   ]
  },
  {
   "cell_type": "code",
   "execution_count": null,
   "id": "3569043a-7e5f-44de-84fa-fd418d348341",
   "metadata": {
    "tags": []
   },
   "outputs": [],
   "source": [
    "\n",
    "async def main():\n",
    "    coroutine1 = do_some_work(1)\n",
    "    coroutine2 = do_some_work(2)\n",
    "    coroutine3 = do_some_work(4)\n",
    "\n",
    "    tasks = [\n",
    "        asyncio.ensure_future(coroutine1),\n",
    "        asyncio.ensure_future(coroutine2),\n",
    "        asyncio.ensure_future(coroutine3)\n",
    "    ]\n",
    "\n",
    "    dones, pendings = await asyncio.wait(tasks)\n",
    "\n",
    "    for task in dones:\n",
    "        print('Task ret: ', task.result())\n"
   ]
  },
  {
   "cell_type": "code",
   "execution_count": null,
   "id": "cd12024b-0649-4b34-bb0b-a688d90215cf",
   "metadata": {
    "tags": []
   },
   "outputs": [],
   "source": [
    "results = await asyncio.gather(*tasks)\n",
    "\n",
    "for result in results:\n",
    "    print('Task ret: ', result)"
   ]
  },
  {
   "cell_type": "code",
   "execution_count": null,
   "id": "3d075c7a-efe0-4026-a1ca-5f1c3ed13501",
   "metadata": {
    "tags": []
   },
   "outputs": [],
   "source": [
    "async def main():\n",
    "    coroutine1 = do_some_work(1)\n",
    "    coroutine2 = do_some_work(2)\n",
    "    coroutine3 = do_some_work(2)\n",
    "\n",
    "    tasks = [\n",
    "        asyncio.ensure_future(coroutine1),\n",
    "        asyncio.ensure_future(coroutine2),\n",
    "        asyncio.ensure_future(coroutine3)\n",
    "    ]\n",
    "\n",
    "    return await asyncio.gather(*tasks)"
   ]
  },
  {
   "cell_type": "code",
   "execution_count": null,
   "id": "3988e881-6451-4880-84cd-d9195e7275ef",
   "metadata": {
    "tags": []
   },
   "outputs": [],
   "source": [
    "async def main():\n",
    "    coroutine1 = do_some_work(1)\n",
    "    coroutine2 = do_some_work(2)\n",
    "    coroutine3 = do_some_work(4)\n",
    "\n",
    "    tasks = [\n",
    "        asyncio.ensure_future(coroutine1),\n",
    "        asyncio.ensure_future(coroutine2),\n",
    "        asyncio.ensure_future(coroutine3)\n",
    "    ]\n",
    "    for task in asyncio.as_completed(tasks):\n",
    "        result = await task\n",
    "        print('Task ret: {}'.format(result))\n",
    "\n",
    "start = now()\n",
    "\n",
    "loop = asyncio.get_event_loop()\n",
    "done = loop.run_until_complete(main())\n",
    "print('TIME: ', now() - start)\n"
   ]
  },
  {
   "cell_type": "markdown",
   "id": "34c089ea-85d8-41d2-ae45-b170c2d5ed0e",
   "metadata": {},
   "source": [
    "### 协程停止"
   ]
  },
  {
   "cell_type": "code",
   "execution_count": null,
   "id": "8579e250-1b70-4271-a36c-bdcea950e673",
   "metadata": {},
   "outputs": [],
   "source": [
    "import asyncio\n",
    "\n",
    "import time\n",
    "\n",
    "now = lambda: time.time()\n",
    "\n",
    "async def do_some_work(x):\n",
    "    print('Waiting: ', x)\n",
    "\n",
    "    await asyncio.sleep(x)\n",
    "    return 'Done after {}s'.format(x)\n",
    "\n",
    "coroutine1 = do_some_work(1)\n",
    "coroutine2 = do_some_work(2)\n",
    "coroutine3 = do_some_work(2)\n",
    "\n",
    "tasks = [\n",
    "    asyncio.ensure_future(coroutine1),\n",
    "    asyncio.ensure_future(coroutine2),\n",
    "    asyncio.ensure_future(coroutine3)\n",
    "]\n",
    "\n",
    "start = now()\n",
    "\n",
    "loop = asyncio.get_event_loop()\n",
    "try:\n",
    "    loop.run_until_complete(asyncio.wait(tasks))\n",
    "except KeyboardInterrupt as e:\n",
    "    print(asyncio.Task.all_tasks())\n",
    "    for task in asyncio.Task.all_tasks():\n",
    "        print(task.cancel())\n",
    "    loop.stop()\n",
    "    loop.run_forever()\n",
    "finally:\n",
    "    loop.close()\n",
    "\n",
    "print('TIME: ', now() - start)\n"
   ]
  },
  {
   "cell_type": "code",
   "execution_count": null,
   "id": "8ed73e93-86d8-4d5a-a5dc-20c48a993c35",
   "metadata": {},
   "outputs": [],
   "source": [
    "import asyncio\n",
    "\n",
    "import time\n",
    "\n",
    "now = lambda: time.time()\n",
    "\n",
    "async def do_some_work(x):\n",
    "    print('Waiting: ', x)\n",
    "\n",
    "    await asyncio.sleep(x)\n",
    "    return 'Done after {}s'.format(x)\n",
    "\n",
    "async def main():\n",
    "    coroutine1 = do_some_work(1)\n",
    "    coroutine2 = do_some_work(2)\n",
    "    coroutine3 = do_some_work(2)\n",
    "\n",
    "    tasks = [\n",
    "        asyncio.ensure_future(coroutine1),\n",
    "        asyncio.ensure_future(coroutine2),\n",
    "        asyncio.ensure_future(coroutine3)\n",
    "    ]\n",
    "    done, pending = await asyncio.wait(tasks)\n",
    "    for task in done:\n",
    "        print('Task ret: ', task.result())\n",
    "\n",
    "start = now()\n",
    "\n",
    "loop = asyncio.get_event_loop()\n",
    "task = asyncio.ensure_future(main())\n",
    "try:\n",
    "    loop.run_until_complete(task)\n",
    "except KeyboardInterrupt as e:\n",
    "    print(asyncio.Task.all_tasks())\n",
    "    print(asyncio.gather(*asyncio.Task.all_tasks()).cancel())\n",
    "    loop.stop()\n",
    "    loop.run_forever()\n",
    "finally:\n",
    "    loop.close()"
   ]
  },
  {
   "cell_type": "markdown",
   "id": "c99e019e-b541-4770-951f-867afcd12cd5",
   "metadata": {
    "tags": []
   },
   "source": [
    "### 不同线程的事件循环"
   ]
  },
  {
   "cell_type": "code",
   "execution_count": 27,
   "id": "9a221217-7f28-40fc-9e68-6970cebc5210",
   "metadata": {
    "tags": []
   },
   "outputs": [
    {
     "name": "stdout",
     "output_type": "stream",
     "text": [
      "TIME: 0.0011320114135742188\n"
     ]
    },
    {
     "data": {
      "text/plain": [
       "<Handle more_work(3) at /var/folders/sj/9gkwxdgs4h3ck3kytmdgk4240000gn/T/ipykernel_13458/1314391459.py:7>"
      ]
     },
     "execution_count": 27,
     "metadata": {},
     "output_type": "execute_result"
    },
    {
     "name": "stdout",
     "output_type": "stream",
     "text": [
      "More work 6\n",
      "Finished more work 6\n",
      "More work 3\n",
      "Finished more work 3\n"
     ]
    }
   ],
   "source": [
    "from threading import Thread\n",
    "\n",
    "def start_loop(loop):\n",
    "    asyncio.set_event_loop(loop)\n",
    "    loop.run_forever()\n",
    "\n",
    "def more_work(x):\n",
    "    print('More work {}'.format(x))\n",
    "    time.sleep(x)\n",
    "    print('Finished more work {}'.format(x))\n",
    "\n",
    "start = now()\n",
    "new_loop = asyncio.new_event_loop()\n",
    "t = Thread(target=start_loop, args=(new_loop,))\n",
    "t.start()\n",
    "print('TIME: {}'.format(time.time() - start))\n",
    "\n",
    "new_loop.call_soon_threadsafe(more_work, 6)\n",
    "new_loop.call_soon_threadsafe(more_work, 3)\n"
   ]
  },
  {
   "cell_type": "code",
   "execution_count": 28,
   "id": "3e9076ce-47f1-4351-bc4c-f96ae7af9f9e",
   "metadata": {
    "tags": []
   },
   "outputs": [
    {
     "name": "stdout",
     "output_type": "stream",
     "text": [
      "TIME: 0.0007600784301757812\n"
     ]
    },
    {
     "data": {
      "text/plain": [
       "<Future at 0x7fe2606321a0 state=pending>"
      ]
     },
     "execution_count": 28,
     "metadata": {},
     "output_type": "execute_result"
    },
    {
     "name": "stdout",
     "output_type": "stream",
     "text": [
      "Waiting 6\n",
      "Waiting 4\n",
      "Done after 4s\n",
      "Done after 6s\n"
     ]
    }
   ],
   "source": [
    "def start_loop(loop):\n",
    "    asyncio.set_event_loop(loop)\n",
    "    loop.run_forever()\n",
    "\n",
    "async def do_some_work(x):\n",
    "    print('Waiting {}'.format(x))\n",
    "    await asyncio.sleep(x)\n",
    "    print('Done after {}s'.format(x))\n",
    "\n",
    "def more_work(x):\n",
    "    print('More work {}'.format(x))\n",
    "    time.sleep(x)\n",
    "    print('Finished more work {}'.format(x))\n",
    "\n",
    "start = now()\n",
    "new_loop = asyncio.new_event_loop()\n",
    "t = Thread(target=start_loop, args=(new_loop,))\n",
    "t.start()\n",
    "print('TIME: {}'.format(time.time() - start))\n",
    "\n",
    "asyncio.run_coroutine_threadsafe(do_some_work(6), new_loop)\n",
    "asyncio.run_coroutine_threadsafe(do_some_work(4), new_loop)\n"
   ]
  },
  {
   "cell_type": "code",
   "execution_count": 29,
   "id": "4cabfa53-f200-44e3-b15d-c423b9151ac0",
   "metadata": {
    "tags": []
   },
   "outputs": [],
   "source": [
    "import asyncio"
   ]
  },
  {
   "cell_type": "code",
   "execution_count": 65,
   "id": "3d6200ed-0f72-4ddb-b443-22c94c85c6e1",
   "metadata": {
    "tags": []
   },
   "outputs": [],
   "source": [
    "import queue"
   ]
  },
  {
   "cell_type": "code",
   "execution_count": 68,
   "id": "3974cb3b-8066-447c-98be-e60b494fc794",
   "metadata": {
    "tags": []
   },
   "outputs": [
    {
     "data": {
      "text/plain": [
       "<queue.Queue at 0x7fe250bef7f0>"
      ]
     },
     "execution_count": 68,
     "metadata": {},
     "output_type": "execute_result"
    }
   ],
   "source": [
    "queue.Queue()"
   ]
  },
  {
   "cell_type": "code",
   "execution_count": 75,
   "id": "49e3721f-d5a7-489a-af0a-21501128ee90",
   "metadata": {
    "tags": []
   },
   "outputs": [],
   "source": [
    "import queue\n",
    "q = queue.Queue()  # 创建 Queue 队列\n",
    "for i in range(3):\n",
    "    q.put(i)  # 在队列中依次插入0、1、2元素\n",
    "# for i in range(3):\n",
    "    # print(q.get())  # 依次从队列中取出插入的元素，数据元素输出顺序为0、1、2\n"
   ]
  },
  {
   "cell_type": "code",
   "execution_count": null,
   "id": "51d45b35-b4bd-46d4-a05a-720985d441cc",
   "metadata": {},
   "outputs": [],
   "source": []
  },
  {
   "cell_type": "markdown",
   "id": "03368a38-8695-49fa-b3dc-f981f4dc1bf3",
   "metadata": {
    "tags": []
   },
   "source": [
    "### 整合"
   ]
  },
  {
   "cell_type": "code",
   "execution_count": null,
   "id": "3d359dc7-9131-4c5c-88e4-d617e390227a",
   "metadata": {},
   "outputs": [],
   "source": [
    "from threading import Thread"
   ]
  },
  {
   "cell_type": "code",
   "execution_count": null,
   "id": "6ef80ef4-85a3-4684-b335-1d0b18b28310",
   "metadata": {},
   "outputs": [],
   "source": [
    "def more_work(x):\n",
    "    print('More work {}'.format(x))\n",
    "    time.sleep(x)\n",
    "    print('Finished more work {}'.format(x))\n"
   ]
  },
  {
   "cell_type": "code",
   "execution_count": 45,
   "id": "bd9ffcf7-423e-4dcb-a1f1-404b3d3207d3",
   "metadata": {
    "tags": []
   },
   "outputs": [],
   "source": [
    "\n",
    "from threading import Thread\n",
    "\n",
    "async def async_main(coroutines = []):\n",
    "    \"\"\"\n",
    "    多任务同时执行 以最长的任务时间为限, 完毕后统一回复\n",
    "    \"\"\"\n",
    "    tasks = [asyncio.ensure_future(cor_i) for cor_i in coroutines]\n",
    "    if type == 'A':\n",
    "        return await asyncio.gather(*tasks)\n",
    "    elif type == 'B':\n",
    "async def create_thread_async(coroutines = []):\n",
    "    \"\"\"\n",
    "    多任务同时执行 创建一个线程去执行协程 而不会阻塞主线程\n",
    "    \"\"\"\n",
    "    def start_loop(loop):\n",
    "        asyncio.set_event_loop(loop)\n",
    "        loop.run_forever()\n",
    "\n",
    "    new_loop = asyncio.new_event_loop()\n",
    "    t = Thread(target=start_loop, args=(new_loop,))\n",
    "    t.start()\n",
    "    for coroutine in coroutines:\n",
    "        asyncio.run_coroutine_threadsafe(coroutine, new_loop)\n",
    "\n",
    "        \n",
    "loop = asyncio.get_event_loop()\n",
    "task = asyncio.ensure_future(main())\n",
    "try:\n",
    "    loop.run_until_complete(task)\n",
    "except KeyboardInterrupt as e:\n",
    "    print(asyncio.Task.all_tasks())\n",
    "    print(asyncio.gather(*asyncio.Task.all_tasks()).cancel())\n",
    "    loop.stop()\n",
    "    loop.run_forever()\n",
    "finally:\n",
    "    loop.close()"
   ]
  },
  {
   "cell_type": "code",
   "execution_count": 51,
   "id": "1100c638-4b63-4764-b9c5-ab8bb7f08c5e",
   "metadata": {
    "tags": []
   },
   "outputs": [
    {
     "name": "stdout",
     "output_type": "stream",
     "text": [
      "Mon Mar  4 11:36:17 2024\n",
      "111\n",
      "111\n"
     ]
    },
    {
     "data": {
      "text/plain": [
       "'Mon Mar  4 11:36:20 2024'"
      ]
     },
     "execution_count": 51,
     "metadata": {},
     "output_type": "execute_result"
    }
   ],
   "source": [
    "print(time.ctime())\n",
    "a = await async_main([aa(1),aa(3)])\n",
    "time.ctime()"
   ]
  },
  {
   "cell_type": "code",
   "execution_count": null,
   "id": "71892634-6d8b-4765-aad4-45d6e4e70084",
   "metadata": {},
   "outputs": [],
   "source": []
  },
  {
   "cell_type": "code",
   "execution_count": null,
   "id": "b3607a93-8ea6-40f0-ae96-371f62b9508d",
   "metadata": {},
   "outputs": [],
   "source": []
  },
  {
   "cell_type": "code",
   "execution_count": null,
   "id": "774eed01-5e8e-4088-b8a2-4b90f183f812",
   "metadata": {},
   "outputs": [],
   "source": [
    "\n",
    "from threading import Thread\n",
    "import asyncio\n",
    "\n",
    "async def async_main(coroutines = []):\n",
    "    \"\"\"\n",
    "    多任务同时执行 以最长的任务时间为限, 完毕后统一回复\n",
    "    \"\"\"\n",
    "    tasks = [asyncio.ensure_future(cor_i) for cor_i in coroutines]\n",
    "\n",
    "    return await asyncio.gather(*tasks)\n",
    "async def create_thread_async(coroutines = []):\n",
    "    \"\"\"\n",
    "    多任务同时执行 创建一个线程去执行协程 而不会阻塞主线程\n",
    "    \"\"\"\n",
    "    def start_loop(loop):\n",
    "        asyncio.set_event_loop(loop)\n",
    "        loop.run_forever()\n",
    "\n",
    "    new_loop = asyncio.new_event_loop()\n",
    "    t = Thread(target=start_loop, args=(new_loop,))\n",
    "    t.start()\n",
    "    for coroutine in coroutines:\n",
    "        asyncio.run_coroutine_threadsafe(coroutine, new_loop)\n",
    "\n",
    "\n",
    "# loop = asyncio.get_event_loop()\n",
    "# task = asyncio.ensure_future(main())\n",
    "# try:\n",
    "#     loop.run_until_complete(task)\n",
    "# except KeyboardInterrupt as e:\n",
    "#     print(asyncio.Task.all_tasks())\n",
    "#     print(asyncio.gather(*asyncio.Task.all_tasks()).cancel())\n",
    "#     loop.stop()\n",
    "#     loop.run_forever()\n",
    "# finally:\n",
    "#     loop.close()"
   ]
  }
 ],
 "metadata": {
  "kernelspec": {
   "display_name": "Python 3 (ipykernel)",
   "language": "python",
   "name": "python3"
  },
  "language_info": {
   "codemirror_mode": {
    "name": "ipython",
    "version": 3
   },
   "file_extension": ".py",
   "mimetype": "text/x-python",
   "name": "python",
   "nbconvert_exporter": "python",
   "pygments_lexer": "ipython3",
   "version": "3.10.14"
  }
 },
 "nbformat": 4,
 "nbformat_minor": 5
}
