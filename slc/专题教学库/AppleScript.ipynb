{
 "cells": [
  {
   "cell_type": "markdown",
   "id": "6f08bc5d-bd8e-48a0-a454-b37c1ef20002",
   "metadata": {},
   "source": [
    "# AppleScript"
   ]
  },
  {
   "cell_type": "markdown",
   "id": "2c620f50-348a-46ce-99b9-75ed7f1e7de7",
   "metadata": {},
   "source": [
    "## 进入app"
   ]
  },
  {
   "cell_type": "code",
   "execution_count": null,
   "id": "f101e8af-b6d6-41a5-afec-2df42ee960c7",
   "metadata": {},
   "outputs": [],
   "source": [
    "tell application \"System Events\"\n",
    "\ttell process \"夸克扫描王\"\n",
    "\t\tentire contents\n",
    "\tend tell\n",
    "\t\n",
    "end tell"
   ]
  },
  {
   "cell_type": "markdown",
   "id": "affb56f9-9554-4144-9421-ff7c0243131f",
   "metadata": {},
   "source": [
    "## 数据类型"
   ]
  },
  {
   "cell_type": "code",
   "execution_count": null,
   "id": "35a596e5-5489-41df-9ac5-b9407b051c62",
   "metadata": {},
   "outputs": [],
   "source": [
    "set circleArea to the areaName of dicts"
   ]
  },
  {
   "cell_type": "markdown",
   "id": "895b00d5-ed75-44a2-8691-159c81819196",
   "metadata": {},
   "source": [
    "## function"
   ]
  },
  {
   "cell_type": "code",
   "execution_count": null,
   "id": "cc3f9c7b-31a0-4cac-b6ac-de151e2d4d27",
   "metadata": {},
   "outputs": [],
   "source": [
    "on circleArea(radius)\n",
    "\tset area to pi * (radius ^ 2)\n",
    "\treturn pi * (radius ^ 2)\n",
    "end circleArea\n",
    "\n",
    "on addNumbers(num1, num2)\n",
    "\tset sum to num1 + num2\n",
    "\treturn sum\n",
    "end addNumbers\n",
    "\n",
    "on warnFunc()\n",
    "\tdisplay dialog \"Warning\"\n",
    "end warnFunc\n",
    "\n",
    "on run argv\n",
    "\tset param1 to item 1 of argv\n",
    "\tset param2 to item 2 of argv\n",
    "\t-- 在这里可以使用参数进行操作\n",
    "\tdisplay dialog \"参数1：\" & param1 & \"，参数2：\" & param2\n",
    "\t\n",
    "end run\n",
    "\n",
    "\n",
    "warnFunc() #独立出来 有效\n"
   ]
  },
  {
   "cell_type": "code",
   "execution_count": null,
   "id": "66ad6ba1-82b6-49bc-884f-c24a661d2707",
   "metadata": {},
   "outputs": [],
   "source": [
    "tell application \"System Events\"\n",
    "\ttell process \"Poe\"\n",
    "\t\twarnFunc() of me\n",
    "\tend tell\n",
    "end tell"
   ]
  },
  {
   "cell_type": "code",
   "execution_count": null,
   "id": "cff594b4-3840-46d3-a780-6bd18a8beb57",
   "metadata": {},
   "outputs": [],
   "source": []
  },
  {
   "cell_type": "markdown",
   "id": "439c031c-97e8-40bb-ac85-1a93420ff93d",
   "metadata": {},
   "source": [
    "## other"
   ]
  },
  {
   "cell_type": "code",
   "execution_count": null,
   "id": "56c0fbe5-6b1b-4e90-9874-415db1356820",
   "metadata": {},
   "outputs": [],
   "source": [
    "use AppleScript version \"2.4\" -- Yosemite (10.10) or later\n",
    "use scripting additions\n",
    "\n",
    "on run argv\n",
    "\tset inputs to item 1 of argv\n",
    "\t\n",
    "\ttell application \"System Events\"\n",
    "\t\ttell process \"Poe\"\n",
    "\t\t\tset main_group to group 2 of group 1 of group 3 of group 1 of group 1 of group 1 of UI element \"Greeting - Poe\" of group 1 of group 1 of group 1 of group 1 of window 1\n",
    "\t\t\tset subGroups to every group of main_group\n",
    "\t\t\tset lastSubGroup to last item of subGroups\n",
    "\t\t\tset value of text area 1 of group 1 of group 1 of lastSubGroup to inputs\n",
    "\t\t\tdelay 1\n",
    "\t\t\tclick button 2 of group 1 of group 1 of lastSubGroup\n",
    "\t\tend tell\n",
    "\tend tell\n",
    "\treturn \"success\"\n",
    "\t\n",
    "end run\n",
    "\n"
   ]
  },
  {
   "cell_type": "code",
   "execution_count": null,
   "id": "5311f2c0-31d3-49af-a716-a00c604b949f",
   "metadata": {},
   "outputs": [],
   "source": [
    "\n",
    "use AppleScript version \"2.4\" -- Yosemite (10.10) or later\n",
    "use scripting additions\n",
    "\n",
    "\n",
    "tell application \"System Events\"\n",
    "\ttell process \"Poe\"\n",
    "\t\t\n",
    "\t\tset inputs to \"什么是国家机关\"\n",
    "\t\tset allText to {}\n",
    "\t\t\n",
    "\t\tset groupElements to every UI element of list 1 of group 1 of group 1 of group 66 of group 2 of group 1 of group 3 of group 1 of group 1 of group 1 of UI element \"Greeting - Poe\" of group 1 of group 1 of group 1 of group 1 of window 1\n",
    "\t\tset staticTextString to value of static text 1 of group 1 of group 2 of list 1 of group 1 of group 1 of group 54 of group 2 of group 1 of group 3 of group 1 of group 1 of group 1 of UI element \"Greeting - Poe\" of group 1 of group 1 of group 1 of group 1 of window 1\n",
    "\t\tdisplay dialog staticTextString\n",
    "\t\t\n",
    "\t\trepeat with element in groupElements\n",
    "\t\t\tset textValue to value of static text 1 of group 1 of element\n",
    "\t\t\tdisplay dialog textValue\n",
    "\t\t\tset end of allText to textValue\n",
    "\t\tend repeat\n",
    "\t\t\n",
    "\tend tell\n",
    "end tell\n",
    "return allText"
   ]
  },
  {
   "cell_type": "code",
   "execution_count": null,
   "id": "747fdcaa-00e7-48a4-9926-d94a6fee4e61",
   "metadata": {},
   "outputs": [],
   "source": []
  },
  {
   "cell_type": "markdown",
   "id": "223ce66a-8d3c-41ea-b757-c7b7a0fc0c60",
   "metadata": {},
   "source": [
    "## python 调用applescript"
   ]
  },
  {
   "cell_type": "code",
   "execution_count": 64,
   "id": "55b82032-d13e-428a-a1da-919cd44a30ad",
   "metadata": {
    "tags": []
   },
   "outputs": [],
   "source": [
    "import subprocess\n",
    "\n",
    "class BaseSDK():\n",
    "    def __init__(self):\n",
    "        pass\n",
    "\n",
    "    def run_applescript(self,script):\n",
    "        # 使用osascript命令执行AppleScript脚本并捕获输出\n",
    "        result = subprocess.run(['osascript', '-e', script], capture_output=True, text=True)\n",
    "\n",
    "        # 获取输出结果\n",
    "        output = result.stdout.strip()\n",
    "        return output\n",
    "    \n",
    "    def run_applescript_file(self,file_path,*args):\n",
    "        # 使用osascript命令执行AppleScript脚本并捕获输出\n",
    "        result = subprocess.run(['osascript', file_path,*args], capture_output=True, text=True)\n",
    "\n",
    "        # 获取输出结果\n",
    "        output = result.stdout.strip()\n",
    "        return output\n",
    "    "
   ]
  },
  {
   "cell_type": "code",
   "execution_count": null,
   "id": "ad0929c2-0197-431a-b8bf-5a33e4305799",
   "metadata": {
    "tags": []
   },
   "outputs": [],
   "source": [
    "class PoeSDK(BaseSDK):\n",
    "    \n",
    "    def inputs_CludleV3(text):\n",
    "        scpt_path = '/Users/zhaoxuefeng/Documents/Project/applescript/poe/input_v2.scpt'\n",
    "        result = self.run_applescript_file(scpt_path,text)\n",
    "        return result"
   ]
  },
  {
   "cell_type": "code",
   "execution_count": null,
   "id": "0b479c9d-5be1-442e-b06e-f7e5c818ef04",
   "metadata": {
    "tags": []
   },
   "outputs": [
    {
     "data": {
      "text/plain": [
       "'success'"
      ]
     },
     "execution_count": 62,
     "metadata": {},
     "output_type": "execute_result"
    }
   ],
   "source": [
    "PoeSDK().run_applescript_file('/Users/zhaoxuefeng/Documents/Project/applescript/poe/input_v2.scpt','谁是国家总书记')"
   ]
  },
  {
   "cell_type": "code",
   "execution_count": null,
   "id": "49697027-c523-4306-ab2d-e008dfbc4cff",
   "metadata": {},
   "outputs": [],
   "source": []
  },
  {
   "cell_type": "markdown",
   "id": "e2accda4-ca73-4e39-bd5b-72fcbed3e2f9",
   "metadata": {
    "tags": []
   },
   "source": [
    "## 编写与调试applescript脚本"
   ]
  },
  {
   "cell_type": "code",
   "execution_count": 12,
   "id": "1d3abf7d-4f4b-493c-a662-6892fe4145b3",
   "metadata": {
    "tags": []
   },
   "outputs": [
    {
     "name": "stdout",
     "output_type": "stream",
     "text": [
      "3324\n"
     ]
    }
   ],
   "source": [
    "applescript = '''\n",
    "tell application \"Finder\"\n",
    "    set desktopPath to (path to desktop) as text\n",
    "    #return desktopPath\n",
    "end tell\n",
    "return 1234\n",
    "'''\n",
    "desktop_path = run_applescript(applescript)\n",
    "print(desktop_path)"
   ]
  },
  {
   "cell_type": "code",
   "execution_count": 33,
   "id": "e5dabc7d-9c59-40ac-8ce8-1a13b7a4890a",
   "metadata": {
    "tags": []
   },
   "outputs": [],
   "source": [
    "a = run_applescript_file('/Users/zhaoxuefeng/Documents/Project/applescript/poe/text.scpt')"
   ]
  },
  {
   "cell_type": "code",
   "execution_count": null,
   "id": "82063ade-04d6-425b-8d10-f47c74d15a1a",
   "metadata": {},
   "outputs": [],
   "source": []
  },
  {
   "cell_type": "markdown",
   "id": "38af016e-0ea4-4f11-a21c-7d4583ecf679",
   "metadata": {
    "tags": []
   },
   "source": [
    "![AppleScript.pdf](AppleScript.pdf)"
   ]
  },
  {
   "cell_type": "code",
   "execution_count": null,
   "id": "6b8c1af8-60cc-43dc-a82b-64aaf927cb70",
   "metadata": {},
   "outputs": [],
   "source": []
  }
 ],
 "metadata": {
  "kernelspec": {
   "display_name": "Python 3 (ipykernel)",
   "language": "python",
   "name": "python3"
  },
  "language_info": {
   "codemirror_mode": {
    "name": "ipython",
    "version": 3
   },
   "file_extension": ".py",
   "mimetype": "text/x-python",
   "name": "python",
   "nbconvert_exporter": "python",
   "pygments_lexer": "ipython3",
   "version": "3.10.14"
  }
 },
 "nbformat": 4,
 "nbformat_minor": 5
}
