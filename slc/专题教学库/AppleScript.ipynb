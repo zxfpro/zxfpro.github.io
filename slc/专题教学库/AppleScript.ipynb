{
 "cells": [
  {
   "cell_type": "markdown",
   "id": "45648b40-0071-41ef-88ee-2cb7bdef023d",
   "metadata": {},
   "source": [
    "# AppleScript 的使用方法"
   ]
  },
  {
   "cell_type": "markdown",
   "id": "fce32c97-1e0a-4c90-a691-113d3b1a5fa9",
   "metadata": {},
   "source": [
    "SDK是软件开发工具包（Software Development Kit）的缩写，是一组用于开发软件应用程序的工具和资源的集合。SDK通常包括编程接口、示例代码、文档和调试工具等，可以帮助开发者更快速、更方便地开发应用程序。SDK可以针对特定的操作系统、平台或开发语言进行定制，提供相应的开发环境和工具，使开发者能够利用SDK中提供的功能和接口来构建自己的应用程序。常见的SDK包括Android SDK、iOS SDK、Windows SDK等。"
   ]
  },
  {
   "cell_type": "markdown",
   "id": "afd2fabc-613e-44e9-8b21-50d170bd1f99",
   "metadata": {},
   "source": [
    "## 存放SCPT 脚本文件"
   ]
  },
  {
   "cell_type": "code",
   "execution_count": 3,
   "id": "8390d474-f96d-444e-9bc5-66c46b3b1c58",
   "metadata": {
    "tags": []
   },
   "outputs": [
    {
     "name": "stdout",
     "output_type": "stream",
     "text": [
      "input_v2.scpt inputs.scpt   text.scpt\n"
     ]
    }
   ],
   "source": [
    "!ls /Users/zhaoxuefeng/Documents/Project/applescript/poe/"
   ]
  },
  {
   "cell_type": "markdown",
   "id": "f503c8c5-42e7-455a-8747-d989fe90663d",
   "metadata": {
    "tags": []
   },
   "source": [
    "## 编写与调试applescript脚本"
   ]
  },
  {
   "cell_type": "code",
   "execution_count": 11,
   "id": "7bfc0021-3675-4f1f-8163-6c5846a41fb1",
   "metadata": {
    "tags": []
   },
   "outputs": [],
   "source": [
    "import subprocess\n",
    "\n",
    "def run_applescript(script):\n",
    "    # 使用osascript命令执行AppleScript脚本并捕获输出\n",
    "    result = subprocess.run(['osascript', '-e', script], capture_output=True, text=True)\n",
    "    \n",
    "    # 获取输出结果\n",
    "    output = result.stdout.strip()\n",
    "    return output"
   ]
  },
  {
   "cell_type": "code",
   "execution_count": 12,
   "id": "179b3510-81b6-4bbe-9667-f8fa2b8d1dc1",
   "metadata": {
    "tags": []
   },
   "outputs": [
    {
     "name": "stdout",
     "output_type": "stream",
     "text": [
      "3324\n"
     ]
    }
   ],
   "source": [
    "applescript = '''\n",
    "tell application \"Finder\"\n",
    "    set desktopPath to (path to desktop) as text\n",
    "    #return desktopPath\n",
    "end tell\n",
    "return 1234\n",
    "'''\n",
    "desktop_path = run_applescript(applescript)\n",
    "print(desktop_path)"
   ]
  },
  {
   "cell_type": "markdown",
   "id": "2f218018-4194-44ea-9fd8-127b018ad537",
   "metadata": {
    "tags": []
   },
   "source": [
    "## 执行脚本文件"
   ]
  },
  {
   "cell_type": "code",
   "execution_count": 32,
   "id": "f1cfba92-7eb0-45ae-82cc-27e5e15f4e03",
   "metadata": {
    "tags": []
   },
   "outputs": [],
   "source": [
    "def run_applescript_file(file_path):\n",
    "    # 使用osascript命令执行AppleScript脚本并捕获输出\n",
    "    result = subprocess.run(['osascript', file_path], capture_output=True, text=True)\n",
    "    \n",
    "    # 获取输出结果\n",
    "    output = result.stdout.strip()\n",
    "    return output"
   ]
  },
  {
   "cell_type": "code",
   "execution_count": 33,
   "id": "b7e7d8c2-78fb-4a61-a332-d161d31a36d6",
   "metadata": {
    "tags": []
   },
   "outputs": [],
   "source": [
    "a = run_applescript_file('/Users/zhaoxuefeng/Documents/Project/applescript/poe/text.scpt')"
   ]
  },
  {
   "cell_type": "code",
   "execution_count": 34,
   "id": "8191bdb1-e569-4f99-9123-e895babcda53",
   "metadata": {
    "tags": []
   },
   "outputs": [
    {
     "data": {
      "text/plain": [
       "'332423'"
      ]
     },
     "execution_count": 34,
     "metadata": {},
     "output_type": "execute_result"
    }
   ],
   "source": [
    "a"
   ]
  },
  {
   "cell_type": "markdown",
   "id": "0b9f507e-9ee3-4cbb-9afe-1158a05baf5e",
   "metadata": {},
   "source": [
    "## 综合SDK设计"
   ]
  },
  {
   "cell_type": "code",
   "execution_count": null,
   "id": "c9a957e7-1d70-4f4a-8d67-a1c9a8953b7d",
   "metadata": {},
   "outputs": [],
   "source": []
  },
  {
   "cell_type": "code",
   "execution_count": 64,
   "id": "057a0c14-ca4a-4473-920e-2e6c60e07906",
   "metadata": {
    "tags": []
   },
   "outputs": [],
   "source": [
    "import subprocess\n",
    "\n",
    "class BaseSDK():\n",
    "    def __init__(self):\n",
    "        pass\n",
    "\n",
    "    def run_applescript(self,script):\n",
    "        # 使用osascript命令执行AppleScript脚本并捕获输出\n",
    "        result = subprocess.run(['osascript', '-e', script], capture_output=True, text=True)\n",
    "\n",
    "        # 获取输出结果\n",
    "        output = result.stdout.strip()\n",
    "        return output\n",
    "    \n",
    "    def run_applescript_file(self,file_path,*args):\n",
    "        # 使用osascript命令执行AppleScript脚本并捕获输出\n",
    "        result = subprocess.run(['osascript', file_path,*args], capture_output=True, text=True)\n",
    "\n",
    "        # 获取输出结果\n",
    "        output = result.stdout.strip()\n",
    "        return output\n",
    "    "
   ]
  },
  {
   "cell_type": "code",
   "execution_count": 65,
   "id": "5f13cb0a-0400-4b96-a5b4-1d20d323e204",
   "metadata": {
    "tags": []
   },
   "outputs": [],
   "source": [
    "class PoeSDK(BaseSDK):\n",
    "    \n",
    "    def inputs_CludleV3(text):\n",
    "        scpt_path = '/Users/zhaoxuefeng/Documents/Project/applescript/poe/input_v2.scpt'\n",
    "        result = self.run_applescript_file(scpt_path,text)\n",
    "        return result"
   ]
  },
  {
   "cell_type": "code",
   "execution_count": 62,
   "id": "30c24e78-cc48-4d69-a3ef-d97a46587c33",
   "metadata": {
    "tags": []
   },
   "outputs": [
    {
     "data": {
      "text/plain": [
       "'success'"
      ]
     },
     "execution_count": 62,
     "metadata": {},
     "output_type": "execute_result"
    }
   ],
   "source": [
    "PoeSDK().run_applescript_file('/Users/zhaoxuefeng/Documents/Project/applescript/poe/input_v2.scpt','谁是国家总书记')"
   ]
  },
  {
   "cell_type": "code",
   "execution_count": null,
   "id": "09a9e52e-3c9c-4334-8d81-d4c9822ac271",
   "metadata": {},
   "outputs": [],
   "source": []
  },
  {
   "cell_type": "code",
   "execution_count": null,
   "id": "2224be54-84ab-4671-92f3-68be353d75dc",
   "metadata": {},
   "outputs": [],
   "source": [
    "# %%aigen 使用fire包将代码包装成终端可执行\n",
    "\n",
    "import fire\n",
    "from pathlib import Path\n",
    "import openai\n",
    "\n",
    "def generate_speech(text):\n",
    "    response = openai.audio.speech.create(\n",
    "        model=\"tts-1\",\n",
    "        voice=\"onyx\",\n",
    "        input=text\n",
    "    )\n",
    "    response.stream_to_file('/Users/zhaoxuefeng/Documents/Project/applescript/快捷指令/speech.mp3')\n",
    "\n",
    "if __name__ == '__main__':\n",
    "    fire.Fire(generate_speech)\n"
   ]
  },
  {
   "cell_type": "code",
   "execution_count": 3,
   "id": "a17ef955-b0a9-4ab1-b5ae-e89dc0717ebc",
   "metadata": {
    "tags": []
   },
   "outputs": [
    {
     "name": "stdout",
     "output_type": "stream",
     "text": [
      "MyLibrary.scpt                     未命名.scpt\n",
      "functions.scpt                     如何在tell 中使用函数.scpt\n",
      "get_params.scpt                    数据类型.scpt\n",
      "use_file_function.scpt\n"
     ]
    }
   ],
   "source": [
    "!ls applescript/Tutorial/"
   ]
  },
  {
   "cell_type": "code",
   "execution_count": null,
   "id": "39dc7bc2-0fdf-498d-8696-89e59301a38d",
   "metadata": {},
   "outputs": [],
   "source": []
  },
  {
   "cell_type": "code",
   "execution_count": null,
   "id": "951da1c3-eb2b-460e-8562-61d512765936",
   "metadata": {},
   "outputs": [],
   "source": []
  },
  {
   "cell_type": "code",
   "execution_count": null,
   "id": "d66026e7-89f0-4d27-a726-8f91a782bb6e",
   "metadata": {},
   "outputs": [],
   "source": []
  },
  {
   "cell_type": "code",
   "execution_count": null,
   "id": "548aa2c2-0df0-4707-9de8-c1976febd4e6",
   "metadata": {},
   "outputs": [],
   "source": []
  },
  {
   "cell_type": "code",
   "execution_count": null,
   "id": "1af3d5fc-2940-44ea-955b-45b51334ece9",
   "metadata": {},
   "outputs": [],
   "source": [
    "use AppleScript version \"2.4\" -- Yosemite (10.10) or later\n",
    "use scripting additions\n",
    "\n",
    "on run argv\n",
    "\tset inputs to item 1 of argv\n",
    "\t\n",
    "\ttell application \"System Events\"\n",
    "\t\ttell process \"Poe\"\n",
    "\t\t\tset main_group to group 2 of group 1 of group 3 of group 1 of group 1 of group 1 of UI element \"Greeting - Poe\" of group 1 of group 1 of group 1 of group 1 of window 1\n",
    "\t\t\tset subGroups to every group of main_group\n",
    "\t\t\tset lastSubGroup to last item of subGroups\n",
    "\t\t\tset value of text area 1 of group 1 of group 1 of lastSubGroup to inputs\n",
    "\t\t\tdelay 1\n",
    "\t\t\tclick button 2 of group 1 of group 1 of lastSubGroup\n",
    "\t\tend tell\n",
    "\tend tell\n",
    "\treturn \"success\"\n",
    "\t\n",
    "end run\n",
    "\n"
   ]
  },
  {
   "cell_type": "code",
   "execution_count": null,
   "id": "bed501b2-ebf5-4631-a8b5-43a62650ba56",
   "metadata": {},
   "outputs": [],
   "source": [
    "\n",
    "use AppleScript version \"2.4\" -- Yosemite (10.10) or later\n",
    "use scripting additions\n",
    "\n",
    "\n",
    "tell application \"System Events\"\n",
    "\ttell process \"Poe\"\n",
    "\t\t\n",
    "\t\tset inputs to \"什么是国家机关\"\n",
    "\t\tset allText to {}\n",
    "\t\t\n",
    "\t\tset groupElements to every UI element of list 1 of group 1 of group 1 of group 66 of group 2 of group 1 of group 3 of group 1 of group 1 of group 1 of UI element \"Greeting - Poe\" of group 1 of group 1 of group 1 of group 1 of window 1\n",
    "\t\tset staticTextString to value of static text 1 of group 1 of group 2 of list 1 of group 1 of group 1 of group 54 of group 2 of group 1 of group 3 of group 1 of group 1 of group 1 of UI element \"Greeting - Poe\" of group 1 of group 1 of group 1 of group 1 of window 1\n",
    "\t\tdisplay dialog staticTextString\n",
    "\t\t\n",
    "\t\trepeat with element in groupElements\n",
    "\t\t\tset textValue to value of static text 1 of group 1 of element\n",
    "\t\t\tdisplay dialog textValue\n",
    "\t\t\tset end of allText to textValue\n",
    "\t\tend repeat\n",
    "\t\t\n",
    "\tend tell\n",
    "end tell\n",
    "return allText"
   ]
  },
  {
   "cell_type": "code",
   "execution_count": null,
   "id": "791ec782-b557-497d-afef-879edfe0f62a",
   "metadata": {},
   "outputs": [],
   "source": [
    "on run argv\n",
    "\tset param1 to item 1 of argv\n",
    "\tset param2 to item 2 of argv\n",
    "\t-- 在这里可以使用参数进行操作\n",
    "\tdisplay dialog \"参数1：\" & param1 & \"，参数2：\" & param2\n",
    "\t\n",
    "end run\n"
   ]
  },
  {
   "cell_type": "code",
   "execution_count": null,
   "id": "71a8fe4c-5815-4f44-8857-c10959479374",
   "metadata": {},
   "outputs": [],
   "source": []
  },
  {
   "cell_type": "code",
   "execution_count": null,
   "id": "4581ad77-054b-4e30-a2b8-b6aec9598321",
   "metadata": {},
   "outputs": [],
   "source": [
    "## use file function"
   ]
  },
  {
   "cell_type": "code",
   "execution_count": null,
   "id": "5793421f-d67d-4c5d-ac83-f38e628d027f",
   "metadata": {},
   "outputs": [],
   "source": [
    "use AppleScript version \"2.4\" -- Yosemite (10.10) or later\n",
    "use scripting additions\n",
    "\n",
    "set scriptPath to choose file\n",
    "try\n",
    "\tset areaCalScript to (load script scriptPath)\n",
    "\ttell areaCalScript\n",
    "\t\ttry\n",
    "\t\t\tset area to circleArea(10.0)\n",
    "\t\ton error\n",
    "\t\t\tdisplay dialog \"没有找到对应的方法\"\n",
    "\t\t\t\n",
    "\t\tend try\n",
    "\t\t\n",
    "\tend tell\n",
    "\t\n",
    "\t\n",
    "on error\n",
    "\tdisplay dialog \"请选择一个脚本文件\"\n",
    "end try"
   ]
  },
  {
   "cell_type": "code",
   "execution_count": null,
   "id": "3b013ad5-cee4-43fc-b70b-8aff4d3807e4",
   "metadata": {},
   "outputs": [],
   "source": [
    "on addNumbers(num1, num2)\n",
    "\tset sum to num1 + num2\n",
    "\treturn sum\n",
    "end addNumbers"
   ]
  },
  {
   "cell_type": "code",
   "execution_count": null,
   "id": "9fb81751-042a-41c4-bc79-3d27b2ddb034",
   "metadata": {},
   "outputs": [],
   "source": [
    "# get params"
   ]
  },
  {
   "cell_type": "code",
   "execution_count": null,
   "id": "aa6b57b4-a438-4d2d-9b59-503d050f8ec8",
   "metadata": {},
   "outputs": [],
   "source": [
    "on run argv\n",
    "\tset param1 to item 1 of argv\n",
    "\tset param2 to item 2 of argv\n",
    "\t-- 在这里可以使用参数进行操作\n",
    "\tdisplay dialog \"参数1：\" & param1 & \"，参数2：\" & param2\n",
    "\t\n",
    "end run\n"
   ]
  },
  {
   "cell_type": "code",
   "execution_count": null,
   "id": "bfcd6c73-8354-44c6-8711-8bc35f360e4b",
   "metadata": {},
   "outputs": [],
   "source": []
  },
  {
   "cell_type": "code",
   "execution_count": null,
   "id": "647e988b-0f2d-4489-88ad-87f544cc3696",
   "metadata": {},
   "outputs": [],
   "source": [
    "# 函数"
   ]
  },
  {
   "cell_type": "code",
   "execution_count": null,
   "id": "4e14d091-66c6-4e86-8602-707d74376e51",
   "metadata": {},
   "outputs": [],
   "source": [
    "use AppleScript version \"2.4\" -- Yosemite (10.10) or later\n",
    "use scripting additions\n",
    "\n",
    "on circleArea(radius)\n",
    "\tset area to pi * (radius ^ 2)\n",
    "\treturn pi * (radius ^ 2)\n",
    "end circleArea"
   ]
  },
  {
   "cell_type": "code",
   "execution_count": null,
   "id": "ecb95488-fd24-48e4-8f68-fe563f161bf7",
   "metadata": {},
   "outputs": [],
   "source": [
    "on warnFunc()\n",
    "\tdisplay dialog \"Warning\"\n",
    "end warnFunc\n",
    "\n",
    "warnFunc() #独立出来 有效\n",
    "\n",
    "\n",
    "tell application \"System Events\"\n",
    "\ttell process \"Poe\"\n",
    "\t\twarnFunc() of me\n",
    "\tend tell\n",
    "end tell\n",
    "\n"
   ]
  },
  {
   "cell_type": "code",
   "execution_count": null,
   "id": "2d6abb16-b9d5-4862-973f-937ad2d87bb0",
   "metadata": {},
   "outputs": [],
   "source": [
    "# 数据类型"
   ]
  },
  {
   "cell_type": "code",
   "execution_count": null,
   "id": "f7fb7f68-8936-4ce6-941d-f66c0efd990e",
   "metadata": {},
   "outputs": [],
   "source": [
    "use AppleScript version \"2.4\" -- Yosemite (10.10) or later\n",
    "use scripting additions\n",
    "\n",
    "-->尝试\n",
    "\n",
    "\n",
    "set circleArea to the areaName of dicts\n"
   ]
  },
  {
   "cell_type": "code",
   "execution_count": null,
   "id": "f69df4eb-0a52-4c78-9684-347d9f6f090e",
   "metadata": {},
   "outputs": [],
   "source": [
    "use AppleScript version \"2.4\" -- Yosemite (10.10) or later\n",
    "use scripting additions\n",
    "\n",
    "tell application \"System Events\"\n",
    "\ttell process \"夸克扫描王\"\n",
    "\t\tentire contents\n",
    "\tend tell\n",
    "\t\n",
    "end tell"
   ]
  },
  {
   "cell_type": "code",
   "execution_count": null,
   "id": "39c08501-4e16-4b39-92fd-145ecc3c0767",
   "metadata": {},
   "outputs": [],
   "source": []
  }
 ],
 "metadata": {
  "kernelspec": {
   "display_name": "Python 3 (ipykernel)",
   "language": "python",
   "name": "python3"
  },
  "language_info": {
   "codemirror_mode": {
    "name": "ipython",
    "version": 3
   },
   "file_extension": ".py",
   "mimetype": "text/x-python",
   "name": "python",
   "nbconvert_exporter": "python",
   "pygments_lexer": "ipython3",
   "version": "3.10.14"
  }
 },
 "nbformat": 4,
 "nbformat_minor": 5
}
