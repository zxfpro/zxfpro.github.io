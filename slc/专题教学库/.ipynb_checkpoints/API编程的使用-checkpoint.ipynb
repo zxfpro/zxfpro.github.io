{
 "cells": [
  {
   "cell_type": "markdown",
   "id": "8beab5ad-26e3-4802-ae42-32e338c777fc",
   "metadata": {},
   "source": [
    "# API 编程的使用"
   ]
  },
  {
   "cell_type": "markdown",
   "id": "e2f7fdee-b919-4805-be98-76e3d84c9bec",
   "metadata": {},
   "source": [
    "## 快速框架"
   ]
  },
  {
   "cell_type": "code",
   "execution_count": null,
   "id": "1dd7c20b-1a6d-4168-b3dc-f495558d9b8a",
   "metadata": {},
   "outputs": [],
   "source": [
    "from flask import Flask, Response, request\n",
    "from flask import stream_with_context, abort\n",
    "import json\n",
    "import asyncio\n",
    "import base64\n",
    "import requests\n",
    "import hashlib\n",
    "import json"
   ]
  },
  {
   "cell_type": "code",
   "execution_count": null,
   "id": "51250e3f-81fa-417c-9a55-1d98919ed756",
   "metadata": {},
   "outputs": [],
   "source": [
    "class API():\n",
    "    def __init__(self, authCode = ''):\n",
    "\n",
    "        self.app = Flask(__name__)\n",
    "        self.authCode = authCode\n",
    "\n",
    "    def authCodeCheck(self, type='get'):\n",
    "        \"\"\"\n",
    "        鉴权码检查\n",
    "        :param type: 请求类型\n",
    "        :return:\n",
    "        \"\"\"\n",
    "        try:\n",
    "            if type == 'get':\n",
    "                authCode = request.args.get('authCode', default=None, type=None)\n",
    "            elif type == 'post':\n",
    "                data = request.get_data()\n",
    "                data_dict = json.loads(data)\n",
    "                authCode = data_dict.get('authCode')\n",
    "            else:\n",
    "                raise Exception(\"type error\")\n",
    "            assert authCode == self.authCode\n",
    "            return None\n",
    "        except:\n",
    "            return self.response_info(500,\"authCode未授权\", '')\n",
    "\n",
    "    def response_info(self, code: int,msg: str, data):\n",
    "        \"\"\"\n",
    "        返回信息\n",
    "        :param code: 状态码\n",
    "        :param msg: 信息\n",
    "        :param data: 数据\n",
    "        :return:\n",
    "        \"\"\"\n",
    "        dicts = {\n",
    "            \"code\": code,\n",
    "            \"msg\": msg,\n",
    "            \"data\": data\n",
    "        }\n",
    "        return Response(json.dumps(dicts, ensure_ascii=False), mimetype='application/json')\n",
    "\n",
    "\n",
    "    def start(self, server_name='0.0.0.0', server_port=9010, **kwargs):\n",
    "\n",
    "        @self.app.route('/', methods=['GET'])\n",
    "        def running():\n",
    "            if request.method == \"GET\":\n",
    "                return self.response_info(200,\"running\", '')\n",
    "\n",
    "\n",
    "            \n",
    "        @self.app.route('/', methods=['POST'])\n",
    "        def post_check():\n",
    "            if request.method == \"POST\":\n",
    "                authCode_is_None = self.authCodeCheck('post')\n",
    "                if authCode_is_None:\n",
    "                    return authCode_is_None\n",
    "            \n",
    "                data_dict = json.loads(request.get_data())\n",
    "                return self.response_info(200,'success','')\n",
    "\n",
    "        self.app.run(host=server_name, port=server_port, **kwargs)\n",
    "\n",
    "if __name__ == '__main__':\n",
    "    api = API(authCode='57d3d17868206f5e181fd2')\n",
    "    api.start()\n"
   ]
  },
  {
   "cell_type": "code",
   "execution_count": null,
   "id": "ff9b4d87-f541-4b26-8fd6-568c13d306bd",
   "metadata": {},
   "outputs": [],
   "source": []
  },
  {
   "cell_type": "markdown",
   "id": "b5c486ed-5acb-4b2a-a78f-1a4f7ebbee00",
   "metadata": {},
   "source": [
    "## 可使用小工具"
   ]
  },
  {
   "cell_type": "code",
   "execution_count": null,
   "id": "7434c432-fce0-4791-a2af-67d374e2abca",
   "metadata": {},
   "outputs": [],
   "source": [
    "import setproctitle"
   ]
  },
  {
   "cell_type": "code",
   "execution_count": null,
   "id": "7522445c-0dc0-4176-a912-e3eea72b9a79",
   "metadata": {},
   "outputs": [],
   "source": [
    "def set_proctitle(name=''):\n",
    "    # 设置进程名称为 my_process\n",
    "    setproctitle.setproctitle(name)\n",
    "    # 以下是你的其他代码"
   ]
  },
  {
   "cell_type": "code",
   "execution_count": null,
   "id": "4a892428-d605-4273-b9a3-fc7a553f36ad",
   "metadata": {},
   "outputs": [],
   "source": []
  },
  {
   "cell_type": "markdown",
   "id": "54cc87b4-ddc4-4238-b943-64efa81e7b4a",
   "metadata": {},
   "source": [
    "## 客户端"
   ]
  },
  {
   "cell_type": "code",
   "execution_count": null,
   "id": "1161a258-3410-45db-a6ad-4c398ad773a4",
   "metadata": {},
   "outputs": [],
   "source": [
    "import requests\n",
    "import json\n",
    "def client():\n",
    "    r = requests.get('http://127.0.0.1:9010/')\n",
    "    return r.text\n",
    "def client2(data=\"datas\"):\n",
    "    k = {\"data\": data,\n",
    "         \"authCode\": \"57d3d17868206f5e181fd2\"}\n",
    "    r = requests.post('http://127.0.0.1:9010/',data=json.dumps(k))\n",
    "    return r.text"
   ]
  },
  {
   "cell_type": "code",
   "execution_count": null,
   "id": "8b9512bb-a903-4d2d-aa52-63e3727e2c13",
   "metadata": {},
   "outputs": [],
   "source": []
  },
  {
   "cell_type": "code",
   "execution_count": null,
   "id": "170a9aef-cb33-45cc-9442-58be684efeb4",
   "metadata": {},
   "outputs": [],
   "source": []
  }
 ],
 "metadata": {
  "kernelspec": {
   "display_name": "Python 3 (ipykernel)",
   "language": "python",
   "name": "python3"
  },
  "language_info": {
   "codemirror_mode": {
    "name": "ipython",
    "version": 3
   },
   "file_extension": ".py",
   "mimetype": "text/x-python",
   "name": "python",
   "nbconvert_exporter": "python",
   "pygments_lexer": "ipython3",
   "version": "3.10.14"
  }
 },
 "nbformat": 4,
 "nbformat_minor": 5
}
