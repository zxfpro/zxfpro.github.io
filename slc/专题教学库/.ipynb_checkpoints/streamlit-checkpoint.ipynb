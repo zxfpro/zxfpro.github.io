{
 "cells": [
  {
   "cell_type": "markdown",
   "id": "cf08bf5d-5f13-4c96-a85d-b511be528746",
   "metadata": {},
   "source": [
    "# streamlit"
   ]
  },
  {
   "cell_type": "markdown",
   "id": "d2378786-8d10-4670-a3f0-949e11c678be",
   "metadata": {},
   "source": [
    "streamlit 的简要笔记"
   ]
  },
  {
   "cell_type": "code",
   "execution_count": null,
   "id": "ba2b92a4-11b1-4d13-8513-70914b78e7ae",
   "metadata": {},
   "outputs": [],
   "source": [
    "import streamlit as st"
   ]
  },
  {
   "cell_type": "markdown",
   "id": "9d6a6178-9d8f-440d-bee2-9c09d5480c0f",
   "metadata": {},
   "source": [
    "## 文字"
   ]
  },
  {
   "cell_type": "code",
   "execution_count": null,
   "id": "2967280b-731c-47fb-bc32-c2e3addb49f5",
   "metadata": {},
   "outputs": [],
   "source": [
    "st.header(\"创建测试项目\")"
   ]
  },
  {
   "cell_type": "code",
   "execution_count": null,
   "id": "49a58ba5-bc75-4476-8543-d85fe3a25fa9",
   "metadata": {},
   "outputs": [],
   "source": [
    "st.subheader(\"脚本列表\")"
   ]
  },
  {
   "cell_type": "code",
   "execution_count": null,
   "id": "6ccff32c-a742-4e53-aad4-2db646519fc5",
   "metadata": {},
   "outputs": [],
   "source": [
    "st.write('测试规范:')"
   ]
  },
  {
   "cell_type": "code",
   "execution_count": null,
   "id": "036b39c4-e715-4b72-816b-e9fcc3c67745",
   "metadata": {},
   "outputs": [],
   "source": [
    "st.markdown()"
   ]
  },
  {
   "cell_type": "code",
   "execution_count": null,
   "id": "ea0b1e1b-19f3-4367-8105-8ab10f7333f7",
   "metadata": {},
   "outputs": [],
   "source": [
    "markdown_css = \"\"\"\n",
    "<style>\n",
    ".markdown-text-container {\n",
    "    background-color: black;\n",
    "    color: white;\n",
    "    padding: 1em;\n",
    "    border-radius: 5px;\n",
    "}\n",
    "</style>\n",
    "\"\"\"\n",
    "st.markdown(markdown_css, unsafe_allow_html=True)\n",
    "\n",
    "markdown_content = \"\"\"\n",
    "<div class=\"markdown-text-container\">\n",
    "text\n",
    "</div>\n",
    "\"\"\"\n",
    "st.markdown(markdown_content, unsafe_allow_html=True)"
   ]
  },
  {
   "cell_type": "markdown",
   "id": "7ee7a066-a193-4ec3-a0ce-0e4995f35a3f",
   "metadata": {},
   "source": [
    "## 输入"
   ]
  },
  {
   "cell_type": "code",
   "execution_count": null,
   "id": "523221df-618e-41a5-a2d3-5dba1cb0c2fb",
   "metadata": {},
   "outputs": [],
   "source": [
    "title = st.text_input(\"测试编号\", \"1\") # 标题 , 默认值"
   ]
  },
  {
   "cell_type": "code",
   "execution_count": null,
   "id": "1d34b9fb-41e9-40e9-a1e5-1b22f71b7bbf",
   "metadata": {},
   "outputs": [],
   "source": [
    "title1 = st.text_area(\"项目具体描述\", \"USI\",height=400) # 标题 , 默认值"
   ]
  },
  {
   "cell_type": "code",
   "execution_count": null,
   "id": "74adcbfb-b9db-49cd-b039-4e1d709ba7ee",
   "metadata": {},
   "outputs": [],
   "source": []
  },
  {
   "cell_type": "markdown",
   "id": "27aff38d-63fd-4002-b202-1108633a4e31",
   "metadata": {},
   "source": [
    "## 按钮"
   ]
  },
  {
   "cell_type": "code",
   "execution_count": null,
   "id": "827a1a25-be0b-482d-bcb1-d661928a7446",
   "metadata": {},
   "outputs": [],
   "source": [
    "st.link_button('确认创建',url='/rule',type='primary')"
   ]
  },
  {
   "cell_type": "code",
   "execution_count": null,
   "id": "3116f6c9-7630-42c0-9500-6778da849660",
   "metadata": {},
   "outputs": [],
   "source": []
  },
  {
   "cell_type": "markdown",
   "id": "fa841d16-f77c-41f3-9812-8acb09bb5314",
   "metadata": {},
   "source": [
    "## 进度"
   ]
  },
  {
   "cell_type": "code",
   "execution_count": null,
   "id": "cd6eeb64-b3af-4711-856c-bc06a96c38c4",
   "metadata": {},
   "outputs": [],
   "source": [
    "with st.status(\"生成测试规范...\", expanded=True) as status:\n",
    "    st.write(\"识别...\")\n",
    "    time.sleep(0.1)\n",
    "    st.write(\"生成...\")\n",
    "    time.sleep(1)\n",
    "    st.write(\"反思优化...\")\n",
    "    status.update(\n",
    "        label=\"生成测试规范完成!\", state=\"complete\", expanded=False\n",
    "    )\n",
    "    "
   ]
  },
  {
   "cell_type": "code",
   "execution_count": null,
   "id": "6f214694-4f7f-4ce5-9d23-42094ad17ef4",
   "metadata": {},
   "outputs": [],
   "source": [
    "word = st.empty()\n",
    "#文字占位符\n",
    "bar=st.progress(0)\n",
    "# 进度条 \n",
    "for i in range(100):\n",
    "    word.text('生成测试脚本进度:'+str(i+1))\n",
    "    if i < 10:\n",
    "        bar.progress(i+1)\n",
    "        time.sleep(0.1)"
   ]
  },
  {
   "cell_type": "markdown",
   "id": "99ade158-45f1-4f33-b4d4-17a97b5e866f",
   "metadata": {},
   "source": [
    "## 数据"
   ]
  },
  {
   "cell_type": "code",
   "execution_count": null,
   "id": "e826ecc7-649e-49f2-bcdc-69eac18b89ca",
   "metadata": {},
   "outputs": [],
   "source": [
    "st.data_editor("
   ]
  },
  {
   "cell_type": "code",
   "execution_count": null,
   "id": "d2f51dbd-1753-461d-a867-92a6d6fae8f2",
   "metadata": {},
   "outputs": [],
   "source": []
  },
  {
   "cell_type": "markdown",
   "id": "8479597c-d60d-4392-adf9-94830c944e24",
   "metadata": {},
   "source": [
    "## 结构"
   ]
  },
  {
   "cell_type": "code",
   "execution_count": null,
   "id": "6da3e653-61ec-4513-a6e6-b8d46e258781",
   "metadata": {},
   "outputs": [],
   "source": [
    "import streamlit as st\n",
    "rule = st.Page(\"pages/rule.py\", title=\"规范及脚本生成\", icon=\":material/dashboard:\")\n",
    "script = st.Page(\"pages/script.py\", title=\"脚本管理\", icon=\":material/dashboard:\")\n",
    "create = st.Page(\"pages/create.py\", title=\"创建测试项目\", icon=\":material/dashboard:\")\n",
    "detail = st.Page(\"pages/detail.py\", title=\" \", icon=\"\")\n",
    "subdetail = st.Page(\"pages/subdetail.py\", title=\" \", icon=\"\")\n",
    "progress1 = st.Page(\"pages/progress1.py\", title=\" \", icon=\"\")\n",
    "progress2 = st.Page(\"pages/progress2.py\", title=\" \", icon=\"\")\n",
    "\n",
    "\n",
    "\n",
    "pg = st.navigation(\n",
    "    {\n",
    "        \"超级SIM测试脚本自动生成系统\": [create,rule,script,detail,subdetail,progress1,progress2]\n",
    "    }\n",
    ")\n",
    "\n",
    "pg.run()"
   ]
  }
 ],
 "metadata": {
  "kernelspec": {
   "display_name": "Python 3 (ipykernel)",
   "language": "python",
   "name": "python3"
  },
  "language_info": {
   "codemirror_mode": {
    "name": "ipython",
    "version": 3
   },
   "file_extension": ".py",
   "mimetype": "text/x-python",
   "name": "python",
   "nbconvert_exporter": "python",
   "pygments_lexer": "ipython3",
   "version": "3.10.14"
  }
 },
 "nbformat": 4,
 "nbformat_minor": 5
}
