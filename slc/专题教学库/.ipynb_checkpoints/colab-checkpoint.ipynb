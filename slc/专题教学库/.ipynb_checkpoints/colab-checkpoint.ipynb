{
 "cells": [
  {
   "cell_type": "code",
   "execution_count": null,
   "id": "36ee3fa8-2ec5-4477-bc92-27d1f20c3b74",
   "metadata": {},
   "outputs": [],
   "source": [
    "colab api"
   ]
  },
  {
   "cell_type": "code",
   "execution_count": null,
   "id": "d78a7b3b-8c51-4fcc-9795-da37953e617d",
   "metadata": {},
   "outputs": [],
   "source": []
  },
  {
   "cell_type": "markdown",
   "id": "dfd63bcb-aa83-443f-aa99-555076270f7a",
   "metadata": {},
   "source": [
    "说明：\n",
    "Google Drive API认证：该脚本首先通过Google Drive API认证，并建立Drive服务对象，用于文件的上传和下载。\n",
    "上传到Google Drive：指定.ipynb文件的路径，将其上传到Google Drive。\n",
    "手动运行Colab Notebook：目前，Google Colab并未提供自动化API来启动和运行notebook，因此，用户需要手动进入生成的URL来运行notebook。\n",
    "下载结果文件：假定用户已经运行notebook并生成了一个结果文件，脚本会下载该文件到本地。\n",
    "注意：\n",
    "credentials.json文件是你从Google Cloud Platform获取的OAuth凭据文件。\n",
    "你需要手动执行在Colab上运行的步骤，因为Google Colab不允许通过脚本完全自动化运行notebook的过程。"
   ]
  },
  {
   "cell_type": "code",
   "execution_count": 3,
   "id": "af5a73f4-1b8a-483a-a226-4764abfe5b84",
   "metadata": {
    "tags": []
   },
   "outputs": [
    {
     "ename": "FileNotFoundError",
     "evalue": "[Errno 2] No such file or directory: 'credentials.json'",
     "output_type": "error",
     "traceback": [
      "\u001b[0;31m---------------------------------------------------------------------------\u001b[0m",
      "\u001b[0;31mFileNotFoundError\u001b[0m                         Traceback (most recent call last)",
      "Cell \u001b[0;32mIn[3], line 58\u001b[0m\n\u001b[1;32m     54\u001b[0m         \u001b[38;5;28mprint\u001b[39m(\u001b[38;5;124mf\u001b[39m\u001b[38;5;124m'\u001b[39m\u001b[38;5;124mDownload progress: \u001b[39m\u001b[38;5;132;01m{\u001b[39;00m\u001b[38;5;28mint\u001b[39m(status\u001b[38;5;241m.\u001b[39mprogress()\u001b[38;5;250m \u001b[39m\u001b[38;5;241m*\u001b[39m\u001b[38;5;250m \u001b[39m\u001b[38;5;241m100\u001b[39m)\u001b[38;5;132;01m}\u001b[39;00m\u001b[38;5;124m%\u001b[39m\u001b[38;5;124m'\u001b[39m)\n\u001b[1;32m     56\u001b[0m \u001b[38;5;28;01mif\u001b[39;00m \u001b[38;5;18m__name__\u001b[39m \u001b[38;5;241m==\u001b[39m \u001b[38;5;124m'\u001b[39m\u001b[38;5;124m__main__\u001b[39m\u001b[38;5;124m'\u001b[39m:\n\u001b[1;32m     57\u001b[0m     \u001b[38;5;66;03m# Authenticate Google Drive\u001b[39;00m\n\u001b[0;32m---> 58\u001b[0m     drive_service \u001b[38;5;241m=\u001b[39m \u001b[43mauthenticate_gdrive\u001b[49m\u001b[43m(\u001b[49m\u001b[43m)\u001b[49m\n\u001b[1;32m     60\u001b[0m     \u001b[38;5;66;03m# Define the local file path\u001b[39;00m\n\u001b[1;32m     61\u001b[0m     file_path \u001b[38;5;241m=\u001b[39m \u001b[38;5;124m'\u001b[39m\u001b[38;5;124mpath/to/your/notebook.ipynb\u001b[39m\u001b[38;5;124m'\u001b[39m\n",
      "Cell \u001b[0;32mIn[3], line 24\u001b[0m, in \u001b[0;36mauthenticate_gdrive\u001b[0;34m()\u001b[0m\n\u001b[1;32m     22\u001b[0m     creds\u001b[38;5;241m.\u001b[39mrefresh(Request())\n\u001b[1;32m     23\u001b[0m \u001b[38;5;28;01melse\u001b[39;00m:\n\u001b[0;32m---> 24\u001b[0m     flow \u001b[38;5;241m=\u001b[39m \u001b[43mInstalledAppFlow\u001b[49m\u001b[38;5;241;43m.\u001b[39;49m\u001b[43mfrom_client_secrets_file\u001b[49m\u001b[43m(\u001b[49m\u001b[38;5;124;43m'\u001b[39;49m\u001b[38;5;124;43mcredentials.json\u001b[39;49m\u001b[38;5;124;43m'\u001b[39;49m\u001b[43m,\u001b[49m\u001b[43m \u001b[49m\u001b[43mSCOPES\u001b[49m\u001b[43m)\u001b[49m\n\u001b[1;32m     25\u001b[0m     creds \u001b[38;5;241m=\u001b[39m flow\u001b[38;5;241m.\u001b[39mrun_local_server(port\u001b[38;5;241m=\u001b[39m\u001b[38;5;241m0\u001b[39m)\n\u001b[1;32m     27\u001b[0m \u001b[38;5;66;03m# Save credentials for future use\u001b[39;00m\n",
      "File \u001b[0;32m~/opt/miniconda3/envs/py310_new/lib/python3.10/site-packages/google_auth_oauthlib/flow.py:198\u001b[0m, in \u001b[0;36mFlow.from_client_secrets_file\u001b[0;34m(cls, client_secrets_file, scopes, **kwargs)\u001b[0m\n\u001b[1;32m    183\u001b[0m \u001b[38;5;129m@classmethod\u001b[39m\n\u001b[1;32m    184\u001b[0m \u001b[38;5;28;01mdef\u001b[39;00m \u001b[38;5;21mfrom_client_secrets_file\u001b[39m(\u001b[38;5;28mcls\u001b[39m, client_secrets_file, scopes, \u001b[38;5;241m*\u001b[39m\u001b[38;5;241m*\u001b[39mkwargs):\n\u001b[1;32m    185\u001b[0m \u001b[38;5;250m    \u001b[39m\u001b[38;5;124;03m\"\"\"Creates a :class:`Flow` instance from a Google client secrets file.\u001b[39;00m\n\u001b[1;32m    186\u001b[0m \n\u001b[1;32m    187\u001b[0m \u001b[38;5;124;03m    Args:\u001b[39;00m\n\u001b[0;32m   (...)\u001b[0m\n\u001b[1;32m    196\u001b[0m \u001b[38;5;124;03m        Flow: The constructed Flow instance.\u001b[39;00m\n\u001b[1;32m    197\u001b[0m \u001b[38;5;124;03m    \"\"\"\u001b[39;00m\n\u001b[0;32m--> 198\u001b[0m     \u001b[38;5;28;01mwith\u001b[39;00m \u001b[38;5;28;43mopen\u001b[39;49m\u001b[43m(\u001b[49m\u001b[43mclient_secrets_file\u001b[49m\u001b[43m,\u001b[49m\u001b[43m \u001b[49m\u001b[38;5;124;43m\"\u001b[39;49m\u001b[38;5;124;43mr\u001b[39;49m\u001b[38;5;124;43m\"\u001b[39;49m\u001b[43m)\u001b[49m \u001b[38;5;28;01mas\u001b[39;00m json_file:\n\u001b[1;32m    199\u001b[0m         client_config \u001b[38;5;241m=\u001b[39m json\u001b[38;5;241m.\u001b[39mload(json_file)\n\u001b[1;32m    201\u001b[0m     \u001b[38;5;28;01mreturn\u001b[39;00m \u001b[38;5;28mcls\u001b[39m\u001b[38;5;241m.\u001b[39mfrom_client_config(client_config, scopes\u001b[38;5;241m=\u001b[39mscopes, \u001b[38;5;241m*\u001b[39m\u001b[38;5;241m*\u001b[39mkwargs)\n",
      "\u001b[0;31mFileNotFoundError\u001b[0m: [Errno 2] No such file or directory: 'credentials.json'"
     ]
    }
   ],
   "source": [
    "from google.auth.transport.requests import Request\n",
    "from google_auth_oauthlib.flow import InstalledAppFlow\n",
    "from googleapiclient.discovery import build\n",
    "from googleapiclient.http import MediaFileUpload, MediaIoBaseDownload\n",
    "import os\n",
    "import pickle\n",
    "import io\n",
    "\n",
    "# Authenticate and create the drive service\n",
    "def authenticate_gdrive():\n",
    "    SCOPES = ['https://www.googleapis.com/auth/drive']\n",
    "    creds = None\n",
    "\n",
    "    # Load credentials if available\n",
    "    if os.path.exists('token.pickle'):\n",
    "        with open('token.pickle', 'rb') as token:\n",
    "            creds = pickle.load(token)\n",
    "\n",
    "    # If no valid credentials, prompt user to log in\n",
    "    if not creds or not creds.valid:\n",
    "        if creds and creds.expired and creds.refresh_token:\n",
    "            creds.refresh(Request())\n",
    "        else:\n",
    "            flow = InstalledAppFlow.from_client_secrets_file('credentials.json', SCOPES)\n",
    "            creds = flow.run_local_server(port=0)\n",
    "\n",
    "        # Save credentials for future use\n",
    "        with open('token.pickle', 'wb') as token:\n",
    "            pickle.dump(creds, token)\n",
    "\n",
    "    return build('drive', 'v3', credentials=creds)\n",
    "\n",
    "# Upload a file to Google Drive\n",
    "def upload_to_drive(service, file_path):\n",
    "    file_metadata = {'name': os.path.basename(file_path)}\n",
    "    media = MediaFileUpload(file_path, mimetype='application/octet-stream')\n",
    "    file = service.files().create(body=file_metadata, media_body=media, fields='id').execute()\n",
    "    return file.get('id')\n",
    "\n",
    "# Run notebook on Google Colab\n",
    "def run_notebook_on_colab(file_id):\n",
    "    colab_url = f'https://colab.research.google.com/drive/{file_id}'\n",
    "    print(f'Run your notebook at: {colab_url}')\n",
    "    # Colab does not have a public API to run notebooks automatically, manual interaction is required.\n",
    "\n",
    "# Download the file from Google Drive\n",
    "def download_from_drive(service, file_id, output_path):\n",
    "    request = service.files().get_media(fileId=file_id)\n",
    "    fh = io.FileIO(output_path, 'wb')\n",
    "    downloader = MediaIoBaseDownload(fh, request)\n",
    "    done = False\n",
    "    while not done:\n",
    "        status, done = downloader.next_chunk()\n",
    "        print(f'Download progress: {int(status.progress() * 100)}%')\n",
    "\n",
    "if __name__ == '__main__':\n",
    "    # Authenticate Google Drive\n",
    "    drive_service = authenticate_gdrive()\n",
    "\n",
    "    # Define the local file path\n",
    "    file_path = 'path/to/your/notebook.ipynb'\n",
    "\n",
    "    # Upload to Google Drive\n",
    "    file_id = upload_to_drive(drive_service, file_path)\n",
    "    print(f'File uploaded to Google Drive with ID: {file_id}')\n",
    "\n",
    "    # Run the notebook on Google Colab (Manual Step)\n",
    "    run_notebook_on_colab(file_id)\n",
    "\n",
    "    # You need to manually run the notebook and then download the result.\n",
    "\n",
    "    # Assume the output file ID (you'll need to get this from Colab after running the notebook)\n",
    "    output_file_id = 'your-output-file-id'\n",
    "\n",
    "    # Download the result to a local path\n",
    "    output_path = 'path/to/save/output.ipynb'\n",
    "    download_from_drive(drive_service, output_file_id, output_path)\n",
    "    print(f'Result downloaded to {output_path}')\n"
   ]
  },
  {
   "cell_type": "code",
   "execution_count": 2,
   "id": "12409ec0-040d-4678-a572-5012035645bd",
   "metadata": {
    "collapsed": true,
    "jupyter": {
     "outputs_hidden": true
    },
    "tags": []
   },
   "outputs": [
    {
     "name": "stdout",
     "output_type": "stream",
     "text": [
      "Looking in indexes: https://pypi.tuna.tsinghua.edu.cn/simple\n",
      "Requirement already satisfied: google-auth in /Users/zhaoxuefeng/opt/miniconda3/envs/py310_new/lib/python3.10/site-packages (2.29.0)\n",
      "Collecting google-auth-oauthlib\n",
      "  Downloading https://pypi.tuna.tsinghua.edu.cn/packages/1a/8e/22a28dfbd218033e4eeaf3a0533b2b54852b6530da0c0fe934f0cc494b29/google_auth_oauthlib-1.2.1-py2.py3-none-any.whl (24 kB)\n",
      "Collecting google-auth-httplib2\n",
      "  Using cached https://pypi.tuna.tsinghua.edu.cn/packages/be/8a/fe34d2f3f9470a27b01c9e76226965863f153d5fbe276f83608562e49c04/google_auth_httplib2-0.2.0-py2.py3-none-any.whl (9.3 kB)\n",
      "Collecting google-api-python-client\n",
      "  Downloading https://pypi.tuna.tsinghua.edu.cn/packages/7a/c3/2ce2d51edd0a57b7ffa0979e9c24b7f87509448c2824a08c86a439880d94/google_api_python_client-2.140.0-py2.py3-none-any.whl (12.1 MB)\n",
      "\u001b[2K     \u001b[90m━━━━━━━━━━━━━━━━━━━━━━━━━━━━━━━━━━━━━━━━\u001b[0m \u001b[32m12.1/12.1 MB\u001b[0m \u001b[31m2.6 MB/s\u001b[0m eta \u001b[36m0:00:00\u001b[0m00:01\u001b[0m00:01\u001b[0m\n",
      "\u001b[?25hRequirement already satisfied: cachetools<6.0,>=2.0.0 in /Users/zhaoxuefeng/opt/miniconda3/envs/py310_new/lib/python3.10/site-packages (from google-auth) (5.3.3)\n",
      "Requirement already satisfied: pyasn1-modules>=0.2.1 in /Users/zhaoxuefeng/opt/miniconda3/envs/py310_new/lib/python3.10/site-packages (from google-auth) (0.4.0)\n",
      "Requirement already satisfied: rsa<5,>=3.1.4 in /Users/zhaoxuefeng/opt/miniconda3/envs/py310_new/lib/python3.10/site-packages (from google-auth) (4.9)\n",
      "Requirement already satisfied: requests-oauthlib>=0.7.0 in /Users/zhaoxuefeng/opt/miniconda3/envs/py310_new/lib/python3.10/site-packages (from google-auth-oauthlib) (2.0.0)\n",
      "Collecting httplib2>=0.19.0 (from google-auth-httplib2)\n",
      "  Downloading https://pypi.tuna.tsinghua.edu.cn/packages/a8/6c/d2fbdaaa5959339d53ba38e94c123e4e84b8fbc4b84beb0e70d7c1608486/httplib2-0.22.0-py3-none-any.whl (96 kB)\n",
      "\u001b[2K     \u001b[90m━━━━━━━━━━━━━━━━━━━━━━━━━━━━━━━━━━━━━━━━\u001b[0m \u001b[32m96.9/96.9 kB\u001b[0m \u001b[31m3.4 MB/s\u001b[0m eta \u001b[36m0:00:00\u001b[0m\n",
      "\u001b[?25hRequirement already satisfied: google-api-core!=2.0.*,!=2.1.*,!=2.2.*,!=2.3.0,<3.0.0.dev0,>=1.31.5 in /Users/zhaoxuefeng/opt/miniconda3/envs/py310_new/lib/python3.10/site-packages (from google-api-python-client) (2.18.0)\n",
      "Collecting uritemplate<5,>=3.0.1 (from google-api-python-client)\n",
      "  Downloading https://pypi.tuna.tsinghua.edu.cn/packages/81/c0/7461b49cd25aeece13766f02ee576d1db528f1c37ce69aee300e075b485b/uritemplate-4.1.1-py2.py3-none-any.whl (10 kB)\n",
      "Requirement already satisfied: googleapis-common-protos<2.0.dev0,>=1.56.2 in /Users/zhaoxuefeng/opt/miniconda3/envs/py310_new/lib/python3.10/site-packages (from google-api-core!=2.0.*,!=2.1.*,!=2.2.*,!=2.3.0,<3.0.0.dev0,>=1.31.5->google-api-python-client) (1.63.0)\n",
      "Requirement already satisfied: protobuf!=3.20.0,!=3.20.1,!=4.21.0,!=4.21.1,!=4.21.2,!=4.21.3,!=4.21.4,!=4.21.5,<5.0.0.dev0,>=3.19.5 in /Users/zhaoxuefeng/opt/miniconda3/envs/py310_new/lib/python3.10/site-packages (from google-api-core!=2.0.*,!=2.1.*,!=2.2.*,!=2.3.0,<3.0.0.dev0,>=1.31.5->google-api-python-client) (4.25.1)\n",
      "Requirement already satisfied: proto-plus<2.0.0dev,>=1.22.3 in /Users/zhaoxuefeng/opt/miniconda3/envs/py310_new/lib/python3.10/site-packages (from google-api-core!=2.0.*,!=2.1.*,!=2.2.*,!=2.3.0,<3.0.0.dev0,>=1.31.5->google-api-python-client) (1.23.0)\n",
      "Requirement already satisfied: requests<3.0.0.dev0,>=2.18.0 in /Users/zhaoxuefeng/opt/miniconda3/envs/py310_new/lib/python3.10/site-packages (from google-api-core!=2.0.*,!=2.1.*,!=2.2.*,!=2.3.0,<3.0.0.dev0,>=1.31.5->google-api-python-client) (2.31.0)\n",
      "Requirement already satisfied: pyparsing!=3.0.0,!=3.0.1,!=3.0.2,!=3.0.3,<4,>=2.4.2 in /Users/zhaoxuefeng/opt/miniconda3/envs/py310_new/lib/python3.10/site-packages (from httplib2>=0.19.0->google-auth-httplib2) (3.1.1)\n",
      "Requirement already satisfied: pyasn1<0.7.0,>=0.4.6 in /Users/zhaoxuefeng/opt/miniconda3/envs/py310_new/lib/python3.10/site-packages (from pyasn1-modules>=0.2.1->google-auth) (0.6.0)\n",
      "Requirement already satisfied: oauthlib>=3.0.0 in /Users/zhaoxuefeng/opt/miniconda3/envs/py310_new/lib/python3.10/site-packages (from requests-oauthlib>=0.7.0->google-auth-oauthlib) (3.2.2)\n",
      "Requirement already satisfied: charset-normalizer<4,>=2 in /Users/zhaoxuefeng/opt/miniconda3/envs/py310_new/lib/python3.10/site-packages (from requests<3.0.0.dev0,>=2.18.0->google-api-core!=2.0.*,!=2.1.*,!=2.2.*,!=2.3.0,<3.0.0.dev0,>=1.31.5->google-api-python-client) (3.3.2)\n",
      "Requirement already satisfied: idna<4,>=2.5 in /Users/zhaoxuefeng/opt/miniconda3/envs/py310_new/lib/python3.10/site-packages (from requests<3.0.0.dev0,>=2.18.0->google-api-core!=2.0.*,!=2.1.*,!=2.2.*,!=2.3.0,<3.0.0.dev0,>=1.31.5->google-api-python-client) (3.4)\n",
      "Requirement already satisfied: urllib3<3,>=1.21.1 in /Users/zhaoxuefeng/opt/miniconda3/envs/py310_new/lib/python3.10/site-packages (from requests<3.0.0.dev0,>=2.18.0->google-api-core!=2.0.*,!=2.1.*,!=2.2.*,!=2.3.0,<3.0.0.dev0,>=1.31.5->google-api-python-client) (2.0.7)\n",
      "Requirement already satisfied: certifi>=2017.4.17 in /Users/zhaoxuefeng/opt/miniconda3/envs/py310_new/lib/python3.10/site-packages (from requests<3.0.0.dev0,>=2.18.0->google-api-core!=2.0.*,!=2.1.*,!=2.2.*,!=2.3.0,<3.0.0.dev0,>=1.31.5->google-api-python-client) (2023.7.22)\n",
      "Installing collected packages: uritemplate, httplib2, google-auth-oauthlib, google-auth-httplib2, google-api-python-client\n",
      "Successfully installed google-api-python-client-2.140.0 google-auth-httplib2-0.2.0 google-auth-oauthlib-1.2.1 httplib2-0.22.0 uritemplate-4.1.1\n"
     ]
    }
   ],
   "source": [
    "!pip install google-auth google-auth-oauthlib google-auth-httplib2 google-api-python-client\n"
   ]
  },
  {
   "cell_type": "code",
   "execution_count": null,
   "id": "e314f8b1-2605-462f-9a00-41c3402ee8a4",
   "metadata": {},
   "outputs": [],
   "source": []
  }
 ],
 "metadata": {
  "kernelspec": {
   "display_name": "Python 3 (ipykernel)",
   "language": "python",
   "name": "python3"
  },
  "language_info": {
   "codemirror_mode": {
    "name": "ipython",
    "version": 3
   },
   "file_extension": ".py",
   "mimetype": "text/x-python",
   "name": "python",
   "nbconvert_exporter": "python",
   "pygments_lexer": "ipython3",
   "version": "3.10.14"
  }
 },
 "nbformat": 4,
 "nbformat_minor": 5
}
