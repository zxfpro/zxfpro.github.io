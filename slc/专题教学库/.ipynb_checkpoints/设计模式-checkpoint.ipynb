{
 "cells": [
  {
   "cell_type": "markdown",
   "id": "e0536d5b-8b75-4cd9-a3f5-46482786a414",
   "metadata": {},
   "source": [
    "# 单例模式"
   ]
  },
  {
   "cell_type": "code",
   "execution_count": 1,
   "id": "b39a231e-2c3d-497b-89ad-abb02d707227",
   "metadata": {
    "tags": []
   },
   "outputs": [],
   "source": [
    "\n",
    "class Singleton:\n",
    "    _instance = None\n",
    "    x = 1\n",
    "    def __new__(cls):\n",
    "        if not cls._instance:\n",
    "            cls._instance = super().__new__(cls)\n",
    "        return cls._instance"
   ]
  },
  {
   "cell_type": "markdown",
   "id": "5fa72370-cd13-4c91-9a9f-022506656b1a",
   "metadata": {
    "tags": []
   },
   "source": [
    "一个类只能存在一个实例"
   ]
  },
  {
   "cell_type": "code",
   "execution_count": 7,
   "id": "bc5435a6-5810-4f87-9d85-f5df566130f8",
   "metadata": {
    "tags": []
   },
   "outputs": [],
   "source": [
    "a = Singleton()"
   ]
  },
  {
   "cell_type": "code",
   "execution_count": 4,
   "id": "23f4d1af-c2b6-4f18-a88d-5c26ea3e55ad",
   "metadata": {
    "tags": []
   },
   "outputs": [],
   "source": [
    "b = Singleton()"
   ]
  },
  {
   "cell_type": "code",
   "execution_count": 5,
   "id": "2a793aa5-4e59-4d21-a144-3b8aa4ae57f1",
   "metadata": {
    "tags": []
   },
   "outputs": [
    {
     "data": {
      "text/plain": [
       "True"
      ]
     },
     "execution_count": 5,
     "metadata": {},
     "output_type": "execute_result"
    }
   ],
   "source": [
    "a ==b"
   ]
  },
  {
   "cell_type": "markdown",
   "id": "db8fb85f-6422-412d-933f-37e7e37e0def",
   "metadata": {},
   "source": [
    "# 工厂模式"
   ]
  },
  {
   "cell_type": "markdown",
   "id": "46e2e614-c83f-433d-a569-71802fbfbc84",
   "metadata": {},
   "source": [
    "工厂模式:\n",
    "    简单工厂模式\n",
    "    工厂方法模式\n",
    "    抽象工厂模式\n",
    "    \n",
    "工厂模式（Factory Pattern）是一种创建型设计模式，定义了一个接口用于创建对象，但让子类决定实例化哪个类。工厂模式让一个类的实例化延迟到其子类。它通过创建对象的代码与使用对象的代码分离来提供更高的灵活性和可扩展性。"
   ]
  },
  {
   "cell_type": "markdown",
   "id": "fa595ffb-fe3b-41a9-9c9d-e563dce42137",
   "metadata": {},
   "source": [
    "## 简单工厂模式"
   ]
  },
  {
   "cell_type": "code",
   "execution_count": null,
   "id": "a20b8d62-930b-478b-a73f-ab87f28118c8",
   "metadata": {},
   "outputs": [],
   "source": [
    "车是模板,但是工厂是实体"
   ]
  },
  {
   "cell_type": "code",
   "execution_count": 70,
   "id": "f9f41da3-4587-40b7-94b6-a16322f6fb60",
   "metadata": {
    "tags": []
   },
   "outputs": [],
   "source": [
    "class Car:\n",
    "    def drive(self):\n",
    "        pass\n",
    "    \n",
    "class Sedan(Car):\n",
    "    def drive(self):\n",
    "        print('driving an sedan')\n",
    "        \n",
    "class SUV(Car):\n",
    "    def drive(self):\n",
    "        print(\"driving an SUV\")\n",
    "        \n",
    "class CarFactory:\n",
    "    @staticmethod\n",
    "    def create_car(car_type):\n",
    "        if car_type == 'sedan':\n",
    "            return Sedan()\n",
    "        \n",
    "        elif car_type == 'suv':\n",
    "            return SUV()\n",
    "        \n",
    "        else:\n",
    "            raise ValueError(\"Unkonw Car Type\")"
   ]
  },
  {
   "cell_type": "code",
   "execution_count": 75,
   "id": "aeeb1eae-d264-46af-ad13-303e5fad70d9",
   "metadata": {
    "tags": []
   },
   "outputs": [],
   "source": [
    "car = SUV()"
   ]
  },
  {
   "cell_type": "code",
   "execution_count": 76,
   "id": "812155fc-57df-4dff-9bdf-31e653d714f0",
   "metadata": {
    "tags": []
   },
   "outputs": [
    {
     "name": "stdout",
     "output_type": "stream",
     "text": [
      "driving an SUV\n"
     ]
    }
   ],
   "source": [
    "car.drive()"
   ]
  },
  {
   "cell_type": "code",
   "execution_count": 71,
   "id": "57eceba9-5b6e-4d97-abba-13e625f70e4f",
   "metadata": {
    "tags": []
   },
   "outputs": [],
   "source": [
    "car = CarFactory.create_car('sedan')"
   ]
  },
  {
   "cell_type": "code",
   "execution_count": 73,
   "id": "5a6b9b18-7f17-43be-b701-e7588f1852c1",
   "metadata": {
    "tags": []
   },
   "outputs": [
    {
     "name": "stdout",
     "output_type": "stream",
     "text": [
      "driving an sedan\n"
     ]
    }
   ],
   "source": [
    "car.drive()"
   ]
  },
  {
   "cell_type": "markdown",
   "id": "9112862b-561c-4751-baef-a1763ef37bc6",
   "metadata": {},
   "source": [
    "## 工厂方法模式"
   ]
  },
  {
   "cell_type": "markdown",
   "id": "0c9e37bc-e89a-4f48-a4a7-771565decd2c",
   "metadata": {},
   "source": [
    "车是模板,工厂也是模板"
   ]
  },
  {
   "cell_type": "code",
   "execution_count": null,
   "id": "c4e43116-44c9-4a62-9df3-6f736ad0fdfd",
   "metadata": {},
   "outputs": [],
   "source": [
    "from abc import ABC, abstractmethod\n",
    "\n",
    "class Car(ABC):\n",
    "    @abstractmethod\n",
    "    def drive(self):\n",
    "        pass\n",
    "\n",
    "class Sedan(Car):\n",
    "    def drive(self):\n",
    "        print(\"Driving a sedan...\")\n",
    "\n",
    "class SUV(Car):\n",
    "    def drive(self):\n",
    "        print(\"Driving an SUV...\")\n",
    "\n",
    "class CarFactory(ABC):\n",
    "    @abstractmethod\n",
    "    def create_car(self):\n",
    "        pass\n",
    "\n",
    "    def test_drive(self):\n",
    "        car = self.create_car()\n",
    "        car.drive()\n",
    "\n",
    "class SedanFactory(CarFactory):\n",
    "    def create_car(self):\n",
    "        return Sedan()\n",
    "\n",
    "class SUVFactory(CarFactory):\n",
    "    def create_car(self):\n",
    "        return SUV()\n",
    "\n",
    "# 使用工厂方法模式\n",
    "factory = SedanFactory()\n",
    "factory.test_drive()  # 输出: Driving a sedan...\n",
    "\n",
    "factory = SUVFactory()\n",
    "factory.test_drive()  # 输出: Driving an SUV...\n"
   ]
  },
  {
   "cell_type": "code",
   "execution_count": null,
   "id": "5fd80e8c-5307-4b7d-8174-32c55118fda2",
   "metadata": {},
   "outputs": [],
   "source": []
  },
  {
   "cell_type": "code",
   "execution_count": null,
   "id": "659a54a5-ed56-49a4-a4cd-cace3af40678",
   "metadata": {},
   "outputs": [],
   "source": [
    "抽象工厂模式"
   ]
  },
  {
   "cell_type": "code",
   "execution_count": null,
   "id": "37253ead-498b-46ff-a384-853b142c3d05",
   "metadata": {},
   "outputs": [],
   "source": [
    "from abc import ABC, abstractmethod\n",
    "\n",
    "class Sedan(ABC):\n",
    "    @abstractmethod\n",
    "    def drive(self):\n",
    "        pass\n",
    "\n",
    "class SUV(ABC):\n",
    "    @abstractmethod\n",
    "    def drive(self):\n",
    "        pass\n",
    "\n",
    "class ElectricSedan(Sedan):\n",
    "    def drive(self):\n",
    "        print(\"Driving an electric sedan...\")\n",
    "\n",
    "class ElectricSUV(SUV):\n",
    "    def drive(self):\n",
    "        print(\"Driving an electric SUV...\")\n",
    "\n",
    "class GasSedan(Sedan):\n",
    "    def drive(self):\n",
    "        print(\"Driving a gas sedan...\")\n",
    "\n",
    "class GasSUV(SUV):\n",
    "    def drive(self):\n",
    "        print(\"Driving a gas SUV...\")\n",
    "\n",
    "class CarFactory(ABC):\n",
    "    @abstractmethod\n",
    "    def create_sedan(self):\n",
    "        pass\n",
    "\n",
    "    @abstractmethod\n",
    "    def create_suv(self):\n",
    "        pass\n",
    "\n",
    "class ElectricCarFactory(CarFactory):\n",
    "    def create_sedan(self):\n",
    "        return ElectricSedan()\n",
    "\n",
    "    def create_suv(self):\n",
    "        return ElectricSUV()\n",
    "\n",
    "class GasCarFactory(CarFactory):\n",
    "    def create_sedan(self):\n",
    "        return GasSedan()\n",
    "\n",
    "    def create_suv(self):\n",
    "        return GasSUV()\n",
    "\n",
    "# 使用抽象工厂模式\n",
    "factory = ElectricCarFactory()\n",
    "sedan = factory.create_sedan()\n",
    "sedan.drive()  # 输出: Driving an electric sedan...\n",
    "\n",
    "factory = GasCarFactory()\n",
    "suv = factory.create_suv()\n",
    "suv.drive()  # 输出: Driving a gas SUV...\n"
   ]
  },
  {
   "cell_type": "code",
   "execution_count": null,
   "id": "85507f33-3f7b-4972-9502-385a0334976d",
   "metadata": {},
   "outputs": [],
   "source": []
  },
  {
   "cell_type": "code",
   "execution_count": null,
   "id": "20f7a4aa-c0fa-4586-87a3-736e99230c11",
   "metadata": {},
   "outputs": [],
   "source": [
    "有点一对一 一对多 多对多的感觉"
   ]
  },
  {
   "cell_type": "markdown",
   "id": "c24d9eb0-a96a-485d-b648-a9ba1456bae4",
   "metadata": {},
   "source": [
    "# 生成器模式"
   ]
  },
  {
   "cell_type": "code",
   "execution_count": null,
   "id": "9f528ead-2e08-4031-b720-b93aa38af2aa",
   "metadata": {},
   "outputs": [],
   "source": [
    "目的是将构建过程与表示分开"
   ]
  },
  {
   "cell_type": "code",
   "execution_count": null,
   "id": "9fb7d04e-8f0f-4bae-9cb9-4a749d01d723",
   "metadata": {},
   "outputs": [],
   "source": [
    "# 产品\n",
    "class House:\n",
    "    def __init__(self):\n",
    "        self.foundation = None\n",
    "        self.structure = None\n",
    "        self.roof = None\n",
    "        self.interior = None\n",
    "\n",
    "    def __str__(self):\n",
    "        return f\"House with {self.foundation}, {self.structure}, {self.roof}, and {self.interior}\"\n",
    "\n",
    "# 生成器接口\n",
    "class HouseBuilder:\n",
    "    def build_foundation(self):\n",
    "        pass\n",
    "\n",
    "    def build_structure(self):\n",
    "        pass\n",
    "\n",
    "    def build_roof(self):\n",
    "        pass\n",
    "\n",
    "    def build_interior(self):\n",
    "        pass\n",
    "\n",
    "    def get_house(self):\n",
    "        pass\n",
    "\n",
    "# 具体生成器\n",
    "class ConcreteHouseBuilder(HouseBuilder):\n",
    "    def __init__(self):\n",
    "        self.house = House()\n",
    "\n",
    "    def build_foundation(self):\n",
    "        self.house.foundation = \"Concrete foundation\"\n",
    "\n",
    "    def build_structure(self):\n",
    "        self.house.structure = \"Wood and brick structure\"\n",
    "\n",
    "    def build_roof(self):\n",
    "        self.house.roof = \"Shingle roof\"\n",
    "\n",
    "    def build_interior(self):\n",
    "        self.house.interior = \"Modern interior\"\n",
    "\n",
    "    def get_house(self):\n",
    "        return self.house\n",
    "\n",
    "# 指挥者\n",
    "class Director:\n",
    "    def __init__(self, builder):\n",
    "        self.builder = builder\n",
    "\n",
    "    def construct_house(self):\n",
    "        self.builder.build_foundation()\n",
    "        self.builder.build_structure()\n",
    "        self.builder.build_roof()\n",
    "        self.builder.build_interior()\n",
    "        return self.builder.get_house()\n",
    "\n",
    "# 客户端代码\n",
    "builder = ConcreteHouseBuilder()\n",
    "director = Director(builder)\n",
    "house = director.construct_house()\n",
    "print(house)  # 输出: House with Concrete foundation, Wood and brick structure, Shingle roof, and Modern interior\n"
   ]
  },
  {
   "cell_type": "code",
   "execution_count": null,
   "id": "baeb8abf-5298-4005-9d26-a34b0fe3784e",
   "metadata": {},
   "outputs": [],
   "source": [
    "特别适合流程, 工作流"
   ]
  },
  {
   "cell_type": "code",
   "execution_count": null,
   "id": "de5d74e0-18cf-42a3-8631-c527ed3ff060",
   "metadata": {},
   "outputs": [],
   "source": []
  },
  {
   "cell_type": "code",
   "execution_count": null,
   "id": "4bb1cf7a-0940-4cc8-8ca7-2c294109bb36",
   "metadata": {},
   "outputs": [],
   "source": [
    "# 原型模式"
   ]
  },
  {
   "cell_type": "code",
   "execution_count": null,
   "id": "6c67dc82-c49f-4d98-ac94-54f48e1db5c8",
   "metadata": {},
   "outputs": [],
   "source": [
    "通过复制现有对象的实例来创建新的对象，而不是通过类实例化。原型模式使得创建对象更加灵活，可以快速生成对象并避免子类化。它通常通过实现一个原型接口或抽象类，包含一个用于克隆对象的方法。"
   ]
  },
  {
   "cell_type": "code",
   "execution_count": 12,
   "id": "3931b668-f737-469e-89a0-f08d5563c8bb",
   "metadata": {
    "tags": []
   },
   "outputs": [
    {
     "name": "stdout",
     "output_type": "stream",
     "text": [
      "Circle [ID=1, Radius=10]\n",
      "Circle [ID=2, Radius=20]\n",
      "Rectangle [ID=1, Width=30, Height=40]\n",
      "Rectangle [ID=2, Width=50, Height=60]\n"
     ]
    }
   ],
   "source": [
    "import copy\n",
    "\n",
    "# 原型接口\n",
    "class Shape:\n",
    "    def __init__(self, id):\n",
    "        self.id = id\n",
    "\n",
    "    def clone(self):\n",
    "        return copy.deepcopy(self)\n",
    "\n",
    "# 具体原型\n",
    "class Circle(Shape):\n",
    "    def __init__(self, id, radius):\n",
    "        super().__init__(id)\n",
    "        self.radius = radius\n",
    "\n",
    "    def __str__(self):\n",
    "        return f\"Circle [ID={self.id}, Radius={self.radius}]\"\n",
    "\n",
    "class Rectangle(Shape):\n",
    "    def __init__(self, id, width, height):\n",
    "        super().__init__(id)\n",
    "        self.width = width\n",
    "        self.height = height\n",
    "\n",
    "    def __str__(self):\n",
    "        return f\"Rectangle [ID={self.id}, Width={self.width}, Height={self.height}]\"\n",
    "\n",
    "# 客户端代码\n",
    "circle1 = Circle(\"1\", 10)\n",
    "print(circle1)  # 输出: Circle [ID=1, Radius=10]\n",
    "\n",
    "circle2 = circle1.clone()\n",
    "circle2.id = \"2\"\n",
    "circle2.radius = 20\n",
    "print(circle2)  # 输出: Circle [ID=2, Radius=20]\n",
    "\n",
    "rectangle1 = Rectangle(\"1\", 30, 40)\n",
    "print(rectangle1)  # 输出: Rectangle [ID=1, Width=30, Height=40]\n",
    "\n",
    "rectangle2 = rectangle1.clone()\n",
    "rectangle2.id = \"2\"\n",
    "rectangle2.width = 50\n",
    "rectangle2.height = 60\n",
    "print(rectangle2)  # 输出: Rectangle [ID=2, Width=50, Height=60]\n"
   ]
  },
  {
   "cell_type": "markdown",
   "id": "4eaaa540-105f-4fad-8951-43535383476d",
   "metadata": {},
   "source": [
    "对象的创建成本较高：\n",
    "当创建对象的成本较高时（例如涉及复杂的初始化过程），通过克隆现有对象可以提高性能。\n",
    "系统需要独立于其产品类的实例化：\n",
    "当系统需要独立于其产品类的实例化时，原型模式通过克隆对象可以实现这一点。\n",
    "对象的结构复杂，且希望避免重复创建复杂对象的结构：\n",
    "通过克隆现有对象，可以避免重复创建复杂对象的结构。\n",
    "需要生成对象的不同状态或组合：\n",
    "当需要生成不同状态或组合的对象时，原型模式可以快速生成这些对象，而不必通过构造函数重新创建。\n"
   ]
  },
  {
   "cell_type": "code",
   "execution_count": null,
   "id": "bb92c975-8f92-4a96-b350-3fa2142f8d59",
   "metadata": {},
   "outputs": [],
   "source": [
    "原型模式就是deepcopy"
   ]
  }
 ],
 "metadata": {
  "kernelspec": {
   "display_name": "Python 3 (ipykernel)",
   "language": "python",
   "name": "python3"
  },
  "language_info": {
   "codemirror_mode": {
    "name": "ipython",
    "version": 3
   },
   "file_extension": ".py",
   "mimetype": "text/x-python",
   "name": "python",
   "nbconvert_exporter": "python",
   "pygments_lexer": "ipython3",
   "version": "3.10.14"
  }
 },
 "nbformat": 4,
 "nbformat_minor": 5
}
