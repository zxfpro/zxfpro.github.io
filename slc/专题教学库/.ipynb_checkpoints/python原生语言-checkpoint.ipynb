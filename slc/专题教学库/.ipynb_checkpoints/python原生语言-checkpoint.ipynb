{
 "cells": [
  {
   "cell_type": "markdown",
   "id": "61c6d218-32e0-4c67-9c8d-61d47183aac9",
   "metadata": {},
   "source": [
    "# 工具函数库"
   ]
  },
  {
   "cell_type": "markdown",
   "id": "d43772c4-46f0-43e2-98f9-d30a1cba4296",
   "metadata": {},
   "source": [
    "## 包验证"
   ]
  },
  {
   "cell_type": "code",
   "execution_count": null,
   "id": "b7540841-2d9a-4b51-af54-899910fe805d",
   "metadata": {},
   "outputs": [],
   "source": [
    "import re\n",
    "import pkg_resources\n",
    "\n",
    "def check_package(hard_dependencies, check=True):\n",
    "    if check:\n",
    "        missing_dependencies = []\n",
    "        # 正则表达式匹配包名和版本号\n",
    "        pattern = r'([a-zA-Z0-9_]+)([<>=!]+)([\\d\\.]+)'\n",
    "\n",
    "        for dependency in hard_dependencies:\n",
    "            match = re.match(pattern, dependency)\n",
    "            if match:\n",
    "                module_name, version_operator, module_version = match.groups()\n",
    "                try:\n",
    "                    # 获取已安装包的版本\n",
    "                    installed_version = pkg_resources.get_distribution(module_name).version\n",
    "                    # 比较版本号\n",
    "                    if not pkg_resources.working_set.by_key[module_name].parsed_version in pkg_resources.Requirement.parse(f\"{module_name}{version_operator}{module_version}\"):\n",
    "                        missing_dependencies.append(f\"{module_name}: the package need version {version_operator}{module_version}, now version is {installed_version}\")\n",
    "                except pkg_resources.DistributionNotFound:\n",
    "                    missing_dependencies.append(f\"{module_name}: package not found\")\n",
    "                except pkg_resources.VersionConflict as e:\n",
    "                    missing_dependencies.append(f\"{module_name}: {e}\")\n",
    "\n",
    "        if missing_dependencies:\n",
    "            raise ImportError(\n",
    "                \"Unable to import required dependencies:\\n\" + \"\\n\".join(missing_dependencies)\n",
    "            )\n",
    "        del hard_dependencies, dependency, missing_dependencies\n",
    "\n",
    "def check_all(mobile):\n",
    "    for i in mobile.__all__:\n",
    "        try:\n",
    "            assert i not in __all__\n",
    "            __all__.append(i)\n",
    "        except:\n",
    "            raise Exception(f'{i}命名重复')"
   ]
  },
  {
   "cell_type": "markdown",
   "id": "8b54a84b-49c6-4c5e-9dd7-42aeb07048cf",
   "metadata": {},
   "source": [
    "## colab工具"
   ]
  },
  {
   "cell_type": "code",
   "execution_count": null,
   "id": "2d37a5b1-0365-44d1-943f-b8047262df30",
   "metadata": {},
   "outputs": [],
   "source": [
    "#@title 1. Keep this tab alive to prevent Colab from disconnecting you { display-mode: \"form\" }\n",
    "\n",
    "#@markdown Press play on the music player that will appear below:\n",
    "\n",
    "%%html\n",
    "\n",
    "<audio src=\"https://oobabooga.github.io/silence.m4a\" controls> 用来防止发生断裂"
   ]
  },
  {
   "cell_type": "code",
   "execution_count": null,
   "id": "8c53848c-efe2-4237-99f2-7322fc0a3cb3",
   "metadata": {},
   "outputs": [],
   "source": []
  },
  {
   "cell_type": "markdown",
   "id": "601939ea-c792-49c8-bcb5-889e8f69efcd",
   "metadata": {},
   "source": [
    "## python 模式\n"
   ]
  },
  {
   "cell_type": "code",
   "execution_count": 11,
   "id": "773f2895-13e5-4cee-819b-d995c8af2e89",
   "metadata": {
    "tags": []
   },
   "outputs": [
    {
     "name": "stdout",
     "output_type": "stream",
     "text": [
      "phyger\n",
      "16\n"
     ]
    }
   ],
   "source": [
    "\n",
    "# 限制添加的属性：\n",
    "\n",
    "# 如果你希望类或对象只有特定属性，可以使用 __slots__ 来限制属性的添加：\n",
    "\n",
    "class Student:\n",
    "    __slots__ = ('name', 'age', 'score')\n",
    "    def __init__(self, name, age):\n",
    "        self.name = name\n",
    "        self.age = age\n",
    "\n",
    "st = Student('phyger', 16)\n",
    "\n",
    "print(st.name)# 输出：'phyger'\n",
    "\n",
    "print(st.age)# 输出：16\n",
    "\n",
    "st.score = 100# 无法添加 'score' 属性\n",
    "\n",
    "  "
   ]
  },
  {
   "cell_type": "code",
   "execution_count": null,
   "id": "adec7139-a3c5-4b9d-805f-dc326c6852de",
   "metadata": {},
   "outputs": [],
   "source": [
    "import re\n",
    "class Infos:\n",
    "    def __init__(self, key,value):\n",
    "        self.key = key\n",
    "        self.value = value\n",
    "    \n",
    "    def transform_key(self,key):\n",
    "        # 使用正则表达式匹配并替换\n",
    "        new_key = re.sub(r'(\\w+)\\[\\d+\\]', r'\\1_list', key)\n",
    "        return new_key\n",
    "\n",
    "    def __eq__(self, other):\n",
    "        # 自定义相等\n",
    "        if isinstance(other, MyClass):\n",
    "            key = self.transform_key(self.key)\n",
    "            other_key = self.transform_key(other.key)\n",
    "\n",
    "            return (key == other_key) and (type(self.value)==type(other.value))\n",
    "        return False\n",
    "    \n",
    "    def __hash__(self):\n",
    "        # 修改 set 中的值 {}\n",
    "        return hash(self.transform_key(self.key) + str(type(self.value)))\n",
    "\n"
   ]
  },
  {
   "cell_type": "code",
   "execution_count": null,
   "id": "119b1aae-a72a-4398-b73a-a46ef80005a8",
   "metadata": {},
   "outputs": [],
   "source": []
  },
  {
   "cell_type": "code",
   "execution_count": null,
   "id": "70b00ef5-aee1-4c1f-87b3-0d6cda3f856a",
   "metadata": {},
   "outputs": [],
   "source": []
  },
  {
   "cell_type": "code",
   "execution_count": null,
   "id": "eac195f9-df32-459d-a2dc-6e67d761ab6f",
   "metadata": {},
   "outputs": [],
   "source": []
  },
  {
   "cell_type": "code",
   "execution_count": null,
   "id": "62d983d1-92c5-49bf-a21b-eca811b4186a",
   "metadata": {},
   "outputs": [],
   "source": [
    "## 类属性"
   ]
  },
  {
   "cell_type": "code",
   "execution_count": 87,
   "id": "1acf3435-4dfd-4cec-8b6b-bcf4732f86f8",
   "metadata": {
    "tags": []
   },
   "outputs": [],
   "source": [
    "class A():\n",
    "    cc = 123"
   ]
  },
  {
   "cell_type": "code",
   "execution_count": 88,
   "id": "bbde9c46-646f-4be4-8935-7211301d67c0",
   "metadata": {
    "tags": []
   },
   "outputs": [],
   "source": [
    "class B(A):\n",
    "    def trans(self,x):\n",
    "        A.cc = x"
   ]
  },
  {
   "cell_type": "code",
   "execution_count": 89,
   "id": "85d3b86d-199b-4a04-8ace-2e0cbc155386",
   "metadata": {
    "tags": []
   },
   "outputs": [],
   "source": [
    "d = B()"
   ]
  },
  {
   "cell_type": "code",
   "execution_count": 90,
   "id": "1583672f-6563-4e5d-8a30-a9e955044ee0",
   "metadata": {
    "tags": []
   },
   "outputs": [],
   "source": [
    "e = B()"
   ]
  },
  {
   "cell_type": "code",
   "execution_count": null,
   "id": "51c694f3-117f-4155-9d12-4f432010801f",
   "metadata": {},
   "outputs": [],
   "source": []
  },
  {
   "cell_type": "code",
   "execution_count": 91,
   "id": "12550ba7-1efb-440a-8a11-226d8de9b5dd",
   "metadata": {
    "tags": []
   },
   "outputs": [
    {
     "data": {
      "text/plain": [
       "123"
      ]
     },
     "execution_count": 91,
     "metadata": {},
     "output_type": "execute_result"
    }
   ],
   "source": [
    "d.cc"
   ]
  },
  {
   "cell_type": "code",
   "execution_count": 92,
   "id": "8709ce71-1406-4754-b7b3-679fe763a0c2",
   "metadata": {
    "tags": []
   },
   "outputs": [
    {
     "data": {
      "text/plain": [
       "123"
      ]
     },
     "execution_count": 92,
     "metadata": {},
     "output_type": "execute_result"
    }
   ],
   "source": [
    "e.cc"
   ]
  },
  {
   "cell_type": "code",
   "execution_count": 93,
   "id": "9f1ffbf4-e831-4465-abe1-43cb6c005288",
   "metadata": {
    "tags": []
   },
   "outputs": [],
   "source": [
    "d.trans(23455)"
   ]
  },
  {
   "cell_type": "code",
   "execution_count": 94,
   "id": "b734e326-8354-4981-b77c-a2f0ecbfa5b4",
   "metadata": {
    "tags": []
   },
   "outputs": [
    {
     "data": {
      "text/plain": [
       "23455"
      ]
     },
     "execution_count": 94,
     "metadata": {},
     "output_type": "execute_result"
    }
   ],
   "source": [
    "d.cc"
   ]
  },
  {
   "cell_type": "code",
   "execution_count": 95,
   "id": "e8e507d0-bb61-4ed9-a462-c887339aad4c",
   "metadata": {
    "tags": []
   },
   "outputs": [
    {
     "data": {
      "text/plain": [
       "23455"
      ]
     },
     "execution_count": 95,
     "metadata": {},
     "output_type": "execute_result"
    }
   ],
   "source": [
    "e.cc"
   ]
  },
  {
   "cell_type": "code",
   "execution_count": null,
   "id": "357c4732-9612-47fe-a97e-528a9bca4b26",
   "metadata": {},
   "outputs": [],
   "source": []
  },
  {
   "cell_type": "code",
   "execution_count": null,
   "id": "a2d43174-a2f4-4098-89db-c9072e10b891",
   "metadata": {},
   "outputs": [],
   "source": []
  },
  {
   "cell_type": "markdown",
   "id": "264673ab-9895-473f-a11d-c24541aa8df5",
   "metadata": {},
   "source": [
    "## 修改线程名"
   ]
  },
  {
   "cell_type": "code",
   "execution_count": null,
   "id": "80158b2f-6522-4554-8710-bf6f12c3ccc3",
   "metadata": {},
   "outputs": [],
   "source": [
    "def setproctit(name=\"my_process\"):\n",
    "    import setproctitle\n",
    "    # 设置进程名称为 my_process\n",
    "    setproctitle.setproctitle(name)\n",
    "    # 以下是你的其他代码"
   ]
  },
  {
   "cell_type": "markdown",
   "id": "d1e404fa-64bd-44b9-867d-f7f42c5186bb",
   "metadata": {},
   "source": [
    "## cp 但是不包含隐藏文件"
   ]
  },
  {
   "cell_type": "code",
   "execution_count": 31,
   "id": "75078db8-7330-48a1-a9bd-aebcef4b00e5",
   "metadata": {
    "tags": []
   },
   "outputs": [],
   "source": [
    "import shutil\n",
    "from pathlib import Path\n",
    "\n",
    "def ignore_hidden_files(directory, files):\n",
    "    return [f for f in files if f.startswith('.')]\n",
    "\n",
    "def copy_tree(src_dir, dest_dir):\n",
    "\n",
    "    src_dir_name = [i for i in src_dir.rsplit('/') if i !=''][-1]\n",
    "    dest_dir = os.path.join(dest_dir,src_dir_name)\n",
    "    print(dest_dir)\n",
    "    src_path = Path(src_dir)\n",
    "    dest_path = Path(dest_dir)\n",
    "    \n",
    "    # 确保目标目录存在\n",
    "    if not dest_path.exists():\n",
    "        dest_path.mkdir(parents=True, exist_ok=True)\n",
    "    \n",
    "    # 使用 copytree 复制目录，忽略隐藏文件\n",
    "    shutil.copytree(src_path, dest_path, ignore=ignore_hidden_files, dirs_exist_ok=True)\n",
    "    print(f'Successfully copied {src_dir} to {dest_dir}')\n",
    "\n",
    "\n",
    "#copy_tree('/Users/zhaoxuefeng/GitHub/zxftools/','.')"
   ]
  },
  {
   "cell_type": "code",
   "execution_count": null,
   "id": "351303d2-63eb-46e8-bea6-f31272bc54bf",
   "metadata": {},
   "outputs": [],
   "source": [
    "## 需要改进 可能覆盖文件\n",
    "import os\n",
    "\n",
    "def rename_images_to_numbers(folder_path):\n",
    "    \"\"\"\n",
    "    将指定文件夹中的所有图片文件按数字顺序重命名。\n",
    "\n",
    "    参数:\n",
    "    folder_path (str): 图片文件夹的路径\n",
    "    \"\"\"\n",
    "    # 获取文件夹中的所有文件路径\n",
    "    files = os.listdir(folder_path)\n",
    "    \n",
    "    # 过滤出图片文件（这里假设图片文件的扩展名为 jpg, jpeg, png, gif 等）\n",
    "    image_extensions = ['jpg', 'jpeg', 'png', 'gif', 'bmp', 'tiff']\n",
    "    image_files = [f for f in files if f.split('.')[-1].lower() in image_extensions]\n",
    "\n",
    "    # 排序图片文件\n",
    "    image_files.sort()\n",
    "\n",
    "    # 重命名文件\n",
    "    for i, filename in enumerate(image_files):\n",
    "        # 获取文件扩展名\n",
    "        ext = filename.split('.')[-1]\n",
    "        # 生成新的文件名\n",
    "        new_filename = f\"{i+1}.{ext}\"\n",
    "        # 获取文件的完整路径\n",
    "        src = os.path.join(folder_path, filename)\n",
    "        dst = os.path.join(folder_path, new_filename)\n",
    "        # 重命名文件\n",
    "        os.rename(src, dst)\n",
    "        print(f\"Renamed {src} to {dst}\")\n",
    "\n",
    "# # 示例用法\n",
    "# folder_path = 'work记录/'\n",
    "# rename_images_to_numbers(folder_path)\n"
   ]
  },
  {
   "cell_type": "code",
   "execution_count": null,
   "id": "748c5b60-38c3-4521-829c-df40516d853b",
   "metadata": {},
   "outputs": [],
   "source": []
  },
  {
   "cell_type": "code",
   "execution_count": null,
   "id": "d66a6449-6b7e-432a-bd80-70bca6dee97c",
   "metadata": {},
   "outputs": [],
   "source": [
    "## 反射 自动构建函数实例化\n"
   ]
  },
  {
   "cell_type": "code",
   "execution_count": null,
   "id": "5b205796-4003-4260-99c9-50b19146e35b",
   "metadata": {},
   "outputs": [],
   "source": [
    "\n",
    "让我们详细解释一下：\n",
    "1类和实例方法: 在一个类中，self 参数是实例自身的引用，用于在类的实例方法中访问实例的属性和其他方法。\n",
    "2 call 方法: 如果一个类定义了 call 方法，那么这个类的实例就可以像函数一样被调用。当你调用 self(a, b) 时，实际上是调用了这个实例的 call 方法，并将参数 a 和 b 传递给它。\n"
   ]
  },
  {
   "cell_type": "code",
   "execution_count": null,
   "id": "24da149a-129f-4597-b5a3-b6708b89d53d",
   "metadata": {},
   "outputs": [],
   "source": [
    "sudo apt-get install -y portaudio19-dev\n"
   ]
  },
  {
   "cell_type": "code",
   "execution_count": null,
   "id": "c5997a6c-a26f-4275-8cee-86f47a6858ec",
   "metadata": {},
   "outputs": [],
   "source": []
  },
  {
   "cell_type": "code",
   "execution_count": null,
   "id": "e64445d1-1402-4d67-85e1-0319e6df3200",
   "metadata": {},
   "outputs": [],
   "source": [
    "\n",
    "class MonitorError(Exception):\n",
    "    def __init__(self, message):\n",
    "        self.message = message\n",
    "        super().__init__(self.message)"
   ]
  },
  {
   "cell_type": "markdown",
   "id": "191da440-901c-4e27-8cdd-4e8b282a354f",
   "metadata": {},
   "source": [
    "# Demo"
   ]
  },
  {
   "cell_type": "markdown",
   "id": "ac1a859c-3ed4-4998-8006-e633934be9e0",
   "metadata": {
    "tags": []
   },
   "source": [
    "## 如何使用fire 工具"
   ]
  },
  {
   "cell_type": "code",
   "execution_count": null,
   "id": "29aff0ca-7370-47cd-b6bb-8302c64f5169",
   "metadata": {},
   "outputs": [],
   "source": [
    "import fire\n",
    "from .prompts import fix\n",
    "import os\n",
    "from zxftools.llms import get_llm\n",
    "\n",
    "def ai_fix(file_path=''):\n",
    "    assert os.path.isfile(file_path)\n",
    "    llm = get_llm(model=os.environ.get('aigen_llm') or 'gpt-3.5-turbo-0613')\n",
    "\n",
    "    with open(file_path,'r') as f:\n",
    "        code = f.read()\n",
    "    result = llm.complete(fix.format(code=code))\n",
    "\n",
    "    with open(file_path,'w') as f:\n",
    "        f.write(result.text)\n",
    "\n",
    "if __name__ == '__main__':\n",
    "    fire.Fire(ai_fix)\n",
    "\n"
   ]
  },
  {
   "cell_type": "markdown",
   "id": "8e9ffd3e-dd76-4323-9b01-38870729d54a",
   "metadata": {},
   "source": [
    "## 编写一个装饰器"
   ]
  },
  {
   "cell_type": "code",
   "execution_count": null,
   "id": "ee11f7ae-a3aa-421f-91ba-234ab8a01dfa",
   "metadata": {},
   "outputs": [],
   "source": [
    "import functools\n",
    "\n",
    "def decorator(a = None):\n",
    "    \"\"\"\n",
    "    一个装饰器的编写demo\n",
    "    \"\"\"\n",
    "    def outer_packing(func):\n",
    "        @functools.wraps(func)\n",
    "        def wrapper(*args, **kwargs):\n",
    "            result = func(*args, **kwargs)\n",
    "            print(a,'a')\n",
    "            print(func.__name__)  # 函数名\n",
    "            print(args)  # (1, 2)\n",
    "            print(kwargs)  # {'c': 3}\n",
    "            return result\n",
    "        return wrapper\n",
    "    return outer_packing\n",
    "\n",
    "hard_dependencies = ('time',)\n",
    "check_package(hard_dependencies=hard_dependencies,check=False)\n",
    "\n"
   ]
  },
  {
   "cell_type": "code",
   "execution_count": null,
   "id": "542fc651-c10b-48a7-9a3e-d6969365c1ab",
   "metadata": {},
   "outputs": [],
   "source": []
  },
  {
   "cell_type": "markdown",
   "id": "cb215952-dddc-4ca9-8e3d-b7f2452a3db1",
   "metadata": {},
   "source": [
    "## 如何将服务冒充为openai的服务"
   ]
  },
  {
   "cell_type": "code",
   "execution_count": null,
   "id": "f74934df-f247-4cca-9771-c244c1e21a08",
   "metadata": {},
   "outputs": [],
   "source": [
    "from openai import OpenAI\n",
    "import os\n",
    "client = OpenAI(base_url=\"https://api.bianxieai.com/v1\",\n",
    "                api_key=os.environ.get('bianxieai_API_KEY'))\n",
    "\n",
    "completion = client.chat.completions.create(\n",
    "  model=\"claude-3-5-sonnet-20240620\",\n",
    "  messages=[\n",
    "    {\"role\": \"system\", \"content\": \"You are a helpful assistant.\"},\n",
    "    {\"role\": \"user\", \"content\": \"Hello!\"}\n",
    "  ]\n",
    ")\n",
    "if __name__ == '__main__':\n",
    "    print(completion.choices[0].message)"
   ]
  },
  {
   "cell_type": "code",
   "execution_count": null,
   "id": "b62217e1-2170-4882-9e15-15853783ea9d",
   "metadata": {},
   "outputs": [],
   "source": []
  },
  {
   "cell_type": "code",
   "execution_count": null,
   "id": "9dc8879e-f932-418d-9aa1-a4b8f8249760",
   "metadata": {},
   "outputs": [],
   "source": [
    "import os\n",
    "from typing import Optional, List, Mapping, Any\n",
    "\n",
    "from llama_index.core.llms.callbacks import llm_completion_callback\n",
    "from llama_index.core.llms import (\n",
    "    CustomLLM,\n",
    "    CompletionResponse,\n",
    "    CompletionResponseGen,\n",
    "    LLMMetadata,\n",
    ")\n",
    "\n",
    "from openai import OpenAI\n",
    "\n",
    "class BianXieLLM(CustomLLM):\n",
    "    context_window: int = 3900\n",
    "    num_output: int = 256\n",
    "    model: str = ''\n",
    "    temperature: int = 0.2\n",
    "    top_p: float = 0.9\n",
    "    top_k: int = 50\n",
    "    penalty_score: float = 1.0\n",
    "    stop = []\n",
    "\n",
    "    def __init__(self, temperature=0.2, model='claude-3-5-sonnet-20240620',api_key=None):\n",
    "        super().__init__()\n",
    "        object.__setattr__(self, 'custom_openai_client',OpenAI(base_url=\"https://api.bianxieai.com/v1\",\n",
    "                api_key=api_key or os.environ.get('bianxieai_API_KEY'))\n",
    " )\n",
    "        self.model = model\n",
    "        self.temperature = temperature\n",
    "\n",
    "    @property\n",
    "    def metadata(self) -> LLMMetadata:\n",
    "        return LLMMetadata(\n",
    "            context_window=self.context_window,\n",
    "            num_output=self.num_output,\n",
    "            model_name=self.model,\n",
    "        )\n",
    "\n",
    "    @llm_completion_callback()\n",
    "    def complete(self, prompt: str, **kwargs: Any) -> CompletionResponse:\n",
    "        completion = self.custom_openai_client.chat.completions.create(\n",
    "              model=self.model,\n",
    "              temperature = self.temperature,\n",
    "              messages=[{\"role\": \"user\", \"content\": prompt}],\n",
    "              **kwargs\n",
    "            )\n",
    "        return CompletionResponse(text=completion.choices[0].message.content)\n",
    "\n",
    "    @llm_completion_callback()\n",
    "    def stream_complete(self, prompt: str, **kwargs: Any) -> CompletionResponseGen:\n",
    "        completion = self.custom_openai_client.chat.completions.create(\n",
    "              model=self.model,\n",
    "              temperature = self.temperature,\n",
    "              messages=[{\"role\": \"user\", \"content\": prompt}],\n",
    "              **kwargs\n",
    "            )\n",
    "        #return CompletionResponse(text=completion.choices[0].message.content)\n",
    "        response_generate = [1,2,3]\n",
    "        response = \"\"\n",
    "        for token in response_generate:\n",
    "            response += token\n",
    "            yield CompletionResponse(text=response, delta=token)\n"
   ]
  },
  {
   "cell_type": "code",
   "execution_count": null,
   "id": "65c9f620-91fc-4ab3-9a52-1f927ef2ecb4",
   "metadata": {},
   "outputs": [],
   "source": []
  },
  {
   "cell_type": "code",
   "execution_count": null,
   "id": "786e5ca1-7daf-4d4f-ac82-4a79f6b27d7e",
   "metadata": {},
   "outputs": [],
   "source": []
  },
  {
   "cell_type": "code",
   "execution_count": null,
   "id": "380bc13f-74a8-4598-9ae3-052b629d26d7",
   "metadata": {},
   "outputs": [],
   "source": [
    "    @staticmethod\n",
    "    def thread_list(f, params: types.GeneratorType or list, processes=4, chunksize: int = 1):\n",
    "        \"\"\"\n",
    "        1 必须到 if __name__ == '__main__': 下执行\n",
    "        \"\"\"\n",
    "        pool = Pool(processes)\n",
    "        if isinstance(params, types.GeneratorType):\n",
    "            results = pool.imap(f, params, chunksize=chunksize)\n",
    "        else:\n",
    "            results = pool.map(f, params, chunksize=chunksize)\n",
    "        pool.close()\n",
    "        return results"
   ]
  }
 ],
 "metadata": {
  "kernelspec": {
   "display_name": "Python 3 (ipykernel)",
   "language": "python",
   "name": "python3"
  },
  "language_info": {
   "codemirror_mode": {
    "name": "ipython",
    "version": 3
   },
   "file_extension": ".py",
   "mimetype": "text/x-python",
   "name": "python",
   "nbconvert_exporter": "python",
   "pygments_lexer": "ipython3",
   "version": "3.10.14"
  }
 },
 "nbformat": 4,
 "nbformat_minor": 5
}
