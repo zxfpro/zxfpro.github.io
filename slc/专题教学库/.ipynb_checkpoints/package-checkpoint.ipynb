{
 "cells": [
  {
   "cell_type": "code",
   "execution_count": null,
   "id": "ed6fd0b9-cc7d-4194-9a30-cc16724f3df3",
   "metadata": {},
   "outputs": [],
   "source": []
  },
  {
   "cell_type": "markdown",
   "id": "3ab1d32a-1795-4003-b084-eccb8ff128ef",
   "metadata": {},
   "source": [
    "在 `setup.py` 中指定依赖包的版本时，可以使用几种不同的格式来表达依赖关系的灵活性。这些格式不是完全“约等于”，但它们提供了一种方式来指定可以接受的版本范围。以下是一些常见的版本指定方法：\n",
    "\n",
    "1. **精确版本**：\n",
    "   指定必须精确匹配的版本号。\n",
    "\n",
    "   ```python\n",
    "   install_requires=['package==1.0.4'],\n",
    "   ```\n",
    "\n",
    "2. **大于等于某个版本**：\n",
    "   指定版本必须大于或等于给定的版本。\n",
    "\n",
    "   ```python\n",
    "   install_requires=['package>=1.0.4'],\n",
    "   ```\n",
    "\n",
    "3. **小于某个版本**：\n",
    "   指定版本必须小于给定的版本。\n",
    "\n",
    "   ```python\n",
    "   install_requires=['package<1.0.4'],\n",
    "   ```\n",
    "\n",
    "4. **范围指定**：\n",
    "   指定版本必须在这个范围内。\n",
    "\n",
    "   ```python\n",
    "   install_requires=['package>=1.0.4, <1.1.0'],\n",
    "   ```\n",
    "\n",
    "5. **兼容版本**：\n",
    "   指定版本必须与给定的主要版本兼容。\n",
    "\n",
    "   ```python\n",
    "   install_requires=['package~=1.0.4'],\n",
    "   ```\n",
    "\n",
    "   这里 `~=` 表示安装的版本应该向后兼容，通常是相同的主版本号和次版本号，但允许修复错误的补丁版本。\n",
    "\n",
    "6. **排除特定版本**：\n",
    "   指定一个版本范围，但排除特定的版本。\n",
    "\n",
    "   ```python\n",
    "   install_requires=['package!=1.0.4'],\n",
    "   ```\n",
    "\n",
    "7. **公差版本**：\n",
    "   指定版本必须在给定版本的基础上加上或减去一个公差。\n",
    "\n",
    "   ```python\n",
    "   install_requires=['package^1.0.4'],\n",
    "   ```\n",
    "\n",
    "   这里 `^=` 表示版本应该兼容主要版本，但可以是更高的次要版本或补丁版本，通常用于语义化版本控制。\n",
    "\n",
    "8. **版本排除范围**：\n",
    "   指定一个版本范围，但排除两端的特定版本。\n",
    "\n",
    "   ```python\n",
    "   install_requires=['package>=1.0.4, !=1.0.5, !=1.0.6, <2.0.0'],\n",
    "   ```\n",
    "\n",
    "这些版本指定方法允许你在打包时灵活地定义依赖项的版本要求。使用这些方法，你可以确保你的包安装时能够满足不同情况下的依赖关系，同时避免版本冲突。\n",
    "\n",
    "请注意，版本指定符的具体含义可能会根据使用的包管理工具（如pip）的版本和解析策略有所不同。因此，建议查阅相关工具的文档以了解具体的行为。"
   ]
  },
  {
   "cell_type": "markdown",
   "id": "69f0cc54-e4a7-48a5-8aeb-3ec06a3c1fb7",
   "metadata": {},
   "source": [
    "## 打包"
   ]
  },
  {
   "cell_type": "code",
   "execution_count": null,
   "id": "0aea7c89-420b-4f35-99a2-f5c761d27b6c",
   "metadata": {},
   "outputs": [],
   "source": [
    "\n",
    "\n",
    "# from Cython.Build import cythonize\n",
    "# 不要动不动就做成包 而是做成文件\n",
    "\n",
    "#pip install build twine\n",
    "#python setup.py sdist bdist_wheel #打包\n",
    "#twine upload --repository testpypi dist/*# 测试平台\n",
    "#twine upload dist/*\n",
    "\n",
    "#!python setup__.py build_ext --inplace  #编译Cython"
   ]
  }
 ],
 "metadata": {
  "kernelspec": {
   "display_name": "Python 3 (ipykernel)",
   "language": "python",
   "name": "python3"
  },
  "language_info": {
   "codemirror_mode": {
    "name": "ipython",
    "version": 3
   },
   "file_extension": ".py",
   "mimetype": "text/x-python",
   "name": "python",
   "nbconvert_exporter": "python",
   "pygments_lexer": "ipython3",
   "version": "3.10.14"
  }
 },
 "nbformat": 4,
 "nbformat_minor": 5
}
