{
 "cells": [
  {
   "cell_type": "markdown",
   "id": "c0bd3ff0-8a69-44dd-bfdd-45d1a9e403b3",
   "metadata": {},
   "source": [
    "## re"
   ]
  },
  {
   "cell_type": "code",
   "execution_count": null,
   "id": "c81dc17a-c00c-4c5c-923d-c26a8875b4e3",
   "metadata": {},
   "outputs": [],
   "source": [
    "import re\n",
    "\n",
    "code_match = re.search(r'### 3. Function\\n\\n```python(.*?)```',python_code,flags = re.DOTALL)"
   ]
  }
 ],
 "metadata": {
  "kernelspec": {
   "display_name": "Python 3 (ipykernel)",
   "language": "python",
   "name": "python3"
  },
  "language_info": {
   "codemirror_mode": {
    "name": "ipython",
    "version": 3
   },
   "file_extension": ".py",
   "mimetype": "text/x-python",
   "name": "python",
   "nbconvert_exporter": "python",
   "pygments_lexer": "ipython3",
   "version": "3.10.14"
  }
 },
 "nbformat": 4,
 "nbformat_minor": 5
}
