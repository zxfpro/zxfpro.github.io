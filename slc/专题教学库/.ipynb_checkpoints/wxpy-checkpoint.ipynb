{
 "cells": [
  {
   "cell_type": "code",
   "execution_count": null,
   "id": "3cb03d07-2fe6-4e00-aa63-54318097bad3",
   "metadata": {},
   "outputs": [],
   "source": [
    "Github地址：https://github.com/KwaiVGI/LivePortrait论文链接：https://arxiv.org/abs/2407.03168项目主页：https://liveportrait.github.io/HuggingFace在线体验：https://huggingface.co/spaces/KwaiVGI/LivePortrait"
   ]
  },
  {
   "cell_type": "code",
   "execution_count": null,
   "id": "d480f937-8ffa-4159-aec0-56ed2ecdc203",
   "metadata": {},
   "outputs": [],
   "source": [
    "\n",
    "domo AI\n",
    "codeformer\n",
    "meta 分割一切 Sam2代\n",
    "\n",
    "sora \n",
    "runway\n",
    "runway Gen 3 Alpha"
   ]
  },
  {
   "cell_type": "code",
   "execution_count": null,
   "id": "35b1942c-9ee4-45f9-8f09-b5ac93f160fe",
   "metadata": {},
   "outputs": [],
   "source": [
    "Taipy"
   ]
  },
  {
   "cell_type": "code",
   "execution_count": null,
   "id": "38116da3-385e-48ec-b510-bfaf8a5773a7",
   "metadata": {},
   "outputs": [],
   "source": []
  },
  {
   "cell_type": "code",
   "execution_count": 10,
   "id": "b198ede8-bcf4-448e-a934-3fa960d90475",
   "metadata": {
    "tags": []
   },
   "outputs": [
    {
     "data": {
      "text/plain": [
       "1"
      ]
     },
     "execution_count": 10,
     "metadata": {},
     "output_type": "execute_result"
    }
   ],
   "source": [
    "1"
   ]
  },
  {
   "cell_type": "code",
   "execution_count": null,
   "id": "a2ca9742-85f3-401b-9abe-d9243fafdcf6",
   "metadata": {},
   "outputs": [],
   "source": []
  },
  {
   "cell_type": "code",
   "execution_count": null,
   "id": "dd780453-3532-455d-90cf-c1900ed23c43",
   "metadata": {},
   "outputs": [],
   "source": []
  },
  {
   "cell_type": "code",
   "execution_count": 1,
   "id": "ccefb299-21a2-4e0c-b6ba-285553d985de",
   "metadata": {
    "tags": []
   },
   "outputs": [
    {
     "name": "stdout",
     "output_type": "stream",
     "text": [
      "[2024-08-05 22:58:51][Taipy][INFO] 'allow_unsafe_werkzeug' has been set to True\n",
      "[2024-08-05 22:58:51][Taipy][INFO] 'async_mode' parameter has been overridden to 'threading'. Using Flask built-in development server with debug mode\n",
      "[2024-08-05 22:58:51][Taipy][INFO]  * Server starting on http://127.0.0.1:8080\n",
      " * Serving Flask app 'Taipy'\n",
      " * Debug mode: on\n",
      "^C\n"
     ]
    }
   ],
   "source": [
    "!python step_02.py"
   ]
  },
  {
   "cell_type": "code",
   "execution_count": null,
   "id": "c34f5ef6-8603-4d3a-b3ec-4c36206ecb11",
   "metadata": {},
   "outputs": [],
   "source": []
  }
 ],
 "metadata": {
  "kernelspec": {
   "display_name": "Python 3 (ipykernel)",
   "language": "python",
   "name": "python3"
  },
  "language_info": {
   "codemirror_mode": {
    "name": "ipython",
    "version": 3
   },
   "file_extension": ".py",
   "mimetype": "text/x-python",
   "name": "python",
   "nbconvert_exporter": "python",
   "pygments_lexer": "ipython3",
   "version": "3.10.14"
  }
 },
 "nbformat": 4,
 "nbformat_minor": 5
}
