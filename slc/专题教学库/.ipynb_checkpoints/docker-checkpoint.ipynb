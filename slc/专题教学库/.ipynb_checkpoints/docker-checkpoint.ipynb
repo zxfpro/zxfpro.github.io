{
 "cells": [
  {
   "cell_type": "markdown",
   "id": "ffa7db30-75a6-44dd-bc60-8dc089126640",
   "metadata": {},
   "source": [
    "# Docker "
   ]
  },
  {
   "cell_type": "markdown",
   "id": "313bdb22-f49d-4977-8b2c-c1c63fbdf90e",
   "metadata": {},
   "source": [
    "## download_miniconda.sh"
   ]
  },
  {
   "cell_type": "code",
   "execution_count": 4,
   "id": "80dd2862-a9f6-438f-8565-7e56090b1895",
   "metadata": {
    "tags": []
   },
   "outputs": [],
   "source": [
    "# %load download_miniconda.sh\n",
    "#!/bin/bash\n",
    "# 检测系统架构\n",
    "ARCH=$(uname -m)\n",
    "MINICONDA_URL=\"\"\n",
    "if [ \"$ARCH\" = \"x86_64\" ]; then\n",
    "    # 如果是x86_64架构\n",
    "    MINICONDA_URL=\"https://repo.anaconda.com/miniconda/Miniconda3-latest-Linux-x86_64.sh\"\n",
    "elif [ \"$ARCH\" = \"aarch64\" ]; then\n",
    "    # 如果是ARM架构\n",
    "    MINICONDA_URL=\"https://repo.anaconda.com/miniconda/Miniconda3-latest-Linux-aarch64.sh\"\n",
    "else\n",
    "    echo \"不支持的架构: $ARCH\"\n",
    "    exit 1\n",
    "fi\n",
    "# 下载Miniconda安装脚本\n",
    "wget $MINICONDA_URL -O miniconda.sh\n",
    "\n"
   ]
  },
  {
   "cell_type": "markdown",
   "id": "78389cb0-9711-453b-9d79-15d03a4b5878",
   "metadata": {},
   "source": [
    "## Dockerfile"
   ]
  },
  {
   "cell_type": "code",
   "execution_count": 3,
   "id": "3765089b-b6dd-4f89-8b40-ea68c7ab5cdd",
   "metadata": {
    "tags": []
   },
   "outputs": [],
   "source": [
    "# %load Dockerfile2\n",
    "# 设置基础镜像\n",
    "#         本地源地址更换 替换或更新 pip310_install  和pip_install 文件\n",
    "#         机器变更 只需要调整  registerd.json host_config.json 的内容就行\n",
    "#         账号密码管理 暂无\n",
    "FROM ubuntu:latest\n",
    "COPY download_miniconda.sh /download_miniconda.sh\n",
    "SHELL [\"/bin/bash\", \"-c\"]\n",
    "RUN apt-get update \\\n",
    "     && DEBIAN_FRONTEND=noninteractive apt-get install libglib2.0-0 -y \\\n",
    "\t && apt-get install -y build-essential wget vim gcc rsync sshpass git libgl1-mesa-glx \n",
    "RUN echo \"下载并安装miniconda\" \\\n",
    "\t&& chmod +x /download_miniconda.sh \\\n",
    "\t&& bash /download_miniconda.sh \\\n",
    "    && bash miniconda.sh -b -p /opt/conda \\\n",
    "    && rm -rf /download_miniconda.sh \\\n",
    "    && rm -rf miniconda.sh \\\n",
    "\t&& ln -s /opt/conda/etc/profile.d/conda.sh /etc/profile.d/conda.sh\n",
    "RUN echo \"启动conda 修改配置\" \\\n",
    "\t&& echo \". /opt/conda/etc/profile.d/conda.sh\" >> ~/.bashrc && source /root/.bashrc \\\n",
    "\t&& source /opt/conda/bin/activate && echo \"source /opt/conda/bin/activate\" >> ~/.bashrc \\\n",
    "\t&& conda create -n py310 python=3.10 -y \\\n",
    "\t&& /opt/conda/envs/py310/bin/pip install ipykernel==6.28.0 paramiko==3.4.0 scp==0.14.5 dill==0.3.7 fire==0.5.0 pip2pi==0.8.2 \\\n",
    "    && /opt/conda/bin/pip install jupyterlab==3.6 ipykernel==6.28.0 paramiko==3.4.0 scp==0.14.5 dill==0.3.7 fire==0.5.0 pip2pi==0.8.2 \\\n",
    "    && /opt/conda/envs/py310/bin/python -m ipykernel install --user --name py310 --display-name py310\n",
    "RUN echo \"配置pip源\" \\\n",
    "\t&& /opt/conda/bin/pip config set global.index-url https://pypi.tuna.tsinghua.edu.cn/simple/ \\\n",
    "\t&& /opt/conda/bin/pip config set global.trusted-host pypi.tuna.tsinghua.edu.cn\n",
    "RUN echo \"配置jupyter\" \\\n",
    "    && /opt/conda/bin/jupyter lab --generate-config \\\n",
    "\t&& echo \"c.ServerApp.allow_origin = '*'\" >> /root/.jupyter/jupyter_lab_config.py \\\n",
    "\t&& echo \"c.ServerApp.ip = '0.0.0.0'\" >> /root/.jupyter/jupyter_lab_config.py \\\n",
    "\t&& echo '{\"IdentityProvider\": {\"hashed_password\": \"argon2:$argon2id$v=19$m=10240,t=10,p=8$I5lrjVBORbgeyAYwXUcAWA$QnIiUIm793Xf6a7Sg3lB23ropGJQ/dcqspxztKsRQqE\"}}' > /root/.jupyter/jupyter_server_config.json \\\n",
    "\t&& echo \"c.ServerApp.password = 'argon2:\\$argon2id\\$v=19\\$m=10240,t=10,p=8\\$I5lrjVBORbgeyAYwXUcAWA\\$QnIiUIm793Xf6a7Sg3lB23ropGJQ/dcqspxztKsRQqE'\">> /root/.jupyter/jupyter_lab_config.py \\\n",
    " \t&& echo \"c.ServerApp.notebook_dir = '/home'\" >> /root/.jupyter/jupyter_lab_config.py \\\n",
    "CMD [\"/opt/conda/bin/conda\", \"run\", \"jupyter\", \"lab\", \"--ip='0.0.0.0'\", \"--port=8888\", \"--no-browse\", \"--allow-root\"]\n",
    "RUN echo \"docker 构建完毕 运行命令: docker run --gpus all -p<port>:8888 -v<work_path>:/home --name <name> -d jupyter:latest\"\n",
    "\n"
   ]
  },
  {
   "cell_type": "code",
   "execution_count": 2,
   "id": "861a9af5-bfa1-476a-bc05-c2fd41af3f9b",
   "metadata": {
    "tags": []
   },
   "outputs": [],
   "source": [
    "# %load Dockerfile\n",
    "# 设置基础镜像\n",
    "# 几个变动  magic_lib.py 可以更新 随即替换文件即可\n",
    "#         本地源地址更换 替换或更新 pip310_install  和pip_install 文件\n",
    "#         更新jupyter 启动项  ~/.ipython/profile_default/startup/ 去对应文件夹下查看\n",
    "#         机器变更 只需要调整  registerd.json host_config.json 的内容就行\n",
    "#         账号密码管理 暂无\n",
    "FROM ubuntu:20.04\n",
    "COPY packages /packages\n",
    "COPY packages/pip_install.sh /usr/local/bin/pip_install\n",
    "COPY packages/pip310_install.sh /usr/local/bin/pip310_install\n",
    "COPY packages/pip310.sh /usr/local/bin/pip310\n",
    "COPY packages/pipbase.sh /usr/local/bin/pipbase\n",
    "COPY packages/magic_lib.py /root/.ipython/profile_default/startup/magic_lib.py\n",
    "SHELL [\"/bin/bash\", \"-c\"]\n",
    "RUN apt-get update \\\n",
    "    && DEBIAN_FRONTEND=noninteractive apt-get install libglib2.0-0 -y \\\n",
    "\t&& apt-get install -y wget vim gcc rsync sshpass git libgl1-mesa-glx \\\n",
    "    && chmod +x /usr/local/bin/* /packages/*\n",
    "RUN echo \"下载并安装miniconda\" \\\n",
    "\t&& bash /packages/download_miniconda.sh \\\n",
    "    && bash miniconda.sh -b -p /opt/conda \\\n",
    "    && rm -rf /packages/download_miniconda.sh \\\n",
    "    && rm -rf miniconda.sh \\\n",
    "\t&& ln -s /opt/conda/etc/profile.d/conda.sh /etc/profile.d/conda.sh\n",
    "RUN echo \"启动conda 修改配置\" \\\n",
    "\t&& echo \". /opt/conda/etc/profile.d/conda.sh\" >> ~/.bashrc && source /root/.bashrc \\\n",
    "\t&& source /opt/conda/bin/activate && echo \"source /opt/conda/bin/activate\" >> ~/.bashrc \\\n",
    "\t&& conda create -n py310 python=3.10 -y \\\n",
    "\t&& /opt/conda/envs/py310/bin/pip install ipykernel==6.28.0 paramiko==3.4.0 scp==0.14.5 dill==0.3.7 fire==0.5.0 pip2pi==0.8.2 \\\n",
    "    && /opt/conda/bin/pip install jupyterlab==3.6 ipykernel==6.28.0 paramiko==3.4.0 scp==0.14.5 dill==0.3.7 fire==0.5.0 pip2pi==0.8.2 \\\n",
    "    && /opt/conda/envs/py310/bin/python -m ipykernel install --user --name py310 --display-name py310\n",
    "RUN echo \"配置pip源\" \\\n",
    "\t&& /opt/conda/bin/pip config set global.index-url https://pypi.tuna.tsinghua.edu.cn/simple/ \\\n",
    "\t&& /opt/conda/bin/pip config set global.trusted-host pypi.tuna.tsinghua.edu.cn\n",
    "RUN echo \"配置jupyter\" \\\n",
    "    && /opt/conda/bin/jupyter lab --generate-config \\\n",
    "\t&& echo \"c.ServerApp.allow_origin = '*'\" >> /root/.jupyter/jupyter_lab_config.py \\\n",
    "\t&& echo \"c.ServerApp.ip = '0.0.0.0'\" >> /root/.jupyter/jupyter_lab_config.py \\\n",
    "\t&& echo '{\"IdentityProvider\": {\"hashed_password\": \"argon2:$argon2id$v=19$m=10240,t=10,p=8$I5lrjVBORbgeyAYwXUcAWA$QnIiUIm793Xf6a7Sg3lB23ropGJQ/dcqspxztKsRQqE\"}}' > /root/.jupyter/jupyter_server_config.json \\\n",
    "\t&& echo \"c.ServerApp.password = 'argon2:\\$argon2id\\$v=19\\$m=10240,t=10,p=8\\$I5lrjVBORbgeyAYwXUcAWA\\$QnIiUIm793Xf6a7Sg3lB23ropGJQ/dcqspxztKsRQqE'\">> /root/.jupyter/jupyter_lab_config.py \\\n",
    " \t&& echo \"c.ServerApp.notebook_dir = '/home'\" >> /root/.jupyter/jupyter_lab_config.py \\\n",
    " \t&& echo \"import os;os.chdir('/Users/zhaoxuefeng/GitHub/')\" >> /root/.ipython/profile_default/startup/init.py # 添加jupyter启动项\n",
    "CMD [\"/opt/conda/bin/conda\", \"run\", \"jupyter\", \"lab\", \"--ip='0.0.0.0'\", \"--port=8888\", \"--no-browse\", \"--allow-root\"]\n",
    "RUN echo \"docker 构建完毕 运行命令: docker run --gpus all -p<port>:8888 -v<work_path>:/home --name <name> -d jupyter:latest\"\n",
    "\n"
   ]
  },
  {
   "cell_type": "code",
   "execution_count": null,
   "id": "ccd29c8a-9f46-4836-87f7-7990455cecd4",
   "metadata": {},
   "outputs": [],
   "source": []
  }
 ],
 "metadata": {
  "kernelspec": {
   "display_name": "Python 3 (ipykernel)",
   "language": "python",
   "name": "python3"
  },
  "language_info": {
   "codemirror_mode": {
    "name": "ipython",
    "version": 3
   },
   "file_extension": ".py",
   "mimetype": "text/x-python",
   "name": "python",
   "nbconvert_exporter": "python",
   "pygments_lexer": "ipython3",
   "version": "3.10.14"
  }
 },
 "nbformat": 4,
 "nbformat_minor": 5
}
