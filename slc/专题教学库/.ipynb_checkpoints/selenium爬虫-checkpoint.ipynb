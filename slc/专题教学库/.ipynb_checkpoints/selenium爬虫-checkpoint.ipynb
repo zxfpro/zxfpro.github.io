{
 "cells": [
  {
   "cell_type": "markdown",
   "id": "3149db05-e39e-486e-b20f-fd5d5540997c",
   "metadata": {},
   "source": [
    "# 环境安装"
   ]
  },
  {
   "cell_type": "markdown",
   "id": "aa58c21d-a99d-4f9e-aed7-216200497710",
   "metadata": {},
   "source": [
    "## 安装selenium chrome 以及chromedriver"
   ]
  },
  {
   "cell_type": "markdown",
   "id": "af4c4f7b-18d5-4a47-9948-f90c6b52ccf1",
   "metadata": {},
   "source": [
    "%pip install selenium\n",
    "\n",
    "%pip install chromedriver-py"
   ]
  },
  {
   "cell_type": "code",
   "execution_count": null,
   "id": "48b156a8-eb5a-4710-bf4c-884246ce0de8",
   "metadata": {},
   "outputs": [],
   "source": [
    "https://pypi.org/project/chromedriver-py/#description"
   ]
  },
  {
   "cell_type": "code",
   "execution_count": null,
   "id": "47927cdb-97b4-474a-9fff-ce85918f5cd6",
   "metadata": {},
   "outputs": [],
   "source": [
    "chrome://settings/help  # 查看chrome版本"
   ]
  },
  {
   "cell_type": "code",
   "execution_count": null,
   "id": "4a3e58e8-e160-4b2e-9c42-60812affb670",
   "metadata": {},
   "outputs": [],
   "source": [
    "https://google-chrome.en.uptodown.com/mac/post-download/102925850  # 历史chrome 版本下载"
   ]
  },
  {
   "cell_type": "markdown",
   "id": "542654b6-cd7b-4a27-8d08-1d8a2cb14a49",
   "metadata": {},
   "source": [
    "## 测试环境"
   ]
  },
  {
   "cell_type": "code",
   "execution_count": null,
   "id": "536d2e7e-2fea-4409-835b-845c5651dd45",
   "metadata": {},
   "outputs": [],
   "source": [
    "from selenium import webdriver\n",
    "\n",
    "from chromedriver_py import binary_path\n",
    "\n",
    "binary_path\n",
    "\n",
    "svc = webdriver.ChromeService(executable_path=binary_path)\n",
    "driver = webdriver.Chrome(service=svc)\n",
    "driver.get(\"http://www.python.org\")\n",
    "\n",
    "assert \"Python\" in driver.title"
   ]
  },
  {
   "cell_type": "code",
   "execution_count": null,
   "id": "a05d94d5-80cb-4b41-a71e-627c954f34a7",
   "metadata": {},
   "outputs": [],
   "source": []
  },
  {
   "cell_type": "code",
   "execution_count": null,
   "id": "70e95e89-e549-4de0-af4f-f4218a5dc363",
   "metadata": {},
   "outputs": [],
   "source": []
  },
  {
   "cell_type": "code",
   "execution_count": null,
   "id": "e6c63489-9495-4c0b-bbc3-28dea1b71c37",
   "metadata": {},
   "outputs": [],
   "source": [
    "from selenium import webdriver\n",
    "\n",
    "from chromedriver_py import binary_path\n",
    "\n",
    "import time\n",
    "from selenium.webdriver.common.by import By\n",
    "\n",
    "svc = webdriver.ChromeService(executable_path=binary_path)\n",
    "driver = webdriver.Chrome(service=svc)\n",
    "\n",
    "driver.get(\"https://www.baidu.com/\")\n",
    "driver.find_element('xpath','//*[@id=\"kw\"]').send_keys('赵丽颖')\n",
    "\n",
    "driver.find_element(by='xpath',value='//*[@id=\"su\"]').click()\n",
    "# driver.find_element(by='xpath')\n",
    "# time.sleep(5)\n",
    "# driver.quit()"
   ]
  },
  {
   "cell_type": "code",
   "execution_count": null,
   "id": "36292289-4f60-4699-b1bf-f8f6b33e266e",
   "metadata": {},
   "outputs": [],
   "source": []
  },
  {
   "cell_type": "code",
   "execution_count": null,
   "id": "9b9b4b58-c9bf-4406-a67e-280d91ab0305",
   "metadata": {},
   "outputs": [],
   "source": [
    "driver.get(url=url)\n",
    "driver.quit()  关闭浏览器\n",
    "driver.close()  关闭当前页\n",
    "driver.page_source  html 结构源码\n",
    "driver.page_source.find('字符串')  html源码中搜索指定字符串 没有找到就返回-1 常用来判断是否为最后一页\n",
    "driver.maximize_window()   浏览器窗口最大化\n"
   ]
  },
  {
   "cell_type": "code",
   "execution_count": null,
   "id": "0cb6989d-56cf-4f4e-b392-57204622a3ea",
   "metadata": {},
   "outputs": [],
   "source": [
    "find 是字符串的方法 返回下标索引"
   ]
  },
  {
   "cell_type": "markdown",
   "id": "c6e38f27-faa0-450f-ba23-cde54d998b7e",
   "metadata": {},
   "source": [
    "### 无头"
   ]
  },
  {
   "cell_type": "code",
   "execution_count": null,
   "id": "20ce386a-49dc-4928-848a-67fca811586d",
   "metadata": {},
   "outputs": [],
   "source": [
    "from selenium import webdriver\n",
    "from chromedriver_py import binary_path\n",
    "\n",
    "import time\n",
    "from selenium.webdriver.common.by import By\n",
    "\n",
    "svc = webdriver.ChromeService(executable_path=binary_path)\n",
    "\n",
    "options = webdriver.ChromeOptions()\n",
    "# 添加无头模式\n",
    "options.add_argument('--headless')\n",
    "\n",
    "# driver = webdriver.Chrome(service=svc)\n",
    "driver = webdriver.Chrome(service=svc,options=options)"
   ]
  },
  {
   "cell_type": "markdown",
   "id": "ead9d7ae-c79f-43a3-aa6c-1744cb6887e8",
   "metadata": {},
   "source": [
    "## 鼠标移动"
   ]
  },
  {
   "cell_type": "code",
   "execution_count": null,
   "id": "4787655f-c872-49a8-93af-a9640cbeb020",
   "metadata": {},
   "outputs": [],
   "source": [
    "from selenium import webdriver\n",
    "from selenium.webdriver import ActionChains\n",
    "\n",
    "ActionChains(driver).move_to_element(element).perform()\n",
    "\n",
    "# driver.find_element"
   ]
  },
  {
   "cell_type": "markdown",
   "id": "236fd0de-9b2f-422f-8641-16c2c86c4b80",
   "metadata": {},
   "source": [
    "## 等待元素"
   ]
  },
  {
   "cell_type": "code",
   "execution_count": null,
   "id": "fb3a19b3-9d0d-4397-bb2a-280bbd935a20",
   "metadata": {},
   "outputs": [],
   "source": [
    "from selenium import webdriver\n",
    "from selenium.webdriver.common.by import By\n",
    "from selenium.webdriver.support.ui import WebDriverWait\n",
    "from selenium.webdriver.support import expected_conditions as EC"
   ]
  },
  {
   "cell_type": "code",
   "execution_count": null,
   "id": "f0d6714f-205c-40b8-8448-e746bdbb0015",
   "metadata": {},
   "outputs": [],
   "source": [
    "driver.get(api_url)\n",
    "print('start')\n",
    "\n",
    "element = WebDriverWait(driver, 10).until(\n",
    "    EC.presence_of_element_located((By.XPATH, '//*[@id=\"TEST_ENDPOINT_FORM\"]/div/div[1]/div/div/span/div'))  # 根据实际情况替换选择器\n",
    ")\n",
    "\n",
    "print('end')\n",
    "# do"
   ]
  },
  {
   "cell_type": "code",
   "execution_count": null,
   "id": "70b686e0-102a-48fc-a449-2fb6847cd60f",
   "metadata": {},
   "outputs": [],
   "source": []
  },
  {
   "cell_type": "markdown",
   "id": "39e992dd-a87e-42ad-9dbf-d22caccc453b",
   "metadata": {},
   "source": [
    "## 使用用户的存储数据"
   ]
  },
  {
   "cell_type": "code",
   "execution_count": 1,
   "id": "378bf4ac-5c43-4d9a-a27c-142115c36b63",
   "metadata": {
    "tags": []
   },
   "outputs": [],
   "source": [
    "from selenium import webdriver\n",
    "\n",
    "from chromedriver_py import binary_path\n",
    "from selenium.webdriver.common.by import By\n",
    "import time\n",
    "\n",
    "import os"
   ]
  },
  {
   "cell_type": "code",
   "execution_count": 2,
   "id": "4a9504c1-e85c-41d3-8361-f0754d64a960",
   "metadata": {
    "tags": []
   },
   "outputs": [],
   "source": [
    "options = webdriver.ChromeOptions()"
   ]
  },
  {
   "cell_type": "code",
   "execution_count": 3,
   "id": "ea476c9c-1d21-47ca-8d90-c990b335a2cb",
   "metadata": {
    "tags": []
   },
   "outputs": [],
   "source": [
    "options.add_argument(\"user-data-dir=/Users/zhaoxuefeng/Library/Application Support/Google/Chrome\")  # 替换为你的 Chrome 用户数据目录路径"
   ]
  },
  {
   "cell_type": "code",
   "execution_count": 4,
   "id": "2fef08c9-614f-476a-b311-e2ae9f1dbc4e",
   "metadata": {
    "tags": []
   },
   "outputs": [],
   "source": [
    "svc = webdriver.ChromeService(executable_path=binary_path)"
   ]
  },
  {
   "cell_type": "code",
   "execution_count": 5,
   "id": "d64f72ab-5baa-477c-85b0-c59388e8cd92",
   "metadata": {
    "tags": []
   },
   "outputs": [],
   "source": [
    "driver = webdriver.Chrome(service=svc,options=options)"
   ]
  },
  {
   "cell_type": "code",
   "execution_count": 6,
   "id": "cd638ca5-6bec-4657-ae04-303cb84a5f1b",
   "metadata": {
    "tags": []
   },
   "outputs": [],
   "source": [
    "driver.get(\"https://kimi.moonshot.cn/chat/cq6ecd2lnl99t48jr2vg\")"
   ]
  },
  {
   "cell_type": "code",
   "execution_count": null,
   "id": "899286ff-c548-47e2-9c16-af64d1258026",
   "metadata": {},
   "outputs": [],
   "source": []
  },
  {
   "cell_type": "code",
   "execution_count": null,
   "id": "68a55e73-21e5-4006-a1cf-e32097fb7790",
   "metadata": {},
   "outputs": [],
   "source": []
  },
  {
   "cell_type": "markdown",
   "id": "031c7208-c651-4b45-8879-45effe438b48",
   "metadata": {},
   "source": [
    "## 常规爬虫分析"
   ]
  },
  {
   "cell_type": "code",
   "execution_count": null,
   "id": "ce0c54b8-1801-4903-8921-b297fe57d76e",
   "metadata": {},
   "outputs": [],
   "source": [
    "\"\"\" 向京东官网(https://www.jd.com/)发请求,获取响应内容\"\"\" \n",
    "import requests  \n",
    "resp = requests.get(url='https://www.jd.com/') \n",
    "# 1.text属性: 获取响应内容-字符串\n",
    "html = resp.text \n",
    "print(html)"
   ]
  },
  {
   "cell_type": "code",
   "execution_count": null,
   "id": "c9dbe9f6-0245-4f99-8c83-abbba983eeac",
   "metadata": {},
   "outputs": [],
   "source": []
  },
  {
   "cell_type": "code",
   "execution_count": null,
   "id": "74202556-15b8-4e67-be29-e88f1cb8f7c0",
   "metadata": {},
   "outputs": [],
   "source": []
  },
  {
   "cell_type": "code",
   "execution_count": null,
   "id": "baa5d2be-b214-433e-a422-1262eea1191e",
   "metadata": {},
   "outputs": [],
   "source": []
  }
 ],
 "metadata": {
  "kernelspec": {
   "display_name": "Python 3 (ipykernel)",
   "language": "python",
   "name": "python3"
  },
  "language_info": {
   "codemirror_mode": {
    "name": "ipython",
    "version": 3
   },
   "file_extension": ".py",
   "mimetype": "text/x-python",
   "name": "python",
   "nbconvert_exporter": "python",
   "pygments_lexer": "ipython3",
   "version": "3.10.14"
  }
 },
 "nbformat": 4,
 "nbformat_minor": 5
}
