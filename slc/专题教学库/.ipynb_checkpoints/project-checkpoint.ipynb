{
 "cells": [
  {
   "cell_type": "markdown",
   "id": "4776a313-a713-40cb-b0e9-17627566fff0",
   "metadata": {},
   "source": [
    "# project"
   ]
  },
  {
   "cell_type": "code",
   "execution_count": null,
   "id": "6500d62a-bace-47df-b415-8658f95b89f1",
   "metadata": {},
   "outputs": [],
   "source": [
    "# 细节 1 版本更新\n",
    "# 细节 2 如何快速迭代\n",
    "# 细节 3 历史版本管理问题\n",
    "# 细节 4 测试版本和生产版本的存续替换问题\n",
    "# 细节 5 代码编写 环境的回滚和维护问题\n"
   ]
  },
  {
   "cell_type": "code",
   "execution_count": 3,
   "id": "29fa916d-4640-4d3d-9351-c501b6f9047b",
   "metadata": {},
   "outputs": [
    {
     "data": {
      "text/plain": [
       "5"
      ]
     },
     "execution_count": 3,
     "metadata": {},
     "output_type": "execute_result"
    }
   ],
   "source": [
    "1+ 12"
   ]
  },
  {
   "cell_type": "code",
   "execution_count": 1,
   "id": "0135bbf7-cfaa-4c14-a384-75d78e622594",
   "metadata": {
    "tags": []
   },
   "outputs": [],
   "source": [
    "from Jarvis_dev.projects import start_project,delete_project"
   ]
  },
  {
   "cell_type": "markdown",
   "id": "c7049d64-7c98-41b6-9434-de4919a93248",
   "metadata": {},
   "source": [
    "## 初始化一个项目"
   ]
  },
  {
   "cell_type": "code",
   "execution_count": 2,
   "id": "dd94ab2c-beef-4d42-880d-a435061b297c",
   "metadata": {
    "tags": []
   },
   "outputs": [
    {
     "name": "stdout",
     "output_type": "stream",
     "text": [
      "Repository created successfully!\n",
      "Repository URL: https://gitee.com/zhaoxuefeng199508/kkk1.git\n"
     ]
    },
    {
     "name": "stderr",
     "output_type": "stream",
     "text": [
      "Cloning into '/Users/zhaoxuefeng/GitHub/kkk1'...\n"
     ]
    },
    {
     "name": "stdout",
     "output_type": "stream",
     "text": [
      "create_repo success\n",
      "kkk1\n",
      "None\n",
      "infused_code is None pass this section\n",
      "infuse_code success\n",
      "Collecting package metadata (current_repodata.json): ...working... done\n",
      "Solving environment: ...working... done\n",
      "\n",
      "## Package Plan ##\n",
      "\n",
      "  environment location: /Users/zhaoxuefeng/opt/miniconda3/envs/kkk1\n",
      "\n",
      "  added / updated specs:\n",
      "    - python=3.10\n",
      "\n",
      "\n",
      "The following NEW packages will be INSTALLED:\n",
      "\n",
      "  bzip2              pkgs/main/osx-64::bzip2-1.0.8-h6c40b1e_6\n",
      "  ca-certificates    pkgs/main/osx-64::ca-certificates-2024.3.11-hecd8cb5_0\n",
      "  libffi             pkgs/main/osx-64::libffi-3.4.4-hecd8cb5_1\n",
      "  ncurses            pkgs/main/osx-64::ncurses-6.4-hcec6c5f_0\n",
      "  openssl            pkgs/main/osx-64::openssl-3.0.14-h46256e1_0\n",
      "  pip                pkgs/main/osx-64::pip-24.0-py310hecd8cb5_0\n",
      "  python             pkgs/main/osx-64::python-3.10.14-h5ee71fb_1\n",
      "  readline           pkgs/main/osx-64::readline-8.2-hca72f7f_0\n",
      "  setuptools         pkgs/main/osx-64::setuptools-69.5.1-py310hecd8cb5_0\n",
      "  sqlite             pkgs/main/osx-64::sqlite-3.45.3-h6c40b1e_0\n",
      "  tk                 pkgs/main/osx-64::tk-8.6.14-h4d00af3_0\n",
      "  tzdata             pkgs/main/noarch::tzdata-2024a-h04d1e81_0\n",
      "  wheel              pkgs/main/osx-64::wheel-0.43.0-py310hecd8cb5_0\n",
      "  xz                 pkgs/main/osx-64::xz-5.4.6-h6c40b1e_1\n",
      "  zlib               pkgs/main/osx-64::zlib-1.2.13-h4b97444_1\n",
      "\n",
      "\n",
      "Preparing transaction: ...working... done\n",
      "Verifying transaction: ...working... done\n",
      "Executing transaction: ...working... done\n",
      "#\n",
      "# To activate this environment, use\n",
      "#\n",
      "#     $ conda activate kkk1\n",
      "#\n",
      "# To deactivate an active environment, use\n",
      "#\n",
      "#     $ conda deactivate\n",
      "\n"
     ]
    },
    {
     "name": "stderr",
     "output_type": "stream",
     "text": [
      "\n",
      "\n",
      "==> WARNING: A newer version of conda exists. <==\n",
      "  current version: 4.11.0\n",
      "  latest version: 24.5.0\n",
      "\n",
      "Please update conda by running\n",
      "\n",
      "    $ conda update -n base -c defaults conda\n",
      "\n",
      "\n"
     ]
    },
    {
     "name": "stdout",
     "output_type": "stream",
     "text": [
      "config_env success\n"
     ]
    }
   ],
   "source": [
    "start_project(path = 'kkk1',infused_code=None)"
   ]
  },
  {
   "cell_type": "markdown",
   "id": "b8d94761-6c91-4119-9db5-b0cb47684eed",
   "metadata": {},
   "source": [
    "## 在GitHub Desktop 中 Add 该项目"
   ]
  },
  {
   "cell_type": "markdown",
   "id": "5c446488-0eff-49c1-a323-4c3d28d635fc",
   "metadata": {},
   "source": [
    "![截屏2024-06-24 09.56.05.png](imgs/add_repo.png)"
   ]
  },
  {
   "cell_type": "markdown",
   "id": "571beb2b-cf4a-4847-91b7-358ee3d20772",
   "metadata": {},
   "source": [
    "## 打开编辑器"
   ]
  },
  {
   "cell_type": "code",
   "execution_count": null,
   "id": "c3ee9903-63f3-4e65-bfee-59b206e679a7",
   "metadata": {},
   "outputs": [],
   "source": [
    "编辑,配置相关参数和内容"
   ]
  },
  {
   "cell_type": "markdown",
   "id": "27582917-71e8-40bf-b7a0-a85ea78b1dff",
   "metadata": {},
   "source": [
    "## 配置aibox 环境 \n"
   ]
  },
  {
   "cell_type": "markdown",
   "id": "b36a5b79-a4f0-4f0c-b64b-59b55298695e",
   "metadata": {},
   "source": [
    "使用\n",
    "```bash\n",
    "docker-compose up aibox -d\n",
    "```"
   ]
  },
  {
   "cell_type": "code",
   "execution_count": 4,
   "id": "154be00d-0a42-4698-b3bb-855c0f91d1ab",
   "metadata": {
    "tags": []
   },
   "outputs": [],
   "source": [
    "## TODO 自动化配置环境 编写代码\n",
    "\n",
    "#或者人工配置,编写代码"
   ]
  },
  {
   "cell_type": "markdown",
   "id": "b9f83d78-2409-49fe-9eba-09a3e4066104",
   "metadata": {},
   "source": [
    "## 环境导出"
   ]
  },
  {
   "cell_type": "markdown",
   "id": "74ca9641-08f1-4e01-ba49-d607fd080ecc",
   "metadata": {},
   "source": [
    "\n",
    "```\n",
    "导出到指定位置\n",
    "/home/zxf/miniconda3/bin/pip-chill > requirements.txt\n",
    "```"
   ]
  },
  {
   "cell_type": "markdown",
   "id": "88b90144-2eff-458d-89b9-cdf1b4e23419",
   "metadata": {},
   "source": [
    "## 上测试/生产环境"
   ]
  },
  {
   "cell_type": "markdown",
   "id": "ae340f51-7ef4-4717-90b1-60e2cca4b348",
   "metadata": {},
   "source": [
    "1 前提是需要requirements.txt 导出   \n",
    "2 安装code    \n",
    "3 必须在.server中以fire 编写启动命令"
   ]
  },
  {
   "cell_type": "markdown",
   "id": "dad7dbe9-340f-43a5-968a-235ba97a94b6",
   "metadata": {},
   "source": [
    "## docker 打包并保证分发正常 \n",
    "TODO 参数配置"
   ]
  },
  {
   "cell_type": "code",
   "execution_count": null,
   "id": "7f4c41ee-65ee-4795-9f0b-d0a9ecbac0c8",
   "metadata": {},
   "outputs": [],
   "source": []
  },
  {
   "cell_type": "markdown",
   "id": "047c0c57-9ef6-4ebc-a921-0ccabe0b7202",
   "metadata": {},
   "source": [
    "## 删除项目"
   ]
  },
  {
   "cell_type": "markdown",
   "id": "2b54aaae-b01b-4ac7-8209-7a27bdf137c0",
   "metadata": {
    "tags": []
   },
   "source": [
    "delete_project('kkk1')"
   ]
  },
  {
   "cell_type": "code",
   "execution_count": null,
   "id": "3a1d9eff-fe31-4620-a82f-71f7e885ce11",
   "metadata": {},
   "outputs": [],
   "source": []
  },
  {
   "cell_type": "code",
   "execution_count": null,
   "id": "dc83c4c7-2498-4d52-a5bc-c7c59f83faba",
   "metadata": {},
   "outputs": [],
   "source": []
  },
  {
   "cell_type": "code",
   "execution_count": null,
   "id": "c3121972-abc2-46f6-9497-b46ae1e62005",
   "metadata": {},
   "outputs": [],
   "source": []
  },
  {
   "cell_type": "code",
   "execution_count": null,
   "id": "fd9e314b-57c0-42c8-b2bf-15cc63287889",
   "metadata": {},
   "outputs": [],
   "source": []
  }
 ],
 "metadata": {
  "kernelspec": {
   "display_name": "Python 3 (ipykernel)",
   "language": "python",
   "name": "python3"
  },
  "language_info": {
   "codemirror_mode": {
    "name": "ipython",
    "version": 3
   },
   "file_extension": ".py",
   "mimetype": "text/x-python",
   "name": "python",
   "nbconvert_exporter": "python",
   "pygments_lexer": "ipython3",
   "version": "3.10.14"
  }
 },
 "nbformat": 4,
 "nbformat_minor": 5
}
