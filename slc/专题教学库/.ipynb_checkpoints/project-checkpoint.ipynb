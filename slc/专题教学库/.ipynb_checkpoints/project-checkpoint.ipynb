{
 "cells": [
  {
   "cell_type": "markdown",
   "id": "4776a313-a713-40cb-b0e9-17627566fff0",
   "metadata": {},
   "source": [
    "# project"
   ]
  },
  {
   "cell_type": "markdown",
   "id": "c7049d64-7c98-41b6-9434-de4919a93248",
   "metadata": {},
   "source": [
    "## 初始化一个项目"
   ]
  },
  {
   "cell_type": "code",
   "execution_count": 1,
   "id": "06a1e174-5c20-4e4f-9d7c-647ee11e4bbe",
   "metadata": {},
   "outputs": [],
   "source": [
    "from Jarvis_dev.projects import start_project,delete_project"
   ]
  },
  {
   "cell_type": "code",
   "execution_count": 4,
   "id": "2b94b76b-9381-4041-9f7e-d2131d540dc4",
   "metadata": {
    "tags": []
   },
   "outputs": [
    {
     "name": "stdout",
     "output_type": "stream",
     "text": [
      "Repository created successfully!\n",
      "Repository URL: https://gitee.com/zhaoxuefeng199508/open_voice.git\n"
     ]
    },
    {
     "name": "stderr",
     "output_type": "stream",
     "text": [
      "Cloning into '/Users/zhaoxuefeng/GitHub/open_voice'...\n"
     ]
    },
    {
     "name": "stdout",
     "output_type": "stream",
     "text": [
      "create_repo success\n"
     ]
    },
    {
     "name": "stderr",
     "output_type": "stream",
     "text": [
      "Cloning into '/Users/zhaoxuefeng/GitHub/open_voice/open_voice/OpenVoice'...\n"
     ]
    },
    {
     "name": "stdout",
     "output_type": "stream",
     "text": [
      "infuse_code success\n",
      "Collecting package metadata (current_repodata.json): ...working... done\n",
      "Solving environment: ...working... done\n",
      "\n",
      "## Package Plan ##\n",
      "\n",
      "  environment location: /Users/zhaoxuefeng/opt/miniconda3/envs/open_voice\n",
      "\n",
      "  added / updated specs:\n",
      "    - python=3.10\n",
      "\n",
      "\n",
      "The following NEW packages will be INSTALLED:\n",
      "\n",
      "  bzip2              pkgs/main/osx-64::bzip2-1.0.8-h6c40b1e_6\n",
      "  ca-certificates    pkgs/main/osx-64::ca-certificates-2024.3.11-hecd8cb5_0\n",
      "  libffi             pkgs/main/osx-64::libffi-3.4.4-hecd8cb5_1\n",
      "  ncurses            pkgs/main/osx-64::ncurses-6.4-hcec6c5f_0\n",
      "  openssl            pkgs/main/osx-64::openssl-3.0.14-h46256e1_0\n",
      "  pip                pkgs/main/osx-64::pip-24.0-py310hecd8cb5_0\n",
      "  python             pkgs/main/osx-64::python-3.10.14-h5ee71fb_1\n",
      "  readline           pkgs/main/osx-64::readline-8.2-hca72f7f_0\n",
      "  setuptools         pkgs/main/osx-64::setuptools-69.5.1-py310hecd8cb5_0\n",
      "  sqlite             pkgs/main/osx-64::sqlite-3.45.3-h6c40b1e_0\n",
      "  tk                 pkgs/main/osx-64::tk-8.6.14-h4d00af3_0\n",
      "  tzdata             pkgs/main/noarch::tzdata-2024a-h04d1e81_0\n",
      "  wheel              pkgs/main/osx-64::wheel-0.43.0-py310hecd8cb5_0\n",
      "  xz                 pkgs/main/osx-64::xz-5.4.6-h6c40b1e_1\n",
      "  zlib               pkgs/main/osx-64::zlib-1.2.13-h4b97444_1\n",
      "\n",
      "\n",
      "Preparing transaction: ...working... done\n",
      "Verifying transaction: ...working... done\n",
      "Executing transaction: ...working... done\n",
      "#\n",
      "# To activate this environment, use\n",
      "#\n",
      "#     $ conda activate open_voice\n",
      "#\n",
      "# To deactivate an active environment, use\n",
      "#\n",
      "#     $ conda deactivate\n",
      "\n"
     ]
    },
    {
     "name": "stderr",
     "output_type": "stream",
     "text": [
      "\n",
      "\n",
      "==> WARNING: A newer version of conda exists. <==\n",
      "  current version: 4.11.0\n",
      "  latest version: 24.5.0\n",
      "\n",
      "Please update conda by running\n",
      "\n",
      "    $ conda update -n base -c defaults conda\n",
      "\n",
      "\n"
     ]
    },
    {
     "name": "stdout",
     "output_type": "stream",
     "text": [
      "Directory /Users/zhaoxuefeng/GitHub/open_voice/open_voice already exists.\n",
      "config_env success\n"
     ]
    },
    {
     "name": "stderr",
     "output_type": "stream",
     "text": [
      " Network open_voice_default  Creating\n",
      " Network open_voice_default  Created\n",
      " Container open_voice_aibox  Creating\n",
      " Container open_voice_aibox  Created\n",
      " Container open_voice_aibox  Starting\n",
      " Container open_voice_aibox  Started\n"
     ]
    }
   ],
   "source": [
    "start_project('open_voice','https://github.com/myshell-ai/OpenVoice.git')"
   ]
  },
  {
   "cell_type": "markdown",
   "id": "97a366aa-bfe7-4fc5-904b-1142c8638f70",
   "metadata": {},
   "source": [
    "创建完毕直接登录 8610 进行编辑"
   ]
  },
  {
   "cell_type": "code",
   "execution_count": null,
   "id": "1fb4176c-4f0c-4d98-972e-7c63e39b591b",
   "metadata": {},
   "outputs": [],
   "source": []
  },
  {
   "cell_type": "markdown",
   "id": "4ef68b8b-5f11-4d5b-a000-29e43e3cbade",
   "metadata": {},
   "source": [
    "## 人工参与(可选)"
   ]
  },
  {
   "cell_type": "markdown",
   "id": "58f517d3-bd5f-488e-a3d3-096d8640565f",
   "metadata": {},
   "source": [
    "在GitHub Desktop 中 Add 该项目"
   ]
  },
  {
   "cell_type": "markdown",
   "id": "124b62bf-24fa-42f2-b7bc-174755984bd2",
   "metadata": {},
   "source": [
    "![截屏2024-06-24 09.56.05.png](imgs/add_repo.png)"
   ]
  },
  {
   "cell_type": "markdown",
   "id": "6750390a-e762-431e-ae11-84a0c4d272d1",
   "metadata": {},
   "source": [
    "## 打开编辑器"
   ]
  },
  {
   "cell_type": "code",
   "execution_count": null,
   "id": "cc2a2936-f8e7-4463-adaa-41c055b1ba0b",
   "metadata": {},
   "outputs": [],
   "source": [
    "编辑,配置相关参数和内容"
   ]
  },
  {
   "cell_type": "code",
   "execution_count": 4,
   "id": "94628669-1bf7-4f2e-8b1d-363492733809",
   "metadata": {
    "tags": []
   },
   "outputs": [],
   "source": [
    "## TODO 自动化配置环境 编写代码\n",
    "\n",
    "#或者人工配置,编写代码"
   ]
  },
  {
   "cell_type": "markdown",
   "id": "0a2e8156-33e9-41af-88c2-f1b9214cd12d",
   "metadata": {},
   "source": [
    "## 环境导出"
   ]
  },
  {
   "cell_type": "markdown",
   "id": "50838478-8f72-40a6-a62f-0e8b726a0e4f",
   "metadata": {},
   "source": [
    "\n",
    "```\n",
    "导出到指定位置\n",
    "/home/zxf/miniconda3/bin/pip-chill > requirements.txt\n",
    "```"
   ]
  },
  {
   "cell_type": "markdown",
   "id": "1d3d382a-2f65-47b8-b26f-a23cee7f6898",
   "metadata": {},
   "source": [
    "## 上测试/生产环境"
   ]
  },
  {
   "cell_type": "markdown",
   "id": "9fd09fe3-5ca1-4181-b35d-eebf1774073c",
   "metadata": {},
   "source": [
    "1 前提是需要requirements.txt 导出   \n",
    "2 安装code    \n",
    "3 必须在.server中以fire 编写启动命令"
   ]
  },
  {
   "cell_type": "markdown",
   "id": "3e365081-e020-4295-b40e-be925ae9f87d",
   "metadata": {},
   "source": [
    "## docker 打包并保证分发正常 \n",
    "TODO 参数配置"
   ]
  },
  {
   "cell_type": "code",
   "execution_count": null,
   "id": "db6f2e4f-a801-486c-8271-e9ccd8b0966f",
   "metadata": {},
   "outputs": [],
   "source": []
  },
  {
   "cell_type": "markdown",
   "id": "f9ebbfad-243a-44a6-9116-e15b21c777be",
   "metadata": {
    "tags": []
   },
   "source": [
    "## 删除项目"
   ]
  },
  {
   "cell_type": "code",
   "execution_count": 3,
   "id": "0e3ceb40-84ff-40f0-a4ef-7bb2bc237572",
   "metadata": {
    "tags": []
   },
   "outputs": [
    {
     "name": "stdin",
     "output_type": "stream",
     "text": [
      "please input the delete project name:open_voice open_voice\n"
     ]
    },
    {
     "name": "stdout",
     "output_type": "stream",
     "text": [
      "Successfully deleted the repository zhaoxuefeng199508/open_voice\n",
      "\n",
      "## Package Plan ##\n",
      "\n",
      "  environment location: /Users/zhaoxuefeng/opt/miniconda3/envs/open_voice\n",
      "\n",
      "\n",
      "The following packages will be REMOVED:\n",
      "\n",
      "  bzip2-1.0.8-h6c40b1e_6\n",
      "  ca-certificates-2024.3.11-hecd8cb5_0\n",
      "  libffi-3.4.4-hecd8cb5_1\n",
      "  ncurses-6.4-hcec6c5f_0\n",
      "  openssl-3.0.14-h46256e1_0\n",
      "  pip-24.0-py310hecd8cb5_0\n",
      "  python-3.10.14-h5ee71fb_1\n",
      "  readline-8.2-hca72f7f_0\n",
      "  setuptools-69.5.1-py310hecd8cb5_0\n",
      "  sqlite-3.45.3-h6c40b1e_0\n",
      "  tk-8.6.14-h4d00af3_0\n",
      "  tzdata-2024a-h04d1e81_0\n",
      "  wheel-0.43.0-py310hecd8cb5_0\n",
      "  xz-5.4.6-h6c40b1e_1\n",
      "  zlib-1.2.13-h4b97444_1\n",
      "\n",
      "\n",
      "Preparing transaction: ...working... done\n",
      "Verifying transaction: ...working... done\n",
      "Executing transaction: ...working... done\n"
     ]
    },
    {
     "name": "stderr",
     "output_type": "stream",
     "text": [
      "\n",
      "Remove all packages in environment /Users/zhaoxuefeng/opt/miniconda3/envs/open_voice:\n",
      "\n",
      " Container open_voice_aibox  Stopping\n",
      " Container open_voice_aibox  Stopped\n",
      " Container open_voice_aibox  Removing\n",
      " Container open_voice_aibox  Removed\n",
      " Network open_voice_default  Removing\n",
      " Network open_voice_default  Removed\n"
     ]
    }
   ],
   "source": [
    "delete_project('open_voice')"
   ]
  },
  {
   "cell_type": "code",
   "execution_count": null,
   "id": "7d4cee84-3066-4ee1-9293-441396b58b0c",
   "metadata": {},
   "outputs": [],
   "source": []
  },
  {
   "cell_type": "markdown",
   "id": "4c24d0c5-22f6-4221-9c0b-c420aba2585f",
   "metadata": {},
   "source": [
    "### question"
   ]
  },
  {
   "cell_type": "code",
   "execution_count": null,
   "id": "0ae3bb56-89dd-4f9d-ae8f-13ec2d84f621",
   "metadata": {},
   "outputs": [],
   "source": [
    "# 细节 1 版本更新\n",
    "# 细节 2 如何快速迭代\n",
    "# 细节 3 历史版本管理问题\n",
    "# 细节 4 测试版本和生产版本的存续替换问题\n",
    "# 细节 5 代码编写 环境的回滚和维护问题\n"
   ]
  }
 ],
 "metadata": {
  "kernelspec": {
   "display_name": "Python 3 (ipykernel)",
   "language": "python",
   "name": "python3"
  },
  "language_info": {
   "codemirror_mode": {
    "name": "ipython",
    "version": 3
   },
   "file_extension": ".py",
   "mimetype": "text/x-python",
   "name": "python",
   "nbconvert_exporter": "python",
   "pygments_lexer": "ipython3",
   "version": "3.10.14"
  }
 },
 "nbformat": 4,
 "nbformat_minor": 5
}
