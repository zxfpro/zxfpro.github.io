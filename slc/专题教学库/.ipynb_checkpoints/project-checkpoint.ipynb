{
 "cells": [
  {
   "cell_type": "markdown",
   "id": "4776a313-a713-40cb-b0e9-17627566fff0",
   "metadata": {},
   "source": [
    "# project"
   ]
  },
  {
   "cell_type": "markdown",
   "id": "bf82e0fd-bad2-45f3-8930-2612f51d6638",
   "metadata": {},
   "source": [
    "1 在gitee上 创建一个新项目"
   ]
  },
  {
   "cell_type": "code",
   "execution_count": 7,
   "id": "0ef8aa30-2bda-4c42-a970-828ac11de401",
   "metadata": {
    "tags": []
   },
   "outputs": [],
   "source": [
    "%run utils.ipynb"
   ]
  },
  {
   "cell_type": "code",
   "execution_count": 8,
   "id": "dd94ab2c-beef-4d42-880d-a435061b297c",
   "metadata": {
    "tags": []
   },
   "outputs": [
    {
     "name": "stdout",
     "output_type": "stream",
     "text": [
      "Repository created successfully!\n",
      "Repository URL: https://gitee.com/zhaoxuefeng199508/web_helper.git\n"
     ]
    },
    {
     "name": "stderr",
     "output_type": "stream",
     "text": [
      "Cloning into '/Users/zhaoxuefeng/GitHub/web_helper'...\n"
     ]
    },
    {
     "name": "stdout",
     "output_type": "stream",
     "text": [
      "create_repo success\n",
      "web_helper\n",
      "None\n",
      "infused_code is None pass this section\n",
      "infuse_code success\n",
      "Collecting package metadata (current_repodata.json): ...working... done\n",
      "Solving environment: ...working... done\n",
      "\n",
      "## Package Plan ##\n",
      "\n",
      "  environment location: /Users/zhaoxuefeng/opt/miniconda3/envs/web_helper\n",
      "\n",
      "  added / updated specs:\n",
      "    - python=3.10\n",
      "\n",
      "\n",
      "The following NEW packages will be INSTALLED:\n",
      "\n",
      "  bzip2              pkgs/main/osx-64::bzip2-1.0.8-h6c40b1e_6\n",
      "  ca-certificates    pkgs/main/osx-64::ca-certificates-2024.3.11-hecd8cb5_0\n",
      "  libffi             pkgs/main/osx-64::libffi-3.4.4-hecd8cb5_1\n",
      "  ncurses            pkgs/main/osx-64::ncurses-6.4-hcec6c5f_0\n",
      "  openssl            pkgs/main/osx-64::openssl-3.0.14-h46256e1_0\n",
      "  pip                pkgs/main/osx-64::pip-24.0-py310hecd8cb5_0\n",
      "  python             pkgs/main/osx-64::python-3.10.14-h5ee71fb_1\n",
      "  readline           pkgs/main/osx-64::readline-8.2-hca72f7f_0\n",
      "  setuptools         pkgs/main/osx-64::setuptools-69.5.1-py310hecd8cb5_0\n",
      "  sqlite             pkgs/main/osx-64::sqlite-3.45.3-h6c40b1e_0\n",
      "  tk                 pkgs/main/osx-64::tk-8.6.14-h4d00af3_0\n",
      "  tzdata             pkgs/main/noarch::tzdata-2024a-h04d1e81_0\n",
      "  wheel              pkgs/main/osx-64::wheel-0.43.0-py310hecd8cb5_0\n",
      "  xz                 pkgs/main/osx-64::xz-5.4.6-h6c40b1e_1\n",
      "  zlib               pkgs/main/osx-64::zlib-1.2.13-h4b97444_1\n",
      "\n",
      "\n",
      "Preparing transaction: ...working... done\n",
      "Verifying transaction: ...working... done\n",
      "Executing transaction: ...working... done\n",
      "#\n",
      "# To activate this environment, use\n",
      "#\n",
      "#     $ conda activate web_helper\n",
      "#\n",
      "# To deactivate an active environment, use\n",
      "#\n",
      "#     $ conda deactivate\n",
      "\n"
     ]
    },
    {
     "name": "stderr",
     "output_type": "stream",
     "text": [
      "\n",
      "\n",
      "==> WARNING: A newer version of conda exists. <==\n",
      "  current version: 4.11.0\n",
      "  latest version: 24.5.0\n",
      "\n",
      "Please update conda by running\n",
      "\n",
      "    $ conda update -n base -c defaults conda\n",
      "\n",
      "\n"
     ]
    },
    {
     "name": "stdout",
     "output_type": "stream",
     "text": [
      "config_env success\n"
     ]
    }
   ],
   "source": [
    "start_project(path = 'web_helper')"
   ]
  },
  {
   "cell_type": "code",
   "execution_count": null,
   "id": "1ac36a7e-a4ad-4888-99b1-f11cb3d03794",
   "metadata": {},
   "outputs": [],
   "source": [
    "# 5 配置aibox 环境 \n"
   ]
  },
  {
   "cell_type": "code",
   "execution_count": null,
   "id": "4a406c54-2f98-4247-a805-243095e783a7",
   "metadata": {},
   "outputs": [],
   "source": [
    "# 6 如果有先前代码, 机器人应该根据代码配置相对应的环境并保证运行/或给出错误报告 \n",
    "# 如果是空仓库 ,那么机器人可以根据主题给出伪代码,伪代码测试等基本逻辑或者 不动作\n"
   ]
  },
  {
   "cell_type": "code",
   "execution_count": 17,
   "id": "a992b0aa-d378-4e55-802a-d369fa670016",
   "metadata": {},
   "outputs": [],
   "source": []
  },
  {
   "cell_type": "code",
   "execution_count": null,
   "id": "84f1bf67-a31d-4b52-9504-451cf3461106",
   "metadata": {},
   "outputs": [],
   "source": [
    "# 7 环境同步,将aibox 导出requirement.txt 和 env.yaml 文件 到本地安装 \n"
   ]
  },
  {
   "cell_type": "code",
   "execution_count": null,
   "id": "324d1d76-1fd5-4918-afeb-b26bd0cdc8b7",
   "metadata": {},
   "outputs": [],
   "source": []
  },
  {
   "cell_type": "code",
   "execution_count": null,
   "id": "6e3c5ac3-0bc0-41cb-a1ca-01545b215e40",
   "metadata": {},
   "outputs": [],
   "source": [
    "# 8 一键打包生产,使用docker compose 进行一键打包,docker部署,管理等能力 TODO"
   ]
  },
  {
   "cell_type": "code",
   "execution_count": null,
   "id": "30ae066b-c193-439d-9260-09cdd0c9ac65",
   "metadata": {},
   "outputs": [],
   "source": []
  },
  {
   "cell_type": "code",
   "execution_count": 4,
   "id": "e483af2f-36a5-4e63-94ea-d6ac2a16bf11",
   "metadata": {
    "tags": []
   },
   "outputs": [
    {
     "name": "stdout",
     "output_type": "stream",
     "text": [
      "Successfully deleted the repository zhaoxuefeng199508/data_server_web\n",
      "\n",
      "## Package Plan ##\n",
      "\n",
      "  environment location: /Users/zhaoxuefeng/opt/miniconda3/envs/data_server_web\n",
      "\n",
      "\n",
      "The following packages will be REMOVED:\n",
      "\n",
      "  bzip2-1.0.8-h6c40b1e_6\n",
      "  ca-certificates-2024.3.11-hecd8cb5_0\n",
      "  libffi-3.4.4-hecd8cb5_1\n",
      "  ncurses-6.4-hcec6c5f_0\n",
      "  openssl-3.0.14-h46256e1_0\n",
      "  pip-24.0-py310hecd8cb5_0\n",
      "  python-3.10.14-h5ee71fb_1\n",
      "  readline-8.2-hca72f7f_0\n",
      "  setuptools-69.5.1-py310hecd8cb5_0\n",
      "  sqlite-3.45.3-h6c40b1e_0\n",
      "  tk-8.6.14-h4d00af3_0\n",
      "  tzdata-2024a-h04d1e81_0\n",
      "  wheel-0.43.0-py310hecd8cb5_0\n",
      "  xz-5.4.6-h6c40b1e_1\n",
      "  zlib-1.2.13-h4b97444_1\n",
      "\n",
      "\n",
      "Preparing transaction: ...working... done\n",
      "Verifying transaction: ...working... done\n",
      "Executing transaction: ...working... done\n"
     ]
    },
    {
     "name": "stderr",
     "output_type": "stream",
     "text": [
      "\n",
      "Remove all packages in environment /Users/zhaoxuefeng/opt/miniconda3/envs/data_server_web:\n",
      "\n",
      "Error response from daemon: No such container: data_server_web_aibox\n"
     ]
    }
   ],
   "source": [
    "delete_project('data_server_web')"
   ]
  },
  {
   "cell_type": "code",
   "execution_count": null,
   "id": "169a666b-3266-4c9e-878a-7975f3f0c9a1",
   "metadata": {},
   "outputs": [],
   "source": []
  },
  {
   "cell_type": "code",
   "execution_count": null,
   "id": "b24d54db-360c-4c96-a53c-ce13ad62e3a3",
   "metadata": {},
   "outputs": [],
   "source": []
  },
  {
   "cell_type": "code",
   "execution_count": null,
   "id": "483d887f-aab3-4753-9478-4f6fc419daa2",
   "metadata": {},
   "outputs": [],
   "source": [
    "# 细节 1 版本更新"
   ]
  },
  {
   "cell_type": "code",
   "execution_count": null,
   "id": "25f7ec3b-87a6-42cc-b504-043d91c603a9",
   "metadata": {},
   "outputs": [],
   "source": [
    "# 细节 2 如何快速迭代"
   ]
  },
  {
   "cell_type": "code",
   "execution_count": null,
   "id": "d4ddb834-c39f-4af9-badc-b68d6ac9b351",
   "metadata": {},
   "outputs": [],
   "source": [
    "# 细节 3 历史版本管理问题"
   ]
  },
  {
   "cell_type": "code",
   "execution_count": null,
   "id": "22374c54-773e-4819-a990-f59a9d03dd72",
   "metadata": {},
   "outputs": [],
   "source": [
    "# 细节 4 测试版本和生产版本的存续替换问题"
   ]
  },
  {
   "cell_type": "code",
   "execution_count": null,
   "id": "9e76a440-751a-451c-9caa-ec93d41b48d9",
   "metadata": {},
   "outputs": [],
   "source": [
    "# 细节 5 代码编写 环境的回滚和维护问题"
   ]
  },
  {
   "cell_type": "code",
   "execution_count": null,
   "id": "c3121972-abc2-46f6-9497-b46ae1e62005",
   "metadata": {},
   "outputs": [],
   "source": []
  },
  {
   "cell_type": "code",
   "execution_count": null,
   "id": "fd9e314b-57c0-42c8-b2bf-15cc63287889",
   "metadata": {},
   "outputs": [],
   "source": []
  }
 ],
 "metadata": {
  "kernelspec": {
   "display_name": "Python 3 (ipykernel)",
   "language": "python",
   "name": "python3"
  },
  "language_info": {
   "codemirror_mode": {
    "name": "ipython",
    "version": 3
   },
   "file_extension": ".py",
   "mimetype": "text/x-python",
   "name": "python",
   "nbconvert_exporter": "python",
   "pygments_lexer": "ipython3",
   "version": "3.10.14"
  }
 },
 "nbformat": 4,
 "nbformat_minor": 5
}
