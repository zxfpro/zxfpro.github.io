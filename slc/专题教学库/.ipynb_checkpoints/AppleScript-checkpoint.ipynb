{
 "cells": [
  {
   "cell_type": "markdown",
   "id": "45648b40-0071-41ef-88ee-2cb7bdef023d",
   "metadata": {},
   "source": [
    "# AppleScript 的使用方法"
   ]
  },
  {
   "cell_type": "markdown",
   "id": "fce32c97-1e0a-4c90-a691-113d3b1a5fa9",
   "metadata": {},
   "source": [
    "SDK是软件开发工具包（Software Development Kit）的缩写，是一组用于开发软件应用程序的工具和资源的集合。SDK通常包括编程接口、示例代码、文档和调试工具等，可以帮助开发者更快速、更方便地开发应用程序。SDK可以针对特定的操作系统、平台或开发语言进行定制，提供相应的开发环境和工具，使开发者能够利用SDK中提供的功能和接口来构建自己的应用程序。常见的SDK包括Android SDK、iOS SDK、Windows SDK等。"
   ]
  },
  {
   "cell_type": "markdown",
   "id": "afd2fabc-613e-44e9-8b21-50d170bd1f99",
   "metadata": {},
   "source": [
    "## 存放SCPT 脚本文件"
   ]
  },
  {
   "cell_type": "code",
   "execution_count": 3,
   "id": "8390d474-f96d-444e-9bc5-66c46b3b1c58",
   "metadata": {
    "tags": []
   },
   "outputs": [
    {
     "name": "stdout",
     "output_type": "stream",
     "text": [
      "input_v2.scpt inputs.scpt   text.scpt\n"
     ]
    }
   ],
   "source": [
    "!ls /Users/zhaoxuefeng/Documents/Project/applescript/poe/"
   ]
  },
  {
   "cell_type": "markdown",
   "id": "f503c8c5-42e7-455a-8747-d989fe90663d",
   "metadata": {
    "tags": []
   },
   "source": [
    "## 编写与调试applescript脚本"
   ]
  },
  {
   "cell_type": "code",
   "execution_count": 11,
   "id": "7bfc0021-3675-4f1f-8163-6c5846a41fb1",
   "metadata": {
    "tags": []
   },
   "outputs": [],
   "source": [
    "import subprocess\n",
    "\n",
    "def run_applescript(script):\n",
    "    # 使用osascript命令执行AppleScript脚本并捕获输出\n",
    "    result = subprocess.run(['osascript', '-e', script], capture_output=True, text=True)\n",
    "    \n",
    "    # 获取输出结果\n",
    "    output = result.stdout.strip()\n",
    "    return output"
   ]
  },
  {
   "cell_type": "code",
   "execution_count": 12,
   "id": "179b3510-81b6-4bbe-9667-f8fa2b8d1dc1",
   "metadata": {
    "tags": []
   },
   "outputs": [
    {
     "name": "stdout",
     "output_type": "stream",
     "text": [
      "3324\n"
     ]
    }
   ],
   "source": [
    "applescript = '''\n",
    "tell application \"Finder\"\n",
    "    set desktopPath to (path to desktop) as text\n",
    "    #return desktopPath\n",
    "end tell\n",
    "return 1234\n",
    "'''\n",
    "desktop_path = run_applescript(applescript)\n",
    "print(desktop_path)"
   ]
  },
  {
   "cell_type": "markdown",
   "id": "2f218018-4194-44ea-9fd8-127b018ad537",
   "metadata": {
    "tags": []
   },
   "source": [
    "## 执行脚本文件"
   ]
  },
  {
   "cell_type": "code",
   "execution_count": 32,
   "id": "f1cfba92-7eb0-45ae-82cc-27e5e15f4e03",
   "metadata": {
    "tags": []
   },
   "outputs": [],
   "source": [
    "def run_applescript_file(file_path):\n",
    "    # 使用osascript命令执行AppleScript脚本并捕获输出\n",
    "    result = subprocess.run(['osascript', file_path], capture_output=True, text=True)\n",
    "    \n",
    "    # 获取输出结果\n",
    "    output = result.stdout.strip()\n",
    "    return output"
   ]
  },
  {
   "cell_type": "code",
   "execution_count": 33,
   "id": "b7e7d8c2-78fb-4a61-a332-d161d31a36d6",
   "metadata": {
    "tags": []
   },
   "outputs": [],
   "source": [
    "a = run_applescript_file('/Users/zhaoxuefeng/Documents/Project/applescript/poe/text.scpt')"
   ]
  },
  {
   "cell_type": "code",
   "execution_count": 34,
   "id": "8191bdb1-e569-4f99-9123-e895babcda53",
   "metadata": {
    "tags": []
   },
   "outputs": [
    {
     "data": {
      "text/plain": [
       "'332423'"
      ]
     },
     "execution_count": 34,
     "metadata": {},
     "output_type": "execute_result"
    }
   ],
   "source": [
    "a"
   ]
  },
  {
   "cell_type": "markdown",
   "id": "0b9f507e-9ee3-4cbb-9afe-1158a05baf5e",
   "metadata": {},
   "source": [
    "## 综合SDK设计"
   ]
  },
  {
   "cell_type": "code",
   "execution_count": null,
   "id": "c9a957e7-1d70-4f4a-8d67-a1c9a8953b7d",
   "metadata": {},
   "outputs": [],
   "source": []
  },
  {
   "cell_type": "code",
   "execution_count": 64,
   "id": "057a0c14-ca4a-4473-920e-2e6c60e07906",
   "metadata": {
    "tags": []
   },
   "outputs": [],
   "source": [
    "import subprocess\n",
    "\n",
    "class BaseSDK():\n",
    "    def __init__(self):\n",
    "        pass\n",
    "\n",
    "    def run_applescript(self,script):\n",
    "        # 使用osascript命令执行AppleScript脚本并捕获输出\n",
    "        result = subprocess.run(['osascript', '-e', script], capture_output=True, text=True)\n",
    "\n",
    "        # 获取输出结果\n",
    "        output = result.stdout.strip()\n",
    "        return output\n",
    "    \n",
    "    def run_applescript_file(self,file_path,*args):\n",
    "        # 使用osascript命令执行AppleScript脚本并捕获输出\n",
    "        result = subprocess.run(['osascript', file_path,*args], capture_output=True, text=True)\n",
    "\n",
    "        # 获取输出结果\n",
    "        output = result.stdout.strip()\n",
    "        return output\n",
    "    "
   ]
  },
  {
   "cell_type": "code",
   "execution_count": 65,
   "id": "5f13cb0a-0400-4b96-a5b4-1d20d323e204",
   "metadata": {
    "tags": []
   },
   "outputs": [],
   "source": [
    "class PoeSDK(BaseSDK):\n",
    "    \n",
    "    def inputs_CludleV3(text):\n",
    "        scpt_path = '/Users/zhaoxuefeng/Documents/Project/applescript/poe/input_v2.scpt'\n",
    "        result = self.run_applescript_file(scpt_path,text)\n",
    "        return result"
   ]
  },
  {
   "cell_type": "code",
   "execution_count": 62,
   "id": "30c24e78-cc48-4d69-a3ef-d97a46587c33",
   "metadata": {
    "tags": []
   },
   "outputs": [
    {
     "data": {
      "text/plain": [
       "'success'"
      ]
     },
     "execution_count": 62,
     "metadata": {},
     "output_type": "execute_result"
    }
   ],
   "source": [
    "PoeSDK().run_applescript_file('/Users/zhaoxuefeng/Documents/Project/applescript/poe/input_v2.scpt','谁是国家总书记')"
   ]
  },
  {
   "cell_type": "code",
   "execution_count": null,
   "id": "09a9e52e-3c9c-4334-8d81-d4c9822ac271",
   "metadata": {},
   "outputs": [],
   "source": []
  },
  {
   "cell_type": "code",
   "execution_count": null,
   "id": "2224be54-84ab-4671-92f3-68be353d75dc",
   "metadata": {},
   "outputs": [],
   "source": [
    "# %%aigen 使用fire包将代码包装成终端可执行\n",
    "\n",
    "import fire\n",
    "from pathlib import Path\n",
    "import openai\n",
    "\n",
    "def generate_speech(text):\n",
    "    response = openai.audio.speech.create(\n",
    "        model=\"tts-1\",\n",
    "        voice=\"onyx\",\n",
    "        input=text\n",
    "    )\n",
    "    response.stream_to_file('/Users/zhaoxuefeng/Documents/Project/applescript/快捷指令/speech.mp3')\n",
    "\n",
    "if __name__ == '__main__':\n",
    "    fire.Fire(generate_speech)\n"
   ]
  },
  {
   "cell_type": "code",
   "execution_count": 3,
   "id": "a17ef955-b0a9-4ab1-b5ae-e89dc0717ebc",
   "metadata": {
    "tags": []
   },
   "outputs": [
    {
     "name": "stdout",
     "output_type": "stream",
     "text": [
      "MyLibrary.scpt                     未命名.scpt\n",
      "functions.scpt                     如何在tell 中使用函数.scpt\n",
      "get_params.scpt                    数据类型.scpt\n",
      "use_file_function.scpt\n"
     ]
    }
   ],
   "source": [
    "!ls applescript/Tutorial/"
   ]
  },
  {
   "cell_type": "code",
   "execution_count": null,
   "id": "39c08501-4e16-4b39-92fd-145ecc3c0767",
   "metadata": {},
   "outputs": [],
   "source": []
  }
 ],
 "metadata": {
  "kernelspec": {
   "display_name": "Python 3 (ipykernel)",
   "language": "python",
   "name": "python3"
  },
  "language_info": {
   "codemirror_mode": {
    "name": "ipython",
    "version": 3
   },
   "file_extension": ".py",
   "mimetype": "text/x-python",
   "name": "python",
   "nbconvert_exporter": "python",
   "pygments_lexer": "ipython3",
   "version": "3.10.14"
  }
 },
 "nbformat": 4,
 "nbformat_minor": 5
}
