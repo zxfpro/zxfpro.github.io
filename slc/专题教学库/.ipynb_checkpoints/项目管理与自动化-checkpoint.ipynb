{
 "cells": [
  {
   "cell_type": "markdown",
   "id": "4776a313-a713-40cb-b0e9-17627566fff0",
   "metadata": {},
   "source": [
    "# 项目管理与自动化"
   ]
  },
  {
   "cell_type": "markdown",
   "id": "c7049d64-7c98-41b6-9434-de4919a93248",
   "metadata": {
    "tags": []
   },
   "source": [
    "## 初始化一个项目"
   ]
  },
  {
   "cell_type": "markdown",
   "id": "9c92d958-9ef4-4243-a7ed-8eb7ca687e96",
   "metadata": {
    "jupyter": {
     "outputs_hidden": true
    },
    "tags": []
   },
   "source": [
    "```python\n",
    "from Jarvis_dev.projects import start_project,delete_project\n",
    "start_project('open_voice','https://github.com/myshell-ai/OpenVoice.git')\n",
    "```"
   ]
  },
  {
   "cell_type": "markdown",
   "id": "97a366aa-bfe7-4fc5-904b-1142c8638f70",
   "metadata": {},
   "source": [
    "创建完毕后直接点击自动拉起的链接进入对应的notebook中   \n",
    "#### 在workstation 目录中存在以下目录:   \n",
    "    longstore 长期存储目录,当项目结束,删除项目时,这个文件夹中的内容将被保留   \n",
    "    project_name 这个是项目的主文件夹   \n",
    "    test 这个是项目的测试目录   \n",
    "    playground notebook使用的地方   \n",
    "    \n"
   ]
  },
  {
   "cell_type": "markdown",
   "id": "58f517d3-bd5f-488e-a3d3-096d8640565f",
   "metadata": {},
   "source": [
    "在GitHub Desktop 中 Add 该项目"
   ]
  },
  {
   "cell_type": "markdown",
   "id": "124b62bf-24fa-42f2-b7bc-174755984bd2",
   "metadata": {},
   "source": [
    "![截屏2024-06-24 09.56.05.png](imgs/add_repo.png)"
   ]
  },
  {
   "cell_type": "markdown",
   "id": "5834c20f-62d9-435a-b77c-66d1accd769a",
   "metadata": {
    "tags": []
   },
   "source": [
    "注意: 这里的notebook是由docker动态拉起的,所以它与pycharm 的环境并不一致\n",
    "docker 拉起的好处在于,可以独立与本系统之外, 能给AI赋予高权限,相当于一个给AI的沙盒\n",
    "目前人力充当单点突破,尝试等工作,未来可以由AI接手."
   ]
  },
  {
   "cell_type": "markdown",
   "id": "6c01f3ac-e214-4ae1-8ac7-76442c98dee7",
   "metadata": {},
   "source": [
    "而外部的工程环境,则是方便使用编辑器pycharm进行编程,在未来也更加方便对AI的工作就行干预和修改."
   ]
  },
  {
   "cell_type": "markdown",
   "id": "6750390a-e762-431e-ae11-84a0c4d272d1",
   "metadata": {
    "tags": []
   },
   "source": [
    "## 打开编辑器Pycharm"
   ]
  },
  {
   "cell_type": "markdown",
   "id": "c5392172-a28c-47a9-8c7c-a856b8ad0e69",
   "metadata": {},
   "source": [
    "#### 以下是常用操作"
   ]
  },
  {
   "cell_type": "markdown",
   "id": "9cdb4bef-ff76-4d1e-81b5-4c1f1f5f7803",
   "metadata": {},
   "source": [
    "##### 环境导出\n",
    "```python\n",
    "pip-chill > requirements.txt\n",
    "```"
   ]
  },
  {
   "cell_type": "markdown",
   "id": "ba5988b8-3a7a-46b9-8aab-307aec7b5a32",
   "metadata": {
    "tags": []
   },
   "source": [
    "#### 编程范式\n",
    "\n",
    "每一个项目都有默认启动的 server.py 文件,编写程序时,需要将启动命令以fire的方式写在server.py 中\n",
    "\n",
    "这样所有项目的统一启动命令则是 python -m project_name.server (-h)\n",
    "\n",
    "github的提交颇具艺术性, 可以进一步探索其乐趣. 这里说一下package包版本的管理, 所有的开发版本都是0.0.0 每次更新并不需要更新版本号,只要运行pip install . 就可以将内容覆盖,用于方便平时调试, 当有关键版本时, 可以根据,(架构变更.功能增减.细节调整) 来适当打包关键版本,并在setup中进行说明并上传到私有源中. \n",
    "\n",
    "每一个项目最开始都有设计好的 docker 结构,只需要稍微更改就可以将项目docker化,建议同时修改和添加docker-compose这个管理工具"
   ]
  },
  {
   "cell_type": "markdown",
   "id": "e0362fc7-db28-45fd-9c63-f238f422f150",
   "metadata": {},
   "source": [
    "#### 项目的任务管理"
   ]
  },
  {
   "cell_type": "markdown",
   "id": "7e78703b-2a6c-48a7-957e-aa9ba9947ab3",
   "metadata": {},
   "source": [
    "建议在日历中,建立全新的项目日历,做日历排班,同时也方便日后的总结和回顾"
   ]
  },
  {
   "cell_type": "markdown",
   "id": "f9ebbfad-243a-44a6-9116-e15b21c777be",
   "metadata": {
    "tags": []
   },
   "source": [
    "## 删除项目"
   ]
  },
  {
   "cell_type": "markdown",
   "id": "417e9feb-1e5d-484f-aaba-68b0dee4f0cc",
   "metadata": {},
   "source": [
    "#### 删除项目\n",
    "当项目确认结束, 使用delete_project会彻底,干净的删除掉所有的项目痕迹,唯有longstore会保留,之后,手动删除GitHub Desktop中的记录,项目日历,完整总结和整理."
   ]
  },
  {
   "cell_type": "code",
   "execution_count": 3,
   "id": "0e3ceb40-84ff-40f0-a4ef-7bb2bc237572",
   "metadata": {
    "collapsed": true,
    "jupyter": {
     "outputs_hidden": true
    },
    "tags": []
   },
   "outputs": [
    {
     "name": "stdin",
     "output_type": "stream",
     "text": [
      "please input the delete project name:open_voice open_voice\n"
     ]
    },
    {
     "name": "stdout",
     "output_type": "stream",
     "text": [
      "Successfully deleted the repository zhaoxuefeng199508/open_voice\n",
      "\n",
      "## Package Plan ##\n",
      "\n",
      "  environment location: /Users/zhaoxuefeng/opt/miniconda3/envs/open_voice\n",
      "\n",
      "\n",
      "The following packages will be REMOVED:\n",
      "\n",
      "  bzip2-1.0.8-h6c40b1e_6\n",
      "  ca-certificates-2024.3.11-hecd8cb5_0\n",
      "  libffi-3.4.4-hecd8cb5_1\n",
      "  ncurses-6.4-hcec6c5f_0\n",
      "  openssl-3.0.14-h46256e1_0\n",
      "  pip-24.0-py310hecd8cb5_0\n",
      "  python-3.10.14-h5ee71fb_1\n",
      "  readline-8.2-hca72f7f_0\n",
      "  setuptools-69.5.1-py310hecd8cb5_0\n",
      "  sqlite-3.45.3-h6c40b1e_0\n",
      "  tk-8.6.14-h4d00af3_0\n",
      "  tzdata-2024a-h04d1e81_0\n",
      "  wheel-0.43.0-py310hecd8cb5_0\n",
      "  xz-5.4.6-h6c40b1e_1\n",
      "  zlib-1.2.13-h4b97444_1\n",
      "\n",
      "\n",
      "Preparing transaction: ...working... done\n",
      "Verifying transaction: ...working... done\n",
      "Executing transaction: ...working... done\n"
     ]
    },
    {
     "name": "stderr",
     "output_type": "stream",
     "text": [
      "\n",
      "Remove all packages in environment /Users/zhaoxuefeng/opt/miniconda3/envs/open_voice:\n",
      "\n",
      " Container open_voice_aibox  Stopping\n",
      " Container open_voice_aibox  Stopped\n",
      " Container open_voice_aibox  Removing\n",
      " Container open_voice_aibox  Removed\n",
      " Network open_voice_default  Removing\n",
      " Network open_voice_default  Removed\n"
     ]
    }
   ],
   "source": [
    "delete_project('open_voice')"
   ]
  },
  {
   "cell_type": "code",
   "execution_count": null,
   "id": "5bfd97a7-4697-482e-ac3b-5563e0f2ce00",
   "metadata": {},
   "outputs": [],
   "source": []
  },
  {
   "cell_type": "code",
   "execution_count": null,
   "id": "1b315f7b-9406-4af7-a1ba-c6f2ad79d9f1",
   "metadata": {},
   "outputs": [],
   "source": []
  },
  {
   "cell_type": "code",
   "execution_count": 2,
   "id": "02aed926-f800-4a35-aac8-4f9cdd24855a",
   "metadata": {},
   "outputs": [],
   "source": [
    "### TODO"
   ]
  },
  {
   "cell_type": "markdown",
   "id": "9d6c65fd-12cf-4878-9d40-b466443f1d19",
   "metadata": {},
   "source": [
    "## 如何打包"
   ]
  },
  {
   "cell_type": "markdown",
   "id": "ab9777a2-a15f-481e-b2af-731b9d8091a8",
   "metadata": {},
   "source": [
    "pip install build twine   \n",
    "python setup.py sdist bdist_wheel   "
   ]
  },
  {
   "cell_type": "markdown",
   "id": "2de30e04-7724-4838-aa85-8c5e06bedf1b",
   "metadata": {
    "tags": []
   },
   "source": [
    "twine upload --repository testpypi dist/*# 测试平台   \n",
    "twine upload dist/*   "
   ]
  },
  {
   "cell_type": "markdown",
   "id": "57639ecf-eee7-4929-94aa-72bdaba31649",
   "metadata": {},
   "source": [
    "from Cython.Build import cythonize   \n",
    "python setup__.py build_ext --inplace  #编译Cython  "
   ]
  },
  {
   "cell_type": "markdown",
   "id": "7c733471-d44c-4f25-abdb-db9b6eefcfad",
   "metadata": {
    "tags": []
   },
   "source": [
    "## 生成分发包"
   ]
  },
  {
   "cell_type": "code",
   "execution_count": null,
   "id": "76812800-03b2-4e30-ac04-e6cc1f689994",
   "metadata": {},
   "outputs": [],
   "source": [
    "python setup.py sdist bdist_wheel\n",
    "cp dist/dataserver-0.0.1-py3-none-any.whl /Users/zhaoxuefeng/Documents/DataCentre/pypi\n",
    "dir2pi /Users/zhaoxuefeng/Documents/DataCentre/pypi\n",
    "pip2pi  /Users/zhaoxuefeng/Documents/DataCentre/pypi pandas\n"
   ]
  },
  {
   "cell_type": "code",
   "execution_count": null,
   "id": "db19ae72-6a10-4189-8fdd-101e3d1a6e9c",
   "metadata": {},
   "outputs": [],
   "source": []
  },
  {
   "cell_type": "markdown",
   "id": "c8348f37-748f-4c83-a040-039c0ee1fd82",
   "metadata": {},
   "source": [
    "在 `setup.py` 中指定依赖包的版本时，可以使用几种不同的格式来表达依赖关系的灵活性。这些格式不是完全“约等于”，但它们提供了一种方式来指定可以接受的版本范围。以下是一些常见的版本指定方法：\n",
    "\n",
    "1. **精确版本**：\n",
    "   指定必须精确匹配的版本号。\n",
    "\n",
    "   ```python\n",
    "   install_requires=['package==1.0.4'],\n",
    "   ```\n",
    "\n",
    "2. **大于等于某个版本**：\n",
    "   指定版本必须大于或等于给定的版本。\n",
    "\n",
    "   ```python\n",
    "   install_requires=['package>=1.0.4'],\n",
    "   ```\n",
    "\n",
    "3. **小于某个版本**：\n",
    "   指定版本必须小于给定的版本。\n",
    "\n",
    "   ```python\n",
    "   install_requires=['package<1.0.4'],\n",
    "   ```\n",
    "\n",
    "4. **范围指定**：\n",
    "   指定版本必须在这个范围内。\n",
    "\n",
    "   ```python\n",
    "   install_requires=['package>=1.0.4, <1.1.0'],\n",
    "   ```\n",
    "\n",
    "5. **兼容版本**：\n",
    "   指定版本必须与给定的主要版本兼容。\n",
    "\n",
    "   ```python\n",
    "   install_requires=['package~=1.0.4'],\n",
    "   ```\n",
    "\n",
    "   这里 `~=` 表示安装的版本应该向后兼容，通常是相同的主版本号和次版本号，但允许修复错误的补丁版本。\n",
    "\n",
    "6. **排除特定版本**：\n",
    "   指定一个版本范围，但排除特定的版本。\n",
    "\n",
    "   ```python\n",
    "   install_requires=['package!=1.0.4'],\n",
    "   ```\n",
    "\n",
    "7. **公差版本**：\n",
    "   指定版本必须在给定版本的基础上加上或减去一个公差。\n",
    "\n",
    "   ```python\n",
    "   install_requires=['package^1.0.4'],\n",
    "   ```\n",
    "\n",
    "   这里 `^=` 表示版本应该兼容主要版本，但可以是更高的次要版本或补丁版本，通常用于语义化版本控制。\n",
    "\n",
    "8. **版本排除范围**：\n",
    "   指定一个版本范围，但排除两端的特定版本。\n",
    "\n",
    "   ```python\n",
    "   install_requires=['package>=1.0.4, !=1.0.5, !=1.0.6, <2.0.0'],\n",
    "   ```\n",
    "\n",
    "这些版本指定方法允许你在打包时灵活地定义依赖项的版本要求。使用这些方法，你可以确保你的包安装时能够满足不同情况下的依赖关系，同时避免版本冲突。\n",
    "\n",
    "请注意，版本指定符的具体含义可能会根据使用的包管理工具（如pip）的版本和解析策略有所不同。因此，建议查阅相关工具的文档以了解具体的行为。"
   ]
  },
  {
   "cell_type": "code",
   "execution_count": null,
   "id": "7d414c59-c7f3-4542-bcb1-acd66757b347",
   "metadata": {},
   "outputs": [],
   "source": []
  }
 ],
 "metadata": {
  "kernelspec": {
   "display_name": "Python 3 (ipykernel)",
   "language": "python",
   "name": "python3"
  },
  "language_info": {
   "codemirror_mode": {
    "name": "ipython",
    "version": 3
   },
   "file_extension": ".py",
   "mimetype": "text/x-python",
   "name": "python",
   "nbconvert_exporter": "python",
   "pygments_lexer": "ipython3",
   "version": "3.10.14"
  }
 },
 "nbformat": 4,
 "nbformat_minor": 5
}
