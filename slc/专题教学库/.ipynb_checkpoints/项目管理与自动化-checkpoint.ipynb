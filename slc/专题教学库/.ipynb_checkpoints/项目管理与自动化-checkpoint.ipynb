{
 "cells": [
  {
   "cell_type": "markdown",
   "id": "4776a313-a713-40cb-b0e9-17627566fff0",
   "metadata": {},
   "source": [
    "# 项目管理与自动化"
   ]
  },
  {
   "cell_type": "markdown",
   "id": "c7049d64-7c98-41b6-9434-de4919a93248",
   "metadata": {
    "tags": []
   },
   "source": [
    "## 初始化一个项目"
   ]
  },
  {
   "cell_type": "markdown",
   "id": "9c92d958-9ef4-4243-a7ed-8eb7ca687e96",
   "metadata": {
    "jupyter": {
     "outputs_hidden": true
    },
    "tags": []
   },
   "source": [
    "```python\n",
    "from Jarvis_dev.projects import start_project,delete_project\n",
    "start_project('open_voice','https://github.com/myshell-ai/OpenVoice.git')\n",
    "```"
   ]
  },
  {
   "cell_type": "markdown",
   "id": "97a366aa-bfe7-4fc5-904b-1142c8638f70",
   "metadata": {},
   "source": [
    "创建完毕后直接点击自动拉起的链接进入对应的notebook中   \n",
    "#### 在workstation 目录中存在以下目录:   \n",
    "    longstore 长期存储目录,当项目结束,删除项目时,这个文件夹中的内容将被保留   \n",
    "    project_name 这个是项目的主文件夹   \n",
    "    test 这个是项目的测试目录   \n",
    "    playground notebook使用的地方   \n",
    "    \n"
   ]
  },
  {
   "cell_type": "markdown",
   "id": "58f517d3-bd5f-488e-a3d3-096d8640565f",
   "metadata": {},
   "source": [
    "在GitHub Desktop 中 Add 该项目"
   ]
  },
  {
   "cell_type": "markdown",
   "id": "124b62bf-24fa-42f2-b7bc-174755984bd2",
   "metadata": {},
   "source": [
    "![截屏2024-06-24 09.56.05.png](imgs/add_repo.png)"
   ]
  },
  {
   "cell_type": "markdown",
   "id": "5834c20f-62d9-435a-b77c-66d1accd769a",
   "metadata": {
    "tags": []
   },
   "source": [
    "注意: 这里的notebook是由docker动态拉起的,所以它与pycharm 的环境并不一致\n",
    "docker 拉起的好处在于,可以独立与本系统之外, 能给AI赋予高权限,相当于一个给AI的沙盒\n",
    "目前人力充当单点突破,尝试等工作,未来可以由AI接手."
   ]
  },
  {
   "cell_type": "markdown",
   "id": "6c01f3ac-e214-4ae1-8ac7-76442c98dee7",
   "metadata": {},
   "source": [
    "而外部的工程环境,则是方便使用编辑器pycharm进行编程,在未来也更加方便对AI的工作就行干预和修改."
   ]
  },
  {
   "cell_type": "markdown",
   "id": "6750390a-e762-431e-ae11-84a0c4d272d1",
   "metadata": {
    "tags": []
   },
   "source": [
    "## 打开编辑器Pycharm"
   ]
  },
  {
   "cell_type": "markdown",
   "id": "c5392172-a28c-47a9-8c7c-a856b8ad0e69",
   "metadata": {},
   "source": [
    "#### 以下是常用操作"
   ]
  },
  {
   "cell_type": "markdown",
   "id": "9cdb4bef-ff76-4d1e-81b5-4c1f1f5f7803",
   "metadata": {},
   "source": [
    "##### 环境导出\n",
    "```python\n",
    "pip-chill > requirements.txt\n",
    "```"
   ]
  },
  {
   "cell_type": "markdown",
   "id": "ba5988b8-3a7a-46b9-8aab-307aec7b5a32",
   "metadata": {
    "tags": []
   },
   "source": [
    "#### 编程范式\n",
    "\n",
    "每一个项目都有默认启动的 server.py 文件,编写程序时,需要将启动命令以fire的方式写在server.py 中\n",
    "\n",
    "这样所有项目的统一启动命令则是 python -m project_name.server (-h)\n",
    "\n",
    "github的提交颇具艺术性, 可以进一步探索其乐趣. 这里说一下package包版本的管理, 所有的开发版本都是0.0.0 每次更新并不需要更新版本号,只要运行pip install . 就可以将内容覆盖,用于方便平时调试, 当有关键版本时, 可以根据,(架构变更.功能增减.细节调整) 来适当打包关键版本,并在setup中进行说明并上传到私有源中. \n",
    "\n",
    "每一个项目最开始都有设计好的 docker 结构,只需要稍微更改就可以将项目docker化,建议同时修改和添加docker-compose这个管理工具"
   ]
  },
  {
   "cell_type": "markdown",
   "id": "e0362fc7-db28-45fd-9c63-f238f422f150",
   "metadata": {},
   "source": [
    "#### 项目的任务管理"
   ]
  },
  {
   "cell_type": "markdown",
   "id": "7e78703b-2a6c-48a7-957e-aa9ba9947ab3",
   "metadata": {},
   "source": [
    "建议在日历中,建立全新的项目日历,做日历排班,同时也方便日后的总结和回顾"
   ]
  },
  {
   "cell_type": "markdown",
   "id": "f9ebbfad-243a-44a6-9116-e15b21c777be",
   "metadata": {
    "tags": []
   },
   "source": [
    "## 删除项目"
   ]
  },
  {
   "cell_type": "markdown",
   "id": "417e9feb-1e5d-484f-aaba-68b0dee4f0cc",
   "metadata": {},
   "source": [
    "#### 删除项目\n",
    "当项目确认结束, 使用delete_project会彻底,干净的删除掉所有的项目痕迹,唯有longstore会保留,之后,手动删除GitHub Desktop中的记录,项目日历,完整总结和整理."
   ]
  },
  {
   "cell_type": "code",
   "execution_count": 3,
   "id": "0e3ceb40-84ff-40f0-a4ef-7bb2bc237572",
   "metadata": {
    "collapsed": true,
    "jupyter": {
     "outputs_hidden": true
    },
    "tags": []
   },
   "outputs": [
    {
     "name": "stdin",
     "output_type": "stream",
     "text": [
      "please input the delete project name:open_voice open_voice\n"
     ]
    },
    {
     "name": "stdout",
     "output_type": "stream",
     "text": [
      "Successfully deleted the repository zhaoxuefeng199508/open_voice\n",
      "\n",
      "## Package Plan ##\n",
      "\n",
      "  environment location: /Users/zhaoxuefeng/opt/miniconda3/envs/open_voice\n",
      "\n",
      "\n",
      "The following packages will be REMOVED:\n",
      "\n",
      "  bzip2-1.0.8-h6c40b1e_6\n",
      "  ca-certificates-2024.3.11-hecd8cb5_0\n",
      "  libffi-3.4.4-hecd8cb5_1\n",
      "  ncurses-6.4-hcec6c5f_0\n",
      "  openssl-3.0.14-h46256e1_0\n",
      "  pip-24.0-py310hecd8cb5_0\n",
      "  python-3.10.14-h5ee71fb_1\n",
      "  readline-8.2-hca72f7f_0\n",
      "  setuptools-69.5.1-py310hecd8cb5_0\n",
      "  sqlite-3.45.3-h6c40b1e_0\n",
      "  tk-8.6.14-h4d00af3_0\n",
      "  tzdata-2024a-h04d1e81_0\n",
      "  wheel-0.43.0-py310hecd8cb5_0\n",
      "  xz-5.4.6-h6c40b1e_1\n",
      "  zlib-1.2.13-h4b97444_1\n",
      "\n",
      "\n",
      "Preparing transaction: ...working... done\n",
      "Verifying transaction: ...working... done\n",
      "Executing transaction: ...working... done\n"
     ]
    },
    {
     "name": "stderr",
     "output_type": "stream",
     "text": [
      "\n",
      "Remove all packages in environment /Users/zhaoxuefeng/opt/miniconda3/envs/open_voice:\n",
      "\n",
      " Container open_voice_aibox  Stopping\n",
      " Container open_voice_aibox  Stopped\n",
      " Container open_voice_aibox  Removing\n",
      " Container open_voice_aibox  Removed\n",
      " Network open_voice_default  Removing\n",
      " Network open_voice_default  Removed\n"
     ]
    }
   ],
   "source": [
    "delete_project('open_voice')"
   ]
  },
  {
   "cell_type": "code",
   "execution_count": null,
   "id": "5bfd97a7-4697-482e-ac3b-5563e0f2ce00",
   "metadata": {},
   "outputs": [],
   "source": []
  },
  {
   "cell_type": "markdown",
   "id": "1c1d9f2c-b3cb-40a7-8e19-95872addce86",
   "metadata": {},
   "source": [
    "## 程序范式+\n",
    "```python\n",
    "server.py\n",
    "\n",
    "import setproctitle\n",
    "# 设置进程名称为 my_process\n",
    "setproctitle.setproctitle(\"8503kb知识库\")\n",
    "\n",
    "\n",
    "\n",
    "def main(host='0.0.0.0',port = 8503,): # TODO\n",
    "    # TODO\n",
    "\n",
    "if __name__ == '__main__':\n",
    "    fire.Fire(main)\n",
    "\n",
    "```\n"
   ]
  },
  {
   "cell_type": "code",
   "execution_count": null,
   "id": "0a17bcf2-530b-4aba-b17a-dacfafcc8d76",
   "metadata": {},
   "outputs": [],
   "source": []
  },
  {
   "cell_type": "code",
   "execution_count": null,
   "id": "8f432de6-15b6-4585-8817-94baa054dc71",
   "metadata": {},
   "outputs": [],
   "source": []
  },
  {
   "cell_type": "markdown",
   "id": "21b815aa-8ea0-44de-bb2d-175b648e3d0a",
   "metadata": {},
   "source": [
    "## 代码更改后如何管理"
   ]
  },
  {
   "cell_type": "markdown",
   "id": "97cec9ea-0772-4f9a-8380-70e10ced404c",
   "metadata": {},
   "source": [
    "每天的变更可以通过 日期的方式固定commit到仓库, 也可以以事件为单位进行commit    \n",
    "如果遇到关键节点, 则通过tag 来打固定版本"
   ]
  },
  {
   "cell_type": "markdown",
   "id": "ddc1925c-88fd-410c-a7f8-55cb336b4947",
   "metadata": {},
   "source": [
    "## 简单部署"
   ]
  },
  {
   "cell_type": "markdown",
   "id": "9d6c65fd-12cf-4878-9d40-b466443f1d19",
   "metadata": {},
   "source": [
    "### 打包"
   ]
  },
  {
   "cell_type": "markdown",
   "id": "f5555bfb-3858-49b0-8601-82b448e77a29",
   "metadata": {},
   "source": [
    "```python\n",
    "pip install build twine  \n",
    "**`build`**：用于构建 Python 项目的分发包（distribution packages）\n",
    "**`twine`**：是一个用于将项目上传到 Python Package Index (PyPI) 的工具。\n",
    "```\n",
    "```python\n",
    "python setup.py sdist # 打包成`.tar.gz` 文件，包含项目的源代码\n",
    "python setup.py bdist_wheel # 生成 `.whl` 文件 二进制轮子包\n",
    "```\n"
   ]
  },
  {
   "cell_type": "markdown",
   "id": "46e63bb8-aac7-4aa4-88aa-6f3dec539ab5",
   "metadata": {},
   "source": [
    "### 上传到pypi"
   ]
  },
  {
   "cell_type": "markdown",
   "id": "2de30e04-7724-4838-aa85-8c5e06bedf1b",
   "metadata": {
    "tags": []
   },
   "source": [
    "twine upload --repository testpypi dist/*# 测试平台   \n",
    "twine upload dist/*   "
   ]
  },
  {
   "cell_type": "markdown",
   "id": "030e84d2-eb36-4f10-9495-ad49bfc5cac6",
   "metadata": {},
   "source": [
    "### 上传到pip私有源"
   ]
  },
  {
   "cell_type": "code",
   "execution_count": null,
   "id": "210ea1c5-1163-49d4-b200-13b389f8d8a0",
   "metadata": {},
   "outputs": [],
   "source": [
    "cp dist/dataserver-0.0.1-py3-none-any.whl /Users/zhaoxuefeng/Documents/DataCentre/pypi  # 拷贝你的whl包 到pypi私有源位置\n",
    "dir2pi /Users/zhaoxuefeng/Documents/DataCentre/pypi # 更新pip私有源\n",
    "pip2pi  /Users/zhaoxuefeng/Documents/DataCentre/pypi pandas # 使用pip私有源"
   ]
  },
  {
   "cell_type": "markdown",
   "id": "a1982437-00ab-4c93-bc64-3aaddb3a2a1a",
   "metadata": {},
   "source": [
    "### 打成docker镜像"
   ]
  },
  {
   "cell_type": "markdown",
   "id": "5ed83a21-c751-4380-86dd-b8562f761e11",
   "metadata": {},
   "source": [
    "X"
   ]
  },
  {
   "cell_type": "code",
   "execution_count": null,
   "id": "c58428dc-1e58-4977-b01b-e0f808e543e0",
   "metadata": {},
   "outputs": [],
   "source": []
  },
  {
   "cell_type": "code",
   "execution_count": null,
   "id": "6dbe155b-5dfd-47d7-b226-f54b1c97b7fc",
   "metadata": {},
   "outputs": [],
   "source": []
  },
  {
   "cell_type": "code",
   "execution_count": null,
   "id": "006ba8e9-4002-4850-9546-b88204551d3f",
   "metadata": {},
   "outputs": [],
   "source": []
  },
  {
   "cell_type": "markdown",
   "id": "ffd087d0-35fa-4566-b832-064a0a8a36bc",
   "metadata": {},
   "source": [
    "# TODO"
   ]
  },
  {
   "cell_type": "code",
   "execution_count": null,
   "id": "08f2baa3-080c-4253-9371-c259cf19678b",
   "metadata": {},
   "outputs": [],
   "source": []
  },
  {
   "cell_type": "markdown",
   "id": "c8348f37-748f-4c83-a040-039c0ee1fd82",
   "metadata": {},
   "source": [
    "在 `setup.py` 中指定依赖包的版本时，可以使用几种不同的格式来表达依赖关系的灵活性。这些格式不是完全“约等于”，但它们提供了一种方式来指定可以接受的版本范围。以下是一些常见的版本指定方法：\n",
    "\n",
    "1. **精确版本**：\n",
    "   指定必须精确匹配的版本号。\n",
    "\n",
    "   ```python\n",
    "   install_requires=['package==1.0.4'],\n",
    "   ```\n",
    "\n",
    "2. **大于等于某个版本**：\n",
    "   指定版本必须大于或等于给定的版本。\n",
    "\n",
    "   ```python\n",
    "   install_requires=['package>=1.0.4'],\n",
    "   ```\n",
    "\n",
    "3. **小于某个版本**：\n",
    "   指定版本必须小于给定的版本。\n",
    "\n",
    "   ```python\n",
    "   install_requires=['package<1.0.4'],\n",
    "   ```\n",
    "\n",
    "4. **范围指定**：\n",
    "   指定版本必须在这个范围内。\n",
    "\n",
    "   ```python\n",
    "   install_requires=['package>=1.0.4, <1.1.0'],\n",
    "   ```\n",
    "\n",
    "5. **兼容版本**：\n",
    "   指定版本必须与给定的主要版本兼容。\n",
    "\n",
    "   ```python\n",
    "   install_requires=['package~=1.0.4'],\n",
    "   ```\n",
    "\n",
    "   这里 `~=` 表示安装的版本应该向后兼容，通常是相同的主版本号和次版本号，但允许修复错误的补丁版本。\n",
    "\n",
    "6. **排除特定版本**：\n",
    "   指定一个版本范围，但排除特定的版本。\n",
    "\n",
    "   ```python\n",
    "   install_requires=['package!=1.0.4'],\n",
    "   ```\n",
    "\n",
    "7. **公差版本**：\n",
    "   指定版本必须在给定版本的基础上加上或减去一个公差。\n",
    "\n",
    "   ```python\n",
    "   install_requires=['package^1.0.4'],\n",
    "   ```\n",
    "\n",
    "   这里 `^=` 表示版本应该兼容主要版本，但可以是更高的次要版本或补丁版本，通常用于语义化版本控制。\n",
    "\n",
    "8. **版本排除范围**：\n",
    "   指定一个版本范围，但排除两端的特定版本。\n",
    "\n",
    "   ```python\n",
    "   install_requires=['package>=1.0.4, !=1.0.5, !=1.0.6, <2.0.0'],\n",
    "   ```\n",
    "\n",
    "这些版本指定方法允许你在打包时灵活地定义依赖项的版本要求。使用这些方法，你可以确保你的包安装时能够满足不同情况下的依赖关系，同时避免版本冲突。\n",
    "\n",
    "请注意，版本指定符的具体含义可能会根据使用的包管理工具（如pip）的版本和解析策略有所不同。因此，建议查阅相关工具的文档以了解具体的行为。"
   ]
  },
  {
   "cell_type": "code",
   "execution_count": null,
   "id": "7d414c59-c7f3-4542-bcb1-acd66757b347",
   "metadata": {},
   "outputs": [],
   "source": []
  }
 ],
 "metadata": {
  "kernelspec": {
   "display_name": "Python 3 (ipykernel)",
   "language": "python",
   "name": "python3"
  },
  "language_info": {
   "codemirror_mode": {
    "name": "ipython",
    "version": 3
   },
   "file_extension": ".py",
   "mimetype": "text/x-python",
   "name": "python",
   "nbconvert_exporter": "python",
   "pygments_lexer": "ipython3",
   "version": "3.10.14"
  }
 },
 "nbformat": 4,
 "nbformat_minor": 5
}
