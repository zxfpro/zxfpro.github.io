{
 "cells": [
  {
   "cell_type": "markdown",
   "id": "ee041f44-9fb9-426c-a897-ba4584c4c3fb",
   "metadata": {},
   "source": [
    "# G++ 的使用"
   ]
  },
  {
   "cell_type": "code",
   "execution_count": null,
   "id": "7242fd41-d31a-42d6-a563-4944319b0414",
   "metadata": {},
   "outputs": [],
   "source": [
    "%%writefile work.cpp\n",
    "#include <iostream>\n",
    "#include <string>\n",
    "#include <vector>\n",
    "#include <boost/algorithm/string.hpp>\n",
    "\n",
    "int main() {\n",
    "    std::string text = \"Boost Libraries are awesome!\";\n",
    "    std::vector<std::string> words;\n",
    "\n",
    "    // 使用 Boost 的 split 函数将字符串按空格拆分\n",
    "    boost::split(words, text, boost::is_any_of(\" \"));\n",
    "\n",
    "    std::cout << \"The sentence split into words:\" << std::endl;\n",
    "    for (const auto& word : words) {\n",
    "        std::cout << word << std::endl;\n",
    "    }\n",
    "\n",
    "    return 0;\n",
    "}\n"
   ]
  },
  {
   "cell_type": "code",
   "execution_count": null,
   "id": "14fb4dfd-6eed-45af-a067-03434d0bbdff",
   "metadata": {},
   "outputs": [],
   "source": [
    "!g++ -arch arm64 -std=c++11 -o myprogram2 work.cpp -I/opt/homebrew/opt/boost/include -L/opt/homebrew/opt/boost/lib -lboost_system\n"
   ]
  },
  {
   "cell_type": "code",
   "execution_count": null,
   "id": "a8aa1c31-fb45-4b75-a660-814842a0292d",
   "metadata": {},
   "outputs": [],
   "source": [
    "!g++ -o myprogram3.so work.cpp -I/opt/homebrew/opt/boost/include -L/opt/homebrew/opt/boost/lib -lboost_system -arch arm64 -std=c++11\n"
   ]
  },
  {
   "cell_type": "code",
   "execution_count": null,
   "id": "9dca318a-0515-417a-a17a-ff3b6c85cd5a",
   "metadata": {},
   "outputs": [],
   "source": [
    "-shared：告诉编译器生成一个共享库，而不是一个可执行文件。共享库通常用于动态链接和模块化编程。"
   ]
  },
  {
   "cell_type": "code",
   "execution_count": null,
   "id": "cde110de-a794-4971-8fdc-427ce7007388",
   "metadata": {},
   "outputs": [],
   "source": [
    "-fPIC：生成位置无关的代码（Position Independent Code）。这意味着编译生成的代码可以在内存中的任何位置加载并执行，而不需要修改代码。对于共享库来说，这是必要的，因为共享库可能会被加载到不同的内存地址。"
   ]
  },
  {
   "cell_type": "code",
   "execution_count": null,
   "id": "7a842b40-18e5-46cb-b00d-b02b75713bc2",
   "metadata": {},
   "outputs": [],
   "source": [
    "-I/opt/homebrew/opt/boost/include：指定 Boost 库的头文件目录。这告诉编译器在哪里查找 Boost 库的头文件。\n",
    "-L/opt/homebrew/opt/boost/lib：指定 Boost 库的库文件目录。这告诉链接器在哪里查找 Boost 库的静态或共享库文件。\n",
    "-lboost_system：链接 Boost 的系统库（libboost_system）。这个选项会将 Boost 的系统库链接到生成的共享库中。"
   ]
  },
  {
   "cell_type": "code",
   "execution_count": null,
   "id": "846a49f9-62c1-4d0f-9a0f-8f2b7562ba4c",
   "metadata": {},
   "outputs": [],
   "source": [
    "-arch arm64：指定目标架构为 ARM64。这通常用于在 Apple Silicon（M1、M2 等）设备上编译代码。\n",
    "-std=c++11：指定使用 C++11 标准进行编译。这意味着编译器将支持 C++11 的语言特性。"
   ]
  },
  {
   "cell_type": "code",
   "execution_count": null,
   "id": "b8995e8f-38fe-42fd-999b-d758dd85b4eb",
   "metadata": {},
   "outputs": [],
   "source": []
  },
  {
   "cell_type": "code",
   "execution_count": null,
   "id": "e23aebe5-357a-4ef2-b61c-5df42cd63c74",
   "metadata": {},
   "outputs": [],
   "source": []
  },
  {
   "cell_type": "code",
   "execution_count": null,
   "id": "66c7c231-dce1-4c58-b6c9-a4c9ebece56b",
   "metadata": {},
   "outputs": [],
   "source": []
  },
  {
   "cell_type": "code",
   "execution_count": null,
   "id": "1649c39d-1676-4ac1-8331-8841ebf84370",
   "metadata": {},
   "outputs": [],
   "source": []
  },
  {
   "cell_type": "code",
   "execution_count": null,
   "id": "de089896-7562-4c03-b327-78dd13890770",
   "metadata": {},
   "outputs": [],
   "source": []
  },
  {
   "cell_type": "code",
   "execution_count": 177,
   "id": "66f86bf2-4a59-4828-baed-28541ebebde2",
   "metadata": {
    "tags": []
   },
   "outputs": [
    {
     "name": "stdout",
     "output_type": "stream",
     "text": [
      "myprogram3.so: Mach-O 64-bit executable arm64\n"
     ]
    }
   ],
   "source": [
    "!file myprogram3.so"
   ]
  },
  {
   "cell_type": "code",
   "execution_count": 176,
   "id": "ca6e9eee-ddba-4d37-84b2-8eb13565a719",
   "metadata": {},
   "outputs": [
    {
     "name": "stdout",
     "output_type": "stream",
     "text": [
      "The sentence split into words:\n",
      "Boost\n",
      "Libraries\n",
      "are\n",
      "awesome!\n"
     ]
    }
   ],
   "source": [
    "!./myprogram3.so"
   ]
  },
  {
   "cell_type": "code",
   "execution_count": null,
   "id": "576d649b-04e4-4fac-af2a-896928392ef3",
   "metadata": {},
   "outputs": [],
   "source": []
  },
  {
   "cell_type": "code",
   "execution_count": null,
   "id": "9a16ab26-bada-412f-a3a7-cb323829dcee",
   "metadata": {},
   "outputs": [],
   "source": []
  },
  {
   "cell_type": "markdown",
   "id": "405a94c4-1ec0-43ce-a64e-69249da70bdf",
   "metadata": {},
   "source": [
    "这个示例展示了如何使用 Boost 库中的字符串处理功能。根据你的项目需求，你可以使用 Boost 提供的许多其他功能模块，如文件系统操作、多线程、序列化等。每个模块可能需要不同的链接选项，但使用方法类似。"
   ]
  },
  {
   "cell_type": "code",
   "execution_count": null,
   "id": "c43944fd-2163-4838-bf42-2dc9f8db29bc",
   "metadata": {},
   "outputs": [],
   "source": []
  },
  {
   "cell_type": "code",
   "execution_count": null,
   "id": "5a951616-0ed5-4c63-b4c3-0808e55eb746",
   "metadata": {},
   "outputs": [],
   "source": []
  },
  {
   "cell_type": "code",
   "execution_count": null,
   "id": "6cd24ee8-90b7-4d1e-8899-c1c234df4c05",
   "metadata": {},
   "outputs": [],
   "source": []
  },
  {
   "cell_type": "code",
   "execution_count": 178,
   "id": "18943fb0-bb63-4f4f-9880-1252f1edbfd1",
   "metadata": {},
   "outputs": [],
   "source": [
    "from zxftools_dev.project_new.tools import Tools"
   ]
  },
  {
   "cell_type": "code",
   "execution_count": null,
   "id": "f2c6257e-0e65-40d4-b53b-df588ab92771",
   "metadata": {},
   "outputs": [],
   "source": []
  },
  {
   "cell_type": "code",
   "execution_count": 179,
   "id": "2317e864-c9d2-4dc6-a3fc-1a0661066207",
   "metadata": {
    "tags": []
   },
   "outputs": [
    {
     "data": {
      "text/plain": [
       "\u001b[0;31mSignature:\u001b[0m \u001b[0mTools\u001b[0m\u001b[0;34m.\u001b[0m\u001b[0mimportc\u001b[0m\u001b[0;34m(\u001b[0m\u001b[0mmodule\u001b[0m\u001b[0;34m=\u001b[0m\u001b[0;34m'ccc'\u001b[0m\u001b[0;34m)\u001b[0m\u001b[0;34m\u001b[0m\u001b[0;34m\u001b[0m\u001b[0m\n",
       "\u001b[0;31mDocstring:\u001b[0m <no docstring>\n",
       "\u001b[0;31mFile:\u001b[0m      ~/GitHub/zxftools_dev/zxftools_dev/project_new/tools.py\n",
       "\u001b[0;31mType:\u001b[0m      function"
      ]
     },
     "metadata": {},
     "output_type": "display_data"
    }
   ],
   "source": [
    "Tools.importc??"
   ]
  },
  {
   "cell_type": "code",
   "execution_count": null,
   "id": "33edbe2e-35b6-4c30-b542-b8590f9b2b0c",
   "metadata": {},
   "outputs": [],
   "source": []
  },
  {
   "cell_type": "code",
   "execution_count": null,
   "id": "42a7108e-1cfb-41ca-8fe9-25d273fc9063",
   "metadata": {},
   "outputs": [],
   "source": []
  },
  {
   "cell_type": "code",
   "execution_count": null,
   "id": "f9d50e1a-f04c-40e6-a46a-e620d9a4d4aa",
   "metadata": {},
   "outputs": [],
   "source": []
  },
  {
   "cell_type": "code",
   "execution_count": 1,
   "id": "42560285-1d0d-4d02-a90c-6ec933b01b9b",
   "metadata": {
    "tags": []
   },
   "outputs": [],
   "source": [
    "# 做一个CPP 的编译器"
   ]
  },
  {
   "cell_type": "code",
   "execution_count": 2,
   "id": "8f92a26a-e085-457b-a8e1-ed8b120c8ee6",
   "metadata": {
    "tags": []
   },
   "outputs": [
    {
     "name": "stdout",
     "output_type": "stream",
     "text": [
      "env: clib_path=xxx\n"
     ]
    }
   ],
   "source": [
    "%env clib_path = xxx"
   ]
  },
  {
   "cell_type": "code",
   "execution_count": null,
   "id": "3c9ecc3d-98b4-4999-b8f2-321f1791e515",
   "metadata": {},
   "outputs": [],
   "source": []
  },
  {
   "cell_type": "code",
   "execution_count": 5,
   "id": "f8171490-2a64-46d7-8da5-cade62977b59",
   "metadata": {
    "tags": []
   },
   "outputs": [
    {
     "name": "stderr",
     "output_type": "stream",
     "text": [
      "accc.cpp:8:10: warning: expression result unused [-Wunused-value]\n",
      "    for (n;n>0;n--) {\n",
      "         ^\n",
      "1 warning generated.\n"
     ]
    }
   ],
   "source": [
    "%%writefilecpp accc.cpp\n",
    "int adds(int n){\n",
    "    int k =0;\n",
    "    int i = 0;\n",
    "    for (n;n>0;n--) {\n",
    "        k+=i;\n",
    "        i+=1;\n",
    "    }\n",
    "    return k;\n",
    "}\n",
    "\n",
    "int add(int n,int m){\n",
    "    return n + m;\n",
    "}"
   ]
  },
  {
   "cell_type": "code",
   "execution_count": 9,
   "id": "20afe2ab-4785-4386-bdd9-6eca84fb01d0",
   "metadata": {
    "tags": []
   },
   "outputs": [],
   "source": [
    "accc = importc('accc')"
   ]
  },
  {
   "cell_type": "code",
   "execution_count": 11,
   "id": "5c51960d-96e7-43c0-8e57-2080801229e1",
   "metadata": {
    "tags": []
   },
   "outputs": [
    {
     "data": {
      "text/plain": [
       "25"
      ]
     },
     "execution_count": 11,
     "metadata": {},
     "output_type": "execute_result"
    }
   ],
   "source": [
    "accc.add(20,5)"
   ]
  }
 ],
 "metadata": {
  "kernelspec": {
   "display_name": "Python 3 (ipykernel)",
   "language": "python",
   "name": "python3"
  },
  "language_info": {
   "codemirror_mode": {
    "name": "ipython",
    "version": 3
   },
   "file_extension": ".py",
   "mimetype": "text/x-python",
   "name": "python",
   "nbconvert_exporter": "python",
   "pygments_lexer": "ipython3",
   "version": "3.10.14"
  }
 },
 "nbformat": 4,
 "nbformat_minor": 5
}
