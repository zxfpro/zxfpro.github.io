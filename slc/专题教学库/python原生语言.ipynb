{
 "cells": [
  {
   "cell_type": "markdown",
   "id": "61c6d218-32e0-4c67-9c8d-61d47183aac9",
   "metadata": {},
   "source": [
    "# Python 原生语言"
   ]
  },
  {
   "cell_type": "markdown",
   "id": "d43772c4-46f0-43e2-98f9-d30a1cba4296",
   "metadata": {},
   "source": [
    "## 包验证"
   ]
  },
  {
   "cell_type": "code",
   "execution_count": null,
   "id": "b7540841-2d9a-4b51-af54-899910fe805d",
   "metadata": {},
   "outputs": [],
   "source": [
    "import re\n",
    "import pkg_resources\n",
    "\n",
    "def check_package(hard_dependencies, check=True):\n",
    "    if check:\n",
    "        missing_dependencies = []\n",
    "        # 正则表达式匹配包名和版本号\n",
    "        pattern = r'([a-zA-Z0-9_]+)([<>=!]+)([\\d\\.]+)'\n",
    "\n",
    "        for dependency in hard_dependencies:\n",
    "            match = re.match(pattern, dependency)\n",
    "            if match:\n",
    "                module_name, version_operator, module_version = match.groups()\n",
    "                try:\n",
    "                    # 获取已安装包的版本\n",
    "                    installed_version = pkg_resources.get_distribution(module_name).version\n",
    "                    # 比较版本号\n",
    "                    if not pkg_resources.working_set.by_key[module_name].parsed_version in pkg_resources.Requirement.parse(f\"{module_name}{version_operator}{module_version}\"):\n",
    "                        missing_dependencies.append(f\"{module_name}: the package need version {version_operator}{module_version}, now version is {installed_version}\")\n",
    "                except pkg_resources.DistributionNotFound:\n",
    "                    missing_dependencies.append(f\"{module_name}: package not found\")\n",
    "                except pkg_resources.VersionConflict as e:\n",
    "                    missing_dependencies.append(f\"{module_name}: {e}\")\n",
    "\n",
    "        if missing_dependencies:\n",
    "            raise ImportError(\n",
    "                \"Unable to import required dependencies:\\n\" + \"\\n\".join(missing_dependencies)\n",
    "            )\n",
    "        del hard_dependencies, dependency, missing_dependencies\n",
    "\n",
    "def check_all(mobile):\n",
    "    for i in mobile.__all__:\n",
    "        try:\n",
    "            assert i not in __all__\n",
    "            __all__.append(i)\n",
    "        except:\n",
    "            raise Exception(f'{i}命名重复')"
   ]
  },
  {
   "cell_type": "markdown",
   "id": "8b54a84b-49c6-4c5e-9dd7-42aeb07048cf",
   "metadata": {},
   "source": [
    "## colab工具"
   ]
  },
  {
   "cell_type": "code",
   "execution_count": null,
   "id": "2d37a5b1-0365-44d1-943f-b8047262df30",
   "metadata": {},
   "outputs": [],
   "source": [
    "#@title 1. Keep this tab alive to prevent Colab from disconnecting you { display-mode: \"form\" }\n",
    "\n",
    "#@markdown Press play on the music player that will appear below:\n",
    "\n",
    "%%html\n",
    "\n",
    "<audio src=\"https://oobabooga.github.io/silence.m4a\" controls> 用来防止发生断裂"
   ]
  },
  {
   "cell_type": "code",
   "execution_count": null,
   "id": "8c53848c-efe2-4237-99f2-7322fc0a3cb3",
   "metadata": {},
   "outputs": [],
   "source": []
  },
  {
   "cell_type": "markdown",
   "id": "601939ea-c792-49c8-bcb5-889e8f69efcd",
   "metadata": {},
   "source": [
    "## python 模式\n"
   ]
  },
  {
   "cell_type": "code",
   "execution_count": 11,
   "id": "773f2895-13e5-4cee-819b-d995c8af2e89",
   "metadata": {
    "tags": []
   },
   "outputs": [
    {
     "name": "stdout",
     "output_type": "stream",
     "text": [
      "phyger\n",
      "16\n"
     ]
    }
   ],
   "source": [
    "\n",
    "# 限制添加的属性：\n",
    "\n",
    "# 如果你希望类或对象只有特定属性，可以使用 __slots__ 来限制属性的添加：\n",
    "\n",
    "class Student:\n",
    "    __slots__ = ('name', 'age', 'score')\n",
    "    def __init__(self, name, age):\n",
    "        self.name = name\n",
    "        self.age = age\n",
    "\n",
    "st = Student('phyger', 16)\n",
    "\n",
    "print(st.name)# 输出：'phyger'\n",
    "\n",
    "print(st.age)# 输出：16\n",
    "\n",
    "st.score = 100# 无法添加 'score' 属性\n",
    "\n",
    "  "
   ]
  },
  {
   "cell_type": "code",
   "execution_count": null,
   "id": "adec7139-a3c5-4b9d-805f-dc326c6852de",
   "metadata": {},
   "outputs": [],
   "source": [
    "import re\n",
    "class Infos:\n",
    "    def __init__(self, key,value):\n",
    "        self.key = key\n",
    "        self.value = value\n",
    "    \n",
    "    def transform_key(self,key):\n",
    "        # 使用正则表达式匹配并替换\n",
    "        new_key = re.sub(r'(\\w+)\\[\\d+\\]', r'\\1_list', key)\n",
    "        return new_key\n",
    "\n",
    "    def __eq__(self, other):\n",
    "        # 自定义相等\n",
    "        if isinstance(other, MyClass):\n",
    "            key = self.transform_key(self.key)\n",
    "            other_key = self.transform_key(other.key)\n",
    "\n",
    "            return (key == other_key) and (type(self.value)==type(other.value))\n",
    "        return False\n",
    "    \n",
    "    def __hash__(self):\n",
    "        # 修改 set 中的值 {}\n",
    "        return hash(self.transform_key(self.key) + str(type(self.value)))\n",
    "\n"
   ]
  },
  {
   "cell_type": "code",
   "execution_count": null,
   "id": "119b1aae-a72a-4398-b73a-a46ef80005a8",
   "metadata": {},
   "outputs": [],
   "source": []
  },
  {
   "cell_type": "code",
   "execution_count": null,
   "id": "70b00ef5-aee1-4c1f-87b3-0d6cda3f856a",
   "metadata": {},
   "outputs": [],
   "source": []
  },
  {
   "cell_type": "code",
   "execution_count": null,
   "id": "eac195f9-df32-459d-a2dc-6e67d761ab6f",
   "metadata": {},
   "outputs": [],
   "source": []
  },
  {
   "cell_type": "code",
   "execution_count": null,
   "id": "62d983d1-92c5-49bf-a21b-eca811b4186a",
   "metadata": {},
   "outputs": [],
   "source": [
    "## 类属性"
   ]
  },
  {
   "cell_type": "code",
   "execution_count": 87,
   "id": "1acf3435-4dfd-4cec-8b6b-bcf4732f86f8",
   "metadata": {
    "tags": []
   },
   "outputs": [],
   "source": [
    "class A():\n",
    "    cc = 123"
   ]
  },
  {
   "cell_type": "code",
   "execution_count": 88,
   "id": "bbde9c46-646f-4be4-8935-7211301d67c0",
   "metadata": {
    "tags": []
   },
   "outputs": [],
   "source": [
    "class B(A):\n",
    "    def trans(self,x):\n",
    "        A.cc = x"
   ]
  },
  {
   "cell_type": "code",
   "execution_count": 89,
   "id": "85d3b86d-199b-4a04-8ace-2e0cbc155386",
   "metadata": {
    "tags": []
   },
   "outputs": [],
   "source": [
    "d = B()"
   ]
  },
  {
   "cell_type": "code",
   "execution_count": 90,
   "id": "1583672f-6563-4e5d-8a30-a9e955044ee0",
   "metadata": {
    "tags": []
   },
   "outputs": [],
   "source": [
    "e = B()"
   ]
  },
  {
   "cell_type": "code",
   "execution_count": null,
   "id": "51c694f3-117f-4155-9d12-4f432010801f",
   "metadata": {},
   "outputs": [],
   "source": []
  },
  {
   "cell_type": "code",
   "execution_count": 91,
   "id": "12550ba7-1efb-440a-8a11-226d8de9b5dd",
   "metadata": {
    "tags": []
   },
   "outputs": [
    {
     "data": {
      "text/plain": [
       "123"
      ]
     },
     "execution_count": 91,
     "metadata": {},
     "output_type": "execute_result"
    }
   ],
   "source": [
    "d.cc"
   ]
  },
  {
   "cell_type": "code",
   "execution_count": 92,
   "id": "8709ce71-1406-4754-b7b3-679fe763a0c2",
   "metadata": {
    "tags": []
   },
   "outputs": [
    {
     "data": {
      "text/plain": [
       "123"
      ]
     },
     "execution_count": 92,
     "metadata": {},
     "output_type": "execute_result"
    }
   ],
   "source": [
    "e.cc"
   ]
  },
  {
   "cell_type": "code",
   "execution_count": 93,
   "id": "9f1ffbf4-e831-4465-abe1-43cb6c005288",
   "metadata": {
    "tags": []
   },
   "outputs": [],
   "source": [
    "d.trans(23455)"
   ]
  },
  {
   "cell_type": "code",
   "execution_count": 94,
   "id": "b734e326-8354-4981-b77c-a2f0ecbfa5b4",
   "metadata": {
    "tags": []
   },
   "outputs": [
    {
     "data": {
      "text/plain": [
       "23455"
      ]
     },
     "execution_count": 94,
     "metadata": {},
     "output_type": "execute_result"
    }
   ],
   "source": [
    "d.cc"
   ]
  },
  {
   "cell_type": "code",
   "execution_count": 95,
   "id": "e8e507d0-bb61-4ed9-a462-c887339aad4c",
   "metadata": {
    "tags": []
   },
   "outputs": [
    {
     "data": {
      "text/plain": [
       "23455"
      ]
     },
     "execution_count": 95,
     "metadata": {},
     "output_type": "execute_result"
    }
   ],
   "source": [
    "e.cc"
   ]
  },
  {
   "cell_type": "code",
   "execution_count": null,
   "id": "357c4732-9612-47fe-a97e-528a9bca4b26",
   "metadata": {},
   "outputs": [],
   "source": []
  },
  {
   "cell_type": "code",
   "execution_count": null,
   "id": "a2d43174-a2f4-4098-89db-c9072e10b891",
   "metadata": {},
   "outputs": [],
   "source": []
  },
  {
   "cell_type": "markdown",
   "id": "264673ab-9895-473f-a11d-c24541aa8df5",
   "metadata": {},
   "source": [
    "## 修改线程名"
   ]
  },
  {
   "cell_type": "code",
   "execution_count": null,
   "id": "80158b2f-6522-4554-8710-bf6f12c3ccc3",
   "metadata": {},
   "outputs": [],
   "source": [
    "def setproctit(name=\"my_process\"):\n",
    "    import setproctitle\n",
    "    # 设置进程名称为 my_process\n",
    "    setproctitle.setproctitle(name)\n",
    "    # 以下是你的其他代码"
   ]
  },
  {
   "cell_type": "markdown",
   "id": "d1e404fa-64bd-44b9-867d-f7f42c5186bb",
   "metadata": {},
   "source": [
    "## cp 但是不包含隐藏文件"
   ]
  },
  {
   "cell_type": "code",
   "execution_count": 31,
   "id": "75078db8-7330-48a1-a9bd-aebcef4b00e5",
   "metadata": {
    "tags": []
   },
   "outputs": [],
   "source": [
    "import shutil\n",
    "from pathlib import Path\n",
    "\n",
    "def ignore_hidden_files(directory, files):\n",
    "    return [f for f in files if f.startswith('.')]\n",
    "\n",
    "def copy_tree(src_dir, dest_dir):\n",
    "\n",
    "    src_dir_name = [i for i in src_dir.rsplit('/') if i !=''][-1]\n",
    "    dest_dir = os.path.join(dest_dir,src_dir_name)\n",
    "    print(dest_dir)\n",
    "    src_path = Path(src_dir)\n",
    "    dest_path = Path(dest_dir)\n",
    "    \n",
    "    # 确保目标目录存在\n",
    "    if not dest_path.exists():\n",
    "        dest_path.mkdir(parents=True, exist_ok=True)\n",
    "    \n",
    "    # 使用 copytree 复制目录，忽略隐藏文件\n",
    "    shutil.copytree(src_path, dest_path, ignore=ignore_hidden_files, dirs_exist_ok=True)\n",
    "    print(f'Successfully copied {src_dir} to {dest_dir}')\n",
    "\n",
    "\n",
    "#copy_tree('/Users/zhaoxuefeng/GitHub/zxftools/','.')"
   ]
  },
  {
   "cell_type": "code",
   "execution_count": null,
   "id": "351303d2-63eb-46e8-bea6-f31272bc54bf",
   "metadata": {},
   "outputs": [],
   "source": [
    "## 需要改进 可能覆盖文件\n",
    "import os\n",
    "\n",
    "def rename_images_to_numbers(folder_path):\n",
    "    \"\"\"\n",
    "    将指定文件夹中的所有图片文件按数字顺序重命名。\n",
    "\n",
    "    参数:\n",
    "    folder_path (str): 图片文件夹的路径\n",
    "    \"\"\"\n",
    "    # 获取文件夹中的所有文件路径\n",
    "    files = os.listdir(folder_path)\n",
    "    \n",
    "    # 过滤出图片文件（这里假设图片文件的扩展名为 jpg, jpeg, png, gif 等）\n",
    "    image_extensions = ['jpg', 'jpeg', 'png', 'gif', 'bmp', 'tiff']\n",
    "    image_files = [f for f in files if f.split('.')[-1].lower() in image_extensions]\n",
    "\n",
    "    # 排序图片文件\n",
    "    image_files.sort()\n",
    "\n",
    "    # 重命名文件\n",
    "    for i, filename in enumerate(image_files):\n",
    "        # 获取文件扩展名\n",
    "        ext = filename.split('.')[-1]\n",
    "        # 生成新的文件名\n",
    "        new_filename = f\"{i+1}.{ext}\"\n",
    "        # 获取文件的完整路径\n",
    "        src = os.path.join(folder_path, filename)\n",
    "        dst = os.path.join(folder_path, new_filename)\n",
    "        # 重命名文件\n",
    "        os.rename(src, dst)\n",
    "        print(f\"Renamed {src} to {dst}\")\n",
    "\n",
    "# # 示例用法\n",
    "# folder_path = 'work记录/'\n",
    "# rename_images_to_numbers(folder_path)\n"
   ]
  },
  {
   "cell_type": "code",
   "execution_count": null,
   "id": "748c5b60-38c3-4521-829c-df40516d853b",
   "metadata": {},
   "outputs": [],
   "source": []
  },
  {
   "cell_type": "code",
   "execution_count": null,
   "id": "d66a6449-6b7e-432a-bd80-70bca6dee97c",
   "metadata": {},
   "outputs": [],
   "source": [
    "## 反射 自动构建函数实例化\n"
   ]
  },
  {
   "cell_type": "code",
   "execution_count": null,
   "id": "5b205796-4003-4260-99c9-50b19146e35b",
   "metadata": {},
   "outputs": [],
   "source": [
    "\n",
    "让我们详细解释一下：\n",
    "1类和实例方法: 在一个类中，self 参数是实例自身的引用，用于在类的实例方法中访问实例的属性和其他方法。\n",
    "2 call 方法: 如果一个类定义了 call 方法，那么这个类的实例就可以像函数一样被调用。当你调用 self(a, b) 时，实际上是调用了这个实例的 call 方法，并将参数 a 和 b 传递给它。\n"
   ]
  },
  {
   "cell_type": "code",
   "execution_count": null,
   "id": "24da149a-129f-4597-b5a3-b6708b89d53d",
   "metadata": {},
   "outputs": [],
   "source": [
    "sudo apt-get install -y portaudio19-dev\n"
   ]
  },
  {
   "cell_type": "code",
   "execution_count": null,
   "id": "c5997a6c-a26f-4275-8cee-86f47a6858ec",
   "metadata": {},
   "outputs": [],
   "source": []
  },
  {
   "cell_type": "code",
   "execution_count": null,
   "id": "e64445d1-1402-4d67-85e1-0319e6df3200",
   "metadata": {},
   "outputs": [],
   "source": [
    "\n",
    "class MonitorError(Exception):\n",
    "    def __init__(self, message):\n",
    "        self.message = message\n",
    "        super().__init__(self.message)"
   ]
  },
  {
   "cell_type": "markdown",
   "id": "191da440-901c-4e27-8cdd-4e8b282a354f",
   "metadata": {},
   "source": [
    "# Demo"
   ]
  },
  {
   "cell_type": "markdown",
   "id": "ac1a859c-3ed4-4998-8006-e633934be9e0",
   "metadata": {
    "tags": []
   },
   "source": [
    "## 如何使用fire 工具"
   ]
  },
  {
   "cell_type": "code",
   "execution_count": null,
   "id": "29aff0ca-7370-47cd-b6bb-8302c64f5169",
   "metadata": {},
   "outputs": [],
   "source": [
    "import fire\n",
    "from .prompts import fix\n",
    "import os\n",
    "from zxftools.llms import get_llm\n",
    "\n",
    "def ai_fix(file_path=''):\n",
    "    assert os.path.isfile(file_path)\n",
    "    llm = get_llm(model=os.environ.get('aigen_llm') or 'gpt-3.5-turbo-0613')\n",
    "\n",
    "    with open(file_path,'r') as f:\n",
    "        code = f.read()\n",
    "    result = llm.complete(fix.format(code=code))\n",
    "\n",
    "    with open(file_path,'w') as f:\n",
    "        f.write(result.text)\n",
    "\n",
    "if __name__ == '__main__':\n",
    "    fire.Fire(ai_fix)\n",
    "\n"
   ]
  },
  {
   "cell_type": "markdown",
   "id": "8e9ffd3e-dd76-4323-9b01-38870729d54a",
   "metadata": {},
   "source": [
    "## 编写一个装饰器"
   ]
  },
  {
   "cell_type": "code",
   "execution_count": null,
   "id": "ee11f7ae-a3aa-421f-91ba-234ab8a01dfa",
   "metadata": {},
   "outputs": [],
   "source": [
    "import functools\n",
    "\n",
    "def decorator(a = None):\n",
    "    \"\"\"\n",
    "    一个装饰器的编写demo\n",
    "    \"\"\"\n",
    "    def outer_packing(func):\n",
    "        @functools.wraps(func)\n",
    "        def wrapper(*args, **kwargs):\n",
    "            result = func(*args, **kwargs)\n",
    "            print(a,'a')\n",
    "            print(func.__name__)  # 函数名\n",
    "            print(args)  # (1, 2)\n",
    "            print(kwargs)  # {'c': 3}\n",
    "            return result\n",
    "        return wrapper\n",
    "    return outer_packing\n",
    "\n",
    "hard_dependencies = ('time',)\n",
    "check_package(hard_dependencies=hard_dependencies,check=False)\n",
    "\n"
   ]
  },
  {
   "cell_type": "code",
   "execution_count": null,
   "id": "542fc651-c10b-48a7-9a3e-d6969365c1ab",
   "metadata": {},
   "outputs": [],
   "source": []
  },
  {
   "cell_type": "markdown",
   "id": "cb215952-dddc-4ca9-8e3d-b7f2452a3db1",
   "metadata": {},
   "source": [
    "## 如何将服务冒充为openai的服务"
   ]
  },
  {
   "cell_type": "code",
   "execution_count": null,
   "id": "f74934df-f247-4cca-9771-c244c1e21a08",
   "metadata": {},
   "outputs": [],
   "source": [
    "from openai import OpenAI\n",
    "import os\n",
    "client = OpenAI(base_url=\"https://api.bianxieai.com/v1\",\n",
    "                api_key=os.environ.get('bianxieai_API_KEY'))\n",
    "\n",
    "completion = client.chat.completions.create(\n",
    "  model=\"claude-3-5-sonnet-20240620\",\n",
    "  messages=[\n",
    "    {\"role\": \"system\", \"content\": \"You are a helpful assistant.\"},\n",
    "    {\"role\": \"user\", \"content\": \"Hello!\"}\n",
    "  ]\n",
    ")\n",
    "if __name__ == '__main__':\n",
    "    print(completion.choices[0].message)"
   ]
  },
  {
   "cell_type": "code",
   "execution_count": null,
   "id": "b62217e1-2170-4882-9e15-15853783ea9d",
   "metadata": {},
   "outputs": [],
   "source": []
  },
  {
   "cell_type": "code",
   "execution_count": null,
   "id": "9dc8879e-f932-418d-9aa1-a4b8f8249760",
   "metadata": {},
   "outputs": [],
   "source": [
    "import os\n",
    "from typing import Optional, List, Mapping, Any\n",
    "\n",
    "from llama_index.core.llms.callbacks import llm_completion_callback\n",
    "from llama_index.core.llms import (\n",
    "    CustomLLM,\n",
    "    CompletionResponse,\n",
    "    CompletionResponseGen,\n",
    "    LLMMetadata,\n",
    ")\n",
    "\n",
    "from openai import OpenAI\n",
    "\n",
    "class BianXieLLM(CustomLLM):\n",
    "    context_window: int = 3900\n",
    "    num_output: int = 256\n",
    "    model: str = ''\n",
    "    temperature: int = 0.2\n",
    "    top_p: float = 0.9\n",
    "    top_k: int = 50\n",
    "    penalty_score: float = 1.0\n",
    "    stop = []\n",
    "\n",
    "    def __init__(self, temperature=0.2, model='claude-3-5-sonnet-20240620',api_key=None):\n",
    "        super().__init__()\n",
    "        object.__setattr__(self, 'custom_openai_client',OpenAI(base_url=\"https://api.bianxieai.com/v1\",\n",
    "                api_key=api_key or os.environ.get('bianxieai_API_KEY'))\n",
    " )\n",
    "        self.model = model\n",
    "        self.temperature = temperature\n",
    "\n",
    "    @property\n",
    "    def metadata(self) -> LLMMetadata:\n",
    "        return LLMMetadata(\n",
    "            context_window=self.context_window,\n",
    "            num_output=self.num_output,\n",
    "            model_name=self.model,\n",
    "        )\n",
    "\n",
    "    @llm_completion_callback()\n",
    "    def complete(self, prompt: str, **kwargs: Any) -> CompletionResponse:\n",
    "        completion = self.custom_openai_client.chat.completions.create(\n",
    "              model=self.model,\n",
    "              temperature = self.temperature,\n",
    "              messages=[{\"role\": \"user\", \"content\": prompt}],\n",
    "              **kwargs\n",
    "            )\n",
    "        return CompletionResponse(text=completion.choices[0].message.content)\n",
    "\n",
    "    @llm_completion_callback()\n",
    "    def stream_complete(self, prompt: str, **kwargs: Any) -> CompletionResponseGen:\n",
    "        completion = self.custom_openai_client.chat.completions.create(\n",
    "              model=self.model,\n",
    "              temperature = self.temperature,\n",
    "              messages=[{\"role\": \"user\", \"content\": prompt}],\n",
    "              **kwargs\n",
    "            )\n",
    "        #return CompletionResponse(text=completion.choices[0].message.content)\n",
    "        response_generate = [1,2,3]\n",
    "        response = \"\"\n",
    "        for token in response_generate:\n",
    "            response += token\n",
    "            yield CompletionResponse(text=response, delta=token)\n"
   ]
  },
  {
   "cell_type": "code",
   "execution_count": null,
   "id": "65c9f620-91fc-4ab3-9a52-1f927ef2ecb4",
   "metadata": {},
   "outputs": [],
   "source": []
  },
  {
   "cell_type": "code",
   "execution_count": null,
   "id": "786e5ca1-7daf-4d4f-ac82-4a79f6b27d7e",
   "metadata": {},
   "outputs": [],
   "source": []
  },
  {
   "cell_type": "code",
   "execution_count": null,
   "id": "380bc13f-74a8-4598-9ae3-052b629d26d7",
   "metadata": {},
   "outputs": [],
   "source": [
    "    @staticmethod\n",
    "    def thread_list(f, params: types.GeneratorType or list, processes=4, chunksize: int = 1):\n",
    "        \"\"\"\n",
    "        1 必须到 if __name__ == '__main__': 下执行\n",
    "        \"\"\"\n",
    "        pool = Pool(processes)\n",
    "        if isinstance(params, types.GeneratorType):\n",
    "            results = pool.imap(f, params, chunksize=chunksize)\n",
    "        else:\n",
    "            results = pool.map(f, params, chunksize=chunksize)\n",
    "        pool.close()\n",
    "        return results"
   ]
  },
  {
   "cell_type": "code",
   "execution_count": null,
   "id": "0b8dbe02-c41a-4d32-9c17-6396da4221f4",
   "metadata": {},
   "outputs": [],
   "source": []
  },
  {
   "cell_type": "code",
   "execution_count": null,
   "id": "77859b33-acce-40c9-85e2-4704c80c05ee",
   "metadata": {},
   "outputs": [],
   "source": []
  },
  {
   "cell_type": "markdown",
   "id": "cc6eea74-21eb-406b-a35d-77bae3779ac9",
   "metadata": {},
   "source": [
    "## re"
   ]
  },
  {
   "cell_type": "code",
   "execution_count": null,
   "id": "a7c8c0b8-77c0-4787-a59a-b908d3ff3d0f",
   "metadata": {},
   "outputs": [],
   "source": [
    "import re\n",
    "code_match = re.search(r'### 3. Function\\n\\n```python(.*?)```',python_code,flags = re.DOTALL)"
   ]
  },
  {
   "cell_type": "code",
   "execution_count": null,
   "id": "2a33f8f7-9880-4b79-bdc5-53affedef890",
   "metadata": {},
   "outputs": [],
   "source": []
  },
  {
   "cell_type": "markdown",
   "id": "c02c2741-7064-433d-8cfa-6de4d8981343",
   "metadata": {},
   "source": [
    "# Asyncio 异步函数的使用"
   ]
  },
  {
   "cell_type": "markdown",
   "id": "c87dc94d-70ed-4cb0-9fca-93656e706c08",
   "metadata": {},
   "source": [
    "## TODO"
   ]
  },
  {
   "cell_type": "code",
   "execution_count": 1,
   "id": "59aa4867-3e5b-4117-af32-197d82e4a614",
   "metadata": {
    "tags": []
   },
   "outputs": [],
   "source": [
    "import pandas as pd"
   ]
  },
  {
   "cell_type": "code",
   "execution_count": null,
   "id": "20d18ac2-f4b8-46cc-96f1-4f3e57741d52",
   "metadata": {},
   "outputs": [],
   "source": [
    "\n",
    "class AsyncHelper():\n",
    "    def run(self,func,type=1):\n",
    "        if type == 1:\n",
    "            loop = asyncio.get_event_loop()\n",
    "            loop.run_until_complete(func)\n",
    "        else:\n",
    "\n",
    "            asyncio.run(func)\n",
    "\n"
   ]
  },
  {
   "cell_type": "code",
   "execution_count": null,
   "id": "699aa88a-4287-4911-9c43-920a7709c727",
   "metadata": {},
   "outputs": [],
   "source": []
  },
  {
   "cell_type": "markdown",
   "id": "d3b4a786-34a3-4f45-9b76-59162762e5a0",
   "metadata": {
    "tags": []
   },
   "source": [
    "### 编写一个协程函数"
   ]
  },
  {
   "cell_type": "code",
   "execution_count": 3,
   "id": "bccd343c-535e-472e-a074-ace183133f6f",
   "metadata": {},
   "outputs": [],
   "source": [
    "async def do_some_work(x):\n",
    "    print('waiting',x)"
   ]
  },
  {
   "cell_type": "code",
   "execution_count": 4,
   "id": "31e29a09-0d0f-43a2-b00d-33cf82aa3cae",
   "metadata": {},
   "outputs": [],
   "source": [
    "async def do_some_work(x):\n",
    "    print('waiting',x)\n",
    "    return f'done after {x}'"
   ]
  },
  {
   "cell_type": "code",
   "execution_count": 5,
   "id": "a7eca92f-bdea-4db1-80ba-7d42d9cc5103",
   "metadata": {},
   "outputs": [],
   "source": [
    "coroutine = do_some_work(2)"
   ]
  },
  {
   "cell_type": "markdown",
   "id": "3fd06ac5-9654-4b01-a6eb-1146c690187a",
   "metadata": {
    "tags": []
   },
   "source": [
    "### 将一个协程函数运行起来"
   ]
  },
  {
   "cell_type": "code",
   "execution_count": 6,
   "id": "b3c00651-cd47-4c77-98cc-c699fe5fd580",
   "metadata": {},
   "outputs": [
    {
     "name": "stdout",
     "output_type": "stream",
     "text": [
      "waiting 2\n"
     ]
    },
    {
     "data": {
      "text/plain": [
       "'done after 2'"
      ]
     },
     "execution_count": 6,
     "metadata": {},
     "output_type": "execute_result"
    }
   ],
   "source": [
    "import asyncio\n",
    "\n",
    "loop = asyncio.get_event_loop()\n",
    "task = loop.create_task(coroutine)\n",
    "loop.run_until_complete(task)"
   ]
  },
  {
   "cell_type": "code",
   "execution_count": 7,
   "id": "df7a5600-4762-446b-abbb-e9af4e4163f5",
   "metadata": {
    "collapsed": true,
    "jupyter": {
     "outputs_hidden": true
    },
    "tags": []
   },
   "outputs": [
    {
     "ename": "RuntimeError",
     "evalue": "cannot reuse already awaited coroutine",
     "output_type": "error",
     "traceback": [
      "\u001b[0;31m---------------------------------------------------------------------------\u001b[0m",
      "\u001b[0;31mRuntimeError\u001b[0m                              Traceback (most recent call last)",
      "Cell \u001b[0;32mIn[7], line 2\u001b[0m\n\u001b[1;32m      1\u001b[0m loop \u001b[38;5;241m=\u001b[39m asyncio\u001b[38;5;241m.\u001b[39mget_event_loop()\n\u001b[0;32m----> 2\u001b[0m \u001b[43mloop\u001b[49m\u001b[38;5;241;43m.\u001b[39;49m\u001b[43mrun_until_complete\u001b[49m\u001b[43m(\u001b[49m\u001b[43mcoroutine\u001b[49m\u001b[43m)\u001b[49m\u001b[38;5;66;03m#协程对象 -> task对象(Future)\u001b[39;00m\n",
      "File \u001b[0;32m~/opt/miniconda3/envs/py310_new/lib/python3.10/site-packages/nest_asyncio.py:98\u001b[0m, in \u001b[0;36m_patch_loop.<locals>.run_until_complete\u001b[0;34m(self, future)\u001b[0m\n\u001b[1;32m     95\u001b[0m \u001b[38;5;28;01mif\u001b[39;00m \u001b[38;5;129;01mnot\u001b[39;00m f\u001b[38;5;241m.\u001b[39mdone():\n\u001b[1;32m     96\u001b[0m     \u001b[38;5;28;01mraise\u001b[39;00m \u001b[38;5;167;01mRuntimeError\u001b[39;00m(\n\u001b[1;32m     97\u001b[0m         \u001b[38;5;124m'\u001b[39m\u001b[38;5;124mEvent loop stopped before Future completed.\u001b[39m\u001b[38;5;124m'\u001b[39m)\n\u001b[0;32m---> 98\u001b[0m \u001b[38;5;28;01mreturn\u001b[39;00m \u001b[43mf\u001b[49m\u001b[38;5;241;43m.\u001b[39;49m\u001b[43mresult\u001b[49m\u001b[43m(\u001b[49m\u001b[43m)\u001b[49m\n",
      "File \u001b[0;32m~/opt/miniconda3/envs/py310_new/lib/python3.10/asyncio/futures.py:201\u001b[0m, in \u001b[0;36mFuture.result\u001b[0;34m(self)\u001b[0m\n\u001b[1;32m    199\u001b[0m \u001b[38;5;28mself\u001b[39m\u001b[38;5;241m.\u001b[39m__log_traceback \u001b[38;5;241m=\u001b[39m \u001b[38;5;28;01mFalse\u001b[39;00m\n\u001b[1;32m    200\u001b[0m \u001b[38;5;28;01mif\u001b[39;00m \u001b[38;5;28mself\u001b[39m\u001b[38;5;241m.\u001b[39m_exception \u001b[38;5;129;01mis\u001b[39;00m \u001b[38;5;129;01mnot\u001b[39;00m \u001b[38;5;28;01mNone\u001b[39;00m:\n\u001b[0;32m--> 201\u001b[0m     \u001b[38;5;28;01mraise\u001b[39;00m \u001b[38;5;28mself\u001b[39m\u001b[38;5;241m.\u001b[39m_exception\u001b[38;5;241m.\u001b[39mwith_traceback(\u001b[38;5;28mself\u001b[39m\u001b[38;5;241m.\u001b[39m_exception_tb)\n\u001b[1;32m    202\u001b[0m \u001b[38;5;28;01mreturn\u001b[39;00m \u001b[38;5;28mself\u001b[39m\u001b[38;5;241m.\u001b[39m_result\n",
      "File \u001b[0;32m~/opt/miniconda3/envs/py310_new/lib/python3.10/asyncio/tasks.py:232\u001b[0m, in \u001b[0;36mTask.__step\u001b[0;34m(***failed resolving arguments***)\u001b[0m\n\u001b[1;32m    228\u001b[0m \u001b[38;5;28;01mtry\u001b[39;00m:\n\u001b[1;32m    229\u001b[0m     \u001b[38;5;28;01mif\u001b[39;00m exc \u001b[38;5;129;01mis\u001b[39;00m \u001b[38;5;28;01mNone\u001b[39;00m:\n\u001b[1;32m    230\u001b[0m         \u001b[38;5;66;03m# We use the `send` method directly, because coroutines\u001b[39;00m\n\u001b[1;32m    231\u001b[0m         \u001b[38;5;66;03m# don't have `__iter__` and `__next__` methods.\u001b[39;00m\n\u001b[0;32m--> 232\u001b[0m         result \u001b[38;5;241m=\u001b[39m \u001b[43mcoro\u001b[49m\u001b[38;5;241;43m.\u001b[39;49m\u001b[43msend\u001b[49m\u001b[43m(\u001b[49m\u001b[38;5;28;43;01mNone\u001b[39;49;00m\u001b[43m)\u001b[49m\n\u001b[1;32m    233\u001b[0m     \u001b[38;5;28;01melse\u001b[39;00m:\n\u001b[1;32m    234\u001b[0m         result \u001b[38;5;241m=\u001b[39m coro\u001b[38;5;241m.\u001b[39mthrow(exc)\n",
      "\u001b[0;31mRuntimeError\u001b[0m: cannot reuse already awaited coroutine"
     ]
    }
   ],
   "source": [
    "loop = asyncio.get_event_loop()\n",
    "loop.run_until_complete(coroutine)#协程对象 -> task对象(Future)"
   ]
  },
  {
   "cell_type": "markdown",
   "id": "32dbd17c-b625-4875-b68f-3d234149c344",
   "metadata": {},
   "source": [
    "### 获得协程函数的返回值"
   ]
  },
  {
   "cell_type": "code",
   "execution_count": null,
   "id": "7e045003-15a6-40eb-ae5a-60d284daafcc",
   "metadata": {},
   "outputs": [],
   "source": [
    "def callback(future):\n",
    "    print('Callback',future.result())"
   ]
  },
  {
   "cell_type": "code",
   "execution_count": null,
   "id": "1b33431b-6e45-4346-937a-d7501db6a65d",
   "metadata": {},
   "outputs": [],
   "source": [
    "task.add_done_callback(callback)"
   ]
  },
  {
   "cell_type": "markdown",
   "id": "6973f585-548d-4475-a44e-ad3e5f3a2496",
   "metadata": {
    "tags": []
   },
   "source": [
    "#### 更多的回调函数参数"
   ]
  },
  {
   "cell_type": "code",
   "execution_count": 25,
   "id": "c9c12b85-fcef-45ce-9a01-4ce5bc015c58",
   "metadata": {
    "tags": []
   },
   "outputs": [
    {
     "ename": "NameError",
     "evalue": "name 'task' is not defined",
     "output_type": "error",
     "traceback": [
      "\u001b[0;31m---------------------------------------------------------------------------\u001b[0m",
      "\u001b[0;31mNameError\u001b[0m                                 Traceback (most recent call last)",
      "Cell \u001b[0;32mIn[25], line 4\u001b[0m\n\u001b[1;32m      1\u001b[0m \u001b[38;5;28;01mdef\u001b[39;00m \u001b[38;5;21mcallback\u001b[39m(t, future):\n\u001b[1;32m      2\u001b[0m     \u001b[38;5;28mprint\u001b[39m(\u001b[38;5;124m'\u001b[39m\u001b[38;5;124mCallback:\u001b[39m\u001b[38;5;124m'\u001b[39m, t, future\u001b[38;5;241m.\u001b[39mresult())\n\u001b[0;32m----> 4\u001b[0m \u001b[43mtask\u001b[49m\u001b[38;5;241m.\u001b[39madd_done_callback(functools\u001b[38;5;241m.\u001b[39mpartial(callback, \u001b[38;5;241m2\u001b[39m))\n",
      "\u001b[0;31mNameError\u001b[0m: name 'task' is not defined"
     ]
    }
   ],
   "source": [
    "def callback(t, future):\n",
    "    print('Callback:', t, future.result())\n",
    "\n",
    "task.add_done_callback(functools.partial(callback, 2))"
   ]
  },
  {
   "cell_type": "markdown",
   "id": "5e3ad041-a4fa-4cae-993c-596eb53f03ff",
   "metadata": {
    "tags": []
   },
   "source": [
    "#### 直接获取"
   ]
  },
  {
   "cell_type": "code",
   "execution_count": null,
   "id": "77a17ab0-0b7b-4d9e-937f-f5fc0de81333",
   "metadata": {},
   "outputs": [],
   "source": [
    "print('Task ret: ', task.result())"
   ]
  },
  {
   "cell_type": "code",
   "execution_count": null,
   "id": "3eaf155f-66e5-4acd-b16a-030a676ac539",
   "metadata": {},
   "outputs": [],
   "source": []
  },
  {
   "cell_type": "markdown",
   "id": "97131a50-2b14-4934-917c-304034ce39f3",
   "metadata": {
    "tags": []
   },
   "source": [
    "### 执行并发任务"
   ]
  },
  {
   "cell_type": "code",
   "execution_count": null,
   "id": "53dda16b-5f41-4e13-9fd9-9697c667c13e",
   "metadata": {},
   "outputs": [],
   "source": [
    "tasks = [\n",
    "    asyncio.ensure_future(coroutine1),\n",
    "    asyncio.ensure_future(coroutine2),\n",
    "    asyncio.ensure_future(coroutine3)\n",
    "]\n",
    "loop.run_until_complete(asyncio.wait(tasks))"
   ]
  },
  {
   "cell_type": "code",
   "execution_count": null,
   "id": "1e162e55-59fe-4814-85b1-ed3fec370189",
   "metadata": {},
   "outputs": [],
   "source": [
    "for task in tasks:\n",
    "    print('Task ret: ', task.result())"
   ]
  },
  {
   "cell_type": "markdown",
   "id": "a0906d72-dd9b-4d0c-b395-a4eee87d23b1",
   "metadata": {
    "tags": []
   },
   "source": [
    "### 任务嵌套"
   ]
  },
  {
   "cell_type": "code",
   "execution_count": null,
   "id": "db037f46-800f-499f-ae37-b9de88b9ef12",
   "metadata": {},
   "outputs": [],
   "source": [
    "async def do_some_work(x):\n",
    "    print('Waiting: ', x)\n",
    "\n",
    "    await asyncio.sleep(x)\n",
    "    return 'Done after {}s'.format(x)"
   ]
  },
  {
   "cell_type": "code",
   "execution_count": null,
   "id": "3b83eb2f-d8e0-42f9-8a74-b750aab0c98a",
   "metadata": {
    "tags": []
   },
   "outputs": [],
   "source": [
    "\n",
    "async def main():\n",
    "    coroutine1 = do_some_work(1)\n",
    "    coroutine2 = do_some_work(2)\n",
    "    coroutine3 = do_some_work(4)\n",
    "\n",
    "    tasks = [\n",
    "        asyncio.ensure_future(coroutine1),\n",
    "        asyncio.ensure_future(coroutine2),\n",
    "        asyncio.ensure_future(coroutine3)\n",
    "    ]\n",
    "\n",
    "    dones, pendings = await asyncio.wait(tasks)\n",
    "\n",
    "    for task in dones:\n",
    "        print('Task ret: ', task.result())\n"
   ]
  },
  {
   "cell_type": "code",
   "execution_count": null,
   "id": "1caaa017-2684-45db-a3ab-a490de609484",
   "metadata": {
    "tags": []
   },
   "outputs": [],
   "source": [
    "results = await asyncio.gather(*tasks)\n",
    "\n",
    "for result in results:\n",
    "    print('Task ret: ', result)"
   ]
  },
  {
   "cell_type": "code",
   "execution_count": null,
   "id": "610a9d72-632b-4817-b183-5149ea360997",
   "metadata": {
    "tags": []
   },
   "outputs": [],
   "source": [
    "async def main():\n",
    "    coroutine1 = do_some_work(1)\n",
    "    coroutine2 = do_some_work(2)\n",
    "    coroutine3 = do_some_work(2)\n",
    "\n",
    "    tasks = [\n",
    "        asyncio.ensure_future(coroutine1),\n",
    "        asyncio.ensure_future(coroutine2),\n",
    "        asyncio.ensure_future(coroutine3)\n",
    "    ]\n",
    "\n",
    "    return await asyncio.gather(*tasks)"
   ]
  },
  {
   "cell_type": "code",
   "execution_count": null,
   "id": "cad4af5c-d22d-4981-bff0-a3c8dc804a1e",
   "metadata": {
    "tags": []
   },
   "outputs": [],
   "source": [
    "async def main():\n",
    "    coroutine1 = do_some_work(1)\n",
    "    coroutine2 = do_some_work(2)\n",
    "    coroutine3 = do_some_work(4)\n",
    "\n",
    "    tasks = [\n",
    "        asyncio.ensure_future(coroutine1),\n",
    "        asyncio.ensure_future(coroutine2),\n",
    "        asyncio.ensure_future(coroutine3)\n",
    "    ]\n",
    "    for task in asyncio.as_completed(tasks):\n",
    "        result = await task\n",
    "        print('Task ret: {}'.format(result))\n",
    "\n",
    "start = now()\n",
    "\n",
    "loop = asyncio.get_event_loop()\n",
    "done = loop.run_until_complete(main())\n",
    "print('TIME: ', now() - start)\n"
   ]
  },
  {
   "cell_type": "markdown",
   "id": "4cab82df-3ad0-40db-ab4e-892693865a59",
   "metadata": {},
   "source": [
    "### 协程停止"
   ]
  },
  {
   "cell_type": "code",
   "execution_count": null,
   "id": "018275ef-7a87-4b01-9244-b9ab9dc9a4bc",
   "metadata": {},
   "outputs": [],
   "source": [
    "import asyncio\n",
    "\n",
    "import time\n",
    "\n",
    "now = lambda: time.time()\n",
    "\n",
    "async def do_some_work(x):\n",
    "    print('Waiting: ', x)\n",
    "\n",
    "    await asyncio.sleep(x)\n",
    "    return 'Done after {}s'.format(x)\n",
    "\n",
    "coroutine1 = do_some_work(1)\n",
    "coroutine2 = do_some_work(2)\n",
    "coroutine3 = do_some_work(2)\n",
    "\n",
    "tasks = [\n",
    "    asyncio.ensure_future(coroutine1),\n",
    "    asyncio.ensure_future(coroutine2),\n",
    "    asyncio.ensure_future(coroutine3)\n",
    "]\n",
    "\n",
    "start = now()\n",
    "\n",
    "loop = asyncio.get_event_loop()\n",
    "try:\n",
    "    loop.run_until_complete(asyncio.wait(tasks))\n",
    "except KeyboardInterrupt as e:\n",
    "    print(asyncio.Task.all_tasks())\n",
    "    for task in asyncio.Task.all_tasks():\n",
    "        print(task.cancel())\n",
    "    loop.stop()\n",
    "    loop.run_forever()\n",
    "finally:\n",
    "    loop.close()\n",
    "\n",
    "print('TIME: ', now() - start)\n"
   ]
  },
  {
   "cell_type": "code",
   "execution_count": null,
   "id": "0fdfc3cf-d756-428a-81f9-0b4abd7476c7",
   "metadata": {},
   "outputs": [],
   "source": [
    "import asyncio\n",
    "\n",
    "import time\n",
    "\n",
    "now = lambda: time.time()\n",
    "\n",
    "async def do_some_work(x):\n",
    "    print('Waiting: ', x)\n",
    "\n",
    "    await asyncio.sleep(x)\n",
    "    return 'Done after {}s'.format(x)\n",
    "\n",
    "async def main():\n",
    "    coroutine1 = do_some_work(1)\n",
    "    coroutine2 = do_some_work(2)\n",
    "    coroutine3 = do_some_work(2)\n",
    "\n",
    "    tasks = [\n",
    "        asyncio.ensure_future(coroutine1),\n",
    "        asyncio.ensure_future(coroutine2),\n",
    "        asyncio.ensure_future(coroutine3)\n",
    "    ]\n",
    "    done, pending = await asyncio.wait(tasks)\n",
    "    for task in done:\n",
    "        print('Task ret: ', task.result())\n",
    "\n",
    "start = now()\n",
    "\n",
    "loop = asyncio.get_event_loop()\n",
    "task = asyncio.ensure_future(main())\n",
    "try:\n",
    "    loop.run_until_complete(task)\n",
    "except KeyboardInterrupt as e:\n",
    "    print(asyncio.Task.all_tasks())\n",
    "    print(asyncio.gather(*asyncio.Task.all_tasks()).cancel())\n",
    "    loop.stop()\n",
    "    loop.run_forever()\n",
    "finally:\n",
    "    loop.close()"
   ]
  },
  {
   "cell_type": "markdown",
   "id": "7998b418-10c7-4d60-adc6-da12b4c8e5b7",
   "metadata": {
    "tags": []
   },
   "source": [
    "### 不同线程的事件循环"
   ]
  },
  {
   "cell_type": "code",
   "execution_count": 27,
   "id": "85314fb9-58ed-4bc9-a840-ddb35d0436e4",
   "metadata": {
    "tags": []
   },
   "outputs": [
    {
     "name": "stdout",
     "output_type": "stream",
     "text": [
      "TIME: 0.0011320114135742188\n"
     ]
    },
    {
     "data": {
      "text/plain": [
       "<Handle more_work(3) at /var/folders/sj/9gkwxdgs4h3ck3kytmdgk4240000gn/T/ipykernel_13458/1314391459.py:7>"
      ]
     },
     "execution_count": 27,
     "metadata": {},
     "output_type": "execute_result"
    },
    {
     "name": "stdout",
     "output_type": "stream",
     "text": [
      "More work 6\n",
      "Finished more work 6\n",
      "More work 3\n",
      "Finished more work 3\n"
     ]
    }
   ],
   "source": [
    "from threading import Thread\n",
    "\n",
    "def start_loop(loop):\n",
    "    asyncio.set_event_loop(loop)\n",
    "    loop.run_forever()\n",
    "\n",
    "def more_work(x):\n",
    "    print('More work {}'.format(x))\n",
    "    time.sleep(x)\n",
    "    print('Finished more work {}'.format(x))\n",
    "\n",
    "start = now()\n",
    "new_loop = asyncio.new_event_loop()\n",
    "t = Thread(target=start_loop, args=(new_loop,))\n",
    "t.start()\n",
    "print('TIME: {}'.format(time.time() - start))\n",
    "\n",
    "new_loop.call_soon_threadsafe(more_work, 6)\n",
    "new_loop.call_soon_threadsafe(more_work, 3)\n"
   ]
  },
  {
   "cell_type": "code",
   "execution_count": 28,
   "id": "ad19ddf7-bf58-4acf-8b99-be14ce43feb0",
   "metadata": {
    "tags": []
   },
   "outputs": [
    {
     "name": "stdout",
     "output_type": "stream",
     "text": [
      "TIME: 0.0007600784301757812\n"
     ]
    },
    {
     "data": {
      "text/plain": [
       "<Future at 0x7fe2606321a0 state=pending>"
      ]
     },
     "execution_count": 28,
     "metadata": {},
     "output_type": "execute_result"
    },
    {
     "name": "stdout",
     "output_type": "stream",
     "text": [
      "Waiting 6\n",
      "Waiting 4\n",
      "Done after 4s\n",
      "Done after 6s\n"
     ]
    }
   ],
   "source": [
    "def start_loop(loop):\n",
    "    asyncio.set_event_loop(loop)\n",
    "    loop.run_forever()\n",
    "\n",
    "async def do_some_work(x):\n",
    "    print('Waiting {}'.format(x))\n",
    "    await asyncio.sleep(x)\n",
    "    print('Done after {}s'.format(x))\n",
    "\n",
    "def more_work(x):\n",
    "    print('More work {}'.format(x))\n",
    "    time.sleep(x)\n",
    "    print('Finished more work {}'.format(x))\n",
    "\n",
    "start = now()\n",
    "new_loop = asyncio.new_event_loop()\n",
    "t = Thread(target=start_loop, args=(new_loop,))\n",
    "t.start()\n",
    "print('TIME: {}'.format(time.time() - start))\n",
    "\n",
    "asyncio.run_coroutine_threadsafe(do_some_work(6), new_loop)\n",
    "asyncio.run_coroutine_threadsafe(do_some_work(4), new_loop)\n"
   ]
  },
  {
   "cell_type": "code",
   "execution_count": 29,
   "id": "2e8d08b2-7087-4d49-8007-c2e2014b988c",
   "metadata": {
    "tags": []
   },
   "outputs": [],
   "source": [
    "import asyncio"
   ]
  },
  {
   "cell_type": "code",
   "execution_count": 65,
   "id": "21fdc430-1bdc-44d8-a9e6-a44fb32ed9a4",
   "metadata": {
    "tags": []
   },
   "outputs": [],
   "source": [
    "import queue"
   ]
  },
  {
   "cell_type": "code",
   "execution_count": 68,
   "id": "05b76504-f767-4da8-9bef-5d911d2cc982",
   "metadata": {
    "tags": []
   },
   "outputs": [
    {
     "data": {
      "text/plain": [
       "<queue.Queue at 0x7fe250bef7f0>"
      ]
     },
     "execution_count": 68,
     "metadata": {},
     "output_type": "execute_result"
    }
   ],
   "source": [
    "queue.Queue()"
   ]
  },
  {
   "cell_type": "code",
   "execution_count": 75,
   "id": "9194eda7-79ec-4e11-ac7e-5e01304d29bd",
   "metadata": {
    "tags": []
   },
   "outputs": [],
   "source": [
    "import queue\n",
    "q = queue.Queue()  # 创建 Queue 队列\n",
    "for i in range(3):\n",
    "    q.put(i)  # 在队列中依次插入0、1、2元素\n",
    "# for i in range(3):\n",
    "    # print(q.get())  # 依次从队列中取出插入的元素，数据元素输出顺序为0、1、2\n"
   ]
  },
  {
   "cell_type": "code",
   "execution_count": null,
   "id": "ca557ac0-6a91-4c60-8496-7be17b60276f",
   "metadata": {},
   "outputs": [],
   "source": []
  },
  {
   "cell_type": "markdown",
   "id": "0b4f04b9-e428-4b5c-af5f-ccfe7ca9b317",
   "metadata": {
    "tags": []
   },
   "source": [
    "### 整合"
   ]
  },
  {
   "cell_type": "code",
   "execution_count": null,
   "id": "7a3ab964-97fc-4904-b26f-2afae8965d7d",
   "metadata": {},
   "outputs": [],
   "source": [
    "from threading import Thread"
   ]
  },
  {
   "cell_type": "code",
   "execution_count": null,
   "id": "450e2362-30f9-413b-928c-b09d3d625409",
   "metadata": {},
   "outputs": [],
   "source": [
    "def more_work(x):\n",
    "    print('More work {}'.format(x))\n",
    "    time.sleep(x)\n",
    "    print('Finished more work {}'.format(x))\n"
   ]
  },
  {
   "cell_type": "code",
   "execution_count": 45,
   "id": "f20f4475-9e7c-4e16-8607-d013c2dc985a",
   "metadata": {
    "tags": []
   },
   "outputs": [],
   "source": [
    "\n",
    "from threading import Thread\n",
    "\n",
    "async def async_main(coroutines = []):\n",
    "    \"\"\"\n",
    "    多任务同时执行 以最长的任务时间为限, 完毕后统一回复\n",
    "    \"\"\"\n",
    "    tasks = [asyncio.ensure_future(cor_i) for cor_i in coroutines]\n",
    "    if type == 'A':\n",
    "        return await asyncio.gather(*tasks)\n",
    "    elif type == 'B':\n",
    "async def create_thread_async(coroutines = []):\n",
    "    \"\"\"\n",
    "    多任务同时执行 创建一个线程去执行协程 而不会阻塞主线程\n",
    "    \"\"\"\n",
    "    def start_loop(loop):\n",
    "        asyncio.set_event_loop(loop)\n",
    "        loop.run_forever()\n",
    "\n",
    "    new_loop = asyncio.new_event_loop()\n",
    "    t = Thread(target=start_loop, args=(new_loop,))\n",
    "    t.start()\n",
    "    for coroutine in coroutines:\n",
    "        asyncio.run_coroutine_threadsafe(coroutine, new_loop)\n",
    "\n",
    "        \n",
    "loop = asyncio.get_event_loop()\n",
    "task = asyncio.ensure_future(main())\n",
    "try:\n",
    "    loop.run_until_complete(task)\n",
    "except KeyboardInterrupt as e:\n",
    "    print(asyncio.Task.all_tasks())\n",
    "    print(asyncio.gather(*asyncio.Task.all_tasks()).cancel())\n",
    "    loop.stop()\n",
    "    loop.run_forever()\n",
    "finally:\n",
    "    loop.close()"
   ]
  },
  {
   "cell_type": "code",
   "execution_count": 51,
   "id": "43c70383-d174-4b7f-9108-246562742747",
   "metadata": {
    "tags": []
   },
   "outputs": [
    {
     "name": "stdout",
     "output_type": "stream",
     "text": [
      "Mon Mar  4 11:36:17 2024\n",
      "111\n",
      "111\n"
     ]
    },
    {
     "data": {
      "text/plain": [
       "'Mon Mar  4 11:36:20 2024'"
      ]
     },
     "execution_count": 51,
     "metadata": {},
     "output_type": "execute_result"
    }
   ],
   "source": [
    "print(time.ctime())\n",
    "a = await async_main([aa(1),aa(3)])\n",
    "time.ctime()"
   ]
  },
  {
   "cell_type": "code",
   "execution_count": null,
   "id": "e38432a4-8d9e-440e-affe-234edd016766",
   "metadata": {},
   "outputs": [],
   "source": []
  },
  {
   "cell_type": "code",
   "execution_count": null,
   "id": "c7edc968-6009-42a7-96e5-e593a964f8b3",
   "metadata": {},
   "outputs": [],
   "source": []
  },
  {
   "cell_type": "code",
   "execution_count": null,
   "id": "b4eb8f45-da9e-45f4-8aa4-48df91306a1a",
   "metadata": {},
   "outputs": [],
   "source": [
    "\n",
    "from threading import Thread\n",
    "import asyncio\n",
    "\n",
    "async def async_main(coroutines = []):\n",
    "    \"\"\"\n",
    "    多任务同时执行 以最长的任务时间为限, 完毕后统一回复\n",
    "    \"\"\"\n",
    "    tasks = [asyncio.ensure_future(cor_i) for cor_i in coroutines]\n",
    "\n",
    "    return await asyncio.gather(*tasks)\n",
    "async def create_thread_async(coroutines = []):\n",
    "    \"\"\"\n",
    "    多任务同时执行 创建一个线程去执行协程 而不会阻塞主线程\n",
    "    \"\"\"\n",
    "    def start_loop(loop):\n",
    "        asyncio.set_event_loop(loop)\n",
    "        loop.run_forever()\n",
    "\n",
    "    new_loop = asyncio.new_event_loop()\n",
    "    t = Thread(target=start_loop, args=(new_loop,))\n",
    "    t.start()\n",
    "    for coroutine in coroutines:\n",
    "        asyncio.run_coroutine_threadsafe(coroutine, new_loop)\n",
    "\n",
    "\n",
    "# loop = asyncio.get_event_loop()\n",
    "# task = asyncio.ensure_future(main())\n",
    "# try:\n",
    "#     loop.run_until_complete(task)\n",
    "# except KeyboardInterrupt as e:\n",
    "#     print(asyncio.Task.all_tasks())\n",
    "#     print(asyncio.gather(*asyncio.Task.all_tasks()).cancel())\n",
    "#     loop.stop()\n",
    "#     loop.run_forever()\n",
    "# finally:\n",
    "#     loop.close()"
   ]
  },
  {
   "cell_type": "code",
   "execution_count": null,
   "id": "6a2d5cfa-cf9b-47df-b3ac-e73d0f20c8ad",
   "metadata": {},
   "outputs": [],
   "source": []
  },
  {
   "cell_type": "code",
   "execution_count": null,
   "id": "8249695e-5580-4342-a0f1-8ce00af54166",
   "metadata": {},
   "outputs": [],
   "source": []
  },
  {
   "cell_type": "markdown",
   "id": "fe7d1fa3-2e92-410f-8cb6-95bc40400d20",
   "metadata": {},
   "source": [
    "# Unittest"
   ]
  },
  {
   "cell_type": "markdown",
   "id": "781de3bf-fd4c-41b9-abeb-1e02c8a5bebe",
   "metadata": {},
   "source": [
    "单元测试可以承担两个职能  1 从设计层面测试函数的正确性, 2 给用户(其他开发者)以使用建议"
   ]
  },
  {
   "cell_type": "code",
   "execution_count": null,
   "id": "c9b16438-8cb0-42b8-bb97-84ab5e3de4f0",
   "metadata": {},
   "outputs": [],
   "source": [
    "单元测试基本介绍两种方式,一种是正常方式,另一种是patch 蒙版模式 可以更加解耦的测试"
   ]
  },
  {
   "cell_type": "code",
   "execution_count": 56,
   "id": "e034d281-dfff-4336-9927-35104724a613",
   "metadata": {
    "tags": []
   },
   "outputs": [
    {
     "name": "stdout",
     "output_type": "stream",
     "text": [
      "Overwriting test.py\n"
     ]
    }
   ],
   "source": [
    "# %%writefile my_module.py\n",
    "import requests\n",
    "\n",
    "def get_data():\n",
    "    response = requests.get('https://api.example.com/data')\n",
    "    return response.json()\n",
    "\n",
    "\n",
    "# %%writefile test.py\n",
    "import unittest\n",
    "from unittest.mock import patch\n",
    "import my_module\n",
    "\n",
    "class TestMyModule(unittest.TestCase):\n",
    "    data_path = 'data'\n",
    "    \n",
    "    def test_url(self):\n",
    "        url = 'www.baidu.com'\n",
    "        result = load_data(url)\n",
    "        assert len(result) > 1\n",
    "\n",
    "    \n",
    "    @patch('my_module.requests.get')\n",
    "    def test_get_data(self, mock_get):\n",
    "        # 设置模拟对象的返回值\n",
    "        mock_get.return_value.json.return_value = {'key': 'value'}\n",
    "\n",
    "        result = my_module.get_data()\n",
    "        print(result,'ss')\n",
    "        # 验证返回值是否正确\n",
    "        self.assertEqual(result, {'key': 'value'})\n",
    "        # 验证 requests.get 是否被调用了一次\n",
    "        mock_get.assert_called_once_with('https://api.example.com/data')\n",
    "if __name__ == '__main__':\n",
    "    unittest.main()\n"
   ]
  },
  {
   "cell_type": "code",
   "execution_count": 57,
   "id": "aefe21cc-58e3-43da-9af4-1665545a6a60",
   "metadata": {
    "tags": []
   },
   "outputs": [
    {
     "name": "stdout",
     "output_type": "stream",
     "text": [
      "{'key': 'value'} ss\n",
      ".\n",
      "----------------------------------------------------------------------\n",
      "Ran 1 test in 0.001s\n",
      "\n",
      "OK\n"
     ]
    }
   ],
   "source": [
    "!python test.py"
   ]
  },
  {
   "cell_type": "code",
   "execution_count": null,
   "id": "bfde2fd9-5f38-4af7-bd96-caa2628219be",
   "metadata": {},
   "outputs": [],
   "source": []
  },
  {
   "cell_type": "code",
   "execution_count": null,
   "id": "263eb27e-ae9e-4bb5-8181-b2ee1f377d7b",
   "metadata": {},
   "outputs": [],
   "source": []
  },
  {
   "cell_type": "code",
   "execution_count": null,
   "id": "74102611-254b-418d-92aa-fa05af5ce726",
   "metadata": {},
   "outputs": [],
   "source": []
  }
 ],
 "metadata": {
  "kernelspec": {
   "display_name": "Python 3 (ipykernel)",
   "language": "python",
   "name": "python3"
  },
  "language_info": {
   "codemirror_mode": {
    "name": "ipython",
    "version": 3
   },
   "file_extension": ".py",
   "mimetype": "text/x-python",
   "name": "python",
   "nbconvert_exporter": "python",
   "pygments_lexer": "ipython3",
   "version": "3.10.14"
  }
 },
 "nbformat": 4,
 "nbformat_minor": 5
}
