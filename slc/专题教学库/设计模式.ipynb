{
 "cells": [
  {
   "cell_type": "markdown",
   "id": "e0536d5b-8b75-4cd9-a3f5-46482786a414",
   "metadata": {},
   "source": [
    "# 单例模式"
   ]
  },
  {
   "cell_type": "code",
   "execution_count": 1,
   "id": "b39a231e-2c3d-497b-89ad-abb02d707227",
   "metadata": {
    "tags": []
   },
   "outputs": [],
   "source": [
    "\n",
    "class Singleton:\n",
    "    _instance = None\n",
    "    x = 1\n",
    "    def __new__(cls):\n",
    "        if not cls._instance:\n",
    "            cls._instance = super().__new__(cls)\n",
    "        return cls._instance"
   ]
  },
  {
   "cell_type": "markdown",
   "id": "5fa72370-cd13-4c91-9a9f-022506656b1a",
   "metadata": {
    "tags": []
   },
   "source": [
    "一个类只能存在一个实例"
   ]
  },
  {
   "cell_type": "code",
   "execution_count": 7,
   "id": "bc5435a6-5810-4f87-9d85-f5df566130f8",
   "metadata": {
    "tags": []
   },
   "outputs": [],
   "source": [
    "a = Singleton()"
   ]
  },
  {
   "cell_type": "code",
   "execution_count": 4,
   "id": "23f4d1af-c2b6-4f18-a88d-5c26ea3e55ad",
   "metadata": {
    "tags": []
   },
   "outputs": [],
   "source": [
    "b = Singleton()"
   ]
  },
  {
   "cell_type": "code",
   "execution_count": 5,
   "id": "2a793aa5-4e59-4d21-a144-3b8aa4ae57f1",
   "metadata": {
    "tags": []
   },
   "outputs": [
    {
     "data": {
      "text/plain": [
       "True"
      ]
     },
     "execution_count": 5,
     "metadata": {},
     "output_type": "execute_result"
    }
   ],
   "source": [
    "a ==b"
   ]
  },
  {
   "cell_type": "code",
   "execution_count": null,
   "id": "02ae3872-4131-44f9-b602-02ee91749986",
   "metadata": {},
   "outputs": [],
   "source": []
  },
  {
   "cell_type": "code",
   "execution_count": 3,
   "id": "49c92170-8cce-48ce-a79f-04477070a237",
   "metadata": {
    "tags": []
   },
   "outputs": [
    {
     "name": "stdout",
     "output_type": "stream",
     "text": [
      "10\n",
      "10\n",
      "True\n"
     ]
    }
   ],
   "source": [
    "class Singleton:\n",
    "    _instance = None\n",
    "\n",
    "    def __new__(cls, *args, **kwargs):\n",
    "        if cls._instance is None:\n",
    "            cls._instance = super().__new__(cls)\n",
    "        return cls._instance\n",
    "\n",
    "    def __init__(self, value):\n",
    "        # 只有第一次初始化时设置值，后续的初始化调用不会更改实例的值\n",
    "        if not hasattr(self, 'initialized'):\n",
    "            self.value = value\n",
    "            self.initialized = True\n",
    "\n",
    "# 测试单例模式\n",
    "singleton1 = Singleton(10)\n",
    "print(singleton1.value)  # 输出: 10\n",
    "\n",
    "singleton2 = Singleton(20)\n",
    "print(singleton2.value)  # 输出: 10\n",
    "\n",
    "print(singleton1 is singleton2)  # 输出: True\n"
   ]
  },
  {
   "cell_type": "code",
   "execution_count": null,
   "id": "09969a4c-078c-479f-b472-c378fef3f766",
   "metadata": {},
   "outputs": [],
   "source": []
  },
  {
   "cell_type": "code",
   "execution_count": null,
   "id": "9e89f7f4-27db-4e1f-9371-53c5d81a5355",
   "metadata": {},
   "outputs": [],
   "source": []
  },
  {
   "cell_type": "code",
   "execution_count": null,
   "id": "ca83711d-55c6-40e5-b627-e2cb2e439d98",
   "metadata": {},
   "outputs": [],
   "source": []
  },
  {
   "cell_type": "markdown",
   "id": "db8fb85f-6422-412d-933f-37e7e37e0def",
   "metadata": {},
   "source": [
    "# 工厂模式"
   ]
  },
  {
   "cell_type": "markdown",
   "id": "46e2e614-c83f-433d-a569-71802fbfbc84",
   "metadata": {},
   "source": [
    "工厂模式:\n",
    "    简单工厂模式\n",
    "    工厂方法模式\n",
    "    抽象工厂模式\n",
    "    \n",
    "工厂模式（Factory Pattern）是一种创建型设计模式，定义了一个接口用于创建对象，但让子类决定实例化哪个类。工厂模式让一个类的实例化延迟到其子类。它通过创建对象的代码与使用对象的代码分离来提供更高的灵活性和可扩展性。"
   ]
  },
  {
   "cell_type": "code",
   "execution_count": null,
   "id": "c280da5c-b087-4e3c-9b0e-8e17a1a84981",
   "metadata": {},
   "outputs": [],
   "source": []
  },
  {
   "cell_type": "markdown",
   "id": "fa595ffb-fe3b-41a9-9c9d-e563dce42137",
   "metadata": {},
   "source": [
    "## 简单工厂模式"
   ]
  },
  {
   "cell_type": "code",
   "execution_count": null,
   "id": "a20b8d62-930b-478b-a73f-ab87f28118c8",
   "metadata": {},
   "outputs": [],
   "source": [
    "车是模板,但是工厂是实体"
   ]
  },
  {
   "cell_type": "code",
   "execution_count": 70,
   "id": "f9f41da3-4587-40b7-94b6-a16322f6fb60",
   "metadata": {
    "tags": []
   },
   "outputs": [],
   "source": [
    "class Car:\n",
    "    def drive(self):\n",
    "        pass\n",
    "    \n",
    "class Sedan(Car):\n",
    "    def drive(self):\n",
    "        print('driving an sedan')\n",
    "        \n",
    "class SUV(Car):\n",
    "    def drive(self):\n",
    "        print(\"driving an SUV\")\n",
    "        \n",
    "class CarFactory:\n",
    "    @staticmethod\n",
    "    def create_car(car_type):\n",
    "        if car_type == 'sedan':\n",
    "            return Sedan()\n",
    "        \n",
    "        elif car_type == 'suv':\n",
    "            return SUV()\n",
    "        \n",
    "        else:\n",
    "            raise ValueError(\"Unkonw Car Type\")"
   ]
  },
  {
   "cell_type": "code",
   "execution_count": 75,
   "id": "aeeb1eae-d264-46af-ad13-303e5fad70d9",
   "metadata": {
    "tags": []
   },
   "outputs": [],
   "source": [
    "car = SUV()"
   ]
  },
  {
   "cell_type": "code",
   "execution_count": 76,
   "id": "812155fc-57df-4dff-9bdf-31e653d714f0",
   "metadata": {
    "tags": []
   },
   "outputs": [
    {
     "name": "stdout",
     "output_type": "stream",
     "text": [
      "driving an SUV\n"
     ]
    }
   ],
   "source": [
    "car.drive()"
   ]
  },
  {
   "cell_type": "code",
   "execution_count": 71,
   "id": "57eceba9-5b6e-4d97-abba-13e625f70e4f",
   "metadata": {
    "tags": []
   },
   "outputs": [],
   "source": [
    "car = CarFactory.create_car('sedan')"
   ]
  },
  {
   "cell_type": "code",
   "execution_count": 73,
   "id": "5a6b9b18-7f17-43be-b701-e7588f1852c1",
   "metadata": {
    "tags": []
   },
   "outputs": [
    {
     "name": "stdout",
     "output_type": "stream",
     "text": [
      "driving an sedan\n"
     ]
    }
   ],
   "source": [
    "car.drive()"
   ]
  },
  {
   "cell_type": "markdown",
   "id": "9112862b-561c-4751-baef-a1763ef37bc6",
   "metadata": {},
   "source": [
    "## 工厂方法模式"
   ]
  },
  {
   "cell_type": "markdown",
   "id": "0c9e37bc-e89a-4f48-a4a7-771565decd2c",
   "metadata": {},
   "source": [
    "车是模板,工厂也是模板"
   ]
  },
  {
   "cell_type": "code",
   "execution_count": null,
   "id": "c4e43116-44c9-4a62-9df3-6f736ad0fdfd",
   "metadata": {},
   "outputs": [],
   "source": [
    "from abc import ABC, abstractmethod\n",
    "\n",
    "class Car(ABC):\n",
    "    @abstractmethod\n",
    "    def drive(self):\n",
    "        pass\n",
    "\n",
    "class Sedan(Car):\n",
    "    def drive(self):\n",
    "        print(\"Driving a sedan...\")\n",
    "\n",
    "class SUV(Car):\n",
    "    def drive(self):\n",
    "        print(\"Driving an SUV...\")\n",
    "\n",
    "class CarFactory(ABC):\n",
    "    @abstractmethod\n",
    "    def create_car(self):\n",
    "        pass\n",
    "\n",
    "    def test_drive(self):\n",
    "        car = self.create_car()\n",
    "        car.drive()\n",
    "\n",
    "class SedanFactory(CarFactory):\n",
    "    def create_car(self):\n",
    "        return Sedan()\n",
    "\n",
    "class SUVFactory(CarFactory):\n",
    "    def create_car(self):\n",
    "        return SUV()\n",
    "\n",
    "# 使用工厂方法模式\n",
    "factory = SedanFactory()\n",
    "factory.test_drive()  # 输出: Driving a sedan...\n",
    "\n",
    "factory = SUVFactory()\n",
    "factory.test_drive()  # 输出: Driving an SUV...\n"
   ]
  },
  {
   "cell_type": "code",
   "execution_count": null,
   "id": "5fd80e8c-5307-4b7d-8174-32c55118fda2",
   "metadata": {},
   "outputs": [],
   "source": []
  },
  {
   "cell_type": "code",
   "execution_count": null,
   "id": "659a54a5-ed56-49a4-a4cd-cace3af40678",
   "metadata": {},
   "outputs": [],
   "source": [
    "抽象工厂模式"
   ]
  },
  {
   "cell_type": "code",
   "execution_count": null,
   "id": "37253ead-498b-46ff-a384-853b142c3d05",
   "metadata": {},
   "outputs": [],
   "source": [
    "from abc import ABC, abstractmethod\n",
    "\n",
    "class Sedan(ABC):\n",
    "    @abstractmethod\n",
    "    def drive(self):\n",
    "        pass\n",
    "\n",
    "class SUV(ABC):\n",
    "    @abstractmethod\n",
    "    def drive(self):\n",
    "        pass\n",
    "\n",
    "class ElectricSedan(Sedan):\n",
    "    def drive(self):\n",
    "        print(\"Driving an electric sedan...\")\n",
    "\n",
    "class ElectricSUV(SUV):\n",
    "    def drive(self):\n",
    "        print(\"Driving an electric SUV...\")\n",
    "\n",
    "class GasSedan(Sedan):\n",
    "    def drive(self):\n",
    "        print(\"Driving a gas sedan...\")\n",
    "\n",
    "class GasSUV(SUV):\n",
    "    def drive(self):\n",
    "        print(\"Driving a gas SUV...\")\n",
    "\n",
    "class CarFactory(ABC):\n",
    "    @abstractmethod\n",
    "    def create_sedan(self):\n",
    "        pass\n",
    "\n",
    "    @abstractmethod\n",
    "    def create_suv(self):\n",
    "        pass\n",
    "\n",
    "class ElectricCarFactory(CarFactory):\n",
    "    def create_sedan(self):\n",
    "        return ElectricSedan()\n",
    "\n",
    "    def create_suv(self):\n",
    "        return ElectricSUV()\n",
    "\n",
    "class GasCarFactory(CarFactory):\n",
    "    def create_sedan(self):\n",
    "        return GasSedan()\n",
    "\n",
    "    def create_suv(self):\n",
    "        return GasSUV()\n",
    "\n",
    "# 使用抽象工厂模式\n",
    "factory = ElectricCarFactory()\n",
    "sedan = factory.create_sedan()\n",
    "sedan.drive()  # 输出: Driving an electric sedan...\n",
    "\n",
    "factory = GasCarFactory()\n",
    "suv = factory.create_suv()\n",
    "suv.drive()  # 输出: Driving a gas SUV...\n"
   ]
  },
  {
   "cell_type": "code",
   "execution_count": null,
   "id": "85507f33-3f7b-4972-9502-385a0334976d",
   "metadata": {},
   "outputs": [],
   "source": []
  },
  {
   "cell_type": "code",
   "execution_count": null,
   "id": "20f7a4aa-c0fa-4586-87a3-736e99230c11",
   "metadata": {},
   "outputs": [],
   "source": [
    "有点一对一 一对多 多对多的感觉"
   ]
  },
  {
   "cell_type": "markdown",
   "id": "c24d9eb0-a96a-485d-b648-a9ba1456bae4",
   "metadata": {},
   "source": [
    "# 建造者模式"
   ]
  },
  {
   "cell_type": "code",
   "execution_count": null,
   "id": "9f528ead-2e08-4031-b720-b93aa38af2aa",
   "metadata": {},
   "outputs": [],
   "source": [
    "目的是将构建过程与表示分开"
   ]
  },
  {
   "cell_type": "code",
   "execution_count": null,
   "id": "9fb7d04e-8f0f-4bae-9cb9-4a749d01d723",
   "metadata": {},
   "outputs": [],
   "source": [
    "# 产品\n",
    "class House:\n",
    "    def __init__(self):\n",
    "        self.foundation = None\n",
    "        self.structure = None\n",
    "        self.roof = None\n",
    "        self.interior = None\n",
    "\n",
    "    def __str__(self):\n",
    "        return f\"House with {self.foundation}, {self.structure}, {self.roof}, and {self.interior}\"\n",
    "\n",
    "# 生成器接口\n",
    "class HouseBuilder:\n",
    "    def build_foundation(self):\n",
    "        pass\n",
    "\n",
    "    def build_structure(self):\n",
    "        pass\n",
    "\n",
    "    def build_roof(self):\n",
    "        pass\n",
    "\n",
    "    def build_interior(self):\n",
    "        pass\n",
    "\n",
    "    def get_house(self):\n",
    "        pass\n",
    "\n",
    "# 具体生成器\n",
    "class ConcreteHouseBuilder(HouseBuilder):\n",
    "    def __init__(self):\n",
    "        self.house = House()\n",
    "\n",
    "    def build_foundation(self):\n",
    "        self.house.foundation = \"Concrete foundation\"\n",
    "\n",
    "    def build_structure(self):\n",
    "        self.house.structure = \"Wood and brick structure\"\n",
    "\n",
    "    def build_roof(self):\n",
    "        self.house.roof = \"Shingle roof\"\n",
    "\n",
    "    def build_interior(self):\n",
    "        self.house.interior = \"Modern interior\"\n",
    "\n",
    "    def get_house(self):\n",
    "        return self.house\n",
    "\n",
    "# 指挥者\n",
    "class Director:\n",
    "    def __init__(self, builder):\n",
    "        self.builder = builder\n",
    "\n",
    "    def construct_house(self):\n",
    "        self.builder.build_foundation()\n",
    "        self.builder.build_structure()\n",
    "        self.builder.build_roof()\n",
    "        self.builder.build_interior()\n",
    "        return self.builder.get_house()\n",
    "\n",
    "# 客户端代码\n",
    "builder = ConcreteHouseBuilder()\n",
    "director = Director(builder)\n",
    "house = director.construct_house()\n",
    "print(house)  # 输出: House with Concrete foundation, Wood and brick structure, Shingle roof, and Modern interior\n"
   ]
  },
  {
   "cell_type": "code",
   "execution_count": null,
   "id": "baeb8abf-5298-4005-9d26-a34b0fe3784e",
   "metadata": {},
   "outputs": [],
   "source": [
    "特别适合流程, 工作流"
   ]
  },
  {
   "cell_type": "code",
   "execution_count": null,
   "id": "de5d74e0-18cf-42a3-8631-c527ed3ff060",
   "metadata": {},
   "outputs": [],
   "source": []
  },
  {
   "cell_type": "code",
   "execution_count": null,
   "id": "4bb1cf7a-0940-4cc8-8ca7-2c294109bb36",
   "metadata": {},
   "outputs": [],
   "source": [
    "# 原型模式"
   ]
  },
  {
   "cell_type": "code",
   "execution_count": null,
   "id": "6c67dc82-c49f-4d98-ac94-54f48e1db5c8",
   "metadata": {},
   "outputs": [],
   "source": [
    "通过复制现有对象的实例来创建新的对象，而不是通过类实例化。原型模式使得创建对象更加灵活，可以快速生成对象并避免子类化。它通常通过实现一个原型接口或抽象类，包含一个用于克隆对象的方法。"
   ]
  },
  {
   "cell_type": "code",
   "execution_count": 12,
   "id": "3931b668-f737-469e-89a0-f08d5563c8bb",
   "metadata": {
    "tags": []
   },
   "outputs": [
    {
     "name": "stdout",
     "output_type": "stream",
     "text": [
      "Circle [ID=1, Radius=10]\n",
      "Circle [ID=2, Radius=20]\n",
      "Rectangle [ID=1, Width=30, Height=40]\n",
      "Rectangle [ID=2, Width=50, Height=60]\n"
     ]
    }
   ],
   "source": [
    "import copy\n",
    "\n",
    "# 原型接口\n",
    "class Shape:\n",
    "    def __init__(self, id):\n",
    "        self.id = id\n",
    "\n",
    "    def clone(self):\n",
    "        return copy.deepcopy(self)\n",
    "\n",
    "# 具体原型\n",
    "class Circle(Shape):\n",
    "    def __init__(self, id, radius):\n",
    "        super().__init__(id)\n",
    "        self.radius = radius\n",
    "\n",
    "    def __str__(self):\n",
    "        return f\"Circle [ID={self.id}, Radius={self.radius}]\"\n",
    "\n",
    "class Rectangle(Shape):\n",
    "    def __init__(self, id, width, height):\n",
    "        super().__init__(id)\n",
    "        self.width = width\n",
    "        self.height = height\n",
    "\n",
    "    def __str__(self):\n",
    "        return f\"Rectangle [ID={self.id}, Width={self.width}, Height={self.height}]\"\n",
    "\n",
    "# 客户端代码\n",
    "circle1 = Circle(\"1\", 10)\n",
    "print(circle1)  # 输出: Circle [ID=1, Radius=10]\n",
    "\n",
    "circle2 = circle1.clone()\n",
    "circle2.id = \"2\"\n",
    "circle2.radius = 20\n",
    "print(circle2)  # 输出: Circle [ID=2, Radius=20]\n",
    "\n",
    "rectangle1 = Rectangle(\"1\", 30, 40)\n",
    "print(rectangle1)  # 输出: Rectangle [ID=1, Width=30, Height=40]\n",
    "\n",
    "rectangle2 = rectangle1.clone()\n",
    "rectangle2.id = \"2\"\n",
    "rectangle2.width = 50\n",
    "rectangle2.height = 60\n",
    "print(rectangle2)  # 输出: Rectangle [ID=2, Width=50, Height=60]\n"
   ]
  },
  {
   "cell_type": "markdown",
   "id": "4eaaa540-105f-4fad-8951-43535383476d",
   "metadata": {},
   "source": [
    "对象的创建成本较高：\n",
    "当创建对象的成本较高时（例如涉及复杂的初始化过程），通过克隆现有对象可以提高性能。\n",
    "系统需要独立于其产品类的实例化：\n",
    "当系统需要独立于其产品类的实例化时，原型模式通过克隆对象可以实现这一点。\n",
    "对象的结构复杂，且希望避免重复创建复杂对象的结构：\n",
    "通过克隆现有对象，可以避免重复创建复杂对象的结构。\n",
    "需要生成对象的不同状态或组合：\n",
    "当需要生成不同状态或组合的对象时，原型模式可以快速生成这些对象，而不必通过构造函数重新创建。\n"
   ]
  },
  {
   "cell_type": "code",
   "execution_count": null,
   "id": "bb92c975-8f92-4a96-b350-3fa2142f8d59",
   "metadata": {},
   "outputs": [],
   "source": [
    "原型模式就是deepcopy"
   ]
  },
  {
   "cell_type": "code",
   "execution_count": null,
   "id": "1d12d2ad-68dc-4415-bd30-d117e7be1307",
   "metadata": {},
   "outputs": [],
   "source": []
  },
  {
   "cell_type": "code",
   "execution_count": null,
   "id": "7be4bd4b-a03c-40f0-ae14-d084629f569a",
   "metadata": {},
   "outputs": [],
   "source": []
  },
  {
   "cell_type": "markdown",
   "id": "9d8e6e51-ee12-4013-8006-15d72e932eb0",
   "metadata": {},
   "source": [
    "# 结构型模式"
   ]
  },
  {
   "cell_type": "code",
   "execution_count": null,
   "id": "8018c681-28e6-4f80-b2d5-612ff481b9f0",
   "metadata": {},
   "outputs": [],
   "source": []
  },
  {
   "cell_type": "markdown",
   "id": "fe3e0313-21f4-4971-b3fc-5fd46f42a7db",
   "metadata": {},
   "source": [
    "## 适配器模式"
   ]
  },
  {
   "cell_type": "code",
   "execution_count": 1,
   "id": "e6dfec70-9166-4435-ad64-ca43ba7aa30f",
   "metadata": {
    "tags": []
   },
   "outputs": [
    {
     "name": "stdout",
     "output_type": "stream",
     "text": [
      "Printing: Hello, world!\n"
     ]
    }
   ],
   "source": [
    "# 旧的接口\n",
    "class OldPrinter:\n",
    "    def print(self, content):\n",
    "        print(f\"Printing: {content}\")\n",
    "\n",
    "# 新的接口\n",
    "class NewPrinter:\n",
    "    def print_content(self, content):\n",
    "        raise NotImplementedError\n",
    "\n",
    "# 适配器类\n",
    "class PrinterAdapter(NewPrinter):\n",
    "    def __init__(self, old_printer):\n",
    "        self.old_printer = old_printer\n",
    "\n",
    "    def print_content(self, content):\n",
    "        self.old_printer.print(content)\n",
    "\n",
    "# 使用适配器\n",
    "old_printer = OldPrinter()\n",
    "adapter = PrinterAdapter(old_printer)\n",
    "\n",
    "# 现在可以通过新接口调用旧的打印功能\n",
    "adapter.print_content(\"Hello, world!\")\n",
    "\n",
    "\n",
    "# 使用效果就是直接调用老接口的对象的话对方咩有这个方法,\n",
    "# 那么就将老接口传入一个适配器,这样,老接口就有了新方法 有点像电源适配器,或者插头转换器"
   ]
  },
  {
   "cell_type": "code",
   "execution_count": null,
   "id": "976dc857-39dd-48fe-b8b5-ed40da7f82ec",
   "metadata": {},
   "outputs": [],
   "source": []
  },
  {
   "cell_type": "markdown",
   "id": "4ecd1301-2ce9-4471-8154-12978e8b5a6a",
   "metadata": {},
   "source": [
    "## 桥接模式"
   ]
  },
  {
   "cell_type": "code",
   "execution_count": 2,
   "id": "1ab1782c-6971-42de-92d9-9bb16c185461",
   "metadata": {
    "tags": []
   },
   "outputs": [
    {
     "name": "stdout",
     "output_type": "stream",
     "text": [
      "Circle drawn. Filling with red color\n",
      "Square drawn. Filling with green color\n"
     ]
    }
   ],
   "source": [
    "from abc import ABC, abstractmethod\n",
    "\n",
    "# Implementor 接口\n",
    "class Color(ABC):\n",
    "    @abstractmethod\n",
    "    def fill(self):\n",
    "        pass\n",
    "\n",
    "# Concrete Implementor A\n",
    "class RedColor(Color):\n",
    "    def fill(self):\n",
    "        return \"Filling with red color\"\n",
    "\n",
    "# Concrete Implementor B\n",
    "class GreenColor(Color):\n",
    "    def fill(self):\n",
    "        return \"Filling with green color\"\n",
    "\n",
    "# Abstraction 类\n",
    "class Shape(ABC):\n",
    "    def __init__(self, color: Color):\n",
    "        self.color = color\n",
    "\n",
    "    @abstractmethod\n",
    "    def draw(self):\n",
    "        pass\n",
    "\n",
    "# Refined Abstraction A\n",
    "class Circle(Shape):\n",
    "    def draw(self):\n",
    "        return f\"Circle drawn. {self.color.fill()}\"\n",
    "\n",
    "# Refined Abstraction B\n",
    "class Square(Shape):\n",
    "    def draw(self):\n",
    "        return f\"Square drawn. {self.color.fill()}\"\n",
    "\n",
    "# 使用桥接模式\n",
    "red = RedColor()\n",
    "green = GreenColor()\n",
    "\n",
    "circle = Circle(red)\n",
    "square = Square(green)\n",
    "\n",
    "print(circle.draw())\n",
    "print(square.draw())\n",
    "# 桥接模式通过组合关系（而非继承关系）来连接抽象和实现，从而实现更灵活的代码结构。\n",
    "\n",
    "# 就要像你绘制好一幅地图,然后一个一个往前搭建\n",
    "# 就好像枪械与配件一样, 我们定义枪的抽象,但是告诉你枪旁边的配件曹的尺寸,这样,你的配件就可以适应所有类型的枪,而不用管枪是谁生产的,同时,一把枪也可以适配大量的配件,而不用考虑配件是谁产的,什么性能\n",
    "# 类似于现在的type-c 协议 http协议一样\n",
    "\n"
   ]
  },
  {
   "cell_type": "code",
   "execution_count": null,
   "id": "c0496989-1af7-448a-93e2-7b319af44cb0",
   "metadata": {},
   "outputs": [],
   "source": []
  },
  {
   "cell_type": "markdown",
   "id": "107cb0a6-9fd3-4d33-8055-d778a010e3f1",
   "metadata": {},
   "source": [
    "## 组合模式"
   ]
  },
  {
   "cell_type": "code",
   "execution_count": 3,
   "id": "80721470-2323-446b-af9a-017c4839de5e",
   "metadata": {
    "tags": []
   },
   "outputs": [
    {
     "name": "stdout",
     "output_type": "stream",
     "text": [
      "Directory: dir2\n",
      "File: file2.txt\n",
      "Directory: dir1\n",
      "File: file1.txt\n"
     ]
    }
   ],
   "source": [
    "from abc import ABC, abstractmethod\n",
    "\n",
    "# Component 接口\n",
    "class FileSystemComponent(ABC):\n",
    "    @abstractmethod\n",
    "    def operation(self):\n",
    "        pass\n",
    "\n",
    "# Leaf 类\n",
    "class File(FileSystemComponent):\n",
    "    def __init__(self, name):\n",
    "        self.name = name\n",
    "\n",
    "    def operation(self):\n",
    "        return f\"File: {self.name}\"\n",
    "\n",
    "# Composite 类\n",
    "class Directory(FileSystemComponent):\n",
    "    def __init__(self, name):\n",
    "        self.name = name\n",
    "        self.children = []\n",
    "\n",
    "    def add(self, component: FileSystemComponent):\n",
    "        self.children.append(component)\n",
    "\n",
    "    def remove(self, component: FileSystemComponent):\n",
    "        self.children.remove(component)\n",
    "\n",
    "    def operation(self):\n",
    "        results = [f\"Directory: {self.name}\"]\n",
    "        for child in self.children:\n",
    "            results.append(child.operation())\n",
    "        return \"\\n\".join(results)\n",
    "\n",
    "# 使用组合模式\n",
    "file1 = File(\"file1.txt\")\n",
    "file2 = File(\"file2.txt\")\n",
    "\n",
    "directory1 = Directory(\"dir1\")\n",
    "directory1.add(file1)\n",
    "\n",
    "directory2 = Directory(\"dir2\")\n",
    "directory2.add(file2)\n",
    "directory2.add(directory1)\n",
    "\n",
    "print(directory2.operation())\n",
    "\n",
    "# 理解了,是一种高级复杂的模式,类似于文件系统 文件是叶子 文件夹是节点,节点可以包括节点 节点也可以包括叶子,也会产生多级嵌套 \n",
    "# 可以使用这种"
   ]
  },
  {
   "cell_type": "markdown",
   "id": "9cbdb7da-5066-40da-9099-d96223436951",
   "metadata": {},
   "source": [
    "## 装饰器模式"
   ]
  },
  {
   "cell_type": "code",
   "execution_count": null,
   "id": "c00dfd28-5e1b-4641-9429-211eeda5341f",
   "metadata": {},
   "outputs": [],
   "source": []
  },
  {
   "cell_type": "code",
   "execution_count": 9,
   "id": "cbe367fb-7368-4704-8216-b5d25c8950b4",
   "metadata": {
    "tags": []
   },
   "outputs": [
    {
     "name": "stdout",
     "output_type": "stream",
     "text": [
      "Original message: Hello, world!\n",
      "Encrypted message: Encrypted(Hello, world!)\n",
      "Compressed and Encrypted message: Compressed(Encrypted(Hello, world!))\n"
     ]
    }
   ],
   "source": [
    "from abc import ABC, abstractmethod\n",
    "\n",
    "# Component 接口\n",
    "class Message(ABC):\n",
    "    @abstractmethod\n",
    "    def get_content(self):\n",
    "        pass\n",
    "\n",
    "# Concrete Component 类\n",
    "class SimpleMessage(Message):\n",
    "    def __init__(self, content):\n",
    "        self._content = content\n",
    "\n",
    "    def get_content(self):\n",
    "        return self._content\n",
    "\n",
    "# Decorator 类\n",
    "class MessageDecorator(Message):\n",
    "    def __init__(self, message: Message):\n",
    "        self._message = message\n",
    "\n",
    "    @abstractmethod\n",
    "    def get_content(self):\n",
    "        pass\n",
    "\n",
    "# Concrete Decorator A 类\n",
    "class EncryptedMessage(MessageDecorator):\n",
    "    def get_content(self):\n",
    "        return f\"Encrypted({self._message.get_content()})\"\n",
    "\n",
    "# Concrete Decorator B 类\n",
    "class CompressedMessage(MessageDecorator):\n",
    "    def get_content(self):\n",
    "        return f\"Compressed({self._message.get_content()})\"\n",
    "\n",
    "# 使用装饰器模式\n",
    "simple_message = SimpleMessage(\"Hello, world!\")\n",
    "print(\"Original message:\", simple_message.get_content())\n",
    "\n",
    "encrypted_message = EncryptedMessage(simple_message)\n",
    "print(\"Encrypted message:\", encrypted_message.get_content())\n",
    "\n",
    "compressed_and_encrypted_message = CompressedMessage(encrypted_message)\n",
    "print(\"Compressed and Encrypted message:\", compressed_and_encrypted_message.get_content())\n",
    "\n",
    "\n",
    "## 装饰器的作用 类似于代码中,但是这个应该更加适用于流,  以下是一个装饰器模式的示例。假设我们有一个简单的文本消息系统，我们可以通过装饰器动态地为消息添加各种功能，例如加密、压缩等。"
   ]
  },
  {
   "cell_type": "code",
   "execution_count": null,
   "id": "b2b897cf-de6e-4f5c-9532-881cd9c69b4a",
   "metadata": {},
   "outputs": [],
   "source": []
  },
  {
   "cell_type": "markdown",
   "id": "a2c061fc-6ffe-44ab-9db7-a371258cb2c0",
   "metadata": {},
   "source": [
    "## 外观模式"
   ]
  },
  {
   "cell_type": "code",
   "execution_count": 5,
   "id": "84adf809-c2da-480b-bf94-bbf2bdc838c4",
   "metadata": {
    "tags": []
   },
   "outputs": [
    {
     "name": "stdout",
     "output_type": "stream",
     "text": [
      "Get ready to watch a movie...\n",
      "TV is on\n",
      "Sound system is on\n",
      "Sound system volume set to 20\n",
      "DVD player is on\n",
      "Playing movie: Inception\n",
      "Shutting down the home theater...\n",
      "TV is off\n",
      "Sound system is off\n",
      "DVD player is off\n"
     ]
    }
   ],
   "source": [
    "# 子系统类\n",
    "class TV:\n",
    "    def on(self):\n",
    "        print(\"TV is on\")\n",
    "\n",
    "    def off(self):\n",
    "        print(\"TV is off\")\n",
    "\n",
    "class SoundSystem:\n",
    "    def on(self):\n",
    "        print(\"Sound system is on\")\n",
    "\n",
    "    def off(self):\n",
    "        print(\"Sound system is off\")\n",
    "\n",
    "    def set_volume(self, volume):\n",
    "        print(f\"Sound system volume set to {volume}\")\n",
    "\n",
    "class DVDPlayer:\n",
    "    def on(self):\n",
    "        print(\"DVD player is on\")\n",
    "\n",
    "    def off(self):\n",
    "        print(\"DVD player is off\")\n",
    "\n",
    "    def play(self, movie):\n",
    "        print(f\"Playing movie: {movie}\")\n",
    "\n",
    "# 外观类\n",
    "class HomeTheaterFacade:\n",
    "    def __init__(self, tv: TV, sound_system: SoundSystem, dvd_player: DVDPlayer):\n",
    "        self._tv = tv\n",
    "        self._sound_system = sound_system\n",
    "        self._dvd_player = dvd_player\n",
    "\n",
    "    def watch_movie(self, movie):\n",
    "        print(\"Get ready to watch a movie...\")\n",
    "        self._tv.on()\n",
    "        self._sound_system.on()\n",
    "        self._sound_system.set_volume(20)\n",
    "        self._dvd_player.on()\n",
    "        self._dvd_player.play(movie)\n",
    "\n",
    "    def end_movie(self):\n",
    "        print(\"Shutting down the home theater...\")\n",
    "        self._tv.off()\n",
    "        self._sound_system.off()\n",
    "        self._dvd_player.off()\n",
    "\n",
    "# 使用外观模式\n",
    "tv = TV()\n",
    "sound_system = SoundSystem()\n",
    "dvd_player = DVDPlayer()\n",
    "\n",
    "home_theater = HomeTheaterFacade(tv, sound_system, dvd_player)\n",
    "home_theater.watch_movie(\"Inception\")\n",
    "home_theater.end_movie()\n",
    "\n",
    "## 外观模式其实就是常用的综合类嘛\n",
    "# main的类别 work的工作  自动化工作流的想法\n",
    "\n",
    "\n"
   ]
  },
  {
   "cell_type": "code",
   "execution_count": null,
   "id": "366e3204-b037-422c-9981-905b2ee7b82c",
   "metadata": {},
   "outputs": [],
   "source": []
  },
  {
   "cell_type": "code",
   "execution_count": 6,
   "id": "668a387e-767a-4b61-8d57-90cfab0307f1",
   "metadata": {
    "tags": []
   },
   "outputs": [],
   "source": [
    "## 享元模式\n",
    "# 享元模式（Flyweight Pattern）是一种结构型设计模式，它通过共享细粒度对象来减少内存消耗并提高性能。享元模式特别适用于大量相似对象的场景，它通过共享相同的对象来减少重复实例的数量，从而节省内存。"
   ]
  },
  {
   "cell_type": "code",
   "execution_count": 7,
   "id": "52b6173d-2898-4ceb-8d1d-1b9129eecdd2",
   "metadata": {
    "tags": []
   },
   "outputs": [
    {
     "name": "stdout",
     "output_type": "stream",
     "text": [
      "Drawing tree 'Oak' of color 'Green' with texture 'Rough' at (1, 1)\n",
      "Drawing tree 'Pine' of color 'Green' with texture 'Smooth' at (2, 3)\n",
      "Drawing tree 'Oak' of color 'Green' with texture 'Rough' at (4, 5)\n"
     ]
    }
   ],
   "source": [
    "class TreeType:\n",
    "    def __init__(self, name, color, texture):\n",
    "        self.name = name\n",
    "        self.color = color\n",
    "        self.texture = texture\n",
    "\n",
    "    def draw(self, canvas, x, y):\n",
    "        # 在给定位置绘制树\n",
    "        print(f\"Drawing tree '{self.name}' of color '{self.color}' with texture '{self.texture}' at ({x}, {y})\")\n",
    "\n",
    "class TreeFactory:\n",
    "    _tree_types = {}\n",
    "\n",
    "    @classmethod\n",
    "    def get_tree_type(cls, name, color, texture):\n",
    "        key = (name, color, texture)\n",
    "        if key not in cls._tree_types:\n",
    "            cls._tree_types[key] = TreeType(name, color, texture)\n",
    "        return cls._tree_types[key]\n",
    "\n",
    "class Tree:\n",
    "    def __init__(self, x, y, tree_type):\n",
    "        self.x = x\n",
    "        self.y = y\n",
    "        self.tree_type = tree_type\n",
    "\n",
    "    def draw(self, canvas):\n",
    "        self.tree_type.draw(canvas, self.x, self.y)\n",
    "\n",
    "class Forest:\n",
    "    def __init__(self):\n",
    "        self.trees = []\n",
    "\n",
    "    def plant_tree(self, x, y, name, color, texture):\n",
    "        tree_type = TreeFactory.get_tree_type(name, color, texture)\n",
    "        tree = Tree(x, y, tree_type)\n",
    "        self.trees.append(tree)\n",
    "\n",
    "    def draw(self, canvas):\n",
    "        for tree in self.trees:\n",
    "            tree.draw(canvas)\n",
    "\n",
    "# 使用享元模式\n",
    "forest = Forest()\n",
    "forest.plant_tree(1, 1, \"Oak\", \"Green\", \"Rough\")\n",
    "forest.plant_tree(2, 3, \"Pine\", \"Green\", \"Smooth\")\n",
    "forest.plant_tree(4, 5, \"Oak\", \"Green\", \"Rough\")  # 共享已有的树种类\n",
    "\n",
    "forest.draw(\"Canvas\")\n",
    "\n",
    "# 单例模式的加强版\n",
    "#共享一部分内容 而平移另一部分内容\n",
    "# 有点像图章,制作好了一个图章以后, 就可以到处印了\n",
    "# 如果想要新的图章,就定义新图章"
   ]
  },
  {
   "cell_type": "code",
   "execution_count": null,
   "id": "3e15807b-c106-43df-a964-a2aeb198a211",
   "metadata": {},
   "outputs": [],
   "source": []
  },
  {
   "cell_type": "code",
   "execution_count": null,
   "id": "0d2ea1b3-e8cc-4691-a895-e725cb900420",
   "metadata": {},
   "outputs": [],
   "source": [
    "## 代理模式\n",
    "代理模式的分类\n",
    "远程代理（Remote Proxy）：控制对远程对象的访问。\n",
    "虚拟代理（Virtual Proxy）：控制对资源消耗大的对象的访问，可以延迟对象的创建。\n",
    "保护代理（Protection Proxy）：控制对原始对象的访问权限。\n",
    "智能代理（Smart Proxy）：在访问对象时执行一些附加操作，例如记录访问日志、引用计数等。"
   ]
  },
  {
   "cell_type": "code",
   "execution_count": null,
   "id": "43cb6935-85e1-40b7-b4de-6c1ecce305e3",
   "metadata": {},
   "outputs": [],
   "source": []
  },
  {
   "cell_type": "code",
   "execution_count": 9,
   "id": "ba07c834-0e9e-4991-8c0e-1a058c581941",
   "metadata": {
    "tags": []
   },
   "outputs": [],
   "source": [
    "from abc import ABC, abstractmethod\n",
    "\n",
    "# 抽象主题\n",
    "class Image(ABC):\n",
    "    @abstractmethod\n",
    "    def display(self):\n",
    "        pass\n",
    "\n",
    "# 真实主题\n",
    "class RealImage(Image):\n",
    "    def __init__(self, filename):\n",
    "        self.filename = filename\n",
    "        self.load_from_disk()\n",
    "\n",
    "    def load_from_disk(self):\n",
    "        print(f\"Loading {self.filename}\")\n",
    "\n",
    "    def display(self):\n",
    "        print(f\"Displaying {self.filename}\")\n",
    "\n",
    "# 代理\n",
    "class ProxyImage(Image):\n",
    "    def __init__(self, filename):\n",
    "        self.filename = filename\n",
    "        self.real_image = None\n",
    "\n",
    "    def display(self):\n",
    "        if self.real_image is None:\n",
    "            self.real_image = RealImage(self.filename)\n",
    "        self.real_image.display()\n",
    "\n",
    "\n"
   ]
  },
  {
   "cell_type": "code",
   "execution_count": 11,
   "id": "4ba1fc8e-b64b-4b6b-969e-cc433e851957",
   "metadata": {
    "tags": []
   },
   "outputs": [],
   "source": [
    "# 使用代理模式\n",
    "proxy_image = ProxyImage(\"test_image.jpg\")\n"
   ]
  },
  {
   "cell_type": "code",
   "execution_count": 13,
   "id": "76014d5e-cb22-4634-9c16-c0a09d17ba78",
   "metadata": {
    "tags": []
   },
   "outputs": [
    {
     "name": "stdout",
     "output_type": "stream",
     "text": [
      "Loading test_image.jpg\n",
      "Displaying test_image.jpg\n"
     ]
    }
   ],
   "source": [
    "# 其实就是延迟加载的逻辑\n",
    "proxy_image.display()"
   ]
  },
  {
   "cell_type": "code",
   "execution_count": 14,
   "id": "eff2e61b-4a7d-4a2b-ac5e-6273b271cec9",
   "metadata": {
    "tags": []
   },
   "outputs": [
    {
     "name": "stdout",
     "output_type": "stream",
     "text": [
      "Displaying test_image.jpg\n"
     ]
    }
   ],
   "source": [
    "proxy_image.display()"
   ]
  },
  {
   "cell_type": "code",
   "execution_count": null,
   "id": "429b1ea8-5bf5-4e52-9685-3418ae303442",
   "metadata": {},
   "outputs": [],
   "source": []
  },
  {
   "cell_type": "markdown",
   "id": "991bdd30-f781-4708-ba7c-8cd5b06729e3",
   "metadata": {},
   "source": [
    "# 行为型模式 (Behavioral Patterns)"
   ]
  },
  {
   "cell_type": "markdown",
   "id": "55cef544-e556-4065-928c-7e6b19262f49",
   "metadata": {},
   "source": [
    "## 责任链模式"
   ]
  },
  {
   "cell_type": "code",
   "execution_count": 10,
   "id": "779a5708-bde3-488a-9111-6ee12e6fff61",
   "metadata": {
    "tags": []
   },
   "outputs": [
    {
     "name": "stdout",
     "output_type": "stream",
     "text": [
      "Client: Submitting INFO request\n",
      "InfoHandler: Handling INFO level request\n",
      "\n",
      "Client: Submitting DEBUG request\n",
      "DebugHandler: Handling DEBUG level request\n",
      "\n",
      "Client: Submitting ERROR request\n",
      "ErrorHandler: Handling ERROR level request\n",
      "\n",
      "Client: Submitting UNKNOWN request\n",
      "\n"
     ]
    }
   ],
   "source": [
    "from abc import ABC, abstractmethod\n",
    "\n",
    "class Handler(ABC):\n",
    "    def __init__(self):\n",
    "        self._next_handler = None\n",
    "\n",
    "    def set_next(self, handler):\n",
    "        self._next_handler = handler\n",
    "        return handler\n",
    "\n",
    "    @abstractmethod\n",
    "    def handle(self, request):\n",
    "        if self._next_handler:\n",
    "            return self._next_handler.handle(request)\n",
    "        return None\n",
    "\n",
    "class InfoHandler(Handler):\n",
    "    def handle(self, request):\n",
    "        if request == \"INFO\":\n",
    "            print(\"InfoHandler: Handling INFO level request\")\n",
    "        else:\n",
    "            super().handle(request)\n",
    "\n",
    "class DebugHandler(Handler):\n",
    "    def handle(self, request):\n",
    "        if request == \"DEBUG\":\n",
    "            print(\"DebugHandler: Handling DEBUG level request\")\n",
    "        else:\n",
    "            super().handle(request)\n",
    "\n",
    "class ErrorHandler(Handler):\n",
    "    def handle(self, request):\n",
    "        if request == \"ERROR\":\n",
    "            print(\"ErrorHandler: Handling ERROR level request\")\n",
    "        else:\n",
    "            super().handle(request)\n",
    "\n",
    "# 客户端代码\n",
    "if __name__ == \"__main__\":\n",
    "    # 创建具体处理者\n",
    "    info_handler = InfoHandler()\n",
    "    debug_handler = DebugHandler()\n",
    "    error_handler = ErrorHandler()\n",
    "\n",
    "    # 设置处理链\n",
    "    info_handler.set_next(debug_handler).set_next(error_handler)\n",
    "\n",
    "    # 提交请求\n",
    "    requests = [\"INFO\", \"DEBUG\", \"ERROR\", \"UNKNOWN\"]\n",
    "    for req in requests:\n",
    "        print(f\"Client: Submitting {req} request\")\n",
    "        info_handler.handle(req)\n",
    "        print()\n"
   ]
  },
  {
   "cell_type": "markdown",
   "id": "e9c4f3dd-b8a1-466e-a1b1-499fe9f0a106",
   "metadata": {},
   "source": [
    "## 命令模式"
   ]
  },
  {
   "cell_type": "code",
   "execution_count": null,
   "id": "f0594722-5e49-4706-a25a-8ab5693bb9d5",
   "metadata": {},
   "outputs": [],
   "source": []
  },
  {
   "cell_type": "code",
   "execution_count": null,
   "id": "5afb93df-640e-4885-b471-0728d39b9735",
   "metadata": {},
   "outputs": [],
   "source": []
  },
  {
   "cell_type": "code",
   "execution_count": null,
   "id": "58382cc4-a81e-42d7-8210-bdeaf6e970a1",
   "metadata": {},
   "outputs": [],
   "source": []
  },
  {
   "cell_type": "markdown",
   "id": "ce28bbfb-d6c9-4565-8d8d-859bbe767567",
   "metadata": {},
   "source": [
    "# 其他补充"
   ]
  },
  {
   "cell_type": "code",
   "execution_count": null,
   "id": "daec1e13-aba0-476a-a2bb-4eb82702eb00",
   "metadata": {},
   "outputs": [],
   "source": [
    "MVC模式将应用程序分为三个部分：模型（Model）、视图（View）和控制器（Controller）。这种分离有助于组织代码，使其更易于管理和扩展。"
   ]
  },
  {
   "cell_type": "code",
   "execution_count": null,
   "id": "08817286-f8c4-4d85-8a80-487053da8da3",
   "metadata": {},
   "outputs": [],
   "source": [
    "3. 依赖注入（Dependency Injection）\n",
    "依赖注入是一种设计模式，通过将类的依赖项注入到类的实例中，而不是由类自行创建或管理其依赖项。这种模式促进了代码的松耦合和可测试性。"
   ]
  },
  {
   "cell_type": "code",
   "execution_count": null,
   "id": "b8d56f6e-833b-4d93-a866-495c4b3971be",
   "metadata": {},
   "outputs": [],
   "source": [
    "1. 生产者-消费者模式（Producer-Consumer Pattern）\n",
    "前面已经介绍过，该模式解决了生产者和消费者之间的同步问题，常用于多线程环境下的数据共享和同步。"
   ]
  },
  {
   "cell_type": "code",
   "execution_count": null,
   "id": "90c204fa-0c67-4ee2-8d1e-c49f5ecbeb5a",
   "metadata": {},
   "outputs": [],
   "source": [
    "7. 发布-订阅模式（Publish-Subscribe Pattern）\n",
    "发布-订阅模式允许发送者（发布者）和接收者（订阅者）之间的松耦合，发布者发布消息，订阅者订阅消息，消息通过消息通道传递。常用于事件驱动系统和消息队列系统。"
   ]
  },
  {
   "cell_type": "code",
   "execution_count": null,
   "id": "20dc7641-433d-41cb-aab5-280767e7cd7b",
   "metadata": {},
   "outputs": [],
   "source": [
    "11. 资源池模式（Object Pool Pattern）\n",
    "资源池模式管理一个对象池，这些对象可以被重复使用，而不是每次都重新创建和销毁。这种模式适用于管理连接池、线程池、内存池等。\n",
    "\n",
    "12. 黑板模式（Blackboard Pattern）\n",
    "黑板模式用于解决复杂问题，涉及多个专家系统或知识源。所有组件都通过一个共享的黑板进行通信和协作。"
   ]
  }
 ],
 "metadata": {
  "kernelspec": {
   "display_name": "Python 3 (ipykernel)",
   "language": "python",
   "name": "python3"
  },
  "language_info": {
   "codemirror_mode": {
    "name": "ipython",
    "version": 3
   },
   "file_extension": ".py",
   "mimetype": "text/x-python",
   "name": "python",
   "nbconvert_exporter": "python",
   "pygments_lexer": "ipython3",
   "version": "3.10.14"
  }
 },
 "nbformat": 4,
 "nbformat_minor": 5
}
