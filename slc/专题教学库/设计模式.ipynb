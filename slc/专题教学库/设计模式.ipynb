{
 "cells": [
  {
   "cell_type": "markdown",
   "id": "d0abae4f-2fee-4bd8-804d-fc63432b8b91",
   "metadata": {},
   "source": [
    "# 设计模式"
   ]
  },
  {
   "cell_type": "markdown",
   "id": "b700a334-cf14-4d7c-8de3-2073c0ac359c",
   "metadata": {},
   "source": [
    "# 创造型模式"
   ]
  },
  {
   "cell_type": "markdown",
   "id": "e0536d5b-8b75-4cd9-a3f5-46482786a414",
   "metadata": {},
   "source": [
    "## 单例模式"
   ]
  },
  {
   "cell_type": "code",
   "execution_count": 1,
   "id": "b39a231e-2c3d-497b-89ad-abb02d707227",
   "metadata": {
    "tags": []
   },
   "outputs": [],
   "source": [
    "\n",
    "class Singleton:\n",
    "    _instance = None\n",
    "    x = 1\n",
    "    def __new__(cls):\n",
    "        if not cls._instance:\n",
    "            cls._instance = super().__new__(cls)\n",
    "        return cls._instance"
   ]
  },
  {
   "cell_type": "markdown",
   "id": "5fa72370-cd13-4c91-9a9f-022506656b1a",
   "metadata": {
    "tags": []
   },
   "source": [
    "一个类只能存在一个实例"
   ]
  },
  {
   "cell_type": "code",
   "execution_count": 7,
   "id": "bc5435a6-5810-4f87-9d85-f5df566130f8",
   "metadata": {
    "tags": []
   },
   "outputs": [],
   "source": [
    "a = Singleton()"
   ]
  },
  {
   "cell_type": "code",
   "execution_count": 4,
   "id": "23f4d1af-c2b6-4f18-a88d-5c26ea3e55ad",
   "metadata": {
    "tags": []
   },
   "outputs": [],
   "source": [
    "b = Singleton()"
   ]
  },
  {
   "cell_type": "code",
   "execution_count": 5,
   "id": "2a793aa5-4e59-4d21-a144-3b8aa4ae57f1",
   "metadata": {
    "tags": []
   },
   "outputs": [
    {
     "data": {
      "text/plain": [
       "True"
      ]
     },
     "execution_count": 5,
     "metadata": {},
     "output_type": "execute_result"
    }
   ],
   "source": [
    "a ==b"
   ]
  },
  {
   "cell_type": "code",
   "execution_count": null,
   "id": "02ae3872-4131-44f9-b602-02ee91749986",
   "metadata": {},
   "outputs": [],
   "source": []
  },
  {
   "cell_type": "code",
   "execution_count": 3,
   "id": "49c92170-8cce-48ce-a79f-04477070a237",
   "metadata": {
    "tags": []
   },
   "outputs": [
    {
     "name": "stdout",
     "output_type": "stream",
     "text": [
      "10\n",
      "10\n",
      "True\n"
     ]
    }
   ],
   "source": [
    "class Singleton:\n",
    "    _instance = None\n",
    "\n",
    "    def __new__(cls, *args, **kwargs):\n",
    "        if cls._instance is None:\n",
    "            cls._instance = super().__new__(cls)\n",
    "        return cls._instance\n",
    "\n",
    "    def __init__(self, value):\n",
    "        # 只有第一次初始化时设置值，后续的初始化调用不会更改实例的值\n",
    "        if not hasattr(self, 'initialized'):\n",
    "            self.value = value\n",
    "            self.initialized = True\n",
    "\n",
    "# 测试单例模式\n",
    "singleton1 = Singleton(10)\n",
    "print(singleton1.value)  # 输出: 10\n",
    "\n",
    "singleton2 = Singleton(20)\n",
    "print(singleton2.value)  # 输出: 10\n",
    "\n",
    "print(singleton1 is singleton2)  # 输出: True\n"
   ]
  },
  {
   "cell_type": "code",
   "execution_count": null,
   "id": "09969a4c-078c-479f-b472-c378fef3f766",
   "metadata": {},
   "outputs": [],
   "source": []
  },
  {
   "cell_type": "code",
   "execution_count": null,
   "id": "9e89f7f4-27db-4e1f-9371-53c5d81a5355",
   "metadata": {},
   "outputs": [],
   "source": []
  },
  {
   "cell_type": "code",
   "execution_count": null,
   "id": "ca83711d-55c6-40e5-b627-e2cb2e439d98",
   "metadata": {},
   "outputs": [],
   "source": []
  },
  {
   "cell_type": "markdown",
   "id": "db8fb85f-6422-412d-933f-37e7e37e0def",
   "metadata": {},
   "source": [
    "## 工厂模式"
   ]
  },
  {
   "cell_type": "markdown",
   "id": "46e2e614-c83f-433d-a569-71802fbfbc84",
   "metadata": {},
   "source": [
    "工厂模式:\n",
    "    简单工厂模式\n",
    "    工厂方法模式\n",
    "    抽象工厂模式\n",
    "    \n",
    "工厂模式（Factory Pattern）是一种创建型设计模式，定义了一个接口用于创建对象，但让子类决定实例化哪个类。工厂模式让一个类的实例化延迟到其子类。它通过创建对象的代码与使用对象的代码分离来提供更高的灵活性和可扩展性。"
   ]
  },
  {
   "cell_type": "code",
   "execution_count": null,
   "id": "c280da5c-b087-4e3c-9b0e-8e17a1a84981",
   "metadata": {},
   "outputs": [],
   "source": []
  },
  {
   "cell_type": "markdown",
   "id": "fa595ffb-fe3b-41a9-9c9d-e563dce42137",
   "metadata": {},
   "source": [
    "### 简单工厂模式"
   ]
  },
  {
   "cell_type": "code",
   "execution_count": null,
   "id": "a20b8d62-930b-478b-a73f-ab87f28118c8",
   "metadata": {},
   "outputs": [],
   "source": [
    "车是模板,但是工厂是实体"
   ]
  },
  {
   "cell_type": "code",
   "execution_count": 70,
   "id": "f9f41da3-4587-40b7-94b6-a16322f6fb60",
   "metadata": {
    "tags": []
   },
   "outputs": [],
   "source": [
    "class Car:\n",
    "    def drive(self):\n",
    "        pass\n",
    "    \n",
    "class Sedan(Car):\n",
    "    def drive(self):\n",
    "        print('driving an sedan')\n",
    "        \n",
    "class SUV(Car):\n",
    "    def drive(self):\n",
    "        print(\"driving an SUV\")\n",
    "        \n",
    "class CarFactory:\n",
    "    @staticmethod\n",
    "    def create_car(car_type):\n",
    "        if car_type == 'sedan':\n",
    "            return Sedan()\n",
    "        \n",
    "        elif car_type == 'suv':\n",
    "            return SUV()\n",
    "        \n",
    "        else:\n",
    "            raise ValueError(\"Unkonw Car Type\")"
   ]
  },
  {
   "cell_type": "code",
   "execution_count": 75,
   "id": "aeeb1eae-d264-46af-ad13-303e5fad70d9",
   "metadata": {
    "tags": []
   },
   "outputs": [],
   "source": [
    "car = SUV()"
   ]
  },
  {
   "cell_type": "code",
   "execution_count": 76,
   "id": "812155fc-57df-4dff-9bdf-31e653d714f0",
   "metadata": {
    "tags": []
   },
   "outputs": [
    {
     "name": "stdout",
     "output_type": "stream",
     "text": [
      "driving an SUV\n"
     ]
    }
   ],
   "source": [
    "car.drive()"
   ]
  },
  {
   "cell_type": "code",
   "execution_count": 71,
   "id": "57eceba9-5b6e-4d97-abba-13e625f70e4f",
   "metadata": {
    "tags": []
   },
   "outputs": [],
   "source": [
    "car = CarFactory.create_car('sedan')"
   ]
  },
  {
   "cell_type": "code",
   "execution_count": 73,
   "id": "5a6b9b18-7f17-43be-b701-e7588f1852c1",
   "metadata": {
    "tags": []
   },
   "outputs": [
    {
     "name": "stdout",
     "output_type": "stream",
     "text": [
      "driving an sedan\n"
     ]
    }
   ],
   "source": [
    "car.drive()"
   ]
  },
  {
   "cell_type": "markdown",
   "id": "9112862b-561c-4751-baef-a1763ef37bc6",
   "metadata": {},
   "source": [
    "### 工厂方法模式"
   ]
  },
  {
   "cell_type": "markdown",
   "id": "0c9e37bc-e89a-4f48-a4a7-771565decd2c",
   "metadata": {},
   "source": [
    "车是模板,工厂也是模板"
   ]
  },
  {
   "cell_type": "code",
   "execution_count": null,
   "id": "c4e43116-44c9-4a62-9df3-6f736ad0fdfd",
   "metadata": {},
   "outputs": [],
   "source": [
    "from abc import ABC, abstractmethod\n",
    "\n",
    "class Car(ABC):\n",
    "    @abstractmethod\n",
    "    def drive(self):\n",
    "        pass\n",
    "\n",
    "class Sedan(Car):\n",
    "    def drive(self):\n",
    "        print(\"Driving a sedan...\")\n",
    "\n",
    "class SUV(Car):\n",
    "    def drive(self):\n",
    "        print(\"Driving an SUV...\")\n",
    "\n",
    "class CarFactory(ABC):\n",
    "    @abstractmethod\n",
    "    def create_car(self):\n",
    "        pass\n",
    "\n",
    "    def test_drive(self):\n",
    "        car = self.create_car()\n",
    "        car.drive()\n",
    "\n",
    "class SedanFactory(CarFactory):\n",
    "    def create_car(self):\n",
    "        return Sedan()\n",
    "\n",
    "class SUVFactory(CarFactory):\n",
    "    def create_car(self):\n",
    "        return SUV()\n",
    "\n",
    "# 使用工厂方法模式\n",
    "factory = SedanFactory()\n",
    "factory.test_drive()  # 输出: Driving a sedan...\n",
    "\n",
    "factory = SUVFactory()\n",
    "factory.test_drive()  # 输出: Driving an SUV...\n"
   ]
  },
  {
   "cell_type": "code",
   "execution_count": null,
   "id": "5fd80e8c-5307-4b7d-8174-32c55118fda2",
   "metadata": {},
   "outputs": [],
   "source": []
  },
  {
   "cell_type": "markdown",
   "id": "fca6ee33-e5c4-4fd5-bf19-b0f07d54af28",
   "metadata": {},
   "source": [
    "### 抽象工厂模式"
   ]
  },
  {
   "cell_type": "code",
   "execution_count": null,
   "id": "37253ead-498b-46ff-a384-853b142c3d05",
   "metadata": {},
   "outputs": [],
   "source": [
    "from abc import ABC, abstractmethod\n",
    "\n",
    "class Sedan(ABC):\n",
    "    @abstractmethod\n",
    "    def drive(self):\n",
    "        pass\n",
    "\n",
    "class SUV(ABC):\n",
    "    @abstractmethod\n",
    "    def drive(self):\n",
    "        pass\n",
    "\n",
    "class ElectricSedan(Sedan):\n",
    "    def drive(self):\n",
    "        print(\"Driving an electric sedan...\")\n",
    "\n",
    "class ElectricSUV(SUV):\n",
    "    def drive(self):\n",
    "        print(\"Driving an electric SUV...\")\n",
    "\n",
    "class GasSedan(Sedan):\n",
    "    def drive(self):\n",
    "        print(\"Driving a gas sedan...\")\n",
    "\n",
    "class GasSUV(SUV):\n",
    "    def drive(self):\n",
    "        print(\"Driving a gas SUV...\")\n",
    "\n",
    "class CarFactory(ABC):\n",
    "    @abstractmethod\n",
    "    def create_sedan(self):\n",
    "        pass\n",
    "\n",
    "    @abstractmethod\n",
    "    def create_suv(self):\n",
    "        pass\n",
    "\n",
    "class ElectricCarFactory(CarFactory):\n",
    "    def create_sedan(self):\n",
    "        return ElectricSedan()\n",
    "\n",
    "    def create_suv(self):\n",
    "        return ElectricSUV()\n",
    "\n",
    "class GasCarFactory(CarFactory):\n",
    "    def create_sedan(self):\n",
    "        return GasSedan()\n",
    "\n",
    "    def create_suv(self):\n",
    "        return GasSUV()\n",
    "\n",
    "# 使用抽象工厂模式\n",
    "factory = ElectricCarFactory()\n",
    "sedan = factory.create_sedan()\n",
    "sedan.drive()  # 输出: Driving an electric sedan...\n",
    "\n",
    "factory = GasCarFactory()\n",
    "suv = factory.create_suv()\n",
    "suv.drive()  # 输出: Driving a gas SUV...\n"
   ]
  },
  {
   "cell_type": "code",
   "execution_count": null,
   "id": "85507f33-3f7b-4972-9502-385a0334976d",
   "metadata": {},
   "outputs": [],
   "source": []
  },
  {
   "cell_type": "code",
   "execution_count": null,
   "id": "20f7a4aa-c0fa-4586-87a3-736e99230c11",
   "metadata": {},
   "outputs": [],
   "source": [
    "有点一对一 一对多 多对多的感觉"
   ]
  },
  {
   "cell_type": "markdown",
   "id": "c24d9eb0-a96a-485d-b648-a9ba1456bae4",
   "metadata": {},
   "source": [
    "## 建造者模式"
   ]
  },
  {
   "cell_type": "markdown",
   "id": "b5bcffa5-8fb3-4308-bc55-3d2b1a05d377",
   "metadata": {},
   "source": [
    "目的是将构建过程与表示分开"
   ]
  },
  {
   "cell_type": "code",
   "execution_count": null,
   "id": "9fb7d04e-8f0f-4bae-9cb9-4a749d01d723",
   "metadata": {},
   "outputs": [],
   "source": [
    "# 产品\n",
    "class House:\n",
    "    def __init__(self):\n",
    "        self.foundation = None\n",
    "        self.structure = None\n",
    "        self.roof = None\n",
    "        self.interior = None\n",
    "\n",
    "    def __str__(self):\n",
    "        return f\"House with {self.foundation}, {self.structure}, {self.roof}, and {self.interior}\"\n",
    "\n",
    "# 生成器接口\n",
    "class HouseBuilder:\n",
    "    def build_foundation(self):\n",
    "        pass\n",
    "\n",
    "    def build_structure(self):\n",
    "        pass\n",
    "\n",
    "    def build_roof(self):\n",
    "        pass\n",
    "\n",
    "    def build_interior(self):\n",
    "        pass\n",
    "\n",
    "    def get_house(self):\n",
    "        pass\n",
    "\n",
    "# 具体生成器\n",
    "class ConcreteHouseBuilder(HouseBuilder):\n",
    "    def __init__(self):\n",
    "        self.house = House()\n",
    "\n",
    "    def build_foundation(self):\n",
    "        self.house.foundation = \"Concrete foundation\"\n",
    "\n",
    "    def build_structure(self):\n",
    "        self.house.structure = \"Wood and brick structure\"\n",
    "\n",
    "    def build_roof(self):\n",
    "        self.house.roof = \"Shingle roof\"\n",
    "\n",
    "    def build_interior(self):\n",
    "        self.house.interior = \"Modern interior\"\n",
    "\n",
    "    def get_house(self):\n",
    "        return self.house\n",
    "\n",
    "# 指挥者\n",
    "class Director:\n",
    "    def __init__(self, builder):\n",
    "        self.builder = builder\n",
    "\n",
    "    def construct_house(self):\n",
    "        self.builder.build_foundation()\n",
    "        self.builder.build_structure()\n",
    "        self.builder.build_roof()\n",
    "        self.builder.build_interior()\n",
    "        return self.builder.get_house()\n",
    "\n",
    "# 客户端代码\n",
    "builder = ConcreteHouseBuilder()\n",
    "director = Director(builder)\n",
    "house = director.construct_house()\n",
    "print(house)  # 输出: House with Concrete foundation, Wood and brick structure, Shingle roof, and Modern interior\n"
   ]
  },
  {
   "cell_type": "code",
   "execution_count": null,
   "id": "baeb8abf-5298-4005-9d26-a34b0fe3784e",
   "metadata": {},
   "outputs": [],
   "source": [
    "特别适合流程, 工作流"
   ]
  },
  {
   "cell_type": "code",
   "execution_count": null,
   "id": "de5d74e0-18cf-42a3-8631-c527ed3ff060",
   "metadata": {},
   "outputs": [],
   "source": []
  },
  {
   "cell_type": "markdown",
   "id": "909461b5-472c-48bc-b00e-b45f0987e138",
   "metadata": {},
   "source": [
    "## 原型模式"
   ]
  },
  {
   "cell_type": "code",
   "execution_count": null,
   "id": "6c67dc82-c49f-4d98-ac94-54f48e1db5c8",
   "metadata": {},
   "outputs": [],
   "source": [
    "通过复制现有对象的实例来创建新的对象，而不是通过类实例化。原型模式使得创建对象更加灵活，可以快速生成对象并避免子类化。它通常通过实现一个原型接口或抽象类，包含一个用于克隆对象的方法。"
   ]
  },
  {
   "cell_type": "code",
   "execution_count": 12,
   "id": "3931b668-f737-469e-89a0-f08d5563c8bb",
   "metadata": {
    "tags": []
   },
   "outputs": [
    {
     "name": "stdout",
     "output_type": "stream",
     "text": [
      "Circle [ID=1, Radius=10]\n",
      "Circle [ID=2, Radius=20]\n",
      "Rectangle [ID=1, Width=30, Height=40]\n",
      "Rectangle [ID=2, Width=50, Height=60]\n"
     ]
    }
   ],
   "source": [
    "import copy\n",
    "\n",
    "# 原型接口\n",
    "class Shape:\n",
    "    def __init__(self, id):\n",
    "        self.id = id\n",
    "\n",
    "    def clone(self):\n",
    "        return copy.deepcopy(self)\n",
    "\n",
    "# 具体原型\n",
    "class Circle(Shape):\n",
    "    def __init__(self, id, radius):\n",
    "        super().__init__(id)\n",
    "        self.radius = radius\n",
    "\n",
    "    def __str__(self):\n",
    "        return f\"Circle [ID={self.id}, Radius={self.radius}]\"\n",
    "\n",
    "class Rectangle(Shape):\n",
    "    def __init__(self, id, width, height):\n",
    "        super().__init__(id)\n",
    "        self.width = width\n",
    "        self.height = height\n",
    "\n",
    "    def __str__(self):\n",
    "        return f\"Rectangle [ID={self.id}, Width={self.width}, Height={self.height}]\"\n",
    "\n",
    "# 客户端代码\n",
    "circle1 = Circle(\"1\", 10)\n",
    "print(circle1)  # 输出: Circle [ID=1, Radius=10]\n",
    "\n",
    "circle2 = circle1.clone()\n",
    "circle2.id = \"2\"\n",
    "circle2.radius = 20\n",
    "print(circle2)  # 输出: Circle [ID=2, Radius=20]\n",
    "\n",
    "rectangle1 = Rectangle(\"1\", 30, 40)\n",
    "print(rectangle1)  # 输出: Rectangle [ID=1, Width=30, Height=40]\n",
    "\n",
    "rectangle2 = rectangle1.clone()\n",
    "rectangle2.id = \"2\"\n",
    "rectangle2.width = 50\n",
    "rectangle2.height = 60\n",
    "print(rectangle2)  # 输出: Rectangle [ID=2, Width=50, Height=60]\n"
   ]
  },
  {
   "cell_type": "markdown",
   "id": "4eaaa540-105f-4fad-8951-43535383476d",
   "metadata": {},
   "source": [
    "对象的创建成本较高：\n",
    "当创建对象的成本较高时（例如涉及复杂的初始化过程），通过克隆现有对象可以提高性能。\n",
    "系统需要独立于其产品类的实例化：\n",
    "当系统需要独立于其产品类的实例化时，原型模式通过克隆对象可以实现这一点。\n",
    "对象的结构复杂，且希望避免重复创建复杂对象的结构：\n",
    "通过克隆现有对象，可以避免重复创建复杂对象的结构。\n",
    "需要生成对象的不同状态或组合：\n",
    "当需要生成不同状态或组合的对象时，原型模式可以快速生成这些对象，而不必通过构造函数重新创建。\n"
   ]
  },
  {
   "cell_type": "code",
   "execution_count": null,
   "id": "bb92c975-8f92-4a96-b350-3fa2142f8d59",
   "metadata": {},
   "outputs": [],
   "source": [
    "原型模式就是deepcopy"
   ]
  },
  {
   "cell_type": "code",
   "execution_count": null,
   "id": "1d12d2ad-68dc-4415-bd30-d117e7be1307",
   "metadata": {},
   "outputs": [],
   "source": []
  },
  {
   "cell_type": "code",
   "execution_count": null,
   "id": "7be4bd4b-a03c-40f0-ae14-d084629f569a",
   "metadata": {},
   "outputs": [],
   "source": []
  },
  {
   "cell_type": "markdown",
   "id": "9d8e6e51-ee12-4013-8006-15d72e932eb0",
   "metadata": {},
   "source": [
    "# 结构型模式"
   ]
  },
  {
   "cell_type": "markdown",
   "id": "fe3e0313-21f4-4971-b3fc-5fd46f42a7db",
   "metadata": {},
   "source": [
    "## 适配器模式"
   ]
  },
  {
   "cell_type": "code",
   "execution_count": 1,
   "id": "e6dfec70-9166-4435-ad64-ca43ba7aa30f",
   "metadata": {
    "tags": []
   },
   "outputs": [
    {
     "name": "stdout",
     "output_type": "stream",
     "text": [
      "Printing: Hello, world!\n"
     ]
    }
   ],
   "source": [
    "# 旧的接口\n",
    "class OldPrinter:\n",
    "    def print(self, content):\n",
    "        print(f\"Printing: {content}\")\n",
    "\n",
    "# 新的接口\n",
    "class NewPrinter:\n",
    "    def print_content(self, content):\n",
    "        raise NotImplementedError\n",
    "\n",
    "# 适配器类\n",
    "class PrinterAdapter(NewPrinter):\n",
    "    def __init__(self, old_printer):\n",
    "        self.old_printer = old_printer\n",
    "\n",
    "    def print_content(self, content):\n",
    "        self.old_printer.print(content)\n",
    "\n",
    "# 使用适配器\n",
    "old_printer = OldPrinter()\n",
    "adapter = PrinterAdapter(old_printer)\n",
    "\n",
    "# 现在可以通过新接口调用旧的打印功能\n",
    "adapter.print_content(\"Hello, world!\")\n",
    "\n",
    "\n",
    "# 使用效果就是直接调用老接口的对象的话对方咩有这个方法,\n",
    "# 那么就将老接口传入一个适配器,这样,老接口就有了新方法 有点像电源适配器,或者插头转换器"
   ]
  },
  {
   "cell_type": "code",
   "execution_count": null,
   "id": "976dc857-39dd-48fe-b8b5-ed40da7f82ec",
   "metadata": {},
   "outputs": [],
   "source": []
  },
  {
   "cell_type": "markdown",
   "id": "4ecd1301-2ce9-4471-8154-12978e8b5a6a",
   "metadata": {},
   "source": [
    "## 桥接模式"
   ]
  },
  {
   "cell_type": "code",
   "execution_count": 2,
   "id": "1ab1782c-6971-42de-92d9-9bb16c185461",
   "metadata": {
    "tags": []
   },
   "outputs": [
    {
     "name": "stdout",
     "output_type": "stream",
     "text": [
      "Circle drawn. Filling with red color\n",
      "Square drawn. Filling with green color\n"
     ]
    }
   ],
   "source": [
    "from abc import ABC, abstractmethod\n",
    "\n",
    "# Implementor 接口\n",
    "class Color(ABC):\n",
    "    @abstractmethod\n",
    "    def fill(self):\n",
    "        pass\n",
    "\n",
    "# Concrete Implementor A\n",
    "class RedColor(Color):\n",
    "    def fill(self):\n",
    "        return \"Filling with red color\"\n",
    "\n",
    "# Concrete Implementor B\n",
    "class GreenColor(Color):\n",
    "    def fill(self):\n",
    "        return \"Filling with green color\"\n",
    "\n",
    "# Abstraction 类\n",
    "class Shape(ABC):\n",
    "    def __init__(self, color: Color):\n",
    "        self.color = color\n",
    "\n",
    "    @abstractmethod\n",
    "    def draw(self):\n",
    "        pass\n",
    "\n",
    "# Refined Abstraction A\n",
    "class Circle(Shape):\n",
    "    def draw(self):\n",
    "        return f\"Circle drawn. {self.color.fill()}\"\n",
    "\n",
    "# Refined Abstraction B\n",
    "class Square(Shape):\n",
    "    def draw(self):\n",
    "        return f\"Square drawn. {self.color.fill()}\"\n",
    "\n",
    "# 使用桥接模式\n",
    "red = RedColor()\n",
    "green = GreenColor()\n",
    "\n",
    "circle = Circle(red)\n",
    "square = Square(green)\n",
    "\n",
    "print(circle.draw())\n",
    "print(square.draw())\n",
    "# 桥接模式通过组合关系（而非继承关系）来连接抽象和实现，从而实现更灵活的代码结构。\n",
    "\n",
    "# 就要像你绘制好一幅地图,然后一个一个往前搭建\n",
    "# 就好像枪械与配件一样, 我们定义枪的抽象,但是告诉你枪旁边的配件曹的尺寸,这样,你的配件就可以适应所有类型的枪,而不用管枪是谁生产的,同时,一把枪也可以适配大量的配件,而不用考虑配件是谁产的,什么性能\n",
    "# 类似于现在的type-c 协议 http协议一样\n",
    "\n"
   ]
  },
  {
   "cell_type": "code",
   "execution_count": null,
   "id": "c0496989-1af7-448a-93e2-7b319af44cb0",
   "metadata": {},
   "outputs": [],
   "source": []
  },
  {
   "cell_type": "markdown",
   "id": "107cb0a6-9fd3-4d33-8055-d778a010e3f1",
   "metadata": {},
   "source": [
    "## 组合模式"
   ]
  },
  {
   "cell_type": "code",
   "execution_count": null,
   "id": "f5549df2-432f-46dd-86d0-33a0028a47f5",
   "metadata": {},
   "outputs": [],
   "source": []
  },
  {
   "cell_type": "code",
   "execution_count": null,
   "id": "dd2b3bb6-7406-4110-8b55-247bbd87270b",
   "metadata": {},
   "outputs": [],
   "source": []
  },
  {
   "cell_type": "code",
   "execution_count": null,
   "id": "6bc82bbe-ab28-4a13-9639-846f9e31a501",
   "metadata": {},
   "outputs": [],
   "source": []
  },
  {
   "cell_type": "code",
   "execution_count": 1,
   "id": "80721470-2323-446b-af9a-017c4839de5e",
   "metadata": {
    "tags": []
   },
   "outputs": [
    {
     "name": "stdout",
     "output_type": "stream",
     "text": [
      "Directory: dir2\n",
      "File: file2.txt\n",
      "Directory: dir1\n",
      "File: file1.txt\n"
     ]
    }
   ],
   "source": [
    "from abc import ABC, abstractmethod\n",
    "\n",
    "# Component 接口\n",
    "class FileSystemComponent(ABC):\n",
    "    @abstractmethod\n",
    "    def operation(self):\n",
    "        pass\n",
    "\n",
    "# Leaf 类\n",
    "class File(FileSystemComponent):\n",
    "    def __init__(self, name):\n",
    "        self.name = name\n",
    "\n",
    "    def operation(self):\n",
    "        return f\"File: {self.name}\"\n",
    "\n",
    "# Composite 类\n",
    "class Directory(FileSystemComponent):\n",
    "    def __init__(self, name):\n",
    "        self.name = name\n",
    "        self.children = []\n",
    "\n",
    "    def add(self, component: FileSystemComponent):\n",
    "        self.children.append(component)\n",
    "\n",
    "    def remove(self, component: FileSystemComponent):\n",
    "        self.children.remove(component)\n",
    "\n",
    "    def operation(self):\n",
    "        results = [f\"Directory: {self.name}\"]\n",
    "        for child in self.children:\n",
    "            results.append(child.operation())\n",
    "        return \"\\n\".join(results)\n",
    "\n",
    "# 使用组合模式\n",
    "file1 = File(\"file1.txt\")\n",
    "file2 = File(\"file2.txt\")\n",
    "\n",
    "directory1 = Directory(\"dir1\")\n",
    "directory1.add(file1)\n",
    "\n",
    "directory2 = Directory(\"dir2\")\n",
    "directory2.add(file2)\n",
    "directory2.add(directory1)\n",
    "\n",
    "print(directory2.operation())\n",
    "\n",
    "# 理解了,是一种高级复杂的模式,类似于文件系统 文件是叶子 文件夹是节点,节点可以包括节点 节点也可以包括叶子,也会产生多级嵌套 \n",
    "# 可以使用这种"
   ]
  },
  {
   "cell_type": "markdown",
   "id": "9cbdb7da-5066-40da-9099-d96223436951",
   "metadata": {},
   "source": [
    "## 装饰器模式"
   ]
  },
  {
   "cell_type": "code",
   "execution_count": null,
   "id": "c00dfd28-5e1b-4641-9429-211eeda5341f",
   "metadata": {},
   "outputs": [],
   "source": []
  },
  {
   "cell_type": "code",
   "execution_count": 9,
   "id": "cbe367fb-7368-4704-8216-b5d25c8950b4",
   "metadata": {
    "tags": []
   },
   "outputs": [
    {
     "name": "stdout",
     "output_type": "stream",
     "text": [
      "Original message: Hello, world!\n",
      "Encrypted message: Encrypted(Hello, world!)\n",
      "Compressed and Encrypted message: Compressed(Encrypted(Hello, world!))\n"
     ]
    }
   ],
   "source": [
    "from abc import ABC, abstractmethod\n",
    "\n",
    "# Component 接口\n",
    "class Message(ABC):\n",
    "    @abstractmethod\n",
    "    def get_content(self):\n",
    "        pass\n",
    "\n",
    "# Concrete Component 类\n",
    "class SimpleMessage(Message):\n",
    "    def __init__(self, content):\n",
    "        self._content = content\n",
    "\n",
    "    def get_content(self):\n",
    "        return self._content\n",
    "\n",
    "# Decorator 类\n",
    "class MessageDecorator(Message):\n",
    "    def __init__(self, message: Message):\n",
    "        self._message = message\n",
    "\n",
    "    @abstractmethod\n",
    "    def get_content(self):\n",
    "        pass\n",
    "\n",
    "# Concrete Decorator A 类\n",
    "class EncryptedMessage(MessageDecorator):\n",
    "    def get_content(self):\n",
    "        return f\"Encrypted({self._message.get_content()})\"\n",
    "\n",
    "# Concrete Decorator B 类\n",
    "class CompressedMessage(MessageDecorator):\n",
    "    def get_content(self):\n",
    "        return f\"Compressed({self._message.get_content()})\"\n",
    "\n",
    "# 使用装饰器模式\n",
    "simple_message = SimpleMessage(\"Hello, world!\")\n",
    "print(\"Original message:\", simple_message.get_content())\n",
    "\n",
    "encrypted_message = EncryptedMessage(simple_message)\n",
    "print(\"Encrypted message:\", encrypted_message.get_content())\n",
    "\n",
    "compressed_and_encrypted_message = CompressedMessage(encrypted_message)\n",
    "print(\"Compressed and Encrypted message:\", compressed_and_encrypted_message.get_content())\n",
    "\n",
    "\n",
    "## 装饰器的作用 类似于代码中,但是这个应该更加适用于流,  以下是一个装饰器模式的示例。假设我们有一个简单的文本消息系统，我们可以通过装饰器动态地为消息添加各种功能，例如加密、压缩等。"
   ]
  },
  {
   "cell_type": "code",
   "execution_count": null,
   "id": "b2b897cf-de6e-4f5c-9532-881cd9c69b4a",
   "metadata": {},
   "outputs": [],
   "source": []
  },
  {
   "cell_type": "markdown",
   "id": "a2c061fc-6ffe-44ab-9db7-a371258cb2c0",
   "metadata": {},
   "source": [
    "## 外观模式"
   ]
  },
  {
   "cell_type": "code",
   "execution_count": 5,
   "id": "84adf809-c2da-480b-bf94-bbf2bdc838c4",
   "metadata": {
    "tags": []
   },
   "outputs": [
    {
     "name": "stdout",
     "output_type": "stream",
     "text": [
      "Get ready to watch a movie...\n",
      "TV is on\n",
      "Sound system is on\n",
      "Sound system volume set to 20\n",
      "DVD player is on\n",
      "Playing movie: Inception\n",
      "Shutting down the home theater...\n",
      "TV is off\n",
      "Sound system is off\n",
      "DVD player is off\n"
     ]
    }
   ],
   "source": [
    "# 子系统类\n",
    "class TV:\n",
    "    def on(self):\n",
    "        print(\"TV is on\")\n",
    "\n",
    "    def off(self):\n",
    "        print(\"TV is off\")\n",
    "\n",
    "class SoundSystem:\n",
    "    def on(self):\n",
    "        print(\"Sound system is on\")\n",
    "\n",
    "    def off(self):\n",
    "        print(\"Sound system is off\")\n",
    "\n",
    "    def set_volume(self, volume):\n",
    "        print(f\"Sound system volume set to {volume}\")\n",
    "\n",
    "class DVDPlayer:\n",
    "    def on(self):\n",
    "        print(\"DVD player is on\")\n",
    "\n",
    "    def off(self):\n",
    "        print(\"DVD player is off\")\n",
    "\n",
    "    def play(self, movie):\n",
    "        print(f\"Playing movie: {movie}\")\n",
    "\n",
    "# 外观类\n",
    "class HomeTheaterFacade:\n",
    "    def __init__(self, tv: TV, sound_system: SoundSystem, dvd_player: DVDPlayer):\n",
    "        self._tv = tv\n",
    "        self._sound_system = sound_system\n",
    "        self._dvd_player = dvd_player\n",
    "\n",
    "    def watch_movie(self, movie):\n",
    "        print(\"Get ready to watch a movie...\")\n",
    "        self._tv.on()\n",
    "        self._sound_system.on()\n",
    "        self._sound_system.set_volume(20)\n",
    "        self._dvd_player.on()\n",
    "        self._dvd_player.play(movie)\n",
    "\n",
    "    def end_movie(self):\n",
    "        print(\"Shutting down the home theater...\")\n",
    "        self._tv.off()\n",
    "        self._sound_system.off()\n",
    "        self._dvd_player.off()\n",
    "\n",
    "# 使用外观模式\n",
    "tv = TV()\n",
    "sound_system = SoundSystem()\n",
    "dvd_player = DVDPlayer()\n",
    "\n",
    "home_theater = HomeTheaterFacade(tv, sound_system, dvd_player)\n",
    "home_theater.watch_movie(\"Inception\")\n",
    "home_theater.end_movie()\n",
    "\n",
    "## 外观模式其实就是常用的综合类嘛\n",
    "# main的类别 work的工作  自动化工作流的想法\n",
    "\n",
    "\n"
   ]
  },
  {
   "cell_type": "code",
   "execution_count": null,
   "id": "366e3204-b037-422c-9981-905b2ee7b82c",
   "metadata": {},
   "outputs": [],
   "source": []
  },
  {
   "cell_type": "markdown",
   "id": "45455fd7-6d01-4024-a895-eb6cdfd228b1",
   "metadata": {
    "tags": []
   },
   "source": [
    "## 享元模式\n",
    "享元模式（Flyweight Pattern）是一种结构型设计模式，它通过共享细粒度对象来减少内存消耗并提高性能。享元模式特别适用于大量相似对象的场景，它通过共享相同的对象来减少重复实例的数量，从而节省内存。"
   ]
  },
  {
   "cell_type": "code",
   "execution_count": 7,
   "id": "52b6173d-2898-4ceb-8d1d-1b9129eecdd2",
   "metadata": {
    "tags": []
   },
   "outputs": [
    {
     "name": "stdout",
     "output_type": "stream",
     "text": [
      "Drawing tree 'Oak' of color 'Green' with texture 'Rough' at (1, 1)\n",
      "Drawing tree 'Pine' of color 'Green' with texture 'Smooth' at (2, 3)\n",
      "Drawing tree 'Oak' of color 'Green' with texture 'Rough' at (4, 5)\n"
     ]
    }
   ],
   "source": [
    "class TreeType:\n",
    "    def __init__(self, name, color, texture):\n",
    "        self.name = name\n",
    "        self.color = color\n",
    "        self.texture = texture\n",
    "\n",
    "    def draw(self, canvas, x, y):\n",
    "        # 在给定位置绘制树\n",
    "        print(f\"Drawing tree '{self.name}' of color '{self.color}' with texture '{self.texture}' at ({x}, {y})\")\n",
    "\n",
    "class TreeFactory:\n",
    "    _tree_types = {}\n",
    "\n",
    "    @classmethod\n",
    "    def get_tree_type(cls, name, color, texture):\n",
    "        key = (name, color, texture)\n",
    "        if key not in cls._tree_types:\n",
    "            cls._tree_types[key] = TreeType(name, color, texture)\n",
    "        return cls._tree_types[key]\n",
    "\n",
    "class Tree:\n",
    "    def __init__(self, x, y, tree_type):\n",
    "        self.x = x\n",
    "        self.y = y\n",
    "        self.tree_type = tree_type\n",
    "\n",
    "    def draw(self, canvas):\n",
    "        self.tree_type.draw(canvas, self.x, self.y)\n",
    "\n",
    "class Forest:\n",
    "    def __init__(self):\n",
    "        self.trees = []\n",
    "\n",
    "    def plant_tree(self, x, y, name, color, texture):\n",
    "        tree_type = TreeFactory.get_tree_type(name, color, texture)\n",
    "        tree = Tree(x, y, tree_type)\n",
    "        self.trees.append(tree)\n",
    "\n",
    "    def draw(self, canvas):\n",
    "        for tree in self.trees:\n",
    "            tree.draw(canvas)\n",
    "\n",
    "# 使用享元模式\n",
    "forest = Forest()\n",
    "forest.plant_tree(1, 1, \"Oak\", \"Green\", \"Rough\")\n",
    "forest.plant_tree(2, 3, \"Pine\", \"Green\", \"Smooth\")\n",
    "forest.plant_tree(4, 5, \"Oak\", \"Green\", \"Rough\")  # 共享已有的树种类\n",
    "\n",
    "forest.draw(\"Canvas\")\n",
    "\n",
    "# 单例模式的加强版\n",
    "#共享一部分内容 而平移另一部分内容\n",
    "# 有点像图章,制作好了一个图章以后, 就可以到处印了\n",
    "# 如果想要新的图章,就定义新图章"
   ]
  },
  {
   "cell_type": "code",
   "execution_count": null,
   "id": "3e15807b-c106-43df-a964-a2aeb198a211",
   "metadata": {},
   "outputs": [],
   "source": []
  },
  {
   "cell_type": "code",
   "execution_count": null,
   "id": "0d2ea1b3-e8cc-4691-a895-e725cb900420",
   "metadata": {},
   "outputs": [],
   "source": [
    "## 代理模式\n",
    "代理模式的分类\n",
    "远程代理（Remote Proxy）：控制对远程对象的访问。\n",
    "虚拟代理（Virtual Proxy）：控制对资源消耗大的对象的访问，可以延迟对象的创建。\n",
    "保护代理（Protection Proxy）：控制对原始对象的访问权限。\n",
    "智能代理（Smart Proxy）：在访问对象时执行一些附加操作，例如记录访问日志、引用计数等。"
   ]
  },
  {
   "cell_type": "code",
   "execution_count": null,
   "id": "43cb6935-85e1-40b7-b4de-6c1ecce305e3",
   "metadata": {},
   "outputs": [],
   "source": []
  },
  {
   "cell_type": "code",
   "execution_count": 9,
   "id": "ba07c834-0e9e-4991-8c0e-1a058c581941",
   "metadata": {
    "tags": []
   },
   "outputs": [],
   "source": [
    "from abc import ABC, abstractmethod\n",
    "\n",
    "# 抽象主题\n",
    "class Image(ABC):\n",
    "    @abstractmethod\n",
    "    def display(self):\n",
    "        pass\n",
    "\n",
    "# 真实主题\n",
    "class RealImage(Image):\n",
    "    def __init__(self, filename):\n",
    "        self.filename = filename\n",
    "        self.load_from_disk()\n",
    "\n",
    "    def load_from_disk(self):\n",
    "        print(f\"Loading {self.filename}\")\n",
    "\n",
    "    def display(self):\n",
    "        print(f\"Displaying {self.filename}\")\n",
    "\n",
    "# 代理\n",
    "class ProxyImage(Image):\n",
    "    def __init__(self, filename):\n",
    "        self.filename = filename\n",
    "        self.real_image = None\n",
    "\n",
    "    def display(self):\n",
    "        if self.real_image is None:\n",
    "            self.real_image = RealImage(self.filename)\n",
    "        self.real_image.display()\n",
    "\n",
    "\n"
   ]
  },
  {
   "cell_type": "code",
   "execution_count": 11,
   "id": "4ba1fc8e-b64b-4b6b-969e-cc433e851957",
   "metadata": {
    "tags": []
   },
   "outputs": [],
   "source": [
    "# 使用代理模式\n",
    "proxy_image = ProxyImage(\"test_image.jpg\")\n"
   ]
  },
  {
   "cell_type": "code",
   "execution_count": 13,
   "id": "76014d5e-cb22-4634-9c16-c0a09d17ba78",
   "metadata": {
    "tags": []
   },
   "outputs": [
    {
     "name": "stdout",
     "output_type": "stream",
     "text": [
      "Loading test_image.jpg\n",
      "Displaying test_image.jpg\n"
     ]
    }
   ],
   "source": [
    "# 其实就是延迟加载的逻辑\n",
    "proxy_image.display()"
   ]
  },
  {
   "cell_type": "code",
   "execution_count": 14,
   "id": "eff2e61b-4a7d-4a2b-ac5e-6273b271cec9",
   "metadata": {
    "tags": []
   },
   "outputs": [
    {
     "name": "stdout",
     "output_type": "stream",
     "text": [
      "Displaying test_image.jpg\n"
     ]
    }
   ],
   "source": [
    "proxy_image.display()"
   ]
  },
  {
   "cell_type": "code",
   "execution_count": null,
   "id": "429b1ea8-5bf5-4e52-9685-3418ae303442",
   "metadata": {},
   "outputs": [],
   "source": []
  },
  {
   "cell_type": "markdown",
   "id": "991bdd30-f781-4708-ba7c-8cd5b06729e3",
   "metadata": {},
   "source": [
    "# 行为型模式"
   ]
  },
  {
   "cell_type": "markdown",
   "id": "55cef544-e556-4065-928c-7e6b19262f49",
   "metadata": {},
   "source": [
    "## 责任链模式"
   ]
  },
  {
   "cell_type": "code",
   "execution_count": 2,
   "id": "779a5708-bde3-488a-9111-6ee12e6fff61",
   "metadata": {
    "tags": []
   },
   "outputs": [
    {
     "name": "stdout",
     "output_type": "stream",
     "text": [
      "Client: Submitting INFO request\n",
      "InfoHandler: Handling INFO level request\n",
      "\n",
      "Client: Submitting DEBUG request\n",
      "DebugHandler: Handling DEBUG level request\n",
      "\n",
      "Client: Submitting ERROR request\n",
      "ErrorHandler: Handling ERROR level request\n",
      "\n",
      "Client: Submitting UNKNOWN request\n",
      "\n"
     ]
    }
   ],
   "source": [
    "from abc import ABC, abstractmethod\n",
    "\n",
    "class Handler(ABC):\n",
    "    def __init__(self):\n",
    "        self._next_handler = None\n",
    "\n",
    "    def set_next(self, handler):\n",
    "        self._next_handler = handler\n",
    "        return handler\n",
    "\n",
    "    @abstractmethod\n",
    "    def handle(self, request):\n",
    "        if self._next_handler:\n",
    "            return self._next_handler.handle(request)\n",
    "        return None\n",
    "\n",
    "class InfoHandler(Handler):\n",
    "    def handle(self, request):\n",
    "        if request == \"INFO\":\n",
    "            print(\"InfoHandler: Handling INFO level request\")\n",
    "        else:\n",
    "            super().handle(request)\n",
    "\n",
    "class DebugHandler(Handler):\n",
    "    def handle(self, request):\n",
    "        if request == \"DEBUG\":\n",
    "            print(\"DebugHandler: Handling DEBUG level request\")\n",
    "        else:\n",
    "            super().handle(request)\n",
    "\n",
    "class ErrorHandler(Handler):\n",
    "    def handle(self, request):\n",
    "        if request == \"ERROR\":\n",
    "            print(\"ErrorHandler: Handling ERROR level request\")\n",
    "        else:\n",
    "            super().handle(request)\n",
    "\n",
    "# 客户端代码\n",
    "if __name__ == \"__main__\":\n",
    "    # 创建具体处理者\n",
    "    info_handler = InfoHandler()\n",
    "    debug_handler = DebugHandler()\n",
    "    error_handler = ErrorHandler()\n",
    "\n",
    "    # 设置处理链\n",
    "    info_handler.set_next(debug_handler).set_next(error_handler)\n",
    "\n",
    "    # 提交请求\n",
    "    requests = [\"INFO\", \"DEBUG\", \"ERROR\", \"UNKNOWN\"]\n",
    "    for req in requests:\n",
    "        print(f\"Client: Submitting {req} request\")\n",
    "        info_handler.handle(req)\n",
    "        print()\n"
   ]
  },
  {
   "cell_type": "code",
   "execution_count": null,
   "id": "12ac12f5-e28d-40c6-900d-a8083d95c205",
   "metadata": {},
   "outputs": [],
   "source": [
    "OA 审批流程,权限验证"
   ]
  },
  {
   "cell_type": "markdown",
   "id": "e9c4f3dd-b8a1-466e-a1b1-499fe9f0a106",
   "metadata": {},
   "source": [
    "## 命令模式"
   ]
  },
  {
   "cell_type": "code",
   "execution_count": null,
   "id": "f0594722-5e49-4706-a25a-8ab5693bb9d5",
   "metadata": {},
   "outputs": [],
   "source": [
    "命令模式（Command Pattern）是一种行为型设计模式，它将请求封装为对象，使得可以使用不同的请求、队列或日志来参数化其他对象。命令模式还支持撤销操作。"
   ]
  },
  {
   "cell_type": "code",
   "execution_count": null,
   "id": "5afb93df-640e-4885-b471-0728d39b9735",
   "metadata": {},
   "outputs": [],
   "source": []
  },
  {
   "cell_type": "code",
   "execution_count": null,
   "id": "951b6822-42bd-49ad-92db-237dfdf2b995",
   "metadata": {},
   "outputs": [],
   "source": [
    "from abc import ABC, abstractmethod\n",
    "\n",
    "# 命令接口\n",
    "class Command(ABC):\n",
    "    @abstractmethod\n",
    "    def execute(self):\n",
    "        pass\n",
    "\n",
    "# 接收者\n",
    "class Light:\n",
    "    def on(self):\n",
    "        print(\"Light is ON\")\n",
    "    \n",
    "    def off(self):\n",
    "        print(\"Light is OFF\")\n",
    "\n",
    "# 具体命令 - 打开灯\n",
    "class LightOnCommand(Command):\n",
    "    def __init__(self, light: Light):\n",
    "        self.light = light\n",
    "    \n",
    "    def execute(self):\n",
    "        self.light.on()\n",
    "\n",
    "# 具体命令 - 关闭灯\n",
    "class LightOffCommand(Command):\n",
    "    def __init__(self, light: Light):\n",
    "        self.light = light\n",
    "    \n",
    "    def execute(self):\n",
    "        self.light.off()\n",
    "\n",
    "# 调用者\n",
    "class RemoteControl:\n",
    "    def __init__(self):\n",
    "        self.command = None\n",
    "    \n",
    "    def set_command(self, command: Command):\n",
    "        self.command = command\n",
    "    \n",
    "    def press_button(self):\n",
    "        if self.command:\n",
    "            self.command.execute()\n",
    "\n",
    "# 客户端代码\n",
    "if __name__ == \"__main__\":\n",
    "    # 创建接收者\n",
    "    light = Light()\n",
    "\n",
    "    # 创建具体命令\n",
    "    light_on = LightOnCommand(light)\n",
    "    light_off = LightOffCommand(light)\n",
    "\n",
    "    # 创建调用者\n",
    "    remote = RemoteControl()\n",
    "\n",
    "    # 设置命令并执行\n",
    "    remote.set_command(light_on)\n",
    "    remote.press_button()  # 输出：Light is ON\n",
    "\n",
    "    remote.set_command(light_off)\n",
    "    remote.press_button()  # 输出：Light is OFF\n"
   ]
  },
  {
   "cell_type": "code",
   "execution_count": null,
   "id": "5573cf52-ddf9-4794-a02e-44c277f411ff",
   "metadata": {},
   "outputs": [],
   "source": [
    "命令模式的优点和缺点\n",
    "优点：\n",
    "\n",
    "解耦请求发送者和接收者：请求发送者只需知道命令对象，而不需要知道接收者是谁或如何处理请求。\n",
    "支持撤销和恢复操作：通过存储命令对象，可以轻松实现撤销和恢复功能。\n",
    "支持命令队列：命令对象可以排队执行，使得系统可以支持请求的日志记录和事务管理。\n",
    "增加新的命令容易：添加新的命令只需实现命令接口，不需要修改现有的代码。\n",
    "缺点：\n",
    "\n",
    "增加了系统的复杂性：需要额外的类来实现命令模式，可能会增加系统的复杂性。\n",
    "命令对象的管理：在大型系统中，管理大量的命令对象可能会变得困难。\n",
    "命令模式的应用场景\n",
    "GUI开发：如菜单项和按钮的操作，通过命令模式实现可以方便地实现撤销和恢复功能。\n",
    "事务系统：如数据库事务，通过命令模式实现可以方便地支持事务的提交和回滚。\n",
    "任务队列：如任务调度系统，通过命令模式可以将任务对象放入队列中，并按顺序执行。\n",
    "日志和审计：通过命令模式，可以记录所有操作，以便于审计和回放。\n",
    "通过命令模式，可以将请求的发送者和接收者解耦，使得系统更加灵活和可扩展。命令模式特别适用于需要支持撤销、恢复和事务管理的系统。"
   ]
  },
  {
   "cell_type": "code",
   "execution_count": null,
   "id": "edbc6227-99ba-4465-8942-1385e59046a9",
   "metadata": {},
   "outputs": [],
   "source": []
  },
  {
   "cell_type": "markdown",
   "id": "8d6e9da5-e8b5-4282-8d4e-eeb07238b45d",
   "metadata": {},
   "source": [
    "## 解释器模式（Interpreter）"
   ]
  },
  {
   "cell_type": "code",
   "execution_count": null,
   "id": "8ca6efcb-e918-44d9-aca8-1d0bef495664",
   "metadata": {},
   "outputs": [],
   "source": [
    "解释器模式为一种语言定义一个解释器，该解释器使用一系列的表达式来表示文法规则。每种表达式都实现了一个解释操作。\n"
   ]
  },
  {
   "cell_type": "code",
   "execution_count": 3,
   "id": "33b0d266-3d60-403a-b2b6-66a574643a61",
   "metadata": {
    "tags": []
   },
   "outputs": [
    {
     "name": "stdout",
     "output_type": "stream",
     "text": [
      "Result of the expression: 15\n"
     ]
    }
   ],
   "source": [
    "from abc import ABC, abstractmethod\n",
    "\n",
    "# 上下文类，存储变量的值\n",
    "class Context:\n",
    "    def __init__(self):\n",
    "        self.data = {}\n",
    "    \n",
    "    def set(self, variable, value):\n",
    "        self.data[variable] = value\n",
    "    \n",
    "    def get(self, variable):\n",
    "        return self.data.get(variable)\n",
    "\n",
    "# 抽象表达式类\n",
    "class Expression(ABC):\n",
    "    @abstractmethod\n",
    "    def interpret(self, context: Context):\n",
    "        pass\n",
    "\n",
    "# 终结符表达式：表示变量\n",
    "class VariableExpression(Expression):\n",
    "    def __init__(self, name):\n",
    "        self.name = name\n",
    "    \n",
    "    def interpret(self, context: Context):\n",
    "        return context.get(self.name)\n",
    "\n",
    "# 终结符表达式：表示数字\n",
    "class NumberExpression(Expression):\n",
    "    def __init__(self, number):\n",
    "        self.number = number\n",
    "    \n",
    "    def interpret(self, context: Context):\n",
    "        return self.number\n",
    "\n",
    "# 非终结符表达式：加法表达式\n",
    "class AddExpression(Expression):\n",
    "    def __init__(self, left: Expression, right: Expression):\n",
    "        self.left = left\n",
    "        self.right = right\n",
    "    \n",
    "    def interpret(self, context: Context):\n",
    "        return self.left.interpret(context) + self.right.interpret(context)\n",
    "\n",
    "# 非终结符表达式：减法表达式\n",
    "class SubtractExpression(Expression):\n",
    "    def __init__(self, left: Expression, right: Expression):\n",
    "        self.left = left\n",
    "        self.right = right\n",
    "    \n",
    "    def interpret(self, context: Context):\n",
    "        return self.left.interpret(context) - self.right.interpret(context)\n",
    "\n",
    "# 客户端代码\n",
    "if __name__ == \"__main__\":\n",
    "    # 创建上下文并设置变量的值\n",
    "    context = Context()\n",
    "    context.set(\"x\", 10)\n",
    "    context.set(\"y\", 20)\n",
    "\n",
    "    # 创建表达式\n",
    "    expression = AddExpression(\n",
    "        SubtractExpression(\n",
    "            NumberExpression(5),\n",
    "            VariableExpression(\"x\")\n",
    "        ),\n",
    "        VariableExpression(\"y\")\n",
    "    )\n",
    "\n",
    "    # 解释并计算表达式的值\n",
    "    result = expression.interpret(context)\n",
    "    print(f\"Result of the expression: {result}\")  # 输出：Result of the expression: 15\n"
   ]
  },
  {
   "cell_type": "code",
   "execution_count": null,
   "id": "3cf643b2-cd58-405e-b565-e83c04576213",
   "metadata": {},
   "outputs": [],
   "source": [
    "解释器模式的应用场景\n",
    "编译器：编译器中的语法解析器使用解释器模式来解析和解释代码。\n",
    "脚本语言：解释脚本语言，如正则表达式解析器、SQL解析器等。\n",
    "配置文件解析：解析和评估简单的配置文件或命令行参数。\n",
    "机器人指令解释：机器人或自动化系统中的命令解释和执行。"
   ]
  },
  {
   "cell_type": "code",
   "execution_count": null,
   "id": "46b8cc5b-3ec9-427e-b194-8e7338ed765e",
   "metadata": {},
   "outputs": [],
   "source": [
    "没太懂"
   ]
  },
  {
   "cell_type": "markdown",
   "id": "88a1f038-efdf-4067-81de-556027288b25",
   "metadata": {},
   "source": [
    "## 迭代器模式"
   ]
  },
  {
   "cell_type": "code",
   "execution_count": null,
   "id": "763e723c-c56f-451d-ae9d-b1676a6d1ca4",
   "metadata": {},
   "outputs": [],
   "source": [
    "Python 的迭代器语法是迭代器模式的一个具体实现，并且得到了语言本身的支持和优化。Python 迭代器协议使得定义和使用迭代器更加简洁和高效，而不需要显式定义多个类。尽管 Python 的迭代器实现遵循了迭代器模式的原则，但它通过语言的内置支持简化了实现过程，提高了代码的可读性和可维护性。"
   ]
  },
  {
   "cell_type": "code",
   "execution_count": null,
   "id": "820a6c1b-9be8-4aac-9d05-f122c9ee9715",
   "metadata": {},
   "outputs": [],
   "source": []
  },
  {
   "cell_type": "markdown",
   "id": "17999f46-0021-4da9-a578-f40862fe9d28",
   "metadata": {},
   "source": [
    "## 中介者模式（Mediator）"
   ]
  },
  {
   "cell_type": "code",
   "execution_count": 4,
   "id": "14722491-b646-421d-a46b-e0ec4e278d8b",
   "metadata": {
    "tags": []
   },
   "outputs": [
    {
     "name": "stdout",
     "output_type": "stream",
     "text": [
      "User1 sends message: Hello everyone!\n",
      "User2 receives message: Hello everyone!\n",
      "User3 receives message: Hello everyone!\n"
     ]
    }
   ],
   "source": [
    "from abc import ABC, abstractmethod\n",
    "\n",
    "# 中介者接口\n",
    "class Mediator(ABC):\n",
    "    @abstractmethod\n",
    "    def send(self, message: str, colleague: 'Colleague'):\n",
    "        pass\n",
    "\n",
    "# 具体中介者\n",
    "class ConcreteMediator(Mediator):\n",
    "    def __init__(self):\n",
    "        self._colleagues = []\n",
    "\n",
    "    def add_colleague(self, colleague: 'Colleague'):\n",
    "        self._colleagues.append(colleague)\n",
    "        colleague.set_mediator(self)\n",
    "\n",
    "    def send(self, message: str, colleague: 'Colleague'):\n",
    "        for c in self._colleagues:\n",
    "            if c != colleague:\n",
    "                c.receive(message)\n",
    "\n",
    "# 同事对象接口\n",
    "class Colleague(ABC):\n",
    "    def __init__(self):\n",
    "        self._mediator = None\n",
    "\n",
    "    def set_mediator(self, mediator: Mediator):\n",
    "        self._mediator = mediator\n",
    "\n",
    "    @abstractmethod\n",
    "    def send(self, message: str):\n",
    "        pass\n",
    "\n",
    "    @abstractmethod\n",
    "    def receive(self, message: str):\n",
    "        pass\n",
    "\n",
    "# 具体同事对象\n",
    "class ConcreteColleague(Colleague):\n",
    "    def __init__(self, name):\n",
    "        super().__init__()\n",
    "        self._name = name\n",
    "\n",
    "    def send(self, message: str):\n",
    "        print(f\"{self._name} sends message: {message}\")\n",
    "        self._mediator.send(message, self)\n",
    "\n",
    "    def receive(self, message: str):\n",
    "        print(f\"{self._name} receives message: {message}\")\n",
    "\n",
    "# 客户端代码\n",
    "if __name__ == \"__main__\":\n",
    "    # 创建中介者\n",
    "    mediator = ConcreteMediator()\n",
    "\n",
    "    # 创建同事对象\n",
    "    colleague1 = ConcreteColleague(\"User1\")\n",
    "    colleague2 = ConcreteColleague(\"User2\")\n",
    "    colleague3 = ConcreteColleague(\"User3\")\n",
    "\n",
    "    # 将同事对象添加到中介者\n",
    "    mediator.add_colleague(colleague1)\n",
    "    mediator.add_colleague(colleague2)\n",
    "    mediator.add_colleague(colleague3)\n",
    "\n",
    "    # 发送消息\n",
    "    colleague1.send(\"Hello everyone!\")\n"
   ]
  },
  {
   "cell_type": "code",
   "execution_count": null,
   "id": "8458325b-c5d1-4e0f-a371-527694e3cf3c",
   "metadata": {},
   "outputs": [],
   "source": [
    "简单来说就是群聊, "
   ]
  },
  {
   "cell_type": "code",
   "execution_count": null,
   "id": "b93992b1-6ac2-406b-bc34-d19476893395",
   "metadata": {},
   "outputs": [],
   "source": []
  },
  {
   "cell_type": "markdown",
   "id": "2fe4386c-0e73-4714-a258-cd6d2e12e6da",
   "metadata": {},
   "source": [
    "## 备忘录模式"
   ]
  },
  {
   "cell_type": "code",
   "execution_count": null,
   "id": "fae3c9bf-3a11-4903-883f-29e1c559b10e",
   "metadata": {},
   "outputs": [],
   "source": [
    "主要用于实现状态回滚功能\n"
   ]
  },
  {
   "cell_type": "code",
   "execution_count": 5,
   "id": "dac83e94-1675-4b80-9f94-8edcd000b1ff",
   "metadata": {
    "tags": []
   },
   "outputs": [
    {
     "name": "stdout",
     "output_type": "stream",
     "text": [
      "Current State: State 1\n",
      "Current State: State 2\n",
      "Restored State: State 1\n"
     ]
    }
   ],
   "source": [
    "class Memento:\n",
    "    def __init__(self, state: str):\n",
    "        self._state = state\n",
    "\n",
    "    def get_state(self) -> str:\n",
    "        return self._state\n",
    "\n",
    "    def set_state(self, state: str):\n",
    "        self._state = state\n",
    "\n",
    "class Originator:\n",
    "    def __init__(self):\n",
    "        self._state = \"\"\n",
    "\n",
    "    def set_state(self, state: str):\n",
    "        self._state = state\n",
    "\n",
    "    def get_state(self) -> str:\n",
    "        return self._state\n",
    "\n",
    "    def create_memento(self) -> Memento:\n",
    "        return Memento(self._state)\n",
    "\n",
    "    def set_memento(self, memento: Memento):\n",
    "        self._state = memento.get_state()\n",
    "\n",
    "class Caretaker:\n",
    "    def __init__(self):\n",
    "        self._memento = None\n",
    "\n",
    "    def save(self, memento: Memento):\n",
    "        self._memento = memento\n",
    "\n",
    "    def retrieve(self) -> Memento:\n",
    "        return self._memento\n",
    "\n",
    "# 客户端代码\n",
    "if __name__ == \"__main__\":\n",
    "    originator = Originator()\n",
    "    caretaker = Caretaker()\n",
    "\n",
    "    # 设置和保存状态\n",
    "    originator.set_state(\"State 1\")\n",
    "    print(f\"Current State: {originator.get_state()}\")\n",
    "    caretaker.save(originator.create_memento())\n",
    "\n",
    "    # 修改状态\n",
    "    originator.set_state(\"State 2\")\n",
    "    print(f\"Current State: {originator.get_state()}\")\n",
    "\n",
    "    # 恢复到先前的状态\n",
    "    originator.set_memento(caretaker.retrieve())\n",
    "    print(f\"Restored State: {originator.get_state()}\")\n"
   ]
  },
  {
   "cell_type": "code",
   "execution_count": null,
   "id": "5735cd7c-dcf4-40d5-a6f0-316f4b0d91c5",
   "metadata": {},
   "outputs": [],
   "source": [
    "主要实现回滚操作"
   ]
  },
  {
   "cell_type": "markdown",
   "id": "24da6a8d-4515-4db2-884f-aa99e2aefc6d",
   "metadata": {},
   "source": [
    "## 观察者模式（Observer）"
   ]
  },
  {
   "cell_type": "code",
   "execution_count": 6,
   "id": "b1013de9-ab64-4cf5-a956-4ee0c1f0991c",
   "metadata": {},
   "outputs": [
    {
     "name": "stdout",
     "output_type": "stream",
     "text": [
      "WeatherData: setting temperature to 25.0\n",
      "Main Display: temperature updated to 25.0\n",
      "Secondary Display: temperature updated to 25.0\n",
      "WeatherData: setting temperature to 30.0\n",
      "Main Display: temperature updated to 30.0\n",
      "Secondary Display: temperature updated to 30.0\n",
      "WeatherData: setting temperature to 35.0\n",
      "Secondary Display: temperature updated to 35.0\n"
     ]
    }
   ],
   "source": [
    "from abc import ABC, abstractmethod\n",
    "from typing import List\n",
    "\n",
    "# 主题接口\n",
    "class Subject(ABC):\n",
    "    @abstractmethod\n",
    "    def attach(self, observer: 'Observer'):\n",
    "        pass\n",
    "\n",
    "    @abstractmethod\n",
    "    def detach(self, observer: 'Observer'):\n",
    "        pass\n",
    "\n",
    "    @abstractmethod\n",
    "    def notify(self):\n",
    "        pass\n",
    "\n",
    "# 具体主题\n",
    "class WeatherData(Subject):\n",
    "    def __init__(self):\n",
    "        self._observers: List[Observer] = []\n",
    "        self._temperature: float = 0.0\n",
    "\n",
    "    def attach(self, observer: 'Observer'):\n",
    "        self._observers.append(observer)\n",
    "\n",
    "    def detach(self, observer: 'Observer'):\n",
    "        self._observers.remove(observer)\n",
    "\n",
    "    def notify(self):\n",
    "        for observer in self._observers:\n",
    "            observer.update(self._temperature)\n",
    "\n",
    "    def set_temperature(self, temperature: float):\n",
    "        print(f\"WeatherData: setting temperature to {temperature}\")\n",
    "        self._temperature = temperature\n",
    "        self.notify()\n",
    "\n",
    "# 观察者接口\n",
    "class Observer(ABC):\n",
    "    @abstractmethod\n",
    "    def update(self, temperature: float):\n",
    "        pass\n",
    "\n",
    "# 具体观察者\n",
    "class TemperatureDisplay(Observer):\n",
    "    def __init__(self, name: str):\n",
    "        self._name = name\n",
    "        self._temperature = 0.0\n",
    "\n",
    "    def update(self, temperature: float):\n",
    "        self._temperature = temperature\n",
    "        print(f\"{self._name} Display: temperature updated to {self._temperature}\")\n",
    "\n",
    "# 客户端代码\n",
    "if __name__ == \"__main__\":\n",
    "    weather_data = WeatherData()\n",
    "    \n",
    "    temp_display1 = TemperatureDisplay(\"Main\")\n",
    "    temp_display2 = TemperatureDisplay(\"Secondary\")\n",
    "    \n",
    "    weather_data.attach(temp_display1)\n",
    "    weather_data.attach(temp_display2)\n",
    "    \n",
    "    weather_data.set_temperature(25.0)\n",
    "    weather_data.set_temperature(30.0)\n",
    "    \n",
    "    weather_data.detach(temp_display1)\n",
    "    weather_data.set_temperature(35.0)\n"
   ]
  },
  {
   "cell_type": "code",
   "execution_count": null,
   "id": "5417ceae-bbb7-4952-82c3-7a6cf2fa4385",
   "metadata": {},
   "outputs": [],
   "source": []
  },
  {
   "cell_type": "markdown",
   "id": "34ea823e-2068-438b-8f5f-d2243cd61d0b",
   "metadata": {},
   "source": [
    "## 状态模式（State）\n",
    "状态模式允许对象在其内部状态发生改变时改变其行为，对象看起来好像修改了它的类。状态模式将状态转换行为封装到不同的状态类中，使得状态的切换更加灵活和可扩展。\n",
    "\n",
    "应用场景：状态机、游戏中的对象状态变化、工作流引擎等。\n"
   ]
  },
  {
   "cell_type": "code",
   "execution_count": 7,
   "id": "63e89fa5-3bd7-43cf-b9e6-faed96788381",
   "metadata": {
    "tags": []
   },
   "outputs": [
    {
     "name": "stdout",
     "output_type": "stream",
     "text": [
      "Light is off. Turning it on.\n",
      "Light is already on. Turning it off.\n",
      "Light is off. Turning it on.\n"
     ]
    }
   ],
   "source": [
    "from abc import ABC, abstractmethod\n",
    "\n",
    "# 抽象状态\n",
    "class State(ABC):\n",
    "    @abstractmethod\n",
    "    def handle(self, context: 'Context'):\n",
    "        pass\n",
    "\n",
    "# 具体状态：灯打开\n",
    "class OnState(State):\n",
    "    def handle(self, context: 'Context'):\n",
    "        print(\"Light is already on. Turning it off.\")\n",
    "        context.set_state(OffState())\n",
    "\n",
    "# 具体状态：灯关闭\n",
    "class OffState(State):\n",
    "    def handle(self, context: 'Context'):\n",
    "        print(\"Light is off. Turning it on.\")\n",
    "        context.set_state(OnState())\n",
    "\n",
    "# 上下文\n",
    "class Context:\n",
    "    def __init__(self, state: State):\n",
    "        self._state = state\n",
    "\n",
    "    def request(self):\n",
    "        self._state.handle(self)\n",
    "\n",
    "    def set_state(self, state: State):\n",
    "        self._state = state\n",
    "\n",
    "# 客户端代码\n",
    "if __name__ == \"__main__\":\n",
    "    # 创建上下文和初始状态\n",
    "    context = Context(OffState())\n",
    "\n",
    "    # 改变状态\n",
    "    context.request()\n",
    "    context.request()\n",
    "    context.request()\n"
   ]
  },
  {
   "cell_type": "code",
   "execution_count": null,
   "id": "8877dbb9-f0c3-48dc-92cc-a605da16f79a",
   "metadata": {},
   "outputs": [],
   "source": []
  },
  {
   "cell_type": "markdown",
   "id": "8caa0195-1838-47e9-911e-e9f41ec86aad",
   "metadata": {},
   "source": [
    "## 策略模式（Strategy）\n",
    "策略模式定义一系列算法，并将每个算法封装起来，使它们可以相互替换。策略模式使得算法可以在不影响客户端的情况下发生变化。\n",
    "\n",
    "应用场景：排序算法、加密算法、日志策略等。"
   ]
  },
  {
   "cell_type": "code",
   "execution_count": 8,
   "id": "04e9a2a2-d3a3-407f-a5b7-cd94d2653c8f",
   "metadata": {
    "tags": []
   },
   "outputs": [
    {
     "name": "stdout",
     "output_type": "stream",
     "text": [
      "Using QuickSort\n",
      "[2, 3, 4, 5, 8]\n",
      "Using InsertionSort\n",
      "[2, 3, 4, 5, 8]\n"
     ]
    }
   ],
   "source": [
    "from abc import ABC, abstractmethod\n",
    "from typing import List\n",
    "\n",
    "# 策略接口\n",
    "class SortStrategy(ABC):\n",
    "    @abstractmethod\n",
    "    def sort(self, data: List[int]) -> List[int]:\n",
    "        pass\n",
    "\n",
    "# 具体策略：快速排序\n",
    "class QuickSortStrategy(SortStrategy):\n",
    "    def sort(self, data: List[int]) -> List[int]:\n",
    "        print(\"Using QuickSort\")\n",
    "        return sorted(data)  # 这里使用Python内置排序作为简化的快速排序实现\n",
    "\n",
    "# 具体策略：插入排序\n",
    "class InsertionSortStrategy(SortStrategy):\n",
    "    def sort(self, data: List[int]) -> List[int]:\n",
    "        print(\"Using InsertionSort\")\n",
    "        for i in range(1, len(data)):\n",
    "            key = data[i]\n",
    "            j = i - 1\n",
    "            while j >= 0 and key < data[j]:\n",
    "                data[j + 1] = data[j]\n",
    "                j -= 1\n",
    "            data[j + 1] = key\n",
    "        return data\n",
    "\n",
    "# 上下文\n",
    "class SortContext:\n",
    "    def __init__(self, strategy: SortStrategy):\n",
    "        self._strategy = strategy\n",
    "\n",
    "    def set_strategy(self, strategy: SortStrategy):\n",
    "        self._strategy = strategy\n",
    "\n",
    "    def sort(self, data: List[int]) -> List[int]:\n",
    "        return self._strategy.sort(data)\n",
    "\n",
    "# 客户端代码\n",
    "if __name__ == \"__main__\":\n",
    "    data = [5, 3, 8, 4, 2]\n",
    "\n",
    "    context = SortContext(QuickSortStrategy())\n",
    "    print(context.sort(data))\n",
    "\n",
    "    context.set_strategy(InsertionSortStrategy())\n",
    "    print(context.sort(data))\n"
   ]
  },
  {
   "cell_type": "code",
   "execution_count": null,
   "id": "25277cb8-cd5e-4b9a-9727-0f22d345fbf9",
   "metadata": {},
   "outputs": [],
   "source": []
  },
  {
   "cell_type": "markdown",
   "id": "782177e4-a528-4346-85f7-90d8333c6872",
   "metadata": {
    "tags": []
   },
   "source": [
    "## 模板方法模式（Template Method）\n",
    "模板方法模式在一个方法中定义了算法的骨架，而将一些步骤延迟到子类中。模板方法使得子类可以在不改变算法结构的情况下，重新定义算法的某些步骤。\n",
    "\n",
    "应用场景：算法框架、工作流程、游戏开发中的AI行为等。\n"
   ]
  },
  {
   "cell_type": "code",
   "execution_count": null,
   "id": "8824c7be-c76d-43a9-8333-a0ba0f1b34f3",
   "metadata": {},
   "outputs": [],
   "source": []
  },
  {
   "cell_type": "code",
   "execution_count": 9,
   "id": "9b15edbb-8aab-4b7a-9c57-46ae8bc9599a",
   "metadata": {
    "tags": []
   },
   "outputs": [
    {
     "name": "stdout",
     "output_type": "stream",
     "text": [
      "Reading data from a CSV file.\n",
      "Processing data from a CSV file.\n",
      "Saving processed data.\n",
      "Reading data from a JSON file.\n",
      "Processing data from a JSON file.\n",
      "Saving processed data.\n"
     ]
    }
   ],
   "source": [
    "from abc import ABC, abstractmethod\n",
    "\n",
    "# 抽象类\n",
    "class DataProcessor(ABC):\n",
    "    def process_data(self):\n",
    "        self.read_data()\n",
    "        self.process()\n",
    "        self.save_data()\n",
    "\n",
    "    @abstractmethod\n",
    "    def read_data(self):\n",
    "        pass\n",
    "\n",
    "    @abstractmethod\n",
    "    def process(self):\n",
    "        pass\n",
    "\n",
    "    def save_data(self):\n",
    "        print(\"Saving processed data.\")\n",
    "\n",
    "# 具体类\n",
    "class CSVDataProcessor(DataProcessor):\n",
    "    def read_data(self):\n",
    "        print(\"Reading data from a CSV file.\")\n",
    "\n",
    "    def process(self):\n",
    "        print(\"Processing data from a CSV file.\")\n",
    "\n",
    "class JSONDataProcessor(DataProcessor):\n",
    "    def read_data(self):\n",
    "        print(\"Reading data from a JSON file.\")\n",
    "\n",
    "    def process(self):\n",
    "        print(\"Processing data from a JSON file.\")\n",
    "\n",
    "# 客户端代码\n",
    "if __name__ == \"__main__\":\n",
    "    csv_processor = CSVDataProcessor()\n",
    "    csv_processor.process_data()\n",
    "\n",
    "    json_processor = JSONDataProcessor()\n",
    "    json_processor.process_data()\n"
   ]
  },
  {
   "cell_type": "code",
   "execution_count": null,
   "id": "78533056-2d91-4e85-961a-4921a050b274",
   "metadata": {},
   "outputs": [],
   "source": []
  },
  {
   "cell_type": "code",
   "execution_count": null,
   "id": "2b032e9a-772b-4c75-924a-3e5347480df4",
   "metadata": {},
   "outputs": [],
   "source": []
  },
  {
   "cell_type": "markdown",
   "id": "18f078af-3671-4acf-af76-a9f79c3d8628",
   "metadata": {
    "tags": []
   },
   "source": [
    "## 访问者模式（Visitor）\n",
    "访问者模式表示一个作用于某对象结构中的各元素的操作，它使你可以在不改变各元素的类的前提下定义作用于这些元素的新操作。\n",
    "\n"
   ]
  },
  {
   "cell_type": "code",
   "execution_count": null,
   "id": "ba86a7e8-1478-4bb9-a857-f7b0962b560f",
   "metadata": {},
   "outputs": [],
   "source": []
  },
  {
   "cell_type": "code",
   "execution_count": 10,
   "id": "0fbe96ea-47b8-46e9-90ee-745e060dc39f",
   "metadata": {
    "tags": []
   },
   "outputs": [
    {
     "name": "stdout",
     "output_type": "stream",
     "text": [
      "Directory: root\n",
      "Directory: dir1\n",
      "File: file1.txt, Size: 100\n",
      "File: file2.txt, Size: 200\n",
      "File: file3.txt, Size: 300\n",
      "Total Size: 600\n"
     ]
    }
   ],
   "source": [
    "from abc import ABC, abstractmethod\n",
    "from typing import List\n",
    "\n",
    "# 访问者接口\n",
    "class Visitor(ABC):\n",
    "    @abstractmethod\n",
    "    def visit_file(self, file: 'File'):\n",
    "        pass\n",
    "\n",
    "    @abstractmethod\n",
    "    def visit_directory(self, directory: 'Directory'):\n",
    "        pass\n",
    "\n",
    "# 具体访问者：计算文件系统的总大小\n",
    "class SizeVisitor(Visitor):\n",
    "    def __init__(self):\n",
    "        self.total_size = 0\n",
    "\n",
    "    def visit_file(self, file: 'File'):\n",
    "        self.total_size += file.size\n",
    "        print(f\"File: {file.name}, Size: {file.size}\")\n",
    "\n",
    "    def visit_directory(self, directory: 'Directory'):\n",
    "        print(f\"Directory: {directory.name}\")\n",
    "        for element in directory.elements:\n",
    "            element.accept(self)\n",
    "\n",
    "# 元素接口\n",
    "class Element(ABC):\n",
    "    @abstractmethod\n",
    "    def accept(self, visitor: Visitor):\n",
    "        pass\n",
    "\n",
    "# 具体元素：文件\n",
    "class File(Element):\n",
    "    def __init__(self, name: str, size: int):\n",
    "        self.name = name\n",
    "        self.size = size\n",
    "\n",
    "    def accept(self, visitor: Visitor):\n",
    "        visitor.visit_file(self)\n",
    "\n",
    "# 具体元素：文件夹\n",
    "class Directory(Element):\n",
    "    def __init__(self, name: str):\n",
    "        self.name = name\n",
    "        self.elements: List[Element] = []\n",
    "\n",
    "    def add(self, element: Element):\n",
    "        self.elements.append(element)\n",
    "\n",
    "    def accept(self, visitor: Visitor):\n",
    "        visitor.visit_directory(self)\n",
    "\n",
    "# 客户端代码\n",
    "if __name__ == \"__main__\":\n",
    "    # 创建文件和文件夹结构\n",
    "    file1 = File(\"file1.txt\", 100)\n",
    "    file2 = File(\"file2.txt\", 200)\n",
    "    dir1 = Directory(\"dir1\")\n",
    "    dir1.add(file1)\n",
    "    dir1.add(file2)\n",
    "\n",
    "    file3 = File(\"file3.txt\", 300)\n",
    "    root = Directory(\"root\")\n",
    "    root.add(dir1)\n",
    "    root.add(file3)\n",
    "\n",
    "    # 使用访问者计算总大小\n",
    "    size_visitor = SizeVisitor()\n",
    "    root.accept(size_visitor)\n",
    "    print(f\"Total Size: {size_visitor.total_size}\")\n"
   ]
  },
  {
   "cell_type": "code",
   "execution_count": null,
   "id": "d2df9525-75a2-4e33-8c9e-65c52b3eb5ab",
   "metadata": {},
   "outputs": [],
   "source": []
  },
  {
   "cell_type": "markdown",
   "id": "ce28bbfb-d6c9-4565-8d8d-859bbe767567",
   "metadata": {},
   "source": [
    "# 其他补充"
   ]
  },
  {
   "cell_type": "code",
   "execution_count": null,
   "id": "ef6e36f7-fa33-44db-b728-75b6d05a69ef",
   "metadata": {},
   "outputs": [],
   "source": [
    "1. 依赖注入（Dependency Injection）\n",
    "依赖注入是一种设计模式，通过将类的依赖项注入到类的实例中，而不是由类自行创建或管理其依赖项。这种模式促进了代码的松耦合和可测试性。\n",
    "\n",
    "2. 生产者-消费者模式（Producer-Consumer Pattern）\n",
    "前面已经介绍过，该模式解决了生产者和消费者之间的同步问题，常用于多线程环境下的数据共享和同步。\n",
    "\n",
    "3. 发布-订阅模式（Publish-Subscribe Pattern）\n",
    "发布-订阅模式允许发送者（发布者）和接收者（订阅者）之间的松耦合，发布者发布消息，订阅者订阅消息，消息通过消息通道传递。常用于事件驱动系统和消息队列系统。\n",
    "\n",
    "4. 资源池模式（Object Pool Pattern）\n",
    "资源池模式管理一个对象池，这些对象可以被重复使用，而不是每次都重新创建和销毁。这种模式适用于管理连接池、线程池、内存池等。\n",
    "\n",
    "5. 黑板模式（Blackboard Pattern）\n",
    "黑板模式用于解决复杂问题，涉及多个专家系统或知识源。所有组件都通过一个共享的黑板进行通信和协作。"
   ]
  }
 ],
 "metadata": {
  "kernelspec": {
   "display_name": "Python 3 (ipykernel)",
   "language": "python",
   "name": "python3"
  },
  "language_info": {
   "codemirror_mode": {
    "name": "ipython",
    "version": 3
   },
   "file_extension": ".py",
   "mimetype": "text/x-python",
   "name": "python",
   "nbconvert_exporter": "python",
   "pygments_lexer": "ipython3",
   "version": "3.10.14"
  }
 },
 "nbformat": 4,
 "nbformat_minor": 5
}
