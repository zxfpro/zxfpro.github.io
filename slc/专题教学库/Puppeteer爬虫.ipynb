{
 "cells": [
  {
   "cell_type": "markdown",
   "id": "370ca537-312a-4418-8c22-23d5862dcc3e",
   "metadata": {
    "tags": []
   },
   "source": [
    "# puppeteer "
   ]
  },
  {
   "cell_type": "markdown",
   "id": "48d23add-0ce9-480b-b471-1226aa1db2d9",
   "metadata": {},
   "source": [
    "1 docker 不能成功执行"
   ]
  },
  {
   "cell_type": "markdown",
   "id": "24f862b8-1b51-4855-8d6e-b4c2eaee6b69",
   "metadata": {},
   "source": [
    "https://pptr.dev/guides/page-interactions"
   ]
  },
  {
   "cell_type": "markdown",
   "id": "7018f2c4-c900-4d8c-9d43-dcc0aa07278b",
   "metadata": {},
   "source": [
    "## 环境安装 略"
   ]
  },
  {
   "cell_type": "code",
   "execution_count": null,
   "id": "e18727eb-8cb9-4c0c-a216-c326dd06ce5e",
   "metadata": {},
   "outputs": [],
   "source": [
    "npm install puppeteer@21.11.0"
   ]
  },
  {
   "cell_type": "code",
   "execution_count": null,
   "id": "a4987c8a-790e-4e33-8b14-7afe01fd33c2",
   "metadata": {},
   "outputs": [],
   "source": [
    "npm install puppeteer-extra puppeteer-extra-plugin-stealth\n"
   ]
  },
  {
   "cell_type": "markdown",
   "id": "39de55e7-37ba-4610-986a-5c36a72a8f64",
   "metadata": {
    "tags": []
   },
   "source": [
    "## 一些小工具"
   ]
  },
  {
   "cell_type": "markdown",
   "id": "802eefa0-0cd8-4491-8def-e8d562d6573e",
   "metadata": {},
   "source": [
    "### if"
   ]
  },
  {
   "cell_type": "code",
   "execution_count": null,
   "id": "1cce6dba-4f04-4513-9cf8-6217b5249ca9",
   "metadata": {},
   "outputs": [],
   "source": [
    "if (a) {} else {}"
   ]
  },
  {
   "cell_type": "code",
   "execution_count": null,
   "id": "79c85485-1195-410e-8155-276ad8fd9c16",
   "metadata": {},
   "outputs": [],
   "source": []
  },
  {
   "cell_type": "markdown",
   "id": "73f7eda6-1314-4007-a9d1-85010b7feffd",
   "metadata": {},
   "source": [
    "### 取反"
   ]
  },
  {
   "cell_type": "code",
   "execution_count": null,
   "id": "8ac2e6aa-8897-4cf0-894f-305772029292",
   "metadata": {
    "tags": []
   },
   "outputs": [],
   "source": [
    "!isDisabledtab"
   ]
  },
  {
   "cell_type": "markdown",
   "id": "10f27a91-d261-40e3-8a5f-5acede12457e",
   "metadata": {},
   "source": [
    "### sleep函数"
   ]
  },
  {
   "cell_type": "code",
   "execution_count": null,
   "id": "21422145-b737-4f4d-b866-d3885f51762d",
   "metadata": {},
   "outputs": [],
   "source": [
    "function sleep(ms) {\n",
    "  return new Promise(resolve => setTimeout(resolve, ms));\n",
    "}"
   ]
  },
  {
   "cell_type": "code",
   "execution_count": null,
   "id": "e5ab9e56-202a-482d-bfdd-c8d51ec98593",
   "metadata": {},
   "outputs": [],
   "source": [
    "await sleep(2000); // 等待2秒"
   ]
  },
  {
   "cell_type": "code",
   "execution_count": null,
   "id": "3a434b93-3bb6-479a-b8b8-334e7c2a0cb2",
   "metadata": {},
   "outputs": [],
   "source": []
  },
  {
   "cell_type": "markdown",
   "id": "369fd474-0de9-4909-a0d3-937dac882290",
   "metadata": {},
   "source": [
    "### 箭头函数"
   ]
  },
  {
   "cell_type": "code",
   "execution_count": null,
   "id": "59ac45f7-ed39-4127-96fa-ad6d427327aa",
   "metadata": {},
   "outputs": [],
   "source": [
    "region => {...} // 这个是箭头函数 入参是region"
   ]
  },
  {
   "cell_type": "markdown",
   "id": "40a4a0d8-bc6c-435b-b1a5-c1bdafc9206e",
   "metadata": {
    "tags": []
   },
   "source": [
    "### 打日志"
   ]
  },
  {
   "cell_type": "code",
   "execution_count": null,
   "id": "bc0f6ca7-e95d-47ba-aba2-4d312e399bc9",
   "metadata": {},
   "outputs": [],
   "source": [
    "console.log('check')\n",
    "\n",
    "console.log(`success ${api_home}`);"
   ]
  },
  {
   "cell_type": "code",
   "execution_count": null,
   "id": "b80905c5-5213-4530-8778-cc92663e6067",
   "metadata": {},
   "outputs": [],
   "source": [
    "console.log(typeof true);"
   ]
  },
  {
   "cell_type": "markdown",
   "id": "0551a389-aaa4-4451-b24a-8058480f3526",
   "metadata": {},
   "source": [
    "### 图像画框"
   ]
  },
  {
   "cell_type": "code",
   "execution_count": null,
   "id": "fc363d95-722d-4b4b-9109-739ea85d0354",
   "metadata": {},
   "outputs": [],
   "source": [
    "import cv2\n",
    "# 加载图像\n",
    "image_path = 'xxx.png'  # 替换为你的图片路径\n",
    "image = cv2.imread(image_path)\n",
    "\n",
    "# 定义矩形框的坐标 (左上角和右下角)\n",
    "start_point = (790, 210)  # 左上角\n",
    "end_point = (895, 295)  # 右下角\n",
    "\n",
    "# 定义颜色 (B, G, R)\n",
    "color = (0, 0, 255)  # 蓝色\n",
    "\n",
    "# 定义线条粗细\n",
    "thickness = 4\n",
    "\n",
    "# 在图像上绘制矩形框\n",
    "cv2.rectangle(image, start_point, end_point, color, thickness)\n",
    "\n",
    "# 保存图像\n",
    "cv2.imwrite('xxx1.png', image)"
   ]
  },
  {
   "cell_type": "code",
   "execution_count": null,
   "id": "e72f5325-4d7e-4905-a10e-d82a84c695ae",
   "metadata": {},
   "outputs": [],
   "source": []
  },
  {
   "cell_type": "markdown",
   "id": "ea22a576-a296-4fab-b694-bd95ead8a131",
   "metadata": {},
   "source": [
    "### 定义变量"
   ]
  },
  {
   "cell_type": "code",
   "execution_count": null,
   "id": "4ca909a9-d1e6-4286-b45a-8dc0f9a3137b",
   "metadata": {},
   "outputs": [],
   "source": [
    "const url = process.argv[2];\n",
    "const timeout = 5000;"
   ]
  },
  {
   "cell_type": "code",
   "execution_count": null,
   "id": "e2841ad2-546a-4d8d-8808-94355f675a14",
   "metadata": {},
   "outputs": [],
   "source": [
    "const 常量定义"
   ]
  },
  {
   "cell_type": "code",
   "execution_count": null,
   "id": "0a34d101-ea46-4ccc-bfd5-45383d9eaaf6",
   "metadata": {},
   "outputs": [],
   "source": [
    "var 变量定义"
   ]
  },
  {
   "cell_type": "code",
   "execution_count": null,
   "id": "ee240fc4-24b6-49b0-9615-bccf0ca3c06e",
   "metadata": {},
   "outputs": [],
   "source": []
  },
  {
   "cell_type": "code",
   "execution_count": null,
   "id": "b352410f-1b90-4fe9-9769-355ef6de573f",
   "metadata": {},
   "outputs": [],
   "source": []
  },
  {
   "cell_type": "markdown",
   "id": "fc1e9aba-1437-40e5-bdaf-443875b50b5a",
   "metadata": {},
   "source": [
    "### 参数传递"
   ]
  },
  {
   "cell_type": "code",
   "execution_count": null,
   "id": "f7079cbf-f44a-4edc-b102-67056454b4e4",
   "metadata": {},
   "outputs": [],
   "source": [
    "// 获取命令行参数\n",
    "const args = process.argv.slice(2);\n",
    "let api_home, url, headless, userdir, executablePath;\n",
    "\n",
    "\n",
    "args.forEach(arg => {\n",
    "    const [key, value] = arg.split('=');\n",
    "    if (key && value) {\n",
    "        switch (key) {\n",
    "            case '--api-home':\n",
    "                api_home = value;\n",
    "                break;\n",
    "            case '--url':\n",
    "                url = value;\n",
    "                break;\n",
    "            case '--headless':\n",
    "                headless = value === 'true';\n",
    "                break;\n",
    "            case '--userdir':\n",
    "                userdir = value;\n",
    "                break;\n",
    "            case '--executablePath':\n",
    "                executablePath = value;\n",
    "                break;\n",
    "            default:\n",
    "                console.log(`Unknown parameter: ${key}`);\n",
    "        }\n",
    "    } else {\n",
    "        console.log(`Invalid parameter format: ${arg}`);\n",
    "    }\n",
    "});\n",
    "\n",
    "// 检查参数是否已传递\n",
    "if (!api_home || !url || !userdir || !executablePath || headless === undefined) {\n",
    "    console.error('Missing required parameters. Usage: node workflows.js --api-home=<api-home> --url=<url> --headless=<true|false> --userdir=<userdir> --executablePath=<executablePath>');\n",
    "    process.exit(1);\n",
    "}\n",
    "\n",
    "// 打印参数\n",
    "console.log(`API Home: ${api_home}`);\n",
    "console.log(`URL: ${url}`);\n",
    "console.log(`Headless: ${headless}`);\n",
    "console.log(`User Directory: ${userdir}`);\n",
    "console.log(`Executable Path: ${executablePath}`);\n"
   ]
  },
  {
   "cell_type": "code",
   "execution_count": null,
   "id": "6299bdff-409d-4aa7-934c-dcbf68f79f6a",
   "metadata": {},
   "outputs": [],
   "source": []
  },
  {
   "cell_type": "markdown",
   "id": "ac986c47-8bb9-49fa-9473-9242fd393f9f",
   "metadata": {},
   "source": [
    "### 函数编写"
   ]
  },
  {
   "cell_type": "code",
   "execution_count": null,
   "id": "fbb1799e-4aa8-4c9b-a414-d0b16c19451c",
   "metadata": {},
   "outputs": [],
   "source": [
    "async function example() {\n",
    "  console.log('Start');\n",
    "  await sleep(2000); // 等待2秒\n",
    "  console.log('2 seconds later');\n",
    "\n",
    "  const cookies = await page.cookies();\n",
    "  const fs = require('fs');\n",
    "  fs.writeFileSync('cookies.json', JSON.stringify(cookies, null, 2));\n",
    "\n",
    "  console.log('cookie over')\n",
    "}"
   ]
  },
  {
   "cell_type": "code",
   "execution_count": null,
   "id": "2c08ab32-5d65-4ae8-8ca1-93539d5bcc1e",
   "metadata": {},
   "outputs": [],
   "source": [
    "function sleep(ms) {\n",
    "  return new Promise(resolve => setTimeout(resolve, ms));\n",
    "}"
   ]
  },
  {
   "cell_type": "code",
   "execution_count": null,
   "id": "f2a5f3fe-94c2-4bb7-9eea-cc6c7aa121dd",
   "metadata": {},
   "outputs": [],
   "source": []
  },
  {
   "cell_type": "markdown",
   "id": "12f39a82-ea5f-451b-a774-07d43d46c98f",
   "metadata": {},
   "source": [
    "### 保存文件"
   ]
  },
  {
   "cell_type": "code",
   "execution_count": null,
   "id": "0f032b62-e155-464f-bd13-15f286851ca6",
   "metadata": {},
   "outputs": [],
   "source": [
    "const path = require('path');"
   ]
  },
  {
   "cell_type": "code",
   "execution_count": null,
   "id": "2243a4d8-d3c1-46b3-a2a1-4196edffee1e",
   "metadata": {},
   "outputs": [],
   "source": [
    "const filePath = path.join(__dirname, 'aa.html');"
   ]
  },
  {
   "cell_type": "code",
   "execution_count": null,
   "id": "f1fd8833-c187-45bf-bfbe-c699658be3c6",
   "metadata": {},
   "outputs": [],
   "source": [
    "const fs = require('fs');"
   ]
  },
  {
   "cell_type": "code",
   "execution_count": null,
   "id": "c12129df-f9c3-4a37-8f15-b218edabef7d",
   "metadata": {},
   "outputs": [],
   "source": [
    "fs.writeFileSync(filePath, htmlContent, 'utf8');"
   ]
  },
  {
   "cell_type": "code",
   "execution_count": null,
   "id": "aa9e4d56-1d9d-4b86-9d43-c4c9190f29bb",
   "metadata": {},
   "outputs": [],
   "source": []
  },
  {
   "cell_type": "markdown",
   "id": "62bbcef7-0e62-4638-899e-d95c7630fd0e",
   "metadata": {},
   "source": [
    "### 读取文件"
   ]
  },
  {
   "cell_type": "code",
   "execution_count": null,
   "id": "94dc954d-5a0b-4eaa-9339-6cdfe96de0ae",
   "metadata": {},
   "outputs": [],
   "source": [
    "const tasksFile = process.argv[2];\n",
    "if (!tasksFile) {\n",
    "    console.error('No tasks file provided');\n",
    "    process.exit(1);\n",
    "}\n",
    "\n",
    "let tasks;\n",
    "try {\n",
    "    const data = fs.readFileSync(tasksFile, 'utf8');\n",
    "    tasks = JSON.parse(data);\n",
    "} catch (error) {\n",
    "    console.error('Error reading or parsing tasks file:', error);\n",
    "    process.exit(1);\n",
    "}\n"
   ]
  },
  {
   "cell_type": "code",
   "execution_count": null,
   "id": "a9deba95-4013-45dc-b638-fbceedddcdcf",
   "metadata": {},
   "outputs": [],
   "source": []
  },
  {
   "cell_type": "code",
   "execution_count": null,
   "id": "d9141f5b-af4b-48dd-ab45-c0a264fcced4",
   "metadata": {},
   "outputs": [],
   "source": []
  },
  {
   "cell_type": "markdown",
   "id": "4b0b908b-fca0-470b-a829-5d8629a6c097",
   "metadata": {},
   "source": [
    "### 异常抛出"
   ]
  },
  {
   "cell_type": "code",
   "execution_count": null,
   "id": "b2854942-d119-4700-a547-b2899d8c074e",
   "metadata": {},
   "outputs": [],
   "source": [
    "// 遍历前5个选项卡并点击\n",
    "for (let i = 0; i < tabs.length && i < 5; i++) {\n",
    "    console.log(i, nameDict[i]);\n",
    "    try {\n",
    "        await tabs[i].click();\n",
    "        await page.waitForTimeout(1000); // 等待页面加载完成\n",
    "\n",
    "\n",
    "        const content = await page.content();\n",
    "        fs.writeFileSync(path.join(api_home, nameDict[i]), content);\n",
    "    } catch (e) {\n",
    "        console.error(`Failed to click tab ${i}:`, e);\n",
    "        fs.writeFileSync(path.join(api_home, nameDict[i]), '');\n",
    "    }\n",
    "}"
   ]
  },
  {
   "cell_type": "code",
   "execution_count": null,
   "id": "a707ead5-f4ed-442d-a4ef-386da111eace",
   "metadata": {},
   "outputs": [],
   "source": []
  },
  {
   "cell_type": "code",
   "execution_count": null,
   "id": "50b00658-36b1-43e3-96f5-9f76f93ecd06",
   "metadata": {},
   "outputs": [],
   "source": []
  },
  {
   "cell_type": "code",
   "execution_count": null,
   "id": "41bbedc6-c5d7-4703-8772-b009fe3489bf",
   "metadata": {},
   "outputs": [],
   "source": []
  },
  {
   "cell_type": "markdown",
   "id": "f506b68a-62e4-4594-ae9a-877bf12209b2",
   "metadata": {},
   "source": [
    "### 运行架构结构"
   ]
  },
  {
   "cell_type": "code",
   "execution_count": null,
   "id": "d4d57f25-42ed-499a-9d58-a04cb997d894",
   "metadata": {},
   "outputs": [],
   "source": [
    "%%writefile test2.js\n",
    "\n",
    "const puppeteer = require('puppeteer-extra');\n",
    "const StealthPlugin = require('puppeteer-extra-plugin-stealth');\n",
    "puppeteer.use(StealthPlugin());\n",
    "\n",
    "(async () => {\n",
    "  // code \n",
    "})();"
   ]
  },
  {
   "cell_type": "code",
   "execution_count": null,
   "id": "5438b490-b96b-4038-a8bb-aeb4a2f16740",
   "metadata": {},
   "outputs": [],
   "source": []
  },
  {
   "cell_type": "markdown",
   "id": "7a1a9705-5c56-441d-ad9f-0cd55c737d6b",
   "metadata": {
    "tags": []
   },
   "source": [
    "# puppeteer语法"
   ]
  },
  {
   "cell_type": "code",
   "execution_count": null,
   "id": "0e5ea685-0571-416a-8c3f-9156846e5eaa",
   "metadata": {},
   "outputs": [],
   "source": []
  },
  {
   "cell_type": "markdown",
   "id": "98d0efd1-1f97-444b-85d8-6a010c6feda4",
   "metadata": {},
   "source": [
    "## 加载浏览器"
   ]
  },
  {
   "cell_type": "code",
   "execution_count": null,
   "id": "723ad228-7037-4100-8ac4-bb118beab793",
   "metadata": {},
   "outputs": [],
   "source": [
    "// Launch the browser and open a new blank page\n",
    "const browser = await puppeteer.launch({\n",
    "    headless: false, // 非无头模式\n",
    "    executablePath: '/Users/zhaoxuefeng/.cache/puppeteer/chrome/mac_arm-121.0.6167.85/chrome-mac-arm64/Google Chrome for Testing.app/Contents/MacOS/Google Chrome for Testing',\n",
    "    userDataDir: './xxxxx',\n",
    "    timeout: 60000, // 超时时间增加到60秒\n",
    "    });\n",
    "    const page = await browser.newPage();"
   ]
  },
  {
   "cell_type": "markdown",
   "id": "222565fc-3c0a-4e9d-9922-65b0d639d8c8",
   "metadata": {},
   "source": [
    "## 设置浏览器大小"
   ]
  },
  {
   "cell_type": "code",
   "execution_count": null,
   "id": "15d970d0-89d1-4f22-a255-c0684b5956b1",
   "metadata": {},
   "outputs": [],
   "source": [
    "await page.setViewport({\n",
    "    width: 1200,\n",
    "    height: 1200,\n",
    "    deviceScaleFactor: 1,\n",
    "});\n"
   ]
  },
  {
   "cell_type": "markdown",
   "id": "8fa91ccc-d621-4e99-90ed-44fd3174d90b",
   "metadata": {},
   "source": [
    "## 跳转网页"
   ]
  },
  {
   "cell_type": "code",
   "execution_count": null,
   "id": "78923bc2-474c-4c77-94d1-6dda4d99269f",
   "metadata": {},
   "outputs": [],
   "source": [
    "// Navigate the page to a URL\n",
    "await page.goto('https://kimi.moonshot.cn/');"
   ]
  },
  {
   "cell_type": "code",
   "execution_count": null,
   "id": "c2a1542d-9d9b-42d1-9fb1-ac2e8f1a65ca",
   "metadata": {},
   "outputs": [],
   "source": []
  },
  {
   "cell_type": "markdown",
   "id": "d93f607c-3ae3-4d3d-886d-eaceac2083b7",
   "metadata": {},
   "source": [
    "## 定位"
   ]
  },
  {
   "cell_type": "code",
   "execution_count": null,
   "id": "1a92220f-c374-48ec-b2a7-d4db0b6c3544",
   "metadata": {},
   "outputs": [],
   "source": [
    "// 方法1 xpath\n",
    "await page.locator('xpath///*[@id=\"root\"]/div[2]/div/div[2]/div[1]/div/div/div/div[3]/div[1]/div/div/div[2]/div[2]/label');"
   ]
  },
  {
   "cell_type": "code",
   "execution_count": null,
   "id": "b491798d-40a0-44e0-bf09-cad353437618",
   "metadata": {},
   "outputs": [],
   "source": [
    "const tabs = await page.$x(tabSelector);-> [CdpElementHandle]"
   ]
  },
  {
   "cell_type": "code",
   "execution_count": null,
   "id": "667880c6-4207-4e82-ab4e-bc5df83539cb",
   "metadata": {},
   "outputs": [],
   "source": [
    "# 两者是平替方法\n",
    "const pp2 = await page.$x(\"/html/body/div[1]/div[1]/div\") // 有括号\n",
    "const pp = await page.$$(\"xpath//html/body/div[1]/div[1]/div\") // 无括号\n",
    "    "
   ]
  },
  {
   "cell_type": "code",
   "execution_count": null,
   "id": "8094d21b-0e8b-4d93-9091-39d636c51ed0",
   "metadata": {},
   "outputs": [],
   "source": []
  },
  {
   "cell_type": "code",
   "execution_count": null,
   "id": "454679b4-f5d8-48f9-a196-d515cdfcfeb3",
   "metadata": {},
   "outputs": [],
   "source": []
  },
  {
   "cell_type": "markdown",
   "id": "7e3620a8-4ebc-4f85-9b7b-6ba2f9cd0b93",
   "metadata": {},
   "source": [
    "## 睡眠等待"
   ]
  },
  {
   "cell_type": "code",
   "execution_count": null,
   "id": "162b20e1-43d0-4c13-827d-b98127ff6624",
   "metadata": {},
   "outputs": [],
   "source": [
    "await page.waitForTimeout(1000); // 等待页面加载完成"
   ]
  },
  {
   "cell_type": "code",
   "execution_count": null,
   "id": "cdee3246-ff12-4ad4-a968-3ea233018a3a",
   "metadata": {},
   "outputs": [],
   "source": [
    "await page.goto('http://www.baidu.com', {\n",
    "    waitUntil: \"domcontentloaded\",\n",
    "    timeout: timeout,\n",
    "});"
   ]
  },
  {
   "cell_type": "code",
   "execution_count": null,
   "id": "7b65c29d-b1bb-4841-89fa-469d8aee6f34",
   "metadata": {},
   "outputs": [],
   "source": []
  },
  {
   "cell_type": "markdown",
   "id": "62f47a6e-85d2-4368-b2dd-54f49e8ba49b",
   "metadata": {},
   "source": [
    "## 点击"
   ]
  },
  {
   "cell_type": "code",
   "execution_count": null,
   "id": "80395205-1117-4301-8db7-fef5f0ddcda1",
   "metadata": {},
   "outputs": [],
   "source": [
    "// 方法2\n",
    "const element = await page.waitForSelector('::-p-xpath(//*[@id=\"root\"]/div[2]/div/div[2]/div[1]/div/div/div/div[3]/div[1]/div/div/div[2]/div[2]/label)');\n",
    "await element.click();"
   ]
  },
  {
   "cell_type": "code",
   "execution_count": null,
   "id": "13666a9f-7b4a-40e2-8551-3ef4dbe5c390",
   "metadata": {},
   "outputs": [],
   "source": []
  },
  {
   "cell_type": "markdown",
   "id": "f3f6edc5-2d7a-4e87-8d00-dc9220b6fb7d",
   "metadata": {},
   "source": [
    "## 获取html content"
   ]
  },
  {
   "cell_type": "code",
   "execution_count": null,
   "id": "6245456b-ddc6-41b7-be52-83f745b08064",
   "metadata": {},
   "outputs": [],
   "source": [
    "const htmlContent = await page.content();"
   ]
  },
  {
   "cell_type": "code",
   "execution_count": null,
   "id": "a1eaeb5f-5918-419c-8a30-54d1b96f9d47",
   "metadata": {},
   "outputs": [],
   "source": [
    "// 特定内容\n",
    "const htmlContent = await page.$eval('xpath//html/body/main/div[1]/div[3]/div[2]', element => element.innerHTML);"
   ]
  },
  {
   "cell_type": "code",
   "execution_count": null,
   "id": "c0faec3b-44a9-48dc-bd08-1dd0d37d342c",
   "metadata": {},
   "outputs": [],
   "source": []
  },
  {
   "cell_type": "code",
   "execution_count": null,
   "id": "d734b23f-5739-49ab-9132-7ba217efd7b1",
   "metadata": {},
   "outputs": [],
   "source": [
    "const tab1HTML = await page.evaluate(element => element.outerHTML, tabs[1]);\n",
    "console.log(tab1HTML); // 输出 tabs[1] 的 HTML 内容"
   ]
  },
  {
   "cell_type": "code",
   "execution_count": null,
   "id": "c6780617-b724-47fa-8aea-83eb0d85bc9f",
   "metadata": {},
   "outputs": [],
   "source": []
  },
  {
   "cell_type": "markdown",
   "id": "f3b32e51-71b8-4ad4-9d0b-db417a8361fc",
   "metadata": {},
   "source": [
    "## 获取html 属性值"
   ]
  },
  {
   "cell_type": "code",
   "execution_count": null,
   "id": "fb2bc2d4-180c-4703-998d-f056f25ab061",
   "metadata": {},
   "outputs": [],
   "source": [
    "const [element] = await page.$x('//*[@id=\"main-frame\"]/div[1]/div/div/div[2]/div/div/div/div/div[2]/div[2]/div[1]/div/button[2]');\n",
    "const isDisabled = await page.evaluate(el => el.hasAttribute('disabled'), element);\n",
    "if (!isDisabled) {"
   ]
  },
  {
   "cell_type": "code",
   "execution_count": null,
   "id": "7e2e0721-bf1e-48af-a6a8-5da50546a33b",
   "metadata": {},
   "outputs": [],
   "source": []
  },
  {
   "cell_type": "markdown",
   "id": "9aa71967-b149-4856-8729-256dc40330e7",
   "metadata": {},
   "source": [
    "## 设置用户代理?"
   ]
  },
  {
   "cell_type": "code",
   "execution_count": null,
   "id": "c542702b-f2b7-4279-aca3-ae354752a13b",
   "metadata": {},
   "outputs": [],
   "source": [
    "await page.setUserAgent('Mozilla/5.0 (Windows NT 10.0; Win64; x64) AppleWebKit/537.36 (KHTML, like Gecko) Chrome/91.0.4472.124 Safari/537.36');\n"
   ]
  },
  {
   "cell_type": "code",
   "execution_count": null,
   "id": "02f1cca0-c96c-4df6-8d2b-c5d788402bfc",
   "metadata": {},
   "outputs": [],
   "source": []
  },
  {
   "cell_type": "markdown",
   "id": "c4cf5408-d0e4-45ce-a90d-d153d279efa5",
   "metadata": {},
   "source": [
    "## 局部截图"
   ]
  },
  {
   "cell_type": "code",
   "execution_count": null,
   "id": "80bba51d-2e6a-45af-88c1-974d621b8b16",
   "metadata": {},
   "outputs": [],
   "source": [
    "const [element] = await page.$x('//*[@id=\"lg\"]');"
   ]
  },
  {
   "cell_type": "code",
   "execution_count": null,
   "id": "b63678af-5a44-43c8-83be-d3419274fc9e",
   "metadata": {},
   "outputs": [],
   "source": [
    "#标红 + 截图\n",
    "if (element) {\n",
    "    // 截图元素\n",
    "    await page.evaluate(el => el.style.border = '2px solid red', element);\n",
    "    await element.screenshot({ path: 'element_screenshot.png' });\n",
    "    console.log('Screenshot saved as element_screenshot.png');\n",
    "  } else {\n",
    "    console.log('No element found for the given XPath.');\n",
    "  }"
   ]
  },
  {
   "cell_type": "code",
   "execution_count": null,
   "id": "64ab46ba-1cbc-4fa3-a531-9343e88c2211",
   "metadata": {},
   "outputs": [],
   "source": [
    "for (let i = 1; i <= 9; i++) {\n",
    "  console.log(i);\n",
    "  let eles = `//*[@id=\"logojoy-root\"]/div[2]/div[1]/div[2]/div[2]/div/div/div[${i}]`;\n",
    "  const [element] = await page.$x(eles);\n",
    "\n",
    "  if (element) {\n",
    "    // 截图元素\n",
    "    // await page.evaluate(el => el.style.border = '4px solid red', element);\n",
    "    await element.screenshot({ path: `element_screenshot_${i}.png` });\n",
    "    console.log('Screenshot saved as element_screenshot_i.png');\n",
    "  } else {\n",
    "    console.log('No element found for the given XPath.');\n",
    "  }\n",
    "\n",
    "}"
   ]
  },
  {
   "cell_type": "code",
   "execution_count": null,
   "id": "125d19ce-a9f3-43d6-a21f-f70e666d64b7",
   "metadata": {},
   "outputs": [],
   "source": []
  },
  {
   "cell_type": "code",
   "execution_count": null,
   "id": "593bcd56-4fc3-49b4-b937-3c3ee7af779c",
   "metadata": {},
   "outputs": [],
   "source": []
  },
  {
   "cell_type": "markdown",
   "id": "e97aa2dc-3cee-4691-96ff-3951b6538366",
   "metadata": {},
   "source": [
    "## 剪切板"
   ]
  },
  {
   "cell_type": "code",
   "execution_count": null,
   "id": "a0b9331d-9fcb-41a3-b969-9e7e45b7ef7b",
   "metadata": {},
   "outputs": [],
   "source": [
    "const clipboardData = await page.evaluate(() => {\n",
    "    return navigator.clipboard.readText();\n",
    "});\n",
    "\n",
    "console.log('剪切板内容:', clipboardData);"
   ]
  },
  {
   "cell_type": "code",
   "execution_count": null,
   "id": "43c334cc-4d21-4e0d-8544-f329034c9d8b",
   "metadata": {},
   "outputs": [],
   "source": [
    "const puppeteer = require('puppeteer');\n",
    "\n",
    "async function getClipboardData() {\n",
    "    const browser = await puppeteer.launch();\n",
    "    const page = await browser.newPage();\n",
    "\n",
    "    // 打开一个包含复制内容的页面示例\n",
    "    await page.goto('https://example.com');\n",
    "\n",
    "    // 在页面中执行 JavaScript 读取剪切板内容\n",
    "    const clipboardData = await page.evaluate(() => {\n",
    "        return navigator.clipboard.readText();\n",
    "    });\n",
    "\n",
    "    console.log('剪切板内容:', clipboardData);\n",
    "\n",
    "    await browser.close();\n",
    "}\n",
    "\n",
    "getClipboardData();"
   ]
  },
  {
   "cell_type": "code",
   "execution_count": null,
   "id": "80abc611-2b53-4d2d-9965-0430ee82fcb7",
   "metadata": {},
   "outputs": [],
   "source": []
  },
  {
   "cell_type": "code",
   "execution_count": null,
   "id": "976133ea-915b-4474-b41a-ed3825e61f9c",
   "metadata": {},
   "outputs": [],
   "source": []
  },
  {
   "cell_type": "markdown",
   "id": "84626abc-945f-4a68-b887-f63c072866ce",
   "metadata": {},
   "source": [
    "## 多线程 "
   ]
  },
  {
   "cell_type": "code",
   "execution_count": null,
   "id": "7578ba1b-13c6-4ea3-affd-f2e480b65088",
   "metadata": {},
   "outputs": [],
   "source": [
    "%%writefile workflow3.js\n",
    "const puppeteer = require('puppeteer-extra');\n",
    "const StealthPlugin = require('puppeteer-extra-plugin-stealth');\n",
    "const path = require('path');\n",
    "const fs = require('fs');\n",
    "const { workerData, parentPort } = require('worker_threads');\n",
    "puppeteer.use(StealthPlugin());\n",
    "\n",
    "// const url = 'https://rapidapi.com/Glavier/api/ahrefs1/playground/apiendpoint_b535d225-dfd9-4b62-b1fb-d72e7368aaaf';\n",
    "// const api_home = 'aaaa';\n",
    "const headless = false;\n",
    "// const userdir = './xxxxx';\n",
    "const executablePath = '/Users/zhaoxuefeng/.cache/puppeteer/chrome/mac_arm-121.0.6167.85/chrome-mac-arm64/Google Chrome for Testing.app/Contents/MacOS/Google Chrome for Testing';\n",
    "\n",
    "(async () => {\n",
    "    const { api_home, url,userdir} = workerData;\n",
    "    // 启动浏览器\n",
    "    const browser = await puppeteer.launch({\n",
    "      headless: headless, // 非无头模式\n",
    "    executablePath: executablePath,\n",
    "    userDataDir: userdir,\n",
    "    });\n",
    "\n",
    "    \n",
    "    \n",
    "    const page = await browser.newPage();\n",
    "    await page.setViewport({\n",
    "        width: 1200,\n",
    "        height: 1200,\n",
    "        deviceScaleFactor: 1,\n",
    "    });\n",
    "    \n",
    "    // 导航到目标页面\n",
    "    await page.goto(url);\n",
    "\n",
    "    // 定义选项卡选择器和文件名字典\n",
    "    const tabSelector = '//*[@id=\"main-frame\"]/div[1]/div/div/div[2]/div/div/div/div/div[1]/div/div/button';\n",
    "    const nameDict = {\n",
    "        0: \"app.html\",\n",
    "        1: \"params.html\",\n",
    "        2: \"headers.html\",\n",
    "        3: \"body.html\",\n",
    "        4: \"authorizations.html\"\n",
    "    };\n",
    "\n",
    "    // 查找所有选项卡\n",
    "    const tabs = await page.$x(tabSelector);\n",
    "    console.log(tabs)\n",
    "    \n",
    "    // 遍历前5个选项卡并点击\n",
    "    for (let i = 0; i < tabs.length && i < 5; i++) {\n",
    "        console.log(i, nameDict[i]);\n",
    "        \n",
    "        await tabs[i].click();\n",
    "        await page.waitForTimeout(100); // 等待页面加载完成\n",
    "\n",
    "        const content = await page.content();\n",
    "        fs.writeFileSync(path.join(api_home, nameDict[i]), content);\n",
    "    }\n",
    "    \n",
    "    // spider_Code Snippets python\n",
    "    console.log('Snippets python');\n",
    "    await page.locator('xpath///*[@id=\"main-frame\"]/div[1]/div/div/div[2]/div/div/div/div/div[2]/div[2]/div[1]/div/button[1]').click();\n",
    "    await page.locator('xpath///*[@id=\"main-frame\"]/div[1]/div/div/div[2]/div/div/div/div/div[2]/div[2]/div[2]/div[1]/div/div/div[1]/div/div').click();\n",
    "    await page.locator('xpath///*[@id=\"portal-root\"]/div/div/button[14]').click();\n",
    "    await page.locator('xpath///*[@id=\"main-frame\"]/div[1]/div/div/div[2]/div/div/div/div/div[2]/div[2]/div[2]/div[1]/div/div/div[2]/div/div').click();\n",
    "    await page.locator('xpath///*[@id=\"portal-root\"]/div/div/button[2]').click();\n",
    "    \n",
    "    var content = await page.content();\n",
    "    fs.writeFileSync(path.join(api_home,'code_snippets_python.html'), content);\n",
    "    \n",
    "    // spider_Code Snippets shell\n",
    "    console.log('Snippets shell');\n",
    "    await page.locator('xpath///*[@id=\"main-frame\"]/div[1]/div/div/div[2]/div/div/div/div/div[2]/div[2]/div[2]/div[1]/div/div/div[1]/div/div').click();\n",
    "    await page.locator('xpath///*[@id=\"portal-root\"]/div/div/button[17]').click();\n",
    "    await page.locator('xpath///*[@id=\"main-frame\"]/div[1]/div/div/div[2]/div/div/div/div/div[2]/div[2]/div[2]/div[1]/div/div/div[2]/div/div').click();\n",
    "    await page.locator('xpath///*[@id=\"portal-root\"]/div/div/button[1]').click();\n",
    "    \n",
    "    var content = await page.content();\n",
    "    fs.writeFileSync(path.join(api_home,'code_snippets_shell.html'), content);\n",
    "    \n",
    "    \n",
    "    // spider_Example_Response\n",
    "    console.log('Example_Response');\n",
    "    await page.locator('xpath///*[@id=\"main-frame\"]/div[1]/div/div/div[2]/div/div/div/div/div[2]/div[2]/div[1]/div/button[2]').click();\n",
    "    var content = await page.content();\n",
    "    fs.writeFileSync(path.join(api_home,'Example_Response.html'), content);\n",
    "    \n",
    "    \n",
    "\n",
    "    // 关闭浏览器\n",
    "    console.log('close');\n",
    "    await browser.close();\n",
    "    console.log(`success ${api_home}`);\n",
    "\n",
    "})();"
   ]
  },
  {
   "cell_type": "code",
   "execution_count": null,
   "id": "c7f3f4f5-327c-4c93-9af1-74fe66194bc1",
   "metadata": {},
   "outputs": [],
   "source": [
    "%%writefile main.js\n",
    "const { Worker } = require('worker_threads');\n",
    "const path = require('path');\n",
    "const fs = require('fs');\n",
    "\n",
    "\n",
    "\n",
    "\n",
    "const tasks = [\n",
    "    {\n",
    "        api_home: 'output1',\n",
    "        url: 'https://rapidapi.com/VanitySoft/api/boundaries-io-1/playground/apiendpoint_9fefa91b-1881-43d2-b884-6174f55c0fe9',\n",
    "        userdir: 'xxxxx',\n",
    "    },\n",
    "    {\n",
    "        api_home: 'output2',\n",
    "        url: 'https://rapidapi.com/Glavier/api/ahrefs1/playground/apiendpoint_b535d225-dfd9-4b62-b1fb-d72e7368aaaf',\n",
    "        userdir: 'xxxxx2',\n",
    "    },\n",
    "    \n",
    "    {\n",
    "        api_home: 'output3',\n",
    "        url: 'https://rapidapi.com/VanitySoft/api/boundaries-io-1/playground/apiendpoint_9fefa91b-1881-43d2-b884-6174f55c0fe9',\n",
    "        userdir: 'xxxxx3',\n",
    "    },\n",
    "    \n",
    "    {\n",
    "        api_home: 'output4',\n",
    "        url: 'https://rapidapi.com/Glavier/api/ahrefs1/playground/apiendpoint_b535d225-dfd9-4b62-b1fb-d72e7368aaaf',\n",
    "        userdir: 'xxxxx4',\n",
    "    },\n",
    "    \n",
    "        {\n",
    "        api_home: 'output5',\n",
    "        url: 'https://rapidapi.com/Glavier/api/ahrefs1/playground/apiendpoint_b535d225-dfd9-4b62-b1fb-d72e7368aaaf',\n",
    "        userdir: 'xxxxx5',\n",
    "    },\n",
    "    // 可以添加更多任务\n",
    "];\n",
    "\n",
    "\n",
    "// 函数用于创建和启动 Worker\n",
    "function runWorker(task) {\n",
    "    return new Promise((resolve, reject) => {\n",
    "        const worker = new Worker(path.resolve(__dirname, 'workflow3.js'), {\n",
    "            workerData: task\n",
    "        });\n",
    "\n",
    "        worker.on('message', (message) => {\n",
    "            console.log(message);\n",
    "        });\n",
    "\n",
    "        worker.on('error', (error) => {\n",
    "            console.error('Worker error:', error);\n",
    "            reject(error);\n",
    "        });\n",
    "\n",
    "        worker.on('exit', (code) => {\n",
    "            if (code !== 0) {\n",
    "                console.error(`Worker stopped with exit code ${code}`);\n",
    "                reject(new Error(`Worker stopped with exit code ${code}`));\n",
    "            } else {\n",
    "                resolve();\n",
    "            }\n",
    "        });\n",
    "    });\n",
    "}\n",
    "\n",
    "// 主函数来运行所有的任务\n",
    "async function main() {\n",
    "    // 确保任务目录存在\n",
    "    tasks.forEach(task => {\n",
    "        if (!fs.existsSync(task.api_home)) {\n",
    "            fs.mkdirSync(task.api_home);\n",
    "        }\n",
    "    });\n",
    "\n",
    "    // 运行所有的 Worker\n",
    "    try {\n",
    "        await Promise.all(tasks.map(runWorker));\n",
    "        console.log('All tasks completed successfully');\n",
    "    } catch (error) {\n",
    "        console.error('Error in tasks:', error);\n",
    "    }\n",
    "}\n",
    "\n",
    "if (require.main === module) {\n",
    "    main();\n",
    "}\n"
   ]
  },
  {
   "cell_type": "markdown",
   "id": "f4bd7187-3bb5-4cce-8c03-3b21c9a5b2e9",
   "metadata": {},
   "source": [
    "## 多进程"
   ]
  },
  {
   "cell_type": "code",
   "execution_count": null,
   "id": "6836bc82-2f2d-4662-b7b6-cdd1bf5bb7c1",
   "metadata": {},
   "outputs": [],
   "source": [
    " 注意 多进程中 没有 workerData 模式 (在多线程中出现)"
   ]
  },
  {
   "cell_type": "code",
   "execution_count": null,
   "id": "4e1af670-6c34-4fe8-9dee-b39df930d668",
   "metadata": {},
   "outputs": [],
   "source": [
    "%%writefile workflow4.js\n",
    "const puppeteer = require('puppeteer-extra');\n",
    "const StealthPlugin = require('puppeteer-extra-plugin-stealth');\n",
    "const path = require('path');\n",
    "const fs = require('fs');\n",
    "// const { workerData, parentPort } = require('worker_threads');\n",
    "\n",
    "\n",
    "// 解析命令行参数\n",
    "const args = process.argv.slice(2);\n",
    "const params = {};\n",
    "args.forEach(arg => {\n",
    "    const [key, value] = arg.split('=');\n",
    "    if (key && value) {\n",
    "        params[key] = value;\n",
    "    }\n",
    "});\n",
    "\n",
    "const { api_home, url, userdir } = params;\n",
    "\n",
    "puppeteer.use(StealthPlugin());\n",
    "\n",
    "// const url = 'https://rapidapi.com/Glavier/api/ahrefs1/playground/apiendpoint_b535d225-dfd9-4b62-b1fb-d72e7368aaaf';\n",
    "// const api_home = 'aaaa';\n",
    "const headless = false;\n",
    "// const userdir = './xxxxx';\n",
    "const executablePath = '/Users/zhaoxuefeng/.cache/puppeteer/chrome/mac_arm-121.0.6167.85/chrome-mac-arm64/Google Chrome for Testing.app/Contents/MacOS/Google Chrome for Testing';\n",
    "\n",
    "\n",
    "\n",
    "\n",
    "(async () => {\n",
    "    // const { api_home, url,userdir} = workerData;\n",
    "    // 启动浏览器\n",
    "    const browser = await puppeteer.launch({\n",
    "      headless: headless, // 非无头模式\n",
    "    executablePath: executablePath,\n",
    "    userDataDir: userdir,\n",
    "    });\n",
    "\n",
    "    \n",
    "    \n",
    "    const page = await browser.newPage();\n",
    "    await page.setViewport({\n",
    "        width: 1200,\n",
    "        height: 1200,\n",
    "        deviceScaleFactor: 1,\n",
    "    });\n",
    "    \n",
    "    // 导航到目标页面\n",
    "    await page.goto(url);\n",
    "\n",
    "    // 定义选项卡选择器和文件名字典\n",
    "    const tabSelector = '//*[@id=\"main-frame\"]/div[1]/div/div/div[2]/div/div/div/div/div[1]/div/div/button';\n",
    "    const nameDict = {\n",
    "        0: \"app.html\",\n",
    "        1: \"params.html\",\n",
    "        2: \"headers.html\",\n",
    "        3: \"body.html\",\n",
    "        4: \"authorizations.html\"\n",
    "    };\n",
    "\n",
    "    // 查找所有选项卡\n",
    "    const tabs = await page.$x(tabSelector);\n",
    "    console.log(tabs)\n",
    "    \n",
    "    // 遍历前5个选项卡并点击\n",
    "    for (let i = 0; i < tabs.length && i < 5; i++) {\n",
    "        console.log(i, nameDict[i]);\n",
    "        \n",
    "        await tabs[i].click();\n",
    "        await page.waitForTimeout(100); // 等待页面加载完成\n",
    "\n",
    "        const content = await page.content();\n",
    "        fs.writeFileSync(path.join(api_home, nameDict[i]), content);\n",
    "    }\n",
    "    \n",
    "    // spider_Code Snippets python\n",
    "    console.log('Snippets python');\n",
    "    await page.locator('xpath///*[@id=\"main-frame\"]/div[1]/div/div/div[2]/div/div/div/div/div[2]/div[2]/div[1]/div/button[1]').click();\n",
    "    await page.locator('xpath///*[@id=\"main-frame\"]/div[1]/div/div/div[2]/div/div/div/div/div[2]/div[2]/div[2]/div[1]/div/div/div[1]/div/div').click();\n",
    "    await page.locator('xpath///*[@id=\"portal-root\"]/div/div/button[14]').click();\n",
    "    await page.locator('xpath///*[@id=\"main-frame\"]/div[1]/div/div/div[2]/div/div/div/div/div[2]/div[2]/div[2]/div[1]/div/div/div[2]/div/div').click();\n",
    "    await page.locator('xpath///*[@id=\"portal-root\"]/div/div/button[2]').click();\n",
    "    \n",
    "    var content = await page.content();\n",
    "    fs.writeFileSync(path.join(api_home,'code_snippets_python.html'), content);\n",
    "    \n",
    "    // spider_Code Snippets shell\n",
    "    console.log('Snippets shell');\n",
    "    await page.locator('xpath///*[@id=\"main-frame\"]/div[1]/div/div/div[2]/div/div/div/div/div[2]/div[2]/div[2]/div[1]/div/div/div[1]/div/div').click();\n",
    "    await page.locator('xpath///*[@id=\"portal-root\"]/div/div/button[17]').click();\n",
    "    await page.locator('xpath///*[@id=\"main-frame\"]/div[1]/div/div/div[2]/div/div/div/div/div[2]/div[2]/div[2]/div[1]/div/div/div[2]/div/div').click();\n",
    "    await page.locator('xpath///*[@id=\"portal-root\"]/div/div/button[1]').click();\n",
    "    \n",
    "    var content = await page.content();\n",
    "    fs.writeFileSync(path.join(api_home,'code_snippets_shell.html'), content);\n",
    "    \n",
    "    \n",
    "    // spider_Example_Response\n",
    "    console.log('Example_Response');\n",
    "    await page.locator('xpath///*[@id=\"main-frame\"]/div[1]/div/div/div[2]/div/div/div/div/div[2]/div[2]/div[1]/div/button[2]').click();\n",
    "    var content = await page.content();\n",
    "    fs.writeFileSync(path.join(api_home,'Example_Response.html'), content);\n",
    "    \n",
    "    \n",
    "\n",
    "    // 关闭浏览器\n",
    "    console.log('close');\n",
    "    await browser.close();\n",
    "    console.log(`success ${api_home}`);\n",
    "\n",
    "})();\n"
   ]
  },
  {
   "cell_type": "code",
   "execution_count": null,
   "id": "265e58f0-fde0-4201-8ba4-ab718b4cb99f",
   "metadata": {},
   "outputs": [],
   "source": [
    "%%writefile main2.js\n",
    "const { exec } = require('child_process');\n",
    "const path = require('path');\n",
    "const fs = require('fs');\n",
    "\n",
    "// 定义任务列表\n",
    "const tasks = [\n",
    "    {\n",
    "        api_home: 'output1',\n",
    "        url: 'https://rapidapi.com/VanitySoft/api/boundaries-io-1/playground/apiendpoint_9fefa91b-1881-43d2-b884-6174f55c0fe9',\n",
    "        userdir: 'xxxxx',\n",
    "    },\n",
    "    {\n",
    "        api_home: 'output2',\n",
    "        url: 'https://rapidapi.com/Glavier/api/ahrefs1/playground/apiendpoint_b535d225-dfd9-4b62-b1fb-d72e7368aaaf',\n",
    "        userdir: 'xxxxx2',\n",
    "    },\n",
    "    \n",
    "    {\n",
    "        api_home: 'output3',\n",
    "        url: 'https://rapidapi.com/VanitySoft/api/boundaries-io-1/playground/apiendpoint_9fefa91b-1881-43d2-b884-6174f55c0fe9',\n",
    "        userdir: 'xxxxx3',\n",
    "    },\n",
    "    \n",
    "    {\n",
    "        api_home: 'output4',\n",
    "        url: 'https://rapidapi.com/Glavier/api/ahrefs1/playground/apiendpoint_b535d225-dfd9-4b62-b1fb-d72e7368aaaf',\n",
    "        userdir: 'xxxxx4',\n",
    "    },\n",
    "    \n",
    "        {\n",
    "        api_home: 'output5',\n",
    "        url: 'https://rapidapi.com/Glavier/api/ahrefs1/playground/apiendpoint_b535d225-dfd9-4b62-b1fb-d72e7368aaaf',\n",
    "        userdir: 'xxxxx5',\n",
    "    },\n",
    "    // 可以添加更多任务\n",
    "];\n",
    "\n",
    "// 函数用于创建和启动子进程\n",
    "function runTask(task) {\n",
    "    return new Promise((resolve, reject) => {\n",
    "        const command = `node ${path.resolve(__dirname, 'workflow4.js')} ` +\n",
    "                        `api_home=${task.api_home} ` +\n",
    "                        `url=${task.url} ` +\n",
    "                        `headless=${task.headless} ` +\n",
    "                        `userdir=${task.userdir} ` +\n",
    "                        `executablePath=${task.executablePath}`;\n",
    "\n",
    "        const child = exec(command, (error, stdout, stderr) => {\n",
    "            if (error) {\n",
    "                console.error(`Error executing task for ${task.api_home}:`, error);\n",
    "                reject(error);\n",
    "                return;\n",
    "            }\n",
    "            if (stderr) {\n",
    "                console.error(`stderr for ${task.api_home}:`, stderr);\n",
    "            }\n",
    "            console.log(`stdout for ${task.api_home}:`, stdout);\n",
    "            resolve();\n",
    "        });\n",
    "    });\n",
    "}\n",
    "\n",
    "// 主函数来运行所有的任务\n",
    "async function main() {\n",
    "    // 确保任务目录存在\n",
    "    tasks.forEach(task => {\n",
    "        if (!fs.existsSync(task.api_home)) {\n",
    "            fs.mkdirSync(task.api_home);\n",
    "        }\n",
    "    });\n",
    "\n",
    "    // 运行所有的任务\n",
    "    try {\n",
    "        await Promise.all(tasks.map(runTask));\n",
    "        console.log('All tasks completed successfully');\n",
    "    } catch (error) {\n",
    "        console.error('Error in tasks:', error);\n",
    "    }\n",
    "}\n",
    "\n",
    "if (require.main === module) {\n",
    "    main();\n",
    "}\n"
   ]
  },
  {
   "cell_type": "code",
   "execution_count": null,
   "id": "ba112883-56d0-411a-844e-508c802e2cc8",
   "metadata": {},
   "outputs": [],
   "source": []
  },
  {
   "cell_type": "code",
   "execution_count": null,
   "id": "2f957d93-29f4-4edf-9429-95877f737af3",
   "metadata": {},
   "outputs": [],
   "source": []
  },
  {
   "cell_type": "code",
   "execution_count": null,
   "id": "0d420b30-2674-4cfe-8df2-09ceb51595bd",
   "metadata": {},
   "outputs": [],
   "source": []
  }
 ],
 "metadata": {
  "kernelspec": {
   "display_name": "Python 3 (ipykernel)",
   "language": "python",
   "name": "python3"
  },
  "language_info": {
   "codemirror_mode": {
    "name": "ipython",
    "version": 3
   },
   "file_extension": ".py",
   "mimetype": "text/x-python",
   "name": "python",
   "nbconvert_exporter": "python",
   "pygments_lexer": "ipython3",
   "version": "3.10.14"
  }
 },
 "nbformat": 4,
 "nbformat_minor": 5
}
