{
 "cells": [
  {
   "cell_type": "markdown",
   "id": "370ca537-312a-4418-8c22-23d5862dcc3e",
   "metadata": {
    "tags": []
   },
   "source": [
    "# puppeteer "
   ]
  },
  {
   "cell_type": "markdown",
   "id": "48d23add-0ce9-480b-b471-1226aa1db2d9",
   "metadata": {},
   "source": [
    "1 docker 不能成功执行"
   ]
  },
  {
   "cell_type": "markdown",
   "id": "24f862b8-1b51-4855-8d6e-b4c2eaee6b69",
   "metadata": {},
   "source": [
    "https://pptr.dev/guides/page-interactions"
   ]
  },
  {
   "cell_type": "markdown",
   "id": "7018f2c4-c900-4d8c-9d43-dcc0aa07278b",
   "metadata": {},
   "source": [
    "## 环境安装 略"
   ]
  },
  {
   "cell_type": "code",
   "execution_count": null,
   "id": "a4987c8a-790e-4e33-8b14-7afe01fd33c2",
   "metadata": {},
   "outputs": [],
   "source": []
  },
  {
   "cell_type": "markdown",
   "id": "f506b68a-62e4-4594-ae9a-877bf12209b2",
   "metadata": {},
   "source": [
    "## 运行架构结构"
   ]
  },
  {
   "cell_type": "code",
   "execution_count": null,
   "id": "d4d57f25-42ed-499a-9d58-a04cb997d894",
   "metadata": {},
   "outputs": [],
   "source": [
    "%%writefile test2.js\n",
    "\n",
    "const puppeteer = require('puppeteer-extra');\n",
    "const StealthPlugin = require('puppeteer-extra-plugin-stealth');\n",
    "puppeteer.use(StealthPlugin());\n",
    "\n",
    "(async () => {\n",
    "  // code \n",
    "})();"
   ]
  },
  {
   "cell_type": "code",
   "execution_count": null,
   "id": "5438b490-b96b-4038-a8bb-aeb4a2f16740",
   "metadata": {},
   "outputs": [],
   "source": []
  },
  {
   "cell_type": "markdown",
   "id": "98d0efd1-1f97-444b-85d8-6a010c6feda4",
   "metadata": {},
   "source": [
    "## 加载浏览器"
   ]
  },
  {
   "cell_type": "code",
   "execution_count": null,
   "id": "723ad228-7037-4100-8ac4-bb118beab793",
   "metadata": {},
   "outputs": [],
   "source": [
    "// Launch the browser and open a new blank page\n",
    "const browser = await puppeteer.launch({\n",
    "  headless: false, // 非无头模式\n",
    "executablePath: '/Users/zhaoxuefeng/.cache/puppeteer/chrome/mac_arm-121.0.6167.85/chrome-mac-arm64/Google Chrome for Testing.app/Contents/MacOS/Google Chrome for Testing',\n",
    "userDataDir: './xxxxx',\n",
    "});\n",
    "const page = await browser.newPage();"
   ]
  },
  {
   "cell_type": "code",
   "execution_count": null,
   "id": "e0c0fc5a-7124-42b6-aa98-9ca64b563499",
   "metadata": {},
   "outputs": [],
   "source": []
  },
  {
   "cell_type": "markdown",
   "id": "222565fc-3c0a-4e9d-9922-65b0d639d8c8",
   "metadata": {},
   "source": [
    "## 设置浏览器大小"
   ]
  },
  {
   "cell_type": "code",
   "execution_count": null,
   "id": "15d970d0-89d1-4f22-a255-c0684b5956b1",
   "metadata": {},
   "outputs": [],
   "source": [
    "await page.setViewport({\n",
    "    width: 1200,\n",
    "    height: 1200,\n",
    "    deviceScaleFactor: 1,\n",
    "});\n"
   ]
  },
  {
   "cell_type": "markdown",
   "id": "8fa91ccc-d621-4e99-90ed-44fd3174d90b",
   "metadata": {},
   "source": [
    "## 跳转网页"
   ]
  },
  {
   "cell_type": "code",
   "execution_count": null,
   "id": "78923bc2-474c-4c77-94d1-6dda4d99269f",
   "metadata": {},
   "outputs": [],
   "source": [
    "// Navigate the page to a URL\n",
    "await page.goto('https://kimi.moonshot.cn/');"
   ]
  },
  {
   "cell_type": "code",
   "execution_count": null,
   "id": "c2a1542d-9d9b-42d1-9fb1-ac2e8f1a65ca",
   "metadata": {},
   "outputs": [],
   "source": []
  },
  {
   "cell_type": "markdown",
   "id": "edd1a83b-e29d-4c13-93f4-8ec3987dcc0e",
   "metadata": {
    "tags": []
   },
   "source": [
    "## 打日志"
   ]
  },
  {
   "cell_type": "code",
   "execution_count": null,
   "id": "eb0d7564-de3b-47d7-afd4-0ea2064111bd",
   "metadata": {},
   "outputs": [],
   "source": [
    "console.log('check')"
   ]
  },
  {
   "cell_type": "code",
   "execution_count": null,
   "id": "db3d7b54-758d-4d51-800a-c8806de1428b",
   "metadata": {},
   "outputs": [],
   "source": [
    "console.log(`success ${api_home}`);"
   ]
  },
  {
   "cell_type": "markdown",
   "id": "78a5e90d-c83b-4bf3-822c-dc51ab9f9ec6",
   "metadata": {},
   "source": [
    "## 定位和点击"
   ]
  },
  {
   "cell_type": "code",
   "execution_count": null,
   "id": "1a92220f-c374-48ec-b2a7-d4db0b6c3544",
   "metadata": {},
   "outputs": [],
   "source": [
    "// 方法1\n",
    "await page.locator('xpath///*[@id=\"root\"]/div[2]/div/div[2]/div[1]/div/div/div/div[3]/div[1]/div/div/div[2]/div[2]/label').click();"
   ]
  },
  {
   "cell_type": "code",
   "execution_count": null,
   "id": "80395205-1117-4301-8db7-fef5f0ddcda1",
   "metadata": {},
   "outputs": [],
   "source": [
    "// 方法2\n",
    "const element = await page.waitForSelector('::-p-xpath(//*[@id=\"root\"]/div[2]/div/div[2]/div[1]/div/div/div/div[3]/div[1]/div/div/div[2]/div[2]/label)');\n",
    "await element.click();"
   ]
  },
  {
   "cell_type": "code",
   "execution_count": null,
   "id": "12bc9a01-6c71-4816-9d22-5c42a00bc462",
   "metadata": {},
   "outputs": [],
   "source": []
  },
  {
   "cell_type": "markdown",
   "id": "bc30e228-c584-42c9-84df-ab81e2c569bb",
   "metadata": {},
   "source": [
    "## 图像画框"
   ]
  },
  {
   "cell_type": "code",
   "execution_count": null,
   "id": "b10e1482-9ffd-46cb-9a07-440d8028723e",
   "metadata": {},
   "outputs": [],
   "source": [
    "import cv2\n",
    "# 加载图像\n",
    "image_path = 'xxx.png'  # 替换为你的图片路径\n",
    "image = cv2.imread(image_path)\n",
    "\n",
    "# 定义矩形框的坐标 (左上角和右下角)\n",
    "start_point = (790, 210)  # 左上角\n",
    "end_point = (895, 295)  # 右下角\n",
    "\n",
    "# 定义颜色 (B, G, R)\n",
    "color = (0, 0, 255)  # 蓝色\n",
    "\n",
    "# 定义线条粗细\n",
    "thickness = 4\n",
    "\n",
    "# 在图像上绘制矩形框\n",
    "cv2.rectangle(image, start_point, end_point, color, thickness)\n",
    "\n",
    "\n",
    "\n",
    "# 保存图像\n",
    "cv2.imwrite('xxx1.png', image)"
   ]
  },
  {
   "cell_type": "code",
   "execution_count": null,
   "id": "32169c44-d33a-4898-a129-effb469a914d",
   "metadata": {},
   "outputs": [],
   "source": []
  },
  {
   "cell_type": "markdown",
   "id": "49307fc3-876f-466e-828f-b179d6f7a0d5",
   "metadata": {},
   "source": [
    "## 函数编写"
   ]
  },
  {
   "cell_type": "code",
   "execution_count": null,
   "id": "a68f7d99-367c-4337-a5af-768e15690b99",
   "metadata": {},
   "outputs": [],
   "source": [
    "async function example() {\n",
    "  console.log('Start');\n",
    "  await sleep(2000); // 等待2秒\n",
    "  console.log('2 seconds later');\n",
    "\n",
    "  const cookies = await page.cookies();\n",
    "  const fs = require('fs');\n",
    "  fs.writeFileSync('cookies.json', JSON.stringify(cookies, null, 2));\n",
    "\n",
    "  console.log('cookie over')\n",
    "}"
   ]
  },
  {
   "cell_type": "code",
   "execution_count": null,
   "id": "32eda564-c746-4bd1-ab20-bc6ed1aa86ab",
   "metadata": {},
   "outputs": [],
   "source": [
    "function sleep(ms) {\n",
    "  return new Promise(resolve => setTimeout(resolve, ms));\n",
    "}"
   ]
  },
  {
   "cell_type": "markdown",
   "id": "e1e2c644-2cfc-4005-9557-b7fd405dc22a",
   "metadata": {},
   "source": [
    "## 定义变量"
   ]
  },
  {
   "cell_type": "code",
   "execution_count": null,
   "id": "32a70394-3088-4192-977e-140f259d2ee6",
   "metadata": {},
   "outputs": [],
   "source": [
    "const url = process.argv[2];\n",
    "const timeout = 5000;"
   ]
  },
  {
   "cell_type": "code",
   "execution_count": null,
   "id": "d48aafd0-d2db-4c1e-bce3-0fbf45d4e20b",
   "metadata": {},
   "outputs": [],
   "source": [
    "const 常量定义"
   ]
  },
  {
   "cell_type": "code",
   "execution_count": null,
   "id": "74f10163-19e5-4ee8-b2f3-4edbb493fcfc",
   "metadata": {},
   "outputs": [],
   "source": [
    "var 变量定义"
   ]
  },
  {
   "cell_type": "code",
   "execution_count": null,
   "id": "13666a9f-7b4a-40e2-8551-3ef4dbe5c390",
   "metadata": {},
   "outputs": [],
   "source": []
  },
  {
   "cell_type": "markdown",
   "id": "f3f6edc5-2d7a-4e87-8d00-dc9220b6fb7d",
   "metadata": {},
   "source": [
    "## 获取html content"
   ]
  },
  {
   "cell_type": "code",
   "execution_count": null,
   "id": "6245456b-ddc6-41b7-be52-83f745b08064",
   "metadata": {},
   "outputs": [],
   "source": [
    "const htmlContent = await page.content();"
   ]
  },
  {
   "cell_type": "code",
   "execution_count": null,
   "id": "cbe97a23-0573-4adf-b60d-b92867d56167",
   "metadata": {},
   "outputs": [],
   "source": []
  },
  {
   "cell_type": "code",
   "execution_count": null,
   "id": "a1eaeb5f-5918-419c-8a30-54d1b96f9d47",
   "metadata": {},
   "outputs": [],
   "source": [
    "// 特定内容\n",
    "const htmlContent = await page.$eval('xpath//html/body/main/div[1]/div[3]/div[2]', element => element.innerHTML);\n",
    "   "
   ]
  },
  {
   "cell_type": "markdown",
   "id": "824738e5-fc90-4703-a4f1-337af8439641",
   "metadata": {},
   "source": [
    "## 保存文件"
   ]
  },
  {
   "cell_type": "code",
   "execution_count": null,
   "id": "47b20ea0-018f-447b-9c37-47f731267f2f",
   "metadata": {},
   "outputs": [],
   "source": [
    "const path = require('path');"
   ]
  },
  {
   "cell_type": "code",
   "execution_count": null,
   "id": "026fdb75-e53e-47d3-b3f6-b3fd7eeebe1f",
   "metadata": {},
   "outputs": [],
   "source": [
    "const filePath = path.join(__dirname, 'aa.html');"
   ]
  },
  {
   "cell_type": "code",
   "execution_count": null,
   "id": "557ba0b9-c1e0-434b-9342-7aeb6664455f",
   "metadata": {},
   "outputs": [],
   "source": [
    "const fs = require('fs');"
   ]
  },
  {
   "cell_type": "code",
   "execution_count": null,
   "id": "1c163d2e-835b-4f26-9fa3-d94a70934227",
   "metadata": {},
   "outputs": [],
   "source": [
    "fs.writeFileSync(filePath, htmlContent, 'utf8');"
   ]
  },
  {
   "cell_type": "code",
   "execution_count": null,
   "id": "d9df1e06-20a9-46b3-899b-446d722c107d",
   "metadata": {},
   "outputs": [],
   "source": []
  },
  {
   "cell_type": "markdown",
   "id": "7b915bf7-63f5-4fa6-b438-734be3186bc6",
   "metadata": {},
   "source": [
    "## 读取文件"
   ]
  },
  {
   "cell_type": "code",
   "execution_count": null,
   "id": "9e445b83-7fcf-462f-8a6c-165330ea442f",
   "metadata": {},
   "outputs": [],
   "source": [
    "const tasksFile = process.argv[2];\n",
    "if (!tasksFile) {\n",
    "    console.error('No tasks file provided');\n",
    "    process.exit(1);\n",
    "}\n",
    "\n",
    "let tasks;\n",
    "try {\n",
    "    const data = fs.readFileSync(tasksFile, 'utf8');\n",
    "    tasks = JSON.parse(data);\n",
    "} catch (error) {\n",
    "    console.error('Error reading or parsing tasks file:', error);\n",
    "    process.exit(1);\n",
    "}\n"
   ]
  },
  {
   "cell_type": "code",
   "execution_count": null,
   "id": "c6780617-b724-47fa-8aea-83eb0d85bc9f",
   "metadata": {},
   "outputs": [],
   "source": []
  },
  {
   "cell_type": "markdown",
   "id": "9f46a9f7-0032-44af-ad50-b6cea796e2ee",
   "metadata": {},
   "source": [
    "## 异常抛出"
   ]
  },
  {
   "cell_type": "code",
   "execution_count": null,
   "id": "6b78f8d7-99fa-4e40-8bfd-b754ec3a7dfe",
   "metadata": {},
   "outputs": [],
   "source": [
    "// 遍历前5个选项卡并点击\n",
    "for (let i = 0; i < tabs.length && i < 5; i++) {\n",
    "    console.log(i, nameDict[i]);\n",
    "    try {\n",
    "        await tabs[i].click();\n",
    "        await page.waitForTimeout(1000); // 等待页面加载完成\n",
    "\n",
    "\n",
    "        const content = await page.content();\n",
    "        fs.writeFileSync(path.join(api_home, nameDict[i]), content);\n",
    "    } catch (e) {\n",
    "        console.error(`Failed to click tab ${i}:`, e);\n",
    "        fs.writeFileSync(path.join(api_home, nameDict[i]), '');\n",
    "    }\n",
    "}"
   ]
  },
  {
   "cell_type": "code",
   "execution_count": null,
   "id": "fdba1d02-ced6-4970-bee8-658132ba93d0",
   "metadata": {},
   "outputs": [],
   "source": []
  },
  {
   "cell_type": "markdown",
   "id": "bd5cee85-9b49-4568-b29b-65566b4b3520",
   "metadata": {},
   "source": [
    "## 参数传递"
   ]
  },
  {
   "cell_type": "code",
   "execution_count": null,
   "id": "a777cfee-7614-4b5a-bb9f-ca4795a57d50",
   "metadata": {},
   "outputs": [],
   "source": [
    "// 获取命令行参数\n",
    "const args = process.argv.slice(2);\n",
    "let api_home, url, headless, userdir, executablePath;\n",
    "\n",
    "\n",
    "args.forEach(arg => {\n",
    "    const [key, value] = arg.split('=');\n",
    "    if (key && value) {\n",
    "        switch (key) {\n",
    "            case '--api-home':\n",
    "                api_home = value;\n",
    "                break;\n",
    "            case '--url':\n",
    "                url = value;\n",
    "                break;\n",
    "            case '--headless':\n",
    "                headless = value === 'true';\n",
    "                break;\n",
    "            case '--userdir':\n",
    "                userdir = value;\n",
    "                break;\n",
    "            case '--executablePath':\n",
    "                executablePath = value;\n",
    "                break;\n",
    "            default:\n",
    "                console.log(`Unknown parameter: ${key}`);\n",
    "        }\n",
    "    } else {\n",
    "        console.log(`Invalid parameter format: ${arg}`);\n",
    "    }\n",
    "});\n",
    "\n",
    "// 检查参数是否已传递\n",
    "if (!api_home || !url || !userdir || !executablePath || headless === undefined) {\n",
    "    console.error('Missing required parameters. Usage: node workflows.js --api-home=<api-home> --url=<url> --headless=<true|false> --userdir=<userdir> --executablePath=<executablePath>');\n",
    "    process.exit(1);\n",
    "}\n",
    "\n",
    "// 打印参数\n",
    "console.log(`API Home: ${api_home}`);\n",
    "console.log(`URL: ${url}`);\n",
    "console.log(`Headless: ${headless}`);\n",
    "console.log(`User Directory: ${userdir}`);\n",
    "console.log(`Executable Path: ${executablePath}`);\n"
   ]
  },
  {
   "cell_type": "code",
   "execution_count": null,
   "id": "42d6ca1c-056b-4e97-88ac-2b8a11115acc",
   "metadata": {},
   "outputs": [],
   "source": []
  },
  {
   "cell_type": "code",
   "execution_count": null,
   "id": "7e2e0721-bf1e-48af-a6a8-5da50546a33b",
   "metadata": {},
   "outputs": [],
   "source": []
  },
  {
   "cell_type": "markdown",
   "id": "84626abc-945f-4a68-b887-f63c072866ce",
   "metadata": {},
   "source": [
    "## 多线程 "
   ]
  },
  {
   "cell_type": "code",
   "execution_count": null,
   "id": "7578ba1b-13c6-4ea3-affd-f2e480b65088",
   "metadata": {},
   "outputs": [],
   "source": [
    "%%writefile workflow3.js\n",
    "const puppeteer = require('puppeteer-extra');\n",
    "const StealthPlugin = require('puppeteer-extra-plugin-stealth');\n",
    "const path = require('path');\n",
    "const fs = require('fs');\n",
    "const { workerData, parentPort } = require('worker_threads');\n",
    "puppeteer.use(StealthPlugin());\n",
    "\n",
    "// const url = 'https://rapidapi.com/Glavier/api/ahrefs1/playground/apiendpoint_b535d225-dfd9-4b62-b1fb-d72e7368aaaf';\n",
    "// const api_home = 'aaaa';\n",
    "const headless = false;\n",
    "// const userdir = './xxxxx';\n",
    "const executablePath = '/Users/zhaoxuefeng/.cache/puppeteer/chrome/mac_arm-121.0.6167.85/chrome-mac-arm64/Google Chrome for Testing.app/Contents/MacOS/Google Chrome for Testing';\n",
    "\n",
    "(async () => {\n",
    "    const { api_home, url,userdir} = workerData;\n",
    "    // 启动浏览器\n",
    "    const browser = await puppeteer.launch({\n",
    "      headless: headless, // 非无头模式\n",
    "    executablePath: executablePath,\n",
    "    userDataDir: userdir,\n",
    "    });\n",
    "\n",
    "    \n",
    "    \n",
    "    const page = await browser.newPage();\n",
    "    await page.setViewport({\n",
    "        width: 1200,\n",
    "        height: 1200,\n",
    "        deviceScaleFactor: 1,\n",
    "    });\n",
    "    \n",
    "    // 导航到目标页面\n",
    "    await page.goto(url);\n",
    "\n",
    "    // 定义选项卡选择器和文件名字典\n",
    "    const tabSelector = '//*[@id=\"main-frame\"]/div[1]/div/div/div[2]/div/div/div/div/div[1]/div/div/button';\n",
    "    const nameDict = {\n",
    "        0: \"app.html\",\n",
    "        1: \"params.html\",\n",
    "        2: \"headers.html\",\n",
    "        3: \"body.html\",\n",
    "        4: \"authorizations.html\"\n",
    "    };\n",
    "\n",
    "    // 查找所有选项卡\n",
    "    const tabs = await page.$x(tabSelector);\n",
    "    console.log(tabs)\n",
    "    \n",
    "    // 遍历前5个选项卡并点击\n",
    "    for (let i = 0; i < tabs.length && i < 5; i++) {\n",
    "        console.log(i, nameDict[i]);\n",
    "        \n",
    "        await tabs[i].click();\n",
    "        await page.waitForTimeout(100); // 等待页面加载完成\n",
    "\n",
    "        const content = await page.content();\n",
    "        fs.writeFileSync(path.join(api_home, nameDict[i]), content);\n",
    "    }\n",
    "    \n",
    "    // spider_Code Snippets python\n",
    "    console.log('Snippets python');\n",
    "    await page.locator('xpath///*[@id=\"main-frame\"]/div[1]/div/div/div[2]/div/div/div/div/div[2]/div[2]/div[1]/div/button[1]').click();\n",
    "    await page.locator('xpath///*[@id=\"main-frame\"]/div[1]/div/div/div[2]/div/div/div/div/div[2]/div[2]/div[2]/div[1]/div/div/div[1]/div/div').click();\n",
    "    await page.locator('xpath///*[@id=\"portal-root\"]/div/div/button[14]').click();\n",
    "    await page.locator('xpath///*[@id=\"main-frame\"]/div[1]/div/div/div[2]/div/div/div/div/div[2]/div[2]/div[2]/div[1]/div/div/div[2]/div/div').click();\n",
    "    await page.locator('xpath///*[@id=\"portal-root\"]/div/div/button[2]').click();\n",
    "    \n",
    "    var content = await page.content();\n",
    "    fs.writeFileSync(path.join(api_home,'code_snippets_python.html'), content);\n",
    "    \n",
    "    // spider_Code Snippets shell\n",
    "    console.log('Snippets shell');\n",
    "    await page.locator('xpath///*[@id=\"main-frame\"]/div[1]/div/div/div[2]/div/div/div/div/div[2]/div[2]/div[2]/div[1]/div/div/div[1]/div/div').click();\n",
    "    await page.locator('xpath///*[@id=\"portal-root\"]/div/div/button[17]').click();\n",
    "    await page.locator('xpath///*[@id=\"main-frame\"]/div[1]/div/div/div[2]/div/div/div/div/div[2]/div[2]/div[2]/div[1]/div/div/div[2]/div/div').click();\n",
    "    await page.locator('xpath///*[@id=\"portal-root\"]/div/div/button[1]').click();\n",
    "    \n",
    "    var content = await page.content();\n",
    "    fs.writeFileSync(path.join(api_home,'code_snippets_shell.html'), content);\n",
    "    \n",
    "    \n",
    "    // spider_Example_Response\n",
    "    console.log('Example_Response');\n",
    "    await page.locator('xpath///*[@id=\"main-frame\"]/div[1]/div/div/div[2]/div/div/div/div/div[2]/div[2]/div[1]/div/button[2]').click();\n",
    "    var content = await page.content();\n",
    "    fs.writeFileSync(path.join(api_home,'Example_Response.html'), content);\n",
    "    \n",
    "    \n",
    "\n",
    "    // 关闭浏览器\n",
    "    console.log('close');\n",
    "    await browser.close();\n",
    "    console.log(`success ${api_home}`);\n",
    "\n",
    "})();"
   ]
  },
  {
   "cell_type": "code",
   "execution_count": null,
   "id": "c7f3f4f5-327c-4c93-9af1-74fe66194bc1",
   "metadata": {},
   "outputs": [],
   "source": [
    "%%writefile main.js\n",
    "const { Worker } = require('worker_threads');\n",
    "const path = require('path');\n",
    "const fs = require('fs');\n",
    "\n",
    "\n",
    "\n",
    "\n",
    "const tasks = [\n",
    "    {\n",
    "        api_home: 'output1',\n",
    "        url: 'https://rapidapi.com/VanitySoft/api/boundaries-io-1/playground/apiendpoint_9fefa91b-1881-43d2-b884-6174f55c0fe9',\n",
    "        userdir: 'xxxxx',\n",
    "    },\n",
    "    {\n",
    "        api_home: 'output2',\n",
    "        url: 'https://rapidapi.com/Glavier/api/ahrefs1/playground/apiendpoint_b535d225-dfd9-4b62-b1fb-d72e7368aaaf',\n",
    "        userdir: 'xxxxx2',\n",
    "    },\n",
    "    \n",
    "    {\n",
    "        api_home: 'output3',\n",
    "        url: 'https://rapidapi.com/VanitySoft/api/boundaries-io-1/playground/apiendpoint_9fefa91b-1881-43d2-b884-6174f55c0fe9',\n",
    "        userdir: 'xxxxx3',\n",
    "    },\n",
    "    \n",
    "    {\n",
    "        api_home: 'output4',\n",
    "        url: 'https://rapidapi.com/Glavier/api/ahrefs1/playground/apiendpoint_b535d225-dfd9-4b62-b1fb-d72e7368aaaf',\n",
    "        userdir: 'xxxxx4',\n",
    "    },\n",
    "    \n",
    "        {\n",
    "        api_home: 'output5',\n",
    "        url: 'https://rapidapi.com/Glavier/api/ahrefs1/playground/apiendpoint_b535d225-dfd9-4b62-b1fb-d72e7368aaaf',\n",
    "        userdir: 'xxxxx5',\n",
    "    },\n",
    "    // 可以添加更多任务\n",
    "];\n",
    "\n",
    "\n",
    "// 函数用于创建和启动 Worker\n",
    "function runWorker(task) {\n",
    "    return new Promise((resolve, reject) => {\n",
    "        const worker = new Worker(path.resolve(__dirname, 'workflow3.js'), {\n",
    "            workerData: task\n",
    "        });\n",
    "\n",
    "        worker.on('message', (message) => {\n",
    "            console.log(message);\n",
    "        });\n",
    "\n",
    "        worker.on('error', (error) => {\n",
    "            console.error('Worker error:', error);\n",
    "            reject(error);\n",
    "        });\n",
    "\n",
    "        worker.on('exit', (code) => {\n",
    "            if (code !== 0) {\n",
    "                console.error(`Worker stopped with exit code ${code}`);\n",
    "                reject(new Error(`Worker stopped with exit code ${code}`));\n",
    "            } else {\n",
    "                resolve();\n",
    "            }\n",
    "        });\n",
    "    });\n",
    "}\n",
    "\n",
    "// 主函数来运行所有的任务\n",
    "async function main() {\n",
    "    // 确保任务目录存在\n",
    "    tasks.forEach(task => {\n",
    "        if (!fs.existsSync(task.api_home)) {\n",
    "            fs.mkdirSync(task.api_home);\n",
    "        }\n",
    "    });\n",
    "\n",
    "    // 运行所有的 Worker\n",
    "    try {\n",
    "        await Promise.all(tasks.map(runWorker));\n",
    "        console.log('All tasks completed successfully');\n",
    "    } catch (error) {\n",
    "        console.error('Error in tasks:', error);\n",
    "    }\n",
    "}\n",
    "\n",
    "if (require.main === module) {\n",
    "    main();\n",
    "}\n"
   ]
  },
  {
   "cell_type": "markdown",
   "id": "f4bd7187-3bb5-4cce-8c03-3b21c9a5b2e9",
   "metadata": {},
   "source": [
    "## 多进程"
   ]
  },
  {
   "cell_type": "code",
   "execution_count": null,
   "id": "6836bc82-2f2d-4662-b7b6-cdd1bf5bb7c1",
   "metadata": {},
   "outputs": [],
   "source": [
    " 注意 多进程中 没有 workerData 模式 (在多线程中出现)"
   ]
  },
  {
   "cell_type": "code",
   "execution_count": null,
   "id": "4e1af670-6c34-4fe8-9dee-b39df930d668",
   "metadata": {},
   "outputs": [],
   "source": [
    "%%writefile workflow4.js\n",
    "const puppeteer = require('puppeteer-extra');\n",
    "const StealthPlugin = require('puppeteer-extra-plugin-stealth');\n",
    "const path = require('path');\n",
    "const fs = require('fs');\n",
    "// const { workerData, parentPort } = require('worker_threads');\n",
    "\n",
    "\n",
    "// 解析命令行参数\n",
    "const args = process.argv.slice(2);\n",
    "const params = {};\n",
    "args.forEach(arg => {\n",
    "    const [key, value] = arg.split('=');\n",
    "    if (key && value) {\n",
    "        params[key] = value;\n",
    "    }\n",
    "});\n",
    "\n",
    "const { api_home, url, userdir } = params;\n",
    "\n",
    "puppeteer.use(StealthPlugin());\n",
    "\n",
    "// const url = 'https://rapidapi.com/Glavier/api/ahrefs1/playground/apiendpoint_b535d225-dfd9-4b62-b1fb-d72e7368aaaf';\n",
    "// const api_home = 'aaaa';\n",
    "const headless = false;\n",
    "// const userdir = './xxxxx';\n",
    "const executablePath = '/Users/zhaoxuefeng/.cache/puppeteer/chrome/mac_arm-121.0.6167.85/chrome-mac-arm64/Google Chrome for Testing.app/Contents/MacOS/Google Chrome for Testing';\n",
    "\n",
    "\n",
    "\n",
    "\n",
    "(async () => {\n",
    "    // const { api_home, url,userdir} = workerData;\n",
    "    // 启动浏览器\n",
    "    const browser = await puppeteer.launch({\n",
    "      headless: headless, // 非无头模式\n",
    "    executablePath: executablePath,\n",
    "    userDataDir: userdir,\n",
    "    });\n",
    "\n",
    "    \n",
    "    \n",
    "    const page = await browser.newPage();\n",
    "    await page.setViewport({\n",
    "        width: 1200,\n",
    "        height: 1200,\n",
    "        deviceScaleFactor: 1,\n",
    "    });\n",
    "    \n",
    "    // 导航到目标页面\n",
    "    await page.goto(url);\n",
    "\n",
    "    // 定义选项卡选择器和文件名字典\n",
    "    const tabSelector = '//*[@id=\"main-frame\"]/div[1]/div/div/div[2]/div/div/div/div/div[1]/div/div/button';\n",
    "    const nameDict = {\n",
    "        0: \"app.html\",\n",
    "        1: \"params.html\",\n",
    "        2: \"headers.html\",\n",
    "        3: \"body.html\",\n",
    "        4: \"authorizations.html\"\n",
    "    };\n",
    "\n",
    "    // 查找所有选项卡\n",
    "    const tabs = await page.$x(tabSelector);\n",
    "    console.log(tabs)\n",
    "    \n",
    "    // 遍历前5个选项卡并点击\n",
    "    for (let i = 0; i < tabs.length && i < 5; i++) {\n",
    "        console.log(i, nameDict[i]);\n",
    "        \n",
    "        await tabs[i].click();\n",
    "        await page.waitForTimeout(100); // 等待页面加载完成\n",
    "\n",
    "        const content = await page.content();\n",
    "        fs.writeFileSync(path.join(api_home, nameDict[i]), content);\n",
    "    }\n",
    "    \n",
    "    // spider_Code Snippets python\n",
    "    console.log('Snippets python');\n",
    "    await page.locator('xpath///*[@id=\"main-frame\"]/div[1]/div/div/div[2]/div/div/div/div/div[2]/div[2]/div[1]/div/button[1]').click();\n",
    "    await page.locator('xpath///*[@id=\"main-frame\"]/div[1]/div/div/div[2]/div/div/div/div/div[2]/div[2]/div[2]/div[1]/div/div/div[1]/div/div').click();\n",
    "    await page.locator('xpath///*[@id=\"portal-root\"]/div/div/button[14]').click();\n",
    "    await page.locator('xpath///*[@id=\"main-frame\"]/div[1]/div/div/div[2]/div/div/div/div/div[2]/div[2]/div[2]/div[1]/div/div/div[2]/div/div').click();\n",
    "    await page.locator('xpath///*[@id=\"portal-root\"]/div/div/button[2]').click();\n",
    "    \n",
    "    var content = await page.content();\n",
    "    fs.writeFileSync(path.join(api_home,'code_snippets_python.html'), content);\n",
    "    \n",
    "    // spider_Code Snippets shell\n",
    "    console.log('Snippets shell');\n",
    "    await page.locator('xpath///*[@id=\"main-frame\"]/div[1]/div/div/div[2]/div/div/div/div/div[2]/div[2]/div[2]/div[1]/div/div/div[1]/div/div').click();\n",
    "    await page.locator('xpath///*[@id=\"portal-root\"]/div/div/button[17]').click();\n",
    "    await page.locator('xpath///*[@id=\"main-frame\"]/div[1]/div/div/div[2]/div/div/div/div/div[2]/div[2]/div[2]/div[1]/div/div/div[2]/div/div').click();\n",
    "    await page.locator('xpath///*[@id=\"portal-root\"]/div/div/button[1]').click();\n",
    "    \n",
    "    var content = await page.content();\n",
    "    fs.writeFileSync(path.join(api_home,'code_snippets_shell.html'), content);\n",
    "    \n",
    "    \n",
    "    // spider_Example_Response\n",
    "    console.log('Example_Response');\n",
    "    await page.locator('xpath///*[@id=\"main-frame\"]/div[1]/div/div/div[2]/div/div/div/div/div[2]/div[2]/div[1]/div/button[2]').click();\n",
    "    var content = await page.content();\n",
    "    fs.writeFileSync(path.join(api_home,'Example_Response.html'), content);\n",
    "    \n",
    "    \n",
    "\n",
    "    // 关闭浏览器\n",
    "    console.log('close');\n",
    "    await browser.close();\n",
    "    console.log(`success ${api_home}`);\n",
    "\n",
    "})();\n"
   ]
  },
  {
   "cell_type": "code",
   "execution_count": null,
   "id": "265e58f0-fde0-4201-8ba4-ab718b4cb99f",
   "metadata": {},
   "outputs": [],
   "source": [
    "%%writefile main2.js\n",
    "const { exec } = require('child_process');\n",
    "const path = require('path');\n",
    "const fs = require('fs');\n",
    "\n",
    "// 定义任务列表\n",
    "const tasks = [\n",
    "    {\n",
    "        api_home: 'output1',\n",
    "        url: 'https://rapidapi.com/VanitySoft/api/boundaries-io-1/playground/apiendpoint_9fefa91b-1881-43d2-b884-6174f55c0fe9',\n",
    "        userdir: 'xxxxx',\n",
    "    },\n",
    "    {\n",
    "        api_home: 'output2',\n",
    "        url: 'https://rapidapi.com/Glavier/api/ahrefs1/playground/apiendpoint_b535d225-dfd9-4b62-b1fb-d72e7368aaaf',\n",
    "        userdir: 'xxxxx2',\n",
    "    },\n",
    "    \n",
    "    {\n",
    "        api_home: 'output3',\n",
    "        url: 'https://rapidapi.com/VanitySoft/api/boundaries-io-1/playground/apiendpoint_9fefa91b-1881-43d2-b884-6174f55c0fe9',\n",
    "        userdir: 'xxxxx3',\n",
    "    },\n",
    "    \n",
    "    {\n",
    "        api_home: 'output4',\n",
    "        url: 'https://rapidapi.com/Glavier/api/ahrefs1/playground/apiendpoint_b535d225-dfd9-4b62-b1fb-d72e7368aaaf',\n",
    "        userdir: 'xxxxx4',\n",
    "    },\n",
    "    \n",
    "        {\n",
    "        api_home: 'output5',\n",
    "        url: 'https://rapidapi.com/Glavier/api/ahrefs1/playground/apiendpoint_b535d225-dfd9-4b62-b1fb-d72e7368aaaf',\n",
    "        userdir: 'xxxxx5',\n",
    "    },\n",
    "    // 可以添加更多任务\n",
    "];\n",
    "\n",
    "// 函数用于创建和启动子进程\n",
    "function runTask(task) {\n",
    "    return new Promise((resolve, reject) => {\n",
    "        const command = `node ${path.resolve(__dirname, 'workflow4.js')} ` +\n",
    "                        `api_home=${task.api_home} ` +\n",
    "                        `url=${task.url} ` +\n",
    "                        `headless=${task.headless} ` +\n",
    "                        `userdir=${task.userdir} ` +\n",
    "                        `executablePath=${task.executablePath}`;\n",
    "\n",
    "        const child = exec(command, (error, stdout, stderr) => {\n",
    "            if (error) {\n",
    "                console.error(`Error executing task for ${task.api_home}:`, error);\n",
    "                reject(error);\n",
    "                return;\n",
    "            }\n",
    "            if (stderr) {\n",
    "                console.error(`stderr for ${task.api_home}:`, stderr);\n",
    "            }\n",
    "            console.log(`stdout for ${task.api_home}:`, stdout);\n",
    "            resolve();\n",
    "        });\n",
    "    });\n",
    "}\n",
    "\n",
    "// 主函数来运行所有的任务\n",
    "async function main() {\n",
    "    // 确保任务目录存在\n",
    "    tasks.forEach(task => {\n",
    "        if (!fs.existsSync(task.api_home)) {\n",
    "            fs.mkdirSync(task.api_home);\n",
    "        }\n",
    "    });\n",
    "\n",
    "    // 运行所有的任务\n",
    "    try {\n",
    "        await Promise.all(tasks.map(runTask));\n",
    "        console.log('All tasks completed successfully');\n",
    "    } catch (error) {\n",
    "        console.error('Error in tasks:', error);\n",
    "    }\n",
    "}\n",
    "\n",
    "if (require.main === module) {\n",
    "    main();\n",
    "}\n"
   ]
  },
  {
   "cell_type": "markdown",
   "id": "bca0d1d6-060f-4039-b26c-828b9af1b55f",
   "metadata": {},
   "source": [
    "## other"
   ]
  },
  {
   "cell_type": "code",
   "execution_count": null,
   "id": "3b3b88b1-0f02-445e-a851-cf19cbaf6dce",
   "metadata": {},
   "outputs": [],
   "source": [
    "// Type into search box\n",
    "//await page.type('.devsite-search-field', 'automate beyond recorder');\n",
    "\n",
    "// Wait and click on first result\n",
    "//const searchResultSelector = '.devsite-result-item-link';\n",
    "//await page.waitForSelector(searchResultSelector);\n",
    "//await page.click(searchResultSelector);\n",
    "\n",
    "// Locate the full title with a unique string\n",
    "//const textSelector = await page.waitForSelector(\n",
    "//  'text/Customize and automate'\n",
    "//);\n",
    "//const fullTitle = await textSelector?.evaluate(el => el.textContent);\n",
    "\n",
    "// Print the full title\n",
    "//console.log('The title of this blog post is \"%s\".', fullTitle);\n",
    "\n",
    "//await browser.close();"
   ]
  },
  {
   "cell_type": "code",
   "execution_count": null,
   "id": "ba112883-56d0-411a-844e-508c802e2cc8",
   "metadata": {},
   "outputs": [],
   "source": []
  },
  {
   "cell_type": "code",
   "execution_count": null,
   "id": "2f957d93-29f4-4edf-9429-95877f737af3",
   "metadata": {},
   "outputs": [],
   "source": []
  },
  {
   "cell_type": "code",
   "execution_count": null,
   "id": "53d02b30-c0e2-477f-bfda-fe15257f01ce",
   "metadata": {},
   "outputs": [],
   "source": []
  }
 ],
 "metadata": {
  "kernelspec": {
   "display_name": "Python 3 (ipykernel)",
   "language": "python",
   "name": "python3"
  },
  "language_info": {
   "codemirror_mode": {
    "name": "ipython",
    "version": 3
   },
   "file_extension": ".py",
   "mimetype": "text/x-python",
   "name": "python",
   "nbconvert_exporter": "python",
   "pygments_lexer": "ipython3",
   "version": "3.10.14"
  }
 },
 "nbformat": 4,
 "nbformat_minor": 5
}
