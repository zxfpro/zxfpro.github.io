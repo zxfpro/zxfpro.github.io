{
 "cells": [
  {
   "cell_type": "markdown",
   "id": "4b5685ff-677a-41fb-826c-06f30677917c",
   "metadata": {},
   "source": [
    "# tmux"
   ]
  },
  {
   "cell_type": "markdown",
   "id": "b1ae696e-7843-4f29-a6f5-f1273538be05",
   "metadata": {},
   "source": [
    "## 1 常规的tmux 操作"
   ]
  },
  {
   "cell_type": "markdown",
   "id": "89828334-76d6-46a4-8dab-ca7b8ad5ec82",
   "metadata": {},
   "source": [
    "[tmux 常规操作文章](https://www.ruanyifeng.com/blog/2019/10/tmux.html)"
   ]
  },
  {
   "cell_type": "markdown",
   "id": "3bc34b0b-3f21-4e10-9d05-99fd19e94c32",
   "metadata": {},
   "source": [
    "## 2 使用shell 脚本控制tmux"
   ]
  },
  {
   "cell_type": "markdown",
   "id": "fa8a07ed-b104-409f-8749-e0b4a8f810e3",
   "metadata": {},
   "source": [
    "/opt/homebrew/bin/tmux new-session -d -s jupyter_window2 'source /Users/zhaoxuefeng/opt/miniconda3/bin/activate data_server_web && python -m data_server_web.server --server_port 8701'"
   ]
  },
  {
   "cell_type": "code",
   "execution_count": null,
   "id": "7059cf72-cdec-44eb-8790-9f7e2b1cb291",
   "metadata": {},
   "outputs": [],
   "source": [
    "\n",
    "source /Users/zhaoxuefeng/opt/miniconda3/bin/activate py310_new  # 执行会带有环境\n",
    "\n",
    "/opt/homebrew/bin/tmux new-session -d -s jupyter_11 'jupyter lab --NotebookApp.notebook_dir=/Users/zhaoxuefeng/Documents/Project'\n",
    "\n",
    "/opt/homebrew/bin/tmux new-session -d -s jupyter_window2 'source /Users/zhaoxuefeng/opt/miniconda3/bin/activate data_server_web && python -m data_server_web.server --server_port 8700'"
   ]
  },
  {
   "cell_type": "code",
   "execution_count": null,
   "id": "f8a2649e-2e2d-44e6-a7b4-6a33ff256c53",
   "metadata": {},
   "outputs": [],
   "source": [
    "#!/bin/bash\n",
    "\n",
    "# Create a new tmux session\n",
    "/opt/homebrew/bin/tmux new-session -d -s jupyter_window2\n",
    "\n",
    "# Send commands to the tmux session\n",
    "/opt/homebrew/bin/tmux send-keys -t jupyter_window2 \"source /path/to/conda/bin/activate data_server_web\" C-m\n",
    "/opt/homebrew/bin/tmux send-keys -t jupyter_window2 \"python -m data_server_web.server --server_port 8700\" C-m\n",
    "\n",
    "# Optional: attach to the tmux session if you want to monitor it\n",
    "#/opt/homebrew/bin/tmux attach-session -t jupyter_window2\n"
   ]
  },
  {
   "cell_type": "code",
   "execution_count": null,
   "id": "5c434576-e3b0-4292-b56d-6908cdec9be8",
   "metadata": {},
   "outputs": [],
   "source": []
  },
  {
   "cell_type": "markdown",
   "id": "719c87de-c7ca-4153-b277-20a305072806",
   "metadata": {
    "tags": []
   },
   "source": [
    "## 3开机自动拉起"
   ]
  },
  {
   "cell_type": "code",
   "execution_count": null,
   "id": "5e252bfe-62fd-480e-8f11-bc765fbb8dfd",
   "metadata": {},
   "outputs": [],
   "source": [
    "# !vim ~/Library/LaunchAgents/com.user.tmux.plist\n",
    "添加以下内容\n",
    "# 脚本一定不要写在documents 中"
   ]
  },
  {
   "cell_type": "code",
   "execution_count": null,
   "id": "601fd224-771d-4f42-9baf-94e0d52e1324",
   "metadata": {},
   "outputs": [],
   "source": [
    "<?xml version=\"1.0\" encoding=\"UTF-8\"?>\n",
    "<!DOCTYPE plist PUBLIC \"-//Apple Computer//DTD PLIST 1.0//EN\" \"http://www.apple.com/DTDs/PropertyList-1.0.dtd\">\n",
    "<plist version=\"1.0\">\n",
    "<dict>\n",
    "    <key>Label</key>\n",
    "    <string>com.user.tmux</string>\n",
    "    <key>ProgramArguments</key>\n",
    "    <array>\n",
    "        <string>/bin/bash</string>\n",
    "        <string>/Users/zhaoxuefeng/start_tmux_jupyter.sh</string>\n",
    "    </array>\n",
    "    <key>RunAtLoad</key>\n",
    "    <true/>\n",
    "    <!-- Remove KeepAlive to avoid constant restarting -->\n",
    "    <!-- <key>KeepAlive</key>\n",
    "    <true/> -->\n",
    "</dict>\n",
    "</plist>"
   ]
  },
  {
   "cell_type": "code",
   "execution_count": null,
   "id": "1894db4a-a3cb-44b5-a84e-901c23f9c301",
   "metadata": {},
   "outputs": [],
   "source": [
    "launchctl unload ~/Library/LaunchAgents/com.user.tmux.plist\n",
    "launchctl load ~/Library/LaunchAgents/com.user.tmux.plist"
   ]
  },
  {
   "cell_type": "code",
   "execution_count": null,
   "id": "78fe45c4-70c2-4df1-9bd0-2814576fe2a6",
   "metadata": {},
   "outputs": [],
   "source": []
  },
  {
   "cell_type": "code",
   "execution_count": null,
   "id": "e3c81e62-e30a-4502-8eb1-0cb1648a01ac",
   "metadata": {},
   "outputs": [],
   "source": []
  }
 ],
 "metadata": {
  "kernelspec": {
   "display_name": "Python 3 (ipykernel)",
   "language": "python",
   "name": "python3"
  },
  "language_info": {
   "codemirror_mode": {
    "name": "ipython",
    "version": 3
   },
   "file_extension": ".py",
   "mimetype": "text/x-python",
   "name": "python",
   "nbconvert_exporter": "python",
   "pygments_lexer": "ipython3",
   "version": "3.10.14"
  }
 },
 "nbformat": 4,
 "nbformat_minor": 5
}
