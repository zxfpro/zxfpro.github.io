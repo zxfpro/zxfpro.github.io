{
 "cells": [
  {
   "cell_type": "code",
   "execution_count": null,
   "id": "45f4ce1e-0ea3-4012-88e5-53a2390dd0f5",
   "metadata": {},
   "outputs": [],
   "source": [
    "# 递归"
   ]
  },
  {
   "cell_type": "code",
   "execution_count": null,
   "id": "548ec915-e33b-49e9-9172-7d4e18dad14a",
   "metadata": {},
   "outputs": [],
   "source": [
    "def unfold_dict(v,host_name):\n",
    "    for k,v in v.items():\n",
    "        if isinstance(v,dict):\n",
    "            host_name = k + '__'\n",
    "            print('ok')\n",
    "            unfold_dict(v,host_name=host_name)\n",
    "        elif isinstance(v,str):\n",
    "            try:\n",
    "                json.loads(v)\n",
    "            except:\n",
    "                print('ok')\n",
    "                xx[host_name+k] = v\n",
    "        else:\n",
    "            raise \"error\""
   ]
  },
  {
   "cell_type": "markdown",
   "id": "154d34aa-c3d0-4a01-a095-ec6bec9bc5a8",
   "metadata": {},
   "source": [
    "自己写的"
   ]
  },
  {
   "cell_type": "code",
   "execution_count": null,
   "id": "f5d19b07-139b-44eb-81e9-93bd0ba85592",
   "metadata": {},
   "outputs": [],
   "source": []
  },
  {
   "cell_type": "code",
   "execution_count": 277,
   "id": "74bbcb98-26b4-4d55-a13b-b80ba5ef0d79",
   "metadata": {
    "tags": []
   },
   "outputs": [],
   "source": [
    "nested_dict = i.json_['output']"
   ]
  },
  {
   "cell_type": "code",
   "execution_count": 278,
   "id": "d6bcfdb2-9552-4503-8d6c-c98a162180f2",
   "metadata": {
    "tags": []
   },
   "outputs": [
    {
     "name": "stdout",
     "output_type": "stream",
     "text": [
      "{'status': 'OK', 'request_id': 'e169da05-9741-4d9e-a7cc-b455d1bed961', 'data__rapidapi': 'https://rapidapi.com', 'data__wilson sonsini': 'https://www.wsgr.com', 'data__microsoft': 'https://www.microsoft.com'}\n"
     ]
    }
   ],
   "source": [
    "import json\n",
    "\n",
    "def unfold_dict(d, parent_key='', sep='__'):\n",
    "    items = []\n",
    "    for k, v in d.items():\n",
    "        new_key = f\"{parent_key}{sep}{k}\" if parent_key else k\n",
    "        if isinstance(v, dict):\n",
    "            items.extend(unfold_dict(v, new_key, sep=sep).items())\n",
    "        elif isinstance(v, str):\n",
    "            try:\n",
    "                json.loads(v)\n",
    "                items.append((new_key, v))\n",
    "            except json.JSONDecodeError:\n",
    "                items.append((new_key, v))\n",
    "        else:\n",
    "            items.append((new_key, v))\n",
    "    return dict(items)\n",
    "\n",
    "# 测试展开\n",
    "\n",
    "unfolded = unfold_dict(nested_dict)\n",
    "print(unfolded)\n"
   ]
  },
  {
   "cell_type": "code",
   "execution_count": 279,
   "id": "97944bc9-829f-4229-92ef-d5e6f5f7a8d4",
   "metadata": {
    "tags": []
   },
   "outputs": [
    {
     "data": {
      "text/plain": [
       "{'status': 'OK',\n",
       " 'request_id': 'e169da05-9741-4d9e-a7cc-b455d1bed961',\n",
       " 'data__rapidapi': 'https://rapidapi.com',\n",
       " 'data__wilson sonsini': 'https://www.wsgr.com',\n",
       " 'data__microsoft': 'https://www.microsoft.com'}"
      ]
     },
     "execution_count": 279,
     "metadata": {},
     "output_type": "execute_result"
    }
   ],
   "source": [
    "unfolded"
   ]
  },
  {
   "cell_type": "code",
   "execution_count": 280,
   "id": "e8c1f194-6232-496b-a256-defb02efc56d",
   "metadata": {
    "tags": []
   },
   "outputs": [],
   "source": [
    "def fold_dict(d, sep='__'):\n",
    "    result_dict = {}\n",
    "    for k, v in d.items():\n",
    "        keys = k.split(sep)\n",
    "        d_nested = result_dict\n",
    "        for key in keys[:-1]:\n",
    "            if key not in d_nested:\n",
    "                d_nested[key] = {}\n",
    "            d_nested = d_nested[key]\n",
    "        d_nested[keys[-1]] = v\n",
    "    return result_dict\n",
    "\n",
    "# 测试折叠\n",
    "folded = fold_dict(unfolded)"
   ]
  },
  {
   "cell_type": "code",
   "execution_count": 281,
   "id": "3e58f921-6a1c-40f5-bf49-bde1356727f1",
   "metadata": {
    "tags": []
   },
   "outputs": [
    {
     "data": {
      "text/plain": [
       "{'status': 'OK',\n",
       " 'request_id': 'e169da05-9741-4d9e-a7cc-b455d1bed961',\n",
       " 'data': {'rapidapi': 'https://rapidapi.com',\n",
       "  'wilson sonsini': 'https://www.wsgr.com',\n",
       "  'microsoft': 'https://www.microsoft.com'}}"
      ]
     },
     "execution_count": 281,
     "metadata": {},
     "output_type": "execute_result"
    }
   ],
   "source": [
    "folded"
   ]
  },
  {
   "cell_type": "code",
   "execution_count": null,
   "id": "f712ff86-c97c-4b56-a25d-8fb0f2d8b79a",
   "metadata": {},
   "outputs": [],
   "source": []
  },
  {
   "cell_type": "code",
   "execution_count": null,
   "id": "38358593-b6d0-448e-aa91-c8eeee49b8d0",
   "metadata": {},
   "outputs": [],
   "source": [
    "def unfold_dict(v,host_name):\n",
    "    for k,v in v.items():\n",
    "        if isinstance(v,dict):\n",
    "            unfold_dict(v,host_name=host_name + k + '__')\n",
    "        elif isinstance(v,str) or isinstance(v,int) or isinstance(v,float) or v is None or(isinstance(v,list) and len(v)==0):\n",
    "            xx[host_name+k] = v\n",
    "        elif isinstance(v,list) and len(v)>=1:\n",
    "            if isinstance(v[0],str) or isinstance(v[0],int) or v[0] is None or isinstance(v[0],float) or isinstance(v[0],list):\n",
    "                xx[host_name+k] = v\n",
    "            else:\n",
    "                for i in range(len(v)):\n",
    "                    unfold_dict(v[i],host_name=host_name + k + f'[]{i}[]')\n",
    "        else:\n",
    "            print(type(v))\n",
    "            print(len(v))\n",
    "            raise \"error\""
   ]
  },
  {
   "cell_type": "code",
   "execution_count": null,
   "id": "c093883a-07ea-436f-9d02-1aaddf736469",
   "metadata": {},
   "outputs": [],
   "source": [
    "def fold_dict(d):\n",
    "    result_dict = {}\n",
    "    xx = {}\n",
    "    ttt = ''\n",
    "    ppp = ''\n",
    "    tt = 0\n",
    "    key_var = ''\n",
    "    pp = 0\n",
    "    for k,v in d.items():\n",
    "        result = first_occurrence(k)\n",
    "\n",
    "        if result is None:\n",
    "            result_dict[k] = v\n",
    "            \n",
    "        elif result == 'first a':\n",
    "            keys,value = k.split('__',1)\n",
    "            # print(value,'value<-->')\n",
    "            if ttt =='':\n",
    "                ttt = keys\n",
    "            elif ttt == keys:\n",
    "                pass\n",
    "            else:\n",
    "                ttt = keys\n",
    "                xx = {}\n",
    "            xx[value] = v\n",
    "            result_dict[keys] = xx\n",
    "            \n",
    "        \n",
    "        elif result == 'first b':\n",
    "            \n",
    "            keys,num,value = k.split('[]',2)\n",
    "\n",
    "            if key_var =='':\n",
    "                key_var = keys\n",
    "                xx = {}\n",
    "                result_dict[keys] = [xx]\n",
    "            elif key_var == keys:\n",
    "                xx[value] = v\n",
    "                if ppp =='':\n",
    "                    ppp = num\n",
    "                elif ppp == num:\n",
    "                    pass\n",
    "                else:\n",
    "                    # print(1)\n",
    "                    ppp = num\n",
    "                    xx = {}\n",
    "                    result_dict[keys].append(xx)\n",
    "\n",
    "            else:\n",
    "                key_var = keys\n",
    "                xx = {}\n",
    "                result_dict[keys] = [xx]\n",
    " \n",
    "    for k,v in result_dict.items():\n",
    "        # print(k,'k')\n",
    "        if isinstance(v,int) or isinstance(v,str) or v is None or isinstance(v,float) or v ==[]:\n",
    "            pass\n",
    "        elif isinstance(v,list) and len(v)>=1:\n",
    "            if isinstance(v[0],str) or isinstance(v[0],int) or v[0] is None or isinstance(v[0],float) or isinstance(v[0],list):\n",
    "                pass\n",
    "            else:\n",
    "                # pass\n",
    "                pppp = []\n",
    "                for i in range(len(result_dict[k])):\n",
    "                    # print(i,'xvv\\n')\n",
    "                    # print(k)\n",
    "                    # result_dict[k][i]\n",
    "\n",
    "                    # print(k,'kkkk')\n",
    "                    # print(i)\n",
    "                    # print(len(result_dict[k]),'xxxx')\n",
    "                    pppp.append(fold_dict(result_dict[k][i]))\n",
    "                    # if i == 0:\n",
    "                    #     result_dict[k] = [fold_dict(result_dict[k][i])]\n",
    "                    # else:\n",
    "                    #     result_dict[k].append(fold_dict(result_dict[k][i]))\n",
    "                result_dict[k] = pppp\n",
    "        else:\n",
    "            # print(v)\n",
    "            result_dict[k] = fold_dict(v)\n",
    "\n",
    "    \n",
    "    return result_dict\n"
   ]
  }
 ],
 "metadata": {
  "kernelspec": {
   "display_name": "Python 3 (ipykernel)",
   "language": "python",
   "name": "python3"
  },
  "language_info": {
   "codemirror_mode": {
    "name": "ipython",
    "version": 3
   },
   "file_extension": ".py",
   "mimetype": "text/x-python",
   "name": "python",
   "nbconvert_exporter": "python",
   "pygments_lexer": "ipython3",
   "version": "3.10.14"
  }
 },
 "nbformat": 4,
 "nbformat_minor": 5
}
