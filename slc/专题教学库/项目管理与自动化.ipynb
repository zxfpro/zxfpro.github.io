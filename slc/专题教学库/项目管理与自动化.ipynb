{
 "cells": [
  {
   "cell_type": "markdown",
   "id": "4776a313-a713-40cb-b0e9-17627566fff0",
   "metadata": {},
   "source": [
    "# 项目管理与自动化"
   ]
  },
  {
   "cell_type": "markdown",
   "id": "c7049d64-7c98-41b6-9434-de4919a93248",
   "metadata": {
    "jp-MarkdownHeadingCollapsed": true,
    "tags": []
   },
   "source": [
    "## 初始化一个项目"
   ]
  },
  {
   "cell_type": "code",
   "execution_count": 1,
   "id": "06a1e174-5c20-4e4f-9d7c-647ee11e4bbe",
   "metadata": {},
   "outputs": [],
   "source": [
    "from Jarvis_dev.projects import start_project,delete_project"
   ]
  },
  {
   "cell_type": "code",
   "execution_count": 4,
   "id": "2b94b76b-9381-4041-9f7e-d2131d540dc4",
   "metadata": {
    "collapsed": true,
    "jupyter": {
     "outputs_hidden": true
    },
    "tags": []
   },
   "outputs": [
    {
     "name": "stdout",
     "output_type": "stream",
     "text": [
      "Repository created successfully!\n",
      "Repository URL: https://gitee.com/zhaoxuefeng199508/open_voice.git\n"
     ]
    },
    {
     "name": "stderr",
     "output_type": "stream",
     "text": [
      "Cloning into '/Users/zhaoxuefeng/GitHub/open_voice'...\n"
     ]
    },
    {
     "name": "stdout",
     "output_type": "stream",
     "text": [
      "create_repo success\n"
     ]
    },
    {
     "name": "stderr",
     "output_type": "stream",
     "text": [
      "Cloning into '/Users/zhaoxuefeng/GitHub/open_voice/open_voice/OpenVoice'...\n"
     ]
    },
    {
     "name": "stdout",
     "output_type": "stream",
     "text": [
      "infuse_code success\n",
      "Collecting package metadata (current_repodata.json): ...working... done\n",
      "Solving environment: ...working... done\n",
      "\n",
      "## Package Plan ##\n",
      "\n",
      "  environment location: /Users/zhaoxuefeng/opt/miniconda3/envs/open_voice\n",
      "\n",
      "  added / updated specs:\n",
      "    - python=3.10\n",
      "\n",
      "\n",
      "The following NEW packages will be INSTALLED:\n",
      "\n",
      "  bzip2              pkgs/main/osx-64::bzip2-1.0.8-h6c40b1e_6\n",
      "  ca-certificates    pkgs/main/osx-64::ca-certificates-2024.3.11-hecd8cb5_0\n",
      "  libffi             pkgs/main/osx-64::libffi-3.4.4-hecd8cb5_1\n",
      "  ncurses            pkgs/main/osx-64::ncurses-6.4-hcec6c5f_0\n",
      "  openssl            pkgs/main/osx-64::openssl-3.0.14-h46256e1_0\n",
      "  pip                pkgs/main/osx-64::pip-24.0-py310hecd8cb5_0\n",
      "  python             pkgs/main/osx-64::python-3.10.14-h5ee71fb_1\n",
      "  readline           pkgs/main/osx-64::readline-8.2-hca72f7f_0\n",
      "  setuptools         pkgs/main/osx-64::setuptools-69.5.1-py310hecd8cb5_0\n",
      "  sqlite             pkgs/main/osx-64::sqlite-3.45.3-h6c40b1e_0\n",
      "  tk                 pkgs/main/osx-64::tk-8.6.14-h4d00af3_0\n",
      "  tzdata             pkgs/main/noarch::tzdata-2024a-h04d1e81_0\n",
      "  wheel              pkgs/main/osx-64::wheel-0.43.0-py310hecd8cb5_0\n",
      "  xz                 pkgs/main/osx-64::xz-5.4.6-h6c40b1e_1\n",
      "  zlib               pkgs/main/osx-64::zlib-1.2.13-h4b97444_1\n",
      "\n",
      "\n",
      "Preparing transaction: ...working... done\n",
      "Verifying transaction: ...working... done\n",
      "Executing transaction: ...working... done\n",
      "#\n",
      "# To activate this environment, use\n",
      "#\n",
      "#     $ conda activate open_voice\n",
      "#\n",
      "# To deactivate an active environment, use\n",
      "#\n",
      "#     $ conda deactivate\n",
      "\n"
     ]
    },
    {
     "name": "stderr",
     "output_type": "stream",
     "text": [
      "\n",
      "\n",
      "==> WARNING: A newer version of conda exists. <==\n",
      "  current version: 4.11.0\n",
      "  latest version: 24.5.0\n",
      "\n",
      "Please update conda by running\n",
      "\n",
      "    $ conda update -n base -c defaults conda\n",
      "\n",
      "\n"
     ]
    },
    {
     "name": "stdout",
     "output_type": "stream",
     "text": [
      "Directory /Users/zhaoxuefeng/GitHub/open_voice/open_voice already exists.\n",
      "config_env success\n"
     ]
    },
    {
     "name": "stderr",
     "output_type": "stream",
     "text": [
      " Network open_voice_default  Creating\n",
      " Network open_voice_default  Created\n",
      " Container open_voice_aibox  Creating\n",
      " Container open_voice_aibox  Created\n",
      " Container open_voice_aibox  Starting\n",
      " Container open_voice_aibox  Started\n"
     ]
    }
   ],
   "source": [
    "start_project('open_voice','https://github.com/myshell-ai/OpenVoice.git')"
   ]
  },
  {
   "cell_type": "markdown",
   "id": "97a366aa-bfe7-4fc5-904b-1142c8638f70",
   "metadata": {},
   "source": [
    "创建完毕直接登录 8610 进行编辑"
   ]
  },
  {
   "cell_type": "markdown",
   "id": "4ef68b8b-5f11-4d5b-a000-29e43e3cbade",
   "metadata": {},
   "source": [
    "### 人工参与(可选)"
   ]
  },
  {
   "cell_type": "markdown",
   "id": "58f517d3-bd5f-488e-a3d3-096d8640565f",
   "metadata": {},
   "source": [
    "在GitHub Desktop 中 Add 该项目"
   ]
  },
  {
   "cell_type": "markdown",
   "id": "124b62bf-24fa-42f2-b7bc-174755984bd2",
   "metadata": {},
   "source": [
    "![截屏2024-06-24 09.56.05.png](imgs/add_repo.png)"
   ]
  },
  {
   "cell_type": "markdown",
   "id": "6750390a-e762-431e-ae11-84a0c4d272d1",
   "metadata": {},
   "source": [
    "## 打开编辑器"
   ]
  },
  {
   "cell_type": "code",
   "execution_count": null,
   "id": "cc2a2936-f8e7-4463-adaa-41c055b1ba0b",
   "metadata": {},
   "outputs": [],
   "source": [
    "编辑,配置相关参数和内容"
   ]
  },
  {
   "cell_type": "code",
   "execution_count": 4,
   "id": "94628669-1bf7-4f2e-8b1d-363492733809",
   "metadata": {
    "tags": []
   },
   "outputs": [],
   "source": [
    "## TODO 自动化配置环境 编写代码\n",
    "\n",
    "#或者人工配置,编写代码"
   ]
  },
  {
   "cell_type": "markdown",
   "id": "0a2e8156-33e9-41af-88c2-f1b9214cd12d",
   "metadata": {},
   "source": [
    "## 环境导出"
   ]
  },
  {
   "cell_type": "markdown",
   "id": "50838478-8f72-40a6-a62f-0e8b726a0e4f",
   "metadata": {},
   "source": [
    "\n",
    "```\n",
    "导出到指定位置\n",
    "/home/zxf/miniconda3/bin/pip-chill > requirements.txt\n",
    "```"
   ]
  },
  {
   "cell_type": "markdown",
   "id": "1d3d382a-2f65-47b8-b26f-a23cee7f6898",
   "metadata": {},
   "source": [
    "## 上测试/生产环境"
   ]
  },
  {
   "cell_type": "markdown",
   "id": "9fd09fe3-5ca1-4181-b35d-eebf1774073c",
   "metadata": {},
   "source": [
    "1 前提是需要requirements.txt 导出   \n",
    "2 安装code    \n",
    "3 必须在.server中以fire 编写启动命令"
   ]
  },
  {
   "cell_type": "markdown",
   "id": "3e365081-e020-4295-b40e-be925ae9f87d",
   "metadata": {},
   "source": [
    "## docker 打包并保证分发正常 \n",
    "TODO 参数配置"
   ]
  },
  {
   "cell_type": "code",
   "execution_count": null,
   "id": "db6f2e4f-a801-486c-8271-e9ccd8b0966f",
   "metadata": {},
   "outputs": [],
   "source": []
  },
  {
   "cell_type": "markdown",
   "id": "f9ebbfad-243a-44a6-9116-e15b21c777be",
   "metadata": {
    "tags": []
   },
   "source": [
    "## 删除项目"
   ]
  },
  {
   "cell_type": "code",
   "execution_count": 3,
   "id": "0e3ceb40-84ff-40f0-a4ef-7bb2bc237572",
   "metadata": {
    "tags": []
   },
   "outputs": [
    {
     "name": "stdin",
     "output_type": "stream",
     "text": [
      "please input the delete project name:open_voice open_voice\n"
     ]
    },
    {
     "name": "stdout",
     "output_type": "stream",
     "text": [
      "Successfully deleted the repository zhaoxuefeng199508/open_voice\n",
      "\n",
      "## Package Plan ##\n",
      "\n",
      "  environment location: /Users/zhaoxuefeng/opt/miniconda3/envs/open_voice\n",
      "\n",
      "\n",
      "The following packages will be REMOVED:\n",
      "\n",
      "  bzip2-1.0.8-h6c40b1e_6\n",
      "  ca-certificates-2024.3.11-hecd8cb5_0\n",
      "  libffi-3.4.4-hecd8cb5_1\n",
      "  ncurses-6.4-hcec6c5f_0\n",
      "  openssl-3.0.14-h46256e1_0\n",
      "  pip-24.0-py310hecd8cb5_0\n",
      "  python-3.10.14-h5ee71fb_1\n",
      "  readline-8.2-hca72f7f_0\n",
      "  setuptools-69.5.1-py310hecd8cb5_0\n",
      "  sqlite-3.45.3-h6c40b1e_0\n",
      "  tk-8.6.14-h4d00af3_0\n",
      "  tzdata-2024a-h04d1e81_0\n",
      "  wheel-0.43.0-py310hecd8cb5_0\n",
      "  xz-5.4.6-h6c40b1e_1\n",
      "  zlib-1.2.13-h4b97444_1\n",
      "\n",
      "\n",
      "Preparing transaction: ...working... done\n",
      "Verifying transaction: ...working... done\n",
      "Executing transaction: ...working... done\n"
     ]
    },
    {
     "name": "stderr",
     "output_type": "stream",
     "text": [
      "\n",
      "Remove all packages in environment /Users/zhaoxuefeng/opt/miniconda3/envs/open_voice:\n",
      "\n",
      " Container open_voice_aibox  Stopping\n",
      " Container open_voice_aibox  Stopped\n",
      " Container open_voice_aibox  Removing\n",
      " Container open_voice_aibox  Removed\n",
      " Network open_voice_default  Removing\n",
      " Network open_voice_default  Removed\n"
     ]
    }
   ],
   "source": [
    "delete_project('open_voice')"
   ]
  },
  {
   "cell_type": "code",
   "execution_count": null,
   "id": "7d4cee84-3066-4ee1-9293-441396b58b0c",
   "metadata": {},
   "outputs": [],
   "source": []
  },
  {
   "cell_type": "markdown",
   "id": "4c24d0c5-22f6-4221-9c0b-c420aba2585f",
   "metadata": {},
   "source": [
    "### question"
   ]
  },
  {
   "cell_type": "code",
   "execution_count": null,
   "id": "0ae3bb56-89dd-4f9d-ae8f-13ec2d84f621",
   "metadata": {},
   "outputs": [],
   "source": [
    "# 细节 1 版本更新\n",
    "# 细节 2 如何快速迭代\n",
    "# 细节 3 历史版本管理问题\n",
    "# 细节 4 测试版本和生产版本的存续替换问题\n",
    "# 细节 5 代码编写 环境的回滚和维护问题\n"
   ]
  },
  {
   "cell_type": "code",
   "execution_count": null,
   "id": "46fcb33d-0cd1-457c-89a1-d5a53261845c",
   "metadata": {},
   "outputs": [],
   "source": []
  },
  {
   "cell_type": "code",
   "execution_count": null,
   "id": "9f8647ad-d7b6-41f9-8cb8-4f1f715b5837",
   "metadata": {},
   "outputs": [],
   "source": []
  },
  {
   "cell_type": "code",
   "execution_count": null,
   "id": "02aed926-f800-4a35-aac8-4f9cdd24855a",
   "metadata": {},
   "outputs": [],
   "source": []
  },
  {
   "cell_type": "markdown",
   "id": "dea6bb54-ff72-47b1-8f7f-4a80d1fdd757",
   "metadata": {},
   "source": [
    "# 如何制作一个包"
   ]
  },
  {
   "cell_type": "markdown",
   "id": "bbf7cbff-62e6-41c4-bb96-d28702d6fca2",
   "metadata": {},
   "source": [
    "## 打包"
   ]
  },
  {
   "cell_type": "markdown",
   "id": "2241b371-48e6-4051-a327-cffd41ead966",
   "metadata": {},
   "source": [
    "pip install build twine   \n",
    "python setup.py sdist bdist_wheel   "
   ]
  },
  {
   "cell_type": "markdown",
   "id": "f26df41f-86a8-4180-a24b-445260eae1db",
   "metadata": {},
   "source": [
    "twine upload --repository testpypi dist/*# 测试平台   \n",
    "twine upload dist/*   "
   ]
  },
  {
   "cell_type": "markdown",
   "id": "9e5d03d8-e673-4f61-b38f-d31f445db3a1",
   "metadata": {
    "jp-MarkdownHeadingCollapsed": true,
    "tags": []
   },
   "source": [
    "from Cython.Build import cythonize   \n",
    "python setup__.py build_ext --inplace  #编译Cython   "
   ]
  },
  {
   "cell_type": "markdown",
   "id": "7c733471-d44c-4f25-abdb-db9b6eefcfad",
   "metadata": {
    "tags": []
   },
   "source": [
    "## 生成分发包"
   ]
  },
  {
   "cell_type": "code",
   "execution_count": null,
   "id": "76812800-03b2-4e30-ac04-e6cc1f689994",
   "metadata": {},
   "outputs": [],
   "source": [
    "python setup.py sdist bdist_wheel\n",
    "cp dist/dataserver-0.0.1-py3-none-any.whl /Users/zhaoxuefeng/Documents/DataCentre/pypi\n",
    "dir2pi /Users/zhaoxuefeng/Documents/DataCentre/pypi\n",
    "pip2pi  /Users/zhaoxuefeng/Documents/DataCentre/pypi pandas\n"
   ]
  },
  {
   "cell_type": "code",
   "execution_count": null,
   "id": "db19ae72-6a10-4189-8fdd-101e3d1a6e9c",
   "metadata": {},
   "outputs": [],
   "source": []
  },
  {
   "cell_type": "markdown",
   "id": "c8348f37-748f-4c83-a040-039c0ee1fd82",
   "metadata": {},
   "source": [
    "在 `setup.py` 中指定依赖包的版本时，可以使用几种不同的格式来表达依赖关系的灵活性。这些格式不是完全“约等于”，但它们提供了一种方式来指定可以接受的版本范围。以下是一些常见的版本指定方法：\n",
    "\n",
    "1. **精确版本**：\n",
    "   指定必须精确匹配的版本号。\n",
    "\n",
    "   ```python\n",
    "   install_requires=['package==1.0.4'],\n",
    "   ```\n",
    "\n",
    "2. **大于等于某个版本**：\n",
    "   指定版本必须大于或等于给定的版本。\n",
    "\n",
    "   ```python\n",
    "   install_requires=['package>=1.0.4'],\n",
    "   ```\n",
    "\n",
    "3. **小于某个版本**：\n",
    "   指定版本必须小于给定的版本。\n",
    "\n",
    "   ```python\n",
    "   install_requires=['package<1.0.4'],\n",
    "   ```\n",
    "\n",
    "4. **范围指定**：\n",
    "   指定版本必须在这个范围内。\n",
    "\n",
    "   ```python\n",
    "   install_requires=['package>=1.0.4, <1.1.0'],\n",
    "   ```\n",
    "\n",
    "5. **兼容版本**：\n",
    "   指定版本必须与给定的主要版本兼容。\n",
    "\n",
    "   ```python\n",
    "   install_requires=['package~=1.0.4'],\n",
    "   ```\n",
    "\n",
    "   这里 `~=` 表示安装的版本应该向后兼容，通常是相同的主版本号和次版本号，但允许修复错误的补丁版本。\n",
    "\n",
    "6. **排除特定版本**：\n",
    "   指定一个版本范围，但排除特定的版本。\n",
    "\n",
    "   ```python\n",
    "   install_requires=['package!=1.0.4'],\n",
    "   ```\n",
    "\n",
    "7. **公差版本**：\n",
    "   指定版本必须在给定版本的基础上加上或减去一个公差。\n",
    "\n",
    "   ```python\n",
    "   install_requires=['package^1.0.4'],\n",
    "   ```\n",
    "\n",
    "   这里 `^=` 表示版本应该兼容主要版本，但可以是更高的次要版本或补丁版本，通常用于语义化版本控制。\n",
    "\n",
    "8. **版本排除范围**：\n",
    "   指定一个版本范围，但排除两端的特定版本。\n",
    "\n",
    "   ```python\n",
    "   install_requires=['package>=1.0.4, !=1.0.5, !=1.0.6, <2.0.0'],\n",
    "   ```\n",
    "\n",
    "这些版本指定方法允许你在打包时灵活地定义依赖项的版本要求。使用这些方法，你可以确保你的包安装时能够满足不同情况下的依赖关系，同时避免版本冲突。\n",
    "\n",
    "请注意，版本指定符的具体含义可能会根据使用的包管理工具（如pip）的版本和解析策略有所不同。因此，建议查阅相关工具的文档以了解具体的行为。"
   ]
  },
  {
   "cell_type": "code",
   "execution_count": null,
   "id": "7d414c59-c7f3-4542-bcb1-acd66757b347",
   "metadata": {},
   "outputs": [],
   "source": []
  }
 ],
 "metadata": {
  "kernelspec": {
   "display_name": "Python 3 (ipykernel)",
   "language": "python",
   "name": "python3"
  },
  "language_info": {
   "codemirror_mode": {
    "name": "ipython",
    "version": 3
   },
   "file_extension": ".py",
   "mimetype": "text/x-python",
   "name": "python",
   "nbconvert_exporter": "python",
   "pygments_lexer": "ipython3",
   "version": "3.10.14"
  }
 },
 "nbformat": 4,
 "nbformat_minor": 5
}
