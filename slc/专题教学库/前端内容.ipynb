{
 "cells": [
  {
   "cell_type": "markdown",
   "id": "32766042-54dd-4891-b834-55237cbfa27f",
   "metadata": {},
   "source": [
    "# 前端内容"
   ]
  },
  {
   "cell_type": "markdown",
   "id": "cf08bf5d-5f13-4c96-a85d-b511be528746",
   "metadata": {},
   "source": [
    "# streamlit"
   ]
  },
  {
   "cell_type": "markdown",
   "id": "4e4228e7-6828-4d4c-8585-8105047812f6",
   "metadata": {},
   "source": [
    "https://docs.streamlit.io"
   ]
  },
  {
   "cell_type": "code",
   "execution_count": null,
   "id": "ba2b92a4-11b1-4d13-8513-70914b78e7ae",
   "metadata": {},
   "outputs": [],
   "source": [
    "import streamlit as st"
   ]
  },
  {
   "cell_type": "markdown",
   "id": "9d6a6178-9d8f-440d-bee2-9c09d5480c0f",
   "metadata": {},
   "source": [
    "## 文字"
   ]
  },
  {
   "cell_type": "code",
   "execution_count": null,
   "id": "2967280b-731c-47fb-bc32-c2e3addb49f5",
   "metadata": {},
   "outputs": [],
   "source": [
    "st.header(\"创建测试项目\")"
   ]
  },
  {
   "cell_type": "code",
   "execution_count": null,
   "id": "49a58ba5-bc75-4476-8543-d85fe3a25fa9",
   "metadata": {},
   "outputs": [],
   "source": [
    "st.subheader(\"脚本列表\")"
   ]
  },
  {
   "cell_type": "code",
   "execution_count": null,
   "id": "6ccff32c-a742-4e53-aad4-2db646519fc5",
   "metadata": {},
   "outputs": [],
   "source": [
    "st.write('测试规范:')"
   ]
  },
  {
   "cell_type": "code",
   "execution_count": null,
   "id": "036b39c4-e715-4b72-816b-e9fcc3c67745",
   "metadata": {},
   "outputs": [],
   "source": [
    "st.markdown()"
   ]
  },
  {
   "cell_type": "code",
   "execution_count": null,
   "id": "ea0b1e1b-19f3-4367-8105-8ab10f7333f7",
   "metadata": {},
   "outputs": [],
   "source": [
    "markdown_css = \"\"\"\n",
    "<style>\n",
    ".markdown-text-container {\n",
    "    background-color: black;\n",
    "    color: white;\n",
    "    padding: 1em;\n",
    "    border-radius: 5px;\n",
    "}\n",
    "</style>\n",
    "\"\"\"\n",
    "st.markdown(markdown_css, unsafe_allow_html=True)\n",
    "\n",
    "markdown_content = \"\"\"\n",
    "<div class=\"markdown-text-container\">\n",
    "text\n",
    "</div>\n",
    "\"\"\"\n",
    "st.markdown(markdown_content, unsafe_allow_html=True)"
   ]
  },
  {
   "cell_type": "markdown",
   "id": "7ee7a066-a193-4ec3-a0ce-0e4995f35a3f",
   "metadata": {},
   "source": [
    "## 输入"
   ]
  },
  {
   "cell_type": "code",
   "execution_count": null,
   "id": "523221df-618e-41a5-a2d3-5dba1cb0c2fb",
   "metadata": {},
   "outputs": [],
   "source": [
    "title = st.text_input(\"测试编号\", \"1\") # 标题 , 默认值"
   ]
  },
  {
   "cell_type": "code",
   "execution_count": null,
   "id": "1d34b9fb-41e9-40e9-a1e5-1b22f71b7bbf",
   "metadata": {},
   "outputs": [],
   "source": [
    "title1 = st.text_area(\"项目具体描述\", \"USI\",height=400) # 标题 , 默认值"
   ]
  },
  {
   "cell_type": "code",
   "execution_count": null,
   "id": "74adcbfb-b9db-49cd-b039-4e1d709ba7ee",
   "metadata": {},
   "outputs": [],
   "source": []
  },
  {
   "cell_type": "markdown",
   "id": "27aff38d-63fd-4002-b202-1108633a4e31",
   "metadata": {},
   "source": [
    "## 按钮"
   ]
  },
  {
   "cell_type": "code",
   "execution_count": null,
   "id": "827a1a25-be0b-482d-bcb1-d661928a7446",
   "metadata": {},
   "outputs": [],
   "source": [
    "st.link_button('确认创建',url='/rule',type='primary')"
   ]
  },
  {
   "cell_type": "code",
   "execution_count": null,
   "id": "3116f6c9-7630-42c0-9500-6778da849660",
   "metadata": {},
   "outputs": [],
   "source": []
  },
  {
   "cell_type": "markdown",
   "id": "fa841d16-f77c-41f3-9812-8acb09bb5314",
   "metadata": {},
   "source": [
    "## 进度"
   ]
  },
  {
   "cell_type": "code",
   "execution_count": null,
   "id": "cd6eeb64-b3af-4711-856c-bc06a96c38c4",
   "metadata": {},
   "outputs": [],
   "source": [
    "with st.status(\"生成测试规范...\", expanded=True) as status:\n",
    "    st.write(\"识别...\")\n",
    "    time.sleep(0.1)\n",
    "    st.write(\"生成...\")\n",
    "    time.sleep(1)\n",
    "    st.write(\"反思优化...\")\n",
    "    status.update(\n",
    "        label=\"生成测试规范完成!\", state=\"complete\", expanded=False\n",
    "    )\n",
    "    "
   ]
  },
  {
   "cell_type": "code",
   "execution_count": null,
   "id": "6f214694-4f7f-4ce5-9d23-42094ad17ef4",
   "metadata": {},
   "outputs": [],
   "source": [
    "word = st.empty()\n",
    "#文字占位符\n",
    "bar=st.progress(0)\n",
    "# 进度条 \n",
    "for i in range(100):\n",
    "    word.text('生成测试脚本进度:'+str(i+1))\n",
    "    if i < 10:\n",
    "        bar.progress(i+1)\n",
    "        time.sleep(0.1)"
   ]
  },
  {
   "cell_type": "code",
   "execution_count": null,
   "id": "e20835f4-5aa9-4e0c-9b21-d04d78b137c9",
   "metadata": {},
   "outputs": [],
   "source": []
  },
  {
   "cell_type": "markdown",
   "id": "99ade158-45f1-4f33-b4d4-17a97b5e866f",
   "metadata": {},
   "source": [
    "## 数据"
   ]
  },
  {
   "cell_type": "code",
   "execution_count": null,
   "id": "e826ecc7-649e-49f2-bcdc-69eac18b89ca",
   "metadata": {},
   "outputs": [],
   "source": [
    "st.data_editor()"
   ]
  },
  {
   "cell_type": "code",
   "execution_count": null,
   "id": "d2f51dbd-1753-461d-a867-92a6d6fae8f2",
   "metadata": {},
   "outputs": [],
   "source": []
  },
  {
   "cell_type": "markdown",
   "id": "8479597c-d60d-4392-adf9-94830c944e24",
   "metadata": {},
   "source": [
    "## 结构"
   ]
  },
  {
   "cell_type": "code",
   "execution_count": null,
   "id": "7f254626-d004-454c-9764-5ec9a9f7bca3",
   "metadata": {},
   "outputs": [],
   "source": [
    "fake2\n",
    "----app.py\n",
    "----pages\n",
    "--------create.py\n",
    "--------detail.py\n",
    "--------progress1.py\n",
    "--------progress2.py\n",
    "--------rule.py\n",
    "--------script.py\n"
   ]
  },
  {
   "cell_type": "code",
   "execution_count": null,
   "id": "6da3e653-61ec-4513-a6e6-b8d46e258781",
   "metadata": {},
   "outputs": [],
   "source": [
    "%%writefile app.py\n",
    "import streamlit as st\n",
    "rule = st.Page(\"pages/rule.py\", title=\"规范及脚本生成\", icon=\":material/dashboard:\")\n",
    "script = st.Page(\"pages/script.py\", title=\"脚本管理\", icon=\":material/dashboard:\")\n",
    "create = st.Page(\"pages/create.py\", title=\"创建测试项目\", icon=\":material/dashboard:\")\n",
    "detail = st.Page(\"pages/detail.py\", title=\" \", icon=\"\")\n",
    "subdetail = st.Page(\"pages/subdetail.py\", title=\" \", icon=\"\")\n",
    "progress1 = st.Page(\"pages/progress1.py\", title=\" \", icon=\"\")\n",
    "progress2 = st.Page(\"pages/progress2.py\", title=\" \", icon=\"\")\n",
    "\n",
    "\n",
    "\n",
    "pg = st.navigation(\n",
    "    {\n",
    "        \"超级SIM测试脚本自动生成系统\": [create,rule,script,detail,subdetail,progress1,progress2]\n",
    "    }\n",
    ")\n",
    "\n",
    "pg.run()"
   ]
  },
  {
   "cell_type": "code",
   "execution_count": null,
   "id": "781eddd9-55f6-45b6-b74d-43638975930d",
   "metadata": {},
   "outputs": [],
   "source": []
  },
  {
   "cell_type": "code",
   "execution_count": null,
   "id": "5c61935d-4464-4fbc-8894-d8f5f73deeaf",
   "metadata": {},
   "outputs": [],
   "source": []
  },
  {
   "cell_type": "markdown",
   "id": "36e086ca-d791-4f1f-b9b3-70745639fb17",
   "metadata": {},
   "source": [
    "# Gradio 使用"
   ]
  },
  {
   "cell_type": "markdown",
   "id": "dc8af883-9631-4843-9837-9f27c5bbefee",
   "metadata": {
    "tags": []
   },
   "source": [
    "页面设计"
   ]
  },
  {
   "cell_type": "code",
   "execution_count": null,
   "id": "c57a1c26-f6a3-4dca-a95f-ef2431eb99fa",
   "metadata": {},
   "outputs": [],
   "source": [
    "import gradio as gr\n",
    "import os\n",
    "class Sizer(object):\n",
    "    @staticmethod\n",
    "    def page0(title='上传数据集',file_label='添加文件',UploadDataButton_label='上传数据'):\n",
    "        with gr.Row():\n",
    "            with gr.Column():\n",
    "                gr.Markdown(f'# {title}')\n",
    "                Files = gr.File(label=file_label,\n",
    "                                       file_count=\"multiple\",\n",
    "                                       show_label=False,\n",
    "                                       )\n",
    "                with gr.Row():\n",
    "                    UploadDataButton = gr.Button(UploadDataButton_label)\n",
    "                    UploadCompleteButton = gr.Button(\"\")\n",
    "            UploadDataWindow = gr.DataFrame(height=400, interactive=False, headers=['文件名'])\n",
    "            return UploadCompleteButton,UploadDataButton, Files, UploadDataWindow\n"
   ]
  },
  {
   "cell_type": "markdown",
   "id": "f06e8567-a26c-4549-acec-300ab31db923",
   "metadata": {},
   "source": [
    "这里解决的是页面点击对应的页面变换\n",
    "同时将逻辑的接口引出"
   ]
  },
  {
   "cell_type": "code",
   "execution_count": null,
   "id": "a2be3766-5388-4def-9954-0d396dad7205",
   "metadata": {},
   "outputs": [],
   "source": [
    "from .layout import Pages\n",
    "import gradio as gr\n",
    "class PagesFlow(object):\n",
    "    @classmethod\n",
    "    def updatedata(cls):\n",
    "        dicts = {\n",
    "             'page0': gr.update(visible=False),\n",
    "             'page1': gr.update(visible=True),\n",
    "             'page2': gr.update(visible=False),\n",
    "         }\n",
    "        return list(dicts.values())\n",
    "    @classmethod\n",
    "    def toclassification(cls):\n",
    "        dicts = {\n",
    "             'page0': gr.update(visible=False),\n",
    "             'page1': gr.update(visible=False),\n",
    "             'page2': gr.update(visible=True),\n",
    "         }\n",
    "        return list(dicts.values())\n",
    "    @classmethod\n",
    "    def run(cls):\n",
    "        view0 = gr.Column(visible=True)\n",
    "        with view0:\n",
    "            Control0 = Pages.page0()\n",
    "            UploadDataButton = Control0[0]\n",
    "        view1 = gr.Column(visible=False)\n",
    "        with view1:\n",
    "            Control1 = Pages.page1()\n",
    "            ToSortingButton = Control1[0]\n",
    "\n",
    "        view2 = gr.Column(visible=False)\n",
    "        with view2:\n",
    "            Control2 = Pages.page2()\n",
    "        UploadDataButton.click(cls.updatedata,inputs = [],outputs=[view0, view1, view2])\n",
    "        ToSortingButton.click(cls.toclassification,inputs = [],outputs=[view0, view1, view2])\n",
    "\n",
    "        return *Control0,*Control1,*Control2"
   ]
  },
  {
   "cell_type": "markdown",
   "id": "41c22ba3-d2bc-42bc-8feb-22f868017a31",
   "metadata": {},
   "source": [
    " 解决逻辑问题 相当于对外的接口"
   ]
  },
  {
   "cell_type": "code",
   "execution_count": null,
   "id": "595d0095-c16e-4a0e-9626-ebc50266e802",
   "metadata": {},
   "outputs": [],
   "source": [
    "import pandas as pd\n",
    "import gradio as gr\n",
    "from electricity.function import train\n",
    "\n",
    "class Logic(object):\n",
    "    def __init__(self,**kwargs):\n",
    "        self.function_kwargs = kwargs\n",
    "        \n",
    "    def run(UploadDataButton, Files,\n",
    "              ToSortingButton, OriginDataWindow,NumberBox,\n",
    "              DownloadFile, ResultText, ResultWindow,es_db_searcher=None):\n",
    "        def update_(folder_files):\n",
    "            if folder_files is None:\n",
    "                return gr.update(value=None)\n",
    "            file_path = folder_files[0].name\n",
    "            df = pd.read_csv(file_path)\n",
    "            return gr.update(value=df),gr.update(value=f\"数据总条数: {df.shape[0]}\")\n",
    "\n",
    "        UploadDataButton.click(update_, [Files], [OriginDataWindow,NumberBox])\n",
    "\n",
    "        def sort(df):\n",
    "            result = train(df,es_db_searcher=es_db_searcher)\n",
    "            result.to_csv('./output.csv', index=None)\n",
    "            from collections import Counter\n",
    "            right = Counter(list(result['训练集里最相似样本及对应分类']))['已检出']\n",
    "            all_ = result.shape[0]\n",
    "\n",
    "            result_text = f\"总数量 {all_} 检出率 {right / all_:.2%} 检出条数 {right} 待确认条数 {all_ - right}\"\n",
    "            return gr.update(value=result), gr.update(value=result_text), gr.update(value='./output.csv')\n",
    "\n",
    "        ToSortingButton.click(sort, [OriginDataWindow], [ResultWindow, ResultText, DownloadFile])\n"
   ]
  },
  {
   "cell_type": "markdown",
   "id": "57c60d58-393a-40c6-888c-60ac7506185b",
   "metadata": {},
   "source": [
    "启动"
   ]
  },
  {
   "cell_type": "code",
   "execution_count": null,
   "id": "83aedbb6-5642-4844-a126-12fc67a0389a",
   "metadata": {},
   "outputs": [],
   "source": [
    "with gr.Blocks() as demo:\n",
    "    Logic(es_db_searcher=es_db_searcher).run(*PagesFlow.run())\n",
    "demo.launch(server_name=server_name, **kwargs)\n"
   ]
  },
  {
   "cell_type": "markdown",
   "id": "91852654-a23f-4c70-b73b-02791b96be83",
   "metadata": {},
   "source": [
    "平时接口可以使用假函数填充 来测试前端\n",
    "工作时 将测试完整的函数代码输入到对应位置 \n",
    "这样监控对应函数即可"
   ]
  },
  {
   "cell_type": "code",
   "execution_count": null,
   "id": "5010460b-af7c-41ae-8d90-66fcd2466f80",
   "metadata": {},
   "outputs": [],
   "source": []
  },
  {
   "cell_type": "code",
   "execution_count": null,
   "id": "fe571b3f-9ab9-408e-9351-e032f5811dda",
   "metadata": {},
   "outputs": [],
   "source": [
    "import gradio as gr\n",
    "import functools\n",
    "\n",
    "class Web():\n",
    "    \"\"\"\n",
    "    这里表现类的功能,以及类的方法\n",
    "    .launch()\n",
    "    .chat_If()\n",
    "    \"\"\"\n",
    "    @staticmethod\n",
    "    def launch(**gradio_kwargs):\n",
    "        \"\"\"\n",
    "        这是一个装饰器\n",
    "\n",
    "        for example:\n",
    "            @launch()\n",
    "            def lch():\n",
    "                gr.Button()\n",
    "\n",
    "\n",
    "        def my_function(x,progress=gr.Progress()):\n",
    "            progress(0,desc='start')\n",
    "            time.sleep(1)\n",
    "            for i in progress.tqdm(range(100)):\n",
    "                time.sleep(0.1)\n",
    "            return x\n",
    "        \"\"\"\n",
    "        def pack(func):\n",
    "            @functools.wraps(func)\n",
    "            def wrapper(*args, **kwargs):\n",
    "                with gr.Blocks() as demo:\n",
    "                    result = func(*args, **kwargs)\n",
    "                    demo.launch(**gradio_kwargs)\n",
    "                return result\n",
    "            return wrapper\n",
    "        return pack\n",
    "\n",
    "\n",
    "\n",
    "def interface(name='use'):\n",
    "    \"\"\"\n",
    "    快速生成 聊天页面\n",
    "    params name : 标签页\n",
    "\n",
    "    for example:\n",
    "        @interface('标签页')\n",
    "        def chat(input):\n",
    "            return 'output'\n",
    "    \"\"\"\n",
    "    def pack(func):\n",
    "        @functools.wraps(func)\n",
    "        def wrapper(*args, **kwargs):\n",
    "            with gr.Tab(name):\n",
    "                gr.Interface(func, inputs='text', outputs='text')\n",
    "        return wrapper\n",
    "    return pack\n"
   ]
  }
 ],
 "metadata": {
  "kernelspec": {
   "display_name": "Python 3 (ipykernel)",
   "language": "python",
   "name": "python3"
  },
  "language_info": {
   "codemirror_mode": {
    "name": "ipython",
    "version": 3
   },
   "file_extension": ".py",
   "mimetype": "text/x-python",
   "name": "python",
   "nbconvert_exporter": "python",
   "pygments_lexer": "ipython3",
   "version": "3.10.14"
  }
 },
 "nbformat": 4,
 "nbformat_minor": 5
}
