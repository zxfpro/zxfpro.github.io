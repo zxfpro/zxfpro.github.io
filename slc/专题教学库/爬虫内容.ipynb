{
 "cells": [
  {
   "cell_type": "markdown",
   "id": "f0e998e0-97aa-4ab4-a9c4-0ab4c3b6dd4b",
   "metadata": {},
   "source": [
    "# 爬虫内容"
   ]
  },
  {
   "cell_type": "markdown",
   "id": "370ca537-312a-4418-8c22-23d5862dcc3e",
   "metadata": {
    "tags": []
   },
   "source": [
    "## puppeteer "
   ]
  },
  {
   "cell_type": "markdown",
   "id": "7018f2c4-c900-4d8c-9d43-dcc0aa07278b",
   "metadata": {},
   "source": [
    "### 环境安装 略"
   ]
  },
  {
   "cell_type": "code",
   "execution_count": null,
   "id": "e18727eb-8cb9-4c0c-a216-c326dd06ce5e",
   "metadata": {},
   "outputs": [],
   "source": [
    "npm install puppeteer@21.11.0"
   ]
  },
  {
   "cell_type": "code",
   "execution_count": null,
   "id": "a4987c8a-790e-4e33-8b14-7afe01fd33c2",
   "metadata": {},
   "outputs": [],
   "source": [
    "npm install puppeteer-extra puppeteer-extra-plugin-stealth\n"
   ]
  },
  {
   "cell_type": "markdown",
   "id": "1b8cf453-e3e4-4ed4-9420-edb6450db838",
   "metadata": {
    "tags": []
   },
   "source": [
    "1 docker 不能成功执行\n",
    "\n",
    "https://pptr.dev/guides/page-interactions\n",
    "\n",
    "使用的时候,直接复制运行包过去"
   ]
  },
  {
   "cell_type": "markdown",
   "id": "46cc7425-65fe-469f-8906-b14decf98c34",
   "metadata": {},
   "source": [
    "## 框架(模板)"
   ]
  },
  {
   "cell_type": "code",
   "execution_count": null,
   "id": "d8d33e39-5742-44ef-b04e-7f18cbad6bba",
   "metadata": {},
   "outputs": [],
   "source": [
    "%%writefile test1.js\n",
    "const puppeteer = require('puppeteer-extra');\n",
    "const StealthPlugin = require('puppeteer-extra-plugin-stealth');\n",
    "const path = require('path');\n",
    "const fs = require('fs');\n",
    "\n",
    "puppeteer.use(StealthPlugin());\n",
    "\n",
    "function sleep(ms) {\n",
    "  return new Promise(resolve => setTimeout(resolve, ms));\n",
    "}\n",
    "\n",
    "// 从命令行参数中获取参数\n",
    "const industryText = process.argv[2];\n",
    "const companyName = process.argv[3];\n",
    "const slogan = process.argv[4];\n",
    "\n",
    "(async () => {\n",
    "    const browser = await puppeteer.launch({\n",
    "        headless: false, // 非无头模式\n",
    "        executablePath: '/Users/zhaoxuefeng/.cache/puppeteer/chrome/mac_arm-121.0.6167.85/chrome-mac-arm64/Google Chrome for Testing.app/Contents/MacOS/Google Chrome for Testing',\n",
    "    });\n",
    "    \n",
    "    \n",
    "    const page = await browser.newPage();\n",
    "\n",
    "    await page.setViewport({\n",
    "        width: 1200,\n",
    "        height: 1200,\n",
    "        deviceScaleFactor: 1,\n",
    "    });\n",
    "\n",
    "    \n",
    "    await page.goto('https://looka.com/explore', {\n",
    "        waitUntil: \"domcontentloaded\",\n",
    "        timeout: 40000,\n",
    "    });\n",
    "    // 运行动作\n",
    "    \n",
    "    // 动作结束\n",
    "    \n",
    "    await browser.close();\n",
    "})();\n"
   ]
  },
  {
   "cell_type": "code",
   "execution_count": null,
   "id": "e87fb7bb-e8ad-44b2-aec6-98ae02562b92",
   "metadata": {},
   "outputs": [],
   "source": [
    "!node test1.js \"industryText\" \"companyName\" \"slogan\""
   ]
  },
  {
   "cell_type": "markdown",
   "id": "98d0efd1-1f97-444b-85d8-6a010c6feda4",
   "metadata": {},
   "source": [
    "## 加载浏览器"
   ]
  },
  {
   "cell_type": "code",
   "execution_count": null,
   "id": "723ad228-7037-4100-8ac4-bb118beab793",
   "metadata": {},
   "outputs": [],
   "source": [
    "// Launch the browser and open a new blank page\n",
    "const browser = await puppeteer.launch({\n",
    "    headless: false, // 非无头模式\n",
    "    executablePath: '/Users/zhaoxuefeng/.cache/puppeteer/chrome/mac_arm-121.0.6167.85/chrome-mac-arm64/Google Chrome for Testing.app/Contents/MacOS/Google Chrome for Testing',\n",
    "    userDataDir: './xxxxx',\n",
    "    timeout: 60000, // 超时时间增加到60秒\n",
    "    });\n",
    "    const page = await browser.newPage();"
   ]
  },
  {
   "cell_type": "markdown",
   "id": "222565fc-3c0a-4e9d-9922-65b0d639d8c8",
   "metadata": {},
   "source": [
    "## 设置浏览器大小"
   ]
  },
  {
   "cell_type": "code",
   "execution_count": null,
   "id": "15d970d0-89d1-4f22-a255-c0684b5956b1",
   "metadata": {},
   "outputs": [],
   "source": [
    "await page.setViewport({\n",
    "    width: 1200,\n",
    "    height: 1200,\n",
    "    deviceScaleFactor: 1,\n",
    "});\n"
   ]
  },
  {
   "cell_type": "markdown",
   "id": "8fa91ccc-d621-4e99-90ed-44fd3174d90b",
   "metadata": {},
   "source": [
    "## 跳转网页"
   ]
  },
  {
   "cell_type": "code",
   "execution_count": null,
   "id": "78923bc2-474c-4c77-94d1-6dda4d99269f",
   "metadata": {},
   "outputs": [],
   "source": [
    "// Navigate the page to a URL\n",
    "await page.goto('https://kimi.moonshot.cn/');"
   ]
  },
  {
   "cell_type": "markdown",
   "id": "7e3620a8-4ebc-4f85-9b7b-6ba2f9cd0b93",
   "metadata": {},
   "source": [
    "## 睡眠等待"
   ]
  },
  {
   "cell_type": "code",
   "execution_count": null,
   "id": "162b20e1-43d0-4c13-827d-b98127ff6624",
   "metadata": {},
   "outputs": [],
   "source": [
    "await page.waitForTimeout(1000); // 等待页面加载完成"
   ]
  },
  {
   "cell_type": "code",
   "execution_count": null,
   "id": "cdee3246-ff12-4ad4-a968-3ea233018a3a",
   "metadata": {},
   "outputs": [],
   "source": [
    "await page.goto('http://www.baidu.com', {\n",
    "    waitUntil: \"domcontentloaded\",\n",
    "    timeout: timeout,\n",
    "});"
   ]
  },
  {
   "cell_type": "markdown",
   "id": "9aa71967-b149-4856-8729-256dc40330e7",
   "metadata": {},
   "source": [
    "## 设置用户代理?"
   ]
  },
  {
   "cell_type": "code",
   "execution_count": null,
   "id": "c542702b-f2b7-4279-aca3-ae354752a13b",
   "metadata": {},
   "outputs": [],
   "source": [
    "await page.setUserAgent('Mozilla/5.0 (Windows NT 10.0; Win64; x64) AppleWebKit/537.36 (KHTML, like Gecko) Chrome/91.0.4472.124 Safari/537.36');\n"
   ]
  },
  {
   "cell_type": "markdown",
   "id": "7df2bad2-4afa-49a7-a0a6-57a092280432",
   "metadata": {},
   "source": [
    "## 监听网络请求"
   ]
  },
  {
   "cell_type": "code",
   "execution_count": null,
   "id": "a7ffd38e-f1bd-49d9-8783-eb0ac03f8c19",
   "metadata": {},
   "outputs": [],
   "source": [
    "const authHeaders = new Set();\n",
    "\n",
    "// 监听所有请求\n",
    "page.on('request', request => {\n",
    "const headers = request.headers();\n",
    "if (headers.authorization) {\n",
    "  console.log(`Authorization found: ${headers.authorization}`);\n",
    "  authHeaders.add(headers.authorization); // 使用 Set 自动去重\n",
    "}\n",
    "});\n",
    "fs.writeFileSync('authorization_headers.txt', authHeaders.join('\\n'));"
   ]
  },
  {
   "cell_type": "code",
   "execution_count": null,
   "id": "840a83c0-abbf-49c6-88d1-51ee99d96e25",
   "metadata": {},
   "outputs": [],
   "source": [
    "const authHeaders = [];\n",
    "\n",
    "page.on('request', request => {\n",
    "const headers = request.headers();\n",
    "if (headers.authorization) {\n",
    "  console.log(`Authorization found: ${headers.authorization}`);\n",
    "  authHeaders.push(headers.authorization);\n",
    "}\n",
    "});\n",
    "fs.writeFileSync('authorization_headers.txt', Array.from(authHeaders).join('\\n'));\n"
   ]
  },
  {
   "cell_type": "code",
   "execution_count": null,
   "id": "80878de1-90bc-45cf-bab6-159107d91403",
   "metadata": {},
   "outputs": [],
   "source": []
  },
  {
   "cell_type": "code",
   "execution_count": null,
   "id": "10460912-50d7-4d29-a934-56a0049fa450",
   "metadata": {},
   "outputs": [],
   "source": []
  },
  {
   "cell_type": "markdown",
   "id": "d93f607c-3ae3-4d3d-886d-eaceac2083b7",
   "metadata": {},
   "source": [
    "## 定位"
   ]
  },
  {
   "cell_type": "code",
   "execution_count": null,
   "id": "1a92220f-c374-48ec-b2a7-d4db0b6c3544",
   "metadata": {},
   "outputs": [],
   "source": [
    "// 方法1 xpath\n",
    "await page.locator('xpath///*[@id=\"root\"]/div[2]/div/div[2]/div[1]/div/div/div/div[3]/div[1]/div/div/div[2]/div[2]/label');"
   ]
  },
  {
   "cell_type": "code",
   "execution_count": null,
   "id": "b491798d-40a0-44e0-bf09-cad353437618",
   "metadata": {},
   "outputs": [],
   "source": [
    "// 多元素定位\n",
    "const tabs = await page.$x(tabSelector);-> [CdpElementHandle]"
   ]
  },
  {
   "cell_type": "code",
   "execution_count": null,
   "id": "667880c6-4207-4e82-ab4e-bc5df83539cb",
   "metadata": {},
   "outputs": [],
   "source": [
    "# 两者是平替方法\n",
    "const pp2 = await page.$x(\"/html/body/div[1]/div[1]/div\") // 有括号\n",
    "const pp = await page.$$(\"xpath//html/body/div[1]/div[1]/div\") // 无括号\n",
    "    "
   ]
  },
  {
   "cell_type": "markdown",
   "id": "62f47a6e-85d2-4368-b2dd-54f49e8ba49b",
   "metadata": {
    "tags": []
   },
   "source": [
    "## 点击"
   ]
  },
  {
   "cell_type": "code",
   "execution_count": null,
   "id": "80395205-1117-4301-8db7-fef5f0ddcda1",
   "metadata": {},
   "outputs": [],
   "source": [
    "// 方法2\n",
    "const element = await page.waitForSelector('::-p-xpath(//*[@id=\"root\"]/div[2]/div/div[2]/div[1]/div/div/div/div[3]/div[1]/div/div/div[2]/div[2]/label)');\n",
    "await element.click();"
   ]
  },
  {
   "cell_type": "markdown",
   "id": "f3f6edc5-2d7a-4e87-8d00-dc9220b6fb7d",
   "metadata": {},
   "source": [
    "## 获取html content"
   ]
  },
  {
   "cell_type": "code",
   "execution_count": null,
   "id": "6245456b-ddc6-41b7-be52-83f745b08064",
   "metadata": {},
   "outputs": [],
   "source": [
    "const htmlContent = await page.content();"
   ]
  },
  {
   "cell_type": "code",
   "execution_count": null,
   "id": "a1eaeb5f-5918-419c-8a30-54d1b96f9d47",
   "metadata": {},
   "outputs": [],
   "source": [
    "// 特定内容\n",
    "const htmlContent = await page.$eval('xpath//html/body/main/div[1]/div[3]/div[2]', element => element.innerHTML);"
   ]
  },
  {
   "cell_type": "code",
   "execution_count": null,
   "id": "d734b23f-5739-49ab-9132-7ba217efd7b1",
   "metadata": {},
   "outputs": [],
   "source": [
    "const tab1HTML = await page.evaluate(element => element.outerHTML, tabs[1]);\n",
    "console.log(tab1HTML); // 输出 tabs[1] 的 HTML 内容"
   ]
  },
  {
   "cell_type": "markdown",
   "id": "f3b32e51-71b8-4ad4-9d0b-db417a8361fc",
   "metadata": {},
   "source": [
    "## 获取html 属性值"
   ]
  },
  {
   "cell_type": "code",
   "execution_count": null,
   "id": "fb2bc2d4-180c-4703-998d-f056f25ab061",
   "metadata": {},
   "outputs": [],
   "source": [
    "const [element] = await page.$x('//*[@id=\"main-frame\"]/div[1]/div/div/div[2]/div/div/div/div/div[2]/div[2]/div[1]/div/button[2]');\n",
    "const isDisabled = await page.evaluate(el => el.hasAttribute('disabled'), element);\n",
    "if (!isDisabled) {"
   ]
  },
  {
   "cell_type": "markdown",
   "id": "c4cf5408-d0e4-45ce-a90d-d153d279efa5",
   "metadata": {},
   "source": [
    "## 局部截图"
   ]
  },
  {
   "cell_type": "code",
   "execution_count": null,
   "id": "80bba51d-2e6a-45af-88c1-974d621b8b16",
   "metadata": {},
   "outputs": [],
   "source": [
    "const [element] = await page.$x('//*[@id=\"lg\"]');"
   ]
  },
  {
   "cell_type": "code",
   "execution_count": null,
   "id": "1e74afbe-e0c0-4c72-82ba-1eadb483b40a",
   "metadata": {},
   "outputs": [],
   "source": []
  },
  {
   "cell_type": "code",
   "execution_count": null,
   "id": "4a949322-5cfe-437c-bcbd-2755b4fa7770",
   "metadata": {},
   "outputs": [],
   "source": []
  },
  {
   "cell_type": "code",
   "execution_count": null,
   "id": "710c4229-41b1-4956-8def-777f216dbd6a",
   "metadata": {},
   "outputs": [],
   "source": []
  },
  {
   "cell_type": "code",
   "execution_count": null,
   "id": "b63678af-5a44-43c8-83be-d3419274fc9e",
   "metadata": {},
   "outputs": [],
   "source": [
    "#标红 + 截图\n",
    "if (element) {\n",
    "    // 截图元素\n",
    "    await page.evaluate(el => el.style.border = '2px solid red', element);\n",
    "    await element.screenshot({ path: 'element_screenshot.png' });\n",
    "    console.log('Screenshot saved as element_screenshot.png');\n",
    "  } else {\n",
    "    console.log('No element found for the given XPath.');\n",
    "  }"
   ]
  },
  {
   "cell_type": "code",
   "execution_count": null,
   "id": "64ab46ba-1cbc-4fa3-a531-9343e88c2211",
   "metadata": {},
   "outputs": [],
   "source": [
    "for (let i = 1; i <= 9; i++) {\n",
    "  console.log(i);\n",
    "  let eles = `//*[@id=\"logojoy-root\"]/div[2]/div[1]/div[2]/div[2]/div/div/div[${i}]`;\n",
    "  const [element] = await page.$x(eles);\n",
    "\n",
    "  if (element) {\n",
    "    // 截图元素\n",
    "    // await page.evaluate(el => el.style.border = '4px solid red', element);\n",
    "    await element.screenshot({ path: `element_screenshot_${i}.png` });\n",
    "    console.log('Screenshot saved as element_screenshot_i.png');\n",
    "  } else {\n",
    "    console.log('No element found for the given XPath.');\n",
    "  }\n",
    "\n",
    "}"
   ]
  },
  {
   "cell_type": "markdown",
   "id": "e97aa2dc-3cee-4691-96ff-3951b6538366",
   "metadata": {},
   "source": [
    "## 剪切板"
   ]
  },
  {
   "cell_type": "code",
   "execution_count": null,
   "id": "a0b9331d-9fcb-41a3-b969-9e7e45b7ef7b",
   "metadata": {},
   "outputs": [],
   "source": [
    "const clipboardData = await page.evaluate(() => {\n",
    "    return navigator.clipboard.readText();\n",
    "});\n",
    "\n",
    "console.log('剪切板内容:', clipboardData);"
   ]
  },
  {
   "cell_type": "code",
   "execution_count": null,
   "id": "43c334cc-4d21-4e0d-8544-f329034c9d8b",
   "metadata": {},
   "outputs": [],
   "source": [
    "const puppeteer = require('puppeteer');\n",
    "\n",
    "async function getClipboardData() {\n",
    "    const browser = await puppeteer.launch();\n",
    "    const page = await browser.newPage();\n",
    "\n",
    "    // 打开一个包含复制内容的页面示例\n",
    "    await page.goto('https://example.com');\n",
    "\n",
    "    // 在页面中执行 JavaScript 读取剪切板内容\n",
    "    const clipboardData = await page.evaluate(() => {\n",
    "        return navigator.clipboard.readText();\n",
    "    });\n",
    "\n",
    "    console.log('剪切板内容:', clipboardData);\n",
    "\n",
    "    await browser.close();\n",
    "}\n",
    "\n",
    "getClipboardData();"
   ]
  },
  {
   "cell_type": "markdown",
   "id": "61a89b7e-dbdd-4f31-aacb-8b3047ae3dac",
   "metadata": {},
   "source": [
    "## 文件上传"
   ]
  },
  {
   "cell_type": "code",
   "execution_count": null,
   "id": "5baf6dc6-4281-4361-a414-38518f1edc8d",
   "metadata": {},
   "outputs": [],
   "source": [
    "await page.goto(\"https://www.baidu.com\");\n",
    "const soutuBtn = await page.waitForSelector('span.soutu-btn');\n",
    "//点击上传图片按钮\n",
    "await soutuBtn.click();\n",
    "//uploadFile上传图片\n",
    "const uploadPic = await page.waitForSelector('input.upload-pic');\n",
    "//上传图片目录自定义\n",
    "await uploadPic.uploadFile('./aa.png');"
   ]
  },
  {
   "cell_type": "markdown",
   "id": "237fc15b-325a-474b-8fb0-60a79196aed3",
   "metadata": {},
   "source": [
    "窗口弹出式文件上传"
   ]
  },
  {
   "cell_type": "code",
   "execution_count": null,
   "id": "62dbb222-4163-4738-a206-d0af77c51369",
   "metadata": {},
   "outputs": [],
   "source": [
    "const fileInput = await page.locator('xpath///*[@id=\"upload_dnd_area\"]/div[2]/button');\n",
    "// fileInput.click();\n",
    "\n",
    "const [fileChooser] = await Promise.all([\n",
    "page.waitForFileChooser(), // 等待文件选择框弹出\n",
    "page.click('xpath///*[@id=\"upload_dnd_area\"]/div[2]/button'),\n",
    "\n",
    "]);\n",
    "console.log('1234')\n",
    "const filePath = path.relative(process.cwd(), './video.mp4');\n",
    "await fileChooser.accept([filePath]);"
   ]
  },
  {
   "cell_type": "code",
   "execution_count": null,
   "id": "4608b7e0-35ad-494c-a632-abaa8a995704",
   "metadata": {},
   "outputs": [],
   "source": []
  },
  {
   "cell_type": "code",
   "execution_count": null,
   "id": "0183d196-1f45-4c55-9a82-d965f2cbc023",
   "metadata": {},
   "outputs": [],
   "source": []
  },
  {
   "cell_type": "markdown",
   "id": "c626e555-aa05-404c-b175-6436557ed039",
   "metadata": {
    "jp-MarkdownHeadingCollapsed": true,
    "tags": []
   },
   "source": [
    "## JavaScript 语法"
   ]
  },
  {
   "cell_type": "markdown",
   "id": "d390d1b6-3f01-4047-9ef8-7a3dc673745f",
   "metadata": {},
   "source": [
    "### if\n",
    "\n",
    "if (a) {} else {}\n",
    "\n",
    "### 取反\n",
    "\n",
    "!isDisabledtab\n",
    "\n",
    "### sleep函数\n",
    "\n",
    "function sleep(ms) {\n",
    "  return new Promise(resolve => setTimeout(resolve, ms));\n",
    "}\n",
    "\n",
    "await sleep(2000); // 等待2秒\n",
    "\n",
    "### 箭头函数\n",
    "\n",
    "region => {...} // 这个是箭头函数 入参是region\n",
    "\n",
    "### 打日志\n",
    "\n",
    "console.log('check')\n",
    "\n",
    "console.log(`success ${api_home}`);\n",
    "\n",
    "console.log(typeof true);"
   ]
  },
  {
   "cell_type": "markdown",
   "id": "11e5de54-0c03-43f8-818a-e9cc7dd04f72",
   "metadata": {},
   "source": [
    "### 定义变量\n",
    "\n",
    "const url = process.argv[2];\n",
    "const timeout = 5000;\n",
    "\n",
    "const 常量定义\n",
    "\n",
    "var 变量定义"
   ]
  },
  {
   "cell_type": "markdown",
   "id": "fc1e9aba-1437-40e5-bdaf-443875b50b5a",
   "metadata": {},
   "source": [
    "### 参数传递"
   ]
  },
  {
   "cell_type": "code",
   "execution_count": null,
   "id": "f7079cbf-f44a-4edc-b102-67056454b4e4",
   "metadata": {},
   "outputs": [],
   "source": [
    "// 获取命令行参数\n",
    "const args = process.argv.slice(2);\n",
    "let api_home, url, headless, userdir, executablePath;\n",
    "\n",
    "\n",
    "args.forEach(arg => {\n",
    "    const [key, value] = arg.split('=');\n",
    "    if (key && value) {\n",
    "        switch (key) {\n",
    "            case '--api-home':\n",
    "                api_home = value;\n",
    "                break;\n",
    "            case '--url':\n",
    "                url = value;\n",
    "                break;\n",
    "            case '--headless':\n",
    "                headless = value === 'true';\n",
    "                break;\n",
    "            case '--userdir':\n",
    "                userdir = value;\n",
    "                break;\n",
    "            case '--executablePath':\n",
    "                executablePath = value;\n",
    "                break;\n",
    "            default:\n",
    "                console.log(`Unknown parameter: ${key}`);\n",
    "        }\n",
    "    } else {\n",
    "        console.log(`Invalid parameter format: ${arg}`);\n",
    "    }\n",
    "});\n",
    "\n",
    "// 检查参数是否已传递\n",
    "if (!api_home || !url || !userdir || !executablePath || headless === undefined) {\n",
    "    console.error('Missing required parameters. Usage: node workflows.js --api-home=<api-home> --url=<url> --headless=<true|false> --userdir=<userdir> --executablePath=<executablePath>');\n",
    "    process.exit(1);\n",
    "}\n",
    "\n",
    "// 打印参数\n",
    "console.log(`API Home: ${api_home}`);\n",
    "console.log(`URL: ${url}`);\n",
    "console.log(`Headless: ${headless}`);\n",
    "console.log(`User Directory: ${userdir}`);\n",
    "console.log(`Executable Path: ${executablePath}`);\n"
   ]
  },
  {
   "cell_type": "code",
   "execution_count": null,
   "id": "6299bdff-409d-4aa7-934c-dcbf68f79f6a",
   "metadata": {},
   "outputs": [],
   "source": []
  },
  {
   "cell_type": "markdown",
   "id": "ac986c47-8bb9-49fa-9473-9242fd393f9f",
   "metadata": {},
   "source": [
    "### 函数编写"
   ]
  },
  {
   "cell_type": "code",
   "execution_count": null,
   "id": "fbb1799e-4aa8-4c9b-a414-d0b16c19451c",
   "metadata": {},
   "outputs": [],
   "source": [
    "async function example() {\n",
    "  console.log('Start');\n",
    "  await sleep(2000); // 等待2秒\n",
    "  console.log('2 seconds later');\n",
    "\n",
    "  const cookies = await page.cookies();\n",
    "  const fs = require('fs');\n",
    "  fs.writeFileSync('cookies.json', JSON.stringify(cookies, null, 2));\n",
    "\n",
    "  console.log('cookie over')\n",
    "}"
   ]
  },
  {
   "cell_type": "code",
   "execution_count": null,
   "id": "2c08ab32-5d65-4ae8-8ca1-93539d5bcc1e",
   "metadata": {},
   "outputs": [],
   "source": [
    "function sleep(ms) {\n",
    "  return new Promise(resolve => setTimeout(resolve, ms));\n",
    "}"
   ]
  },
  {
   "cell_type": "code",
   "execution_count": null,
   "id": "f2a5f3fe-94c2-4bb7-9eea-cc6c7aa121dd",
   "metadata": {},
   "outputs": [],
   "source": []
  },
  {
   "cell_type": "markdown",
   "id": "12f39a82-ea5f-451b-a774-07d43d46c98f",
   "metadata": {},
   "source": [
    "### 保存文件"
   ]
  },
  {
   "cell_type": "code",
   "execution_count": null,
   "id": "0f032b62-e155-464f-bd13-15f286851ca6",
   "metadata": {},
   "outputs": [],
   "source": [
    "const path = require('path');"
   ]
  },
  {
   "cell_type": "code",
   "execution_count": null,
   "id": "2243a4d8-d3c1-46b3-a2a1-4196edffee1e",
   "metadata": {},
   "outputs": [],
   "source": [
    "const filePath = path.join(__dirname, 'aa.html');"
   ]
  },
  {
   "cell_type": "code",
   "execution_count": null,
   "id": "f1fd8833-c187-45bf-bfbe-c699658be3c6",
   "metadata": {},
   "outputs": [],
   "source": [
    "const fs = require('fs');"
   ]
  },
  {
   "cell_type": "code",
   "execution_count": null,
   "id": "c12129df-f9c3-4a37-8f15-b218edabef7d",
   "metadata": {},
   "outputs": [],
   "source": [
    "fs.writeFileSync(filePath, htmlContent, 'utf8');"
   ]
  },
  {
   "cell_type": "code",
   "execution_count": null,
   "id": "aa9e4d56-1d9d-4b86-9d43-c4c9190f29bb",
   "metadata": {},
   "outputs": [],
   "source": []
  },
  {
   "cell_type": "markdown",
   "id": "62bbcef7-0e62-4638-899e-d95c7630fd0e",
   "metadata": {},
   "source": [
    "### 读取文件"
   ]
  },
  {
   "cell_type": "code",
   "execution_count": null,
   "id": "94dc954d-5a0b-4eaa-9339-6cdfe96de0ae",
   "metadata": {},
   "outputs": [],
   "source": [
    "const tasksFile = process.argv[2];\n",
    "if (!tasksFile) {\n",
    "    console.error('No tasks file provided');\n",
    "    process.exit(1);\n",
    "}\n",
    "\n",
    "let tasks;\n",
    "try {\n",
    "    const data = fs.readFileSync(tasksFile, 'utf8');\n",
    "    tasks = JSON.parse(data);\n",
    "} catch (error) {\n",
    "    console.error('Error reading or parsing tasks file:', error);\n",
    "    process.exit(1);\n",
    "}\n"
   ]
  },
  {
   "cell_type": "markdown",
   "id": "4b0b908b-fca0-470b-a829-5d8629a6c097",
   "metadata": {},
   "source": [
    "### 异常抛出"
   ]
  },
  {
   "cell_type": "code",
   "execution_count": null,
   "id": "b2854942-d119-4700-a547-b2899d8c074e",
   "metadata": {},
   "outputs": [],
   "source": [
    "// 遍历前5个选项卡并点击\n",
    "for (let i = 0; i < tabs.length && i < 5; i++) {\n",
    "    console.log(i, nameDict[i]);\n",
    "    try {\n",
    "        await tabs[i].click();\n",
    "        await page.waitForTimeout(1000); // 等待页面加载完成\n",
    "\n",
    "\n",
    "        const content = await page.content();\n",
    "        fs.writeFileSync(path.join(api_home, nameDict[i]), content);\n",
    "    } catch (e) {\n",
    "        console.error(`Failed to click tab ${i}:`, e);\n",
    "        fs.writeFileSync(path.join(api_home, nameDict[i]), '');\n",
    "    }\n",
    "}"
   ]
  },
  {
   "cell_type": "code",
   "execution_count": null,
   "id": "a707ead5-f4ed-442d-a4ef-386da111eace",
   "metadata": {},
   "outputs": [],
   "source": []
  },
  {
   "cell_type": "code",
   "execution_count": null,
   "id": "c2a1542d-9d9b-42d1-9fb1-ac2e8f1a65ca",
   "metadata": {},
   "outputs": [],
   "source": []
  },
  {
   "cell_type": "code",
   "execution_count": null,
   "id": "8094d21b-0e8b-4d93-9091-39d636c51ed0",
   "metadata": {},
   "outputs": [],
   "source": []
  },
  {
   "cell_type": "code",
   "execution_count": null,
   "id": "454679b4-f5d8-48f9-a196-d515cdfcfeb3",
   "metadata": {},
   "outputs": [],
   "source": []
  },
  {
   "cell_type": "code",
   "execution_count": null,
   "id": "7b65c29d-b1bb-4841-89fa-469d8aee6f34",
   "metadata": {},
   "outputs": [],
   "source": []
  },
  {
   "cell_type": "code",
   "execution_count": null,
   "id": "02f1cca0-c96c-4df6-8d2b-c5d788402bfc",
   "metadata": {},
   "outputs": [],
   "source": []
  },
  {
   "cell_type": "code",
   "execution_count": null,
   "id": "125d19ce-a9f3-43d6-a21f-f70e666d64b7",
   "metadata": {},
   "outputs": [],
   "source": []
  },
  {
   "cell_type": "code",
   "execution_count": null,
   "id": "593bcd56-4fc3-49b4-b937-3c3ee7af779c",
   "metadata": {},
   "outputs": [],
   "source": []
  },
  {
   "cell_type": "code",
   "execution_count": null,
   "id": "80abc611-2b53-4d2d-9965-0430ee82fcb7",
   "metadata": {},
   "outputs": [],
   "source": []
  },
  {
   "cell_type": "code",
   "execution_count": null,
   "id": "976133ea-915b-4474-b41a-ed3825e61f9c",
   "metadata": {},
   "outputs": [],
   "source": []
  },
  {
   "cell_type": "markdown",
   "id": "84626abc-945f-4a68-b887-f63c072866ce",
   "metadata": {},
   "source": [
    "## 多线程 "
   ]
  },
  {
   "cell_type": "code",
   "execution_count": null,
   "id": "7578ba1b-13c6-4ea3-affd-f2e480b65088",
   "metadata": {},
   "outputs": [],
   "source": [
    "%%writefile workflow3.js\n",
    "const puppeteer = require('puppeteer-extra');\n",
    "const StealthPlugin = require('puppeteer-extra-plugin-stealth');\n",
    "const path = require('path');\n",
    "const fs = require('fs');\n",
    "const { workerData, parentPort } = require('worker_threads');\n",
    "puppeteer.use(StealthPlugin());\n",
    "\n",
    "// const url = 'https://rapidapi.com/Glavier/api/ahrefs1/playground/apiendpoint_b535d225-dfd9-4b62-b1fb-d72e7368aaaf';\n",
    "// const api_home = 'aaaa';\n",
    "const headless = false;\n",
    "// const userdir = './xxxxx';\n",
    "const executablePath = '/Users/zhaoxuefeng/.cache/puppeteer/chrome/mac_arm-121.0.6167.85/chrome-mac-arm64/Google Chrome for Testing.app/Contents/MacOS/Google Chrome for Testing';\n",
    "\n",
    "(async () => {\n",
    "    const { api_home, url,userdir} = workerData;\n",
    "    // 启动浏览器\n",
    "    const browser = await puppeteer.launch({\n",
    "      headless: headless, // 非无头模式\n",
    "    executablePath: executablePath,\n",
    "    userDataDir: userdir,\n",
    "    });\n",
    "\n",
    "    \n",
    "    \n",
    "    const page = await browser.newPage();\n",
    "    await page.setViewport({\n",
    "        width: 1200,\n",
    "        height: 1200,\n",
    "        deviceScaleFactor: 1,\n",
    "    });\n",
    "    \n",
    "    // 导航到目标页面\n",
    "    await page.goto(url);\n",
    "\n",
    "    // 定义选项卡选择器和文件名字典\n",
    "    const tabSelector = '//*[@id=\"main-frame\"]/div[1]/div/div/div[2]/div/div/div/div/div[1]/div/div/button';\n",
    "    const nameDict = {\n",
    "        0: \"app.html\",\n",
    "        1: \"params.html\",\n",
    "        2: \"headers.html\",\n",
    "        3: \"body.html\",\n",
    "        4: \"authorizations.html\"\n",
    "    };\n",
    "\n",
    "    // 查找所有选项卡\n",
    "    const tabs = await page.$x(tabSelector);\n",
    "    console.log(tabs)\n",
    "    \n",
    "    // 遍历前5个选项卡并点击\n",
    "    for (let i = 0; i < tabs.length && i < 5; i++) {\n",
    "        console.log(i, nameDict[i]);\n",
    "        \n",
    "        await tabs[i].click();\n",
    "        await page.waitForTimeout(100); // 等待页面加载完成\n",
    "\n",
    "        const content = await page.content();\n",
    "        fs.writeFileSync(path.join(api_home, nameDict[i]), content);\n",
    "    }\n",
    "    \n",
    "    // spider_Code Snippets python\n",
    "    console.log('Snippets python');\n",
    "    await page.locator('xpath///*[@id=\"main-frame\"]/div[1]/div/div/div[2]/div/div/div/div/div[2]/div[2]/div[1]/div/button[1]').click();\n",
    "    await page.locator('xpath///*[@id=\"main-frame\"]/div[1]/div/div/div[2]/div/div/div/div/div[2]/div[2]/div[2]/div[1]/div/div/div[1]/div/div').click();\n",
    "    await page.locator('xpath///*[@id=\"portal-root\"]/div/div/button[14]').click();\n",
    "    await page.locator('xpath///*[@id=\"main-frame\"]/div[1]/div/div/div[2]/div/div/div/div/div[2]/div[2]/div[2]/div[1]/div/div/div[2]/div/div').click();\n",
    "    await page.locator('xpath///*[@id=\"portal-root\"]/div/div/button[2]').click();\n",
    "    \n",
    "    var content = await page.content();\n",
    "    fs.writeFileSync(path.join(api_home,'code_snippets_python.html'), content);\n",
    "    \n",
    "    // spider_Code Snippets shell\n",
    "    console.log('Snippets shell');\n",
    "    await page.locator('xpath///*[@id=\"main-frame\"]/div[1]/div/div/div[2]/div/div/div/div/div[2]/div[2]/div[2]/div[1]/div/div/div[1]/div/div').click();\n",
    "    await page.locator('xpath///*[@id=\"portal-root\"]/div/div/button[17]').click();\n",
    "    await page.locator('xpath///*[@id=\"main-frame\"]/div[1]/div/div/div[2]/div/div/div/div/div[2]/div[2]/div[2]/div[1]/div/div/div[2]/div/div').click();\n",
    "    await page.locator('xpath///*[@id=\"portal-root\"]/div/div/button[1]').click();\n",
    "    \n",
    "    var content = await page.content();\n",
    "    fs.writeFileSync(path.join(api_home,'code_snippets_shell.html'), content);\n",
    "    \n",
    "    \n",
    "    // spider_Example_Response\n",
    "    console.log('Example_Response');\n",
    "    await page.locator('xpath///*[@id=\"main-frame\"]/div[1]/div/div/div[2]/div/div/div/div/div[2]/div[2]/div[1]/div/button[2]').click();\n",
    "    var content = await page.content();\n",
    "    fs.writeFileSync(path.join(api_home,'Example_Response.html'), content);\n",
    "    \n",
    "    \n",
    "\n",
    "    // 关闭浏览器\n",
    "    console.log('close');\n",
    "    await browser.close();\n",
    "    console.log(`success ${api_home}`);\n",
    "\n",
    "})();"
   ]
  },
  {
   "cell_type": "code",
   "execution_count": null,
   "id": "c7f3f4f5-327c-4c93-9af1-74fe66194bc1",
   "metadata": {},
   "outputs": [],
   "source": [
    "%%writefile main.js\n",
    "const { Worker } = require('worker_threads');\n",
    "const path = require('path');\n",
    "const fs = require('fs');\n",
    "\n",
    "\n",
    "\n",
    "\n",
    "const tasks = [\n",
    "    {\n",
    "        api_home: 'output1',\n",
    "        url: 'https://rapidapi.com/VanitySoft/api/boundaries-io-1/playground/apiendpoint_9fefa91b-1881-43d2-b884-6174f55c0fe9',\n",
    "        userdir: 'xxxxx',\n",
    "    },\n",
    "    {\n",
    "        api_home: 'output2',\n",
    "        url: 'https://rapidapi.com/Glavier/api/ahrefs1/playground/apiendpoint_b535d225-dfd9-4b62-b1fb-d72e7368aaaf',\n",
    "        userdir: 'xxxxx2',\n",
    "    },\n",
    "    \n",
    "    {\n",
    "        api_home: 'output3',\n",
    "        url: 'https://rapidapi.com/VanitySoft/api/boundaries-io-1/playground/apiendpoint_9fefa91b-1881-43d2-b884-6174f55c0fe9',\n",
    "        userdir: 'xxxxx3',\n",
    "    },\n",
    "    \n",
    "    {\n",
    "        api_home: 'output4',\n",
    "        url: 'https://rapidapi.com/Glavier/api/ahrefs1/playground/apiendpoint_b535d225-dfd9-4b62-b1fb-d72e7368aaaf',\n",
    "        userdir: 'xxxxx4',\n",
    "    },\n",
    "    \n",
    "        {\n",
    "        api_home: 'output5',\n",
    "        url: 'https://rapidapi.com/Glavier/api/ahrefs1/playground/apiendpoint_b535d225-dfd9-4b62-b1fb-d72e7368aaaf',\n",
    "        userdir: 'xxxxx5',\n",
    "    },\n",
    "    // 可以添加更多任务\n",
    "];\n",
    "\n",
    "\n",
    "// 函数用于创建和启动 Worker\n",
    "function runWorker(task) {\n",
    "    return new Promise((resolve, reject) => {\n",
    "        const worker = new Worker(path.resolve(__dirname, 'workflow3.js'), {\n",
    "            workerData: task\n",
    "        });\n",
    "\n",
    "        worker.on('message', (message) => {\n",
    "            console.log(message);\n",
    "        });\n",
    "\n",
    "        worker.on('error', (error) => {\n",
    "            console.error('Worker error:', error);\n",
    "            reject(error);\n",
    "        });\n",
    "\n",
    "        worker.on('exit', (code) => {\n",
    "            if (code !== 0) {\n",
    "                console.error(`Worker stopped with exit code ${code}`);\n",
    "                reject(new Error(`Worker stopped with exit code ${code}`));\n",
    "            } else {\n",
    "                resolve();\n",
    "            }\n",
    "        });\n",
    "    });\n",
    "}\n",
    "\n",
    "// 主函数来运行所有的任务\n",
    "async function main() {\n",
    "    // 确保任务目录存在\n",
    "    tasks.forEach(task => {\n",
    "        if (!fs.existsSync(task.api_home)) {\n",
    "            fs.mkdirSync(task.api_home);\n",
    "        }\n",
    "    });\n",
    "\n",
    "    // 运行所有的 Worker\n",
    "    try {\n",
    "        await Promise.all(tasks.map(runWorker));\n",
    "        console.log('All tasks completed successfully');\n",
    "    } catch (error) {\n",
    "        console.error('Error in tasks:', error);\n",
    "    }\n",
    "}\n",
    "\n",
    "if (require.main === module) {\n",
    "    main();\n",
    "}\n"
   ]
  },
  {
   "cell_type": "markdown",
   "id": "f4bd7187-3bb5-4cce-8c03-3b21c9a5b2e9",
   "metadata": {},
   "source": [
    "## 多进程"
   ]
  },
  {
   "cell_type": "code",
   "execution_count": null,
   "id": "6836bc82-2f2d-4662-b7b6-cdd1bf5bb7c1",
   "metadata": {},
   "outputs": [],
   "source": [
    " 注意 多进程中 没有 workerData 模式 (在多线程中出现)"
   ]
  },
  {
   "cell_type": "code",
   "execution_count": null,
   "id": "4e1af670-6c34-4fe8-9dee-b39df930d668",
   "metadata": {},
   "outputs": [],
   "source": [
    "%%writefile workflow4.js\n",
    "const puppeteer = require('puppeteer-extra');\n",
    "const StealthPlugin = require('puppeteer-extra-plugin-stealth');\n",
    "const path = require('path');\n",
    "const fs = require('fs');\n",
    "// const { workerData, parentPort } = require('worker_threads');\n",
    "\n",
    "\n",
    "// 解析命令行参数\n",
    "const args = process.argv.slice(2);\n",
    "const params = {};\n",
    "args.forEach(arg => {\n",
    "    const [key, value] = arg.split('=');\n",
    "    if (key && value) {\n",
    "        params[key] = value;\n",
    "    }\n",
    "});\n",
    "\n",
    "const { api_home, url, userdir } = params;\n",
    "\n",
    "puppeteer.use(StealthPlugin());\n",
    "\n",
    "// const url = 'https://rapidapi.com/Glavier/api/ahrefs1/playground/apiendpoint_b535d225-dfd9-4b62-b1fb-d72e7368aaaf';\n",
    "// const api_home = 'aaaa';\n",
    "const headless = false;\n",
    "// const userdir = './xxxxx';\n",
    "const executablePath = '/Users/zhaoxuefeng/.cache/puppeteer/chrome/mac_arm-121.0.6167.85/chrome-mac-arm64/Google Chrome for Testing.app/Contents/MacOS/Google Chrome for Testing';\n",
    "\n",
    "\n",
    "\n",
    "\n",
    "(async () => {\n",
    "    // const { api_home, url,userdir} = workerData;\n",
    "    // 启动浏览器\n",
    "    const browser = await puppeteer.launch({\n",
    "      headless: headless, // 非无头模式\n",
    "    executablePath: executablePath,\n",
    "    userDataDir: userdir,\n",
    "    });\n",
    "\n",
    "    \n",
    "    \n",
    "    const page = await browser.newPage();\n",
    "    await page.setViewport({\n",
    "        width: 1200,\n",
    "        height: 1200,\n",
    "        deviceScaleFactor: 1,\n",
    "    });\n",
    "    \n",
    "    // 导航到目标页面\n",
    "    await page.goto(url);\n",
    "\n",
    "    // 定义选项卡选择器和文件名字典\n",
    "    const tabSelector = '//*[@id=\"main-frame\"]/div[1]/div/div/div[2]/div/div/div/div/div[1]/div/div/button';\n",
    "    const nameDict = {\n",
    "        0: \"app.html\",\n",
    "        1: \"params.html\",\n",
    "        2: \"headers.html\",\n",
    "        3: \"body.html\",\n",
    "        4: \"authorizations.html\"\n",
    "    };\n",
    "\n",
    "    // 查找所有选项卡\n",
    "    const tabs = await page.$x(tabSelector);\n",
    "    console.log(tabs)\n",
    "    \n",
    "    // 遍历前5个选项卡并点击\n",
    "    for (let i = 0; i < tabs.length && i < 5; i++) {\n",
    "        console.log(i, nameDict[i]);\n",
    "        \n",
    "        await tabs[i].click();\n",
    "        await page.waitForTimeout(100); // 等待页面加载完成\n",
    "\n",
    "        const content = await page.content();\n",
    "        fs.writeFileSync(path.join(api_home, nameDict[i]), content);\n",
    "    }\n",
    "    \n",
    "    // spider_Code Snippets python\n",
    "    console.log('Snippets python');\n",
    "    await page.locator('xpath///*[@id=\"main-frame\"]/div[1]/div/div/div[2]/div/div/div/div/div[2]/div[2]/div[1]/div/button[1]').click();\n",
    "    await page.locator('xpath///*[@id=\"main-frame\"]/div[1]/div/div/div[2]/div/div/div/div/div[2]/div[2]/div[2]/div[1]/div/div/div[1]/div/div').click();\n",
    "    await page.locator('xpath///*[@id=\"portal-root\"]/div/div/button[14]').click();\n",
    "    await page.locator('xpath///*[@id=\"main-frame\"]/div[1]/div/div/div[2]/div/div/div/div/div[2]/div[2]/div[2]/div[1]/div/div/div[2]/div/div').click();\n",
    "    await page.locator('xpath///*[@id=\"portal-root\"]/div/div/button[2]').click();\n",
    "    \n",
    "    var content = await page.content();\n",
    "    fs.writeFileSync(path.join(api_home,'code_snippets_python.html'), content);\n",
    "    \n",
    "    // spider_Code Snippets shell\n",
    "    console.log('Snippets shell');\n",
    "    await page.locator('xpath///*[@id=\"main-frame\"]/div[1]/div/div/div[2]/div/div/div/div/div[2]/div[2]/div[2]/div[1]/div/div/div[1]/div/div').click();\n",
    "    await page.locator('xpath///*[@id=\"portal-root\"]/div/div/button[17]').click();\n",
    "    await page.locator('xpath///*[@id=\"main-frame\"]/div[1]/div/div/div[2]/div/div/div/div/div[2]/div[2]/div[2]/div[1]/div/div/div[2]/div/div').click();\n",
    "    await page.locator('xpath///*[@id=\"portal-root\"]/div/div/button[1]').click();\n",
    "    \n",
    "    var content = await page.content();\n",
    "    fs.writeFileSync(path.join(api_home,'code_snippets_shell.html'), content);\n",
    "    \n",
    "    \n",
    "    // spider_Example_Response\n",
    "    console.log('Example_Response');\n",
    "    await page.locator('xpath///*[@id=\"main-frame\"]/div[1]/div/div/div[2]/div/div/div/div/div[2]/div[2]/div[1]/div/button[2]').click();\n",
    "    var content = await page.content();\n",
    "    fs.writeFileSync(path.join(api_home,'Example_Response.html'), content);\n",
    "    \n",
    "    \n",
    "\n",
    "    // 关闭浏览器\n",
    "    console.log('close');\n",
    "    await browser.close();\n",
    "    console.log(`success ${api_home}`);\n",
    "\n",
    "})();\n"
   ]
  },
  {
   "cell_type": "code",
   "execution_count": null,
   "id": "265e58f0-fde0-4201-8ba4-ab718b4cb99f",
   "metadata": {},
   "outputs": [],
   "source": [
    "%%writefile main2.js\n",
    "const { exec } = require('child_process');\n",
    "const path = require('path');\n",
    "const fs = require('fs');\n",
    "\n",
    "// 定义任务列表\n",
    "const tasks = [\n",
    "    {\n",
    "        api_home: 'output1',\n",
    "        url: 'https://rapidapi.com/VanitySoft/api/boundaries-io-1/playground/apiendpoint_9fefa91b-1881-43d2-b884-6174f55c0fe9',\n",
    "        userdir: 'xxxxx',\n",
    "    },\n",
    "    {\n",
    "        api_home: 'output2',\n",
    "        url: 'https://rapidapi.com/Glavier/api/ahrefs1/playground/apiendpoint_b535d225-dfd9-4b62-b1fb-d72e7368aaaf',\n",
    "        userdir: 'xxxxx2',\n",
    "    },\n",
    "    \n",
    "    {\n",
    "        api_home: 'output3',\n",
    "        url: 'https://rapidapi.com/VanitySoft/api/boundaries-io-1/playground/apiendpoint_9fefa91b-1881-43d2-b884-6174f55c0fe9',\n",
    "        userdir: 'xxxxx3',\n",
    "    },\n",
    "    \n",
    "    {\n",
    "        api_home: 'output4',\n",
    "        url: 'https://rapidapi.com/Glavier/api/ahrefs1/playground/apiendpoint_b535d225-dfd9-4b62-b1fb-d72e7368aaaf',\n",
    "        userdir: 'xxxxx4',\n",
    "    },\n",
    "    \n",
    "        {\n",
    "        api_home: 'output5',\n",
    "        url: 'https://rapidapi.com/Glavier/api/ahrefs1/playground/apiendpoint_b535d225-dfd9-4b62-b1fb-d72e7368aaaf',\n",
    "        userdir: 'xxxxx5',\n",
    "    },\n",
    "    // 可以添加更多任务\n",
    "];\n",
    "\n",
    "// 函数用于创建和启动子进程\n",
    "function runTask(task) {\n",
    "    return new Promise((resolve, reject) => {\n",
    "        const command = `node ${path.resolve(__dirname, 'workflow4.js')} ` +\n",
    "                        `api_home=${task.api_home} ` +\n",
    "                        `url=${task.url} ` +\n",
    "                        `headless=${task.headless} ` +\n",
    "                        `userdir=${task.userdir} ` +\n",
    "                        `executablePath=${task.executablePath}`;\n",
    "\n",
    "        const child = exec(command, (error, stdout, stderr) => {\n",
    "            if (error) {\n",
    "                console.error(`Error executing task for ${task.api_home}:`, error);\n",
    "                reject(error);\n",
    "                return;\n",
    "            }\n",
    "            if (stderr) {\n",
    "                console.error(`stderr for ${task.api_home}:`, stderr);\n",
    "            }\n",
    "            console.log(`stdout for ${task.api_home}:`, stdout);\n",
    "            resolve();\n",
    "        });\n",
    "    });\n",
    "}\n",
    "\n",
    "// 主函数来运行所有的任务\n",
    "async function main() {\n",
    "    // 确保任务目录存在\n",
    "    tasks.forEach(task => {\n",
    "        if (!fs.existsSync(task.api_home)) {\n",
    "            fs.mkdirSync(task.api_home);\n",
    "        }\n",
    "    });\n",
    "\n",
    "    // 运行所有的任务\n",
    "    try {\n",
    "        await Promise.all(tasks.map(runTask));\n",
    "        console.log('All tasks completed successfully');\n",
    "    } catch (error) {\n",
    "        console.error('Error in tasks:', error);\n",
    "    }\n",
    "}\n",
    "\n",
    "if (require.main === module) {\n",
    "    main();\n",
    "}\n"
   ]
  },
  {
   "cell_type": "code",
   "execution_count": null,
   "id": "ba112883-56d0-411a-844e-508c802e2cc8",
   "metadata": {},
   "outputs": [],
   "source": []
  },
  {
   "cell_type": "code",
   "execution_count": null,
   "id": "2f957d93-29f4-4edf-9429-95877f737af3",
   "metadata": {},
   "outputs": [],
   "source": []
  },
  {
   "cell_type": "markdown",
   "id": "9b4b1b99-2868-48f2-b9b8-682b8843afb3",
   "metadata": {},
   "source": [
    "# selenium\n",
    "\n",
    "## 安装selenium chrome 以及chromedriver"
   ]
  },
  {
   "cell_type": "markdown",
   "id": "4ee3f386-fbb0-4f1c-9495-393356449874",
   "metadata": {},
   "source": [
    "%pip install selenium\n",
    "\n",
    "%pip install chromedriver-py"
   ]
  },
  {
   "cell_type": "code",
   "execution_count": null,
   "id": "d8bb2628-4562-4d59-83aa-745ee7a0db4b",
   "metadata": {},
   "outputs": [],
   "source": [
    "https://pypi.org/project/chromedriver-py/#description"
   ]
  },
  {
   "cell_type": "code",
   "execution_count": null,
   "id": "867958b5-5ba1-4cfd-b9dc-a5788fc04d1b",
   "metadata": {},
   "outputs": [],
   "source": [
    "chrome://settings/help  # 查看chrome版本"
   ]
  },
  {
   "cell_type": "code",
   "execution_count": null,
   "id": "fd61d206-921a-46b1-9c3a-403d610b7ef8",
   "metadata": {},
   "outputs": [],
   "source": [
    "https://google-chrome.en.uptodown.com/mac/post-download/102925850  # 历史chrome 版本下载"
   ]
  },
  {
   "cell_type": "markdown",
   "id": "fe74a524-0dc8-4238-a738-14375aa62e1c",
   "metadata": {},
   "source": [
    "## 测试环境"
   ]
  },
  {
   "cell_type": "code",
   "execution_count": null,
   "id": "80ba14b8-4ec3-452e-a63d-cb1d9d85f397",
   "metadata": {},
   "outputs": [],
   "source": [
    "from selenium import webdriver\n",
    "\n",
    "from chromedriver_py import binary_path\n",
    "\n",
    "binary_path\n",
    "\n",
    "svc = webdriver.ChromeService(executable_path=binary_path)\n",
    "driver = webdriver.Chrome(service=svc)\n",
    "driver.get(\"http://www.python.org\")\n",
    "\n",
    "assert \"Python\" in driver.title"
   ]
  },
  {
   "cell_type": "code",
   "execution_count": null,
   "id": "1f90d728-28cf-4dd6-a21a-b7f1e7cdd34e",
   "metadata": {},
   "outputs": [],
   "source": []
  },
  {
   "cell_type": "code",
   "execution_count": null,
   "id": "67eb1e7c-f191-4760-a1de-abb9382118d5",
   "metadata": {},
   "outputs": [],
   "source": []
  },
  {
   "cell_type": "code",
   "execution_count": null,
   "id": "55bbf2bd-9ab2-4bfc-8545-111f4df308ef",
   "metadata": {},
   "outputs": [],
   "source": [
    "from selenium import webdriver\n",
    "\n",
    "from chromedriver_py import binary_path\n",
    "\n",
    "import time\n",
    "from selenium.webdriver.common.by import By\n",
    "\n",
    "svc = webdriver.ChromeService(executable_path=binary_path)\n",
    "driver = webdriver.Chrome(service=svc)\n",
    "\n",
    "driver.get(\"https://www.baidu.com/\")\n",
    "driver.find_element('xpath','//*[@id=\"kw\"]').send_keys('赵丽颖')\n",
    "\n",
    "driver.find_element(by='xpath',value='//*[@id=\"su\"]').click()\n",
    "# driver.find_element(by='xpath')\n",
    "# time.sleep(5)\n",
    "# driver.quit()"
   ]
  },
  {
   "cell_type": "code",
   "execution_count": null,
   "id": "98f9a9c9-32fc-48c2-993d-731556bc7521",
   "metadata": {},
   "outputs": [],
   "source": []
  },
  {
   "cell_type": "code",
   "execution_count": null,
   "id": "e89141ba-6b7b-4441-aed2-6a7291e9df17",
   "metadata": {},
   "outputs": [],
   "source": [
    "driver.get(url=url)\n",
    "driver.quit()  关闭浏览器\n",
    "driver.close()  关闭当前页\n",
    "driver.page_source  html 结构源码\n",
    "driver.page_source.find('字符串')  html源码中搜索指定字符串 没有找到就返回-1 常用来判断是否为最后一页\n",
    "driver.maximize_window()   浏览器窗口最大化\n"
   ]
  },
  {
   "cell_type": "code",
   "execution_count": null,
   "id": "6948a5c3-e1fd-41c8-bca9-4a96fbbf0be3",
   "metadata": {},
   "outputs": [],
   "source": [
    "find 是字符串的方法 返回下标索引"
   ]
  },
  {
   "cell_type": "markdown",
   "id": "958dffde-121a-489a-ad41-7c67277ccd52",
   "metadata": {},
   "source": [
    "### 无头"
   ]
  },
  {
   "cell_type": "code",
   "execution_count": null,
   "id": "3f90954b-d75b-4c7b-8393-aaee1023f7a5",
   "metadata": {},
   "outputs": [],
   "source": [
    "from selenium import webdriver\n",
    "from chromedriver_py import binary_path\n",
    "\n",
    "import time\n",
    "from selenium.webdriver.common.by import By\n",
    "\n",
    "svc = webdriver.ChromeService(executable_path=binary_path)\n",
    "\n",
    "options = webdriver.ChromeOptions()\n",
    "# 添加无头模式\n",
    "options.add_argument('--headless')\n",
    "\n",
    "# driver = webdriver.Chrome(service=svc)\n",
    "driver = webdriver.Chrome(service=svc,options=options)"
   ]
  },
  {
   "cell_type": "markdown",
   "id": "62fabcba-0689-4fd1-a5c1-e9983d3792d2",
   "metadata": {},
   "source": [
    "## 鼠标移动"
   ]
  },
  {
   "cell_type": "code",
   "execution_count": null,
   "id": "c48eef61-ab22-4936-9b28-9492505aab78",
   "metadata": {},
   "outputs": [],
   "source": [
    "from selenium import webdriver\n",
    "from selenium.webdriver import ActionChains\n",
    "\n",
    "ActionChains(driver).move_to_element(element).perform()\n",
    "\n",
    "# driver.find_element"
   ]
  },
  {
   "cell_type": "markdown",
   "id": "b8522750-2ca4-4e2f-8b80-3cb645d4891a",
   "metadata": {},
   "source": [
    "## 等待元素"
   ]
  },
  {
   "cell_type": "code",
   "execution_count": null,
   "id": "c5681de0-8064-44d6-b5fb-4d2ab47bf1bc",
   "metadata": {},
   "outputs": [],
   "source": [
    "from selenium import webdriver\n",
    "from selenium.webdriver.common.by import By\n",
    "from selenium.webdriver.support.ui import WebDriverWait\n",
    "from selenium.webdriver.support import expected_conditions as EC"
   ]
  },
  {
   "cell_type": "code",
   "execution_count": null,
   "id": "df978ab4-e31f-4f1b-95db-9aab47ff5c5a",
   "metadata": {},
   "outputs": [],
   "source": [
    "driver.get(api_url)\n",
    "print('start')\n",
    "\n",
    "element = WebDriverWait(driver, 10).until(\n",
    "    EC.presence_of_element_located((By.XPATH, '//*[@id=\"TEST_ENDPOINT_FORM\"]/div/div[1]/div/div/span/div'))  # 根据实际情况替换选择器\n",
    ")\n",
    "\n",
    "print('end')\n",
    "# do"
   ]
  },
  {
   "cell_type": "code",
   "execution_count": null,
   "id": "e694926d-78ca-435d-85e5-8857f5d0f54b",
   "metadata": {},
   "outputs": [],
   "source": []
  },
  {
   "cell_type": "markdown",
   "id": "96083d0e-72ea-42a6-8fda-33e04ea7ca30",
   "metadata": {},
   "source": [
    "## 使用用户的存储数据"
   ]
  },
  {
   "cell_type": "code",
   "execution_count": 1,
   "id": "e6d65fe1-0f06-4ac9-a6f2-773bfe78d7af",
   "metadata": {
    "tags": []
   },
   "outputs": [],
   "source": [
    "from selenium import webdriver\n",
    "\n",
    "from chromedriver_py import binary_path\n",
    "from selenium.webdriver.common.by import By\n",
    "import time\n",
    "\n",
    "import os"
   ]
  },
  {
   "cell_type": "code",
   "execution_count": 2,
   "id": "14586542-e419-4853-9448-207b7149cf15",
   "metadata": {
    "tags": []
   },
   "outputs": [],
   "source": [
    "options = webdriver.ChromeOptions()"
   ]
  },
  {
   "cell_type": "code",
   "execution_count": 3,
   "id": "9ba353c7-7cf8-45ca-88b6-fc269fb0634f",
   "metadata": {
    "tags": []
   },
   "outputs": [],
   "source": [
    "options.add_argument(\"user-data-dir=/Users/zhaoxuefeng/Library/Application Support/Google/Chrome\")  # 替换为你的 Chrome 用户数据目录路径"
   ]
  },
  {
   "cell_type": "code",
   "execution_count": 4,
   "id": "4866d3ef-6b51-41a7-a64f-3cb9d363cc44",
   "metadata": {
    "tags": []
   },
   "outputs": [],
   "source": [
    "svc = webdriver.ChromeService(executable_path=binary_path)"
   ]
  },
  {
   "cell_type": "code",
   "execution_count": 5,
   "id": "8a547065-be02-48e2-b1de-e2a23410fdae",
   "metadata": {
    "tags": []
   },
   "outputs": [],
   "source": [
    "driver = webdriver.Chrome(service=svc,options=options)"
   ]
  },
  {
   "cell_type": "code",
   "execution_count": 6,
   "id": "832e43b7-b7c7-498c-a97a-bfc0d8596129",
   "metadata": {
    "tags": []
   },
   "outputs": [],
   "source": [
    "driver.get(\"https://kimi.moonshot.cn/chat/cq6ecd2lnl99t48jr2vg\")"
   ]
  },
  {
   "cell_type": "code",
   "execution_count": null,
   "id": "446d24e9-9fe3-4588-97b7-de65e6a8866b",
   "metadata": {},
   "outputs": [],
   "source": []
  },
  {
   "cell_type": "code",
   "execution_count": null,
   "id": "bc2acf03-69fb-440b-a16a-e251a927e097",
   "metadata": {},
   "outputs": [],
   "source": []
  },
  {
   "cell_type": "markdown",
   "id": "df9719e7-2d3d-47e3-92ab-d4ac9786e361",
   "metadata": {},
   "source": [
    "## 常规爬虫分析"
   ]
  },
  {
   "cell_type": "code",
   "execution_count": null,
   "id": "bd9b07bf-2586-4aa3-ad2b-2fcda7073d8e",
   "metadata": {},
   "outputs": [],
   "source": [
    "\"\"\" 向京东官网(https://www.jd.com/)发请求,获取响应内容\"\"\" \n",
    "import requests  \n",
    "resp = requests.get(url='https://www.jd.com/') \n",
    "# 1.text属性: 获取响应内容-字符串\n",
    "html = resp.text \n",
    "print(html)"
   ]
  },
  {
   "cell_type": "code",
   "execution_count": null,
   "id": "e0e6d4d4-19a8-4873-8a17-0de3a032754e",
   "metadata": {},
   "outputs": [],
   "source": []
  },
  {
   "cell_type": "code",
   "execution_count": null,
   "id": "71bd0cb1-2d6c-42df-aa9d-5fd79cb1e817",
   "metadata": {},
   "outputs": [],
   "source": []
  },
  {
   "cell_type": "markdown",
   "id": "82d8827b-1af5-49de-a88c-c49ffe31e672",
   "metadata": {},
   "source": [
    "# BeautifulSoup"
   ]
  },
  {
   "cell_type": "code",
   "execution_count": null,
   "id": "7609f766-b568-4dce-add6-ce78e0985f12",
   "metadata": {},
   "outputs": [],
   "source": [
    "import requests\n",
    "from bs4 import BeautifulSoup\n",
    "from urllib.parse import urljoin\n",
    "\n",
    "def get_all_links(url):\n",
    "    response = requests.get(url)\n",
    "    if response.status_code != 200:\n",
    "        print(f\"Failed to retrieve the page: {url}\")\n",
    "        return []\n",
    "\n",
    "    soup = BeautifulSoup(response.content, \"html.parser\")\n",
    "\n",
    "    # Finding all 'a' tags which typically contain href attribute for links\n",
    "    links = [\n",
    "        (a.text, urljoin(url, a[\"href\"]))\n",
    "        for a in soup.find_all(\"a\", href=True)\n",
    "        if a[\"href\"]\n",
    "    ]\n",
    "\n",
    "    return links\n",
    "\n",
    "\n",
    "import requests\n",
    "from bs4 import BeautifulSoup\n",
    "from urllib.parse import urljoin\n",
    "\n",
    "def get_content(url):\n",
    "    response = requests.get(url)\n",
    "    if response.status_code != 200:\n",
    "        print(f\"Failed to retrieve the page: {url}\")\n",
    "        return []\n",
    "\n",
    "    soup = BeautifulSoup(response.content, \"html.parser\")\n",
    "    text_content = soup.get_text()\n",
    "\n",
    "    return text_content"
   ]
  },
  {
   "cell_type": "code",
   "execution_count": null,
   "id": "8e1d4d58-0917-4cd9-bcd0-b1fb36d99769",
   "metadata": {},
   "outputs": [],
   "source": [
    "%%writefile /Users/zhaoxuefeng/GitHub/zxftools/zxftools/tnode/lib/tools/web.py\n",
    "from .base import BaseTools\n",
    "import requests\n",
    "from bs4 import BeautifulSoup\n",
    "from urllib.parse import urljoin\n",
    "\n",
    "class WebTools(BaseTools):\n",
    "    def __init__(self, register=[]):\n",
    "        register_default = ['get_all_links', 'get_content']\n",
    "        super().__init__(register, register_default)\n",
    "\n",
    "    def get_all_links(self, url):\n",
    "        \"\"\"Retrieve all links from a given URL and return a list of tuples containing the link text and the absolute URL\"\"\"\n",
    "        response = requests.get(url)\n",
    "        if response.status_code != 200:\n",
    "            print(f\"Failed to retrieve the page: {url}\")\n",
    "            return []\n",
    "\n",
    "        soup = BeautifulSoup(response.content, \"html.parser\")\n",
    "\n",
    "        links = [\n",
    "            (a.text, urljoin(url, a[\"href\"]))\n",
    "            for a in soup.find_all(\"a\", href=True)\n",
    "            if a[\"href\"]\n",
    "        ]\n",
    "\n",
    "        return links\n",
    "\n",
    "    def get_content(self, url):\n",
    "        \"\"\"Retrieve the text content from a given URL and return it as a string\"\"\"\n",
    "        response = requests.get(url)\n",
    "        if response.status_code != 200:\n",
    "            print(f\"Failed to retrieve the page: {url}\")\n",
    "            return []\n",
    "\n",
    "        soup = BeautifulSoup(response.content, \"html.parser\")\n",
    "        text_content = soup.get_text()\n",
    "\n",
    "        return text_content"
   ]
  },
  {
   "cell_type": "code",
   "execution_count": null,
   "id": "0f849651-e3ac-4f7f-bac3-227c8d0243c9",
   "metadata": {},
   "outputs": [],
   "source": []
  },
  {
   "cell_type": "code",
   "execution_count": null,
   "id": "00b0e60c-c522-4e7a-8cad-46da62e6582d",
   "metadata": {},
   "outputs": [],
   "source": []
  },
  {
   "cell_type": "markdown",
   "id": "796a334a-69d6-47f4-91c8-99ae19027b07",
   "metadata": {},
   "source": [
    "# pyppeteer"
   ]
  },
  {
   "cell_type": "code",
   "execution_count": null,
   "id": "149f0037-b4a1-4ca3-85ae-19e62ed655fb",
   "metadata": {},
   "outputs": [],
   "source": [
    " 上传文件"
   ]
  },
  {
   "cell_type": "code",
   "execution_count": null,
   "id": "d48cd650-fd4f-4c0b-bac3-6d8687eea17d",
   "metadata": {},
   "outputs": [],
   "source": [
    "import asyncio\n",
    "from pyppeteer import launch\n",
    "userdir = 'user3'\n",
    "async def upload_file():\n",
    "    #browser = await launch(headless=False)  # 启动浏览器\n",
    "    browser = await launch(\n",
    "        headless=False,  # 非无头模式\n",
    "        userDataDir=userdir\n",
    "    )\n",
    "    page = await browser.newPage()\n",
    "    await page.goto('https://www.yinziai.com/tools/extract-text')  # 访问包含文件上传的页面\n",
    "\n",
    "    # 等待文件输入框加载完成\n",
    "    input_element = await page.waitForSelector('input[type=\"file\"]')\n",
    "\n",
    "    # 设置文件路径以上传文件\n",
    "    await input_element.uploadFile('/Users/zhaoxuefeng/Documents/Project/Work/video.mp4')  # 替换为你的文件路径\n",
    "\n",
    "    # 提交表单或进行其他操作\n",
    "    #await page.click('input[type=\"submit\"]')\n",
    "\n",
    "    # 等待一些时间以查看结果\n",
    "    await page.waitFor(20000)\n",
    "\n",
    "    await browser.close()\n",
    "\n",
    "asyncio.get_event_loop().run_until_complete(upload_file())\n"
   ]
  },
  {
   "cell_type": "code",
   "execution_count": null,
   "id": "36891c92-f379-41a3-a58a-fcece0a7935f",
   "metadata": {},
   "outputs": [],
   "source": []
  },
  {
   "cell_type": "code",
   "execution_count": null,
   "id": "56727b06-635a-4e91-a580-12b4922ee6cb",
   "metadata": {},
   "outputs": [],
   "source": [
    "\"\"\"案例\"\"\"\n",
    "import asyncio\n",
    "from pyppeteer import launch\n",
    "\n",
    "width, height = 1500, 1300  # 尺寸配置\n",
    "\"\"\"如果要单独写到配置高宽，需要在window-size前面加上f哦\"\"\"\n",
    "\n",
    "async def main():\n",
    "    browser = await launch(\n",
    "        headless=True,\n",
    "        args=['--disable-infobars', f'--window-size={width},{height}'],\n",
    "    )\n",
    "    page = await browser.newPage()\n",
    "    await page.goto('http://www.taobao.com')\n",
    "    await page.screenshot({'path': 'example.png'})\n",
    "    #await browser.close()\n",
    "\n",
    "asyncio.get_event_loop().run_until_complete(main())"
   ]
  },
  {
   "cell_type": "code",
   "execution_count": null,
   "id": "2ccaf5df-b7c0-47a5-ac36-9e166a6ba16b",
   "metadata": {},
   "outputs": [],
   "source": []
  },
  {
   "cell_type": "code",
   "execution_count": null,
   "id": "a6d5169f-e41e-4e98-8296-1ddb6eb1d90f",
   "metadata": {},
   "outputs": [],
   "source": [
    "img_element = await page.waitForXPath('/html/body/div[3]/div/div/div/div[2]/div/div/div[1]/div/div[2]/img', timeout=5000)\n",
    "    img_src = await page.evaluate('(element) => element.src', img_element)\n",
    "    print(f\"图片链接: {img_src}\")"
   ]
  },
  {
   "cell_type": "code",
   "execution_count": null,
   "id": "6a1da59c-7c9d-4722-97b3-e5fa6d0c20fa",
   "metadata": {},
   "outputs": [],
   "source": []
  },
  {
   "cell_type": "code",
   "execution_count": 1,
   "id": "c19d771d-edee-48c1-a31c-6bb19472dbd7",
   "metadata": {
    "tags": []
   },
   "outputs": [],
   "source": [
    "### 1 <class 'pyppeteer.element_handle.ElementHandle'>"
   ]
  },
  {
   "cell_type": "code",
   "execution_count": null,
   "id": "b20393ab-bccc-4965-bd59-6f93b16e322a",
   "metadata": {},
   "outputs": [],
   "source": [
    "elements = await page.xpath('//*[@id=\"index\"]/nav/a/div/a')"
   ]
  },
  {
   "cell_type": "code",
   "execution_count": null,
   "id": "9edb7501-f993-4d2f-8d31-386c15dea0b8",
   "metadata": {},
   "outputs": [],
   "source": [
    "elements[0]"
   ]
  },
  {
   "cell_type": "code",
   "execution_count": null,
   "id": "41585ec6-a69e-4827-80b5-7d5ab6ea4ed0",
   "metadata": {},
   "outputs": [],
   "source": [
    "img_element = await page.waitForXPath('/html/body/div[3]/div/div/div/div[2]/div/div/div[1]/div/div[2]/img', timeout=5000)"
   ]
  },
  {
   "cell_type": "code",
   "execution_count": null,
   "id": "32c0a61d-6ce4-457a-9fb2-2366afdd193a",
   "metadata": {},
   "outputs": [],
   "source": [
    "能力 :\n",
    ".click()\n"
   ]
  },
  {
   "cell_type": "code",
   "execution_count": null,
   "id": "15d530e5-c642-4fc1-ad80-fbbd840f4115",
   "metadata": {},
   "outputs": [],
   "source": []
  },
  {
   "cell_type": "code",
   "execution_count": null,
   "id": "48b91929-e7b5-476b-8259-ac81f315293f",
   "metadata": {},
   "outputs": [],
   "source": [
    "# page"
   ]
  },
  {
   "cell_type": "code",
   "execution_count": null,
   "id": "e8fa225b-578f-4ebf-a00e-79e46b2de7bf",
   "metadata": {},
   "outputs": [],
   "source": [
    "page = await browser.newPage()"
   ]
  },
  {
   "cell_type": "code",
   "execution_count": null,
   "id": "421a39d8-c1d1-4eb7-b933-0eae5f061d5e",
   "metadata": {},
   "outputs": [],
   "source": [
    "await page.setViewport({\n",
    "        \"width\": 1200,\n",
    "        \"height\": 1200,\n",
    "        \"deviceScaleFactor\": 1,\n",
    "    }) # 设置窗口大小"
   ]
  },
  {
   "cell_type": "code",
   "execution_count": null,
   "id": "2d8c0f6d-f575-462e-b372-426ded9799bd",
   "metadata": {},
   "outputs": [],
   "source": [
    "await page.goto('https://www.yinziai.com/tools/extract-text')  # 访问包含文件上传的页面\n",
    "    "
   ]
  },
  {
   "cell_type": "code",
   "execution_count": null,
   "id": "7cdaaeab-fe95-4c05-9258-e8ccb66139e5",
   "metadata": {},
   "outputs": [],
   "source": [
    "await page.waitFor(1000)  # 等待几秒以查看效果"
   ]
  },
  {
   "cell_type": "code",
   "execution_count": null,
   "id": "0b76095e-c87d-4ead-b72c-7b150249ccc9",
   "metadata": {},
   "outputs": [],
   "source": []
  },
  {
   "cell_type": "code",
   "execution_count": null,
   "id": "58bfacbc-ab19-4f48-954f-028960819be6",
   "metadata": {},
   "outputs": [],
   "source": []
  },
  {
   "cell_type": "code",
   "execution_count": null,
   "id": "b05df754-29b3-429e-9c04-2b8ab8a2ec23",
   "metadata": {},
   "outputs": [],
   "source": []
  },
  {
   "cell_type": "code",
   "execution_count": null,
   "id": "176f05d8-d92d-4699-8590-39157cddf308",
   "metadata": {},
   "outputs": [],
   "source": [
    "#     auth_headers = set()\n",
    "\n",
    "#     # 监听所有请求\n",
    "#     async def intercept_request(request):\n",
    "#         headers = request.headers\n",
    "#         if 'authorization' in headers:\n",
    "#             print(f\"Authorization found: {headers['authorization']}\")\n",
    "#             auth_headers.add(headers['authorization'])  # 使用 Set 自动去重\n",
    "#         await request.continue_()\n",
    "\n",
    "#     await page.setRequestInterception(True)\n",
    "#     page.on('request', intercept_request)\n"
   ]
  },
  {
   "cell_type": "code",
   "execution_count": null,
   "id": "1f2883bf-23fe-4143-81d9-94a9d5b267f9",
   "metadata": {},
   "outputs": [],
   "source": [
    "    \n",
    "#     # 定义拦截请求的回调函数\n",
    "#     async def log_request(request):\n",
    "#         headers = request.headers\n",
    "#         if 'authorization' in headers:\n",
    "#             print(f\"Authorization: {headers['authorization']}\")\n",
    "#         await request.continue_()\n",
    "\n",
    "#     # 启用请求拦截\n",
    "#     await page.setRequestInterception(True)\n",
    "    \n",
    "#     # 使用事件循环的方式来添加监听器，确保异步调用\n",
    "#     ee = EventEmitter()\n",
    "#     ee.on('request', lambda req: asyncio.ensure_future(log_request(req)))\n",
    "    \n",
    "#     page.on('request', ee.emit)"
   ]
  },
  {
   "cell_type": "code",
   "execution_count": null,
   "id": "f32d765a-8259-4e08-92d5-bee057d95cf2",
   "metadata": {},
   "outputs": [],
   "source": [
    "\n",
    "\n",
    "    Authorization = ''\n",
    "    \n",
    "    async def log_request(request):\n",
    "        headers = request.headers\n",
    "        if 'authorization' in headers:\n",
    "            Authorization = headers['authorization']\n",
    "            print(f\"Authorization: {headers['authorization']}\")\n",
    "        # 立即继续请求，不阻塞程序\n",
    "        await request.continue_()\n",
    "\n",
    "    # 启用请求拦截\n",
    "    await page.setRequestInterception(True)\n",
    "    \n",
    "    # 使用 lambda 异步调用 log_request，确保程序继续执行\n",
    "    page.on('request', lambda req: asyncio.create_task(log_request(req)))\n",
    "    \n",
    "    \n",
    "    \n",
    "    await page.goto('https://www.yinziai.com/tools/extract-text')  # 访问包含文件上传的页面\n",
    "\n",
    "    await page.setRequestInterception(False)\n",
    "    "
   ]
  }
 ],
 "metadata": {
  "kernelspec": {
   "display_name": "Python 3 (ipykernel)",
   "language": "python",
   "name": "python3"
  },
  "language_info": {
   "codemirror_mode": {
    "name": "ipython",
    "version": 3
   },
   "file_extension": ".py",
   "mimetype": "text/x-python",
   "name": "python",
   "nbconvert_exporter": "python",
   "pygments_lexer": "ipython3",
   "version": "3.10.14"
  }
 },
 "nbformat": 4,
 "nbformat_minor": 5
}
