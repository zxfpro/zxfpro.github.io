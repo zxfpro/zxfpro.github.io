{
 "cells": [
  {
   "cell_type": "markdown",
   "id": "c5cab2b7-a4ea-41c7-9a8c-a5cd1c87706f",
   "metadata": {},
   "source": [
    "# 重新部署机器"
   ]
  },
  {
   "cell_type": "markdown",
   "id": "6ffe0c10-b05c-4b44-90f9-f861dfc1c684",
   "metadata": {},
   "source": [
    "## 查看机器基本信息\n",
    "\n",
    "```\n",
    "uname -m #查看架构\n",
    "df -h # 查看磁盘\n",
    "lscpu # cpu信息\n",
    "nvidia-smi # gpu信息\n",
    "ping -4 www.baidu.com\n",
    "```"
   ]
  },
  {
   "cell_type": "markdown",
   "id": "990d4640-c108-44f9-9870-2fba8b743c65",
   "metadata": {},
   "source": [
    "## 创建用户"
   ]
  },
  {
   "cell_type": "code",
   "execution_count": null,
   "id": "217d3d2c-3a1f-46ae-b85a-6fde536a2ce9",
   "metadata": {},
   "outputs": [],
   "source": [
    "adduser username\n",
    "passwd username"
   ]
  },
  {
   "cell_type": "code",
   "execution_count": null,
   "id": "2b634049-9808-4ca0-8050-241825b05e16",
   "metadata": {},
   "outputs": [],
   "source": [
    "usermod -aG sudo qework"
   ]
  },
  {
   "cell_type": "markdown",
   "id": "86d1b033-935b-4c54-ac7b-4af6fe4b2bdd",
   "metadata": {},
   "source": [
    "## 安装基础依赖包"
   ]
  },
  {
   "cell_type": "code",
   "execution_count": null,
   "id": "cfd46c55-a519-4bc0-b1be-827520af489b",
   "metadata": {},
   "outputs": [],
   "source": [
    "sudo apt update"
   ]
  },
  {
   "cell_type": "code",
   "execution_count": null,
   "id": "338d1ac5-9619-4a77-9952-5329a5779674",
   "metadata": {},
   "outputs": [],
   "source": [
    "sudo apt install build-essential"
   ]
  },
  {
   "cell_type": "code",
   "execution_count": null,
   "id": "46ed7769-09b6-41f1-b129-3386e1a517f2",
   "metadata": {},
   "outputs": [],
   "source": [
    "apt install python3"
   ]
  },
  {
   "cell_type": "code",
   "execution_count": null,
   "id": "1a0fd6a0-1410-4146-922b-1e1b2cbd3cce",
   "metadata": {},
   "outputs": [],
   "source": [
    "apt install vim git curl htop -y"
   ]
  },
  {
   "cell_type": "markdown",
   "id": "f222e9a7-7746-4c43-bfa8-14c31296cea7",
   "metadata": {},
   "source": [
    "## 下载conda并安装"
   ]
  },
  {
   "cell_type": "code",
   "execution_count": null,
   "id": "4b5cd512-81c8-4d05-945f-c10284a9491d",
   "metadata": {},
   "outputs": [],
   "source": [
    "wget https://repo.anaconda.com/miniconda/Miniconda3-latest-Linux-x86_64.sh"
   ]
  },
  {
   "cell_type": "markdown",
   "id": "94daf2c5-1d7f-4fd8-9f25-3489f5d96f54",
   "metadata": {},
   "source": [
    "## 测试网络情况"
   ]
  },
  {
   "cell_type": "code",
   "execution_count": null,
   "id": "5db47df2-a7d8-42e2-acd3-29efc5820ef1",
   "metadata": {},
   "outputs": [],
   "source": [
    "配置pip 源"
   ]
  },
  {
   "cell_type": "code",
   "execution_count": null,
   "id": "98117f2a-e4a1-4292-8abf-beac2433c037",
   "metadata": {},
   "outputs": [],
   "source": [
    "pip install -i https://pypi.tuna.tsinghua.edu.cn/simple some-package"
   ]
  },
  {
   "cell_type": "code",
   "execution_count": null,
   "id": "de78ed29-db18-4c45-a22b-8c84c4e0e84a",
   "metadata": {},
   "outputs": [],
   "source": [
    "# 下载ollama"
   ]
  },
  {
   "cell_type": "code",
   "execution_count": null,
   "id": "b771db41-8e3b-446a-b9f5-96b8632305c3",
   "metadata": {},
   "outputs": [],
   "source": [
    "curl -fsSL https://ollama.com/install.sh | sh"
   ]
  },
  {
   "cell_type": "code",
   "execution_count": null,
   "id": "fd6a315d-af80-4593-a38c-015df264f3a3",
   "metadata": {},
   "outputs": [],
   "source": [
    "# 主要要有权限开通 ip 的tcp 端口才行"
   ]
  },
  {
   "cell_type": "code",
   "execution_count": null,
   "id": "fec2fec6-31c7-4a67-9d9c-2c35a21c3b5f",
   "metadata": {},
   "outputs": [],
   "source": [
    "部署jupyter notebook"
   ]
  }
 ],
 "metadata": {
  "kernelspec": {
   "display_name": "Python 3 (ipykernel)",
   "language": "python",
   "name": "python3"
  },
  "language_info": {
   "codemirror_mode": {
    "name": "ipython",
    "version": 3
   },
   "file_extension": ".py",
   "mimetype": "text/x-python",
   "name": "python",
   "nbconvert_exporter": "python",
   "pygments_lexer": "ipython3",
   "version": "3.10.14"
  }
 },
 "nbformat": 4,
 "nbformat_minor": 5
}
