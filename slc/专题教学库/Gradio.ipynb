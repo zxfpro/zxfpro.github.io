{
 "cells": [
  {
   "cell_type": "markdown",
   "id": "4851d7c8-02c8-44fe-993e-865646118d15",
   "metadata": {},
   "source": [
    "# Gradio 使用"
   ]
  },
  {
   "cell_type": "markdown",
   "id": "886df752-d61e-4b2e-afc3-32862f561751",
   "metadata": {
    "tags": []
   },
   "source": [
    "页面设计"
   ]
  },
  {
   "cell_type": "code",
   "execution_count": null,
   "id": "e22e6ece-2f34-49b3-a60c-5e497d64f4c3",
   "metadata": {},
   "outputs": [],
   "source": [
    "import gradio as gr\n",
    "import os\n",
    "class Sizer(object):\n",
    "    @staticmethod\n",
    "    def page0(title='上传数据集',file_label='添加文件',UploadDataButton_label='上传数据'):\n",
    "        with gr.Row():\n",
    "            with gr.Column():\n",
    "                gr.Markdown(f'# {title}')\n",
    "                Files = gr.File(label=file_label,\n",
    "                                       file_count=\"multiple\",\n",
    "                                       show_label=False,\n",
    "                                       )\n",
    "                with gr.Row():\n",
    "                    UploadDataButton = gr.Button(UploadDataButton_label)\n",
    "                    UploadCompleteButton = gr.Button(\"\")\n",
    "            UploadDataWindow = gr.DataFrame(height=400, interactive=False, headers=['文件名'])\n",
    "            return UploadCompleteButton,UploadDataButton, Files, UploadDataWindow\n"
   ]
  },
  {
   "cell_type": "markdown",
   "id": "af7ae461-fdce-4b0b-9cba-980809610bdf",
   "metadata": {},
   "source": [
    "这里解决的是页面点击对应的页面变换\n",
    "同时将逻辑的接口引出"
   ]
  },
  {
   "cell_type": "code",
   "execution_count": null,
   "id": "a0b6c7ab-7827-4aae-b72e-ff9dc81c1682",
   "metadata": {},
   "outputs": [],
   "source": [
    "from .layout import Pages\n",
    "import gradio as gr\n",
    "class PagesFlow(object):\n",
    "    @classmethod\n",
    "    def updatedata(cls):\n",
    "        dicts = {\n",
    "             'page0': gr.update(visible=False),\n",
    "             'page1': gr.update(visible=True),\n",
    "             'page2': gr.update(visible=False),\n",
    "         }\n",
    "        return list(dicts.values())\n",
    "    @classmethod\n",
    "    def toclassification(cls):\n",
    "        dicts = {\n",
    "             'page0': gr.update(visible=False),\n",
    "             'page1': gr.update(visible=False),\n",
    "             'page2': gr.update(visible=True),\n",
    "         }\n",
    "        return list(dicts.values())\n",
    "    @classmethod\n",
    "    def run(cls):\n",
    "        view0 = gr.Column(visible=True)\n",
    "        with view0:\n",
    "            Control0 = Pages.page0()\n",
    "            UploadDataButton = Control0[0]\n",
    "        view1 = gr.Column(visible=False)\n",
    "        with view1:\n",
    "            Control1 = Pages.page1()\n",
    "            ToSortingButton = Control1[0]\n",
    "\n",
    "        view2 = gr.Column(visible=False)\n",
    "        with view2:\n",
    "            Control2 = Pages.page2()\n",
    "        UploadDataButton.click(cls.updatedata,inputs = [],outputs=[view0, view1, view2])\n",
    "        ToSortingButton.click(cls.toclassification,inputs = [],outputs=[view0, view1, view2])\n",
    "\n",
    "        return *Control0,*Control1,*Control2"
   ]
  },
  {
   "cell_type": "markdown",
   "id": "8f612707-0b53-4ec7-bf42-9003e19d45e6",
   "metadata": {},
   "source": [
    " 解决逻辑问题 相当于对外的接口"
   ]
  },
  {
   "cell_type": "code",
   "execution_count": null,
   "id": "d4de2788-5b1d-4b43-b9b6-772605a985c8",
   "metadata": {},
   "outputs": [],
   "source": [
    "import pandas as pd\n",
    "import gradio as gr\n",
    "from electricity.function import train\n",
    "\n",
    "class Logic(object):\n",
    "    def __init__(self,**kwargs):\n",
    "        self.function_kwargs = kwargs\n",
    "        \n",
    "    def run(UploadDataButton, Files,\n",
    "              ToSortingButton, OriginDataWindow,NumberBox,\n",
    "              DownloadFile, ResultText, ResultWindow,es_db_searcher=None):\n",
    "        def update_(folder_files):\n",
    "            if folder_files is None:\n",
    "                return gr.update(value=None)\n",
    "            file_path = folder_files[0].name\n",
    "            df = pd.read_csv(file_path)\n",
    "            return gr.update(value=df),gr.update(value=f\"数据总条数: {df.shape[0]}\")\n",
    "\n",
    "        UploadDataButton.click(update_, [Files], [OriginDataWindow,NumberBox])\n",
    "\n",
    "        def sort(df):\n",
    "            result = train(df,es_db_searcher=es_db_searcher)\n",
    "            result.to_csv('./output.csv', index=None)\n",
    "            from collections import Counter\n",
    "            right = Counter(list(result['训练集里最相似样本及对应分类']))['已检出']\n",
    "            all_ = result.shape[0]\n",
    "\n",
    "            result_text = f\"总数量 {all_} 检出率 {right / all_:.2%} 检出条数 {right} 待确认条数 {all_ - right}\"\n",
    "            return gr.update(value=result), gr.update(value=result_text), gr.update(value='./output.csv')\n",
    "\n",
    "        ToSortingButton.click(sort, [OriginDataWindow], [ResultWindow, ResultText, DownloadFile])\n"
   ]
  },
  {
   "cell_type": "markdown",
   "id": "59b79dd9-ba9d-4928-afc0-f0cd9136810f",
   "metadata": {},
   "source": [
    "启动"
   ]
  },
  {
   "cell_type": "code",
   "execution_count": null,
   "id": "66aa126f-09f1-49e1-961b-20257bd5cd3c",
   "metadata": {},
   "outputs": [],
   "source": [
    "with gr.Blocks() as demo:\n",
    "    Logic(es_db_searcher=es_db_searcher).run(*PagesFlow.run())\n",
    "demo.launch(server_name=server_name, **kwargs)\n"
   ]
  },
  {
   "cell_type": "markdown",
   "id": "f592a80d-68a4-4fa6-946e-59683c0f3f3b",
   "metadata": {},
   "source": [
    "平时接口可以使用假函数填充 来测试前端\n",
    "工作时 将测试完整的函数代码输入到对应位置 \n",
    "这样监控对应函数即可"
   ]
  },
  {
   "cell_type": "code",
   "execution_count": null,
   "id": "18ffda57-64c1-438d-9882-b908a6a0b1da",
   "metadata": {},
   "outputs": [],
   "source": []
  },
  {
   "cell_type": "code",
   "execution_count": null,
   "id": "e53bf7d5-439d-470c-b68d-d0c7eb653828",
   "metadata": {},
   "outputs": [],
   "source": [
    "import gradio as gr\n",
    "import functools\n",
    "\n",
    "class Web():\n",
    "    \"\"\"\n",
    "    这里表现类的功能,以及类的方法\n",
    "    .launch()\n",
    "    .chat_If()\n",
    "    \"\"\"\n",
    "    @staticmethod\n",
    "    def launch(**gradio_kwargs):\n",
    "        \"\"\"\n",
    "        这是一个装饰器\n",
    "\n",
    "        for example:\n",
    "            @launch()\n",
    "            def lch():\n",
    "                gr.Button()\n",
    "\n",
    "\n",
    "        def my_function(x,progress=gr.Progress()):\n",
    "            progress(0,desc='start')\n",
    "            time.sleep(1)\n",
    "            for i in progress.tqdm(range(100)):\n",
    "                time.sleep(0.1)\n",
    "            return x\n",
    "        \"\"\"\n",
    "        def pack(func):\n",
    "            @functools.wraps(func)\n",
    "            def wrapper(*args, **kwargs):\n",
    "                with gr.Blocks() as demo:\n",
    "                    result = func(*args, **kwargs)\n",
    "                    demo.launch(**gradio_kwargs)\n",
    "                return result\n",
    "            return wrapper\n",
    "        return pack\n",
    "\n",
    "\n",
    "\n",
    "def interface(name='use'):\n",
    "    \"\"\"\n",
    "    快速生成 聊天页面\n",
    "    params name : 标签页\n",
    "\n",
    "    for example:\n",
    "        @interface('标签页')\n",
    "        def chat(input):\n",
    "            return 'output'\n",
    "    \"\"\"\n",
    "    def pack(func):\n",
    "        @functools.wraps(func)\n",
    "        def wrapper(*args, **kwargs):\n",
    "            with gr.Tab(name):\n",
    "                gr.Interface(func, inputs='text', outputs='text')\n",
    "        return wrapper\n",
    "    return pack\n"
   ]
  }
 ],
 "metadata": {
  "kernelspec": {
   "display_name": "Python 3 (ipykernel)",
   "language": "python",
   "name": "python3"
  },
  "language_info": {
   "codemirror_mode": {
    "name": "ipython",
    "version": 3
   },
   "file_extension": ".py",
   "mimetype": "text/x-python",
   "name": "python",
   "nbconvert_exporter": "python",
   "pygments_lexer": "ipython3",
   "version": "3.10.14"
  }
 },
 "nbformat": 4,
 "nbformat_minor": 5
}
