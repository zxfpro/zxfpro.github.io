{
 "cells": [
  {
   "cell_type": "markdown",
   "id": "b008a6de-c010-4f96-9ea8-e3e28e504fc7",
   "metadata": {},
   "source": [
    "# 中级算法10"
   ]
  },
  {
   "cell_type": "markdown",
   "id": "c8c1f89f-504e-4ec8-bdc3-26a94967cb3d",
   "metadata": {},
   "source": [
    "给定一个全是小写字母的字符串str  删除多余字符, 使得每种字符只保留一个, \n",
    "\n",
    "并让最终结果字符串的字典序最小\n",
    "举例\n",
    "\n",
    "Str = ‘acbc’ 删掉第一个’c’ , 得到 ‘abc’, 是所有结果字符串中字典序最小的.\n",
    "Str = ‘dbcacbca’ 删掉第一个’b’ 第一个 ‘c’ 第二个 ‘c’ 第二个 ‘a’, 得到 ‘abdc’ 是所有结果字符中字典序最小的"
   ]
  },
  {
   "cell_type": "code",
   "execution_count": 68,
   "id": "092234ca-1592-4874-9763-f4efe690cb95",
   "metadata": {
    "tags": []
   },
   "outputs": [
    {
     "name": "stdout",
     "output_type": "stream",
     "text": [
      "{'a': 2, 'j': 2, 's': 3, 'k': 3, 'l': 4, 'd': 2, 'c': 1, 'n': 1, 'g': 1, 'f': 1}\n",
      "acngdfjkls\n"
     ]
    }
   ],
   "source": [
    "def smallest_subsequence(str):\n",
    "    # 记录每个字符的出现次数\n",
    "    char_count = {}\n",
    "    for c in str:\n",
    "        if c in char_count:\n",
    "            char_count[c] += 1\n",
    "        else:\n",
    "            char_count[c] = 1\n",
    "    print(char_count)\n",
    "    # 栈用于存储最终结果\n",
    "    stack = []\n",
    "    # 记录栈中是否包含某个字符\n",
    "    in_stack = set()\n",
    "\n",
    "    for c in str:\n",
    "        # 每遍历一个字符，出现次数减1\n",
    "        char_count[c] -= 1\n",
    "\n",
    "        # 如果字符已经在栈中，跳过\n",
    "        if c in in_stack:\n",
    "            continue\n",
    "\n",
    "        # 如果栈顶字符比当前字符大，且栈顶字符在后面还会出现，则弹出栈顶字符\n",
    "        while stack and stack[-1] > c and char_count[stack[-1]] > 0:\n",
    "            removed_char = stack.pop()\n",
    "            in_stack.remove(removed_char)\n",
    "\n",
    "        # 将当前字符压入栈中，并标记为在栈中\n",
    "        stack.append(c)\n",
    "        in_stack.add(c)\n",
    "\n",
    "    # 将栈中的字符拼接成字符串并返回\n",
    "    return ''.join(stack)\n",
    "\n",
    "# 测试\n",
    "print(smallest_subsequence('ajskldcnlgalsdfkjkls'))"
   ]
  },
  {
   "cell_type": "code",
   "execution_count": null,
   "id": "9f775e2f-7f64-4fa2-a222-06ea3c522a5d",
   "metadata": {},
   "outputs": [],
   "source": [
    "栈"
   ]
  },
  {
   "cell_type": "code",
   "execution_count": 64,
   "id": "7854f8af-9cd3-4070-a043-c4a482d875ab",
   "metadata": {
    "tags": []
   },
   "outputs": [
    {
     "name": "stdout",
     "output_type": "stream",
     "text": [
      "True\n",
      "False\n",
      "True\n",
      "False\n"
     ]
    }
   ],
   "source": [
    "def is_valid(s):\n",
    "    stack = []\n",
    "    bracket_map = {')': '(', ']': '[', '}': '{'}\n",
    "    \n",
    "    for char in s:\n",
    "        if char in bracket_map.values():\n",
    "            # 如果是左括号，压入栈中\n",
    "            stack.append(char)\n",
    "        elif char in bracket_map:\n",
    "            # 如果是右括号，检查栈是否为空并匹配\n",
    "            if stack and stack[-1] == bracket_map[char]:\n",
    "                stack.pop()\n",
    "            else:\n",
    "                return False\n",
    "        else:\n",
    "            # 如果遇到不认识的符号，可以忽略或处理错误\n",
    "            continue\n",
    "    \n",
    "    # 检查栈是否为空\n",
    "    return not stack\n",
    "\n",
    "# 测试案例\n",
    "print(is_valid(\"()[]{}\"))   # 输出: True\n",
    "print(is_valid(\"(]\"))       # 输出: False\n",
    "print(is_valid(\"([{}])\"))   # 输出: True\n",
    "print(is_valid(\"(\"))     # 输出: False\n"
   ]
  },
  {
   "cell_type": "code",
   "execution_count": null,
   "id": "f98ef6e3-f94d-4c9c-9270-bca3967f6742",
   "metadata": {},
   "outputs": [],
   "source": []
  },
  {
   "cell_type": "code",
   "execution_count": null,
   "id": "450ab130-4a29-49cd-8ace-17d7193032ef",
   "metadata": {},
   "outputs": [],
   "source": [
    "栈的使用需要考虑两个规则\n",
    "\n",
    "一个是入栈规则\n",
    "一个是出栈规则"
   ]
  },
  {
   "cell_type": "code",
   "execution_count": null,
   "id": "a8098f95-2a8f-4acc-a43a-1ba769c9bc4b",
   "metadata": {},
   "outputs": [],
   "source": []
  },
  {
   "cell_type": "code",
   "execution_count": 49,
   "id": "efce4ede-79ee-4831-a4db-5cfcb5eac7aa",
   "metadata": {},
   "outputs": [],
   "source": [
    "class shed():\n",
    "    def __init__(self):\n",
    "        self.context = []\n",
    "        \n",
    "    def inputs(self,x):\n",
    "        self.context.append(x)\n",
    "        \n",
    "    def outputs(self):\n",
    "        if self.context:\n",
    "            return self.context.pop(-1)\n",
    "        else:\n",
    "            return None\n",
    "        \n",
    "    def watch_top(self):\n",
    "        return self.context[-1]\n",
    "        \n",
    "    def lens(self):\n",
    "        return len(self.context)"
   ]
  },
  {
   "cell_type": "code",
   "execution_count": 50,
   "id": "523cf9fd-2fd7-40f9-a157-0290af280427",
   "metadata": {},
   "outputs": [],
   "source": [
    "aa = shed()"
   ]
  },
  {
   "cell_type": "code",
   "execution_count": 51,
   "id": "cc054e25-2100-4ce0-b48e-274eea8429c3",
   "metadata": {
    "tags": []
   },
   "outputs": [],
   "source": [
    "bb = []"
   ]
  },
  {
   "cell_type": "code",
   "execution_count": 52,
   "id": "22a75767-e17a-4c62-b9ad-2dd4a920b0f3",
   "metadata": {
    "tags": []
   },
   "outputs": [],
   "source": [
    "xx = \"ajskldcnlgalsdfkjkls\""
   ]
  },
  {
   "cell_type": "code",
   "execution_count": null,
   "id": "b3688cbc-81a6-4150-934f-09a78aa20e7b",
   "metadata": {},
   "outputs": [],
   "source": [
    "就好像武士刀对砍  和  红蓝白鬼的场景"
   ]
  },
  {
   "cell_type": "code",
   "execution_count": null,
   "id": "64690376-344e-4622-a8db-df811c7b6bcc",
   "metadata": {},
   "outputs": [],
   "source": []
  },
  {
   "cell_type": "code",
   "execution_count": null,
   "id": "cfd5aa59-b907-45ad-b9a7-99f67f70df23",
   "metadata": {},
   "outputs": [],
   "source": []
  },
  {
   "cell_type": "markdown",
   "id": "1fe5c7f9-0215-461e-940c-82fb2646c157",
   "metadata": {},
   "source": [
    "题目4\n",
    "在一个字符串找到没有重复字符子串中最长的长度\n",
    "例如:\n",
    "Abcabcbb没有重复字符的最长子串是abc 长度为3\n",
    "Bbbbb 答案是b 长度为1\n",
    "pwwkew 答案是wke 长度是3\n",
    "要求: 答案必须是子串, ‘pwke’ 是一个子字符序列但不是一个子字符串"
   ]
  },
  {
   "cell_type": "code",
   "execution_count": 75,
   "id": "2549827b-b349-4c8d-b251-e56dc5452cd5",
   "metadata": {
    "tags": []
   },
   "outputs": [],
   "source": [
    "# 滑动窗口法\n",
    "def length_of_longest_substring(s: str) -> int:\n",
    "    # 存储字符及其最后出现的位置\n",
    "    char_index_map = {}\n",
    "    max_length = 0\n",
    "    left = 0\n",
    "    \n",
    "    for right, char in enumerate(s):\n",
    "        print(right)\n",
    "        print(char)\n",
    "        if char in char_index_map and char_index_map[char] >= left:\n",
    "            # 如果字符重复，移动左指针\n",
    "            left = char_index_map[char] + 1\n",
    "        # 更新字符的最新位置\n",
    "        char_index_map[char] = right\n",
    "        # 计算当前无重复字符子串的长度\n",
    "        max_length = max(max_length, right - left + 1)\n",
    "    \n",
    "    return max_length\n"
   ]
  },
  {
   "cell_type": "code",
   "execution_count": 77,
   "id": "a8db1324-0306-4b17-b738-a4553be5ffde",
   "metadata": {
    "tags": []
   },
   "outputs": [],
   "source": [
    "# 动态规划算法\n",
    "def length_of_longest_substring(s: str) -> int:\n",
    "    if not s:\n",
    "        return 0\n",
    "    \n",
    "    n = len(s)\n",
    "    dp = [0] * n\n",
    "    last_seen = {}\n",
    "    dp[0] = 1\n",
    "    last_seen[s[0]] = 0\n",
    "    \n",
    "    for i in range(1, n):\n",
    "        if s[i] in last_seen:\n",
    "            dp[i] = min(i - last_seen[s[i]], dp[i - 1] + 1)\n",
    "        else:\n",
    "            dp[i] = dp[i - 1] + 1\n",
    "        last_seen[s[i]] = i\n",
    "    \n",
    "    return max(dp)\n"
   ]
  },
  {
   "cell_type": "code",
   "execution_count": 78,
   "id": "b3df0091-8d75-43fc-82cb-8ac803132450",
   "metadata": {
    "tags": []
   },
   "outputs": [
    {
     "data": {
      "text/plain": [
       "1"
      ]
     },
     "execution_count": 78,
     "metadata": {},
     "output_type": "execute_result"
    }
   ],
   "source": [
    "length_of_longest_substring('bbbbbb')"
   ]
  },
  {
   "cell_type": "code",
   "execution_count": null,
   "id": "8649a572-22e6-43fe-9f98-28aef0edae97",
   "metadata": {},
   "outputs": [],
   "source": []
  },
  {
   "cell_type": "code",
   "execution_count": null,
   "id": "44cdff63-d895-44e3-87ca-e09454a6a03f",
   "metadata": {},
   "outputs": [],
   "source": []
  },
  {
   "cell_type": "code",
   "execution_count": null,
   "id": "b959671c-60ed-47dd-98e1-86d6b2c16896",
   "metadata": {},
   "outputs": [],
   "source": []
  },
  {
   "cell_type": "markdown",
   "id": "2da56d79-d426-4d17-a921-b6c787046c14",
   "metadata": {},
   "source": [
    "题目2\n",
    "给定一个只由 0 1 & |  ^ 五种字符组成的字符串express, 再给定一个布尔值 desired.  返回express 能有多少种组合方式,可以达到desired的结果\n",
    "举例\n",
    "express=\"1^0|0|1\", desired=false\n",
    "只有1^（（010）11）和 1^（0|（0|1））的组合可以得到 false，返回 2。\n",
    "express=\"1\"，desired=false\n",
    "无组合则可以得到false，返回o"
   ]
  },
  {
   "cell_type": "code",
   "execution_count": 79,
   "id": "6c5f80e4-cec5-49ac-bb7c-3061ac60d4eb",
   "metadata": {
    "tags": []
   },
   "outputs": [],
   "source": [
    "express=\"1^0|0|1\""
   ]
  },
  {
   "cell_type": "code",
   "execution_count": 84,
   "id": "81b22188-1b2e-4879-aee9-522b9fbd0bc8",
   "metadata": {
    "tags": []
   },
   "outputs": [
    {
     "data": {
      "text/plain": [
       "False"
      ]
     },
     "execution_count": 84,
     "metadata": {},
     "output_type": "execute_result"
    }
   ],
   "source": [
    "1^0|0|1 == False"
   ]
  },
  {
   "cell_type": "code",
   "execution_count": null,
   "id": "73cb382e-f90d-4339-ae1b-33e8f8c1c8bd",
   "metadata": {},
   "outputs": [],
   "source": []
  },
  {
   "cell_type": "code",
   "execution_count": null,
   "id": "54091a21-5a99-46b0-91d9-ab1fdd828d0d",
   "metadata": {},
   "outputs": [],
   "source": []
  },
  {
   "cell_type": "code",
   "execution_count": null,
   "id": "36dc5961-c5d1-4e98-822d-d1359f594c2f",
   "metadata": {},
   "outputs": [],
   "source": []
  },
  {
   "cell_type": "markdown",
   "id": "c866ced5-7c3d-42d7-b4d1-95fc9e1b27ac",
   "metadata": {
    "tags": []
   },
   "source": [
    "## 中级算法9 "
   ]
  },
  {
   "cell_type": "code",
   "execution_count": null,
   "id": "0cbbe39e-8184-4ddc-bd89-ad221bf38323",
   "metadata": {},
   "outputs": [],
   "source": [
    "给定两个字符串str1和str2，再给定三个整数ic、dc和rC，分别代表插入、删除和替换一个字符的代价，返回将str1编辑成str2的最小代价。\n",
    "【举例】\n",
    "str1=\"abo\", str2=\"ado\", ic=5, do=3, ro=2\n",
    "从“abc\"编辑成“adc”，把'b’替换成'd’是代价最小的，所以返回2\n",
    "str1=\"abc\", str2=\"ado\", ic=5, do=3, ro=100\n",
    "从“abc\"编辑成“adc”，先删除'b’，然后插入'd'是代价最小的，所以返回8\n",
    "str1=\"abc\"，str2=\"abc\"，ic=5, de=3, ro=2\n",
    "不用编辑了，本来就是一样的字符串，所以返回0"
   ]
  },
  {
   "cell_type": "code",
   "execution_count": null,
   "id": "2fee0dcb-1c8a-42c1-a4d5-c21b7311fccf",
   "metadata": {},
   "outputs": [],
   "source": []
  },
  {
   "cell_type": "code",
   "execution_count": null,
   "id": "bf025509-d7e0-426f-bd1e-f2319453f661",
   "metadata": {},
   "outputs": [],
   "source": [
    "最小子问题:\n",
    "    计算变化到目标的代价\n",
    "    \n"
   ]
  },
  {
   "cell_type": "code",
   "execution_count": null,
   "id": "b8473f72-1f04-4b4e-8ae3-55146684ce52",
   "metadata": {},
   "outputs": [],
   "source": []
  },
  {
   "cell_type": "code",
   "execution_count": null,
   "id": "4e98d3bb-5c70-4dcb-8482-5e915b7a8d0e",
   "metadata": {},
   "outputs": [],
   "source": []
  },
  {
   "cell_type": "code",
   "execution_count": 99,
   "id": "115e7e96-bd5c-42c6-b341-fb2a7b5fad6c",
   "metadata": {
    "tags": []
   },
   "outputs": [
    {
     "name": "stdout",
     "output_type": "stream",
     "text": [
      "11\n",
      "18\n",
      "10\n"
     ]
    }
   ],
   "source": [
    "def min_edit_cost(str1, str2, ic, dc, rc):\n",
    "    m, n = len(str1), len(str2)\n",
    "    dp = [[0] * (n + 1) for _ in range(m + 1)]\n",
    "    \n",
    "    # 初始化边界条件\n",
    "    for i in range(m + 1):\n",
    "        dp[i][0] = i * dc\n",
    "    for j in range(n + 1):\n",
    "        dp[0][j] = j * ic\n",
    "    \n",
    "    # 动态规划填充 dp 数组\n",
    "    for i in range(1, m + 1):\n",
    "        for j in range(1, n + 1):\n",
    "            if str1[i - 1] == str2[j - 1]:\n",
    "                dp[i][j] = dp[i - 1][j - 1]\n",
    "            else:\n",
    "                dp[i][j] = min(dp[i - 1][j - 1] + rc,  # 替换\n",
    "                               dp[i - 1][j] + dc,      # 删除\n",
    "                               dp[i][j - 1] + ic)      # 插入\n",
    "    \n",
    "    return dp[m][n]\n",
    "\n",
    "# 示例用法\n",
    "print(min_edit_cost(\"abo\", \"scvg\", 5, 3, 2))  # 输出: 2\n",
    "print(min_edit_cost(\"abc\", \"adcco\", 5, 3, 100))  # 输出: 8\n",
    "print(min_edit_cost(\"abc\", \"abxxc\", 5, 3, 2))  # 输出: 0\n"
   ]
  },
  {
   "cell_type": "code",
   "execution_count": null,
   "id": "460bec33-081d-4f97-8bdb-fefdd40f50e3",
   "metadata": {},
   "outputs": [],
   "source": [
    "解决具有 重叠子问题或者最优子结构性质的问题\n",
    "\n",
    "\n"
   ]
  },
  {
   "cell_type": "code",
   "execution_count": null,
   "id": "12deaa06-eeb1-465f-8763-e6b61b966d6d",
   "metadata": {},
   "outputs": [],
   "source": []
  },
  {
   "cell_type": "code",
   "execution_count": null,
   "id": "dd39a475-b7e5-4125-a99f-19ce617e12bb",
   "metadata": {},
   "outputs": [],
   "source": []
  },
  {
   "cell_type": "code",
   "execution_count": 92,
   "id": "27270159-a067-4006-b577-dfc0d6a08d94",
   "metadata": {
    "tags": []
   },
   "outputs": [
    {
     "name": "stdout",
     "output_type": "stream",
     "text": [
      "8\n"
     ]
    }
   ],
   "source": [
    "def fibonacci(n):\n",
    "    if n <= 1:\n",
    "        return n\n",
    "    fib = [0] * (n + 1)\n",
    "    fib[1] = 1\n",
    "    for i in range(2, n + 1):\n",
    "        fib[i] = fib[i - 1] + fib[i - 2]\n",
    "    return fib[n]\n",
    "\n",
    "print(fibonacci(6))  # 输出: 55\n"
   ]
  },
  {
   "cell_type": "code",
   "execution_count": null,
   "id": "458749cf-c3ed-4519-903b-a265b9f0ca6b",
   "metadata": {},
   "outputs": [],
   "source": []
  },
  {
   "cell_type": "code",
   "execution_count": null,
   "id": "d600496c-e8b1-4b62-86fb-88523bf79987",
   "metadata": {},
   "outputs": [],
   "source": []
  },
  {
   "cell_type": "code",
   "execution_count": null,
   "id": "750cef13-4600-4454-90d6-e11ddc69a667",
   "metadata": {},
   "outputs": [],
   "source": [
    "算法的本质核心在于解决能不能的问题,所以不应该割裂的看\n",
    "\n",
    "成套路的方法也叫算法\n",
    "时间复杂度优化也叫算法\n",
    "机器学习属于算法中的一种,是偏数据型的算法\n",
    "而深度学习则是更高维的算法\n",
    "\n"
   ]
  },
  {
   "cell_type": "code",
   "execution_count": null,
   "id": "3e62fc1b-8723-4f5b-866f-b84dbe74ff9a",
   "metadata": {},
   "outputs": [],
   "source": []
  },
  {
   "cell_type": "code",
   "execution_count": null,
   "id": "eb924f73-4437-4514-bc11-d47db9675a0f",
   "metadata": {},
   "outputs": [],
   "source": []
  },
  {
   "cell_type": "code",
   "execution_count": null,
   "id": "f18e8fdc-ce81-45ec-9122-0eedbfae4c43",
   "metadata": {},
   "outputs": [],
   "source": [
    "给定一个整数数组A，长度为n_有1 <=ACi］＜=n，且对于［1.nJ的整数，其中部分整数会重复出现而部分不会出现。\n",
    "实现算法找到［1.n］中所有未出现在A中的整数。\n",
    "提示：尝试实现0（n）的时间复杂度和0（1）的空间复杂度（返回值不计入空间复杂度）。\n",
    "输入描述：\n",
    "一行数字，全部为整数，空格分隔\n",
    "AO A1 A2 A3...\n",
    "输出描述：\n",
    "一行数字，全部为整数，空格分隔RO R1 R2 R3..\n",
    "示例1：\n",
    "输入\n",
    "1 343\n",
    "输出 2"
   ]
  },
  {
   "cell_type": "code",
   "execution_count": 101,
   "id": "598dc631-2548-4318-992c-75890ec391cb",
   "metadata": {
    "tags": []
   },
   "outputs": [
    {
     "name": "stdin",
     "output_type": "stream",
     "text": [
      " 2 578\n"
     ]
    },
    {
     "name": "stdout",
     "output_type": "stream",
     "text": [
      "1\n"
     ]
    }
   ],
   "source": [
    "def find_missing_numbers(A):\n",
    "    n = len(A)\n",
    "    # Mark the presence of each number\n",
    "    for i in range(n):\n",
    "        val = abs(A[i])\n",
    "        if 1 <= val <= n:\n",
    "            # Mark the corresponding index negative\n",
    "            if A[val - 1] > 0:\n",
    "                A[val - 1] = -A[val - 1]\n",
    "\n",
    "    # Collect the indices of positive values, which are the missing numbers\n",
    "    missing_numbers = []\n",
    "    for i in range(n):\n",
    "        if A[i] > 0:\n",
    "            missing_numbers.append(i + 1)\n",
    "\n",
    "    return missing_numbers\n",
    "\n",
    "# 读取输入\n",
    "input_str = input()\n",
    "A = list(map(int, input_str.split()))\n",
    "\n",
    "# 找出缺失的数字\n",
    "missing = find_missing_numbers(A)\n",
    "\n",
    "# 输出结果\n",
    "print(\" \".join(map(str, missing)))\n"
   ]
  },
  {
   "cell_type": "code",
   "execution_count": null,
   "id": "95963e96-7f0b-485d-b9e3-4a8b23d064c3",
   "metadata": {},
   "outputs": [],
   "source": []
  },
  {
   "cell_type": "code",
   "execution_count": null,
   "id": "86faff75-fd43-4391-b1e3-7fa5007f2ea3",
   "metadata": {},
   "outputs": [],
   "source": [
    "小Q得到一个神奇的数列：1. 12. 123..12345678910,1234567891011..•并且小Q对于能否被3整除这个性质很感兴趣。\n",
    "小Q现在希望你能帮他计算一下从数列的第I个到第r个（包含端点）有多少个数可以被3整除。\n",
    "输入描述：\n",
    "输入包括两个整数I和r(1<=I<=r<=1e9),表示要求解的区间两端。\n",
    "输出描述：\n",
    "输出一个整数，表示区间内能被3整除的数字个数。\n",
    "示例1：\n",
    "输入\n",
    "2 5\n",
    "输出\n",
    "3\n",
    "解题思路：判断一个数能不能被3整除，等价于一个数的每位之和能否被3整除。\n",
    "刚开始想打表，但发现数据量是1e9，一维数组最多只能开到1e8.\n",
    "所以就纯暴力判断了，不过数据是有规律的，第一个数是1、第二个数是12，第三个数是123，\n",
    "所以只用判断n*（n+1）/2%3即可。因为数量太大了，所以用long long"
   ]
  },
  {
   "cell_type": "code",
   "execution_count": null,
   "id": "86a49f27-cc8c-472c-b75a-5d145a39a776",
   "metadata": {},
   "outputs": [],
   "source": []
  },
  {
   "cell_type": "code",
   "execution_count": 112,
   "id": "e2ccb1f3-8c31-450e-92e3-42a627b59c58",
   "metadata": {
    "tags": []
   },
   "outputs": [
    {
     "name": "stdout",
     "output_type": "stream",
     "text": [
      "66670\n"
     ]
    }
   ],
   "source": [
    "def count_divisible_by_3(l, r):\n",
    "    count = 0\n",
    "    for n in range(l, r + 1):\n",
    "        if n % 3 == 0 or (n + 1) % 3 == 0:\n",
    "            count += 1\n",
    "    return count\n",
    "\n",
    "# 示例用法\n",
    "l = 2\n",
    "r = 100005\n",
    "result = count_divisible_by_3(l, r)\n",
    "print(result)  # 输出: 3\n"
   ]
  },
  {
   "cell_type": "code",
   "execution_count": null,
   "id": "1511f1ce-0cb1-49d0-9fb8-3508549be170",
   "metadata": {},
   "outputs": [],
   "source": []
  },
  {
   "cell_type": "code",
   "execution_count": null,
   "id": "ac8d9657-87d0-430d-8311-c3f94e0bd786",
   "metadata": {},
   "outputs": [],
   "source": [
    "2 5\n",
    "3\n"
   ]
  },
  {
   "cell_type": "code",
   "execution_count": null,
   "id": "a7a5d4c3-0b9a-4b74-9ef7-e84be52ca16b",
   "metadata": {},
   "outputs": [],
   "source": [
    "12 123 1234 12345"
   ]
  },
  {
   "cell_type": "code",
   "execution_count": 140,
   "id": "f9c026a9-ce53-4393-a257-2528404ab230",
   "metadata": {
    "tags": []
   },
   "outputs": [
    {
     "data": {
      "text/plain": [
       "45.333333333333336"
      ]
     },
     "execution_count": 140,
     "metadata": {},
     "output_type": "execute_result"
    }
   ],
   "source": [
    "(1+2+3+4+5+6+7+8+9+10+11+12+13+14+15+16)/3"
   ]
  },
  {
   "cell_type": "code",
   "execution_count": 141,
   "id": "6b5ff343-3b55-4451-8765-94b40edb5b6b",
   "metadata": {
    "tags": []
   },
   "outputs": [
    {
     "data": {
      "text/plain": [
       "24.333333333333332"
      ]
     },
     "execution_count": 141,
     "metadata": {},
     "output_type": "execute_result"
    }
   ],
   "source": [
    "(1+2+3+4+5+6+7+8+9+1+0+1+1+1+2+1+3+1+4+1+5+1+6)/3"
   ]
  },
  {
   "cell_type": "code",
   "execution_count": 142,
   "id": "65c5f74a-9731-42d6-8675-1d94f7f0a3f0",
   "metadata": {
    "tags": []
   },
   "outputs": [
    {
     "data": {
      "text/plain": [
       "1"
      ]
     },
     "execution_count": 142,
     "metadata": {},
     "output_type": "execute_result"
    }
   ],
   "source": [
    "12345678910111213141516%3"
   ]
  },
  {
   "cell_type": "code",
   "execution_count": null,
   "id": "9eda46f7-33c7-4499-a3a6-0c8950e85d4e",
   "metadata": {},
   "outputs": [],
   "source": []
  },
  {
   "cell_type": "code",
   "execution_count": null,
   "id": "15e42e0c-923e-42e5-8208-7120818ee0fd",
   "metadata": {},
   "outputs": [],
   "source": []
  },
  {
   "cell_type": "code",
   "execution_count": 105,
   "id": "16e7ec6b-f172-46fc-aae6-a0111c8cc911",
   "metadata": {
    "tags": []
   },
   "outputs": [
    {
     "data": {
      "text/plain": [
       "4115.0"
      ]
     },
     "execution_count": 105,
     "metadata": {},
     "output_type": "execute_result"
    }
   ],
   "source": [
    "3"
   ]
  },
  {
   "cell_type": "code",
   "execution_count": null,
   "id": "ac3de123-5166-4b83-a682-ab6acae62751",
   "metadata": {},
   "outputs": [],
   "source": [
    "3: 判断一个数能不能被3整除，等价于一个数的每位之和能否被3整除\n",
    "9: 对于一个整数来说，若它的每一位的数字之和能被 9 整除，则这个整数本身也能被 9 整除。这个性质类似于数字 3 的性质。\n",
    "11: 对于一个整数来说，若它的数字的奇数位之和与偶数位之和的差能被 11 整除，则这个整数本身也能被 11 整除。这种性质也称为“11 的整除规则”。\n",
    "10: 对于一个整数，它的最后一位（个位）能确定它是否能被 10 整除。如果个位数字是 0，那么这个数字能被 10 整除。\n",
    "7: 对于 7，检查一个数字是否能被 7 整除没有简单的数字和规则，但有一个类似的过程，通过分解数字和进行一些运算（例如移位、减法等）可以判断。\n",
    "12: 一个数字能否被 12 整除，等价于它能被 3 和 4 同时整除。因此，可以分别检查数字的每一位和是否能被 3 整除，以及最后两位是否能被 4 整除。"
   ]
  },
  {
   "cell_type": "code",
   "execution_count": null,
   "id": "bb35a073-0a09-46b7-b85a-5a004a580f68",
   "metadata": {},
   "outputs": [],
   "source": [
    "判断一个数能不能被3整除，等价于一个数的每位之和能否被3整除"
   ]
  },
  {
   "cell_type": "code",
   "execution_count": null,
   "id": "6d476d90-3f4f-4f8a-893b-bda0897f60f7",
   "metadata": {},
   "outputs": [],
   "source": []
  },
  {
   "cell_type": "code",
   "execution_count": null,
   "id": "f3c25317-f82d-45d8-998a-2874a58d2f06",
   "metadata": {},
   "outputs": [],
   "source": []
  },
  {
   "cell_type": "code",
   "execution_count": null,
   "id": "f293694c-6836-4053-8288-fa8962def33b",
   "metadata": {},
   "outputs": [],
   "source": [
    "CC里面有一个土豪很喜欢一位女直播Kiki唱歌，平时就经常给她点赞、送礼、私脚。\n",
    "最近CC直播平台在举行中秋之星主播唱歌比赛，假设一开始该女主播的初始人气值为start，能够晋升下一轮人气需要刚好达到end，\n",
    "土豪给主播增加人气的可以采取的方法有：\n",
    "b 点赞 花费×C而，人气+2\n",
    "a. 送礼 花费y C币，人气 *2\n",
    "C. 私聊 花费z C币，人气-2\n",
    "\n",
    "其中 end 远大于start且end为偶数，请写一个程序帮助土豪计算一下，最少花费多少C币就能帮助该主播Kiki将人气刚好达到ed，从而能够晋级下一轮？\n",
    "输入描述：\n",
    "第一行输入5个数据，分别为：× y z start end，每项数据以空格分开。\n",
    "其中：0<x.y. 2<=10000,\n",
    "    O<start, end<=1000000\n",
    "输出描述：\n",
    "需要花费的最少C币。\n",
    "示例1：\n",
    "输入\n",
    "3 100 126\n",
    "输出\n",
    "6"
   ]
  },
  {
   "cell_type": "code",
   "execution_count": 144,
   "id": "90dbccac-8b6f-404e-a969-e15073298aac",
   "metadata": {
    "tags": []
   },
   "outputs": [
    {
     "name": "stdout",
     "output_type": "stream",
     "text": [
      "1055\n"
     ]
    }
   ],
   "source": [
    "from collections import deque\n",
    "\n",
    "def min_cost_to_reach_end(x, y, z, start, end):\n",
    "    # 特殊情况\n",
    "    if start == end:\n",
    "        return 0\n",
    "    \n",
    "    # 使用 deque 作为队列\n",
    "    queue = deque([(start, 0)])\n",
    "    visited = set([start])\n",
    "    \n",
    "    while queue:\n",
    "        current_popularity, current_cost = queue.popleft()\n",
    "        \n",
    "        # 执行三种操作\n",
    "        for next_popularity, cost in [(current_popularity + 2, x), (current_popularity * 2, y), (current_popularity - 2, z)]:\n",
    "            # 人气值不能小于 0\n",
    "            if next_popularity < 0:\n",
    "                continue\n",
    "            \n",
    "            # 找到目标人气值\n",
    "            if next_popularity == end:\n",
    "                return current_cost + cost\n",
    "            \n",
    "            # 如果没有访问过，或者访问过但是花费更少\n",
    "            if next_popularity not in visited:\n",
    "                visited.add(next_popularity)\n",
    "                queue.append((next_popularity, current_cost + cost))\n",
    "    \n",
    "    # 如果无法到达\n",
    "    return -1\n",
    "\n",
    "# 示例\n",
    "x, y, z, start, end = 3, 100, 126, 2, 1000\n",
    "print(min_cost_to_reach_end(x, y, z, start, end))\n"
   ]
  },
  {
   "cell_type": "code",
   "execution_count": null,
   "id": "63168391-ce2e-47ca-8ab9-2ccaf96f9a44",
   "metadata": {},
   "outputs": [],
   "source": []
  },
  {
   "cell_type": "code",
   "execution_count": null,
   "id": "864e799d-0d54-4c26-a56b-ebfc65ec0790",
   "metadata": {},
   "outputs": [],
   "source": [
    "3 100 126"
   ]
  },
  {
   "cell_type": "code",
   "execution_count": null,
   "id": "7bd743ff-1894-4798-8e91-32733c460cc3",
   "metadata": {},
   "outputs": [],
   "source": []
  },
  {
   "cell_type": "code",
   "execution_count": null,
   "id": "65450d7a-e6c7-477e-b4a0-aaf395a914d4",
   "metadata": {},
   "outputs": [],
   "source": []
  },
  {
   "cell_type": "markdown",
   "id": "bdd2db3d-63ff-4004-ad25-39ccb9f067f5",
   "metadata": {},
   "source": [
    "CG直攝的远营部门组织了很多远营活动，每个活动需要花费一定的时间参与，主攝每参加完一个活动即可得到一定的奖助，参与活动可以从任意活动开始，但一旦开始，就需要将后城活动参加完毕（注息：最后一个活动必须参与），\n",
    "活动之间存在一定的依赖英系（不存在环的情况），现在给出所有的活动时间与依赖关系，以及给出有限的时间，"
   ]
  }
 ],
 "metadata": {
  "kernelspec": {
   "display_name": "Python 3 (ipykernel)",
   "language": "python",
   "name": "python3"
  },
  "language_info": {
   "codemirror_mode": {
    "name": "ipython",
    "version": 3
   },
   "file_extension": ".py",
   "mimetype": "text/x-python",
   "name": "python",
   "nbconvert_exporter": "python",
   "pygments_lexer": "ipython3",
   "version": "3.10.14"
  }
 },
 "nbformat": 4,
 "nbformat_minor": 5
}
