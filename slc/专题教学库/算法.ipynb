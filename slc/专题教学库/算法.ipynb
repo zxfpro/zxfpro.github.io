{
 "cells": [
  {
   "cell_type": "markdown",
   "id": "b008a6de-c010-4f96-9ea8-e3e28e504fc7",
   "metadata": {},
   "source": [
    "# 算法"
   ]
  },
  {
   "cell_type": "markdown",
   "id": "c8c1f89f-504e-4ec8-bdc3-26a94967cb3d",
   "metadata": {},
   "source": [
    "给定一个全是小写字母的字符串str  删除多余字符, 使得每种字符只保留一个, \n",
    "\n",
    "并让最终结果字符串的字典序最小\n",
    "举例\n",
    "\n",
    "Str = ‘acbc’ 删掉第一个’c’ , 得到 ‘abc’, 是所有结果字符串中字典序最小的.\n",
    "Str = ‘dbcacbca’ 删掉第一个’b’ 第一个 ‘c’ 第二个 ‘c’ 第二个 ‘a’, 得到 ‘abdc’ 是所有结果字符中字典序最小的"
   ]
  },
  {
   "cell_type": "code",
   "execution_count": 68,
   "id": "092234ca-1592-4874-9763-f4efe690cb95",
   "metadata": {
    "tags": []
   },
   "outputs": [
    {
     "name": "stdout",
     "output_type": "stream",
     "text": [
      "{'a': 2, 'j': 2, 's': 3, 'k': 3, 'l': 4, 'd': 2, 'c': 1, 'n': 1, 'g': 1, 'f': 1}\n",
      "acngdfjkls\n"
     ]
    }
   ],
   "source": [
    "def smallest_subsequence(str):\n",
    "    # 记录每个字符的出现次数\n",
    "    char_count = {}\n",
    "    for c in str:\n",
    "        if c in char_count:\n",
    "            char_count[c] += 1\n",
    "        else:\n",
    "            char_count[c] = 1\n",
    "    print(char_count)\n",
    "    # 栈用于存储最终结果\n",
    "    stack = []\n",
    "    # 记录栈中是否包含某个字符\n",
    "    in_stack = set()\n",
    "\n",
    "    for c in str:\n",
    "        # 每遍历一个字符，出现次数减1\n",
    "        char_count[c] -= 1\n",
    "\n",
    "        # 如果字符已经在栈中，跳过\n",
    "        if c in in_stack:\n",
    "            continue\n",
    "\n",
    "        # 如果栈顶字符比当前字符大，且栈顶字符在后面还会出现，则弹出栈顶字符\n",
    "        while stack and stack[-1] > c and char_count[stack[-1]] > 0:\n",
    "            removed_char = stack.pop()\n",
    "            in_stack.remove(removed_char)\n",
    "\n",
    "        # 将当前字符压入栈中，并标记为在栈中\n",
    "        stack.append(c)\n",
    "        in_stack.add(c)\n",
    "\n",
    "    # 将栈中的字符拼接成字符串并返回\n",
    "    return ''.join(stack)\n",
    "\n",
    "# 测试\n",
    "print(smallest_subsequence('ajskldcnlgalsdfkjkls'))"
   ]
  },
  {
   "cell_type": "code",
   "execution_count": null,
   "id": "9f775e2f-7f64-4fa2-a222-06ea3c522a5d",
   "metadata": {},
   "outputs": [],
   "source": [
    "栈"
   ]
  },
  {
   "cell_type": "code",
   "execution_count": 64,
   "id": "7854f8af-9cd3-4070-a043-c4a482d875ab",
   "metadata": {
    "tags": []
   },
   "outputs": [
    {
     "name": "stdout",
     "output_type": "stream",
     "text": [
      "True\n",
      "False\n",
      "True\n",
      "False\n"
     ]
    }
   ],
   "source": [
    "def is_valid(s):\n",
    "    stack = []\n",
    "    bracket_map = {')': '(', ']': '[', '}': '{'}\n",
    "    \n",
    "    for char in s:\n",
    "        if char in bracket_map.values():\n",
    "            # 如果是左括号，压入栈中\n",
    "            stack.append(char)\n",
    "        elif char in bracket_map:\n",
    "            # 如果是右括号，检查栈是否为空并匹配\n",
    "            if stack and stack[-1] == bracket_map[char]:\n",
    "                stack.pop()\n",
    "            else:\n",
    "                return False\n",
    "        else:\n",
    "            # 如果遇到不认识的符号，可以忽略或处理错误\n",
    "            continue\n",
    "    \n",
    "    # 检查栈是否为空\n",
    "    return not stack\n",
    "\n",
    "# 测试案例\n",
    "print(is_valid(\"()[]{}\"))   # 输出: True\n",
    "print(is_valid(\"(]\"))       # 输出: False\n",
    "print(is_valid(\"([{}])\"))   # 输出: True\n",
    "print(is_valid(\"(\"))     # 输出: False\n"
   ]
  },
  {
   "cell_type": "code",
   "execution_count": null,
   "id": "f98ef6e3-f94d-4c9c-9270-bca3967f6742",
   "metadata": {},
   "outputs": [],
   "source": []
  },
  {
   "cell_type": "code",
   "execution_count": null,
   "id": "450ab130-4a29-49cd-8ace-17d7193032ef",
   "metadata": {},
   "outputs": [],
   "source": [
    "栈的使用需要考虑两个规则\n",
    "\n",
    "一个是入栈规则\n",
    "一个是出栈规则"
   ]
  },
  {
   "cell_type": "code",
   "execution_count": null,
   "id": "a8098f95-2a8f-4acc-a43a-1ba769c9bc4b",
   "metadata": {},
   "outputs": [],
   "source": []
  },
  {
   "cell_type": "code",
   "execution_count": 49,
   "id": "efce4ede-79ee-4831-a4db-5cfcb5eac7aa",
   "metadata": {},
   "outputs": [],
   "source": [
    "class shed():\n",
    "    def __init__(self):\n",
    "        self.context = []\n",
    "        \n",
    "    def inputs(self,x):\n",
    "        self.context.append(x)\n",
    "        \n",
    "    def outputs(self):\n",
    "        if self.context:\n",
    "            return self.context.pop(-1)\n",
    "        else:\n",
    "            return None\n",
    "        \n",
    "    def watch_top(self):\n",
    "        return self.context[-1]\n",
    "        \n",
    "    def lens(self):\n",
    "        return len(self.context)"
   ]
  },
  {
   "cell_type": "code",
   "execution_count": 50,
   "id": "523cf9fd-2fd7-40f9-a157-0290af280427",
   "metadata": {},
   "outputs": [],
   "source": [
    "aa = shed()"
   ]
  },
  {
   "cell_type": "code",
   "execution_count": 51,
   "id": "cc054e25-2100-4ce0-b48e-274eea8429c3",
   "metadata": {
    "tags": []
   },
   "outputs": [],
   "source": [
    "bb = []"
   ]
  },
  {
   "cell_type": "code",
   "execution_count": 52,
   "id": "22a75767-e17a-4c62-b9ad-2dd4a920b0f3",
   "metadata": {
    "tags": []
   },
   "outputs": [],
   "source": [
    "xx = \"ajskldcnlgalsdfkjkls\""
   ]
  },
  {
   "cell_type": "code",
   "execution_count": null,
   "id": "b3688cbc-81a6-4150-934f-09a78aa20e7b",
   "metadata": {},
   "outputs": [],
   "source": [
    "就好像武士刀对砍  和  红蓝白鬼的场景"
   ]
  },
  {
   "cell_type": "code",
   "execution_count": null,
   "id": "64690376-344e-4622-a8db-df811c7b6bcc",
   "metadata": {},
   "outputs": [],
   "source": []
  },
  {
   "cell_type": "code",
   "execution_count": null,
   "id": "cfd5aa59-b907-45ad-b9a7-99f67f70df23",
   "metadata": {},
   "outputs": [],
   "source": []
  },
  {
   "cell_type": "markdown",
   "id": "1fe5c7f9-0215-461e-940c-82fb2646c157",
   "metadata": {},
   "source": [
    "题目4\n",
    "在一个字符串找到没有重复字符子串中最长的长度\n",
    "例如:\n",
    "Abcabcbb没有重复字符的最长子串是abc 长度为3\n",
    "Bbbbb 答案是b 长度为1\n",
    "pwwkew 答案是wke 长度是3\n",
    "要求: 答案必须是子串, ‘pwke’ 是一个子字符序列但不是一个子字符串"
   ]
  },
  {
   "cell_type": "code",
   "execution_count": 75,
   "id": "2549827b-b349-4c8d-b251-e56dc5452cd5",
   "metadata": {
    "tags": []
   },
   "outputs": [],
   "source": [
    "# 滑动窗口法\n",
    "def length_of_longest_substring(s: str) -> int:\n",
    "    # 存储字符及其最后出现的位置\n",
    "    char_index_map = {}\n",
    "    max_length = 0\n",
    "    left = 0\n",
    "    \n",
    "    for right, char in enumerate(s):\n",
    "        print(right)\n",
    "        print(char)\n",
    "        if char in char_index_map and char_index_map[char] >= left:\n",
    "            # 如果字符重复，移动左指针\n",
    "            left = char_index_map[char] + 1\n",
    "        # 更新字符的最新位置\n",
    "        char_index_map[char] = right\n",
    "        # 计算当前无重复字符子串的长度\n",
    "        max_length = max(max_length, right - left + 1)\n",
    "    \n",
    "    return max_length\n"
   ]
  },
  {
   "cell_type": "code",
   "execution_count": 77,
   "id": "a8db1324-0306-4b17-b738-a4553be5ffde",
   "metadata": {
    "tags": []
   },
   "outputs": [],
   "source": [
    "# 动态规划算法\n",
    "def length_of_longest_substring(s: str) -> int:\n",
    "    if not s:\n",
    "        return 0\n",
    "    \n",
    "    n = len(s)\n",
    "    dp = [0] * n\n",
    "    last_seen = {}\n",
    "    dp[0] = 1\n",
    "    last_seen[s[0]] = 0\n",
    "    \n",
    "    for i in range(1, n):\n",
    "        if s[i] in last_seen:\n",
    "            dp[i] = min(i - last_seen[s[i]], dp[i - 1] + 1)\n",
    "        else:\n",
    "            dp[i] = dp[i - 1] + 1\n",
    "        last_seen[s[i]] = i\n",
    "    \n",
    "    return max(dp)\n"
   ]
  },
  {
   "cell_type": "code",
   "execution_count": 78,
   "id": "b3df0091-8d75-43fc-82cb-8ac803132450",
   "metadata": {
    "tags": []
   },
   "outputs": [
    {
     "data": {
      "text/plain": [
       "1"
      ]
     },
     "execution_count": 78,
     "metadata": {},
     "output_type": "execute_result"
    }
   ],
   "source": [
    "length_of_longest_substring('bbbbbb')"
   ]
  },
  {
   "cell_type": "code",
   "execution_count": null,
   "id": "8649a572-22e6-43fe-9f98-28aef0edae97",
   "metadata": {},
   "outputs": [],
   "source": []
  },
  {
   "cell_type": "code",
   "execution_count": null,
   "id": "44cdff63-d895-44e3-87ca-e09454a6a03f",
   "metadata": {},
   "outputs": [],
   "source": []
  },
  {
   "cell_type": "code",
   "execution_count": null,
   "id": "b959671c-60ed-47dd-98e1-86d6b2c16896",
   "metadata": {},
   "outputs": [],
   "source": []
  },
  {
   "cell_type": "markdown",
   "id": "2da56d79-d426-4d17-a921-b6c787046c14",
   "metadata": {},
   "source": [
    "题目2\n",
    "给定一个只由 0 1 & |  ^ 五种字符组成的字符串express, 再给定一个布尔值 desired.  返回express 能有多少种组合方式,可以达到desired的结果\n",
    "举例\n",
    "express=\"1^0|0|1\", desired=false\n",
    "只有1^（（010）11）和 1^（0|（0|1））的组合可以得到 false，返回 2。\n",
    "express=\"1\"，desired=false\n",
    "无组合则可以得到false，返回o"
   ]
  },
  {
   "cell_type": "code",
   "execution_count": 79,
   "id": "6c5f80e4-cec5-49ac-bb7c-3061ac60d4eb",
   "metadata": {
    "tags": []
   },
   "outputs": [],
   "source": [
    "express=\"1^0|0|1\""
   ]
  },
  {
   "cell_type": "code",
   "execution_count": 84,
   "id": "81b22188-1b2e-4879-aee9-522b9fbd0bc8",
   "metadata": {
    "tags": []
   },
   "outputs": [
    {
     "data": {
      "text/plain": [
       "False"
      ]
     },
     "execution_count": 84,
     "metadata": {},
     "output_type": "execute_result"
    }
   ],
   "source": [
    "1^0|0|1 == False"
   ]
  },
  {
   "cell_type": "code",
   "execution_count": null,
   "id": "73cb382e-f90d-4339-ae1b-33e8f8c1c8bd",
   "metadata": {},
   "outputs": [],
   "source": []
  },
  {
   "cell_type": "code",
   "execution_count": null,
   "id": "54091a21-5a99-46b0-91d9-ab1fdd828d0d",
   "metadata": {},
   "outputs": [],
   "source": []
  },
  {
   "cell_type": "code",
   "execution_count": null,
   "id": "36dc5961-c5d1-4e98-822d-d1359f594c2f",
   "metadata": {},
   "outputs": [],
   "source": []
  },
  {
   "cell_type": "markdown",
   "id": "c866ced5-7c3d-42d7-b4d1-95fc9e1b27ac",
   "metadata": {
    "tags": []
   },
   "source": [
    "## 中级算法9 "
   ]
  },
  {
   "cell_type": "code",
   "execution_count": null,
   "id": "0cbbe39e-8184-4ddc-bd89-ad221bf38323",
   "metadata": {},
   "outputs": [],
   "source": [
    "给定两个字符串str1和str2，再给定三个整数ic、dc和rC，分别代表插入、删除和替换一个字符的代价，返回将str1编辑成str2的最小代价。\n",
    "【举例】\n",
    "str1=\"abo\", str2=\"ado\", ic=5, do=3, ro=2\n",
    "从“abc\"编辑成“adc”，把'b’替换成'd’是代价最小的，所以返回2\n",
    "str1=\"abc\", str2=\"ado\", ic=5, do=3, ro=100\n",
    "从“abc\"编辑成“adc”，先删除'b’，然后插入'd'是代价最小的，所以返回8\n",
    "str1=\"abc\"，str2=\"abc\"，ic=5, de=3, ro=2\n",
    "不用编辑了，本来就是一样的字符串，所以返回0"
   ]
  },
  {
   "cell_type": "code",
   "execution_count": null,
   "id": "2fee0dcb-1c8a-42c1-a4d5-c21b7311fccf",
   "metadata": {},
   "outputs": [],
   "source": []
  },
  {
   "cell_type": "code",
   "execution_count": null,
   "id": "bf025509-d7e0-426f-bd1e-f2319453f661",
   "metadata": {},
   "outputs": [],
   "source": [
    "最小子问题:\n",
    "    计算变化到目标的代价\n",
    "    \n"
   ]
  },
  {
   "cell_type": "code",
   "execution_count": null,
   "id": "b8473f72-1f04-4b4e-8ae3-55146684ce52",
   "metadata": {},
   "outputs": [],
   "source": []
  },
  {
   "cell_type": "code",
   "execution_count": null,
   "id": "4e98d3bb-5c70-4dcb-8482-5e915b7a8d0e",
   "metadata": {},
   "outputs": [],
   "source": []
  },
  {
   "cell_type": "code",
   "execution_count": 99,
   "id": "115e7e96-bd5c-42c6-b341-fb2a7b5fad6c",
   "metadata": {
    "tags": []
   },
   "outputs": [
    {
     "name": "stdout",
     "output_type": "stream",
     "text": [
      "11\n",
      "18\n",
      "10\n"
     ]
    }
   ],
   "source": [
    "def min_edit_cost(str1, str2, ic, dc, rc):\n",
    "    m, n = len(str1), len(str2)\n",
    "    dp = [[0] * (n + 1) for _ in range(m + 1)]\n",
    "    \n",
    "    # 初始化边界条件\n",
    "    for i in range(m + 1):\n",
    "        dp[i][0] = i * dc\n",
    "    for j in range(n + 1):\n",
    "        dp[0][j] = j * ic\n",
    "    \n",
    "    # 动态规划填充 dp 数组\n",
    "    for i in range(1, m + 1):\n",
    "        for j in range(1, n + 1):\n",
    "            if str1[i - 1] == str2[j - 1]:\n",
    "                dp[i][j] = dp[i - 1][j - 1]\n",
    "            else:\n",
    "                dp[i][j] = min(dp[i - 1][j - 1] + rc,  # 替换\n",
    "                               dp[i - 1][j] + dc,      # 删除\n",
    "                               dp[i][j - 1] + ic)      # 插入\n",
    "    \n",
    "    return dp[m][n]\n",
    "\n",
    "# 示例用法\n",
    "print(min_edit_cost(\"abo\", \"scvg\", 5, 3, 2))  # 输出: 2\n",
    "print(min_edit_cost(\"abc\", \"adcco\", 5, 3, 100))  # 输出: 8\n",
    "print(min_edit_cost(\"abc\", \"abxxc\", 5, 3, 2))  # 输出: 0\n"
   ]
  },
  {
   "cell_type": "code",
   "execution_count": null,
   "id": "460bec33-081d-4f97-8bdb-fefdd40f50e3",
   "metadata": {},
   "outputs": [],
   "source": [
    "解决具有 重叠子问题或者最优子结构性质的问题\n",
    "\n",
    "\n"
   ]
  },
  {
   "cell_type": "code",
   "execution_count": null,
   "id": "12deaa06-eeb1-465f-8763-e6b61b966d6d",
   "metadata": {},
   "outputs": [],
   "source": []
  },
  {
   "cell_type": "code",
   "execution_count": null,
   "id": "dd39a475-b7e5-4125-a99f-19ce617e12bb",
   "metadata": {},
   "outputs": [],
   "source": []
  },
  {
   "cell_type": "code",
   "execution_count": 92,
   "id": "27270159-a067-4006-b577-dfc0d6a08d94",
   "metadata": {
    "tags": []
   },
   "outputs": [
    {
     "name": "stdout",
     "output_type": "stream",
     "text": [
      "8\n"
     ]
    }
   ],
   "source": [
    "def fibonacci(n):\n",
    "    if n <= 1:\n",
    "        return n\n",
    "    fib = [0] * (n + 1)\n",
    "    fib[1] = 1\n",
    "    for i in range(2, n + 1):\n",
    "        fib[i] = fib[i - 1] + fib[i - 2]\n",
    "    return fib[n]\n",
    "\n",
    "print(fibonacci(6))  # 输出: 55\n"
   ]
  },
  {
   "cell_type": "code",
   "execution_count": null,
   "id": "458749cf-c3ed-4519-903b-a265b9f0ca6b",
   "metadata": {},
   "outputs": [],
   "source": []
  },
  {
   "cell_type": "code",
   "execution_count": null,
   "id": "d600496c-e8b1-4b62-86fb-88523bf79987",
   "metadata": {},
   "outputs": [],
   "source": []
  },
  {
   "cell_type": "code",
   "execution_count": null,
   "id": "750cef13-4600-4454-90d6-e11ddc69a667",
   "metadata": {},
   "outputs": [],
   "source": [
    "算法的本质核心在于解决能不能的问题,所以不应该割裂的看\n",
    "\n",
    "成套路的方法也叫算法\n",
    "时间复杂度优化也叫算法\n",
    "机器学习属于算法中的一种,是偏数据型的算法\n",
    "而深度学习则是更高维的算法\n",
    "\n"
   ]
  },
  {
   "cell_type": "code",
   "execution_count": null,
   "id": "3e62fc1b-8723-4f5b-866f-b84dbe74ff9a",
   "metadata": {},
   "outputs": [],
   "source": []
  },
  {
   "cell_type": "code",
   "execution_count": null,
   "id": "eb924f73-4437-4514-bc11-d47db9675a0f",
   "metadata": {},
   "outputs": [],
   "source": []
  },
  {
   "cell_type": "code",
   "execution_count": null,
   "id": "f18e8fdc-ce81-45ec-9122-0eedbfae4c43",
   "metadata": {},
   "outputs": [],
   "source": [
    "给定一个整数数组A，长度为n_有1 <=ACi］＜=n，且对于［1.nJ的整数，其中部分整数会重复出现而部分不会出现。\n",
    "实现算法找到［1.n］中所有未出现在A中的整数。\n",
    "提示：尝试实现0（n）的时间复杂度和0（1）的空间复杂度（返回值不计入空间复杂度）。\n",
    "输入描述：\n",
    "一行数字，全部为整数，空格分隔\n",
    "AO A1 A2 A3...\n",
    "输出描述：\n",
    "一行数字，全部为整数，空格分隔RO R1 R2 R3..\n",
    "示例1：\n",
    "输入\n",
    "1 343\n",
    "输出 2"
   ]
  },
  {
   "cell_type": "code",
   "execution_count": 101,
   "id": "598dc631-2548-4318-992c-75890ec391cb",
   "metadata": {
    "tags": []
   },
   "outputs": [
    {
     "name": "stdin",
     "output_type": "stream",
     "text": [
      " 2 578\n"
     ]
    },
    {
     "name": "stdout",
     "output_type": "stream",
     "text": [
      "1\n"
     ]
    }
   ],
   "source": [
    "def find_missing_numbers(A):\n",
    "    n = len(A)\n",
    "    # Mark the presence of each number\n",
    "    for i in range(n):\n",
    "        val = abs(A[i])\n",
    "        if 1 <= val <= n:\n",
    "            # Mark the corresponding index negative\n",
    "            if A[val - 1] > 0:\n",
    "                A[val - 1] = -A[val - 1]\n",
    "\n",
    "    # Collect the indices of positive values, which are the missing numbers\n",
    "    missing_numbers = []\n",
    "    for i in range(n):\n",
    "        if A[i] > 0:\n",
    "            missing_numbers.append(i + 1)\n",
    "\n",
    "    return missing_numbers\n",
    "\n",
    "# 读取输入\n",
    "input_str = input()\n",
    "A = list(map(int, input_str.split()))\n",
    "\n",
    "# 找出缺失的数字\n",
    "missing = find_missing_numbers(A)\n",
    "\n",
    "# 输出结果\n",
    "print(\" \".join(map(str, missing)))\n"
   ]
  },
  {
   "cell_type": "code",
   "execution_count": null,
   "id": "95963e96-7f0b-485d-b9e3-4a8b23d064c3",
   "metadata": {},
   "outputs": [],
   "source": []
  },
  {
   "cell_type": "code",
   "execution_count": null,
   "id": "86faff75-fd43-4391-b1e3-7fa5007f2ea3",
   "metadata": {},
   "outputs": [],
   "source": [
    "小Q得到一个神奇的数列：1. 12. 123..12345678910,1234567891011..•并且小Q对于能否被3整除这个性质很感兴趣。\n",
    "小Q现在希望你能帮他计算一下从数列的第I个到第r个（包含端点）有多少个数可以被3整除。\n",
    "输入描述：\n",
    "输入包括两个整数I和r(1<=I<=r<=1e9),表示要求解的区间两端。\n",
    "输出描述：\n",
    "输出一个整数，表示区间内能被3整除的数字个数。\n",
    "示例1：\n",
    "输入\n",
    "2 5\n",
    "输出\n",
    "3\n",
    "解题思路：判断一个数能不能被3整除，等价于一个数的每位之和能否被3整除。\n",
    "刚开始想打表，但发现数据量是1e9，一维数组最多只能开到1e8.\n",
    "所以就纯暴力判断了，不过数据是有规律的，第一个数是1、第二个数是12，第三个数是123，\n",
    "所以只用判断n*（n+1）/2%3即可。因为数量太大了，所以用long long"
   ]
  },
  {
   "cell_type": "code",
   "execution_count": null,
   "id": "86a49f27-cc8c-472c-b75a-5d145a39a776",
   "metadata": {},
   "outputs": [],
   "source": []
  },
  {
   "cell_type": "code",
   "execution_count": 112,
   "id": "e2ccb1f3-8c31-450e-92e3-42a627b59c58",
   "metadata": {
    "tags": []
   },
   "outputs": [
    {
     "name": "stdout",
     "output_type": "stream",
     "text": [
      "66670\n"
     ]
    }
   ],
   "source": [
    "def count_divisible_by_3(l, r):\n",
    "    count = 0\n",
    "    for n in range(l, r + 1):\n",
    "        if n % 3 == 0 or (n + 1) % 3 == 0:\n",
    "            count += 1\n",
    "    return count\n",
    "\n",
    "# 示例用法\n",
    "l = 2\n",
    "r = 100005\n",
    "result = count_divisible_by_3(l, r)\n",
    "print(result)  # 输出: 3\n"
   ]
  },
  {
   "cell_type": "code",
   "execution_count": null,
   "id": "1511f1ce-0cb1-49d0-9fb8-3508549be170",
   "metadata": {},
   "outputs": [],
   "source": []
  },
  {
   "cell_type": "code",
   "execution_count": null,
   "id": "ac8d9657-87d0-430d-8311-c3f94e0bd786",
   "metadata": {},
   "outputs": [],
   "source": [
    "2 5\n",
    "3\n"
   ]
  },
  {
   "cell_type": "code",
   "execution_count": null,
   "id": "a7a5d4c3-0b9a-4b74-9ef7-e84be52ca16b",
   "metadata": {},
   "outputs": [],
   "source": [
    "12 123 1234 12345"
   ]
  },
  {
   "cell_type": "code",
   "execution_count": 140,
   "id": "f9c026a9-ce53-4393-a257-2528404ab230",
   "metadata": {
    "tags": []
   },
   "outputs": [
    {
     "data": {
      "text/plain": [
       "45.333333333333336"
      ]
     },
     "execution_count": 140,
     "metadata": {},
     "output_type": "execute_result"
    }
   ],
   "source": [
    "(1+2+3+4+5+6+7+8+9+10+11+12+13+14+15+16)/3"
   ]
  },
  {
   "cell_type": "code",
   "execution_count": 141,
   "id": "6b5ff343-3b55-4451-8765-94b40edb5b6b",
   "metadata": {
    "tags": []
   },
   "outputs": [
    {
     "data": {
      "text/plain": [
       "24.333333333333332"
      ]
     },
     "execution_count": 141,
     "metadata": {},
     "output_type": "execute_result"
    }
   ],
   "source": [
    "(1+2+3+4+5+6+7+8+9+1+0+1+1+1+2+1+3+1+4+1+5+1+6)/3"
   ]
  },
  {
   "cell_type": "code",
   "execution_count": 142,
   "id": "65c5f74a-9731-42d6-8675-1d94f7f0a3f0",
   "metadata": {
    "tags": []
   },
   "outputs": [
    {
     "data": {
      "text/plain": [
       "1"
      ]
     },
     "execution_count": 142,
     "metadata": {},
     "output_type": "execute_result"
    }
   ],
   "source": [
    "12345678910111213141516%3"
   ]
  },
  {
   "cell_type": "code",
   "execution_count": null,
   "id": "9eda46f7-33c7-4499-a3a6-0c8950e85d4e",
   "metadata": {},
   "outputs": [],
   "source": []
  },
  {
   "cell_type": "code",
   "execution_count": null,
   "id": "15e42e0c-923e-42e5-8208-7120818ee0fd",
   "metadata": {},
   "outputs": [],
   "source": []
  },
  {
   "cell_type": "code",
   "execution_count": 105,
   "id": "16e7ec6b-f172-46fc-aae6-a0111c8cc911",
   "metadata": {
    "tags": []
   },
   "outputs": [
    {
     "data": {
      "text/plain": [
       "4115.0"
      ]
     },
     "execution_count": 105,
     "metadata": {},
     "output_type": "execute_result"
    }
   ],
   "source": [
    "3"
   ]
  },
  {
   "cell_type": "code",
   "execution_count": null,
   "id": "ac3de123-5166-4b83-a682-ab6acae62751",
   "metadata": {},
   "outputs": [],
   "source": [
    "3: 判断一个数能不能被3整除，等价于一个数的每位之和能否被3整除\n",
    "9: 对于一个整数来说，若它的每一位的数字之和能被 9 整除，则这个整数本身也能被 9 整除。这个性质类似于数字 3 的性质。\n",
    "11: 对于一个整数来说，若它的数字的奇数位之和与偶数位之和的差能被 11 整除，则这个整数本身也能被 11 整除。这种性质也称为“11 的整除规则”。\n",
    "10: 对于一个整数，它的最后一位（个位）能确定它是否能被 10 整除。如果个位数字是 0，那么这个数字能被 10 整除。\n",
    "7: 对于 7，检查一个数字是否能被 7 整除没有简单的数字和规则，但有一个类似的过程，通过分解数字和进行一些运算（例如移位、减法等）可以判断。\n",
    "12: 一个数字能否被 12 整除，等价于它能被 3 和 4 同时整除。因此，可以分别检查数字的每一位和是否能被 3 整除，以及最后两位是否能被 4 整除。"
   ]
  },
  {
   "cell_type": "code",
   "execution_count": null,
   "id": "bb35a073-0a09-46b7-b85a-5a004a580f68",
   "metadata": {},
   "outputs": [],
   "source": [
    "判断一个数能不能被3整除，等价于一个数的每位之和能否被3整除"
   ]
  },
  {
   "cell_type": "code",
   "execution_count": null,
   "id": "6d476d90-3f4f-4f8a-893b-bda0897f60f7",
   "metadata": {},
   "outputs": [],
   "source": []
  },
  {
   "cell_type": "code",
   "execution_count": null,
   "id": "f3c25317-f82d-45d8-998a-2874a58d2f06",
   "metadata": {},
   "outputs": [],
   "source": []
  },
  {
   "cell_type": "code",
   "execution_count": null,
   "id": "f293694c-6836-4053-8288-fa8962def33b",
   "metadata": {},
   "outputs": [],
   "source": [
    "CC里面有一个土豪很喜欢一位女直播Kiki唱歌，平时就经常给她点赞、送礼、私脚。\n",
    "最近CC直播平台在举行中秋之星主播唱歌比赛，假设一开始该女主播的初始人气值为start，能够晋升下一轮人气需要刚好达到end，\n",
    "土豪给主播增加人气的可以采取的方法有：\n",
    "b 点赞 花费×C而，人气+2\n",
    "a. 送礼 花费y C币，人气 *2\n",
    "C. 私聊 花费z C币，人气-2\n",
    "\n",
    "其中 end 远大于start且end为偶数，请写一个程序帮助土豪计算一下，最少花费多少C币就能帮助该主播Kiki将人气刚好达到ed，从而能够晋级下一轮？\n",
    "输入描述：\n",
    "第一行输入5个数据，分别为：× y z start end，每项数据以空格分开。\n",
    "其中：0<x.y. 2<=10000,\n",
    "    O<start, end<=1000000\n",
    "输出描述：\n",
    "需要花费的最少C币。\n",
    "示例1：\n",
    "输入\n",
    "3 100 126\n",
    "输出\n",
    "6"
   ]
  },
  {
   "cell_type": "code",
   "execution_count": 144,
   "id": "90dbccac-8b6f-404e-a969-e15073298aac",
   "metadata": {
    "tags": []
   },
   "outputs": [
    {
     "name": "stdout",
     "output_type": "stream",
     "text": [
      "1055\n"
     ]
    }
   ],
   "source": [
    "from collections import deque\n",
    "\n",
    "def min_cost_to_reach_end(x, y, z, start, end):\n",
    "    # 特殊情况\n",
    "    if start == end:\n",
    "        return 0\n",
    "    \n",
    "    # 使用 deque 作为队列\n",
    "    queue = deque([(start, 0)])\n",
    "    visited = set([start])\n",
    "    \n",
    "    while queue:\n",
    "        current_popularity, current_cost = queue.popleft()\n",
    "        \n",
    "        # 执行三种操作\n",
    "        for next_popularity, cost in [(current_popularity + 2, x), (current_popularity * 2, y), (current_popularity - 2, z)]:\n",
    "            # 人气值不能小于 0\n",
    "            if next_popularity < 0:\n",
    "                continue\n",
    "            \n",
    "            # 找到目标人气值\n",
    "            if next_popularity == end:\n",
    "                return current_cost + cost\n",
    "            \n",
    "            # 如果没有访问过，或者访问过但是花费更少\n",
    "            if next_popularity not in visited:\n",
    "                visited.add(next_popularity)\n",
    "                queue.append((next_popularity, current_cost + cost))\n",
    "    \n",
    "    # 如果无法到达\n",
    "    return -1\n",
    "\n",
    "# 示例\n",
    "x, y, z, start, end = 3, 100, 126, 2, 1000\n",
    "print(min_cost_to_reach_end(x, y, z, start, end))\n"
   ]
  },
  {
   "cell_type": "code",
   "execution_count": null,
   "id": "63168391-ce2e-47ca-8ab9-2ccaf96f9a44",
   "metadata": {},
   "outputs": [],
   "source": []
  },
  {
   "cell_type": "code",
   "execution_count": null,
   "id": "864e799d-0d54-4c26-a56b-ebfc65ec0790",
   "metadata": {},
   "outputs": [],
   "source": [
    "3 100 126"
   ]
  },
  {
   "cell_type": "code",
   "execution_count": null,
   "id": "7bd743ff-1894-4798-8e91-32733c460cc3",
   "metadata": {},
   "outputs": [],
   "source": []
  },
  {
   "cell_type": "code",
   "execution_count": null,
   "id": "65450d7a-e6c7-477e-b4a0-aaf395a914d4",
   "metadata": {},
   "outputs": [],
   "source": []
  },
  {
   "cell_type": "markdown",
   "id": "bdd2db3d-63ff-4004-ad25-39ccb9f067f5",
   "metadata": {},
   "source": [
    "CG直攝的远营部门组织了很多远营活动，每个活动需要花费一定的时间参与，主攝每参加完一个活动即可得到一定的奖助，参与活动可以从任意活动开始，但一旦开始，就需要将后城活动参加完毕（注息：最后一个活动必须参与），\n",
    "活动之间存在一定的依赖英系（不存在环的情况），现在给出所有的活动时间与依赖关系，以及给出有限的时间，"
   ]
  },
  {
   "cell_type": "code",
   "execution_count": null,
   "id": "9235beb1-90b1-441f-b922-4aeb66c9650d",
   "metadata": {},
   "outputs": [],
   "source": []
  },
  {
   "cell_type": "code",
   "execution_count": null,
   "id": "fe92d0d8-10cf-4d99-811c-1eb97947fbd8",
   "metadata": {},
   "outputs": [],
   "source": []
  },
  {
   "cell_type": "code",
   "execution_count": null,
   "id": "ba725377-6648-4cfe-a2d8-84786e28159e",
   "metadata": {},
   "outputs": [],
   "source": [
    "\n",
    "\n",
    "import numpy as np\n",
    "def sort_function_check(func):\n",
    "    for i in range(1000):\n",
    "        datas = np.random.randint(1,10,(100)).tolist()\n",
    "        answer = np.sort(datas).tolist()\n",
    "        our_answer = func(datas)\n",
    "        assert answer == our_answer\n",
    "    return 'pass check'\n",
    "\n",
    "# 冒泡排序\n",
    "\n",
    "def bubble_sort(lst):\n",
    "    n = len(lst)\n",
    "    for i in range(n):\n",
    "        for j in range(1, n - i):\n",
    "            if lst[j - 1] > lst[j]:\n",
    "                lst[j - 1], lst[j] = lst[j], lst[j - 1]\n",
    "    return lst\n",
    "\n",
    "%%time\n",
    "sort_function_check(bubble_sort)\n",
    "\n",
    "# 选择排序\n",
    "\n",
    "def selection_sort(lst):\n",
    "    for i in range(len(lst) - 1):\n",
    "        min_index = i\n",
    "        for j in range(i + 1, len(lst)):\n",
    "            if lst[j] < lst[min_index]:\n",
    "                min_index = j\n",
    "        lst[i], lst[min_index] = lst[min_index], lst[i]\n",
    "    return lst\n",
    "\n",
    "%%time\n",
    "sort_function_check(selection_sort)\n",
    "\n",
    "# 快速排序\n",
    "\n",
    "def quick_sort(lst):\n",
    "    n = len(lst)\n",
    "    if n <= 1:\n",
    "        return lst\n",
    "    baseline = lst[0]\n",
    "    left = [lst[i] for i in range(1, len(lst)) if lst[i] < baseline]\n",
    "    right = [lst[i] for i in range(1, len(lst)) if lst[i] >= baseline]\n",
    "    return quick_sort(left) + [baseline] + quick_sort(right)\n",
    "\n",
    "%%time\n",
    "sort_function_check(quick_sort)\n",
    "\n",
    "\n",
    "# 归并排序\n",
    "\n",
    "def merge_sort(lst):\n",
    "    def merge(left,right):\n",
    "        i = 0\n",
    "        j = 0\n",
    "        result = []\n",
    "        while i < len(left) and j < len(right):\n",
    "            if left[i] <= right[j]:\n",
    "                result.append(left[i])\n",
    "                i += 1\n",
    "            else:\n",
    "                result.append(right[j])\n",
    "                j += 1\n",
    "        result = result + left[i:] + right[j:]\n",
    "        return result\n",
    "    n = len(lst)\n",
    "    if n <= 1:\n",
    "        return lst\n",
    "    mid = n // 2\n",
    "    left = merge_sort(lst[:mid])\n",
    "    right = merge_sort(lst[mid:])\n",
    "    return merge(left,right)\n",
    "\n",
    "\n",
    "%%time\n",
    "sort_function_check(merge_sort)\n",
    "\n",
    "# 堆排序\n",
    "\n",
    "def heap_sort(lst):\n",
    "    def adjust_heap(lst, i, size):\n",
    "        left_index = 2 * i + 1\n",
    "        right_index = 2 * i + 2\n",
    "        largest_index = i\n",
    "        if left_index < size and lst[left_index] > lst[largest_index]:\n",
    "            largest_index = left_index\n",
    "        if right_index < size and lst[right_index] > lst[largest_index]:\n",
    "            largest_index = right_index\n",
    "        if largest_index != i:\n",
    "            lst[largest_index], lst[i] = lst[i], lst[largest_index]\n",
    "            adjust_heap(lst, largest_index, size)\n",
    "\n",
    "    def built_heap(lst, size):\n",
    "        for i in range(len(lst )/ /2)[::-1]:\n",
    "            adjust_heap(lst, i, size)\n",
    "\n",
    "    size = len(lst)\n",
    "    built_heap(lst, size)\n",
    "    for i in range(len(lst))[::-1]:\n",
    "        lst[0], lst[i] = lst[i], lst[0]\n",
    "        adjust_heap(lst, 0, i)\n",
    "    return lst\n",
    "\n",
    "\n",
    "%%time\n",
    "sort_function_check(heap_sort)\n",
    "\n",
    "# 插入排序\n",
    "\n",
    "def insertion_sort(lst):\n",
    "    for i in range(len(lst) - 1):\n",
    "        cur_num, pre_index = lst[i+1], i\n",
    "        while pre_index >= 0 and cur_num < lst[pre_index]:\n",
    "            lst[pre_index + 1] = lst[pre_index]\n",
    "            pre_index -= 1\n",
    "        lst[pre_index + 1] = cur_num\n",
    "    return lst\n",
    "\n",
    "%%time\n",
    "sort_function_check(insertion_sort)\n",
    "\n",
    "#希尔排序\n",
    "\n",
    "def shell_sort(lst):\n",
    "    n = len(lst)\n",
    "    gap = n // 2\n",
    "    while gap > 0:\n",
    "        for i in range(gap, n):\n",
    "            for j in range(i, gap - 1, -gap):\n",
    "                if lst[j] < lst[j - gap]:\n",
    "                    lst[j], lst[j - gap] = lst[j - gap], lst[j]\n",
    "                else:\n",
    "                    break\n",
    "        gap //= 2\n",
    "    return lst\n",
    "\n",
    "%%time\n",
    "sort_function_check(shell_sort)\n",
    "\n",
    "# 计数排序\n",
    "\n",
    "def counting_sort(lst):\n",
    "    nums_min = min(lst)\n",
    "    bucket = [0] * (max(lst) + 1 - nums_min)\n",
    "    for num in lst:\n",
    "        bucket[num - nums_min] += 1\n",
    "    i = 0\n",
    "    for j in range(len(bucket)):\n",
    "        while bucket[j] > 0:\n",
    "            lst[i] = j + nums_min\n",
    "            bucket[j] -= 1\n",
    "            i += 1\n",
    "    return lst\n",
    "\n",
    "%%time\n",
    "sort_function_check(counting_sort)\n",
    "\n",
    "#桶排序\n",
    "\n",
    "def bucket_sort(lst, defaultBucketSize=4):\n",
    "    maxVal, minVal = max(lst), min(lst)\n",
    "    bucketSize = defaultBucketSize\n",
    "    bucketCount = (maxVal - minVal) // bucketSize + 1\n",
    "    buckets = [[] for i in range(bucketCount)]\n",
    "    for num in lst:\n",
    "        buckets[(num - minVal) // bucketSize].append(num)\n",
    "    lst.clear()\n",
    "    for bucket in buckets:\n",
    "        bubble_sort(bucket)\n",
    "        lst.extend(bucket)\n",
    "    return lst\n",
    "\n",
    "\n",
    "%%time\n",
    "sort_function_check(bucket_sort)\n",
    "\n",
    "# 基数排序\n",
    "\n",
    "\n",
    "# LSD Radix Sort\n",
    "def radix_sort(lst):\n",
    "    mod = 10\n",
    "    div = 1\n",
    "    mostBit = len(str(max(lst)))\n",
    "    buckets = [[] for row in range(mod)]\n",
    "    while mostBit:\n",
    "        for num in lst:\n",
    "            buckets[num // div % mod].append(num)\n",
    "        i = 0\n",
    "        for bucket in buckets:\n",
    "            while bucket:\n",
    "                lst[i] = bucket.pop(0)\n",
    "                i += 1\n",
    "        div *= 10\n",
    "        mostBit -= 1\n",
    "    return lst\n",
    "\n",
    "%%time\n",
    "sort_function_check(bucket_sort)\n",
    "\n",
    "\n",
    "\n",
    "# 栈\n",
    "class Stack():\n",
    "    def __init__(self):\n",
    "        self.__list = []\n",
    "\n",
    "    def is_empty(self):\n",
    "        return self.__list == []\n",
    "\n",
    "    def size(self):\n",
    "        return len(self.__list)\n",
    "\n",
    "    def push(self, item):\n",
    "        self.__list.append(item)\n",
    "\n",
    "    def pop(self):\n",
    "        self.__list.pop()\n",
    "\n",
    "    def peek(self):\n",
    "        if self.__list:\n",
    "            return self.__list[-1]\n",
    "        else:\n",
    "            return None\n",
    "\n",
    "#队列\n",
    "class Queue(object):\n",
    "    \"\"\"队列\"\"\"\n",
    "    def __init__(self):\n",
    "        self.items = []\n",
    "\n",
    "    def is_empty(self):\n",
    "        return self.items == []\n",
    "\n",
    "    def enqueue(self, item):\n",
    "        \"\"\"进队列\"\"\"\n",
    "        self.items.insert(0,item)\n",
    "\n",
    "    def dequeue(self):\n",
    "        \"\"\"出队列\"\"\"\n",
    "        return self.items.pop()\n",
    "\n",
    "    def size(self):\n",
    "        \"\"\"返回大小\"\"\"\n",
    "        return len(self.items)\n",
    "\n",
    "#树\n",
    "class Node(object):\n",
    "    \"\"\"节点类\"\"\"\n",
    "    def __init__(self, elem=-1, lchild=None, rchild=None):\n",
    "        self.elem = elem\n",
    "        self.lchild = lchild\n",
    "        self.rchild = rchild\n",
    "\n",
    "class Tree(object):\n",
    "    \"\"\"树类\"\"\"\n",
    "    def __init__(self, root=None):\n",
    "        self.root = root\n",
    "\n",
    "    def add(self, elem):\n",
    "        \"\"\"为树添加节点\"\"\"\n",
    "        node = Node(elem)\n",
    "        #如果树是空的，则对根节点赋值\n",
    "        if self.root == None:\n",
    "            self.root = node\n",
    "        else:\n",
    "            queue = []\n",
    "            queue.append(self.root)\n",
    "            #对已有的节点进行层次遍历\n",
    "            while queue:\n",
    "                #弹出队列的第一个元素\n",
    "                cur = queue.pop(0)\n",
    "                if cur.lchild == None:\n",
    "                    cur.lchild = node\n",
    "                    return\n",
    "                elif cur.rchild == None:\n",
    "                    cur.rchild = node\n",
    "                    return\n",
    "                else:\n",
    "                    #如果左右子树都不为空，加入队列继续判断\n",
    "                    queue.append(cur.lchild)\n",
    "                    queue.append(cur.rchild)\n",
    "\n",
    "    @classmethod\n",
    "    def preorder(self, root):\n",
    "        \"\"\"递归实现先序遍历\"\"\"\n",
    "        if root == None:\n",
    "            return\n",
    "        print(root.elem)\n",
    "        self.preorder(root.lchild)\n",
    "        self.preorder(root.rchild)\n",
    "\n",
    "    @classmethod\n",
    "    def inorder(self, root):\n",
    "        \"\"\"递归实现中序遍历\"\"\"\n",
    "        if root == None:\n",
    "            return\n",
    "        self.inorder(root.lchild)\n",
    "        print(root.elem)\n",
    "        self.inorder(root.rchild)\n",
    "\n",
    "    @classmethod\n",
    "    def postorder(self, root):\n",
    "        \"\"\"递归实现后续遍历\"\"\"\n",
    "        if root == None:\n",
    "            return\n",
    "        self.postorder(root.lchild)\n",
    "        self.postorder(root.rchild)\n",
    "        print(root.elem)\n",
    "\n",
    "    @classmethod\n",
    "    def breadth_travel(self, root):\n",
    "        \"\"\"利用队列实现树的层次遍历\"\"\"\n",
    "        if root == None:\n",
    "            return\n",
    "        queue = []\n",
    "        queue.append(root)\n",
    "        while queue:\n",
    "            node = queue.pop(0)\n",
    "            print\n",
    "            node.elem,\n",
    "            if node.lchild != None:\n",
    "                queue.append(node.lchild)\n",
    "            if node.rchild != None:\n",
    "                queue.append(node.rchild)\n",
    "\n",
    "#递归\n",
    "class To_factorial:\n",
    "    \"\"\"\n",
    "    递归\n",
    "    1 定义一个阶乘函数f(x)\n",
    "    2 明确等级关系 5的阶乘 = 5 * 4的阶乘\n",
    "    3 明确出口 1的阶乘 = 1\n",
    "    4 写出函数\n",
    "    def 阶乘(x):\n",
    "        if x ==1:\n",
    "            return 1\n",
    "        else:\n",
    "            return x*阶乘(x-1)\n",
    "    \"\"\"\n",
    "\n",
    "    def __init__(self):\n",
    "        pass\n",
    "\n",
    "## 单链表\n",
    "class SingleNode(object):\n",
    "    def __init__(self, item):\n",
    "        self.item = item\n",
    "        self.next = None\n",
    "\n",
    "\n",
    "class SingleLinkList(object):\n",
    "    \"\"\"单链表\n",
    "    is_empty() 链表是否为空\n",
    "    create() 创建\n",
    "    length() 链表长度\n",
    "    travel() 遍历链表\n",
    "    add(item) 链表头部添加元素\n",
    "    append(item) 链表尾部添加元素\n",
    "    insert(pos, item) 指定位置添加元素\n",
    "    remove(item) 删除节点\n",
    "    find(item) 查找节点是否存在\n",
    "    \"\"\"\n",
    "\n",
    "    def __init__(self):\n",
    "        self._head = None\n",
    "\n",
    "    def is_empty(self):\n",
    "        \"\"\"判断链表是否为空\"\"\"\n",
    "        return self._head == None\n",
    "\n",
    "    def create(self,data):\n",
    "        self._head = SingleNode(0)\n",
    "        cur = self._head\n",
    "        for i in range(len(data)):\n",
    "            node = SingleNode(data[i])\n",
    "            cur.next = node\n",
    "            cur = cur.next\n",
    "\n",
    "    def length(self):\n",
    "        \"\"\"链表长度\"\"\"\n",
    "        # cur初始时指向头节点\n",
    "        cur = self._head\n",
    "        count = 0\n",
    "        while cur:\n",
    "            count += 1\n",
    "            # 将cur后移一个节点\n",
    "            cur = cur.next\n",
    "        return count\n",
    "\n",
    "    def travel(self):\n",
    "        \"\"\"遍历链表\"\"\"\n",
    "        cur = self._head\n",
    "        while cur:\n",
    "            print(cur.item)\n",
    "            cur = cur.next\n",
    "\n",
    "    def add(self, item):\n",
    "        \"\"\"头部添加元素\"\"\"\n",
    "        # 先创建一个保存item值的节点\n",
    "        node = SingleNode(item)\n",
    "        # 将新节点的链接域next指向头节点，即_head指向的位置\n",
    "        node.next = self._head\n",
    "        # 将链表的头_head指向新节点\n",
    "        self._head = node\n",
    "\n",
    "    def append(self, item):\n",
    "        \"\"\"尾部添加元素\"\"\"\n",
    "        node = SingleNode(item)\n",
    "        # 先判断链表是否为空，若是空链表，则将_head指向新节点\n",
    "        if self.is_empty():\n",
    "            self._head = node\n",
    "        # 若不为空，则找到尾部，将尾节点的next指向新节点\n",
    "        else:\n",
    "            cur = self._head\n",
    "            while cur.next != None:\n",
    "                cur = cur.next\n",
    "            cur.next = node\n",
    "\n",
    "    def insert(self, pos, item):\n",
    "        \"\"\"指定位置添加元素\"\"\"\n",
    "        # 若指定位置pos为第一个元素之前，则执行头部插入\n",
    "        if pos <= 0:\n",
    "            self.add(item)\n",
    "        # 若指定位置超过链表尾部，则执行尾部插入\n",
    "        elif pos > (self.length() - 1):\n",
    "            self.append(item)\n",
    "        # 找到指定位置\n",
    "        else:\n",
    "            node = SingleNode(item)\n",
    "            count = 0\n",
    "            # pre用来指向指定位置pos的前一个位置pos-1，初始从头节点开始移动到指定位置\n",
    "            pre = self._head\n",
    "            while count < (pos - 1):\n",
    "                count += 1\n",
    "                pre = pre.next\n",
    "            # 先将新节点node的next指向插入位置的节点\n",
    "            node.next = pre.next\n",
    "            # 将插入位置的前一个节点的next指向新节点\n",
    "            pre.next = node\n",
    "\n",
    "    def remove(self, item):\n",
    "        \"\"\"删除节点\"\"\"\n",
    "        cur = self._head\n",
    "        pre = None\n",
    "        while cur != None:\n",
    "            # 找到了指定元素\n",
    "            if cur.item == item:\n",
    "                # 如果第一个就是删除的节点\n",
    "                if not pre:\n",
    "                    # 将头指针指向头节点的后一个节点\n",
    "                    self._head = cur.next\n",
    "                else:\n",
    "                    # 将删除位置前一个节点的next指向删除位置的后一个节点\n",
    "                    pre.next = cur.next\n",
    "                break\n",
    "            else:\n",
    "                # 继续按链表后移节点\n",
    "                pre = cur\n",
    "                cur = cur.next\n",
    "\n",
    "    def search(self, item):\n",
    "        \"\"\"链表查找节点是否存在，并返回True或者False\"\"\"\n",
    "        cur = self._head\n",
    "        while cur != None:\n",
    "            if cur.item == item:\n",
    "                return True\n",
    "            cur = cur.next\n",
    "        return False\n",
    "\n",
    "\n"
   ]
  },
  {
   "cell_type": "code",
   "execution_count": null,
   "id": "0d1e5de6-f472-47be-937b-8deb4e50e5d6",
   "metadata": {},
   "outputs": [],
   "source": []
  },
  {
   "cell_type": "code",
   "execution_count": null,
   "id": "51aecaa7-6b1a-4477-9e76-83220dd887f6",
   "metadata": {},
   "outputs": [],
   "source": []
  },
  {
   "cell_type": "code",
   "execution_count": null,
   "id": "737c2818-09e2-4596-b6e3-a74b544043f5",
   "metadata": {},
   "outputs": [],
   "source": []
  },
  {
   "cell_type": "markdown",
   "id": "d52e9606-77c8-494b-a26c-1020d57a0c24",
   "metadata": {},
   "source": [
    "# 递归"
   ]
  },
  {
   "cell_type": "code",
   "execution_count": null,
   "id": "36feee7e-bb4d-4bbc-87b0-b839f23bd3f9",
   "metadata": {},
   "outputs": [],
   "source": [
    "def unfold_dict(v,host_name):\n",
    "    for k,v in v.items():\n",
    "        if isinstance(v,dict):\n",
    "            host_name = k + '__'\n",
    "            print('ok')\n",
    "            unfold_dict(v,host_name=host_name)\n",
    "        elif isinstance(v,str):\n",
    "            try:\n",
    "                json.loads(v)\n",
    "            except:\n",
    "                print('ok')\n",
    "                xx[host_name+k] = v\n",
    "        else:\n",
    "            raise \"error\""
   ]
  },
  {
   "cell_type": "markdown",
   "id": "702f83d7-e71e-401c-8f55-30e3d8b1ebcf",
   "metadata": {},
   "source": [
    "自己写的"
   ]
  },
  {
   "cell_type": "code",
   "execution_count": null,
   "id": "c8de7382-3f5c-4ee3-b44c-5dde3eb19595",
   "metadata": {},
   "outputs": [],
   "source": []
  },
  {
   "cell_type": "code",
   "execution_count": 277,
   "id": "fda663cc-d31e-49aa-a071-0f56c293c253",
   "metadata": {
    "tags": []
   },
   "outputs": [],
   "source": [
    "nested_dict = i.json_['output']"
   ]
  },
  {
   "cell_type": "code",
   "execution_count": 278,
   "id": "26932719-a610-4fd1-9c1d-5cf6fbd089fc",
   "metadata": {
    "tags": []
   },
   "outputs": [
    {
     "name": "stdout",
     "output_type": "stream",
     "text": [
      "{'status': 'OK', 'request_id': 'e169da05-9741-4d9e-a7cc-b455d1bed961', 'data__rapidapi': 'https://rapidapi.com', 'data__wilson sonsini': 'https://www.wsgr.com', 'data__microsoft': 'https://www.microsoft.com'}\n"
     ]
    }
   ],
   "source": [
    "import json\n",
    "\n",
    "def unfold_dict(d, parent_key='', sep='__'):\n",
    "    items = []\n",
    "    for k, v in d.items():\n",
    "        new_key = f\"{parent_key}{sep}{k}\" if parent_key else k\n",
    "        if isinstance(v, dict):\n",
    "            items.extend(unfold_dict(v, new_key, sep=sep).items())\n",
    "        elif isinstance(v, str):\n",
    "            try:\n",
    "                json.loads(v)\n",
    "                items.append((new_key, v))\n",
    "            except json.JSONDecodeError:\n",
    "                items.append((new_key, v))\n",
    "        else:\n",
    "            items.append((new_key, v))\n",
    "    return dict(items)\n",
    "\n",
    "# 测试展开\n",
    "\n",
    "unfolded = unfold_dict(nested_dict)\n",
    "print(unfolded)\n"
   ]
  },
  {
   "cell_type": "code",
   "execution_count": 279,
   "id": "62318f12-ce1a-4f83-bd66-f7f76f10d3b6",
   "metadata": {
    "tags": []
   },
   "outputs": [
    {
     "data": {
      "text/plain": [
       "{'status': 'OK',\n",
       " 'request_id': 'e169da05-9741-4d9e-a7cc-b455d1bed961',\n",
       " 'data__rapidapi': 'https://rapidapi.com',\n",
       " 'data__wilson sonsini': 'https://www.wsgr.com',\n",
       " 'data__microsoft': 'https://www.microsoft.com'}"
      ]
     },
     "execution_count": 279,
     "metadata": {},
     "output_type": "execute_result"
    }
   ],
   "source": [
    "unfolded"
   ]
  },
  {
   "cell_type": "code",
   "execution_count": 280,
   "id": "232b9e5d-96d4-45ba-9932-42affb10510a",
   "metadata": {
    "tags": []
   },
   "outputs": [],
   "source": [
    "def fold_dict(d, sep='__'):\n",
    "    result_dict = {}\n",
    "    for k, v in d.items():\n",
    "        keys = k.split(sep)\n",
    "        d_nested = result_dict\n",
    "        for key in keys[:-1]:\n",
    "            if key not in d_nested:\n",
    "                d_nested[key] = {}\n",
    "            d_nested = d_nested[key]\n",
    "        d_nested[keys[-1]] = v\n",
    "    return result_dict\n",
    "\n",
    "# 测试折叠\n",
    "folded = fold_dict(unfolded)"
   ]
  },
  {
   "cell_type": "code",
   "execution_count": 281,
   "id": "49fffc5e-173e-46e1-b1d5-ade21c2a1787",
   "metadata": {
    "tags": []
   },
   "outputs": [
    {
     "data": {
      "text/plain": [
       "{'status': 'OK',\n",
       " 'request_id': 'e169da05-9741-4d9e-a7cc-b455d1bed961',\n",
       " 'data': {'rapidapi': 'https://rapidapi.com',\n",
       "  'wilson sonsini': 'https://www.wsgr.com',\n",
       "  'microsoft': 'https://www.microsoft.com'}}"
      ]
     },
     "execution_count": 281,
     "metadata": {},
     "output_type": "execute_result"
    }
   ],
   "source": [
    "folded"
   ]
  },
  {
   "cell_type": "code",
   "execution_count": null,
   "id": "6a459711-d0c7-45f2-9c92-e8a8ba1d602b",
   "metadata": {},
   "outputs": [],
   "source": []
  },
  {
   "cell_type": "code",
   "execution_count": null,
   "id": "ef66209c-1787-4fbd-b2c1-9117aba34cc6",
   "metadata": {},
   "outputs": [],
   "source": [
    "def unfold_dict(v,host_name):\n",
    "    for k,v in v.items():\n",
    "        if isinstance(v,dict):\n",
    "            unfold_dict(v,host_name=host_name + k + '__')\n",
    "        elif isinstance(v,str) or isinstance(v,int) or isinstance(v,float) or v is None or(isinstance(v,list) and len(v)==0):\n",
    "            xx[host_name+k] = v\n",
    "        elif isinstance(v,list) and len(v)>=1:\n",
    "            if isinstance(v[0],str) or isinstance(v[0],int) or v[0] is None or isinstance(v[0],float) or isinstance(v[0],list):\n",
    "                xx[host_name+k] = v\n",
    "            else:\n",
    "                for i in range(len(v)):\n",
    "                    unfold_dict(v[i],host_name=host_name + k + f'[]{i}[]')\n",
    "        else:\n",
    "            print(type(v))\n",
    "            print(len(v))\n",
    "            raise \"error\""
   ]
  },
  {
   "cell_type": "code",
   "execution_count": null,
   "id": "20822bc4-20d6-4e9c-a0e7-a904bf8b703e",
   "metadata": {},
   "outputs": [],
   "source": [
    "def fold_dict(d):\n",
    "    result_dict = {}\n",
    "    xx = {}\n",
    "    ttt = ''\n",
    "    ppp = ''\n",
    "    tt = 0\n",
    "    key_var = ''\n",
    "    pp = 0\n",
    "    for k,v in d.items():\n",
    "        result = first_occurrence(k)\n",
    "\n",
    "        if result is None:\n",
    "            result_dict[k] = v\n",
    "            \n",
    "        elif result == 'first a':\n",
    "            keys,value = k.split('__',1)\n",
    "            # print(value,'value<-->')\n",
    "            if ttt =='':\n",
    "                ttt = keys\n",
    "            elif ttt == keys:\n",
    "                pass\n",
    "            else:\n",
    "                ttt = keys\n",
    "                xx = {}\n",
    "            xx[value] = v\n",
    "            result_dict[keys] = xx\n",
    "            \n",
    "        \n",
    "        elif result == 'first b':\n",
    "            \n",
    "            keys,num,value = k.split('[]',2)\n",
    "\n",
    "            if key_var =='':\n",
    "                key_var = keys\n",
    "                xx = {}\n",
    "                result_dict[keys] = [xx]\n",
    "            elif key_var == keys:\n",
    "                xx[value] = v\n",
    "                if ppp =='':\n",
    "                    ppp = num\n",
    "                elif ppp == num:\n",
    "                    pass\n",
    "                else:\n",
    "                    # print(1)\n",
    "                    ppp = num\n",
    "                    xx = {}\n",
    "                    result_dict[keys].append(xx)\n",
    "\n",
    "            else:\n",
    "                key_var = keys\n",
    "                xx = {}\n",
    "                result_dict[keys] = [xx]\n",
    " \n",
    "    for k,v in result_dict.items():\n",
    "        # print(k,'k')\n",
    "        if isinstance(v,int) or isinstance(v,str) or v is None or isinstance(v,float) or v ==[]:\n",
    "            pass\n",
    "        elif isinstance(v,list) and len(v)>=1:\n",
    "            if isinstance(v[0],str) or isinstance(v[0],int) or v[0] is None or isinstance(v[0],float) or isinstance(v[0],list):\n",
    "                pass\n",
    "            else:\n",
    "                # pass\n",
    "                pppp = []\n",
    "                for i in range(len(result_dict[k])):\n",
    "                    # print(i,'xvv\\n')\n",
    "                    # print(k)\n",
    "                    # result_dict[k][i]\n",
    "\n",
    "                    # print(k,'kkkk')\n",
    "                    # print(i)\n",
    "                    # print(len(result_dict[k]),'xxxx')\n",
    "                    pppp.append(fold_dict(result_dict[k][i]))\n",
    "                    # if i == 0:\n",
    "                    #     result_dict[k] = [fold_dict(result_dict[k][i])]\n",
    "                    # else:\n",
    "                    #     result_dict[k].append(fold_dict(result_dict[k][i]))\n",
    "                result_dict[k] = pppp\n",
    "        else:\n",
    "            # print(v)\n",
    "            result_dict[k] = fold_dict(v)\n",
    "\n",
    "    \n",
    "    return result_dict\n"
   ]
  },
  {
   "cell_type": "code",
   "execution_count": null,
   "id": "22aee868-69a5-47da-a3e0-a4c817448487",
   "metadata": {},
   "outputs": [],
   "source": []
  },
  {
   "cell_type": "code",
   "execution_count": null,
   "id": "698027b3-f847-42d0-b4b5-f82fa02ef70c",
   "metadata": {},
   "outputs": [],
   "source": []
  },
  {
   "cell_type": "code",
   "execution_count": null,
   "id": "20170e35-28df-425e-b6da-62500e0c39c1",
   "metadata": {},
   "outputs": [],
   "source": [
    "给定一组活动，每个活动都有一个开始时间和结束时间。你需要选择尽可能多的活动，使得这些活动互不重叠。如何选择这些活动？"
   ]
  },
  {
   "cell_type": "code",
   "execution_count": null,
   "id": "488030cf-e98f-4d95-9f80-f84075fddecd",
   "metadata": {},
   "outputs": [],
   "source": [
    "选择活动结束时间最早的"
   ]
  },
  {
   "cell_type": "code",
   "execution_count": 137,
   "id": "9755d017-71b8-432d-8b5b-4251d92848d5",
   "metadata": {},
   "outputs": [
    {
     "name": "stdout",
     "output_type": "stream",
     "text": [
      "/Users/zhaoxuefeng/Documents/Project/Work/labels\n"
     ]
    }
   ],
   "source": [
    "!pwd"
   ]
  },
  {
   "cell_type": "code",
   "execution_count": null,
   "id": "53df0983-2c57-4a42-af6f-11cd0b7055ad",
   "metadata": {},
   "outputs": [],
   "source": [
    "贪心策略:\n",
    "    获取局部最优解,\n",
    "    不要执着于证明\n",
    "    如何验证贪心算法的可靠: 对数器\n",
    "    全排列的问题做对数器\n",
    "    用神经网络做重构思路相似\n",
    "    \n",
    "    字典序 -> 26进制 长度相同"
   ]
  },
  {
   "cell_type": "code",
   "execution_count": 3,
   "id": "0d65e9f9-5707-4398-99de-b9af7c576a46",
   "metadata": {
    "tags": []
   },
   "outputs": [
    {
     "data": {
      "text/plain": [
       "True"
      ]
     },
     "execution_count": 3,
     "metadata": {},
     "output_type": "execute_result"
    }
   ],
   "source": [
    "'a' < 'g'"
   ]
  },
  {
   "cell_type": "code",
   "execution_count": 29,
   "id": "cbb5fb13-17a1-4f1b-b266-dc1bcaa3fe78",
   "metadata": {
    "tags": []
   },
   "outputs": [],
   "source": [
    "x = 'a'\n",
    "y = 'b'"
   ]
  },
  {
   "cell_type": "code",
   "execution_count": 48,
   "id": "f9e5e1b3-836f-47ef-a36a-ac5a8ef35b0a",
   "metadata": {
    "tags": []
   },
   "outputs": [],
   "source": [
    "class Dictory():\n",
    "    def __init__(self,string):\n",
    "        self.string = string\n",
    "    \n",
    "    def __lt__(self, other):\n",
    "        if not isinstance(other, Dictory):\n",
    "            return NotImplemented\n",
    "        \n",
    "        x = self.string\n",
    "        y = other.string\n",
    "        if len(x) == len(y):\n",
    "            return x < y\n",
    "\n",
    "        elif len(x) > len(y):\n",
    "            return x < (y + (len(x) - len(y))*'a')\n",
    "\n",
    "        elif len(y) > len(x):\n",
    "            return (x + (len(y) - len(x))*'a') < y\n",
    "        \n",
    "    def __len__(self):\n",
    "        return len(self.string)"
   ]
  },
  {
   "cell_type": "code",
   "execution_count": 49,
   "id": "9279f8a4-1ecc-4dec-a27b-536a480d597f",
   "metadata": {
    "tags": []
   },
   "outputs": [
    {
     "data": {
      "text/plain": [
       "False"
      ]
     },
     "execution_count": 49,
     "metadata": {},
     "output_type": "execute_result"
    }
   ],
   "source": [
    "Dictory('a') > Dictory('b')"
   ]
  },
  {
   "cell_type": "code",
   "execution_count": 46,
   "id": "58f2b508-ed39-4d1e-90b5-1a6f9986fd7c",
   "metadata": {
    "tags": []
   },
   "outputs": [
    {
     "data": {
      "text/plain": [
       "True"
      ]
     },
     "execution_count": 46,
     "metadata": {},
     "output_type": "execute_result"
    }
   ],
   "source": [
    "'a'<'b'"
   ]
  },
  {
   "cell_type": "code",
   "execution_count": 13,
   "id": "362aaafc-3e2d-4060-b3f7-aef896740466",
   "metadata": {
    "tags": []
   },
   "outputs": [
    {
     "data": {
      "text/plain": [
       "'bca'"
      ]
     },
     "execution_count": 13,
     "metadata": {},
     "output_type": "execute_result"
    }
   ],
   "source": [
    "y + (len(x) - len(y))*'a'"
   ]
  },
  {
   "cell_type": "code",
   "execution_count": null,
   "id": "8cb2c315-1c81-4eda-8975-7c32966647f9",
   "metadata": {},
   "outputs": [],
   "source": [
    "class CustomSize:\n",
    "    def __init__(self, weight, volume):\n",
    "        self.weight = weight\n",
    "        self.volume = volume\n",
    "\n",
    "    def __gt__(self, other):\n",
    "        \"\"\"定义 > 运算符的行为：基于重量和体积的组合比较。\"\"\"\n",
    "        if not isinstance(other, CustomSize):\n",
    "            return NotImplemented\n"
   ]
  },
  {
   "cell_type": "code",
   "execution_count": null,
   "id": "a634b7c8-e597-4670-809d-16faa30523af",
   "metadata": {},
   "outputs": [],
   "source": [
    "__le__ 和 __eq__ 方法： 分别实现 <= 和 == 运算符的行为。这两个方法需要按照 Python 的比较协议进行实现，以确保完整的比较逻辑。\n",
    "__str__ 方法： 提供一个易读的字符串表示，方便打印和调试。"
   ]
  },
  {
   "cell_type": "code",
   "execution_count": null,
   "id": "57d703c6-3551-45ab-a9b6-dfa9b94361d4",
   "metadata": {},
   "outputs": [],
   "source": []
  },
  {
   "cell_type": "code",
   "execution_count": null,
   "id": "6e53e96c-207c-4019-a66d-844999f39c08",
   "metadata": {},
   "outputs": [],
   "source": [
    "class CustomSize:\n",
    "    def __init__(self, weight, volume):\n",
    "        self.weight = weight\n",
    "        self.volume = volume\n",
    "\n",
    "    def __lt__(self, other):\n",
    "        \"\"\"定义 < 运算符的行为：基于重量和体积的组合比较。\"\"\"\n",
    "        if not isinstance(other, CustomSize):\n",
    "            return NotImplemented\n",
    "        return (self.weight, self.volume) < (other.weight, other.volume)\n",
    "\n",
    "    def __le__(self, other):\n",
    "        \"\"\"定义 <= 运算符的行为。\"\"\"\n",
    "        if not isinstance(other, CustomSize):\n",
    "            return NotImplemented\n",
    "        return (self.weight, self.volume) <= (other.weight, other.volume)\n",
    "\n",
    "    def __eq__(self, other):\n",
    "        \"\"\"定义 == 运算符的行为。\"\"\"\n",
    "        if not isinstance(other, CustomSize):\n",
    "            return NotImplemented\n",
    "        return (self.weight, self.volume) == (other.weight, other.volume)\n",
    "\n",
    "    def __str__(self):\n",
    "        return f\"CustomSize(weight={self.weight}, volume={self.volume})\"\n",
    "\n",
    "# 示例使用\n",
    "item1 = CustomSize(10, 20)\n",
    "item2 = CustomSize(15, 15)\n",
    "item3 = CustomSize(10, 20)\n",
    "\n",
    "print(item1 < item2)  # 输出: True\n",
    "print(item1 == item3)  # 输出: True\n",
    "print(item2 > item3)  # 输出: True\n"
   ]
  },
  {
   "cell_type": "code",
   "execution_count": null,
   "id": "74d7075a-b683-41bc-91bd-d014de40c6f8",
   "metadata": {},
   "outputs": [],
   "source": []
  },
  {
   "cell_type": "code",
   "execution_count": null,
   "id": "9d7074bc-0267-42ee-a3d1-8faca8fa054b",
   "metadata": {},
   "outputs": [],
   "source": []
  },
  {
   "cell_type": "code",
   "execution_count": null,
   "id": "385f3d7f-33ab-4948-95dc-fa38bb183b29",
   "metadata": {},
   "outputs": [],
   "source": []
  },
  {
   "cell_type": "code",
   "execution_count": null,
   "id": "d6ac2cc6-4560-4a9d-ab4f-9eee86faae64",
   "metadata": {},
   "outputs": [],
   "source": []
  },
  {
   "cell_type": "code",
   "execution_count": null,
   "id": "a4e1f465-bd73-4ae7-bf75-2c72ce3ff67b",
   "metadata": {},
   "outputs": [],
   "source": []
  },
  {
   "cell_type": "code",
   "execution_count": null,
   "id": "f5d5f352-0981-4e2d-b2d3-9deb56d3c48d",
   "metadata": {},
   "outputs": [],
   "source": []
  },
  {
   "cell_type": "markdown",
   "id": "d82ea6d5-aeaa-47c5-9297-f6128e362593",
   "metadata": {},
   "source": [
    "# 对数器"
   ]
  },
  {
   "cell_type": "code",
   "execution_count": null,
   "id": "04f72ad4-5e13-4b57-b1f5-48a622ca1a75",
   "metadata": {},
   "outputs": [],
   "source": []
  },
  {
   "cell_type": "code",
   "execution_count": 61,
   "id": "52e17aeb-e0f7-42c1-8db9-6209fb95993b",
   "metadata": {
    "tags": []
   },
   "outputs": [],
   "source": [
    "from abc import ABC,abstractmethod"
   ]
  },
  {
   "cell_type": "code",
   "execution_count": 68,
   "id": "3afe1a78-82d4-482c-b320-f9439db4a43c",
   "metadata": {
    "tags": []
   },
   "outputs": [],
   "source": [
    "import functools"
   ]
  },
  {
   "cell_type": "code",
   "execution_count": 97,
   "id": "660b8c1e-e797-4f84-a97f-fe25263d3e5c",
   "metadata": {
    "tags": []
   },
   "outputs": [],
   "source": [
    "class logarithmeter(ABC):\n",
    "    \n",
    "    @abstractmethod\n",
    "    def brute_force_solution(cls):\n",
    "        return 0 \n",
    "    \n",
    "    @classmethod\n",
    "    def decorator(cls):\n",
    "        \"\"\"\n",
    "        一个装饰器的编写demo\n",
    "        \"\"\"\n",
    "        def outer_packing(func):\n",
    "            @functools.wraps(func)\n",
    "            def wrapper(*args, **kwargs):\n",
    "                result = func(*args, **kwargs)\n",
    "                result_b = cls.brute_force_solution(*args, **kwargs)\n",
    "                assert result == result_b\n",
    "                # print(a,'a')\n",
    "                # print(func.__name__)  # 函数名\n",
    "                # print(args)  # (1, 2)\n",
    "                # print(kwargs)  # {'c': 3}\n",
    "                return result\n",
    "            return wrapper\n",
    "        return outer_packing\n"
   ]
  },
  {
   "cell_type": "code",
   "execution_count": 108,
   "id": "fe23c473-91e9-4156-88f4-75a532f7f3e6",
   "metadata": {
    "tags": []
   },
   "outputs": [],
   "source": [
    "class logs(logarithmeter):\n",
    "    \n",
    "    @classmethod\n",
    "    def brute_force_solution(cls,x):\n",
    "        return x + 2"
   ]
  },
  {
   "cell_type": "code",
   "execution_count": 113,
   "id": "8ef3a3a4-d0dc-4f69-919a-09d22b8e0c6b",
   "metadata": {
    "tags": []
   },
   "outputs": [],
   "source": [
    "@logs.decorator()\n",
    "def bbb(x):\n",
    "    return x + 2"
   ]
  },
  {
   "cell_type": "code",
   "execution_count": 114,
   "id": "bb11ab90-67a0-472d-998d-4b1d387558c6",
   "metadata": {
    "tags": []
   },
   "outputs": [],
   "source": [
    "for i in range(10000):\n",
    "    bbb(i)"
   ]
  },
  {
   "cell_type": "code",
   "execution_count": null,
   "id": "0a1471fc-e39e-4f22-b4e6-e3dfbab54122",
   "metadata": {},
   "outputs": [],
   "source": []
  },
  {
   "cell_type": "markdown",
   "id": "30bf257f-2227-4d2e-85ff-eae48d934a45",
   "metadata": {},
   "source": [
    "# 汉诺塔问题"
   ]
  },
  {
   "cell_type": "markdown",
   "id": "5976cd95-94c3-439f-aaff-56e6e6e91c2d",
   "metadata": {},
   "source": [
    "问题描述\n",
    "有三根柱子（通常标记为 A、B、C），其中 A 柱上有 n 个盘子，盘子从上到下依次增大。\n",
    "任务是将所有盘子从 A 柱移动到 C 柱，遵循以下规则：\n",
    "每次只能移动一个盘子。\n",
    "任何时候都不能将大盘子放在小盘子上面。\n",
    "可以借助 B 柱作为辅助。\n",
    "目标\n",
    "将所有盘子从柱子 A 移动到柱子 C，遵循上述规则。"
   ]
  },
  {
   "cell_type": "code",
   "execution_count": null,
   "id": "8f096554-2d8e-49d0-acad-0009fe0f3825",
   "metadata": {},
   "outputs": [],
   "source": []
  },
  {
   "cell_type": "code",
   "execution_count": 120,
   "id": "da98cb84-f21f-4bca-86e0-d827e5e5a0ed",
   "metadata": {
    "tags": []
   },
   "outputs": [
    {
     "name": "stdout",
     "output_type": "stream",
     "text": [
      "Move disk 1 from A to C\n",
      "Move disk 2 from A to B\n",
      "Move disk 1 from C to B\n",
      "Move disk 3 from A to C\n",
      "Move disk 1 from B to A\n",
      "Move disk 2 from B to C\n",
      "Move disk 1 from A to C\n",
      "Move disk 4 from A to B\n",
      "Move disk 1 from C to B\n",
      "Move disk 2 from C to A\n",
      "Move disk 1 from B to A\n",
      "Move disk 3 from C to B\n",
      "Move disk 1 from A to C\n",
      "Move disk 2 from A to B\n",
      "Move disk 1 from C to B\n",
      "Move disk 5 from A to C\n",
      "Move disk 1 from B to A\n",
      "Move disk 2 from B to C\n",
      "Move disk 1 from A to C\n",
      "Move disk 3 from B to A\n",
      "Move disk 1 from C to B\n",
      "Move disk 2 from C to A\n",
      "Move disk 1 from B to A\n",
      "Move disk 4 from B to C\n",
      "Move disk 1 from A to C\n",
      "Move disk 2 from A to B\n",
      "Move disk 1 from C to B\n",
      "Move disk 3 from A to C\n",
      "Move disk 1 from B to A\n",
      "Move disk 2 from B to C\n",
      "Move disk 1 from A to C\n"
     ]
    }
   ],
   "source": [
    "def hanoi(n, source, auxiliary, target):\n",
    "    if n == 1:\n",
    "        print(f\"Move disk 1 from {source} to {target}\")\n",
    "        return\n",
    "    # 将 n-1 个盘子从 source 移动到 auxiliary（借助 target）\n",
    "    hanoi(n - 1, source, target, auxiliary)\n",
    "    # 将第 n 个盘子从 source 移动到 target\n",
    "    print(f\"Move disk {n} from {source} to {target}\")\n",
    "    # 将 n-1 个盘子从 auxiliary 移动到 target（借助 source）\n",
    "    hanoi(n - 1, auxiliary, source, target)\n",
    "\n",
    "# 示例使用\n",
    "n = 5  # 盘子的数量\n",
    "hanoi(n, 'A', 'B', 'C')\n"
   ]
  },
  {
   "cell_type": "code",
   "execution_count": null,
   "id": "9aa9fe86-10c9-436b-a4f3-888d01aba0ba",
   "metadata": {},
   "outputs": [],
   "source": [
    "在一个 m×n 的矩阵中，从左上角到右下角有多少种不同的路径。你只能向下或向右移动。"
   ]
  }
 ],
 "metadata": {
  "kernelspec": {
   "display_name": "Python 3 (ipykernel)",
   "language": "python",
   "name": "python3"
  },
  "language_info": {
   "codemirror_mode": {
    "name": "ipython",
    "version": 3
   },
   "file_extension": ".py",
   "mimetype": "text/x-python",
   "name": "python",
   "nbconvert_exporter": "python",
   "pygments_lexer": "ipython3",
   "version": "3.10.14"
  }
 },
 "nbformat": 4,
 "nbformat_minor": 5
}
