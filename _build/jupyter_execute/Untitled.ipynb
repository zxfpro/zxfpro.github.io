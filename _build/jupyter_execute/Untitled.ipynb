{
 "cells": [
  {
   "cell_type": "code",
   "execution_count": null,
   "id": "585791be-f983-44bb-8aed-8021e64281ba",
   "metadata": {},
   "outputs": [],
   "source": []
  },
  {
   "cell_type": "markdown",
   "id": "41eaeb54-4186-42b7-a93c-4177ae94b07d",
   "metadata": {
    "tags": []
   },
   "source": [
    "## 做别人真正需要的事情\n",
    "其实就是市场定位   \n",
    "如果是别人真正需要的,他们很愿意甚至主动去付出代价以换取通道的稳定   \n",
    "\n",
    "所以,嗅探很重要.   \n",
    "用最小的代价,知道别人想要什么,有多少规模.    \n",
    "这个消息本身就很值钱    \n"
   ]
  },
  {
   "cell_type": "markdown",
   "id": "9f16cb35-44e6-4758-a613-65ccc95404e4",
   "metadata": {},
   "source": [
    "## 后端\n",
    "1 核心就是要快 配合嗅探\n",
    "2 考虑并发 安全 等传统因素\n",
    "\n",
    "\n",
    "other\n",
    "1 看看Github 论文 等信息 公众号等 有没有相似的工作   \n",
    "2 直接拿来应用 还有哪些可用的工作来快速填塞这个路段   \n",
    "4 哪些路段需要自研 如何自研 自研难度 可行性 周期 计划    \n",
    "5 开始自研,结果准确性,保存性,可追溯性    \n",
    "6 成果保护 成品组装 常见维护组件 性能优化    \n",
    "\n"
   ]
  },
  {
   "cell_type": "markdown",
   "id": "1479f9ea-bde8-460b-a33d-02f323391b62",
   "metadata": {
    "tags": []
   },
   "source": [
    "## 产品就是一个将后端合理化的过程\n",
    "\n",
    "不要让别人有思维上的费力\n"
   ]
  },
  {
   "cell_type": "markdown",
   "id": "12d7b118-1c8f-463f-8ae1-c359327f79f7",
   "metadata": {},
   "source": [
    "## 产品的载体\n",
    "有几个原则\n",
    "1 方便传播,平台\n",
    "2 方便维护,稳定\n",
    "3 安全,名声"
   ]
  },
  {
   "cell_type": "code",
   "execution_count": 1,
   "id": "6b093121-c1c3-4e5d-8b4b-b61a5505ae6f",
   "metadata": {},
   "outputs": [
    {
     "ename": "SyntaxError",
     "evalue": "invalid syntax (2990589341.py, line 2)",
     "output_type": "error",
     "traceback": [
      "\u001b[0;36m  Cell \u001b[0;32mIn[1], line 2\u001b[0;36m\u001b[0m\n\u001b[0;31m    1 怎么收费 / 成本核验 / 安全问题 / 法律问题\u001b[0m\n\u001b[0m      ^\u001b[0m\n\u001b[0;31mSyntaxError\u001b[0m\u001b[0;31m:\u001b[0m invalid syntax\n"
     ]
    }
   ],
   "source": [
    "# 细节\n",
    "1 怎么收费 / 成本核验 / 安全问题 / 法律问题\n",
    "2 代码健壮性 / 并发性 /稳定性\n",
    "3 推广 / 渠道"
   ]
  }
 ],
 "metadata": {
  "kernelspec": {
   "display_name": "Python 3 (ipykernel)",
   "language": "python",
   "name": "python3"
  },
  "language_info": {
   "codemirror_mode": {
    "name": "ipython",
    "version": 3
   },
   "file_extension": ".py",
   "mimetype": "text/x-python",
   "name": "python",
   "nbconvert_exporter": "python",
   "pygments_lexer": "ipython3",
   "version": "3.10.14"
  }
 },
 "nbformat": 4,
 "nbformat_minor": 5
}